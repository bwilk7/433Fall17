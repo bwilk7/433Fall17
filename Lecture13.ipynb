{
 "cells": [
  {
   "cell_type": "markdown",
   "metadata": {},
   "source": [
    "# R\n",
    "## Strings, Performance, Misc"
   ]
  },
  {
   "cell_type": "markdown",
   "metadata": {},
   "source": [
    "## Base R String Functions\n",
    "- R has limited support for text processing\n",
    "    - If this is the main purpose of a project, think about using another language\n",
    "- Just like other functions in R, the string functions operate on vectors\n",
    "- Common string functions\n",
    "    - strsplit\n",
    "    - grep/ grepl\n",
    "    - nchar\n",
    "    - toupper / tolower\n",
    "    - substr"
   ]
  },
  {
   "cell_type": "code",
   "execution_count": null,
   "metadata": {},
   "outputs": [],
   "source": [
    "print(nchar(c(\"I'm a little teapot\",\"short and stout\")))\n",
    "print(nchar(c(\"I'm a little teapot\", 14)))"
   ]
  },
  {
   "cell_type": "code",
   "execution_count": null,
   "metadata": {},
   "outputs": [],
   "source": [
    "str_vector <- c(\"I'm a little teapot\",\"short and stout\",14,FALSE)\n",
    "print(toupper(str_vector))\n",
    "print(tolower(str_vector))"
   ]
  },
  {
   "cell_type": "markdown",
   "metadata": {},
   "source": [
    "## Substring in R\n",
    "- `substr` and `substring` take in 3 arguments, any of which can be vectors\n",
    "```R\n",
    "    substr(strings, start, end)\n",
    "    substring(strings, first, last)\n",
    "```\n",
    "- If start or end is longer than the other, the values of the shorter one are recycled\n",
    "    - Only `substring` repeats the strings"
   ]
  },
  {
   "cell_type": "code",
   "execution_count": null,
   "metadata": {},
   "outputs": [],
   "source": [
    "print(substr(\"Hello World\",3,5))"
   ]
  },
  {
   "cell_type": "code",
   "execution_count": null,
   "metadata": {},
   "outputs": [],
   "source": [
    "print(substr(\"Hello World\",1:3,1:3))\n",
    "print(substring(\"Hello World\",1:3,1:3))\n",
    "print(substring(\"Hello World\",5:7,5:10))"
   ]
  },
  {
   "cell_type": "code",
   "execution_count": null,
   "metadata": {},
   "outputs": [],
   "source": [
    "str_vector <- c(\"I'm a little teapot\",\"short and stout\",14,FALSE)\n",
    "print(substr(str_vector,2,1000L))\n",
    "cat(\"\\n\")\n",
    "print(substr(str_vector,1:5,1000L))\n",
    "cat(\"\\n\")\n",
    "print(substring(str_vector,1:5,1000L))\n",
    "cat(\"\\n\")\n",
    "print(substring(str_vector,1:15,1000L))"
   ]
  },
  {
   "cell_type": "markdown",
   "metadata": {},
   "source": [
    "## Regex in R\n",
    "- Both strsplit as well as grep and grepl can take regular expressions\n",
    "    - By default, these are POSIX style regular expressions\n",
    "    - Pass perl=TRUE to use PCRE\n",
    "- grep returns the indexes in the vector the match was found at\n",
    "- grepl returns a logic vector indicating if an element of the vector matched"
   ]
  },
  {
   "cell_type": "code",
   "execution_count": null,
   "metadata": {},
   "outputs": [],
   "source": [
    "strings_with_spaces <- c(\"I am a string\",\"I am one too\",\"This also has spaces\")\n",
    "print(strsplit(strings_with_spaces,split=' '))"
   ]
  },
  {
   "cell_type": "code",
   "execution_count": null,
   "metadata": {},
   "outputs": [],
   "source": [
    "strings_with_spaces <- c(\"I am a string\",\"I am one too\",\"This also has spaces\")\n",
    "print(strsplit(strings_with_spaces,split=\"\\\\s\",perl=TRUE))"
   ]
  },
  {
   "cell_type": "code",
   "execution_count": null,
   "metadata": {},
   "outputs": [],
   "source": [
    "strings_with_spaces <- c(\"I am a string\",\"I am one too\",\"This also has spaces\")\n",
    "print(strsplit(strings_with_spaces,split=\"\\\\W\",perl=TRUE))"
   ]
  },
  {
   "cell_type": "code",
   "execution_count": null,
   "metadata": {},
   "outputs": [],
   "source": [
    "grep('I',strings_with_spaces,perl=TRUE)"
   ]
  },
  {
   "cell_type": "code",
   "execution_count": null,
   "metadata": {},
   "outputs": [],
   "source": [
    "grep('I',strings_with_spaces,perl=TRUE,ignore.case=TRUE)"
   ]
  },
  {
   "cell_type": "code",
   "execution_count": null,
   "metadata": {},
   "outputs": [],
   "source": [
    "grep('\\\\bI\\\\b',strings_with_spaces,perl=TRUE,ignore.case=TRUE)"
   ]
  },
  {
   "cell_type": "code",
   "execution_count": null,
   "metadata": {},
   "outputs": [],
   "source": [
    "grepl('\\\\bI\\\\b',strings_with_spaces,perl=TRUE,ignore.case=TRUE)"
   ]
  },
  {
   "cell_type": "markdown",
   "metadata": {},
   "source": [
    "## The StringR library\n",
    "- StringR is based on an older library, called stringi\n",
    "- The aim is to \n",
    "    - improve consistency in function calls\n",
    "    - make common string manipulation tasks easy\n",
    "- Has robust multilingual support"
   ]
  },
  {
   "cell_type": "code",
   "execution_count": null,
   "metadata": {},
   "outputs": [],
   "source": [
    "library(stringr)"
   ]
  },
  {
   "cell_type": "code",
   "execution_count": null,
   "metadata": {},
   "outputs": [],
   "source": [
    "print(str_length(str_vector))"
   ]
  },
  {
   "cell_type": "code",
   "execution_count": null,
   "metadata": {},
   "outputs": [],
   "source": [
    "print(str_sort(str_vector))"
   ]
  },
  {
   "cell_type": "code",
   "execution_count": null,
   "metadata": {},
   "outputs": [],
   "source": [
    "print(str_to_title(str_vector))"
   ]
  },
  {
   "cell_type": "code",
   "execution_count": null,
   "metadata": {},
   "outputs": [],
   "source": [
    "print(str_pad(str_vector,40))"
   ]
  },
  {
   "cell_type": "code",
   "execution_count": null,
   "metadata": {},
   "outputs": [],
   "source": [
    "print(str_trim(str_pad(str_vector,40)))"
   ]
  },
  {
   "cell_type": "code",
   "execution_count": null,
   "metadata": {},
   "outputs": [],
   "source": [
    "str_c(str_vector,\",\")"
   ]
  },
  {
   "cell_type": "code",
   "execution_count": null,
   "metadata": {},
   "outputs": [],
   "source": [
    "str_c(str_vector,collapse=\", \")"
   ]
  },
  {
   "cell_type": "code",
   "execution_count": null,
   "metadata": {},
   "outputs": [],
   "source": [
    "str_detect(str_vector,'o')"
   ]
  },
  {
   "cell_type": "code",
   "execution_count": null,
   "metadata": {},
   "outputs": [],
   "source": [
    "str_count(str_vector,'o')"
   ]
  },
  {
   "cell_type": "markdown",
   "metadata": {},
   "source": [
    "## Directory Traversal in R\n",
    "- Most scripting languages provided an easy way to iterate over files in a directory\n",
    "    - This is known as globbing\n",
    "    - It also allows wildcards to be used\n",
    "- In R, the function is `Sys.glob` (note the uppercase)\n",
    "    - Rather than returning an iterator, it returns a vector containing all the file names"
   ]
  },
  {
   "cell_type": "code",
   "execution_count": null,
   "metadata": {},
   "outputs": [],
   "source": [
    "print(Sys.glob(\"*.html\"))"
   ]
  },
  {
   "cell_type": "markdown",
   "metadata": {},
   "source": [
    "## The readr package\n",
    "- As an alternative to built-in data loading functions, some people use the readr package\n",
    "    - I find the built in functions good enough usually\n",
    "- readr provides the `read_file` and `write_file` functions\n",
    "    - These read or write an entire file into a string ,or vice versa\n",
    "    - This is possible in base R, but cumbersome, because you must calculate the length of the string first"
   ]
  },
  {
   "cell_type": "code",
   "execution_count": null,
   "metadata": {},
   "outputs": [],
   "source": [
    "library(readr)"
   ]
  },
  {
   "cell_type": "code",
   "execution_count": null,
   "metadata": {},
   "outputs": [],
   "source": [
    "contents <- read_file(\"index.html\")"
   ]
  },
  {
   "cell_type": "code",
   "execution_count": null,
   "metadata": {},
   "outputs": [],
   "source": [
    "print(contents)"
   ]
  },
  {
   "cell_type": "code",
   "execution_count": null,
   "metadata": {},
   "outputs": [],
   "source": [
    "print(str_extract_all(contents,'<a href=\".*?\">.*</a>'))"
   ]
  },
  {
   "cell_type": "markdown",
   "metadata": {},
   "source": [
    "## Performance in R\n",
    "- R is commonly viewed as a slow language\n",
    "    - Mostly because it is\n",
    "- We can still optimized and make sure to program in an R style\n",
    "    - Avoid for loops if you can use a vectorized function\n",
    "    - S4 methods are slower than S3, which is slower than a direct function call\n",
    "    - Consider bytecode compilation"
   ]
  },
  {
   "cell_type": "markdown",
   "metadata": {},
   "source": [
    "## Profiling your code\n",
    "- The `microbenchmark` library provides the `microbenchmark` function\n",
    "    - Takes in several functions, runs them all, and prints statistics\n",
    "- For line-by-line profiling, use the `profvis` package\n",
    "    - Uses a web browser to show results\n",
    "  "
   ]
  },
  {
   "cell_type": "code",
   "execution_count": null,
   "metadata": {},
   "outputs": [],
   "source": [
    "library(microbenchmark)\n",
    "nums <- matrix(c(1:5000),nrow=100)\n",
    "print(\n",
    "    microbenchmark(\n",
    "    colMeans(nums),\n",
    "    apply(nums,2,mean)\n",
    "    )\n",
    ")"
   ]
  },
  {
   "cell_type": "code",
   "execution_count": null,
   "metadata": {},
   "outputs": [],
   "source": [
    "## Needs to be run in RStudio\n",
    "library(profvis)\n",
    "print(profvis({\n",
    "    nums <- matrix(c(1:5000),nrow=100)  \n",
    "    apply(nums,2,mean)\n",
    "}))"
   ]
  },
  {
   "cell_type": "markdown",
   "metadata": {},
   "source": [
    "## Parallelism\n",
    "- Because of its functional design, R is a perfect language for parallelization\n",
    "- The library `parallel` provides a mutlicore versions of mapply and lapply,\n",
    "    - `mclapply`\n",
    "    - `mcmapply`\n",
    "    \n",
    "```R\n",
    "    mclapply(vector,function,mc.cores=N_CORES)\n",
    "    mclapply(vector,function,axis,mc.cores=N_CORES)\n",
    "    \n",
    "```"
   ]
  },
  {
   "cell_type": "code",
   "execution_count": null,
   "metadata": {},
   "outputs": [],
   "source": [
    "library(parallel)\n",
    "print(detectCores())"
   ]
  },
  {
   "cell_type": "code",
   "execution_count": null,
   "metadata": {},
   "outputs": [],
   "source": [
    "seed_strings <- c(\"asdf\",\"ghhjk\",'qerwet','uopi','zxcv','asdgf')\n",
    "lots_of_strings <- rep(seed_strings,20000)\n",
    "print(\n",
    "    microbenchmark(\n",
    "        lapply(lots_of_strings,str_length),\n",
    "        mclapply(lots_of_strings,str_length,mc.cores=12)\n",
    "    )\n",
    ")"
   ]
  },
  {
   "cell_type": "code",
   "execution_count": null,
   "metadata": {},
   "outputs": [],
   "source": [
    "cl <- makeCluster(12)\n",
    "print(\n",
    "    microbenchmark(\n",
    "        colMeans(nums),\n",
    "        apply(nums,2,mean),\n",
    "        parCapply(cl,nums,mean)\n",
    "        )\n",
    "    )\n",
    "stopCluster(cl)"
   ]
  },
  {
   "cell_type": "markdown",
   "metadata": {},
   "source": [
    "## Presenting Data\n",
    "- R is often used in the analysis phase of research\n",
    "    - Especially to produce nice graphics\n",
    "- Packages exist that allow papers to be written in R, combined with code\n",
    "    - knitr is a very popular one"
   ]
  },
  {
   "cell_type": "markdown",
   "metadata": {},
   "source": [
    "## KnitR\n",
    "- `knitR` allows a document to be written in \n",
    "    - R-style Markdown\n",
    "    - HTML\n",
    "    - LaTeX\n",
    "- R code is set off in these documents using various conventions\n",
    "- Code is executed and results displayed inline correctly"
   ]
  },
  {
   "cell_type": "code",
   "execution_count": null,
   "metadata": {},
   "outputs": [],
   "source": [
    "library(knitr)\n",
    "knit('005-latex.Rtex')"
   ]
  },
  {
   "cell_type": "markdown",
   "metadata": {},
   "source": [
    "## Loading Libraries from Non Default Locations\n",
    "- By default, R tries to install and looks for packages in a location that needs sudo access to write\n",
    "- You can change where libraries are installed by adding the `lib` parameter to `install.packages`\n",
    "- There are numerous ways to tell where to look for libraries, including in the `library` function\n",
    "    - The most consistent way is to set the environmental variable `R_LIBS_USER` in your shell before calling R"
   ]
  },
  {
   "cell_type": "code",
   "execution_count": null,
   "metadata": {},
   "outputs": [],
   "source": []
  }
 ],
 "metadata": {
  "kernelspec": {
   "display_name": "R",
   "language": "R",
   "name": "ir"
  },
  "language_info": {
   "codemirror_mode": "r",
   "file_extension": ".r",
   "mimetype": "text/x-r-source",
   "name": "R",
   "pygments_lexer": "r",
   "version": "3.3.2"
  }
 },
 "nbformat": 4,
 "nbformat_minor": 2
}

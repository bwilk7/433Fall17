{
 "cells": [
  {
   "cell_type": "markdown",
   "metadata": {
    "slideshow": {
     "slide_type": "slide"
    }
   },
   "source": [
    "# R\n",
    "## Strings, Performance, Misc"
   ]
  },
  {
   "cell_type": "markdown",
   "metadata": {
    "slideshow": {
     "slide_type": "slide"
    }
   },
   "source": [
    "## Base R String Functions\n",
    "- R has limited support for text processing\n",
    "    - If this is the main purpose of a project, think about using another language\n",
    "- Just like other functions in R, the string functions operate on vectors\n",
    "- Common string functions\n",
    "    - strsplit\n",
    "    - grep/ grepl\n",
    "    - nchar\n",
    "    - toupper / tolower\n",
    "    - substr"
   ]
  },
  {
   "cell_type": "code",
   "execution_count": 4,
   "metadata": {
    "slideshow": {
     "slide_type": "slide"
    }
   },
   "outputs": [
    {
     "name": "stdout",
     "output_type": "stream",
     "text": [
      "[1] 19 15\n",
      "[1] 19  2\n",
      "[1] 17\n"
     ]
    }
   ],
   "source": [
    "print(nchar(c(\"I'm a little teapot\",\"short and stout\")))\n",
    "print(nchar(c(\"I'm a little teapot\", 14)))\n",
    "print(nchar(\"I the only string\"))"
   ]
  },
  {
   "cell_type": "code",
   "execution_count": 5,
   "metadata": {
    "slideshow": {
     "slide_type": "slide"
    }
   },
   "outputs": [
    {
     "name": "stdout",
     "output_type": "stream",
     "text": [
      "[1] \"I'M A LITTLE TEAPOT\" \"SHORT AND STOUT\"     \"14\"                 \n",
      "[4] \"FALSE\"              \n",
      "[1] \"i'm a little teapot\" \"short and stout\"     \"14\"                 \n",
      "[4] \"false\"              \n"
     ]
    }
   ],
   "source": [
    "str_vector <- c(\"I'm a little teapot\",\"short and stout\",14,\n",
    "                FALSE)\n",
    "print(toupper(str_vector))\n",
    "print(tolower(str_vector))"
   ]
  },
  {
   "cell_type": "markdown",
   "metadata": {
    "slideshow": {
     "slide_type": "slide"
    }
   },
   "source": [
    "## Substring in R\n",
    "- `substr` and `substring` take in 3 arguments, any of which can be vectors\n",
    "```R\n",
    "    substr(strings, start, end)\n",
    "    substring(strings, first, last)\n",
    "```\n",
    "- If start or end is longer than the other, the values of the shorter one are recycled\n",
    "    - Only `substring` repeats the strings"
   ]
  },
  {
   "cell_type": "code",
   "execution_count": 6,
   "metadata": {
    "slideshow": {
     "slide_type": "slide"
    }
   },
   "outputs": [
    {
     "name": "stdout",
     "output_type": "stream",
     "text": [
      "[1] \"llo\"\n"
     ]
    }
   ],
   "source": [
    "print(substr(\"Hello World\",3,5))"
   ]
  },
  {
   "cell_type": "code",
   "execution_count": 13,
   "metadata": {
    "slideshow": {
     "slide_type": "slide"
    }
   },
   "outputs": [
    {
     "name": "stdout",
     "output_type": "stream",
     "text": [
      "[1] \"H\"\n",
      "[1] \"H\" \"e\" \"l\"\n",
      "[1] \"H\" \"e\" \"l\"\n",
      " [1] \"o Worl\" \" Worl\"  \"Worl\"   \"orl\"    \"rl\"     \"l\"      \"\"       \"\"      \n",
      " [9] \"\"       \"\"       \"\"       \"\"       \"\"       \"\"       \"\"       \"\"      \n",
      "[1] \"lo Worl\"  \"lo World\" \"lo World\" \"lo World\" \"lo World\" \"lo World\"\n"
     ]
    }
   ],
   "source": [
    "print(substr(\"Hello World\",1:3,1:3))\n",
    "print(substring(\"Hello World\",1:3,1:3))\n",
    "print(substring(\"Hello World\",c(1,2,3),c(1,2,3)))\n",
    "print(substring(\"Hello World\",5:20,10))\n",
    "print(substring(\"Hello World\",4,10:15))"
   ]
  },
  {
   "cell_type": "code",
   "execution_count": 17,
   "metadata": {
    "scrolled": true,
    "slideshow": {
     "slide_type": "slide"
    }
   },
   "outputs": [
    {
     "name": "stdout",
     "output_type": "stream",
     "text": [
      "[1] \"'m a little teapot\" \"hort and stout\"     \"4\"                 \n",
      "[4] \"ALSE\"              \n",
      "\n",
      "[1] \"I'm a little teapot\" \"hort and stout\"      \"\"                   \n",
      "[4] \"SE\"                 \n",
      "\n",
      "[1] \"I'm a little teapot\" \"hort and stout\"      \"\"                   \n",
      "[4] \"SE\"                  \"a little teapot\"    \n",
      "\n",
      " [1] \"I'm a little teapot\" \"hort and stout\"      \"\"                   \n",
      " [4] \"SE\"                  \"a little teapot\"     \" and stout\"         \n",
      " [7] \"\"                    \"\"                    \"ttle teapot\"        \n",
      "[10] \" stout\"              \"\"                    \"\"                   \n",
      "[13] \" teapot\"             \"ut\"                  \"\"                   \n"
     ]
    }
   ],
   "source": [
    "str_vector <- c(\"I'm a little teapot\",\"short and stout\",14,FALSE)\n",
    "print(substr(str_vector,2,1000L))\n",
    "cat(\"\\n\")\n",
    "print(substr(str_vector,1:5,1000L))\n",
    "cat(\"\\n\")\n",
    "print(substring(str_vector,1:5,1000L))\n",
    "cat(\"\\n\")\n",
    "print(substring(str_vector,1:15,1000))"
   ]
  },
  {
   "cell_type": "markdown",
   "metadata": {
    "slideshow": {
     "slide_type": "slide"
    }
   },
   "source": [
    "## Regex in R\n",
    "- Both strsplit as well as grep and grepl can take regular expressions\n",
    "    - By default, these are POSIX style regular expressions\n",
    "    - Pass perl=TRUE to use PCRE\n",
    "- grep returns the indexes in the vector the match was found at\n",
    "- grepl returns a logic vector indicating if an element of the vector matched"
   ]
  },
  {
   "cell_type": "code",
   "execution_count": 20,
   "metadata": {
    "slideshow": {
     "slide_type": "slide"
    }
   },
   "outputs": [
    {
     "name": "stdout",
     "output_type": "stream",
     "text": [
      "[[1]]\n",
      "[1] \"I\"      \"am\"     \"a\"      \"string\"\n",
      "\n",
      "[[2]]\n",
      "[1] \"I\"   \"am\"  \"one\" \"too\"\n",
      "\n",
      "[[3]]\n",
      "[1] \"This\"   \"also\"   \"has\"    \"spaces\"\n",
      "\n"
     ]
    }
   ],
   "source": [
    "strings_with_spaces <- c(\"I am a string\",\n",
    "                         \"I am one too\",\n",
    "                         \"This also has spaces\")\n",
    "print(strsplit(strings_with_spaces,split=' '))"
   ]
  },
  {
   "cell_type": "code",
   "execution_count": 22,
   "metadata": {
    "slideshow": {
     "slide_type": "slide"
    }
   },
   "outputs": [
    {
     "name": "stdout",
     "output_type": "stream",
     "text": [
      "[[1]]\n",
      "[1] \"I\"      \"am\"     \"a\"      \"string\"\n",
      "\n",
      "[[2]]\n",
      "[1] \"I\"   \"am\"  \"one\" \"too\"\n",
      "\n",
      "[[3]]\n",
      "[1] \"This\"   \"also\"   \"has\"    \"spaces\"\n",
      "\n"
     ]
    }
   ],
   "source": [
    "strings_with_spaces <- c(\"I am a string\",\n",
    "                         \"I am one too\",\n",
    "                         \"This also has spaces\")\n",
    "print(strsplit(strings_with_spaces,split=\"\\\\s\",perl=TRUE))"
   ]
  },
  {
   "cell_type": "code",
   "execution_count": 23,
   "metadata": {
    "slideshow": {
     "slide_type": "slide"
    }
   },
   "outputs": [
    {
     "name": "stdout",
     "output_type": "stream",
     "text": [
      "[[1]]\n",
      "[1] \"I\"      \"am\"     \"a\"      \"string\"\n",
      "\n",
      "[[2]]\n",
      "[1] \"I\"   \"am\"  \"one\" \"too\"\n",
      "\n",
      "[[3]]\n",
      "[1] \"This\"   \"also\"   \"has\"    \"spaces\"\n",
      "\n"
     ]
    }
   ],
   "source": [
    "strings_with_spaces <- c(\"I am a string\",\"I am one too\",\"This also has spaces\")\n",
    "print(strsplit(strings_with_spaces,split=\"\\\\W\",perl=TRUE))"
   ]
  },
  {
   "cell_type": "code",
   "execution_count": 26,
   "metadata": {
    "slideshow": {
     "slide_type": "slide"
    }
   },
   "outputs": [
    {
     "name": "stdout",
     "output_type": "stream",
     "text": [
      "[1] \"I am a string\" \"I am one too\" \n"
     ]
    }
   ],
   "source": [
    "strings_with_spaces <- c(\"I am a string\",\n",
    "                         \"I am one too\",\n",
    "                         \"This also has spaces\")\n",
    "idx <- grep('I',strings_with_spaces,perl=TRUE)\n",
    "print(strings_with_spaces[idx])"
   ]
  },
  {
   "cell_type": "code",
   "execution_count": 27,
   "metadata": {
    "slideshow": {
     "slide_type": "slide"
    }
   },
   "outputs": [
    {
     "data": {
      "text/html": [
       "<ol class=list-inline>\n",
       "\t<li>1</li>\n",
       "\t<li>2</li>\n",
       "\t<li>3</li>\n",
       "</ol>\n"
      ],
      "text/latex": [
       "\\begin{enumerate*}\n",
       "\\item 1\n",
       "\\item 2\n",
       "\\item 3\n",
       "\\end{enumerate*}\n"
      ],
      "text/markdown": [
       "1. 1\n",
       "2. 2\n",
       "3. 3\n",
       "\n",
       "\n"
      ],
      "text/plain": [
       "[1] 1 2 3"
      ]
     },
     "execution_count": 27,
     "metadata": {},
     "output_type": "execute_result"
    }
   ],
   "source": [
    "grep('I',strings_with_spaces,perl=TRUE,ignore.case=TRUE)"
   ]
  },
  {
   "cell_type": "code",
   "execution_count": 28,
   "metadata": {
    "slideshow": {
     "slide_type": "slide"
    }
   },
   "outputs": [
    {
     "data": {
      "text/html": [
       "<ol class=list-inline>\n",
       "\t<li>1</li>\n",
       "\t<li>2</li>\n",
       "</ol>\n"
      ],
      "text/latex": [
       "\\begin{enumerate*}\n",
       "\\item 1\n",
       "\\item 2\n",
       "\\end{enumerate*}\n"
      ],
      "text/markdown": [
       "1. 1\n",
       "2. 2\n",
       "\n",
       "\n"
      ],
      "text/plain": [
       "[1] 1 2"
      ]
     },
     "execution_count": 28,
     "metadata": {},
     "output_type": "execute_result"
    }
   ],
   "source": [
    "grep('\\\\bI\\\\b',strings_with_spaces,perl=TRUE,ignore.case=TRUE)"
   ]
  },
  {
   "cell_type": "code",
   "execution_count": 29,
   "metadata": {
    "slideshow": {
     "slide_type": "slide"
    }
   },
   "outputs": [
    {
     "data": {
      "text/html": [
       "<ol class=list-inline>\n",
       "\t<li>TRUE</li>\n",
       "\t<li>TRUE</li>\n",
       "\t<li>FALSE</li>\n",
       "</ol>\n"
      ],
      "text/latex": [
       "\\begin{enumerate*}\n",
       "\\item TRUE\n",
       "\\item TRUE\n",
       "\\item FALSE\n",
       "\\end{enumerate*}\n"
      ],
      "text/markdown": [
       "1. TRUE\n",
       "2. TRUE\n",
       "3. FALSE\n",
       "\n",
       "\n"
      ],
      "text/plain": [
       "[1]  TRUE  TRUE FALSE"
      ]
     },
     "execution_count": 29,
     "metadata": {},
     "output_type": "execute_result"
    }
   ],
   "source": [
    "grepl('\\\\bI\\\\b',strings_with_spaces,perl=TRUE,ignore.case=TRUE)"
   ]
  },
  {
   "cell_type": "markdown",
   "metadata": {
    "slideshow": {
     "slide_type": "slide"
    }
   },
   "source": [
    "## The StringR library\n",
    "- StringR is based on an older library, called stringi\n",
    "- The aim is to \n",
    "    - improve consistency in function calls\n",
    "    - make common string manipulation tasks easy\n",
    "- Has robust multilingual support"
   ]
  },
  {
   "cell_type": "code",
   "execution_count": 30,
   "metadata": {
    "slideshow": {
     "slide_type": "slide"
    }
   },
   "outputs": [],
   "source": [
    "library(stringr)"
   ]
  },
  {
   "cell_type": "code",
   "execution_count": 31,
   "metadata": {
    "slideshow": {
     "slide_type": "slide"
    }
   },
   "outputs": [
    {
     "name": "stdout",
     "output_type": "stream",
     "text": [
      "[1] 19 15  2  5\n"
     ]
    }
   ],
   "source": [
    "print(str_length(str_vector))"
   ]
  },
  {
   "cell_type": "code",
   "execution_count": 32,
   "metadata": {
    "slideshow": {
     "slide_type": "slide"
    }
   },
   "outputs": [
    {
     "name": "stdout",
     "output_type": "stream",
     "text": [
      "[1] \"14\"                  \"FALSE\"               \"I'm a little teapot\"\n",
      "[4] \"short and stout\"    \n"
     ]
    }
   ],
   "source": [
    "print(str_sort(str_vector))"
   ]
  },
  {
   "cell_type": "code",
   "execution_count": 33,
   "metadata": {
    "slideshow": {
     "slide_type": "slide"
    }
   },
   "outputs": [
    {
     "name": "stdout",
     "output_type": "stream",
     "text": [
      "[1] \"I'm A Little Teapot\" \"Short And Stout\"     \"14\"                 \n",
      "[4] \"False\"              \n"
     ]
    }
   ],
   "source": [
    "print(str_to_title(str_vector))"
   ]
  },
  {
   "cell_type": "code",
   "execution_count": 34,
   "metadata": {
    "slideshow": {
     "slide_type": "slide"
    }
   },
   "outputs": [
    {
     "name": "stdout",
     "output_type": "stream",
     "text": [
      "[1] \"                     I'm a little teapot\"\n",
      "[2] \"                         short and stout\"\n",
      "[3] \"                                      14\"\n",
      "[4] \"                                   FALSE\"\n"
     ]
    }
   ],
   "source": [
    "print(str_pad(str_vector,40))"
   ]
  },
  {
   "cell_type": "code",
   "execution_count": 42,
   "metadata": {
    "slideshow": {
     "slide_type": "slide"
    }
   },
   "outputs": [
    {
     "name": "stdout",
     "output_type": "stream",
     "text": [
      "[1] \"I am a string\"        \"I am one\\ntoo\"        \"This also has spaces\"\n"
     ]
    }
   ],
   "source": [
    "str_vector <- c(\"\\n\\rI am a string\\t\\t\",\n",
    "                         \"I am one\\ntoo\",\n",
    "                         \"This also has spaces\")\n",
    "print(str_trim(str_pad(str_vector,40)))\n"
   ]
  },
  {
   "cell_type": "code",
   "execution_count": 43,
   "metadata": {
    "slideshow": {
     "slide_type": "slide"
    }
   },
   "outputs": [
    {
     "data": {
      "text/html": [
       "<ol class=list-inline>\n",
       "\t<li>'\n",
       "\r",
       "I am a string\t\t,'</li>\n",
       "\t<li>'I am one\n",
       "too,'</li>\n",
       "\t<li>'This also has spaces,'</li>\n",
       "</ol>\n"
      ],
      "text/latex": [
       "\\begin{enumerate*}\n",
       "\\item '\n",
       "\r",
       "I am a string\t\t,'\n",
       "\\item 'I am one\n",
       "too,'\n",
       "\\item 'This also has spaces,'\n",
       "\\end{enumerate*}\n"
      ],
      "text/markdown": [
       "1. '\n",
       "\r",
       "I am a string\t\t,'\n",
       "2. 'I am one\n",
       "too,'\n",
       "3. 'This also has spaces,'\n",
       "\n",
       "\n"
      ],
      "text/plain": [
       "[1] \"\\n\\rI am a string\\t\\t,\" \"I am one\\ntoo,\"         \"This also has spaces,\" "
      ]
     },
     "execution_count": 43,
     "metadata": {},
     "output_type": "execute_result"
    }
   ],
   "source": [
    "str_c(str_vector,\",\")"
   ]
  },
  {
   "cell_type": "code",
   "execution_count": 44,
   "metadata": {
    "slideshow": {
     "slide_type": "slide"
    }
   },
   "outputs": [
    {
     "data": {
      "text/html": [
       "'\n",
       "\r",
       "I am a string\t\t, I am one\n",
       "too, This also has spaces'"
      ],
      "text/latex": [
       "'\n",
       "\r",
       "I am a string\t\t, I am one\n",
       "too, This also has spaces'"
      ],
      "text/markdown": [
       "'\n",
       "\r",
       "I am a string\t\t, I am one\n",
       "too, This also has spaces'"
      ],
      "text/plain": [
       "[1] \"\\n\\rI am a string\\t\\t, I am one\\ntoo, This also has spaces\""
      ]
     },
     "execution_count": 44,
     "metadata": {},
     "output_type": "execute_result"
    }
   ],
   "source": [
    "str_c(str_vector,collapse=\", \")"
   ]
  },
  {
   "cell_type": "code",
   "execution_count": 45,
   "metadata": {
    "slideshow": {
     "slide_type": "slide"
    }
   },
   "outputs": [
    {
     "data": {
      "text/html": [
       "<ol class=list-inline>\n",
       "\t<li>FALSE</li>\n",
       "\t<li>TRUE</li>\n",
       "\t<li>TRUE</li>\n",
       "</ol>\n"
      ],
      "text/latex": [
       "\\begin{enumerate*}\n",
       "\\item FALSE\n",
       "\\item TRUE\n",
       "\\item TRUE\n",
       "\\end{enumerate*}\n"
      ],
      "text/markdown": [
       "1. FALSE\n",
       "2. TRUE\n",
       "3. TRUE\n",
       "\n",
       "\n"
      ],
      "text/plain": [
       "[1] FALSE  TRUE  TRUE"
      ]
     },
     "execution_count": 45,
     "metadata": {},
     "output_type": "execute_result"
    }
   ],
   "source": [
    "str_detect(str_vector,'o')"
   ]
  },
  {
   "cell_type": "code",
   "execution_count": 46,
   "metadata": {
    "slideshow": {
     "slide_type": "slide"
    }
   },
   "outputs": [
    {
     "data": {
      "text/html": [
       "<ol class=list-inline>\n",
       "\t<li>0</li>\n",
       "\t<li>3</li>\n",
       "\t<li>1</li>\n",
       "</ol>\n"
      ],
      "text/latex": [
       "\\begin{enumerate*}\n",
       "\\item 0\n",
       "\\item 3\n",
       "\\item 1\n",
       "\\end{enumerate*}\n"
      ],
      "text/markdown": [
       "1. 0\n",
       "2. 3\n",
       "3. 1\n",
       "\n",
       "\n"
      ],
      "text/plain": [
       "[1] 0 3 1"
      ]
     },
     "execution_count": 46,
     "metadata": {},
     "output_type": "execute_result"
    }
   ],
   "source": [
    "str_count(str_vector,'o')"
   ]
  },
  {
   "cell_type": "markdown",
   "metadata": {
    "slideshow": {
     "slide_type": "slide"
    }
   },
   "source": [
    "## Directory Traversal in R\n",
    "- Most scripting languages provided an easy way to iterate over files in a directory\n",
    "    - This is known as globbing\n",
    "    - It also allows wildcards to be used\n",
    "- In R, the function is `Sys.glob` (note the uppercase)\n",
    "    - Rather than returning an iterator, it returns a vector containing all the file names"
   ]
  },
  {
   "cell_type": "code",
   "execution_count": 47,
   "metadata": {
    "slideshow": {
     "slide_type": "slide"
    }
   },
   "outputs": [
    {
     "name": "stdout",
     "output_type": "stream",
     "text": [
      " [1] \"Abilene_Christian_University.flat.html\"\n",
      " [2] \"Abilene_Christian_University.html\"     \n",
      " [3] \"cc.html\"                               \n",
      " [4] \"index.html\"                            \n",
      " [5] \"Lecture00.html\"                        \n",
      " [6] \"Lecture01.html\"                        \n",
      " [7] \"Lecture02.html\"                        \n",
      " [8] \"Lecture03.html\"                        \n",
      " [9] \"Lecture04.html\"                        \n",
      "[10] \"Lecture05.html\"                        \n",
      "[11] \"Lecture06.html\"                        \n",
      "[12] \"Lecture07.html\"                        \n",
      "[13] \"Lecture08.html\"                        \n",
      "[14] \"Lecture09.html\"                        \n",
      "[15] \"Lecture10.html\"                        \n",
      "[16] \"Lecture11.html\"                        \n",
      "[17] \"Lecture12.html\"                        \n",
      "[18] \"Lecture13.html\"                        \n",
      "[19] \"uni_webs.html\"                         \n",
      "[20] \"Untitled.html\"                         \n"
     ]
    }
   ],
   "source": [
    "print(Sys.glob(\"*.html\"))"
   ]
  },
  {
   "cell_type": "markdown",
   "metadata": {
    "slideshow": {
     "slide_type": "slide"
    }
   },
   "source": [
    "## The readr package\n",
    "- As an alternative to built-in data loading functions, some people use the readr package\n",
    "    - I find the built in functions good enough usually\n",
    "- readr provides the `read_file` and `write_file` functions\n",
    "    - These read or write an entire file into a string ,or vice versa\n",
    "    - This is possible in base R, but cumbersome, because you must calculate the length of the string first"
   ]
  },
  {
   "cell_type": "code",
   "execution_count": 48,
   "metadata": {
    "slideshow": {
     "slide_type": "slide"
    }
   },
   "outputs": [],
   "source": [
    "library(readr)"
   ]
  },
  {
   "cell_type": "code",
   "execution_count": 54,
   "metadata": {},
   "outputs": [],
   "source": [
    "contents <- read_file(\"index.html\")"
   ]
  },
  {
   "cell_type": "code",
   "execution_count": 55,
   "metadata": {},
   "outputs": [
    {
     "name": "stdout",
     "output_type": "stream",
     "text": [
      "[1] \"<!DOCTYPE html>\\n<html lang=\\\"en\\\">\\n  <head>\\n    <meta charset=\\\"UTF-8\\\" />\\n    <title>UMBC: An Honors University In Maryland</title>\\n\\n    <!-- Always force latest IE rendering engine (even in intranet) & Chrome Frame -->\\n    <!-- <meta http-equiv=\\\"X-UA-Compatible\\\" content=\\\"IE=edge,chrome=1\\\"> -->\\n\\n    <!-- Sets the viewport width to the width of the device, so media queries work -->\\n    <!-- NOTE: We're locking the max scale (which prevents zooming) to fix bugs\\n         during orientation changes on devices.  Our styles should accomodate this though. -->\\n<link rel=\\\"image_src\\\" href=\\\"http://www.umbc.edu/images/UMBC_fb_tmb.png\\\" />\\n<meta name=\\\"description\\\" content=\\\"\\\" />\\n    <meta name=\\\"viewport\\\" content=\\\"width=device-width, initial-scale=1, minimum-scale=1, maximum-scale=1\\\">\\n    <link rel=\\\"icon\\\" type=\\\"image/png\\\" href=\\\"images_homepage/icon.png\\\" />\\n\\n    <!-- Template Styles -->\\n    <link rel=\\\"stylesheet\\\" type=\\\"text/css\\\" href=\\\"stylesheets/homepage.css\\\" />\\n\\n    <!-- Site-Specific Customizations -->\\n    <style type=\\\"text/css\\\">\\n\\n      #site-menu, #site-menu li a, #site-menu li ul {}\\n      #site-menu li:hover a {}\\n      #site-menu li a:hover, #site-menu li a:focus {}\\n      #site-menu .menu-arrow {}\\n      #site-menu li:hover > a .menu-arrow {}\\n      #site-footer {}\\n      #site-footer .site-name {color: #ffffff;}\\n      #site-footer a {}\\n      .layout-default .page-container-inner, .layout-home .page-container-inner {}\\n      /*.layout-default .page-sidebar, .layout-home .page-sidebar, .sidebar-nav a {}*/\\n      .layout-default .page-sidebar, .layout-home .page-sidebar, .sidebar-nav a {}\\n      .sidebar-nav a .secondary {}\\n      .sidebar-nav > ul > li > a, .sidebar-nav > ul > li.current-menu-item > a, .sidebar-nav > ul > li.current-menu-ancestor > a {}\\n      .sidebar-nav-header {}\\n      .sidebar-nav a:hover, .sidebar-nav a:focus, .sidebar-nav a:hover .secondary, .sidebar-nav a:focus .secondary { }\\n      .sidebar-nav .current-menu-item > a:hover > .menu-arrow, .sidebar-nav .current-menu-item > a:focus > .menu-arrow {}\\n      .sidebar-nav .current-menu-item > a, .sidebar-nav .current-menu-item > a .secondary {}\\n      .sidebar-nav .current-menu-item > a > .menu-arrow, .sidebar-nav .current-menu-item > a:hover > .menu-arrow, .sidebar-nav .current-menu-item > a:focus > .menu-arrow {}\\n      .widget .widgettitle {background-color: #cccccc;color: #000000;}\\n      .widget .widgettitle a {color: #000000;}\\n      .widget > ul, .widget > .textwidget {background-color: #ffffff;color: #000000;}\\n      .widget > ul a, .widget > .textwidget a {color: #0088CC;}\\n      .widget .rss-date, .widget .secondary, .widget_twitter > ul a.timesince {color: #5d5656;}\\n      .widgetcorner, .widgetcorner .fill {}\\n      .layout-default .widgetcorner .corner {border-right-color: #909090;}\\n      .layout-home .widgetcorner .corner {border-left-color: #909090;}\\n \\n\\n\\n      @media screen and (max-width: 767px) {\\n        #mobile-site-menu-expander {color: #ffffff;}\\n        .mobile-site-menu-expander-bar {background-color: #ffffff;}\\n        #site-header {}\\n        #site-header h1 {font-size: 30px;}\\n        #site-menu li:hover a {}\\n        .layout-default .page-sidebar, .layout-home .page-sidebar {}\\n\\n        /* This is here to override any custom color set by the theme */\\n        .layout-default .page-container-inner, .layout-home .page-container-inner { background-color: #fff; }\\n      }\\n\\n</style>\\n\\n    <!-- Some custom styles just for older IE versions -->\\n    <!--[if lte IE 8]>\\n    <style>\\n      #container { border: 1px solid #ddd; border-top: none; }\\n      #site-footer .footer-field { float: left; }\\n      #site-menu ul li a { border-left: none; }\\n      #site-menu > ul > li > a .menu-arrow { display: none; }\\n      .widget-spotlight .playlist li { float: left; display: block; overflow: hidden; }\\n    </style>\\n    <![endif]-->\\n\\n    <!--[if IE]>\\n    <script src=\\\"http://html5shim.googlecode.com/svn/trunk/html5.js\\\"></script>\\n    <![endif]-->\\n\\n    <script src=\\\"//ajax.googleapis.com/ajax/libs/jquery/1.7.2/jquery.min.js\\\"></script>\\n    <script src=\\\"js/homepage-base.js\\\"></script>\\n    <script src=\\\"js/audience-tabs.js\\\"></script>\\n    <script src=\\\"js/jquery.quovolver.js\\\"></script>\\n\\n\\n    <meta name=\\\"generator\\\" content=\\\"UMBC\\\" />\\n    <!-- Google Analytics -->\\n    <script type=\\\"text/javascript\\\">\\n      var _gaq = _gaq || [];\\n      // Primary Tracker\\n      _gaq.push(\\n        ['_setAccount', 'UA-1045586-1'],\\n        ['_trackPageview']\\n      );\\n\\n\\n      (function() {\\n        var ga = document.createElement('script'); ga.type = 'text/javascript'; ga.async = true;\\n        ga.src = ('https:' == document.location.protocol ? 'https://ssl' : 'http://www') + '.google-analytics.com/ga.js';\\n        var s = document.getElementsByTagName('script')[0]; s.parentNode.insertBefore(ga, s);\\n      })();\\n    </script>\\n    \\n    <script>\\n    $(document).ready(function() {\\n        \\n        // Rotating quotes for What other say\\n        $('#rotating-quotes .quotes').quovolver({\\n            children : 'li',\\n            transitionSpeed : 300,\\n            autoPlay : false,\\n            equalHeight : false,\\n            navPosition : 'above',\\n            navPrev            : false,\\n            navNext            : false,\\n            navNum            : true,\\n            navText            : false,\\n            navTextContent : 'Quote @a of @b'\\n        });\\n        \\n    });\\n    </script>\\n    \\n    <script type=\\\"text/javascript\\\" src=\\\"//www.google.com/jsapi\\\"></script>\\n    <script type=\\\"text/javascript\\\">\\n      google.load('search', '1');\\n      google.setOnLoadCallback(function() {\\n        google.search.CustomSearchControl.attachAutoCompletion(\\n          '008589878477221853669:fglxypz-c8m+qptype:1',\\n          document.getElementById('umbc-nav-search-query'),\\n          'umbc-nav-search');\\n      });\\n    </script>\\n    \\n</head>\\n\\n<body id=\\\"home\\\">\\n\\n<div id=\\\"skip-content\\\"><a href=\\\"#main-content\\\">Skip to Main Content</a></div>\\n\\n<!-- Comment out the alert when not in use -->\\n<!-- DELAY ALERT-->\\n<!-- <section class=\\\"emergency\\\"><a href=\\\"http://bit.ly/1EJ0VYN\\\">Due to inclement weather UMBC will be opening at noon on Monday, March 2.</a></section> -->\\n\\n<!-- CLOSED ALERT -->\\n<!-- <section class=\\\"emergency\\\"><a href=\\\"http://about.umbc.edu/inclement-weather-emergency-closing-policy/\\\">Due to inclement weather, UMBC will close at 8 p.m. on Monday, March 13 and remain closed on Tuesday, March 14.</a></section> -->\\n\\n<!-- STANDARD ALERT -->\\n<!-- <section class=\\\"emergency\\\">UMBC is currently monitoring winter storm predictions. Please sign up for <a href=\\\"http://my.umbc.edu/go/alerts\\\">E2Campus alerts</a> and review our <a href=\\\"http://about.umbc.edu/inclement-weather-emergency-closing-policy/\\\">inclement weather procedure</a>.</section> -->\\n\\n<!-- OTHER ALERT -->\\n<!-- <section class=\\\"emergency\\\">Temporary parking changes on campus today in preparation for UMBC's 50th celebration weekend. <a href=\\\"http://50.umbc.edu/temporary-parking-changes-for-sept-15-16/\\\">Learn more</a>.</section> -->\\n\\n<!-- <span style=\\\"background-color: #357BB8;\\\">&#10052; &#10052;</span> --><!-- INCLUDE FOR ALERT -->\\n\\n<div id=\\\"container-header-background\\\"> \\n<div id=\\\"container-header\\\"><!-- main container -->\\n<header id=\\\"umbc-header\\\"><!-- umbc header -->\\n\\n<div id=\\\"umbc-logo\\\"><a href=\\\"http://umbc.edu\\\" title=\\\"UMBC: An Honors University in Maryland\\\"><span>UMBC: An Honors University in Maryland</span></a></div>\\n\\n<nav role=\\\"navigation\\\" id=\\\"umbc-nav\\\" >\\n<ul id=\\\"umbc-nav-items\\\">\\n<li id=\\\"umbc-nav-azindex\\\"><a href=\\\"http://umbc.edu/siteindex\\\">A-Z Index</a></li>\\n<li id=\\\"umbc-nav-myumbc\\\"><a href=\\\"http://my.umbc.edu\\\">myUMBC</a></li>\\n<li id=\\\"umbc-nav-events\\\"><a href=\\\"http://my.umbc.edu/events\\\">Events</a></li>\\n<!-- <li id=\\\"umbc-nav-computing\\\"><a href=\\\"http://umbc.edu/doit\\\">Computing</a></li> -->\\n<li id=\\\"umbc-nav-directory\\\"><a href=\\\"http://umbc.edu/search/directory\\\">Directory</a></li>\\n<li id=\\\"umbc-nav-maps\\\"><a href=\\\"http://about.umbc.edu/visitors-guide/campus-map/\\\">Maps</a></li>\\n</ul>\\n\\n<form role=\\\"search\\\" id=\\\"umbc-nav-search\\\" action=\\\"http://www.umbc.edu/stats/searchthru/\\\" method=\\\"get\\\">\\n<div id=\\\"umbc-nav-search-input\\\">\\n<label for=\\\"umbc-nav-search-query\\\">Search UMBC</label>\\n<input type=\\\"hidden\\\" name=\\\"cx\\\" value=\\\"008589878477221853669:fglxypz-c8m\\\" />\\n<input type=\\\"hidden\\\" name=\\\"ie\\\" value=\\\"UTF-8\\\" />\\n<input id=\\\"umbc-nav-search-query\\\" type=\\\"text\\\" placeholder=\\\"Search\\\" autocomplete=\\\"off\\\" name=\\\"q\\\" size=\\\"250\\\" maxlength=\\\"250\\\">\\n<input id=\\\"umbc-nav-search-submit\\\" type=\\\"submit\\\" value=\\\"\\\">\\n</div>\\n</form>\\n\\n</nav>\\n</header>\\n\\n<header role=\\\"banner\\\" id=\\\"site-header\\\" >\\n<a href=\\\"#\\\" id=\\\"mobile-site-menu-expander\\\">\\n<span class=\\\"mobile-site-menu-expander-bar\\\"></span>\\n<span class=\\\"mobile-site-menu-expander-bar\\\"></span>\\n<span class=\\\"mobile-site-menu-expander-bar\\\"></span>\\n</a>\\n</header>\\n\\n</div><!-- END umbc header -->\\n\\n<div id=\\\"site-menu-background\\\"> \\n\\n<nav role=\\\"navigation\\\" id=\\\"site-menu\\\"><!-- gold toolbar -->\\n<ul id=\\\"menu-main\\\" class=\\\"menu\\\">\\n\\n<li class=\\\"utilities\\\"><a href=\\\"\\\">Utilities</a>\\n<ul class=\\\"sub-menu\\\">\\n<li><a href=\\\"http://umbc.edu/siteindex\\\">A-Z Index</a></li>\\n<li><a href=\\\"http://my.umbc.edu\\\">myUMBC</a></li>\\n<li><a href=\\\"http://my.umbc.edu/events\\\">Events</a></li>\\n<li><a href=\\\"http://umbc.edu/search/directory\\\">Directory</a></li>\\n<li><a href=\\\"http://about.umbc.edu/visitors-guide/campus-map/\\\">Maps</a></li>\\n</ul>\\n</li>\\n<!-- PER JAKE DANIEL 9/13/2016 -->\\n<li><a href=\\\"http://about.umbc.edu/\\\">About </a>\\n<ul class=\\\"sub-menu\\\">\\n\\t<li><a href=\\\"http://about.umbc.edu/administration/\\\">Administration</a>\\n\\t<ul class=\\\"sub-menu\\\">\\n\\t\\t<li><a href=\\\"http://president.umbc.edu/\\\">President Hrabowski</a></li>\\n\\t\\t<li><a href=\\\"http://about.umbc.edu/governance/\\\">Governance</a></li>\\n\\t</ul>\\n</li>\\n\\t<li><a href=\\\"http://news.umbc.edu/tag/rankings/\\\">Rankings</a></li>\\n\\t<li><a href=\\\"http://about.umbc.edu/meet-umbc-people/\\\">Meet UMBC People</a></li>\\n\\t<li><a href=\\\"http://news.umbc.edu\\\">News</a></li>\\n\\t<li><a href=\\\"http://diversity.umbc.edu/\\\">Diversity and Inclusion</a><!-- UMBC Diversity and Inclusion Resources --></li>\\n\\t<li><a href=\\\"http://about.umbc.edu/visitors-guide/\\\">Visit Us</a><span class=\\\"menu-arrow menu-arrow-right\\\"></span>\\n\\t<ul class=\\\"sub-menu\\\">\\n\\t\\t<li><a href=\\\"http://about.umbc.edu/visitors-guide/campus-map/\\\">Campus Maps</a></li>\\n\\t\\t<li><a href=\\\"http://about.umbc.edu/visitors-guide/directions/\\\">Directions and Parking</a></li>\\n\\t\\t<li><a href=\\\"http://about.umbc.edu/visitors-guide/research-park-technology-center/\\\">bwtech@UMBC Research and Technology Park</a></li>\\n\\t\\t<li><a href=\\\"http://about.umbc.edu/visitors-guide/athletics/\\\">Athletics</a></li>\\n\\t\\t<li><a href=\\\"http://about.umbc.edu/visitors-guide/on-campus-destinations/\\\">On-Campus Destinations</a></li>\\n\\t\\t<li><a href=\\\"http://about.umbc.edu/visitors-guide/where-to-eat/\\\">Where to Eat</a></li>\\n\\t\\t<li><a href=\\\"http://about.umbc.edu/visitors-guide/the-surrounding-community/\\\">The Surrounding Community</a></li>\\n\\t\\t<li><a href=\\\"http://about.umbc.edu/visitors-guide/accommodations/\\\">Accommodations</a></li>\\n\\t\\t<li><a href=\\\"http://about.umbc.edu/inclement-weather-emergency-closing-policy/\\\">Inclement Weather and Emergency Closing Policy</a></li>\\n\\t</ul>\\n</li>\\n\\t<li><a href=\\\"http://about.umbc.edu/accreditation/\\\">Accreditation</a></li>\\n\\t<li><a href=\\\"http://enrollment.umbc.edu/consumer_info/\\\">Consumer Information</a></li>\\n\\t<!-- CHANGED PER JAKE 11/30/16 <li><a href=\\\"http://www.umbc.edu/hr/employment/index.php\\\">Work at UMBC</a></li> \\n\\tUPDATED 6.2.17 -->\\n\\t<li><a href=\\\"http://hr.umbc.edu/jobs/\\\">Work at UMBC</a></li>\\n\\t<li><a href=\\\"http://about.umbc.edu/visitors-guide/contact-us/\\\">Contact Us</a></li>\\n</ul>\\n</li>\\n<!--/ JLD -->\\n<!-- PER JAKE DANIEL 9/13/2016\\n<li><a href=\\\"\\\">About</a>\\n<ul class=\\\"sub-menu\\\">\\n\\n<li><a href=\\\"http://about.umbc.edu\\\">About UMBC</a></li>\\n<li><a href=\\\"http://president.umbc.edu\\\">President</a></li>\\n<li><a href=\\\"http://about.umbc.edu/administration/\\\">Administration</a></li>\\n<li><a href=\\\"http://news.umbc.edu\\\">News</a></li>\\n<li><a href=\\\"http://about.umbc.edu/visitors-guide/\\\">Visit</a></li>\\n<li><a href=\\\"http://www.umbc.edu/hr/employment/index.html\\\">Jobs</a></li>\\n<li><a href=\\\"http://doit.umbc.edu\\\">Computing</a></li>\\n<li><a href=\\\"http://www.umbc.edu/giving/\\\">Support UMBC</a></li>\\n</ul>\\n</li> -->\\n\\n<li><a href=\\\"\\\">Academics</a>\\n<ul class=\\\"sub-menu\\\">\\n<li><a href=\\\"http://www.umbc.edu/colleges\\\">Colleges &amp; Schools</a></li>\\n<li><a href=\\\"http://degrees.umbc.edu\\\">Majors &amp; Programs</a></li>\\n<li><a href=\\\"http://catalog.umbc.edu\\\">Course Catalog (Undergrad)</a></li>\\n<li><a href=\\\"http://www.umbc.edu/gradschool/gradcatalog/\\\">Course Catalog (Graduate)</a></li>\\n<li><a href=\\\"http://registrar.umbc.edu/academic-calendar/\\\">Academic Calendar</a></li>\\n<li><a href=\\\"https://my.umbc.edu/go/schedule\\\">Class Schedule</a></li>\\n<li><a href=\\\"http://www.umbc.edu/online\\\">Online Learning</a></li>\\n<li><a href=\\\"http://www.umbc.edu/aok\\\">Albin O. Kuhn Library</a></li>\\n<li><a href=\\\"http://www.umbc.edu/bookstore\\\">Bookstore</a></li>\\n</ul>\\n</li>\\n\\n<li><a href=\\\"\\\">Admissions</a>\\n<ul class=\\\"sub-menu\\\">\\n\\n<li><a href=\\\"http://undergraduate.umbc.edu\\\">Undergraduate</a></li>\\n<li><a href=\\\"http://www.umbc.edu/gradschool/\\\">Graduate</a></li>\\n<li><a href=\\\"http://www.umbc.edu/financialaid\\\">Financial Aid &amp; Scholarships</a></li>\\n<li><a href=\\\"http://www.umbc.edu/dps\\\">Professional Studies</a></li>\\n<li><a href=\\\"http://summerwinter.umbc.edu \\\">Summer &amp; Winter Sessions</a></li>\\n<li><a href=\\\"http://www.umbctraining.com\\\">Training Centers</a></li>\\n</ul>\\n</li>\\n\\n<li><a href=\\\"\\\">Arts &amp; Culture</a>\\n<ul class=\\\"sub-menu\\\">\\n\\n<li><a href=\\\"http://www.umbc.edu/arts\\\">Calendar</a></li>\\n<li><a href=\\\"http://www.umbc.edu/aok\\\">Albin O. Kuhn Library &amp; Gallery</a></li>\\n<li><a href=\\\"http://www.umbc.edu/cadvc/\\\">Center for Art, Design and Visual Culture</a></li>\\n<li><a href=\\\"http://www.umbc.edu/engage\\\">Learn More</a></li>\\n\\n</ul>\\n</li>\\n\\n<li><a href=\\\"\\\">Athletics</a>\\n<ul class=\\\"sub-menu\\\">\\n\\n<li><a href=\\\"http://www.umbcretrievers.com/\\\">UMBCRetrievers.com</a></li>\\n<li><a href=\\\"http://umbcretrievers.com/composite\\\">Schedule</a></li>\\n<li><a href=\\\"http://umbcretrievers.com/tickets\\\">Tickets</a></li>\\n<li><a href=\\\"http://umbcretrievers.com/information/facilities\\\">Facilities/Directions</a></li>\\n<li><a href=\\\"http://recreation.umbc.edu/\\\">Recreation</a></li>\\n<li><a href=\\\"http://bookstore.umbc.edu/MerchList.aspx?ID=7069\\\">Fan Gear</a></li>\\n<li><a href=\\\"http://umbcretrievers.com/information/camps\\\">Camps</a></li>\\n</ul>\\n</li>\\n\\n<li><a href=\\\"\\\">Research</a>\\n<ul class=\\\"sub-menu\\\">\\n\\n<li><a href=\\\"http://research.umbc.edu\\\">About Research</a></li>\\n<li><a href=\\\"http://research.umbc.edu/umbc-research-news/\\\">Research News</a></li>\\n<li><a href=\\\"http://research.umbc.edu/research-centers-institutes/\\\">Research Centers &amp; Institutes</a></li>\\n<li><a href=\\\"http://www.umbc.edu/aok\\\">Albin O. Kuhn Library</a></li>\\n<li><a href=\\\"http://doit.umbc.edu\\\">Computing</a></li>\\n</ul>\\n</li>\\n\\n<li><a href=\\\"\\\">Support UMBC</a>\\n<ul class=\\\"sub-menu\\\">\\n<li><a href=\\\"http://alumni.umbc.edu/support\\\">Make a Gift</a></li>\\n<li><a href=\\\"http://giving.umbc.edu\\\">Why Giving Matters</a></li>\\n<li><a href=\\\"https://umbc.givecorps.com/\\\">Support Student Projects</a></li>\\n</ul>\\n\\n</li>\\n</ul>      \\n</nav> <!-- END gold toolbar --><!-- INCLUDE FOR GOLD NAV -->\\n\\n</div></div>\\n\\n<div id=\\\"container\\\"> <!-- main container -->\\n\\n<!-- START WINDOW START WINDOW START WINDOW START WINDOW START WINDOW START WINDOW START WINDOW START WINDOW -->\\n<!-- WINDOW IS 1024 x 380px WINDOW THUMBNAIL IS 128 x 35px -->\\n\\n<section class=\\\"page-content\\\">\\n<section class=\\\"home-widgets\\\">\\n<div class=\\\"widget widget-spotlight\\\">\\n<div class=\\\"panels\\\">\\n\\n<!-- TWO LINKS PER WINDOW - DON'T FORGET MOBILE LINK  --> \\n<!-- REMEMBER image mobile AND content-details SHOULD BE RIGHT LEFT OR CENTER FOR image AND RIGHT OR LEFT FOR content -->\\n<!-- description SHOULD BE USED FOR PHOTO CREDIT -->\\n\\n\\n<div class=\\\"panel panel-1\\\">\\n<div class=\\\"image mobile-left\\\"><img src=\\\"images_homepage/win_Climate-Scientist-and-Mentor-Honored-17.jpg\\\" alt=\\\"Climate Scientist and Mentor Honored\\\"></div>\\n<div class=\\\"content-details right\\\">\\n<a class=\\\"mobile-seemore\\\" href=\\\"http://bit.ly/2wQkC3N\\\">&raquo;</a>\\n<div class=\\\"title\\\">Honoring a Climate Scientist and Mentor</div>\\n<div class=\\\"tagline\\\">JCET Director Belay Demoz is elected a fellow of the American Meteorological Society.</div>\\n<a class=\\\"web-seemore\\\" href=\\\"http://bit.ly/2wQkC3N\\\">Read more &raquo;</a>\\n</div>\\n</div>\\n\\n\\n\\n<div class=\\\"panel panel-2\\\">\\n<div class=\\\"image mobile-center\\\"><img src=\\\"images_homepage/win_National-Excellence-in-Innovation-and-Teaching17.jpg\\\" alt=\\\"National Excellence in Innovation and Teaching\\\"></div>\\n<div class=\\\"content-details right\\\">\\n<a class=\\\"mobile-seemore\\\" href=\\\"http://bit.ly/2h2wpnY\\\">&raquo;</a>\\n<div class=\\\"title\\\">National Excellence in Innovation and Teaching</div>\\n<div class=\\\"tagline\\\">Growing Retriever community celebrates U.S. News spotlight on UMBC.</div>\\n<a class=\\\"web-seemore\\\" href=\\\"http://bit.ly/2h2wpnY\\\">Read more &raquo;</a>\\n</div>\\n</div>\\n\\n<div class=\\\"panel panel-3\\\">\\n<div class=\\\"image mobile-center\\\"><img src=\\\"images_homepage/win_Strong-Connections-Meaningful-Work2.jpg\\\" alt=\\\"Strong Connections, Meaningful Work\\\"></div>\\n<div class=\\\"content-details left\\\">\\n<a class=\\\"mobile-seemore\\\" href=\\\"http://bit.ly/2wPg3sd\\\">&raquo;</a>\\n<div class=\\\"title\\\">Strong Connections, Meaningful Work</div>\\n<div class=\\\"tagline\\\">UMBC alumni mentors give today’s students a glimpse of possible career paths.</div>\\n<a class=\\\"web-seemore\\\" href=\\\"http://bit.ly/2wPg3sd\\\">Read more &raquo;</a>\\n</div>\\n</div>\\n\\n<div class=\\\"panel panel-4\\\">\\n<div class=\\\"image mobile-right\\\"><img src=\\\"images_homepage/win_Earth-Space-UMBC-NASA.jpg\\\" alt=\\\"Earth and Space Institute\\\"></div>\\n<div class=\\\"content-details right\\\">\\n<a class=\\\"mobile-seemore\\\" href=\\\"http://bit.ly/2jLBQwx\\\">&raquo;</a>\\n<div class=\\\"title\\\">Earth and Space Institute</div>\\n<div class=\\\"tagline\\\">New UMBC research center builds on decades of NASA collaboration.</div>\\n<a class=\\\"web-seemore\\\" href=\\\"http://bit.ly/2jLBQwx\\\">Read more &raquo;</a>\\n</div>\\n</div>\\n\\n\\n<div class=\\\"panel panel-5\\\">\\n<div class=\\\"image mobile-center\\\"><img src=\\\"images_homepage/win_Building-Robots-Breaking-Stereotypes.jpg\\\" alt=\\\"Building Robots, Breaking Stereotypes\\\"></div>\\n<div class=\\\"content-details right\\\">\\n<a class=\\\"mobile-seemore\\\" href=\\\"http://bit.ly/2hsh3gm\\\">&raquo;</a>\\n<div class=\\\"title\\\">Building Robots, Breaking Stereotypes</div>\\n<div class=\\\"tagline\\\">UMBC Ph.D. candidate Kavita Krishnaswamy receives Google and Microsoft awards for robotics research.</div>\\n<a class=\\\"web-seemore\\\" href=\\\"http://bit.ly/2hsh3gm\\\">Read more &raquo;</a>\\n</div>\\n</div>\\n\\n\\n<div class=\\\"panel panel-6\\\">\\n<div class=\\\"image mobile-center\\\"><img src=\\\"images_homepage/win_UMBC-Alumnus-Becomes-U.S.-Surgeon-General.jpg\\\" alt=\\\"UMBC Alumnus Becomes U.S. Surgeon General\\\"></div>\\n<div class=\\\"content-details right\\\">\\n<a class=\\\"mobile-seemore\\\" href=\\\"http://bit.ly/2vPbC15\\\">&raquo;</a>\\n<div class=\\\"title\\\">UMBC Alumnus Becomes U.S. Surgeon General</div>\\n<div class=\\\"tagline\\\">Senate confirms Jerome Adams, recognizing his career serving vulnerable populations.</div>\\n<a class=\\\"web-seemore\\\" href=\\\"http://bit.ly/2vPbC15\\\">Read more &raquo;</a>\\n</div>\\n</div>\\n\\n<div class=\\\"panel panel-7\\\">\\n<div class=\\\"image mobile-left\\\"><img src=\\\"images_homepage/win_Pausing-the-Clock.jpg\\\" alt=\\\"Commitment to Excellence\\\"></div>\\n<div class=\\\"content-details right\\\">\\n<a class=\\\"mobile-seemore\\\" href=\\\"http://bit.ly/2iDMkxc\\\">&raquo;</a>\\n<div class=\\\"title\\\">Pausing the Clock</div>\\n<div class=\\\"tagline\\\">UMBC's Gymama Slaughter works to extend viability of life-saving organs awaiting transplant with innovative bioreactor.</div>\\n<a class=\\\"web-seemore\\\" href=\\\"http://bit.ly/2iDMkxc\\\">Read more &raquo;</a> \\n</div>\\n</div>\\n\\n\\n  \\n\\n\\n\\n\\n\\n\\n<!--VIRTUAL TOUR EVERGREEN\\n<div class=\\\"panel panel-5\\\">\\n<div class=\\\"image mobile-center\\\"><img src=\\\"images_homepage/win_virtualtour.jpg\\\" alt=\\\"Virtual Tour\\\"></div>\\n<div class=\\\"content-details right\\\">\\n<a class=\\\"mobile-seemore\\\" href=\\\"http://www.umbc.edu/undergraduate/experience/virtual_tour_2011.html\\\">&raquo;</a>\\n<div class=\\\"title\\\">Virtually Us</div>\\n<div class=\\\"tagline\\\">Can't make it to campus? No problem &ndash; we'll bring it to you.</div>\\n<div class=\\\"description\\\">No problem - we'll bring it to you. It's virtually the same.</div> \\n<a class=\\\"web-seemore\\\" href=\\\"http://www.umbc.edu/undergraduate/experience/virtual_tour_2011.html\\\">Take a virtual tour &raquo;</a>\\n</div>\\n</div>  -->\\n\\n</div>\\n\\n<!-- WINDOW THUMBNAIL IS 128 x 35px --> \\n<!-- win_LIVEWIRE-a.jpg -->\\n<div class=\\\"playlist\\\"><ul>\\n  <li class=\\\"item-1\\\"><img src=\\\"images_homepage/win_Climate-Scientist-and-Mentor-Honored-17_tmb.jpg\\\" alt=\\\"Climate Scientist and Mentor Honored\\\"></li>\\n  <li class=\\\"item-2\\\"><img src=\\\"images_homepage/win_National-Excellence-in-Innovation-and-Teaching17_tmb.jpg\\\" alt=\\\"National Excellence in Innovation and Teaching\\\"></li>\\n  <li class=\\\"item-3\\\"><img src=\\\"images_homepage/win_Strong-Connections-Meaningful-Work2_tmb.jpg\\\" alt=\\\"Strong Connections, Meaningful Work\\\"></li>\\n  <li class=\\\"item-4\\\"><img src=\\\"images_homepage/win_Earth-Space-UMBC-NASA_tmb.jpg\\\" alt=\\\"Earth and Space Institute\\\"></li>\\n<li class=\\\"item-5\\\"><img src=\\\"images_homepage/win_Building-Robots-Breaking-Stereotypes_tmb.jpg\\\" alt=\\\" Building Robots, Breaking Stereotypes\\\"></li>\\n<li class=\\\"item-6\\\"><img src=\\\"images_homepage/win_UMBC-Alumnus-Becomes-U.S.-Surgeon-General_tmb.jpg\\\" alt=\\\"UMBC Alumnus Becomes U.S. Surgeon General\\\"></li>\\n\\n<li class=\\\"item-7\\\"><img src=\\\"images_homepage/win_Pausing-the-Clock_tmb.jpg\\\" alt=\\\"Pausing the Clock\\\"></li>\\n<!--<li class=\\\"item-5\\\"><img src=\\\"images_homepage/win_tmb_virtualtour.jpg\\\" alt=\\\"Virtual Tour\\\"></li> -->\\n</ul></div>\\n</div>\\n\\n\\n</section><!-- END window -->\\n\\n<!-- START AUDIENCE TAB LINKS START AUDIENCE TAB LINKS START AUDIENCE TAB LINKS -->\\n<!-- AUDIENCE IMAGES ARE 250 x 75px -->\\n<div id=\\\"audience-tabs\\\">\\n\\n<ul class=\\\"tabs\\\">\\n<li><a href=\\\"#\\\" class=\\\"defaulttab\\\" data-tab=\\\"tabs1\\\" onClick=\\\"return false;\\\">Prospective <span class=\\\"mobile\\\">Students</span></a></li>\\n<li><a href=\\\"#\\\" data-tab=\\\"tabs2\\\" onClick=\\\"return false;\\\">Current <span class=\\\"mobile\\\">Students</span></a></li>\\n<li><a href=\\\"#\\\" data-tab=\\\"tabs3\\\" onClick=\\\"return false;\\\">Parents &amp; Family</a></li>\\n<li><a href=\\\"#\\\" data-tab=\\\"tabs4\\\" onClick=\\\"return false;\\\">Faculty &amp; Staff</a></li>\\n<li><a href=\\\"#\\\" data-tab=\\\"tabs5\\\" onClick=\\\"return false;\\\">Alumni <span class=\\\"mobile\\\">&amp; Supporters</span></a></li>\\n<li><a href=\\\"#\\\" data-tab=\\\"tabs6\\\" onClick=\\\"return false;\\\">Businesses <span class=\\\"mobile\\\">&amp; Employers</span></a></li>\\n</ul>\\n\\n<!-- PROSPECTIVE STUDENTS TAB PROSPECTIVE STUDENTS TAB PROSPECTIVE STUDENTS TAB -->\\n \\n<div class=\\\"tab-content\\\" id=\\\"tabs1\\\">\\n<div class=\\\"column1\\\">\\n<h3>Admissions</h3>\\n<img src=\\\"images_homepage/ps_admission.jpg\\\" alt=\\\"Admission thumbnail\\\">\\n<p><a href=\\\"http://undergraduate.umbc.edu\\\">Undergraduate Admissions</a></p>\\n<p><a href=\\\"http://www.umbc.edu/gradschool/\\\">Graduate School Admissions</a></p>\\n<p><a href=\\\"http://www.umbc.edu/dps/\\\">Division of Professional Studies</a></p>\\n<p><a href=\\\"http://www.umbctraining.com\\\">Training Centers</a></p>\\n<p><a href=\\\"http://www.umbc.edu/financialaid\\\">Financial Aid &amp; Scholarships</a></p>\\n<p><a href=\\\"http://enrollment.umbc.edu/consumer_info/\\\">Consumer Information</a></p>\\n<p><a href=\\\"http://about.umbc.edu\\\">Fast Facts </a></p>\\n</div>\\n    \\n<div class=\\\"column2\\\">\\n<h3>Campus Life</h3> \\n<img src=\\\"images_homepage/ps_campuslife.jpg\\\" alt=\\\"Campus Life thumbnail\\\">\\n<p><a href=\\\"http://undergraduate.umbc.edu/majors.php\\\">Undergraduate Majors &amp; Programs</a></p>\\n<p><a href=\\\"http://www.umbc.edu/gradschool/programs/all_programs.html\\\">Graduate School Programs</a></p>\\n<p><a href=\\\"http://www.umbc.edu/wordsofwisdom/\\\">Faculty Words of Wisdom</a></p>\\n<p><a href=\\\"http://osl.umbc.edu/orgs/list/\\\">Clubs &amp; Organizations</a></p>\\n<p><a href=\\\"http://www.umbc.edu/arts\\\">Arts &amp; Culture</a></p>\\n<p><a href=\\\"http://www.umbcretrievers.com/\\\">UMBC Athletics</a></p>\\n<p><a href=\\\"http://www.umbc.edu/reslife/\\\">Living on Campus</a></p>\\n</div>\\n    \\n<div class=\\\"column3\\\">\\n<h3>Visiting</h3> \\n<img src=\\\"images_homepage/ps_visiting.jpg\\\" alt=\\\"Visiting thumbnail\\\">\\n<p><a href=\\\"http://about.umbc.edu/visitors-guide\\\">Visitor's Guide</a></p>\\n<p><a href=\\\"http://about.umbc.edu/visitors-guide/campus-map/\\\">Campus Maps</a></p>\\n<p><a href=\\\"http://www.umbc.edu/aok\\\">Albin O. Kuhn Library</a></p>\\n<p><a href=\\\"http://www.umbc.edu/bookstore\\\">UMBC Bookstore</a></p>\\n<p><a href=\\\"https://secure.visualzen.com/vzevents/umbc/\\\">Undergraduate Admissions Tours</a></p>\\n<p><a href=\\\"http://undergraduate.umbc.edu/visit/virtual-tour.php\\\">Virtual Tour</a></p>\\n</div>\\n</div>\\n\\n<!-- CURRENT STUDENTS TAB CURRENT STUDENTS TAB CURRENT STUDENTS TAB CURRENT STUDENTS TAB CURRENT STUDENTS TAB -->\\n\\n<div class=\\\"tab-content\\\" id=\\\"tabs2\\\">\\n<div class=\\\"column1\\\">\\n<h3>Get Involved</h3>\\n<a href=\\\"http://www.umbc.edu/studentlife\\\"><img src=\\\"images_homepage/cs_getinvolved.jpg\\\" alt=\\\"Get Involved thumbnail\\\"></a>\\n<p><a href=\\\"http://my.umbc.edu/topics/involvement-and-leadership\\\">Involvement &amp; Leadership </a></p>\\n<p><a href=\\\"http://my.umbc.edu/topics/arts-culture-and-entertainment\\\">Arts, Culture &amp; Entertainment</a> </p>\\n<p><a href=\\\"http://my.umbc.edu/topics/diversity\\\">Diversity</a></p>\\n<p><a href=\\\"http://undergraduate.umbc.edu/community/professors-not-to-miss.php\\\">Professors Not to Miss</a></p>\\n<p><a href=\\\"http://umbcbreakingground.wordpress.com/\\\">UMBC BreakingGround</a></p>\\n<p><a href=\\\"http://www.umbcretrievers.com/\\\">Athletics &amp; Recreation</a></p>\\n<p><a href=\\\"http://my.umbc.edu/events\\\">Events</a></p>\\n</div>\\n    \\n<div class=\\\"column2\\\">\\n<h3>Get Help</h3> \\n<a href=\\\"http://www.umbc.edu/saf\\\"><img src=\\\"images_homepage/cs_support.jpg\\\" alt=\\\"Support Services thumbnail\\\"></a>\\n<p><a href=\\\"http://www.umbc.edu/saf/\\\">Student Affairs</a></p>\\n<p><a href=\\\"http://my.umbc.edu/topics/advising-and-student-support\\\">Advising &amp; Student Support</a></p>\\n<p><a href=\\\"http://my.umbc.edu/topics/jobs-and-internships\\\">Jobs &amp; Internships</a></p>\\n<p><a href=\\\"http://my.umbc.edu/topics/billing-and-personal-finances\\\">Billing &amp; Personal Finances</a></p>\\n<p><a href=\\\"http://my.umbc.edu/topics/housing-on-and-off-campus\\\">Housing</a></p>\\n<p><a href=\\\"http://my.umbc.edu/topics/parking-and-transportation\\\">Parking &amp; Transportation</a></p>\\n<p><a href=\\\"http://my.umbc.edu/topics/food-and-dining\\\">Food &amp; Dining </a></p>\\n<p><a href=\\\"http://my.umbc.edu/topics/health-wellness-and-safety\\\">Health, Wellness &amp; Safety </a></p>\\n</div>\\n    \\n<div class=\\\"column3\\\">\\n<h3>Top Tools</h3> \\n<a href=\\\"http://my.umbc.edu\\\"><img src=\\\"images_homepage/cs_myumbc.jpg\\\" alt=\\\"myUMBC thumbnail\\\"></a>\\n<p><a href=\\\"http://my.umbc.edu\\\">myUMBC</a></p>\\n<p><a href=\\\"http://www.umbc.edu/aok\\\">Albin O. Kuhn Library</a></p>\\n<p><a href=\\\"http://my.umbc.edu/topics/classes-and-grades\\\">Classes &amp; Grades </a></p>\\n<p><a href=\\\"http://www.umbc.edu/catalog/2012/index.php\\\">Course Catalog</a></p> \\n<p><a href=\\\"http://registrar.umbc.edu/academic-calendar/\\\">Academic Calendar</a></p>\\n<p><a href=\\\"http://campuscard.umbc.edu/\\\">Campus Card/Mail Services</a></p>\\n<p><a href=\\\"http://www.umbc.edu/saf/policies/pdfs/UMBC_Student_Handbook.pdf\\\">UMBC Student Handbook</a></p>\\n</div>\\n</div>\\n    \\n<!-- PARENT FAMILY TAB PARENT FAMILY TAB PARENT FAMILY TAB FAMILY TAB FAMILY TAB FAMILY TAB -->\\n\\n<div class=\\\"tab-content\\\" id=\\\"tabs3\\\"><div class=\\\"column1\\\">\\n<h3>Resources</h3>\\n<img src=\\\"images_homepage/pf_family.jpg\\\" alt=\\\"Parent Family Resources thumbnail\\\">\\n<p><a href=\\\"http://my.umbc.edu/topics/advising-and-student-support\\\">Advising &amp; Student Support  </a></p>\\n<p><a href=\\\"http://my.umbc.edu/topics/health-wellness-and-safety\\\">Health, Wellness &amp; Safety  </a></p>\\n<p><a href=\\\"http://my.umbc.edu/topics/billing-and-personal-finances\\\">Billing &amp; Personal Finances  </a></p>\\n<p><a href=\\\"http://www.umbc.edu/financialaid/\\\">Financial Aid &amp; Scholarships  </a></p>\\n<p><a href=\\\"http://my.umbc.edu/topics/jobs-and-internships\\\">Jobs &amp; Internships  </a></p>\\n<p><a href=\\\"http://my.umbc.edu/topics/housing-on-and-off-campus\\\">Housing  </a></p>\\n<p><a href=\\\"http://my.umbc.edu/topics/parking-and-transportation\\\">Parking &amp; Transportation  </a></p>\\n<p><a href=\\\"http://my.umbc.edu/topics/food-and-dining\\\">Food &amp; Dining </a></p>\\n</div>\\n    \\n<div class=\\\"column2\\\">\\n<h3>Visiting</h3> \\n<img src=\\\"images_homepage/pf_visiting.jpg\\\" alt=\\\"Visiting thumbnail\\\">\\n<p><a href=\\\"http://about.umbc.edu/visitors-guide\\\">Visitor's Guide</a></p>\\n<p><a href=\\\"http://about.umbc.edu/visitors-guide/campus-map/\\\">Campus Maps</a></p>\\n<p><a href=\\\"http://www.umbc.edu/aok\\\">Albin O. Kuhn Library</a></p>\\n<p><a href=\\\"http://www.umbc.edu/bookstore\\\">UMBC Bookstore</a></p>\\n<p><a href=\\\"https://secure.visualzen.com/vzevents/umbc/\\\">Schedule an Undergraduate Tour</a></p>\\n<p><a href=\\\"http://undergraduate.umbc.edu/visit/virtual-tour.php\\\">Take our virtual tour</a></p>\\n</div>\\n\\n<div class=\\\"column3\\\">\\n<h3>Connect </h3> \\n<p><a href=\\\"http://my.umbc.edu/groups/parents\\\">Family Connection </a></p>\\n<p><a href=\\\"http://umbc.us7.list-manage.com/subscribe?u=f6412bb434bcfb2aa45386155&id=1df27fef01\\\">Sign Up for Newsletter</a></p>\\n<p><a href=\\\"http://www.umbc.edu/saf/\\\">Student Affairs</a></p>\\n\\n<h3>Support UMBC </h3> \\n<p><a href=\\\"http://www.umbc.edu/giving\\\">Make a Gift</a></p>\\n</div>\\n</div>\\n    \\n<!-- FAC STAFF TAB FAC STAFF TAB FAC STAFF TAB FAC STAFF TAB FAC STAFF TAB FAC STAFF TAB FAC STAFF TAB -->\\n \\n<div class=\\\"tab-content\\\" id=\\\"tabs4\\\">\\n<div class=\\\"column1\\\">\\n<h3>Resources</h3>\\n<a href=\\\"http://www.umbc.edu/facultystaff/ \\\"><img src=\\\"images_homepage/fs_library.jpg\\\" alt=\\\"Library thumbnail\\\"></a>\\n<p><a href=\\\"http://my.umbc.edu/topics/advising-and-student-support\\\">Advising &amp; Student Support</a></p>\\n<p><a href=\\\"http://my.umbc.edu/topics/parking-and-transportation\\\">Parking &amp; Transportation</a></p> \\n<p><a href=\\\"http://my.umbc.edu/topics/food-and-dining\\\">Food &amp; Dining</a></p>\\n<p><a href=\\\"http://my.umbc.edu/topics/health-wellness-and-safety\\\">Health, Wellness &amp; Safety</a></p>\\n<p><a href=\\\"http://my.umbc.edu/events\\\">Events </a></p>\\n<p><a href=\\\"http://www.umbc.edu/policies/\\\">University Policies</a></p>\\n<p><a href=\\\"http://fdc.umbc.edu/\\\">Faculty Development Center</a></p>\\n</div>\\n\\n<div class=\\\"column2\\\">\\n<h3>UMBC Insights</h3>\\n<p><a href=\\\"http://umbcinsights.wordpress.com/\\\">News for the University Community</a></p>\\n\\n<h3>Human Resources</h3> \\n<p><a href=\\\"http://www.umbc.edu/hr/\\\">HR Website </a></p>\\n<p><a href=\\\"http://www.umbc.edu/hr/newemployeeresources/benefits.html\\\">Benefits Information</a></p>\\n<p><a href=\\\"http://www.umbc.edu/hr/supervisortoolkit/supervisortoolkitindex.html\\\">Resources for Supervisors</a></p>\\n\\n<h3>Jobs at UMBC</h3> \\n<p><a href=\\\"http://www.umbc.edu/hr/employment/index.html\\\">Employment Opportunities</a></p>\\n<p><a href=\\\"http://www.umbc.edu/hr/newemployeeresources/welcome.html\\\">Resources for New Employees</a></p>\\n</div>\\n\\n<div class=\\\"column3\\\">\\n<h3>Top Tools</h3> \\n<a href=\\\"http://my.umbc.edu\\\"><img src=\\\"images_homepage/cs_myumbc.jpg\\\" alt=\\\"myUMBC thumbnail\\\"></a>\\n<p><a href=\\\"http://my.umbc.edu/topics/faculty-center\\\">myUMBC Faculty Center  </a></p>\\n<p><a href=\\\"http://my.umbc.edu/topics/staff-center\\\">myUMBC Staff Center   </a></p>\\n<p><a href=\\\"http://www.umbc.edu/aok\\\">Albin O. Kuhn Library</a></p>\\n<p><a href=\\\"http://registrar.umbc.edu/academic-calendar/\\\">Academic Calendar</a></p>\\n<p><a href=\\\"http://www.umbc.edu/catalog/\\\">Course Catalog</a></p>\\n<p><a href=\\\"http://campuscard.umbc.edu/\\\">Campus Card/Mail Services</a></p>\\n</div>\\n</div>\\n\\n<!-- ALUMNI SUPPORTER TAB ALUMNI SUPPORTER TAB ALUMNI SUPPORTER TAB ALUMNI SUPPORTER TAB ALUMNI SUPPORTER TAB -->\\n\\n<div class=\\\"tab-content\\\" id=\\\"tabs5\\\"><div class=\\\"column1\\\">\\n<h3>Alumni Association</h3>\\n<a href=\\\"http://alumni.umbc.edu\\\"><img src=\\\"images_homepage/as_alumni.jpg\\\" alt=\\\"Support Services thumbnail\\\"></a>\\n<p><a href=\\\"http://alumni.umbc.edu/s/1325/1col.aspx?sid=1325&amp;gid=1&amp;pgid=316\\\">Get Involved</a></p>\\n<p><a href=\\\"http://umbcalumni.wordpress.com/\\\">News</a> </p>\\n<p><a href=\\\"http://alumni.umbc.edu/s/1325/1col.aspx?sid=1325&amp;gid=1&amp;pgid=13&amp;cid=664\\\">Events</a></p>\\n<p><a href=\\\"http://umbcalumni.wordpress.com/alumni-award-winners/\\\">Alumni Awards</a></p>\\n</div>\\n    \\n<div class=\\\"column2\\\">\\n<h3>UMBC Magazine</h3> \\n<a href=\\\"http://www.umbc.edu/magazine\\\"><img src=\\\"images_homepage/as_magcover.jpg\\\" alt=\\\"UMBC Magazine thumbnail\\\"></a>\\n<p><a href=\\\"http://umbcmagazine.wordpress.com\\\">Visit the magazine online </a></p>\\n</div>\\n    \\n<div class=\\\"column3\\\">\\n<h3>Give to UMBC</h3> \\n<a href=\\\"http://www.umbc.edu/giving\\\"><img src=\\\"images_homepage/as_giving.jpg\\\" alt=\\\"Give to UMBC thumbnail\\\"></a>\\n<p><a href=\\\"https://secure.imodules.com/s/1325/giving_social.aspx?sid=1325&amp;gid=1&amp;pgid=564&amp;cid=1258\\\">Give Now</a></p>\\n<p><a href=\\\"http://www.umbc.edu/giving/learn/annualfund.html\\\">Annual Giving</a></p> \\n<p><a href=\\\"http://umbcgiving.wordpress.com/\\\">Giving Stories</a></p>\\n</div>\\n</div>\\n\\n<!-- BUSINESSES AND SUPPORTERS TAB BUSINESSES AND SUPPORTERS TAB BUSINESSES AND SUPPORTERS TAB BUSINESSES AND SUPPORTERS TAB -->\\n\\n<div class=\\\"tab-content\\\" id=\\\"tabs6\\\">\\n<div class=\\\"column1\\\">\\n<h3>bwtech@UMBC</h3> \\n<a href=\\\"http://www.bwtechumbc.com/\\\"><img src=\\\"images_homepage/cp_bwtech.jpg\\\" alt=\\\"bwtech thumbnail\\\"></a>\\n<p><a href=\\\"http://www.bwtechumbc.com/\\\">About bwtech@UMBC<br />Research &amp; Technology Park</a></p>\\n<p><a href=\\\"http://www.bwtechumbc.com/\\\">Programs</a></p>\\n<p><a href=\\\"http://www.bwtechumbc.com//facilities/space.html\\\">Acquire Space</a></p>  \\n<p><a href=\\\"http://www.bwtechumbc.com//about/directions.html\\\">Maps &amp; Directions</a></p>\\n</div>\\n    \\n<div class=\\\"column2\\\">\\n<h3>Work With Us</h3> \\n<a href=\\\"http://www.umbc.edu/business\\\"><img src=\\\"images_homepage/cp_business.jpg\\\" alt=\\\"Corporate Relations thumbnail\\\"></a>\\n<p><a href=\\\"http://www.umbc.edu/business/\\\">Learn How</a></p> \\n<p><a href=\\\"http://www.umbc.edu/business/students.php\\\">Access Students</a></p>\\n<p><a href=\\\"http://www.umbc.edu/business/training.php\\\">Access Training</a></p>\\n<p><a href=\\\"http://www.umbc.edu/business/research.php\\\">Access Research</a></p>\\n<p><a href=\\\"http://www.umbc.edu/business/space.php\\\">Access Space</a></p>\\n<p><a href=\\\"http://www.umbc.edu/business/support.php\\\">Support UMBC</a></p>  \\n</div>\\n    \\n<div class=\\\"column3\\\">\\n<h3>Give to UMBC</h3> \\n<a href=\\\"http://www.umbc.edu/giving\\\"><img src=\\\"images_homepage/bs_giving.jpg\\\" alt=\\\"Give to UMBC thumbnail\\\"></a>\\n<p><a href=\\\"https://secure.imodules.com/s/1325/giving_social.aspx?sid=1325&amp;gid=1&amp;pgid=564&amp;cid=1258\\\">Give Now</a></p>\\n<p><a href=\\\"http://www.umbc.edu/giving/learn/annualfund.html\\\">Annual Giving</a></p> \\n<p><a href=\\\"http://umbcgiving.wordpress.com/\\\">Giving Stories</a></p>\\n</div>\\n</div>\\n\\n</div>\\n\\n<!-- END audience links -->\\n\\n<!-- news and events news and events news and events news and events news and events news and events-->\\n\\n<section class=\\\"page-container layout-home\\\">\\n<section class=\\\"page-content\\\">\\n    \\n<article role=\\\"main\\\">\\n \\n<div class=\\\"news\\\"> \\n\\n<h1>News</h1>\\n\\n<!-- COPY A PREVIOUS HEADLINE AND UPDATE URL AND HEADLINE TITLE BUT KEEP TAG FORMATTING INTACT ~ REMEMBER TO PUT PUBLICATION NAME BETWEEN <i> TAGS  -->\\n<!-- ampersand is &amp; em dash is &mdash; -->\\n\\n\\n<!-- 9/25 -->\\n<p><a href=\\\"http://bit.ly/2xAfwdU\\\">UMBC responds to U.S. Department of Education's Title IX guidance changes</a><br><span style=\\\"color:#666666;\\\"><em>Sept. 25, 2017</em></span></p>\\n\\n<!-- 9/25 -->\\n<p><a href=\\\"http://bit.ly/2xvc96z\\\">Christy Ford Chapin begins Library of Congress fellowship, continuing history faculty's trend of research achievement</a><br><span style=\\\"color:#666666;\\\"><em>September 25, 2017</em></span></p>\\n\\n<!-- 9/20 -->\\n<p><a href=\\\"http://bit.ly/2xr7Bj3\\\">UMBC to build on success in shrinking carbon footprint through updated Climate Action Plan</a><br><span style=\\\"color:#666666;\\\"><em>September 20, 2017</em></span></p>\\n\\n<!-- 9/20 -->\\n<p><a href=\\\"http://bit.ly/2wHkWA8\\\">How Girls Code connects young women to computer science and robotics at UMBC</a><br><span style=\\\"color:#666666;\\\"><em>September 20, 2017</em></span></p>\\n\\n<!-- 8/24 -->\\n<p><a href=\\\"http://bit.ly/2fBwkbe\\\">UMBC's Amy Hurst and William Easley connect with Baltimore teens through 3D printing makerspace</a><br><span style=\\\"color:#666666;\\\"><em>September 19, 2017</em></span></p><!-- INCLUDE for NEWS -->\\n\\n<p><a href=\\\"http://news.umbc.edu/\\\" class=\\\"moreinfo\\\">More news headlines &raquo;</a></p>\\n<p><a href=\\\"http://president.umbc.edu/\\\" class=\\\"moreinfo\\\">President Hrabowski's media appearances, publications, and speeches &raquo;</a></p>\\n</div>   \\n\\n<div class=\\\"events\\\"> \\n\\n<h1>Events</h1>\\n\\n<!-- COPY A PREVIOUS EVENT AND UPDATE DATE URL AND EVENT NAME BUT KEEP TAG FORMATTING INTACT ~ TWO EVENTS FOR SAME DATE SHOULD BE SEPARATED BY br SOONEST DATES FIRST-->\\n\\n\\n<p class=\\\"date\\\">10/5</p>\\n<p><a href=\\\"http://homecoming.umbc.edu/2017-alumni-awards/\\\">2017 Alumni Awards</a></p>\\n\\n<p class=\\\"date\\\">10/13</p>\\n<p><a href=\\\"http://homecoming.umbc.edu/comedy-show-with-trevor-noah/\\\">Homecoming 2017: Comedy Show with Trevor Noah</a></p>\\n\\n<p class=\\\"date\\\">10/14</p>\\n<p><a href=\\\"http://homecoming.umbc.edu/carnival/\\\">Homecoming 2017 Carnival</a></p><!-- INCLUDE FOR EVENTS -->\\n\\n<p><a href=\\\"http://my.umbc.edu/events\\\" class=\\\"moreevent\\\">More events &raquo;</a></p>\\n</div>   \\n      \\n<div class=\\\"whatotherssay\\\"> \\n\\n<h1>UMBC Campaign</h1>\\n<div class=\\\"demo\\\" id=\\\"rotating-quotes\\\">\\n<div class=\\\"quotes\\\">\\n\\n<ul>\\n<li><a href=\\\"http://giving.umbc.edu/\\\"><img src=\\\"images_homepage/campaign-logo-cropped.jpg\\\"><br>For 50 years, we have called on our GRIT to do GREAT things. Now we are calling on YOU.</a></li>\\n<li><!--\\n<blockquote>\\n<p>&ldquo;This midsize state university has earned a reputation as one of the most innovative schools in the country.&rdquo;</p>\\n<p>&mdash;<em><a href=\\\"http://www.cbsnews.com/video/watch/?id=7388127n&tag=contentBody;storyMediaBox\\\">&ldquo;60 Minutes&rdquo;</a></em></p>\\n</blockquote> --><a href=\\\"http://50.umbc.edu/timeline/\\\">\\n<img src=\\\"images_homepage/50th-4.jpg\\\"><br>Timeline: 50 Years of Grit &amp; Greatness</a>\\n</li>\\n<li><a href=\\\"http://50.umbc.edu/weekendroundup/\\\"><img src=\\\"images_homepage/50thFIREWORKS.jpg\\\"><br>Highlights from UMBC's 50th Anniversary Celebration Weekend</a></li>\\n        <!-- COMMENTED OUT FOR 50TH                        \\n<li>\\n<blockquote>\\n<p>&ldquo;An institution that combines the best of a major research center while keeping its focus on undergraduates.&rdquo;</p>\\n<p>&mdash;<a href=\\\"http://www.washingtonpost.com/opinions/u-md-baltimore-county-serves-its-students-well/2012/04/09/gIQAneVv6S_story.html\\\"><em>The Washington Post</em></a></p>\\n</blockquote>\\n</li>\\n                                \\n<li>\\n<blockquote>\\n<p>&ldquo;When you think of the top science universities in the U.S., schools like MIT and Caltech may jump to mind. But perhaps the most envied science program in the country is at the University of Maryland, Baltimore County.&rdquo;</p>\\n<p>&mdash;<em><a href=\\\"http://www.time.com/time/specials/packages/article/0,28804,2111975_2111976_2112119,00.html\\\">TIME</a></em></p>\\n</blockquote>\\n</li>\\n\\n<li>\\n<blockquote>\\n<p>&ldquo;Students here [at UMBC] are given access to academic and social resources usually reserved for those attending mammoth public institutions or pricey private colleges.&rdquo;</p>\\n<p>&mdash;<a href=\\\"http://www.umbc.edu/window/fiske_guide_honors.html\\\"><em>Fiske Guide to Colleges</em></a></p>\\n</blockquote>\\n</li>\\n                                \\n<li>\\n<blockquote>\\n<p>&ldquo;Up-and-Coming Schools,&rdquo;like #1 UMBC, are &ldquo;making the most promising and innovative changes in the areas of academics, faculty, and student life.&rdquo;</p>\\n<p>&mdash;<em><a href=\\\"http://colleges.usnews.rankingsandreviews.com/best-colleges/rankings/national-universities/up-and-coming\\\">U.S. News &amp; World Report</a></em></p>\\n</blockquote>\\n</li>\\n                                \\n<li>\\n<blockquote>\\n<p>&ldquo;Continue[s] to deliver a great education at prices that put private schools to shame&rdquo;</p>\\n<p>&mdash;<a href=\\\"http://www.kiplinger.com/magazine/archives/best-values-in-public-colleges-2012.html\\\"><em>Kiplinger&rsquo;s</em> &ldquo;Best Values in Public Colleges&rdquo;</a></p>\\n</blockquote>\\n</li>\\n -->\\n <!--                               \\n<li>\\n<blockquote>\\n<p>&ldquo;Of all the research universities we visited, UMBC was the place that we thought had most capably connected its research functions with its undergraduate schooling.&rdquo;</p>\\n<p>&mdash;<a href=\\\"http://www.umbc.edu/blogs/umbcnews/2010/09/post_3.html\\\">&ldquo;Higher Education?&rdquo; by Andrew Hacker & Claudia Dreifus</a></p>\\n</blockquote>\\n</li> -->\\n\\n</ul>\\n</div><!-- .quotes -->\\n</div><!-- .demo -->\\n                    \\n</div><!-- .whatotherssay -->\\n</article>\\n</section>\\n  \\n<!-- END News Events and What Others Say END News Events and What Others Say -->\\n  \\n</section>\\n\\n<!-- footer start -->\\n<footer role=\\\"contentinfo\\\" id=\\\"site-footer\\\"></footer>   \\n\\n</section>\\n</div> <!-- #container -->\\n<footer role=\\\"contentinfo\\\" id=\\\"umbc-footer\\\">\\n<div id=\\\"umbc-footer-logo\\\"><a href=\\\"http://umbc.edu\\\" title=\\\"UMBC: An Honors University in Maryland\\\"><span>UMBC: An Honors University in Maryland</span></a></div>\\n<!-- =JLD -->\\n<div id=\\\"usmd-footer-logo\\\"><a href=\\\"http://www.usmd.edu/\\\" title=\\\"Univeristy System of Maryland\\\"><span>Univeristy System of Maryland</span></a></div>\\n<br style=\\\"clear:both;\\\"><br>\\n<nav id=\\\"umbc-footer-nav\\\" style=\\\"clear:both;\\\">\\n<ul id=\\\"umbc-footer-nav-items\\\">\\n<li><a href=\\\"http://about.umbc.edu\\\">About UMBC</a></li>\\n<li><a href=\\\"mailto:homepage@umbc.edu\\\">Contact Us</a></li>\\n<li><a href=\\\"http://umbc.edu/go/equal-opportunity\\\">Equal Opportunity</a></li>\\n<li>Community: <a href=\\\"https://www.facebook.com/umbcpage\\\" id=\\\"umbc-footer-facebook\\\"><span class=\\\"none\\\">Facebook</span></a> <a href=\\\"http://twitter.com/umbc\\\" id=\\\"umbc-footer-twitter\\\"><span class=\\\"none\\\">Twitter</span></a> <a href=\\\"http://www.youtube.com/user/UMBCtube\\\" id=\\\"umbc-footer-youtube\\\"><span class=\\\"none\\\">YouTube</span></a> <a href=\\\"http://alumni.umbc.edu/\\\" id=\\\"umbc-footer-rn\\\"><span class=\\\"none\\\">Retriever Net</span></a></li>\\n</ul>\\n</nav>\\n\\n<div id=\\\"umbc-footer-info\\\">&copy; University of Maryland, Baltimore County <span class=\\\"bullet\\\">&bull;</span> 1000 Hilltop Circle <span class=\\\"bullet\\\">&bull;</span> Baltimore, MD 21250\\n</div>\\n\\n</footer>\\n\\n</body>\\n</html>\\n\"\n"
     ]
    }
   ],
   "source": [
    "print(contents)"
   ]
  },
  {
   "cell_type": "code",
   "execution_count": 56,
   "metadata": {
    "slideshow": {
     "slide_type": "slide"
    }
   },
   "outputs": [
    {
     "name": "stdout",
     "output_type": "stream",
     "text": [
      "[[1]]\n",
      "  [1] \"<a href=\\\"#main-content\\\">Skip to Main Content</a>\"                                                                                                                                                                                                                                                                                                                                                                                                   \n",
      "  [2] \"<a href=\\\"http://bit.ly/1EJ0VYN\\\">Due to inclement weather UMBC will be opening at noon on Monday, March 2.</a>\"                                                                                                                                                                                                                                                                                                                                      \n",
      "  [3] \"<a href=\\\"http://about.umbc.edu/inclement-weather-emergency-closing-policy/\\\">Due to inclement weather, UMBC will close at 8 p.m. on Monday, March 13 and remain closed on Tuesday, March 14.</a>\"                                                                                                                                                                                                                                                    \n",
      "  [4] \"<a href=\\\"http://my.umbc.edu/go/alerts\\\">E2Campus alerts</a> and review our <a href=\\\"http://about.umbc.edu/inclement-weather-emergency-closing-policy/\\\">inclement weather procedure</a>\"                                                                                                                                                                                                                                                            \n",
      "  [5] \"<a href=\\\"http://50.umbc.edu/temporary-parking-changes-for-sept-15-16/\\\">Learn more</a>\"                                                                                                                                                                                                                                                                                                                                                              \n",
      "  [6] \"<a href=\\\"http://umbc.edu\\\" title=\\\"UMBC: An Honors University in Maryland\\\"><span>UMBC: An Honors University in Maryland</span></a>\"                                                                                                                                                                                                                                                                                                                 \n",
      "  [7] \"<a href=\\\"http://umbc.edu/siteindex\\\">A-Z Index</a>\"                                                                                                                                                                                                                                                                                                                                                                                                  \n",
      "  [8] \"<a href=\\\"http://my.umbc.edu\\\">myUMBC</a>\"                                                                                                                                                                                                                                                                                                                                                                                                            \n",
      "  [9] \"<a href=\\\"http://my.umbc.edu/events\\\">Events</a>\"                                                                                                                                                                                                                                                                                                                                                                                                     \n",
      " [10] \"<a href=\\\"http://umbc.edu/doit\\\">Computing</a>\"                                                                                                                                                                                                                                                                                                                                                                                                       \n",
      " [11] \"<a href=\\\"http://umbc.edu/search/directory\\\">Directory</a>\"                                                                                                                                                                                                                                                                                                                                                                                           \n",
      " [12] \"<a href=\\\"http://about.umbc.edu/visitors-guide/campus-map/\\\">Maps</a>\"                                                                                                                                                                                                                                                                                                                                                                                \n",
      " [13] \"<a href=\\\"\\\">Utilities</a>\"                                                                                                                                                                                                                                                                                                                                                                                                                           \n",
      " [14] \"<a href=\\\"http://umbc.edu/siteindex\\\">A-Z Index</a>\"                                                                                                                                                                                                                                                                                                                                                                                                  \n",
      " [15] \"<a href=\\\"http://my.umbc.edu\\\">myUMBC</a>\"                                                                                                                                                                                                                                                                                                                                                                                                            \n",
      " [16] \"<a href=\\\"http://my.umbc.edu/events\\\">Events</a>\"                                                                                                                                                                                                                                                                                                                                                                                                     \n",
      " [17] \"<a href=\\\"http://umbc.edu/search/directory\\\">Directory</a>\"                                                                                                                                                                                                                                                                                                                                                                                           \n",
      " [18] \"<a href=\\\"http://about.umbc.edu/visitors-guide/campus-map/\\\">Maps</a>\"                                                                                                                                                                                                                                                                                                                                                                                \n",
      " [19] \"<a href=\\\"http://about.umbc.edu/\\\">About </a>\"                                                                                                                                                                                                                                                                                                                                                                                                        \n",
      " [20] \"<a href=\\\"http://about.umbc.edu/administration/\\\">Administration</a>\"                                                                                                                                                                                                                                                                                                                                                                                 \n",
      " [21] \"<a href=\\\"http://president.umbc.edu/\\\">President Hrabowski</a>\"                                                                                                                                                                                                                                                                                                                                                                                       \n",
      " [22] \"<a href=\\\"http://about.umbc.edu/governance/\\\">Governance</a>\"                                                                                                                                                                                                                                                                                                                                                                                         \n",
      " [23] \"<a href=\\\"http://news.umbc.edu/tag/rankings/\\\">Rankings</a>\"                                                                                                                                                                                                                                                                                                                                                                                          \n",
      " [24] \"<a href=\\\"http://about.umbc.edu/meet-umbc-people/\\\">Meet UMBC People</a>\"                                                                                                                                                                                                                                                                                                                                                                             \n",
      " [25] \"<a href=\\\"http://news.umbc.edu\\\">News</a>\"                                                                                                                                                                                                                                                                                                                                                                                                            \n",
      " [26] \"<a href=\\\"http://diversity.umbc.edu/\\\">Diversity and Inclusion</a>\"                                                                                                                                                                                                                                                                                                                                                                                   \n",
      " [27] \"<a href=\\\"http://about.umbc.edu/visitors-guide/\\\">Visit Us</a>\"                                                                                                                                                                                                                                                                                                                                                                                       \n",
      " [28] \"<a href=\\\"http://about.umbc.edu/visitors-guide/campus-map/\\\">Campus Maps</a>\"                                                                                                                                                                                                                                                                                                                                                                         \n",
      " [29] \"<a href=\\\"http://about.umbc.edu/visitors-guide/directions/\\\">Directions and Parking</a>\"                                                                                                                                                                                                                                                                                                                                                              \n",
      " [30] \"<a href=\\\"http://about.umbc.edu/visitors-guide/research-park-technology-center/\\\">bwtech@UMBC Research and Technology Park</a>\"                                                                                                                                                                                                                                                                                                                       \n",
      " [31] \"<a href=\\\"http://about.umbc.edu/visitors-guide/athletics/\\\">Athletics</a>\"                                                                                                                                                                                                                                                                                                                                                                            \n",
      " [32] \"<a href=\\\"http://about.umbc.edu/visitors-guide/on-campus-destinations/\\\">On-Campus Destinations</a>\"                                                                                                                                                                                                                                                                                                                                                  \n",
      " [33] \"<a href=\\\"http://about.umbc.edu/visitors-guide/where-to-eat/\\\">Where to Eat</a>\"                                                                                                                                                                                                                                                                                                                                                                      \n",
      " [34] \"<a href=\\\"http://about.umbc.edu/visitors-guide/the-surrounding-community/\\\">The Surrounding Community</a>\"                                                                                                                                                                                                                                                                                                                                            \n",
      " [35] \"<a href=\\\"http://about.umbc.edu/visitors-guide/accommodations/\\\">Accommodations</a>\"                                                                                                                                                                                                                                                                                                                                                                  \n",
      " [36] \"<a href=\\\"http://about.umbc.edu/inclement-weather-emergency-closing-policy/\\\">Inclement Weather and Emergency Closing Policy</a>\"                                                                                                                                                                                                                                                                                                                     \n",
      " [37] \"<a href=\\\"http://about.umbc.edu/accreditation/\\\">Accreditation</a>\"                                                                                                                                                                                                                                                                                                                                                                                   \n",
      " [38] \"<a href=\\\"http://enrollment.umbc.edu/consumer_info/\\\">Consumer Information</a>\"                                                                                                                                                                                                                                                                                                                                                                       \n",
      " [39] \"<a href=\\\"http://www.umbc.edu/hr/employment/index.php\\\">Work at UMBC</a>\"                                                                                                                                                                                                                                                                                                                                                                             \n",
      " [40] \"<a href=\\\"http://hr.umbc.edu/jobs/\\\">Work at UMBC</a>\"                                                                                                                                                                                                                                                                                                                                                                                                \n",
      " [41] \"<a href=\\\"http://about.umbc.edu/visitors-guide/contact-us/\\\">Contact Us</a>\"                                                                                                                                                                                                                                                                                                                                                                          \n",
      " [42] \"<a href=\\\"\\\">About</a>\"                                                                                                                                                                                                                                                                                                                                                                                                                               \n",
      " [43] \"<a href=\\\"http://about.umbc.edu\\\">About UMBC</a>\"                                                                                                                                                                                                                                                                                                                                                                                                     \n",
      " [44] \"<a href=\\\"http://president.umbc.edu\\\">President</a>\"                                                                                                                                                                                                                                                                                                                                                                                                  \n",
      " [45] \"<a href=\\\"http://about.umbc.edu/administration/\\\">Administration</a>\"                                                                                                                                                                                                                                                                                                                                                                                 \n",
      " [46] \"<a href=\\\"http://news.umbc.edu\\\">News</a>\"                                                                                                                                                                                                                                                                                                                                                                                                            \n",
      " [47] \"<a href=\\\"http://about.umbc.edu/visitors-guide/\\\">Visit</a>\"                                                                                                                                                                                                                                                                                                                                                                                          \n",
      " [48] \"<a href=\\\"http://www.umbc.edu/hr/employment/index.html\\\">Jobs</a>\"                                                                                                                                                                                                                                                                                                                                                                                    \n",
      " [49] \"<a href=\\\"http://doit.umbc.edu\\\">Computing</a>\"                                                                                                                                                                                                                                                                                                                                                                                                       \n",
      " [50] \"<a href=\\\"http://www.umbc.edu/giving/\\\">Support UMBC</a>\"                                                                                                                                                                                                                                                                                                                                                                                             \n",
      " [51] \"<a href=\\\"\\\">Academics</a>\"                                                                                                                                                                                                                                                                                                                                                                                                                           \n",
      " [52] \"<a href=\\\"http://www.umbc.edu/colleges\\\">Colleges &amp; Schools</a>\"                                                                                                                                                                                                                                                                                                                                                                                  \n",
      " [53] \"<a href=\\\"http://degrees.umbc.edu\\\">Majors &amp; Programs</a>\"                                                                                                                                                                                                                                                                                                                                                                                        \n",
      " [54] \"<a href=\\\"http://catalog.umbc.edu\\\">Course Catalog (Undergrad)</a>\"                                                                                                                                                                                                                                                                                                                                                                                   \n",
      " [55] \"<a href=\\\"http://www.umbc.edu/gradschool/gradcatalog/\\\">Course Catalog (Graduate)</a>\"                                                                                                                                                                                                                                                                                                                                                                \n",
      " [56] \"<a href=\\\"http://registrar.umbc.edu/academic-calendar/\\\">Academic Calendar</a>\"                                                                                                                                                                                                                                                                                                                                                                       \n",
      " [57] \"<a href=\\\"https://my.umbc.edu/go/schedule\\\">Class Schedule</a>\"                                                                                                                                                                                                                                                                                                                                                                                       \n",
      " [58] \"<a href=\\\"http://www.umbc.edu/online\\\">Online Learning</a>\"                                                                                                                                                                                                                                                                                                                                                                                           \n",
      " [59] \"<a href=\\\"http://www.umbc.edu/aok\\\">Albin O. Kuhn Library</a>\"                                                                                                                                                                                                                                                                                                                                                                                        \n",
      " [60] \"<a href=\\\"http://www.umbc.edu/bookstore\\\">Bookstore</a>\"                                                                                                                                                                                                                                                                                                                                                                                              \n",
      " [61] \"<a href=\\\"\\\">Admissions</a>\"                                                                                                                                                                                                                                                                                                                                                                                                                          \n",
      " [62] \"<a href=\\\"http://undergraduate.umbc.edu\\\">Undergraduate</a>\"                                                                                                                                                                                                                                                                                                                                                                                          \n",
      " [63] \"<a href=\\\"http://www.umbc.edu/gradschool/\\\">Graduate</a>\"                                                                                                                                                                                                                                                                                                                                                                                             \n",
      " [64] \"<a href=\\\"http://www.umbc.edu/financialaid\\\">Financial Aid &amp; Scholarships</a>\"                                                                                                                                                                                                                                                                                                                                                                    \n",
      " [65] \"<a href=\\\"http://www.umbc.edu/dps\\\">Professional Studies</a>\"                                                                                                                                                                                                                                                                                                                                                                                         \n",
      " [66] \"<a href=\\\"http://summerwinter.umbc.edu \\\">Summer &amp; Winter Sessions</a>\"                                                                                                                                                                                                                                                                                                                                                                           \n",
      " [67] \"<a href=\\\"http://www.umbctraining.com\\\">Training Centers</a>\"                                                                                                                                                                                                                                                                                                                                                                                         \n",
      " [68] \"<a href=\\\"\\\">Arts &amp; Culture</a>\"                                                                                                                                                                                                                                                                                                                                                                                                                  \n",
      " [69] \"<a href=\\\"http://www.umbc.edu/arts\\\">Calendar</a>\"                                                                                                                                                                                                                                                                                                                                                                                                    \n",
      " [70] \"<a href=\\\"http://www.umbc.edu/aok\\\">Albin O. Kuhn Library &amp; Gallery</a>\"                                                                                                                                                                                                                                                                                                                                                                          \n",
      " [71] \"<a href=\\\"http://www.umbc.edu/cadvc/\\\">Center for Art, Design and Visual Culture</a>\"                                                                                                                                                                                                                                                                                                                                                                 \n",
      " [72] \"<a href=\\\"http://www.umbc.edu/engage\\\">Learn More</a>\"                                                                                                                                                                                                                                                                                                                                                                                                \n",
      " [73] \"<a href=\\\"\\\">Athletics</a>\"                                                                                                                                                                                                                                                                                                                                                                                                                           \n",
      " [74] \"<a href=\\\"http://www.umbcretrievers.com/\\\">UMBCRetrievers.com</a>\"                                                                                                                                                                                                                                                                                                                                                                                    \n",
      " [75] \"<a href=\\\"http://umbcretrievers.com/composite\\\">Schedule</a>\"                                                                                                                                                                                                                                                                                                                                                                                         \n",
      " [76] \"<a href=\\\"http://umbcretrievers.com/tickets\\\">Tickets</a>\"                                                                                                                                                                                                                                                                                                                                                                                            \n",
      " [77] \"<a href=\\\"http://umbcretrievers.com/information/facilities\\\">Facilities/Directions</a>\"                                                                                                                                                                                                                                                                                                                                                               \n",
      " [78] \"<a href=\\\"http://recreation.umbc.edu/\\\">Recreation</a>\"                                                                                                                                                                                                                                                                                                                                                                                               \n",
      " [79] \"<a href=\\\"http://bookstore.umbc.edu/MerchList.aspx?ID=7069\\\">Fan Gear</a>\"                                                                                                                                                                                                                                                                                                                                                                            \n",
      " [80] \"<a href=\\\"http://umbcretrievers.com/information/camps\\\">Camps</a>\"                                                                                                                                                                                                                                                                                                                                                                                    \n",
      " [81] \"<a href=\\\"\\\">Research</a>\"                                                                                                                                                                                                                                                                                                                                                                                                                            \n",
      " [82] \"<a href=\\\"http://research.umbc.edu\\\">About Research</a>\"                                                                                                                                                                                                                                                                                                                                                                                              \n",
      " [83] \"<a href=\\\"http://research.umbc.edu/umbc-research-news/\\\">Research News</a>\"                                                                                                                                                                                                                                                                                                                                                                           \n",
      " [84] \"<a href=\\\"http://research.umbc.edu/research-centers-institutes/\\\">Research Centers &amp; Institutes</a>\"                                                                                                                                                                                                                                                                                                                                              \n",
      " [85] \"<a href=\\\"http://www.umbc.edu/aok\\\">Albin O. Kuhn Library</a>\"                                                                                                                                                                                                                                                                                                                                                                                        \n",
      " [86] \"<a href=\\\"http://doit.umbc.edu\\\">Computing</a>\"                                                                                                                                                                                                                                                                                                                                                                                                       \n",
      " [87] \"<a href=\\\"\\\">Support UMBC</a>\"                                                                                                                                                                                                                                                                                                                                                                                                                        \n",
      " [88] \"<a href=\\\"http://alumni.umbc.edu/support\\\">Make a Gift</a>\"                                                                                                                                                                                                                                                                                                                                                                                           \n",
      " [89] \"<a href=\\\"http://giving.umbc.edu\\\">Why Giving Matters</a>\"                                                                                                                                                                                                                                                                                                                                                                                            \n",
      " [90] \"<a href=\\\"https://umbc.givecorps.com/\\\">Support Student Projects</a>\"                                                                                                                                                                                                                                                                                                                                                                                 \n",
      " [91] \"<a href=\\\"#\\\" class=\\\"defaulttab\\\" data-tab=\\\"tabs1\\\" onClick=\\\"return false;\\\">Prospective <span class=\\\"mobile\\\">Students</span></a>\"                                                                                                                                                                                                                                                                                                               \n",
      " [92] \"<a href=\\\"#\\\" data-tab=\\\"tabs2\\\" onClick=\\\"return false;\\\">Current <span class=\\\"mobile\\\">Students</span></a>\"                                                                                                                                                                                                                                                                                                                                        \n",
      " [93] \"<a href=\\\"#\\\" data-tab=\\\"tabs3\\\" onClick=\\\"return false;\\\">Parents &amp; Family</a>\"                                                                                                                                                                                                                                                                                                                                                                  \n",
      " [94] \"<a href=\\\"#\\\" data-tab=\\\"tabs4\\\" onClick=\\\"return false;\\\">Faculty &amp; Staff</a>\"                                                                                                                                                                                                                                                                                                                                                                   \n",
      " [95] \"<a href=\\\"#\\\" data-tab=\\\"tabs5\\\" onClick=\\\"return false;\\\">Alumni <span class=\\\"mobile\\\">&amp; Supporters</span></a>\"                                                                                                                                                                                                                                                                                                                                 \n",
      " [96] \"<a href=\\\"#\\\" data-tab=\\\"tabs6\\\" onClick=\\\"return false;\\\">Businesses <span class=\\\"mobile\\\">&amp; Employers</span></a>\"                                                                                                                                                                                                                                                                                                                              \n",
      " [97] \"<a href=\\\"http://undergraduate.umbc.edu\\\">Undergraduate Admissions</a>\"                                                                                                                                                                                                                                                                                                                                                                               \n",
      " [98] \"<a href=\\\"http://www.umbc.edu/gradschool/\\\">Graduate School Admissions</a>\"                                                                                                                                                                                                                                                                                                                                                                           \n",
      " [99] \"<a href=\\\"http://www.umbc.edu/dps/\\\">Division of Professional Studies</a>\"                                                                                                                                                                                                                                                                                                                                                                            \n",
      "[100] \"<a href=\\\"http://www.umbctraining.com\\\">Training Centers</a>\"                                                                                                                                                                                                                                                                                                                                                                                         \n",
      "[101] \"<a href=\\\"http://www.umbc.edu/financialaid\\\">Financial Aid &amp; Scholarships</a>\"                                                                                                                                                                                                                                                                                                                                                                    \n",
      "[102] \"<a href=\\\"http://enrollment.umbc.edu/consumer_info/\\\">Consumer Information</a>\"                                                                                                                                                                                                                                                                                                                                                                       \n",
      "[103] \"<a href=\\\"http://about.umbc.edu\\\">Fast Facts </a>\"                                                                                                                                                                                                                                                                                                                                                                                                    \n",
      "[104] \"<a href=\\\"http://undergraduate.umbc.edu/majors.php\\\">Undergraduate Majors &amp; Programs</a>\"                                                                                                                                                                                                                                                                                                                                                         \n",
      "[105] \"<a href=\\\"http://www.umbc.edu/gradschool/programs/all_programs.html\\\">Graduate School Programs</a>\"                                                                                                                                                                                                                                                                                                                                                   \n",
      "[106] \"<a href=\\\"http://www.umbc.edu/wordsofwisdom/\\\">Faculty Words of Wisdom</a>\"                                                                                                                                                                                                                                                                                                                                                                           \n",
      "[107] \"<a href=\\\"http://osl.umbc.edu/orgs/list/\\\">Clubs &amp; Organizations</a>\"                                                                                                                                                                                                                                                                                                                                                                             \n",
      "[108] \"<a href=\\\"http://www.umbc.edu/arts\\\">Arts &amp; Culture</a>\"                                                                                                                                                                                                                                                                                                                                                                                          \n",
      "[109] \"<a href=\\\"http://www.umbcretrievers.com/\\\">UMBC Athletics</a>\"                                                                                                                                                                                                                                                                                                                                                                                        \n",
      "[110] \"<a href=\\\"http://www.umbc.edu/reslife/\\\">Living on Campus</a>\"                                                                                                                                                                                                                                                                                                                                                                                        \n",
      "[111] \"<a href=\\\"http://about.umbc.edu/visitors-guide\\\">Visitor's Guide</a>\"                                                                                                                                                                                                                                                                                                                                                                                 \n",
      "[112] \"<a href=\\\"http://about.umbc.edu/visitors-guide/campus-map/\\\">Campus Maps</a>\"                                                                                                                                                                                                                                                                                                                                                                         \n",
      "[113] \"<a href=\\\"http://www.umbc.edu/aok\\\">Albin O. Kuhn Library</a>\"                                                                                                                                                                                                                                                                                                                                                                                        \n",
      "[114] \"<a href=\\\"http://www.umbc.edu/bookstore\\\">UMBC Bookstore</a>\"                                                                                                                                                                                                                                                                                                                                                                                         \n",
      "[115] \"<a href=\\\"https://secure.visualzen.com/vzevents/umbc/\\\">Undergraduate Admissions Tours</a>\"                                                                                                                                                                                                                                                                                                                                                           \n",
      "[116] \"<a href=\\\"http://undergraduate.umbc.edu/visit/virtual-tour.php\\\">Virtual Tour</a>\"                                                                                                                                                                                                                                                                                                                                                                    \n",
      "[117] \"<a href=\\\"http://www.umbc.edu/studentlife\\\"><img src=\\\"images_homepage/cs_getinvolved.jpg\\\" alt=\\\"Get Involved thumbnail\\\"></a>\"                                                                                                                                                                                                                                                                                                                      \n",
      "[118] \"<a href=\\\"http://my.umbc.edu/topics/involvement-and-leadership\\\">Involvement &amp; Leadership </a>\"                                                                                                                                                                                                                                                                                                                                                   \n",
      "[119] \"<a href=\\\"http://my.umbc.edu/topics/arts-culture-and-entertainment\\\">Arts, Culture &amp; Entertainment</a>\"                                                                                                                                                                                                                                                                                                                                           \n",
      "[120] \"<a href=\\\"http://my.umbc.edu/topics/diversity\\\">Diversity</a>\"                                                                                                                                                                                                                                                                                                                                                                                        \n",
      "[121] \"<a href=\\\"http://undergraduate.umbc.edu/community/professors-not-to-miss.php\\\">Professors Not to Miss</a>\"                                                                                                                                                                                                                                                                                                                                            \n",
      "[122] \"<a href=\\\"http://umbcbreakingground.wordpress.com/\\\">UMBC BreakingGround</a>\"                                                                                                                                                                                                                                                                                                                                                                         \n",
      "[123] \"<a href=\\\"http://www.umbcretrievers.com/\\\">Athletics &amp; Recreation</a>\"                                                                                                                                                                                                                                                                                                                                                                            \n",
      "[124] \"<a href=\\\"http://my.umbc.edu/events\\\">Events</a>\"                                                                                                                                                                                                                                                                                                                                                                                                     \n",
      "[125] \"<a href=\\\"http://www.umbc.edu/saf\\\"><img src=\\\"images_homepage/cs_support.jpg\\\" alt=\\\"Support Services thumbnail\\\"></a>\"                                                                                                                                                                                                                                                                                                                              \n",
      "[126] \"<a href=\\\"http://www.umbc.edu/saf/\\\">Student Affairs</a>\"                                                                                                                                                                                                                                                                                                                                                                                             \n",
      "[127] \"<a href=\\\"http://my.umbc.edu/topics/advising-and-student-support\\\">Advising &amp; Student Support</a>\"                                                                                                                                                                                                                                                                                                                                                \n",
      "[128] \"<a href=\\\"http://my.umbc.edu/topics/jobs-and-internships\\\">Jobs &amp; Internships</a>\"                                                                                                                                                                                                                                                                                                                                                                \n",
      "[129] \"<a href=\\\"http://my.umbc.edu/topics/billing-and-personal-finances\\\">Billing &amp; Personal Finances</a>\"                                                                                                                                                                                                                                                                                                                                              \n",
      "[130] \"<a href=\\\"http://my.umbc.edu/topics/housing-on-and-off-campus\\\">Housing</a>\"                                                                                                                                                                                                                                                                                                                                                                          \n",
      "[131] \"<a href=\\\"http://my.umbc.edu/topics/parking-and-transportation\\\">Parking &amp; Transportation</a>\"                                                                                                                                                                                                                                                                                                                                                    \n",
      "[132] \"<a href=\\\"http://my.umbc.edu/topics/food-and-dining\\\">Food &amp; Dining </a>\"                                                                                                                                                                                                                                                                                                                                                                         \n",
      "[133] \"<a href=\\\"http://my.umbc.edu/topics/health-wellness-and-safety\\\">Health, Wellness &amp; Safety </a>\"                                                                                                                                                                                                                                                                                                                                                  \n",
      "[134] \"<a href=\\\"http://my.umbc.edu\\\"><img src=\\\"images_homepage/cs_myumbc.jpg\\\" alt=\\\"myUMBC thumbnail\\\"></a>\"                                                                                                                                                                                                                                                                                                                                              \n",
      "[135] \"<a href=\\\"http://my.umbc.edu\\\">myUMBC</a>\"                                                                                                                                                                                                                                                                                                                                                                                                            \n",
      "[136] \"<a href=\\\"http://www.umbc.edu/aok\\\">Albin O. Kuhn Library</a>\"                                                                                                                                                                                                                                                                                                                                                                                        \n",
      "[137] \"<a href=\\\"http://my.umbc.edu/topics/classes-and-grades\\\">Classes &amp; Grades </a>\"                                                                                                                                                                                                                                                                                                                                                                   \n",
      "[138] \"<a href=\\\"http://www.umbc.edu/catalog/2012/index.php\\\">Course Catalog</a>\"                                                                                                                                                                                                                                                                                                                                                                            \n",
      "[139] \"<a href=\\\"http://registrar.umbc.edu/academic-calendar/\\\">Academic Calendar</a>\"                                                                                                                                                                                                                                                                                                                                                                       \n",
      "[140] \"<a href=\\\"http://campuscard.umbc.edu/\\\">Campus Card/Mail Services</a>\"                                                                                                                                                                                                                                                                                                                                                                                \n",
      "[141] \"<a href=\\\"http://www.umbc.edu/saf/policies/pdfs/UMBC_Student_Handbook.pdf\\\">UMBC Student Handbook</a>\"                                                                                                                                                                                                                                                                                                                                                \n",
      "[142] \"<a href=\\\"http://my.umbc.edu/topics/advising-and-student-support\\\">Advising &amp; Student Support  </a>\"                                                                                                                                                                                                                                                                                                                                              \n",
      "[143] \"<a href=\\\"http://my.umbc.edu/topics/health-wellness-and-safety\\\">Health, Wellness &amp; Safety  </a>\"                                                                                                                                                                                                                                                                                                                                                 \n",
      "[144] \"<a href=\\\"http://my.umbc.edu/topics/billing-and-personal-finances\\\">Billing &amp; Personal Finances  </a>\"                                                                                                                                                                                                                                                                                                                                            \n",
      "[145] \"<a href=\\\"http://www.umbc.edu/financialaid/\\\">Financial Aid &amp; Scholarships  </a>\"                                                                                                                                                                                                                                                                                                                                                                 \n",
      "[146] \"<a href=\\\"http://my.umbc.edu/topics/jobs-and-internships\\\">Jobs &amp; Internships  </a>\"                                                                                                                                                                                                                                                                                                                                                              \n",
      "[147] \"<a href=\\\"http://my.umbc.edu/topics/housing-on-and-off-campus\\\">Housing  </a>\"                                                                                                                                                                                                                                                                                                                                                                        \n",
      "[148] \"<a href=\\\"http://my.umbc.edu/topics/parking-and-transportation\\\">Parking &amp; Transportation  </a>\"                                                                                                                                                                                                                                                                                                                                                  \n",
      "[149] \"<a href=\\\"http://my.umbc.edu/topics/food-and-dining\\\">Food &amp; Dining </a>\"                                                                                                                                                                                                                                                                                                                                                                         \n",
      "[150] \"<a href=\\\"http://about.umbc.edu/visitors-guide\\\">Visitor's Guide</a>\"                                                                                                                                                                                                                                                                                                                                                                                 \n",
      "[151] \"<a href=\\\"http://about.umbc.edu/visitors-guide/campus-map/\\\">Campus Maps</a>\"                                                                                                                                                                                                                                                                                                                                                                         \n",
      "[152] \"<a href=\\\"http://www.umbc.edu/aok\\\">Albin O. Kuhn Library</a>\"                                                                                                                                                                                                                                                                                                                                                                                        \n",
      "[153] \"<a href=\\\"http://www.umbc.edu/bookstore\\\">UMBC Bookstore</a>\"                                                                                                                                                                                                                                                                                                                                                                                         \n",
      "[154] \"<a href=\\\"https://secure.visualzen.com/vzevents/umbc/\\\">Schedule an Undergraduate Tour</a>\"                                                                                                                                                                                                                                                                                                                                                           \n",
      "[155] \"<a href=\\\"http://undergraduate.umbc.edu/visit/virtual-tour.php\\\">Take our virtual tour</a>\"                                                                                                                                                                                                                                                                                                                                                           \n",
      "[156] \"<a href=\\\"http://my.umbc.edu/groups/parents\\\">Family Connection </a>\"                                                                                                                                                                                                                                                                                                                                                                                 \n",
      "[157] \"<a href=\\\"http://umbc.us7.list-manage.com/subscribe?u=f6412bb434bcfb2aa45386155&id=1df27fef01\\\">Sign Up for Newsletter</a>\"                                                                                                                                                                                                                                                                                                                           \n",
      "[158] \"<a href=\\\"http://www.umbc.edu/saf/\\\">Student Affairs</a>\"                                                                                                                                                                                                                                                                                                                                                                                             \n",
      "[159] \"<a href=\\\"http://www.umbc.edu/giving\\\">Make a Gift</a>\"                                                                                                                                                                                                                                                                                                                                                                                               \n",
      "[160] \"<a href=\\\"http://www.umbc.edu/facultystaff/ \\\"><img src=\\\"images_homepage/fs_library.jpg\\\" alt=\\\"Library thumbnail\\\"></a>\"                                                                                                                                                                                                                                                                                                                            \n",
      "[161] \"<a href=\\\"http://my.umbc.edu/topics/advising-and-student-support\\\">Advising &amp; Student Support</a>\"                                                                                                                                                                                                                                                                                                                                                \n",
      "[162] \"<a href=\\\"http://my.umbc.edu/topics/parking-and-transportation\\\">Parking &amp; Transportation</a>\"                                                                                                                                                                                                                                                                                                                                                    \n",
      "[163] \"<a href=\\\"http://my.umbc.edu/topics/food-and-dining\\\">Food &amp; Dining</a>\"                                                                                                                                                                                                                                                                                                                                                                          \n",
      "[164] \"<a href=\\\"http://my.umbc.edu/topics/health-wellness-and-safety\\\">Health, Wellness &amp; Safety</a>\"                                                                                                                                                                                                                                                                                                                                                   \n",
      "[165] \"<a href=\\\"http://my.umbc.edu/events\\\">Events </a>\"                                                                                                                                                                                                                                                                                                                                                                                                    \n",
      "[166] \"<a href=\\\"http://www.umbc.edu/policies/\\\">University Policies</a>\"                                                                                                                                                                                                                                                                                                                                                                                    \n",
      "[167] \"<a href=\\\"http://fdc.umbc.edu/\\\">Faculty Development Center</a>\"                                                                                                                                                                                                                                                                                                                                                                                      \n",
      "[168] \"<a href=\\\"http://umbcinsights.wordpress.com/\\\">News for the University Community</a>\"                                                                                                                                                                                                                                                                                                                                                                 \n",
      "[169] \"<a href=\\\"http://www.umbc.edu/hr/\\\">HR Website </a>\"                                                                                                                                                                                                                                                                                                                                                                                                  \n",
      "[170] \"<a href=\\\"http://www.umbc.edu/hr/newemployeeresources/benefits.html\\\">Benefits Information</a>\"                                                                                                                                                                                                                                                                                                                                                       \n",
      "[171] \"<a href=\\\"http://www.umbc.edu/hr/supervisortoolkit/supervisortoolkitindex.html\\\">Resources for Supervisors</a>\"                                                                                                                                                                                                                                                                                                                                       \n",
      "[172] \"<a href=\\\"http://www.umbc.edu/hr/employment/index.html\\\">Employment Opportunities</a>\"                                                                                                                                                                                                                                                                                                                                                                \n",
      "[173] \"<a href=\\\"http://www.umbc.edu/hr/newemployeeresources/welcome.html\\\">Resources for New Employees</a>\"                                                                                                                                                                                                                                                                                                                                                 \n",
      "[174] \"<a href=\\\"http://my.umbc.edu\\\"><img src=\\\"images_homepage/cs_myumbc.jpg\\\" alt=\\\"myUMBC thumbnail\\\"></a>\"                                                                                                                                                                                                                                                                                                                                              \n",
      "[175] \"<a href=\\\"http://my.umbc.edu/topics/faculty-center\\\">myUMBC Faculty Center  </a>\"                                                                                                                                                                                                                                                                                                                                                                     \n",
      "[176] \"<a href=\\\"http://my.umbc.edu/topics/staff-center\\\">myUMBC Staff Center   </a>\"                                                                                                                                                                                                                                                                                                                                                                        \n",
      "[177] \"<a href=\\\"http://www.umbc.edu/aok\\\">Albin O. Kuhn Library</a>\"                                                                                                                                                                                                                                                                                                                                                                                        \n",
      "[178] \"<a href=\\\"http://registrar.umbc.edu/academic-calendar/\\\">Academic Calendar</a>\"                                                                                                                                                                                                                                                                                                                                                                       \n",
      "[179] \"<a href=\\\"http://www.umbc.edu/catalog/\\\">Course Catalog</a>\"                                                                                                                                                                                                                                                                                                                                                                                          \n",
      "[180] \"<a href=\\\"http://campuscard.umbc.edu/\\\">Campus Card/Mail Services</a>\"                                                                                                                                                                                                                                                                                                                                                                                \n",
      "[181] \"<a href=\\\"http://alumni.umbc.edu\\\"><img src=\\\"images_homepage/as_alumni.jpg\\\" alt=\\\"Support Services thumbnail\\\"></a>\"                                                                                                                                                                                                                                                                                                                                \n",
      "[182] \"<a href=\\\"http://alumni.umbc.edu/s/1325/1col.aspx?sid=1325&amp;gid=1&amp;pgid=316\\\">Get Involved</a>\"                                                                                                                                                                                                                                                                                                                                                 \n",
      "[183] \"<a href=\\\"http://umbcalumni.wordpress.com/\\\">News</a>\"                                                                                                                                                                                                                                                                                                                                                                                                \n",
      "[184] \"<a href=\\\"http://alumni.umbc.edu/s/1325/1col.aspx?sid=1325&amp;gid=1&amp;pgid=13&amp;cid=664\\\">Events</a>\"                                                                                                                                                                                                                                                                                                                                            \n",
      "[185] \"<a href=\\\"http://umbcalumni.wordpress.com/alumni-award-winners/\\\">Alumni Awards</a>\"                                                                                                                                                                                                                                                                                                                                                                  \n",
      "[186] \"<a href=\\\"http://www.umbc.edu/magazine\\\"><img src=\\\"images_homepage/as_magcover.jpg\\\" alt=\\\"UMBC Magazine thumbnail\\\"></a>\"                                                                                                                                                                                                                                                                                                                           \n",
      "[187] \"<a href=\\\"http://umbcmagazine.wordpress.com\\\">Visit the magazine online </a>\"                                                                                                                                                                                                                                                                                                                                                                         \n",
      "[188] \"<a href=\\\"http://www.umbc.edu/giving\\\"><img src=\\\"images_homepage/as_giving.jpg\\\" alt=\\\"Give to UMBC thumbnail\\\"></a>\"                                                                                                                                                                                                                                                                                                                                \n",
      "[189] \"<a href=\\\"https://secure.imodules.com/s/1325/giving_social.aspx?sid=1325&amp;gid=1&amp;pgid=564&amp;cid=1258\\\">Give Now</a>\"                                                                                                                                                                                                                                                                                                                          \n",
      "[190] \"<a href=\\\"http://www.umbc.edu/giving/learn/annualfund.html\\\">Annual Giving</a>\"                                                                                                                                                                                                                                                                                                                                                                       \n",
      "[191] \"<a href=\\\"http://umbcgiving.wordpress.com/\\\">Giving Stories</a>\"                                                                                                                                                                                                                                                                                                                                                                                      \n",
      "[192] \"<a href=\\\"http://www.bwtechumbc.com/\\\"><img src=\\\"images_homepage/cp_bwtech.jpg\\\" alt=\\\"bwtech thumbnail\\\"></a>\"                                                                                                                                                                                                                                                                                                                                      \n",
      "[193] \"<a href=\\\"http://www.bwtechumbc.com/\\\">About bwtech@UMBC<br />Research &amp; Technology Park</a>\"                                                                                                                                                                                                                                                                                                                                                     \n",
      "[194] \"<a href=\\\"http://www.bwtechumbc.com/\\\">Programs</a>\"                                                                                                                                                                                                                                                                                                                                                                                                  \n",
      "[195] \"<a href=\\\"http://www.bwtechumbc.com//facilities/space.html\\\">Acquire Space</a>\"                                                                                                                                                                                                                                                                                                                                                                       \n",
      "[196] \"<a href=\\\"http://www.bwtechumbc.com//about/directions.html\\\">Maps &amp; Directions</a>\"                                                                                                                                                                                                                                                                                                                                                               \n",
      "[197] \"<a href=\\\"http://www.umbc.edu/business\\\"><img src=\\\"images_homepage/cp_business.jpg\\\" alt=\\\"Corporate Relations thumbnail\\\"></a>\"                                                                                                                                                                                                                                                                                                                     \n",
      "[198] \"<a href=\\\"http://www.umbc.edu/business/\\\">Learn How</a>\"                                                                                                                                                                                                                                                                                                                                                                                              \n",
      "[199] \"<a href=\\\"http://www.umbc.edu/business/students.php\\\">Access Students</a>\"                                                                                                                                                                                                                                                                                                                                                                            \n",
      "[200] \"<a href=\\\"http://www.umbc.edu/business/training.php\\\">Access Training</a>\"                                                                                                                                                                                                                                                                                                                                                                            \n",
      "[201] \"<a href=\\\"http://www.umbc.edu/business/research.php\\\">Access Research</a>\"                                                                                                                                                                                                                                                                                                                                                                            \n",
      "[202] \"<a href=\\\"http://www.umbc.edu/business/space.php\\\">Access Space</a>\"                                                                                                                                                                                                                                                                                                                                                                                  \n",
      "[203] \"<a href=\\\"http://www.umbc.edu/business/support.php\\\">Support UMBC</a>\"                                                                                                                                                                                                                                                                                                                                                                                \n",
      "[204] \"<a href=\\\"http://www.umbc.edu/giving\\\"><img src=\\\"images_homepage/bs_giving.jpg\\\" alt=\\\"Give to UMBC thumbnail\\\"></a>\"                                                                                                                                                                                                                                                                                                                                \n",
      "[205] \"<a href=\\\"https://secure.imodules.com/s/1325/giving_social.aspx?sid=1325&amp;gid=1&amp;pgid=564&amp;cid=1258\\\">Give Now</a>\"                                                                                                                                                                                                                                                                                                                          \n",
      "[206] \"<a href=\\\"http://www.umbc.edu/giving/learn/annualfund.html\\\">Annual Giving</a>\"                                                                                                                                                                                                                                                                                                                                                                       \n",
      "[207] \"<a href=\\\"http://umbcgiving.wordpress.com/\\\">Giving Stories</a>\"                                                                                                                                                                                                                                                                                                                                                                                      \n",
      "[208] \"<a href=\\\"http://bit.ly/2xAfwdU\\\">UMBC responds to U.S. Department of Education's Title IX guidance changes</a>\"                                                                                                                                                                                                                                                                                                                                      \n",
      "[209] \"<a href=\\\"http://bit.ly/2xvc96z\\\">Christy Ford Chapin begins Library of Congress fellowship, continuing history faculty's trend of research achievement</a>\"                                                                                                                                                                                                                                                                                          \n",
      "[210] \"<a href=\\\"http://bit.ly/2xr7Bj3\\\">UMBC to build on success in shrinking carbon footprint through updated Climate Action Plan</a>\"                                                                                                                                                                                                                                                                                                                     \n",
      "[211] \"<a href=\\\"http://bit.ly/2wHkWA8\\\">How Girls Code connects young women to computer science and robotics at UMBC</a>\"                                                                                                                                                                                                                                                                                                                                   \n",
      "[212] \"<a href=\\\"http://bit.ly/2fBwkbe\\\">UMBC's Amy Hurst and William Easley connect with Baltimore teens through 3D printing makerspace</a>\"                                                                                                                                                                                                                                                                                                                \n",
      "[213] \"<a href=\\\"http://news.umbc.edu/\\\" class=\\\"moreinfo\\\">More news headlines &raquo;</a>\"                                                                                                                                                                                                                                                                                                                                                                 \n",
      "[214] \"<a href=\\\"http://president.umbc.edu/\\\" class=\\\"moreinfo\\\">President Hrabowski's media appearances, publications, and speeches &raquo;</a>\"                                                                                                                                                                                                                                                                                                            \n",
      "[215] \"<a href=\\\"http://homecoming.umbc.edu/2017-alumni-awards/\\\">2017 Alumni Awards</a>\"                                                                                                                                                                                                                                                                                                                                                                    \n",
      "[216] \"<a href=\\\"http://homecoming.umbc.edu/comedy-show-with-trevor-noah/\\\">Homecoming 2017: Comedy Show with Trevor Noah</a>\"                                                                                                                                                                                                                                                                                                                               \n",
      "[217] \"<a href=\\\"http://homecoming.umbc.edu/carnival/\\\">Homecoming 2017 Carnival</a>\"                                                                                                                                                                                                                                                                                                                                                                        \n",
      "[218] \"<a href=\\\"http://my.umbc.edu/events\\\" class=\\\"moreevent\\\">More events &raquo;</a>\"                                                                                                                                                                                                                                                                                                                                                                    \n",
      "[219] \"<a href=\\\"http://giving.umbc.edu/\\\"><img src=\\\"images_homepage/campaign-logo-cropped.jpg\\\"><br>For 50 years, we have called on our GRIT to do GREAT things. Now we are calling on YOU.</a>\"                                                                                                                                                                                                                                                           \n",
      "[220] \"<a href=\\\"http://www.cbsnews.com/video/watch/?id=7388127n&tag=contentBody;storyMediaBox\\\">&ldquo;60 Minutes&rdquo;</a>\"                                                                                                                                                                                                                                                                                                                               \n",
      "[221] \"<a href=\\\"http://50.umbc.edu/weekendroundup/\\\"><img src=\\\"images_homepage/50thFIREWORKS.jpg\\\"><br>Highlights from UMBC's 50th Anniversary Celebration Weekend</a>\"                                                                                                                                                                                                                                                                                    \n",
      "[222] \"<a href=\\\"http://www.washingtonpost.com/opinions/u-md-baltimore-county-serves-its-students-well/2012/04/09/gIQAneVv6S_story.html\\\"><em>The Washington Post</em></a>\"                                                                                                                                                                                                                                                                                  \n",
      "[223] \"<a href=\\\"http://www.time.com/time/specials/packages/article/0,28804,2111975_2111976_2112119,00.html\\\">TIME</a>\"                                                                                                                                                                                                                                                                                                                                      \n",
      "[224] \"<a href=\\\"http://www.umbc.edu/window/fiske_guide_honors.html\\\"><em>Fiske Guide to Colleges</em></a>\"                                                                                                                                                                                                                                                                                                                                                  \n",
      "[225] \"<a href=\\\"http://colleges.usnews.rankingsandreviews.com/best-colleges/rankings/national-universities/up-and-coming\\\">U.S. News &amp; World Report</a>\"                                                                                                                                                                                                                                                                                                \n",
      "[226] \"<a href=\\\"http://www.kiplinger.com/magazine/archives/best-values-in-public-colleges-2012.html\\\"><em>Kiplinger&rsquo;s</em> &ldquo;Best Values in Public Colleges&rdquo;</a>\"                                                                                                                                                                                                                                                                          \n",
      "[227] \"<a href=\\\"http://www.umbc.edu/blogs/umbcnews/2010/09/post_3.html\\\">&ldquo;Higher Education?&rdquo; by Andrew Hacker & Claudia Dreifus</a>\"                                                                                                                                                                                                                                                                                                            \n",
      "[228] \"<a href=\\\"http://umbc.edu\\\" title=\\\"UMBC: An Honors University in Maryland\\\"><span>UMBC: An Honors University in Maryland</span></a>\"                                                                                                                                                                                                                                                                                                                 \n",
      "[229] \"<a href=\\\"http://www.usmd.edu/\\\" title=\\\"Univeristy System of Maryland\\\"><span>Univeristy System of Maryland</span></a>\"                                                                                                                                                                                                                                                                                                                              \n",
      "[230] \"<a href=\\\"http://about.umbc.edu\\\">About UMBC</a>\"                                                                                                                                                                                                                                                                                                                                                                                                     \n",
      "[231] \"<a href=\\\"mailto:homepage@umbc.edu\\\">Contact Us</a>\"                                                                                                                                                                                                                                                                                                                                                                                                  \n",
      "[232] \"<a href=\\\"http://umbc.edu/go/equal-opportunity\\\">Equal Opportunity</a>\"                                                                                                                                                                                                                                                                                                                                                                               \n",
      "[233] \"<a href=\\\"https://www.facebook.com/umbcpage\\\" id=\\\"umbc-footer-facebook\\\"><span class=\\\"none\\\">Facebook</span></a> <a href=\\\"http://twitter.com/umbc\\\" id=\\\"umbc-footer-twitter\\\"><span class=\\\"none\\\">Twitter</span></a> <a href=\\\"http://www.youtube.com/user/UMBCtube\\\" id=\\\"umbc-footer-youtube\\\"><span class=\\\"none\\\">YouTube</span></a> <a href=\\\"http://alumni.umbc.edu/\\\" id=\\\"umbc-footer-rn\\\"><span class=\\\"none\\\">Retriever Net</span></a>\"\n",
      "\n"
     ]
    }
   ],
   "source": [
    "print(str_extract_all(contents,'<a href=\".*?\">.*</a>'))"
   ]
  },
  {
   "cell_type": "markdown",
   "metadata": {
    "slideshow": {
     "slide_type": "slide"
    }
   },
   "source": [
    "## Performance in R\n",
    "- R is commonly viewed as a slow language\n",
    "    - Mostly because it is\n",
    "- We can still optimized and make sure to program in an R style\n",
    "    - Avoid for loops if you can use a vectorized function\n",
    "    - S4 methods are slower than S3, which is slower than a direct function call\n",
    "    - Consider bytecode compilation"
   ]
  },
  {
   "cell_type": "markdown",
   "metadata": {
    "slideshow": {
     "slide_type": "slide"
    }
   },
   "source": [
    "## Profiling your code\n",
    "- The `microbenchmark` library provides the `microbenchmark` function\n",
    "    - Takes in several functions, runs them all, and prints statistics\n",
    "- For line-by-line profiling, use the `profvis` package\n",
    "    - Uses a web browser to show results\n",
    "  "
   ]
  },
  {
   "cell_type": "code",
   "execution_count": 57,
   "metadata": {
    "slideshow": {
     "slide_type": "slide"
    }
   },
   "outputs": [
    {
     "name": "stdout",
     "output_type": "stream",
     "text": [
      "Unit: microseconds\n",
      "                 expr     min       lq      mean   median       uq     max\n",
      "       colMeans(nums)  11.152  12.7680  15.84969  15.9755  17.4075  62.653\n",
      " apply(nums, 2, mean) 379.873 413.9685 445.47625 447.4590 465.7440 566.426\n",
      " neval cld\n",
      "   100  a \n",
      "   100   b\n"
     ]
    }
   ],
   "source": [
    "library(microbenchmark)\n",
    "nums <- matrix(c(1:5000),nrow=100)\n",
    "print(\n",
    "    microbenchmark(\n",
    "    colMeans(nums),\n",
    "    apply(nums,2,mean)\n",
    "    )\n",
    ")"
   ]
  },
  {
   "cell_type": "code",
   "execution_count": 59,
   "metadata": {
    "slideshow": {
     "slide_type": "slide"
    }
   },
   "outputs": [
    {
     "ename": "ERROR",
     "evalue": "Error in parse_rprof(prof_output, expr_source): No parsing data available. Maybe your function was too fast?\n",
     "output_type": "error",
     "traceback": [
      "Error in parse_rprof(prof_output, expr_source): No parsing data available. Maybe your function was too fast?\n"
     ]
    }
   ],
   "source": [
    "## Needs to be run in RStudio\n",
    "library(profvis)\n",
    "print(\n",
    "    profvis(\n",
    "        {\n",
    "    nums <- matrix(c(1:50000),nrow=100)  \n",
    "    apply(nums,2,mean)\n",
    "}\n",
    "    ))"
   ]
  },
  {
   "cell_type": "markdown",
   "metadata": {
    "slideshow": {
     "slide_type": "slide"
    }
   },
   "source": [
    "## Parallelism\n",
    "- Because of its functional design, R is a perfect language for parallelization\n",
    "- The library `parallel` provides a mutlicore versions of mapply and lapply,\n",
    "    - `mclapply`\n",
    "    - `mcmapply`\n",
    "    \n",
    "```R\n",
    "    mclapply(vector,function,mc.cores=N_CORES)\n",
    "    mclapply(vector,function,axis,mc.cores=N_CORES)\n",
    "    \n",
    "```"
   ]
  },
  {
   "cell_type": "code",
   "execution_count": 60,
   "metadata": {
    "slideshow": {
     "slide_type": "slide"
    }
   },
   "outputs": [
    {
     "name": "stdout",
     "output_type": "stream",
     "text": [
      "[1] 24\n"
     ]
    }
   ],
   "source": [
    "library(parallel)\n",
    "print(detectCores())"
   ]
  },
  {
   "cell_type": "code",
   "execution_count": 61,
   "metadata": {},
   "outputs": [
    {
     "name": "stdout",
     "output_type": "stream",
     "text": [
      "Unit: milliseconds\n",
      "                                                 expr       min        lq\n",
      "                  lapply(lots_of_strings, str_length) 190.71839 210.76317\n",
      " mclapply(lots_of_strings, str_length, mc.cores = 12)  77.60858  89.12278\n",
      "     mean   median       uq      max neval cld\n",
      " 234.1033 222.2979 252.8531 347.1181   100   b\n",
      " 113.6842 105.3007 124.2989 221.5851   100  a \n"
     ]
    }
   ],
   "source": [
    "seed_strings <- c(\"asdf\",\"ghhjk\",'qerwet',\n",
    "                  'uopi','zxcv','asdgf')\n",
    "lots_of_strings <- rep(seed_strings,20000)\n",
    "print(\n",
    "    microbenchmark(\n",
    "        lapply(lots_of_strings,str_length),\n",
    "        mclapply(lots_of_strings,str_length,mc.cores=12)\n",
    "    )\n",
    ")"
   ]
  },
  {
   "cell_type": "code",
   "execution_count": 62,
   "metadata": {
    "slideshow": {
     "slide_type": "slide"
    }
   },
   "outputs": [
    {
     "name": "stdout",
     "output_type": "stream",
     "text": [
      "Unit: microseconds\n",
      "                      expr       min        lq       mean     median        uq\n",
      "            colMeans(nums)    65.955    77.095   108.2953   119.7595   131.979\n",
      "      apply(nums, 2, mean)  3678.633  3925.211  5379.1383  5670.4275  6425.707\n",
      " parCapply(cl, nums, mean) 10723.515 46655.732 47832.5941 47941.8125 49219.075\n",
      "       max neval cld\n",
      "   147.574   100 a  \n",
      "  8962.301   100  b \n",
      " 56599.978   100   c\n"
     ]
    }
   ],
   "source": [
    "cl <- makeCluster(12)\n",
    "print(\n",
    "    microbenchmark(\n",
    "        colMeans(nums),\n",
    "        apply(nums,2,mean),\n",
    "        parCapply(cl,nums,mean)\n",
    "        )\n",
    "    )\n",
    "stopCluster(cl)"
   ]
  },
  {
   "cell_type": "markdown",
   "metadata": {
    "slideshow": {
     "slide_type": "slide"
    }
   },
   "source": [
    "## Presenting Data\n",
    "- R is often used in the analysis phase of research\n",
    "    - Especially to produce nice graphics\n",
    "- Packages exist that allow papers to be written in R, combined with code\n",
    "    - knitr is a very popular one"
   ]
  },
  {
   "cell_type": "markdown",
   "metadata": {
    "slideshow": {
     "slide_type": "slide"
    }
   },
   "source": [
    "## KnitR\n",
    "- `knitR` allows a document to be written in \n",
    "    - R-style Markdown\n",
    "    - HTML\n",
    "    - LaTeX\n",
    "- R code is set off in these documents using various conventions\n",
    "- Code is executed and results displayed inline correctly"
   ]
  },
  {
   "cell_type": "code",
   "execution_count": 63,
   "metadata": {
    "slideshow": {
     "slide_type": "slide"
    }
   },
   "outputs": [
    {
     "name": "stderr",
     "output_type": "stream",
     "text": [
      "\n",
      "\n",
      "processing file: 005-latex.Rtex\n"
     ]
    },
    {
     "name": "stdout",
     "output_type": "stream",
     "text": [
      "  |......                                                           |   9%\n",
      "  ordinary text without R code\n",
      "\n",
      "  |............                                                     |  18%\n",
      "label: setup (with options) \n",
      "List of 1\n",
      " $ include: logi FALSE\n",
      "\n",
      "  |..................                                               |  27%\n",
      "  ordinary text without R code\n",
      "\n",
      "  |........................                                         |  36%\n",
      "label: unnamed-chunk-1\n",
      "  |..............................                                   |  45%\n",
      "  ordinary text without R code\n",
      "\n",
      "  |...................................                              |  55%\n",
      "label: my-cache (with options) \n",
      "List of 1\n",
      " $ cache: logi TRUE\n",
      "\n",
      "  |.........................................                        |  64%\n",
      "   inline R code fragments\n",
      "\n",
      "  |...............................................                  |  73%\n",
      "label: cairo-scatter (with options) \n",
      "List of 4\n",
      " $ dev       : chr \"cairo_pdf\"\n",
      " $ fig.width : num 5\n",
      " $ fig.height: num 5\n",
      " $ out.width : chr \".8\\\\textwidth\"\n",
      "\n",
      "  |.....................................................            |  82%\n",
      "  ordinary text without R code\n",
      "\n",
      "  |...........................................................      |  91%\n",
      "label: unnamed-chunk-2\n",
      "  |.................................................................| 100%\n",
      "  ordinary text without R code\n",
      "\n",
      "\n"
     ]
    },
    {
     "name": "stderr",
     "output_type": "stream",
     "text": [
      "output file: 005-latex.tex\n",
      "\n"
     ]
    },
    {
     "data": {
      "text/html": [
       "'005-latex.tex'"
      ],
      "text/latex": [
       "'005-latex.tex'"
      ],
      "text/markdown": [
       "'005-latex.tex'"
      ],
      "text/plain": [
       "[1] \"005-latex.tex\""
      ]
     },
     "execution_count": 63,
     "metadata": {},
     "output_type": "execute_result"
    }
   ],
   "source": [
    "library(knitr)\n",
    "knit('005-latex.Rtex')"
   ]
  },
  {
   "cell_type": "markdown",
   "metadata": {
    "slideshow": {
     "slide_type": "slide"
    }
   },
   "source": [
    "## Loading Libraries from Non Default Locations\n",
    "- By default, R tries to install and looks for packages in a location that needs sudo access to write\n",
    "- You can change where libraries are installed by adding the `lib` parameter to `install.packages`\n",
    "- There are numerous ways to tell where to look for libraries, including in the `library` function\n",
    "    - The most consistent way is to set the environmental variable `R_LIBS_USER` in your shell before calling R"
   ]
  }
 ],
 "metadata": {
  "celltoolbar": "Slideshow",
  "kernelspec": {
   "display_name": "R",
   "language": "R",
   "name": "ir"
  },
  "language_info": {
   "codemirror_mode": "r",
   "file_extension": ".r",
   "mimetype": "text/x-r-source",
   "name": "R",
   "pygments_lexer": "r",
   "version": "3.3.2"
  }
 },
 "nbformat": 4,
 "nbformat_minor": 2
}

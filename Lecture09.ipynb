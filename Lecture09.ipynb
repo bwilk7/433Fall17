{
 "cells": [
  {
   "cell_type": "markdown",
   "metadata": {
    "slideshow": {
     "slide_type": "slide"
    }
   },
   "source": [
    "# R\n",
    "## Introduction, Variables, Data Types"
   ]
  },
  {
   "cell_type": "markdown",
   "metadata": {
    "slideshow": {
     "slide_type": "slide"
    }
   },
   "source": [
    "## Brief History\n",
    "- R was developed initially as an alternative implementation of a language known as S\n",
    "  - S first came out in 1975 and was originally developed at Bell Labs\n",
    "- Work on R began in 1993, the first paper was publish in 1996, and the language reached version 1.0 in 2000\n",
    "    - Lead by a team at the University of Auckland in New Zealand originally\n",
    "- Designed originally for statisticians, not for programmers"
   ]
  },
  {
   "cell_type": "markdown",
   "metadata": {
    "slideshow": {
     "slide_type": "slide"
    }
   },
   "source": [
    "## Running R\n",
    "- R can be run\n",
    "    - From the command line, by using the command `R`\n",
    "    - Using the shebang line `#!/usr/bin/Rscript`\n",
    "    - In jupyter using the IR kernel\n",
    "    - From inside the RStudio IDE\n"
   ]
  },
  {
   "cell_type": "markdown",
   "metadata": {
    "slideshow": {
     "slide_type": "slide"
    }
   },
   "source": [
    "## Limitations of R\n",
    "- Code is generally slower than other languages\n",
    "    - This was an acceptable trade off given the ease of use\n",
    "- Uses a lot of memory\n",
    "    - No easy way to perform calculations in chunks, although some packages are starting to provide support for this\n",
    "    - Is potentially a poor choice for big data"
   ]
  },
  {
   "cell_type": "markdown",
   "metadata": {
    "slideshow": {
     "slide_type": "slide"
    }
   },
   "source": [
    "## Assignment\n",
    "- `R` supports two assignment operators: `<-` and `=`\n",
    "- Although both are fine, most style guides and books suggest using `<-` is preferred\n",
    "    - There are many people that argue the exact oppostite however\n",
    "- `<-` Can be reversed to be written as `->` but this is not normally done"
   ]
  },
  {
   "cell_type": "code",
   "execution_count": null,
   "metadata": {
    "slideshow": {
     "slide_type": "slide"
    }
   },
   "outputs": [],
   "source": [
    "a <- 1\n",
    "b = 1\n",
    "1 -> c"
   ]
  },
  {
   "cell_type": "code",
   "execution_count": null,
   "metadata": {
    "slideshow": {
     "slide_type": "-"
    }
   },
   "outputs": [],
   "source": [
    "a == b"
   ]
  },
  {
   "cell_type": "code",
   "execution_count": null,
   "metadata": {
    "slideshow": {
     "slide_type": "-"
    }
   },
   "outputs": [],
   "source": [
    "b == c"
   ]
  },
  {
   "cell_type": "markdown",
   "metadata": {
    "slideshow": {
     "slide_type": "slide"
    }
   },
   "source": [
    "## Variable Names\n",
    "- Variables can contain letters, numbers, underscores, and the dot symbol\n",
    "    - Because of some historical weirdness, dots in `R` are often found instead of underscores\n",
    "```R\n",
    "a.long.name <- \"String\"\n",
    "```\n",
    "- The following names should not be used\n",
    "    ```\n",
    "    c, q, s, t, C, D, F, I, T\n",
    "    ```"
   ]
  },
  {
   "cell_type": "code",
   "execution_count": null,
   "metadata": {
    "slideshow": {
     "slide_type": "slide"
    }
   },
   "outputs": [],
   "source": [
    "aLongName <- 0\n",
    "a_long_name <- 0\n",
    "a.long.name <- 0"
   ]
  },
  {
   "cell_type": "code",
   "execution_count": null,
   "metadata": {},
   "outputs": [],
   "source": [
    "print(aLongName)"
   ]
  },
  {
   "cell_type": "code",
   "execution_count": null,
   "metadata": {},
   "outputs": [],
   "source": [
    "print(a_long_name)"
   ]
  },
  {
   "cell_type": "code",
   "execution_count": null,
   "metadata": {},
   "outputs": [],
   "source": [
    "print(a.long.name)"
   ]
  },
  {
   "cell_type": "markdown",
   "metadata": {
    "slideshow": {
     "slide_type": "slide"
    }
   },
   "source": [
    "## Data Types and Data Structures\n",
    "- `R` has data types, and they are important, but they take a back seat to the data structures\n",
    "    - A variable cannot be scalar in `R`\n",
    "- The simplest data structure are `vector`s \n",
    "    - Every assignment that seems like a single number, string, etc. is actually a single element vector"
   ]
  },
  {
   "cell_type": "code",
   "execution_count": null,
   "metadata": {
    "slideshow": {
     "slide_type": "slide"
    }
   },
   "outputs": [],
   "source": [
    "num <- 1\n",
    "print(num)"
   ]
  },
  {
   "cell_type": "code",
   "execution_count": null,
   "metadata": {},
   "outputs": [],
   "source": [
    "string <- \"String\"\n",
    "print(string)"
   ]
  },
  {
   "cell_type": "code",
   "execution_count": null,
   "metadata": {},
   "outputs": [],
   "source": [
    "bool <- TRUE\n",
    "print(bool)"
   ]
  },
  {
   "cell_type": "markdown",
   "metadata": {
    "slideshow": {
     "slide_type": "slide"
    }
   },
   "source": [
    "## Data Types\n",
    "- The data types supported by `R` are:\n",
    "    - integer\n",
    "    - double\n",
    "    - complex (Uses \"i\" rather than \"j\" as seen in python)\n",
    "    - character (This can hold strings of any length)\n",
    "    - logical "
   ]
  },
  {
   "cell_type": "code",
   "execution_count": null,
   "metadata": {
    "slideshow": {
     "slide_type": "slide"
    }
   },
   "outputs": [],
   "source": [
    "#Integers must be denoted by appending \"L\" to the number\n",
    "#Otherwise they will be interpreted as a double by default\n",
    "int <- 1L\n",
    "\n",
    "#typeof() function returns the type as a string\n",
    "print(typeof(1L))\n",
    "print(typeof(1))"
   ]
  },
  {
   "cell_type": "code",
   "execution_count": null,
   "metadata": {
    "slideshow": {
     "slide_type": "slide"
    }
   },
   "outputs": [],
   "source": [
    "float.a <- 1\n",
    "float.b <- 1.01\n",
    "\n",
    "print(typeof(float.a))\n",
    "print(typeof(float.b))"
   ]
  },
  {
   "cell_type": "code",
   "execution_count": null,
   "metadata": {
    "slideshow": {
     "slide_type": "-"
    }
   },
   "outputs": [],
   "source": [
    "#Infinity and Not-a-Number are both represnted as doubles\n",
    "float.c <- NaN\n",
    "float.d <- Inf\n",
    "float.e <- -Inf\n",
    "\n",
    "print(typeof(float.c))\n",
    "print(typeof(float.d))\n",
    "print(typeof(float.e))"
   ]
  },
  {
   "cell_type": "code",
   "execution_count": null,
   "metadata": {
    "slideshow": {
     "slide_type": "slide"
    }
   },
   "outputs": [],
   "source": [
    "imaginary.a <- 1 + 1i\n",
    "imaginary.b <- 1 + 0i\n",
    "\n",
    "print(typeof(imaginary.a))\n",
    "print(typeof(imaginary.b))"
   ]
  },
  {
   "cell_type": "code",
   "execution_count": null,
   "metadata": {
    "slideshow": {
     "slide_type": "slide"
    }
   },
   "outputs": [],
   "source": [
    "string.example.1 <- \"String\"\n",
    "string.example.2 <- 'String'\n",
    "\n",
    "print(typeof(string.example.1))\n",
    "print(typeof(string.example.2))"
   ]
  },
  {
   "cell_type": "code",
   "execution_count": null,
   "metadata": {
    "slideshow": {
     "slide_type": "slide"
    }
   },
   "outputs": [],
   "source": [
    "#Logical values are typed in all uppercase letters\n",
    "logic.t <- TRUE\n",
    "logic.f <- FALSE\n",
    "\n",
    "print(typeof(logic.t))\n",
    "print(typeof(logic.f))"
   ]
  },
  {
   "cell_type": "markdown",
   "metadata": {
    "slideshow": {
     "slide_type": "slide"
    }
   },
   "source": [
    "## Testing Data Types\n",
    "- `R` has numerous predicate functions relating to data types\n",
    "- There is one for each data type\n",
    "   - `is.DATA_TYPE_NAME(x)`\n",
    "   - e.g. `is.integer(x)`\n",
    "- There is also a generic number predicate\n",
    "    - `is.numeric(x)`"
   ]
  },
  {
   "cell_type": "code",
   "execution_count": null,
   "metadata": {
    "slideshow": {
     "slide_type": "slide"
    }
   },
   "outputs": [],
   "source": [
    "print(int)\n",
    "print(is.integer(int))\n",
    "print(is.double(int))\n",
    "print(is.numeric(int))"
   ]
  },
  {
   "cell_type": "markdown",
   "metadata": {
    "slideshow": {
     "slide_type": "slide"
    }
   },
   "source": [
    "## Type Casting\n",
    "- While data types will automatically be coerced in some situations, to explicitly cast use variations of the `as` function\n",
    "    - `as.DATA_TYPE_NAME(x)`\n",
    "    - eg `as.integer(1.003)`\n",
    "- This pattern is used throughout `R`, not just with primitive data types"
   ]
  },
  {
   "cell_type": "code",
   "execution_count": null,
   "metadata": {
    "slideshow": {
     "slide_type": "slide"
    }
   },
   "outputs": [],
   "source": [
    "print(as.character(1L))\n",
    "print(as.integer(1.0004))\n",
    "print(as.integer(Inf))\n",
    "print(as.double(1L))\n",
    "print(as.complex(1))\n",
    "print(as.numeric(TRUE))"
   ]
  },
  {
   "cell_type": "markdown",
   "metadata": {
    "slideshow": {
     "slide_type": "slide"
    }
   },
   "source": [
    "## Data Structures\n",
    "- Basic Data Structures in `R` can be described by the number of dimensions supported, and the data types allowed\n",
    "- From \"Advanced R\" by Hadley Wickham\n",
    "\n",
    "| | Homogeneous | Heterogeneous |\n",
    "| - | --------------------------------- |\n",
    "| 1-D | Vector | List|\n",
    "| 2-D | Matrix | DataFrame |\n",
    "| N-D | Array | |"
   ]
  },
  {
   "cell_type": "markdown",
   "metadata": {
    "slideshow": {
     "slide_type": "slide"
    }
   },
   "source": [
    "## Vectors\n",
    "- A vector can be created by using the `c` function\n",
    "```R\n",
    "a.vector <- c(1,2,3,4)\n",
    "```\n",
    "- All elements of a vector must be the same. If multiple types are passed to the `c` function, they will be coerced"
   ]
  },
  {
   "cell_type": "code",
   "execution_count": null,
   "metadata": {
    "slideshow": {
     "slide_type": "slide"
    }
   },
   "outputs": [],
   "source": [
    "a.vector <- c(1,2,3,4)\n",
    "print(a.vector)"
   ]
  },
  {
   "cell_type": "code",
   "execution_count": null,
   "metadata": {},
   "outputs": [],
   "source": [
    "a.vector <- c(1.01,2,3,4)\n",
    "print(a.vector)"
   ]
  },
  {
   "cell_type": "code",
   "execution_count": null,
   "metadata": {
    "slideshow": {
     "slide_type": "slide"
    }
   },
   "outputs": [],
   "source": [
    "a.vector <- c(1.01,TRUE,3,4)\n",
    "print(a.vector)"
   ]
  },
  {
   "cell_type": "code",
   "execution_count": null,
   "metadata": {},
   "outputs": [],
   "source": [
    "a.vector <- c(TRUE,\"a\",3,4)\n",
    "print(a.vector)"
   ]
  },
  {
   "cell_type": "markdown",
   "metadata": {
    "slideshow": {
     "slide_type": "slide"
    }
   },
   "source": [
    "## Factors\n",
    "- Factors are vectors that are limited to certain values\n",
    "    - Represent categorical data\n",
    "    - Helpful in statistical analysis\n",
    "- A factor can be created using the `factor` function, or converting an existing vector by using `as.factor`"
   ]
  },
  {
   "cell_type": "code",
   "execution_count": null,
   "metadata": {
    "slideshow": {
     "slide_type": "slide"
    }
   },
   "outputs": [],
   "source": [
    "factor.1 <- factor(c(\"UMBC\",\"UMCP\",\"UMUC\",\"UMB\",\"UB\"))\n",
    "print(factor.1)\n",
    "cat(\"\\n\")\n",
    "factor.2 <- factor(c(\"Senior\",\"Junior\",\"Senior\",\"Junior\",\"Sophmore\"))\n",
    "print(factor.2)"
   ]
  },
  {
   "cell_type": "code",
   "execution_count": null,
   "metadata": {
    "slideshow": {
     "slide_type": "slide"
    }
   },
   "outputs": [],
   "source": [
    "# Can use the levels keyword to specify all possible values\n",
    "factor.3 <- factor(c(\"Senior\",\"Junior\",\"Senior\",\"Junior\",\"Sophmore\"),\n",
    "                    levels=c(\"Senior\",\"Junior\",\"Sophmore\",'Freshman'))\n",
    "print(factor.3)\n",
    "cat(\"\\n\")\n",
    "factor.4 <- as.factor(c(\"Senior\",\"Junior\",\"Senior\",\"Junior\",\"Sophmore\"))\n",
    "print(factor.4)"
   ]
  },
  {
   "cell_type": "markdown",
   "metadata": {
    "slideshow": {
     "slide_type": "slide"
    }
   },
   "source": [
    "## Lists\n",
    "- A list is a one dimensional (technically) data structure\n",
    "    - It can hold a mixture of any data types\n",
    "    - It can recursively hold other lists and vectors\n",
    "- Created using the `list` function\n",
    "```R\n",
    "a.list <- list(\"a\",2,3.14,FALSE)\n",
    "```"
   ]
  },
  {
   "cell_type": "code",
   "execution_count": null,
   "metadata": {
    "slideshow": {
     "slide_type": "slide"
    }
   },
   "outputs": [],
   "source": [
    "a.list <- list(\"a\", 2, 3.14, FALSE)\n",
    "\n",
    "#The str function will show the structure of a variable\n",
    "#str DOES NOT stand for string, it stands for structure\n",
    "str(a.list)\n",
    "print(a.list)"
   ]
  },
  {
   "cell_type": "code",
   "execution_count": null,
   "metadata": {
    "slideshow": {
     "slide_type": "slide"
    }
   },
   "outputs": [],
   "source": [
    "recursive.list <- list(\"a\", 2, 3.14, list(\"re\",\"cursive\"))\n",
    "str(recursive.list)"
   ]
  },
  {
   "cell_type": "code",
   "execution_count": null,
   "metadata": {
    "slideshow": {
     "slide_type": "slide"
    }
   },
   "outputs": [],
   "source": [
    "# If you try to use c recursively, there is no error\n",
    "# Everything is just flattened\n",
    "a.vector <- c(1,2,3,c(4,5))\n",
    "str(a.vector)\n",
    "\n",
    "#Applying c to an arguments including at least one list \n",
    "#coerces the entire structure to a list\n",
    "coerced.list <- c(1,2,3,list(4,5),list(6,7))\n",
    "str(coerced.list)"
   ]
  },
  {
   "cell_type": "markdown",
   "metadata": {
    "slideshow": {
     "slide_type": "slide"
    }
   },
   "source": [
    "## Attributes\n",
    "- Under the surface, R is a very object-oriented language\n",
    "    - We will talk more about creating user-defined objects in a later lecture\n",
    "- All data structures we will discuss today have attributes that can be assigned values\n",
    "- The general syntax is \n",
    "```R\n",
    "attr(OBJECT, \"ATTRIBUTE_NAME\") <- ATTRIBUTE_VALUE\n",
    "```"
   ]
  },
  {
   "cell_type": "code",
   "execution_count": null,
   "metadata": {
    "slideshow": {
     "slide_type": "slide"
    }
   },
   "outputs": [],
   "source": [
    "obj <- c(3,4,5,6)\n",
    "print(attr(obj,\"time_created\"))\n",
    "attr(obj,\"time_created\") <- date()\n",
    "print(attr(obj,\"time_created\"))\n",
    "cat(\"\\n\")\n",
    "print(attributes(obj))"
   ]
  },
  {
   "cell_type": "markdown",
   "metadata": {
    "slideshow": {
     "slide_type": "slide"
    }
   },
   "source": [
    "## Special Attributes\n",
    "- While an attribute name can be anything, a few special attributes exist that modify the behavoir (CHECK WORD) of the object\n",
    "    - Names\n",
    "    - Dimensions\n",
    "    - Class\n",
    "- These attributes are so important that they have dedicated functions to access them, and cannot be access with the `attr` function"
   ]
  },
  {
   "cell_type": "markdown",
   "metadata": {
    "slideshow": {
     "slide_type": "slide"
    }
   },
   "source": [
    "## Naming Indexes\n",
    "- An existing list or vector can be given named indices by setting the names attribute\n",
    "- Just as before, we assign into what looks like function call\n",
    "```R\n",
    "names(OBJECT) <- c(SERIES OF CHARACTERS)\n",
    "```\n",
    "- A list or vector can also be created using named indices\n",
    "```R\n",
    "VARIABLE <- c(a = 1, b = 2)\n",
    "```"
   ]
  },
  {
   "cell_type": "code",
   "execution_count": null,
   "metadata": {
    "slideshow": {
     "slide_type": "slide"
    }
   },
   "outputs": [],
   "source": [
    "scores <-  c(80,75,80,100,95,85)\n",
    "names(scores) <- c(\"Regex HW\",\"Regex Quiz\",\"Shell HW\",\"Shell Quiz\", \"R HW\", \"R Quiz\")\n",
    "print(scores)"
   ]
  },
  {
   "cell_type": "markdown",
   "metadata": {
    "slideshow": {
     "slide_type": "slide"
    }
   },
   "source": [
    "## Matrices\n",
    "- A matrix is a 2-d data structure that is homogenous in type\n",
    "    - Usually numbers, but could be boolean or characters too\n",
    "- Can by created by\n",
    "    - Using the `matrix` function\n",
    "    - Adding dimensions to an already existing vector\n",
    "    - Using the `cbind` or `rbind` functions"
   ]
  },
  {
   "cell_type": "code",
   "execution_count": null,
   "metadata": {
    "slideshow": {
     "slide_type": "slide"
    }
   },
   "outputs": [],
   "source": [
    "# Using the Matrix Function\n",
    "m <- matrix( c(1,2,3,4,5,6,7,8,9,10,11,12), nrow=3, ncol=4 )\n",
    "print(m)\n",
    "cat(\"\\n\")\n",
    "m2 <- matrix(1:12,ncol=4)\n",
    "print(m2)"
   ]
  },
  {
   "cell_type": "code",
   "execution_count": null,
   "metadata": {
    "slideshow": {
     "slide_type": "slide"
    }
   },
   "outputs": [],
   "source": [
    "#Creating a matrix of zeros\n",
    "zeros <- matrix(0,nrow=3,ncol=4)\n",
    "print(zeros)\n",
    "cat(\"\\n\")\n",
    "print(dim(zeros))"
   ]
  },
  {
   "cell_type": "code",
   "execution_count": null,
   "metadata": {
    "slideshow": {
     "slide_type": "slide"
    }
   },
   "outputs": [],
   "source": [
    "#Adding Dimensions to an existing Vector\n",
    "vec <- 1:12\n",
    "print(vec)\n",
    "print(dim(vec))\n",
    "cat(\"\\n\")\n",
    "dim(vec) <- c(3,4)\n",
    "print(vec)"
   ]
  },
  {
   "cell_type": "code",
   "execution_count": null,
   "metadata": {
    "slideshow": {
     "slide_type": "slide"
    }
   },
   "outputs": [],
   "source": [
    "#Using cbind\n",
    "m3 <- cbind(c(1,2,3),c(4,5,6),c(7,8,9),c(10,11,12))\n",
    "print(m3)\n",
    "cat(\"\\n\")\n",
    "m4 <- rbind(c(1,4,7,10),c(2,5,8,11),c(3,6,9,12))\n",
    "print(m4)"
   ]
  },
  {
   "cell_type": "markdown",
   "metadata": {
    "slideshow": {
     "slide_type": "slide"
    }
   },
   "source": [
    "## Data Frames\n",
    "- Data Frames are 2-d data structures in which a given column of the data frame must have the same type, but columns may have different types\n",
    "- Each row is like a record in a simple database\n",
    "- Is generally the most common data structure encountered in R"
   ]
  },
  {
   "cell_type": "markdown",
   "metadata": {
    "slideshow": {
     "slide_type": "slide"
    }
   },
   "source": [
    "## Creating a Data Frame\n",
    "- While Data Frames are often created by reading directly from a file, it is also possible to create them programmatically. \n",
    "- The general syntax is \n",
    "```R\n",
    "df <- data.frame(COL1 = c(VALUES FOR COL 1),\n",
    "                 COL2 = c(VALUES FOR COl2), ..., \n",
    "                 COL_N = c(VALUES FOR COL_N))\n",
    "```"
   ]
  },
  {
   "cell_type": "code",
   "execution_count": null,
   "metadata": {
    "slideshow": {
     "slide_type": "slide"
    }
   },
   "outputs": [],
   "source": [
    "df <- data.frame(name=c(\"UMBC\",\"UMCP\",\"Towson\"),\n",
    "                 zipcode=c(21250,20742,21252),\n",
    "                 undergrad=c(11142,28472,19596),\n",
    "                 graduate=c(2498,10611,3109))\n",
    "print(df)"
   ]
  },
  {
   "cell_type": "markdown",
   "metadata": {
    "slideshow": {
     "slide_type": "slide"
    }
   },
   "source": [
    "## Common Functions on a Data Frame\n",
    "- The function `nrow` returns the number of rows in the data frame\n",
    "- The functions `ncol` and `length` both return the number of columns\n",
    "- The names of the the rows can be accessed and changed using the `row.names` function"
   ]
  },
  {
   "cell_type": "code",
   "execution_count": null,
   "metadata": {
    "slideshow": {
     "slide_type": "slide"
    }
   },
   "outputs": [],
   "source": [
    "print(nrow(df))\n",
    "print(ncol(df))\n",
    "row.names(df) <- c('A','B','C')\n",
    "print(df)"
   ]
  },
  {
   "cell_type": "markdown",
   "metadata": {
    "slideshow": {
     "slide_type": "slide"
    }
   },
   "source": [
    "## Reading Data\n",
    "- `R` has many built in functions to read data files into data frames\n",
    "    - `read.table` reads a space separated file by default, and is the base to many other functions\n",
    "    - `read.csv2` reads a comma separated values file, is actually just a call to read.table\n",
    "- `R` supports many other formats through various libraries\n",
    "    - One of the most common libraries is `foreign` which reads in data from many similar languages to `R`"
   ]
  },
  {
   "cell_type": "code",
   "execution_count": null,
   "metadata": {
    "slideshow": {
     "slide_type": "slide"
    }
   },
   "outputs": [],
   "source": [
    "usm <- read.table(\"usm.tsv\")\n",
    "print(usm)"
   ]
  },
  {
   "cell_type": "code",
   "execution_count": null,
   "metadata": {},
   "outputs": [],
   "source": [
    "usm2 <- read.csv(\"usm.csv\",row.names=1)\n",
    "print(usm2)"
   ]
  },
  {
   "cell_type": "markdown",
   "metadata": {
    "slideshow": {
     "slide_type": "slide"
    }
   },
   "source": [
    "## Writing Data\n",
    "- `R` similarly supports many different formats in which to write data to a file\n",
    "    - `write.table`\n",
    "    - `write.csv`\n",
    "- By default, column and row names are printed to the file, to remove them set `col.names` or `row.names` to FALSE"
   ]
  },
  {
   "cell_type": "code",
   "execution_count": null,
   "metadata": {
    "slideshow": {
     "slide_type": "slide"
    }
   },
   "outputs": [],
   "source": [
    "write.csv(usm2,'usm2.csv')"
   ]
  },
  {
   "cell_type": "code",
   "execution_count": null,
   "metadata": {},
   "outputs": [],
   "source": [
    "write.csv(usm2,'usm2.csv',append=TRUE,col.names=FALSE)"
   ]
  },
  {
   "cell_type": "code",
   "execution_count": null,
   "metadata": {},
   "outputs": [],
   "source": [
    "write.table(usm2,'usm2.csv',sep=\",\",append=TRUE,col.names=FALSE)"
   ]
  },
  {
   "cell_type": "markdown",
   "metadata": {
    "slideshow": {
     "slide_type": "slide"
    }
   },
   "source": [
    "## Math\n",
    "- Standard operations of +,-,\\*,/, and ^\n",
    "- Modulus operator is %%\n",
    "- Integer division is %/%\n",
    "- Square root and absolute value are part of R's base package"
   ]
  },
  {
   "cell_type": "code",
   "execution_count": null,
   "metadata": {
    "slideshow": {
     "slide_type": "slide"
    }
   },
   "outputs": [],
   "source": [
    "#Addition\n",
    "print(1 + 1)\n",
    "print(1 + 1.0)\n",
    "print(1 + 1i + 2)\n",
    "print(2 + 1 + 3i)\n",
    "print(2 + 3i + 4 + 5i)"
   ]
  },
  {
   "cell_type": "code",
   "execution_count": null,
   "metadata": {
    "slideshow": {
     "slide_type": "slide"
    }
   },
   "outputs": [],
   "source": [
    "#Subtraction\n",
    "print(3-2)\n",
    "print(0-3)"
   ]
  },
  {
   "cell_type": "code",
   "execution_count": null,
   "metadata": {
    "slideshow": {
     "slide_type": "-"
    }
   },
   "outputs": [],
   "source": [
    "#Multiplication\n",
    "print(3 * 4)\n",
    "print(3 * .12)"
   ]
  },
  {
   "cell_type": "code",
   "execution_count": null,
   "metadata": {
    "slideshow": {
     "slide_type": "slide"
    }
   },
   "outputs": [],
   "source": [
    "#Division\n",
    "print(3/4)\n",
    "print(0/4)\n",
    "print(0/0)\n",
    "print(3/0)\n",
    "print(-3/0)"
   ]
  },
  {
   "cell_type": "code",
   "execution_count": null,
   "metadata": {
    "slideshow": {
     "slide_type": "slide"
    }
   },
   "outputs": [],
   "source": [
    "# Integer Division\n",
    "print(3 %/% 4)\n",
    "print(12 %/% 5)\n",
    "print(3 %/% 0)\n",
    "print(0 %/% 0)"
   ]
  },
  {
   "cell_type": "code",
   "execution_count": null,
   "metadata": {
    "slideshow": {
     "slide_type": "slide"
    }
   },
   "outputs": [],
   "source": [
    "#Modulus\n",
    "\n",
    "print(3 %% 3)\n",
    "print(10 %% 3)\n",
    "print(0 %% 0)\n",
    "print(3 %% 0)"
   ]
  },
  {
   "cell_type": "code",
   "execution_count": null,
   "metadata": {
    "slideshow": {
     "slide_type": "-"
    }
   },
   "outputs": [],
   "source": [
    "print(3 ^ 3)\n",
    "print(9 ^ 0.5)\n",
    "print(10 ^ -2)"
   ]
  },
  {
   "cell_type": "markdown",
   "metadata": {
    "slideshow": {
     "slide_type": "slide"
    }
   },
   "source": [
    "## High-Dimensional Math\n",
    "- Mathmatical operation on higher dimensional data structures is navtively part of `R`\n",
    "- For scalar operations, like mutiplying every value by 2, the dimensionality doesn't matter\n",
    "    - For operations involving two data frames, two matrices, etc. the size should match to prevent unintended outcomes\n",
    "- In addition, both matrices and data.frames can be transposed using the `t` function"
   ]
  },
  {
   "cell_type": "code",
   "execution_count": null,
   "metadata": {
    "slideshow": {
     "slide_type": "slide"
    }
   },
   "outputs": [],
   "source": [
    "#Vector / Scalar Math\n",
    "vec <- 1:5\n",
    "print(vec * 2)\n",
    "print(vec / 10)\n",
    "print(vec + 1)"
   ]
  },
  {
   "cell_type": "code",
   "execution_count": null,
   "metadata": {
    "slideshow": {
     "slide_type": "slide"
    }
   },
   "outputs": [],
   "source": [
    "#Vector addition\n",
    "vec2 <- 10:15\n",
    "print(vec + vec2)\n",
    "vec2 <- 11:15\n",
    "print(vec + vec2)"
   ]
  },
  {
   "cell_type": "code",
   "execution_count": null,
   "metadata": {
    "slideshow": {
     "slide_type": "slide"
    }
   },
   "outputs": [],
   "source": [
    "#Element-wise multiplication\n",
    "print(vec * vec2)\n",
    "cat(\"\\n\")\n",
    "#Dot Product\n",
    "print(vec %*% vec2)\n"
   ]
  },
  {
   "cell_type": "code",
   "execution_count": null,
   "metadata": {
    "slideshow": {
     "slide_type": "slide"
    }
   },
   "outputs": [],
   "source": [
    "#Matrix / Vector Operations\n",
    "mat <- matrix(1:20,nrow=5)\n",
    "print(mat)\n",
    "print(mat / vec)"
   ]
  },
  {
   "cell_type": "code",
   "execution_count": null,
   "metadata": {
    "slideshow": {
     "slide_type": "slide"
    }
   },
   "outputs": [],
   "source": [
    "#Matrix / Vector Operations\n",
    "mat2 <- matrix(1:20,nrow=4)\n",
    "print(mat2)\n",
    "print(mat2 / vec)"
   ]
  },
  {
   "cell_type": "code",
   "execution_count": null,
   "metadata": {
    "slideshow": {
     "slide_type": "slide"
    }
   },
   "outputs": [],
   "source": [
    "#DataFrame Operations\n",
    "print(usm)\n",
    "cat(\"\\n\")\n",
    "print(usm * 2)"
   ]
  },
  {
   "cell_type": "code",
   "execution_count": null,
   "metadata": {
    "slideshow": {
     "slide_type": "slide"
    }
   },
   "outputs": [],
   "source": [
    "#Transposition\n",
    "print(t(mat))\n",
    "cat(\"\\n\")\n",
    "#What is the datastructure returned by this function?\n",
    "print(t(usm))"
   ]
  },
  {
   "cell_type": "markdown",
   "metadata": {
    "slideshow": {
     "slide_type": "slide"
    }
   },
   "source": [
    "## Boolean Comparison\n",
    "- `R` supports the standard boolean operators of `<, >, <=, >=, == !=`\n",
    "    - The and an or operators are `&` and `|` respectively\n",
    "- When used between vectors or matrices, returns a object of the same size filled with boolean values"
   ]
  },
  {
   "cell_type": "code",
   "execution_count": null,
   "metadata": {
    "slideshow": {
     "slide_type": "slide"
    }
   },
   "outputs": [],
   "source": [
    "##Standard Scalar Comparison\n",
    "print(3 == 4)\n",
    "print(3 < 4)\n",
    "print(3 < 4 & 5 < 10)\n",
    "print(3 == 4 | 4 != 4)"
   ]
  },
  {
   "cell_type": "code",
   "execution_count": null,
   "metadata": {
    "slideshow": {
     "slide_type": "slide"
    }
   },
   "outputs": [],
   "source": [
    "## Comparing Data Structures\n",
    "print(vec)\n",
    "print(vec2)\n",
    "cat(\"\\n\")\n",
    "print(vec == vec2)\n",
    "print(vec < vec2)"
   ]
  },
  {
   "cell_type": "code",
   "execution_count": null,
   "metadata": {
    "slideshow": {
     "slide_type": "slide"
    }
   },
   "outputs": [],
   "source": [
    "#Vector and Matrix Comparison\n",
    "print(vec)\n",
    "print(mat)\n",
    "cat(\"\\n\")\n",
    "print(vec == mat)"
   ]
  },
  {
   "cell_type": "markdown",
   "metadata": {
    "slideshow": {
     "slide_type": "slide"
    }
   },
   "source": [
    "## Subsetting Vectors\n",
    "- **Indexing starts at 1!**\n",
    "- Subsetting is done using square brackets (**[ ]**)\n",
    "- Subsetting is most commonly done with a vector of\n",
    "    - Positive Integers\n",
    "    - Negative Integers\n",
    "    - Boolean Values"
   ]
  },
  {
   "cell_type": "markdown",
   "metadata": {
    "slideshow": {
     "slide_type": "slide"
    }
   },
   "source": [
    "## Positive Integer Subsetting\n",
    "- Positive integers denote which values to return"
   ]
  },
  {
   "cell_type": "code",
   "execution_count": null,
   "metadata": {
    "slideshow": {
     "slide_type": "-"
    }
   },
   "outputs": [],
   "source": [
    "print(vec)\n",
    "print(vec[1])\n",
    "print(vec[2:3])\n",
    "print(vec[c(1,5)])\n",
    "#Can repeat indices\n",
    "print(vec[c(2,2)])"
   ]
  },
  {
   "cell_type": "markdown",
   "metadata": {
    "slideshow": {
     "slide_type": "slide"
    }
   },
   "source": [
    "## Positive Integer Subsetting\n",
    "- Negative integers denote which values to *not* return"
   ]
  },
  {
   "cell_type": "code",
   "execution_count": null,
   "metadata": {
    "slideshow": {
     "slide_type": "-"
    }
   },
   "outputs": [],
   "source": [
    "print(vec)\n",
    "print(vec[-1])\n",
    "print(vec[-2:-3])\n",
    "print(vec[c(-1,-5)])"
   ]
  },
  {
   "cell_type": "markdown",
   "metadata": {
    "slideshow": {
     "slide_type": "slide"
    }
   },
   "source": [
    "## Boolean Value Subsetting\n",
    "- Values are returned when the subsetting vector contains TRUE\n",
    "- To prevent unexpected errors, the vector used to subset should be the same length as the vector being indexed into\n",
    "    - If the index vector is shorter than the vector being indexed, the values will repeat as many times as necessary"
   ]
  },
  {
   "cell_type": "code",
   "execution_count": null,
   "metadata": {
    "slideshow": {
     "slide_type": "slide"
    }
   },
   "outputs": [],
   "source": [
    "# Explicit Boolean Subsetting\n",
    "print(vec)\n",
    "print(vec[c(TRUE,FALSE,TRUE,FALSE,TRUE)])\n",
    "cat(\"\\n\")\n",
    "#Using an expression\n",
    "print(vec[vec %% 2 == 0])"
   ]
  },
  {
   "cell_type": "markdown",
   "metadata": {
    "slideshow": {
     "slide_type": "slide"
    }
   },
   "source": [
    "## Subsetting Lists\n",
    "- Subsetting a list with the [] operator will return another list\n",
    "    - To return a specific value (as a vector) use **[[]]**\n",
    "- The dollar operator is an alias for **[[]]**, but only **[[]]** can use a variable to do the subsetting"
   ]
  },
  {
   "cell_type": "code",
   "execution_count": null,
   "metadata": {
    "slideshow": {
     "slide_type": "slide"
    }
   },
   "outputs": [],
   "source": [
    "#Returns a list\n",
    "li <- list(a=1,b=2,c=3,d=4,e=5)\n",
    "print(li[2])\n",
    "print(li[[2]])\n",
    "print(li[['b']])\n",
    "print(li$b)\n",
    "idx <- 'b'\n",
    "cat(\"\\n\")\n",
    "print(li[[idx]])\n",
    "print(li$idx)\n"
   ]
  },
  {
   "cell_type": "markdown",
   "metadata": {
    "slideshow": {
     "slide_type": "slide"
    }
   },
   "source": [
    "## Subsetting Matrices\n",
    "- Matrices can also be subset using the **[]** operator\n",
    "    - With matrices, two indices can be provided, in the order of row,column\n",
    "    - If just one is provided, it treats the matrix like a vector\n"
   ]
  },
  {
   "cell_type": "code",
   "execution_count": null,
   "metadata": {
    "slideshow": {
     "slide_type": "slide"
    }
   },
   "outputs": [],
   "source": [
    "print(mat)\n",
    "cat(\"\\n\")\n",
    "print(mat[5])\n",
    "print(mat[5,])\n",
    "print(mat[,4])\n",
    "print(mat[5,4])"
   ]
  },
  {
   "cell_type": "markdown",
   "metadata": {
    "slideshow": {
     "slide_type": "slide"
    }
   },
   "source": [
    "## Subsetting Data Frames\n",
    "- Subsetting Data Frames is very similar to matrices, but passing one index considered a column\n",
    "    - The $ operator as used with lists can also be used to refer to a specific column\n",
    "- Rows (or observations) are selected by adding a comma after the row indices"
   ]
  },
  {
   "cell_type": "code",
   "execution_count": null,
   "metadata": {
    "slideshow": {
     "slide_type": "slide"
    }
   },
   "outputs": [],
   "source": [
    "print(usm[1])\n",
    "cat(\"\\n\")\n",
    "print(usm['Name'])\n",
    "#This is a vector rather than a one column DF\n",
    "print(usm$Name)"
   ]
  },
  {
   "cell_type": "code",
   "execution_count": null,
   "metadata": {
    "slideshow": {
     "slide_type": "slide"
    }
   },
   "outputs": [],
   "source": [
    "print(usm[usm['Undergraduate.Enrollment'] > 10000,])\n",
    "print(usm[usm['Undergraduate.Enrollment'] > 10000,'Name'])"
   ]
  },
  {
   "cell_type": "markdown",
   "metadata": {
    "slideshow": {
     "slide_type": "slide"
    }
   },
   "source": [
    "## R's built-in help system\n",
    "- `R` has excellent built in help capabilities\n",
    "    - To access the documentation for a specific function, type `?FUNCTION_NAME`\n",
    "    - To search all helpfiles for a keyword, use the `??` function\n",
    "- Typing a function without any arguments or parentheses will at a minimum show you the signature of the function\n",
    "    - If code is not compiled, the code of the function will be displayed too"
   ]
  },
  {
   "cell_type": "code",
   "execution_count": null,
   "metadata": {
    "slideshow": {
     "slide_type": "slide"
    }
   },
   "outputs": [],
   "source": [
    "?read.table"
   ]
  },
  {
   "cell_type": "code",
   "execution_count": null,
   "metadata": {
    "slideshow": {
     "slide_type": "slide"
    }
   },
   "outputs": [],
   "source": [
    "read.table"
   ]
  }
 ],
 "metadata": {
  "celltoolbar": "Slideshow",
  "kernelspec": {
   "display_name": "R",
   "language": "R",
   "name": "ir"
  },
  "language_info": {
   "codemirror_mode": "r",
   "file_extension": ".r",
   "mimetype": "text/x-r-source",
   "name": "R",
   "pygments_lexer": "r",
   "version": "3.3.2"
  }
 },
 "nbformat": 4,
 "nbformat_minor": 2
}

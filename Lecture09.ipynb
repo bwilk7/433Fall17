{
 "cells": [
  {
   "cell_type": "markdown",
   "metadata": {
    "slideshow": {
     "slide_type": "slide"
    }
   },
   "source": [
    "# R\n",
    "## Introduction, Variables, Data Types"
   ]
  },
  {
   "cell_type": "markdown",
   "metadata": {
    "slideshow": {
     "slide_type": "slide"
    }
   },
   "source": [
    "## Brief History\n",
    "- R was developed initially as an alternative implementation of a language known as S\n",
    "  - S first came out in 1975 and was originally developed at Bell Labs\n",
    "- Work on R began in 1993, the first paper was publish in 1996, and the language reached version 1.0 in 2000\n",
    "    - Lead by a team at the University of Auckland in New Zealand originally\n",
    "- Designed originally for statisticians, not for programmers"
   ]
  },
  {
   "cell_type": "markdown",
   "metadata": {
    "slideshow": {
     "slide_type": "slide"
    }
   },
   "source": [
    "## Running R\n",
    "- R can be run\n",
    "    - From the command line, by using the command `R`\n",
    "    - Using the shebang line `#!/usr/bin/Rscript`\n",
    "    - In jupyter using the IR kernel\n",
    "    - From inside the RStudio IDE\n"
   ]
  },
  {
   "cell_type": "markdown",
   "metadata": {
    "slideshow": {
     "slide_type": "slide"
    }
   },
   "source": [
    "## Limitations of R\n",
    "- Code is generally slower than other languages\n",
    "    - This was an acceptable trade off given the ease of use\n",
    "- Uses a lot of memory\n",
    "    - No easy way to perform calculations in chunks, although some packages are starting to provide support for this\n",
    "    - Is potentially a poor choice for big data"
   ]
  },
  {
   "cell_type": "markdown",
   "metadata": {
    "slideshow": {
     "slide_type": "slide"
    }
   },
   "source": [
    "## Assignment\n",
    "- `R` supports two assignment operators: `<-` and `=`\n",
    "- Although both are fine, most style guides and books suggest using `<-` is preferred\n",
    "    - There are many people that argue the exact oppostite however\n",
    "- `<-` Can be reversed to be written as `->` but this is not normally done"
   ]
  },
  {
   "cell_type": "code",
   "execution_count": 1,
   "metadata": {
    "slideshow": {
     "slide_type": "slide"
    }
   },
   "outputs": [],
   "source": [
    "a <- 1\n",
    "b = 1\n",
    "1 -> c"
   ]
  },
  {
   "cell_type": "code",
   "execution_count": 2,
   "metadata": {
    "slideshow": {
     "slide_type": "-"
    }
   },
   "outputs": [
    {
     "data": {
      "text/html": [
       "TRUE"
      ],
      "text/latex": [
       "TRUE"
      ],
      "text/markdown": [
       "TRUE"
      ],
      "text/plain": [
       "[1] TRUE"
      ]
     },
     "execution_count": 2,
     "metadata": {},
     "output_type": "execute_result"
    }
   ],
   "source": [
    "a == b"
   ]
  },
  {
   "cell_type": "code",
   "execution_count": 3,
   "metadata": {
    "slideshow": {
     "slide_type": "-"
    }
   },
   "outputs": [
    {
     "data": {
      "text/html": [
       "TRUE"
      ],
      "text/latex": [
       "TRUE"
      ],
      "text/markdown": [
       "TRUE"
      ],
      "text/plain": [
       "[1] TRUE"
      ]
     },
     "execution_count": 3,
     "metadata": {},
     "output_type": "execute_result"
    }
   ],
   "source": [
    "b == c"
   ]
  },
  {
   "cell_type": "markdown",
   "metadata": {
    "slideshow": {
     "slide_type": "slide"
    }
   },
   "source": [
    "## Variable Names\n",
    "- Variables can contain letters, numbers, underscores, and the dot symbol\n",
    "    - Because of some historical weirdness, dots in `R` are often found instead of underscores\n",
    "```R\n",
    "a.long.name <- \"String\"\n",
    "```\n",
    "- The following names should not be used\n",
    "    ```\n",
    "    c, q, s, t, C, D, F, I, T\n",
    "    ```"
   ]
  },
  {
   "cell_type": "code",
   "execution_count": 4,
   "metadata": {
    "slideshow": {
     "slide_type": "slide"
    }
   },
   "outputs": [],
   "source": [
    "aLongName <- 0\n",
    "a_long_name <- 0\n",
    "a.long.name <- 0"
   ]
  },
  {
   "cell_type": "code",
   "execution_count": 5,
   "metadata": {},
   "outputs": [
    {
     "name": "stdout",
     "output_type": "stream",
     "text": [
      "[1] 0\n"
     ]
    }
   ],
   "source": [
    "print(aLongName)"
   ]
  },
  {
   "cell_type": "code",
   "execution_count": 6,
   "metadata": {},
   "outputs": [
    {
     "name": "stdout",
     "output_type": "stream",
     "text": [
      "[1] 0\n"
     ]
    }
   ],
   "source": [
    "print(a_long_name)"
   ]
  },
  {
   "cell_type": "code",
   "execution_count": 7,
   "metadata": {},
   "outputs": [
    {
     "name": "stdout",
     "output_type": "stream",
     "text": [
      "[1] 0\n"
     ]
    }
   ],
   "source": [
    "print(a.long.name)"
   ]
  },
  {
   "cell_type": "markdown",
   "metadata": {
    "slideshow": {
     "slide_type": "slide"
    }
   },
   "source": [
    "## Data Types and Data Structures\n",
    "- `R` has data types, and they are important, but they take a back seat to the data structures\n",
    "    - A variable cannot be scalar in `R`\n",
    "- The simplest data structure are `vector`s \n",
    "    - Every assignment that seems like a single number, string, etc. is actually a single element vector"
   ]
  },
  {
   "cell_type": "code",
   "execution_count": 8,
   "metadata": {
    "slideshow": {
     "slide_type": "slide"
    }
   },
   "outputs": [
    {
     "name": "stdout",
     "output_type": "stream",
     "text": [
      "[1] 1\n"
     ]
    }
   ],
   "source": [
    "num <- 1\n",
    "print(num)"
   ]
  },
  {
   "cell_type": "code",
   "execution_count": 9,
   "metadata": {},
   "outputs": [
    {
     "name": "stdout",
     "output_type": "stream",
     "text": [
      "[1] \"String\"\n"
     ]
    }
   ],
   "source": [
    "string <- \"String\"\n",
    "print(string)"
   ]
  },
  {
   "cell_type": "code",
   "execution_count": 10,
   "metadata": {},
   "outputs": [
    {
     "name": "stdout",
     "output_type": "stream",
     "text": [
      "[1] TRUE\n"
     ]
    }
   ],
   "source": [
    "bool <- TRUE\n",
    "print(bool)"
   ]
  },
  {
   "cell_type": "markdown",
   "metadata": {
    "slideshow": {
     "slide_type": "slide"
    }
   },
   "source": [
    "## Data Types\n",
    "- The data types supported by `R` are:\n",
    "    - integer\n",
    "    - double\n",
    "    - complex (Uses \"i\" rather than \"j\" as seen in python)\n",
    "    - character (This can hold strings of any length)\n",
    "    - logical "
   ]
  },
  {
   "cell_type": "code",
   "execution_count": 11,
   "metadata": {
    "slideshow": {
     "slide_type": "slide"
    }
   },
   "outputs": [
    {
     "name": "stdout",
     "output_type": "stream",
     "text": [
      "[1] \"integer\"\n",
      "[1] \"double\"\n"
     ]
    }
   ],
   "source": [
    "#Integers must be denoted by appending \"L\" to the number\n",
    "#Otherwise they will be interpreted as a double by default\n",
    "int <- 1L\n",
    "\n",
    "#typeof() function returns the type as a string\n",
    "print(typeof(1L))\n",
    "print(typeof(1))"
   ]
  },
  {
   "cell_type": "code",
   "execution_count": 12,
   "metadata": {
    "slideshow": {
     "slide_type": "slide"
    }
   },
   "outputs": [
    {
     "name": "stdout",
     "output_type": "stream",
     "text": [
      "[1] \"double\"\n",
      "[1] \"double\"\n"
     ]
    }
   ],
   "source": [
    "float.a <- 1\n",
    "float.b <- 1.01\n",
    "\n",
    "print(typeof(float.a))\n",
    "print(typeof(float.b))"
   ]
  },
  {
   "cell_type": "code",
   "execution_count": 13,
   "metadata": {
    "slideshow": {
     "slide_type": "-"
    }
   },
   "outputs": [
    {
     "name": "stdout",
     "output_type": "stream",
     "text": [
      "[1] \"double\"\n",
      "[1] \"double\"\n",
      "[1] \"double\"\n"
     ]
    }
   ],
   "source": [
    "#Infinity and Not-a-Number are both represnted as doubles\n",
    "float.c <- NaN\n",
    "float.d <- Inf\n",
    "float.e <- -Inf\n",
    "\n",
    "print(typeof(float.c))\n",
    "print(typeof(float.d))\n",
    "print(typeof(float.e))"
   ]
  },
  {
   "cell_type": "code",
   "execution_count": 14,
   "metadata": {
    "slideshow": {
     "slide_type": "slide"
    }
   },
   "outputs": [
    {
     "name": "stdout",
     "output_type": "stream",
     "text": [
      "[1] \"complex\"\n",
      "[1] \"complex\"\n"
     ]
    }
   ],
   "source": [
    "imaginary.a <- 1 + 1i\n",
    "imaginary.b <- 1 + 0i\n",
    "\n",
    "print(typeof(imaginary.a))\n",
    "print(typeof(imaginary.b))"
   ]
  },
  {
   "cell_type": "code",
   "execution_count": 16,
   "metadata": {
    "slideshow": {
     "slide_type": "slide"
    }
   },
   "outputs": [
    {
     "name": "stdout",
     "output_type": "stream",
     "text": [
      "[1] \"character\"\n",
      "[1] \"character\"\n",
      "[1] \"double\"\n"
     ]
    }
   ],
   "source": [
    "string.example.1 <- \"String\"\n",
    "string.example.2 <- 'String'\n",
    "\n",
    "print(typeof(string.example.1))\n",
    "print(typeof(string.example.2))\n",
    "\n",
    "string.example.2 <- 1\n",
    "print(typeof(string.example.2))"
   ]
  },
  {
   "cell_type": "code",
   "execution_count": 17,
   "metadata": {
    "slideshow": {
     "slide_type": "slide"
    }
   },
   "outputs": [
    {
     "name": "stdout",
     "output_type": "stream",
     "text": [
      "[1] \"logical\"\n",
      "[1] \"logical\"\n"
     ]
    }
   ],
   "source": [
    "#Logical values are typed in all uppercase letters\n",
    "logic.t <- TRUE\n",
    "logic.f <- FALSE\n",
    "\n",
    "print(typeof(logic.t))\n",
    "print(typeof(logic.f))"
   ]
  },
  {
   "cell_type": "markdown",
   "metadata": {
    "slideshow": {
     "slide_type": "slide"
    }
   },
   "source": [
    "## Testing Data Types\n",
    "- `R` has numerous predicate functions relating to data types\n",
    "- There is one for each data type\n",
    "   - `is.DATA_TYPE_NAME(x)`\n",
    "   - e.g. `is.integer(x)`\n",
    "- There is also a generic number predicate\n",
    "    - `is.numeric(x)`"
   ]
  },
  {
   "cell_type": "code",
   "execution_count": 19,
   "metadata": {
    "slideshow": {
     "slide_type": "slide"
    }
   },
   "outputs": [
    {
     "name": "stdout",
     "output_type": "stream",
     "text": [
      "[1] 1\n",
      "[1] TRUE\n",
      "[1] FALSE\n",
      "[1] TRUE\n",
      "[1] FALSE\n"
     ]
    }
   ],
   "source": [
    "print(int)\n",
    "print(is.integer(int))\n",
    "print(is.double(int))\n",
    "print(is.numeric(int))\n",
    "print(is.numeric(\"1\"))"
   ]
  },
  {
   "cell_type": "markdown",
   "metadata": {
    "slideshow": {
     "slide_type": "slide"
    }
   },
   "source": [
    "## Type Casting\n",
    "- While data types will automatically be coerced in some situations, to explicitly cast use variations of the `as` function\n",
    "    - `as.DATA_TYPE_NAME(x)`\n",
    "    - eg `as.integer(1.003)`\n",
    "- This pattern is used throughout `R`, not just with primitive data types"
   ]
  },
  {
   "cell_type": "code",
   "execution_count": 20,
   "metadata": {
    "slideshow": {
     "slide_type": "slide"
    }
   },
   "outputs": [
    {
     "name": "stdout",
     "output_type": "stream",
     "text": [
      "[1] \"1\"\n",
      "[1] 1\n"
     ]
    },
    {
     "name": "stderr",
     "output_type": "stream",
     "text": [
      "Warning message:\n",
      "In print(as.integer(Inf)): NAs introduced by coercion to integer range"
     ]
    },
    {
     "name": "stdout",
     "output_type": "stream",
     "text": [
      "[1] NA\n",
      "[1] 1\n",
      "[1] 1+0i\n",
      "[1] 1\n"
     ]
    }
   ],
   "source": [
    "print(as.character(1L))\n",
    "print(as.integer(1.0004))\n",
    "print(as.integer(Inf))\n",
    "print(as.double(1L))\n",
    "print(as.complex(1))\n",
    "print(as.numeric(TRUE))"
   ]
  },
  {
   "cell_type": "markdown",
   "metadata": {
    "slideshow": {
     "slide_type": "slide"
    }
   },
   "source": [
    "## Data Structures\n",
    "- Basic Data Structures in `R` can be described by the number of dimensions supported, and the data types allowed\n",
    "- From \"Advanced R\" by Hadley Wickham\n",
    "\n",
    "| | Homogeneous | Heterogeneous |\n",
    "| - | --------------------------------- |\n",
    "| 1-D | Vector | List|\n",
    "| 2-D | Matrix | DataFrame |\n",
    "| N-D | Array | |"
   ]
  },
  {
   "cell_type": "markdown",
   "metadata": {
    "slideshow": {
     "slide_type": "slide"
    }
   },
   "source": [
    "## Vectors\n",
    "- A vector can be created by using the `c` function\n",
    "```R\n",
    "a.vector <- c(1,2,3,4)\n",
    "```\n",
    "- All elements of a vector must be the same. If multiple types are passed to the `c` function, they will be coerced"
   ]
  },
  {
   "cell_type": "code",
   "execution_count": 21,
   "metadata": {
    "slideshow": {
     "slide_type": "slide"
    }
   },
   "outputs": [
    {
     "name": "stdout",
     "output_type": "stream",
     "text": [
      "[1] 1 2 3 4\n"
     ]
    }
   ],
   "source": [
    "a.vector <- c(1,2,3,4)\n",
    "print(a.vector)"
   ]
  },
  {
   "cell_type": "code",
   "execution_count": 23,
   "metadata": {},
   "outputs": [
    {
     "name": "stdout",
     "output_type": "stream",
     "text": [
      "[1] 1.001 2.000 3.000 4.000\n"
     ]
    }
   ],
   "source": [
    "a.vector <- c(1.001,2,3,4)\n",
    "print(a.vector)"
   ]
  },
  {
   "cell_type": "code",
   "execution_count": 24,
   "metadata": {
    "slideshow": {
     "slide_type": "slide"
    }
   },
   "outputs": [
    {
     "name": "stdout",
     "output_type": "stream",
     "text": [
      "[1] 1.01 1.00 3.00 4.00\n"
     ]
    }
   ],
   "source": [
    "a.vector <- c(1.01,TRUE,3,4)\n",
    "print(a.vector)"
   ]
  },
  {
   "cell_type": "code",
   "execution_count": 25,
   "metadata": {},
   "outputs": [
    {
     "name": "stdout",
     "output_type": "stream",
     "text": [
      "[1] \"TRUE\" \"a\"    \"3\"    \"4\"   \n"
     ]
    }
   ],
   "source": [
    "a.vector <- c(TRUE,\"a\",3,4)\n",
    "print(a.vector)"
   ]
  },
  {
   "cell_type": "markdown",
   "metadata": {
    "slideshow": {
     "slide_type": "slide"
    }
   },
   "source": [
    "## Factors\n",
    "- Factors are vectors that are limited to certain values\n",
    "    - Represent categorical data\n",
    "    - Helpful in statistical analysis\n",
    "- A factor can be created using the `factor` function, or converting an existing vector by using `as.factor`"
   ]
  },
  {
   "cell_type": "code",
   "execution_count": 26,
   "metadata": {
    "slideshow": {
     "slide_type": "slide"
    }
   },
   "outputs": [
    {
     "name": "stdout",
     "output_type": "stream",
     "text": [
      "[1] UMBC UMCP UMUC UMB  UB  \n",
      "Levels: UB UMB UMBC UMCP UMUC\n",
      "\n",
      "[1] Senior   Junior   Senior   Junior   Sophmore\n",
      "Levels: Junior Senior Sophmore\n"
     ]
    }
   ],
   "source": [
    "factor.1 <- factor(c(\"UMBC\",\"UMCP\",\"UMUC\",\"UMB\",\"UB\"))\n",
    "print(factor.1)\n",
    "cat(\"\\n\")\n",
    "factor.2 <- factor(c(\"Senior\",\"Junior\",\"Senior\",\n",
    "                     \"Junior\",\"Sophmore\"))\n",
    "print(factor.2)"
   ]
  },
  {
   "cell_type": "code",
   "execution_count": 28,
   "metadata": {
    "slideshow": {
     "slide_type": "slide"
    }
   },
   "outputs": [
    {
     "name": "stdout",
     "output_type": "stream",
     "text": [
      "[1] Senior   Junior   Senior   Junior   Sophmore\n",
      "Levels: Senior Junior Sophmore Freshman\n",
      "\n",
      "[1] Senior   Junior   Senior   Junior   Sophmore\n",
      "Levels: Junior Senior Sophmore\n"
     ]
    }
   ],
   "source": [
    "# Can use the levels keyword to specify all possible values\n",
    "factor.3 <- factor(c(\"Senior\",\"Junior\",\"Senior\",\n",
    "                     \"Junior\",\"Sophmore\"),\n",
    "                    levels=c(\"Senior\",\"Junior\",\n",
    "                             \"Sophmore\",'Freshman'))\n",
    "print(factor.3)\n",
    "cat(\"\\n\")\n",
    "factor.4 <- as.factor(c(\"Senior\",\"Junior\",\n",
    "                        \"Senior\",\"Junior\",\"Sophmore\"))\n",
    "print(factor.4)"
   ]
  },
  {
   "cell_type": "markdown",
   "metadata": {
    "slideshow": {
     "slide_type": "slide"
    }
   },
   "source": [
    "## Lists\n",
    "- A list is a one dimensional (technically) data structure\n",
    "    - It can hold a mixture of any data types\n",
    "    - It can recursively hold other lists and vectors\n",
    "- Created using the `list` function\n",
    "```R\n",
    "a.list <- list(\"a\",2,3.14,FALSE)\n",
    "```"
   ]
  },
  {
   "cell_type": "code",
   "execution_count": 29,
   "metadata": {
    "slideshow": {
     "slide_type": "slide"
    }
   },
   "outputs": [
    {
     "name": "stdout",
     "output_type": "stream",
     "text": [
      "List of 4\n",
      " $ : chr \"a\"\n",
      " $ : num 2\n",
      " $ : num 3.14\n",
      " $ : logi FALSE\n",
      "[[1]]\n",
      "[1] \"a\"\n",
      "\n",
      "[[2]]\n",
      "[1] 2\n",
      "\n",
      "[[3]]\n",
      "[1] 3.14\n",
      "\n",
      "[[4]]\n",
      "[1] FALSE\n",
      "\n"
     ]
    }
   ],
   "source": [
    "a.list <- list(\"a\", 2, 3.14, FALSE)\n",
    "\n",
    "#The str function will show the structure of a variable\n",
    "#str DOES NOT stand for string, it stands for structure\n",
    "str(a.list)\n",
    "print(a.list)"
   ]
  },
  {
   "cell_type": "code",
   "execution_count": 30,
   "metadata": {
    "slideshow": {
     "slide_type": "slide"
    }
   },
   "outputs": [
    {
     "name": "stdout",
     "output_type": "stream",
     "text": [
      "List of 4\n",
      " $ : chr \"a\"\n",
      " $ : num 2\n",
      " $ : num 3.14\n",
      " $ :List of 2\n",
      "  ..$ : chr \"re\"\n",
      "  ..$ : chr \"cursive\"\n"
     ]
    }
   ],
   "source": [
    "recursive.list <- list(\"a\", 2, 3.14, list(\"re\",\"cursive\"))\n",
    "str(recursive.list)"
   ]
  },
  {
   "cell_type": "code",
   "execution_count": 31,
   "metadata": {
    "slideshow": {
     "slide_type": "slide"
    }
   },
   "outputs": [
    {
     "name": "stdout",
     "output_type": "stream",
     "text": [
      " num [1:5] 1 2 3 4 5\n",
      "List of 7\n",
      " $ : num 1\n",
      " $ : num 2\n",
      " $ : num 3\n",
      " $ : num 4\n",
      " $ : num 5\n",
      " $ : num 6\n",
      " $ : num 7\n"
     ]
    }
   ],
   "source": [
    "# If you try to use c recursively, there is no error\n",
    "# Everything is just flattened\n",
    "a.vector <- c(1,2,3,c(4,5))\n",
    "str(a.vector)\n",
    "\n",
    "#Applying c to an arguments including at least one list \n",
    "#coerces the entire structure to a list\n",
    "coerced.list <- c(1,2,3,list(4,5),list(6,7))\n",
    "str(coerced.list)"
   ]
  },
  {
   "cell_type": "markdown",
   "metadata": {
    "slideshow": {
     "slide_type": "slide"
    }
   },
   "source": [
    "## Attributes\n",
    "- Under the surface, R is a very object-oriented language\n",
    "    - We will talk more about creating user-defined objects in a later lecture\n",
    "- All data structures we will discuss today have attributes that can be assigned values\n",
    "- The general syntax is \n",
    "```R\n",
    "attr(OBJECT, \"ATTRIBUTE_NAME\") <- ATTRIBUTE_VALUE\n",
    "```"
   ]
  },
  {
   "cell_type": "code",
   "execution_count": 32,
   "metadata": {
    "slideshow": {
     "slide_type": "slide"
    }
   },
   "outputs": [
    {
     "name": "stdout",
     "output_type": "stream",
     "text": [
      "NULL\n",
      "[1] \"Tue Oct  3 12:00:22 2017\"\n",
      "\n",
      "$time_created\n",
      "[1] \"Tue Oct  3 12:00:22 2017\"\n",
      "\n"
     ]
    }
   ],
   "source": [
    "obj <- c(3,4,5,6)\n",
    "print(attr(obj,\"time_created\"))\n",
    "attr(obj,\"time_created\") <- date()\n",
    "print(attr(obj,\"time_created\"))\n",
    "cat(\"\\n\")\n",
    "print(attributes(obj))"
   ]
  },
  {
   "cell_type": "markdown",
   "metadata": {
    "slideshow": {
     "slide_type": "slide"
    }
   },
   "source": [
    "## Special Attributes\n",
    "- While an attribute name can be anything, a few special attributes exist that modify the behavior of the object\n",
    "    - Names\n",
    "    - Dimensions\n",
    "    - Class\n",
    "- These attributes are so important that they have dedicated functions to access them, and cannot be access with the `attr` function"
   ]
  },
  {
   "cell_type": "markdown",
   "metadata": {
    "slideshow": {
     "slide_type": "slide"
    }
   },
   "source": [
    "## Naming Indexes\n",
    "- An existing list or vector can be given named indices by setting the names attribute\n",
    "- Just as before, we assign into what looks like function call\n",
    "```R\n",
    "names(OBJECT) <- c(SERIES OF CHARACTERS)\n",
    "```\n",
    "- A list or vector can also be created using named indices\n",
    "```R\n",
    "VARIABLE <- c(a = 1, b = 2)\n",
    "```"
   ]
  },
  {
   "cell_type": "code",
   "execution_count": 33,
   "metadata": {
    "slideshow": {
     "slide_type": "slide"
    }
   },
   "outputs": [
    {
     "name": "stdout",
     "output_type": "stream",
     "text": [
      "  Regex HW Regex Quiz   Shell HW Shell Quiz       R HW     R Quiz \n",
      "        80         75         80        100         95         85 \n"
     ]
    }
   ],
   "source": [
    "scores <-  c(80,75,80,100,95,85)\n",
    "names(scores) <- c(\"Regex HW\",\"Regex Quiz\",\n",
    "                   \"Shell HW\",\"Shell Quiz\", \n",
    "                   \"R HW\", \"R Quiz\")\n",
    "print(scores)"
   ]
  },
  {
   "cell_type": "markdown",
   "metadata": {
    "slideshow": {
     "slide_type": "slide"
    }
   },
   "source": [
    "## Matrices\n",
    "- A matrix is a 2-d data structure that is homogenous in type\n",
    "    - Usually numbers, but could be boolean or characters too\n",
    "- Can by created by\n",
    "    - Using the `matrix` function\n",
    "    - Adding dimensions to an already existing vector\n",
    "    - Using the `cbind` or `rbind` functions"
   ]
  },
  {
   "cell_type": "code",
   "execution_count": 36,
   "metadata": {
    "slideshow": {
     "slide_type": "slide"
    }
   },
   "outputs": [
    {
     "name": "stdout",
     "output_type": "stream",
     "text": [
      "     [,1] [,2] [,3] [,4]\n",
      "[1,]    1    4    7   10\n",
      "[2,]    2    5    8   11\n",
      "[3,]    3    6    9   12\n",
      "\n",
      "     [,1] [,2] [,3] [,4]\n",
      "[1,]    1    4    7   10\n",
      "[2,]    2    5    8   11\n",
      "[3,]    3    6    9   12\n"
     ]
    }
   ],
   "source": [
    "# Using the Matrix Function\n",
    "m <- matrix( c(1,2,3,4,5,6,7,8,9,10,11,12), \n",
    "            nrow=3, ncol=4 )\n",
    "print(m)\n",
    "cat(\"\\n\")\n",
    "m2 <- matrix(1:12,ncol=4)\n",
    "print(m2)"
   ]
  },
  {
   "cell_type": "code",
   "execution_count": 37,
   "metadata": {
    "slideshow": {
     "slide_type": "slide"
    }
   },
   "outputs": [
    {
     "name": "stdout",
     "output_type": "stream",
     "text": [
      "     [,1] [,2] [,3] [,4]\n",
      "[1,]    0    0    0    0\n",
      "[2,]    0    0    0    0\n",
      "[3,]    0    0    0    0\n",
      "\n",
      "[1] 3 4\n"
     ]
    }
   ],
   "source": [
    "#Creating a matrix of zeros\n",
    "zeros <- matrix(0,nrow=3,ncol=4)\n",
    "print(zeros)\n",
    "cat(\"\\n\")\n",
    "print(dim(zeros))"
   ]
  },
  {
   "cell_type": "code",
   "execution_count": 38,
   "metadata": {
    "slideshow": {
     "slide_type": "slide"
    }
   },
   "outputs": [
    {
     "name": "stdout",
     "output_type": "stream",
     "text": [
      " [1]  1  2  3  4  5  6  7  8  9 10 11 12\n",
      "NULL\n",
      "\n",
      "     [,1] [,2] [,3] [,4]\n",
      "[1,]    1    4    7   10\n",
      "[2,]    2    5    8   11\n",
      "[3,]    3    6    9   12\n"
     ]
    }
   ],
   "source": [
    "#Adding Dimensions to an existing Vector\n",
    "vec <- 1:12\n",
    "print(vec)\n",
    "print(dim(vec))\n",
    "cat(\"\\n\")\n",
    "dim(vec) <- c(3,4)\n",
    "print(vec)"
   ]
  },
  {
   "cell_type": "code",
   "execution_count": 39,
   "metadata": {
    "slideshow": {
     "slide_type": "slide"
    }
   },
   "outputs": [
    {
     "name": "stdout",
     "output_type": "stream",
     "text": [
      "     [,1] [,2] [,3] [,4]\n",
      "[1,]    1    4    7   10\n",
      "[2,]    2    5    8   11\n",
      "[3,]    3    6    9   12\n",
      "\n",
      "     [,1] [,2] [,3] [,4]\n",
      "[1,]    1    4    7   10\n",
      "[2,]    2    5    8   11\n",
      "[3,]    3    6    9   12\n"
     ]
    }
   ],
   "source": [
    "#Using cbind\n",
    "m3 <- cbind(c(1,2,3),c(4,5,6),c(7,8,9),c(10,11,12))\n",
    "print(m3)\n",
    "cat(\"\\n\")\n",
    "m4 <- rbind(c(1,4,7,10),c(2,5,8,11),c(3,6,9,12))\n",
    "print(m4)"
   ]
  },
  {
   "cell_type": "markdown",
   "metadata": {
    "slideshow": {
     "slide_type": "slide"
    }
   },
   "source": [
    "## Data Frames\n",
    "- Data Frames are 2-d data structures in which a given column of the data frame must have the same type, but columns may have different types\n",
    "- Each row is like a record in a simple database\n",
    "- Is generally the most common data structure encountered in R"
   ]
  },
  {
   "cell_type": "markdown",
   "metadata": {
    "slideshow": {
     "slide_type": "slide"
    }
   },
   "source": [
    "## Creating a Data Frame\n",
    "- While Data Frames are often created by reading directly from a file, it is also possible to create them programmatically. \n",
    "- The general syntax is \n",
    "```R\n",
    "df <- data.frame(COL1 = c(VALUES FOR COL 1),\n",
    "                 COL2 = c(VALUES FOR COl2), ..., \n",
    "                 COL_N = c(VALUES FOR COL_N))\n",
    "```"
   ]
  },
  {
   "cell_type": "code",
   "execution_count": 40,
   "metadata": {
    "slideshow": {
     "slide_type": "slide"
    }
   },
   "outputs": [
    {
     "name": "stdout",
     "output_type": "stream",
     "text": [
      "    name zipcode undergrad graduate\n",
      "1   UMBC   21250     11142     2498\n",
      "2   UMCP   20742     28472    10611\n",
      "3 Towson   21252     19596     3109\n"
     ]
    }
   ],
   "source": [
    "df <- data.frame(name=c(\"UMBC\",\"UMCP\",\"Towson\"),\n",
    "                 zipcode=c(21250,20742,21252),\n",
    "                 undergrad=c(11142,28472,19596),\n",
    "                 graduate=c(2498,10611,3109))\n",
    "print(df)"
   ]
  },
  {
   "cell_type": "markdown",
   "metadata": {
    "slideshow": {
     "slide_type": "slide"
    }
   },
   "source": [
    "## Common Functions on a Data Frame\n",
    "- The function `nrow` returns the number of rows in the data frame\n",
    "- The functions `ncol` and `length` both return the number of columns\n",
    "- The names of the the rows can be accessed and changed using the `row.names` function"
   ]
  },
  {
   "cell_type": "code",
   "execution_count": 41,
   "metadata": {
    "slideshow": {
     "slide_type": "slide"
    }
   },
   "outputs": [
    {
     "name": "stdout",
     "output_type": "stream",
     "text": [
      "[1] 3\n",
      "[1] 4\n",
      "    name zipcode undergrad graduate\n",
      "A   UMBC   21250     11142     2498\n",
      "B   UMCP   20742     28472    10611\n",
      "C Towson   21252     19596     3109\n"
     ]
    }
   ],
   "source": [
    "print(nrow(df))\n",
    "print(ncol(df))\n",
    "row.names(df) <- c('A','B','C')\n",
    "print(df)"
   ]
  },
  {
   "cell_type": "markdown",
   "metadata": {
    "slideshow": {
     "slide_type": "slide"
    }
   },
   "source": [
    "## Reading Data\n",
    "- `R` has many built in functions to read data files into data frames\n",
    "    - `read.table` reads a space separated file by default, and is the base to many other functions\n",
    "    - `read.csv` reads a comma separated values file, is actually just a call to read.table\n",
    "- `R` supports many other formats through various libraries\n",
    "    - One of the most common libraries is `foreign` which reads in data from many similar languages to `R`"
   ]
  },
  {
   "cell_type": "code",
   "execution_count": 44,
   "metadata": {
    "slideshow": {
     "slide_type": "slide"
    }
   },
   "outputs": [
    {
     "name": "stdout",
     "output_type": "stream",
     "text": [
      "          Name ZIP.Code Undergraduate.Enrollment Graduate.Enrollment\n",
      "1         UMBC    21250                    11142                2498\n",
      "2         UMCP    20742                    28472               10611\n",
      "3       Towson    21252                    19596                3109\n",
      "4         UMUC    20774                    67434               19382\n",
      "5 Morgan State    21251                     6362                1327\n"
     ]
    }
   ],
   "source": [
    "usm <- read.table(\"usm.tsv\",sep=\"\\t\",header=TRUE)\n",
    "print(usm)"
   ]
  },
  {
   "cell_type": "code",
   "execution_count": 45,
   "metadata": {},
   "outputs": [
    {
     "name": "stdout",
     "output_type": "stream",
     "text": [
      "             ZIP.Code Undergraduate.Enrollment Graduate.Enrollment\n",
      "UMBC            21250                    11142                2498\n",
      "UMCP            20742                    28472               10611\n",
      "Towson          21252                    19596                3109\n",
      "UMUC            20774                    67434               19382\n",
      "Morgan State    21251                     6362                1327\n"
     ]
    }
   ],
   "source": [
    "usm2 <- read.csv(\"usm.csv\",row.names=1)\n",
    "print(usm2)"
   ]
  },
  {
   "cell_type": "markdown",
   "metadata": {
    "slideshow": {
     "slide_type": "slide"
    }
   },
   "source": [
    "## Writing Data\n",
    "- `R` similarly supports many different formats in which to write data to a file\n",
    "    - `write.table`\n",
    "    - `write.csv`\n",
    "- By default, column and row names are printed to the file, to remove them set `col.names` or `row.names` to FALSE"
   ]
  },
  {
   "cell_type": "code",
   "execution_count": 46,
   "metadata": {
    "slideshow": {
     "slide_type": "slide"
    }
   },
   "outputs": [],
   "source": [
    "write.csv(usm2,'usm2.csv')"
   ]
  },
  {
   "cell_type": "code",
   "execution_count": 47,
   "metadata": {},
   "outputs": [
    {
     "name": "stderr",
     "output_type": "stream",
     "text": [
      "Warning message:\n",
      "In write.csv(usm2, \"usm2.csv\", append = TRUE, col.names = FALSE): attempt to set 'append' ignoredWarning message:\n",
      "In write.csv(usm2, \"usm2.csv\", append = TRUE, col.names = FALSE): attempt to set 'col.names' ignored"
     ]
    }
   ],
   "source": [
    "write.csv(usm2,'usm2.csv',append=TRUE,col.names=FALSE)"
   ]
  },
  {
   "cell_type": "code",
   "execution_count": 48,
   "metadata": {},
   "outputs": [],
   "source": [
    "write.table(usm2,'usm2.csv',sep=\",\"\n",
    "          ,append=TRUE,col.names=FALSE)"
   ]
  },
  {
   "cell_type": "markdown",
   "metadata": {
    "slideshow": {
     "slide_type": "slide"
    }
   },
   "source": [
    "## Math\n",
    "- Standard operations of +,-,\\*,/, and ^\n",
    "- Modulus operator is %%\n",
    "- Integer division is %/%\n",
    "- Square root and absolute value are part of R's base package"
   ]
  },
  {
   "cell_type": "code",
   "execution_count": 49,
   "metadata": {
    "slideshow": {
     "slide_type": "slide"
    }
   },
   "outputs": [
    {
     "name": "stdout",
     "output_type": "stream",
     "text": [
      "[1] 2\n",
      "[1] 2\n",
      "[1] 3+1i\n",
      "[1] 3+3i\n",
      "[1] 6+8i\n"
     ]
    }
   ],
   "source": [
    "#Addition\n",
    "print(1 + 1)\n",
    "print(1 + 1.0)\n",
    "print(1 + 1i + 2)\n",
    "print(2 + 1 + 3i)\n",
    "print(2 + 3i + 4 + 5i)"
   ]
  },
  {
   "cell_type": "code",
   "execution_count": 50,
   "metadata": {
    "slideshow": {
     "slide_type": "slide"
    }
   },
   "outputs": [
    {
     "name": "stdout",
     "output_type": "stream",
     "text": [
      "[1] 1\n",
      "[1] -3\n"
     ]
    }
   ],
   "source": [
    "#Subtraction\n",
    "print(3-2)\n",
    "print(0-3)"
   ]
  },
  {
   "cell_type": "code",
   "execution_count": 51,
   "metadata": {
    "slideshow": {
     "slide_type": "-"
    }
   },
   "outputs": [
    {
     "name": "stdout",
     "output_type": "stream",
     "text": [
      "[1] 12\n",
      "[1] 0.36\n"
     ]
    }
   ],
   "source": [
    "#Multiplication\n",
    "print(3 * 4)\n",
    "print(3 * .12)"
   ]
  },
  {
   "cell_type": "code",
   "execution_count": 52,
   "metadata": {
    "slideshow": {
     "slide_type": "slide"
    }
   },
   "outputs": [
    {
     "name": "stdout",
     "output_type": "stream",
     "text": [
      "[1] 0.75\n",
      "[1] 0\n",
      "[1] NaN\n",
      "[1] Inf\n",
      "[1] -Inf\n"
     ]
    }
   ],
   "source": [
    "#Division\n",
    "print(3/4)\n",
    "print(0/4)\n",
    "print(0/0)\n",
    "print(3/0)\n",
    "print(-3/0)"
   ]
  },
  {
   "cell_type": "code",
   "execution_count": 53,
   "metadata": {
    "slideshow": {
     "slide_type": "slide"
    }
   },
   "outputs": [
    {
     "name": "stdout",
     "output_type": "stream",
     "text": [
      "[1] 0\n",
      "[1] 2\n",
      "[1] Inf\n",
      "[1] NaN\n"
     ]
    }
   ],
   "source": [
    "# Integer Division\n",
    "print(3 %/% 4)\n",
    "print(12 %/% 5)\n",
    "print(3 %/% 0)\n",
    "print(0 %/% 0)"
   ]
  },
  {
   "cell_type": "code",
   "execution_count": 54,
   "metadata": {
    "slideshow": {
     "slide_type": "slide"
    }
   },
   "outputs": [
    {
     "name": "stdout",
     "output_type": "stream",
     "text": [
      "[1] 0\n",
      "[1] 1\n",
      "[1] NaN\n",
      "[1] NaN\n"
     ]
    }
   ],
   "source": [
    "#Modulus\n",
    "\n",
    "print(3 %% 3)\n",
    "print(10 %% 3)\n",
    "print(0 %% 0)\n",
    "print(3 %% 0)"
   ]
  },
  {
   "cell_type": "code",
   "execution_count": 55,
   "metadata": {
    "slideshow": {
     "slide_type": "-"
    }
   },
   "outputs": [
    {
     "name": "stdout",
     "output_type": "stream",
     "text": [
      "[1] 27\n",
      "[1] 3\n",
      "[1] 0.01\n"
     ]
    }
   ],
   "source": [
    "print(3 ^ 3)\n",
    "print(9 ^ 0.5)\n",
    "print(10 ^ -2)"
   ]
  },
  {
   "cell_type": "markdown",
   "metadata": {
    "slideshow": {
     "slide_type": "slide"
    }
   },
   "source": [
    "## High-Dimensional Math\n",
    "- Mathmatical operation on higher dimensional data structures is navtively part of `R`\n",
    "- For scalar operations, like mutiplying every value by 2, the dimensionality doesn't matter\n",
    "    - For operations involving two data frames, two matrices, etc. the size should match to prevent unintended outcomes\n",
    "- In addition, both matrices and data.frames can be transposed using the `t` function"
   ]
  },
  {
   "cell_type": "code",
   "execution_count": 56,
   "metadata": {
    "slideshow": {
     "slide_type": "slide"
    }
   },
   "outputs": [
    {
     "name": "stdout",
     "output_type": "stream",
     "text": [
      "[1]  2  4  6  8 10\n",
      "[1] 0.1 0.2 0.3 0.4 0.5\n",
      "[1] 2 3 4 5 6\n"
     ]
    }
   ],
   "source": [
    "#Vector / Scalar Math\n",
    "vec <- 1:5\n",
    "print(vec * 2)\n",
    "print(vec / 10)\n",
    "print(vec + 1)"
   ]
  },
  {
   "cell_type": "code",
   "execution_count": 57,
   "metadata": {
    "slideshow": {
     "slide_type": "slide"
    }
   },
   "outputs": [
    {
     "name": "stderr",
     "output_type": "stream",
     "text": [
      "Warning message:\n",
      "In vec + vec2: longer object length is not a multiple of shorter object length"
     ]
    },
    {
     "name": "stdout",
     "output_type": "stream",
     "text": [
      "[1] 11 13 15 17 19 16\n",
      "[1] 12 14 16 18 20\n"
     ]
    }
   ],
   "source": [
    "#Vector addition\n",
    "vec2 <- 10:15\n",
    "print(vec + vec2)\n",
    "vec2 <- 11:15\n",
    "print(vec + vec2)"
   ]
  },
  {
   "cell_type": "code",
   "execution_count": 60,
   "metadata": {
    "slideshow": {
     "slide_type": "slide"
    }
   },
   "outputs": [
    {
     "name": "stdout",
     "output_type": "stream",
     "text": [
      "[1] 11 24 39 56 75\n",
      "\n",
      "     [,1]\n",
      "[1,]  205\n"
     ]
    }
   ],
   "source": [
    "#Element-wise multiplication\n",
    "print(vec * vec2)\n",
    "cat(\"\\n\")\n",
    "#Dot Product\n",
    "print(vec %*% vec2)\n",
    "#print(cvec,vec2))"
   ]
  },
  {
   "cell_type": "code",
   "execution_count": 61,
   "metadata": {
    "slideshow": {
     "slide_type": "slide"
    }
   },
   "outputs": [
    {
     "name": "stdout",
     "output_type": "stream",
     "text": [
      "     [,1] [,2] [,3] [,4]\n",
      "[1,]    1    6   11   16\n",
      "[2,]    2    7   12   17\n",
      "[3,]    3    8   13   18\n",
      "[4,]    4    9   14   19\n",
      "[5,]    5   10   15   20\n",
      "     [,1]     [,2]      [,3]  [,4]\n",
      "[1,]    1 6.000000 11.000000 16.00\n",
      "[2,]    1 3.500000  6.000000  8.50\n",
      "[3,]    1 2.666667  4.333333  6.00\n",
      "[4,]    1 2.250000  3.500000  4.75\n",
      "[5,]    1 2.000000  3.000000  4.00\n"
     ]
    }
   ],
   "source": [
    "#Matrix / Vector Operations\n",
    "mat <- matrix(1:20,nrow=5)\n",
    "print(mat)\n",
    "print(mat / vec)"
   ]
  },
  {
   "cell_type": "code",
   "execution_count": 62,
   "metadata": {
    "slideshow": {
     "slide_type": "slide"
    }
   },
   "outputs": [
    {
     "name": "stdout",
     "output_type": "stream",
     "text": [
      "     [,1] [,2] [,3] [,4] [,5]\n",
      "[1,]    1    5    9   13   17\n",
      "[2,]    2    6   10   14   18\n",
      "[3,]    3    7   11   15   19\n",
      "[4,]    4    8   12   16   20\n",
      "     [,1]     [,2]  [,3]      [,4] [,5]\n",
      "[1,]    1 1.000000  2.25  4.333333 8.50\n",
      "[2,]    1 6.000000  2.00  3.500000 6.00\n",
      "[3,]    1 3.500000 11.00  3.000000 4.75\n",
      "[4,]    1 2.666667  6.00 16.000000 4.00\n"
     ]
    }
   ],
   "source": [
    "#Matrix / Vector Operations\n",
    "mat2 <- matrix(1:20,nrow=4)\n",
    "print(mat2)\n",
    "print(mat2 / vec)"
   ]
  },
  {
   "cell_type": "code",
   "execution_count": 63,
   "metadata": {
    "slideshow": {
     "slide_type": "slide"
    }
   },
   "outputs": [
    {
     "name": "stdout",
     "output_type": "stream",
     "text": [
      "          Name ZIP.Code Undergraduate.Enrollment Graduate.Enrollment\n",
      "1         UMBC    21250                    11142                2498\n",
      "2         UMCP    20742                    28472               10611\n",
      "3       Towson    21252                    19596                3109\n",
      "4         UMUC    20774                    67434               19382\n",
      "5 Morgan State    21251                     6362                1327\n",
      "\n"
     ]
    },
    {
     "name": "stderr",
     "output_type": "stream",
     "text": [
      "Warning message:\n",
      "In Ops.factor(left, right): ‘*’ not meaningful for factors"
     ]
    },
    {
     "name": "stdout",
     "output_type": "stream",
     "text": [
      "  Name ZIP.Code Undergraduate.Enrollment Graduate.Enrollment\n",
      "1   NA    42500                    22284                4996\n",
      "2   NA    41484                    56944               21222\n",
      "3   NA    42504                    39192                6218\n",
      "4   NA    41548                   134868               38764\n",
      "5   NA    42502                    12724                2654\n"
     ]
    }
   ],
   "source": [
    "#DataFrame Operations\n",
    "print(usm)\n",
    "cat(\"\\n\")\n",
    "print(usm * 2)"
   ]
  },
  {
   "cell_type": "code",
   "execution_count": 66,
   "metadata": {
    "slideshow": {
     "slide_type": "slide"
    }
   },
   "outputs": [
    {
     "name": "stdout",
     "output_type": "stream",
     "text": [
      "     [,1] [,2] [,3] [,4] [,5]\n",
      "[1,]    1    2    3    4    5\n",
      "[2,]    6    7    8    9   10\n",
      "[3,]   11   12   13   14   15\n",
      "[4,]   16   17   18   19   20\n",
      "\n",
      "                         [,1]    [,2]    [,3]     [,4]    [,5]          \n",
      "Name                     \"UMBC\"  \"UMCP\"  \"Towson\" \"UMUC\"  \"Morgan State\"\n",
      "ZIP.Code                 \"21250\" \"20742\" \"21252\"  \"20774\" \"21251\"       \n",
      "Undergraduate.Enrollment \"11142\" \"28472\" \"19596\"  \"67434\" \" 6362\"       \n",
      "Graduate.Enrollment      \" 2498\" \"10611\" \" 3109\"  \"19382\" \" 1327\"       \n",
      "                            V1    V2     V3    V4           V5\n",
      "Name                      UMBC  UMCP Towson  UMUC Morgan State\n",
      "ZIP.Code                 21250 20742  21252 20774        21251\n",
      "Undergraduate.Enrollment 11142 28472  19596 67434         6362\n",
      "Graduate.Enrollment       2498 10611   3109 19382         1327\n"
     ]
    }
   ],
   "source": [
    "#Transposition\n",
    "print(t(mat))\n",
    "cat(\"\\n\")\n",
    "#What is the datastructure returned by this function?\n",
    "print(t(usm))\n",
    "print(as.data.frame(t(usm)))"
   ]
  },
  {
   "cell_type": "markdown",
   "metadata": {
    "slideshow": {
     "slide_type": "slide"
    }
   },
   "source": [
    "## Boolean Comparison\n",
    "- `R` supports the standard boolean operators of `<, >, <=, >=, == !=`\n",
    "    - The and an or operators are `&` and `|` respectively\n",
    "- When used between vectors or matrices, returns a object of the same size filled with boolean values"
   ]
  },
  {
   "cell_type": "code",
   "execution_count": 67,
   "metadata": {
    "slideshow": {
     "slide_type": "slide"
    }
   },
   "outputs": [
    {
     "name": "stdout",
     "output_type": "stream",
     "text": [
      "[1] FALSE\n",
      "[1] TRUE\n",
      "[1] TRUE\n",
      "[1] FALSE\n"
     ]
    }
   ],
   "source": [
    "##Standard Scalar Comparison\n",
    "print(3 == 4)\n",
    "print(3 < 4)\n",
    "print(3 < 4 & 5 < 10)\n",
    "print(3 == 4 | 4 != 4)"
   ]
  },
  {
   "cell_type": "code",
   "execution_count": 71,
   "metadata": {
    "slideshow": {
     "slide_type": "slide"
    }
   },
   "outputs": [
    {
     "name": "stdout",
     "output_type": "stream",
     "text": [
      "[1] 1 2 3 4 5\n",
      "[1] 11 12 13 14 15\n",
      "\n",
      "[1] FALSE FALSE FALSE FALSE FALSE\n",
      "[1] TRUE TRUE TRUE TRUE TRUE\n"
     ]
    }
   ],
   "source": [
    "## Comparing Data Structures\n",
    "print(vec)\n",
    "print(vec2)\n",
    "cat(\"\\n\")\n",
    "print(vec == vec2)\n",
    "print(vec < vec2)"
   ]
  },
  {
   "cell_type": "code",
   "execution_count": 74,
   "metadata": {
    "slideshow": {
     "slide_type": "slide"
    }
   },
   "outputs": [
    {
     "name": "stdout",
     "output_type": "stream",
     "text": [
      "[1] 1 2 3 4 5\n",
      "     [,1] [,2] [,3] [,4]\n",
      "[1,]    1    6   11   16\n",
      "[2,]    2    7   12   17\n",
      "[3,]    3    8   13   18\n",
      "[4,]    4    9   14   19\n",
      "[5,]    5   10   15   20\n",
      "\n",
      "     [,1]  [,2]  [,3]  [,4]\n",
      "[1,] TRUE FALSE FALSE FALSE\n",
      "[2,] TRUE FALSE FALSE FALSE\n",
      "[3,] TRUE FALSE FALSE FALSE\n",
      "[4,] TRUE FALSE FALSE FALSE\n",
      "[5,] TRUE FALSE FALSE FALSE\n"
     ]
    }
   ],
   "source": [
    "#Vector and Matrix Comparison\n",
    "print(vec)\n",
    "print(mat)\n",
    "cat(\"\\n\")\n",
    "print(vec == mat)"
   ]
  },
  {
   "cell_type": "markdown",
   "metadata": {
    "slideshow": {
     "slide_type": "slide"
    }
   },
   "source": [
    "## Subsetting Vectors\n",
    "- **Indexing starts at 1!**\n",
    "- Subsetting is done using square brackets (**[ ]**)\n",
    "- Subsetting is most commonly done with a vector of\n",
    "    - Positive Integers\n",
    "    - Negative Integers\n",
    "    - Boolean Values"
   ]
  },
  {
   "cell_type": "markdown",
   "metadata": {
    "slideshow": {
     "slide_type": "slide"
    }
   },
   "source": [
    "## Positive Integer Subsetting\n",
    "- Positive integers denote which values to return"
   ]
  },
  {
   "cell_type": "code",
   "execution_count": 75,
   "metadata": {
    "slideshow": {
     "slide_type": "-"
    }
   },
   "outputs": [
    {
     "name": "stdout",
     "output_type": "stream",
     "text": [
      "[1] 1 2 3 4 5\n",
      "[1] 1\n",
      "[1] 2 3\n",
      "[1] 1 5\n",
      "[1] 2 2\n"
     ]
    }
   ],
   "source": [
    "print(vec)\n",
    "print(vec[1])\n",
    "print(vec[2:3])\n",
    "print(vec[c(1,5)])\n",
    "#Can repeat indices\n",
    "print(vec[c(2,2)])"
   ]
  },
  {
   "cell_type": "markdown",
   "metadata": {
    "slideshow": {
     "slide_type": "slide"
    }
   },
   "source": [
    "## Positive Integer Subsetting\n",
    "- Negative integers denote which values to *not* return"
   ]
  },
  {
   "cell_type": "code",
   "execution_count": 78,
   "metadata": {
    "slideshow": {
     "slide_type": "-"
    }
   },
   "outputs": [
    {
     "name": "stdout",
     "output_type": "stream",
     "text": [
      "[1] 1 2 3 4 5\n",
      "[1] 2 3 4 5\n",
      "[1] 1 4 5\n",
      "[1] 2 3 4\n"
     ]
    }
   ],
   "source": [
    "print(vec)\n",
    "print(vec[-1])\n",
    "print(vec[-2:-3])\n",
    "print(vec[c(-1,-5)])"
   ]
  },
  {
   "cell_type": "markdown",
   "metadata": {
    "slideshow": {
     "slide_type": "slide"
    }
   },
   "source": [
    "## Boolean Value Subsetting\n",
    "- Values are returned when the subsetting vector contains TRUE\n",
    "- To prevent unexpected errors, the vector used to subset should be the same length as the vector being indexed into\n",
    "    - If the index vector is shorter than the vector being indexed, the values will repeat as many times as necessary"
   ]
  },
  {
   "cell_type": "code",
   "execution_count": 79,
   "metadata": {
    "slideshow": {
     "slide_type": "slide"
    }
   },
   "outputs": [
    {
     "name": "stdout",
     "output_type": "stream",
     "text": [
      "[1] 1 2 3 4 5\n",
      "[1] 1 3 5\n",
      "\n",
      "[1] 2 4\n"
     ]
    }
   ],
   "source": [
    "# Explicit Boolean Subsetting\n",
    "print(vec)\n",
    "print(vec[c(TRUE,FALSE,TRUE,FALSE,TRUE)])\n",
    "cat(\"\\n\")\n",
    "#Using an expression\n",
    "print(vec[vec %% 2 == 0])"
   ]
  },
  {
   "cell_type": "markdown",
   "metadata": {
    "slideshow": {
     "slide_type": "slide"
    }
   },
   "source": [
    "## Subsetting Lists\n",
    "- Subsetting a list with the [] operator will return another list\n",
    "    - To return a specific value (as a vector) use **[[]]**\n",
    "- The dollar operator is an alias for **[[]]**, but only **[[]]** can use a variable to do the subsetting"
   ]
  },
  {
   "cell_type": "code",
   "execution_count": 84,
   "metadata": {
    "slideshow": {
     "slide_type": "slide"
    }
   },
   "outputs": [
    {
     "name": "stdout",
     "output_type": "stream",
     "text": [
      "$b\n",
      "[1] 2\n",
      "\n",
      "[1] 2\n",
      "[1] 2\n",
      "[1] 2\n",
      "\n",
      "[1] 2\n",
      "NULL\n"
     ]
    }
   ],
   "source": [
    "#Returns a list\n",
    "li <- list(a=1,b=2,c=3,d=4,e=5)\n",
    "print(li[2])\n",
    "print(li[[2]])\n",
    "print(li[['b']])\n",
    "print(li$b)\n",
    "idx <- 'b'\n",
    "cat(\"\\n\")\n",
    "print(li[[idx]])\n",
    "print(li$idx)\n"
   ]
  },
  {
   "cell_type": "markdown",
   "metadata": {
    "slideshow": {
     "slide_type": "slide"
    }
   },
   "source": [
    "## Subsetting Matrices\n",
    "- Matrices can also be subset using the **[]** operator\n",
    "    - With matrices, two indices can be provided, in the order of row,column\n",
    "    - If just one is provided, it treats the matrix like a vector\n"
   ]
  },
  {
   "cell_type": "code",
   "execution_count": 91,
   "metadata": {
    "slideshow": {
     "slide_type": "slide"
    }
   },
   "outputs": [
    {
     "name": "stdout",
     "output_type": "stream",
     "text": [
      "     [,1] [,2] [,3] [,4]\n",
      "[1,]    1    6   11   16\n",
      "[2,]    2    7   12   17\n",
      "[3,]    3    8   13   18\n",
      "[4,]    4    9   14   19\n",
      "[5,]    5   10   15   20\n",
      "\n",
      "[1] 5\n",
      "[1]  5 10 15 20\n",
      "[1] 16 17 18 19 20\n",
      "[1] 20\n",
      "     [,1] [,2] [,3] [,4]\n",
      "[1,]    5   10   15   20\n",
      "[2,]    4    9   14   19\n"
     ]
    }
   ],
   "source": [
    "print(mat)\n",
    "cat(\"\\n\")\n",
    "print(mat[5])\n",
    "print(mat[5,])\n",
    "print(mat[,4])\n",
    "print(mat[5,4])\n",
    "print(mat[c(5,4),])"
   ]
  },
  {
   "cell_type": "markdown",
   "metadata": {
    "slideshow": {
     "slide_type": "slide"
    }
   },
   "source": [
    "## Subsetting Data Frames\n",
    "- Subsetting Data Frames is very similar to matrices, but passing one index considered a column\n",
    "    - The $ operator as used with lists can also be used to refer to a specific column\n",
    "- Rows (or observations) are selected by adding a comma after the row indices"
   ]
  },
  {
   "cell_type": "code",
   "execution_count": 92,
   "metadata": {
    "slideshow": {
     "slide_type": "slide"
    }
   },
   "outputs": [
    {
     "name": "stdout",
     "output_type": "stream",
     "text": [
      "          Name\n",
      "1         UMBC\n",
      "2         UMCP\n",
      "3       Towson\n",
      "4         UMUC\n",
      "5 Morgan State\n",
      "\n",
      "          Name\n",
      "1         UMBC\n",
      "2         UMCP\n",
      "3       Towson\n",
      "4         UMUC\n",
      "5 Morgan State\n",
      "[1] UMBC         UMCP         Towson       UMUC         Morgan State\n",
      "Levels: Morgan State Towson UMBC UMCP UMUC\n"
     ]
    }
   ],
   "source": [
    "print(usm[1])\n",
    "cat(\"\\n\")\n",
    "print(usm['Name'])\n",
    "#This is a vector rather than a one column DF\n",
    "print(usm$Name)"
   ]
  },
  {
   "cell_type": "code",
   "execution_count": 95,
   "metadata": {
    "slideshow": {
     "slide_type": "slide"
    }
   },
   "outputs": [
    {
     "name": "stdout",
     "output_type": "stream",
     "text": [
      "    Name ZIP.Code Undergraduate.Enrollment Graduate.Enrollment\n",
      "1   UMBC    21250                    11142                2498\n",
      "2   UMCP    20742                    28472               10611\n",
      "3 Towson    21252                    19596                3109\n",
      "4   UMUC    20774                    67434               19382\n",
      "\n",
      "[1] UMBC   UMCP   Towson UMUC  \n",
      "Levels: Morgan State Towson UMBC UMCP UMUC\n",
      "          Name ZIP.Code Undergraduate.Enrollment Graduate.Enrollment total\n",
      "1         UMBC    21250                    11142                2498 13640\n",
      "2         UMCP    20742                    28472               10611 39083\n",
      "3       Towson    21252                    19596                3109 22705\n",
      "4         UMUC    20774                    67434               19382 86816\n",
      "5 Morgan State    21251                     6362                1327  7689\n"
     ]
    }
   ],
   "source": [
    "print(usm[usm['Undergraduate.Enrollment'] > 10000,])\n",
    "cat(\"\\n\")\n",
    "print(usm[usm['Undergraduate.Enrollment'] > 10000,'Name'])\n",
    "usm['total'] <- usm[3] + usm[4]\n",
    "print(usm)"
   ]
  },
  {
   "cell_type": "markdown",
   "metadata": {
    "slideshow": {
     "slide_type": "slide"
    }
   },
   "source": [
    "## R's built-in help system\n",
    "- `R` has excellent built in help capabilities\n",
    "    - To access the documentation for a specific function, type `?FUNCTION_NAME`\n",
    "    - To search all helpfiles for a keyword, use the `??` function\n",
    "- Typing a function without any arguments or parentheses will at a minimum show you the signature of the function\n",
    "    - If code is not compiled, the code of the function will be displayed too"
   ]
  },
  {
   "cell_type": "code",
   "execution_count": 96,
   "metadata": {
    "slideshow": {
     "slide_type": "slide"
    }
   },
   "outputs": [
    {
     "data": {
      "text/html": [
       "\n",
       "<table width=\"100%\" summary=\"page for read.table {utils}\"><tr><td>read.table {utils}</td><td style=\"text-align: right;\">R Documentation</td></tr></table>\n",
       "\n",
       "<h2>Data Input</h2>\n",
       "\n",
       "<h3>Description</h3>\n",
       "\n",
       "<p>Reads a file in table format and creates a data frame from it, with\n",
       "cases corresponding to lines and variables to fields in the file.\n",
       "</p>\n",
       "\n",
       "\n",
       "<h3>Usage</h3>\n",
       "\n",
       "<pre>\n",
       "read.table(file, header = FALSE, sep = \"\", quote = \"\\\"'\",\n",
       "           dec = \".\", numerals = c(\"allow.loss\", \"warn.loss\", \"no.loss\"),\n",
       "           row.names, col.names, as.is = !stringsAsFactors,\n",
       "           na.strings = \"NA\", colClasses = NA, nrows = -1,\n",
       "           skip = 0, check.names = TRUE, fill = !blank.lines.skip,\n",
       "           strip.white = FALSE, blank.lines.skip = TRUE,\n",
       "           comment.char = \"#\",\n",
       "           allowEscapes = FALSE, flush = FALSE,\n",
       "           stringsAsFactors = default.stringsAsFactors(),\n",
       "           fileEncoding = \"\", encoding = \"unknown\", text, skipNul = FALSE)\n",
       "\n",
       "read.csv(file, header = TRUE, sep = \",\", quote = \"\\\"\",\n",
       "         dec = \".\", fill = TRUE, comment.char = \"\", ...)\n",
       "\n",
       "read.csv2(file, header = TRUE, sep = \";\", quote = \"\\\"\",\n",
       "          dec = \",\", fill = TRUE, comment.char = \"\", ...)\n",
       "\n",
       "read.delim(file, header = TRUE, sep = \"\\t\", quote = \"\\\"\",\n",
       "           dec = \".\", fill = TRUE, comment.char = \"\", ...)\n",
       "\n",
       "read.delim2(file, header = TRUE, sep = \"\\t\", quote = \"\\\"\",\n",
       "            dec = \",\", fill = TRUE, comment.char = \"\", ...)\n",
       "</pre>\n",
       "\n",
       "\n",
       "<h3>Arguments</h3>\n",
       "\n",
       "<table summary=\"R argblock\">\n",
       "<tr valign=\"top\"><td><code>file</code></td>\n",
       "<td>\n",
       "<p>the name of the file which the data are to be read from.\n",
       "Each row of the table appears as one line of the file.  If it does\n",
       "not contain an <em>absolute</em> path, the file name is\n",
       "<em>relative</em> to the current working directory,\n",
       "<code>getwd()</code>. Tilde-expansion is performed where supported.\n",
       "This can be a compressed file (see <code>file</code>).\n",
       "</p>\n",
       "<p>Alternatively, <code>file</code> can be a readable text-mode\n",
       "connection (which will be opened for reading if\n",
       "necessary, and if so <code>close</code>d (and hence destroyed) at\n",
       "the end of the function call).  (If <code>stdin()</code> is used,\n",
       "the prompts for lines may be somewhat confusing.  Terminate input\n",
       "with a blank line or an EOF signal, <code>Ctrl-D</code> on Unix and\n",
       "<code>Ctrl-Z</code> on Windows.  Any pushback on <code>stdin()</code> will be\n",
       "cleared before return.)\n",
       "</p>\n",
       "<p><code>file</code> can also be a complete URL.  (For the supported URL\n",
       "schemes, see the &lsquo;URLs&rsquo; section of the help for\n",
       "<code>url</code>.)\n",
       "</p>\n",
       "</td></tr>\n",
       "<tr valign=\"top\"><td><code>header</code></td>\n",
       "<td>\n",
       "<p>a logical value indicating whether the file contains the\n",
       "names of the variables as its first line.  If missing, the value is\n",
       "determined from the file format: <code>header</code> is set to <code>TRUE</code>\n",
       "if and only if the first row contains one fewer field than the\n",
       "number of columns.</p>\n",
       "</td></tr>\n",
       "<tr valign=\"top\"><td><code>sep</code></td>\n",
       "<td>\n",
       "<p>the field separator character.  Values on each line of the\n",
       "file are separated by this character.  If <code>sep = \"\"</code> (the\n",
       "default for <code>read.table</code>) the separator is &lsquo;white space&rsquo;,\n",
       "that is one or more spaces, tabs, newlines or carriage returns.</p>\n",
       "</td></tr>\n",
       "<tr valign=\"top\"><td><code>quote</code></td>\n",
       "<td>\n",
       "<p>the set of quoting characters. To disable quoting\n",
       "altogether, use <code>quote = \"\"</code>.  See <code>scan</code> for the\n",
       "behaviour on quotes embedded in quotes.  Quoting is only considered\n",
       "for columns read as character, which is all of them unless\n",
       "<code>colClasses</code> is specified.</p>\n",
       "</td></tr>\n",
       "<tr valign=\"top\"><td><code>dec</code></td>\n",
       "<td>\n",
       "<p>the character used in the file for decimal points.</p>\n",
       "</td></tr>\n",
       "<tr valign=\"top\"><td><code>numerals</code></td>\n",
       "<td>\n",
       "<p>string indicating how to convert numbers whose conversion\n",
       "to double precision would lose accuracy, see <code>type.convert</code>.\n",
       "Can be abbreviated.  (Applies also to complex-number inputs.)</p>\n",
       "</td></tr>\n",
       "<tr valign=\"top\"><td><code>row.names</code></td>\n",
       "<td>\n",
       "<p>a vector of row names.  This can be a vector giving\n",
       "the actual row names, or a single number giving the column of the\n",
       "table which contains the row names, or character string giving the\n",
       "name of the table column containing the row names.\n",
       "</p>\n",
       "<p>If there is a header and the first row contains one fewer field than\n",
       "the number of columns, the first column in the input is used for the\n",
       "row names.  Otherwise if <code>row.names</code> is missing, the rows are\n",
       "numbered.\n",
       "</p>\n",
       "<p>Using <code>row.names = NULL</code> forces row numbering. Missing or\n",
       "<code>NULL</code> <code>row.names</code> generate row names that are considered\n",
       "to be &lsquo;automatic&rsquo; (and not preserved by <code>as.matrix</code>).\n",
       "</p>\n",
       "</td></tr>\n",
       "<tr valign=\"top\"><td><code>col.names</code></td>\n",
       "<td>\n",
       "<p>a vector of optional names for the variables.\n",
       "The default is to use <code>\"V\"</code> followed by the column number.</p>\n",
       "</td></tr>\n",
       "<tr valign=\"top\"><td><code>as.is</code></td>\n",
       "<td>\n",
       "<p>the default behavior of <code>read.table</code> is to convert\n",
       "character variables (which are not converted to logical, numeric or\n",
       "complex) to factors.  The variable <code>as.is</code> controls the\n",
       "conversion of columns not otherwise specified by <code>colClasses</code>.\n",
       "Its value is either a vector of logicals (values are recycled if\n",
       "necessary), or a vector of numeric or character indices which\n",
       "specify which columns should not be converted to factors.\n",
       "</p>\n",
       "<p>Note: to suppress all conversions including those of numeric\n",
       "columns, set <code>colClasses = \"character\"</code>.\n",
       "</p>\n",
       "<p>Note that <code>as.is</code> is specified per column (not per\n",
       "variable) and so includes the column of row names (if any) and any\n",
       "columns to be skipped.\n",
       "</p>\n",
       "</td></tr>\n",
       "<tr valign=\"top\"><td><code>na.strings</code></td>\n",
       "<td>\n",
       "<p>a character vector of strings which are to be\n",
       "interpreted as <code>NA</code> values.  Blank fields are also\n",
       "considered to be missing values in logical, integer, numeric and\n",
       "complex fields.  Note that the test happens <em>after</em> \n",
       "white space is stripped from the input, so <code>na.strings</code> \n",
       "values may need their own white space stripped in advance.</p>\n",
       "</td></tr>\n",
       "<tr valign=\"top\"><td><code>colClasses</code></td>\n",
       "<td>\n",
       "<p>character.  A vector of classes to be assumed for\n",
       "the columns.  If unnamed, recycled as necessary.  If named, names\n",
       "are matched with unspecified values being taken to be <code>NA</code>.\n",
       "</p>\n",
       "<p>Possible values are <code>NA</code> (the default, when\n",
       "<code>type.convert</code> is used), <code>\"NULL\"</code> (when the column\n",
       "is skipped), one of the atomic vector classes (logical, integer,\n",
       "numeric, complex, character, raw), or <code>\"factor\"</code>, <code>\"Date\"</code>\n",
       "or <code>\"POSIXct\"</code>.  Otherwise there needs to be an <code>as</code>\n",
       "method (from package <span class=\"pkg\">methods</span>) for conversion from\n",
       "<code>\"character\"</code> to the specified formal class.\n",
       "</p>\n",
       "<p>Note that <code>colClasses</code> is specified per column (not per\n",
       "variable) and so includes the column of row names (if any).\n",
       "</p>\n",
       "</td></tr>\n",
       "<tr valign=\"top\"><td><code>nrows</code></td>\n",
       "<td>\n",
       "<p>integer: the maximum number of rows to read in.  Negative\n",
       "and other invalid values are ignored.</p>\n",
       "</td></tr>\n",
       "<tr valign=\"top\"><td><code>skip</code></td>\n",
       "<td>\n",
       "<p>integer: the number of lines of the data file to skip before\n",
       "beginning to read data.</p>\n",
       "</td></tr>\n",
       "<tr valign=\"top\"><td><code>check.names</code></td>\n",
       "<td>\n",
       "<p>logical.  If <code>TRUE</code> then the names of the\n",
       "variables in the data frame are checked to ensure that they are\n",
       "syntactically valid variable names.  If necessary they are adjusted\n",
       "(by <code>make.names</code>) so that they are, and also to ensure\n",
       "that there are no duplicates.</p>\n",
       "</td></tr>\n",
       "<tr valign=\"top\"><td><code>fill</code></td>\n",
       "<td>\n",
       "<p>logical. If <code>TRUE</code> then in case the rows have unequal\n",
       "length, blank fields are implicitly added.  See &lsquo;Details&rsquo;.</p>\n",
       "</td></tr>\n",
       "<tr valign=\"top\"><td><code>strip.white</code></td>\n",
       "<td>\n",
       "<p>logical. Used only when <code>sep</code> has\n",
       "been specified, and allows the stripping of leading and trailing\n",
       "white space from unquoted <code>character</code> fields (<code>numeric</code> fields\n",
       "are always stripped).  See <code>scan</code> for further details\n",
       "(including the exact meaning of &lsquo;white space&rsquo;),\n",
       "remembering that the columns may include the row names.</p>\n",
       "</td></tr>\n",
       "<tr valign=\"top\"><td><code>blank.lines.skip</code></td>\n",
       "<td>\n",
       "<p>logical: if <code>TRUE</code> blank lines in the\n",
       "input are ignored.</p>\n",
       "</td></tr>\n",
       "<tr valign=\"top\"><td><code>comment.char</code></td>\n",
       "<td>\n",
       "<p>character: a character vector of length one\n",
       "containing a single character or an empty string.  Use <code>\"\"</code> to\n",
       "turn off the interpretation of comments altogether.</p>\n",
       "</td></tr>\n",
       "<tr valign=\"top\"><td><code>allowEscapes</code></td>\n",
       "<td>\n",
       "<p>logical.  Should C-style escapes such as\n",
       "<span class=\"samp\">\\n</span> be processed or read verbatim (the default)?   Note that if\n",
       "not within quotes these could be interpreted as a delimiter (but not\n",
       "as a comment character).  For more details see <code>scan</code>.</p>\n",
       "</td></tr>\n",
       "<tr valign=\"top\"><td><code>flush</code></td>\n",
       "<td>\n",
       "<p>logical: if <code>TRUE</code>, <code>scan</code> will flush to the\n",
       "end of the line after reading the last of the fields requested.\n",
       "This allows putting comments after the last field.</p>\n",
       "</td></tr>\n",
       "<tr valign=\"top\"><td><code>stringsAsFactors</code></td>\n",
       "<td>\n",
       "<p>logical: should character vectors be converted\n",
       "to factors?  Note that this is overridden by <code>as.is</code> and\n",
       "<code>colClasses</code>, both of which allow finer control.</p>\n",
       "</td></tr>\n",
       "<tr valign=\"top\"><td><code>fileEncoding</code></td>\n",
       "<td>\n",
       "<p>character string: if non-empty declares the\n",
       "encoding used on a file (not a connection) so the character data can\n",
       "be re-encoded.  See the &lsquo;Encoding&rsquo; section of the help for\n",
       "<code>file</code>, the &lsquo;R Data Import/Export Manual&rsquo; and\n",
       "&lsquo;Note&rsquo;.\n",
       "</p>\n",
       "</td></tr>\n",
       "<tr valign=\"top\"><td><code>encoding</code></td>\n",
       "<td>\n",
       "<p>encoding to be assumed for input strings.  It is\n",
       "used to mark character strings as known to be in\n",
       "Latin-1 or UTF-8 (see <code>Encoding</code>): it is not used to\n",
       "re-encode the input, but allows <span style=\"font-family: Courier New, Courier; color: #666666;\"><b>R</b></span> to handle encoded strings in\n",
       "their native encoding (if one of those two).  See &lsquo;Value&rsquo;\n",
       "and &lsquo;Note&rsquo;.\n",
       "</p>\n",
       "</td></tr>\n",
       "<tr valign=\"top\"><td><code>text</code></td>\n",
       "<td>\n",
       "<p>character string: if <code>file</code> is not supplied and this is,\n",
       "then data are read from the value of <code>text</code> via a text connection.\n",
       "Notice that a literal string can be used to include (small) data sets\n",
       "within R code.\n",
       "</p>\n",
       "</td></tr>\n",
       "<tr valign=\"top\"><td><code>skipNul</code></td>\n",
       "<td>\n",
       "<p>logical: should nuls be skipped?</p>\n",
       "</td></tr>\n",
       "<tr valign=\"top\"><td><code>...</code></td>\n",
       "<td>\n",
       "<p>Further arguments to be passed to <code>read.table</code>.</p>\n",
       "</td></tr>\n",
       "</table>\n",
       "\n",
       "\n",
       "<h3>Details</h3>\n",
       "\n",
       "<p>This function is the principal means of reading tabular data into <span style=\"font-family: Courier New, Courier; color: #666666;\"><b>R</b></span>.\n",
       "</p>\n",
       "<p>Unless <code>colClasses</code> is specified, all columns are read as\n",
       "character columns and then converted using <code>type.convert</code>\n",
       "to logical, integer, numeric, complex or (depending on <code>as.is</code>)\n",
       "factor as appropriate.  Quotes are (by default) interpreted in all\n",
       "fields, so a column of values like <code>\"42\"</code> will result in an\n",
       "integer column.\n",
       "</p>\n",
       "<p>A field or line is &lsquo;blank&rsquo; if it contains nothing (except\n",
       "whitespace if no separator is specified) before a comment character or\n",
       "the end of the field or line.\n",
       "</p>\n",
       "<p>If <code>row.names</code> is not specified and the header line has one less\n",
       "entry than the number of columns, the first column is taken to be the\n",
       "row names.  This allows data frames to be read in from the format in\n",
       "which they are printed.  If <code>row.names</code> is specified and does\n",
       "not refer to the first column, that column is discarded from such files.\n",
       "</p>\n",
       "<p>The number of data columns is determined by looking at the first five\n",
       "lines of input (or the whole input if it has less than five lines), or\n",
       "from the length of <code>col.names</code> if it is specified and is longer.\n",
       "This could conceivably be wrong if <code>fill</code> or\n",
       "<code>blank.lines.skip</code> are true, so specify <code>col.names</code> if\n",
       "necessary (as in the &lsquo;Examples&rsquo;).\n",
       "</p>\n",
       "<p><code>read.csv</code> and <code>read.csv2</code> are identical to\n",
       "<code>read.table</code> except for the defaults.  They are intended for\n",
       "reading &lsquo;comma separated value&rsquo; files (&lsquo;<span class=\"file\">.csv</span>&rsquo;) or\n",
       "(<code>read.csv2</code>) the variant used in countries that use a comma as\n",
       "decimal point and a semicolon as field separator.  Similarly,\n",
       "<code>read.delim</code> and <code>read.delim2</code> are for reading delimited\n",
       "files, defaulting to the TAB character for the delimiter.  Notice that\n",
       "<code>header = TRUE</code> and <code>fill = TRUE</code> in these variants, and\n",
       "that the comment character is disabled.\n",
       "</p>\n",
       "<p>The rest of the line after a comment character is skipped; quotes\n",
       "are not processed in comments.  Complete comment lines are allowed\n",
       "provided <code>blank.lines.skip = TRUE</code>; however, comment lines prior\n",
       "to the header must have the comment character in the first non-blank\n",
       "column.\n",
       "</p>\n",
       "<p>Quoted fields with embedded newlines are supported except after a\n",
       "comment character.  Embedded nuls are unsupported: skipping them (with\n",
       "<code>skipNul = TRUE</code>) may work.\n",
       "</p>\n",
       "\n",
       "\n",
       "<h3>Value</h3>\n",
       "\n",
       "<p>A data frame (<code>data.frame</code>) containing a representation of\n",
       "the data in the file.\n",
       "</p>\n",
       "<p>Empty input is an error unless <code>col.names</code> is specified, when a\n",
       "0-row data frame is returned: similarly giving just a header line if\n",
       "<code>header = TRUE</code> results in a 0-row data frame.  Note that in\n",
       "either case the columns will be logical unless <code>colClasses</code> was\n",
       "supplied.\n",
       "</p>\n",
       "<p>Character strings in the result (including factor levels) will have a\n",
       "declared encoding if <code>encoding</code> is <code>\"latin1\"</code> or\n",
       "<code>\"UTF-8\"</code>.\n",
       "</p>\n",
       "\n",
       "\n",
       "<h3>Memory usage</h3>\n",
       "\n",
       "<p>These functions can use a surprising amount of memory when reading\n",
       "large files.  There is extensive discussion in the &lsquo;R Data\n",
       "Import/Export&rsquo; manual, supplementing the notes here.\n",
       "</p>\n",
       "<p>Less memory will be used if <code>colClasses</code> is specified as one of\n",
       "the six atomic vector classes.  This can be particularly so when\n",
       "reading a column that takes many distinct numeric values, as storing\n",
       "each distinct value as a character string can take up to 14 times as\n",
       "much memory as storing it as an integer.\n",
       "</p>\n",
       "<p>Using <code>nrows</code>, even as a mild over-estimate, will help memory\n",
       "usage.\n",
       "</p>\n",
       "<p>Using <code>comment.char = \"\"</code> will be appreciably faster than the\n",
       "<code>read.table</code> default.\n",
       "</p>\n",
       "<p><code>read.table</code> is not the right tool for reading large matrices,\n",
       "especially those with many columns: it is designed to read\n",
       "<em>data frames</em> which may have columns of very different classes.\n",
       "Use <code>scan</code> instead for matrices.\n",
       "</p>\n",
       "\n",
       "\n",
       "<h3>Note</h3>\n",
       "\n",
       "<p>The columns referred to in <code>as.is</code> and <code>colClasses</code> include\n",
       "the column of row names (if any).\n",
       "</p>\n",
       "<p>There are two approaches for reading input that is not in the local\n",
       "encoding.  If the input is known to be UTF-8 or Latin1, use the\n",
       "<code>encoding</code> argument to declare that.  If the input is in some\n",
       "other encoding, then it may be translated on input.  The <code>fileEncoding</code>\n",
       "argument achieves this by setting up a connection to do the re-encoding\n",
       "into the current locale.  Note that on Windows or other systems not running\n",
       "in a UTF-8 locale, this may not be possible.\n",
       "</p>\n",
       "\n",
       "\n",
       "<h3>References</h3>\n",
       "\n",
       "<p>Chambers, J. M. (1992)\n",
       "<em>Data for models.</em>\n",
       "Chapter 3 of <em>Statistical Models in S</em>\n",
       "eds J. M. Chambers and T. J. Hastie, Wadsworth &amp; Brooks/Cole.\n",
       "</p>\n",
       "\n",
       "\n",
       "<h3>See Also</h3>\n",
       "\n",
       "<p>The &lsquo;R Data Import/Export&rsquo; manual.\n",
       "</p>\n",
       "<p><code>scan</code>, <code>type.convert</code>,\n",
       "<code>read.fwf</code> for reading <em>f</em>ixed <em>w</em>idth\n",
       "<em>f</em>ormatted input;\n",
       "<code>write.table</code>;\n",
       "<code>data.frame</code>.\n",
       "</p>\n",
       "<p><code>count.fields</code> can be useful to determine problems with\n",
       "reading files which result in reports of incorrect record lengths (see\n",
       "the &lsquo;Examples&rsquo; below).\n",
       "</p>\n",
       "<p><a href=\"https://tools.ietf.org/html/rfc4180\">https://tools.ietf.org/html/rfc4180</a> for the IANA definition of\n",
       "CSV files (which requires comma as separator and CRLF line endings).\n",
       "</p>\n",
       "\n",
       "\n",
       "<h3>Examples</h3>\n",
       "\n",
       "<pre>\n",
       "## using count.fields to handle unknown maximum number of fields\n",
       "## when fill = TRUE\n",
       "test1 &lt;- c(1:5, \"6,7\", \"8,9,10\")\n",
       "tf &lt;- tempfile()\n",
       "writeLines(test1, tf)\n",
       "\n",
       "read.csv(tf, fill = TRUE) # 1 column\n",
       "ncol &lt;- max(count.fields(tf, sep = \",\"))\n",
       "read.csv(tf, fill = TRUE, header = FALSE,\n",
       "         col.names = paste0(\"V\", seq_len(ncol)))\n",
       "unlink(tf)\n",
       "\n",
       "## \"Inline\" data set, using text=\n",
       "## Notice that leading and trailing empty lines are auto-trimmed\n",
       "\n",
       "read.table(header = TRUE, text = \"\n",
       "a b\n",
       "1 2\n",
       "3 4\n",
       "\")\n",
       "</pre>\n",
       "\n",
       "<hr /><div style=\"text-align: center;\">[Package <em>utils</em> version 3.3.2 ]</div>"
      ],
      "text/latex": [
       "\\inputencoding{utf8}\n",
       "\\HeaderA{read.table}{Data Input}{read.table}\n",
       "\\aliasA{read.csv}{read.table}{read.csv}\n",
       "\\aliasA{read.csv2}{read.table}{read.csv2}\n",
       "\\aliasA{read.delim}{read.table}{read.delim}\n",
       "\\aliasA{read.delim2}{read.table}{read.delim2}\n",
       "\\keyword{file}{read.table}\n",
       "\\keyword{connection}{read.table}\n",
       "%\n",
       "\\begin{Description}\\relax\n",
       "Reads a file in table format and creates a data frame from it, with\n",
       "cases corresponding to lines and variables to fields in the file.\n",
       "\\end{Description}\n",
       "%\n",
       "\\begin{Usage}\n",
       "\\begin{verbatim}\n",
       "read.table(file, header = FALSE, sep = \"\", quote = \"\\\"'\",\n",
       "           dec = \".\", numerals = c(\"allow.loss\", \"warn.loss\", \"no.loss\"),\n",
       "           row.names, col.names, as.is = !stringsAsFactors,\n",
       "           na.strings = \"NA\", colClasses = NA, nrows = -1,\n",
       "           skip = 0, check.names = TRUE, fill = !blank.lines.skip,\n",
       "           strip.white = FALSE, blank.lines.skip = TRUE,\n",
       "           comment.char = \"#\",\n",
       "           allowEscapes = FALSE, flush = FALSE,\n",
       "           stringsAsFactors = default.stringsAsFactors(),\n",
       "           fileEncoding = \"\", encoding = \"unknown\", text, skipNul = FALSE)\n",
       "\n",
       "read.csv(file, header = TRUE, sep = \",\", quote = \"\\\"\",\n",
       "         dec = \".\", fill = TRUE, comment.char = \"\", ...)\n",
       "\n",
       "read.csv2(file, header = TRUE, sep = \";\", quote = \"\\\"\",\n",
       "          dec = \",\", fill = TRUE, comment.char = \"\", ...)\n",
       "\n",
       "read.delim(file, header = TRUE, sep = \"\\t\", quote = \"\\\"\",\n",
       "           dec = \".\", fill = TRUE, comment.char = \"\", ...)\n",
       "\n",
       "read.delim2(file, header = TRUE, sep = \"\\t\", quote = \"\\\"\",\n",
       "            dec = \",\", fill = TRUE, comment.char = \"\", ...)\n",
       "\\end{verbatim}\n",
       "\\end{Usage}\n",
       "%\n",
       "\\begin{Arguments}\n",
       "\\begin{ldescription}\n",
       "\\item[\\code{file}] the name of the file which the data are to be read from.\n",
       "Each row of the table appears as one line of the file.  If it does\n",
       "not contain an \\emph{absolute} path, the file name is\n",
       "\\emph{relative} to the current working directory,\n",
       "\\code{\\LinkA{getwd}{getwd}()}. Tilde-expansion is performed where supported.\n",
       "This can be a compressed file (see \\code{\\LinkA{file}{file}}).\n",
       "\n",
       "Alternatively, \\code{file} can be a readable text-mode\n",
       "\\LinkA{connection}{connection} (which will be opened for reading if\n",
       "necessary, and if so \\code{\\LinkA{close}{close}}d (and hence destroyed) at\n",
       "the end of the function call).  (If \\code{\\LinkA{stdin}{stdin}()} is used,\n",
       "the prompts for lines may be somewhat confusing.  Terminate input\n",
       "with a blank line or an EOF signal, \\code{Ctrl-D} on Unix and\n",
       "\\code{Ctrl-Z} on Windows.  Any pushback on \\code{stdin()} will be\n",
       "cleared before return.)\n",
       "\n",
       "\\code{file} can also be a complete URL.  (For the supported URL\n",
       "schemes, see the `URLs' section of the help for\n",
       "\\code{\\LinkA{url}{url}}.)\n",
       "\n",
       "\n",
       "\\item[\\code{header}] a logical value indicating whether the file contains the\n",
       "names of the variables as its first line.  If missing, the value is\n",
       "determined from the file format: \\code{header} is set to \\code{TRUE}\n",
       "if and only if the first row contains one fewer field than the\n",
       "number of columns.\n",
       "\n",
       "\\item[\\code{sep}] the field separator character.  Values on each line of the\n",
       "file are separated by this character.  If \\code{sep = \"\"} (the\n",
       "default for \\code{read.table}) the separator is `white space',\n",
       "that is one or more spaces, tabs, newlines or carriage returns.\n",
       "\n",
       "\\item[\\code{quote}] the set of quoting characters. To disable quoting\n",
       "altogether, use \\code{quote = \"\"}.  See \\code{\\LinkA{scan}{scan}} for the\n",
       "behaviour on quotes embedded in quotes.  Quoting is only considered\n",
       "for columns read as character, which is all of them unless\n",
       "\\code{colClasses} is specified.\n",
       "\n",
       "\\item[\\code{dec}] the character used in the file for decimal points.\n",
       "\n",
       "\\item[\\code{numerals}] string indicating how to convert numbers whose conversion\n",
       "to double precision would lose accuracy, see \\code{\\LinkA{type.convert}{type.convert}}.\n",
       "Can be abbreviated.  (Applies also to complex-number inputs.)\n",
       "\n",
       "\\item[\\code{row.names}] a vector of row names.  This can be a vector giving\n",
       "the actual row names, or a single number giving the column of the\n",
       "table which contains the row names, or character string giving the\n",
       "name of the table column containing the row names.\n",
       "\n",
       "If there is a header and the first row contains one fewer field than\n",
       "the number of columns, the first column in the input is used for the\n",
       "row names.  Otherwise if \\code{row.names} is missing, the rows are\n",
       "numbered.\n",
       "\n",
       "Using \\code{row.names = NULL} forces row numbering. Missing or\n",
       "\\code{NULL} \\code{row.names} generate row names that are considered\n",
       "to be `automatic' (and not preserved by \\code{\\LinkA{as.matrix}{as.matrix}}).\n",
       "\n",
       "\n",
       "\\item[\\code{col.names}] a vector of optional names for the variables.\n",
       "The default is to use \\code{\"V\"} followed by the column number.\n",
       "\n",
       "\\item[\\code{as.is}] the default behavior of \\code{read.table} is to convert\n",
       "character variables (which are not converted to logical, numeric or\n",
       "complex) to factors.  The variable \\code{as.is} controls the\n",
       "conversion of columns not otherwise specified by \\code{colClasses}.\n",
       "Its value is either a vector of logicals (values are recycled if\n",
       "necessary), or a vector of numeric or character indices which\n",
       "specify which columns should not be converted to factors.\n",
       "\n",
       "Note: to suppress all conversions including those of numeric\n",
       "columns, set \\code{colClasses = \"character\"}.\n",
       "\n",
       "Note that \\code{as.is} is specified per column (not per\n",
       "variable) and so includes the column of row names (if any) and any\n",
       "columns to be skipped.\n",
       "\n",
       "\n",
       "\\item[\\code{na.strings}] a character vector of strings which are to be\n",
       "interpreted as \\code{\\LinkA{NA}{NA}} values.  Blank fields are also\n",
       "considered to be missing values in logical, integer, numeric and\n",
       "complex fields.  Note that the test happens \\emph{after} \n",
       "white space is stripped from the input, so \\code{na.strings} \n",
       "values may need their own white space stripped in advance.\n",
       "\n",
       "\\item[\\code{colClasses}] character.  A vector of classes to be assumed for\n",
       "the columns.  If unnamed, recycled as necessary.  If named, names\n",
       "are matched with unspecified values being taken to be \\code{NA}.\n",
       "\n",
       "Possible values are \\code{NA} (the default, when\n",
       "\\code{\\LinkA{type.convert}{type.convert}} is used), \\code{\"NULL\"} (when the column\n",
       "is skipped), one of the atomic vector classes (logical, integer,\n",
       "numeric, complex, character, raw), or \\code{\"factor\"}, \\code{\"Date\"}\n",
       "or \\code{\"POSIXct\"}.  Otherwise there needs to be an \\code{as}\n",
       "method (from package \\pkg{methods}) for conversion from\n",
       "\\code{\"character\"} to the specified formal class.\n",
       "\n",
       "Note that \\code{colClasses} is specified per column (not per\n",
       "variable) and so includes the column of row names (if any).\n",
       "\n",
       "\n",
       "\\item[\\code{nrows}] integer: the maximum number of rows to read in.  Negative\n",
       "and other invalid values are ignored.\n",
       "\n",
       "\\item[\\code{skip}] integer: the number of lines of the data file to skip before\n",
       "beginning to read data.\n",
       "\n",
       "\\item[\\code{check.names}] logical.  If \\code{TRUE} then the names of the\n",
       "variables in the data frame are checked to ensure that they are\n",
       "syntactically valid variable names.  If necessary they are adjusted\n",
       "(by \\code{\\LinkA{make.names}{make.names}}) so that they are, and also to ensure\n",
       "that there are no duplicates.\n",
       "\n",
       "\\item[\\code{fill}] logical. If \\code{TRUE} then in case the rows have unequal\n",
       "length, blank fields are implicitly added.  See `Details'.\n",
       "\n",
       "\\item[\\code{strip.white}] logical. Used only when \\code{sep} has\n",
       "been specified, and allows the stripping of leading and trailing\n",
       "white space from unquoted \\code{character} fields (\\code{numeric} fields\n",
       "are always stripped).  See \\code{\\LinkA{scan}{scan}} for further details\n",
       "(including the exact meaning of `white space'),\n",
       "remembering that the columns may include the row names.\n",
       "\n",
       "\\item[\\code{blank.lines.skip}] logical: if \\code{TRUE} blank lines in the\n",
       "input are ignored.\n",
       "\n",
       "\\item[\\code{comment.char}] character: a character vector of length one\n",
       "containing a single character or an empty string.  Use \\code{\"\"} to\n",
       "turn off the interpretation of comments altogether.\n",
       "\n",
       "\\item[\\code{allowEscapes}] logical.  Should C-style escapes such as\n",
       "\\samp{\\bsl{}n} be processed or read verbatim (the default)?   Note that if\n",
       "not within quotes these could be interpreted as a delimiter (but not\n",
       "as a comment character).  For more details see \\code{\\LinkA{scan}{scan}}.\n",
       "\n",
       "\\item[\\code{flush}] logical: if \\code{TRUE}, \\code{scan} will flush to the\n",
       "end of the line after reading the last of the fields requested.\n",
       "This allows putting comments after the last field.\n",
       "\n",
       "\\item[\\code{stringsAsFactors}] logical: should character vectors be converted\n",
       "to factors?  Note that this is overridden by \\code{as.is} and\n",
       "\\code{colClasses}, both of which allow finer control.\n",
       "\n",
       "\\item[\\code{fileEncoding}] character string: if non-empty declares the\n",
       "encoding used on a file (not a connection) so the character data can\n",
       "be re-encoded.  See the `Encoding' section of the help for\n",
       "\\code{\\LinkA{file}{file}}, the `R Data Import/Export Manual' and\n",
       "`Note'.\n",
       "\n",
       "\n",
       "\\item[\\code{encoding}] encoding to be assumed for input strings.  It is\n",
       "used to mark character strings as known to be in\n",
       "Latin-1 or UTF-8 (see \\code{\\LinkA{Encoding}{Encoding}}): it is not used to\n",
       "re-encode the input, but allows \\R{} to handle encoded strings in\n",
       "their native encoding (if one of those two).  See `Value'\n",
       "and `Note'.\n",
       "\n",
       "\n",
       "\\item[\\code{text}] character string: if \\code{file} is not supplied and this is,\n",
       "then data are read from the value of \\code{text} via a text connection.\n",
       "Notice that a literal string can be used to include (small) data sets\n",
       "within R code.\n",
       "\n",
       "\n",
       "\\item[\\code{skipNul}] logical: should nuls be skipped?\n",
       "\n",
       "\\item[\\code{...}] Further arguments to be passed to \\code{read.table}.\n",
       "\\end{ldescription}\n",
       "\\end{Arguments}\n",
       "%\n",
       "\\begin{Details}\\relax\n",
       "This function is the principal means of reading tabular data into \\R{}.\n",
       "\n",
       "Unless \\code{colClasses} is specified, all columns are read as\n",
       "character columns and then converted using \\code{\\LinkA{type.convert}{type.convert}}\n",
       "to logical, integer, numeric, complex or (depending on \\code{as.is})\n",
       "factor as appropriate.  Quotes are (by default) interpreted in all\n",
       "fields, so a column of values like \\code{\"42\"} will result in an\n",
       "integer column.\n",
       "\n",
       "A field or line is `blank' if it contains nothing (except\n",
       "whitespace if no separator is specified) before a comment character or\n",
       "the end of the field or line.\n",
       "\n",
       "If \\code{row.names} is not specified and the header line has one less\n",
       "entry than the number of columns, the first column is taken to be the\n",
       "row names.  This allows data frames to be read in from the format in\n",
       "which they are printed.  If \\code{row.names} is specified and does\n",
       "not refer to the first column, that column is discarded from such files.\n",
       "\n",
       "The number of data columns is determined by looking at the first five\n",
       "lines of input (or the whole input if it has less than five lines), or\n",
       "from the length of \\code{col.names} if it is specified and is longer.\n",
       "This could conceivably be wrong if \\code{fill} or\n",
       "\\code{blank.lines.skip} are true, so specify \\code{col.names} if\n",
       "necessary (as in the `Examples').\n",
       "\n",
       "\\code{read.csv} and \\code{read.csv2} are identical to\n",
       "\\code{read.table} except for the defaults.  They are intended for\n",
       "reading `comma separated value' files (\\file{.csv}) or\n",
       "(\\code{read.csv2}) the variant used in countries that use a comma as\n",
       "decimal point and a semicolon as field separator.  Similarly,\n",
       "\\code{read.delim} and \\code{read.delim2} are for reading delimited\n",
       "files, defaulting to the TAB character for the delimiter.  Notice that\n",
       "\\code{header = TRUE} and \\code{fill = TRUE} in these variants, and\n",
       "that the comment character is disabled.\n",
       "\n",
       "The rest of the line after a comment character is skipped; quotes\n",
       "are not processed in comments.  Complete comment lines are allowed\n",
       "provided \\code{blank.lines.skip = TRUE}; however, comment lines prior\n",
       "to the header must have the comment character in the first non-blank\n",
       "column.\n",
       "\n",
       "Quoted fields with embedded newlines are supported except after a\n",
       "comment character.  Embedded nuls are unsupported: skipping them (with\n",
       "\\code{skipNul = TRUE}) may work.\n",
       "\\end{Details}\n",
       "%\n",
       "\\begin{Value}\n",
       "A data frame (\\code{\\LinkA{data.frame}{data.frame}}) containing a representation of\n",
       "the data in the file.\n",
       "\n",
       "Empty input is an error unless \\code{col.names} is specified, when a\n",
       "0-row data frame is returned: similarly giving just a header line if\n",
       "\\code{header = TRUE} results in a 0-row data frame.  Note that in\n",
       "either case the columns will be logical unless \\code{colClasses} was\n",
       "supplied.\n",
       "\n",
       "Character strings in the result (including factor levels) will have a\n",
       "declared encoding if \\code{encoding} is \\code{\"latin1\"} or\n",
       "\\code{\"UTF-8\"}.\n",
       "\\end{Value}\n",
       "%\n",
       "\\begin{Section}{Memory usage}\n",
       "These functions can use a surprising amount of memory when reading\n",
       "large files.  There is extensive discussion in the `R Data\n",
       "Import/Export' manual, supplementing the notes here.\n",
       "\n",
       "Less memory will be used if \\code{colClasses} is specified as one of\n",
       "the six \\LinkA{atomic}{atomic} vector classes.  This can be particularly so when\n",
       "reading a column that takes many distinct numeric values, as storing\n",
       "each distinct value as a character string can take up to 14 times as\n",
       "much memory as storing it as an integer.\n",
       "\n",
       "Using \\code{nrows}, even as a mild over-estimate, will help memory\n",
       "usage.\n",
       "\n",
       "Using \\code{comment.char = \"\"} will be appreciably faster than the\n",
       "\\code{read.table} default.\n",
       "\n",
       "\\code{read.table} is not the right tool for reading large matrices,\n",
       "especially those with many columns: it is designed to read\n",
       "\\emph{data frames} which may have columns of very different classes.\n",
       "Use \\code{\\LinkA{scan}{scan}} instead for matrices.\n",
       "\\end{Section}\n",
       "%\n",
       "\\begin{Note}\\relax\n",
       "The columns referred to in \\code{as.is} and \\code{colClasses} include\n",
       "the column of row names (if any).\n",
       "\n",
       "There are two approaches for reading input that is not in the local\n",
       "encoding.  If the input is known to be UTF-8 or Latin1, use the\n",
       "\\code{encoding} argument to declare that.  If the input is in some\n",
       "other encoding, then it may be translated on input.  The \\code{fileEncoding}\n",
       "argument achieves this by setting up a connection to do the re-encoding\n",
       "into the current locale.  Note that on Windows or other systems not running\n",
       "in a UTF-8 locale, this may not be possible.\n",
       "\\end{Note}\n",
       "%\n",
       "\\begin{References}\\relax\n",
       "Chambers, J. M. (1992)\n",
       "\\emph{Data for models.}\n",
       "Chapter 3 of \\emph{Statistical Models in S}\n",
       "eds J. M. Chambers and T. J. Hastie, Wadsworth \\& Brooks/Cole.\n",
       "\\end{References}\n",
       "%\n",
       "\\begin{SeeAlso}\\relax\n",
       "The `R Data Import/Export' manual.\n",
       "\n",
       "\\code{\\LinkA{scan}{scan}}, \\code{\\LinkA{type.convert}{type.convert}},\n",
       "\\code{\\LinkA{read.fwf}{read.fwf}} for reading \\emph{f}ixed \\emph{w}idth\n",
       "\\emph{f}ormatted input;\n",
       "\\code{\\LinkA{write.table}{write.table}};\n",
       "\\code{\\LinkA{data.frame}{data.frame}}.\n",
       "\n",
       "\\code{\\LinkA{count.fields}{count.fields}} can be useful to determine problems with\n",
       "reading files which result in reports of incorrect record lengths (see\n",
       "the `Examples' below).\n",
       "\n",
       "\\url{https://tools.ietf.org/html/rfc4180} for the IANA definition of\n",
       "CSV files (which requires comma as separator and CRLF line endings).\n",
       "\\end{SeeAlso}\n",
       "%\n",
       "\\begin{Examples}\n",
       "\\begin{ExampleCode}\n",
       "## using count.fields to handle unknown maximum number of fields\n",
       "## when fill = TRUE\n",
       "test1 <- c(1:5, \"6,7\", \"8,9,10\")\n",
       "tf <- tempfile()\n",
       "writeLines(test1, tf)\n",
       "\n",
       "read.csv(tf, fill = TRUE) # 1 column\n",
       "ncol <- max(count.fields(tf, sep = \",\"))\n",
       "read.csv(tf, fill = TRUE, header = FALSE,\n",
       "         col.names = paste0(\"V\", seq_len(ncol)))\n",
       "unlink(tf)\n",
       "\n",
       "## \"Inline\" data set, using text=\n",
       "## Notice that leading and trailing empty lines are auto-trimmed\n",
       "\n",
       "read.table(header = TRUE, text = \"\n",
       "a b\n",
       "1 2\n",
       "3 4\n",
       "\")\n",
       "\\end{ExampleCode}\n",
       "\\end{Examples}"
      ],
      "text/plain": [
       "read.table                package:utils                R Documentation\n",
       "\n",
       "_\bD_\ba_\bt_\ba _\bI_\bn_\bp_\bu_\bt\n",
       "\n",
       "_\bD_\be_\bs_\bc_\br_\bi_\bp_\bt_\bi_\bo_\bn:\n",
       "\n",
       "     Reads a file in table format and creates a data frame from it,\n",
       "     with cases corresponding to lines and variables to fields in the\n",
       "     file.\n",
       "\n",
       "_\bU_\bs_\ba_\bg_\be:\n",
       "\n",
       "     read.table(file, header = FALSE, sep = \"\", quote = \"\\\"'\",\n",
       "                dec = \".\", numerals = c(\"allow.loss\", \"warn.loss\", \"no.loss\"),\n",
       "                row.names, col.names, as.is = !stringsAsFactors,\n",
       "                na.strings = \"NA\", colClasses = NA, nrows = -1,\n",
       "                skip = 0, check.names = TRUE, fill = !blank.lines.skip,\n",
       "                strip.white = FALSE, blank.lines.skip = TRUE,\n",
       "                comment.char = \"#\",\n",
       "                allowEscapes = FALSE, flush = FALSE,\n",
       "                stringsAsFactors = default.stringsAsFactors(),\n",
       "                fileEncoding = \"\", encoding = \"unknown\", text, skipNul = FALSE)\n",
       "     \n",
       "     read.csv(file, header = TRUE, sep = \",\", quote = \"\\\"\",\n",
       "              dec = \".\", fill = TRUE, comment.char = \"\", ...)\n",
       "     \n",
       "     read.csv2(file, header = TRUE, sep = \";\", quote = \"\\\"\",\n",
       "               dec = \",\", fill = TRUE, comment.char = \"\", ...)\n",
       "     \n",
       "     read.delim(file, header = TRUE, sep = \"\\t\", quote = \"\\\"\",\n",
       "                dec = \".\", fill = TRUE, comment.char = \"\", ...)\n",
       "     \n",
       "     read.delim2(file, header = TRUE, sep = \"\\t\", quote = \"\\\"\",\n",
       "                 dec = \",\", fill = TRUE, comment.char = \"\", ...)\n",
       "     \n",
       "_\bA_\br_\bg_\bu_\bm_\be_\bn_\bt_\bs:\n",
       "\n",
       "    file: the name of the file which the data are to be read from.\n",
       "          Each row of the table appears as one line of the file.  If it\n",
       "          does not contain an _absolute_ path, the file name is\n",
       "          _relative_ to the current working directory, ‘getwd()’.\n",
       "          Tilde-expansion is performed where supported.  This can be a\n",
       "          compressed file (see ‘file’).\n",
       "\n",
       "          Alternatively, ‘file’ can be a readable text-mode connection\n",
       "          (which will be opened for reading if necessary, and if so\n",
       "          ‘close’d (and hence destroyed) at the end of the function\n",
       "          call).  (If ‘stdin()’ is used, the prompts for lines may be\n",
       "          somewhat confusing.  Terminate input with a blank line or an\n",
       "          EOF signal, ‘Ctrl-D’ on Unix and ‘Ctrl-Z’ on Windows.  Any\n",
       "          pushback on ‘stdin()’ will be cleared before return.)\n",
       "\n",
       "          ‘file’ can also be a complete URL.  (For the supported URL\n",
       "          schemes, see the ‘URLs’ section of the help for ‘url’.)\n",
       "\n",
       "  header: a logical value indicating whether the file contains the\n",
       "          names of the variables as its first line.  If missing, the\n",
       "          value is determined from the file format: ‘header’ is set to\n",
       "          ‘TRUE’ if and only if the first row contains one fewer field\n",
       "          than the number of columns.\n",
       "\n",
       "     sep: the field separator character.  Values on each line of the\n",
       "          file are separated by this character.  If ‘sep = \"\"’ (the\n",
       "          default for ‘read.table’) the separator is ‘white space’,\n",
       "          that is one or more spaces, tabs, newlines or carriage\n",
       "          returns.\n",
       "\n",
       "   quote: the set of quoting characters. To disable quoting altogether,\n",
       "          use ‘quote = \"\"’.  See ‘scan’ for the behaviour on quotes\n",
       "          embedded in quotes.  Quoting is only considered for columns\n",
       "          read as character, which is all of them unless ‘colClasses’\n",
       "          is specified.\n",
       "\n",
       "     dec: the character used in the file for decimal points.\n",
       "\n",
       "numerals: string indicating how to convert numbers whose conversion to\n",
       "          double precision would lose accuracy, see ‘type.convert’.\n",
       "          Can be abbreviated.  (Applies also to complex-number inputs.)\n",
       "\n",
       "row.names: a vector of row names.  This can be a vector giving the\n",
       "          actual row names, or a single number giving the column of the\n",
       "          table which contains the row names, or character string\n",
       "          giving the name of the table column containing the row names.\n",
       "\n",
       "          If there is a header and the first row contains one fewer\n",
       "          field than the number of columns, the first column in the\n",
       "          input is used for the row names.  Otherwise if ‘row.names’ is\n",
       "          missing, the rows are numbered.\n",
       "\n",
       "          Using ‘row.names = NULL’ forces row numbering. Missing or\n",
       "          ‘NULL’ ‘row.names’ generate row names that are considered to\n",
       "          be ‘automatic’ (and not preserved by ‘as.matrix’).\n",
       "\n",
       "col.names: a vector of optional names for the variables.  The default\n",
       "          is to use ‘\"V\"’ followed by the column number.\n",
       "\n",
       "   as.is: the default behavior of ‘read.table’ is to convert character\n",
       "          variables (which are not converted to logical, numeric or\n",
       "          complex) to factors.  The variable ‘as.is’ controls the\n",
       "          conversion of columns not otherwise specified by\n",
       "          ‘colClasses’.  Its value is either a vector of logicals\n",
       "          (values are recycled if necessary), or a vector of numeric or\n",
       "          character indices which specify which columns should not be\n",
       "          converted to factors.\n",
       "\n",
       "          Note: to suppress all conversions including those of numeric\n",
       "          columns, set ‘colClasses = \"character\"’.\n",
       "\n",
       "          Note that ‘as.is’ is specified per column (not per variable)\n",
       "          and so includes the column of row names (if any) and any\n",
       "          columns to be skipped.\n",
       "\n",
       "na.strings: a character vector of strings which are to be interpreted\n",
       "          as ‘NA’ values.  Blank fields are also considered to be\n",
       "          missing values in logical, integer, numeric and complex\n",
       "          fields.  Note that the test happens _after_ white space is\n",
       "          stripped from the input, so ‘na.strings’ values may need\n",
       "          their own white space stripped in advance.\n",
       "\n",
       "colClasses: character.  A vector of classes to be assumed for the\n",
       "          columns.  If unnamed, recycled as necessary.  If named, names\n",
       "          are matched with unspecified values being taken to be ‘NA’.\n",
       "\n",
       "          Possible values are ‘NA’ (the default, when ‘type.convert’ is\n",
       "          used), ‘\"NULL\"’ (when the column is skipped), one of the\n",
       "          atomic vector classes (logical, integer, numeric, complex,\n",
       "          character, raw), or ‘\"factor\"’, ‘\"Date\"’ or ‘\"POSIXct\"’.\n",
       "          Otherwise there needs to be an ‘as’ method (from package\n",
       "          ‘methods’) for conversion from ‘\"character\"’ to the specified\n",
       "          formal class.\n",
       "\n",
       "          Note that ‘colClasses’ is specified per column (not per\n",
       "          variable) and so includes the column of row names (if any).\n",
       "\n",
       "   nrows: integer: the maximum number of rows to read in.  Negative and\n",
       "          other invalid values are ignored.\n",
       "\n",
       "    skip: integer: the number of lines of the data file to skip before\n",
       "          beginning to read data.\n",
       "\n",
       "check.names: logical.  If ‘TRUE’ then the names of the variables in the\n",
       "          data frame are checked to ensure that they are syntactically\n",
       "          valid variable names.  If necessary they are adjusted (by\n",
       "          ‘make.names’) so that they are, and also to ensure that there\n",
       "          are no duplicates.\n",
       "\n",
       "    fill: logical. If ‘TRUE’ then in case the rows have unequal length,\n",
       "          blank fields are implicitly added.  See ‘Details’.\n",
       "\n",
       "strip.white: logical. Used only when ‘sep’ has been specified, and\n",
       "          allows the stripping of leading and trailing white space from\n",
       "          unquoted ‘character’ fields (‘numeric’ fields are always\n",
       "          stripped).  See ‘scan’ for further details (including the\n",
       "          exact meaning of ‘white space’), remembering that the columns\n",
       "          may include the row names.\n",
       "\n",
       "blank.lines.skip: logical: if ‘TRUE’ blank lines in the input are\n",
       "          ignored.\n",
       "\n",
       "comment.char: character: a character vector of length one containing a\n",
       "          single character or an empty string.  Use ‘\"\"’ to turn off\n",
       "          the interpretation of comments altogether.\n",
       "\n",
       "allowEscapes: logical.  Should C-style escapes such as ‘\\n’ be\n",
       "          processed or read verbatim (the default)?  Note that if not\n",
       "          within quotes these could be interpreted as a delimiter (but\n",
       "          not as a comment character).  For more details see ‘scan’.\n",
       "\n",
       "   flush: logical: if ‘TRUE’, ‘scan’ will flush to the end of the line\n",
       "          after reading the last of the fields requested.  This allows\n",
       "          putting comments after the last field.\n",
       "\n",
       "stringsAsFactors: logical: should character vectors be converted to\n",
       "          factors?  Note that this is overridden by ‘as.is’ and\n",
       "          ‘colClasses’, both of which allow finer control.\n",
       "\n",
       "fileEncoding: character string: if non-empty declares the encoding used\n",
       "          on a file (not a connection) so the character data can be\n",
       "          re-encoded.  See the ‘Encoding’ section of the help for\n",
       "          ‘file’, the ‘R Data Import/Export Manual’ and ‘Note’.\n",
       "\n",
       "encoding: encoding to be assumed for input strings.  It is used to mark\n",
       "          character strings as known to be in Latin-1 or UTF-8 (see\n",
       "          ‘Encoding’): it is not used to re-encode the input, but\n",
       "          allows R to handle encoded strings in their native encoding\n",
       "          (if one of those two).  See ‘Value’ and ‘Note’.\n",
       "\n",
       "    text: character string: if ‘file’ is not supplied and this is, then\n",
       "          data are read from the value of ‘text’ via a text connection.\n",
       "          Notice that a literal string can be used to include (small)\n",
       "          data sets within R code.\n",
       "\n",
       " skipNul: logical: should nuls be skipped?\n",
       "\n",
       "     ...: Further arguments to be passed to ‘read.table’.\n",
       "\n",
       "_\bD_\be_\bt_\ba_\bi_\bl_\bs:\n",
       "\n",
       "     This function is the principal means of reading tabular data into\n",
       "     R.\n",
       "\n",
       "     Unless ‘colClasses’ is specified, all columns are read as\n",
       "     character columns and then converted using ‘type.convert’ to\n",
       "     logical, integer, numeric, complex or (depending on ‘as.is’)\n",
       "     factor as appropriate.  Quotes are (by default) interpreted in all\n",
       "     fields, so a column of values like ‘\"42\"’ will result in an\n",
       "     integer column.\n",
       "\n",
       "     A field or line is ‘blank’ if it contains nothing (except\n",
       "     whitespace if no separator is specified) before a comment\n",
       "     character or the end of the field or line.\n",
       "\n",
       "     If ‘row.names’ is not specified and the header line has one less\n",
       "     entry than the number of columns, the first column is taken to be\n",
       "     the row names.  This allows data frames to be read in from the\n",
       "     format in which they are printed.  If ‘row.names’ is specified and\n",
       "     does not refer to the first column, that column is discarded from\n",
       "     such files.\n",
       "\n",
       "     The number of data columns is determined by looking at the first\n",
       "     five lines of input (or the whole input if it has less than five\n",
       "     lines), or from the length of ‘col.names’ if it is specified and\n",
       "     is longer.  This could conceivably be wrong if ‘fill’ or\n",
       "     ‘blank.lines.skip’ are true, so specify ‘col.names’ if necessary\n",
       "     (as in the ‘Examples’).\n",
       "\n",
       "     ‘read.csv’ and ‘read.csv2’ are identical to ‘read.table’ except\n",
       "     for the defaults.  They are intended for reading ‘comma separated\n",
       "     value’ files (‘.csv’) or (‘read.csv2’) the variant used in\n",
       "     countries that use a comma as decimal point and a semicolon as\n",
       "     field separator.  Similarly, ‘read.delim’ and ‘read.delim2’ are\n",
       "     for reading delimited files, defaulting to the TAB character for\n",
       "     the delimiter.  Notice that ‘header = TRUE’ and ‘fill = TRUE’ in\n",
       "     these variants, and that the comment character is disabled.\n",
       "\n",
       "     The rest of the line after a comment character is skipped; quotes\n",
       "     are not processed in comments.  Complete comment lines are allowed\n",
       "     provided ‘blank.lines.skip = TRUE’; however, comment lines prior\n",
       "     to the header must have the comment character in the first\n",
       "     non-blank column.\n",
       "\n",
       "     Quoted fields with embedded newlines are supported except after a\n",
       "     comment character.  Embedded nuls are unsupported: skipping them\n",
       "     (with ‘skipNul = TRUE’) may work.\n",
       "\n",
       "_\bV_\ba_\bl_\bu_\be:\n",
       "\n",
       "     A data frame (‘data.frame’) containing a representation of the\n",
       "     data in the file.\n",
       "\n",
       "     Empty input is an error unless ‘col.names’ is specified, when a\n",
       "     0-row data frame is returned: similarly giving just a header line\n",
       "     if ‘header = TRUE’ results in a 0-row data frame.  Note that in\n",
       "     either case the columns will be logical unless ‘colClasses’ was\n",
       "     supplied.\n",
       "\n",
       "     Character strings in the result (including factor levels) will\n",
       "     have a declared encoding if ‘encoding’ is ‘\"latin1\"’ or ‘\"UTF-8\"’.\n",
       "\n",
       "_\bM_\be_\bm_\bo_\br_\by _\bu_\bs_\ba_\bg_\be:\n",
       "\n",
       "     These functions can use a surprising amount of memory when reading\n",
       "     large files.  There is extensive discussion in the ‘R Data\n",
       "     Import/Export’ manual, supplementing the notes here.\n",
       "\n",
       "     Less memory will be used if ‘colClasses’ is specified as one of\n",
       "     the six atomic vector classes.  This can be particularly so when\n",
       "     reading a column that takes many distinct numeric values, as\n",
       "     storing each distinct value as a character string can take up to\n",
       "     14 times as much memory as storing it as an integer.\n",
       "\n",
       "     Using ‘nrows’, even as a mild over-estimate, will help memory\n",
       "     usage.\n",
       "\n",
       "     Using ‘comment.char = \"\"’ will be appreciably faster than the\n",
       "     ‘read.table’ default.\n",
       "\n",
       "     ‘read.table’ is not the right tool for reading large matrices,\n",
       "     especially those with many columns: it is designed to read _data\n",
       "     frames_ which may have columns of very different classes.  Use\n",
       "     ‘scan’ instead for matrices.\n",
       "\n",
       "_\bN_\bo_\bt_\be:\n",
       "\n",
       "     The columns referred to in ‘as.is’ and ‘colClasses’ include the\n",
       "     column of row names (if any).\n",
       "\n",
       "     There are two approaches for reading input that is not in the\n",
       "     local encoding.  If the input is known to be UTF-8 or Latin1, use\n",
       "     the ‘encoding’ argument to declare that.  If the input is in some\n",
       "     other encoding, then it may be translated on input.  The\n",
       "     ‘fileEncoding’ argument achieves this by setting up a connection\n",
       "     to do the re-encoding into the current locale.  Note that on\n",
       "     Windows or other systems not running in a UTF-8 locale, this may\n",
       "     not be possible.\n",
       "\n",
       "_\bR_\be_\bf_\be_\br_\be_\bn_\bc_\be_\bs:\n",
       "\n",
       "     Chambers, J. M. (1992) _Data for models._ Chapter 3 of\n",
       "     _Statistical Models in S_ eds J. M. Chambers and T. J. Hastie,\n",
       "     Wadsworth & Brooks/Cole.\n",
       "\n",
       "_\bS_\be_\be _\bA_\bl_\bs_\bo:\n",
       "\n",
       "     The ‘R Data Import/Export’ manual.\n",
       "\n",
       "     ‘scan’, ‘type.convert’, ‘read.fwf’ for reading _f_ixed _w_idth\n",
       "     _f_ormatted input; ‘write.table’; ‘data.frame’.\n",
       "\n",
       "     ‘count.fields’ can be useful to determine problems with reading\n",
       "     files which result in reports of incorrect record lengths (see the\n",
       "     ‘Examples’ below).\n",
       "\n",
       "     <URL: https://tools.ietf.org/html/rfc4180> for the IANA definition\n",
       "     of CSV files (which requires comma as separator and CRLF line\n",
       "     endings).\n",
       "\n",
       "_\bE_\bx_\ba_\bm_\bp_\bl_\be_\bs:\n",
       "\n",
       "     ## using count.fields to handle unknown maximum number of fields\n",
       "     ## when fill = TRUE\n",
       "     test1 <- c(1:5, \"6,7\", \"8,9,10\")\n",
       "     tf <- tempfile()\n",
       "     writeLines(test1, tf)\n",
       "     \n",
       "     read.csv(tf, fill = TRUE) # 1 column\n",
       "     ncol <- max(count.fields(tf, sep = \",\"))\n",
       "     read.csv(tf, fill = TRUE, header = FALSE,\n",
       "              col.names = paste0(\"V\", seq_len(ncol)))\n",
       "     unlink(tf)\n",
       "     \n",
       "     ## \"Inline\" data set, using text=\n",
       "     ## Notice that leading and trailing empty lines are auto-trimmed\n",
       "     \n",
       "     read.table(header = TRUE, text = \"\n",
       "     a b\n",
       "     1 2\n",
       "     3 4\n",
       "     \")\n",
       "     "
      ]
     },
     "execution_count": 96,
     "metadata": {},
     "output_type": "execute_result"
    }
   ],
   "source": [
    "?read.table"
   ]
  },
  {
   "cell_type": "code",
   "execution_count": 97,
   "metadata": {
    "slideshow": {
     "slide_type": "slide"
    }
   },
   "outputs": [
    {
     "data": {
      "text/html": [
       "<pre class=language-r><code>function (file, header = FALSE, sep = \"\", quote = \"\\\"'\", dec = \".\", \n",
       "    numerals = c(\"allow.loss\", \"warn.loss\", \"no.loss\"), row.names, \n",
       "    col.names, as.is = !stringsAsFactors, na.strings = \"NA\", \n",
       "    colClasses = NA, nrows = -1, skip = 0, check.names = TRUE, \n",
       "    fill = !blank.lines.skip, strip.white = FALSE, blank.lines.skip = TRUE, \n",
       "    comment.char = \"#\", allowEscapes = FALSE, flush = FALSE, \n",
       "    stringsAsFactors = default.stringsAsFactors(), fileEncoding = \"\", \n",
       "    encoding = \"unknown\", text, skipNul = FALSE) \n",
       "{\n",
       "    if (missing(file) &amp;&amp; !missing(text)) {\n",
       "        file &lt;- textConnection(text, encoding = \"UTF-8\")\n",
       "        encoding &lt;- \"UTF-8\"\n",
       "        on.exit(close(file))\n",
       "    }\n",
       "    if (is.character(file)) {\n",
       "        file &lt;- if (nzchar(fileEncoding)) \n",
       "            file(file, \"rt\", encoding = fileEncoding)\n",
       "        else file(file, \"rt\")\n",
       "        on.exit(close(file))\n",
       "    }\n",
       "    if (!inherits(file, \"connection\")) \n",
       "        stop(\"'file' must be a character string or connection\")\n",
       "    if (!isOpen(file, \"rt\")) {\n",
       "        open(file, \"rt\")\n",
       "        on.exit(close(file))\n",
       "    }\n",
       "    pbEncoding &lt;- if (encoding %in% c(\"\", \"bytes\", \"UTF-8\")) \n",
       "        encoding\n",
       "    else \"bytes\"\n",
       "    numerals &lt;- match.arg(numerals)\n",
       "    if (skip &gt; 0L) \n",
       "        readLines(file, skip)\n",
       "    nlines &lt;- n0lines &lt;- if (nrows &lt; 0L) \n",
       "        5\n",
       "    else min(5L, (header + nrows))\n",
       "    lines &lt;- .External(C_readtablehead, file, nlines, comment.char, \n",
       "        blank.lines.skip, quote, sep, skipNul)\n",
       "    if (encoding %in% c(\"UTF-8\", \"latin1\")) \n",
       "        Encoding(lines) &lt;- encoding\n",
       "    nlines &lt;- length(lines)\n",
       "    if (!nlines) {\n",
       "        if (missing(col.names)) \n",
       "            stop(\"no lines available in input\")\n",
       "        rlabp &lt;- FALSE\n",
       "        cols &lt;- length(col.names)\n",
       "    }\n",
       "    else {\n",
       "        if (all(!nzchar(lines))) \n",
       "            stop(\"empty beginning of file\")\n",
       "        if (nlines &lt; n0lines &amp;&amp; file == 0L) {\n",
       "            pushBack(c(lines, lines, \"\"), file, encoding = pbEncoding)\n",
       "            on.exit((clearPushBack(stdin())))\n",
       "        }\n",
       "        else pushBack(c(lines, lines), file, encoding = pbEncoding)\n",
       "        first &lt;- scan(file, what = \"\", sep = sep, quote = quote, \n",
       "            nlines = 1, quiet = TRUE, skip = 0, strip.white = TRUE, \n",
       "            blank.lines.skip = blank.lines.skip, comment.char = comment.char, \n",
       "            allowEscapes = allowEscapes, encoding = encoding, \n",
       "            skipNul = skipNul)\n",
       "        col1 &lt;- if (missing(col.names)) \n",
       "            length(first)\n",
       "        else length(col.names)\n",
       "        col &lt;- numeric(nlines - 1L)\n",
       "        if (nlines &gt; 1L) \n",
       "            for (i in seq_along(col)) col[i] &lt;- length(scan(file, \n",
       "                what = \"\", sep = sep, quote = quote, nlines = 1, \n",
       "                quiet = TRUE, skip = 0, strip.white = strip.white, \n",
       "                blank.lines.skip = blank.lines.skip, comment.char = comment.char, \n",
       "                allowEscapes = allowEscapes, encoding = encoding, \n",
       "                skipNul = skipNul))\n",
       "        cols &lt;- max(col1, col)\n",
       "        rlabp &lt;- (cols - col1) == 1L\n",
       "        if (rlabp &amp;&amp; missing(header)) \n",
       "            header &lt;- TRUE\n",
       "        if (!header) \n",
       "            rlabp &lt;- FALSE\n",
       "        if (header) {\n",
       "            .External(C_readtablehead, file, 1L, comment.char, \n",
       "                blank.lines.skip, quote, sep, skipNul)\n",
       "            if (missing(col.names)) \n",
       "                col.names &lt;- first\n",
       "            else if (length(first) != length(col.names)) \n",
       "                warning(\"header and 'col.names' are of different lengths\")\n",
       "        }\n",
       "        else if (missing(col.names)) \n",
       "            col.names &lt;- paste0(\"V\", 1L:cols)\n",
       "        if (length(col.names) + rlabp &lt; cols) \n",
       "            stop(\"more columns than column names\")\n",
       "        if (fill &amp;&amp; length(col.names) &gt; cols) \n",
       "            cols &lt;- length(col.names)\n",
       "        if (!fill &amp;&amp; cols &gt; 0L &amp;&amp; length(col.names) &gt; cols) \n",
       "            stop(\"more column names than columns\")\n",
       "        if (cols == 0L) \n",
       "            stop(\"first five rows are empty: giving up\")\n",
       "    }\n",
       "    if (check.names) \n",
       "        col.names &lt;- make.names(col.names, unique = TRUE)\n",
       "    if (rlabp) \n",
       "        col.names &lt;- c(\"row.names\", col.names)\n",
       "    nmColClasses &lt;- names(colClasses)\n",
       "    if (is.null(nmColClasses)) {\n",
       "        if (length(colClasses) &lt; cols) \n",
       "            colClasses &lt;- rep_len(colClasses, cols)\n",
       "    }\n",
       "    else {\n",
       "        tmp &lt;- rep_len(NA_character_, cols)\n",
       "        names(tmp) &lt;- col.names\n",
       "        i &lt;- match(nmColClasses, col.names, 0L)\n",
       "        if (any(i &lt;= 0L)) \n",
       "            warning(\"not all columns named in 'colClasses' exist\")\n",
       "        tmp[i[i &gt; 0L]] &lt;- colClasses[i &gt; 0L]\n",
       "        colClasses &lt;- tmp\n",
       "    }\n",
       "    what &lt;- rep.int(list(\"\"), cols)\n",
       "    names(what) &lt;- col.names\n",
       "    colClasses[colClasses %in% c(\"real\", \"double\")] &lt;- \"numeric\"\n",
       "    known &lt;- colClasses %in% c(\"logical\", \"integer\", \"numeric\", \n",
       "        \"complex\", \"character\", \"raw\")\n",
       "    what[known] &lt;- sapply(colClasses[known], do.call, list(0))\n",
       "    what[colClasses %in% \"NULL\"] &lt;- list(NULL)\n",
       "    keep &lt;- !sapply(what, is.null)\n",
       "    data &lt;- scan(file = file, what = what, sep = sep, quote = quote, \n",
       "        dec = dec, nmax = nrows, skip = 0, na.strings = na.strings, \n",
       "        quiet = TRUE, fill = fill, strip.white = strip.white, \n",
       "        blank.lines.skip = blank.lines.skip, multi.line = FALSE, \n",
       "        comment.char = comment.char, allowEscapes = allowEscapes, \n",
       "        flush = flush, encoding = encoding, skipNul = skipNul)\n",
       "    nlines &lt;- length(data[[which.max(keep)]])\n",
       "    if (cols != length(data)) {\n",
       "        warning(\"cols = \", cols, \" != length(data) = \", length(data), \n",
       "            domain = NA)\n",
       "        cols &lt;- length(data)\n",
       "    }\n",
       "    if (is.logical(as.is)) {\n",
       "        as.is &lt;- rep_len(as.is, cols)\n",
       "    }\n",
       "    else if (is.numeric(as.is)) {\n",
       "        if (any(as.is &lt; 1 | as.is &gt; cols)) \n",
       "            stop(\"invalid numeric 'as.is' expression\")\n",
       "        i &lt;- rep.int(FALSE, cols)\n",
       "        i[as.is] &lt;- TRUE\n",
       "        as.is &lt;- i\n",
       "    }\n",
       "    else if (is.character(as.is)) {\n",
       "        i &lt;- match(as.is, col.names, 0L)\n",
       "        if (any(i &lt;= 0L)) \n",
       "            warning(\"not all columns named in 'as.is' exist\")\n",
       "        i &lt;- i[i &gt; 0L]\n",
       "        as.is &lt;- rep.int(FALSE, cols)\n",
       "        as.is[i] &lt;- TRUE\n",
       "    }\n",
       "    else if (length(as.is) != cols) \n",
       "        stop(gettextf(\"'as.is' has the wrong length %d  != cols = %d\", \n",
       "            length(as.is), cols), domain = NA)\n",
       "    do &lt;- keep &amp; !known\n",
       "    if (rlabp) \n",
       "        do[1L] &lt;- FALSE\n",
       "    for (i in (1L:cols)[do]) {\n",
       "        data[[i]] &lt;- if (is.na(colClasses[i])) \n",
       "            type.convert(data[[i]], as.is = as.is[i], dec = dec, \n",
       "                numerals = numerals, na.strings = character(0L))\n",
       "        else if (colClasses[i] == \"factor\") \n",
       "            as.factor(data[[i]])\n",
       "        else if (colClasses[i] == \"Date\") \n",
       "            as.Date(data[[i]])\n",
       "        else if (colClasses[i] == \"POSIXct\") \n",
       "            as.POSIXct(data[[i]])\n",
       "        else methods::as(data[[i]], colClasses[i])\n",
       "    }\n",
       "    compactRN &lt;- TRUE\n",
       "    if (missing(row.names)) {\n",
       "        if (rlabp) {\n",
       "            row.names &lt;- data[[1L]]\n",
       "            data &lt;- data[-1L]\n",
       "            keep &lt;- keep[-1L]\n",
       "            compactRN &lt;- FALSE\n",
       "        }\n",
       "        else row.names &lt;- .set_row_names(as.integer(nlines))\n",
       "    }\n",
       "    else if (is.null(row.names)) {\n",
       "        row.names &lt;- .set_row_names(as.integer(nlines))\n",
       "    }\n",
       "    else if (is.character(row.names)) {\n",
       "        compactRN &lt;- FALSE\n",
       "        if (length(row.names) == 1L) {\n",
       "            rowvar &lt;- (1L:cols)[match(col.names, row.names, 0L) == \n",
       "                1L]\n",
       "            row.names &lt;- data[[rowvar]]\n",
       "            data &lt;- data[-rowvar]\n",
       "            keep &lt;- keep[-rowvar]\n",
       "        }\n",
       "    }\n",
       "    else if (is.numeric(row.names) &amp;&amp; length(row.names) == 1L) {\n",
       "        compactRN &lt;- FALSE\n",
       "        rlabp &lt;- row.names\n",
       "        row.names &lt;- data[[rlabp]]\n",
       "        data &lt;- data[-rlabp]\n",
       "        keep &lt;- keep[-rlabp]\n",
       "    }\n",
       "    else stop(\"invalid 'row.names' specification\")\n",
       "    data &lt;- data[keep]\n",
       "    if (is.object(row.names) || !(is.integer(row.names))) \n",
       "        row.names &lt;- as.character(row.names)\n",
       "    if (!compactRN) {\n",
       "        if (length(row.names) != nlines) \n",
       "            stop(\"invalid 'row.names' length\")\n",
       "        if (anyDuplicated(row.names)) \n",
       "            stop(\"duplicate 'row.names' are not allowed\")\n",
       "        if (anyNA(row.names)) \n",
       "            stop(\"missing values in 'row.names' are not allowed\")\n",
       "    }\n",
       "    class(data) &lt;- \"data.frame\"\n",
       "    attr(data, \"row.names\") &lt;- row.names\n",
       "    data\n",
       "}</code></pre>"
      ],
      "text/latex": [
       "\\begin{minted}{r}\n",
       "function (file, header = FALSE, sep = \"\", quote = \"\\textbackslash{}\"'\", dec = \".\", \n",
       "    numerals = c(\"allow.loss\", \"warn.loss\", \"no.loss\"), row.names, \n",
       "    col.names, as.is = !stringsAsFactors, na.strings = \"NA\", \n",
       "    colClasses = NA, nrows = -1, skip = 0, check.names = TRUE, \n",
       "    fill = !blank.lines.skip, strip.white = FALSE, blank.lines.skip = TRUE, \n",
       "    comment.char = \"\\#\", allowEscapes = FALSE, flush = FALSE, \n",
       "    stringsAsFactors = default.stringsAsFactors(), fileEncoding = \"\", \n",
       "    encoding = \"unknown\", text, skipNul = FALSE) \n",
       "\\{\n",
       "    if (missing(file) \\&\\& !missing(text)) \\{\n",
       "        file <- textConnection(text, encoding = \"UTF-8\")\n",
       "        encoding <- \"UTF-8\"\n",
       "        on.exit(close(file))\n",
       "    \\}\n",
       "    if (is.character(file)) \\{\n",
       "        file <- if (nzchar(fileEncoding)) \n",
       "            file(file, \"rt\", encoding = fileEncoding)\n",
       "        else file(file, \"rt\")\n",
       "        on.exit(close(file))\n",
       "    \\}\n",
       "    if (!inherits(file, \"connection\")) \n",
       "        stop(\"'file' must be a character string or connection\")\n",
       "    if (!isOpen(file, \"rt\")) \\{\n",
       "        open(file, \"rt\")\n",
       "        on.exit(close(file))\n",
       "    \\}\n",
       "    pbEncoding <- if (encoding \\%in\\% c(\"\", \"bytes\", \"UTF-8\")) \n",
       "        encoding\n",
       "    else \"bytes\"\n",
       "    numerals <- match.arg(numerals)\n",
       "    if (skip > 0L) \n",
       "        readLines(file, skip)\n",
       "    nlines <- n0lines <- if (nrows < 0L) \n",
       "        5\n",
       "    else min(5L, (header + nrows))\n",
       "    lines <- .External(C\\_readtablehead, file, nlines, comment.char, \n",
       "        blank.lines.skip, quote, sep, skipNul)\n",
       "    if (encoding \\%in\\% c(\"UTF-8\", \"latin1\")) \n",
       "        Encoding(lines) <- encoding\n",
       "    nlines <- length(lines)\n",
       "    if (!nlines) \\{\n",
       "        if (missing(col.names)) \n",
       "            stop(\"no lines available in input\")\n",
       "        rlabp <- FALSE\n",
       "        cols <- length(col.names)\n",
       "    \\}\n",
       "    else \\{\n",
       "        if (all(!nzchar(lines))) \n",
       "            stop(\"empty beginning of file\")\n",
       "        if (nlines < n0lines \\&\\& file == 0L) \\{\n",
       "            pushBack(c(lines, lines, \"\"), file, encoding = pbEncoding)\n",
       "            on.exit((clearPushBack(stdin())))\n",
       "        \\}\n",
       "        else pushBack(c(lines, lines), file, encoding = pbEncoding)\n",
       "        first <- scan(file, what = \"\", sep = sep, quote = quote, \n",
       "            nlines = 1, quiet = TRUE, skip = 0, strip.white = TRUE, \n",
       "            blank.lines.skip = blank.lines.skip, comment.char = comment.char, \n",
       "            allowEscapes = allowEscapes, encoding = encoding, \n",
       "            skipNul = skipNul)\n",
       "        col1 <- if (missing(col.names)) \n",
       "            length(first)\n",
       "        else length(col.names)\n",
       "        col <- numeric(nlines - 1L)\n",
       "        if (nlines > 1L) \n",
       "            for (i in seq\\_along(col)) col{[}i{]} <- length(scan(file, \n",
       "                what = \"\", sep = sep, quote = quote, nlines = 1, \n",
       "                quiet = TRUE, skip = 0, strip.white = strip.white, \n",
       "                blank.lines.skip = blank.lines.skip, comment.char = comment.char, \n",
       "                allowEscapes = allowEscapes, encoding = encoding, \n",
       "                skipNul = skipNul))\n",
       "        cols <- max(col1, col)\n",
       "        rlabp <- (cols - col1) == 1L\n",
       "        if (rlabp \\&\\& missing(header)) \n",
       "            header <- TRUE\n",
       "        if (!header) \n",
       "            rlabp <- FALSE\n",
       "        if (header) \\{\n",
       "            .External(C\\_readtablehead, file, 1L, comment.char, \n",
       "                blank.lines.skip, quote, sep, skipNul)\n",
       "            if (missing(col.names)) \n",
       "                col.names <- first\n",
       "            else if (length(first) != length(col.names)) \n",
       "                warning(\"header and 'col.names' are of different lengths\")\n",
       "        \\}\n",
       "        else if (missing(col.names)) \n",
       "            col.names <- paste0(\"V\", 1L:cols)\n",
       "        if (length(col.names) + rlabp < cols) \n",
       "            stop(\"more columns than column names\")\n",
       "        if (fill \\&\\& length(col.names) > cols) \n",
       "            cols <- length(col.names)\n",
       "        if (!fill \\&\\& cols > 0L \\&\\& length(col.names) > cols) \n",
       "            stop(\"more column names than columns\")\n",
       "        if (cols == 0L) \n",
       "            stop(\"first five rows are empty: giving up\")\n",
       "    \\}\n",
       "    if (check.names) \n",
       "        col.names <- make.names(col.names, unique = TRUE)\n",
       "    if (rlabp) \n",
       "        col.names <- c(\"row.names\", col.names)\n",
       "    nmColClasses <- names(colClasses)\n",
       "    if (is.null(nmColClasses)) \\{\n",
       "        if (length(colClasses) < cols) \n",
       "            colClasses <- rep\\_len(colClasses, cols)\n",
       "    \\}\n",
       "    else \\{\n",
       "        tmp <- rep\\_len(NA\\_character\\_, cols)\n",
       "        names(tmp) <- col.names\n",
       "        i <- match(nmColClasses, col.names, 0L)\n",
       "        if (any(i <= 0L)) \n",
       "            warning(\"not all columns named in 'colClasses' exist\")\n",
       "        tmp{[}i{[}i > 0L{]}{]} <- colClasses{[}i > 0L{]}\n",
       "        colClasses <- tmp\n",
       "    \\}\n",
       "    what <- rep.int(list(\"\"), cols)\n",
       "    names(what) <- col.names\n",
       "    colClasses{[}colClasses \\%in\\% c(\"real\", \"double\"){]} <- \"numeric\"\n",
       "    known <- colClasses \\%in\\% c(\"logical\", \"integer\", \"numeric\", \n",
       "        \"complex\", \"character\", \"raw\")\n",
       "    what{[}known{]} <- sapply(colClasses{[}known{]}, do.call, list(0))\n",
       "    what{[}colClasses \\%in\\% \"NULL\"{]} <- list(NULL)\n",
       "    keep <- !sapply(what, is.null)\n",
       "    data <- scan(file = file, what = what, sep = sep, quote = quote, \n",
       "        dec = dec, nmax = nrows, skip = 0, na.strings = na.strings, \n",
       "        quiet = TRUE, fill = fill, strip.white = strip.white, \n",
       "        blank.lines.skip = blank.lines.skip, multi.line = FALSE, \n",
       "        comment.char = comment.char, allowEscapes = allowEscapes, \n",
       "        flush = flush, encoding = encoding, skipNul = skipNul)\n",
       "    nlines <- length(data{[}{[}which.max(keep){]}{]})\n",
       "    if (cols != length(data)) \\{\n",
       "        warning(\"cols = \", cols, \" != length(data) = \", length(data), \n",
       "            domain = NA)\n",
       "        cols <- length(data)\n",
       "    \\}\n",
       "    if (is.logical(as.is)) \\{\n",
       "        as.is <- rep\\_len(as.is, cols)\n",
       "    \\}\n",
       "    else if (is.numeric(as.is)) \\{\n",
       "        if (any(as.is < 1 \\textbar{} as.is > cols)) \n",
       "            stop(\"invalid numeric 'as.is' expression\")\n",
       "        i <- rep.int(FALSE, cols)\n",
       "        i{[}as.is{]} <- TRUE\n",
       "        as.is <- i\n",
       "    \\}\n",
       "    else if (is.character(as.is)) \\{\n",
       "        i <- match(as.is, col.names, 0L)\n",
       "        if (any(i <= 0L)) \n",
       "            warning(\"not all columns named in 'as.is' exist\")\n",
       "        i <- i{[}i > 0L{]}\n",
       "        as.is <- rep.int(FALSE, cols)\n",
       "        as.is{[}i{]} <- TRUE\n",
       "    \\}\n",
       "    else if (length(as.is) != cols) \n",
       "        stop(gettextf(\"'as.is' has the wrong length \\%d  != cols = \\%d\", \n",
       "            length(as.is), cols), domain = NA)\n",
       "    do <- keep \\& !known\n",
       "    if (rlabp) \n",
       "        do{[}1L{]} <- FALSE\n",
       "    for (i in (1L:cols){[}do{]}) \\{\n",
       "        data{[}{[}i{]}{]} <- if (is.na(colClasses{[}i{]})) \n",
       "            type.convert(data{[}{[}i{]}{]}, as.is = as.is{[}i{]}, dec = dec, \n",
       "                numerals = numerals, na.strings = character(0L))\n",
       "        else if (colClasses{[}i{]} == \"factor\") \n",
       "            as.factor(data{[}{[}i{]}{]})\n",
       "        else if (colClasses{[}i{]} == \"Date\") \n",
       "            as.Date(data{[}{[}i{]}{]})\n",
       "        else if (colClasses{[}i{]} == \"POSIXct\") \n",
       "            as.POSIXct(data{[}{[}i{]}{]})\n",
       "        else methods::as(data{[}{[}i{]}{]}, colClasses{[}i{]})\n",
       "    \\}\n",
       "    compactRN <- TRUE\n",
       "    if (missing(row.names)) \\{\n",
       "        if (rlabp) \\{\n",
       "            row.names <- data{[}{[}1L{]}{]}\n",
       "            data <- data{[}-1L{]}\n",
       "            keep <- keep{[}-1L{]}\n",
       "            compactRN <- FALSE\n",
       "        \\}\n",
       "        else row.names <- .set\\_row\\_names(as.integer(nlines))\n",
       "    \\}\n",
       "    else if (is.null(row.names)) \\{\n",
       "        row.names <- .set\\_row\\_names(as.integer(nlines))\n",
       "    \\}\n",
       "    else if (is.character(row.names)) \\{\n",
       "        compactRN <- FALSE\n",
       "        if (length(row.names) == 1L) \\{\n",
       "            rowvar <- (1L:cols){[}match(col.names, row.names, 0L) == \n",
       "                1L{]}\n",
       "            row.names <- data{[}{[}rowvar{]}{]}\n",
       "            data <- data{[}-rowvar{]}\n",
       "            keep <- keep{[}-rowvar{]}\n",
       "        \\}\n",
       "    \\}\n",
       "    else if (is.numeric(row.names) \\&\\& length(row.names) == 1L) \\{\n",
       "        compactRN <- FALSE\n",
       "        rlabp <- row.names\n",
       "        row.names <- data{[}{[}rlabp{]}{]}\n",
       "        data <- data{[}-rlabp{]}\n",
       "        keep <- keep{[}-rlabp{]}\n",
       "    \\}\n",
       "    else stop(\"invalid 'row.names' specification\")\n",
       "    data <- data{[}keep{]}\n",
       "    if (is.object(row.names) \\textbar{}\\textbar{} !(is.integer(row.names))) \n",
       "        row.names <- as.character(row.names)\n",
       "    if (!compactRN) \\{\n",
       "        if (length(row.names) != nlines) \n",
       "            stop(\"invalid 'row.names' length\")\n",
       "        if (anyDuplicated(row.names)) \n",
       "            stop(\"duplicate 'row.names' are not allowed\")\n",
       "        if (anyNA(row.names)) \n",
       "            stop(\"missing values in 'row.names' are not allowed\")\n",
       "    \\}\n",
       "    class(data) <- \"data.frame\"\n",
       "    attr(data, \"row.names\") <- row.names\n",
       "    data\n",
       "\\}\n",
       "\\end{minted}"
      ],
      "text/markdown": [
       "```r\n",
       "function (file, header = FALSE, sep = \"\", quote = \"\\\"'\", dec = \".\", \n",
       "    numerals = c(\"allow.loss\", \"warn.loss\", \"no.loss\"), row.names, \n",
       "    col.names, as.is = !stringsAsFactors, na.strings = \"NA\", \n",
       "    colClasses = NA, nrows = -1, skip = 0, check.names = TRUE, \n",
       "    fill = !blank.lines.skip, strip.white = FALSE, blank.lines.skip = TRUE, \n",
       "    comment.char = \"#\", allowEscapes = FALSE, flush = FALSE, \n",
       "    stringsAsFactors = default.stringsAsFactors(), fileEncoding = \"\", \n",
       "    encoding = \"unknown\", text, skipNul = FALSE) \n",
       "{\n",
       "    if (missing(file) && !missing(text)) {\n",
       "        file <- textConnection(text, encoding = \"UTF-8\")\n",
       "        encoding <- \"UTF-8\"\n",
       "        on.exit(close(file))\n",
       "    }\n",
       "    if (is.character(file)) {\n",
       "        file <- if (nzchar(fileEncoding)) \n",
       "            file(file, \"rt\", encoding = fileEncoding)\n",
       "        else file(file, \"rt\")\n",
       "        on.exit(close(file))\n",
       "    }\n",
       "    if (!inherits(file, \"connection\")) \n",
       "        stop(\"'file' must be a character string or connection\")\n",
       "    if (!isOpen(file, \"rt\")) {\n",
       "        open(file, \"rt\")\n",
       "        on.exit(close(file))\n",
       "    }\n",
       "    pbEncoding <- if (encoding %in% c(\"\", \"bytes\", \"UTF-8\")) \n",
       "        encoding\n",
       "    else \"bytes\"\n",
       "    numerals <- match.arg(numerals)\n",
       "    if (skip > 0L) \n",
       "        readLines(file, skip)\n",
       "    nlines <- n0lines <- if (nrows < 0L) \n",
       "        5\n",
       "    else min(5L, (header + nrows))\n",
       "    lines <- .External(C_readtablehead, file, nlines, comment.char, \n",
       "        blank.lines.skip, quote, sep, skipNul)\n",
       "    if (encoding %in% c(\"UTF-8\", \"latin1\")) \n",
       "        Encoding(lines) <- encoding\n",
       "    nlines <- length(lines)\n",
       "    if (!nlines) {\n",
       "        if (missing(col.names)) \n",
       "            stop(\"no lines available in input\")\n",
       "        rlabp <- FALSE\n",
       "        cols <- length(col.names)\n",
       "    }\n",
       "    else {\n",
       "        if (all(!nzchar(lines))) \n",
       "            stop(\"empty beginning of file\")\n",
       "        if (nlines < n0lines && file == 0L) {\n",
       "            pushBack(c(lines, lines, \"\"), file, encoding = pbEncoding)\n",
       "            on.exit((clearPushBack(stdin())))\n",
       "        }\n",
       "        else pushBack(c(lines, lines), file, encoding = pbEncoding)\n",
       "        first <- scan(file, what = \"\", sep = sep, quote = quote, \n",
       "            nlines = 1, quiet = TRUE, skip = 0, strip.white = TRUE, \n",
       "            blank.lines.skip = blank.lines.skip, comment.char = comment.char, \n",
       "            allowEscapes = allowEscapes, encoding = encoding, \n",
       "            skipNul = skipNul)\n",
       "        col1 <- if (missing(col.names)) \n",
       "            length(first)\n",
       "        else length(col.names)\n",
       "        col <- numeric(nlines - 1L)\n",
       "        if (nlines > 1L) \n",
       "            for (i in seq_along(col)) col[i] <- length(scan(file, \n",
       "                what = \"\", sep = sep, quote = quote, nlines = 1, \n",
       "                quiet = TRUE, skip = 0, strip.white = strip.white, \n",
       "                blank.lines.skip = blank.lines.skip, comment.char = comment.char, \n",
       "                allowEscapes = allowEscapes, encoding = encoding, \n",
       "                skipNul = skipNul))\n",
       "        cols <- max(col1, col)\n",
       "        rlabp <- (cols - col1) == 1L\n",
       "        if (rlabp && missing(header)) \n",
       "            header <- TRUE\n",
       "        if (!header) \n",
       "            rlabp <- FALSE\n",
       "        if (header) {\n",
       "            .External(C_readtablehead, file, 1L, comment.char, \n",
       "                blank.lines.skip, quote, sep, skipNul)\n",
       "            if (missing(col.names)) \n",
       "                col.names <- first\n",
       "            else if (length(first) != length(col.names)) \n",
       "                warning(\"header and 'col.names' are of different lengths\")\n",
       "        }\n",
       "        else if (missing(col.names)) \n",
       "            col.names <- paste0(\"V\", 1L:cols)\n",
       "        if (length(col.names) + rlabp < cols) \n",
       "            stop(\"more columns than column names\")\n",
       "        if (fill && length(col.names) > cols) \n",
       "            cols <- length(col.names)\n",
       "        if (!fill && cols > 0L && length(col.names) > cols) \n",
       "            stop(\"more column names than columns\")\n",
       "        if (cols == 0L) \n",
       "            stop(\"first five rows are empty: giving up\")\n",
       "    }\n",
       "    if (check.names) \n",
       "        col.names <- make.names(col.names, unique = TRUE)\n",
       "    if (rlabp) \n",
       "        col.names <- c(\"row.names\", col.names)\n",
       "    nmColClasses <- names(colClasses)\n",
       "    if (is.null(nmColClasses)) {\n",
       "        if (length(colClasses) < cols) \n",
       "            colClasses <- rep_len(colClasses, cols)\n",
       "    }\n",
       "    else {\n",
       "        tmp <- rep_len(NA_character_, cols)\n",
       "        names(tmp) <- col.names\n",
       "        i <- match(nmColClasses, col.names, 0L)\n",
       "        if (any(i <= 0L)) \n",
       "            warning(\"not all columns named in 'colClasses' exist\")\n",
       "        tmp[i[i > 0L]] <- colClasses[i > 0L]\n",
       "        colClasses <- tmp\n",
       "    }\n",
       "    what <- rep.int(list(\"\"), cols)\n",
       "    names(what) <- col.names\n",
       "    colClasses[colClasses %in% c(\"real\", \"double\")] <- \"numeric\"\n",
       "    known <- colClasses %in% c(\"logical\", \"integer\", \"numeric\", \n",
       "        \"complex\", \"character\", \"raw\")\n",
       "    what[known] <- sapply(colClasses[known], do.call, list(0))\n",
       "    what[colClasses %in% \"NULL\"] <- list(NULL)\n",
       "    keep <- !sapply(what, is.null)\n",
       "    data <- scan(file = file, what = what, sep = sep, quote = quote, \n",
       "        dec = dec, nmax = nrows, skip = 0, na.strings = na.strings, \n",
       "        quiet = TRUE, fill = fill, strip.white = strip.white, \n",
       "        blank.lines.skip = blank.lines.skip, multi.line = FALSE, \n",
       "        comment.char = comment.char, allowEscapes = allowEscapes, \n",
       "        flush = flush, encoding = encoding, skipNul = skipNul)\n",
       "    nlines <- length(data[[which.max(keep)]])\n",
       "    if (cols != length(data)) {\n",
       "        warning(\"cols = \", cols, \" != length(data) = \", length(data), \n",
       "            domain = NA)\n",
       "        cols <- length(data)\n",
       "    }\n",
       "    if (is.logical(as.is)) {\n",
       "        as.is <- rep_len(as.is, cols)\n",
       "    }\n",
       "    else if (is.numeric(as.is)) {\n",
       "        if (any(as.is < 1 | as.is > cols)) \n",
       "            stop(\"invalid numeric 'as.is' expression\")\n",
       "        i <- rep.int(FALSE, cols)\n",
       "        i[as.is] <- TRUE\n",
       "        as.is <- i\n",
       "    }\n",
       "    else if (is.character(as.is)) {\n",
       "        i <- match(as.is, col.names, 0L)\n",
       "        if (any(i <= 0L)) \n",
       "            warning(\"not all columns named in 'as.is' exist\")\n",
       "        i <- i[i > 0L]\n",
       "        as.is <- rep.int(FALSE, cols)\n",
       "        as.is[i] <- TRUE\n",
       "    }\n",
       "    else if (length(as.is) != cols) \n",
       "        stop(gettextf(\"'as.is' has the wrong length %d  != cols = %d\", \n",
       "            length(as.is), cols), domain = NA)\n",
       "    do <- keep & !known\n",
       "    if (rlabp) \n",
       "        do[1L] <- FALSE\n",
       "    for (i in (1L:cols)[do]) {\n",
       "        data[[i]] <- if (is.na(colClasses[i])) \n",
       "            type.convert(data[[i]], as.is = as.is[i], dec = dec, \n",
       "                numerals = numerals, na.strings = character(0L))\n",
       "        else if (colClasses[i] == \"factor\") \n",
       "            as.factor(data[[i]])\n",
       "        else if (colClasses[i] == \"Date\") \n",
       "            as.Date(data[[i]])\n",
       "        else if (colClasses[i] == \"POSIXct\") \n",
       "            as.POSIXct(data[[i]])\n",
       "        else methods::as(data[[i]], colClasses[i])\n",
       "    }\n",
       "    compactRN <- TRUE\n",
       "    if (missing(row.names)) {\n",
       "        if (rlabp) {\n",
       "            row.names <- data[[1L]]\n",
       "            data <- data[-1L]\n",
       "            keep <- keep[-1L]\n",
       "            compactRN <- FALSE\n",
       "        }\n",
       "        else row.names <- .set_row_names(as.integer(nlines))\n",
       "    }\n",
       "    else if (is.null(row.names)) {\n",
       "        row.names <- .set_row_names(as.integer(nlines))\n",
       "    }\n",
       "    else if (is.character(row.names)) {\n",
       "        compactRN <- FALSE\n",
       "        if (length(row.names) == 1L) {\n",
       "            rowvar <- (1L:cols)[match(col.names, row.names, 0L) == \n",
       "                1L]\n",
       "            row.names <- data[[rowvar]]\n",
       "            data <- data[-rowvar]\n",
       "            keep <- keep[-rowvar]\n",
       "        }\n",
       "    }\n",
       "    else if (is.numeric(row.names) && length(row.names) == 1L) {\n",
       "        compactRN <- FALSE\n",
       "        rlabp <- row.names\n",
       "        row.names <- data[[rlabp]]\n",
       "        data <- data[-rlabp]\n",
       "        keep <- keep[-rlabp]\n",
       "    }\n",
       "    else stop(\"invalid 'row.names' specification\")\n",
       "    data <- data[keep]\n",
       "    if (is.object(row.names) || !(is.integer(row.names))) \n",
       "        row.names <- as.character(row.names)\n",
       "    if (!compactRN) {\n",
       "        if (length(row.names) != nlines) \n",
       "            stop(\"invalid 'row.names' length\")\n",
       "        if (anyDuplicated(row.names)) \n",
       "            stop(\"duplicate 'row.names' are not allowed\")\n",
       "        if (anyNA(row.names)) \n",
       "            stop(\"missing values in 'row.names' are not allowed\")\n",
       "    }\n",
       "    class(data) <- \"data.frame\"\n",
       "    attr(data, \"row.names\") <- row.names\n",
       "    data\n",
       "}\n",
       "```"
      ],
      "text/plain": [
       "function (file, header = FALSE, sep = \"\", quote = \"\\\"'\", dec = \".\", \n",
       "    numerals = c(\"allow.loss\", \"warn.loss\", \"no.loss\"), row.names, \n",
       "    col.names, as.is = !stringsAsFactors, na.strings = \"NA\", \n",
       "    colClasses = NA, nrows = -1, skip = 0, check.names = TRUE, \n",
       "    fill = !blank.lines.skip, strip.white = FALSE, blank.lines.skip = TRUE, \n",
       "    comment.char = \"#\", allowEscapes = FALSE, flush = FALSE, \n",
       "    stringsAsFactors = default.stringsAsFactors(), fileEncoding = \"\", \n",
       "    encoding = \"unknown\", text, skipNul = FALSE) \n",
       "{\n",
       "    if (missing(file) && !missing(text)) {\n",
       "        file <- textConnection(text, encoding = \"UTF-8\")\n",
       "        encoding <- \"UTF-8\"\n",
       "        on.exit(close(file))\n",
       "    }\n",
       "    if (is.character(file)) {\n",
       "        file <- if (nzchar(fileEncoding)) \n",
       "            file(file, \"rt\", encoding = fileEncoding)\n",
       "        else file(file, \"rt\")\n",
       "        on.exit(close(file))\n",
       "    }\n",
       "    if (!inherits(file, \"connection\")) \n",
       "        stop(\"'file' must be a character string or connection\")\n",
       "    if (!isOpen(file, \"rt\")) {\n",
       "        open(file, \"rt\")\n",
       "        on.exit(close(file))\n",
       "    }\n",
       "    pbEncoding <- if (encoding %in% c(\"\", \"bytes\", \"UTF-8\")) \n",
       "        encoding\n",
       "    else \"bytes\"\n",
       "    numerals <- match.arg(numerals)\n",
       "    if (skip > 0L) \n",
       "        readLines(file, skip)\n",
       "    nlines <- n0lines <- if (nrows < 0L) \n",
       "        5\n",
       "    else min(5L, (header + nrows))\n",
       "    lines <- .External(C_readtablehead, file, nlines, comment.char, \n",
       "        blank.lines.skip, quote, sep, skipNul)\n",
       "    if (encoding %in% c(\"UTF-8\", \"latin1\")) \n",
       "        Encoding(lines) <- encoding\n",
       "    nlines <- length(lines)\n",
       "    if (!nlines) {\n",
       "        if (missing(col.names)) \n",
       "            stop(\"no lines available in input\")\n",
       "        rlabp <- FALSE\n",
       "        cols <- length(col.names)\n",
       "    }\n",
       "    else {\n",
       "        if (all(!nzchar(lines))) \n",
       "            stop(\"empty beginning of file\")\n",
       "        if (nlines < n0lines && file == 0L) {\n",
       "            pushBack(c(lines, lines, \"\"), file, encoding = pbEncoding)\n",
       "            on.exit((clearPushBack(stdin())))\n",
       "        }\n",
       "        else pushBack(c(lines, lines), file, encoding = pbEncoding)\n",
       "        first <- scan(file, what = \"\", sep = sep, quote = quote, \n",
       "            nlines = 1, quiet = TRUE, skip = 0, strip.white = TRUE, \n",
       "            blank.lines.skip = blank.lines.skip, comment.char = comment.char, \n",
       "            allowEscapes = allowEscapes, encoding = encoding, \n",
       "            skipNul = skipNul)\n",
       "        col1 <- if (missing(col.names)) \n",
       "            length(first)\n",
       "        else length(col.names)\n",
       "        col <- numeric(nlines - 1L)\n",
       "        if (nlines > 1L) \n",
       "            for (i in seq_along(col)) col[i] <- length(scan(file, \n",
       "                what = \"\", sep = sep, quote = quote, nlines = 1, \n",
       "                quiet = TRUE, skip = 0, strip.white = strip.white, \n",
       "                blank.lines.skip = blank.lines.skip, comment.char = comment.char, \n",
       "                allowEscapes = allowEscapes, encoding = encoding, \n",
       "                skipNul = skipNul))\n",
       "        cols <- max(col1, col)\n",
       "        rlabp <- (cols - col1) == 1L\n",
       "        if (rlabp && missing(header)) \n",
       "            header <- TRUE\n",
       "        if (!header) \n",
       "            rlabp <- FALSE\n",
       "        if (header) {\n",
       "            .External(C_readtablehead, file, 1L, comment.char, \n",
       "                blank.lines.skip, quote, sep, skipNul)\n",
       "            if (missing(col.names)) \n",
       "                col.names <- first\n",
       "            else if (length(first) != length(col.names)) \n",
       "                warning(\"header and 'col.names' are of different lengths\")\n",
       "        }\n",
       "        else if (missing(col.names)) \n",
       "            col.names <- paste0(\"V\", 1L:cols)\n",
       "        if (length(col.names) + rlabp < cols) \n",
       "            stop(\"more columns than column names\")\n",
       "        if (fill && length(col.names) > cols) \n",
       "            cols <- length(col.names)\n",
       "        if (!fill && cols > 0L && length(col.names) > cols) \n",
       "            stop(\"more column names than columns\")\n",
       "        if (cols == 0L) \n",
       "            stop(\"first five rows are empty: giving up\")\n",
       "    }\n",
       "    if (check.names) \n",
       "        col.names <- make.names(col.names, unique = TRUE)\n",
       "    if (rlabp) \n",
       "        col.names <- c(\"row.names\", col.names)\n",
       "    nmColClasses <- names(colClasses)\n",
       "    if (is.null(nmColClasses)) {\n",
       "        if (length(colClasses) < cols) \n",
       "            colClasses <- rep_len(colClasses, cols)\n",
       "    }\n",
       "    else {\n",
       "        tmp <- rep_len(NA_character_, cols)\n",
       "        names(tmp) <- col.names\n",
       "        i <- match(nmColClasses, col.names, 0L)\n",
       "        if (any(i <= 0L)) \n",
       "            warning(\"not all columns named in 'colClasses' exist\")\n",
       "        tmp[i[i > 0L]] <- colClasses[i > 0L]\n",
       "        colClasses <- tmp\n",
       "    }\n",
       "    what <- rep.int(list(\"\"), cols)\n",
       "    names(what) <- col.names\n",
       "    colClasses[colClasses %in% c(\"real\", \"double\")] <- \"numeric\"\n",
       "    known <- colClasses %in% c(\"logical\", \"integer\", \"numeric\", \n",
       "        \"complex\", \"character\", \"raw\")\n",
       "    what[known] <- sapply(colClasses[known], do.call, list(0))\n",
       "    what[colClasses %in% \"NULL\"] <- list(NULL)\n",
       "    keep <- !sapply(what, is.null)\n",
       "    data <- scan(file = file, what = what, sep = sep, quote = quote, \n",
       "        dec = dec, nmax = nrows, skip = 0, na.strings = na.strings, \n",
       "        quiet = TRUE, fill = fill, strip.white = strip.white, \n",
       "        blank.lines.skip = blank.lines.skip, multi.line = FALSE, \n",
       "        comment.char = comment.char, allowEscapes = allowEscapes, \n",
       "        flush = flush, encoding = encoding, skipNul = skipNul)\n",
       "    nlines <- length(data[[which.max(keep)]])\n",
       "    if (cols != length(data)) {\n",
       "        warning(\"cols = \", cols, \" != length(data) = \", length(data), \n",
       "            domain = NA)\n",
       "        cols <- length(data)\n",
       "    }\n",
       "    if (is.logical(as.is)) {\n",
       "        as.is <- rep_len(as.is, cols)\n",
       "    }\n",
       "    else if (is.numeric(as.is)) {\n",
       "        if (any(as.is < 1 | as.is > cols)) \n",
       "            stop(\"invalid numeric 'as.is' expression\")\n",
       "        i <- rep.int(FALSE, cols)\n",
       "        i[as.is] <- TRUE\n",
       "        as.is <- i\n",
       "    }\n",
       "    else if (is.character(as.is)) {\n",
       "        i <- match(as.is, col.names, 0L)\n",
       "        if (any(i <= 0L)) \n",
       "            warning(\"not all columns named in 'as.is' exist\")\n",
       "        i <- i[i > 0L]\n",
       "        as.is <- rep.int(FALSE, cols)\n",
       "        as.is[i] <- TRUE\n",
       "    }\n",
       "    else if (length(as.is) != cols) \n",
       "        stop(gettextf(\"'as.is' has the wrong length %d  != cols = %d\", \n",
       "            length(as.is), cols), domain = NA)\n",
       "    do <- keep & !known\n",
       "    if (rlabp) \n",
       "        do[1L] <- FALSE\n",
       "    for (i in (1L:cols)[do]) {\n",
       "        data[[i]] <- if (is.na(colClasses[i])) \n",
       "            type.convert(data[[i]], as.is = as.is[i], dec = dec, \n",
       "                numerals = numerals, na.strings = character(0L))\n",
       "        else if (colClasses[i] == \"factor\") \n",
       "            as.factor(data[[i]])\n",
       "        else if (colClasses[i] == \"Date\") \n",
       "            as.Date(data[[i]])\n",
       "        else if (colClasses[i] == \"POSIXct\") \n",
       "            as.POSIXct(data[[i]])\n",
       "        else methods::as(data[[i]], colClasses[i])\n",
       "    }\n",
       "    compactRN <- TRUE\n",
       "    if (missing(row.names)) {\n",
       "        if (rlabp) {\n",
       "            row.names <- data[[1L]]\n",
       "            data <- data[-1L]\n",
       "            keep <- keep[-1L]\n",
       "            compactRN <- FALSE\n",
       "        }\n",
       "        else row.names <- .set_row_names(as.integer(nlines))\n",
       "    }\n",
       "    else if (is.null(row.names)) {\n",
       "        row.names <- .set_row_names(as.integer(nlines))\n",
       "    }\n",
       "    else if (is.character(row.names)) {\n",
       "        compactRN <- FALSE\n",
       "        if (length(row.names) == 1L) {\n",
       "            rowvar <- (1L:cols)[match(col.names, row.names, 0L) == \n",
       "                1L]\n",
       "            row.names <- data[[rowvar]]\n",
       "            data <- data[-rowvar]\n",
       "            keep <- keep[-rowvar]\n",
       "        }\n",
       "    }\n",
       "    else if (is.numeric(row.names) && length(row.names) == 1L) {\n",
       "        compactRN <- FALSE\n",
       "        rlabp <- row.names\n",
       "        row.names <- data[[rlabp]]\n",
       "        data <- data[-rlabp]\n",
       "        keep <- keep[-rlabp]\n",
       "    }\n",
       "    else stop(\"invalid 'row.names' specification\")\n",
       "    data <- data[keep]\n",
       "    if (is.object(row.names) || !(is.integer(row.names))) \n",
       "        row.names <- as.character(row.names)\n",
       "    if (!compactRN) {\n",
       "        if (length(row.names) != nlines) \n",
       "            stop(\"invalid 'row.names' length\")\n",
       "        if (anyDuplicated(row.names)) \n",
       "            stop(\"duplicate 'row.names' are not allowed\")\n",
       "        if (anyNA(row.names)) \n",
       "            stop(\"missing values in 'row.names' are not allowed\")\n",
       "    }\n",
       "    class(data) <- \"data.frame\"\n",
       "    attr(data, \"row.names\") <- row.names\n",
       "    data\n",
       "}\n",
       "<bytecode: 0x37254c8>\n",
       "<environment: namespace:utils>"
      ]
     },
     "execution_count": 97,
     "metadata": {},
     "output_type": "execute_result"
    }
   ],
   "source": [
    "read.table"
   ]
  }
 ],
 "metadata": {
  "celltoolbar": "Slideshow",
  "kernelspec": {
   "display_name": "R",
   "language": "R",
   "name": "ir"
  },
  "language_info": {
   "codemirror_mode": "r",
   "file_extension": ".r",
   "mimetype": "text/x-r-source",
   "name": "R",
   "pygments_lexer": "r",
   "version": "3.3.2"
  }
 },
 "nbformat": 4,
 "nbformat_minor": 2
}

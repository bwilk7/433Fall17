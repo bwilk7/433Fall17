{
 "cells": [
  {
   "cell_type": "markdown",
   "metadata": {
    "slideshow": {
     "slide_type": "slide"
    }
   },
   "source": [
    "# JavaScript I"
   ]
  },
  {
   "cell_type": "markdown",
   "metadata": {
    "slideshow": {
     "slide_type": "slide"
    }
   },
   "source": [
    "## Introduction\n",
    "- JavaScript traditionally runs in an interpreter that is part of a browsers\n",
    "    - Often called a JavaScript engine\n",
    "- Was originally designed to add interactive elements to HTML pages\n",
    "    - First released in 1995 as part of Netscape Navigator\n",
    "- Forms the backbone of modern web development\n",
    "- Uses multiple paradigms, including object oriented and functional aspects"
   ]
  },
  {
   "cell_type": "markdown",
   "metadata": {
    "slideshow": {
     "slide_type": "slide"
    }
   },
   "source": [
    "## Background\n",
    "# Javascript is __not__ related to Java in anyway other than trying to get some free publicity\n"
   ]
  },
  {
   "cell_type": "markdown",
   "metadata": {
    "slideshow": {
     "slide_type": "slide"
    }
   },
   "source": [
    "## Background (cont'd)\n",
    "- Now Javascript is a standarized language that is overseen by European Computer Manufacturers Association\n",
    "    - The official term for the language is ECMAScript\n",
    "    - The 6th version of the standard was finalized in June, 2015\n",
    "    - The [500+ page standard](http://www.ecma-international.org/publications/files/ECMA-ST/Ecma-262.pdf) is available for browsing \n",
    "- Javascript has moved beyond the web for use in databases and desktop programs."
   ]
  },
  {
   "cell_type": "markdown",
   "metadata": {
    "slideshow": {
     "slide_type": "slide"
    }
   },
   "source": [
    "## JavaScript Capabilities\n",
    "- Add text dynamically to an HTML page\n",
    "- React to events that occur on an HTML page\n",
    "- Basic validation (but not the only validation!)\n",
    "- Detect browser and other data about the environment\n",
    "- Asynchronous communication"
   ]
  },
  {
   "cell_type": "markdown",
   "metadata": {
    "slideshow": {
     "slide_type": "slide"
    }
   },
   "source": [
    "## JavaScript Restrictions\n",
    "### (On the Web)\n",
    "- You cannot read or write to the file system in general\n",
    "- You cannot interact with other processes on the system\n",
    "- You can't keep your code private"
   ]
  },
  {
   "cell_type": "markdown",
   "metadata": {
    "slideshow": {
     "slide_type": "slide"
    }
   },
   "source": [
    "## JavaScript Engines\n",
    "- Each Major browser uses their own JavaScript engine (interpreter)\n",
    "    - There are differences not only in what is supported, but the speed of various functions\n",
    "- The Engines\n",
    "    - Spider Monkey\n",
    "        - The original engine, tracing all the way back to Netscape Navigator\n",
    "        - Now developed by Mozilla\n",
    "        - Used in all Mozilla products, as well as Adobe Acrobat and Mongo DB"
   ]
  },
  {
   "cell_type": "markdown",
   "metadata": {
    "slideshow": {
     "slide_type": "slide"
    }
   },
   "source": [
    "## The Engines (Continued)\n",
    "- V8\n",
    "    - Developed by the Chromium team at Google\n",
    "    - Used in Chrome, Opera, and Vivaldi browsers\n",
    "    - Also used in Couchbase and node.js\n",
    "- JavaScriptCore\n",
    "    - Developed by the WebKit team\n",
    "    - Used in Safari (known as Nitro)\n",
    "- Chakra(Core)\n",
    "    - Developed by Microsoft\n",
    "    - Used in Internet Explorer and Edge\n",
    "        - Slightly different engines in each    "
   ]
  },
  {
   "cell_type": "markdown",
   "metadata": {
    "slideshow": {
     "slide_type": "slide"
    }
   },
   "source": [
    "## Placing JavaScript in a Web Page\n",
    "- JavaScript is embedded in a web page using the `<script>` tags\n",
    "    - You used to have to specify the `type` attribute, but HTML5 assumes JavaScript\n",
    "- The JavaScript can be \n",
    "    - Placed between the `script` tags\n",
    "    - Stored in an external file, and specified using the `src` attribute\n"
   ]
  },
  {
   "cell_type": "markdown",
   "metadata": {
    "slideshow": {
     "slide_type": "slide"
    }
   },
   "source": [
    "```html\n",
    "<script>\n",
    "    JS GOES HERE\n",
    "</script>\n",
    "\n",
    "<script src=\"file_name.js\"></script>\n",
    "```"
   ]
  },
  {
   "cell_type": "markdown",
   "metadata": {
    "slideshow": {
     "slide_type": "slide"
    }
   },
   "source": [
    "## The `noscript` Tag\n",
    "- Not all browsers will run JavaScript\n",
    "    - The user may have disabled it\n",
    "    - May be text-based or a screen reader \n",
    "        - Although screen readers are getting more advanced\n",
    "- To handle these situtations gracefully, use the `noscript` tag\n",
    "    - Content in `noscript` is only displayed if running JavaScript is not possible"
   ]
  },
  {
   "cell_type": "markdown",
   "metadata": {
    "slideshow": {
     "slide_type": "slide"
    }
   },
   "source": [
    "## Developing Javascript Code\n",
    "- NodeJS\n",
    "- Web Browser\n",
    "    - Web Console (Firefox)\n",
    "    - Javascript Console (Chrome)\n",
    "    - Show Error Console (Safari, after enabling developer menu)\n",
    "    - Console Tool (IE 11+, Edge)"
   ]
  },
  {
   "cell_type": "markdown",
   "metadata": {
    "slideshow": {
     "slide_type": "slide"
    }
   },
   "source": [
    "## Variables & Scope\n",
    "- Variables should always be declared using the keywords __var__, __let__, or __const__\n",
    "    - Not necessary always, but easier than trying to remember when to use it and when not to\n",
    "    - In _strict mode_ is always necessary\n",
    "- The scope of a variable is the function it was declared in\n",
    "    - Making a new function is used to be only way to make a new scope\n",
    "    - We can use the keyword **let** to define the scope inside a block (ES2015)\n",
    "\n",
    "   "
   ]
  },
  {
   "cell_type": "code",
   "execution_count": null,
   "metadata": {
    "slideshow": {
     "slide_type": "slide"
    }
   },
   "outputs": [],
   "source": [
    "var a = 1\n",
    "var _a = 1\n",
    "//var 1a = 1"
   ]
  },
  {
   "cell_type": "code",
   "execution_count": null,
   "metadata": {
    "slideshow": {
     "slide_type": "slide"
    }
   },
   "outputs": [],
   "source": [
    "var a = 5\n",
    "if(true)\n",
    "    {\n",
    "        var b = 6\n",
    "    }\n",
    "a + b"
   ]
  },
  {
   "cell_type": "code",
   "execution_count": null,
   "metadata": {
    "slideshow": {
     "slide_type": "slide"
    }
   },
   "outputs": [],
   "source": [
    "var c = 6\n",
    "function f() {\n",
    "    var d = 11\n",
    "}\n",
    "c + d"
   ]
  },
  {
   "cell_type": "code",
   "execution_count": null,
   "metadata": {
    "slideshow": {
     "slide_type": "slide"
    }
   },
   "outputs": [],
   "source": [
    "var e = 5\n",
    "if(true)\n",
    "    {\n",
    "        let f = 6\n",
    "    }\n",
    "e + f"
   ]
  },
  {
   "cell_type": "markdown",
   "metadata": {
    "slideshow": {
     "slide_type": "slide"
    }
   },
   "source": [
    "## Data Types\n",
    "- Javascript is a dynamically typed language\n",
    "- Javascript provides 7 data types\n",
    "    - Undefined\n",
    "    - Null\n",
    "    - Boolean\n",
    "    - String\n",
    "    - Symbol\n",
    "    - Number\n",
    "    - Object"
   ]
  },
  {
   "cell_type": "markdown",
   "metadata": {
    "slideshow": {
     "slide_type": "slide"
    }
   },
   "source": [
    "## Number\n",
    "- Only one type for both integers and floats\n",
    "- Also can hold one of 3 special values\n",
    "    - -Infinity\n",
    "    - Infinity\n",
    "    - NaN\n"
   ]
  },
  {
   "cell_type": "markdown",
   "metadata": {
    "slideshow": {
     "slide_type": "slide"
    }
   },
   "source": [
    "## Operators"
   ]
  },
  {
   "cell_type": "code",
   "execution_count": null,
   "metadata": {},
   "outputs": [],
   "source": [
    "4 + 1"
   ]
  },
  {
   "cell_type": "code",
   "execution_count": null,
   "metadata": {},
   "outputs": [],
   "source": [
    "4 - 1"
   ]
  },
  {
   "cell_type": "code",
   "execution_count": null,
   "metadata": {},
   "outputs": [],
   "source": [
    "4 * 1"
   ]
  },
  {
   "cell_type": "code",
   "execution_count": null,
   "metadata": {},
   "outputs": [],
   "source": [
    "4 / -2"
   ]
  },
  {
   "cell_type": "code",
   "execution_count": null,
   "metadata": {
    "slideshow": {
     "slide_type": "slide"
    }
   },
   "outputs": [],
   "source": [
    "4 % -2"
   ]
  },
  {
   "cell_type": "code",
   "execution_count": null,
   "metadata": {},
   "outputs": [],
   "source": [
    "4/0"
   ]
  },
  {
   "cell_type": "code",
   "execution_count": null,
   "metadata": {},
   "outputs": [],
   "source": [
    "Infinity / Infinity"
   ]
  },
  {
   "cell_type": "code",
   "execution_count": null,
   "metadata": {},
   "outputs": [],
   "source": [
    "Math.sqrt(-1)"
   ]
  },
  {
   "cell_type": "code",
   "execution_count": null,
   "metadata": {},
   "outputs": [],
   "source": [
    "0/0"
   ]
  },
  {
   "cell_type": "code",
   "execution_count": null,
   "metadata": {
    "slideshow": {
     "slide_type": "slide"
    }
   },
   "outputs": [],
   "source": [
    "var a = 1\n",
    "a += 1\n",
    "a"
   ]
  },
  {
   "cell_type": "code",
   "execution_count": null,
   "metadata": {},
   "outputs": [],
   "source": [
    "var b = 20\n",
    "b++\n",
    "b"
   ]
  },
  {
   "cell_type": "markdown",
   "metadata": {
    "slideshow": {
     "slide_type": "slide"
    }
   },
   "source": [
    "## String\n",
    "- Strings in Javascript can be delimited by either single or dobule quotes\n",
    "- A specific character at position _i_ in a string can be access through bracket notation [i]\n",
    "- The concatenation operator is __+__"
   ]
  },
  {
   "cell_type": "code",
   "execution_count": null,
   "metadata": {
    "slideshow": {
     "slide_type": "slide"
    }
   },
   "outputs": [],
   "source": [
    "\"abc\"[0]"
   ]
  },
  {
   "cell_type": "code",
   "execution_count": null,
   "metadata": {},
   "outputs": [],
   "source": [
    "\"abc\" + \"abc\""
   ]
  },
  {
   "cell_type": "code",
   "execution_count": null,
   "metadata": {},
   "outputs": [],
   "source": [
    "'Someone said \"this\" '"
   ]
  },
  {
   "cell_type": "markdown",
   "metadata": {
    "slideshow": {
     "slide_type": "slide"
    }
   },
   "source": [
    "## String Methods\n",
    "- `charAt(i)` allows you to index using a method rather than `[]`\n",
    "- `concat(s1,s2...)` allows multiple strings to be concatenated in one call\n",
    "- `indexOf(string)`/`lastIndexOf(string)` finds the first or last occurrence of the argument in the string\n",
    "- `split(sep)` returns an array, the result of splitting the string on the separator passed in\n",
    "- `length` is a property that holds the number of characters in a string"
   ]
  },
  {
   "cell_type": "code",
   "execution_count": null,
   "metadata": {
    "slideshow": {
     "slide_type": "slide"
    }
   },
   "outputs": [],
   "source": [
    "\"abc\".charAt(0)"
   ]
  },
  {
   "cell_type": "code",
   "execution_count": null,
   "metadata": {},
   "outputs": [],
   "source": [
    "\"abc\".concat(\"def\",\"ghi\",'jkl')"
   ]
  },
  {
   "cell_type": "code",
   "execution_count": null,
   "metadata": {},
   "outputs": [],
   "source": [
    "\"abba\".indexOf('b')"
   ]
  },
  {
   "cell_type": "code",
   "execution_count": null,
   "metadata": {},
   "outputs": [],
   "source": [
    "\"abba\".lastIndexOf('b')"
   ]
  },
  {
   "cell_type": "code",
   "execution_count": null,
   "metadata": {
    "slideshow": {
     "slide_type": "slide"
    }
   },
   "outputs": [],
   "source": [
    "\"a,b,c,d\".split(\",\")"
   ]
  },
  {
   "cell_type": "code",
   "execution_count": null,
   "metadata": {},
   "outputs": [],
   "source": [
    "\"a,,b,c,,d\".split(\",,\")"
   ]
  },
  {
   "cell_type": "code",
   "execution_count": null,
   "metadata": {
    "slideshow": {
     "slide_type": "-"
    }
   },
   "outputs": [],
   "source": [
    "\"abc\".length"
   ]
  },
  {
   "cell_type": "markdown",
   "metadata": {
    "slideshow": {
     "slide_type": "slide"
    }
   },
   "source": [
    "## Boolean\n",
    "- The boolean values in Javascript are __true__ and __false__\n",
    "    - 0, NaN and \"\" are coerced to __false__\n",
    "- The operators are\n",
    "    - && (and)\n",
    "    - || (or)\n",
    "    - ! (not)\n",
    "- To test equality there are two operators\n",
    "    - == Tests the value only\n",
    "    - === Tests the value and the type "
   ]
  },
  {
   "cell_type": "code",
   "execution_count": null,
   "metadata": {
    "slideshow": {
     "slide_type": "slide"
    }
   },
   "outputs": [],
   "source": [
    "(1 > 0 ) && (1 < 10)"
   ]
  },
  {
   "cell_type": "code",
   "execution_count": null,
   "metadata": {},
   "outputs": [],
   "source": [
    "'1' == 1"
   ]
  },
  {
   "cell_type": "code",
   "execution_count": null,
   "metadata": {},
   "outputs": [],
   "source": [
    "'1' === 1"
   ]
  },
  {
   "cell_type": "code",
   "execution_count": null,
   "metadata": {},
   "outputs": [],
   "source": [
    "'1' != 1"
   ]
  },
  {
   "cell_type": "code",
   "execution_count": null,
   "metadata": {},
   "outputs": [],
   "source": [
    "'1' !== 1"
   ]
  },
  {
   "cell_type": "markdown",
   "metadata": {
    "slideshow": {
     "slide_type": "slide"
    }
   },
   "source": [
    "## Undefined & Null\n",
    "- A variable in Javascript that is uninitialized has a value of __undefined__\n",
    "- __null__ is used in similar situations\n",
    "- Testing a variable equal to (==) __null__ actually test __null__ or __undefined__"
   ]
  },
  {
   "cell_type": "code",
   "execution_count": null,
   "metadata": {
    "slideshow": {
     "slide_type": "slide"
    }
   },
   "outputs": [],
   "source": [
    "var undeclared\n",
    "console.log(undeclared === undefined)\n",
    "console.log(undeclared === null)\n",
    "console.log(undeclared == null)\n",
    "console.log(null == false)\n",
    "console.log(\"abc\"[200])"
   ]
  },
  {
   "cell_type": "markdown",
   "metadata": {
    "slideshow": {
     "slide_type": "slide"
    }
   },
   "source": [
    "## Arrays\n",
    "- Arrays in Javascript are a special type of object\n",
    "- They can be initialized by \n",
    "    - listing the elements between square brackets\n",
    "    - Calling the array constructor `Array()` with\n",
    "        - The length of the array\n",
    "        - The elements of the array\n",
    "- They are indexed using []"
   ]
  },
  {
   "cell_type": "code",
   "execution_count": null,
   "metadata": {
    "slideshow": {
     "slide_type": "slide"
    }
   },
   "outputs": [],
   "source": [
    "var arr = [1,2,3,4,5,6]\n",
    "console.log(arr)\n",
    "console.log(arr[0])\n",
    "\n",
    "var arr2 = Array(10)\n",
    "console.log(arr2)\n",
    "console.log(arr2[0])\n",
    "\n",
    "var arr3 = Array(10,9,8,7,6)\n",
    "console.log(arr3)\n",
    "console.log(arr3[0])\n",
    "console.log(arr3[-1]) "
   ]
  },
  {
   "cell_type": "markdown",
   "metadata": {
    "slideshow": {
     "slide_type": "slide"
    }
   },
   "source": [
    "## Array Methods\n",
    "- `concat(a1,a2,a3)` Appends several arrays together into one array\n",
    "- `join(string)` Returns a string, with each element joined by a string\n",
    "- `pop/push(el)` Remove or add an element at the end of the array\n",
    "- `shift/unshift(el)` Remove or add an element at the front of the array\n",
    "- `reverse()` Returns array in reverse order\n",
    "- `sort(function)` Returns the array, sorted by a function"
   ]
  },
  {
   "cell_type": "code",
   "execution_count": null,
   "metadata": {
    "slideshow": {
     "slide_type": "slide"
    }
   },
   "outputs": [],
   "source": [
    "var my_array = Array(1,2,3,4)\n",
    "my_array.concat([1,2,3,4],[1,2,3,4])"
   ]
  },
  {
   "cell_type": "code",
   "execution_count": null,
   "metadata": {},
   "outputs": [],
   "source": [
    "my_array.join(\",\")"
   ]
  },
  {
   "cell_type": "code",
   "execution_count": null,
   "metadata": {},
   "outputs": [],
   "source": [
    "my_array.join(\"...\")"
   ]
  },
  {
   "cell_type": "code",
   "execution_count": null,
   "metadata": {
    "slideshow": {
     "slide_type": "slide"
    }
   },
   "outputs": [],
   "source": [
    "var my_array2 = Array(1,2,3,4,5)\n",
    "my_array2.pop()\n",
    "console.log(my_array2)\n",
    "\n",
    "my_array2.push(\"Elephant\")\n",
    "console.log(my_array2)"
   ]
  },
  {
   "cell_type": "code",
   "execution_count": null,
   "metadata": {
    "slideshow": {
     "slide_type": "slide"
    }
   },
   "outputs": [],
   "source": [
    "var my_array3 = Array(10,9,8,7,6,5)\n",
    "my_array3.shift()\n",
    "console.log(my_array3)\n",
    "\n",
    "my_array3.unshift(\"T-minus\")\n",
    "console.log(my_array3)"
   ]
  },
  {
   "cell_type": "markdown",
   "metadata": {
    "slideshow": {
     "slide_type": "slide"
    }
   },
   "source": [
    "## Type Coercion\n",
    "- When dealing with two different data types, Javascript will prefer to attempt to cast one of the types rather than throw an error\n",
    "    - This is known as type coercion\n",
    "- If type coercion fails, rather throw an error, __NaN__ or __undefined__ are usually returned"
   ]
  },
  {
   "cell_type": "code",
   "execution_count": null,
   "metadata": {
    "slideshow": {
     "slide_type": "slide"
    }
   },
   "outputs": [],
   "source": [
    "2 - '20'"
   ]
  },
  {
   "cell_type": "code",
   "execution_count": null,
   "metadata": {},
   "outputs": [],
   "source": [
    "5 + Number('1')"
   ]
  },
  {
   "cell_type": "code",
   "execution_count": null,
   "metadata": {},
   "outputs": [],
   "source": [
    "5 + '1'"
   ]
  },
  {
   "cell_type": "code",
   "execution_count": null,
   "metadata": {
    "slideshow": {
     "slide_type": "slide"
    }
   },
   "outputs": [],
   "source": [
    "'1' + 2"
   ]
  },
  {
   "cell_type": "code",
   "execution_count": null,
   "metadata": {},
   "outputs": [],
   "source": [
    "'5' * 20"
   ]
  },
  {
   "cell_type": "code",
   "execution_count": null,
   "metadata": {},
   "outputs": [],
   "source": [
    "'5' * '5'"
   ]
  },
  {
   "cell_type": "code",
   "execution_count": null,
   "metadata": {
    "slideshow": {
     "slide_type": "slide"
    }
   },
   "outputs": [],
   "source": [
    "'t' * 5"
   ]
  },
  {
   "cell_type": "code",
   "execution_count": null,
   "metadata": {},
   "outputs": [],
   "source": [
    "'t' / null"
   ]
  },
  {
   "cell_type": "code",
   "execution_count": null,
   "metadata": {},
   "outputs": [],
   "source": [
    "null == 0"
   ]
  },
  {
   "cell_type": "code",
   "execution_count": null,
   "metadata": {},
   "outputs": [],
   "source": [
    "'8' / null"
   ]
  },
  {
   "cell_type": "markdown",
   "metadata": {
    "slideshow": {
     "slide_type": "slide"
    }
   },
   "source": [
    "## Conditionals & Looping\n",
    "- Javascript provides the following conditional statements\n",
    "    - if\n",
    "    - switch\n",
    "- And the following looping mechanisms\n",
    "    - for\n",
    "    - while\n",
    "    - do-while\n",
    "    - for-in\n",
    "    - for-of"
   ]
  },
  {
   "cell_type": "markdown",
   "metadata": {
    "slideshow": {
     "slide_type": "slide"
    }
   },
   "source": [
    "## If\n",
    "- The __if__ statement in Javascript is pretty straightforward \n",
    "```javascript\n",
    "if (condition) {\n",
    "    doSomething\n",
    "}\n",
    "```\n",
    "- The parentheses are not necesary for a single line, but should always be used\n",
    "- __if else__ looks like this:\n",
    "```javascript\n",
    "if (condition1){\n",
    "}\n",
    "else if(condition2){\n",
    "}\n",
    "else if(condition3){\n",
    "}\n",
    "else{\n",
    "}\n",
    "```"
   ]
  },
  {
   "cell_type": "code",
   "execution_count": null,
   "metadata": {
    "slideshow": {
     "slide_type": "slide"
    }
   },
   "outputs": [],
   "source": [
    "var x = '0'\n",
    "if(x < 0){\n",
    "    console.log(\"Negative\");\n",
    "    }\n",
    "//\n",
    "/*\n",
    "Note the triple equals\n",
    "\n",
    "*/\n",
    "else if(x === 0){\n",
    "    console.log(\"Zero\");\n",
    "}\n",
    "else{\n",
    "    console.log(\"Positive\");\n",
    "}\n"
   ]
  },
  {
   "cell_type": "markdown",
   "metadata": {
    "slideshow": {
     "slide_type": "slide"
    }
   },
   "source": [
    "## Switch Statement\n",
    "- The syntax and mechanics of the __swtich__ statement borrow heavily from other languages\n",
    "- Cases are marked with __case__ and __default__ provides a catch all case\n",
    "```js\n",
    "switch(toTest){\n",
    "    case 1:\n",
    "    case 2:\n",
    "        doSomething\n",
    "        break\n",
    "    case \"A\":\n",
    "    case \"B\":\n",
    "        somethingElse\n",
    "        break\n",
    "    case \"D\":\n",
    "        other\n",
    "        break\n",
    "    default:\n",
    "        final\n",
    "        break\n",
    "    }\n",
    "```\n"
   ]
  },
  {
   "cell_type": "code",
   "execution_count": null,
   "metadata": {
    "slideshow": {
     "slide_type": "slide"
    }
   },
   "outputs": [],
   "source": [
    "switch('0'){\n",
    "    case -1:\n",
    "        console.log(\"Negative\")\n",
    "        break\n",
    "    case 0:\n",
    "        console.log(\"Zero\")\n",
    "        break\n",
    "    default:\n",
    "        console.log(\"Positive\")\n",
    "        break\n",
    "}"
   ]
  },
  {
   "cell_type": "markdown",
   "metadata": {
    "slideshow": {
     "slide_type": "slide"
    }
   },
   "source": [
    "## Looping\n",
    "- The for loop construct is similar to other languages you know\n",
    "```js\n",
    "for(var i = 0; i < 10; i++){\n",
    "}\n",
    "```\n",
    "- The while and do while syntax is also similar\n",
    "```js\n",
    "var i = 0\n",
    "while(i < 10){\n",
    "    i++\n",
    "}\n",
    "```"
   ]
  },
  {
   "cell_type": "code",
   "execution_count": null,
   "metadata": {
    "slideshow": {
     "slide_type": "slide"
    }
   },
   "outputs": [],
   "source": [
    "for(var z = 0; z < 10; z++){\n",
    "    console.log(z * z)\n",
    "}"
   ]
  },
  {
   "cell_type": "code",
   "execution_count": null,
   "metadata": {
    "slideshow": {
     "slide_type": "slide"
    }
   },
   "outputs": [],
   "source": [
    "var q = 1\n",
    "while(q < 10){\n",
    "    q++\n",
    "}"
   ]
  },
  {
   "cell_type": "markdown",
   "metadata": {
    "slideshow": {
     "slide_type": "slide"
    }
   },
   "source": [
    "## For-In and For-Of\n",
    "- The `for in` loop will loop over an objects keys\n",
    "    - Order is not guaranteed to be maintained\n",
    "- The `for of` loop is new, and iterates directly over the values of an object\n",
    "    - Order is maintained"
   ]
  },
  {
   "cell_type": "code",
   "execution_count": null,
   "metadata": {
    "slideshow": {
     "slide_type": "slide"
    }
   },
   "outputs": [],
   "source": [
    "//let to_loop = ['a','b','c',1,2,3]\n",
    "for (i in to_loop){\n",
    "    console.log(i, to_loop[i])\n",
    "}\n",
    "\n",
    "for (j of to_loop){\n",
    "    console.log(j)\n",
    "}"
   ]
  },
  {
   "cell_type": "markdown",
   "metadata": {
    "slideshow": {
     "slide_type": "slide"
    }
   },
   "source": [
    "## Functions\n",
    "- Functions in JavaScript are first class objects\n",
    "- They can be passed into and returned from other functions\n",
    "    - This means closures are possible\n",
    "- To declare a function in JavaScript, the keyword is __function__\n",
    "```js\n",
    "function name(param1, param2, ...){\n",
    "}\n",
    "```"
   ]
  },
  {
   "cell_type": "markdown",
   "metadata": {
    "slideshow": {
     "slide_type": "slide"
    }
   },
   "source": [
    "## Function Examples"
   ]
  },
  {
   "cell_type": "code",
   "execution_count": null,
   "metadata": {},
   "outputs": [],
   "source": [
    "square(10)\n",
    "\n",
    "function square(x){\n",
    "    return x*x\n",
    "}"
   ]
  },
  {
   "cell_type": "code",
   "execution_count": null,
   "metadata": {},
   "outputs": [],
   "source": [
    "function counter(){\n",
    "    var count = 0;\n",
    "    return function(){\n",
    "        count++\n",
    "        return count\n",
    "    }\n",
    "}"
   ]
  },
  {
   "cell_type": "code",
   "execution_count": null,
   "metadata": {},
   "outputs": [],
   "source": [
    "var c = counter()"
   ]
  },
  {
   "cell_type": "code",
   "execution_count": null,
   "metadata": {},
   "outputs": [],
   "source": [
    "c() + 1"
   ]
  }
 ],
 "metadata": {
  "celltoolbar": "Slideshow",
  "kernelspec": {
   "display_name": "Javascript (Node.js)",
   "language": "javascript",
   "name": "javascript"
  },
  "language_info": {
   "file_extension": ".js",
   "mimetype": "application/javascript",
   "name": "javascript",
   "version": "6.9.4"
  }
 },
 "nbformat": 4,
 "nbformat_minor": 1
}

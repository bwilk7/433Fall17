{
 "cells": [
  {
   "cell_type": "markdown",
   "metadata": {
    "slideshow": {
     "slide_type": "slide"
    }
   },
   "source": [
    "# Bash\n",
    "## Streams, Redirection, and Control Structures"
   ]
  },
  {
   "cell_type": "markdown",
   "metadata": {
    "slideshow": {
     "slide_type": "slide"
    }
   },
   "source": [
    "## Streams\n",
    "- STDIN\n",
    "- STDOUT\n",
    "- STDERR"
   ]
  },
  {
   "cell_type": "markdown",
   "metadata": {
    "slideshow": {
     "slide_type": "slide"
    }
   },
   "source": [
    "## Output Redirection\n",
    "- The greater than symbol (**>**), is used to redirect output\n",
    "    - With no additional symbols, this redirects STDOUT to the specified location\n",
    "    - **1>** also redirects STDOUT to the specified location, but this form is not normally used\n",
    "    - **2>** redirects STDERR to the specified location\n",
    "    - **&>** redirects both STDOUT and STDERR to the same specified location\n",
    "    - **>>** appends STDOUT to the specified file\n",
    "    "
   ]
  },
  {
   "cell_type": "code",
   "execution_count": 15,
   "metadata": {
    "collapsed": true,
    "slideshow": {
     "slide_type": "slide"
    }
   },
   "outputs": [],
   "source": [
    "echo \"Hello\" > hello.txt"
   ]
  },
  {
   "cell_type": "code",
   "execution_count": 16,
   "metadata": {},
   "outputs": [
    {
     "name": "stdout",
     "output_type": "stream",
     "text": [
      "Hello\n"
     ]
    }
   ],
   "source": [
    "more hello.txt"
   ]
  },
  {
   "cell_type": "code",
   "execution_count": 17,
   "metadata": {
    "collapsed": true
   },
   "outputs": [],
   "source": [
    "echo \"World\" >> hello.txt"
   ]
  },
  {
   "cell_type": "code",
   "execution_count": 18,
   "metadata": {},
   "outputs": [
    {
     "name": "stdout",
     "output_type": "stream",
     "text": [
      "Hello\n",
      "World\n"
     ]
    }
   ],
   "source": [
    "more hello.txt"
   ]
  },
  {
   "cell_type": "code",
   "execution_count": 19,
   "metadata": {
    "slideshow": {
     "slide_type": "slide"
    }
   },
   "outputs": [
    {
     "name": "stdout",
     "output_type": "stream",
     "text": [
      "\u001b[01m\u001b[Kgcc:\u001b[m\u001b[K \u001b[01;31m\u001b[Kerror: \u001b[m\u001b[Kno_file.c: No such file or directory\n",
      "\u001b[01m\u001b[Kgcc:\u001b[m\u001b[K \u001b[01;31m\u001b[Kfatal error: \u001b[m\u001b[Kno input files\n",
      "compilation terminated.\n"
     ]
    },
    {
     "ename": "",
     "evalue": "1",
     "output_type": "error",
     "traceback": []
    }
   ],
   "source": [
    "gcc no_file.c"
   ]
  },
  {
   "cell_type": "code",
   "execution_count": 20,
   "metadata": {},
   "outputs": [
    {
     "ename": "",
     "evalue": "1",
     "output_type": "error",
     "traceback": []
    }
   ],
   "source": [
    "gcc no_file.c 2> gcc_errors.txt"
   ]
  },
  {
   "cell_type": "code",
   "execution_count": 21,
   "metadata": {},
   "outputs": [
    {
     "name": "stdout",
     "output_type": "stream",
     "text": [
      "gcc: error: no_file.c: No such file or directory\n",
      "gcc: fatal error: no input files\n",
      "compilation terminated.\n"
     ]
    }
   ],
   "source": [
    "more gcc_errors.txt"
   ]
  },
  {
   "cell_type": "code",
   "execution_count": 22,
   "metadata": {
    "collapsed": true,
    "slideshow": {
     "slide_type": "slide"
    }
   },
   "outputs": [
    {
     "name": "stdout",
     "output_type": "stream",
     "text": [
      "#!/usr/bin/python\n",
      "from __future__ import print_function\n",
      "import sys\n",
      "\n",
      "def eprint(*args, **kwargs):\n",
      "    print(*args, file=sys.stderr, **kwargs)\n",
      "\n",
      "print(\"I am on STDOUT\")\n",
      "eprint(\"I am on STDERR\")\n"
     ]
    }
   ],
   "source": [
    "more out_and_err.py"
   ]
  },
  {
   "cell_type": "code",
   "execution_count": 23,
   "metadata": {
    "collapsed": true,
    "slideshow": {
     "slide_type": "-"
    }
   },
   "outputs": [],
   "source": [
    "./out_and_err.py > out 2> err"
   ]
  },
  {
   "cell_type": "code",
   "execution_count": 24,
   "metadata": {},
   "outputs": [
    {
     "name": "stdout",
     "output_type": "stream",
     "text": [
      "I am on STDOUT\n"
     ]
    }
   ],
   "source": [
    "more out"
   ]
  },
  {
   "cell_type": "code",
   "execution_count": 25,
   "metadata": {},
   "outputs": [
    {
     "name": "stdout",
     "output_type": "stream",
     "text": [
      "I am on STDERR\n"
     ]
    }
   ],
   "source": [
    "more err"
   ]
  },
  {
   "cell_type": "markdown",
   "metadata": {
    "slideshow": {
     "slide_type": "slide"
    }
   },
   "source": [
    "## Input Redirection\n",
    "- The less than symbol (**<**) is used to redirect input to STDIN\n",
    "    - Not many variations of this, but....\n",
    "    - Two less than operators (**<<**) are used to create a here document, which will have its own slide"
   ]
  },
  {
   "cell_type": "code",
   "execution_count": 26,
   "metadata": {
    "slideshow": {
     "slide_type": "slide"
    }
   },
   "outputs": [
    {
     "name": "stdout",
     "output_type": "stream",
     "text": [
      "#!/usr/bin/python\n",
      "number = int(raw_input(\"Please enter a number: \"))\n",
      "print \"The square of %d is %d\" % (number, number * number)\n"
     ]
    }
   ],
   "source": [
    "more simple.py"
   ]
  },
  {
   "cell_type": "code",
   "execution_count": 27,
   "metadata": {
    "slideshow": {
     "slide_type": "slide"
    }
   },
   "outputs": [
    {
     "name": "stdout",
     "output_type": "stream",
     "text": [
      "Please enter a number: The square of 40 is 1600\n"
     ]
    }
   ],
   "source": [
    "./simple.py < numbers.txt "
   ]
  },
  {
   "cell_type": "markdown",
   "metadata": {
    "slideshow": {
     "slide_type": "slide"
    }
   },
   "source": [
    "## Here Documents\n",
    "- A here document takes any string and allows it to be passed to a command as if it were coming from STDIN\n",
    "    - For commands that take multiple arguments, you may see the dash (**-**) being used to explicitly indicate which argument should use STDIN\n",
    "    - The **<<** must be followed by a delimiter that is used to mark the end of the HERE document\n",
    "    - Using **<<-** will remove leading tabs, which can be useful for formatting nice looking scripts"
   ]
  },
  {
   "cell_type": "markdown",
   "metadata": {
    "slideshow": {
     "slide_type": "slide"
    }
   },
   "source": [
    "## Here Strings\n",
    "- If all you want to redirect is a single line, you can use three less than symbols (**<<<**) with no delimiter to indicate a here string\n",
    "    - Any variables in a here string (or here document) are expanded before being redirected"
   ]
  },
  {
   "cell_type": "code",
   "execution_count": 28,
   "metadata": {
    "slideshow": {
     "slide_type": "slide"
    }
   },
   "outputs": [
    {
     "name": "stdout",
     "output_type": "stream",
     "text": [
      "40\n",
      "1\n",
      "2\n",
      "3\n",
      "\n"
     ]
    }
   ],
   "source": [
    "more numbers.txt"
   ]
  },
  {
   "cell_type": "code",
   "execution_count": 29,
   "metadata": {
    "collapsed": true
   },
   "outputs": [
    {
     "name": "stdout",
     "output_type": "stream",
     "text": [
      "1,4c1,5\n",
      "<     40\n",
      "<     1\n",
      "<     2\n",
      "<     3\n",
      "---\n",
      "> 40\n",
      "> 1\n",
      "> 2\n",
      "> 3\n",
      "> \n"
     ]
    },
    {
     "ename": "",
     "evalue": "1",
     "output_type": "error",
     "traceback": []
    }
   ],
   "source": [
    "diff - numbers.txt <<EOF\n",
    "    40\n",
    "    1\n",
    "    2\n",
    "    3\n",
    "EOF"
   ]
  },
  {
   "cell_type": "code",
   "execution_count": 30,
   "metadata": {},
   "outputs": [
    {
     "name": "stdout",
     "output_type": "stream",
     "text": [
      "1c1,5\n",
      "< Hello\n",
      "---\n",
      "> 40\n",
      "> 1\n",
      "> 2\n",
      "> 3\n",
      "> \n"
     ]
    },
    {
     "ename": "",
     "evalue": "1",
     "output_type": "error",
     "traceback": []
    }
   ],
   "source": [
    "diff - numbers.txt <<< \"Hello\""
   ]
  },
  {
   "cell_type": "markdown",
   "metadata": {
    "slideshow": {
     "slide_type": "slide"
    }
   },
   "source": [
    "## Pipes\n",
    "- Many times the output of one command will function as the input to a second command\n",
    "- Rather than redirect output to a tempoarary file and then use that file as input, use the pipe command (**|**)\n",
    "    - The STDERR stream can be redirection *along with* the STDOUT stream using **|&**"
   ]
  },
  {
   "cell_type": "code",
   "execution_count": 31,
   "metadata": {
    "slideshow": {
     "slide_type": "slide"
    }
   },
   "outputs": [
    {
     "name": "stdout",
     "output_type": "stream",
     "text": [
      "54\n"
     ]
    }
   ],
   "source": [
    "ls -lh | wc -l"
   ]
  },
  {
   "cell_type": "code",
   "execution_count": 32,
   "metadata": {},
   "outputs": [
    {
     "name": "stdout",
     "output_type": "stream",
     "text": [
      "/home/bryan/atom/.git/objects/pack/pack-9b1de18828423dccad81d95b642b9f7059665561.pack\n",
      "/home/bryan/gloveTest4.bin\n",
      "/home/bryan/wacky1\n",
      "/home/bryan/bryan/wiki.log\n",
      "/home/bryan/bryan/google1Deps10000.csv\n",
      "/home/bryan/bryan/word_projections-1600.txt\n",
      "/home/bryan/bryan/wikiSpaceDeps.pkl\n",
      "/home/bryan/bryan/wikiSpace.pkl\n",
      "/home/bryan/bryan/googleDeps1Sided+Nouns.pkl\n",
      "/home/bryan/bryan/wikiSpaceDepsAdj.pkl\n",
      "find: `standard output': Broken pipe\n",
      "find: write error\n"
     ]
    }
   ],
   "source": [
    "find ~/ -size +100M | head"
   ]
  },
  {
   "cell_type": "markdown",
   "metadata": {
    "slideshow": {
     "slide_type": "slide"
    }
   },
   "source": [
    "## Tee\n",
    "- The `tee` command takes in a stream as input, and outputs that stream both to STDOUT and to the specified file\n",
    "    - Used following a pipe operator"
   ]
  },
  {
   "cell_type": "code",
   "execution_count": 33,
   "metadata": {
    "collapsed": true,
    "slideshow": {
     "slide_type": "slide"
    }
   },
   "outputs": [
    {
     "name": "stdout",
     "output_type": "stream",
     "text": [
      "Requirement already up-to-date: scipy in /usr/local/lib/python2.7/dist-packages\n",
      "Collecting numpy>=1.8.2 (from scipy)\n",
      "  Using cached numpy-1.13.1-cp27-cp27mu-manylinux1_x86_64.whl\n",
      "Installing collected packages: numpy\n",
      "  Found existing installation: numpy 1.13.0\n",
      "    Uninstalling numpy-1.13.0:\n",
      "Exception:\n",
      "Traceback (most recent call last):\n",
      "  File \"/usr/local/lib/python2.7/dist-packages/pip/basecommand.py\", line 215, in main\n",
      "    status = self.run(options, args)\n",
      "  File \"/usr/local/lib/python2.7/dist-packages/pip/commands/install.py\", line 342, in run\n",
      "    prefix=options.prefix_path,\n",
      "  File \"/usr/local/lib/python2.7/dist-packages/pip/req/req_set.py\", line 778, in install\n",
      "    requirement.uninstall(auto_confirm=True)\n",
      "  File \"/usr/local/lib/python2.7/dist-packages/pip/req/req_install.py\", line 754, in uninstall\n",
      "    paths_to_remove.remove(auto_confirm)\n",
      "  File \"/usr/local/lib/python2.7/dist-packages/pip/req/req_uninstall.py\", line 115, in remove\n",
      "    renames(path, new_path)\n",
      "  File \"/usr/local/lib/python2.7/dist-packages/pip/utils/__init__.py\", line 267, in renames\n",
      "    shutil.move(old, new)\n",
      "  File \"/usr/lib/python2.7/shutil.py\", line 303, in move\n",
      "    os.unlink(src)\n",
      "OSError: [Errno 13] Permission denied: '/usr/local/bin/f2py'\n"
     ]
    }
   ],
   "source": [
    "pip2 install -U scipy |& tee scipy.log"
   ]
  },
  {
   "cell_type": "code",
   "execution_count": null,
   "metadata": {},
   "outputs": [
    {
     "name": "stdout",
     "output_type": "stream",
     "text": [
      "Requirement already up-to-date: scipy in /usr/local/lib/python2.7/dist-packages\n",
      "Collecting numpy>=1.8.2 (from scipy)\n",
      "  Using cached numpy-1.13.1-cp27-cp27mu-manylinux1_x86_64.whl\n",
      "Installing collected packages: numpy\n",
      "  Found existing installation: numpy 1.13.0\n",
      "    Uninstalling numpy-1.13.0:\n",
      "Exception:\n",
      "Traceback (most recent call last):\n",
      "  File \"/usr/local/lib/python2.7/dist-packages/pip/basecommand.py\", line 215, in\n",
      " main\n",
      "    status = self.run(options, args)\n",
      "  File \"/usr/local/lib/python2.7/dist-packages/pip/commands/install.py\", line 34\n",
      "2, in run\n",
      "    prefix=options.prefix_path,\n",
      "  File \"/usr/local/lib/python2.7/dist-packages/pip/req/req_set.py\", line 778, in\n",
      " install\n",
      "    requirement.uninstall(auto_confirm=True)\n",
      "  File \"/usr/local/lib/python2.7/dist-packages/pip/req/req_install.py\", line 754\n",
      ", in uninstall\n",
      "    paths_to_remove.remove(auto_confirm)\n",
      "  File \"/usr/local/lib/python2.7/dist-packages/pip/req/req_uninstall.py\", line 1\n",
      "15, in remove\n",
      "    renames(path, new_path)\n"
     ]
    }
   ],
   "source": [
    "more scipy.log"
   ]
  },
  {
   "cell_type": "markdown",
   "metadata": {
    "slideshow": {
     "slide_type": "slide"
    }
   },
   "source": [
    "## Redirecting From Multiple Commands\n",
    "- Sometimes you may need to combine the output of multiple commands and pass this on to a third or fourth command\n",
    "- You could use temporary files, but process substitution fills this need nicely\n",
    "- The syntax is **<(_command_)**\n",
    "    - This relies on certain operating system features, so isn't truly portable, but can be assumed to be "
   ]
  },
  {
   "cell_type": "code",
   "execution_count": 1,
   "metadata": {
    "slideshow": {
     "slide_type": "slide"
    }
   },
   "outputs": [
    {
     "name": "stdout",
     "output_type": "stream",
     "text": [
      "1,54c1,99\n",
      "< total 5.3M\n",
      "< drwxrwxr-x 3 bryan bryan 4.0K Sep 12 12:11 433Fall17\n",
      "< -rw-rw-r-- 1 bryan bryan 2.0M Sep  7 10:17 airline_tweets.tsv\n",
      "< -rw-rw-r-- 1 bryan bryan  125 Sep 12 09:05 anchored.pl\n",
      "< -rw-rw-r-- 1 bryan bryan    0 Sep 19 10:14 an_empty_file\n",
      "< -rwxrwxr-x 1 bryan bryan  24K Sep 19 08:46 a.out\n",
      "< -rw-rw-r-- 1 bryan bryan  132 Sep 12 09:13 bad_alt.pl\n",
      "< -rw-rw-r-- 1 bryan bryan  127 Sep 12 09:14 capture.pl\n",
      "< -rwxrwxr-x 1 bryan bryan  176 Sep 14 09:48 cla_examples.sh\n",
      "< -rw-rw-r-- 1 bryan bryan   15 Sep 19 11:58 err\n",
      "< -rw-rw-r-- 1 bryan bryan  137 Sep 12 08:46 fast.pl\n",
      "< -rw-r--r-- 1 bryan bryan  37K Sep  4 21:07 fb_messenger.png\n",
      "< -rw-r--r-- 1 bryan bryan  24K Sep  4 20:15 fb_verify.png\n",
      "< -rw-rw-r-- 1 bryan bryan  106 Sep 19 11:58 gcc_errors.txt\n",
      "< -rw-rw-r-- 1 bryan bryan  132 Sep 12 09:12 good_alt.pl\n",
      "< -rw-rw-r-- 1 bryan bryan  139 Sep 12 09:09 greedy.pl\n",
      "< -rwxrwxr-x 1 bryan bryan   31 Sep 14 10:38 hello.sh\n",
      "< -rw-rw-r-- 1 bryan bryan   19 Sep 14 10:37 hello_simple.sh\n",
      "< -rw-rw-r-- 1 bryan bryan   12 Sep 19 11:57 hello.txt\n",
      "< -rw-rw-r-- 1 bryan bryan 258K Aug 31 10:59 Lecture00.html\n",
      "< -rw-rw-r-- 1 bryan bryan 990K Aug 31 15:15 Lecture00.ipynb\n",
      "< -rw-rw-r-- 1 bryan bryan 366K Sep  5 15:43 Lecture01.html\n",
      "< -rw-rw-r-- 1 bryan bryan  85K Sep  5 15:31 Lecture01.ipynb\n",
      "< -rw-rw-r-- 1 bryan bryan 314K Sep 14 10:34 Lecture02.html\n",
      "< -rw-rw-r-- 1 bryan bryan  61K Sep  7 12:22 Lecture02.ipynb\n",
      "< -rw-rw-r-- 1 bryan bryan 287K Sep 14 10:34 Lecture03.html\n",
      "< -rw-rw-r-- 1 bryan bryan  24K Sep 12 12:13 Lecture03.ipynb\n",
      "< -rw-rw-r-- 1 bryan bryan 302K Sep 19 10:47 Lecture04.html\n",
      "< -rw-rw-r-- 1 bryan bryan  38K Sep 14 14:27 Lecture04.ipynb\n",
      "< -rw-rw-r-- 1 bryan bryan 287K Sep 19 10:47 Lecture05.html\n",
      "< -rw-rw-r-- 1 bryan bryan  32K Sep 19 12:08 Lecture05.ipynb\n",
      "< -rw-rw-r-- 1 bryan bryan  683 Sep 15 17:37 Lecture06.ipynb\n",
      "< -rw-rw-r-- 1 bryan bryan  567 Sep 15 17:38 Lecture07.ipynb\n",
      "< -rw-rw-r-- 1 bryan bryan  565 Sep 15 17:38 Lecture08.ipynb\n",
      "< -rw-rw-r-- 1 bryan bryan  129 Sep 12 09:15 noncapture.pl\n",
      "< -rw-rw-r-- 1 bryan bryan  140 Sep 12 09:09 nongreedy.pl\n",
      "< -rw-rw-r-- 1 bryan bryan   10 Sep 19 09:02 numbers.txt\n",
      "< -rw-rw-r-- 1 bryan bryan   15 Sep 19 11:58 out\n",
      "< -rwxrwxr-x 1 bryan bryan  191 Sep 19 08:51 out_and_err.py\n",
      "< -rw-rw-r-- 1 bryan bryan  176 Sep 19 09:23 part1.tsv\n",
      "< -rw-rw-r-- 1 bryan bryan  106 Sep 19 09:25 part2.csv\n",
      "< -rw-rw-r-- 1 bryan bryan   68 Sep  4 22:57 re_example.pl\n",
      "< drwxrwxr-x 3 bryan bryan 4.0K Sep 12 10:40 regex_starter_code\n",
      "< -rw-r--r-- 1 bryan bryan 9.2K Sep  5 10:04 registers.png\n",
      "< -rw-rw-r-- 1 bryan bryan  17K Sep  4 23:15 rolling_stone_500_greatest_2010.txt\n",
      "< -rw-rw-r-- 1 bryan bryan 1.3K Sep 19 12:06 scipy.log\n",
      "< -rwxrwxr-x 1 bryan bryan  128 Sep 19 09:02 simple.py\n",
      "< -rw-rw-r-- 1 bryan bryan  127 Sep 12 08:46 slow.pl\n",
      "< -rw-rw-r-- 1 bryan bryan   19 Sep 14 10:09 to_sort1.txt\n",
      "< -rw-rw-r-- 1 bryan bryan   23 Sep 14 10:09 to_sort2.txt\n",
      "< -rw-rw-r-- 1 bryan bryan   15 Sep 14 10:10 to_sort3.txt\n",
      "< -rw-rw-r-- 1 bryan bryan   90 Sep 14 10:15 to_sort4.txt\n",
      "< -rw-rw-r-- 1 bryan bryan  124 Sep 12 09:05 unanchored.pl\n",
      "< -rw-rw-r-- 1 bryan bryan  313 Sep  4 16:14 Untitled.ipynb\n",
      "---\n",
      "> total 27M\n",
      "> -rw-r--r-- 1 bryan bryan  30K Sep 14 13:30 aa.png\n",
      "> -rw-r----- 1 bryan bryan 164K Aug 29 18:57 ambparse.jpg\n",
      "> -rw-r--r-- 1 bryan bryan  30K Sep 14 14:01 bwilk1@linuxserver1.cs.umbc.edu\n",
      "> -rw-r----- 1 bryan bryan 4.7K Aug 29 18:57 capDFA.svg\n",
      "> -rw-rw-r-- 1 bryan bryan 112K Aug 29 18:57 compilation.jpg\n",
      "> -rw-rw-r-- 1 bryan bryan  551 Aug 29 18:56 complex.lua\n",
      "> -rw-r----- 1 bryan bryan  24K Aug 29 18:56 DFA1.svg\n",
      "> -rw-r----- 1 bryan bryan  12K Aug 29 18:57 DFA2.svg\n",
      "> -rw-r----- 1 bryan bryan  13K Aug 29 18:57 ending.svg\n",
      "> -rw-rw-r-- 1 bryan bryan  537 Sep 14 13:02 example.l\n",
      "> -rwxrwxr-x 1 bryan bryan  24K Sep 18 15:34 example_lex\n",
      "> -rw-rw-r-- 1 bryan bryan  46K Sep 18 15:33 example_lex.c\n",
      "> -rw-rw-r-- 1 bryan bryan  19K Aug 29 18:57 FinalReivew.ipynb\n",
      "> -rw-rw-r-- 1 bryan bryan 212K Aug 29 18:56 FinalReview.html\n",
      "> -rw-rw-r-- 1 bryan bryan  142 Aug 29 18:57 final.scm\n",
      "> -rw-r--r-- 1 bryan bryan 3.5K Aug 29 18:56 hw2.html\n",
      "> -rw-rw-r-- 1 bryan bryan 7.1K Aug 29 18:56 hw3.html\n",
      "> -rw-rw-r-- 1 bryan bryan  18M Aug 29 18:57 HW3.ipynb\n",
      "> -rw-rw-r-- 1 bryan bryan 1.2K Aug 29 18:57 hw3.lua\n",
      "> -rw-rw-r-- 1 bryan bryan 3.9K Aug 29 18:56 hw3Script.lua\n",
      "> -rw-rw-r-- 1 bryan bryan  87K Aug 29 18:56 hybrid.jpg\n",
      "> -rw-rw-r-- 1 bryan bryan  96K Aug 29 18:57 interpreter.jpg\n",
      "> -rw-r----- 1 bryan bryan  27K Aug 29 18:56 ipDFA.svg\n",
      "> drwxrwxr-x 2 bryan bryan 4.0K Aug 29 18:57 java\n",
      "> drwxrwxr-x 2 bryan bryan 4.0K Aug 29 18:57 js\n",
      "> -rw-rw-r-- 1 bryan bryan 278K Aug 30 10:27 Lecture00.html\n",
      "> -rw-rw-r-- 1 bryan bryan  14K Aug 31 15:13 Lecture00.ipynb\n",
      "> -rw-rw-r-- 1 bryan bryan  53K Aug 30 13:58 Lecture00.pdf\n",
      "> -rw-rw-r-- 1 bryan bryan 220K Aug 29 18:57 Lecture00.slides.html\n",
      "> -rw-rw-r-- 1 bryan bryan 255K Sep  5 15:55 Lecture01.html\n",
      "> -rw-rw-r-- 1 bryan bryan 9.3K Sep  5 15:56 Lecture01.ipynb\n",
      "> -rw-rw-r-- 1 bryan bryan 257K Sep  7 14:02 Lecture02.html\n",
      "> -rw-rw-r-- 1 bryan bryan 197K Aug 29 18:57 Lecture02.html.bak\n",
      "> -rw-rw-r-- 1 bryan bryan  12K Sep 11 15:18 Lecture02.ipynb\n",
      "> -rw-rw-r-- 1 bryan bryan 265K Sep 18 11:23 Lecture03.html\n",
      "> -rw-rw-r-- 1 bryan bryan  16K Sep 18 11:23 Lecture03.ipynb\n",
      "> -rw-rw-r-- 1 bryan bryan 262K Sep 14 14:01 Lecture04.html\n",
      "> -rw-rw-r-- 1 bryan bryan  15K Sep 18 15:34 Lecture04.ipynb\n",
      "> -rw-rw-r-- 1 bryan bryan 197K Aug 29 18:57 Lecture05.html\n",
      "> -rw-rw-r-- 1 bryan bryan 7.2K Sep 19 11:51 Lecture05.ipynb\n",
      "> -rw-rw-r-- 1 bryan bryan  14K Sep 19 11:37 Lecture05.ipynb.bak\n",
      "> -rw-rw-r-- 1 bryan bryan 210K Aug 29 18:56 Lecture06.html\n",
      "> -rw-rw-r-- 1 bryan bryan  17K Aug 29 18:57 Lecture06.ipynb\n",
      "> -rw-rw-r-- 1 bryan bryan 374K Aug 29 18:57 Lecture07.html\n",
      "> -rw-rw-r-- 1 bryan bryan 316K Aug 29 18:57 Lecture07.ipynb\n",
      "> -rw-rw-r-- 1 bryan bryan 227K Aug 29 18:56 Lecture08.html\n",
      "> -rw-rw-r-- 1 bryan bryan  21K Aug 29 18:57 Lecture08.ipynb\n",
      "> -rw-rw-r-- 1 bryan bryan 204K Aug 29 18:56 Lecture09.html\n",
      "> -rw-rw-r-- 1 bryan bryan  14K Aug 29 18:57 Lecture09.ipynb\n",
      "> -rw-rw-r-- 1 bryan bryan 228K Aug 29 18:57 Lecture10.html\n",
      "> -rw-rw-r-- 1 bryan bryan  18K Aug 29 18:56 Lecture10.ipynb\n",
      "> -rw-rw-r-- 1 bryan bryan 201K Aug 29 18:56 Lecture11.html\n",
      "> -rw-rw-r-- 1 bryan bryan  12K Aug 29 18:57 Lecture11.ipynb\n",
      "> -rw-rw-r-- 1 bryan bryan 208K Aug 29 18:56 Lecture12.html\n",
      "> -rw-rw-r-- 1 bryan bryan  15K Aug 29 18:57 Lecture12.ipynb\n",
      "> -rw-rw-r-- 1 bryan bryan 232K Aug 29 18:57 Lecture13.html\n",
      "> -rw-rw-r-- 1 bryan bryan  26K Aug 29 18:57 Lecture13.ipynb\n",
      "> -rw-rw-r-- 1 bryan bryan 220K Aug 29 18:57 Lecture14.html\n",
      "> -rw-rw-r-- 1 bryan bryan  15K Aug 29 18:56 Lecture14.ipynb\n",
      "> -rw-rw-r-- 1 bryan bryan 217K Aug 29 18:57 Lecture15.html\n",
      "> -rw-rw-r-- 1 bryan bryan  22K Aug 29 18:57 Lecture15.ipynb\n",
      "> -rw-rw-r-- 1 bryan bryan 221K Aug 29 18:57 Lecture16.html\n",
      "> -rw-rw-r-- 1 bryan bryan  18K Aug 29 18:56 Lecture16.ipynb\n",
      "> -rw-rw-r-- 1 bryan bryan 231K Aug 29 18:57 Lecture17.html\n",
      "> -rw-rw-r-- 1 bryan bryan  26K Aug 29 18:57 Lecture17.ipynb\n",
      "> -rw-rw-r-- 1 bryan bryan 236K Aug 29 18:56 Lecture18.html\n",
      "> -rw-rw-r-- 1 bryan bryan  33K Aug 29 18:57 Lecture18.ipynb\n",
      "> -rw-rw-r-- 1 bryan bryan 209K Aug 29 18:56 Lecture19.html\n",
      "> -rw-rw-r-- 1 bryan bryan  33K Aug 29 18:57 Lecture19.ipynb\n",
      "> -rw-rw-r-- 1 bryan bryan 218K Aug 29 18:57 Lecture20.html\n",
      "> -rw-rw-r-- 1 bryan bryan  29K Aug 29 18:56 Lecture20.ipynb\n",
      "> -rw-rw-r-- 1 bryan bryan 198K Aug 29 18:57 Lecture21.html\n",
      "> -rw-rw-r-- 1 bryan bryan 9.4K Aug 29 18:56 Lecture21.ipynb\n",
      "> -rw-rw-r-- 1 bryan bryan 198K Aug 29 18:57 Lecture22.html\n",
      "> -rw-rw-r-- 1 bryan bryan 8.4K Aug 29 18:57 Lecture22.ipynb\n",
      "> -rw-rw-r-- 1 bryan bryan 197K Aug 29 18:57 Lecture25.html\n",
      "> -rw-rw-r-- 1 bryan bryan 9.7K Aug 29 18:57 Lecture25.ipynb\n",
      "> -rw-r----- 1 bryan bryan  47K Aug 29 18:57 lexprocess.svg\n",
      "> -rw-rw-r-- 1 bryan bryan  46K Sep 14 10:52 lex.yy.c\n",
      "> -rw-rw-r-- 1 bryan bryan 1.8K Aug 29 18:57 lower.txt\n",
      "> -rw-r----- 1 bryan bryan  15K Aug 29 18:57 midtermParse1.svg\n",
      "> -rw-r----- 1 bryan bryan  25K Aug 29 18:56 midtermParse2.svg\n",
      "> -rw-rw-r-- 1 bryan bryan 212K Aug 29 18:57 Midterm Review.html\n",
      "> -rw-rw-r-- 1 bryan bryan 214K Aug 29 18:57 MidtermReview.html\n",
      "> -rw-rw-r-- 1 bryan bryan  19K Aug 29 18:57 MidtermReview.ipynb\n"
     ]
    },
    {
     "name": "stdout",
     "output_type": "stream",
     "text": [
      "> -rw-r--r-- 1 bryan bryan 152K Aug 29 18:56 moneyDFA.jpg\n",
      "> -rw-r--r-- 1 bryan bryan  36K Aug 29 18:56 NFA1.jpg\n",
      "> -rw-r--r-- 1 bryan bryan  36K Aug 29 18:56 NFA2.jpg\n",
      "> -rw-rw-r-- 1 bryan bryan   39 Aug 29 18:56 output.txt\n",
      "> -rw-r----- 1 bryan bryan 221K Aug 29 18:57 parsetable.jpg\n",
      "> -rw-r----- 1 bryan bryan  61K Aug 29 18:57 parsetree1.jpg\n",
      "> -rw-rw-r-- 1 bryan bryan   45 Sep 14 11:06 pascal_example\n",
      "> -rw-r----- 1 bryan bryan 3.3K Aug 29 18:57 turing.tsv\n",
      "> -rw-rw-r-- 1 bryan bryan 3.3K Aug 29 18:57 turing.txt\n",
      "> -rw-rw-r-- 1 bryan bryan 1.1K Aug 29 18:56 Untitled1.ipynb\n",
      "> -rw-rw-r-- 1 bryan bryan 3.7K Aug 29 18:57 Untitled2.ipynb\n",
      "> -rw-rw-r-- 1 bryan bryan 3.1K Aug 29 18:57 Untitled.ipynb\n",
      "> -rw-rw-r-- 1 bryan bryan  917 Aug 29 18:56 words.txt\n"
     ]
    },
    {
     "ename": "",
     "evalue": "1",
     "output_type": "error",
     "traceback": []
    }
   ],
   "source": [
    "diff <(ls -lh .) <(ls -lh ~/CMSC331)"
   ]
  },
  {
   "cell_type": "code",
   "execution_count": 2,
   "metadata": {
    "slideshow": {
     "slide_type": "slide"
    }
   },
   "outputs": [
    {
     "name": "stdout",
     "output_type": "stream",
     "text": [
      "Atlanta United\tMercedes-Benz Stadium\n"
     ]
    }
   ],
   "source": [
    "head -n1 part1.tsv"
   ]
  },
  {
   "cell_type": "code",
   "execution_count": 3,
   "metadata": {},
   "outputs": [
    {
     "name": "stdout",
     "output_type": "stream",
     "text": [
      "71000,2017,FieldTurf\n"
     ]
    }
   ],
   "source": [
    "head -n1 part2.csv"
   ]
  },
  {
   "cell_type": "code",
   "execution_count": 4,
   "metadata": {
    "slideshow": {
     "slide_type": "-"
    }
   },
   "outputs": [
    {
     "name": "stdout",
     "output_type": "stream",
     "text": [
      "Mercedes-Benz Stadium\t2017\n",
      "Toyota Park\t2006\n",
      "RFK Stadium :(\t1961\n",
      "StubHub Center\t2003\n",
      "Stade Saputo\t2008\n",
      "Yankee Stadium\t2009\n",
      "\t\n",
      "\t\n",
      "\t\n"
     ]
    }
   ],
   "source": [
    "paste <(cut -f2 part1.tsv) <(cut -f2 part2.csv -d,)"
   ]
  },
  {
   "cell_type": "markdown",
   "metadata": {
    "slideshow": {
     "slide_type": "slide"
    }
   },
   "source": [
    "## /dev/null\n",
    "- Unix has a special device that allows streams to be redirected to it but doesn't save any of the redirected text\n",
    "- By redirecting to **/dev/null** you are throwing away that stream\n",
    "    - Can be very useful to ignore errors, but many commands have a quiet option built in"
   ]
  },
  {
   "cell_type": "code",
   "execution_count": 5,
   "metadata": {
    "slideshow": {
     "slide_type": "-"
    }
   },
   "outputs": [
    {
     "ename": "",
     "evalue": "1",
     "output_type": "error",
     "traceback": []
    }
   ],
   "source": [
    "gcc no_file 2>/dev/null"
   ]
  },
  {
   "cell_type": "markdown",
   "metadata": {
    "slideshow": {
     "slide_type": "slide"
    }
   },
   "source": [
    "## xargs\n",
    "- Theoretically, you could pass the `rm` command a long list of directories to delete\n",
    "    - When this list of arguments becomes arbitarilaly too long, `rm` may break\n",
    "    - It is better to call `rm` on each of the directories in turn\n",
    "- xargs allows us to process a string, determine what the arguments are and how to split them up, and how many times to call a command\n",
    "    - Very useful for calling a command on the output of `find`"
   ]
  },
  {
   "cell_type": "code",
   "execution_count": 16,
   "metadata": {
    "collapsed": true,
    "slideshow": {
     "slide_type": "slide"
    }
   },
   "outputs": [
    {
     "name": "stdout",
     "output_type": "stream",
     "text": [
      "ls: cannot access 1: No such file or directory\n",
      "ls: cannot access 2: No such file or directory\n",
      "ls: cannot access 3: No such file or directory\n",
      "ls: cannot access 4: No such file or directory\n"
     ]
    },
    {
     "ename": "",
     "evalue": "123",
     "output_type": "error",
     "traceback": []
    }
   ],
   "source": [
    "echo 1 2 3 4 | xargs ls"
   ]
  },
  {
   "cell_type": "code",
   "execution_count": 13,
   "metadata": {
    "collapsed": true
   },
   "outputs": [
    {
     "name": "stdout",
     "output_type": "stream",
     "text": [
      "Lecture00.html: HTML document, ASCII text, with very long lines\n",
      "Lecture01.html: HTML document, ASCII text, with very long lines\n",
      "Lecture02.html: HTML document, ASCII text, with very long lines\n",
      "Lecture03.html: HTML document, ASCII text, with very long lines\n",
      "Lecture04.html: HTML document, ASCII text, with very long lines\n",
      "Lecture05.html: HTML document, ASCII text, with very long lines\n"
     ]
    }
   ],
   "source": [
    "ls *.html | xargs file"
   ]
  },
  {
   "cell_type": "code",
   "execution_count": 18,
   "metadata": {
    "collapsed": true,
    "slideshow": {
     "slide_type": "slide"
    }
   },
   "outputs": [],
   "source": [
    "ls *.png | xargs -I{} convert {} {}.jpg"
   ]
  },
  {
   "cell_type": "code",
   "execution_count": 24,
   "metadata": {},
   "outputs": [
    {
     "name": "stdout",
     "output_type": "stream",
     "text": [
      "fb_messenger.png\n",
      "fb_verify.png\n",
      "registers.png\n",
      "\u001b[0m\u001b[01;35mfb_messenger.png.jpg\u001b[0m  \u001b[01;35mfb_verify.png.jpg\u001b[0m  \u001b[01;35mregisters.png.jpg\u001b[0m\n"
     ]
    }
   ],
   "source": [
    "rm *.jpg\n",
    "ls *.png > pngs\n",
    "more pngs\n",
    "xargs -IFILE convert FILE FILE.jpg < pngs\n",
    "ls *.jpg"
   ]
  },
  {
   "cell_type": "markdown",
   "metadata": {
    "slideshow": {
     "slide_type": "slide"
    }
   },
   "source": [
    "## If-Then-Else\n",
    "- The `if` block must end with `fi`\n",
    "- The `then` keyword is required in bash\n",
    "    - For both `elif` and `if`\n",
    "    - Must be on a different line or follow on the same line after a semicolon\n",
    "```bash\n",
    "if CONDITIONAL; then\n",
    "#CODE\n",
    "elif CONDITIONAL; then\n",
    "#CODE\n",
    "else\n",
    "#CODE\n",
    "fi\n",
    "```"
   ]
  },
  {
   "cell_type": "markdown",
   "metadata": {
    "slideshow": {
     "slide_type": "slide"
    }
   },
   "source": [
    "## If-Then-Else\n",
    "- The `if` block must end with `fi`\n",
    "- The `then` keyword is required in bash\n",
    "    - For both `elif` and `if`\n",
    "    - Must be on a different line or follow on the same line after a semicolon\n",
    "```bash\n",
    "if CONDITIONAL\n",
    "then\n",
    "#CODE\n",
    "elif CONDITIONAL\n",
    "then\n",
    "#CODE\n",
    "else\n",
    "#CODE\n",
    "fi\n",
    "```"
   ]
  },
  {
   "cell_type": "markdown",
   "metadata": {
    "slideshow": {
     "slide_type": "slide"
    }
   },
   "source": [
    "## Conditional Expression in Bash\n",
    "- Binary expressions in bash are evaluated\n",
    "    - Using the `test` command\n",
    "    - Using the `[` command (an alias of `test`)\n",
    "    - Using the `[[` syntax \n",
    "- Results are stored as a return code\n",
    "    - Not normally invoked on its own\n",
    "- Whitespace is very important"
   ]
  },
  {
   "cell_type": "markdown",
   "metadata": {
    "slideshow": {
     "slide_type": "slide"
    }
   },
   "source": [
    "## [ and test vs [[\n",
    "- [ and test are commands\n",
    "- [[ is part of bash syntax\n",
    "    - Allows for easier composition of conditionals using && and || \n",
    "    - Parentheses don't have to be escaped\n",
    "    - Can do pattern matching and regular expressions as a conditional"
   ]
  },
  {
   "cell_type": "markdown",
   "metadata": {
    "slideshow": {
     "slide_type": "slide"
    }
   },
   "source": [
    "## Conditional Operators\n",
    "- Bash has three types of conditional operators\n",
    "    - numeric operators\n",
    "    - string operators\n",
    "    - file operators\n",
    "- You can always negate an comparison by using `!` in front of it"
   ]
  },
  {
   "cell_type": "markdown",
   "metadata": {
    "slideshow": {
     "slide_type": "slide"
    }
   },
   "source": [
    "## Conditionals on Numbers\n",
    "- Equal: -eq\n",
    "- Not Equal: -ne\n",
    "- Greater Than: -gt\n",
    "- Greater Than or Equal: -ge\n",
    "- Less Than: -lt\n",
    "- Less Than or Equal: -le"
   ]
  },
  {
   "cell_type": "code",
   "execution_count": 25,
   "metadata": {
    "slideshow": {
     "slide_type": "slide"
    }
   },
   "outputs": [
    {
     "name": "stdout",
     "output_type": "stream",
     "text": [
      "One is not equal to 7\n"
     ]
    }
   ],
   "source": [
    "if [ 1 -eq 7 ]; then\n",
    "echo \"What math are you doing?\"\n",
    "else\n",
    "echo \"One is not equal to 7\"\n",
    "fi"
   ]
  },
  {
   "cell_type": "code",
   "execution_count": 30,
   "metadata": {},
   "outputs": [
    {
     "name": "stdout",
     "output_type": "stream",
     "text": [
      "One is not equal to 7\n"
     ]
    }
   ],
   "source": [
    "if [ 1 -ne 7 ]; then\n",
    "echo \"One is not equal to 7\" \n",
    "else\n",
    "echo \"What math are you doing?\"\n",
    "fi"
   ]
  },
  {
   "cell_type": "code",
   "execution_count": 35,
   "metadata": {
    "slideshow": {
     "slide_type": "slide"
    }
   },
   "outputs": [
    {
     "name": "stdout",
     "output_type": "stream",
     "text": [
      "What math are you doing?\n"
     ]
    }
   ],
   "source": [
    "if [ ! 1 -eq 7 ]; then\n",
    "echo \"What math are you doing?\"\n",
    "else\n",
    "echo \"One is not equal to 7\"\n",
    "fi"
   ]
  },
  {
   "cell_type": "code",
   "execution_count": 32,
   "metadata": {},
   "outputs": [
    {
     "name": "stdout",
     "output_type": "stream",
     "text": [
      "1 is smaller than 2\n"
     ]
    }
   ],
   "source": [
    "a=1\n",
    "b=2\n",
    "if [ $a -lt $b ]; then\n",
    "echo \"$a is smaller than $b\"\n",
    "else\n",
    "echo \"$b is smallter than $a\"\n",
    "fi"
   ]
  },
  {
   "cell_type": "markdown",
   "metadata": {
    "slideshow": {
     "slide_type": "slide"
    }
   },
   "source": [
    "## Conditionals on Strings\n",
    "- Equal: =\n",
    "- Not Equal: !=\n",
    "- Is Empty: -z\n",
    "- Is Not Empty: -n"
   ]
  },
  {
   "cell_type": "code",
   "execution_count": 36,
   "metadata": {
    "slideshow": {
     "slide_type": "slide"
    }
   },
   "outputs": [
    {
     "name": "stdout",
     "output_type": "stream",
     "text": [
      "The strings are the same\n"
     ]
    }
   ],
   "source": [
    "string1=\"A string\"\n",
    "string2=\"Another string\"\n",
    "string3=\n",
    "if [[ $string1 = $string1 ]]; then\n",
    "echo \"The strings are the same\"\n",
    "fi"
   ]
  },
  {
   "cell_type": "code",
   "execution_count": 40,
   "metadata": {},
   "outputs": [
    {
     "name": "stdout",
     "output_type": "stream",
     "text": [
      "The string is empty\n"
     ]
    }
   ],
   "source": [
    "if [[ -z $string3 ]]; then\n",
    "echo \"The string is empty\"\n",
    "fi"
   ]
  },
  {
   "cell_type": "code",
   "execution_count": 38,
   "metadata": {},
   "outputs": [
    {
     "name": "stdout",
     "output_type": "stream",
     "text": [
      "The string is not empty\n"
     ]
    }
   ],
   "source": [
    "if [[ -n $string2 ]]; then\n",
    "echo \"The string is not empty\"\n",
    "fi"
   ]
  },
  {
   "cell_type": "markdown",
   "metadata": {
    "slideshow": {
     "slide_type": "slide"
    }
   },
   "source": [
    "## Conditionals on Files\n",
    "- There are about 20 different tests that can be performed on a file\n",
    "- Some common ones are:\n",
    "    - Existence: -e\n",
    "    - Is a file: -f\n",
    "    - Is a directory: -d \n",
    "    - Is readable/writable/executable: -r/-w/-x\n",
    "    - Isn't empty: -s"
   ]
  },
  {
   "cell_type": "code",
   "execution_count": 43,
   "metadata": {
    "slideshow": {
     "slide_type": "slide"
    }
   },
   "outputs": [
    {
     "name": "stdout",
     "output_type": "stream",
     "text": [
      "Lets make a file\n"
     ]
    }
   ],
   "source": [
    "more a_missing_file"
   ]
  },
  {
   "cell_type": "code",
   "execution_count": 42,
   "metadata": {
    "collapsed": true,
    "slideshow": {
     "slide_type": "-"
    }
   },
   "outputs": [],
   "source": [
    "\n",
    "if [[ ! -e 'a_missing_file' ]]; then\n",
    "echo \"Lets make a file\" > a_missing_file\n",
    "fi"
   ]
  },
  {
   "cell_type": "code",
   "execution_count": 44,
   "metadata": {
    "slideshow": {
     "slide_type": "slide"
    }
   },
   "outputs": [
    {
     "name": "stdout",
     "output_type": "stream",
     "text": [
      "An empty file exists\n"
     ]
    }
   ],
   "source": [
    "touch an_empty_file\n",
    "if [[ -e 'an_empty_file' ]]; then\n",
    "echo \"An empty file exists\"\n",
    "fi\n",
    "if [[ -s 'an_empty_file' ]]; then\n",
    "echo \"The file isn't empty\"\n",
    "fi"
   ]
  },
  {
   "cell_type": "code",
   "execution_count": 45,
   "metadata": {
    "slideshow": {
     "slide_type": "slide"
    }
   },
   "outputs": [
    {
     "name": "stdout",
     "output_type": "stream",
     "text": [
      "All is right in the world\n"
     ]
    }
   ],
   "source": [
    "if [ -f . ]; then\n",
    "echo \"This directory isn't a file...something is messed up\"\n",
    "else\n",
    "echo \"All is right in the world\"\n",
    "fi"
   ]
  },
  {
   "cell_type": "markdown",
   "metadata": {
    "collapsed": true,
    "slideshow": {
     "slide_type": "slide"
    }
   },
   "source": [
    "## Switch Statements\n",
    "- Switch statements start with the keyword `case` and end with the keyword `esac`\n",
    "- Each clause is a pattern to match the expression against\n",
    "    - The pattern in a clause ends with a right parentheses **)**\n",
    "    - A clause must end with two semicolons (**;;**)"
   ]
  },
  {
   "cell_type": "code",
   "execution_count": 46,
   "metadata": {
    "slideshow": {
     "slide_type": "slide"
    }
   },
   "outputs": [
    {
     "name": "stdout",
     "output_type": "stream",
     "text": [
      "The variable ends in ing\n"
     ]
    }
   ],
   "source": [
    "expression=\"This is a String\"\n",
    "\n",
    "case $expression in\n",
    "    0)\n",
    "        echo \"The variable is 0\"\n",
    "        ;;\n",
    "    *ing)\n",
    "        echo \"The variable ends in ing\"\n",
    "        ;;\n",
    "    *String)\n",
    "        echo \"The variable ends in String\"\n",
    "        ;;\n",
    "    *)\n",
    "        echo \"This is the default\"\n",
    "        ;;\n",
    "esac"
   ]
  },
  {
   "cell_type": "markdown",
   "metadata": {
    "slideshow": {
     "slide_type": "slide"
    }
   },
   "source": [
    "## For Loops\n",
    "- Bash has traditionally used a foreach style loop ( similar to Python)\n",
    "- Can loop over any type of array\n",
    "    - Can also loop over files\n",
    "- Both loops have the general syntax of\n",
    "```bash\n",
    "for EXPRESSION(S); do\n",
    "# CODE_GOES_HERE\n",
    "done\n",
    "```"
   ]
  },
  {
   "cell_type": "markdown",
   "metadata": {
    "slideshow": {
     "slide_type": "slide"
    }
   },
   "source": [
    "## Foreach Style Loop\n",
    "- The foreach style loop uses the setup of \n",
    "```bash\n",
    "for variable in list; do\n",
    "```\n",
    "- list can be\n",
    "    - a space seperated list\n",
    "    - an expanded array\n",
    "    - a shell-style regular expression (globbing)\n",
    "    - the output of a command\n"
   ]
  },
  {
   "cell_type": "code",
   "execution_count": 47,
   "metadata": {
    "slideshow": {
     "slide_type": "slide"
    }
   },
   "outputs": [
    {
     "name": "stdout",
     "output_type": "stream",
     "text": [
      "1\n",
      "2\n",
      "3\n"
     ]
    }
   ],
   "source": [
    "for x in 1 2 3; do\n",
    "    echo $x;\n",
    "done"
   ]
  },
  {
   "cell_type": "code",
   "execution_count": 48,
   "metadata": {},
   "outputs": [
    {
     "name": "stdout",
     "output_type": "stream",
     "text": [
      "1\n",
      "2\n",
      "3\n"
     ]
    }
   ],
   "source": [
    "my_array=(1 2 3)\n",
    "for y in ${my_array[@]}; do\n",
    "    echo $y\n",
    "done"
   ]
  },
  {
   "cell_type": "code",
   "execution_count": 49,
   "metadata": {
    "slideshow": {
     "slide_type": "slide"
    }
   },
   "outputs": [
    {
     "name": "stdout",
     "output_type": "stream",
     "text": [
      "12045 Lecture00.html\n",
      "14121 Lecture01.html\n",
      "13010 Lecture02.html\n",
      "13173 Lecture03.html\n",
      "14242 Lecture04.html\n",
      "13017 Lecture05.html\n"
     ]
    }
   ],
   "source": [
    "for f in *.html; do\n",
    "    wc -l $f\n",
    "done"
   ]
  },
  {
   "cell_type": "code",
   "execution_count": 50,
   "metadata": {},
   "outputs": [
    {
     "name": "stdout",
     "output_type": "stream",
     "text": [
      " 12045  28379 263529 Lecture00.html\n",
      " 14121  41179 374471 Lecture01.html\n",
      " 13010  36181 320828 Lecture02.html\n",
      " 13173  31135 293564 Lecture03.html\n",
      " 14242  32770 309209 Lecture04.html\n",
      " 13017  31235 293615 Lecture05.html\n"
     ]
    }
   ],
   "source": [
    "for f in $(ls); do\n",
    "    if [[ $f == *.html ]]; then\n",
    "        wc $f\n",
    "    fi\n",
    "done"
   ]
  },
  {
   "cell_type": "markdown",
   "metadata": {
    "slideshow": {
     "slide_type": "slide"
    }
   },
   "source": [
    "## C-Style Loop\n",
    "- Support for the C-style loop is widespread in bash, but not all shell scripts \n",
    "- The syntax for the C-style loop is:\n",
    "```bash\n",
    "for (( START ; END ; CHANGE)); do\n",
    "```\n",
    "- The variable isn't prefixed with the dollar sign (**$**) inside the loop definition "
   ]
  },
  {
   "cell_type": "code",
   "execution_count": 51,
   "metadata": {
    "slideshow": {
     "slide_type": "slide"
    }
   },
   "outputs": [
    {
     "name": "stdout",
     "output_type": "stream",
     "text": [
      "1\n",
      "2\n",
      "3\n"
     ]
    }
   ],
   "source": [
    "for ((x = 1; x < 4; x++)); do\n",
    "    echo $x\n",
    "done"
   ]
  },
  {
   "cell_type": "code",
   "execution_count": 52,
   "metadata": {
    "slideshow": {
     "slide_type": "slide"
    }
   },
   "outputs": [
    {
     "name": "stdout",
     "output_type": "stream",
     "text": [
      "1\n",
      "3\n"
     ]
    }
   ],
   "source": [
    "for ((x = 1; x < 4; x += 2)); do\n",
    "    echo $x\n",
    "done"
   ]
  },
  {
   "cell_type": "markdown",
   "metadata": {
    "slideshow": {
     "slide_type": "slide"
    }
   },
   "source": [
    "## seq Command\n",
    "- There are many other ways to do a c-style loop while using the traditional syntax\n",
    "- One option is the `seq` command, which returns a list of numbers \n",
    "- The syntax of the `seq` command is\n",
    "```bash\n",
    "seq START INCREASE? END\n",
    "```\n"
   ]
  },
  {
   "cell_type": "code",
   "execution_count": 54,
   "metadata": {
    "slideshow": {
     "slide_type": "slide"
    }
   },
   "outputs": [
    {
     "name": "stdout",
     "output_type": "stream",
     "text": [
      "1\n",
      "2\n",
      "3\n"
     ]
    }
   ],
   "source": [
    "for i in $(seq 1 3); do\n",
    "    echo $i\n",
    "done"
   ]
  },
  {
   "cell_type": "code",
   "execution_count": 55,
   "metadata": {},
   "outputs": [
    {
     "name": "stdout",
     "output_type": "stream",
     "text": [
      "0\n",
      "2\n",
      "4\n",
      "6\n",
      "8\n",
      "10\n"
     ]
    }
   ],
   "source": [
    "for i in $(seq 0 2 10); do\n",
    "    echo $i\n",
    "done"
   ]
  },
  {
   "cell_type": "markdown",
   "metadata": {
    "slideshow": {
     "slide_type": "slide"
    }
   },
   "source": [
    "## Brace Expansion\n",
    "- Another feature of bash that is often, but not exclusively used, with loops is brace expansion\n",
    "- Bash will expand anything in braces into a list\n",
    "- Braces can take two forms:\n",
    "```bash\n",
    "{A_LIST,OF,OPTIONS}\n",
    "```\n",
    "or\n",
    "\n",
    "```bash\n",
    "    {START..END}\n",
    "```"
   ]
  },
  {
   "cell_type": "code",
   "execution_count": 58,
   "metadata": {
    "slideshow": {
     "slide_type": "slide"
    }
   },
   "outputs": [
    {
     "name": "stdout",
     "output_type": "stream",
     "text": [
      "Aug 31 10:59\n",
      "Sep  5\n",
      "Sep 14 10:34\n",
      "Sep 14 10:34\n",
      "Sep 19 10:47\n",
      "Sep 19 10:47\n"
     ]
    }
   ],
   "source": [
    "echo Lecture0{0,1,2,3,4,5}.html | xargs ls -lh | cut -f6,7,8  -d' '"
   ]
  },
  {
   "cell_type": "code",
   "execution_count": 59,
   "metadata": {
    "slideshow": {
     "slide_type": "slide"
    }
   },
   "outputs": [
    {
     "name": "stdout",
     "output_type": "stream",
     "text": [
      "Aug 31 10:59\n",
      "Sep  5\n",
      "Sep 14 10:34\n",
      "Sep 14 10:34\n",
      "Sep 19 10:47\n",
      "Sep 19 10:47\n"
     ]
    }
   ],
   "source": [
    "for i in {0..5}; do\n",
    "    ls -lh Lecture0$i.html | cut -f6,7,8 -d' '\n",
    "done"
   ]
  },
  {
   "cell_type": "markdown",
   "metadata": {
    "collapsed": true,
    "slideshow": {
     "slide_type": "slide"
    }
   },
   "source": [
    "## While Loops\n",
    "- While loops also use the `do` expression after the condition\n",
    "- The syntax for a while loop is\n",
    "```bash\n",
    "while CONDITION; do\n",
    "    #CODE_HERE\n",
    "done\n",
    "```"
   ]
  },
  {
   "cell_type": "code",
   "execution_count": 60,
   "metadata": {
    "slideshow": {
     "slide_type": "slide"
    }
   },
   "outputs": [
    {
     "name": "stdout",
     "output_type": "stream",
     "text": [
      "S\n",
      "o\n",
      "m\n",
      "e\n",
      "\n",
      "C\n",
      "h\n",
      "a\n",
      "r\n",
      "a\n",
      "c\n",
      "t\n",
      "e\n",
      "r\n",
      "s\n"
     ]
    }
   ],
   "source": [
    "string='Some Characters'\n",
    "while [[ -n $string ]]; do\n",
    "    echo ${string:0:1}\n",
    "    string=${string:1}\n",
    "done"
   ]
  },
  {
   "cell_type": "markdown",
   "metadata": {
    "slideshow": {
     "slide_type": "slide"
    }
   },
   "source": [
    "## Until Loops\n",
    "- The `until` loop is almost identical to the `while` loop, but continues until the statement is True\n",
    "- The `until` is still places at the top of the loop and checked before entering it\n",
    "- The syntax of `until` is \n",
    "```bash\n",
    "until CONDITIONAL; do\n",
    "    #CODE GOES HERE\n",
    "done\n",
    "```"
   ]
  },
  {
   "cell_type": "code",
   "execution_count": 61,
   "metadata": {
    "slideshow": {
     "slide_type": "slide"
    }
   },
   "outputs": [
    {
     "name": "stdout",
     "output_type": "stream",
     "text": [
      "S\n",
      "o\n",
      "m\n",
      "e\n",
      "\n",
      "C\n",
      "h\n",
      "a\n",
      "r\n",
      "a\n",
      "c\n",
      "t\n",
      "e\n",
      "r\n",
      "s\n"
     ]
    }
   ],
   "source": [
    "string='Some Characters'\n",
    "until [[ -z $string ]]; do\n",
    "    echo ${string:0:1}\n",
    "    string=${string:1}\n",
    "done"
   ]
  }
 ],
 "metadata": {
  "celltoolbar": "Slideshow",
  "kernelspec": {
   "display_name": "Bash",
   "language": "bash",
   "name": "bash"
  },
  "language_info": {
   "codemirror_mode": "shell",
   "file_extension": ".sh",
   "mimetype": "text/x-sh",
   "name": "bash"
  }
 },
 "nbformat": 4,
 "nbformat_minor": 2
}

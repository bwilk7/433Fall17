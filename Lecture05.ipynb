{
 "cells": [
  {
   "cell_type": "markdown",
   "metadata": {
    "slideshow": {
     "slide_type": "slide"
    }
   },
   "source": [
    "# Bash\n",
    "## Streams, Redirection, and Control Structures"
   ]
  },
  {
   "cell_type": "markdown",
   "metadata": {
    "slideshow": {
     "slide_type": "slide"
    }
   },
   "source": [
    "## Streams\n",
    "- STDIN\n",
    "- STDOUT\n",
    "- STDERR"
   ]
  },
  {
   "cell_type": "markdown",
   "metadata": {
    "slideshow": {
     "slide_type": "slide"
    }
   },
   "source": [
    "## Output Redirection\n",
    "- The greater than symbol (**>**), is used to redirect output\n",
    "    - With no additional symbols, this redirects STDOUT to the specified location\n",
    "    - **1>** also redirects STDOUT to the specified location, but this form is not normally used\n",
    "    - **2>** redirects STDERR to the specified location\n",
    "    - **&>** redirects both STDOUT and STDERR to the same specified location\n",
    "    - **>>** appends STDOUT to the specified file\n",
    "    "
   ]
  },
  {
   "cell_type": "code",
   "execution_count": null,
   "metadata": {
    "collapsed": true,
    "slideshow": {
     "slide_type": "slide"
    }
   },
   "outputs": [],
   "source": [
    "echo \"Hello\" > hello.txt"
   ]
  },
  {
   "cell_type": "code",
   "execution_count": null,
   "metadata": {},
   "outputs": [],
   "source": [
    "more hello.txt"
   ]
  },
  {
   "cell_type": "code",
   "execution_count": null,
   "metadata": {
    "collapsed": true
   },
   "outputs": [],
   "source": [
    "echo \"World\" >> hello.txt"
   ]
  },
  {
   "cell_type": "code",
   "execution_count": null,
   "metadata": {},
   "outputs": [],
   "source": [
    "more hello.txt"
   ]
  },
  {
   "cell_type": "code",
   "execution_count": null,
   "metadata": {
    "slideshow": {
     "slide_type": "slide"
    }
   },
   "outputs": [],
   "source": [
    "gcc no_file.c"
   ]
  },
  {
   "cell_type": "code",
   "execution_count": null,
   "metadata": {},
   "outputs": [],
   "source": [
    "gcc no_file.c 2> gcc_errors.txt"
   ]
  },
  {
   "cell_type": "code",
   "execution_count": null,
   "metadata": {},
   "outputs": [],
   "source": [
    "more gcc_errors.txt"
   ]
  },
  {
   "cell_type": "code",
   "execution_count": null,
   "metadata": {
    "slideshow": {
     "slide_type": "slide"
    }
   },
   "outputs": [],
   "source": [
    "more out_and_err.py"
   ]
  },
  {
   "cell_type": "code",
   "execution_count": null,
   "metadata": {
    "slideshow": {
     "slide_type": "-"
    }
   },
   "outputs": [],
   "source": [
    "./out_and_err.py > out 2> err"
   ]
  },
  {
   "cell_type": "code",
   "execution_count": null,
   "metadata": {},
   "outputs": [],
   "source": [
    "more out"
   ]
  },
  {
   "cell_type": "code",
   "execution_count": null,
   "metadata": {},
   "outputs": [],
   "source": [
    "more err"
   ]
  },
  {
   "cell_type": "markdown",
   "metadata": {
    "slideshow": {
     "slide_type": "slide"
    }
   },
   "source": [
    "## Input Redirection\n",
    "- The less than symbol (**<**) is used to redirect input to STDIN\n",
    "    - Not many variations of this, but....\n",
    "    - Two less than operators (**<<**) are used to create a here document, which will have its own slide"
   ]
  },
  {
   "cell_type": "code",
   "execution_count": null,
   "metadata": {
    "slideshow": {
     "slide_type": "slide"
    }
   },
   "outputs": [],
   "source": [
    "more simple.py"
   ]
  },
  {
   "cell_type": "code",
   "execution_count": null,
   "metadata": {
    "slideshow": {
     "slide_type": "slide"
    }
   },
   "outputs": [],
   "source": [
    "./simple.py < numbers.txt "
   ]
  },
  {
   "cell_type": "markdown",
   "metadata": {
    "slideshow": {
     "slide_type": "slide"
    }
   },
   "source": [
    "## Here Documents\n",
    "- A here document takes any string and allows it to be passed to a command as if it were coming from STDIN\n",
    "    - For commands that take multiple arguments, you may see the dash (**-**) being used to explicitly indicate which argument should use STDIN\n",
    "    - The **<<** must be followed by a delimited that is used to mark the end of the HERE document\n",
    "    - Using **<<-** will remove leading tabs, which can be useful for formatting nice looking scripts"
   ]
  },
  {
   "cell_type": "markdown",
   "metadata": {
    "slideshow": {
     "slide_type": "slide"
    }
   },
   "source": [
    "## Here Strings\n",
    "- If all you want to redirect is a single line, you can use three less than symbols (**<<<**) with no delimiter to indicate a here string\n",
    "    - Any variables in a here string (or here document) are expanded before being redirected"
   ]
  },
  {
   "cell_type": "code",
   "execution_count": null,
   "metadata": {
    "slideshow": {
     "slide_type": "slide"
    }
   },
   "outputs": [],
   "source": [
    "more numbers.txt"
   ]
  },
  {
   "cell_type": "code",
   "execution_count": null,
   "metadata": {},
   "outputs": [],
   "source": [
    "diff - numbers.txt <<EOF\n",
    "    40\n",
    "    1\n",
    "    2\n",
    "    3\n",
    "EOF"
   ]
  },
  {
   "cell_type": "code",
   "execution_count": null,
   "metadata": {},
   "outputs": [],
   "source": [
    "diff - numbers.txt <<< \"Hello\""
   ]
  },
  {
   "cell_type": "markdown",
   "metadata": {
    "slideshow": {
     "slide_type": "slide"
    }
   },
   "source": [
    "## Pipes\n",
    "- Many times the output of one command will function as the input to a second command\n",
    "- Rather than redirect output to a tempoarary file and then use that file as input, use the pipe command (**|**)\n",
    "    - The STDERR stream can be redirection *along with* the STDOUT stream using **|&**"
   ]
  },
  {
   "cell_type": "code",
   "execution_count": null,
   "metadata": {
    "slideshow": {
     "slide_type": "slide"
    }
   },
   "outputs": [],
   "source": [
    "ls -lh | wc -l"
   ]
  },
  {
   "cell_type": "code",
   "execution_count": null,
   "metadata": {},
   "outputs": [],
   "source": [
    "find ~/ -size +1G | head"
   ]
  },
  {
   "cell_type": "markdown",
   "metadata": {
    "slideshow": {
     "slide_type": "slide"
    }
   },
   "source": [
    "## Tee\n",
    "- The `tee` command takes in a stream as input, and outputs that stream both to STDIN and to the specified file\n",
    "    - Used following a pipe operator"
   ]
  },
  {
   "cell_type": "code",
   "execution_count": null,
   "metadata": {
    "slideshow": {
     "slide_type": "slide"
    }
   },
   "outputs": [],
   "source": [
    "pip2 install -U scipy |& tee scipy.log"
   ]
  },
  {
   "cell_type": "code",
   "execution_count": null,
   "metadata": {},
   "outputs": [],
   "source": [
    "more scipy.log"
   ]
  },
  {
   "cell_type": "markdown",
   "metadata": {
    "slideshow": {
     "slide_type": "slide"
    }
   },
   "source": [
    "## Redirecting From Multiple Commands\n",
    "- Sometimes you may need to combine the output of multiple commands and pass this on to a third or fourth command\n",
    "- You could use temporary files, but process substitution fills this need nicely\n",
    "- The syntax is **<(_command_)**\n",
    "    - This relies on certain operating system features, so isn't truly portable, but can be assumed to be "
   ]
  },
  {
   "cell_type": "code",
   "execution_count": null,
   "metadata": {
    "slideshow": {
     "slide_type": "slide"
    }
   },
   "outputs": [],
   "source": [
    "diff <(ls -lh .) <(ls -lh ~/CMSC331)"
   ]
  },
  {
   "cell_type": "code",
   "execution_count": null,
   "metadata": {
    "slideshow": {
     "slide_type": "slide"
    }
   },
   "outputs": [],
   "source": [
    "head -n1 part1.tsv"
   ]
  },
  {
   "cell_type": "code",
   "execution_count": null,
   "metadata": {},
   "outputs": [],
   "source": [
    "head -n1 part2.csv"
   ]
  },
  {
   "cell_type": "code",
   "execution_count": null,
   "metadata": {
    "slideshow": {
     "slide_type": "-"
    }
   },
   "outputs": [],
   "source": [
    "paste <(cut -f2 part1.tsv) <(cut -f2 part2.csv -d,)"
   ]
  },
  {
   "cell_type": "markdown",
   "metadata": {
    "slideshow": {
     "slide_type": "slide"
    }
   },
   "source": [
    "## /dev/null\n",
    "- Unix has a special device that allows streams to be redirected to it but doesn't save any of the redirected text\n",
    "- By redirecting to **/dev/null** you are throwing away that stream\n",
    "    - Can be very useful to ignore errors, but many commands have a quiet option built in"
   ]
  },
  {
   "cell_type": "code",
   "execution_count": null,
   "metadata": {
    "slideshow": {
     "slide_type": "-"
    }
   },
   "outputs": [],
   "source": [
    "gcc no_file 2>/dev/null"
   ]
  },
  {
   "cell_type": "markdown",
   "metadata": {
    "slideshow": {
     "slide_type": "slide"
    }
   },
   "source": [
    "## xargs\n",
    "- Theoretically, you could pass the `rm` command a long list of directories to delete\n",
    "    - When this list of arguments becomes arbitarilaly too long, `rm` may break\n",
    "    - It is better to call `rm` on each of the directories in turn\n",
    "- xargs allows us to process a string, determine what the arguments are and how to split them up, and how many times to call a command\n",
    "    - Very useful for calling a command on the output of `find`"
   ]
  },
  {
   "cell_type": "code",
   "execution_count": null,
   "metadata": {
    "slideshow": {
     "slide_type": "slide"
    }
   },
   "outputs": [],
   "source": [
    "echo 1 2 3 4 | xargs ls"
   ]
  },
  {
   "cell_type": "code",
   "execution_count": null,
   "metadata": {},
   "outputs": [],
   "source": [
    "ls *.html | xargs file"
   ]
  },
  {
   "cell_type": "code",
   "execution_count": null,
   "metadata": {
    "slideshow": {
     "slide_type": "slide"
    }
   },
   "outputs": [],
   "source": [
    "ls *.png | xargs -I{} convert {} {}.jpg"
   ]
  },
  {
   "cell_type": "code",
   "execution_count": null,
   "metadata": {},
   "outputs": [],
   "source": [
    "ls *.jpg"
   ]
  },
  {
   "cell_type": "markdown",
   "metadata": {
    "slideshow": {
     "slide_type": "slide"
    }
   },
   "source": [
    "## If-Then-Else\n",
    "- The `if` block must end with `fi`\n",
    "- The `then` keyword is required in bash\n",
    "    - For both `elif` and `if`\n",
    "    - Must be on a different line or follow on the same line after a semicolon\n",
    "```bash\n",
    "if CONDITIONAL; then\n",
    "#CODE\n",
    "elif CONDITIONAL; then\n",
    "#CODE\n",
    "else\n",
    "#CODE\n",
    "fi\n",
    "```"
   ]
  },
  {
   "cell_type": "markdown",
   "metadata": {
    "slideshow": {
     "slide_type": "slide"
    }
   },
   "source": [
    "## If-Then-Else\n",
    "- The `if` block must end with `fi`\n",
    "- The `then` keyword is required in bash\n",
    "    - For both `elif` and `if`\n",
    "    - Must be on a different line or follow on the same line after a semicolon\n",
    "```bash\n",
    "if CONDITIONAL\n",
    "then\n",
    "#CODE\n",
    "elif CONDITIONAL\n",
    "then\n",
    "#CODE\n",
    "else\n",
    "#CODE\n",
    "fi\n",
    "```"
   ]
  },
  {
   "cell_type": "markdown",
   "metadata": {
    "slideshow": {
     "slide_type": "slide"
    }
   },
   "source": [
    "## Conditional Expression in Bash\n",
    "- Binary expressions in bash are evaluated\n",
    "    - Using the `test` command\n",
    "    - Using the `[` command (an alias of `test`)\n",
    "    - Using the `[[` syntax \n",
    "- Results are stored as a return code\n",
    "    - Not normally invoked on its own\n",
    "- Whitespace is very important"
   ]
  },
  {
   "cell_type": "markdown",
   "metadata": {
    "slideshow": {
     "slide_type": "slide"
    }
   },
   "source": [
    "## [ and test vs [[\n",
    "- [ and test are commands\n",
    "- [[ is part of bash syntax\n",
    "    - Allows for easier composition of conditionals using && and || \n",
    "    - Parentheses don't have to be escaped\n",
    "    - Can do pattern matching and regular expressions as a conditional"
   ]
  },
  {
   "cell_type": "markdown",
   "metadata": {
    "slideshow": {
     "slide_type": "slide"
    }
   },
   "source": [
    "## Conditional Operators\n",
    "- Bash has three types of conditional operators\n",
    "    - numeric operators\n",
    "    - string operators\n",
    "    - file operators\n",
    "- You can always negate an comparison by using `!` in front of it"
   ]
  },
  {
   "cell_type": "markdown",
   "metadata": {
    "slideshow": {
     "slide_type": "slide"
    }
   },
   "source": [
    "## Conditionals on Numbers\n",
    "- Equal: -eq\n",
    "- Not Equal: -ne\n",
    "- Greater Than: -gt\n",
    "- Greater Than or Equal: -ge\n",
    "- Less Than: -lt\n",
    "- Less Than or Equal: -le"
   ]
  },
  {
   "cell_type": "code",
   "execution_count": null,
   "metadata": {
    "slideshow": {
     "slide_type": "slide"
    }
   },
   "outputs": [],
   "source": [
    "if [ 1 -eq 7 ]; then\n",
    "echo \"What math are you doing?\"\n",
    "else\n",
    "echo \"One is not equal to 7\"\n",
    "fi"
   ]
  },
  {
   "cell_type": "code",
   "execution_count": null,
   "metadata": {},
   "outputs": [],
   "source": [
    "if [ 1 -ne 7 ]; then\n",
    "echo \"One is not equal to 7\" \n",
    "else\n",
    "echo \"What math are you doing?\"\n",
    "fi"
   ]
  },
  {
   "cell_type": "code",
   "execution_count": null,
   "metadata": {
    "slideshow": {
     "slide_type": "slide"
    }
   },
   "outputs": [],
   "source": [
    "if [ ! 1 -eq 7 ]; then\n",
    "echo \"What math are you doing?\"\n",
    "else\n",
    "echo \"One is not equal to 7\"\n",
    "fi"
   ]
  },
  {
   "cell_type": "code",
   "execution_count": null,
   "metadata": {},
   "outputs": [],
   "source": [
    "a=1\n",
    "b=2\n",
    "if [ $a -lt $b ]; then\n",
    "echo \"$a is smaller than $b\"\n",
    "else\n",
    "echo \"$b is smallter than $a\"\n",
    "fi"
   ]
  },
  {
   "cell_type": "markdown",
   "metadata": {
    "slideshow": {
     "slide_type": "slide"
    }
   },
   "source": [
    "## Conditionals on Strings\n",
    "- Equal: =\n",
    "- Not Equal: !=\n",
    "- Is Empty: -z\n",
    "- Is Not Empty: -n"
   ]
  },
  {
   "cell_type": "code",
   "execution_count": null,
   "metadata": {
    "slideshow": {
     "slide_type": "slide"
    }
   },
   "outputs": [],
   "source": [
    "string1=\"A string\"\n",
    "string2=\"Another string\"\n",
    "string3=\n",
    "if [[ $string1 = $string1 ]]; then\n",
    "echo \"The strings are the same\"\n",
    "fi"
   ]
  },
  {
   "cell_type": "code",
   "execution_count": null,
   "metadata": {},
   "outputs": [],
   "source": [
    "if [[ -z $string3 ]]; then\n",
    "echo \"The string is empty\"\n",
    "fi"
   ]
  },
  {
   "cell_type": "code",
   "execution_count": null,
   "metadata": {},
   "outputs": [],
   "source": [
    "if [[ -n $string2 ]]; then\n",
    "echo \"The string is not empty\"\n",
    "fi"
   ]
  },
  {
   "cell_type": "markdown",
   "metadata": {
    "slideshow": {
     "slide_type": "slide"
    }
   },
   "source": [
    "## Conditionals on Files\n",
    "- There are about 20 different tests that can be performed on a file\n",
    "- Some common ones are:\n",
    "    - Existence: -e\n",
    "    - Is a file: -f\n",
    "    - Is a directory: -d \n",
    "    - Is readable/writable/executable: -r/-w/-x\n",
    "    - Isn't empty: -s"
   ]
  },
  {
   "cell_type": "code",
   "execution_count": null,
   "metadata": {
    "slideshow": {
     "slide_type": "slide"
    }
   },
   "outputs": [],
   "source": [
    "more a_missing_file"
   ]
  },
  {
   "cell_type": "code",
   "execution_count": null,
   "metadata": {
    "collapsed": true,
    "slideshow": {
     "slide_type": "-"
    }
   },
   "outputs": [],
   "source": [
    "\n",
    "if [[ ! -e 'a_missing_file' ]]; then\n",
    "echo \"Lets make a file\" > a_missing_file\n",
    "fi"
   ]
  },
  {
   "cell_type": "code",
   "execution_count": null,
   "metadata": {
    "slideshow": {
     "slide_type": "slide"
    }
   },
   "outputs": [],
   "source": [
    "touch an_empty_file\n",
    "if [[ -e 'an_empty_file' ]]; then\n",
    "echo \"An empty file exists\"\n",
    "fi\n",
    "if [[ -s 'an_empty_file' ]]; then\n",
    "echo \"The file isn't empty\"\n",
    "fi"
   ]
  },
  {
   "cell_type": "code",
   "execution_count": null,
   "metadata": {
    "slideshow": {
     "slide_type": "slide"
    }
   },
   "outputs": [],
   "source": [
    "if [ -f . ]; then\n",
    "echo \"This directory isn't a file...something is messed up\"\n",
    "else\n",
    "echo \"All is right in the world\"\n",
    "fi"
   ]
  },
  {
   "cell_type": "markdown",
   "metadata": {
    "collapsed": true,
    "slideshow": {
     "slide_type": "slide"
    }
   },
   "source": [
    "## Switch Statements\n",
    "- Switch statements start with the keyword `case` and end with the keyword `esac`\n",
    "- Each clause is a pattern to match the expression against\n",
    "    - The pattern in a clause ends with a right parentheses **)**\n",
    "    - A clause must end with two semicolons (**;;**)"
   ]
  },
  {
   "cell_type": "code",
   "execution_count": null,
   "metadata": {
    "slideshow": {
     "slide_type": "slide"
    }
   },
   "outputs": [],
   "source": [
    "expression=\"This is a String\"\n",
    "\n",
    "case $expression in\n",
    "    0)\n",
    "        echo \"The variable is 0\"\n",
    "        ;;\n",
    "    *ing)\n",
    "        echo \"The variable ends in ing\"\n",
    "        ;;\n",
    "    *String)\n",
    "        echo \"The variable ends in String\"\n",
    "        ;;\n",
    "    *)\n",
    "        echo \"This is the default\"\n",
    "        ;;\n",
    "esac"
   ]
  },
  {
   "cell_type": "markdown",
   "metadata": {
    "slideshow": {
     "slide_type": "slide"
    }
   },
   "source": [
    "## For Loops\n",
    "- Bash has traditionally used a foreach style loop ( similar to Python)\n",
    "- Can loop over any type of array\n",
    "    - Can also loop over files\n",
    "- Both loops have the general syntax of\n",
    "```bash\n",
    "for EXPRESSION(S); do\n",
    "# CODE_GOES_HERE\n",
    "done\n",
    "```"
   ]
  },
  {
   "cell_type": "markdown",
   "metadata": {
    "slideshow": {
     "slide_type": "slide"
    }
   },
   "source": [
    "## Foreach Style Loop\n",
    "- The foreach style loop uses the setup of \n",
    "```bash\n",
    "for variable in list; do\n",
    "```\n",
    "- list can be\n",
    "    - a space seperated list\n",
    "    - an expanded array\n",
    "    - a shell-style regular expression (globbing)\n",
    "    - the output of a command\n"
   ]
  },
  {
   "cell_type": "code",
   "execution_count": null,
   "metadata": {
    "slideshow": {
     "slide_type": "slide"
    }
   },
   "outputs": [],
   "source": [
    "for x in 1 2 3; do\n",
    "    echo $x;\n",
    "done"
   ]
  },
  {
   "cell_type": "code",
   "execution_count": null,
   "metadata": {},
   "outputs": [],
   "source": [
    "my_array=(1 2 3)\n",
    "for y in ${my_array[@]}; do\n",
    "    echo $y\n",
    "done"
   ]
  },
  {
   "cell_type": "code",
   "execution_count": null,
   "metadata": {
    "slideshow": {
     "slide_type": "slide"
    }
   },
   "outputs": [],
   "source": [
    "for f in *.html; do\n",
    "    wc -l $f\n",
    "done"
   ]
  },
  {
   "cell_type": "code",
   "execution_count": null,
   "metadata": {},
   "outputs": [],
   "source": [
    "for f in $(ls); do\n",
    "    if [[ $f == *.html ]]; then\n",
    "        wc $f\n",
    "    fi\n",
    "done"
   ]
  },
  {
   "cell_type": "markdown",
   "metadata": {
    "slideshow": {
     "slide_type": "slide"
    }
   },
   "source": [
    "## C-Style Loop\n",
    "- Support for the C-style loop is widespread in bash, but not all shell scripts \n",
    "- The syntax for the C-style loop is:\n",
    "```bash\n",
    "for (( START ; END ; CHANGE)); do\n",
    "```\n",
    "- The variable isn't prefixed with the dollar sign (**$**) inside the loop definition "
   ]
  },
  {
   "cell_type": "code",
   "execution_count": null,
   "metadata": {
    "slideshow": {
     "slide_type": "slide"
    }
   },
   "outputs": [],
   "source": [
    "for ((x = 1; x < 4; x++)); do\n",
    "    echo $x\n",
    "done"
   ]
  },
  {
   "cell_type": "code",
   "execution_count": null,
   "metadata": {
    "slideshow": {
     "slide_type": "slide"
    }
   },
   "outputs": [],
   "source": [
    "for ((x = 1; x < 4; x += 2)); do\n",
    "    echo $x\n",
    "done"
   ]
  },
  {
   "cell_type": "markdown",
   "metadata": {
    "slideshow": {
     "slide_type": "slide"
    }
   },
   "source": [
    "## seq Command\n",
    "- There are many other ways to do a c-style loop while using the traditional syntax\n",
    "- One option is the `seq` command, which returns a list of numbers \n",
    "- The syntax of the `seq` command is\n",
    "```bash\n",
    "seq START INCREASE? END\n",
    "```\n"
   ]
  },
  {
   "cell_type": "code",
   "execution_count": null,
   "metadata": {
    "slideshow": {
     "slide_type": "slide"
    }
   },
   "outputs": [],
   "source": [
    "for i in $(seq 1 3); do\n",
    "    echo $i\n",
    "done"
   ]
  },
  {
   "cell_type": "code",
   "execution_count": null,
   "metadata": {},
   "outputs": [],
   "source": [
    "for i in $(seq 0 2 10); do\n",
    "    echo $i\n",
    "done"
   ]
  },
  {
   "cell_type": "markdown",
   "metadata": {
    "slideshow": {
     "slide_type": "slide"
    }
   },
   "source": [
    "## Brace Expansion\n",
    "- Another feature of bash that is often, but not exclusively used, with loops is brace expansion\n",
    "- Bash will expand anything in braces into a list\n",
    "- Braces can take two forms:\n",
    "```bash\n",
    "{A_LIST,OF,OPTIONS}\n",
    "```\n",
    "or\n",
    "\n",
    "```bash\n",
    "    {START..END}\n",
    "```"
   ]
  },
  {
   "cell_type": "code",
   "execution_count": null,
   "metadata": {
    "slideshow": {
     "slide_type": "slide"
    }
   },
   "outputs": [],
   "source": [
    "echo Lecture0{0,1,2,3,4,5}.html | xargs ls -lh | cut -f6,7,8  -d' '"
   ]
  },
  {
   "cell_type": "code",
   "execution_count": null,
   "metadata": {
    "slideshow": {
     "slide_type": "slide"
    }
   },
   "outputs": [],
   "source": [
    "for i in {0..5}; do\n",
    "    ls -lh Lecture0$i.html | cut -f6,7,8 -d' '\n",
    "done"
   ]
  },
  {
   "cell_type": "markdown",
   "metadata": {
    "collapsed": true,
    "slideshow": {
     "slide_type": "slide"
    }
   },
   "source": [
    "## While Loops\n",
    "- While loops also use the `do` expression after th condition\n",
    "- The syntax for a while loop is\n",
    "```bash\n",
    "while CONDITION; do\n",
    "    #CODE_HERE\n",
    "done\n",
    "```"
   ]
  },
  {
   "cell_type": "code",
   "execution_count": null,
   "metadata": {
    "slideshow": {
     "slide_type": "slide"
    }
   },
   "outputs": [],
   "source": [
    "string='Some Characters'\n",
    "while [[ -n $string ]]; do\n",
    "    echo ${string:0:1}\n",
    "    string=${string:1}\n",
    "done"
   ]
  },
  {
   "cell_type": "markdown",
   "metadata": {
    "slideshow": {
     "slide_type": "slide"
    }
   },
   "source": [
    "## Until Loops\n",
    "- The `until` loop is almost identical to the `while` loop, but continues until the statement is True\n",
    "- The `until` is still places at the top of the loop and checked before entering it\n",
    "- The syntax of `until` is \n",
    "```bash\n",
    "until CONDITIONAL; do\n",
    "    #CODE GOES HERE\n",
    "done\n",
    "```"
   ]
  },
  {
   "cell_type": "code",
   "execution_count": null,
   "metadata": {
    "slideshow": {
     "slide_type": "slide"
    }
   },
   "outputs": [],
   "source": [
    "string='Some Characters'\n",
    "until [[ -z $string ]]; do\n",
    "    echo ${string:0:1}\n",
    "    string=${string:1}\n",
    "done"
   ]
  }
 ],
 "metadata": {
  "celltoolbar": "Slideshow",
  "kernelspec": {
   "display_name": "Bash",
   "language": "bash",
   "name": "bash"
  },
  "language_info": {
   "codemirror_mode": "shell",
   "file_extension": ".sh",
   "mimetype": "text/x-sh",
   "name": "bash"
  }
 },
 "nbformat": 4,
 "nbformat_minor": 2
}

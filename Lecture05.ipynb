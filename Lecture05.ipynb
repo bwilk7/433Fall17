{
 "cells": [
  {
   "cell_type": "markdown",
   "metadata": {
    "slideshow": {
     "slide_type": "slide"
    }
   },
   "source": [
    "# Bash\n",
    "## Streams, Redirection, and Control Structures"
   ]
  },
  {
   "cell_type": "markdown",
   "metadata": {
    "slideshow": {
     "slide_type": "slide"
    }
   },
   "source": [
    "## Warm Up\n",
    "- Write a simple bash script that takes in a file name as an argument, and does the following:\n",
    "    - Sorts that file, and outputs the results to the screen\n",
    "    - Paste that file to another file with the same name, but all o's replaced with e's, and outputs it to the screen\n"
   ]
  },
  {
   "cell_type": "code",
   "execution_count": null,
   "metadata": {},
   "outputs": [],
   "source": [
    "./src/shell/demo1.sh data/noodles\n",
    "\n",
    "#1=data/noodles\n",
    "sort $1\n",
    "paste $1 ${1//o/e}"
   ]
  },
  {
   "cell_type": "markdown",
   "metadata": {
    "slideshow": {
     "slide_type": "slide"
    }
   },
   "source": [
    "## Streams\n",
    "- STDIN\n",
    "- STDOUT\n",
    "- STDERR"
   ]
  },
  {
   "cell_type": "markdown",
   "metadata": {
    "slideshow": {
     "slide_type": "slide"
    }
   },
   "source": [
    "## Output Redirection\n",
    "- The greater than symbol (**>**), is used to redirect output\n",
    "    - With no additional symbols, this redirects STDOUT to the specified location\n",
    "    - **1>** also redirects STDOUT to the specified location, but this form is not normally used\n",
    "    - **2>** redirects STDERR to the specified location\n",
    "    - **&>** redirects both STDOUT and STDERR to the same specified location\n",
    "    - **>>** appends STDOUT to the specified file\n",
    "    "
   ]
  },
  {
   "cell_type": "code",
   "execution_count": null,
   "metadata": {
    "slideshow": {
     "slide_type": "slide"
    }
   },
   "outputs": [],
   "source": [
    "echo \"Hello\" > data/hello.txt"
   ]
  },
  {
   "cell_type": "code",
   "execution_count": null,
   "metadata": {},
   "outputs": [],
   "source": [
    "more data/hello.txt"
   ]
  },
  {
   "cell_type": "code",
   "execution_count": null,
   "metadata": {},
   "outputs": [],
   "source": [
    "echo \"World\" >> data/hello.txt"
   ]
  },
  {
   "cell_type": "code",
   "execution_count": null,
   "metadata": {},
   "outputs": [],
   "source": [
    "more data/hello.txt"
   ]
  },
  {
   "cell_type": "code",
   "execution_count": null,
   "metadata": {
    "slideshow": {
     "slide_type": "slide"
    }
   },
   "outputs": [],
   "source": [
    "gcc no_file.c"
   ]
  },
  {
   "cell_type": "code",
   "execution_count": null,
   "metadata": {},
   "outputs": [],
   "source": [
    "gcc no_file.c 2> data/gcc_errors.txt"
   ]
  },
  {
   "cell_type": "code",
   "execution_count": null,
   "metadata": {},
   "outputs": [],
   "source": [
    "more data/gcc_errors.txt"
   ]
  },
  {
   "cell_type": "code",
   "execution_count": null,
   "metadata": {
    "slideshow": {
     "slide_type": "slide"
    }
   },
   "outputs": [],
   "source": [
    "more src/python/out_and_err.py"
   ]
  },
  {
   "cell_type": "code",
   "execution_count": null,
   "metadata": {
    "slideshow": {
     "slide_type": "-"
    }
   },
   "outputs": [],
   "source": [
    "./src/python/out_and_err.py > out 2> err"
   ]
  },
  {
   "cell_type": "code",
   "execution_count": null,
   "metadata": {},
   "outputs": [],
   "source": [
    "more out"
   ]
  },
  {
   "cell_type": "code",
   "execution_count": null,
   "metadata": {},
   "outputs": [],
   "source": [
    "more err"
   ]
  },
  {
   "cell_type": "markdown",
   "metadata": {
    "slideshow": {
     "slide_type": "slide"
    }
   },
   "source": [
    "## /dev/null\n",
    "- Unix has a special device that allows streams to be redirected to it but doesn't save any of the redirected text\n",
    "- By redirecting to **/dev/null** you are throwing away that stream\n",
    "    - Can be very useful to ignore errors, but many commands have a quiet option built in"
   ]
  },
  {
   "cell_type": "code",
   "execution_count": null,
   "metadata": {
    "slideshow": {
     "slide_type": "-"
    }
   },
   "outputs": [],
   "source": [
    "gcc no_file 2>/dev/null"
   ]
  },
  {
   "cell_type": "markdown",
   "metadata": {
    "slideshow": {
     "slide_type": "slide"
    }
   },
   "source": [
    "## Input Redirection\n",
    "- The less than symbol (**<**) is used to redirect input to STDIN\n",
    "    - Not many variations of this, but....\n",
    "    - Two less than operators (**<<**) are used to create a here document, which will have its own slide"
   ]
  },
  {
   "cell_type": "code",
   "execution_count": null,
   "metadata": {
    "slideshow": {
     "slide_type": "slide"
    }
   },
   "outputs": [],
   "source": [
    "more src/python/simple.py"
   ]
  },
  {
   "cell_type": "code",
   "execution_count": null,
   "metadata": {
    "slideshow": {
     "slide_type": "slide"
    }
   },
   "outputs": [],
   "source": [
    "./src/python/simple.py < data/numbers.txt "
   ]
  },
  {
   "cell_type": "markdown",
   "metadata": {
    "slideshow": {
     "slide_type": "slide"
    }
   },
   "source": [
    "## Here Documents\n",
    "- A here document takes any string and allows it to be passed to a command as if it were coming from STDIN\n",
    "    - For commands that take multiple arguments, you may see the dash (**-**) being used to explicitly indicate which argument should use STDIN\n",
    "    - The **<<** must be followed by a delimiter that is used to mark the end of the HERE document\n",
    "    - Using **<<-** will remove leading tabs, which can be useful for formatting nice looking scripts"
   ]
  },
  {
   "cell_type": "markdown",
   "metadata": {
    "slideshow": {
     "slide_type": "slide"
    }
   },
   "source": [
    "## Here Strings\n",
    "- If all you want to redirect is a single line, you can use three less than symbols (**<<<**) with no delimiter to indicate a here string\n",
    "    - Any variables in a here string (or here document) are expanded before being redirected"
   ]
  },
  {
   "cell_type": "code",
   "execution_count": null,
   "metadata": {
    "slideshow": {
     "slide_type": "slide"
    }
   },
   "outputs": [],
   "source": [
    "more data/numbers.txt"
   ]
  },
  {
   "cell_type": "code",
   "execution_count": null,
   "metadata": {},
   "outputs": [],
   "source": [
    "diff - data/numbers.txt <<EOF\n",
    "40\n",
    "1\n",
    "2\n",
    "3\n",
    "EOF"
   ]
  },
  {
   "cell_type": "code",
   "execution_count": null,
   "metadata": {},
   "outputs": [],
   "source": [
    "diff - data/numbers.txt <<< \"Hello\""
   ]
  },
  {
   "cell_type": "markdown",
   "metadata": {
    "slideshow": {
     "slide_type": "slide"
    }
   },
   "source": [
    "## Pipes\n",
    "- Many times the output of one command will function as the input to a second command\n",
    "- Rather than redirect output to a tempoarary file and then use that file as input, use the pipe command (**|**)\n",
    "    - The STDERR stream can be redirection *along with* the STDOUT stream using **|&**"
   ]
  },
  {
   "cell_type": "code",
   "execution_count": null,
   "metadata": {
    "slideshow": {
     "slide_type": "slide"
    }
   },
   "outputs": [],
   "source": [
    "ls -lh | wc -l"
   ]
  },
  {
   "cell_type": "code",
   "execution_count": null,
   "metadata": {},
   "outputs": [],
   "source": [
    "find ~/ -size +100M 2>/dev/null | head"
   ]
  },
  {
   "cell_type": "markdown",
   "metadata": {
    "slideshow": {
     "slide_type": "slide"
    }
   },
   "source": [
    "## Redirection and Pipe Practice\n",
    "\n",
    "- Combine the `find` and `sort` commands to produce a sorted list of all files over 10M in a directory. Redirect the output to a file called big_files.txt"
   ]
  },
  {
   "cell_type": "code",
   "execution_count": null,
   "metadata": {},
   "outputs": [],
   "source": [
    "find ~ -size +10M 2> /dev/null | sort > big_files.txt\n",
    "more big_files.txt"
   ]
  },
  {
   "cell_type": "markdown",
   "metadata": {
    "slideshow": {
     "slide_type": "slide"
    }
   },
   "source": [
    "## Tee\n",
    "- The `tee` command takes in a stream as input, and outputs that stream both to STDOUT and to the specified file\n",
    "    - Used following a pipe operator"
   ]
  },
  {
   "cell_type": "code",
   "execution_count": 3,
   "metadata": {
    "slideshow": {
     "slide_type": "slide"
    }
   },
   "outputs": [
    {
     "name": "stdout",
     "output_type": "stream",
     "text": [
      "Collecting asdfadsf\n",
      "  Could not find a version that satisfies the requirement asdfadsf (from versions: )\n",
      "No matching distribution found for asdfadsf\n"
     ]
    }
   ],
   "source": [
    "pip2 install -U asdfadsf |& tee scipy.log"
   ]
  },
  {
   "cell_type": "code",
   "execution_count": 4,
   "metadata": {},
   "outputs": [
    {
     "name": "stdout",
     "output_type": "stream",
     "text": [
      "Collecting asdfadsf\n",
      "  Could not find a version that satisfies the requirement asdfadsf (from version\n",
      "s: )\n",
      "No matching distribution found for asdfadsf\n"
     ]
    }
   ],
   "source": [
    "more scipy.log"
   ]
  },
  {
   "cell_type": "markdown",
   "metadata": {
    "slideshow": {
     "slide_type": "slide"
    }
   },
   "source": [
    "## Redirecting From Multiple Commands\n",
    "- Sometimes you may need to combine the output of multiple commands and pass this on to a third or fourth command\n",
    "- You could use temporary files, but process substitution fills this need nicely\n",
    "- The syntax is **<(_command_)** (Known as process substitution)\n",
    "    - This relies on certain operating system features, so isn't truly portable, but can be assumed to be "
   ]
  },
  {
   "cell_type": "code",
   "execution_count": 6,
   "metadata": {
    "slideshow": {
     "slide_type": "slide"
    }
   },
   "outputs": [
    {
     "name": "stdout",
     "output_type": "stream",
     "text": [
      "1,22c1,13\n",
      "< total 177M\n",
      "< -rw-rw---- 1 bryan bryan    0 Feb 14 14:26 an_empty_file\n",
      "< -rw-rw---- 1 bryan bryan  57K Feb 14 16:43 big_files.txt\n",
      "< drwxr-x--- 2 bryan bryan 4.0K Feb 14 15:00 binder\n",
      "< drwxr-x--- 2 bryan bryan 4.0K Feb 14 15:25 data\n",
      "< -rwxr-x--- 1 bryan bryan 176M Sep 11 22:40 en.openfoodfacts.org.products.csv\n",
      "< -rw-rw---- 1 bryan bryan   15 Feb 14 16:34 err\n",
      "< -rwxrwx--- 1 bryan bryan 5.4K Feb 12 14:53 Git.ipynb\n",
      "< drwxrwx--- 2 bryan bryan 4.0K Feb 10 13:17 helper_scripts\n",
      "< drwxrwxr-x 2 bryan bryan 4.0K Feb 14 14:54 img\n",
      "< -rwxr-x--- 1 bryan bryan 176K Nov 20 22:25 jupyter-php-installer.phar\n",
      "< -rw-rw---- 1 bryan bryan 297K Feb 14 15:00 Lecture00.ipynb\n",
      "< -rw-rw---- 1 bryan bryan  43K Feb 14 15:00 Lecture01.ipynb\n",
      "< -rwxrwx--- 1 bryan bryan  43K Feb 12 14:53 Lecture02.ipynb\n",
      "< -rwxrwx--- 1 bryan bryan  26K Feb 12 14:53 Lecture03.ipynb\n",
      "< -rwxrwx--- 1 bryan bryan  71K Feb 14 15:06 Lecture04.ipynb\n",
      "< -rw-rw---- 1 bryan bryan  28K Feb 14 16:46 Lecture05.ipynb\n",
      "< -rw-rw---- 1 bryan bryan   15 Feb 14 16:34 out\n",
      "< -rw-rw---- 1 bryan bryan   93 Feb 14 14:54 pngs\n",
      "< -rw-rw---- 1 bryan bryan  149 Feb 14 16:45 scipy.log\n",
      "< drwxr-x--- 6 bryan bryan 4.0K Feb  9 15:33 src\n",
      "< lrwxrwxrwx 1 bryan bryan   26 Feb 12 15:26 upload -> ../teaching_scripts/upload\n",
      "---\n",
      "> total 228K\n",
      "> drwxrwx--- 2 bryan bryan 4.0K Feb 11 14:57 data\n",
      "> drwxrwx--- 2 bryan bryan 4.0K Feb 11 19:51 img\n",
      "> -rw-rw---- 1 bryan bryan  19K Feb 11 14:57 Lecture00.ipynb\n",
      "> -rw-rw---- 1 bryan bryan  21K Feb 11 14:57 Lecture01.ipynb\n",
      "> -rw-rw---- 1 bryan bryan  17K Feb 14 10:10 Lecture02.ipynb\n",
      "> -rw-rw---- 1 bryan bryan  20K Feb 13 14:42 Lecture03.ipynb\n",
      "> -rw-rw---- 1 bryan bryan  21K Feb 13 13:58 Lecture04.ipynb\n",
      "> -rw-rw---- 1 bryan bryan  14K Feb 14 14:05 Lecture05.ipynb\n",
      "> drwxrwx--- 8 bryan bryan 4.0K Feb 11 14:57 source\n",
      "> -rwxr-x--- 1 bryan bryan  56K Jan 27 15:26 stackoverflow_insights_one.svg\n",
      "> -rwxr-x--- 1 bryan bryan  33K Jan 27 15:28 stackoverflow_insights_rare.svg\n",
      "> lrwxrwxrwx 1 bryan bryan   26 Feb 12 11:25 upload -> ../teaching_scripts/upload\n"
     ]
    },
    {
     "ename": "",
     "evalue": "1",
     "output_type": "error",
     "traceback": []
    }
   ],
   "source": [
    "diff <(ls -lh .) <(ls -lh ~/Teaching/CMSC331)"
   ]
  },
  {
   "cell_type": "code",
   "execution_count": 7,
   "metadata": {
    "slideshow": {
     "slide_type": "slide"
    }
   },
   "outputs": [
    {
     "name": "stdout",
     "output_type": "stream",
     "text": [
      "1\tHydrogen\tH\t1.008\t14.01\n"
     ]
    }
   ],
   "source": [
    "head -n1 data/part1.tsv"
   ]
  },
  {
   "cell_type": "code",
   "execution_count": 8,
   "metadata": {},
   "outputs": [
    {
     "name": "stdout",
     "output_type": "stream",
     "text": [
      "H,1776\n"
     ]
    }
   ],
   "source": [
    "head -n1 data/part2.csv"
   ]
  },
  {
   "cell_type": "code",
   "execution_count": 9,
   "metadata": {
    "slideshow": {
     "slide_type": "-"
    }
   },
   "outputs": [
    {
     "name": "stdout",
     "output_type": "stream",
     "text": [
      "Hydrogen\t1776\n",
      "Helium\t1895\n",
      "Lithium\t1817\n",
      "Beryllium\t1797\n",
      "Boron\t1808\n",
      "\t\n"
     ]
    }
   ],
   "source": [
    "paste <(cut -f2 data/part1.tsv) <(cut -f2 data/part2.csv -d,)"
   ]
  },
  {
   "cell_type": "markdown",
   "metadata": {
    "slideshow": {
     "slide_type": "slide"
    }
   },
   "source": [
    "## Process Substitution Practice\n",
    "- Use process substitution to shuffle two files, concatenate them together, and shuffle the final results\n",
    "    - data/numbers.txt - The list of numbers from before\n",
    "    - data/letters.txt - A list of the letters of the alphabet, one per line"
   ]
  },
  {
   "cell_type": "code",
   "execution_count": 14,
   "metadata": {},
   "outputs": [
    {
     "name": "stdout",
     "output_type": "stream",
     "text": [
      "2\n",
      "40\n",
      "1\n",
      "3\n",
      "z\n"
     ]
    }
   ],
   "source": [
    "cat <(shuf data/numbers.txt) <(shuf data/letters.txt) | shuf"
   ]
  },
  {
   "cell_type": "markdown",
   "metadata": {
    "slideshow": {
     "slide_type": "slide"
    }
   },
   "source": [
    "## xargs\n",
    "- Theoretically, you could pass the `rm` command a long list of directories to delete\n",
    "    - When this list of arguments becomes arbitarilaly too long, `rm` may break\n",
    "    - It is better to call `rm` on each of the directories in turn\n",
    "- xargs allows us to process a string, determine what the arguments are and how to split them up, and how many times to call a command\n",
    "    - Very useful for calling a command on the output of `find`"
   ]
  },
  {
   "cell_type": "code",
   "execution_count": 15,
   "metadata": {
    "slideshow": {
     "slide_type": "slide"
    }
   },
   "outputs": [
    {
     "name": "stdout",
     "output_type": "stream",
     "text": [
      "ls: cannot access '1': No such file or directory\n",
      "ls: cannot access '2': No such file or directory\n",
      "ls: cannot access '3': No such file or directory\n",
      "ls: cannot access '4': No such file or directory\n"
     ]
    },
    {
     "ename": "",
     "evalue": "123",
     "output_type": "error",
     "traceback": []
    }
   ],
   "source": [
    "echo 1 2 3 4 | xargs ls"
   ]
  },
  {
   "cell_type": "code",
   "execution_count": 16,
   "metadata": {},
   "outputs": [
    {
     "name": "stdout",
     "output_type": "stream",
     "text": [
      "Git.ipynb:       ASCII text\n",
      "Lecture00.ipynb: UTF-8 Unicode text, with very long lines\n",
      "Lecture01.ipynb: ASCII text, with very long lines\n",
      "Lecture02.ipynb: UTF-8 Unicode text, with very long lines\n",
      "Lecture03.ipynb: ASCII text, with very long lines\n",
      "Lecture04.ipynb: UTF-8 Unicode text\n",
      "Lecture05.ipynb: ASCII text\n"
     ]
    }
   ],
   "source": [
    "ls *.ipynb | xargs file"
   ]
  },
  {
   "cell_type": "code",
   "execution_count": 17,
   "metadata": {
    "slideshow": {
     "slide_type": "slide"
    }
   },
   "outputs": [],
   "source": [
    "ls img/*.png | xargs -I{} convert {} {}.jpg"
   ]
  },
  {
   "cell_type": "code",
   "execution_count": 18,
   "metadata": {},
   "outputs": [
    {
     "name": "stdout",
     "output_type": "stream",
     "text": [
      "img/ajax-fig1.png\n",
      "img/ajax-fig2.png\n",
      "img/fb_messenger.png\n",
      "img/fb_verify.png\n",
      "img/registers.png\n",
      "\u001b[0m\u001b[01;35mimg/ajax-fig1.png.jpg\u001b[0m  \u001b[01;35mimg/fb_messenger.png.jpg\u001b[0m  \u001b[01;35mimg/registers.png.jpg\u001b[0m\n",
      "\u001b[01;35mimg/ajax-fig2.png.jpg\u001b[0m  \u001b[01;35mimg/fb_verify.png.jpg\u001b[0m\n"
     ]
    }
   ],
   "source": [
    "rm img/*.jpg\n",
    "ls img/*.png > pngs\n",
    "more pngs\n",
    "xargs -IFILE convert FILE FILE.jpg < pngs\n",
    "ls img/*.jpg"
   ]
  },
  {
   "cell_type": "markdown",
   "metadata": {
    "slideshow": {
     "slide_type": "slide"
    }
   },
   "source": [
    "## If-Then-Else\n",
    "- The `if` block must end with `fi`\n",
    "- The `then` keyword is required in bash\n",
    "    - For both `elif` and `if`\n",
    "    - Must be on a different line or follow on the same line after a semicolon\n",
    "```bash\n",
    "if CONDITIONAL; then\n",
    "#CODE\n",
    "elif CONDITIONAL; then\n",
    "#CODE\n",
    "else\n",
    "#CODE\n",
    "fi\n",
    "```"
   ]
  },
  {
   "cell_type": "markdown",
   "metadata": {
    "slideshow": {
     "slide_type": "slide"
    }
   },
   "source": [
    "## If-Then-Else\n",
    "- The `if` block must end with `fi`\n",
    "- The `then` keyword is required in bash\n",
    "    - For both `elif` and `if`\n",
    "    - Must be on a different line or follow on the same line after a semicolon\n",
    "```bash\n",
    "if CONDITIONAL\n",
    "then\n",
    "#CODE\n",
    "elif CONDITIONAL\n",
    "then\n",
    "#CODE\n",
    "else\n",
    "#CODE\n",
    "fi\n",
    "```"
   ]
  },
  {
   "cell_type": "markdown",
   "metadata": {
    "slideshow": {
     "slide_type": "slide"
    }
   },
   "source": [
    "## Conditional Expression in Bash\n",
    "- Binary expressions in bash are evaluated\n",
    "    - Using the `test` command\n",
    "    - Using the `[` command (an alias of `test`)\n",
    "    - Using the `[[` syntax \n",
    "- Results are stored as a return code\n",
    "    - Not normally invoked on its own\n",
    "- Whitespace is very important"
   ]
  },
  {
   "cell_type": "markdown",
   "metadata": {
    "slideshow": {
     "slide_type": "slide"
    }
   },
   "source": [
    "## [ and test vs [[\n",
    "- [ and test are commands\n",
    "- [[ is part of bash syntax\n",
    "    - Allows for easier composition of conditionals using && and || \n",
    "    - Parentheses don't have to be escaped\n",
    "    - Can do pattern matching and regular expressions as a conditional"
   ]
  },
  {
   "cell_type": "markdown",
   "metadata": {
    "slideshow": {
     "slide_type": "slide"
    }
   },
   "source": [
    "## Conditional Operators\n",
    "- Bash has three types of conditional operators\n",
    "    - numeric operators\n",
    "    - string operators\n",
    "    - file operators\n",
    "- You can always negate an comparison by using `!` in front of it"
   ]
  },
  {
   "cell_type": "markdown",
   "metadata": {
    "slideshow": {
     "slide_type": "slide"
    }
   },
   "source": [
    "## Conditionals on Numbers\n",
    "- Equal: -eq\n",
    "- Not Equal: -ne\n",
    "- Greater Than: -gt\n",
    "- Greater Than or Equal: -ge\n",
    "- Less Than: -lt\n",
    "- Less Than or Equal: -le"
   ]
  },
  {
   "cell_type": "code",
   "execution_count": 21,
   "metadata": {
    "slideshow": {
     "slide_type": "slide"
    }
   },
   "outputs": [
    {
     "name": "stdout",
     "output_type": "stream",
     "text": [
      "One is not equal to 7\n"
     ]
    }
   ],
   "source": [
    "if [ 1 -eq 7 ]; then\n",
    "echo \"What math are you doing?\"\n",
    "else\n",
    "echo \"One is not equal to 7\"\n",
    "fi"
   ]
  },
  {
   "cell_type": "code",
   "execution_count": 22,
   "metadata": {},
   "outputs": [
    {
     "name": "stdout",
     "output_type": "stream",
     "text": [
      "One is not equal to 7\n"
     ]
    }
   ],
   "source": [
    "if [ 1 -ne 7 ]; then\n",
    "echo \"One is not equal to 7\" \n",
    "else\n",
    "echo \"What math are you doing?\"\n",
    "fi"
   ]
  },
  {
   "cell_type": "code",
   "execution_count": 23,
   "metadata": {
    "slideshow": {
     "slide_type": "slide"
    }
   },
   "outputs": [
    {
     "name": "stdout",
     "output_type": "stream",
     "text": [
      "What math are you doing?\n"
     ]
    }
   ],
   "source": [
    "if [ ! 1 -eq 7 ]; then\n",
    "echo \"What math are you doing?\"\n",
    "else\n",
    "echo \"One is not equal to 7\"\n",
    "fi"
   ]
  },
  {
   "cell_type": "code",
   "execution_count": 24,
   "metadata": {},
   "outputs": [
    {
     "name": "stdout",
     "output_type": "stream",
     "text": [
      "1 is smaller than 2\n"
     ]
    }
   ],
   "source": [
    "a=1\n",
    "b=2\n",
    "if [ $a -lt $b ]; then\n",
    "echo \"$a is smaller than $b\"\n",
    "else\n",
    "echo \"$b is smallter than $a\"\n",
    "fi"
   ]
  },
  {
   "cell_type": "code",
   "execution_count": 27,
   "metadata": {},
   "outputs": [
    {
     "name": "stdout",
     "output_type": "stream",
     "text": [
      "1 is smaller than 2\n"
     ]
    }
   ],
   "source": [
    "a=1\n",
    "b=2\n",
    "if [[ $a -lt $b && $b -gt $a ]]; then\n",
    "echo \"$a is smaller than $b\"\n",
    "else\n",
    "echo \"$b is smallter than $a\"\n",
    "fi"
   ]
  },
  {
   "cell_type": "markdown",
   "metadata": {
    "slideshow": {
     "slide_type": "slide"
    }
   },
   "source": [
    "## Conditionals on Strings\n",
    "- Equal: =\n",
    "- Not Equal: !=\n",
    "- Is Empty: -z\n",
    "- Is Not Empty: -n"
   ]
  },
  {
   "cell_type": "code",
   "execution_count": 28,
   "metadata": {
    "slideshow": {
     "slide_type": "slide"
    }
   },
   "outputs": [
    {
     "name": "stdout",
     "output_type": "stream",
     "text": [
      "The strings are the same\n"
     ]
    }
   ],
   "source": [
    "string1=\"A string\"\n",
    "string2=\"Another string\"\n",
    "string3=\n",
    "if [[ $string1 = $string1 ]]; then\n",
    "echo \"The strings are the same\"\n",
    "fi"
   ]
  },
  {
   "cell_type": "code",
   "execution_count": 29,
   "metadata": {},
   "outputs": [
    {
     "name": "stdout",
     "output_type": "stream",
     "text": [
      "The string is empty\n"
     ]
    }
   ],
   "source": [
    "if [[ -z $string3 ]]; then\n",
    "echo \"The string is empty\"\n",
    "fi"
   ]
  },
  {
   "cell_type": "code",
   "execution_count": 30,
   "metadata": {},
   "outputs": [
    {
     "name": "stdout",
     "output_type": "stream",
     "text": [
      "The string is not empty\n"
     ]
    }
   ],
   "source": [
    "if [[ -n $string2 ]]; then\n",
    "echo \"The string is not empty\"\n",
    "fi"
   ]
  },
  {
   "cell_type": "markdown",
   "metadata": {
    "slideshow": {
     "slide_type": "slide"
    }
   },
   "source": [
    "## Conditionals on Files\n",
    "- There are about 20 different tests that can be performed on a file\n",
    "    - `man test` shows them all\n",
    "- Some common ones are:\n",
    "    - Existence: -e\n",
    "    - Is a file: -f\n",
    "    - Is a directory: -d \n",
    "    - Is readable/writable/executable: -r/-w/-x\n",
    "    - Isn't empty: -s"
   ]
  },
  {
   "cell_type": "code",
   "execution_count": 31,
   "metadata": {
    "slideshow": {
     "slide_type": "slide"
    }
   },
   "outputs": [
    {
     "name": "stdout",
     "output_type": "stream",
     "text": [
      "more: stat of data/a_missing_file failed: No such file or directory\n"
     ]
    }
   ],
   "source": [
    "more data/a_missing_file"
   ]
  },
  {
   "cell_type": "code",
   "execution_count": 32,
   "metadata": {
    "slideshow": {
     "slide_type": "-"
    }
   },
   "outputs": [
    {
     "name": "stdout",
     "output_type": "stream",
     "text": [
      "Lets make a file\n"
     ]
    }
   ],
   "source": [
    "\n",
    "if [[ ! -e 'a_missing_file' ]]; then\n",
    "echo \"Lets make a file\" > data/a_missing_file\n",
    "fi\n",
    "\n",
    "more data/a_missing_file"
   ]
  },
  {
   "cell_type": "code",
   "execution_count": 33,
   "metadata": {
    "slideshow": {
     "slide_type": "slide"
    }
   },
   "outputs": [
    {
     "name": "stdout",
     "output_type": "stream",
     "text": [
      "An empty file exists\n"
     ]
    }
   ],
   "source": [
    "touch an_empty_file\n",
    "if [[ -e 'an_empty_file' ]]; then\n",
    "echo \"An empty file exists\"\n",
    "fi\n",
    "if [[ -s 'an_empty_file' ]]; then\n",
    "echo \"The file isn't empty\"\n",
    "fi"
   ]
  },
  {
   "cell_type": "code",
   "execution_count": 34,
   "metadata": {
    "slideshow": {
     "slide_type": "slide"
    }
   },
   "outputs": [
    {
     "name": "stdout",
     "output_type": "stream",
     "text": [
      "All is right in the world\n"
     ]
    }
   ],
   "source": [
    "if [ -f . ]; then\n",
    "echo \"This directory isn't a file...something is messed up\"\n",
    "else\n",
    "echo \"All is right in the world\"\n",
    "fi"
   ]
  },
  {
   "cell_type": "markdown",
   "metadata": {
    "slideshow": {
     "slide_type": "slide"
    }
   },
   "source": [
    "## If Statement Practice\n",
    "- Write a simple bash script that prints \"Be Careful\" if the argument passed to it is\n",
    "    - A file and\n",
    "    - Writable and\n",
    "    - Not empty"
   ]
  },
  {
   "cell_type": "code",
   "execution_count": 38,
   "metadata": {},
   "outputs": [
    {
     "name": "stdout",
     "output_type": "stream",
     "text": [
      "Be Careful\n"
     ]
    }
   ],
   "source": [
    "a_name=data/numbers.txt\n",
    "if [[ -f $a_name && -w $a_name && -s $a_name ]]; then\n",
    "    echo \"Be Careful\"\n",
    "fi"
   ]
  },
  {
   "cell_type": "markdown",
   "metadata": {
    "collapsed": true,
    "slideshow": {
     "slide_type": "slide"
    }
   },
   "source": [
    "## Switch Statements\n",
    "- Switch statements start with the keyword `case` and end with the keyword `esac`\n",
    "- Each clause is a pattern to match the expression against\n",
    "    - The pattern in a clause ends with a right parentheses **)**\n",
    "    - A clause must end with two semicolons (**;;**)"
   ]
  },
  {
   "cell_type": "code",
   "execution_count": null,
   "metadata": {
    "slideshow": {
     "slide_type": "slide"
    }
   },
   "outputs": [],
   "source": [
    "expression=\"This is a String\"\n",
    "\n",
    "case $expression in\n",
    "    0)\n",
    "        echo \"The variable is 0\"\n",
    "        ;;\n",
    "    *ing)\n",
    "        echo \"The variable ends in ing\"\n",
    "        ;;\n",
    "    *String)\n",
    "        echo \"The variable ends in String\"\n",
    "        ;;\n",
    "    *)\n",
    "        echo \"This is the default\"\n",
    "        ;;\n",
    "esac"
   ]
  },
  {
   "cell_type": "markdown",
   "metadata": {
    "slideshow": {
     "slide_type": "slide"
    }
   },
   "source": [
    "## For Loops\n",
    "- Bash has traditionally used a foreach style loop ( similar to Python)\n",
    "- Can loop over any type of array\n",
    "    - Can also loop over files\n",
    "- Both loops have the general syntax of\n",
    "```bash\n",
    "for EXPRESSION(S); do\n",
    "# CODE_GOES_HERE\n",
    "done\n",
    "```"
   ]
  },
  {
   "cell_type": "markdown",
   "metadata": {
    "slideshow": {
     "slide_type": "slide"
    }
   },
   "source": [
    "## Foreach Style Loop\n",
    "- The foreach style loop uses the setup of \n",
    "```bash\n",
    "for variable in list; do\n",
    "```\n",
    "- list can be\n",
    "    - a space seperated list\n",
    "    - an expanded array\n",
    "    - a shell-style regular expression (globbing)\n",
    "    - the output of a command\n"
   ]
  },
  {
   "cell_type": "code",
   "execution_count": null,
   "metadata": {
    "slideshow": {
     "slide_type": "slide"
    }
   },
   "outputs": [],
   "source": [
    "for x in 1 2 3; do\n",
    "    echo $x;\n",
    "done"
   ]
  },
  {
   "cell_type": "code",
   "execution_count": null,
   "metadata": {},
   "outputs": [],
   "source": [
    "my_array=(1 2 3)\n",
    "for y in ${my_array[@]}; do\n",
    "    echo $y\n",
    "done"
   ]
  },
  {
   "cell_type": "code",
   "execution_count": null,
   "metadata": {
    "slideshow": {
     "slide_type": "slide"
    }
   },
   "outputs": [],
   "source": [
    "for f in *.ipynb; do\n",
    "    wc -l $f\n",
    "done"
   ]
  },
  {
   "cell_type": "markdown",
   "metadata": {
    "slideshow": {
     "slide_type": "slide"
    }
   },
   "source": [
    "## For Loop Practice\n",
    "- Write a for loop that finds the most common line in each file in the data directory\n",
    "    - Hint: use head to find **most** common"
   ]
  },
  {
   "cell_type": "code",
   "execution_count": null,
   "metadata": {},
   "outputs": [],
   "source": []
  },
  {
   "cell_type": "markdown",
   "metadata": {
    "slideshow": {
     "slide_type": "slide"
    }
   },
   "source": [
    "## C-Style Loop\n",
    "- Support for the C-style loop is widespread in bash, but not all shell scripts \n",
    "- The syntax for the C-style loop is:\n",
    "```bash\n",
    "for (( START ; END ; CHANGE)); do\n",
    "```\n",
    "- The variable isn't prefixed with the dollar sign (**$**) inside the loop definition "
   ]
  },
  {
   "cell_type": "code",
   "execution_count": null,
   "metadata": {
    "slideshow": {
     "slide_type": "slide"
    }
   },
   "outputs": [],
   "source": [
    "for ((x = 1; x < 4; x++)); do\n",
    "    echo $x\n",
    "done"
   ]
  },
  {
   "cell_type": "code",
   "execution_count": null,
   "metadata": {
    "slideshow": {
     "slide_type": "slide"
    }
   },
   "outputs": [],
   "source": [
    "for ((x = 1; x < 4; x += 2)); do\n",
    "    echo $x\n",
    "done"
   ]
  },
  {
   "cell_type": "markdown",
   "metadata": {
    "slideshow": {
     "slide_type": "slide"
    }
   },
   "source": [
    "## seq Command\n",
    "- There are many other ways to do a c-style loop while using the traditional syntax\n",
    "- One option is the `seq` command, which returns a list of numbers \n",
    "- The syntax of the `seq` command is\n",
    "```bash\n",
    "seq START INCREASE? END\n",
    "```\n"
   ]
  },
  {
   "cell_type": "code",
   "execution_count": null,
   "metadata": {
    "slideshow": {
     "slide_type": "slide"
    }
   },
   "outputs": [],
   "source": [
    "for i in $(seq 1 3); do\n",
    "    echo $i\n",
    "done"
   ]
  },
  {
   "cell_type": "code",
   "execution_count": null,
   "metadata": {},
   "outputs": [],
   "source": [
    "for i in $(seq 0 2 10); do\n",
    "    echo $i\n",
    "done"
   ]
  },
  {
   "cell_type": "markdown",
   "metadata": {
    "slideshow": {
     "slide_type": "slide"
    }
   },
   "source": [
    "## Brace Expansion\n",
    "- Another feature of bash that is often, but not exclusively used, with loops is brace expansion\n",
    "- Bash will expand anything in braces into a list\n",
    "- Braces can take two forms:\n",
    "```bash\n",
    "{A_LIST,OF,OPTIONS}\n",
    "```\n",
    "or\n",
    "\n",
    "```bash\n",
    "    {START..END}\n",
    "```"
   ]
  },
  {
   "cell_type": "code",
   "execution_count": null,
   "metadata": {
    "slideshow": {
     "slide_type": "slide"
    }
   },
   "outputs": [],
   "source": [
    "echo Lecture0{0,1,2,3,4,5}.ipynb | xargs ls -lh | cut -f6,7,8  -d' '"
   ]
  },
  {
   "cell_type": "code",
   "execution_count": null,
   "metadata": {
    "slideshow": {
     "slide_type": "slide"
    }
   },
   "outputs": [],
   "source": [
    "for i in {0..5}; do\n",
    "    ls -lh Lecture0$i.ipynb | cut -f6,7,8 -d' '\n",
    "done"
   ]
  },
  {
   "cell_type": "markdown",
   "metadata": {
    "collapsed": true,
    "slideshow": {
     "slide_type": "slide"
    }
   },
   "source": [
    "## While Loops\n",
    "- While loops also use the `do` expression after the condition\n",
    "- The syntax for a while loop is\n",
    "```bash\n",
    "while CONDITION; do\n",
    "    #CODE_HERE\n",
    "done\n",
    "```"
   ]
  },
  {
   "cell_type": "code",
   "execution_count": null,
   "metadata": {
    "slideshow": {
     "slide_type": "slide"
    }
   },
   "outputs": [],
   "source": [
    "string='Some Characters'\n",
    "while [[ -n $string ]]; do\n",
    "    echo ${string:0:1}\n",
    "    string=${string:1}\n",
    "done"
   ]
  },
  {
   "cell_type": "markdown",
   "metadata": {
    "slideshow": {
     "slide_type": "slide"
    }
   },
   "source": [
    "## Until Loops\n",
    "- The `until` loop is almost identical to the `while` loop, but continues until the statement is True\n",
    "- The `until` is still places at the top of the loop and checked before entering it\n",
    "- The syntax of `until` is \n",
    "```bash\n",
    "until CONDITIONAL; do\n",
    "    #CODE GOES HERE\n",
    "done\n",
    "```"
   ]
  },
  {
   "cell_type": "code",
   "execution_count": null,
   "metadata": {
    "slideshow": {
     "slide_type": "slide"
    }
   },
   "outputs": [],
   "source": [
    "string='Some Characters'\n",
    "until [[ -z $string ]]; do\n",
    "    echo ${string:0:1}\n",
    "    string=${string:1}\n",
    "done"
   ]
  }
 ],
 "metadata": {
  "celltoolbar": "Slideshow",
  "kernelspec": {
   "display_name": "Bash",
   "language": "bash",
   "name": "bash"
  },
  "language_info": {
   "codemirror_mode": "shell",
   "file_extension": ".sh",
   "mimetype": "text/x-sh",
   "name": "bash"
  }
 },
 "nbformat": 4,
 "nbformat_minor": 2
}

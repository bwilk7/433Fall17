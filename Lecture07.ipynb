{
 "cells": [
  {
   "cell_type": "markdown",
   "metadata": {
    "slideshow": {
     "slide_type": "slide"
    }
   },
   "source": [
    "# Bash\n",
    "## grep, sed, awk, and Functions"
   ]
  },
  {
   "cell_type": "markdown",
   "metadata": {
    "collapsed": true,
    "slideshow": {
     "slide_type": "slide"
    }
   },
   "source": [
    "## `grep`\n",
    "- `grep` is a standard \\*NIX tool to search files for patterns and print matching lines\n",
    "- There are numerous options for both how matching is done, and what the output of `grep` is\n",
    "- Options that effect matching\n",
    "    - -P: Use a Perl style regular expression\n",
    "    - -e PATTERN: Specify a pattern after each -e (allows multiple patterns)\n",
    "    - -f FILE: Read patterns in from FILE, one per line\n",
    "    - -i: Ignore case\n",
    "    - -v: Invert matches, only print lines that do not match the pattern"
   ]
  },
  {
   "cell_type": "code",
   "execution_count": null,
   "metadata": {
    "collapsed": true,
    "slideshow": {
     "slide_type": "slide"
    }
   },
   "outputs": [],
   "source": [
    "grep  \"todo\"  /usr/src/linux-headers-3.19.0-15-generic/include/drm/drmP.h "
   ]
  },
  {
   "cell_type": "code",
   "execution_count": null,
   "metadata": {
    "collapsed": true
   },
   "outputs": [],
   "source": [
    "grep -R \"todo\"  /usr/src/linux-headers-3.19.0-15-generic/include/"
   ]
  },
  {
   "cell_type": "code",
   "execution_count": null,
   "metadata": {
    "scrolled": true,
    "slideshow": {
     "slide_type": "slide"
    }
   },
   "outputs": [],
   "source": [
    "grep -Ri \"todo\"  /usr/src/linux-headers-3.19.0-15-generic/include/"
   ]
  },
  {
   "cell_type": "code",
   "execution_count": null,
   "metadata": {
    "scrolled": true,
    "slideshow": {
     "slide_type": "slide"
    }
   },
   "outputs": [],
   "source": [
    "grep -P \"^import\" ~/MyMethod/*.py"
   ]
  },
  {
   "cell_type": "code",
   "execution_count": null,
   "metadata": {
    "collapsed": true,
    "slideshow": {
     "slide_type": "slide"
    }
   },
   "outputs": [],
   "source": [
    "more read_ps_example.sh"
   ]
  },
  {
   "cell_type": "code",
   "execution_count": null,
   "metadata": {
    "collapsed": true
   },
   "outputs": [],
   "source": [
    "grep -v \"#[^\\!]\" read_ps_example.sh"
   ]
  },
  {
   "cell_type": "markdown",
   "metadata": {
    "collapsed": true,
    "slideshow": {
     "slide_type": "slide"
    }
   },
   "source": [
    "## `grep` Output Options\n",
    "- -o: Only output the part of the line that matches\n",
    "- -color=COLOR_OPTION: suppress or enforce highlighting of matches in line\n",
    "- -l: Print only the file names where a match has been found\n",
    "- -L: Print only the file names where no match has been found\n",
    "- -h: Don't print the file name for each match\n",
    "- -n: Print the line number the match was found on\n",
    "- -c: Print the number of matches found in each file"
   ]
  },
  {
   "cell_type": "code",
   "execution_count": null,
   "metadata": {
    "slideshow": {
     "slide_type": "slide"
    }
   },
   "outputs": [],
   "source": [
    "grep -Ri \"todo\"  /usr/src/linux-headers-3.19.0-15-generic/include/ | head"
   ]
  },
  {
   "cell_type": "code",
   "execution_count": null,
   "metadata": {
    "slideshow": {
     "slide_type": "slide"
    }
   },
   "outputs": [],
   "source": [
    "grep -Ri --color=always \"todo\"  /usr/src/linux-headers-3.19.0-15-generic/include/ | head"
   ]
  },
  {
   "cell_type": "code",
   "execution_count": null,
   "metadata": {
    "slideshow": {
     "slide_type": "slide"
    }
   },
   "outputs": [],
   "source": [
    "grep -Rin --color=always \"todo\"  /usr/src/linux-headers-3.19.0-15-generic/include/ | head "
   ]
  },
  {
   "cell_type": "code",
   "execution_count": null,
   "metadata": {
    "slideshow": {
     "slide_type": "slide"
    }
   },
   "outputs": [],
   "source": [
    "grep -Ril --color=always \"todo\"  /usr/src/linux-headers-3.19.0-15-generic/include/ | head "
   ]
  },
  {
   "cell_type": "code",
   "execution_count": null,
   "metadata": {
    "slideshow": {
     "slide_type": "slide"
    }
   },
   "outputs": [],
   "source": [
    "grep -Pc \"^import\" ~/MyMethod/*.py | head"
   ]
  },
  {
   "cell_type": "code",
   "execution_count": null,
   "metadata": {
    "slideshow": {
     "slide_type": "slide"
    }
   },
   "outputs": [],
   "source": [
    "grep -Ph \"^import\" ~/MyMethod/*.py | head"
   ]
  },
  {
   "cell_type": "markdown",
   "metadata": {
    "slideshow": {
     "slide_type": "slide"
    }
   },
   "source": [
    "## Printing More Context per Match\n",
    "- It is often useful, especially in debugging, to print some lines around each match\n",
    "- `grep` has three flags that control this, each taking a numerical argument\n",
    "    - -A NUM: Print the NUM lines after each match\n",
    "    - -B NUM: Print the NUM lines before each match\n",
    "    - -C NUM: Print the NUM lines before and after each match"
   ]
  },
  {
   "cell_type": "code",
   "execution_count": null,
   "metadata": {
    "slideshow": {
     "slide_type": "slide"
    }
   },
   "outputs": [],
   "source": [
    "grep -A4 \"todo\"  /usr/src/linux-headers-3.19.0-15-generic/include/drm/drmP.h "
   ]
  },
  {
   "cell_type": "code",
   "execution_count": null,
   "metadata": {
    "slideshow": {
     "slide_type": "slide"
    }
   },
   "outputs": [],
   "source": [
    "grep -v \"^/[\\*/]\" /usr/src/linux-headers-3.19.0-15-generic/include/drm/drmP.h \\\n",
    "| grep -v \"\\s*\\*\"  | grep -B10 -m3 -P 'return' "
   ]
  },
  {
   "cell_type": "code",
   "execution_count": null,
   "metadata": {
    "slideshow": {
     "slide_type": "slide"
    }
   },
   "outputs": [],
   "source": [
    "grep -m2 -P --color=never \"huge\\t_\\tJJ\\t\" ~/wackyAll.deps.sd"
   ]
  },
  {
   "cell_type": "code",
   "execution_count": null,
   "metadata": {
    "slideshow": {
     "slide_type": "slide"
    }
   },
   "outputs": [],
   "source": [
    "grep -m2 -P -C5 --color=never \"huge\\t_\\tJJ\\t\" ~/wackyAll.deps.sd"
   ]
  },
  {
   "cell_type": "markdown",
   "metadata": {
    "slideshow": {
     "slide_type": "slide"
    }
   },
   "source": [
    "## `sed` and `awk`\n",
    "- `sed` and `awk` are both extremely popular tools for text manipulation from the command line\n",
    "    - `sed` is short for Stream EDitor\n",
    "    - `awk` is named after the last names of the 3 creators\n",
    "- Both `sed` and `awk` are full-fledges scripting languges in their own right"
   ]
  },
  {
   "cell_type": "markdown",
   "metadata": {
    "slideshow": {
     "slide_type": "slide"
    }
   },
   "source": [
    "## `awk` Scripts\n",
    "- An `awk` script is a series of rules of the format\n",
    "```awk\n",
    "pattern { action }\n",
    "```\n",
    "- The `awk` script is running either directly as an argument to the `awk` command, or from a file specified to `awk`\n",
    "```awk\n",
    "awk 'SCRIPT' INPUT_FILE\n",
    "awk -f SCRIPT_FILE INPUT_FILE\n",
    "```"
   ]
  },
  {
   "cell_type": "markdown",
   "metadata": {
    "slideshow": {
     "slide_type": "slide"
    }
   },
   "source": [
    "## `awk` Scripts Continued\n",
    "- Two special patterns exist in `awk`\n",
    "    - BEGIN will match before any input is read \n",
    "    - END will match after all input is read\n",
    "- The most common action is print, often seen as\n",
    "```bash\n",
    "{ print $0; }\n",
    "```"
   ]
  },
  {
   "cell_type": "code",
   "execution_count": null,
   "metadata": {
    "slideshow": {
     "slide_type": "slide"
    }
   },
   "outputs": [],
   "source": [
    "awk '/^import/ { print $0; }' ~/MyMethod/*.py"
   ]
  },
  {
   "cell_type": "code",
   "execution_count": null,
   "metadata": {
    "slideshow": {
     "slide_type": "slide"
    }
   },
   "outputs": [],
   "source": [
    "awk '/^import/' ~/MyMethod/*.py"
   ]
  },
  {
   "cell_type": "code",
   "execution_count": null,
   "metadata": {
    "slideshow": {
     "slide_type": "slide"
    }
   },
   "outputs": [],
   "source": [
    "awk '{ print $0; }' ~/MyMethod/*.py"
   ]
  },
  {
   "cell_type": "markdown",
   "metadata": {
    "slideshow": {
     "slide_type": "slide"
    }
   },
   "source": [
    "## `awk` Variables\n",
    "- `awk` was designed for space seperated data files\n",
    "    - The delimiter can be changes by using the `-F` flag\n",
    "- The entire line is in the variable `$0`\n",
    "    - Each field is placed in `$1`, `$2`, and so on"
   ]
  },
  {
   "cell_type": "markdown",
   "metadata": {
    "slideshow": {
     "slide_type": "slide"
    }
   },
   "source": [
    "## Special `awk` Variables\n",
    "- `awk` has many built in variables that contain useful information\n",
    "- Two commons ones are:\n",
    "    - NF - The number of fields in the current record (on the current line)\n",
    "    - NR - The number of records processed so far\n",
    "- All variables can be used in both patterns and actions"
   ]
  },
  {
   "cell_type": "code",
   "execution_count": null,
   "metadata": {
    "slideshow": {
     "slide_type": "slide"
    }
   },
   "outputs": [],
   "source": [
    "awk 'NF > 20 { print $0; }'  ~/MyMethod/*.py"
   ]
  },
  {
   "cell_type": "code",
   "execution_count": null,
   "metadata": {
    "slideshow": {
     "slide_type": "slide"
    }
   },
   "outputs": [],
   "source": [
    "awk 'length($0) > 80 { print $0; }'  ~/MyMethod/*.py | head"
   ]
  },
  {
   "cell_type": "code",
   "execution_count": null,
   "metadata": {
    "slideshow": {
     "slide_type": "slide"
    }
   },
   "outputs": [],
   "source": [
    "awk 'END { print NR; }' ~/MyMethod/*.py"
   ]
  },
  {
   "cell_type": "code",
   "execution_count": null,
   "metadata": {
    "slideshow": {
     "slide_type": "slide"
    }
   },
   "outputs": [],
   "source": [
    "awk '/^import/ {print $2;}'  ~/MyMethod/*.py | head"
   ]
  },
  {
   "cell_type": "code",
   "execution_count": null,
   "metadata": {
    "collapsed": true,
    "slideshow": {
     "slide_type": "slide"
    }
   },
   "outputs": [],
   "source": [
    "awk '/^import/ {print $2;}'  ~/MyMethod/*.py | sort -u "
   ]
  },
  {
   "cell_type": "markdown",
   "metadata": {
    "slideshow": {
     "slide_type": "slide"
    }
   },
   "source": [
    "## `sed`\n",
    "- By default, `sed` reads in a file, applies a command to each line in a file, and prints the result to STDOUT\n",
    "    - The edits can be changed to occur in-place by using the `-i` flag. Be careful with this!\n",
    "    - To only print lines explicitly using a command, use the `-n` flag\n",
    "    "
   ]
  },
  {
   "cell_type": "markdown",
   "metadata": {
    "slideshow": {
     "slide_type": "slide"
    }
   },
   "source": [
    "## Selecting Lines\n",
    "- Similarly to `awk`, `sed` allows us to control which lines we apply the commands to\n",
    "- The lines can be selected by using\n",
    "    - The line number\n",
    "    - A range of line numbers\n",
    "    - A regex\n",
    "    - The inverse of any of the above"
   ]
  },
  {
   "cell_type": "code",
   "execution_count": null,
   "metadata": {
    "slideshow": {
     "slide_type": "slide"
    }
   },
   "outputs": [],
   "source": [
    "paste <(head hundred.txt) <(tail hundred.txt)"
   ]
  },
  {
   "cell_type": "code",
   "execution_count": null,
   "metadata": {},
   "outputs": [],
   "source": [
    "wc -l hundred.txt"
   ]
  },
  {
   "cell_type": "code",
   "execution_count": null,
   "metadata": {
    "slideshow": {
     "slide_type": "slide"
    }
   },
   "outputs": [],
   "source": [
    "sed -n '20p' hundred.txt"
   ]
  },
  {
   "cell_type": "code",
   "execution_count": null,
   "metadata": {},
   "outputs": [],
   "source": [
    "sed -n '20,25p' hundred.txt"
   ]
  },
  {
   "cell_type": "code",
   "execution_count": null,
   "metadata": {},
   "outputs": [],
   "source": [
    "sed -n '/2[0-5]/p' hundred.txt"
   ]
  },
  {
   "cell_type": "code",
   "execution_count": null,
   "metadata": {
    "slideshow": {
     "slide_type": "slide"
    }
   },
   "outputs": [],
   "source": [
    "sed -n '1,95!p' hundred.txt"
   ]
  },
  {
   "cell_type": "code",
   "execution_count": null,
   "metadata": {
    "slideshow": {
     "slide_type": "slide"
    }
   },
   "outputs": [],
   "source": [
    "sed -n '/[[:digit:]][[:digit:]]/!p' hundred.txt"
   ]
  },
  {
   "cell_type": "markdown",
   "metadata": {
    "slideshow": {
     "slide_type": "slide"
    }
   },
   "source": [
    "## `sed` Commands\n",
    "- There are many different commands, but the most common ones are \n",
    "    - d: Delete a line\n",
    "    - s/REGEX/SUBSTITUTION/: performs a substitution\n",
    "    - a: Appends after a line\n",
    "    - i: Inserts before a line\n",
    "    - p: Prints a line"
   ]
  },
  {
   "cell_type": "code",
   "execution_count": null,
   "metadata": {
    "slideshow": {
     "slide_type": "slide"
    }
   },
   "outputs": [],
   "source": [
    "sed '/^\\s*#[^!]/d' read_ps_example.sh"
   ]
  },
  {
   "cell_type": "code",
   "execution_count": null,
   "metadata": {
    "slideshow": {
     "slide_type": "slide"
    }
   },
   "outputs": [],
   "source": [
    "sed '5,$d' read_ps_example.sh"
   ]
  },
  {
   "cell_type": "code",
   "execution_count": null,
   "metadata": {
    "slideshow": {
     "slide_type": "slide"
    }
   },
   "outputs": [],
   "source": [
    "sed '/^\\s*#!/a #There is a shebang line in this file' read_ps_example.sh"
   ]
  },
  {
   "cell_type": "code",
   "execution_count": null,
   "metadata": {
    "slideshow": {
     "slide_type": "slide"
    }
   },
   "outputs": [],
   "source": [
    "sed '$a #This is the end of the file' read_ps_example.sh"
   ]
  },
  {
   "cell_type": "code",
   "execution_count": null,
   "metadata": {
    "slideshow": {
     "slide_type": "slide"
    }
   },
   "outputs": [],
   "source": [
    "sed '$i \\\\n#Only One Line Left' read_ps_example.sh "
   ]
  },
  {
   "cell_type": "code",
   "execution_count": null,
   "metadata": {
    "slideshow": {
     "slide_type": "slide"
    }
   },
   "outputs": [],
   "source": [
    "sed 's/u/i/' read_ps_example.sh "
   ]
  },
  {
   "cell_type": "code",
   "execution_count": null,
   "metadata": {
    "slideshow": {
     "slide_type": "slide"
    }
   },
   "outputs": [],
   "source": [
    "sed 's/u/i/g' read_ps_example.sh "
   ]
  },
  {
   "cell_type": "code",
   "execution_count": null,
   "metadata": {
    "slideshow": {
     "slide_type": "slide"
    }
   },
   "outputs": [],
   "source": [
    "sed '/^#[^!]/s/u/i/g' read_ps_example.sh "
   ]
  },
  {
   "cell_type": "markdown",
   "metadata": {
    "collapsed": true,
    "slideshow": {
     "slide_type": "slide"
    }
   },
   "source": [
    "## Functions\n",
    "- Functions in `bash` behave like functions in most other languages, with a few notable differences\n",
    "    - No keyword used to define the function\n",
    "    - No return type\n",
    "    - No parameter list in definition\n",
    "    - Called like a `bash` command rather than a function"
   ]
  },
  {
   "cell_type": "markdown",
   "metadata": {
    "slideshow": {
     "slide_type": "slide"
    }
   },
   "source": [
    "## Function Syntax\n",
    "- To define a function:\n",
    "```bash\n",
    "FUNCTION_NAME()\n",
    "{\n",
    "    #CODE HERE\n",
    "}\n",
    "```\n",
    "- To call a function\n",
    "```bash\n",
    "FUNCTION_NAME ARG1 ARG2 ARG3\n",
    "```"
   ]
  },
  {
   "cell_type": "code",
   "execution_count": null,
   "metadata": {
    "slideshow": {
     "slide_type": "slide"
    }
   },
   "outputs": [],
   "source": [
    "hello(){\n",
    "    echo \"Hello World\";\n",
    "}\n",
    "\n",
    "hello"
   ]
  },
  {
   "cell_type": "code",
   "execution_count": null,
   "metadata": {
    "slideshow": {
     "slide_type": "slide"
    }
   },
   "outputs": [],
   "source": [
    "today() {\n",
    "    date +\"%A, %B %-d, %Y\"\n",
    "}\n",
    "\n",
    "echo -n \"Today is \"\n",
    "today"
   ]
  },
  {
   "cell_type": "code",
   "execution_count": null,
   "metadata": {
    "slideshow": {
     "slide_type": "slide"
    }
   },
   "outputs": [],
   "source": [
    "ls() {\n",
    " command ls -lh\n",
    "}\n",
    "ls"
   ]
  },
  {
   "cell_type": "markdown",
   "metadata": {
    "slideshow": {
     "slide_type": "slide"
    }
   },
   "source": [
    "## Accessing Function Arguments\n",
    "- Inside of a function definition, the special variables `$1`, `$2`, etc refer to the arguments passed to the function\n",
    "    - This means there is no way to access the arguments passed to the script as a whole using the same variables, they must have been saved prior to defining the function\n",
    "    - Just like with a script, the special variable `$#` holds the number of arguments passed"
   ]
  },
  {
   "cell_type": "code",
   "execution_count": null,
   "metadata": {
    "slideshow": {
     "slide_type": "slide"
    }
   },
   "outputs": [],
   "source": [
    "hello(){\n",
    "    echo \"Hello $1!\"\n",
    "}\n",
    "hello World\n",
    "hello Class\n",
    "hello\n",
    "hello The Whole World"
   ]
  },
  {
   "cell_type": "code",
   "execution_count": null,
   "metadata": {
    "slideshow": {
     "slide_type": "slide"
    }
   },
   "outputs": [],
   "source": [
    "print_all_args(){\n",
    "    echo $@\n",
    "    echo $#\n",
    "}\n",
    "print_all_args How Many Args Are Printed?"
   ]
  },
  {
   "cell_type": "code",
   "execution_count": null,
   "metadata": {
    "slideshow": {
     "slide_type": "slide"
    }
   },
   "outputs": [],
   "source": [
    "count_files_of_type() {\n",
    "    echo $(/bin/ls -1 *.$1 | wc -l)\n",
    "}\n",
    "count_files_of_type sh\n",
    "count_files_of_type ipynb\n",
    "count_files_of_type pl\n",
    "count_files_of_type"
   ]
  },
  {
   "cell_type": "markdown",
   "metadata": {
    "slideshow": {
     "slide_type": "slide"
    }
   },
   "source": [
    "## Returning Values\n",
    "- `bash` does support the `return` keyword, but this can only return integer values\n",
    "    - It is an exit code, similar to what a script would produce\n",
    "    - To access it, look in the `$?` variable\n",
    "- The other option is to capture the output using command substitution\n",
    "```bash\n",
    "$(FUNCTION_NAME ARG1 ARG2)\n",
    "```"
   ]
  },
  {
   "cell_type": "code",
   "execution_count": null,
   "metadata": {
    "slideshow": {
     "slide_type": "slide"
    }
   },
   "outputs": [],
   "source": [
    "sum(){\n",
    "    sum=0\n",
    "    for num in $@; do\n",
    "        sum=$((sum + num))\n",
    "    done\n",
    "    return $sum\n",
    "}\n",
    "\n",
    "sum 1 2 3 4 5\n",
    "echo \"The sum is $?\""
   ]
  },
  {
   "cell_type": "code",
   "execution_count": null,
   "metadata": {
    "slideshow": {
     "slide_type": "slide"
    }
   },
   "outputs": [],
   "source": [
    "sum(){\n",
    "    sum=0\n",
    "    for num in $@; do\n",
    "        sum=$((sum + num))\n",
    "    done\n",
    "    echo $sum\n",
    "}\n",
    "\n",
    "total=$(sum 1 2 3 4 5)\n",
    "echo \"The sum is $total\""
   ]
  },
  {
   "cell_type": "code",
   "execution_count": null,
   "metadata": {
    "slideshow": {
     "slide_type": "slide"
    }
   },
   "outputs": [],
   "source": [
    "count_files_of_type2() {\n",
    "    /bin/ls -1 *.$1 | wc -l\n",
    "}\n",
    "echo \"There are $(count_files_of_type2 sh) .sh files\""
   ]
  },
  {
   "cell_type": "markdown",
   "metadata": {
    "slideshow": {
     "slide_type": "slide"
    }
   },
   "source": [
    "## Scope in `bash` Functions\n",
    "- `bash` doesn't have a default concept of variable scope except for the special variables `$1`, `$2`, etc.\n",
    "    - Everything is global by default\n",
    "- The keyword `local` before the assignment operator will ensure that the scope of the variable is only the function itself"
   ]
  },
  {
   "cell_type": "code",
   "execution_count": null,
   "metadata": {
    "slideshow": {
     "slide_type": "slide"
    }
   },
   "outputs": [],
   "source": [
    "x=1\n",
    "mess_up_the_scope(){\n",
    "    x=2\n",
    "}\n",
    "echo \"The value of x is $x\"\n",
    "mess_up_the_scope\n",
    "echo \"The value of x is $x\""
   ]
  },
  {
   "cell_type": "code",
   "execution_count": null,
   "metadata": {
    "slideshow": {
     "slide_type": "slide"
    }
   },
   "outputs": [],
   "source": [
    "x=1\n",
    "cant_mess_up_the_scope(){\n",
    "    local x=2\n",
    "}\n",
    "echo \"The value of x is $x\"\n",
    "cant_mess_up_the_scope\n",
    "echo \"The value of x is $x\""
   ]
  },
  {
   "cell_type": "code",
   "execution_count": null,
   "metadata": {
    "collapsed": true
   },
   "outputs": [],
   "source": []
  }
 ],
 "metadata": {
  "celltoolbar": "Slideshow",
  "kernelspec": {
   "display_name": "Bash",
   "language": "bash",
   "name": "bash"
  },
  "language_info": {
   "codemirror_mode": "shell",
   "file_extension": ".sh",
   "mimetype": "text/x-sh",
   "name": "bash"
  }
 },
 "nbformat": 4,
 "nbformat_minor": 2
}

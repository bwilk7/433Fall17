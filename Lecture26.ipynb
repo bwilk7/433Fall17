{
 "cells": [
  {
   "cell_type": "markdown",
   "metadata": {
    "slideshow": {
     "slide_type": "slide"
    }
   },
   "source": [
    "# Julia"
   ]
  },
  {
   "cell_type": "markdown",
   "metadata": {
    "slideshow": {
     "slide_type": "slide"
    }
   },
   "source": [
    "## What is <a href=\"https://julialang.org/\">Julia</a>?\n",
    "- First developed in 2012\n",
    "- Is a high-level numerical computing library\n",
    "    - Meant to be general purpose too\n",
    "- Inspired by Python, R, MATLAB, Java, C++, FORTRAN, LISP, ....\n",
    "    - Is a functional language underneath it all\n",
    "- Speed is a high priority\n",
    "- Has built-in support for distribution and parallelization"
   ]
  },
  {
   "cell_type": "markdown",
   "metadata": {
    "slideshow": {
     "slide_type": "slide"
    }
   },
   "source": [
    "## Technical Details\n",
    "- Code is compiled using JIT compilation \n",
    "    - Compiled to LLVM code (can be seen using the @code_llvm macro)\n",
    "- Types are very important, even if they are optional\n",
    "    - Functions are called using multiple-dispatch\n",
    "    - Think R style OOP on Steriods "
   ]
  },
  {
   "cell_type": "code",
   "execution_count": 1,
   "metadata": {
    "slideshow": {
     "slide_type": "slide"
    }
   },
   "outputs": [
    {
     "data": {
      "text/html": [
       "171 methods for generic function <b>+</b>:<ul><li> +(x::<b>Bool</b>) at <a href=\"https://github.com/JuliaLang/julia/tree/2ac304dfba75fad148d4070ef4f8a2e400c305bb/base/bool.jl#L33\" target=\"_blank\">bool.jl:33</a><li> +(x::<b>Bool</b>, y::<b>Bool</b>) at <a href=\"https://github.com/JuliaLang/julia/tree/2ac304dfba75fad148d4070ef4f8a2e400c305bb/base/bool.jl#L36\" target=\"_blank\">bool.jl:36</a><li> +(y::<b>AbstractFloat</b>, x::<b>Bool</b>) at <a href=\"https://github.com/JuliaLang/julia/tree/2ac304dfba75fad148d4070ef4f8a2e400c305bb/base/bool.jl#L46\" target=\"_blank\">bool.jl:46</a><li> +(x::<b>Int64</b>, y::<b>Int64</b>) at <a href=\"https://github.com/JuliaLang/julia/tree/2ac304dfba75fad148d4070ef4f8a2e400c305bb/base/int.jl#L8\" target=\"_blank\">int.jl:8</a><li> +(x::<b>Int8</b>, y::<b>Int8</b>) at <a href=\"https://github.com/JuliaLang/julia/tree/2ac304dfba75fad148d4070ef4f8a2e400c305bb/base/int.jl#L16\" target=\"_blank\">int.jl:16</a><li> +(x::<b>UInt8</b>, y::<b>UInt8</b>) at <a href=\"https://github.com/JuliaLang/julia/tree/2ac304dfba75fad148d4070ef4f8a2e400c305bb/base/int.jl#L16\" target=\"_blank\">int.jl:16</a><li> +(x::<b>Int16</b>, y::<b>Int16</b>) at <a href=\"https://github.com/JuliaLang/julia/tree/2ac304dfba75fad148d4070ef4f8a2e400c305bb/base/int.jl#L16\" target=\"_blank\">int.jl:16</a><li> +(x::<b>UInt16</b>, y::<b>UInt16</b>) at <a href=\"https://github.com/JuliaLang/julia/tree/2ac304dfba75fad148d4070ef4f8a2e400c305bb/base/int.jl#L16\" target=\"_blank\">int.jl:16</a><li> +(x::<b>Int32</b>, y::<b>Int32</b>) at <a href=\"https://github.com/JuliaLang/julia/tree/2ac304dfba75fad148d4070ef4f8a2e400c305bb/base/int.jl#L16\" target=\"_blank\">int.jl:16</a><li> +(x::<b>UInt32</b>, y::<b>UInt32</b>) at <a href=\"https://github.com/JuliaLang/julia/tree/2ac304dfba75fad148d4070ef4f8a2e400c305bb/base/int.jl#L16\" target=\"_blank\">int.jl:16</a><li> +(x::<b>UInt64</b>, y::<b>UInt64</b>) at <a href=\"https://github.com/JuliaLang/julia/tree/2ac304dfba75fad148d4070ef4f8a2e400c305bb/base/int.jl#L16\" target=\"_blank\">int.jl:16</a><li> +(x::<b>Int128</b>, y::<b>Int128</b>) at <a href=\"https://github.com/JuliaLang/julia/tree/2ac304dfba75fad148d4070ef4f8a2e400c305bb/base/int.jl#L16\" target=\"_blank\">int.jl:16</a><li> +(x::<b>UInt128</b>, y::<b>UInt128</b>) at <a href=\"https://github.com/JuliaLang/julia/tree/2ac304dfba75fad148d4070ef4f8a2e400c305bb/base/int.jl#L16\" target=\"_blank\">int.jl:16</a><li> +(x::<b>Integer</b>, y::<b>Ptr{T}</b>) at <a href=\"https://github.com/JuliaLang/julia/tree/2ac304dfba75fad148d4070ef4f8a2e400c305bb/base/pointer.jl#L77\" target=\"_blank\">pointer.jl:77</a><li> +(x::<b>Float32</b>, y::<b>Float32</b>) at <a href=\"https://github.com/JuliaLang/julia/tree/2ac304dfba75fad148d4070ef4f8a2e400c305bb/base/float.jl#L207\" target=\"_blank\">float.jl:207</a><li> +(x::<b>Float64</b>, y::<b>Float64</b>) at <a href=\"https://github.com/JuliaLang/julia/tree/2ac304dfba75fad148d4070ef4f8a2e400c305bb/base/float.jl#L208\" target=\"_blank\">float.jl:208</a><li> +(z::<b>Complex{T<:Real}</b>, w::<b>Complex{T<:Real}</b>) at <a href=\"https://github.com/JuliaLang/julia/tree/2ac304dfba75fad148d4070ef4f8a2e400c305bb/base/complex.jl#L111\" target=\"_blank\">complex.jl:111</a><li> +(x::<b>Bool</b>, z::<b>Complex{Bool}</b>) at <a href=\"https://github.com/JuliaLang/julia/tree/2ac304dfba75fad148d4070ef4f8a2e400c305bb/base/complex.jl#L118\" target=\"_blank\">complex.jl:118</a><li> +(z::<b>Complex{Bool}</b>, x::<b>Bool</b>) at <a href=\"https://github.com/JuliaLang/julia/tree/2ac304dfba75fad148d4070ef4f8a2e400c305bb/base/complex.jl#L119\" target=\"_blank\">complex.jl:119</a><li> +(x::<b>Bool</b>, z::<b>Complex{T<:Real}</b>) at <a href=\"https://github.com/JuliaLang/julia/tree/2ac304dfba75fad148d4070ef4f8a2e400c305bb/base/complex.jl#L125\" target=\"_blank\">complex.jl:125</a><li> +(z::<b>Complex{T<:Real}</b>, x::<b>Bool</b>) at <a href=\"https://github.com/JuliaLang/julia/tree/2ac304dfba75fad148d4070ef4f8a2e400c305bb/base/complex.jl#L126\" target=\"_blank\">complex.jl:126</a><li> +(x::<b>Real</b>, z::<b>Complex{Bool}</b>) at <a href=\"https://github.com/JuliaLang/julia/tree/2ac304dfba75fad148d4070ef4f8a2e400c305bb/base/complex.jl#L132\" target=\"_blank\">complex.jl:132</a><li> +(z::<b>Complex{Bool}</b>, x::<b>Real</b>) at <a href=\"https://github.com/JuliaLang/julia/tree/2ac304dfba75fad148d4070ef4f8a2e400c305bb/base/complex.jl#L133\" target=\"_blank\">complex.jl:133</a><li> +(x::<b>Real</b>, z::<b>Complex{T<:Real}</b>) at <a href=\"https://github.com/JuliaLang/julia/tree/2ac304dfba75fad148d4070ef4f8a2e400c305bb/base/complex.jl#L144\" target=\"_blank\">complex.jl:144</a><li> +(z::<b>Complex{T<:Real}</b>, x::<b>Real</b>) at <a href=\"https://github.com/JuliaLang/julia/tree/2ac304dfba75fad148d4070ef4f8a2e400c305bb/base/complex.jl#L145\" target=\"_blank\">complex.jl:145</a><li> +(x::<b>Rational{T<:Integer}</b>, y::<b>Rational{T<:Integer}</b>) at <a href=\"https://github.com/JuliaLang/julia/tree/2ac304dfba75fad148d4070ef4f8a2e400c305bb/base/rational.jl#L179\" target=\"_blank\">rational.jl:179</a><li> +(x::<b>Bool</b>, A::<b>AbstractArray{Bool,N}</b>) at <a href=\"https://github.com/JuliaLang/julia/tree/2ac304dfba75fad148d4070ef4f8a2e400c305bb/base/arraymath.jl#L136\" target=\"_blank\">arraymath.jl:136</a><li> +(x::<b>Integer</b>, y::<b>Char</b>) at <a href=\"https://github.com/JuliaLang/julia/tree/2ac304dfba75fad148d4070ef4f8a2e400c305bb/base/char.jl#L43\" target=\"_blank\">char.jl:43</a><li> +(a::<b>Float16</b>, b::<b>Float16</b>) at <a href=\"https://github.com/JuliaLang/julia/tree/2ac304dfba75fad148d4070ef4f8a2e400c305bb/base/float16.jl#L136\" target=\"_blank\">float16.jl:136</a><li> +(x::<b>BigInt</b>, y::<b>BigInt</b>) at <a href=\"https://github.com/JuliaLang/julia/tree/2ac304dfba75fad148d4070ef4f8a2e400c305bb/base/gmp.jl#L256\" target=\"_blank\">gmp.jl:256</a><li> +(a::<b>BigInt</b>, b::<b>BigInt</b>, c::<b>BigInt</b>) at <a href=\"https://github.com/JuliaLang/julia/tree/2ac304dfba75fad148d4070ef4f8a2e400c305bb/base/gmp.jl#L279\" target=\"_blank\">gmp.jl:279</a><li> +(a::<b>BigInt</b>, b::<b>BigInt</b>, c::<b>BigInt</b>, d::<b>BigInt</b>) at <a href=\"https://github.com/JuliaLang/julia/tree/2ac304dfba75fad148d4070ef4f8a2e400c305bb/base/gmp.jl#L285\" target=\"_blank\">gmp.jl:285</a><li> +(a::<b>BigInt</b>, b::<b>BigInt</b>, c::<b>BigInt</b>, d::<b>BigInt</b>, e::<b>BigInt</b>) at <a href=\"https://github.com/JuliaLang/julia/tree/2ac304dfba75fad148d4070ef4f8a2e400c305bb/base/gmp.jl#L292\" target=\"_blank\">gmp.jl:292</a><li> +(x::<b>BigInt</b>, c::<b>Union{UInt16,UInt32,UInt64,UInt8}</b>) at <a href=\"https://github.com/JuliaLang/julia/tree/2ac304dfba75fad148d4070ef4f8a2e400c305bb/base/gmp.jl#L304\" target=\"_blank\">gmp.jl:304</a><li> +(c::<b>Union{UInt16,UInt32,UInt64,UInt8}</b>, x::<b>BigInt</b>) at <a href=\"https://github.com/JuliaLang/julia/tree/2ac304dfba75fad148d4070ef4f8a2e400c305bb/base/gmp.jl#L308\" target=\"_blank\">gmp.jl:308</a><li> +(x::<b>BigInt</b>, c::<b>Union{Int16,Int32,Int64,Int8}</b>) at <a href=\"https://github.com/JuliaLang/julia/tree/2ac304dfba75fad148d4070ef4f8a2e400c305bb/base/gmp.jl#L320\" target=\"_blank\">gmp.jl:320</a><li> +(c::<b>Union{Int16,Int32,Int64,Int8}</b>, x::<b>BigInt</b>) at <a href=\"https://github.com/JuliaLang/julia/tree/2ac304dfba75fad148d4070ef4f8a2e400c305bb/base/gmp.jl#L321\" target=\"_blank\">gmp.jl:321</a><li> +(x::<b>BigFloat</b>, y::<b>BigFloat</b>) at <a href=\"https://github.com/JuliaLang/julia/tree/2ac304dfba75fad148d4070ef4f8a2e400c305bb/base/mpfr.jl#L208\" target=\"_blank\">mpfr.jl:208</a><li> +(x::<b>BigFloat</b>, c::<b>Union{UInt16,UInt32,UInt64,UInt8}</b>) at <a href=\"https://github.com/JuliaLang/julia/tree/2ac304dfba75fad148d4070ef4f8a2e400c305bb/base/mpfr.jl#L215\" target=\"_blank\">mpfr.jl:215</a><li> +(c::<b>Union{UInt16,UInt32,UInt64,UInt8}</b>, x::<b>BigFloat</b>) at <a href=\"https://github.com/JuliaLang/julia/tree/2ac304dfba75fad148d4070ef4f8a2e400c305bb/base/mpfr.jl#L219\" target=\"_blank\">mpfr.jl:219</a><li> +(x::<b>BigFloat</b>, c::<b>Union{Int16,Int32,Int64,Int8}</b>) at <a href=\"https://github.com/JuliaLang/julia/tree/2ac304dfba75fad148d4070ef4f8a2e400c305bb/base/mpfr.jl#L223\" target=\"_blank\">mpfr.jl:223</a><li> +(c::<b>Union{Int16,Int32,Int64,Int8}</b>, x::<b>BigFloat</b>) at <a href=\"https://github.com/JuliaLang/julia/tree/2ac304dfba75fad148d4070ef4f8a2e400c305bb/base/mpfr.jl#L227\" target=\"_blank\">mpfr.jl:227</a><li> +(x::<b>BigFloat</b>, c::<b>Union{Float16,Float32,Float64}</b>) at <a href=\"https://github.com/JuliaLang/julia/tree/2ac304dfba75fad148d4070ef4f8a2e400c305bb/base/mpfr.jl#L231\" target=\"_blank\">mpfr.jl:231</a><li> +(c::<b>Union{Float16,Float32,Float64}</b>, x::<b>BigFloat</b>) at <a href=\"https://github.com/JuliaLang/julia/tree/2ac304dfba75fad148d4070ef4f8a2e400c305bb/base/mpfr.jl#L235\" target=\"_blank\">mpfr.jl:235</a><li> +(x::<b>BigFloat</b>, c::<b>BigInt</b>) at <a href=\"https://github.com/JuliaLang/julia/tree/2ac304dfba75fad148d4070ef4f8a2e400c305bb/base/mpfr.jl#L239\" target=\"_blank\">mpfr.jl:239</a><li> +(c::<b>BigInt</b>, x::<b>BigFloat</b>) at <a href=\"https://github.com/JuliaLang/julia/tree/2ac304dfba75fad148d4070ef4f8a2e400c305bb/base/mpfr.jl#L243\" target=\"_blank\">mpfr.jl:243</a><li> +(a::<b>BigFloat</b>, b::<b>BigFloat</b>, c::<b>BigFloat</b>) at <a href=\"https://github.com/JuliaLang/julia/tree/2ac304dfba75fad148d4070ef4f8a2e400c305bb/base/mpfr.jl#L379\" target=\"_blank\">mpfr.jl:379</a><li> +(a::<b>BigFloat</b>, b::<b>BigFloat</b>, c::<b>BigFloat</b>, d::<b>BigFloat</b>) at <a href=\"https://github.com/JuliaLang/julia/tree/2ac304dfba75fad148d4070ef4f8a2e400c305bb/base/mpfr.jl#L385\" target=\"_blank\">mpfr.jl:385</a><li> +(a::<b>BigFloat</b>, b::<b>BigFloat</b>, c::<b>BigFloat</b>, d::<b>BigFloat</b>, e::<b>BigFloat</b>) at <a href=\"https://github.com/JuliaLang/julia/tree/2ac304dfba75fad148d4070ef4f8a2e400c305bb/base/mpfr.jl#L392\" target=\"_blank\">mpfr.jl:392</a><li> +(x::<b>Irrational{sym}</b>, y::<b>Irrational{sym}</b>) at <a href=\"https://github.com/JuliaLang/julia/tree/2ac304dfba75fad148d4070ef4f8a2e400c305bb/base/irrationals.jl#L72\" target=\"_blank\">irrationals.jl:72</a><li> +(x::<b>Number</b>) at <a href=\"https://github.com/JuliaLang/julia/tree/2ac304dfba75fad148d4070ef4f8a2e400c305bb/base/operators.jl#L73\" target=\"_blank\">operators.jl:73</a><li> +<i>{T<:Number}</i>(x::<b>T<:Number</b>, y::<b>T<:Number</b>) at <a href=\"https://github.com/JuliaLang/julia/tree/2ac304dfba75fad148d4070ef4f8a2e400c305bb/base/promotion.jl#L211\" target=\"_blank\">promotion.jl:211</a><li> +<i>{T<:AbstractFloat}</i>(x::<b>Bool</b>, y::<b>T<:AbstractFloat</b>) at <a href=\"https://github.com/JuliaLang/julia/tree/2ac304dfba75fad148d4070ef4f8a2e400c305bb/base/bool.jl#L43\" target=\"_blank\">bool.jl:43</a><li> +(x::<b>Number</b>, y::<b>Number</b>) at <a href=\"https://github.com/JuliaLang/julia/tree/2ac304dfba75fad148d4070ef4f8a2e400c305bb/base/promotion.jl#L167\" target=\"_blank\">promotion.jl:167</a><li> +(r1::<b>OrdinalRange{T,S}</b>, r2::<b>OrdinalRange{T,S}</b>) at <a href=\"https://github.com/JuliaLang/julia/tree/2ac304dfba75fad148d4070ef4f8a2e400c305bb/base/operators.jl#L330\" target=\"_blank\">operators.jl:330</a><li> +<i>{T<:AbstractFloat}</i>(r1::<b>FloatRange{T<:AbstractFloat}</b>, r2::<b>FloatRange{T<:AbstractFloat}</b>) at <a href=\"https://github.com/JuliaLang/julia/tree/2ac304dfba75fad148d4070ef4f8a2e400c305bb/base/operators.jl#L337\" target=\"_blank\">operators.jl:337</a><li> +<i>{T<:AbstractFloat}</i>(r1::<b>LinSpace{T<:AbstractFloat}</b>, r2::<b>LinSpace{T<:AbstractFloat}</b>) at <a href=\"https://github.com/JuliaLang/julia/tree/2ac304dfba75fad148d4070ef4f8a2e400c305bb/base/operators.jl#L356\" target=\"_blank\">operators.jl:356</a><li> +(r1::<b>Union{FloatRange{T<:AbstractFloat},LinSpace{T<:AbstractFloat},OrdinalRange{T,S}}</b>, r2::<b>Union{FloatRange{T<:AbstractFloat},LinSpace{T<:AbstractFloat},OrdinalRange{T,S}}</b>) at <a href=\"https://github.com/JuliaLang/julia/tree/2ac304dfba75fad148d4070ef4f8a2e400c305bb/base/operators.jl#L369\" target=\"_blank\">operators.jl:369</a><li> +(x::<b>Ptr{T}</b>, y::<b>Integer</b>) at <a href=\"https://github.com/JuliaLang/julia/tree/2ac304dfba75fad148d4070ef4f8a2e400c305bb/base/pointer.jl#L75\" target=\"_blank\">pointer.jl:75</a><li> +<i>{S,T}</i>(A::<b>Range{S}</b>, B::<b>Range{T}</b>) at <a href=\"https://github.com/JuliaLang/julia/tree/2ac304dfba75fad148d4070ef4f8a2e400c305bb/base/arraymath.jl#L69\" target=\"_blank\">arraymath.jl:69</a><li> +<i>{S,T}</i>(A::<b>Range{S}</b>, B::<b>AbstractArray{T,N}</b>) at <a href=\"https://github.com/JuliaLang/julia/tree/2ac304dfba75fad148d4070ef4f8a2e400c305bb/base/arraymath.jl#L87\" target=\"_blank\">arraymath.jl:87</a><li> +(A::<b>BitArray{N}</b>, B::<b>BitArray{N}</b>) at <a href=\"https://github.com/JuliaLang/julia/tree/2ac304dfba75fad148d4070ef4f8a2e400c305bb/base/bitarray.jl#L834\" target=\"_blank\">bitarray.jl:834</a><li> +<i>{T}</i>(B::<b>BitArray{2}</b>, J::<b>UniformScaling{T}</b>) at <a href=\"https://github.com/JuliaLang/julia/tree/2ac304dfba75fad148d4070ef4f8a2e400c305bb/base/linalg/uniformscaling.jl#L28\" target=\"_blank\">linalg/uniformscaling.jl:28</a><li> +(A::<b>Array{T,2}</b>, B::<b>Diagonal{T}</b>) at <a href=\"https://github.com/JuliaLang/julia/tree/2ac304dfba75fad148d4070ef4f8a2e400c305bb/base/linalg/special.jl#L122\" target=\"_blank\">linalg/special.jl:122</a><li> +(A::<b>Array{T,2}</b>, B::<b>Bidiagonal{T}</b>) at <a href=\"https://github.com/JuliaLang/julia/tree/2ac304dfba75fad148d4070ef4f8a2e400c305bb/base/linalg/special.jl#L122\" target=\"_blank\">linalg/special.jl:122</a><li> +(A::<b>Array{T,2}</b>, B::<b>Tridiagonal{T}</b>) at <a href=\"https://github.com/JuliaLang/julia/tree/2ac304dfba75fad148d4070ef4f8a2e400c305bb/base/linalg/special.jl#L122\" target=\"_blank\">linalg/special.jl:122</a><li> +(A::<b>Array{T,2}</b>, B::<b>SymTridiagonal{T}</b>) at <a href=\"https://github.com/JuliaLang/julia/tree/2ac304dfba75fad148d4070ef4f8a2e400c305bb/base/linalg/special.jl#L131\" target=\"_blank\">linalg/special.jl:131</a><li> +(A::<b>Array{T,2}</b>, B::<b>Base.LinAlg.AbstractTriangular{T,S<:AbstractArray{T,2}}</b>) at <a href=\"https://github.com/JuliaLang/julia/tree/2ac304dfba75fad148d4070ef4f8a2e400c305bb/base/linalg/special.jl#L159\" target=\"_blank\">linalg/special.jl:159</a><li> +(A::<b>Array{T,N}</b>, B::<b>SparseMatrixCSC{Tv,Ti<:Integer}</b>) at <a href=\"https://github.com/JuliaLang/julia/tree/2ac304dfba75fad148d4070ef4f8a2e400c305bb/base/sparse/sparsematrix.jl#L1019\" target=\"_blank\">sparse/sparsematrix.jl:1019</a><li> +<i>{P<:Union{Base.Dates.CompoundPeriod,Base.Dates.Period}}</i>(x::<b>Union{DenseArray{P<:Union{Base.Dates.CompoundPeriod,Base.Dates.Period},N},SubArray{P<:Union{Base.Dates.CompoundPeriod,Base.Dates.Period},N,A<:DenseArray{T,N},I<:Tuple{Vararg{Union{Colon,Int64,Range{Int64}}}},LD}}</b>) at <a href=\"https://github.com/JuliaLang/julia/tree/2ac304dfba75fad148d4070ef4f8a2e400c305bb/base/dates/periods.jl#L202\" target=\"_blank\">dates/periods.jl:202</a><li> +(A::<b>AbstractArray{Bool,N}</b>, x::<b>Bool</b>) at <a href=\"https://github.com/JuliaLang/julia/tree/2ac304dfba75fad148d4070ef4f8a2e400c305bb/base/arraymath.jl#L135\" target=\"_blank\">arraymath.jl:135</a><li> +(A::<b>Union{DenseArray{Bool,N},SubArray{Bool,N,A<:DenseArray{T,N},I<:Tuple{Vararg{Union{Colon,Int64,Range{Int64}}}},LD}}</b>, B::<b>Union{DenseArray{Bool,N},SubArray{Bool,N,A<:DenseArray{T,N},I<:Tuple{Vararg{Union{Colon,Int64,Range{Int64}}}},LD}}</b>) at <a href=\"https://github.com/JuliaLang/julia/tree/2ac304dfba75fad148d4070ef4f8a2e400c305bb/base/arraymath.jl#L166\" target=\"_blank\">arraymath.jl:166</a><li> +(A::<b>SymTridiagonal{T}</b>, B::<b>SymTridiagonal{T}</b>) at <a href=\"https://github.com/JuliaLang/julia/tree/2ac304dfba75fad148d4070ef4f8a2e400c305bb/base/linalg/tridiag.jl#L84\" target=\"_blank\">linalg/tridiag.jl:84</a><li> +(A::<b>Tridiagonal{T}</b>, B::<b>Tridiagonal{T}</b>) at <a href=\"https://github.com/JuliaLang/julia/tree/2ac304dfba75fad148d4070ef4f8a2e400c305bb/base/linalg/tridiag.jl#L404\" target=\"_blank\">linalg/tridiag.jl:404</a><li> +(A::<b>UpperTriangular{T,S<:AbstractArray{T,2}}</b>, B::<b>UpperTriangular{T,S<:AbstractArray{T,2}}</b>) at <a href=\"https://github.com/JuliaLang/julia/tree/2ac304dfba75fad148d4070ef4f8a2e400c305bb/base/linalg/triangular.jl#L347\" target=\"_blank\">linalg/triangular.jl:347</a><li> +(A::<b>LowerTriangular{T,S<:AbstractArray{T,2}}</b>, B::<b>LowerTriangular{T,S<:AbstractArray{T,2}}</b>) at <a href=\"https://github.com/JuliaLang/julia/tree/2ac304dfba75fad148d4070ef4f8a2e400c305bb/base/linalg/triangular.jl#L348\" target=\"_blank\">linalg/triangular.jl:348</a><li> +(A::<b>UpperTriangular{T,S<:AbstractArray{T,2}}</b>, B::<b>Base.LinAlg.UnitUpperTriangular{T,S<:AbstractArray{T,2}}</b>) at <a href=\"https://github.com/JuliaLang/julia/tree/2ac304dfba75fad148d4070ef4f8a2e400c305bb/base/linalg/triangular.jl#L349\" target=\"_blank\">linalg/triangular.jl:349</a><li> +(A::<b>LowerTriangular{T,S<:AbstractArray{T,2}}</b>, B::<b>Base.LinAlg.UnitLowerTriangular{T,S<:AbstractArray{T,2}}</b>) at <a href=\"https://github.com/JuliaLang/julia/tree/2ac304dfba75fad148d4070ef4f8a2e400c305bb/base/linalg/triangular.jl#L350\" target=\"_blank\">linalg/triangular.jl:350</a><li> +(A::<b>Base.LinAlg.UnitUpperTriangular{T,S<:AbstractArray{T,2}}</b>, B::<b>UpperTriangular{T,S<:AbstractArray{T,2}}</b>) at <a href=\"https://github.com/JuliaLang/julia/tree/2ac304dfba75fad148d4070ef4f8a2e400c305bb/base/linalg/triangular.jl#L351\" target=\"_blank\">linalg/triangular.jl:351</a><li> +(A::<b>Base.LinAlg.UnitLowerTriangular{T,S<:AbstractArray{T,2}}</b>, B::<b>LowerTriangular{T,S<:AbstractArray{T,2}}</b>) at <a href=\"https://github.com/JuliaLang/julia/tree/2ac304dfba75fad148d4070ef4f8a2e400c305bb/base/linalg/triangular.jl#L352\" target=\"_blank\">linalg/triangular.jl:352</a><li> +(A::<b>Base.LinAlg.UnitUpperTriangular{T,S<:AbstractArray{T,2}}</b>, B::<b>Base.LinAlg.UnitUpperTriangular{T,S<:AbstractArray{T,2}}</b>) at <a href=\"https://github.com/JuliaLang/julia/tree/2ac304dfba75fad148d4070ef4f8a2e400c305bb/base/linalg/triangular.jl#L353\" target=\"_blank\">linalg/triangular.jl:353</a><li> +(A::<b>Base.LinAlg.UnitLowerTriangular{T,S<:AbstractArray{T,2}}</b>, B::<b>Base.LinAlg.UnitLowerTriangular{T,S<:AbstractArray{T,2}}</b>) at <a href=\"https://github.com/JuliaLang/julia/tree/2ac304dfba75fad148d4070ef4f8a2e400c305bb/base/linalg/triangular.jl#L354\" target=\"_blank\">linalg/triangular.jl:354</a><li> +(A::<b>Base.LinAlg.AbstractTriangular{T,S<:AbstractArray{T,2}}</b>, B::<b>Base.LinAlg.AbstractTriangular{T,S<:AbstractArray{T,2}}</b>) at <a href=\"https://github.com/JuliaLang/julia/tree/2ac304dfba75fad148d4070ef4f8a2e400c305bb/base/linalg/triangular.jl#L355\" target=\"_blank\">linalg/triangular.jl:355</a><li> +(Da::<b>Diagonal{T}</b>, Db::<b>Diagonal{T}</b>) at <a href=\"https://github.com/JuliaLang/julia/tree/2ac304dfba75fad148d4070ef4f8a2e400c305bb/base/linalg/diagonal.jl#L86\" target=\"_blank\">linalg/diagonal.jl:86</a><li> +(A::<b>Bidiagonal{T}</b>, B::<b>Bidiagonal{T}</b>) at <a href=\"https://github.com/JuliaLang/julia/tree/2ac304dfba75fad148d4070ef4f8a2e400c305bb/base/linalg/bidiag.jl#L176\" target=\"_blank\">linalg/bidiag.jl:176</a><li> +(UL::<b>UpperTriangular{T,S<:AbstractArray{T,2}}</b>, J::<b>UniformScaling{T<:Number}</b>) at <a href=\"https://github.com/JuliaLang/julia/tree/2ac304dfba75fad148d4070ef4f8a2e400c305bb/base/linalg/uniformscaling.jl#L45\" target=\"_blank\">linalg/uniformscaling.jl:45</a><li> +(UL::<b>Base.LinAlg.UnitUpperTriangular{T,S<:AbstractArray{T,2}}</b>, J::<b>UniformScaling{T<:Number}</b>) at <a href=\"https://github.com/JuliaLang/julia/tree/2ac304dfba75fad148d4070ef4f8a2e400c305bb/base/linalg/uniformscaling.jl#L48\" target=\"_blank\">linalg/uniformscaling.jl:48</a><li> +(UL::<b>LowerTriangular{T,S<:AbstractArray{T,2}}</b>, J::<b>UniformScaling{T<:Number}</b>) at <a href=\"https://github.com/JuliaLang/julia/tree/2ac304dfba75fad148d4070ef4f8a2e400c305bb/base/linalg/uniformscaling.jl#L45\" target=\"_blank\">linalg/uniformscaling.jl:45</a><li> +(UL::<b>Base.LinAlg.UnitLowerTriangular{T,S<:AbstractArray{T,2}}</b>, J::<b>UniformScaling{T<:Number}</b>) at <a href=\"https://github.com/JuliaLang/julia/tree/2ac304dfba75fad148d4070ef4f8a2e400c305bb/base/linalg/uniformscaling.jl#L48\" target=\"_blank\">linalg/uniformscaling.jl:48</a><li> +(A::<b>Diagonal{T}</b>, B::<b>Bidiagonal{T}</b>) at <a href=\"https://github.com/JuliaLang/julia/tree/2ac304dfba75fad148d4070ef4f8a2e400c305bb/base/linalg/special.jl#L121\" target=\"_blank\">linalg/special.jl:121</a><li> +(A::<b>Bidiagonal{T}</b>, B::<b>Diagonal{T}</b>) at <a href=\"https://github.com/JuliaLang/julia/tree/2ac304dfba75fad148d4070ef4f8a2e400c305bb/base/linalg/special.jl#L122\" target=\"_blank\">linalg/special.jl:122</a><li> +(A::<b>Diagonal{T}</b>, B::<b>Tridiagonal{T}</b>) at <a href=\"https://github.com/JuliaLang/julia/tree/2ac304dfba75fad148d4070ef4f8a2e400c305bb/base/linalg/special.jl#L121\" target=\"_blank\">linalg/special.jl:121</a><li> +(A::<b>Tridiagonal{T}</b>, B::<b>Diagonal{T}</b>) at <a href=\"https://github.com/JuliaLang/julia/tree/2ac304dfba75fad148d4070ef4f8a2e400c305bb/base/linalg/special.jl#L122\" target=\"_blank\">linalg/special.jl:122</a><li> +(A::<b>Diagonal{T}</b>, B::<b>Array{T,2}</b>) at <a href=\"https://github.com/JuliaLang/julia/tree/2ac304dfba75fad148d4070ef4f8a2e400c305bb/base/linalg/special.jl#L121\" target=\"_blank\">linalg/special.jl:121</a><li> +(A::<b>Bidiagonal{T}</b>, B::<b>Tridiagonal{T}</b>) at <a href=\"https://github.com/JuliaLang/julia/tree/2ac304dfba75fad148d4070ef4f8a2e400c305bb/base/linalg/special.jl#L121\" target=\"_blank\">linalg/special.jl:121</a><li> +(A::<b>Tridiagonal{T}</b>, B::<b>Bidiagonal{T}</b>) at <a href=\"https://github.com/JuliaLang/julia/tree/2ac304dfba75fad148d4070ef4f8a2e400c305bb/base/linalg/special.jl#L122\" target=\"_blank\">linalg/special.jl:122</a><li> +(A::<b>Bidiagonal{T}</b>, B::<b>Array{T,2}</b>) at <a href=\"https://github.com/JuliaLang/julia/tree/2ac304dfba75fad148d4070ef4f8a2e400c305bb/base/linalg/special.jl#L121\" target=\"_blank\">linalg/special.jl:121</a><li> +(A::<b>Tridiagonal{T}</b>, B::<b>Array{T,2}</b>) at <a href=\"https://github.com/JuliaLang/julia/tree/2ac304dfba75fad148d4070ef4f8a2e400c305bb/base/linalg/special.jl#L121\" target=\"_blank\">linalg/special.jl:121</a><li> +(A::<b>SymTridiagonal{T}</b>, B::<b>Tridiagonal{T}</b>) at <a href=\"https://github.com/JuliaLang/julia/tree/2ac304dfba75fad148d4070ef4f8a2e400c305bb/base/linalg/special.jl#L130\" target=\"_blank\">linalg/special.jl:130</a><li> +(A::<b>Tridiagonal{T}</b>, B::<b>SymTridiagonal{T}</b>) at <a href=\"https://github.com/JuliaLang/julia/tree/2ac304dfba75fad148d4070ef4f8a2e400c305bb/base/linalg/special.jl#L131\" target=\"_blank\">linalg/special.jl:131</a><li> +(A::<b>SymTridiagonal{T}</b>, B::<b>Array{T,2}</b>) at <a href=\"https://github.com/JuliaLang/julia/tree/2ac304dfba75fad148d4070ef4f8a2e400c305bb/base/linalg/special.jl#L130\" target=\"_blank\">linalg/special.jl:130</a><li> +(A::<b>Diagonal{T}</b>, B::<b>SymTridiagonal{T}</b>) at <a href=\"https://github.com/JuliaLang/julia/tree/2ac304dfba75fad148d4070ef4f8a2e400c305bb/base/linalg/special.jl#L139\" target=\"_blank\">linalg/special.jl:139</a><li> +(A::<b>SymTridiagonal{T}</b>, B::<b>Diagonal{T}</b>) at <a href=\"https://github.com/JuliaLang/julia/tree/2ac304dfba75fad148d4070ef4f8a2e400c305bb/base/linalg/special.jl#L140\" target=\"_blank\">linalg/special.jl:140</a><li> +(A::<b>Bidiagonal{T}</b>, B::<b>SymTridiagonal{T}</b>) at <a href=\"https://github.com/JuliaLang/julia/tree/2ac304dfba75fad148d4070ef4f8a2e400c305bb/base/linalg/special.jl#L139\" target=\"_blank\">linalg/special.jl:139</a><li> +(A::<b>SymTridiagonal{T}</b>, B::<b>Bidiagonal{T}</b>) at <a href=\"https://github.com/JuliaLang/julia/tree/2ac304dfba75fad148d4070ef4f8a2e400c305bb/base/linalg/special.jl#L140\" target=\"_blank\">linalg/special.jl:140</a><li> +(A::<b>Diagonal{T}</b>, B::<b>UpperTriangular{T,S<:AbstractArray{T,2}}</b>) at <a href=\"https://github.com/JuliaLang/julia/tree/2ac304dfba75fad148d4070ef4f8a2e400c305bb/base/linalg/special.jl#L151\" target=\"_blank\">linalg/special.jl:151</a><li> +(A::<b>UpperTriangular{T,S<:AbstractArray{T,2}}</b>, B::<b>Diagonal{T}</b>) at <a href=\"https://github.com/JuliaLang/julia/tree/2ac304dfba75fad148d4070ef4f8a2e400c305bb/base/linalg/special.jl#L152\" target=\"_blank\">linalg/special.jl:152</a><li> +(A::<b>Diagonal{T}</b>, B::<b>Base.LinAlg.UnitUpperTriangular{T,S<:AbstractArray{T,2}}</b>) at <a href=\"https://github.com/JuliaLang/julia/tree/2ac304dfba75fad148d4070ef4f8a2e400c305bb/base/linalg/special.jl#L151\" target=\"_blank\">linalg/special.jl:151</a><li> +(A::<b>Base.LinAlg.UnitUpperTriangular{T,S<:AbstractArray{T,2}}</b>, B::<b>Diagonal{T}</b>) at <a href=\"https://github.com/JuliaLang/julia/tree/2ac304dfba75fad148d4070ef4f8a2e400c305bb/base/linalg/special.jl#L152\" target=\"_blank\">linalg/special.jl:152</a><li> +(A::<b>Diagonal{T}</b>, B::<b>LowerTriangular{T,S<:AbstractArray{T,2}}</b>) at <a href=\"https://github.com/JuliaLang/julia/tree/2ac304dfba75fad148d4070ef4f8a2e400c305bb/base/linalg/special.jl#L151\" target=\"_blank\">linalg/special.jl:151</a><li> +(A::<b>LowerTriangular{T,S<:AbstractArray{T,2}}</b>, B::<b>Diagonal{T}</b>) at <a href=\"https://github.com/JuliaLang/julia/tree/2ac304dfba75fad148d4070ef4f8a2e400c305bb/base/linalg/special.jl#L152\" target=\"_blank\">linalg/special.jl:152</a><li> +(A::<b>Diagonal{T}</b>, B::<b>Base.LinAlg.UnitLowerTriangular{T,S<:AbstractArray{T,2}}</b>) at <a href=\"https://github.com/JuliaLang/julia/tree/2ac304dfba75fad148d4070ef4f8a2e400c305bb/base/linalg/special.jl#L151\" target=\"_blank\">linalg/special.jl:151</a><li> +(A::<b>Base.LinAlg.UnitLowerTriangular{T,S<:AbstractArray{T,2}}</b>, B::<b>Diagonal{T}</b>) at <a href=\"https://github.com/JuliaLang/julia/tree/2ac304dfba75fad148d4070ef4f8a2e400c305bb/base/linalg/special.jl#L152\" target=\"_blank\">linalg/special.jl:152</a><li> +(A::<b>Base.LinAlg.AbstractTriangular{T,S<:AbstractArray{T,2}}</b>, B::<b>SymTridiagonal{T}</b>) at <a href=\"https://github.com/JuliaLang/julia/tree/2ac304dfba75fad148d4070ef4f8a2e400c305bb/base/linalg/special.jl#L158\" target=\"_blank\">linalg/special.jl:158</a><li> +(A::<b>SymTridiagonal{T}</b>, B::<b>Base.LinAlg.AbstractTriangular{T,S<:AbstractArray{T,2}}</b>) at <a href=\"https://github.com/JuliaLang/julia/tree/2ac304dfba75fad148d4070ef4f8a2e400c305bb/base/linalg/special.jl#L159\" target=\"_blank\">linalg/special.jl:159</a><li> +(A::<b>Base.LinAlg.AbstractTriangular{T,S<:AbstractArray{T,2}}</b>, B::<b>Tridiagonal{T}</b>) at <a href=\"https://github.com/JuliaLang/julia/tree/2ac304dfba75fad148d4070ef4f8a2e400c305bb/base/linalg/special.jl#L158\" target=\"_blank\">linalg/special.jl:158</a><li> +(A::<b>Tridiagonal{T}</b>, B::<b>Base.LinAlg.AbstractTriangular{T,S<:AbstractArray{T,2}}</b>) at <a href=\"https://github.com/JuliaLang/julia/tree/2ac304dfba75fad148d4070ef4f8a2e400c305bb/base/linalg/special.jl#L159\" target=\"_blank\">linalg/special.jl:159</a><li> +(A::<b>Base.LinAlg.AbstractTriangular{T,S<:AbstractArray{T,2}}</b>, B::<b>Bidiagonal{T}</b>) at <a href=\"https://github.com/JuliaLang/julia/tree/2ac304dfba75fad148d4070ef4f8a2e400c305bb/base/linalg/special.jl#L158\" target=\"_blank\">linalg/special.jl:158</a><li> +(A::<b>Bidiagonal{T}</b>, B::<b>Base.LinAlg.AbstractTriangular{T,S<:AbstractArray{T,2}}</b>) at <a href=\"https://github.com/JuliaLang/julia/tree/2ac304dfba75fad148d4070ef4f8a2e400c305bb/base/linalg/special.jl#L159\" target=\"_blank\">linalg/special.jl:159</a><li> +(A::<b>Base.LinAlg.AbstractTriangular{T,S<:AbstractArray{T,2}}</b>, B::<b>Array{T,2}</b>) at <a href=\"https://github.com/JuliaLang/julia/tree/2ac304dfba75fad148d4070ef4f8a2e400c305bb/base/linalg/special.jl#L158\" target=\"_blank\">linalg/special.jl:158</a><li> +<i>{Tv1,Ti1,Tv2,Ti2}</i>(A_1::<b>SparseMatrixCSC{Tv1,Ti1}</b>, A_2::<b>SparseMatrixCSC{Tv2,Ti2}</b>) at <a href=\"https://github.com/JuliaLang/julia/tree/2ac304dfba75fad148d4070ef4f8a2e400c305bb/base/sparse/sparsematrix.jl#L1005\" target=\"_blank\">sparse/sparsematrix.jl:1005</a><li> +(A::<b>SparseMatrixCSC{Tv,Ti<:Integer}</b>, B::<b>Array{T,N}</b>) at <a href=\"https://github.com/JuliaLang/julia/tree/2ac304dfba75fad148d4070ef4f8a2e400c305bb/base/sparse/sparsematrix.jl#L1017\" target=\"_blank\">sparse/sparsematrix.jl:1017</a><li> +(A::<b>SparseMatrixCSC{Tv,Ti<:Integer}</b>, J::<b>UniformScaling{T<:Number}</b>) at <a href=\"https://github.com/JuliaLang/julia/tree/2ac304dfba75fad148d4070ef4f8a2e400c305bb/base/sparse/sparsematrix.jl#L2988\" target=\"_blank\">sparse/sparsematrix.jl:2988</a><li> +<i>{P<:Union{Base.Dates.CompoundPeriod,Base.Dates.Period}}</i>(Y::<b>Union{DenseArray{P<:Union{Base.Dates.CompoundPeriod,Base.Dates.Period},N},SubArray{P<:Union{Base.Dates.CompoundPeriod,Base.Dates.Period},N,A<:DenseArray{T,N},I<:Tuple{Vararg{Union{Colon,Int64,Range{Int64}}}},LD}}</b>, x::<b>Union{Base.Dates.CompoundPeriod,Base.Dates.Period}</b>) at <a href=\"https://github.com/JuliaLang/julia/tree/2ac304dfba75fad148d4070ef4f8a2e400c305bb/base/dates/periods.jl#L216\" target=\"_blank\">dates/periods.jl:216</a><li> +<i>{P<:Union{Base.Dates.CompoundPeriod,Base.Dates.Period},Q<:Union{Base.Dates.CompoundPeriod,Base.Dates.Period}}</i>(X::<b>Union{DenseArray{P<:Union{Base.Dates.CompoundPeriod,Base.Dates.Period},N},SubArray{P<:Union{Base.Dates.CompoundPeriod,Base.Dates.Period},N,A<:DenseArray{T,N},I<:Tuple{Vararg{Union{Colon,Int64,Range{Int64}}}},LD}}</b>, Y::<b>Union{DenseArray{Q<:Union{Base.Dates.CompoundPeriod,Base.Dates.Period},N},SubArray{Q<:Union{Base.Dates.CompoundPeriod,Base.Dates.Period},N,A<:DenseArray{T,N},I<:Tuple{Vararg{Union{Colon,Int64,Range{Int64}}}},LD}}</b>) at <a href=\"https://github.com/JuliaLang/julia/tree/2ac304dfba75fad148d4070ef4f8a2e400c305bb/base/dates/periods.jl#L217\" target=\"_blank\">dates/periods.jl:217</a><li> +<i>{T<:Base.Dates.TimeType,P<:Union{Base.Dates.CompoundPeriod,Base.Dates.Period}}</i>(x::<b>Union{DenseArray{P<:Union{Base.Dates.CompoundPeriod,Base.Dates.Period},N},SubArray{P<:Union{Base.Dates.CompoundPeriod,Base.Dates.Period},N,A<:DenseArray{T,N},I<:Tuple{Vararg{Union{Colon,Int64,Range{Int64}}}},LD}}</b>, y::<b>T<:Base.Dates.TimeType</b>) at <a href=\"https://github.com/JuliaLang/julia/tree/2ac304dfba75fad148d4070ef4f8a2e400c305bb/base/dates/arithmetic.jl#L83\" target=\"_blank\">dates/arithmetic.jl:83</a><li> +<i>{T<:Base.Dates.TimeType}</i>(r::<b>Range{T<:Base.Dates.TimeType}</b>, x::<b>Base.Dates.Period</b>) at <a href=\"https://github.com/JuliaLang/julia/tree/2ac304dfba75fad148d4070ef4f8a2e400c305bb/base/dates/ranges.jl#L39\" target=\"_blank\">dates/ranges.jl:39</a><li> +<i>{T<:Number}</i>(x::<b>AbstractArray{T<:Number,N}</b>) at <a href=\"https://github.com/JuliaLang/julia/tree/2ac304dfba75fad148d4070ef4f8a2e400c305bb/base/abstractarraymath.jl#L49\" target=\"_blank\">abstractarraymath.jl:49</a><li> +<i>{S,T}</i>(A::<b>AbstractArray{S,N}</b>, B::<b>Range{T}</b>) at <a href=\"https://github.com/JuliaLang/julia/tree/2ac304dfba75fad148d4070ef4f8a2e400c305bb/base/arraymath.jl#L78\" target=\"_blank\">arraymath.jl:78</a><li> +<i>{S,T}</i>(A::<b>AbstractArray{S,N}</b>, B::<b>AbstractArray{T,N}</b>) at <a href=\"https://github.com/JuliaLang/julia/tree/2ac304dfba75fad148d4070ef4f8a2e400c305bb/base/arraymath.jl#L96\" target=\"_blank\">arraymath.jl:96</a><li> +(A::<b>AbstractArray{T,N}</b>, x::<b>Number</b>) at <a href=\"https://github.com/JuliaLang/julia/tree/2ac304dfba75fad148d4070ef4f8a2e400c305bb/base/arraymath.jl#L139\" target=\"_blank\">arraymath.jl:139</a><li> +(x::<b>Number</b>, A::<b>AbstractArray{T,N}</b>) at <a href=\"https://github.com/JuliaLang/julia/tree/2ac304dfba75fad148d4070ef4f8a2e400c305bb/base/arraymath.jl#L140\" target=\"_blank\">arraymath.jl:140</a><li> +(x::<b>Char</b>, y::<b>Integer</b>) at <a href=\"https://github.com/JuliaLang/julia/tree/2ac304dfba75fad148d4070ef4f8a2e400c305bb/base/char.jl#L42\" target=\"_blank\">char.jl:42</a><li> +<i>{N}</i>(index1::<b>CartesianIndex{N}</b>, index2::<b>CartesianIndex{N}</b>) at <a href=\"https://github.com/JuliaLang/julia/tree/2ac304dfba75fad148d4070ef4f8a2e400c305bb/base/multidimensional.jl#L42\" target=\"_blank\">multidimensional.jl:42</a><li> +(J1::<b>UniformScaling{T<:Number}</b>, J2::<b>UniformScaling{T<:Number}</b>) at <a href=\"https://github.com/JuliaLang/julia/tree/2ac304dfba75fad148d4070ef4f8a2e400c305bb/base/linalg/uniformscaling.jl#L27\" target=\"_blank\">linalg/uniformscaling.jl:27</a><li> +(J::<b>UniformScaling{T<:Number}</b>, B::<b>BitArray{2}</b>) at <a href=\"https://github.com/JuliaLang/julia/tree/2ac304dfba75fad148d4070ef4f8a2e400c305bb/base/linalg/uniformscaling.jl#L29\" target=\"_blank\">linalg/uniformscaling.jl:29</a><li> +(J::<b>UniformScaling{T<:Number}</b>, A::<b>AbstractArray{T,2}</b>) at <a href=\"https://github.com/JuliaLang/julia/tree/2ac304dfba75fad148d4070ef4f8a2e400c305bb/base/linalg/uniformscaling.jl#L30\" target=\"_blank\">linalg/uniformscaling.jl:30</a><li> +(J::<b>UniformScaling{T<:Number}</b>, x::<b>Number</b>) at <a href=\"https://github.com/JuliaLang/julia/tree/2ac304dfba75fad148d4070ef4f8a2e400c305bb/base/linalg/uniformscaling.jl#L31\" target=\"_blank\">linalg/uniformscaling.jl:31</a><li> +(x::<b>Number</b>, J::<b>UniformScaling{T<:Number}</b>) at <a href=\"https://github.com/JuliaLang/julia/tree/2ac304dfba75fad148d4070ef4f8a2e400c305bb/base/linalg/uniformscaling.jl#L32\" target=\"_blank\">linalg/uniformscaling.jl:32</a><li> +<i>{TA,TJ}</i>(A::<b>AbstractArray{TA,2}</b>, J::<b>UniformScaling{TJ}</b>) at <a href=\"https://github.com/JuliaLang/julia/tree/2ac304dfba75fad148d4070ef4f8a2e400c305bb/base/linalg/uniformscaling.jl#L92\" target=\"_blank\">linalg/uniformscaling.jl:92</a><li> +<i>{T}</i>(a::<b>Base.Pkg.Resolve.VersionWeights.HierarchicalValue{T}</b>, b::<b>Base.Pkg.Resolve.VersionWeights.HierarchicalValue{T}</b>) at <a href=\"https://github.com/JuliaLang/julia/tree/2ac304dfba75fad148d4070ef4f8a2e400c305bb/base/pkg/resolve/versionweight.jl#L23\" target=\"_blank\">pkg/resolve/versionweight.jl:23</a><li> +(a::<b>Base.Pkg.Resolve.VersionWeights.VWPreBuildItem</b>, b::<b>Base.Pkg.Resolve.VersionWeights.VWPreBuildItem</b>) at <a href=\"https://github.com/JuliaLang/julia/tree/2ac304dfba75fad148d4070ef4f8a2e400c305bb/base/pkg/resolve/versionweight.jl#L85\" target=\"_blank\">pkg/resolve/versionweight.jl:85</a><li> +(a::<b>Base.Pkg.Resolve.VersionWeights.VWPreBuild</b>, b::<b>Base.Pkg.Resolve.VersionWeights.VWPreBuild</b>) at <a href=\"https://github.com/JuliaLang/julia/tree/2ac304dfba75fad148d4070ef4f8a2e400c305bb/base/pkg/resolve/versionweight.jl#L131\" target=\"_blank\">pkg/resolve/versionweight.jl:131</a><li> +(a::<b>Base.Pkg.Resolve.VersionWeights.VersionWeight</b>, b::<b>Base.Pkg.Resolve.VersionWeights.VersionWeight</b>) at <a href=\"https://github.com/JuliaLang/julia/tree/2ac304dfba75fad148d4070ef4f8a2e400c305bb/base/pkg/resolve/versionweight.jl#L185\" target=\"_blank\">pkg/resolve/versionweight.jl:185</a><li> +(a::<b>Base.Pkg.Resolve.MaxSum.FieldValues.FieldValue</b>, b::<b>Base.Pkg.Resolve.MaxSum.FieldValues.FieldValue</b>) at <a href=\"https://github.com/JuliaLang/julia/tree/2ac304dfba75fad148d4070ef4f8a2e400c305bb/base/pkg/resolve/fieldvalue.jl#L44\" target=\"_blank\">pkg/resolve/fieldvalue.jl:44</a><li> +<i>{P<:Base.Dates.Period}</i>(x::<b>P<:Base.Dates.Period</b>, y::<b>P<:Base.Dates.Period</b>) at <a href=\"https://github.com/JuliaLang/julia/tree/2ac304dfba75fad148d4070ef4f8a2e400c305bb/base/dates/periods.jl#L43\" target=\"_blank\">dates/periods.jl:43</a><li> +(x::<b>Base.Dates.Period</b>, y::<b>Base.Dates.Period</b>) at <a href=\"https://github.com/JuliaLang/julia/tree/2ac304dfba75fad148d4070ef4f8a2e400c305bb/base/dates/periods.jl#L190\" target=\"_blank\">dates/periods.jl:190</a><li> +(x::<b>Base.Dates.CompoundPeriod</b>, y::<b>Base.Dates.Period</b>) at <a href=\"https://github.com/JuliaLang/julia/tree/2ac304dfba75fad148d4070ef4f8a2e400c305bb/base/dates/periods.jl#L191\" target=\"_blank\">dates/periods.jl:191</a><li> +(y::<b>Base.Dates.Period</b>, x::<b>Base.Dates.CompoundPeriod</b>) at <a href=\"https://github.com/JuliaLang/julia/tree/2ac304dfba75fad148d4070ef4f8a2e400c305bb/base/dates/periods.jl#L192\" target=\"_blank\">dates/periods.jl:192</a><li> +(x::<b>Base.Dates.CompoundPeriod</b>, y::<b>Base.Dates.CompoundPeriod</b>) at <a href=\"https://github.com/JuliaLang/julia/tree/2ac304dfba75fad148d4070ef4f8a2e400c305bb/base/dates/periods.jl#L193\" target=\"_blank\">dates/periods.jl:193</a><li> +(x::<b>Base.Dates.CompoundPeriod</b>, y::<b>Base.Dates.TimeType</b>) at <a href=\"https://github.com/JuliaLang/julia/tree/2ac304dfba75fad148d4070ef4f8a2e400c305bb/base/dates/periods.jl#L238\" target=\"_blank\">dates/periods.jl:238</a><li> +(y::<b>Base.Dates.Period</b>, x::<b>Base.Dates.TimeType</b>) at <a href=\"https://github.com/JuliaLang/julia/tree/2ac304dfba75fad148d4070ef4f8a2e400c305bb/base/dates/arithmetic.jl#L66\" target=\"_blank\">dates/arithmetic.jl:66</a><li> +<i>{T<:Base.Dates.TimeType}</i>(x::<b>Base.Dates.Period</b>, r::<b>Range{T<:Base.Dates.TimeType}</b>) at <a href=\"https://github.com/JuliaLang/julia/tree/2ac304dfba75fad148d4070ef4f8a2e400c305bb/base/dates/ranges.jl#L40\" target=\"_blank\">dates/ranges.jl:40</a><li> +(x::<b>Union{Base.Dates.CompoundPeriod,Base.Dates.Period}</b>) at <a href=\"https://github.com/JuliaLang/julia/tree/2ac304dfba75fad148d4070ef4f8a2e400c305bb/base/dates/periods.jl#L201\" target=\"_blank\">dates/periods.jl:201</a><li> +<i>{P<:Union{Base.Dates.CompoundPeriod,Base.Dates.Period}}</i>(x::<b>Union{Base.Dates.CompoundPeriod,Base.Dates.Period}</b>, Y::<b>Union{DenseArray{P<:Union{Base.Dates.CompoundPeriod,Base.Dates.Period},N},SubArray{P<:Union{Base.Dates.CompoundPeriod,Base.Dates.Period},N,A<:DenseArray{T,N},I<:Tuple{Vararg{Union{Colon,Int64,Range{Int64}}}},LD}}</b>) at <a href=\"https://github.com/JuliaLang/julia/tree/2ac304dfba75fad148d4070ef4f8a2e400c305bb/base/dates/periods.jl#L215\" target=\"_blank\">dates/periods.jl:215</a><li> +(dt::<b>DateTime</b>, y::<b>Base.Dates.Year</b>) at <a href=\"https://github.com/JuliaLang/julia/tree/2ac304dfba75fad148d4070ef4f8a2e400c305bb/base/dates/arithmetic.jl#L13\" target=\"_blank\">dates/arithmetic.jl:13</a><li> +(dt::<b>Date</b>, y::<b>Base.Dates.Year</b>) at <a href=\"https://github.com/JuliaLang/julia/tree/2ac304dfba75fad148d4070ef4f8a2e400c305bb/base/dates/arithmetic.jl#L17\" target=\"_blank\">dates/arithmetic.jl:17</a><li> +(dt::<b>DateTime</b>, z::<b>Base.Dates.Month</b>) at <a href=\"https://github.com/JuliaLang/julia/tree/2ac304dfba75fad148d4070ef4f8a2e400c305bb/base/dates/arithmetic.jl#L37\" target=\"_blank\">dates/arithmetic.jl:37</a><li> +(dt::<b>Date</b>, z::<b>Base.Dates.Month</b>) at <a href=\"https://github.com/JuliaLang/julia/tree/2ac304dfba75fad148d4070ef4f8a2e400c305bb/base/dates/arithmetic.jl#L43\" target=\"_blank\">dates/arithmetic.jl:43</a><li> +(x::<b>Date</b>, y::<b>Base.Dates.Week</b>) at <a href=\"https://github.com/JuliaLang/julia/tree/2ac304dfba75fad148d4070ef4f8a2e400c305bb/base/dates/arithmetic.jl#L60\" target=\"_blank\">dates/arithmetic.jl:60</a><li> +(x::<b>Date</b>, y::<b>Base.Dates.Day</b>) at <a href=\"https://github.com/JuliaLang/julia/tree/2ac304dfba75fad148d4070ef4f8a2e400c305bb/base/dates/arithmetic.jl#L62\" target=\"_blank\">dates/arithmetic.jl:62</a><li> +(x::<b>DateTime</b>, y::<b>Base.Dates.Period</b>) at <a href=\"https://github.com/JuliaLang/julia/tree/2ac304dfba75fad148d4070ef4f8a2e400c305bb/base/dates/arithmetic.jl#L64\" target=\"_blank\">dates/arithmetic.jl:64</a><li> +(x::<b>Base.Dates.TimeType</b>) at <a href=\"https://github.com/JuliaLang/julia/tree/2ac304dfba75fad148d4070ef4f8a2e400c305bb/base/dates/arithmetic.jl#L8\" target=\"_blank\">dates/arithmetic.jl:8</a><li> +(a::<b>Base.Dates.TimeType</b>, b::<b>Base.Dates.Period</b>, c::<b>Base.Dates.Period</b>) at <a href=\"https://github.com/JuliaLang/julia/tree/2ac304dfba75fad148d4070ef4f8a2e400c305bb/base/dates/periods.jl#L227\" target=\"_blank\">dates/periods.jl:227</a><li> +(a::<b>Base.Dates.TimeType</b>, b::<b>Base.Dates.Period</b>, c::<b>Base.Dates.Period</b>, d::<b>Base.Dates.Period...</b>) at <a href=\"https://github.com/JuliaLang/julia/tree/2ac304dfba75fad148d4070ef4f8a2e400c305bb/base/dates/periods.jl#L229\" target=\"_blank\">dates/periods.jl:229</a><li> +(x::<b>Base.Dates.TimeType</b>, y::<b>Base.Dates.CompoundPeriod</b>) at <a href=\"https://github.com/JuliaLang/julia/tree/2ac304dfba75fad148d4070ef4f8a2e400c305bb/base/dates/periods.jl#L233\" target=\"_blank\">dates/periods.jl:233</a><li> +(x::<b>Base.Dates.Instant</b>) at <a href=\"https://github.com/JuliaLang/julia/tree/2ac304dfba75fad148d4070ef4f8a2e400c305bb/base/dates/arithmetic.jl#L4\" target=\"_blank\">dates/arithmetic.jl:4</a><li> +<i>{T<:Base.Dates.TimeType}</i>(x::<b>AbstractArray{T<:Base.Dates.TimeType,N}</b>, y::<b>Union{Base.Dates.CompoundPeriod,Base.Dates.Period}</b>) at <a href=\"https://github.com/JuliaLang/julia/tree/2ac304dfba75fad148d4070ef4f8a2e400c305bb/base/dates/arithmetic.jl#L76\" target=\"_blank\">dates/arithmetic.jl:76</a><li> +<i>{T<:Base.Dates.TimeType}</i>(y::<b>Union{Base.Dates.CompoundPeriod,Base.Dates.Period}</b>, x::<b>AbstractArray{T<:Base.Dates.TimeType,N}</b>) at <a href=\"https://github.com/JuliaLang/julia/tree/2ac304dfba75fad148d4070ef4f8a2e400c305bb/base/dates/arithmetic.jl#L77\" target=\"_blank\">dates/arithmetic.jl:77</a><li> +<i>{P<:Union{Base.Dates.CompoundPeriod,Base.Dates.Period}}</i>(y::<b>Base.Dates.TimeType</b>, x::<b>Union{DenseArray{P<:Union{Base.Dates.CompoundPeriod,Base.Dates.Period},N},SubArray{P<:Union{Base.Dates.CompoundPeriod,Base.Dates.Period},N,A<:DenseArray{T,N},I<:Tuple{Vararg{Union{Colon,Int64,Range{Int64}}}},LD}}</b>) at <a href=\"https://github.com/JuliaLang/julia/tree/2ac304dfba75fad148d4070ef4f8a2e400c305bb/base/dates/arithmetic.jl#L84\" target=\"_blank\">dates/arithmetic.jl:84</a><li> +(a, b, c, xs...) at <a href=\"https://github.com/JuliaLang/julia/tree/2ac304dfba75fad148d4070ef4f8a2e400c305bb/base/operators.jl#L103\" target=\"_blank\">operators.jl:103</a></ul>"
      ],
      "text/plain": [
       "# 171 methods for generic function \"+\":\n",
       "+(x::Bool) at bool.jl:33\n",
       "+(x::Bool, y::Bool) at bool.jl:36\n",
       "+(y::AbstractFloat, x::Bool) at bool.jl:46\n",
       "+(x::Int64, y::Int64) at int.jl:8\n",
       "+(x::Int8, y::Int8) at int.jl:16\n",
       "+(x::UInt8, y::UInt8) at int.jl:16\n",
       "+(x::Int16, y::Int16) at int.jl:16\n",
       "+(x::UInt16, y::UInt16) at int.jl:16\n",
       "+(x::Int32, y::Int32) at int.jl:16\n",
       "+(x::UInt32, y::UInt32) at int.jl:16\n",
       "+(x::UInt64, y::UInt64) at int.jl:16\n",
       "+(x::Int128, y::Int128) at int.jl:16\n",
       "+(x::UInt128, y::UInt128) at int.jl:16\n",
       "+(x::Integer, y::Ptr{T}) at pointer.jl:77\n",
       "+(x::Float32, y::Float32) at float.jl:207\n",
       "+(x::Float64, y::Float64) at float.jl:208\n",
       "+(z::Complex{T<:Real}, w::Complex{T<:Real}) at complex.jl:111\n",
       "+(x::Bool, z::Complex{Bool}) at complex.jl:118\n",
       "+(z::Complex{Bool}, x::Bool) at complex.jl:119\n",
       "+(x::Bool, z::Complex{T<:Real}) at complex.jl:125\n",
       "+(z::Complex{T<:Real}, x::Bool) at complex.jl:126\n",
       "+(x::Real, z::Complex{Bool}) at complex.jl:132\n",
       "+(z::Complex{Bool}, x::Real) at complex.jl:133\n",
       "+(x::Real, z::Complex{T<:Real}) at complex.jl:144\n",
       "+(z::Complex{T<:Real}, x::Real) at complex.jl:145\n",
       "+(x::Rational{T<:Integer}, y::Rational{T<:Integer}) at rational.jl:179\n",
       "+(x::Bool, A::AbstractArray{Bool,N}) at arraymath.jl:136\n",
       "+(x::Integer, y::Char) at char.jl:43\n",
       "+(a::Float16, b::Float16) at float16.jl:136\n",
       "+(x::BigInt, y::BigInt) at gmp.jl:256\n",
       "+(a::BigInt, b::BigInt, c::BigInt) at gmp.jl:279\n",
       "+(a::BigInt, b::BigInt, c::BigInt, d::BigInt) at gmp.jl:285\n",
       "+(a::BigInt, b::BigInt, c::BigInt, d::BigInt, e::BigInt) at gmp.jl:292\n",
       "+(x::BigInt, c::Union{UInt16,UInt32,UInt64,UInt8}) at gmp.jl:304\n",
       "+(c::Union{UInt16,UInt32,UInt64,UInt8}, x::BigInt) at gmp.jl:308\n",
       "+(x::BigInt, c::Union{Int16,Int32,Int64,Int8}) at gmp.jl:320\n",
       "+(c::Union{Int16,Int32,Int64,Int8}, x::BigInt) at gmp.jl:321\n",
       "+(x::BigFloat, y::BigFloat) at mpfr.jl:208\n",
       "+(x::BigFloat, c::Union{UInt16,UInt32,UInt64,UInt8}) at mpfr.jl:215\n",
       "+(c::Union{UInt16,UInt32,UInt64,UInt8}, x::BigFloat) at mpfr.jl:219\n",
       "+(x::BigFloat, c::Union{Int16,Int32,Int64,Int8}) at mpfr.jl:223\n",
       "+(c::Union{Int16,Int32,Int64,Int8}, x::BigFloat) at mpfr.jl:227\n",
       "+(x::BigFloat, c::Union{Float16,Float32,Float64}) at mpfr.jl:231\n",
       "+(c::Union{Float16,Float32,Float64}, x::BigFloat) at mpfr.jl:235\n",
       "+(x::BigFloat, c::BigInt) at mpfr.jl:239\n",
       "+(c::BigInt, x::BigFloat) at mpfr.jl:243\n",
       "+(a::BigFloat, b::BigFloat, c::BigFloat) at mpfr.jl:379\n",
       "+(a::BigFloat, b::BigFloat, c::BigFloat, d::BigFloat) at mpfr.jl:385\n",
       "+(a::BigFloat, b::BigFloat, c::BigFloat, d::BigFloat, e::BigFloat) at mpfr.jl:392\n",
       "+(x::Irrational{sym}, y::Irrational{sym}) at irrationals.jl:72\n",
       "+(x::Number) at operators.jl:73\n",
       "+{T<:Number}(x::T<:Number, y::T<:Number) at promotion.jl:211\n",
       "+{T<:AbstractFloat}(x::Bool, y::T<:AbstractFloat) at bool.jl:43\n",
       "+(x::Number, y::Number) at promotion.jl:167\n",
       "+(r1::OrdinalRange{T,S}, r2::OrdinalRange{T,S}) at operators.jl:330\n",
       "+{T<:AbstractFloat}(r1::FloatRange{T<:AbstractFloat}, r2::FloatRange{T<:AbstractFloat}) at operators.jl:337\n",
       "+{T<:AbstractFloat}(r1::LinSpace{T<:AbstractFloat}, r2::LinSpace{T<:AbstractFloat}) at operators.jl:356\n",
       "+(r1::Union{FloatRange{T<:AbstractFloat},LinSpace{T<:AbstractFloat},OrdinalRange{T,S}}, r2::Union{FloatRange{T<:AbstractFloat},LinSpace{T<:AbstractFloat},OrdinalRange{T,S}}) at operators.jl:369\n",
       "+(x::Ptr{T}, y::Integer) at pointer.jl:75\n",
       "+{S,T}(A::Range{S}, B::Range{T}) at arraymath.jl:69\n",
       "+{S,T}(A::Range{S}, B::AbstractArray{T,N}) at arraymath.jl:87\n",
       "+(A::BitArray{N}, B::BitArray{N}) at bitarray.jl:834\n",
       "+{T}(B::BitArray{2}, J::UniformScaling{T}) at linalg/uniformscaling.jl:28\n",
       "+(A::Array{T,2}, B::Diagonal{T}) at linalg/special.jl:122\n",
       "+(A::Array{T,2}, B::Bidiagonal{T}) at linalg/special.jl:122\n",
       "+(A::Array{T,2}, B::Tridiagonal{T}) at linalg/special.jl:122\n",
       "+(A::Array{T,2}, B::SymTridiagonal{T}) at linalg/special.jl:131\n",
       "+(A::Array{T,2}, B::Base.LinAlg.AbstractTriangular{T,S<:AbstractArray{T,2}}) at linalg/special.jl:159\n",
       "+(A::Array{T,N}, B::SparseMatrixCSC{Tv,Ti<:Integer}) at sparse/sparsematrix.jl:1019\n",
       "+{P<:Union{Base.Dates.CompoundPeriod,Base.Dates.Period}}(x::Union{DenseArray{P<:Union{Base.Dates.CompoundPeriod,Base.Dates.Period},N},SubArray{P<:Union{Base.Dates.CompoundPeriod,Base.Dates.Period},N,A<:DenseArray{T,N},I<:Tuple{Vararg{Union{Colon,Int64,Range{Int64}}}},LD}}) at dates/periods.jl:202\n",
       "+(A::AbstractArray{Bool,N}, x::Bool) at arraymath.jl:135\n",
       "+(A::Union{DenseArray{Bool,N},SubArray{Bool,N,A<:DenseArray{T,N},I<:Tuple{Vararg{Union{Colon,Int64,Range{Int64}}}},LD}}, B::Union{DenseArray{Bool,N},SubArray{Bool,N,A<:DenseArray{T,N},I<:Tuple{Vararg{Union{Colon,Int64,Range{Int64}}}},LD}}) at arraymath.jl:166\n",
       "+(A::SymTridiagonal{T}, B::SymTridiagonal{T}) at linalg/tridiag.jl:84\n",
       "+(A::Tridiagonal{T}, B::Tridiagonal{T}) at linalg/tridiag.jl:404\n",
       "+(A::UpperTriangular{T,S<:AbstractArray{T,2}}, B::UpperTriangular{T,S<:AbstractArray{T,2}}) at linalg/triangular.jl:347\n",
       "+(A::LowerTriangular{T,S<:AbstractArray{T,2}}, B::LowerTriangular{T,S<:AbstractArray{T,2}}) at linalg/triangular.jl:348\n",
       "+(A::UpperTriangular{T,S<:AbstractArray{T,2}}, B::Base.LinAlg.UnitUpperTriangular{T,S<:AbstractArray{T,2}}) at linalg/triangular.jl:349\n",
       "+(A::LowerTriangular{T,S<:AbstractArray{T,2}}, B::Base.LinAlg.UnitLowerTriangular{T,S<:AbstractArray{T,2}}) at linalg/triangular.jl:350\n",
       "+(A::Base.LinAlg.UnitUpperTriangular{T,S<:AbstractArray{T,2}}, B::UpperTriangular{T,S<:AbstractArray{T,2}}) at linalg/triangular.jl:351\n",
       "+(A::Base.LinAlg.UnitLowerTriangular{T,S<:AbstractArray{T,2}}, B::LowerTriangular{T,S<:AbstractArray{T,2}}) at linalg/triangular.jl:352\n",
       "+(A::Base.LinAlg.UnitUpperTriangular{T,S<:AbstractArray{T,2}}, B::Base.LinAlg.UnitUpperTriangular{T,S<:AbstractArray{T,2}}) at linalg/triangular.jl:353\n",
       "+(A::Base.LinAlg.UnitLowerTriangular{T,S<:AbstractArray{T,2}}, B::Base.LinAlg.UnitLowerTriangular{T,S<:AbstractArray{T,2}}) at linalg/triangular.jl:354\n",
       "+(A::Base.LinAlg.AbstractTriangular{T,S<:AbstractArray{T,2}}, B::Base.LinAlg.AbstractTriangular{T,S<:AbstractArray{T,2}}) at linalg/triangular.jl:355\n",
       "+(Da::Diagonal{T}, Db::Diagonal{T}) at linalg/diagonal.jl:86\n",
       "+(A::Bidiagonal{T}, B::Bidiagonal{T}) at linalg/bidiag.jl:176\n",
       "+(UL::UpperTriangular{T,S<:AbstractArray{T,2}}, J::UniformScaling{T<:Number}) at linalg/uniformscaling.jl:45\n",
       "+(UL::Base.LinAlg.UnitUpperTriangular{T,S<:AbstractArray{T,2}}, J::UniformScaling{T<:Number}) at linalg/uniformscaling.jl:48\n",
       "+(UL::LowerTriangular{T,S<:AbstractArray{T,2}}, J::UniformScaling{T<:Number}) at linalg/uniformscaling.jl:45\n",
       "+(UL::Base.LinAlg.UnitLowerTriangular{T,S<:AbstractArray{T,2}}, J::UniformScaling{T<:Number}) at linalg/uniformscaling.jl:48\n",
       "+(A::Diagonal{T}, B::Bidiagonal{T}) at linalg/special.jl:121\n",
       "+(A::Bidiagonal{T}, B::Diagonal{T}) at linalg/special.jl:122\n",
       "+(A::Diagonal{T}, B::Tridiagonal{T}) at linalg/special.jl:121\n",
       "+(A::Tridiagonal{T}, B::Diagonal{T}) at linalg/special.jl:122\n",
       "+(A::Diagonal{T}, B::Array{T,2}) at linalg/special.jl:121\n",
       "+(A::Bidiagonal{T}, B::Tridiagonal{T}) at linalg/special.jl:121\n",
       "+(A::Tridiagonal{T}, B::Bidiagonal{T}) at linalg/special.jl:122\n",
       "+(A::Bidiagonal{T}, B::Array{T,2}) at linalg/special.jl:121\n",
       "+(A::Tridiagonal{T}, B::Array{T,2}) at linalg/special.jl:121\n",
       "+(A::SymTridiagonal{T}, B::Tridiagonal{T}) at linalg/special.jl:130\n",
       "+(A::Tridiagonal{T}, B::SymTridiagonal{T}) at linalg/special.jl:131\n",
       "+(A::SymTridiagonal{T}, B::Array{T,2}) at linalg/special.jl:130\n",
       "+(A::Diagonal{T}, B::SymTridiagonal{T}) at linalg/special.jl:139\n",
       "+(A::SymTridiagonal{T}, B::Diagonal{T}) at linalg/special.jl:140\n",
       "+(A::Bidiagonal{T}, B::SymTridiagonal{T}) at linalg/special.jl:139\n",
       "+(A::SymTridiagonal{T}, B::Bidiagonal{T}) at linalg/special.jl:140\n",
       "+(A::Diagonal{T}, B::UpperTriangular{T,S<:AbstractArray{T,2}}) at linalg/special.jl:151\n",
       "+(A::UpperTriangular{T,S<:AbstractArray{T,2}}, B::Diagonal{T}) at linalg/special.jl:152\n",
       "+(A::Diagonal{T}, B::Base.LinAlg.UnitUpperTriangular{T,S<:AbstractArray{T,2}}) at linalg/special.jl:151\n",
       "+(A::Base.LinAlg.UnitUpperTriangular{T,S<:AbstractArray{T,2}}, B::Diagonal{T}) at linalg/special.jl:152\n",
       "+(A::Diagonal{T}, B::LowerTriangular{T,S<:AbstractArray{T,2}}) at linalg/special.jl:151\n",
       "+(A::LowerTriangular{T,S<:AbstractArray{T,2}}, B::Diagonal{T}) at linalg/special.jl:152\n",
       "+(A::Diagonal{T}, B::Base.LinAlg.UnitLowerTriangular{T,S<:AbstractArray{T,2}}) at linalg/special.jl:151\n",
       "+(A::Base.LinAlg.UnitLowerTriangular{T,S<:AbstractArray{T,2}}, B::Diagonal{T}) at linalg/special.jl:152\n",
       "+(A::Base.LinAlg.AbstractTriangular{T,S<:AbstractArray{T,2}}, B::SymTridiagonal{T}) at linalg/special.jl:158\n",
       "+(A::SymTridiagonal{T}, B::Base.LinAlg.AbstractTriangular{T,S<:AbstractArray{T,2}}) at linalg/special.jl:159\n",
       "+(A::Base.LinAlg.AbstractTriangular{T,S<:AbstractArray{T,2}}, B::Tridiagonal{T}) at linalg/special.jl:158\n",
       "+(A::Tridiagonal{T}, B::Base.LinAlg.AbstractTriangular{T,S<:AbstractArray{T,2}}) at linalg/special.jl:159\n",
       "+(A::Base.LinAlg.AbstractTriangular{T,S<:AbstractArray{T,2}}, B::Bidiagonal{T}) at linalg/special.jl:158\n",
       "+(A::Bidiagonal{T}, B::Base.LinAlg.AbstractTriangular{T,S<:AbstractArray{T,2}}) at linalg/special.jl:159\n",
       "+(A::Base.LinAlg.AbstractTriangular{T,S<:AbstractArray{T,2}}, B::Array{T,2}) at linalg/special.jl:158\n",
       "+{Tv1,Ti1,Tv2,Ti2}(A_1::SparseMatrixCSC{Tv1,Ti1}, A_2::SparseMatrixCSC{Tv2,Ti2}) at sparse/sparsematrix.jl:1005\n",
       "+(A::SparseMatrixCSC{Tv,Ti<:Integer}, B::Array{T,N}) at sparse/sparsematrix.jl:1017\n",
       "+(A::SparseMatrixCSC{Tv,Ti<:Integer}, J::UniformScaling{T<:Number}) at sparse/sparsematrix.jl:2988\n",
       "+{P<:Union{Base.Dates.CompoundPeriod,Base.Dates.Period}}(Y::Union{DenseArray{P<:Union{Base.Dates.CompoundPeriod,Base.Dates.Period},N},SubArray{P<:Union{Base.Dates.CompoundPeriod,Base.Dates.Period},N,A<:DenseArray{T,N},I<:Tuple{Vararg{Union{Colon,Int64,Range{Int64}}}},LD}}, x::Union{Base.Dates.CompoundPeriod,Base.Dates.Period}) at dates/periods.jl:216\n",
       "+{P<:Union{Base.Dates.CompoundPeriod,Base.Dates.Period},Q<:Union{Base.Dates.CompoundPeriod,Base.Dates.Period}}(X::Union{DenseArray{P<:Union{Base.Dates.CompoundPeriod,Base.Dates.Period},N},SubArray{P<:Union{Base.Dates.CompoundPeriod,Base.Dates.Period},N,A<:DenseArray{T,N},I<:Tuple{Vararg{Union{Colon,Int64,Range{Int64}}}},LD}}, Y::Union{DenseArray{Q<:Union{Base.Dates.CompoundPeriod,Base.Dates.Period},N},SubArray{Q<:Union{Base.Dates.CompoundPeriod,Base.Dates.Period},N,A<:DenseArray{T,N},I<:Tuple{Vararg{Union{Colon,Int64,Range{Int64}}}},LD}}) at dates/periods.jl:217\n",
       "+{T<:Base.Dates.TimeType,P<:Union{Base.Dates.CompoundPeriod,Base.Dates.Period}}(x::Union{DenseArray{P<:Union{Base.Dates.CompoundPeriod,Base.Dates.Period},N},SubArray{P<:Union{Base.Dates.CompoundPeriod,Base.Dates.Period},N,A<:DenseArray{T,N},I<:Tuple{Vararg{Union{Colon,Int64,Range{Int64}}}},LD}}, y::T<:Base.Dates.TimeType) at dates/arithmetic.jl:83\n",
       "+{T<:Base.Dates.TimeType}(r::Range{T<:Base.Dates.TimeType}, x::Base.Dates.Period) at dates/ranges.jl:39\n",
       "+{T<:Number}(x::AbstractArray{T<:Number,N}) at abstractarraymath.jl:49\n",
       "+{S,T}(A::AbstractArray{S,N}, B::Range{T}) at arraymath.jl:78\n",
       "+{S,T}(A::AbstractArray{S,N}, B::AbstractArray{T,N}) at arraymath.jl:96\n",
       "+(A::AbstractArray{T,N}, x::Number) at arraymath.jl:139\n",
       "+(x::Number, A::AbstractArray{T,N}) at arraymath.jl:140\n",
       "+(x::Char, y::Integer) at char.jl:42\n",
       "+{N}(index1::CartesianIndex{N}, index2::CartesianIndex{N}) at multidimensional.jl:42\n",
       "+(J1::UniformScaling{T<:Number}, J2::UniformScaling{T<:Number}) at linalg/uniformscaling.jl:27\n",
       "+(J::UniformScaling{T<:Number}, B::BitArray{2}) at linalg/uniformscaling.jl:29\n",
       "+(J::UniformScaling{T<:Number}, A::AbstractArray{T,2}) at linalg/uniformscaling.jl:30\n",
       "+(J::UniformScaling{T<:Number}, x::Number) at linalg/uniformscaling.jl:31\n",
       "+(x::Number, J::UniformScaling{T<:Number}) at linalg/uniformscaling.jl:32\n",
       "+{TA,TJ}(A::AbstractArray{TA,2}, J::UniformScaling{TJ}) at linalg/uniformscaling.jl:92\n",
       "+{T}(a::Base.Pkg.Resolve.VersionWeights.HierarchicalValue{T}, b::Base.Pkg.Resolve.VersionWeights.HierarchicalValue{T}) at pkg/resolve/versionweight.jl:23\n",
       "+(a::Base.Pkg.Resolve.VersionWeights.VWPreBuildItem, b::Base.Pkg.Resolve.VersionWeights.VWPreBuildItem) at pkg/resolve/versionweight.jl:85\n",
       "+(a::Base.Pkg.Resolve.VersionWeights.VWPreBuild, b::Base.Pkg.Resolve.VersionWeights.VWPreBuild) at pkg/resolve/versionweight.jl:131\n",
       "+(a::Base.Pkg.Resolve.VersionWeights.VersionWeight, b::Base.Pkg.Resolve.VersionWeights.VersionWeight) at pkg/resolve/versionweight.jl:185\n",
       "+(a::Base.Pkg.Resolve.MaxSum.FieldValues.FieldValue, b::Base.Pkg.Resolve.MaxSum.FieldValues.FieldValue) at pkg/resolve/fieldvalue.jl:44\n",
       "+{P<:Base.Dates.Period}(x::P<:Base.Dates.Period, y::P<:Base.Dates.Period) at dates/periods.jl:43\n",
       "+(x::Base.Dates.Period, y::Base.Dates.Period) at dates/periods.jl:190\n",
       "+(x::Base.Dates.CompoundPeriod, y::Base.Dates.Period) at dates/periods.jl:191\n",
       "+(y::Base.Dates.Period, x::Base.Dates.CompoundPeriod) at dates/periods.jl:192\n",
       "+(x::Base.Dates.CompoundPeriod, y::Base.Dates.CompoundPeriod) at dates/periods.jl:193\n",
       "+(x::Base.Dates.CompoundPeriod, y::Base.Dates.TimeType) at dates/periods.jl:238\n",
       "+(y::Base.Dates.Period, x::Base.Dates.TimeType) at dates/arithmetic.jl:66\n",
       "+{T<:Base.Dates.TimeType}(x::Base.Dates.Period, r::Range{T<:Base.Dates.TimeType}) at dates/ranges.jl:40\n",
       "+(x::Union{Base.Dates.CompoundPeriod,Base.Dates.Period}) at dates/periods.jl:201\n",
       "+{P<:Union{Base.Dates.CompoundPeriod,Base.Dates.Period}}(x::Union{Base.Dates.CompoundPeriod,Base.Dates.Period}, Y::Union{DenseArray{P<:Union{Base.Dates.CompoundPeriod,Base.Dates.Period},N},SubArray{P<:Union{Base.Dates.CompoundPeriod,Base.Dates.Period},N,A<:DenseArray{T,N},I<:Tuple{Vararg{Union{Colon,Int64,Range{Int64}}}},LD}}) at dates/periods.jl:215\n",
       "+(dt::DateTime, y::Base.Dates.Year) at dates/arithmetic.jl:13\n",
       "+(dt::Date, y::Base.Dates.Year) at dates/arithmetic.jl:17\n",
       "+(dt::DateTime, z::Base.Dates.Month) at dates/arithmetic.jl:37\n",
       "+(dt::Date, z::Base.Dates.Month) at dates/arithmetic.jl:43\n",
       "+(x::Date, y::Base.Dates.Week) at dates/arithmetic.jl:60\n",
       "+(x::Date, y::Base.Dates.Day) at dates/arithmetic.jl:62\n",
       "+(x::DateTime, y::Base.Dates.Period) at dates/arithmetic.jl:64\n",
       "+(x::Base.Dates.TimeType) at dates/arithmetic.jl:8\n",
       "+(a::Base.Dates.TimeType, b::Base.Dates.Period, c::Base.Dates.Period) at dates/periods.jl:227\n",
       "+(a::Base.Dates.TimeType, b::Base.Dates.Period, c::Base.Dates.Period, d::Base.Dates.Period...) at dates/periods.jl:229\n",
       "+(x::Base.Dates.TimeType, y::Base.Dates.CompoundPeriod) at dates/periods.jl:233\n",
       "+(x::Base.Dates.Instant) at dates/arithmetic.jl:4\n",
       "+{T<:Base.Dates.TimeType}(x::AbstractArray{T<:Base.Dates.TimeType,N}, y::Union{Base.Dates.CompoundPeriod,Base.Dates.Period}) at dates/arithmetic.jl:76\n",
       "+{T<:Base.Dates.TimeType}(y::Union{Base.Dates.CompoundPeriod,Base.Dates.Period}, x::AbstractArray{T<:Base.Dates.TimeType,N}) at dates/arithmetic.jl:77\n",
       "+{P<:Union{Base.Dates.CompoundPeriod,Base.Dates.Period}}(y::Base.Dates.TimeType, x::Union{DenseArray{P<:Union{Base.Dates.CompoundPeriod,Base.Dates.Period},N},SubArray{P<:Union{Base.Dates.CompoundPeriod,Base.Dates.Period},N,A<:DenseArray{T,N},I<:Tuple{Vararg{Union{Colon,Int64,Range{Int64}}}},LD}}) at dates/arithmetic.jl:84\n",
       "+(a, b, c, xs...) at operators.jl:103"
      ]
     },
     "execution_count": 1,
     "metadata": {},
     "output_type": "execute_result"
    }
   ],
   "source": [
    "methods(+)"
   ]
  },
  {
   "cell_type": "markdown",
   "metadata": {
    "slideshow": {
     "slide_type": "slide"
    }
   },
   "source": [
    "## Popularity\n",
    "- Since it debuted, Julia as gained a lot of fans in various communities\n",
    "- Seems to be a large user-base growing in econ\n",
    "    - The Federal Reserve Bank of New York has modeled the economy of the US using Julia\n",
    "- Also popular with traditional large scale computing applications like Astrononmy\n",
    "    - In September 2017, <a href=\"https://juliacomputing.com/press/2017/09/12/julia-joins-petaflop-club.html\">Julia became one of a handful of langauges capable of performing over 1 petaflop per second</a>"
   ]
  },
  {
   "cell_type": "markdown",
   "metadata": {
    "slideshow": {
     "slide_type": "slide"
    }
   },
   "source": [
    "## Comparison to Python\n",
    "- Because of its easy of use, Julia is a common language for Python programmers to play with, this usually goes one of two ways\n",
    "    - It's actually not that fast \n",
    "    - I can make Python just as fast\n",
    "- The Julia team has written their own comparison (based on syntax) to many languages, available at \n",
    "https://docs.julialang.org/en/latest/manual/noteworthy-differences/?highlight=differences"
   ]
  },
  {
   "cell_type": "markdown",
   "metadata": {
    "slideshow": {
     "slide_type": "slide"
    }
   },
   "source": [
    "## Unicode Variable Names\n",
    "- One of the more unique aspects of Julia is that mathematical symbols and non-Latin characters are very well supported\n",
    "- To promote this, all Julia REPL systems, and most Julia IDEs allow auto completion to a non unicode character\n",
    "    - Based on LATEX symbol names\n",
    "- To type the letter alpha\n",
    "    - Type `\\alpha` followed immediately by a TAB"
   ]
  },
  {
   "cell_type": "code",
   "execution_count": 2,
   "metadata": {
    "slideshow": {
     "slide_type": "slide"
    }
   },
   "outputs": [
    {
     "name": "stdout",
     "output_type": "stream",
     "text": [
      "10\n"
     ]
    }
   ],
   "source": [
    "x = 10\n",
    "println(x)"
   ]
  },
  {
   "cell_type": "code",
   "execution_count": 5,
   "metadata": {
    "slideshow": {
     "slide_type": "slide"
    }
   },
   "outputs": [
    {
     "name": "stdout",
     "output_type": "stream",
     "text": [
      "0.1\n"
     ]
    }
   ],
   "source": [
    "β = 0.1\n",
    "println(β)"
   ]
  },
  {
   "cell_type": "markdown",
   "metadata": {
    "slideshow": {
     "slide_type": "slide"
    }
   },
   "source": [
    "## Numbers\n",
    "- As a numerical computing language, Julia has a very robust number system\n",
    "    - A large number of types\n",
    "- Most mathematical functions are built in\n",
    "- When typing large numbers, the `_` (underscore) can be used a separator, it is simply ignored\n",
    "- If overflow happens, cast the intenger to big using `big(number)`"
   ]
  },
  {
   "cell_type": "code",
   "execution_count": 6,
   "metadata": {
    "slideshow": {
     "slide_type": "slide"
    }
   },
   "outputs": [
    {
     "data": {
      "text/plain": [
       "1000000001"
      ]
     },
     "execution_count": 6,
     "metadata": {},
     "output_type": "execute_result"
    }
   ],
   "source": [
    "1_000_000_000 + 1"
   ]
  },
  {
   "cell_type": "code",
   "execution_count": 7,
   "metadata": {
    "slideshow": {
     "slide_type": "slide"
    }
   },
   "outputs": [
    {
     "data": {
      "text/plain": [
       "10000000001"
      ]
     },
     "execution_count": 7,
     "metadata": {},
     "output_type": "execute_result"
    }
   ],
   "source": [
    "1_00_00_00_00_00 + 1"
   ]
  },
  {
   "cell_type": "code",
   "execution_count": 10,
   "metadata": {
    "slideshow": {
     "slide_type": "slide"
    }
   },
   "outputs": [
    {
     "data": {
      "text/plain": [
       "Inf"
      ]
     },
     "execution_count": 10,
     "metadata": {},
     "output_type": "execute_result"
    }
   ],
   "source": [
    "4000000000000000 * 4e300"
   ]
  },
  {
   "cell_type": "code",
   "execution_count": 16,
   "metadata": {
    "slideshow": {
     "slide_type": "slide"
    }
   },
   "outputs": [
    {
     "data": {
      "text/plain": [
       "1.600000000000000084007616408327072397927149729773054647865366584818883932782253e+316"
      ]
     },
     "execution_count": 16,
     "metadata": {},
     "output_type": "execute_result"
    }
   ],
   "source": [
    "big(4000000000000000) * 4e300"
   ]
  },
  {
   "cell_type": "markdown",
   "metadata": {
    "slideshow": {
     "slide_type": "slide"
    }
   },
   "source": [
    "## Standard Mathematical Operations\n",
    "- Mathematical functions in Julia are similar to functional programming languages in that they take many arguments\n",
    "```julia\n",
    "1 + 2 + 3 == +(1,2,3)\n",
    "```\n",
    "- Julia has two divisions\n",
    "    - `/` which is floating point division\n",
    "    - $\\div$ or `div` which is intenger division\n",
    "- When multipying variables with a number, no symbol is needed, just like in math"
   ]
  },
  {
   "cell_type": "code",
   "execution_count": 17,
   "metadata": {
    "slideshow": {
     "slide_type": "slide"
    }
   },
   "outputs": [
    {
     "data": {
      "text/plain": [
       "6"
      ]
     },
     "execution_count": 17,
     "metadata": {},
     "output_type": "execute_result"
    }
   ],
   "source": [
    "3 + 2 + 1"
   ]
  },
  {
   "cell_type": "code",
   "execution_count": 18,
   "metadata": {
    "slideshow": {
     "slide_type": "slide"
    }
   },
   "outputs": [
    {
     "data": {
      "text/plain": [
       "6"
      ]
     },
     "execution_count": 18,
     "metadata": {},
     "output_type": "execute_result"
    }
   ],
   "source": [
    "3 * 2 * 1"
   ]
  },
  {
   "cell_type": "code",
   "execution_count": 19,
   "metadata": {
    "slideshow": {
     "slide_type": "slide"
    }
   },
   "outputs": [
    {
     "data": {
      "text/plain": [
       "1024"
      ]
     },
     "execution_count": 19,
     "metadata": {},
     "output_type": "execute_result"
    }
   ],
   "source": [
    "4 ^ 5"
   ]
  },
  {
   "cell_type": "code",
   "execution_count": 20,
   "metadata": {
    "slideshow": {
     "slide_type": "slide"
    }
   },
   "outputs": [
    {
     "data": {
      "text/plain": [
       "4"
      ]
     },
     "execution_count": 20,
     "metadata": {},
     "output_type": "execute_result"
    }
   ],
   "source": [
    "4 % 5 "
   ]
  },
  {
   "cell_type": "code",
   "execution_count": 21,
   "metadata": {
    "slideshow": {
     "slide_type": "slide"
    }
   },
   "outputs": [
    {
     "name": "stdout",
     "output_type": "stream",
     "text": [
      "\t.text\n",
      "\tpushq\t%rbx\n",
      "\tsubq\t$32, %rsp\n",
      "\tmovq\t$2, 8(%rsp)\n",
      "\tmovabsq\t$jl_pgcstack, %rbx\n",
      "\tmovq\t(%rbx), %rax\n",
      "\tmovq\t%rax, 16(%rsp)\n",
      "\tleaq\t8(%rsp), %rax\n",
      "\tmovq\t%rax, (%rbx)\n",
      "\tmovq\t$0, 24(%rsp)\n",
      "\tmovq\t(%rsi), %rax\n",
      "\tmovq\t8(%rsi), %rcx\n",
      "\tmovq\t(%rcx), %rdi\n",
      "\tmovq\t16(%rsi), %rcx\n",
      "\taddq\t(%rax), %rdi\n",
      "\taddq\t(%rcx), %rdi\n",
      "\tmovabsq\t$jl_box_int64, %rax\n",
      "\tcallq\t*%rax\n",
      "\tmovq\t16(%rsp), %rcx\n",
      "\tmovq\t%rcx, (%rbx)\n",
      "\taddq\t$32, %rsp\n",
      "\tpopq\t%rbx\n",
      "\tretq\n"
     ]
    }
   ],
   "source": [
    "@code_native 1 + 2 + 3"
   ]
  },
  {
   "cell_type": "code",
   "execution_count": 24,
   "metadata": {
    "slideshow": {
     "slide_type": "slide"
    }
   },
   "outputs": [
    {
     "name": "stdout",
     "output_type": "stream",
     "text": [
      "\t.text\n",
      "\tpushq\t%rbx\n",
      "\tsubq\t$32, %rsp\n",
      "\tmovq\t$2, 8(%rsp)\n",
      "\tmovabsq\t$jl_pgcstack, %rbx\n",
      "\tmovq\t(%rbx), %rax\n",
      "\tmovq\t%rax, 16(%rsp)\n",
      "\tleaq\t8(%rsp), %rax\n",
      "\tmovq\t%rax, (%rbx)\n",
      "\tmovq\t$0, 24(%rsp)\n",
      "\tmovq\t(%rsi), %rax\n",
      "\tmovq\t8(%rsi), %rcx\n",
      "\tmovq\t(%rcx), %rdi\n",
      "\tmovq\t16(%rsi), %rcx\n",
      "\taddq\t(%rax), %rdi\n",
      "\taddq\t(%rcx), %rdi\n",
      "\tmovabsq\t$jl_box_int64, %rax\n",
      "\tcallq\t*%rax\n",
      "\tmovq\t16(%rsp), %rcx\n",
      "\tmovq\t%rcx, (%rbx)\n",
      "\taddq\t$32, %rsp\n",
      "\tpopq\t%rbx\n",
      "\tretq\n"
     ]
    }
   ],
   "source": [
    "@code_native +(1,2,3)"
   ]
  },
  {
   "cell_type": "code",
   "execution_count": 25,
   "metadata": {
    "slideshow": {
     "slide_type": "slide"
    }
   },
   "outputs": [
    {
     "data": {
      "text/plain": [
       "1.5"
      ]
     },
     "execution_count": 25,
     "metadata": {},
     "output_type": "execute_result"
    }
   ],
   "source": [
    "3/2"
   ]
  },
  {
   "cell_type": "code",
   "execution_count": 27,
   "metadata": {
    "slideshow": {
     "slide_type": "slide"
    }
   },
   "outputs": [
    {
     "data": {
      "text/plain": [
       "1"
      ]
     },
     "execution_count": 27,
     "metadata": {},
     "output_type": "execute_result"
    }
   ],
   "source": [
    "3 ÷2"
   ]
  },
  {
   "cell_type": "code",
   "execution_count": 28,
   "metadata": {
    "slideshow": {
     "slide_type": "slide"
    }
   },
   "outputs": [
    {
     "data": {
      "text/plain": [
       "1"
      ]
     },
     "execution_count": 28,
     "metadata": {},
     "output_type": "execute_result"
    }
   ],
   "source": [
    "div(3,2)"
   ]
  },
  {
   "cell_type": "code",
   "execution_count": 29,
   "metadata": {
    "slideshow": {
     "slide_type": "slide"
    }
   },
   "outputs": [
    {
     "data": {
      "text/plain": [
       "83"
      ]
     },
     "execution_count": 29,
     "metadata": {},
     "output_type": "execute_result"
    }
   ],
   "source": [
    "x = 20\n",
    "4 * x + 3"
   ]
  },
  {
   "cell_type": "code",
   "execution_count": 33,
   "metadata": {
    "slideshow": {
     "slide_type": "slide"
    }
   },
   "outputs": [
    {
     "data": {
      "text/plain": [
       "8003"
      ]
     },
     "execution_count": 33,
     "metadata": {},
     "output_type": "execute_result"
    }
   ],
   "source": [
    "y = 10\n",
    "(10)(4)(x * y) + 3"
   ]
  },
  {
   "cell_type": "markdown",
   "metadata": {
    "slideshow": {
     "slide_type": "slide"
    }
   },
   "source": [
    "## Built-In Mathematical Functions \n",
    "- `sqrt` or $\\sqrt*$\n",
    "- `sin`, `cos`, etc.\n",
    "- `lcm` and `gcd`\n",
    "- `abs` and `sign`"
   ]
  },
  {
   "cell_type": "code",
   "execution_count": 34,
   "metadata": {
    "slideshow": {
     "slide_type": "slide"
    }
   },
   "outputs": [
    {
     "data": {
      "text/plain": [
       "14.142135623730951"
      ]
     },
     "execution_count": 34,
     "metadata": {},
     "output_type": "execute_result"
    }
   ],
   "source": [
    "sqrt(200)"
   ]
  },
  {
   "cell_type": "code",
   "execution_count": 35,
   "metadata": {
    "slideshow": {
     "slide_type": "slide"
    }
   },
   "outputs": [
    {
     "data": {
      "text/plain": [
       "14.142135623730951"
      ]
     },
     "execution_count": 35,
     "metadata": {},
     "output_type": "execute_result"
    }
   ],
   "source": [
    "√200"
   ]
  },
  {
   "cell_type": "code",
   "execution_count": 36,
   "metadata": {
    "slideshow": {
     "slide_type": "slide"
    }
   },
   "outputs": [
    {
     "data": {
      "text/plain": [
       "1.0"
      ]
     },
     "execution_count": 36,
     "metadata": {},
     "output_type": "execute_result"
    }
   ],
   "source": [
    "sin(pi/2)"
   ]
  },
  {
   "cell_type": "code",
   "execution_count": 39,
   "metadata": {
    "slideshow": {
     "slide_type": "slide"
    }
   },
   "outputs": [
    {
     "data": {
      "text/plain": [
       "6.123233995736766e-17"
      ]
     },
     "execution_count": 39,
     "metadata": {},
     "output_type": "execute_result"
    }
   ],
   "source": [
    "cos(pi/2)"
   ]
  },
  {
   "cell_type": "code",
   "execution_count": 40,
   "metadata": {
    "slideshow": {
     "slide_type": "slide"
    }
   },
   "outputs": [
    {
     "data": {
      "text/plain": [
       "200"
      ]
     },
     "execution_count": 40,
     "metadata": {},
     "output_type": "execute_result"
    }
   ],
   "source": [
    "lcm(100,5,20,40)"
   ]
  },
  {
   "cell_type": "code",
   "execution_count": 41,
   "metadata": {
    "slideshow": {
     "slide_type": "slide"
    }
   },
   "outputs": [
    {
     "data": {
      "text/plain": [
       "5"
      ]
     },
     "execution_count": 41,
     "metadata": {},
     "output_type": "execute_result"
    }
   ],
   "source": [
    "gcd(100,5,20,40)"
   ]
  },
  {
   "cell_type": "code",
   "execution_count": 42,
   "metadata": {
    "slideshow": {
     "slide_type": "slide"
    }
   },
   "outputs": [
    {
     "data": {
      "text/plain": [
       "10"
      ]
     },
     "execution_count": 42,
     "metadata": {},
     "output_type": "execute_result"
    }
   ],
   "source": [
    "abs(10)"
   ]
  },
  {
   "cell_type": "code",
   "execution_count": 43,
   "metadata": {
    "slideshow": {
     "slide_type": "slide"
    }
   },
   "outputs": [
    {
     "data": {
      "text/plain": [
       "10"
      ]
     },
     "execution_count": 43,
     "metadata": {},
     "output_type": "execute_result"
    }
   ],
   "source": [
    "abs(-10)"
   ]
  },
  {
   "cell_type": "code",
   "execution_count": 44,
   "metadata": {
    "slideshow": {
     "slide_type": "slide"
    }
   },
   "outputs": [
    {
     "data": {
      "text/plain": [
       "-1"
      ]
     },
     "execution_count": 44,
     "metadata": {},
     "output_type": "execute_result"
    }
   ],
   "source": [
    "sign(-10)"
   ]
  },
  {
   "cell_type": "markdown",
   "metadata": {
    "slideshow": {
     "slide_type": "slide"
    }
   },
   "source": [
    "## Built-In Mathematical Constants\n",
    "- `pi` or $\\pi$\n",
    "- `e`\n",
    "- `golden` or $\\varphi$ (`\\varphi` NOT `\\phi`)"
   ]
  },
  {
   "cell_type": "code",
   "execution_count": 45,
   "metadata": {
    "slideshow": {
     "slide_type": "slide"
    }
   },
   "outputs": [
    {
     "data": {
      "text/plain": [
       "1.0"
      ]
     },
     "execution_count": 45,
     "metadata": {},
     "output_type": "execute_result"
    }
   ],
   "source": [
    "sin(π/2)"
   ]
  },
  {
   "cell_type": "code",
   "execution_count": 46,
   "metadata": {
    "slideshow": {
     "slide_type": "slide"
    }
   },
   "outputs": [
    {
     "data": {
      "text/plain": [
       "1"
      ]
     },
     "execution_count": 46,
     "metadata": {},
     "output_type": "execute_result"
    }
   ],
   "source": [
    "log(e)"
   ]
  },
  {
   "cell_type": "code",
   "execution_count": 50,
   "metadata": {
    "slideshow": {
     "slide_type": "slide"
    }
   },
   "outputs": [
    {
     "data": {
      "text/plain": [
       "φ = 1.6180339887498..."
      ]
     },
     "execution_count": 50,
     "metadata": {},
     "output_type": "execute_result"
    }
   ],
   "source": [
    "φ"
   ]
  },
  {
   "cell_type": "markdown",
   "metadata": {
    "slideshow": {
     "slide_type": "slide"
    }
   },
   "source": [
    "## User-Defined Functions\n",
    "- To define a function in Julia, use the keyword `function`\n",
    "    - The function definition is ended with the keyword `end`\n",
    "- Short functions can be defined like `f(x) = x * x`\n",
    "- Julia Functions support default values, named parameters, etc."
   ]
  },
  {
   "cell_type": "code",
   "execution_count": 53,
   "metadata": {
    "slideshow": {
     "slide_type": "slide"
    }
   },
   "outputs": [
    {
     "data": {
      "text/plain": [
       "my_first_function (generic function with 1 method)"
      ]
     },
     "execution_count": 53,
     "metadata": {},
     "output_type": "execute_result"
    }
   ],
   "source": [
    "function my_first_function(a,b,c)\n",
    "    a + b * c\n",
    "end"
   ]
  },
  {
   "cell_type": "code",
   "execution_count": 54,
   "metadata": {
    "slideshow": {
     "slide_type": "slide"
    }
   },
   "outputs": [
    {
     "data": {
      "text/plain": [
       "9"
      ]
     },
     "execution_count": 54,
     "metadata": {},
     "output_type": "execute_result"
    }
   ],
   "source": [
    "my_first_function(1,2,4)"
   ]
  },
  {
   "cell_type": "code",
   "execution_count": 55,
   "metadata": {},
   "outputs": [
    {
     "data": {
      "text/plain": [
       "8.0"
      ]
     },
     "execution_count": 55,
     "metadata": {},
     "output_type": "execute_result"
    }
   ],
   "source": [
    "my_first_function(1,2,3.5)"
   ]
  },
  {
   "cell_type": "code",
   "execution_count": 59,
   "metadata": {},
   "outputs": [
    {
     "data": {
      "text/plain": [
       "21//5"
      ]
     },
     "execution_count": 59,
     "metadata": {},
     "output_type": "execute_result"
    }
   ],
   "source": [
    "my_first_function(1,4//5,4)"
   ]
  },
  {
   "cell_type": "code",
   "execution_count": 60,
   "metadata": {
    "slideshow": {
     "slide_type": "slide"
    }
   },
   "outputs": [
    {
     "data": {
      "text/plain": [
       "defaults (generic function with 3 methods)"
      ]
     },
     "execution_count": 60,
     "metadata": {},
     "output_type": "execute_result"
    }
   ],
   "source": [
    "function defaults(a,b=10,c=20)\n",
    "    a + b + c\n",
    "end"
   ]
  },
  {
   "cell_type": "code",
   "execution_count": 61,
   "metadata": {},
   "outputs": [
    {
     "data": {
      "text/html": [
       "3 methods for generic function <b>defaults</b>:<ul><li> defaults(a) at In[60]:2<li> defaults(a, b) at In[60]:2<li> defaults(a, b, c) at In[60]:2</ul>"
      ],
      "text/plain": [
       "# 3 methods for generic function \"defaults\":\n",
       "defaults(a) at In[60]:2\n",
       "defaults(a, b) at In[60]:2\n",
       "defaults(a, b, c) at In[60]:2"
      ]
     },
     "execution_count": 61,
     "metadata": {},
     "output_type": "execute_result"
    }
   ],
   "source": [
    "methods(defaults)"
   ]
  },
  {
   "cell_type": "code",
   "execution_count": 62,
   "metadata": {},
   "outputs": [
    {
     "data": {
      "text/plain": [
       "40"
      ]
     },
     "execution_count": 62,
     "metadata": {},
     "output_type": "execute_result"
    }
   ],
   "source": [
    "defaults(10)"
   ]
  },
  {
   "cell_type": "code",
   "execution_count": 65,
   "metadata": {
    "slideshow": {
     "slide_type": "slide"
    }
   },
   "outputs": [
    {
     "name": "stdout",
     "output_type": "stream",
     "text": [
      "\t.text\n",
      "\tleaq\t30(%rdi), %rax\n",
      "\tretq\n",
      "\tnopw\t%cs:(%rax,%rax)\n",
      "\tpushq\t%rax\n",
      "\tmovq\t(%rsi), %rax\n",
      "\tmovq\t(%rax), %rdi\n",
      "\tmovabsq\t$defaults, %rax\n",
      "\tcallq\t*%rax\n",
      "\tmovabsq\t$jl_box_int64, %rcx\n",
      "\tmovq\t%rax, %rdi\n",
      "\tcallq\t*%rcx\n",
      "\tpopq\t%rcx\n",
      "\tretq\n"
     ]
    }
   ],
   "source": [
    "@code_native defaults(10)"
   ]
  },
  {
   "cell_type": "code",
   "execution_count": 67,
   "metadata": {
    "slideshow": {
     "slide_type": "slide"
    }
   },
   "outputs": [
    {
     "data": {
      "text/plain": [
       "43"
      ]
     },
     "execution_count": 67,
     "metadata": {},
     "output_type": "execute_result"
    }
   ],
   "source": [
    "z(x) = 4x + 3\n",
    "z(10)"
   ]
  },
  {
   "cell_type": "markdown",
   "metadata": {
    "slideshow": {
     "slide_type": "slide"
    }
   },
   "source": [
    "## Lambda\n",
    "- Julia supports anonymous functions through a syntax similar to Java\n",
    "```julia\n",
    "arguments -> function_body\n",
    "```\n",
    "- Lambdas with multiple parameters should be wrapped up in a tuple\n",
    "```julia\n",
    "(a,b,c) -> function_body\n",
    "```"
   ]
  },
  {
   "cell_type": "code",
   "execution_count": 68,
   "metadata": {
    "slideshow": {
     "slide_type": "slide"
    }
   },
   "outputs": [
    {
     "data": {
      "text/plain": [
       "100"
      ]
     },
     "execution_count": 68,
     "metadata": {},
     "output_type": "execute_result"
    }
   ],
   "source": [
    "x = y->10y\n",
    "x(10)"
   ]
  },
  {
   "cell_type": "code",
   "execution_count": 69,
   "metadata": {
    "slideshow": {
     "slide_type": "slide"
    }
   },
   "outputs": [
    {
     "data": {
      "text/plain": [
       "1x4 Array{Int64,2}:\n",
       " 1  4  9  16"
      ]
     },
     "execution_count": 69,
     "metadata": {},
     "output_type": "execute_result"
    }
   ],
   "source": [
    "map(x -> x*x , [1 2 3 4])"
   ]
  },
  {
   "cell_type": "markdown",
   "metadata": {
    "slideshow": {
     "slide_type": "slide"
    }
   },
   "source": [
    "## Arrays\n",
    "- Arrays are one of the primary datatypes of Julia\n",
    "    - Created using `[]`\n",
    "    - Indexing starts at 1\n",
    "    - Negative indexing is replaced with the `end` keyword\n",
    "- All operators can be used on arrays as well\n",
    "    - Special functions like `mean`, `median`, etc exist for arrays"
   ]
  },
  {
   "cell_type": "code",
   "execution_count": 71,
   "metadata": {
    "slideshow": {
     "slide_type": "slide"
    }
   },
   "outputs": [
    {
     "ename": "LoadError",
     "evalue": "BoundsError: attempt to access 1x6 Array{Int64,2}:\n 1  2  3  4  5  6\n  at index [0]",
     "output_type": "error",
     "traceback": [
      "BoundsError: attempt to access 1x6 Array{Int64,2}:\n 1  2  3  4  5  6\n  at index [0]",
      "",
      " in getindex at ./array.jl:282"
     ]
    }
   ],
   "source": [
    "my_array = [1 2 3 4 5 6]\n",
    "my_array[0]"
   ]
  },
  {
   "cell_type": "code",
   "execution_count": 72,
   "metadata": {
    "slideshow": {
     "slide_type": "slide"
    }
   },
   "outputs": [
    {
     "data": {
      "text/plain": [
       "1"
      ]
     },
     "execution_count": 72,
     "metadata": {},
     "output_type": "execute_result"
    }
   ],
   "source": [
    "my_array[1]"
   ]
  },
  {
   "cell_type": "code",
   "execution_count": 73,
   "metadata": {
    "slideshow": {
     "slide_type": "slide"
    }
   },
   "outputs": [
    {
     "data": {
      "text/plain": [
       "6"
      ]
     },
     "execution_count": 73,
     "metadata": {},
     "output_type": "execute_result"
    }
   ],
   "source": [
    "my_array[end]"
   ]
  },
  {
   "cell_type": "code",
   "execution_count": 74,
   "metadata": {
    "slideshow": {
     "slide_type": "slide"
    }
   },
   "outputs": [
    {
     "data": {
      "text/plain": [
       "5"
      ]
     },
     "execution_count": 74,
     "metadata": {},
     "output_type": "execute_result"
    }
   ],
   "source": [
    "my_array[end-1]"
   ]
  },
  {
   "cell_type": "code",
   "execution_count": 75,
   "metadata": {
    "slideshow": {
     "slide_type": "slide"
    }
   },
   "outputs": [
    {
     "data": {
      "text/plain": [
       "4-element Array{Int64,1}:\n",
       " 5\n",
       " 6\n",
       " 7\n",
       " 8"
      ]
     },
     "execution_count": 75,
     "metadata": {},
     "output_type": "execute_result"
    }
   ],
   "source": [
    "my_array = [1,2,3,4]\n",
    "my_array + 4"
   ]
  },
  {
   "cell_type": "code",
   "execution_count": 76,
   "metadata": {
    "slideshow": {
     "slide_type": "slide"
    }
   },
   "outputs": [
    {
     "data": {
      "text/plain": [
       "4-element Array{Int64,1}:\n",
       "  4\n",
       "  8\n",
       " 12\n",
       " 16"
      ]
     },
     "execution_count": 76,
     "metadata": {},
     "output_type": "execute_result"
    }
   ],
   "source": [
    "my_array * 4"
   ]
  },
  {
   "cell_type": "code",
   "execution_count": 77,
   "metadata": {
    "slideshow": {
     "slide_type": "slide"
    }
   },
   "outputs": [
    {
     "data": {
      "text/plain": [
       "4-element Array{Float64,1}:\n",
       " 1.0    \n",
       " 1.41421\n",
       " 1.73205\n",
       " 2.0    "
      ]
     },
     "execution_count": 77,
     "metadata": {},
     "output_type": "execute_result"
    }
   ],
   "source": [
    "√my_array"
   ]
  },
  {
   "cell_type": "code",
   "execution_count": 78,
   "metadata": {
    "slideshow": {
     "slide_type": "slide"
    }
   },
   "outputs": [
    {
     "data": {
      "text/plain": [
       "2.5"
      ]
     },
     "execution_count": 78,
     "metadata": {},
     "output_type": "execute_result"
    }
   ],
   "source": [
    "mean(my_array)"
   ]
  },
  {
   "cell_type": "markdown",
   "metadata": {
    "slideshow": {
     "slide_type": "slide"
    }
   },
   "source": [
    "## Multi-Dimensional Arrays\n",
    "- To create a 2 dimensional array in Julia\n",
    "    - Separate the elements by spaces\n",
    "    - Separate the rows by semicolons\n",
    "```julia\n",
    "[1 2 3 4; 5 6 7 8]\n",
    "```\n",
    "- Comma separated elements creates a column vector, space separated elements a row vector"
   ]
  },
  {
   "cell_type": "code",
   "execution_count": 82,
   "metadata": {
    "slideshow": {
     "slide_type": "slide"
    }
   },
   "outputs": [
    {
     "data": {
      "text/plain": [
       "2x4 Array{Int64,2}:\n",
       " 1  2  3  4\n",
       " 5  6  7  8"
      ]
     },
     "execution_count": 82,
     "metadata": {},
     "output_type": "execute_result"
    }
   ],
   "source": [
    "[1 2 3 4; \n",
    "    5 6 7 8]"
   ]
  },
  {
   "cell_type": "code",
   "execution_count": 83,
   "metadata": {
    "slideshow": {
     "slide_type": "slide"
    }
   },
   "outputs": [
    {
     "data": {
      "text/plain": [
       "3x4 Array{Int64,2}:\n",
       " 1   2   3   4\n",
       " 5   6   7   8\n",
       " 9  10  11  12"
      ]
     },
     "execution_count": 83,
     "metadata": {},
     "output_type": "execute_result"
    }
   ],
   "source": [
    "[1 2 3 4; 5 6 7 8; 9 10 11 12]"
   ]
  },
  {
   "cell_type": "code",
   "execution_count": 84,
   "metadata": {
    "slideshow": {
     "slide_type": "slide"
    }
   },
   "outputs": [
    {
     "data": {
      "text/plain": [
       "1x4 Array{Int64,2}:\n",
       " 1  2  3  4"
      ]
     },
     "execution_count": 84,
     "metadata": {},
     "output_type": "execute_result"
    }
   ],
   "source": [
    "[ 1 2 3 4]"
   ]
  },
  {
   "cell_type": "code",
   "execution_count": 85,
   "metadata": {
    "slideshow": {
     "slide_type": "slide"
    }
   },
   "outputs": [
    {
     "data": {
      "text/plain": [
       "4-element Array{Int64,1}:\n",
       " 1\n",
       " 2\n",
       " 3\n",
       " 4"
      ]
     },
     "execution_count": 85,
     "metadata": {},
     "output_type": "execute_result"
    }
   ],
   "source": [
    "[1,2,3,4]"
   ]
  },
  {
   "cell_type": "markdown",
   "metadata": {
    "slideshow": {
     "slide_type": "slide"
    }
   },
   "source": [
    "## Dot Notation on Function Names\n",
    "- Any function you write can automatically be applied element-wise to an array\n",
    "- Just append a dot `.` after the function name but before the parentheses\n",
    "- This is faster than using `map` or a for loop most of the time"
   ]
  },
  {
   "cell_type": "code",
   "execution_count": 86,
   "metadata": {
    "slideshow": {
     "slide_type": "slide"
    }
   },
   "outputs": [
    {
     "data": {
      "text/plain": [
       "f (generic function with 1 method)"
      ]
     },
     "execution_count": 86,
     "metadata": {},
     "output_type": "execute_result"
    }
   ],
   "source": [
    "c = 123456\n",
    "test = [1 8 1 9 0 4 8 1 6 3]\n",
    "f(x) = x + c "
   ]
  },
  {
   "cell_type": "code",
   "execution_count": 87,
   "metadata": {
    "slideshow": {
     "slide_type": "slide"
    }
   },
   "outputs": [
    {
     "name": "stdout",
     "output_type": "stream",
     "text": [
      "  0.005574 seconds (340 allocations: 49.768 KB)\n"
     ]
    },
    {
     "data": {
      "text/plain": [
       "1x10 Array{Int64,2}:\n",
       " 123457  123464  123457  123465  123456  …  123464  123457  123462  123459"
      ]
     },
     "execution_count": 87,
     "metadata": {},
     "output_type": "execute_result"
    }
   ],
   "source": [
    "@time map(f,test)"
   ]
  },
  {
   "cell_type": "code",
   "execution_count": 88,
   "metadata": {
    "slideshow": {
     "slide_type": "slide"
    }
   },
   "outputs": [
    {
     "name": "stdout",
     "output_type": "stream",
     "text": [
      "  0.024024 seconds (3.24 k allocations: 168.830 KB)\n"
     ]
    },
    {
     "data": {
      "text/plain": [
       "1x10 Array{Int64,2}:\n",
       " 123457  123464  123457  123465  123456  …  123464  123457  123462  123459"
      ]
     },
     "execution_count": 88,
     "metadata": {},
     "output_type": "execute_result"
    }
   ],
   "source": [
    "@time test + c"
   ]
  },
  {
   "cell_type": "code",
   "execution_count": 89,
   "metadata": {
    "slideshow": {
     "slide_type": "slide"
    }
   },
   "outputs": [
    {
     "ename": "LoadError",
     "evalue": "UndefVarError: my_test not defined",
     "output_type": "error",
     "traceback": [
      "UndefVarError: my_test not defined",
      ""
     ]
    }
   ],
   "source": [
    "@time f.(my_test) #Only works in Julia 0.5 + :("
   ]
  },
  {
   "cell_type": "markdown",
   "metadata": {
    "slideshow": {
     "slide_type": "slide"
    }
   },
   "source": [
    "## Types\n",
    "- Much of Julia's speed comes from Type system\n",
    "    - By Dynamically inferring types, the most optimized version (both in algorithm and in assembly) can be called\n",
    "- To specify a type for a variable, use the syntax\n",
    "```\n",
    "name::TYPE\n",
    "```\n",
    "- To look at the built in type heirarchy, use the functions `subtypes` and `super` or `supertype` in new versions of Julia"
   ]
  },
  {
   "cell_type": "code",
   "execution_count": 90,
   "metadata": {
    "slideshow": {
     "slide_type": "slide"
    }
   },
   "outputs": [
    {
     "data": {
      "text/plain": [
       "Any"
      ]
     },
     "execution_count": 90,
     "metadata": {},
     "output_type": "execute_result"
    }
   ],
   "source": [
    "super(Number)"
   ]
  },
  {
   "cell_type": "code",
   "execution_count": 91,
   "metadata": {
    "slideshow": {
     "slide_type": "slide"
    }
   },
   "outputs": [
    {
     "data": {
      "text/plain": [
       "AbstractFloat"
      ]
     },
     "execution_count": 91,
     "metadata": {},
     "output_type": "execute_result"
    }
   ],
   "source": [
    "super(Float64)"
   ]
  },
  {
   "cell_type": "code",
   "execution_count": 92,
   "metadata": {
    "slideshow": {
     "slide_type": "slide"
    }
   },
   "outputs": [
    {
     "data": {
      "text/plain": [
       "8-element Array{Any,1}:\n",
       " Base.SubstitutionString{T<:AbstractString}\n",
       " DirectIndexString                         \n",
       " RepString                                 \n",
       " RevString{T<:AbstractString}              \n",
       " RopeString                                \n",
       " SubString{T<:AbstractString}              \n",
       " UTF16String                               \n",
       " UTF8String                                "
      ]
     },
     "execution_count": 92,
     "metadata": {},
     "output_type": "execute_result"
    }
   ],
   "source": [
    "subtypes(AbstractString)"
   ]
  },
  {
   "cell_type": "code",
   "execution_count": 93,
   "metadata": {
    "slideshow": {
     "slide_type": "slide"
    }
   },
   "outputs": [
    {
     "data": {
      "text/plain": [
       "2-element Array{Any,1}:\n",
       " Complex{T<:Real}\n",
       " Real            "
      ]
     },
     "execution_count": 93,
     "metadata": {},
     "output_type": "execute_result"
    }
   ],
   "source": [
    "subtypes(Number)"
   ]
  },
  {
   "cell_type": "code",
   "execution_count": 94,
   "metadata": {
    "slideshow": {
     "slide_type": "slide"
    }
   },
   "outputs": [
    {
     "data": {
      "text/plain": [
       "243-element Array{Any,1}:\n",
       " AbstractArray{T,N}                        \n",
       " AbstractChannel                           \n",
       " AbstractRNG                               \n",
       " AbstractString                            \n",
       " Any                                       \n",
       " Associative{K,V}                          \n",
       " Base.AbstractCmd                          \n",
       " Base.AbstractMsg                          \n",
       " Base.AbstractZipIterator                  \n",
       " Base.Cartesian.LReplace{S<:AbstractString}\n",
       " Base.Combinations{T}                      \n",
       " Base.Count{S<:Number}                     \n",
       " Base.Cycle{I}                             \n",
       " ⋮                                         \n",
       " TypeVar                                   \n",
       " Type{T}                                   \n",
       " UniformScaling{T<:Number}                 \n",
       " Val{T}                                    \n",
       " Vararg{T}                                 \n",
       " VersionNumber                             \n",
       " Void                                      \n",
       " WeakRef                                   \n",
       " WorkerConfig                              \n",
       " ZMQ.Context                               \n",
       " ZMQ.MsgPadding                            \n",
       " ZMQ.Socket                                "
      ]
     },
     "execution_count": 94,
     "metadata": {},
     "output_type": "execute_result"
    }
   ],
   "source": [
    "subtypes(Any)"
   ]
  },
  {
   "cell_type": "code",
   "execution_count": 95,
   "metadata": {
    "slideshow": {
     "slide_type": "slide"
    }
   },
   "outputs": [
    {
     "data": {
      "text/plain": [
       "typed (generic function with 2 methods)"
      ]
     },
     "execution_count": 95,
     "metadata": {},
     "output_type": "execute_result"
    }
   ],
   "source": [
    "function typed(x)\n",
    "    x ^ 3\n",
    "end\n",
    "\n",
    "function typed(x::Integer)\n",
    "    x ^ 3\n",
    "end\n"
   ]
  },
  {
   "cell_type": "code",
   "execution_count": 96,
   "metadata": {
    "slideshow": {
     "slide_type": "slide"
    }
   },
   "outputs": [
    {
     "name": "stdout",
     "output_type": "stream",
     "text": [
      "  0.013245 seconds (3.06 k allocations: 124.542 KB)\n"
     ]
    },
    {
     "data": {
      "text/plain": [
       "1000.0"
      ]
     },
     "execution_count": 96,
     "metadata": {},
     "output_type": "execute_result"
    }
   ],
   "source": [
    "@time typed(10.0)"
   ]
  },
  {
   "cell_type": "code",
   "execution_count": 97,
   "metadata": {
    "slideshow": {
     "slide_type": "slide"
    }
   },
   "outputs": [
    {
     "name": "stdout",
     "output_type": "stream",
     "text": [
      "  0.005448 seconds (289 allocations: 16.334 KB)\n"
     ]
    },
    {
     "data": {
      "text/plain": [
       "1000"
      ]
     },
     "execution_count": 97,
     "metadata": {},
     "output_type": "execute_result"
    }
   ],
   "source": [
    "@time typed(10)"
   ]
  },
  {
   "cell_type": "code",
   "execution_count": 98,
   "metadata": {
    "slideshow": {
     "slide_type": "slide"
    }
   },
   "outputs": [
    {
     "data": {
      "text/plain": [
       "t1 (generic function with 1 method)"
      ]
     },
     "execution_count": 98,
     "metadata": {},
     "output_type": "execute_result"
    }
   ],
   "source": [
    "## From https://en.wikibooks.org/wiki/Introducing_Julia/Types\n",
    "function t1(n)\n",
    "           s  = 0\n",
    "           for i in 1:n\n",
    "               s += s/i\n",
    "           end\n",
    "       end"
   ]
  },
  {
   "cell_type": "code",
   "execution_count": 99,
   "metadata": {
    "slideshow": {
     "slide_type": "slide"
    }
   },
   "outputs": [
    {
     "data": {
      "text/plain": [
       "t2 (generic function with 1 method)"
      ]
     },
     "execution_count": 99,
     "metadata": {},
     "output_type": "execute_result"
    }
   ],
   "source": [
    "## From https://en.wikibooks.org/wiki/Introducing_Julia/Types\n",
    "function t2(n)\n",
    "           s  = 0.0\n",
    "           for i in 1:n\n",
    "               s += s/i\n",
    "           end\n",
    "       end"
   ]
  },
  {
   "cell_type": "code",
   "execution_count": 100,
   "metadata": {
    "slideshow": {
     "slide_type": "slide"
    }
   },
   "outputs": [
    {
     "name": "stdout",
     "output_type": "stream",
     "text": [
      "  0.531621 seconds (30.00 M allocations: 457.846 MB, 9.41% gc time)\n"
     ]
    }
   ],
   "source": [
    "@time t1(10000000)"
   ]
  },
  {
   "cell_type": "code",
   "execution_count": 101,
   "metadata": {
    "slideshow": {
     "slide_type": "slide"
    }
   },
   "outputs": [
    {
     "name": "stdout",
     "output_type": "stream",
     "text": [
      "  0.011103 seconds (1.80 k allocations: 90.747 KB)\n"
     ]
    }
   ],
   "source": [
    "@time t2(10000000)"
   ]
  },
  {
   "cell_type": "markdown",
   "metadata": {
    "slideshow": {
     "slide_type": "slide"
    }
   },
   "source": [
    "## User Defined Types\n",
    "- User defined types are just structs, similar to typedef\n",
    "    - The functions that operate on them will be written separately, like in R\n",
    "    - The constructor needs to have the same name as the type, and should call new() at the end,\n",
    "```julia\n",
    "struct name #(type in older versions)\n",
    "        member1::type1\n",
    "        member2::type2\n",
    "end\n",
    "```\n",
    "- These user defined types can then be used to make new methods or overload existing ones"
   ]
  },
  {
   "cell_type": "code",
   "execution_count": 103,
   "metadata": {
    "slideshow": {
     "slide_type": "slide"
    }
   },
   "outputs": [],
   "source": [
    "type TIME #struct TIME in Julia > 0.5\n",
    "    hour::Integer\n",
    "    minute::Integer\n",
    "end"
   ]
  },
  {
   "cell_type": "code",
   "execution_count": 104,
   "metadata": {
    "slideshow": {
     "slide_type": "slide"
    }
   },
   "outputs": [
    {
     "data": {
      "text/plain": [
       "TIME(10,30)"
      ]
     },
     "execution_count": 104,
     "metadata": {},
     "output_type": "execute_result"
    }
   ],
   "source": [
    "x = TIME(10,30)"
   ]
  },
  {
   "cell_type": "code",
   "execution_count": 107,
   "metadata": {
    "slideshow": {
     "slide_type": "slide"
    }
   },
   "outputs": [
    {
     "data": {
      "text/plain": [
       "1"
      ]
     },
     "execution_count": 107,
     "metadata": {},
     "output_type": "execute_result"
    }
   ],
   "source": [
    "x.hour "
   ]
  },
  {
   "cell_type": "markdown",
   "metadata": {
    "slideshow": {
     "slide_type": "slide"
    }
   },
   "source": [
    "## Overloading Methods\n",
    "- Now that we know about types, we can overload existing functions like +\n",
    "- Define a function as you normally would, using the appropriate function name\n",
    "    - `+` is properly known as `Base.:+`\n",
    "- Specify your specific types as the parameters"
   ]
  },
  {
   "cell_type": "code",
   "execution_count": 108,
   "metadata": {
    "slideshow": {
     "slide_type": "slide"
    }
   },
   "outputs": [
    {
     "data": {
      "text/plain": [
       "+ (generic function with 172 methods)"
      ]
     },
     "execution_count": 108,
     "metadata": {},
     "output_type": "execute_result"
    }
   ],
   "source": [
    "importall Base.Operators\n",
    "function Base.(:+)(a::TIME, b::TIME) #New style is just Base.:+\n",
    "    TIME(a.hour + b.hour, a.minute + b.minute)\n",
    "end"
   ]
  },
  {
   "cell_type": "code",
   "execution_count": 109,
   "metadata": {
    "slideshow": {
     "slide_type": "slide"
    }
   },
   "outputs": [
    {
     "data": {
      "text/plain": [
       "TIME(12,60)"
      ]
     },
     "execution_count": 109,
     "metadata": {},
     "output_type": "execute_result"
    }
   ],
   "source": [
    "x + TIME(11,30)"
   ]
  },
  {
   "cell_type": "markdown",
   "metadata": {
    "slideshow": {
     "slide_type": "slide"
    }
   },
   "source": [
    "## Strings\n",
    "- While Julia was concieved as a numerical computation langauge, processing strings is an important part of any language\n",
    "- Strings must be delimited using double quotes\n",
    "    - Single quotes indicate a character, which is a different data type\n",
    "- Numerous string functions are available in the base class, including regular expression support\n",
    "    - The concatentation operator is `*` **NOT** `+`\n",
    "    - Strings can be accessed like arrays"
   ]
  },
  {
   "cell_type": "code",
   "execution_count": 116,
   "metadata": {
    "slideshow": {
     "slide_type": "slide"
    }
   },
   "outputs": [
    {
     "name": "stdout",
     "output_type": "stream",
     "text": [
      "ASCIIString UTF8String\n"
     ]
    }
   ],
   "source": [
    "string = \"Hello\"\n",
    "uni = \"Helαβ\"\n",
    "println(typeof(string) , \" \", typeof(uni))"
   ]
  },
  {
   "cell_type": "code",
   "execution_count": 117,
   "metadata": {
    "slideshow": {
     "slide_type": "slide"
    }
   },
   "outputs": [
    {
     "data": {
      "text/plain": [
       "\"HelloHelαβ\""
      ]
     },
     "execution_count": 117,
     "metadata": {},
     "output_type": "execute_result"
    }
   ],
   "source": [
    "string * uni"
   ]
  },
  {
   "cell_type": "code",
   "execution_count": 118,
   "metadata": {
    "slideshow": {
     "slide_type": "slide"
    }
   },
   "outputs": [
    {
     "data": {
      "text/plain": [
       "\"HelloHelloHello\""
      ]
     },
     "execution_count": 118,
     "metadata": {},
     "output_type": "execute_result"
    }
   ],
   "source": [
    "string ^ 3"
   ]
  },
  {
   "cell_type": "code",
   "execution_count": 119,
   "metadata": {
    "slideshow": {
     "slide_type": "slide"
    }
   },
   "outputs": [
    {
     "data": {
      "text/plain": [
       "\"Hello is Hello and Helαβ\""
      ]
     },
     "execution_count": 119,
     "metadata": {},
     "output_type": "execute_result"
    }
   ],
   "source": [
    "another=\"Hello is $string and $uni\""
   ]
  },
  {
   "cell_type": "markdown",
   "metadata": {
    "slideshow": {
     "slide_type": "slide"
    }
   },
   "source": [
    "## For Loops\n",
    "- For loops must be ended with the keyword `end`\n",
    "- For loops always use the `in` keyword\n",
    "    - To make a count style loop, use the array creation shortcut of start:step:end"
   ]
  },
  {
   "cell_type": "code",
   "execution_count": 120,
   "metadata": {
    "slideshow": {
     "slide_type": "slide"
    }
   },
   "outputs": [
    {
     "name": "stdout",
     "output_type": "stream",
     "text": [
      "1\n",
      "2\n",
      "3\n",
      "4\n",
      "5\n"
     ]
    }
   ],
   "source": [
    "for x in [1 2 3 4 5]\n",
    "   println(x) \n",
    "end"
   ]
  },
  {
   "cell_type": "code",
   "execution_count": 122,
   "metadata": {
    "slideshow": {
     "slide_type": "slide"
    }
   },
   "outputs": [
    {
     "name": "stdout",
     "output_type": "stream",
     "text": [
      "1\n",
      "2\n",
      "3\n",
      "4\n",
      "5\n"
     ]
    }
   ],
   "source": [
    "for x in 1:1:5\n",
    "   println(x) \n",
    "end"
   ]
  },
  {
   "cell_type": "code",
   "execution_count": 123,
   "metadata": {
    "slideshow": {
     "slide_type": "slide"
    }
   },
   "outputs": [
    {
     "name": "stdout",
     "output_type": "stream",
     "text": [
      "1\n",
      "2\n",
      "3\n",
      "4\n",
      "5\n"
     ]
    }
   ],
   "source": [
    "for x in 1:5\n",
    "   println(x) \n",
    "end"
   ]
  },
  {
   "cell_type": "markdown",
   "metadata": {
    "slideshow": {
     "slide_type": "slide"
    }
   },
   "source": [
    "## If Statement\n",
    "- If statements use the keywords `if`, `elseif`, `else`, and `end`\n",
    "- The `end` keyword goes at the end of the entire block\n",
    "- There is no special braces, colons, parentheses or anything else"
   ]
  },
  {
   "cell_type": "code",
   "execution_count": 124,
   "metadata": {
    "slideshow": {
     "slide_type": "slide"
    }
   },
   "outputs": [
    {
     "name": "stdout",
     "output_type": "stream",
     "text": [
      "OK\n"
     ]
    }
   ],
   "source": [
    "x = 20 + 4 \n",
    "if x > 50\n",
    "    println(\"GOOD\")\n",
    "elseif x < 20\n",
    "    println(\"BAD\")\n",
    "else\n",
    "    println(\"OK\")\n",
    "end"
   ]
  },
  {
   "cell_type": "code",
   "execution_count": 125,
   "metadata": {
    "slideshow": {
     "slide_type": "slide"
    }
   },
   "outputs": [
    {
     "ename": "LoadError",
     "evalue": "TypeError: typeassert: expected Float64, got Int64",
     "output_type": "error",
     "traceback": [
      "TypeError: typeassert: expected Float64, got Int64",
      ""
     ]
    }
   ],
   "source": [
    "(2+3)::Float64"
   ]
  },
  {
   "cell_type": "markdown",
   "metadata": {
    "slideshow": {
     "slide_type": "slide"
    }
   },
   "source": [
    "## Modules\n",
    "- Julia has a robust module system, and packages can be seend at https://pkg.julialang.org/\n",
    "- To install new packages use the command `Pkg.add(PACKAGENAME)`\n",
    "- To use the newly installed package use\n",
    "    - `using` - Places functions in global namespace\n",
    "    - `import` - Need to access using module name\n",
    "- You can also include a file directly using `include()`, and `require()`"
   ]
  }
 ],
 "metadata": {
  "celltoolbar": "Slideshow",
  "kernelspec": {
   "display_name": "Julia 0.4.5",
   "language": "julia",
   "name": "julia-0.4"
  },
  "language_info": {
   "file_extension": ".jl",
   "mimetype": "application/julia",
   "name": "julia",
   "version": "0.4.5"
  }
 },
 "nbformat": 4,
 "nbformat_minor": 2
}

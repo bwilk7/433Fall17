{
 "cells": [
  {
   "cell_type": "markdown",
   "metadata": {
    "slideshow": {
     "slide_type": "slide"
    }
   },
   "source": [
    "# JavaScript V"
   ]
  },
  {
   "cell_type": "markdown",
   "metadata": {
    "slideshow": {
     "slide_type": "slide"
    }
   },
   "source": [
    "## Alerts and Dialogs\n",
    "- For many years, alerts and dialogs, which pop up over the browser, were popular forms of user interaction\n",
    "    - These days there are nicer ways to handle these interactions, collectively known as modals\n",
    "    - Using modals requires libraries and a bit more than I want to get into for this class, so we will learn the old fashion alerts and dialogs\n",
    "- Alerts and dialogs have their place\n",
    "    - Just don't over use them\n",
    "    - Most modern browsers allow these to be supressed"
   ]
  },
  {
   "cell_type": "markdown",
   "metadata": {
    "slideshow": {
     "slide_type": "slide"
    }
   },
   "source": [
    "## Alert\n",
    "- An alert is triggered by calling the `alert` function, which takes a single string parameter\n",
    "- The alert will contain the message of the string, and a single button allowing the window to be dismissed\n"
   ]
  },
  {
   "cell_type": "code",
   "execution_count": 1,
   "metadata": {},
   "outputs": [
    {
     "data": {
      "application/javascript": [
       "alert(\"HELLO\");"
      ],
      "text/plain": [
       "<IPython.core.display.Javascript object>"
      ]
     },
     "metadata": {},
     "output_type": "display_data"
    }
   ],
   "source": [
    "%%javascript\n",
    "alert(\"HELLO\");"
   ]
  },
  {
   "cell_type": "markdown",
   "metadata": {
    "slideshow": {
     "slide_type": "slide"
    }
   },
   "source": [
    "## Confirm\n",
    "- `confirm` is similar to alert, taking one string parameter\n",
    "- The popup will contain two choices that allow for the box to be dismissed\n",
    "    - 'Cancel'\n",
    "    - 'OK'\n",
    "- The function will return `true` or `false` depending on the answer"
   ]
  },
  {
   "cell_type": "code",
   "execution_count": 4,
   "metadata": {},
   "outputs": [
    {
     "data": {
      "application/javascript": [
       "var resp = confirm(\"Please select cancel or ok\");\n",
       "if(resp === true){\n",
       "    alert(\"Its ok!\");\n",
       "}\n",
       "else{\n",
       "    alert(\"Its been cancled\");\n",
       "}"
      ],
      "text/plain": [
       "<IPython.core.display.Javascript object>"
      ]
     },
     "metadata": {},
     "output_type": "display_data"
    }
   ],
   "source": [
    "%%javascript\n",
    "var resp = confirm(\"Please select cancel or ok\");\n",
    "if(resp === true){\n",
    "    alert(\"Its ok!\");\n",
    "}\n",
    "else{\n",
    "    alert(\"Its been cancled\");\n",
    "}"
   ]
  },
  {
   "cell_type": "markdown",
   "metadata": {
    "slideshow": {
     "slide_type": "slide"
    }
   },
   "source": [
    "## Prompt\n",
    "- The final popup box is prompt\n",
    "- Can take one or two string parameters\n",
    "    - Prompt messsage\n",
    "    - Default value\n",
    "- Provides a text box to collect input\n",
    "    - Function returns what is typed in box\n",
    "  "
   ]
  },
  {
   "cell_type": "code",
   "execution_count": 6,
   "metadata": {},
   "outputs": [
    {
     "data": {
      "application/javascript": [
       "var resp = prompt(\"Please type your name:\",\"Batman\");\n",
       "alert(\"Hello \" + resp + \"!\")"
      ],
      "text/plain": [
       "<IPython.core.display.Javascript object>"
      ]
     },
     "metadata": {},
     "output_type": "display_data"
    }
   ],
   "source": [
    "%%javascript\n",
    "var resp = prompt(\"Please type your name:\",\"Batman\");\n",
    "alert(\"Hello \" + resp + \"!\")"
   ]
  },
  {
   "cell_type": "markdown",
   "metadata": {
    "slideshow": {
     "slide_type": "slide"
    }
   },
   "source": [
    "## JavaScript Libraries\n",
    "- Like most scripting languages, there is a wide number of JavaScript libraries available and commonly used\n",
    "    - There is no one source for these like in R, but there are several popular ones\n",
    "- JavaScript libraries can either be downloaded and hosted by you, or you can use one hosted by someone else\n",
    "    - The script tag takes a URL, it can be a fully formed web address"
   ]
  },
  {
   "cell_type": "markdown",
   "metadata": {
    "slideshow": {
     "slide_type": "slide"
    }
   },
   "source": [
    "## Finding JavaScript Libraries\n",
    "- Besides word of mouth, there are several websites I use to find libraries when I need them\n",
    "    - [javascripting.com](https://javascripting.com)\n",
    "    - [cdnjs.com](https://cdnjs.com)\n"
   ]
  },
  {
   "cell_type": "markdown",
   "metadata": {
    "slideshow": {
     "slide_type": "slide"
    }
   },
   "source": [
    "## Content Delivery Network\n",
    "- A content delivery network (CDN) is a distributed network that will load JavaScript libraries (or other resources) from which ever server is faster for the user\n",
    "- This provides speed up in two ways\n",
    "    - Ensures the transfer over the network is fast\n",
    "    - Allows many different sites to use the same cached version of a file"
   ]
  },
  {
   "cell_type": "markdown",
   "metadata": {
    "slideshow": {
     "slide_type": "slide"
    }
   },
   "source": [
    "## jQuery \n",
    "- jQuery is one of the oldest and most popular JavaScript libraires around\n",
    "- Provides\n",
    "    - Easy DOM selection\n",
    "    - Simple events\n",
    "    - CSS manipulation\n",
    "    - AJAX wrapper classes"
   ]
  },
  {
   "cell_type": "markdown",
   "metadata": {
    "slideshow": {
     "slide_type": "slide"
    }
   },
   "source": [
    "## Using jQuery\n",
    "- As JavaScript has gotten more advanced, the need for jQuery has decreased\n",
    "    - If something is available in native JS, it will usually be faster than the jQuery equivalent\n",
    "- That being said, many libraries rely on jQuery, and it is great for writing code quickly\n",
    "- To use it, always use a CDN\n",
    "    - Since so many sites use it, its unlikely you'll ever have to actually send it over the network\n",
    "    "
   ]
  },
  {
   "cell_type": "markdown",
   "metadata": {
    "slideshow": {
     "slide_type": "slide"
    }
   },
   "source": [
    "## Current jQuery Script Tag\n",
    "```javascript\n",
    "<script\n",
    "\tsrc=\"https://code.jquery.com/jquery-3.2.1.min.js\"\n",
    "\tintegrity=\"sha256-hwg4gsxgFZhOsEEamdOYGBf13FyQuiTwlAQgxVSNgt4=\"\n",
    "\tcrossorigin=\"anonymous\"></script>\n",
    "```"
   ]
  },
  {
   "cell_type": "markdown",
   "metadata": {
    "slideshow": {
     "slide_type": "slide"
    }
   },
   "source": [
    "## The `$()` function\n",
    "- The main function in jQuery is `$()` which is used primarily one of two ways\n",
    "    - To run code when the document is ready\n",
    "```javascript\n",
    "$(function(){\n",
    "})\n",
    "```\n",
    "    - To select from the DOM\n",
    "    \n",
    "```javascript\n",
    "    $('selector')\n",
    "```"
   ]
  },
  {
   "cell_type": "code",
   "execution_count": 7,
   "metadata": {
    "slideshow": {
     "slide_type": "slide"
    }
   },
   "outputs": [
    {
     "data": {
      "text/html": [
       "<!DOCTYPE html>\n",
       "<html>\n",
       "    <head>\n",
       "    <script\n",
       "    src=\"https://code.jquery.com/jquery-3.2.1.min.js\"\n",
       "    integrity=\"sha256-hwg4gsxgFZhOsEEamdOYGBf13FyQuiTwlAQgxVSNgt4=\"\n",
       "    crossorigin=\"anonymous\"></script>\n",
       "    <script>\n",
       "    $(function(){\n",
       "        $('#jq1').html(\"HELLO\")\n",
       "    }\n",
       "    );\n",
       "    </script>\n",
       "    </head>\n",
       "    <body>\n",
       "        <p id=\"jq1\"></p>\n",
       "    </body>\n",
       "</html>"
      ],
      "text/plain": [
       "<IPython.core.display.HTML object>"
      ]
     },
     "metadata": {},
     "output_type": "display_data"
    }
   ],
   "source": [
    "%%html\n",
    "<!DOCTYPE html>\n",
    "<html>\n",
    "    <head>\n",
    "    <script\n",
    "    src=\"https://code.jquery.com/jquery-3.2.1.min.js\"\n",
    "    integrity=\"sha256-hwg4gsxgFZhOsEEamdOYGBf13FyQuiTwlAQgxVSNgt4=\"\n",
    "    crossorigin=\"anonymous\"></script>\n",
    "    <script>\n",
    "    $(function(){\n",
    "        $('#jq1').html(\"HELLO\")\n",
    "    }\n",
    "    );\n",
    "    </script>\n",
    "    </head>\n",
    "    <body>\n",
    "        <p id=\"jq1\"></p>\n",
    "    </body>\n",
    "</html>"
   ]
  },
  {
   "cell_type": "markdown",
   "metadata": {
    "slideshow": {
     "slide_type": "slide"
    }
   },
   "source": [
    "## AJAX in jQuery\n",
    "- The $.ajax function allows a JavaScript object to be passed to make an AJAX request\n",
    "- There are too many parameters to list, but a common example might look like\n",
    "\n",
    "```javascript\n",
    "$.ajax({\n",
    "    url: 'myurl.php',\n",
    "    success: function(){},\n",
    "    dataType: 'json',\n",
    "    data: {\"key\":val},\n",
    "});\n",
    "```"
   ]
  },
  {
   "cell_type": "markdown",
   "metadata": {
    "slideshow": {
     "slide_type": "slide"
    }
   },
   "source": [
    "## MomentJS\n",
    "- As shown earlier, the Date object is very bare bones in JavaScript\n",
    "- The `moment` function returns a suped-up date object\n",
    "- Common operations\n",
    "    - `.format()` allows the date to be formatted in a wide array of strings\n",
    "    - `.subtract()` \\ `add()` performs calendar math\n",
    "    - `.fromNow()` returns a string representing how long ago\\ from now something was\\ will be\n"
   ]
  },
  {
   "cell_type": "code",
   "execution_count": 11,
   "metadata": {
    "slideshow": {
     "slide_type": "slide"
    }
   },
   "outputs": [
    {
     "data": {
      "text/html": [
       "<!DOCTPYE>\n",
       "<html>\n",
       "    <head>\n",
       "    <script src=\"https://cdnjs.cloudflare.com/ajax/libs/moment.js/2.19.1/moment.min.js\"></script>\n",
       "    </head>\n",
       "    <body>\n",
       "        <p id=\"mo1\"></p>\n",
       "        <p id=\"mo2\"></p>\n",
       "        <p id=\"mo3\"></p>\n",
       "        <p id=\"mo4\"></p>\n",
       "        <p id=\"mo5\"></p>\n",
       "    <script>\n",
       "        var now = moment();\n",
       "        document.getElementById(\"mo1\").innerHTML = now.format();\n",
       "        document.getElementById(\"mo2\").innerHTML = now.format(\"MM/DD/YYYY\");\n",
       "        document.getElementById(\"mo3\").innerHTML = now.endOf('hour').fromNow();   \n",
       "        document.getElementById(\"mo4\").innerHTML = now.subtract(12,'days').format(\"DD/MM/YYYY\");\n",
       "        document.getElementById(\"mo5\").innerHTML = moment().add(12,'days').calendar();\n",
       "    </script>\n",
       "    </body>\n",
       "</html>"
      ],
      "text/plain": [
       "<IPython.core.display.HTML object>"
      ]
     },
     "metadata": {},
     "output_type": "display_data"
    }
   ],
   "source": [
    "%%html\n",
    "<!DOCTPYE>\n",
    "<html>\n",
    "    <head>\n",
    "    <script src=\"https://cdnjs.cloudflare.com/ajax/libs/moment.js/2.19.1/moment.min.js\"></script>\n",
    "    </head>\n",
    "    <body>\n",
    "        <p id=\"mo1\"></p>\n",
    "        <p id=\"mo2\"></p>\n",
    "        <p id=\"mo3\"></p>\n",
    "        <p id=\"mo4\"></p>\n",
    "        <p id=\"mo5\"></p>\n",
    "    <script>\n",
    "        var now = moment();\n",
    "        document.getElementById(\"mo1\").innerHTML = now.format();\n",
    "        document.getElementById(\"mo2\").innerHTML = now.format(\"MM/DD/YYYY\");\n",
    "        document.getElementById(\"mo3\").innerHTML = now.endOf('hour').fromNow();   \n",
    "        document.getElementById(\"mo4\").innerHTML = now.subtract(12,'days').format(\"DD/MM/YYYY\");\n",
    "        document.getElementById(\"mo5\").innerHTML = moment().add(12,'days').calendar();\n",
    "    </script>\n",
    "    </body>\n",
    "</html>"
   ]
  },
  {
   "cell_type": "markdown",
   "metadata": {
    "slideshow": {
     "slide_type": "slide"
    }
   },
   "source": [
    "## LeafletJS\n",
    "- Adding maps to pages is a very common task\n",
    "    - Google Maps has long been the goto API, but due to wanting a bit more control, many other alternatives have appeared\n",
    "- LeafletJS allows you to add interactive mapping to your page\n",
    "    - Uses any number of tile servers to actually produce the map\n",
    "    "
   ]
  },
  {
   "cell_type": "markdown",
   "metadata": {
    "slideshow": {
     "slide_type": "slide"
    }
   },
   "source": [
    "## Creating a Map\n",
    "- To create a map in Leaflet JS, you need to tell it the tile server you want to use\n",
    "    - You should also place some attribute about where the data is coming from\n",
    "- The `tileLayer` of the map handles the drawing of the tiles\n",
    "\n",
    "```javscript\n",
    "my_map.tileLayer(tileURL, {attribution: 'attribution html'})\n",
    "```"
   ]
  },
  {
   "cell_type": "code",
   "execution_count": 12,
   "metadata": {
    "slideshow": {
     "slide_type": "slide"
    }
   },
   "outputs": [
    {
     "data": {
      "text/html": [
       "<!DOCTYPE html>\n",
       "<html>\n",
       "<head>\n",
       "<link rel=\"stylesheet\" href=\"https://cdnjs.cloudflare.com/ajax/libs/leaflet/1.2.0/leaflet.css\" \n",
       "  integrity=\"sha256-LcmP8hlMTofQrGU6W2q3tUnDnDZ1QVraxfMkP060ekM=\"\n",
       "  crossorigin=\"anonymous\" />\n",
       "<script src=\"https://cdnjs.cloudflare.com/ajax/libs/leaflet/1.2.0/leaflet.js\" \n",
       "        integrity=\"sha256-kdEnCVOWosn3TNsGslxB8ffuKdrZoGQdIdPwh7W1CsE=\" \n",
       "        crossorigin=\"anonymous\"></script>\n",
       "        <style>\n",
       "        #mapid{height:30em;}\n",
       "        </style>\n",
       "</head>\n",
       "<body>\n",
       "    <div id=\"mapid\"></div>\n",
       "    <script>\n",
       "        var mymap = L.map('mapid');\n",
       "        L.tileLayer('https://cartodb-basemaps-{s}.global.ssl.fastly.net/rastertiles/voyager/{z}/{x}/{y}.png',\n",
       "        {\n",
       "        attribution: '&copy; <a href=\"http://osm.org/copyright\">OpenStreetMap</a> contributors,  &copy; <a href=\"https://carto.com/attribution\">CARTO</a>'\n",
       "        }).addTo(mymap);\n",
       "    </script>    \n",
       "            \n",
       "</body>\n",
       "</html>"
      ],
      "text/plain": [
       "<IPython.core.display.HTML object>"
      ]
     },
     "metadata": {},
     "output_type": "display_data"
    }
   ],
   "source": [
    "%%html\n",
    "<!DOCTYPE html>\n",
    "<html>\n",
    "<head>\n",
    "<link rel=\"stylesheet\" href=\"https://cdnjs.cloudflare.com/ajax/libs/leaflet/1.2.0/leaflet.css\" \n",
    "  integrity=\"sha256-LcmP8hlMTofQrGU6W2q3tUnDnDZ1QVraxfMkP060ekM=\"\n",
    "  crossorigin=\"anonymous\" />\n",
    "<script src=\"https://cdnjs.cloudflare.com/ajax/libs/leaflet/1.2.0/leaflet.js\" \n",
    "        integrity=\"sha256-kdEnCVOWosn3TNsGslxB8ffuKdrZoGQdIdPwh7W1CsE=\" \n",
    "        crossorigin=\"anonymous\"></script>\n",
    "        <style>\n",
    "        #mapid{height:30em;}\n",
    "        </style>\n",
    "</head>\n",
    "<body>\n",
    "    <div id=\"mapid\"></div>\n",
    "    <script>\n",
    "        var mymap = L.map('mapid');\n",
    "        L.tileLayer('https://cartodb-basemaps-{s}.global.ssl.fastly.net/rastertiles/voyager/{z}/{x}/{y}.png',\n",
    "        {\n",
    "        attribution: '&copy; <a href=\"http://osm.org/copyright\">OpenStreetMap</a> contributors,  &copy; <a href=\"https://carto.com/attribution\">CARTO</a>'\n",
    "        }).addTo(mymap);\n",
    "    </script>    \n",
    "            \n",
    "</body>\n",
    "</html>"
   ]
  },
  {
   "cell_type": "markdown",
   "metadata": {
    "slideshow": {
     "slide_type": "slide"
    }
   },
   "source": [
    "## Setting the Location\n",
    "- The location is set by passing the latittude and longitue to the `setView` function as an array. \n",
    "    - This function takes a second parameter which is the zoom level, 0 being the furthest out;\n"
   ]
  },
  {
   "cell_type": "code",
   "execution_count": null,
   "metadata": {
    "slideshow": {
     "slide_type": "slide"
    }
   },
   "outputs": [],
   "source": [
    "%%html\n",
    "<!DOCTYPE html>\n",
    "<html>\n",
    "<head>\n",
    "<link rel=\"stylesheet\" href=\"https://cdnjs.cloudflare.com/ajax/libs/leaflet/1.2.0/leaflet.css\" \n",
    "  integrity=\"sha256-LcmP8hlMTofQrGU6W2q3tUnDnDZ1QVraxfMkP060ekM=\"\n",
    "  crossorigin=\"anonymous\" />\n",
    "<script src=\"https://cdnjs.cloudflare.com/ajax/libs/leaflet/1.2.0/leaflet.js\" \n",
    "        integrity=\"sha256-kdEnCVOWosn3TNsGslxB8ffuKdrZoGQdIdPwh7W1CsE=\" \n",
    "        crossorigin=\"anonymous\"></script>\n",
    "        <style>\n",
    "        #mapid{height:30em;}\n",
    "        </style>\n",
    "</head>\n",
    "<body>\n",
    "    <div id=\"mapid\"></div>\n",
    "    <script>\n",
    "        var mymap = L.map('mapid');\n",
    "        mymap.setView([0,0],0);\n",
    "        L.tileLayer('https://cartodb-basemaps-{s}.global.ssl.fastly.net/rastertiles/voyager/{z}/{x}/{y}.png',\n",
    "        {\n",
    "        attribution: '&copy; <a href=\"http://osm.org/copyright\">OpenStreetMap</a> contributors,  &copy; <a href=\"https://carto.com/attribution\">CARTO</a>'\n",
    "        }).addTo(mymap);\n",
    "    </script>    \n",
    "            \n",
    "</body>"
   ]
  },
  {
   "cell_type": "markdown",
   "metadata": {
    "slideshow": {
     "slide_type": "slide"
    }
   },
   "source": [
    "## Interacting with the Map\n",
    "- LeafletJS handles zooming and moving around the map (panning) for you\n",
    "- If you want to perform an action when this happens, you can listen to events by calling the `on` function on your map object\n",
    "```javascript\n",
    "map.on('move',function(){\n",
    "                        });\n",
    "```\n",
    "- A full list of events is available in the leafletJS documentation, http://leafletjs.com/reference-1.2.0.html#map-event\n"
   ]
  },
  {
   "cell_type": "markdown",
   "metadata": {
    "slideshow": {
     "slide_type": "slide"
    }
   },
   "source": [
    "## Adding to the Map\n",
    "- Adding markers to the map is very simple, use the `marker([lat,long])` function\n",
    "    - This is called on the leaflet object, `L` and then added to the map\n",
    "- By default, this simply places a marker, \n",
    "    - To have something happen when you click on it, use `bindPopup()`"
   ]
  },
  {
   "cell_type": "code",
   "execution_count": null,
   "metadata": {
    "slideshow": {
     "slide_type": "slide"
    }
   },
   "outputs": [],
   "source": [
    "%%html\n",
    "<!DOCTYPE html>\n",
    "<html>\n",
    "<head>\n",
    "<link rel=\"stylesheet\" href=\"https://cdnjs.cloudflare.com/ajax/libs/leaflet/1.2.0/leaflet.css\" \n",
    "  integrity=\"sha256-LcmP8hlMTofQrGU6W2q3tUnDnDZ1QVraxfMkP060ekM=\"\n",
    "  crossorigin=\"anonymous\" />\n",
    "<script src=\"https://cdnjs.cloudflare.com/ajax/libs/leaflet/1.2.0/leaflet.js\" \n",
    "        integrity=\"sha256-kdEnCVOWosn3TNsGslxB8ffuKdrZoGQdIdPwh7W1CsE=\" \n",
    "        crossorigin=\"anonymous\"></script>\n",
    "</head>\n",
    "<style>\n",
    "        #mapid {height:30em;}\n",
    "</style>\n",
    "<body>\n",
    "    <div id=\"mapid\"></div>\n",
    "    <script>\n",
    "        var mymap = L.map('mapid');\n",
    "        mymap.setView([0,0],5);\n",
    "        L.tileLayer('https://cartodb-basemaps-{s}.global.ssl.fastly.net/rastertiles/voyager/{z}/{x}/{y}.png',\n",
    "        {\n",
    "        attribution: '&copy; <a href=\"http://osm.org/copyright\">OpenStreetMap</a> contributors,  &copy; <a href=\"https://carto.com/attribution\">CARTO</a>'\n",
    "        }).addTo(mymap);\n",
    "        var m = L.marker([0,0]).addTo(mymap);\n",
    "        m.bindPopup(\"This is 0,0\");\n",
    "    </script>\n",
    "\n",
    "</body>\n",
    "</html>\n",
    "        "
   ]
  },
  {
   "cell_type": "markdown",
   "metadata": {
    "slideshow": {
     "slide_type": "slide"
    }
   },
   "source": [
    "## More APIs\n",
    "- As more and more of daily computing moves to the internet, it becomes important to be able to interact with the devices themselves\n",
    "- Modern APIS aren't part of JavaScript proper, but allow this\n",
    "    - Geolocation API\n",
    "    - Vibration API\n",
    "    - Notification API"
   ]
  },
  {
   "cell_type": "markdown",
   "metadata": {
    "slideshow": {
     "slide_type": "slide"
    }
   },
   "source": [
    "## Geolocation\n",
    "- The geolocation API is found off of the `window.navigator` object\n",
    "    - If not present, `window.navigator.geolocation` will not exist\n",
    "- Most web browsers will prompt the user for permission to share this information\n",
    "- Important methods\n",
    "    - `getCurrentPosition()`\n",
    "    - `watchPosition`"
   ]
  },
  {
   "cell_type": "code",
   "execution_count": 16,
   "metadata": {
    "slideshow": {
     "slide_type": "slide"
    }
   },
   "outputs": [
    {
     "data": {
      "text/html": [
       "<!DOCTYPE html>\n",
       "<html>\n",
       "<head>\n",
       "<body>\n",
       "    <div id=\"loc1\"></div>\n",
       "    <script>\n",
       "       if('geolocation' in window.navigator)\n",
       "       {\n",
       "           window.navigator.geolocation.getCurrentPosition(\n",
       "            function(position) {\n",
       "                \n",
       "              //document.getElementById('loc1').innerHTML = \n",
       "               alert(\"You are at \" +  \n",
       "                   position.coords.latitude + \", \" + \n",
       "                   position.coords.longitude + \"!\");\n",
       "           });\n",
       "       }\n",
       "       else{\n",
       "           document.getElementById(\"loc1\").innerHTML = \"Position Not Available\";\n",
       "       }\n",
       "    </script>\n",
       "\n",
       "</body>\n",
       "</html>\n",
       "        "
      ],
      "text/plain": [
       "<IPython.core.display.HTML object>"
      ]
     },
     "metadata": {},
     "output_type": "display_data"
    }
   ],
   "source": [
    "%%html\n",
    "<!DOCTYPE html>\n",
    "<html>\n",
    "<head>\n",
    "<body>\n",
    "    <div id=\"loc1\"></div>\n",
    "    <script>\n",
    "       if('geolocation' in window.navigator)\n",
    "       {\n",
    "           window.navigator.geolocation.getCurrentPosition(\n",
    "            function(position) {\n",
    "                \n",
    "              //document.getElementById('loc1').innerHTML = \n",
    "               alert(\"You are at \" +  \n",
    "                   position.coords.latitude + \", \" + \n",
    "                   position.coords.longitude + \"!\");\n",
    "           });\n",
    "       }\n",
    "       else{\n",
    "           document.getElementById(\"loc1\").innerHTML = \"Position Not Available\";\n",
    "       }\n",
    "    </script>\n",
    "\n",
    "</body>\n",
    "</html>\n",
    "        "
   ]
  },
  {
   "cell_type": "markdown",
   "metadata": {
    "slideshow": {
     "slide_type": "slide"
    }
   },
   "source": [
    "## Notification API\n",
    "- The notification API also requires permission, but this must be handled programmatically\n",
    "\n",
    "```javsascript\n",
    "Notification.requestPermission();\n",
    "```\n",
    "- Once permission is given, a OS notification can be initiated by creating a new notification object\n",
    "\n",
    "```javascript\n",
    "new Notification(\"Hello\");\n",
    "```"
   ]
  },
  {
   "cell_type": "code",
   "execution_count": 17,
   "metadata": {
    "slideshow": {
     "slide_type": "slide"
    }
   },
   "outputs": [
    {
     "data": {
      "text/html": [
       "<!DOCTYPE html>\n",
       "<html>\n",
       "<head>\n",
       "<body>\n",
       "    <div id=\"not1\"></div>\n",
       "    <script>\n",
       "       if('Notification' in window)\n",
       "       {\n",
       "           Notification.requestPermission(function(perm){\n",
       "                if(perm == \"granted\"){\n",
       "                    var note = new Notification(\"Hello from your OS!\");\n",
       "                }\n",
       "           });\n",
       "       }\n",
       "       else{\n",
       "           document.getElementById(\"not1\").innerHTML = \"Notifications not supported\";\n",
       "       }\n",
       "    </script>\n",
       "\n",
       "</body>\n",
       "</html>"
      ],
      "text/plain": [
       "<IPython.core.display.HTML object>"
      ]
     },
     "metadata": {},
     "output_type": "display_data"
    }
   ],
   "source": [
    "%%html\n",
    "<!DOCTYPE html>\n",
    "<html>\n",
    "<head>\n",
    "<body>\n",
    "    <div id=\"not1\"></div>\n",
    "    <script>\n",
    "       if('Notification' in window)\n",
    "       {\n",
    "           Notification.requestPermission(function(perm){\n",
    "                if(perm == \"granted\"){\n",
    "                    var note = new Notification(\"Hello from your OS!\");\n",
    "                }\n",
    "           });\n",
    "       }\n",
    "       else{\n",
    "           document.getElementById(\"not1\").innerHTML = \"Notifications not supported\";\n",
    "       }\n",
    "    </script>\n",
    "\n",
    "</body>\n",
    "</html>"
   ]
  },
  {
   "cell_type": "code",
   "execution_count": null,
   "metadata": {},
   "outputs": [],
   "source": []
  }
 ],
 "metadata": {
  "celltoolbar": "Slideshow",
  "kernelspec": {
   "display_name": "Python 2",
   "language": "python",
   "name": "python2"
  },
  "language_info": {
   "codemirror_mode": {
    "name": "ipython",
    "version": 3
   },
   "file_extension": ".py",
   "mimetype": "text/x-python",
   "name": "python",
   "nbconvert_exporter": "python",
   "pygments_lexer": "ipython3",
   "version": "3.5.2"
  }
 },
 "nbformat": 4,
 "nbformat_minor": 2
}

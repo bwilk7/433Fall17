{
 "cells": [
  {
   "cell_type": "markdown",
   "metadata": {
    "slideshow": {
     "slide_type": "slide"
    }
   },
   "source": [
    "# Regular Expressions\n",
    "## Backreferences, Accessing Matches, and Substitution"
   ]
  },
  {
   "cell_type": "code",
   "execution_count": null,
   "metadata": {
    "slideshow": {
     "slide_type": "skip"
    }
   },
   "outputs": [],
   "source": [
    "# This is necessary to print every statement on a new line\n",
    "# It is activating a feature that will be standard in Perl 6\n",
    "\n",
    "use feature qw(say);\n",
    "\n",
    "# The following allows us to read UTF-8 Characters \n",
    "use open ':encoding(UTF-8)';\n",
    "no warnings;"
   ]
  },
  {
   "cell_type": "code",
   "execution_count": null,
   "metadata": {
    "slideshow": {
     "slide_type": "skip"
    }
   },
   "outputs": [],
   "source": [
    "my @songs = (\"God\\'s Plan by Drake\",\"Perfect by Ed Sheeran\",\"Havana by Camila Cabello Featuring Young Thug\",\"Rockstar by Post Malone Featuring 21 Savage\",\"Finesse by Bruno Mars & Cardi B\",\"Bad At Love by Halsey\",\"Diplomatic Immunity by Drake\",\"New Rules by Dua Lipa\",\"Thunder by Imagine Dragons\",\"No Limit by G-Eazy Featuring A$AP Rocky & Cardi B\",\"MotorSport by Migos, Nicki Minaj & Cardi B\",\"Meant To Be by Bebe Rexha & Florida Georgia Line\",\"Too Good At Goodbyes by Sam Smith\",\"Let You Down by NF\",\"Love. by Kendrick Lamar Featuring Zacari\",\"Him & I by G-Eazy & Halsey\",\"Gucci Gang by Lil Pump\",\"Gummo by 6ix9ine\",\"I Fall Apart by Post Malone\",\"Bartier Cardi by Cardi B Featuring 21 Savage\",\"How Long by Charlie Puth\",\"Shape Of You by Ed Sheeran\",\"Bodak Yellow (Money Moves) by Cardi B\",\"I Get The Bag by Gucci Mane Featuring Migos\",\"Feel It Still by Portugal. The Man\",\"Wolves by Selena Gomez X Marshmello\",\"Plain Jane by A$AP Ferg\",\"Believer by Imagine Dragons\",\"Sky Walker by Miguel Featuring Travis Scott\",\"End Game by Taylor Swift Featuring Ed Sheeran & Future\",\"Roll In Peace by Kodak Black Featuring XXXTENTACION\",\"Sorry Not Sorry by Demi Lovato\",\"Filthy by Justin Timberlake\",\"River by Eminem Featuring Ed Sheeran\",\"Young Dumb & Broke by Khalid\",\"Marry Me by Thomas Rhett\",\"Never Be The Same by Camila Cabello\",\"Lights Down Low by MAX Featuring gnash\",\"Ric Flair Drip by Offset & Metro Boomin\",\"Lemon by N*E*R*D & Rihanna\",\"What Lovers Do by Maroon 5 Featuring SZA\",\"The Way Life Goes by Lil Uzi Vert Featuring Nicki Minaj\",\"Keke by 6ix9ine, Fetty Wap & A Boogie Wit da Hoodie\",\"Mi Gente by J Balvin & Willy William Featuring Beyonce\",\"Let Me Go by Hailee Steinfeld & Alesso Featuring Florida Georgia Line & Watt\",\"1-800-273-8255 by Logic Featuring Alessia Cara & Khalid\",\"Bank Account by 21 Savage\",\"Attention by Charlie Puth\",\"Yours by Russell Dickerson\",\"Unforgettable by French Montana Featuring Swae Lee\",\"Outside Today by YoungBoy Never Broke Again\",\"Stir Fry by Migos\",\"Pills And Automobiles by Chris Brown Featuring Yo Gotti, A Boogie Wit da Hoodie & Kodak Black\",\"All The Stars by Kendrick Lamar & SZA\",\"Good Old Days by Macklemore Featuring Kesha\",\"Mine by Bazzi\",\"Nowadays by Lil Skies Featuring Landon Cube\",\"Pick It Up by Famous Dex Featuring A$AP Rocky\",\"Greatest Love Story by LANCO\",\"Written In The Sand by Old Dominion\",\"No Smoke by YoungBoy Never Broke Again\",\"Losing Sleep by Chris Young\",\"Like I Loved You by Brett Young\",\"Five More Minutes by Scotty McCreery\",\"Sick Boy by The Chainsmokers\",\"This Is Me by Keala Settle & The Greatest Showman Ensemble\",\"Heaven by Kane Brown\",\"Echame La Culpa by Luis Fonsi & Demi Lovato\",\"Rubbin Off The Paint by YBN Nahmir\",\"You Broke Up With Me by Walker Hayes\",\"Supplies by Justin Timberlake\",\"Codeine Dreaming by Kodak Black Featuring Lil Wayne\",\"Betrayed by Lil Xan\",\"Red Roses by Lil Skies Featuring Landon Cube\",\"One Foot by WALK THE MOON\",\"La Modelo by Ozuna x Cardi B\",\"Rewrite The Stars by Zac Efron & Zendaya\",\"Candy Paint by Post Malone\",\"Tell Me You Love Me by Demi Lovato\",\"Round Here Buzz by Eric Church\",\"All On Me by Devin Dawson\",\"No Name by NF\",\"King\\'s Dead by Jay Rock, Kendrick Lamar, Future & James Blake\",\"MIC Drop by BTS Featuring Desiigner\",\"Broken Halos by Chris Stapleton\",\"Kooda by 6ix9ine\",\"Legends by Kelsea Ballerini\",\"Wait by Maroon 5\",\"Best Friend by Sofi Tukker Featuring NERVO, The Knocks & Alisa Ueno\",\"Ice Tray by Quavo & Lil Yachty\",\"Beautiful Trauma by P!nk\",\"IDGAF by Dua Lipa\",\"Corazon by Maluma X Nego do Borel\",\"Mayores by Becky G Featuring Bad Bunny\",\"The Greatest Show by Hugh Jackman, Keala Settle, Zac Efron, Zendaya & The Greatest Showman Ensemble\",\"Never Enough by Loren Allred\",\"My Dawg by Lil Baby\",\"I\\'ll Name The Dogs by Blake Shelton\",\"Rock by Plies\",\"Female by Keith Urban\")"
   ]
  },
  {
   "cell_type": "markdown",
   "metadata": {
    "slideshow": {
     "slide_type": "slide"
    }
   },
   "source": [
    "## Warm-Up"
   ]
  },
  {
   "cell_type": "code",
   "execution_count": null,
   "metadata": {},
   "outputs": [],
   "source": [
    "# Write a regular expression that finds all songs\n",
    "# in the top 100 by only one person\n",
    "# Finesse by Bruno Mars & Cardi B SHOULD NOT MATCH\n",
    "# Too Good At Goodbyes by Sam Smith SHOULD MATCH\n",
    "# Young Dumb & Broke by Khalid SHOULD MATCH\n",
    "# \n",
    "\n",
    "\n",
    "foreach my $s (@songs) {\n",
    "  say $s if $s =~ /REGEX_HERE/;\n",
    "}"
   ]
  },
  {
   "cell_type": "markdown",
   "metadata": {
    "slideshow": {
     "slide_type": "slide"
    }
   },
   "source": [
    "## Today's Data\n",
    "- Today we will be working CSV data of international airports and their cities, countries, and continent\n",
    "- Each line has the format of \n",
    "```csv\n",
    "    City, Airport Name, Airport Code, Country, Continent \n",
    "```\n",
    "- The data was scraped from https://en.wikipedia.org/wiki/List_of_international_airports_by_country"
   ]
  },
  {
   "cell_type": "markdown",
   "metadata": {
    "slideshow": {
     "slide_type": "slide"
    }
   },
   "source": [
    "## Backreferences\n",
    "* Last lecture we primarily used grouping to make our regex's neater. \n",
    "* One of the most powerful uses of grouping is to specify seeing the same match later in the expression\n",
    "* Each group is assigned a number by the regular expression engine\n",
    "    * To refer back to that group, use backslash followed by the number, e.g. \\1"
   ]
  },
  {
   "cell_type": "code",
   "execution_count": null,
   "metadata": {
    "slideshow": {
     "slide_type": "slide"
    }
   },
   "outputs": [],
   "source": [
    "open(my $fh,  'data/airports.tsv');\n",
    "\n",
    "while (my $row = <$fh>) {\n",
    "   chomp $row; #Remove trailing \\n\n",
    "   say $row if $row =~ /^.*\\t(\\b\\w+\\b).*\\W.*\\1.*\\t.*\\t.*\\t.*$/;\n",
    "}\n",
    "close($fh);"
   ]
  },
  {
   "cell_type": "code",
   "execution_count": null,
   "metadata": {
    "slideshow": {
     "slide_type": "slide"
    }
   },
   "outputs": [],
   "source": [
    "open(my $fh,  'data/airports.tsv');\n",
    "\n",
    "while (my $row = <$fh>) {\n",
    "   chomp $row; #Remove trailing \\n\n",
    "   say $row if $row =~ \n",
    "       /\\t.*(\\w).*(\\w).*(\\w).*\\t\\1\\2\\3\\t.*\\t.*$/;\n",
    "}\n",
    "close($fh);"
   ]
  },
  {
   "cell_type": "markdown",
   "metadata": {
    "slideshow": {
     "slide_type": "slide"
    }
   },
   "source": [
    "## Backreference Ordering\n",
    "* If there are multiple groups in a regex, they are numbered by their left parentheses\n",
    "* This can get confusing, here is a helpful chart presented by Dan Hood\n",
    "<img src=\"img/registers.png\" alt=\"Diagram showing numbering of groups, the outermost group being labeled 1, followed by 2, 3, etc.\">"
   ]
  },
  {
   "cell_type": "markdown",
   "metadata": {
    "slideshow": {
     "slide_type": "slide"
    }
   },
   "source": [
    "## Backrefercing Practice"
   ]
  },
  {
   "cell_type": "code",
   "execution_count": null,
   "metadata": {},
   "outputs": [],
   "source": [
    "# Write a regular epxression that finds airports with at \n",
    "# least part of their country name in the airport name. \n",
    "# Alternatively, find a country with part  of the airport\n",
    "# name in it\n",
    "open(my $fh,  'data/airports.tsv');\n",
    "\n",
    "while (my $row = <$fh>) {\n",
    "  chomp $row; #Remove trailing \\n\n",
    "  say $row if $row =~ /REGEX_HERE/;\n",
    "}\n",
    "close($fh);"
   ]
  },
  {
   "cell_type": "markdown",
   "metadata": {
    "slideshow": {
     "slide_type": "slide"
    }
   },
   "source": [
    "## Accessing Matches\n",
    "* Often we want to retrieve a specific part of the match\n",
    "* We can do this by using groups, and then referring back to the group number later in the code\n",
    "* Each language has a slightly different way of doing this\n",
    "    * In Perl this uses the same numbering scheme as back-references, but the matches are stored in Perl variables\n",
    "    * If it is the first match, use `$1` rather than `\\1`"
   ]
  },
  {
   "cell_type": "code",
   "execution_count": null,
   "metadata": {
    "slideshow": {
     "slide_type": "slide"
    }
   },
   "outputs": [],
   "source": [
    "open(my $fh,  'data/airports.tsv');\n",
    "\n",
    "while (my $row = <$fh>) {\n",
    "  chomp $row; #Remove trailing \\n\n",
    "  if ($row =~ /\\t(.*)\\t.*\\tEngland/){\n",
    "      say $1;\n",
    "  }\n",
    "}\n",
    "close($fh);"
   ]
  },
  {
   "cell_type": "code",
   "execution_count": null,
   "metadata": {
    "slideshow": {
     "slide_type": "slide"
    }
   },
   "outputs": [],
   "source": [
    "open(my $fh,  'data/airports.tsv');\n",
    "\n",
    "while (my $row = <$fh>) {\n",
    "  chomp $row; #Remove trailing \\n\n",
    "  if ($row =~ /^(.*)\\t\\1(.+)\\sInternational Airport\\t/){\n",
    "      say $2;\n",
    "  }\n",
    "}\n",
    "close($fh);"
   ]
  },
  {
   "cell_type": "markdown",
   "metadata": {
    "slideshow": {
     "slide_type": "slide"
    }
   },
   "source": [
    "## Substitution Introduction\n",
    "- Many times the reason we want to know if something is present is so we can replace it\n",
    "- Regular expressions give us much more powerful, dynamic ways of replacing than just string literals offer\n",
    "- The following aren't possible (or aren't simple) with string literals\n",
    "    - 410-455-1000 $\\to$ (410) 455-1000\n",
    "    - `if x == 4 : print x , y ; x , y = y , x` $\\to$ `if x == 4: print x, y; x, y = y, x`\n",
    "          "
   ]
  },
  {
   "cell_type": "markdown",
   "metadata": {
    "slideshow": {
     "slide_type": "slide"
    }
   },
   "source": [
    "\n",
    "## Substitution Basics\n",
    "* In Perl the syntax for a substitution regex is ```s/regex/substitution/```\n",
    "* The regex is the only part that can use metacharacters\n",
    "    * The substition can consist of literal characters or special variables\n",
    "   \n"
   ]
  },
  {
   "cell_type": "code",
   "execution_count": null,
   "metadata": {},
   "outputs": [],
   "source": [
    "$ssn = \"A social security number looks like 000-12-3456 or 000-98-7654\";\n",
    "$ssn =~ s/\\d{3}-\\d\\d-\\d{4}/****/;\n",
    "say $ssn;"
   ]
  },
  {
   "cell_type": "markdown",
   "metadata": {
    "slideshow": {
     "slide_type": "slide"
    }
   },
   "source": [
    "## Simple Substitution using the g Modifier\n",
    "* In most cases, we want to use substitution to substitute all matches, so we should use the g modifier"
   ]
  },
  {
   "cell_type": "code",
   "execution_count": null,
   "metadata": {},
   "outputs": [],
   "source": [
    "$ssn = \"A social security number looks like 000-12-3456 or 000-98-7654\";\n",
    "$ssn =~ s/\\d{3}-\\d\\d-\\d{4}/****/g;\n",
    "say $ssn;"
   ]
  },
  {
   "cell_type": "markdown",
   "metadata": {
    "slideshow": {
     "slide_type": "slide"
    }
   },
   "source": [
    "## Simple Substitution with Literals\n",
    "* The pattern portion can consist only of literals\n",
    "    * Many languages now have a specific replace method or function to operate on strings\n",
    "    * Still very useful to use fast simple tools like ```sed```"
   ]
  },
  {
   "cell_type": "code",
   "execution_count": null,
   "metadata": {},
   "outputs": [],
   "source": [
    "$umbc = \"UMBC is located in MD\";\n",
    "$umbc =~ s/UMBC/The University of Maryland, Baltimore County/g;\n",
    "say $umbc;\n",
    "$umbc =~ s/MD/Maryland/g;\n",
    "say $umbc;"
   ]
  },
  {
   "cell_type": "markdown",
   "metadata": {
    "slideshow": {
     "slide_type": "slide"
    }
   },
   "source": [
    "## Basic Substitution Practice"
   ]
  },
  {
   "cell_type": "code",
   "execution_count": null,
   "metadata": {},
   "outputs": [],
   "source": [
    "## Write a substitution pattern to replace any non-legal UNIX filename\n",
    "# characters with an underscore. Multipe non-legal characters in \n",
    "# a row should be replaced with a single underscore\n",
    "# Legal Characters: A-Z, a-z, 0-9, . , - , _\n",
    "$file_name = \" My invalid / file[Name]\";\n",
    "$file_name =~ s/REGEX/REPLACE/g;\n",
    "say $file_name;"
   ]
  },
  {
   "cell_type": "markdown",
   "metadata": {
    "slideshow": {
     "slide_type": "slide"
    }
   },
   "source": [
    "## Backreference Variables\n",
    "* Many common tasks, like reformatting, involving saving part of the match\n",
    "    * To refer to a group found in the pattern, use \\$x, where x is the group number"
   ]
  },
  {
   "cell_type": "code",
   "execution_count": null,
   "metadata": {},
   "outputs": [],
   "source": [
    "$today = \"Today's date is 2-5-18\";\n",
    "$today =~ s/(\\d?\\d)-(\\d?\\d)-(\\d\\d)/$1\\/$2\\/$3/g;\n",
    "say $today;"
   ]
  },
  {
   "cell_type": "code",
   "execution_count": null,
   "metadata": {
    "slideshow": {
     "slide_type": "slide"
    }
   },
   "outputs": [],
   "source": [
    "$today = \"Today's date is 02-05-18\";\n",
    "$today =~ s/(\\d?\\d)-(\\d?\\d)-(\\d\\d)/$1\\/$2\\/$3/g;\n",
    "say $today;"
   ]
  },
  {
   "cell_type": "code",
   "execution_count": null,
   "metadata": {
    "slideshow": {
     "slide_type": "-"
    }
   },
   "outputs": [],
   "source": [
    "$ssn = \"A social security number looks like 000-12-3456 or 000-98-7654\";\n",
    "$ssn =~ s/\\d\\d\\d-\\d\\d-(\\d{4})/***-**-$1/g;\n",
    "say $ssn;"
   ]
  },
  {
   "cell_type": "markdown",
   "metadata": {
    "slideshow": {
     "slide_type": "slide"
    }
   },
   "source": [
    "## Sidenote: Changing Delimiters\n",
    "* When matching or substituting a string with the ```/``` character, it can be very annoying to escape all of them\n",
    "* Almost any puncuation can be used as the delimiter\n",
    "    * If it is a character that comes in pairs, you should use the left and right versions"
   ]
  },
  {
   "cell_type": "code",
   "execution_count": null,
   "metadata": {},
   "outputs": [],
   "source": [
    "$today = \"Today's date is 02-05-18\";\n",
    "$today =~ s[(\\d?\\d)-(\\d?\\d)-(\\d\\d)][$1/$2/$3]g;\n",
    "say $today;"
   ]
  },
  {
   "cell_type": "code",
   "execution_count": null,
   "metadata": {
    "slideshow": {
     "slide_type": "slide"
    }
   },
   "outputs": [],
   "source": [
    "$today = \"Today's date is 09-07-17\";\n",
    "$today =~ s!(\\d?\\d)-(\\d?\\d)-(\\d\\d)!$1/$2/$3!g;\n",
    "say $today;"
   ]
  },
  {
   "cell_type": "markdown",
   "metadata": {
    "slideshow": {
     "slide_type": "slide"
    }
   },
   "source": [
    "## Substitution Live Example"
   ]
  },
  {
   "cell_type": "code",
   "execution_count": null,
   "metadata": {},
   "outputs": [],
   "source": [
    "# Given a string of non PEP compliant spacing in \n",
    "# [] or {} or (), remove all extraneous spacing\n",
    "# array[ 4 ] -> array[4]\n",
    "$x = \"spam( ham[ 1 ], { eggs: 2 } )\";\n",
    "$x =~ s/REGEX/SUBSTITUTE/g;\n",
    "say $x;"
   ]
  },
  {
   "cell_type": "markdown",
   "metadata": {
    "slideshow": {
     "slide_type": "slide"
    }
   },
   "source": [
    "## Substitution Practice"
   ]
  },
  {
   "cell_type": "code",
   "execution_count": null,
   "metadata": {},
   "outputs": [],
   "source": [
    "# Repalace all relative links (of the form href=\"index.html\" etc,)\n",
    "# with absolute links, (of the \n",
    "#form href=\"https://cs.umbc.edu/coursese/undergraduate/433/index.html\")\n",
    "# assume absolute path is as above\n",
    "\n",
    "$html = '<a href=\"index.html\">A link</a><a href=\"img/my_img.png\">An image</a>';\n",
    "$html =~ s|REGEX|SUBSTITUTE|g;\n",
    "say $html;"
   ]
  },
  {
   "cell_type": "markdown",
   "metadata": {
    "slideshow": {
     "slide_type": "slide"
    }
   },
   "source": [
    "## Lookahead and Lookbehind\n",
    "* In some instances, we want to match, but not capture a piece of text\n",
    "    * Are zero-width assertaions\n",
    "    * After the look ahead is complete we return to the same place in the text\n",
    "* A lookahead is written as:\n",
    "\n",
    "    ```(?=pattern)```\n",
    "\n",
    "* A lookbehind is written as:\n",
    "\n",
    "    ```(?<=pattern)```\n",
    "    * They usually cannot be variable length "
   ]
  },
  {
   "cell_type": "markdown",
   "metadata": {
    "slideshow": {
     "slide_type": "slide"
    }
   },
   "source": [
    "## Lookahead Example"
   ]
  },
  {
   "cell_type": "code",
   "execution_count": null,
   "metadata": {},
   "outputs": [],
   "source": [
    "open(my $fh,  'data/airports.tsv');\n",
    "\n",
    "while (my $row = <$fh>) {\n",
    "  chomp $row; #Remove trailing \\n\n",
    "  if ($row =~ /\\t.*\\t(?=.*\\tEngland)/){\n",
    "      say $&;\n",
    "  }\n",
    "}\n",
    "close($fh);"
   ]
  },
  {
   "cell_type": "code",
   "execution_count": null,
   "metadata": {
    "slideshow": {
     "slide_type": "slide"
    }
   },
   "outputs": [],
   "source": [
    "open(my $fh, 'data/airports.tsv');\n",
    "\n",
    "while (my $row = <$fh>) {\n",
    "  chomp $row; #Remove trailing \\n\n",
    "  if ($row =~ s/\\t(.*)\\t(?=.*\\tEngland)/\\tBritian's $1\\t/){\n",
    "      say $row;\n",
    "  }\n",
    "}\n",
    "close($fh);"
   ]
  },
  {
   "cell_type": "markdown",
   "metadata": {
    "slideshow": {
     "slide_type": "slide"
    }
   },
   "source": [
    "## Lookbehind Example"
   ]
  },
  {
   "cell_type": "code",
   "execution_count": null,
   "metadata": {},
   "outputs": [],
   "source": [
    "open(my $fh, 'data/airports.tsv');\n",
    "\n",
    "while (my $row = <$fh>) {\n",
    "  chomp $row; #Remove trailing \\n\n",
    "  if ($row =~ /(?<=London\\t).*/){\n",
    "      say $&;\n",
    "  }\n",
    "}\n",
    "close($fh);"
   ]
  },
  {
   "cell_type": "markdown",
   "metadata": {
    "slideshow": {
     "slide_type": "slide"
    }
   },
   "source": [
    "## Lookahead and Lookbehind Example\n",
    "* Lets assume that in our text every 7 digit number is a phone number"
   ]
  },
  {
   "cell_type": "code",
   "execution_count": null,
   "metadata": {},
   "outputs": [],
   "source": [
    "$bad_number = \"1234567\";\n",
    "$bad_number =~ s/(?<=\\d\\d\\d)(?=\\d\\d\\d\\d)/-/g;\n",
    "say $bad_number;"
   ]
  },
  {
   "cell_type": "markdown",
   "metadata": {
    "slideshow": {
     "slide_type": "slide"
    }
   },
   "source": [
    "## Live Lookahead Example\n",
    "- In the beginning of the lecture we looked at how regex's are helpful for code reformattting\n",
    "- The specific python convention we looked at was no spaces immediately before a comma, semicolon, or colon"
   ]
  },
  {
   "cell_type": "code",
   "execution_count": null,
   "metadata": {},
   "outputs": [],
   "source": [
    "$code = \"if x == 4 : print x , y ; x , y = y , x\"\n",
    "$code =~ s/REGEX/REPLACEMENT/g;\n",
    "say $code;"
   ]
  },
  {
   "cell_type": "markdown",
   "metadata": {
    "slideshow": {
     "slide_type": "slide"
    }
   },
   "source": [
    "## Lookahead Practice"
   ]
  },
  {
   "cell_type": "code",
   "execution_count": null,
   "metadata": {},
   "outputs": [],
   "source": [
    "# Substitute all instances of James with President, \n",
    "# when followed by  Monroe or Madison or Polk \n",
    "\n",
    "$text = <<HERE;\n",
    "James is a common name for presidents, there have been many\n",
    "presidents named James, like James Madison, James Monroe, \n",
    "and James Polk. Lebron James has not been US president.\n",
    "HERE\n",
    "           \n",
    "$text =~ s/REXEG/SUBSTITUTION/g;\n",
    "say $text;"
   ]
  },
  {
   "cell_type": "markdown",
   "metadata": {
    "slideshow": {
     "slide_type": "slide"
    }
   },
   "source": [
    "## Negative Lookahead and Behind\n",
    "\n",
    "- A useful ability is to ensure the thing you are looking for is not followed or preceded by something\n",
    "- This is a negative lookahead or lookbehind, and the syntax is almost identical, except the `=` is now a `!`\n",
    "\n",
    "- Negative Lookahead\n",
    "\n",
    "    ``` (?!pattern) ```\n",
    "    \n",
    "- Negative Lookbehind\n",
    "\n",
    "    ``` (?<!pattern) ```"
   ]
  },
  {
   "cell_type": "markdown",
   "metadata": {
    "slideshow": {
     "slide_type": "slide"
    }
   },
   "source": [
    "## Negative Lookahead and Behind Examples"
   ]
  },
  {
   "cell_type": "code",
   "execution_count": null,
   "metadata": {
    "scrolled": true
   },
   "outputs": [],
   "source": [
    "open(my $fh, 'data/airports.tsv');\n",
    "\n",
    "while (my $row = <$fh>) {\n",
    "  chomp $row; #Remove trailing \\n\n",
    "  if ($row =~ /^.*\\t.*International (?!Airport).*\\t/){\n",
    "      say $&;\n",
    "  }\n",
    "}\n",
    "close($fh);"
   ]
  },
  {
   "cell_type": "markdown",
   "metadata": {
    "slideshow": {
     "slide_type": "slide"
    }
   },
   "source": [
    "## Splitting Strings\n",
    "* Regular Expressions allow strings to be split in more dynamic ways"
   ]
  },
  {
   "cell_type": "code",
   "execution_count": null,
   "metadata": {},
   "outputs": [],
   "source": [
    "$bad_csv_data = \"Name,Phone Number,Email,a,list,of,websites,visited,Date\";\n",
    "@data = split /,(?=[A-Z])/, $bad_csv_data;\n",
    "foreach $d (@data){\n",
    "        if ($d =~ /,/ ){\n",
    "            foreach $e (split /,/, $d, 2)\n",
    "            {say $e}\n",
    "        }\n",
    "        else{\n",
    "        say $d;\n",
    "    }\n",
    "}\n"
   ]
  }
 ],
 "metadata": {
  "celltoolbar": "Slideshow",
  "kernelspec": {
   "display_name": "IPerl 0.009",
   "language": "perl",
   "name": "iperl"
  },
  "language_info": {
   "file_extension": ".pl",
   "mimetype": "text/x-perl",
   "name": "perl",
   "version": "5.22.1"
  },
  "toc": {
   "nav_menu": {},
   "number_sections": false,
   "sideBar": true,
   "skip_h1_title": false,
   "toc_cell": false,
   "toc_position": {},
   "toc_section_display": "block",
   "toc_window_display": false
  }
 },
 "nbformat": 4,
 "nbformat_minor": 2
}

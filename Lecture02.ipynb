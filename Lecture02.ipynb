{
 "cells": [
  {
   "cell_type": "markdown",
   "metadata": {
    "slideshow": {
     "slide_type": "slide"
    }
   },
   "source": [
    "# Regular Expressions\n",
    "## Backreferences, Accessing Matches, and Substitution"
   ]
  },
  {
   "cell_type": "code",
   "execution_count": 2,
   "metadata": {
    "slideshow": {
     "slide_type": "skip"
    }
   },
   "outputs": [],
   "source": [
    "# This is necessary to print every statement on a new line\n",
    "# It is activating a feature that will be standard in Perl 6\n",
    "\n",
    "use feature qw(say);\n",
    "\n",
    "# The following allows us to read UTF-8 Characters \n",
    "use open ':encoding(UTF-8)';\n",
    "no warnings;"
   ]
  },
  {
   "cell_type": "code",
   "execution_count": 3,
   "metadata": {
    "slideshow": {
     "slide_type": "skip"
    }
   },
   "outputs": [],
   "source": [
    "my @songs = (\"God\\'s Plan by Drake\",\"Perfect by Ed Sheeran\",\"Havana by Camila Cabello Featuring Young Thug\",\"Rockstar by Post Malone Featuring 21 Savage\",\"Finesse by Bruno Mars & Cardi B\",\"Bad At Love by Halsey\",\"Diplomatic Immunity by Drake\",\"New Rules by Dua Lipa\",\"Thunder by Imagine Dragons\",\"No Limit by G-Eazy Featuring A$AP Rocky & Cardi B\",\"MotorSport by Migos, Nicki Minaj & Cardi B\",\"Meant To Be by Bebe Rexha & Florida Georgia Line\",\"Too Good At Goodbyes by Sam Smith\",\"Let You Down by NF\",\"Love. by Kendrick Lamar Featuring Zacari\",\"Him & I by G-Eazy & Halsey\",\"Gucci Gang by Lil Pump\",\"Gummo by 6ix9ine\",\"I Fall Apart by Post Malone\",\"Bartier Cardi by Cardi B Featuring 21 Savage\",\"How Long by Charlie Puth\",\"Shape Of You by Ed Sheeran\",\"Bodak Yellow (Money Moves) by Cardi B\",\"I Get The Bag by Gucci Mane Featuring Migos\",\"Feel It Still by Portugal. The Man\",\"Wolves by Selena Gomez X Marshmello\",\"Plain Jane by A$AP Ferg\",\"Believer by Imagine Dragons\",\"Sky Walker by Miguel Featuring Travis Scott\",\"End Game by Taylor Swift Featuring Ed Sheeran & Future\",\"Roll In Peace by Kodak Black Featuring XXXTENTACION\",\"Sorry Not Sorry by Demi Lovato\",\"Filthy by Justin Timberlake\",\"River by Eminem Featuring Ed Sheeran\",\"Young Dumb & Broke by Khalid\",\"Marry Me by Thomas Rhett\",\"Never Be The Same by Camila Cabello\",\"Lights Down Low by MAX Featuring gnash\",\"Ric Flair Drip by Offset & Metro Boomin\",\"Lemon by N*E*R*D & Rihanna\",\"What Lovers Do by Maroon 5 Featuring SZA\",\"The Way Life Goes by Lil Uzi Vert Featuring Nicki Minaj\",\"Keke by 6ix9ine, Fetty Wap & A Boogie Wit da Hoodie\",\"Mi Gente by J Balvin & Willy William Featuring Beyonce\",\"Let Me Go by Hailee Steinfeld & Alesso Featuring Florida Georgia Line & Watt\",\"1-800-273-8255 by Logic Featuring Alessia Cara & Khalid\",\"Bank Account by 21 Savage\",\"Attention by Charlie Puth\",\"Yours by Russell Dickerson\",\"Unforgettable by French Montana Featuring Swae Lee\",\"Outside Today by YoungBoy Never Broke Again\",\"Stir Fry by Migos\",\"Pills And Automobiles by Chris Brown Featuring Yo Gotti, A Boogie Wit da Hoodie & Kodak Black\",\"All The Stars by Kendrick Lamar & SZA\",\"Good Old Days by Macklemore Featuring Kesha\",\"Mine by Bazzi\",\"Nowadays by Lil Skies Featuring Landon Cube\",\"Pick It Up by Famous Dex Featuring A$AP Rocky\",\"Greatest Love Story by LANCO\",\"Written In The Sand by Old Dominion\",\"No Smoke by YoungBoy Never Broke Again\",\"Losing Sleep by Chris Young\",\"Like I Loved You by Brett Young\",\"Five More Minutes by Scotty McCreery\",\"Sick Boy by The Chainsmokers\",\"This Is Me by Keala Settle & The Greatest Showman Ensemble\",\"Heaven by Kane Brown\",\"Echame La Culpa by Luis Fonsi & Demi Lovato\",\"Rubbin Off The Paint by YBN Nahmir\",\"You Broke Up With Me by Walker Hayes\",\"Supplies by Justin Timberlake\",\"Codeine Dreaming by Kodak Black Featuring Lil Wayne\",\"Betrayed by Lil Xan\",\"Red Roses by Lil Skies Featuring Landon Cube\",\"One Foot by WALK THE MOON\",\"La Modelo by Ozuna x Cardi B\",\"Rewrite The Stars by Zac Efron & Zendaya\",\"Candy Paint by Post Malone\",\"Tell Me You Love Me by Demi Lovato\",\"Round Here Buzz by Eric Church\",\"All On Me by Devin Dawson\",\"No Name by NF\",\"King\\'s Dead by Jay Rock, Kendrick Lamar, Future & James Blake\",\"MIC Drop by BTS Featuring Desiigner\",\"Broken Halos by Chris Stapleton\",\"Kooda by 6ix9ine\",\"Legends by Kelsea Ballerini\",\"Wait by Maroon 5\",\"Best Friend by Sofi Tukker Featuring NERVO, The Knocks & Alisa Ueno\",\"Ice Tray by Quavo & Lil Yachty\",\"Beautiful Trauma by P!nk\",\"IDGAF by Dua Lipa\",\"Corazon by Maluma X Nego do Borel\",\"Mayores by Becky G Featuring Bad Bunny\",\"The Greatest Show by Hugh Jackman, Keala Settle, Zac Efron, Zendaya & The Greatest Showman Ensemble\",\"Never Enough by Loren Allred\",\"My Dawg by Lil Baby\",\"I\\'ll Name The Dogs by Blake Shelton\",\"Rock by Plies\",\"Female by Keith Urban\")"
   ]
  },
  {
   "cell_type": "markdown",
   "metadata": {
    "slideshow": {
     "slide_type": "slide"
    }
   },
   "source": [
    "## Warm-Up"
   ]
  },
  {
   "cell_type": "code",
   "execution_count": 7,
   "metadata": {},
   "outputs": [
    {
     "name": "stdout",
     "output_type": "stream",
     "text": [
      "God's Plan by Drake\n",
      "Perfect by Ed Sheeran\n",
      "Havana by Camila Cabello Featuring Young Thug\n",
      "Rockstar by Post Malone Featuring 21 Savage\n",
      "Bad At Love by Halsey\n",
      "Diplomatic Immunity by Drake\n",
      "New Rules by Dua Lipa\n",
      "Thunder by Imagine Dragons\n",
      "Too Good At Goodbyes by Sam Smith\n",
      "Let You Down by NF\n",
      "Love. by Kendrick Lamar Featuring Zacari\n",
      "Gucci Gang by Lil Pump\n",
      "Gummo by 6ix9ine\n",
      "I Fall Apart by Post Malone\n",
      "Bartier Cardi by Cardi B Featuring 21 Savage\n",
      "How Long by Charlie Puth\n",
      "Shape Of You by Ed Sheeran\n",
      "Bodak Yellow (Money Moves) by Cardi B\n",
      "I Get The Bag by Gucci Mane Featuring Migos\n",
      "Feel It Still by Portugal. The Man\n",
      "Wolves by Selena Gomez X Marshmello\n",
      "Plain Jane by A Ferg\n",
      "Believer by Imagine Dragons\n",
      "Sky Walker by Miguel Featuring Travis Scott\n",
      "Roll In Peace by Kodak Black Featuring XXXTENTACION\n",
      "Sorry Not Sorry by Demi Lovato\n",
      "Filthy by Justin Timberlake\n",
      "River by Eminem Featuring Ed Sheeran\n",
      "Young Dumb & Broke by Khalid\n",
      "Marry Me by Thomas Rhett\n",
      "Never Be The Same by Camila Cabello\n",
      "Lights Down Low by MAX Featuring gnash\n",
      "What Lovers Do by Maroon 5 Featuring SZA\n",
      "The Way Life Goes by Lil Uzi Vert Featuring Nicki Minaj\n",
      "Bank Account by 21 Savage\n",
      "Attention by Charlie Puth\n",
      "Yours by Russell Dickerson\n",
      "Unforgettable by French Montana Featuring Swae Lee\n",
      "Outside Today by YoungBoy Never Broke Again\n",
      "Stir Fry by Migos\n",
      "Good Old Days by Macklemore Featuring Kesha\n",
      "Mine by Bazzi\n",
      "Nowadays by Lil Skies Featuring Landon Cube\n",
      "Pick It Up by Famous Dex Featuring A Rocky\n",
      "Greatest Love Story by LANCO\n",
      "Written In The Sand by Old Dominion\n",
      "No Smoke by YoungBoy Never Broke Again\n",
      "Losing Sleep by Chris Young\n",
      "Like I Loved You by Brett Young\n",
      "Five More Minutes by Scotty McCreery\n",
      "Sick Boy by The Chainsmokers\n",
      "Heaven by Kane Brown\n",
      "Rubbin Off The Paint by YBN Nahmir\n",
      "You Broke Up With Me by Walker Hayes\n",
      "Supplies by Justin Timberlake\n",
      "Codeine Dreaming by Kodak Black Featuring Lil Wayne\n",
      "Betrayed by Lil Xan\n",
      "Red Roses by Lil Skies Featuring Landon Cube\n",
      "One Foot by WALK THE MOON\n",
      "La Modelo by Ozuna x Cardi B\n",
      "Candy Paint by Post Malone\n",
      "Tell Me You Love Me by Demi Lovato\n",
      "Round Here Buzz by Eric Church\n",
      "All On Me by Devin Dawson\n",
      "No Name by NF\n",
      "MIC Drop by BTS Featuring Desiigner\n",
      "Broken Halos by Chris Stapleton\n",
      "Kooda by 6ix9ine\n",
      "Legends by Kelsea Ballerini\n",
      "Wait by Maroon 5\n",
      "Beautiful Trauma by P!nk\n",
      "IDGAF by Dua Lipa\n",
      "Corazon by Maluma X Nego do Borel\n",
      "Mayores by Becky G Featuring Bad Bunny\n",
      "Never Enough by Loren Allred\n",
      "My Dawg by Lil Baby\n",
      "I'll Name The Dogs by Blake Shelton\n",
      "Rock by Plies\n",
      "Female by Keith Urban\n"
     ]
    }
   ],
   "source": [
    "# Write a regular expression that finds all songs\n",
    "# in the top 100 by only one person\n",
    "# Finesse by Bruno Mars & Cardi B SHOULD NOT MATCH\n",
    "# Too Good At Goodbyes by Sam Smith SHOULD MATCH\n",
    "# Young Dumb & Broke by Khalid SHOULD MATCH\n",
    "# \n",
    "\n",
    "foreach my $s (@songs) {\n",
    "  say $s if $s =~ /by[^&,]+$/;\n",
    "}"
   ]
  },
  {
   "cell_type": "markdown",
   "metadata": {
    "slideshow": {
     "slide_type": "slide"
    }
   },
   "source": [
    "## Today's Data\n",
    "- Today we will be working CSV data of international airports and their cities, countries, and continent\n",
    "- Each line has the format of \n",
    "```csv\n",
    "        City\\tAirport Name, Airport Code, Country, Continent \n",
    "```\n",
    "- The data was scraped from https://en.wikipedia.org/wiki/List_of_international_airports_by_country"
   ]
  },
  {
   "cell_type": "markdown",
   "metadata": {
    "slideshow": {
     "slide_type": "slide"
    }
   },
   "source": [
    "## Backreferences\n",
    "* Last lecture we primarily used grouping to make our regex's neater. \n",
    "* One of the most powerful uses of grouping is to specify seeing the same match later in the expression\n",
    "* Each group is assigned a number by the regular expression engine\n",
    "    * To refer back to that group, use backslash followed by the number, e.g. \\1"
   ]
  },
  {
   "cell_type": "code",
   "execution_count": 8,
   "metadata": {
    "slideshow": {
     "slide_type": "slide"
    }
   },
   "outputs": [
    {
     "name": "stdout",
     "output_type": "stream",
     "text": [
      "Brazzaville\tMaya-Maya Airport\tBZV\tRepublic of the Congo\tAfrica\n",
      "El Dabaa\tAl Alamain International Airport\tDBB\tEgypt\tAfrica\n",
      "Santa Cruz de la Sierra\tViru Viru International Airport\tVVI\tBolivia\tAmericas\n",
      "Xi'an\tXi'an Xianyang International Airport\tXIY\tChina\tAsia\n"
     ]
    },
    {
     "data": {
      "text/plain": [
       "1"
      ]
     },
     "execution_count": 8,
     "metadata": {},
     "output_type": "execute_result"
    }
   ],
   "source": [
    "open(my $fh,  'data/airports.tsv');\n",
    "\n",
    "while (my $row = <$fh>) {\n",
    "   chomp $row; #Remove trailing \\n\n",
    "   say $row if $row =~ /^.*\\t(\\b\\w+\\b).*\\W.*\\1.*\\t.*\\t.*\\t.*$/;\n",
    "}\n",
    "close($fh);"
   ]
  },
  {
   "cell_type": "code",
   "execution_count": 9,
   "metadata": {
    "scrolled": true,
    "slideshow": {
     "slide_type": "slide"
    }
   },
   "outputs": [
    {
     "name": "stdout",
     "output_type": "stream",
     "text": [
      "Franceville\tM'Vengue El Hadj Omar Bongo Ondimba International Airport\tMVB\tGabon\tAfrica\n",
      "Victoria Falls\tVictoria Falls Airport\tVFA\tZimbabwe\tAfrica\n",
      "Baltimore\tBaltimore-Washington International Thurgood Marshall Airport\tBWI\tUnited States\tAmericas\n",
      "Dallas\tDallas/Fort Worth International Airport\tDFW\tUnited States\tAmericas\n",
      "Miami\tMiami International Airport\tMIA\tUnited States\tAmericas\n",
      "Minneapolis/St. Paul\tMinneapolis-Saint Paul International Airport\tMSP\tUnited States\tAmericas\n",
      "New York City\tJohn F. Kennedy International Airport\tJFK\tUnited States\tAmericas\n",
      "New York City\tLaGuardia Airport\tLGA\tUnited States\tAmericas\n",
      "Salt Lake City\tSalt Lake City International Airport\tSLC\tUnited States\tAmericas\n",
      "West Palm Beach\tPalm Beach International Airport\tPBI\tUnited States\tAmericas\n",
      "Santa Cruz de la Sierra\tViru Viru International Airport\tVVI\tBolivia\tAmericas\n",
      "Shanghai\tShanghai Hongqiao International Airport\tSHA\tChina\tAsia\n",
      "Taipei\tTaipei Songshan Airport\tTSA\tTaiwan\tAsia\n",
      "Kottayam\tSabarigiri International Airport\tSIA\tIndia\tAsia\n",
      "Navi Mumbai\tNavi Mumbai International Airport\tNMA\tIndia\tAsia\n",
      "Tehran\tTehran Imam Khomeini International Airport\tIKA\tIran\tAsia\n",
      "Figari\tFigari Sud-Corse Airport\tFSC\tFrance\tEurope\n",
      "Tirana\tTirana International Airport Nënë Tereza\tTIA\tAlbania\tEurope\n",
      "Nottingham/Leicester\tEast Midlands Airport\tEMA\tEngland and Wales\tEurope\n",
      "Leeds/Bradford\tLeeds Bradford International Airport\tLBA\tEngland and Wales\tEurope\n"
     ]
    },
    {
     "data": {
      "text/plain": [
       "1"
      ]
     },
     "execution_count": 9,
     "metadata": {},
     "output_type": "execute_result"
    }
   ],
   "source": [
    "open(my $fh,  'data/airports.tsv');\n",
    "\n",
    "while (my $row = <$fh>) {\n",
    "   chomp $row; #Remove trailing \\n\n",
    "   say $row if $row =~ \n",
    "       /\\t.*(\\w).*(\\w).*(\\w).*\\t\\1\\2\\3\\t.*\\t.*$/;\n",
    "}\n",
    "close($fh);"
   ]
  },
  {
   "cell_type": "markdown",
   "metadata": {
    "slideshow": {
     "slide_type": "slide"
    }
   },
   "source": [
    "## Backreference Ordering\n",
    "* If there are multiple groups in a regex, they are numbered by their left parentheses\n",
    "* This can get confusing, here is a helpful chart presented by Dan Hood\n",
    "<img src=\"img/registers.png\" alt=\"Diagram showing numbering of groups, the outermost group being labeled 1, followed by 2, 3, etc.\">"
   ]
  },
  {
   "cell_type": "markdown",
   "metadata": {
    "slideshow": {
     "slide_type": "slide"
    }
   },
   "source": [
    "## Backrefercing Practice"
   ]
  },
  {
   "cell_type": "code",
   "execution_count": 12,
   "metadata": {
    "scrolled": true
   },
   "outputs": [
    {
     "name": "stdout",
     "output_type": "stream",
     "text": [
      "São Tomé\tSão Tomé International Airport\tTMS\tSão Tomé and Príncipe\tAfrica\n",
      "Victoria\tSeychelles International Airport\tSEZ\tSeychelles\tAfrica\n",
      "Djibouti City\tDjiboutiâAmbouli International Airport\tJIB\tDjibouti\tAfrica\n",
      "Port Sudan\tPort Sudan New International Airport\tPZU\tSudan\tAfrica\n",
      "Fort-de-France\tMartinique Aimé Césaire International Airport\tFDF\tMartinique\tAmericas\n",
      "Mexico City\tMexico City International Airport\tMEX\tMexico\tAmericas\n",
      "Hong Kong\tHong Kong International Airport\tHKG\tHong Kong\tAsia\n",
      "Macau\tMacau International Airport\tMFM\tMacau\tAsia\n",
      "Taoyuan\tTaiwan Taoyuan International Airport\tTPE\tTaiwan\tAsia\n",
      "Bandar Seri Begawan\tBrunei International Airport\tBWN\tBrunei\tAsia\n",
      "Singapore\tSingapore Changi Airport\tSIN\tSingapore\tAsia\n",
      "Manama\tBahrain International Airport\tBAH\tBahrain\tAsia\n",
      "Diyala Governorate\tDiyala International Airport\t\tMiddle Euphrates International Airport\tAsia\n",
      "Kuwait\tKuwait International Airport\tKWI\tKuwait\tAsia\n",
      "Guernsey\tGuernsey Airport\tGCI\tGuernsey\tEurope\n",
      "Jersey\tJersey Airport\tJER\tJersey\tEurope\n",
      "Knock\tIreland West Airport Knock\tNOC\tIreland\tEurope\n",
      "Isle of Man\tIsle of Man Airport\tIOM\tIsle of Man\tEurope\n",
      "Luqa\tMalta International Airport\tMLA\tMalta\tEurope\n",
      "Christmas Island\tChristmas Island Airport\tXCH\tChristmas Island\tOceania\n",
      "Cocos (Keeling Islands)\tCocos (Keeling) Islands Airport\tCCK\tCocos (Keeling Islands)\tOceania\n",
      "Majuro\tMarshall Islands International Airport\tMAJ\tMarshall Islands\tOceania\n",
      "Yaren\tNauru International Airport\tINU\tNauru\tOceania\n",
      "Norfolk Island\tNorfolk Airport\tNLK\tNorfolk Island\tOceania\n",
      "Alofi\tNiue International Airport\tIUE\tNiue\tOceania\n"
     ]
    },
    {
     "data": {
      "text/plain": [
       "1"
      ]
     },
     "execution_count": 12,
     "metadata": {},
     "output_type": "execute_result"
    }
   ],
   "source": [
    "# Write a regular epxression that finds airports with at \n",
    "# least part of their country name in the airport name. \n",
    "# Alternatively, find a country with part  of the airport\n",
    "# name in it\n",
    "open(my $fh,  'data/airports.tsv');\n",
    "\n",
    "while (my $row = <$fh>) {\n",
    "  chomp $row; #Remove trailing \\n\n",
    "  say $row if $row =~ /^.*\\t.*(\\b\\w+\\b).*\\t.*\\t.*\\b\\1\\b.*\\t/;\n",
    "}\n",
    "close($fh);"
   ]
  },
  {
   "cell_type": "markdown",
   "metadata": {
    "slideshow": {
     "slide_type": "slide"
    }
   },
   "source": [
    "## Accessing Matches\n",
    "* Often we want to retrieve a specific part of the match\n",
    "* We can do this by using groups, and then referring back to the group number later in the code\n",
    "* Each language has a slightly different way of doing this\n",
    "    * In Perl this uses the same numbering scheme as back-references, but the matches are stored in Perl variables\n",
    "    * If it is the first match, use `$1` rather than `\\1`"
   ]
  },
  {
   "cell_type": "code",
   "execution_count": 13,
   "metadata": {
    "slideshow": {
     "slide_type": "slide"
    }
   },
   "outputs": [
    {
     "name": "stdout",
     "output_type": "stream",
     "text": [
      "Birmingham International Airport\n",
      "Bournemouth Airport\n",
      "Bristol Airport\n",
      "Cardiff Airport\n",
      "Robin Hood Airport Doncaster Sheffield\n",
      "Durham Tees Valley Airport\n",
      "East Midlands Airport\n",
      "Exeter International Airport\n",
      "Leeds Bradford International Airport\n",
      "Liverpool John Lennon Airport\n",
      "London City Airport\n",
      "Gatwick Airport\n",
      "Heathrow Airport\n",
      "Luton Airport\n",
      "Southend Airport\n",
      "Stansted Airport\n",
      "Manchester Airport\n",
      "Newcastle Airport\n",
      "Newquay Cornwall Airport\n",
      "Norwich International Airport\n",
      "Southampton Airport\n"
     ]
    },
    {
     "data": {
      "text/plain": [
       "1"
      ]
     },
     "execution_count": 13,
     "metadata": {},
     "output_type": "execute_result"
    }
   ],
   "source": [
    "open(my $fh,  'data/airports.tsv');\n",
    "\n",
    "while (my $row = <$fh>) {\n",
    "  chomp $row; #Remove trailing \\n\n",
    "  if ($row =~ /\\t(.*)\\t.*\\tEngland/){\n",
    "      say $1;\n",
    "  }\n",
    "}\n",
    "close($fh);"
   ]
  },
  {
   "cell_type": "code",
   "execution_count": 14,
   "metadata": {
    "slideshow": {
     "slide_type": "slide"
    }
   },
   "outputs": [
    {
     "name": "stdout",
     "output_type": "stream",
     "text": [
      " Bole\n",
      " New\n",
      "-Hammamet\n",
      "âPamandzi\n",
      "âOumtounsy\n",
      " \"Isla Colón\"\n",
      " Stanfield\n",
      "-Mirabel\n",
      "-Pierre Elliott Trudeau\n",
      " Macdonald-Cartier\n",
      " John G. Diefenbaker\n",
      " James Armstrong Richardson\n",
      "-Zihuatanejo\n",
      " Fulton\n",
      "-Bergstrom\n",
      "-Shuttlesworth\n",
      " Niagara\n",
      "/Douglas\n",
      " Midway\n",
      " Rockford\n",
      "/Northern Kentucky\n",
      " Hopkins\n",
      "/Fort Worth\n",
      "-Hollywood\n",
      " Yosemite\n",
      " Liberty\n",
      " Sky Harbor\n",
      "-Tahoe\n",
      "-Tacoma\n",
      " Hancock\n",
      "-Galeão\n",
      "-Guarulhos\n",
      " Sunan\n",
      " Capital\n",
      " Longjia\n",
      " Huanghua\n",
      " Shuangliu\n",
      " Jiangbei\n",
      " Zhoushuizi\n",
      " Changle\n",
      " Baiyun\n",
      " Liangjiang\n",
      " Meilan\n",
      " Xiaoshan\n",
      " Taiping\n",
      " Xinqiao\n",
      " Chaoshan\n",
      " Yaoqiang\n",
      " Changshui\n",
      " Zhongchuan\n",
      " Changbei\n",
      " Lukou\n",
      " Wuxu\n",
      " Lishe\n",
      " liuting\n",
      " Jinjiang\n",
      " Phoenix\n",
      " Hongqiao\n",
      " Pudong\n",
      " Taoxian\n",
      " Bao'an\n",
      " Zhengding\n",
      " Wusu\n",
      " Binhai\n",
      " Diwopu\n",
      " Tianhe\n",
      " Gaoqi\n",
      " Xianyang\n",
      " Penglai\n",
      " Hedong\n",
      " Xinzheng\n",
      " Manali\n",
      "-Angkor\n",
      "âSilay\n",
      " Imam Khomeini\n",
      " Rafic Hariri\n",
      " Ferenc Liszt\n",
      " Danylo Halytskyi\n"
     ]
    },
    {
     "data": {
      "text/plain": [
       "1"
      ]
     },
     "execution_count": 14,
     "metadata": {},
     "output_type": "execute_result"
    }
   ],
   "source": [
    "open(my $fh,  'data/airports.tsv');\n",
    "\n",
    "while (my $row = <$fh>) {\n",
    "  chomp $row; #Remove trailing \\n\n",
    "  if ($row =~ /^(.*)\\t\\1(.+)\\sInternational Airport\\t/){\n",
    "      say $2;\n",
    "  }\n",
    "}\n",
    "close($fh);"
   ]
  },
  {
   "cell_type": "markdown",
   "metadata": {
    "slideshow": {
     "slide_type": "slide"
    }
   },
   "source": [
    "## Substitution Introduction\n",
    "- Many times the reason we want to know if something is present is so we can replace it\n",
    "- Regular expressions give us much more powerful, dynamic ways of replacing than just string literals offer\n",
    "- The following aren't possible (or aren't simple) with string literals\n",
    "    - 410-455-1000 $\\to$ (410) 455-1000\n",
    "    - `if x == 4 : print x , y ; x , y = y , x` $\\to$ `if x == 4: print x, y; x, y = y, x`\n",
    "          "
   ]
  },
  {
   "cell_type": "markdown",
   "metadata": {
    "slideshow": {
     "slide_type": "slide"
    }
   },
   "source": [
    "\n",
    "## Substitution Basics\n",
    "* In Perl the syntax for a substitution regex is ```s/regex/substitution/```\n",
    "* The regex is the only part that can use metacharacters\n",
    "    * The substition can consist of literal characters or special variables\n",
    "   \n"
   ]
  },
  {
   "cell_type": "code",
   "execution_count": 18,
   "metadata": {},
   "outputs": [
    {
     "name": "stdout",
     "output_type": "stream",
     "text": [
      "A social security number looks like **** or 000-98-7654\n"
     ]
    },
    {
     "data": {
      "text/plain": [
       "1"
      ]
     },
     "execution_count": 18,
     "metadata": {},
     "output_type": "execute_result"
    }
   ],
   "source": [
    "$ssn = \"A social security number looks like 000-12-3456 or 000-98-7654\";\n",
    "$ssn =~ s/\\b\\d{3}-\\d\\d-\\d{4}\\b/****/;\n",
    "say $ssn;"
   ]
  },
  {
   "cell_type": "markdown",
   "metadata": {
    "slideshow": {
     "slide_type": "slide"
    }
   },
   "source": [
    "## Simple Substitution using the g Modifier\n",
    "* In most cases, we want to use substitution to substitute all matches, so we should use the g modifier"
   ]
  },
  {
   "cell_type": "code",
   "execution_count": 19,
   "metadata": {},
   "outputs": [
    {
     "name": "stdout",
     "output_type": "stream",
     "text": [
      "A social security number looks like **** or ****\n"
     ]
    },
    {
     "data": {
      "text/plain": [
       "1"
      ]
     },
     "execution_count": 19,
     "metadata": {},
     "output_type": "execute_result"
    }
   ],
   "source": [
    "$ssn = \"A social security number looks like 000-12-3456 or 000-98-7654\";\n",
    "$ssn =~ s/\\b\\d{3}-\\d\\d-\\d{4}\\b/****/g;\n",
    "say $ssn;"
   ]
  },
  {
   "cell_type": "markdown",
   "metadata": {
    "slideshow": {
     "slide_type": "slide"
    }
   },
   "source": [
    "## Simple Substitution with Literals\n",
    "* The pattern portion can consist only of literals\n",
    "    * Many languages now have a specific replace method or function to operate on strings\n",
    "    * Still very useful to use fast simple tools like ```sed```"
   ]
  },
  {
   "cell_type": "code",
   "execution_count": 20,
   "metadata": {},
   "outputs": [
    {
     "name": "stdout",
     "output_type": "stream",
     "text": [
      "The University of Maryland, Baltimore County is located in MD\n",
      "The University of Maryland, Baltimore County is located in Maryland\n"
     ]
    },
    {
     "data": {
      "text/plain": [
       "1"
      ]
     },
     "execution_count": 20,
     "metadata": {},
     "output_type": "execute_result"
    }
   ],
   "source": [
    "$umbc = \"UMBC is located in MD\";\n",
    "$umbc =~ s/UMBC/The University of Maryland, Baltimore County/g;\n",
    "say $umbc;\n",
    "$umbc =~ s/MD/Maryland/g;\n",
    "say $umbc;"
   ]
  },
  {
   "cell_type": "markdown",
   "metadata": {
    "slideshow": {
     "slide_type": "slide"
    }
   },
   "source": [
    "## Basic Substitution Practice"
   ]
  },
  {
   "cell_type": "code",
   "execution_count": 27,
   "metadata": {},
   "outputs": [
    {
     "name": "stdout",
     "output_type": "stream",
     "text": [
      "_My_invalid._file_Name_\n"
     ]
    },
    {
     "data": {
      "text/plain": [
       "1"
      ]
     },
     "execution_count": 27,
     "metadata": {},
     "output_type": "execute_result"
    }
   ],
   "source": [
    "## Write a substitution pattern to replace any non-legal \n",
    "# UNIX filename #characters with an underscore. \n",
    "# Multipe non-legal characters in  a row should be \n",
    "# replaced with a single underscore\n",
    "# Legal Characters: A-Z, a-z, 0-9, . , - , _\n",
    "$file_name = \" My invalid. /  file[Name]\";\n",
    "$file_name =~ s/[^\\w\\.\\-_]+/_/g;\n",
    "say $file_name;"
   ]
  },
  {
   "cell_type": "markdown",
   "metadata": {
    "slideshow": {
     "slide_type": "slide"
    }
   },
   "source": [
    "## Backreference Variables\n",
    "* Many common tasks, like reformatting, involving saving part of the match\n",
    "    * To refer to a group found in the pattern, use \\$x, where x is the group number"
   ]
  },
  {
   "cell_type": "code",
   "execution_count": 30,
   "metadata": {},
   "outputs": [
    {
     "name": "stdout",
     "output_type": "stream",
     "text": [
      "Today's date is 5/2/18\n"
     ]
    },
    {
     "data": {
      "text/plain": [
       "1"
      ]
     },
     "execution_count": 30,
     "metadata": {},
     "output_type": "execute_result"
    }
   ],
   "source": [
    "$today = \"Today's date is 2-5-18\";\n",
    "$today =~ s/(\\d?\\d)-(\\d?\\d)-(\\d\\d)/$2\\/$1\\/$3/g;\n",
    "say $today;"
   ]
  },
  {
   "cell_type": "code",
   "execution_count": 31,
   "metadata": {
    "slideshow": {
     "slide_type": "slide"
    }
   },
   "outputs": [
    {
     "name": "stdout",
     "output_type": "stream",
     "text": [
      "Today's date is 02/05/18\n"
     ]
    },
    {
     "data": {
      "text/plain": [
       "1"
      ]
     },
     "execution_count": 31,
     "metadata": {},
     "output_type": "execute_result"
    }
   ],
   "source": [
    "$today = \"Today's date is 02-05-18\";\n",
    "$today =~ s/(\\d?\\d)-(\\d\\d?)-(\\d\\d)/$1\\/$2\\/$3/g;\n",
    "say $today;"
   ]
  },
  {
   "cell_type": "code",
   "execution_count": 34,
   "metadata": {
    "slideshow": {
     "slide_type": "-"
    }
   },
   "outputs": [
    {
     "name": "stdout",
     "output_type": "stream",
     "text": [
      "A social security number looks like ***-**-3456 or ***-**-7654\n"
     ]
    },
    {
     "data": {
      "text/plain": [
       "1"
      ]
     },
     "execution_count": 34,
     "metadata": {},
     "output_type": "execute_result"
    }
   ],
   "source": [
    "$ssn = \"A social security number looks like 000-12-3456 or 000-98-7654\";\n",
    "$ssn =~ s/\\d\\d\\d-\\d\\d-(\\d{4})/***-**-$1/g;\n",
    "say $ssn;"
   ]
  },
  {
   "cell_type": "markdown",
   "metadata": {
    "slideshow": {
     "slide_type": "slide"
    }
   },
   "source": [
    "## Sidenote: Changing Delimiters\n",
    "* When matching or substituting a string with the ```/``` character, it can be very annoying to escape all of them\n",
    "* Almost any puncuation can be used as the delimiter\n",
    "    * If it is a character that comes in pairs, you should use the left and right versions"
   ]
  },
  {
   "cell_type": "code",
   "execution_count": 35,
   "metadata": {},
   "outputs": [
    {
     "name": "stdout",
     "output_type": "stream",
     "text": [
      "Today's date is 02/05/18\n"
     ]
    },
    {
     "data": {
      "text/plain": [
       "1"
      ]
     },
     "execution_count": 35,
     "metadata": {},
     "output_type": "execute_result"
    }
   ],
   "source": [
    "$today = \"Today's date is 02-05-18\";\n",
    "$today =~ s[(\\d?\\d)-(\\d?\\d)-(\\d\\d)][$1/$2/$3]g;\n",
    "say $today;"
   ]
  },
  {
   "cell_type": "code",
   "execution_count": 36,
   "metadata": {
    "slideshow": {
     "slide_type": "slide"
    }
   },
   "outputs": [
    {
     "name": "stdout",
     "output_type": "stream",
     "text": [
      "Today's date is 09/07/17\n"
     ]
    },
    {
     "data": {
      "text/plain": [
       "1"
      ]
     },
     "execution_count": 36,
     "metadata": {},
     "output_type": "execute_result"
    }
   ],
   "source": [
    "$today = \"Today's date is 09-07-17\";\n",
    "$today =~ s!(\\d?\\d)-(\\d?\\d)-(\\d\\d)!$1/$2/$3!g;\n",
    "say $today;"
   ]
  },
  {
   "cell_type": "markdown",
   "metadata": {
    "slideshow": {
     "slide_type": "slide"
    }
   },
   "source": [
    "## Substitution Live Example"
   ]
  },
  {
   "cell_type": "code",
   "execution_count": 39,
   "metadata": {},
   "outputs": [
    {
     "name": "stdout",
     "output_type": "stream",
     "text": [
      "spam(ham[1], {eggs: 2})\n"
     ]
    },
    {
     "data": {
      "text/plain": [
       "1"
      ]
     },
     "execution_count": 39,
     "metadata": {},
     "output_type": "execute_result"
    }
   ],
   "source": [
    "# Given a string of non PEP compliant spacing in \n",
    "# [] or {} or (), remove all extraneous spacing\n",
    "# array[ 4 ] -> array[4]\n",
    "$x = \"spam( ham[ 1 ], { eggs: 2 } )\";\n",
    "$x =~ s/\\[\\s+(.*?)\\s+\\]/[$1]/g;\n",
    "$x =~ s/{\\s+(.*?)\\s+\\}/{$1}/g;\n",
    "$x =~ s/\\(\\s+(.*?)\\s+\\)/($1)/g;\n",
    "\n",
    "say $x;"
   ]
  },
  {
   "cell_type": "markdown",
   "metadata": {
    "slideshow": {
     "slide_type": "slide"
    }
   },
   "source": [
    "## Substitution Practice"
   ]
  },
  {
   "cell_type": "code",
   "execution_count": 2,
   "metadata": {},
   "outputs": [
    {
     "name": "stdout",
     "output_type": "stream",
     "text": [
      "<a href=\"https://server/index.html\">A link</a><a href=\"https://server/img/my_img.png\">An image</a>\n"
     ]
    },
    {
     "data": {
      "text/plain": [
       "1"
      ]
     },
     "execution_count": 2,
     "metadata": {},
     "output_type": "execute_result"
    }
   ],
   "source": [
    "# Repalace all relative links (of the form href=\"index.html\" etc,)\n",
    "# with absolute links, (of the \n",
    "#form href=\"https://cs.umbc.edu/coursese/undergraduate/433/index.html\")\n",
    "# assume absolute path is as above\n",
    "\n",
    "$html = '<a href=\"index.html\">A link</a><a href=\"img/my_img.png\">An image</a>';\n",
    "$html =~ s|href=\"(.*?)\"|href=\"https://server/$1\"|g;\n",
    "say $html;"
   ]
  },
  {
   "cell_type": "markdown",
   "metadata": {
    "slideshow": {
     "slide_type": "slide"
    }
   },
   "source": [
    "## Lookahead and Lookbehind\n",
    "* In some instances, we want to match, but not capture a piece of text\n",
    "    * Are zero-width assertaions\n",
    "    * After the look ahead is complete we return to the same place in the text\n",
    "* A lookahead is written as:\n",
    "\n",
    "    ```(?=pattern)```\n",
    "\n",
    "* A lookbehind is written as:\n",
    "\n",
    "    ```(?<=pattern)```\n",
    "    * They usually cannot be variable length "
   ]
  },
  {
   "cell_type": "markdown",
   "metadata": {
    "slideshow": {
     "slide_type": "slide"
    }
   },
   "source": [
    "## Lookahead Example"
   ]
  },
  {
   "cell_type": "code",
   "execution_count": 3,
   "metadata": {},
   "outputs": [
    {
     "name": "stdout",
     "output_type": "stream",
     "text": [
      "\tBirmingham International Airport\t\n",
      "\tBournemouth Airport\t\n",
      "\tBristol Airport\t\n",
      "\tCardiff Airport\t\n",
      "\tRobin Hood Airport Doncaster Sheffield\t\n",
      "\tDurham Tees Valley Airport\t\n",
      "\tEast Midlands Airport\t\n",
      "\tExeter International Airport\t\n",
      "\tLeeds Bradford International Airport\t\n",
      "\tLiverpool John Lennon Airport\t\n",
      "\tLondon City Airport\t\n",
      "\tGatwick Airport\t\n",
      "\tHeathrow Airport\t\n",
      "\tLuton Airport\t\n",
      "\tSouthend Airport\t\n",
      "\tStansted Airport\t\n",
      "\tManchester Airport\t\n",
      "\tNewcastle Airport\t\n",
      "\tNewquay Cornwall Airport\t\n",
      "\tNorwich International Airport\t\n",
      "\tSouthampton Airport\t\n"
     ]
    },
    {
     "data": {
      "text/plain": [
       "1"
      ]
     },
     "execution_count": 3,
     "metadata": {},
     "output_type": "execute_result"
    }
   ],
   "source": [
    "open(my $fh,  'data/airports.tsv');\n",
    "\n",
    "while (my $row = <$fh>) {\n",
    "  chomp $row; #Remove trailing \\n\n",
    "  if ($row =~ /\\t.*\\t(?=.*\\tEngland)/){\n",
    "      say $&;\n",
    "  }\n",
    "}\n",
    "close($fh);"
   ]
  },
  {
   "cell_type": "code",
   "execution_count": 4,
   "metadata": {
    "slideshow": {
     "slide_type": "slide"
    }
   },
   "outputs": [
    {
     "name": "stdout",
     "output_type": "stream",
     "text": [
      "Birmingham\tBritian's Birmingham International Airport\tBHX\tEngland and Wales\tEurope\n",
      "Bournemouth\tBritian's Bournemouth Airport\tBOH\tEngland and Wales\tEurope\n",
      "Bristol\tBritian's Bristol Airport\tBRS\tEngland and Wales\tEurope\n",
      "Cardiff\tBritian's Cardiff Airport\tCWL\tEngland and Wales\tEurope\n",
      "Doncaster/Sheffield\tBritian's Robin Hood Airport Doncaster Sheffield\tDSA\tEngland and Wales\tEurope\n",
      "Middlesbrough\tBritian's Durham Tees Valley Airport\tMME\tEngland and Wales\tEurope\n",
      "Nottingham/Leicester\tBritian's East Midlands Airport\tEMA\tEngland and Wales\tEurope\n",
      "Exeter\tBritian's Exeter International Airport\tEXT\tEngland and Wales\tEurope\n",
      "Leeds/Bradford\tBritian's Leeds Bradford International Airport\tLBA\tEngland and Wales\tEurope\n",
      "Liverpool\tBritian's Liverpool John Lennon Airport\tLPL\tEngland and Wales\tEurope\n",
      "London\tBritian's London City Airport\tLCY\tEngland and Wales\tEurope\n",
      "London\tBritian's Gatwick Airport\tLGW\tEngland and Wales\tEurope\n",
      "London\tBritian's Heathrow Airport\tLHR\tEngland and Wales\tEurope\n",
      "London\tBritian's Luton Airport\tLTN\tEngland and Wales\tEurope\n",
      "London\tBritian's Southend Airport\tSEN\tEngland and Wales\tEurope\n",
      "London\tBritian's Stansted Airport\tSTN\tEngland and Wales\tEurope\n",
      "Manchester\tBritian's Manchester Airport\tMAN\tEngland and Wales\tEurope\n",
      "Newcastle upon Tyne\tBritian's Newcastle Airport\tNCL\tEngland and Wales\tEurope\n",
      "Newquay\tBritian's Newquay Cornwall Airport\tNQY\tEngland and Wales\tEurope\n",
      "Norwich\tBritian's Norwich International Airport\tNWI\tEngland and Wales\tEurope\n",
      "Southampton\tBritian's Southampton Airport\tSOU\tEngland and Wales\tEurope\n"
     ]
    },
    {
     "data": {
      "text/plain": [
       "1"
      ]
     },
     "execution_count": 4,
     "metadata": {},
     "output_type": "execute_result"
    }
   ],
   "source": [
    "open(my $fh, 'data/airports.tsv');\n",
    "\n",
    "while (my $row = <$fh>) {\n",
    "  chomp $row; #Remove trailing \\n\n",
    "  if ($row =~ s/\\t(.*)\\t(?=.*\\tEngland)/\\tBritian's $1\\t/){\n",
    "      say $row;\n",
    "  }\n",
    "}\n",
    "close($fh);"
   ]
  },
  {
   "cell_type": "markdown",
   "metadata": {
    "slideshow": {
     "slide_type": "slide"
    }
   },
   "source": [
    "## Lookbehind Example"
   ]
  },
  {
   "cell_type": "code",
   "execution_count": 5,
   "metadata": {},
   "outputs": [
    {
     "name": "stdout",
     "output_type": "stream",
     "text": [
      "London City Airport\tLCY\tEngland and Wales\tEurope\n",
      "Gatwick Airport\tLGW\tEngland and Wales\tEurope\n",
      "Heathrow Airport\tLHR\tEngland and Wales\tEurope\n",
      "Luton Airport\tLTN\tEngland and Wales\tEurope\n",
      "Southend Airport\tSEN\tEngland and Wales\tEurope\n",
      "Stansted Airport\tSTN\tEngland and Wales\tEurope\n"
     ]
    },
    {
     "data": {
      "text/plain": [
       "1"
      ]
     },
     "execution_count": 5,
     "metadata": {},
     "output_type": "execute_result"
    }
   ],
   "source": [
    "open(my $fh, 'data/airports.tsv');\n",
    "\n",
    "while (my $row = <$fh>) {\n",
    "  chomp $row; #Remove trailing \\n\n",
    "  if ($row =~ /(?<=London\\t).*/){\n",
    "      say $&;\n",
    "  }\n",
    "}\n",
    "close($fh);"
   ]
  },
  {
   "cell_type": "markdown",
   "metadata": {
    "slideshow": {
     "slide_type": "slide"
    }
   },
   "source": [
    "## Lookahead and Lookbehind Example\n",
    "* Lets assume that in our text every 7 digit number is a phone number"
   ]
  },
  {
   "cell_type": "code",
   "execution_count": 6,
   "metadata": {},
   "outputs": [
    {
     "name": "stdout",
     "output_type": "stream",
     "text": [
      "123-4567\n"
     ]
    },
    {
     "data": {
      "text/plain": [
       "1"
      ]
     },
     "execution_count": 6,
     "metadata": {},
     "output_type": "execute_result"
    }
   ],
   "source": [
    "$bad_number = \"1234567\";\n",
    "$bad_number =~ s/(?<=\\d\\d\\d)(?=\\d\\d\\d\\d)/-/g;\n",
    "say $bad_number;"
   ]
  },
  {
   "cell_type": "markdown",
   "metadata": {
    "slideshow": {
     "slide_type": "slide"
    }
   },
   "source": [
    "## Live Lookahead Example\n",
    "- In the beginning of the lecture we looked at how regex's are helpful for code reformattting\n",
    "- The specific python convention we looked at was no spaces immediately before a comma, semicolon, or colon"
   ]
  },
  {
   "cell_type": "code",
   "execution_count": 10,
   "metadata": {},
   "outputs": [
    {
     "name": "stdout",
     "output_type": "stream",
     "text": [
      "if x == 4: print x, y; x, y = y, x\n"
     ]
    },
    {
     "data": {
      "text/plain": [
       "1"
      ]
     },
     "execution_count": 10,
     "metadata": {},
     "output_type": "execute_result"
    }
   ],
   "source": [
    "$code = \"if x == 4 : print x , y ; x , y = y , x\";\n",
    "$code =~ s/\\s+(?=,|:|;)//g;\n",
    "say $code;"
   ]
  },
  {
   "cell_type": "markdown",
   "metadata": {
    "slideshow": {
     "slide_type": "slide"
    }
   },
   "source": [
    "## Lookahead Practice"
   ]
  },
  {
   "cell_type": "code",
   "execution_count": 12,
   "metadata": {},
   "outputs": [
    {
     "name": "stdout",
     "output_type": "stream",
     "text": [
      "James is a common name for presidents, there have been many\n",
      "presidents named James, like President Madison, President Monroe, \n",
      "and President Polk. Lebron James has not been a US president.\n",
      "\n"
     ]
    },
    {
     "data": {
      "text/plain": [
       "1"
      ]
     },
     "execution_count": 12,
     "metadata": {},
     "output_type": "execute_result"
    }
   ],
   "source": [
    "# Substitute all instances of James with President, \n",
    "# when followed by  Monroe or Madison or Polk \n",
    "\n",
    "$text = <<HERE;\n",
    "James is a common name for presidents, there have been many\n",
    "presidents named James, like James Madison, James Monroe, \n",
    "and James Polk. Lebron James has not been a US president.\n",
    "HERE\n",
    "           \n",
    "$text =~ s/James (?=Madison|Monroe|Polk)/President /g;\n",
    "say $text;"
   ]
  },
  {
   "cell_type": "markdown",
   "metadata": {
    "slideshow": {
     "slide_type": "slide"
    }
   },
   "source": [
    "## Negative Lookahead and Behind\n",
    "\n",
    "- A useful ability is to ensure the thing you are looking for is not followed or preceded by something\n",
    "- This is a negative lookahead or lookbehind, and the syntax is almost identical, except the `=` is now a `!`\n",
    "\n",
    "- Negative Lookahead\n",
    "\n",
    "    ``` (?!pattern) ```\n",
    "    \n",
    "- Negative Lookbehind\n",
    "\n",
    "    ``` (?<!pattern) ```"
   ]
  },
  {
   "cell_type": "markdown",
   "metadata": {
    "slideshow": {
     "slide_type": "slide"
    }
   },
   "source": [
    "## Negative Lookahead and Behind Examples"
   ]
  },
  {
   "cell_type": "code",
   "execution_count": 13,
   "metadata": {
    "scrolled": true
   },
   "outputs": [
    {
     "name": "stdout",
     "output_type": "stream",
     "text": [
      "Albuquerque\tAlbuquerque International Sunport\tABQ\tUnited States\t\n",
      "Baltimore\tBaltimore-Washington International Thurgood Marshall Airport\tBWI\tUnited States\t\n",
      "Portland (ME)\tPortland International Jetport\tPWM\tUnited States\t\n"
     ]
    },
    {
     "data": {
      "text/plain": [
       "1"
      ]
     },
     "execution_count": 13,
     "metadata": {},
     "output_type": "execute_result"
    }
   ],
   "source": [
    "open(my $fh, 'data/airports.tsv');\n",
    "\n",
    "while (my $row = <$fh>) {\n",
    "  chomp $row; #Remove trailing \\n\n",
    "  if ($row =~ /^.*\\t.*International (?!Airport).*\\t/){\n",
    "      say $&;\n",
    "  }\n",
    "}\n",
    "close($fh);"
   ]
  },
  {
   "cell_type": "markdown",
   "metadata": {
    "slideshow": {
     "slide_type": "slide"
    }
   },
   "source": [
    "## Splitting Strings\n",
    "* Regular Expressions allow strings to be split in more dynamic ways"
   ]
  },
  {
   "cell_type": "code",
   "execution_count": 9,
   "metadata": {},
   "outputs": [
    {
     "name": "stdout",
     "output_type": "stream",
     "text": [
      "Name\n",
      "Phone Number\n",
      "Email\n",
      "a,list,of,websites,visited\n",
      "Date\n"
     ]
    }
   ],
   "source": [
    "$bad_csv_data = \"Name,Phone Number,Email,a,list,of,websites,visited,Date\";\n",
    "@data = split /,(?=[A-Z])/, $bad_csv_data;\n",
    "foreach $d (@data){\n",
    "        if ($d =~ /,/ ){\n",
    "            foreach $e (split /,/, $d, 2)\n",
    "            {say $e}\n",
    "        }\n",
    "        else{\n",
    "        say $d;\n",
    "    }\n",
    "}\n"
   ]
  }
 ],
 "metadata": {
  "celltoolbar": "Slideshow",
  "kernelspec": {
   "display_name": "IPerl 0.009",
   "language": "perl",
   "name": "iperl"
  },
  "language_info": {
   "file_extension": ".pl",
   "mimetype": "text/x-perl",
   "name": "perl",
   "version": "5.22.1"
  },
  "toc": {
   "nav_menu": {},
   "number_sections": false,
   "sideBar": true,
   "skip_h1_title": false,
   "toc_cell": false,
   "toc_position": {},
   "toc_section_display": "block",
   "toc_window_display": false
  }
 },
 "nbformat": 4,
 "nbformat_minor": 2
}

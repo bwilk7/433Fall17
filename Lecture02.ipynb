{
 "cells": [
  {
   "cell_type": "markdown",
   "metadata": {
    "slideshow": {
     "slide_type": "slide"
    }
   },
   "source": [
    "# Regular Expressions\n",
    "## Substitution and More"
   ]
  },
  {
   "cell_type": "code",
   "execution_count": null,
   "metadata": {
    "collapsed": true,
    "slideshow": {
     "slide_type": "skip"
    }
   },
   "outputs": [],
   "source": [
    "# This is necessary to print every statement on a new line\n",
    "# It is activating a feature that will be standard in Perl 6\n",
    "use feature qw(say);"
   ]
  },
  {
   "cell_type": "markdown",
   "metadata": {
    "slideshow": {
     "slide_type": "slide"
    }
   },
   "source": [
    "## Substitution Basics\n",
    "* In Perl the syntax for a substitution regex is ```s/regex/substitution/```\n",
    "* The regex is the only part that can use metacharacters\n",
    "    * The substition can consist of literal characters or special variables\n",
    "   \n"
   ]
  },
  {
   "cell_type": "code",
   "execution_count": 60,
   "metadata": {},
   "outputs": [
    {
     "data": {
      "text/plain": [
       "This is a very simple string where everything is spaced nicely\n",
       "This is also  a      simple  string  but it has    very weird spacing\n"
      ]
     },
     "execution_count": 60,
     "metadata": {},
     "output_type": "execute_result"
    },
    {
     "name": "stderr",
     "output_type": "stream",
     "text": [
      "1\n"
     ]
    }
   ],
   "source": [
    "$good = \"This is a very simple string where everything is spaced nicely\";\n",
    "$bad = \"This is   also  a      simple  string  but it has    very weird spacing\";\n",
    "$good =~ s/\\s\\s+//;\n",
    "$bad =~ s/\\s\\s+/ /;\n",
    "say $good;\n",
    "say $bad;"
   ]
  },
  {
   "cell_type": "markdown",
   "metadata": {
    "slideshow": {
     "slide_type": "slide"
    }
   },
   "source": [
    "## Simple Substitution using the g Modifier\n",
    "* In most cases, we want to use substitution to substitute all matches, so we should use the g modifier"
   ]
  },
  {
   "cell_type": "code",
   "execution_count": 61,
   "metadata": {},
   "outputs": [
    {
     "data": {
      "text/plain": [
       "This is also a simple string but it has very weird spacing\n"
      ]
     },
     "execution_count": 61,
     "metadata": {},
     "output_type": "execute_result"
    },
    {
     "name": "stderr",
     "output_type": "stream",
     "text": [
      "1\n"
     ]
    }
   ],
   "source": [
    "$bad = \"This is   also  a      simple  string  but it has    very weird spacing\";\n",
    "$bad =~ s/\\s\\s+/ /g;\n",
    "say $bad;"
   ]
  },
  {
   "cell_type": "markdown",
   "metadata": {
    "slideshow": {
     "slide_type": "slide"
    }
   },
   "source": [
    "## Simple Substitution with Literals\n",
    "* The pattern portion can consist only of literals\n",
    "    * Many languages now have a specific replace method or function to operate on strings\n",
    "    * Still very useful to use fast simple tools like ```sed```"
   ]
  },
  {
   "cell_type": "code",
   "execution_count": 62,
   "metadata": {},
   "outputs": [
    {
     "data": {
      "text/plain": [
       "The University of Maryland, Baltimore County is located in MD\n",
       "The University of Maryland, Baltimore County is located in Maryland\n"
      ]
     },
     "execution_count": 62,
     "metadata": {},
     "output_type": "execute_result"
    },
    {
     "name": "stderr",
     "output_type": "stream",
     "text": [
      "1\n"
     ]
    }
   ],
   "source": [
    "$umbc = \"UMBC is located in MD\";\n",
    "$umbc =~ s/UMBC/The University of Maryland, Baltimore County/g;\n",
    "say $umbc;\n",
    "$umbc =~ s/MD/Maryland/g;\n",
    "say $umbc;"
   ]
  },
  {
   "cell_type": "markdown",
   "metadata": {
    "slideshow": {
     "slide_type": "slide"
    }
   },
   "source": [
    "## Backreference Variables\n",
    "* Many common tasks, like reformatting, involving saving part of the match\n",
    "    * To refer to a group found in the pattern, use \\$x, where x is the group number"
   ]
  },
  {
   "cell_type": "code",
   "execution_count": 65,
   "metadata": {},
   "outputs": [
    {
     "data": {
      "text/plain": [
       "Today's date is 9/7/17\n"
      ]
     },
     "execution_count": 65,
     "metadata": {},
     "output_type": "execute_result"
    },
    {
     "name": "stderr",
     "output_type": "stream",
     "text": [
      "1\n"
     ]
    }
   ],
   "source": [
    "$today = \"Today's date is 9-7-17\";\n",
    "$today =~ s/(\\d?\\d)-(\\d?\\d)-(\\d\\d)/$1\\/$2\\/$3/g;\n",
    "say $today;"
   ]
  },
  {
   "cell_type": "code",
   "execution_count": 66,
   "metadata": {
    "slideshow": {
     "slide_type": "slide"
    }
   },
   "outputs": [
    {
     "data": {
      "text/plain": [
       "Today's date is 09/07/17\n"
      ]
     },
     "execution_count": 66,
     "metadata": {},
     "output_type": "execute_result"
    },
    {
     "name": "stderr",
     "output_type": "stream",
     "text": [
      "1\n"
     ]
    }
   ],
   "source": [
    "$today = \"Today's date is 09-07-17\";\n",
    "$today =~ s/(\\d?\\d)-(\\d?\\d)-(\\d\\d)/$1\\/$2\\/$3/g;\n",
    "say $today;"
   ]
  },
  {
   "cell_type": "code",
   "execution_count": 67,
   "metadata": {
    "slideshow": {
     "slide_type": "-"
    }
   },
   "outputs": [
    {
     "data": {
      "text/plain": [
       "The U of M beat the U of T last week in football.\n"
      ]
     },
     "execution_count": 67,
     "metadata": {},
     "output_type": "execute_result"
    },
    {
     "name": "stderr",
     "output_type": "stream",
     "text": [
      "1\n"
     ]
    }
   ],
   "source": [
    "$today = \"The University of Maryland beat the University of Texas last week in football.\";\n",
    "$today =~ s/University of (\\w)\\w+/U of $1/g;\n",
    "say $today;"
   ]
  },
  {
   "cell_type": "markdown",
   "metadata": {
    "slideshow": {
     "slide_type": "slide"
    }
   },
   "source": [
    "## Sidenote: Changing Delimiters\n",
    "* When matching or substituting a string with the ```/``` character, it can be very annoying to escape all of them\n",
    "* Almost any puncuation can be used as the delimiter\n",
    "    * If it is a character that comes in pairs, you should use the left and right versions"
   ]
  },
  {
   "cell_type": "code",
   "execution_count": 68,
   "metadata": {},
   "outputs": [
    {
     "data": {
      "text/plain": [
       "Today's date is 09/07/17\n"
      ]
     },
     "execution_count": 68,
     "metadata": {},
     "output_type": "execute_result"
    },
    {
     "name": "stderr",
     "output_type": "stream",
     "text": [
      "1\n"
     ]
    }
   ],
   "source": [
    "$today = \"Today's date is 09-07-17\";\n",
    "$today =~ s[(\\d?\\d)-(\\d?\\d)-(\\d\\d)][$1/$2/$3]g;\n",
    "say $today;"
   ]
  },
  {
   "cell_type": "code",
   "execution_count": 69,
   "metadata": {},
   "outputs": [
    {
     "data": {
      "text/plain": [
       "Today's date is 09/07/17\n"
      ]
     },
     "execution_count": 69,
     "metadata": {},
     "output_type": "execute_result"
    },
    {
     "name": "stderr",
     "output_type": "stream",
     "text": [
      "1\n"
     ]
    }
   ],
   "source": [
    "$today = \"Today's date is 09-07-17\";\n",
    "$today =~ s!(\\d?\\d)-(\\d?\\d)-(\\d\\d)!$1/$2/$3!g;\n",
    "say $today;"
   ]
  },
  {
   "cell_type": "markdown",
   "metadata": {
    "slideshow": {
     "slide_type": "slide"
    }
   },
   "source": [
    "## Lookahead and Lookbehind\n",
    "* In some instances, we want to match, but not capture a piece of text\n",
    "* A lookahead is written as:\n",
    "\n",
    "    ```(?=pattern)```\n",
    "\n",
    "* A lookbehind is written as:\n",
    "\n",
    "    ```(?<=pattern)```"
   ]
  },
  {
   "cell_type": "markdown",
   "metadata": {
    "slideshow": {
     "slide_type": "slide"
    }
   },
   "source": [
    "## Lookahead and Lookbehind Practice\n",
    "* Lets assume that in our text every 7 digit number is a phone number"
   ]
  },
  {
   "cell_type": "code",
   "execution_count": 70,
   "metadata": {},
   "outputs": [
    {
     "data": {
      "text/plain": [
       "123-4567\n"
      ]
     },
     "execution_count": 70,
     "metadata": {},
     "output_type": "execute_result"
    },
    {
     "name": "stderr",
     "output_type": "stream",
     "text": [
      "1\n"
     ]
    }
   ],
   "source": [
    "$bad_number = \"1234567\";\n",
    "$bad_number =~ s/(?<=\\d\\d\\d)(?=\\d\\d\\d\\d)/-/g;\n",
    "say $bad_number;"
   ]
  },
  {
   "cell_type": "markdown",
   "metadata": {
    "slideshow": {
     "slide_type": "slide"
    }
   },
   "source": [
    "## Accessing Matches\n",
    "* Often we want to retrieve a specific part of the match\n",
    "* We can do this by using groups, and then refering back to the group number later in the code\n",
    "* In Perl this uses the same special variables found in substitution"
   ]
  },
  {
   "cell_type": "code",
   "execution_count": 71,
   "metadata": {},
   "outputs": [
    {
     "data": {
      "text/plain": [
       "1000 Hilltop Circle, Baltimore, MD\n"
      ]
     },
     "execution_count": 71,
     "metadata": {},
     "output_type": "execute_result"
    },
    {
     "name": "stderr",
     "output_type": "stream",
     "text": [
      "1\n"
     ]
    }
   ],
   "source": [
    "$addr = \"The address of UMBC is 1000 Hilltop Circle, Baltimore, MD.\";\n",
    "$addr =~ /(\\d+ \\w+ \\w+, \\w+, \\w+)/;\n",
    "say $1"
   ]
  },
  {
   "cell_type": "markdown",
   "metadata": {
    "slideshow": {
     "slide_type": "slide"
    }
   },
   "source": [
    "## Accessing Matches with the g Modifier\n",
    "* This will vary from language to language, but in Perl a while loop is used to continue to extract matches\n",
    "* Lets extract all the twitter handles from the following article: http://retrieverweekly.umbc.edu/fifteen-essential-twitter-accounts-umbc-students/\n"
   ]
  },
  {
   "cell_type": "code",
   "execution_count": null,
   "metadata": {
    "collapsed": true,
    "slideshow": {
     "slide_type": "skip"
    }
   },
   "outputs": [],
   "source": [
    "my $article = <<'END_MESSAGE';\n",
    "UMBC is often criticized by its own students for a perceived lack of student life and for a campus that falls silent after 5 p.m. For a new student or a new resident, it can be challenging to explore, let alone locate, the campus culture.\n",
    "\n",
    "The essential first step in immersing yourself in UMBC doesn’t even require leaving your bedroom. UMBC may get quiet in the evenings, but that’s when UMBC Twitter gets loud. Between professors, departments and students themselves, UMBC has a vibrant Twitter community. If you’re new to UMBC or you’re just looking to get a little more involved, Twitter is an excellent place to start. Below, in no particular order, are fifteen accounts you should start with. Give them a follow and you might find yourself feeling a little more connected to your university.\n",
    "\n",
    "1. David Hoffman (@CoCreatorDavid)\n",
    "\n",
    "David Hoffman is the assistant director of student life where he is responsible for encouraging civic agency among students. One of the masterminds behind the STRiVE leadership program, Hoffman values the active participation of students in campus life. Give him a follow if you’re looking to improve your political and social engagement.\n",
    "\n",
    "2. UMBC Career Center (@UMBCcareers)\n",
    "\n",
    "We’ve all heard about the Career Center — orientation leaders and tour guides love to mention it — but how many of us actually use any of the resources it provides? You don’t have to schedule a mock interview or bring your resume in for approval to take advantage of the career experts at UMBC. You should probably do those things, especially you second-semester seniors, but giving them a follow on Twitter is a good move too. Their tweets will give you interview tips, resume recommendations, and job and internship leads.\n",
    "\n",
    "3. UMBC SGA (@umbcsga)\n",
    "\n",
    "There has been a lot of skepticism about the effectiveness and the integrity of UMBC’s Student Government Association in recent years, and not without reason. For many students, the scandal and trial defined Anthony Jankoski’s 2015-16 presidency. As a result, students lost faith and interest in the SGA. If you’re looking to see a better side of SGA, this account is a must-follow. Presumably looking to improve their transparency, SGA has tweeted details about Senate meetings, swearings-in, and the best events on campus.\n",
    "\n",
    "4. The Arts at UMBC (@ArtsAtUMBC)\n",
    "\n",
    "Looking to check out the “explosive new choreography” or the “sparkling new Linehan concert hall”? There are so many arts and performance spaces on campus that you might not know about, and every weekend there’s something happening in all of them. Arts at UMBC will give you all the details, so start planning your weekend now.\n",
    "\n",
    "5. UMBC Student Life (@UMBCStudentLife)\n",
    "\n",
    "If your goal here is to get more involved in student events around campus, this is the best account on the list. Check their feed every morning as you’re waiting in the Starbucks line to see if anything exciting is happening that day. They’ll give you the hot tips on free food, free shirts and free crafts.\n",
    "\n",
    "6. UMBC Bookstore (@umbcbookstore)\n",
    "\n",
    "The Bookstore and the Yum Shoppe always have sales, giveaways and other events going on. Right now, you could win a mini-fridge stocked with Coke products and you can save 20 percent on a new backpack. You can also check out the one and only Bookstore Bob rapping about textbooks. What’s not to love?\n",
    "\n",
    "7. UMBC Athletics (@UMBCAthletics)\n",
    "\n",
    "We may not have a football team, but we have plenty of other teams for you to check out. They all have individual accounts, so if you’re just looking for updates on Men’s Basketball, you can follow their own account. This umbrella Athletics account will keep you updated on all the Retriever teams and their wins (or their losses).\n",
    "\n",
    "8. CoCreate UMBC (@CoCreateUMBC)\n",
    "\n",
    "This account is run by David Hoffman and Craig Berger, who are both on this list with their personal accounts. This account is harder to describe, because it’s sort of a jumble. That’s a good thing, though — this account will give you varied and diverse stories of student leaders, as well as reflections on the ‘state of the campus.’\n",
    "\n",
    "9. UMBC Women’s Center (@womencenterUMBC)\n",
    "\n",
    "“All are welcome as long as they respect women. Their experiences. Their stories. Their potential.” This is the motto of the Women’s Center, one of the most important and most socially active groups on campus. If you’d like to learn more about what they do and why they do it, this is the account to follow.\n",
    "\n",
    "10. Craig Berger (@CraigBerger)\n",
    "\n",
    "Craig Berger’s personal account will keep you politically informed. You will notice a strong liberal slant, but if that’s not a problem for you, Berger’s account will ensure that you’re up to date with current events, local and national.\n",
    "\n",
    "11. True Grit (@TrueGrit66)\n",
    "\n",
    "This is another one for the sports fans. Run by the person (people?) inside the True Grit mascot costume, this account is another great place to look for sports updates. Not to mention, you’ll scroll past more True Grit selfies than you’ll ever need. If you’re looking for more school spirit on a campus that doesn’t always have a lot, start with following True Grit.\n",
    "\n",
    "12. UMBC Dining Services (@umbcdining)\n",
    "\n",
    "Anyone who eats on campus should check out this account. They tweet about monthly specials, cajun food day at D-Hall and where to buy the best donuts. They also post some solid food trivia. Today is National Apple Pie Day? Thanks, UMBC Dining!\n",
    "\n",
    "13. UMBC Orientation (@UMBCorientation)\n",
    "\n",
    "You probably won’t want to follow this account unless you’re brand new to UMBC. It can be hard to settle in, especially in the Spring, when most of your fellow students have already figured out their way around. But if you’re looking for tips and answers to questions you’re afraid to ask, follow the Orientation team.\n",
    "\n",
    "14. Renetta G. Tull (@Renetta_Tull)\n",
    "\n",
    "Vice Provost of the UMBC Graduate School and director of PROMISE:AGEP, Renetta Tull is a force of nature. Follow her for glimpses into her academic research, her grad student seminars, and her thoughts on social progress.\n",
    "\n",
    "15. University of Maryland, Baltimore County (@UMBC)\n",
    "\n",
    "There’s not a lot to say about this one. If you’re on Twitter and you go to UMBC, following this account is a no-brainer. They’ll keep you up to speed with happenings on campus across all its departments.\n",
    "\n",
    "16. The Retriever (@retrieverweekly);\n",
    "\n",
    "We promised you 15 must-follow Twitters, but we’d be remiss not to mention The Retriever’s own account. It’ll give you absolutely everything you could ever want to know about UMBC. At least, we like to think so.\n",
    "\n",
    "END_MESSAGE"
   ]
  },
  {
   "cell_type": "code",
   "execution_count": 75,
   "metadata": {},
   "outputs": [
    {
     "data": {
      "text/plain": [
       "CoCreatorDavid\n",
       "UMBCcareers\n",
       "umbcsga\n",
       "ArtsAtUMBC\n",
       "UMBCStudentLife\n",
       "umbcbookstore\n",
       "UMBCAthletics\n",
       "CoCreateUMBC\n",
       "womencenterUMBC\n",
       "CraigBerger\n",
       "TrueGrit66\n",
       "umbcdining\n",
       "UMBCorientation\n",
       "Renetta_Tull\n",
       "UMBC\n",
       "retrieverweekly\n"
      ]
     },
     "execution_count": 75,
     "metadata": {},
     "output_type": "execute_result"
    }
   ],
   "source": [
    "while($article =~ /\\(@(.+)\\)/g){\n",
    "    say $1;\n",
    "}"
   ]
  },
  {
   "cell_type": "markdown",
   "metadata": {
    "slideshow": {
     "slide_type": "slide"
    }
   },
   "source": [
    "## Exercise\n",
    "* How can we capture both the twitter handel and the organization/person associated with it?\n",
    "* Reminder, the lines we are interested in look like this: \n",
    "\n",
    "```1. David Hoffman (@CoCreatorDavid)```"
   ]
  },
  {
   "cell_type": "code",
   "execution_count": 98,
   "metadata": {},
   "outputs": [
    {
     "data": {
      "text/plain": [
       "David Hoffman CoCreatorDavid\n",
       "UMBC Career Center UMBCcareers\n",
       "UMBC SGA umbcsga\n",
       "The Arts at UMBC ArtsAtUMBC\n",
       "UMBC Student Life UMBCStudentLife\n",
       "UMBC Bookstore umbcbookstore\n",
       "UMBC Athletics UMBCAthletics\n",
       "CoCreate UMBC CoCreateUMBC\n",
       "Craig Berger CraigBerger\n",
       "True Grit TrueGrit66\n",
       "UMBC Dining Services umbcdining\n",
       "UMBC Orientation UMBCorientation\n",
       "The Retriever retrieverweekly\n"
      ]
     },
     "execution_count": 98,
     "metadata": {},
     "output_type": "execute_result"
    }
   ],
   "source": [
    "while($article =~ /^\\s*\\d+\\.\\s+((\\w+\\s)+)\\s*\\(@(.+)\\)/gm){\n",
    "    say $1 . $3 ;\n",
    "}"
   ]
  },
  {
   "cell_type": "markdown",
   "metadata": {
    "slideshow": {
     "slide_type": "slide"
    }
   },
   "source": [
    "## Splitting Strings\n",
    "* Regular Expressions allow strings to be split in more dynamic ways"
   ]
  },
  {
   "cell_type": "code",
   "execution_count": 101,
   "metadata": {},
   "outputs": [
    {
     "data": {
      "text/plain": [
       "Name\n",
       "Phone Number\n",
       "Email\n",
       "a,list,of,websites,visited\n",
       "Date\n"
      ]
     },
     "execution_count": 101,
     "metadata": {},
     "output_type": "execute_result"
    }
   ],
   "source": [
    "$bad_csv_data = \"Name,Phone Number,Email,a,list,of,websites,visited,Date\";\n",
    "@data = split /,(?=[A-Z])/, $bad_csv_data;\n",
    "foreach $d (@data){\n",
    "        if ($d =~ /,/ ){\n",
    "            foreach $e (split /,/, $d, 2)\n",
    "            {say $e}\n",
    "        }\n",
    "        else{\n",
    "        say $d;\n",
    "    }\n",
    "}\n"
   ]
  },
  {
   "cell_type": "code",
   "execution_count": null,
   "metadata": {
    "collapsed": true,
    "slideshow": {
     "slide_type": "skip"
    }
   },
   "outputs": [],
   "source": [
    "  if ($d =~ /,/){\n",
    "        foreach $e (split /,/ , $d, 2){\n",
    "            say $e;\n",
    "        }\n",
    "    }\n",
    "    else{"
   ]
  },
  {
   "cell_type": "markdown",
   "metadata": {
    "slideshow": {
     "slide_type": "slide"
    }
   },
   "source": [
    "## Putting it All Together\n",
    " Given an array of tweets at airlines, each element in the format \n",
    "\n",
    "```Tweet\\tUser\\tTimestamp```\n",
    "\n",
    "How might we produce a report of all tweets that reference a specific airport and a specific flight, and print this information along with the date in a nice format along with any Twitter handles found in the tweet"
   ]
  },
  {
   "cell_type": "code",
   "execution_count": 132,
   "metadata": {},
   "outputs": [
    {
     "data": {
      "text/plain": [
       "@VirginAmerica amazing to me that we can't get any cold air from the vents. #VX358 #noair #worstflightever #roasted #SFOtoBOS  @VirginAmerica 02//24/2015\n",
       "@VirginAmerica Love the team running Gate E9 at LAS tonight. Waited for a delayed flight, and they kept things entertaining  @VirginAmerica 02//23/2015\n",
       "@VirginAmerica completely awesome experience last month BOS-LAS nonstop. Thanks for such an awesome flight and depart time. #VAbeatsJblue  @VirginAmerica 02//22/2015\n",
       "@VirginAmerica @TTINAC11 I DM you  @VirginAmerica @TTINAC11 02//21/2015\n",
       "@VirginAmerica  for all my flight stuff wrong and did nothing about it. Had #worst #flight ever  @VirginAmerica 02//21/2015\n",
       "@VirginAmerica BIG Love/gratitude.mpower w/ http://t.co/1AGR9knCpf weRin #OSCARS2105 VIPswagbags@ #AvalonHollywood http://t.co/ybMbGs0dHn  @VirginAmerica @ # 02//20/2015\n",
       "@VirginAmerica shares rise on Q4 financial results - USA TODAY http://t.co/lFS4PEFE6y  @VirginAmerica 02//20/2015\n",
       "@VirginAmerica Debbie Baldwin gave a #rockstar performance of the safety demo this evening on VX919 #LAS2SFO #BestCrew #SheRocks  @VirginAmerica 02//19/2015\n",
       "@VirginAmerica on VX399 from JFK to LA - dirty plane - not up to your standards.  @VirginAmerica 02//19/2015\n",
       "@VirginAmerica on flight VX399 headed to LA from JFK - dirtiest VA plane I have ever been on. Sad for a great airline.  @VirginAmerica 02//19/2015\n",
       "@VirginAmerica YES FYI  MY BFF  @VirginAmerica 02//17/2015\n",
       "@united #worst2unitedflightsever UA1429 IAD to LAS 2/19 mechanical problems - switched aircraft delayed 3.5 hours!  @united 02//24/2015\n",
       "@united UA938 ORD-LHR.  bags are being loaded 30min Late Flight. Frigid air into cabin! Plane feels like falling apart! Upgrade long haul fleet!  @united 02//23/2015\n",
       "@united UA276 sitting at EWR nearly an hour after sked.  Pilot says computers down but no clue when we will leave.  Can you help?  @united 02//23/2015\n",
       "@united Thanks to Karen Salisbury at IAH for amazing customer service!  Found my daughter's bag lost on UA1516.  Made her day!  @united 02//23/2015\n",
       "@United We've been waiting on tarmac for &gt;1hr because apparently UA1116 is overweight &amp; we returned to gate. #WTF #fb  @United 02//23/2015\n",
       "@united Flight UA1270 is descending into farce and we haven't left EWR yet. Is this going to get any worse?  @united 02//23/2015\n",
       "@united @JMS2802 : outsource it all United Airlines...your customers  are just loving you for it. Outsource. Outsource. Outsource.  @united @JMS2802 02//23/2015\n",
       "@united @JMS2802 : nothing like supporting your own mechanics and maintenance workers...instead United puts out a video of TIMCO doing wifi.  @united @JMS2802 02//23/2015\n",
       "@united @JMS2802 : sure show a video of your outsourced favorite TIMCO, who has a knack for doing substandard maintenance work on aircraft.  @united @JMS2802 02//23/2015\n",
       "@united - SERIOUSLY it's 2015?!?!  NO WiFi on a 5hr flight from CLE-SFO #1589.  You're the ONLY airline w/out WiFi...and pls no 'unwind' BS.  @united 02//23/2015\n",
       "@united - SERIOUSLY it's 2015?!?!  NO WiFi on a 5hr flight from CLE-SFO #1589.  You're the ONLY airline without WiFi...  @united 02//23/2015\n",
       "@united is unfriendly screw family, that hates kids and moms. now waiting on  UA871... pray its better FYVRFN ..due to agent error and tickt  @united 02//23/2015\n",
       "@United to operated #B767-300ER from #Newark to #Zurich @ZRH_airport replacing B767-400ER between 6MAY-23SEP instead till 23OCT #avgeek  @United @ZRH_airport 02//23/2015\n",
       "@united Left item n the seatback on UA1260. Is there any way to call DCA to ask if they have the item? Already submitted lost &amp; found report  @united 02//23/2015\n",
       "@united Currently on UA862, 20 minutes of the worst turbulence I've ever experienced, and ZERO communication from the flight deck.  @united 02//23/2015\n",
       "@united have Michelle at T1 ORD train your other staff on how to treat customers. A refreshing pleasure to deal with.  @united 02//23/2015\n",
       "@united Thanks! LOL! #UA6259 will wait for us. Per @flightaware, same tail number as #UA5525 :)  @united @flightaware 02//22/2015\n",
       "@united strikes again! Why board anyone if there's something wrong with the plane? Common sense.  @united 02//22/2015\n",
       "@united UA1565 IAH -&gt; SJO is delayed by like 1.5 hours. Crazy!  @united 02//22/2015\n",
       "@united #LAX #sunrise UAL212 LAX-JFK  @united 02//22/2015\n",
       "@united Poor cabin luggage service on UA1266 to BOS, I was forced to check in even when there was empty space for bags in the overhead!  @united 02//22/2015\n",
       "@united now let there also pls be in-flight live TV on UA469 DEN-EWR so I can watch the #Oscars ??  @united 02//22/2015\n",
       "@united why are your agents working so slowly to rebook people who are on #UA1481. We have all wasted an entire day at STT.  @united 02//22/2015\n",
       "@united - 3 of 6 First seats open on UA5097. No upgrades processed. Gate agents @yyz said their too busy. Not cool http://t.co/6KpyhckA9l  @united @yyz 02//22/2015\n",
       "@united Thx, just DM'd. Conf #'s MQXC64 &amp; MPWNC2. Any help appreciated  @united 02//22/2015\n",
       "\"@United says we had a weather delay in #YXE this morning. The \"\"weather\"\" didn't affect any other airline. #UA6136 http://t.co/4JdvK8tCqx\"  @United 02//22/2015\n",
       "@united thanks for ruined my vacation for having poorly maintained aircrafts that can’t fly safely out of STT. #UA1481 #Cancelled Flightledflight  @united 02//22/2015\n",
       "@united who authors this fiction? I just heard on radio we don't even have a jetway secured yet #UA5037 #CMH http://t.co/T78k7aBtWF  @united 02//22/2015\n",
       "@united how are conditions in BOS today? I'm in UA994. Everything appears to be in time but I wanted to check.  @united 02//22/2015\n",
       "@united can you change DKYDE6 to 4583&gt;36 on 2/23 instead of 3636&gt;606&gt;36; original reservation was for 4404&gt;36 yesterday but was Cancelled Flightled.  @united 02//22/2015\n",
       "@united Was on NH10 on United ticket, rerouted to IAD due to weather in JFK. Can you get us home on United 5713 or 3277?  @united 02//22/2015\n",
       "@united that's not an apology. Say it.  @united 02//21/2015\n",
       "@united download jeokoo the American app for air travelers  @united 02//21/2015\n",
       "@united no apology? Cool.  @united 02//21/2015\n",
       "@united you ask a lot of customers who  you routinely screw over. You know that, right?  @united 02//21/2015\n",
       "@united somehow I knew that you'd wait until I was airborne to respond. #hacks #jokers #neveragain.  @united 02//21/2015\n",
       "@united Missing flight attendant = Delayed Flight. Prime example how 1 person impacts 100's of people. HNL -&gt; IAH (UA252) #wastedtime  @united 02//21/2015\n",
       "@united we've been seating for 5hrs inside flight UA936 at #IAD delayed. We've only been offered water &amp; cookies in business class. #failed  @united 02//21/2015\n",
       "@united your app says flight UA936 to #ZRH departed 2:45hrs Late Flight, but 5 hours Late Flightr we are still seating inside the plane in #IAD.  #failed  @united 02//21/2015\n",
       "@united you're terrible.  @united 02//21/2015\n",
       "@united thanks for the reply. To clarify, the airfare is similar to your likely intended peer group. The $3 beer charge, however, is not  @united 02//21/2015\n",
       "@united never again.  @united 02//21/2015\n",
       "@united sucks.  @united 02//21/2015\n",
       "@united where's the crew for ua748?  @united 02//21/2015\n",
       "@united thanks ... not sure arranged move to the earlier flight but I'm at the gate with a seat assignment.  Super nice agent at gate C4 ORD  @united 02//21/2015\n",
       "@united Charging $6500 for biz flight to UK = somewhat egregious. Charging $3 on top for a Sam Adams draft at the United Club is usurious.  @united 02//21/2015\n",
       "@united Flight:UA1750 is basically a prison on the runway @ SFO 6delays 4hrs of sitting no water no answers. reminded y I hate this airline  @united @  02//21/2015\n",
       "@United appreciate the early arrival of UA1002, but any chance ORD will ever bring the bags out?  @United 02//21/2015\n",
       "@united A broken luggage and a mild case of food poisoning from UA5 LHR-IAH. Who can I email about this?  @united 02//21/2015\n",
       "Conf# NPBHD0 http://t.co/eWXwXiDTfX\"  02//21/2015\n",
       "@united on SFO-&gt;AUS UA343 2/17, IS9JX1; my seat appears to have had a mite problem. Dr recently confirmed over 50 bug bites were mites  @united 02//21/2015\n",
       "@united 757 N33103 taxies @bhx_official departing as UA26 to Newark Liberty Airport http://t.co/IALiCEH2FT  @united @bhx_official 02//21/2015\n",
       "@united UA7985 is a coshared flight w/ ANA. Unable to check in 24 hrs prior.  @united 02//20/2015\n",
       "@United flight experiences R often frustrating, but 2day on UA5184 from CHI to WPG flight attendant April was #amazing! She's 1 of the best!  @United 02//20/2015\n",
       "@united UA1023 sitting on Tarmac at ORD when there are visibly gates open. Reassign our gate.  @united 02//20/2015\n",
       "@united I left headphones in 2A on UA4689 from YHZ-EWR. It's a long shot to see them again. But worth a tweet anyway!  @united 02//20/2015\n",
       "@United to start 3xdaily @EmbraerSA #ERJ145 flights from #Chicago @fly2ohare to #Evansville on 4JUN #avgeek  @United @EmbraerSA @fly2ohare 02//20/2015\n",
       "@united #FirstClass to #London on my way to #LondonFashionWeek #LFW15 👠🇬🇧👠🇬🇧👠🇬🇧  @united 02//20/2015\n",
       "@united @FAANews unacceptable practice to leave Cancelled Flighted flight passengers to sleep on cement with no pillows #UA1724 http://t.co/nDTLJ15ZpU  @united @FAANews 02//20/2015\n",
       "@united - Kids left a kindle fire HD 6 onboard UA1037 (ORD-SFO) today. Row 9ABC-DEF (we had the whole row amongst the 5 of us).  Help...  @united 02//19/2015\n",
       "@united thanks for ruining my wedding anniversary. Flight UA4904 from EWR to RDU is delayed by over 3 hours and will reach home the nxt day  @united 02//19/2015\n",
       "@united not once did #US3645 leave #ORD on time this week #shameful  @united 02//19/2015\n",
       "@united very missed daughter suppose to dpt ORD @5:59pm - dpted  8:30pm -checked week's average for UA3645 -shameful!  7 day average 7:54pm  @united @5 02//19/2015\n",
       "@united ORD Gate C25 and Flt 619-  remember when customers were valuable? Is it so hard to be nice to someone lugging a guitar &amp; carryons ?  @united 02//19/2015\n",
       "@United Stars and Bars @iah #A320 @airlineguys @AirlineGeeks #avgeek http://t.co/mWSoGUC33p  @United @iah @airlineguys @AirlineGeeks 02//19/2015\n",
       "@united yet again you disappoint. Sitting at IAD for UA3728 for 3.5hrs and you can't seem to know why the plane hasn't left Albany. #Fail  @united 02//19/2015\n",
       "@united your airline is a joke. 1 person working special services at EWR?!? Line is 15 ppl deep. GROW UP!  @united 02//19/2015\n",
       "@united flight UA5631 from SFO to Burbank has been delayed twice now. Still no plane in sight. Get it together.  @united 02//19/2015\n",
       "@united still waiting for a response on whether or not you allow use of a rear facing car seat on an ERJ145.  @united 02//19/2015\n",
       "@united unfortunately, that doesn't help. Just an automated computer.  @united 02//19/2015\n",
       "@united messaged you as requested- and called your baggage team again. It's STILL in Newark. please help or let me know next steps!!  @united 02//19/2015\n",
       "@united need to chat with an actual human ASAP!  @united 02//19/2015\n",
       "@united I need to talk with an actual person about missing luggage. Please advise on how to make that happen.  @united 02//19/2015\n",
       "@united followed and messaged. Thanks so much for the help.  @united 02//19/2015\n",
       "@united Trying to locate passenger that landed 2 hrs ago in @HeathrowAirport UA938. can you assist? Is flight still in customs? PLEASE help  @united @HeathrowAirport 02//19/2015\n",
       "@united EWR ppl told me to call 1800#, have 2x/day since Monday. Still at layover loc. have that ref # tho. Any help appreciated.  @united 02//19/2015\n",
       "@united - handed a slip of paper,&amp;said to call 1800#. Have called 2x/day trying to get it sent, still @ layover airport.Have that ref # tho.  @united @  02//19/2015\n",
       "@united UA5029 from RIC, UA507 from ORD, &amp; UA423 from DEN -ALL DELAYED for non-weather issues. Way to go, youre batting 1.000! But no hotels  @united 02//18/2015\n",
       "@united yes #LHRT2 lounge is fantastic, if only the US ones could be remotely similar!  @united 02//18/2015\n",
       "@United OMG WHERE IS MY BAG??? YYZUA70435 - enough with the shenanigans already. It's getting real old real quick!!  @United 02//18/2015\n",
       "@united Your staff, both on deck and in the cabin on UA768 SFO -&gt; BOS were exceptional today. Please tell them well done :)  @united 02//18/2015\n",
       "@united, UA1641 EWR-MCO 17 Feb wifi never connected but allowed me to purchase access twice &amp; charged me. Who do I need to file claim with?  @united 02//18/2015\n",
       "@united there are at least 3 of us on UA1564 at ORD waiting to deplane to catch UA4232 to CLT. Any chance of waiting to last second for us?  @united 02//18/2015\n",
       "@united can't DM, you're not following. LLY144. Rebooked on #UA1516 but still need seats.  @united 02//18/2015\n",
       "@united UA6002 MLI-&gt;DEN. Will miss connection UA3530 DEN-&gt;YEG due to delay.  @united 02//18/2015\n",
       "@united thanks for reaching out. The seat was hard, not enough cushion. OK for short flight. BTW, UA6465 flight and crew were great!  @united 02//18/2015\n",
       "@united Thanks. UA1121, DEN, 40 min on tarmac.  @united 02//17/2015\n",
       "@united 12/13EWR-LAX UA1151 my seat/armrest broken discover after takeoff. flight full.FA filed report, who to chat with for partial refund?  @united 02//17/2015\n",
       "@united She met me from customer service at the arrival of flight UA3787 PVD-IAD. Thanks, you guys have really handled this storm!  @united 02//17/2015\n",
       "  @united \"@united My flight UA1159 to Denver for #RMOUG15 has been re-cheduled 5 times.\n",
       "@united I was denied use of a rear facing car seat on UA5025, an ERJ145. Can you confirm the actual policy?  @united 02//17/2015\n",
       "@SouthwestAir Switching planes due to mechanical problems.  How does reboarding work? Was A49, now at end of long line.  Stuck in middle?  @SouthwestAir 02//24/2015\n",
       "@SouthwestAir @PHLAirport Will Flight 2155 that arrives at E11 be a penguin plane?  @SouthwestAir @PHLAirport 02//24/2015\n",
       "@SouthwestAir Any ETD for SWA1004 from PHL? Appears delayed but no info available at gate.  @SouthwestAir 02//24/2015\n",
       "@SouthwestAir briughy me to @ComClassic, #AIF2015 &amp; so much more with the #agcommunity  @SouthwestAir @ComClassic 02//23/2015\n",
       "@SouthwestAir it's not fun having a delay from Nashville to Las Vegas, but the crew at the gate C9 desk has been AWESOME! #patience #luvswa  @SouthwestAir 02//23/2015\n",
       "@SouthwestAir thank you for Cancelled Flighting my flight, last minute of course, to #GIS2015. I'm now missing one full day of my trip thanks to this!  @SouthwestAir 02//23/2015\n",
       "\"@southwestair,  kudos to your rep \"\"Patricia\"\" at gate B11 this Sunday morning at #Chicago #Midway #MDW,… http://t.co/MmCWkqp2gy\"  @southwestair 02//22/2015\n",
       "@SouthwestAir crew of WN3946 SAN-SFO was brilliant! Rita was hilarious. I know I've been down on you before, but this was a great flight  @SouthwestAir 02//22/2015\n",
       "@SouthwestAir Thank you SWA and Shannon G. @LASairport (C22) for being a miracle worker! #awesome  @SouthwestAir @LASairport 02//22/2015\n",
       "@SouthwestAir everyones flights who were Cancelled Flightled today DESERVE 1  @SouthwestAir 02//22/2015\n",
       "@SouthwestAir props to your LAS employees working C11 gate. Because of them I am not opposed to flying through or to LAS in the future! 👏👏👏  @SouthwestAir 02//22/2015\n",
       "\"@SouthwestAir BTW I was completely unable to buy wifi for my flight using Galaxy S4. Couldn't zoom out or scroll to touch \"\"Buy\"\"\"  @SouthwestAir 02//22/2015\n",
       "@SouthwestAir great example of customer service this morning at MSY headed to ATL. Alison and Bobbi were fantastic! Gate B8. Thank you.  @SouthwestAir 02//22/2015\n",
       "@SouthwestAir now on hold for 2.5 hours waiting to speak to someone about my Cancelled Flightled flight from Philly to ORL  @SouthwestAir 02//21/2015\n",
       "@SouthwestAir Thank you for your help Adam and to the awesome gate agents at B12 in LAS for getting us home!  @SouthwestAir 02//21/2015\n",
       "@SouthwestAir on hold now for 1 Hour 25 mins Whats the holdup  @SouthwestAir 02//21/2015\n",
       "@SouthwestAir Seriously, is the reason for all the Cancelled Flightled flights and long phone wait times that you guys are tremendously understaffed?  @SouthwestAir 02//21/2015\n",
       "@SouthwestAir can you help me with reFlight Booking Problems? My flight was Cancelled Flighted. FWHEI6  @SouthwestAir 02//20/2015\n",
       "@SouthwestAir LACMA on Fairfax.  @SouthwestAir 02//20/2015\n",
       "@SouthwestAir yes but not with out an attitude and nasty comment  @SouthwestAir 02//20/2015\n",
       "@SouthwestAir again another ride SW employee that printed out boarding passes. Deficiency in training obviously  @SouthwestAir 02//20/2015\n",
       "@SouthwestAir A little surprised my Early Bird got me B15 from DEN to KC just now. Worst I've had. What's up?  @SouthwestAir 02//19/2015\n",
       "@SouthwestAir I already follow you and can't DM because u need to follow me back  @SouthwestAir 02//19/2015\n",
       "@SouthwestAir had a very rude gate agent at BWI tonight gate B8 after a 6.5hr delay for flight 1172. I think a little training is in order.  @SouthwestAir 02//18/2015\n",
       "@SouthwestAir I fly SWA a lot - ALWAYS purchase EB and NEVER past A30... Rethinking the SWA process.  Very misleading.  @SouthwestAir 02//18/2015\n",
       "@SouthwestAir is there a way to DM you?  @SouthwestAir 02//18/2015\n",
       "@SouthwestAir was wondering is there a reason why customer service is so busy? Been on hold past few days for many hours No answer Help plz  @SouthwestAir 02//18/2015\n",
       "@SouthwestAir @ PIT- Gate A1! Big shout out to the lady trying to track him down!  @SouthwestAir @  02//18/2015\n",
       "purchase.error.INVALID_LOYALTY_MEMBER_ACCOUNT_STATUS (SW900001-vyiL1XKlROG24fS-918j_A)\"  02//18/2015\n",
       "@SouthwestAir flt 648 from Buf to MCO. Conf#FGKXV5. Please also look into reimburse for car 587701925COUNT that I had to Cancelled Flight  @SouthwestAir 02//17/2015\n",
       "@JetBlue Thank you for credits. However; I submitted complaints about the property on vacation package. Hope you listen!  @JetBlue 02//24/2015\n",
       "“@JetBlue: Our fleet's on fleek. http://t.co/dxn58rxDkS”@jameskraw see.  @JetBlue @jameskraw 02//23/2015\n",
       "“@JetBlue: Our fleet's on fleek. http://t.co/XASPqDsqhE”  @JetBlue 02//23/2015\n",
       "@JetBlue flight delayed at JFK 2 hours, then 3 hours, then 8.5 hours? Now it's back to 5 hours with no explanation or apology?  @JetBlue 02//22/2015\n",
       "@JetBlue JFK T5 north check in. 3 bag drop ladies, 1 has been checking in someone for the entire time; another doing check ins too.  @JetBlue 02//22/2015\n",
       "@JetBlue hi is there a way we can check to track the flight that will arrive &amp; that will be our flight to depart.  @JetBlue 02//22/2015\n",
       "@JetBlue @SouthwestAir @VirginAmerica @AmericanAirBR download jeokoo the American app for air travelers  @JetBlue @SouthwestAir @VirginAmerica @AmericanAirBR 02//21/2015\n",
       "@JetBlue we are well aware. Insufficient info. No options.  @JetBlue 02//21/2015\n",
       "@JetBlue Complete waste of an entire day. Pathetic.  @JetBlue 02//21/2015\n",
       "@JetBlue flight 790 you had us stuck on the plane for nearly 4 hrs. Set to take off only for flight control to deny us. THE WORST SERVICE  @JetBlue 02//21/2015\n",
       "@JetBlue thanks to the gent on the phone who fixed my BOS-MCO flight and the fee waiver! A320 now :) #flyfi ! I forget her name :(  @JetBlue 02//20/2015\n",
       "@JetBlue are there any food places open at the JFK T5 24//?  @JetBlue 02//20/2015\n",
       "@JetBlue using A321 JFK-SEA for Summer 2015. It will be my first A321 flight ever! No Mint to Seattle, Core Config only.  @JetBlue 02//20/2015\n",
       "@JetBlue BEST SEAT ON A E190 to board early. READY. SET. GO!  @JetBlue 02//18/2015\n",
       "@JetBlue hey you guys remembered lol! But now my BOS flights delayed... And turn the heat down in T5 it feels hotter than PR.  @JetBlue 02//18/2015\n",
       "@JetBlue great smooth flight too! 👏👍  @JetBlue 02//17/2015\n",
       "@JetBlue @EllaHenderson omg!  Wish I had a flight today!  Haha there's always next time!  Have fun at #LFT5  @JetBlue @EllaHenderson 02//17/2015\n",
       "@USAirways after being assured by the pleasant woman at gate B11 in Albany, NY that life's not perfect, I'd heard enough.  @USAirways 02//24/2015\n",
       "@USAirways There is an error w/ my preferred status &amp; I'm not able to reach an agent via phone. Travel Friday. Need resolved - contact info?  @USAirways 02//24/2015\n",
       "@USAirways I left my personal stuff on US4551 from PHL-BOS about an hour ago. Went baggage, was told plane left to call 800#  @USAirways 02//24/2015\n",
       "@USAirways is utterly unreliable! They didn't schedule a pilot for their US624 flight out of Seattle - flights are delayed #usairwaysfail  @USAirways 02//23/2015\n",
       "@usairways  US1799 CLT-&gt;SFO in first no desert, no snack basket. Incoming was on time ? What’s up?  @usairways 02//23/2015\n",
       "@USAirways what's up with flight 5545 no gate agent or plane at PHX B18?  Nice customer service.  @USAirways 02//23/2015\n",
       "@USAirways going to miss my connection due to another tarmac delay - on US5268 then 4050 - need a flight home today please!  @USAirways 02//23/2015\n",
       "@USAirways, I'm expecting 400% reimbursement for the unprofessional decisions with US728 on 21 Feb. Check your very full complaint box.  @USAirways 02//23/2015\n",
       "@USAirways seriously buy some WD40 for A319 operating flight 634 from GEG to Phoenix. Every seat squeaks w every shift. Still on ground!  @USAirways 02//23/2015\n",
       "@USAirways flight US1562 from RIC2DFW was Cancelled Flightled yesterday &amp; I was on hold w/ cust. service from 6-10pm EST...4 hours, no answer...  @USAirways 02//23/2015\n",
       "@USAirways making folks run from gate C29 to A18 to B11 with NO EXPLANATION and zero carts to transfer elderly and handicap. #PHL  @USAirways 02//22/2015\n",
       "@USAirways Can you advise on what's happening with departure delays from CLT?  @USAirways 02//22/2015\n",
       "@USAirways any way to tell our gate we are going? Stuck on tarmack, int'l flt FLT 878 going to ELM Gate F6  @USAirways 02//22/2015\n",
       "@USAirways my wife left her phone on flight AWE474 on Friday February 20th upon landing in Minneapolis. How can we get it back? Thanks!  @USAirways 02//22/2015\n",
       "@usairways @AmericanAir LAX connect from term 6 to term 4.  55min layover due to delay. US755-AA2595. Is this realistic? Can 2595 be held?  @usairways @AmericanAir 02//22/2015\n",
       "@USAirways how do you lose a pilot????  @USAirways 02//22/2015\n",
       "@USAirways AA Gate Supervisor emplid 600117 allowed flight AA67 to leave JFK to SJ on 20feb15 w/o 8 customers that made final boarding call.  @USAirways 02//22/2015\n",
       "@USAirways this is how concerned your gate attendants at C26 are this afternoon. #nocommunication #nocrew http://t.co/hFjYN2vtVj  @USAirways 02//22/2015\n",
       "@USAirways got transf. to Dividend Miles...need to change flight.  Grandma just passed, need to change ticket ASAP. Update on wait time?  @USAirways 02//22/2015\n",
       "@USAirways i will be on this plane while on the ground longer than i will be in the air. US5235  @USAirways 02//22/2015\n",
       "@USAirways why have me board a plane knowing there is a maint issue?  US5235.  @USAirways 02//22/2015\n",
       "@USAirways help im falling out of one of your planes  @USAirways 02//22/2015\n",
       "\"@USAirways Its not just PHL, at BTV today made to deplane because \"\"it's Sunday and we don't know if maintenance will be available\"\"\"  @USAirways 02//22/2015\n",
       "@USAirways After today,no reason 4 anyone to not approve merger with @AmericanAir,other airlines have no reason to fear losing business to U  @USAirways @AmericanAir 02//22/2015\n",
       "@USAirways stuck on Tarmac for 30 mins at PHL waiting for someone to load baggage,ridiculous http://t.co/BRCsjBxG2s  @USAirways 02//22/2015\n",
       "@USairways E190 lands without nose gear in Houston - @Flightglobal http://t.co/Yf9NhMwyFF  @USairways @Flightglobal 02//22/2015\n",
       "@USAirways any updates on Flt 1848, here at the gate and they have no expected time of departure  @USAirways 02//22/2015\n",
       "@USAirways F623 DEN:PHX impressive lack of concern by 1hr+ Late Flight flight attndt wrecking havoc on customer travel #smugsmirk #norush  @USAirways 02//22/2015\n",
       "@USAirways F623 DEN:PHX. Serious display of poor customer service exhibited by flight crew today.   #newamericanairline #cheapslogannotmotto  @USAirways 02//22/2015\n",
       "@USAirways have had a medical issue Late Flight yesterday and need to change my flight today been on hold for an hour and still not through  @USAirways 02//22/2015\n",
       "@USAirways my option is to use twitter. Most of the people working for u have no clue what they do. they tell you to go to A4 but its b16  @USAirways 02//22/2015\n",
       "@USAirways seriously!!!  Flight Cancelled Flighted. Auto rebooked to Tuesday??? Then 3hr 26min on hold for nothing. Renting car. Want refund!!!!  @USAirways 02//22/2015\n",
       "@USAirways download jeokoo the American app for air travelers  @USAirways 02//21/2015\n",
       "@USAirways My brother &amp; his family stranded in CLT tonight bc gate E36 agent wouldn't hold plane for two minutes. Now driving in bad weather  @USAirways 02//21/2015\n",
       "@USAirways something is wrong with your phone system if you call someone and don't play the recorded flight notification. Is US643 Late Flight?  @USAirways 02//21/2015\n",
       "@USAirways an already pleasant flight from London to Charlotte (US733) was made fantastic by an amazing attendant. Thank you so much Robert!  @USAirways 02//21/2015\n",
       "@USAirways @AmericanAir 9 empty seats open in 1st on AA1061. No upgrades for a U.S. Gold member? Would love consistent policies.  @USAirways @AmericanAir 02//21/2015\n",
       "@USAirways Please hold US1765 for me. Need to get home tonight before weather. Almost there.  @USAirways 02//20/2015\n",
       "@USAirways It wasn't weather this morning.  AWE1701 diverted back to BOS due to mechanical issues.  So far lost one of 3 days :(  @USAirways 02//20/2015\n",
       "@USAirways @AmericanAir no one appreciates the sass of the gate agent at Gate C38 at LGA flight US626. Irritated customers  @USAirways @AmericanAir 02//20/2015\n",
       "@USAirways Best GAgent in a long time - Danny B. for US628 DFW-CLT. Appreciated how up to date he kept us during irrops. Super professional!  @USAirways 02//20/2015\n",
       "@USAirways call Gate D9 in CLT and get me on this flight  @USAirways 02//20/2015\n",
       "@USAirways please secure the 'footrest' shelf' in business class on A330 airplanes!!! http://t.co/ZL4bVEXmcJ  @USAirways 02//19/2015\n",
       "@USAirways they finally answered. They were rude and didn't help me at all.  @USAirways 02//19/2015\n",
       "@USAirways is this accurate? Safety guide shown no MP3 player usage during takeoff and landing. http://t.co/Nvk3IrG4KP  @USAirways 02//19/2015\n",
       "@USAirways I've been on hold for 36 mins and counting cause you charged my credit card for bag but provided no receipt and said error. Awful  @USAirways 02//19/2015\n",
       "@USAirways got rebooked. Sent to A9. Wrong gate! Traveled back to B13 for correct flight. #tired&amp;frustrated  @USAirways 02//19/2015\n",
       "@USAirways plz plz plz hold 4438 to EYW. The 810 PHL &gt;CLT is sooo Late Flight. Gonna miss the connection for @jabevan221 's 40th #GTH239  @USAirways @jabevan221 02//19/2015\n",
       "@USAirways I got an email asking me to checkin TMRW for a flight I meant to book for 3/19 - can someone please help! @WallStSlumLord @PKG49  @USAirways @WallStSlumLord @PKG49 02//18/2015\n",
       "@USAirways my flight was Cancelled Flightled yesterday and moved to today, then while at my stop in DC my flight is delayed due to lack of crew US4485  @USAirways 02//18/2015\n",
       "@USAirways @FAANews how can I be stuck on a plane due to snow in Boston when it's not actually snowing in Boston?  Usair flight 2218 #US2218  @USAirways @FAANews 02//18/2015\n",
       "@USAirways: I experienced what defines customer service on #FLT1999. A flight attendant willing to follow up with a passenger on bag charges  @USAirways 02//18/2015\n",
       "Yes but I will nvr fly w/ @USAirways I missed my con flight bc of a coffeemaker on FT1892 Couldn't see my father be4 they put him in a coma  @USAirways 02//18/2015\n",
       "@USAirways Would you guys please send service agents to gate B15 in Philly?  All the people missed there connections and there's only 2.  @USAirways 02//18/2015\n",
       "@USAirways My flight (US558) got Cancelled Flightled on 2/16 due to lack of flight crew.I was told that I'd be reimbursed for hotel. Who do I contact?  @USAirways 02//17/2015\n",
       "@USAirways Thanks. It would be better from the gate agent at C14 in Charlotte boarding flight 1791.  @USAirways 02//17/2015\n",
       "@AmericanAir r u serious?? 304min #delay with #AmericanAirlines #AA2444 #ohio - #dallas missed my connecting flight http://t.co/DNMsblzumr  @AmericanAir 02//24/2015\n",
       "@AmericanAir r u serious?? 304min #delay with #AmericanAirlines #AA2444 #ohio - #dallas missed my connecting flight http://t.co/DNMsblzumr  @AmericanAir 02//24/2015\n",
       "@AmericanAir the flight is not going to make the connection to #MEX #AA2444  @AmericanAir 02//24/2015\n",
       "@AmericanAir Waiting an hour now for a pilot AA3688. Is there a pilot in the house at DFW?  @AmericanAir 02//24/2015\n",
       "@AmericanAir flight AA1119, cx to AA157. Killing my layover, still wanting breakfast. I'm hungry! Get me to DFW!  @AmericanAir 02//24/2015\n",
       "@AmericanAir how do you NOT do maintenance on #MD80 while it sits for two days? Frozen lines found after its boarded? Come on! #faail #mci  @AmericanAir 02//24/2015\n",
       "@AmericanAir  They said it works 80-90% of the time, DFW security entrance C26. Before/after pre-check, whereas I paid for the service.  @AmericanAir 02//24/2015\n",
       "@AmericanAir If SNA curfew causes diversion, do you provide transportation from LAX? On AA1237 now, pilot not sure if we have time.  @AmericanAir 02//23/2015\n",
       "@AmericanAir Best planes in the business. NOT? AA5411 today. http://t.co/I7Vdi9WqSF  @AmericanAir 02//23/2015\n",
       "@AmericanAir  TPA - ORD!!! AA1679 Another successful journey, thanks for the hospitality!  @AmericanAir 02//23/2015\n",
       "@AmericanAir Lady at B1 ABQ for 5347 on 2/23 was of a great service to all among several Cancelled Flightlations  @AmericanAir 02//23/2015\n",
       "@AmericanAir See photo of B787 scale model &amp; our PN 320008A wheel deflator specified in Chapter 32 of B787 AMM. http://t.co/kfD4WQRkLW  @AmericanAir 02//23/2015\n",
       "@AmericanAir See photo of 787 model &amp; our PN 320008A wheel deflator specified in Chapter 32 of B787 AMM. http://t.co/oilnCfWEyg  @AmericanAir 02//23/2015\n",
       "@AmericanAir there's an employee at gate 45 of JFK telling people their bag doesn't fit and needs to be checked when it clearly fits #AA291  @AmericanAir 02//23/2015\n",
       "@AmericanAir AA1675 now that the airplane has been sitting here for over 24 hrs,there are mechanical problems.BTW,the AA desk is unorganized  @AmericanAir 02//23/2015\n",
       "\"@AmericanAir AA1675 flight out of Jamaica was Cancelled Flightled yesterday due to \"\"weather\"\", while other flights were still landing at DFW\"  @AmericanAir 02//23/2015\n",
       "@AmericanAir could you check if there is SWU (typo in last post) space on AA199 MXP-JFK Feb 28th? Thanks  @AmericanAir 02//23/2015\n",
       "@AmericanAir could you check if there is SVU space on AA199 MXP-JFK Feb 28th? Thanks  @AmericanAir 02//23/2015\n",
       "@AmericanAir Lost black wallet at #DallasAirport.I was on flight 2208 to CLE.Would appreciate ur help. Last I used it at @Starbucks on A20.  @AmericanAir @Starbucks 02//23/2015\n",
       "@AmericanAir flight US1562 from RIC2DFW was Cancelled Flightled yesterday &amp; I was on hold w/ cust. service from 6-10pm EST...4 hours, no answer...  @AmericanAir 02//23/2015\n",
       "@AmericanAir dm me your email address,  I will tell you my ordeal, then you tell me what you think is fair  @AmericanAir 02//23/2015\n",
       "@AmericanAir Hey, what's happening with #AA65 Zurich - JFK? Appears to have squawked 7700 and landed at London Heathrow  @AmericanAir 02//23/2015\n",
       "@AmericanAir Flight AAL65 declared state of emergency? Squawking 7700...  @AmericanAir 02//23/2015\n",
       "@AmericanAir just want to thank you guys for the 27 hour delay for flight AA106 from JFK due to staff shortage and not weather✈️  @AmericanAir 02//23/2015\n",
       "@AmericanAir what terminal LHR for aa5/BA1506? Doesn't say in boarding pass  @AmericanAir 02//23/2015\n",
       "@AmericanAir Why did  AA973 return to JFK? Thanks :)  @AmericanAir 02//23/2015\n",
       "@AmericanAir Thanks for the champagne  AA153 ORD-NRT to celebrate my #TokyoMarathon2015 finish! http://t.co/Ij4xL01tKX  @AmericanAir 02//22/2015\n",
       "@AmericanAir - Whoooo Hooooo just crossed 25,367!!! At my current pace I should reach 152,202 for the year.  @AmericanAir 02//22/2015\n",
       "@AmericanAir booked AA3370 departing JFK 2/25/15. It was booked via BA and I want to change my FF# to AA can you do that for me via Twitter?  @AmericanAir 02//22/2015\n",
       "@AmericanAir I have never seen such incompetency from a gate agent in years of business travel DFW B16 gate agent needs training or new job  @AmericanAir 02//22/2015\n",
       "@AmericanAir I paid extra $ for my seat &amp; the monitor didn't work from on AA111. How about a refund on the seat? Conf #: MDBEEI, McMullen  @AmericanAir 02//22/2015\n",
       "@AmericanAir My flight tomorrow from SLC to DFW AA304 Cancelled Flighted. Can you help me get there?  @AmericanAir 02//22/2015\n",
       "@AmericanAir your gate agents at DFW gate B16 are pathetic tonight.  Terrible communication, stories changing and apathetic  @AmericanAir 02//22/2015\n",
       "@AmericanAir AA45 ... JFK to LAS.  @AmericanAir 02//22/2015\n",
       "@AmericanAir In car gng to DFW. Pulled over 1hr ago - very icy roads. On-hold with AA since 1hr. Can't reach arpt for AA2450. Wat 2 do?  @AmericanAir 02//22/2015\n",
       "@AmericanAir flight attendants on AA2402 were spectacular.Fed the ENTIRE cabin then food from coach. Why do you keep serving this vile food  @AmericanAir 02//22/2015\n",
       "@AmericanAir My wife &amp; infant daughter are on AA3195 ABI-DFW. En route but delayed. Can y’all hold AA1458 to RDU so they can connect?  @AmericanAir 02//22/2015\n",
       "@AmericanAir Hi AA friends! My sis's flight AA362 DFW&gt;&gt;MKE was Cancelled Flighted due to weather. Any way you can help here? What are her options?  @AmericanAir 02//22/2015\n",
       "@AmericanAir rude gate agent by AA363 ORD-LGA just now. Seems to have a temper. Made me check in a bag that fit INSIDE the sizer.  @AmericanAir 02//22/2015\n",
       "@AmericanAir Flight  AA1691 LAX to LAS closes too early and gate agents give us hassles #PatheticCX  @AmericanAir 02//22/2015\n",
       "@AmericanAir arrived in lax from ord flight AA1657 NO LUGGAGE  @AmericanAir 02//22/2015\n",
       "@AmericanAir shoutout to the agent on duty now @ Gate B1 #ABQ / outstanding customer service w delayed FLT 336 http://t.co/OoEJ4d4JoP  @AmericanAir @  02//22/2015\n",
       "@AmericanAir My flt AA375 for 02/23 got cncled and i cant get hold of a CSR so i can get alternate arrangement. Plz help  @AmericanAir 02//22/2015\n",
       "@AmericanAir TY Can you confirm or deny if AA953 left JFK? I want to figure out if more delays are in store. Internet giving different info.  @AmericanAir 02//22/2015\n",
       "@AmericanAir the ticket is a poor gesture of goodwill (for missed trip) to a top status flyer - I may not next time (AA91 LHR-ORD 2/16)  @AmericanAir 02//22/2015\n",
       "@AmericanAir LGA 2 Nashville Cancelled Flightled phone center no help. Fabulous staff at gate D4 helped-2 young men handled crowd well.  @AmericanAir 02//22/2015\n",
       "@AmericanAir Next Friday, I'll take AA3074 to LGA.Sat morning, US1951+US874.Do I have to take my bags at LGA or I get them to my final dest?  @AmericanAir 02//22/2015\n",
       "@AmericanAir please fix your inventory system, Plat upgraded then bumped DOWN after boarding, FA said they made a mistake. AA45 3A➡️8C 😕  @AmericanAir 02//22/2015\n",
       "@AmericanAir we're still stucked in the airport. #AADelay #AA919  @AmericanAir 02//22/2015\n",
       "@AmericanAir thanks for the response. I know it's not your fault... But Im in ORD in T5 and hungry if you want to stop by ✈️✌️  @AmericanAir 02//22/2015\n",
       "@AmericanAir What's the status at DFW? Ticket agent at gate A9 was very rude and unhelpful.  @AmericanAir 02//22/2015\n",
       "@AmericanAir what are my chances of making a connection to El Paso (AA504) with DFW from SAT (AA200) delayed 30 minutes?  @AmericanAir 02//22/2015\n"
      ]
     },
     "execution_count": 132,
     "metadata": {},
     "output_type": "execute_result"
    }
   ],
   "source": [
    "use open ':std', ':encoding(UTF-8)';\n",
    "\n",
    "my $filename = 'airline_tweets.tsv';\n",
    "open(my $fh, '<:encoding(UTF-8)', $filename)\n",
    "  or die \"Could not open file '$filename' $!\";\n",
    " \n",
    "while (my $row = <$fh>) {\n",
    "$data = \"\";\n",
    "  chomp $row;\n",
    "      if ($row =~ /\\b[A-Z]+\\d+\\b/){\n",
    "          if($row =~/\\b[A-Z][A-Z][A-Z]/){\n",
    "                while($row =~ /(@.+?\\b)/g){\n",
    "                    $data .=  \" \" . $1;\n",
    "                }  \n",
    "                $row =~ /(.*?)\\t.*\\t.*/;\n",
    "                $tweet = $1;\n",
    "                $row =~ s/^.*(\\d\\d\\d\\d)-(\\d\\d)-(\\d\\d)\\s\\d\\d:\\d\\d:\\d\\d.*$/$2\\/\\/$3\\/$1/;\n",
    "                \n",
    "                say $tweet .' '. $data .' '. $row;\n",
    "      }\n",
    "    }\n",
    "}"
   ]
  },
  {
   "cell_type": "code",
   "execution_count": null,
   "metadata": {
    "collapsed": true
   },
   "outputs": [],
   "source": []
  }
 ],
 "metadata": {
  "celltoolbar": "Slideshow",
  "kernelspec": {
   "display_name": "IPerl [git]",
   "language": "perl",
   "name": "iperl"
  },
  "language_info": {
   "file_extension": ".pl",
   "mimetype": "text/x-perl",
   "name": "perl",
   "version": "5.20.2"
  }
 },
 "nbformat": 4,
 "nbformat_minor": 2
}

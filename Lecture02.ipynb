{
 "cells": [
  {
   "cell_type": "markdown",
   "metadata": {
    "slideshow": {
     "slide_type": "slide"
    }
   },
   "source": [
    "# Regular Expressions\n",
    "## Substitution and More"
   ]
  },
  {
   "cell_type": "code",
   "execution_count": null,
   "metadata": {
    "collapsed": true,
    "slideshow": {
     "slide_type": "skip"
    }
   },
   "outputs": [],
   "source": [
    "# This is necessary to print every statement on a new line\n",
    "# It is activating a feature that will be standard in Perl 6\n",
    "use feature qw(say);"
   ]
  },
  {
   "cell_type": "markdown",
   "metadata": {
    "slideshow": {
     "slide_type": "slide"
    }
   },
   "source": [
    "## Substitution Basics\n",
    "* In Perl the syntax for a substitution regex is ```s/regex/substitution/```\n",
    "* The regex is the only part that can use metacharacters\n",
    "    * The substition can consist of literal characters or special variables\n",
    "   \n"
   ]
  },
  {
   "cell_type": "code",
   "execution_count": null,
   "metadata": {},
   "outputs": [],
   "source": [
    "$good = \"This is a very simple string where everything is spaced nicely\";\n",
    "$bad = \"This is   also  a      simple  string  but it has    very weird spacing\";\n",
    "$good =~ s/\\s\\s+//;\n",
    "$bad =~ s/\\s\\s+//;\n",
    "say $good;\n",
    "say $bad;"
   ]
  },
  {
   "cell_type": "markdown",
   "metadata": {
    "slideshow": {
     "slide_type": "slide"
    }
   },
   "source": [
    "## Simple Substitution using the g Modifier\n",
    "* In most cases, we want to use substitution to substitute all matches, so we should use the g modifier"
   ]
  },
  {
   "cell_type": "code",
   "execution_count": null,
   "metadata": {},
   "outputs": [],
   "source": [
    "$bad = \"This is   also  a      simple  string  but it has    very weird spacing\";\n",
    "$bad =~ s/\\s\\s+/ /g;\n",
    "say $bad;"
   ]
  },
  {
   "cell_type": "markdown",
   "metadata": {
    "slideshow": {
     "slide_type": "slide"
    }
   },
   "source": [
    "## Simple Substitution with Literals\n",
    "* The pattern portion can consist only of literals\n",
    "    * Many languages now have a specific replace method or function to operate on strings\n",
    "    * Still very useful to use fast simple tools like ```sed```"
   ]
  },
  {
   "cell_type": "code",
   "execution_count": null,
   "metadata": {},
   "outputs": [],
   "source": [
    "$umbc = \"UMBC is located in MD\";\n",
    "$umbc =~ s/UMBC/The University of Maryland, Baltimore County/g;\n",
    "say $umbc;\n",
    "$umbc =~ s/MD/Maryland/g;\n",
    "say $umbc;"
   ]
  },
  {
   "cell_type": "markdown",
   "metadata": {
    "slideshow": {
     "slide_type": "slide"
    }
   },
   "source": [
    "## Backreference Variables\n",
    "* Many common tasks, like reformatting, involving saving part of the match\n",
    "    * To refer to a group found in the pattern, use \\$x, where x is the group number"
   ]
  },
  {
   "cell_type": "code",
   "execution_count": null,
   "metadata": {},
   "outputs": [],
   "source": [
    "$today = \"Today's date is 9-7-17\";\n",
    "$today =~ s/(\\d?\\d)-(\\d?\\d)-(\\d\\d)/$1\\/$2\\/$3/g;\n",
    "say $today;"
   ]
  },
  {
   "cell_type": "code",
   "execution_count": null,
   "metadata": {
    "slideshow": {
     "slide_type": "slide"
    }
   },
   "outputs": [],
   "source": [
    "$today = \"Today's date is 09-07-17\";\n",
    "$today =~ s/(\\d?\\d)-(\\d?\\d)-(\\d\\d)/$1\\/$2\\/$3/g;\n",
    "say $today;"
   ]
  },
  {
   "cell_type": "code",
   "execution_count": null,
   "metadata": {
    "slideshow": {
     "slide_type": "-"
    }
   },
   "outputs": [],
   "source": [
    "$today = \"The University of Maryland beat the University of Texas last week in football.\";\n",
    "$today =~ s/University of (\\w)\\w+/U of $1/g;\n",
    "say $today;"
   ]
  },
  {
   "cell_type": "markdown",
   "metadata": {
    "slideshow": {
     "slide_type": "slide"
    }
   },
   "source": [
    "## Sidenote: Changing Delimiters\n",
    "* When matching or substituting a string with the ```/``` character, it can be very annoying to escape all of them\n",
    "* Almost any puncuation can be used as the delimiter\n",
    "    * If it is a character that comes in pairs, you should use the left and right versions"
   ]
  },
  {
   "cell_type": "code",
   "execution_count": null,
   "metadata": {},
   "outputs": [],
   "source": [
    "$today = \"Today's date is 09-07-17\";\n",
    "$today =~ s[(\\d?\\d)-(\\d?\\d)-(\\d\\d)][$1/$2/$3]g;\n",
    "say $today;"
   ]
  },
  {
   "cell_type": "code",
   "execution_count": null,
   "metadata": {},
   "outputs": [],
   "source": [
    "$today = \"Today's date is 09-07-17\";\n",
    "$today =~ s!(\\d?\\d)-(\\d?\\d)-(\\d\\d)!$1/$2/$3!g;\n",
    "say $today;"
   ]
  },
  {
   "cell_type": "markdown",
   "metadata": {
    "slideshow": {
     "slide_type": "slide"
    }
   },
   "source": [
    "## Lookahead and Lookbehind\n",
    "* In some instances, we want to match, but not capture a piece of text\n",
    "* A lookahead is written as:\n",
    "\n",
    "    ```(?=pattern)```\n",
    "\n",
    "* A lookbehind is written as:\n",
    "\n",
    "    ```(?<=pattern)```"
   ]
  },
  {
   "cell_type": "markdown",
   "metadata": {
    "slideshow": {
     "slide_type": "slide"
    }
   },
   "source": [
    "## Lookahead and Lookbehind Practice\n",
    "* Lets assume that in our text every 7 digit number is a phone number"
   ]
  },
  {
   "cell_type": "code",
   "execution_count": null,
   "metadata": {},
   "outputs": [],
   "source": [
    "$bad_number = \"1234567\";\n",
    "$bad_number =~ s/(?<=\\d\\d\\d)(?=\\d\\d\\d\\d)/-/g;\n",
    "say $bad_number;"
   ]
  },
  {
   "cell_type": "markdown",
   "metadata": {
    "slideshow": {
     "slide_type": "slide"
    }
   },
   "source": [
    "## Accessing Matches\n",
    "* Often we want to retrieve a specific part of the match\n",
    "* We can do this by using groups, and then refering back to the group number later in the code\n",
    "* In Perl this uses the same special variables found in substitution"
   ]
  },
  {
   "cell_type": "code",
   "execution_count": null,
   "metadata": {},
   "outputs": [],
   "source": [
    "$addr = \"The address of UMBC is 1000 Hilltop Circle, Baltimore, MD.\";\n",
    "$addr =~ /(\\d+ \\w+ \\w+, \\w+, \\w+)/;\n",
    "say $1"
   ]
  },
  {
   "cell_type": "markdown",
   "metadata": {
    "slideshow": {
     "slide_type": "slide"
    }
   },
   "source": [
    "## Accessing Matches with the g Modifier\n",
    "* This will vary from language to language, but in Perl a while loop is used to continue to extract matches\n",
    "* Lets extract all the twitter handles from the following article: http://retrieverweekly.umbc.edu/fifteen-essential-twitter-accounts-umbc-students/\n"
   ]
  },
  {
   "cell_type": "code",
   "execution_count": null,
   "metadata": {
    "slideshow": {
     "slide_type": "skip"
    }
   },
   "outputs": [],
   "source": [
    "my $article = <<'END_MESSAGE';\n",
    "UMBC is often criticized by its own students for a perceived lack of student life and for a campus that falls silent after 5 p.m. For a new student or a new resident, it can be challenging to explore, let alone locate, the campus culture.\n",
    "\n",
    "The essential first step in immersing yourself in UMBC doesn’t even require leaving your bedroom. UMBC may get quiet in the evenings, but that’s when UMBC Twitter gets loud. Between professors, departments and students themselves, UMBC has a vibrant Twitter community. If you’re new to UMBC or you’re just looking to get a little more involved, Twitter is an excellent place to start. Below, in no particular order, are fifteen accounts you should start with. Give them a follow and you might find yourself feeling a little more connected to your university.\n",
    "\n",
    "1. David Hoffman (@CoCreatorDavid)\n",
    "\n",
    "David Hoffman is the assistant director of student life where he is responsible for encouraging civic agency among students. One of the masterminds behind the STRiVE leadership program, Hoffman values the active participation of students in campus life. Give him a follow if you’re looking to improve your political and social engagement.\n",
    "\n",
    "2. UMBC Career Center (@UMBCcareers)\n",
    "\n",
    "We’ve all heard about the Career Center — orientation leaders and tour guides love to mention it — but how many of us actually use any of the resources it provides? You don’t have to schedule a mock interview or bring your resume in for approval to take advantage of the career experts at UMBC. You should probably do those things, especially you second-semester seniors, but giving them a follow on Twitter is a good move too. Their tweets will give you interview tips, resume recommendations, and job and internship leads.\n",
    "\n",
    "3. UMBC SGA (@umbcsga)\n",
    "\n",
    "There has been a lot of skepticism about the effectiveness and the integrity of UMBC’s Student Government Association in recent years, and not without reason. For many students, the scandal and trial defined Anthony Jankoski’s 2015-16 presidency. As a result, students lost faith and interest in the SGA. If you’re looking to see a better side of SGA, this account is a must-follow. Presumably looking to improve their transparency, SGA has tweeted details about Senate meetings, swearings-in, and the best events on campus.\n",
    "\n",
    "4. The Arts at UMBC (@ArtsAtUMBC)\n",
    "\n",
    "Looking to check out the “explosive new choreography” or the “sparkling new Linehan concert hall”? There are so many arts and performance spaces on campus that you might not know about, and every weekend there’s something happening in all of them. Arts at UMBC will give you all the details, so start planning your weekend now.\n",
    "\n",
    "5. UMBC Student Life (@UMBCStudentLife)\n",
    "\n",
    "If your goal here is to get more involved in student events around campus, this is the best account on the list. Check their feed every morning as you’re waiting in the Starbucks line to see if anything exciting is happening that day. They’ll give you the hot tips on free food, free shirts and free crafts.\n",
    "\n",
    "6. UMBC Bookstore (@umbcbookstore)\n",
    "\n",
    "The Bookstore and the Yum Shoppe always have sales, giveaways and other events going on. Right now, you could win a mini-fridge stocked with Coke products and you can save 20 percent on a new backpack. You can also check out the one and only Bookstore Bob rapping about textbooks. What’s not to love?\n",
    "\n",
    "7. UMBC Athletics (@UMBCAthletics)\n",
    "\n",
    "We may not have a football team, but we have plenty of other teams for you to check out. They all have individual accounts, so if you’re just looking for updates on Men’s Basketball, you can follow their own account. This umbrella Athletics account will keep you updated on all the Retriever teams and their wins (or their losses).\n",
    "\n",
    "8. CoCreate UMBC (@CoCreateUMBC)\n",
    "\n",
    "This account is run by David Hoffman and Craig Berger, who are both on this list with their personal accounts. This account is harder to describe, because it’s sort of a jumble. That’s a good thing, though — this account will give you varied and diverse stories of student leaders, as well as reflections on the ‘state of the campus.’\n",
    "\n",
    "9. UMBC Women’s Center (@womencenterUMBC)\n",
    "\n",
    "“All are welcome as long as they respect women. Their experiences. Their stories. Their potential.” This is the motto of the Women’s Center, one of the most important and most socially active groups on campus. If you’d like to learn more about what they do and why they do it, this is the account to follow.\n",
    "\n",
    "10. Craig Berger (@CraigBerger)\n",
    "\n",
    "Craig Berger’s personal account will keep you politically informed. You will notice a strong liberal slant, but if that’s not a problem for you, Berger’s account will ensure that you’re up to date with current events, local and national.\n",
    "\n",
    "11. True Grit (@TrueGrit66)\n",
    "\n",
    "This is another one for the sports fans. Run by the person (people?) inside the True Grit mascot costume, this account is another great place to look for sports updates. Not to mention, you’ll scroll past more True Grit selfies than you’ll ever need. If you’re looking for more school spirit on a campus that doesn’t always have a lot, start with following True Grit.\n",
    "\n",
    "12. UMBC Dining Services (@umbcdining)\n",
    "\n",
    "Anyone who eats on campus should check out this account. They tweet about monthly specials, cajun food day at D-Hall and where to buy the best donuts. They also post some solid food trivia. Today is National Apple Pie Day? Thanks, UMBC Dining!\n",
    "\n",
    "13. UMBC Orientation (@UMBCorientation)\n",
    "\n",
    "You probably won’t want to follow this account unless you’re brand new to UMBC. It can be hard to settle in, especially in the Spring, when most of your fellow students have already figured out their way around. But if you’re looking for tips and answers to questions you’re afraid to ask, follow the Orientation team.\n",
    "\n",
    "14. Renetta G. Tull (@Renetta_Tull)\n",
    "\n",
    "Vice Provost of the UMBC Graduate School and director of PROMISE:AGEP, Renetta Tull is a force of nature. Follow her for glimpses into her academic research, her grad student seminars, and her thoughts on social progress.\n",
    "\n",
    "15. University of Maryland, Baltimore County (@UMBC)\n",
    "\n",
    "There’s not a lot to say about this one. If you’re on Twitter and you go to UMBC, following this account is a no-brainer. They’ll keep you up to speed with happenings on campus across all its departments.\n",
    "\n",
    "16. The Retriever (@retrieverweekly);\n",
    "\n",
    "We promised you 15 must-follow Twitters, but we’d be remiss not to mention The Retriever’s own account. It’ll give you absolutely everything you could ever want to know about UMBC. At least, we like to think so.\n",
    "\n",
    "END_MESSAGE"
   ]
  },
  {
   "cell_type": "code",
   "execution_count": null,
   "metadata": {},
   "outputs": [],
   "source": [
    "while($article =~ /\\(@(\\w+)\\)/g){\n",
    "    say $1;\n",
    "}"
   ]
  },
  {
   "cell_type": "markdown",
   "metadata": {
    "slideshow": {
     "slide_type": "slide"
    }
   },
   "source": [
    "## Exercise\n",
    "* How can we capture both the twitter handel and the organization/person associated with it?\n",
    "* Reminder, the lines we are interested in look like this: \n",
    "\n",
    "```1. David Hoffman (@CoCreatorDavid)```"
   ]
  },
  {
   "cell_type": "code",
   "execution_count": null,
   "metadata": {
    "collapsed": true
   },
   "outputs": [],
   "source": []
  },
  {
   "cell_type": "markdown",
   "metadata": {
    "slideshow": {
     "slide_type": "slide"
    }
   },
   "source": [
    "## Splitting Strings\n",
    "* Regular Expressions allow strings to be split in more dynamic ways"
   ]
  },
  {
   "cell_type": "code",
   "execution_count": null,
   "metadata": {},
   "outputs": [],
   "source": [
    "$bad_csv_data = \"Name,Phone Number,Email,a,list,of,websites,visited,Date\";\n",
    "@data = split /,[A-Z]/, $bad_csv_data;\n",
    "foreach $d (@data){\n",
    "        say $d;\n",
    "}\n"
   ]
  },
  {
   "cell_type": "markdown",
   "metadata": {
    "slideshow": {
     "slide_type": "slide"
    }
   },
   "source": [
    "## Putting it All Together\n",
    " Given an array of tweets at airlines, each element in the format \n",
    "\n",
    "```Tweet\\tUser\\tTimestamp```\n",
    "\n",
    "How might we produce a report of all tweets that reference a specific airport and a specific flight, and print this information along with the date in a nice format along with any Twitter handles found in the tweet"
   ]
  },
  {
   "cell_type": "code",
   "execution_count": null,
   "metadata": {},
   "outputs": [],
   "source": [
    "use open ':std', ':encoding(UTF-8)';\n",
    "\n",
    "my $filename = 'airline_tweets.tsv';\n",
    "open(my $fh, '<:encoding(UTF-8)', $filename)\n",
    "  or die \"Could not open file '$filename' $!\";\n",
    " \n",
    "while (my $row = <$fh>) {\n",
    "  chomp $row;\n",
    "      print $row;\n",
    "      last;\n",
    "\n",
    "}"
   ]
  },
  {
   "cell_type": "code",
   "execution_count": null,
   "metadata": {
    "collapsed": true
   },
   "outputs": [],
   "source": []
  }
 ],
 "metadata": {
  "celltoolbar": "Slideshow",
  "kernelspec": {
   "display_name": "IPerl [git]",
   "language": "perl",
   "name": "iperl"
  },
  "language_info": {
   "file_extension": ".pl",
   "mimetype": "text/x-perl",
   "name": "perl",
   "version": "5.20.2"
  }
 },
 "nbformat": 4,
 "nbformat_minor": 2
}

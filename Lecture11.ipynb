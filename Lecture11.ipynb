{
 "cells": [
  {
   "cell_type": "markdown",
   "metadata": {
    "slideshow": {
     "slide_type": "slide"
    }
   },
   "source": [
    "# R\n",
    "\n",
    "## Objects, Statistics, and Packages"
   ]
  },
  {
   "cell_type": "markdown",
   "metadata": {
    "slideshow": {
     "slide_type": "slide"
    }
   },
   "source": [
    "## Objects in R\n",
    "- `R` supports three different types of objects, all declared and used in different ways\n",
    "    - S3 objects\n",
    "    - S4 objects\n",
    "    - RC objects"
   ]
  },
  {
   "cell_type": "markdown",
   "metadata": {
    "slideshow": {
     "slide_type": "slide"
    }
   },
   "source": [
    "## S3 Objects\n",
    "- S3 objects are the simplest and most common type of object in `R`\n",
    "- Based of the design of objects in the third version of the `S` language\n",
    "    - Came out in 1988\n",
    "    - Switched from FORTRAN to C\n",
    "- Methods don't belong to objects, uses a form of object-oriented programming known as generics"
   ]
  },
  {
   "cell_type": "markdown",
   "metadata": {
    "slideshow": {
     "slide_type": "slide"
    }
   },
   "source": [
    "## Creating an S3 Object\n",
    "- Any existing object can be converted into an S3 object\n",
    "    - Use the `structure` function and assign the results to a variable\n",
    "    - Use the assignment version of the `class` function to give an existing variable a class attribute\n",
    "- Both of these methods create a single instance at a time"
   ]
  },
  {
   "cell_type": "code",
   "execution_count": null,
   "metadata": {
    "slideshow": {
     "slide_type": "slide"
    }
   },
   "outputs": [],
   "source": [
    "my_first_instance <- structure(1:5,class=\"specialVector\")\n",
    "print(my_first_instance)\n",
    "print(str(my_first_instance))"
   ]
  },
  {
   "cell_type": "code",
   "execution_count": null,
   "metadata": {
    "slideshow": {
     "slide_type": "slide"
    }
   },
   "outputs": [],
   "source": [
    "my_second_instance <- list(a_member = 2, another= \"A String\")\n",
    "print(my_second_instance)\n",
    "\n",
    "class(my_second_instance) <- \"listClass\"\n",
    "print(str(my_second_instance))"
   ]
  },
  {
   "cell_type": "markdown",
   "metadata": {
    "slideshow": {
     "slide_type": "slide"
    }
   },
   "source": [
    "## S3 Constructor\n",
    "- An S3 constructor is one that simply hides the call to `structure` or `class` inside of a function\n",
    "- By convention, it should have the same name as the class, although this isn't strictly necessary\n",
    "```R\n",
    "class_name <- function(parameters){\n",
    "    structure(list(parameters),class=\"class_name\")\n",
    "    }\n",
    "```"
   ]
  },
  {
   "cell_type": "code",
   "execution_count": null,
   "metadata": {
    "slideshow": {
     "slide_type": "slide"
    }
   },
   "outputs": [],
   "source": [
    "vehicle <- function(n_wheels,color){\n",
    "    structure(list(m_n_wheels = n_wheels, m_color = color ),\n",
    "              class=\"vehicle\")\n",
    "}\n",
    "\n",
    "myCar <- vehicle(4,'black')\n",
    "print(class(myCar))"
   ]
  },
  {
   "cell_type": "markdown",
   "metadata": {
    "slideshow": {
     "slide_type": "slide"
    }
   },
   "source": [
    "## Inheritance\n",
    "- The class attribute of an object cab actually be a vector\n",
    "    - We can use this to simulate inheritance\n",
    "    - In the previous examples, we are inheriting from the list class\n",
    "```R\n",
    "child_class <- function(parameters)\n",
    "    {\n",
    "        self <- parent_class(parameters)\n",
    "        class(self) <- append(\"child_class\",class(self))\n",
    "        self\n",
    "    }\n",
    "```"
   ]
  },
  {
   "cell_type": "code",
   "execution_count": null,
   "metadata": {
    "slideshow": {
     "slide_type": "slide"
    }
   },
   "outputs": [],
   "source": [
    "car <- function(color){\n",
    "    self <- vehicle(4,color)\n",
    "    class(self) <- append(\"car\",\n",
    "                          class(self))\n",
    "    self\n",
    "}\n",
    "my_new_car <- car('black')\n",
    "print(class(my_new_car))"
   ]
  },
  {
   "cell_type": "markdown",
   "metadata": {
    "slideshow": {
     "slide_type": "slide"
    }
   },
   "source": [
    "# Methods \n",
    "- `R` uses a style of OOP known as generics\n",
    "    - An object is passed to a function, which then acts on the object\n",
    "    - By writing multiple different \"versions\" of the same function, we can specify how the function should interact on a given object\n",
    "- Most functions we have seen so far are actually generics, ie\n",
    "```R\n",
    "t(df) # actually t.data.frame(df)\n",
    "```"
   ]
  },
  {
   "cell_type": "code",
   "execution_count": null,
   "metadata": {
    "slideshow": {
     "slide_type": "slide"
    }
   },
   "outputs": [],
   "source": [
    "mm <- as.data.frame(matrix(1:20,ncol=4))\n",
    "print(t(mm))\n",
    "print(t.data.frame(mm))"
   ]
  },
  {
   "cell_type": "code",
   "execution_count": null,
   "metadata": {
    "slideshow": {
     "slide_type": "slide"
    }
   },
   "outputs": [],
   "source": [
    "print(t)\n",
    "\n",
    "print(t.data.frame)"
   ]
  },
  {
   "cell_type": "markdown",
   "metadata": {
    "slideshow": {
     "slide_type": "slide"
    }
   },
   "source": [
    "## The Generic Function\n",
    "- The top level function must be created and follows a very standard format.\n",
    "    - The `UseMethod` function denotes that this function should actually dispatch to a more appropriate function, based on the object that was passed in\n",
    "- The generic function for `t` might look like\n",
    "```R\n",
    "t <- function(obj){\n",
    "        UseMethod(\"t\")\n",
    "    }\n",
    "```"
   ]
  },
  {
   "cell_type": "markdown",
   "metadata": {
    "slideshow": {
     "slide_type": "slide"
    }
   },
   "source": [
    "## User-Defined Generics\n",
    "- Write a generic function with the name of the function you want\n",
    "- For each class you want to define a different version of your function for, name it as `function_name.class_name`\n",
    "    - The generic function will use the class attribute of the function passed to it to determine which to call\n",
    "- A function named `function_name.default` can be defined to be run in the event no match is found"
   ]
  },
  {
   "cell_type": "code",
   "execution_count": null,
   "metadata": {
    "slideshow": {
     "slide_type": "slide"
    }
   },
   "outputs": [],
   "source": [
    "print(my_new_car)\n",
    "print.vehicle <- function(x)\n",
    "{\n",
    "    \"My vehicle is \" % % x[['m_color']] % % \"in color and  has\" % % x$m_n_wheels % % \"wheels.\"\n",
    "}\n",
    "print(my_new_car)\n",
    "#print.vehicle <- print.default\n",
    "rm(print.vehicle)\n",
    "print(my_new_car)"
   ]
  },
  {
   "cell_type": "code",
   "execution_count": null,
   "metadata": {
    "slideshow": {
     "slide_type": "slide"
    }
   },
   "outputs": [],
   "source": [
    "makeNoise <- function(x){\n",
    "    print(class(x))\n",
    "    UseMethod(\"makeNoise\")\n",
    "}\n",
    "\n",
    "makeNoise.vehicle <-function(x){\n",
    "    \"Generic Vehicle Noise\"\n",
    "}\n",
    "\n",
    "makeNoise.car <- function(x){\n",
    "    \"BEEP BEEP\"\n",
    "}\n",
    "\n",
    "makeNoise.default <- function(x){\n",
    "    \"You can't make a noise\"\n",
    "    }"
   ]
  },
  {
   "cell_type": "code",
   "execution_count": null,
   "metadata": {
    "slideshow": {
     "slide_type": "slide"
    }
   },
   "outputs": [],
   "source": [
    "print(makeNoise(myCar))\n",
    "print(makeNoise(my_new_car))\n",
    "print(makeNoise(\"Random String\"))"
   ]
  },
  {
   "cell_type": "markdown",
   "metadata": {
    "slideshow": {
     "slide_type": "slide"
    }
   },
   "source": [
    "## S4 Classes\n",
    "- S4 is based on the object system from the 4th version of S, released in 1998\n",
    "- Not as commonly found, but some more complex libraries do make uses of it\n",
    "- Very similar to S3, but more formal\n",
    "    - Classes must be initialized using the `new` function\n",
    "    - The properties of the classes are part of the definition (called `slots` in `R`)\n",
    "    - Inheritance is done through use of the `contains` keyword"
   ]
  },
  {
   "cell_type": "markdown",
   "metadata": {
    "slideshow": {
     "slide_type": "slide"
    }
   },
   "source": [
    "## Reference Classes\n",
    "- Reference classes are the newest object system in `R`\n",
    "    - Released around 2010\n",
    "- Behave much more like traditional classes in other languages\n",
    "    - Methods now belong to objects\n",
    "    "
   ]
  },
  {
   "cell_type": "markdown",
   "metadata": {
    "slideshow": {
     "slide_type": "slide"
    }
   },
   "source": [
    "## Frequency\n",
    "- Counting the frequency of an element in `R` is done using the various `table` functions\n",
    "    - `table` returns a `table` object, which may be converted to a data frame for easier querying\n",
    "- There is no limit to the number of variables in a cross-tabulation, although it is rare to see something beyond a 2 or 3 way frequency\n",
    "    - To print higher dimension frequencies, pass table to `ftable`"
   ]
  },
  {
   "cell_type": "markdown",
   "metadata": {
    "slideshow": {
     "slide_type": "slide"
    }
   },
   "source": [
    "## Frequency of Qualitative Data\n",
    "- Qualitative Data represents categories\n",
    "    - No additional preprocessing needed with categorical data"
   ]
  },
  {
   "cell_type": "code",
   "execution_count": null,
   "metadata": {
    "slideshow": {
     "slide_type": "slide"
    }
   },
   "outputs": [],
   "source": [
    "strings <- c(\"Yes\",\"Yes\",\"No\",\"Maybe\",\"OK\",\"Yes\")\n",
    "print(table(strings))"
   ]
  },
  {
   "cell_type": "code",
   "execution_count": null,
   "metadata": {
    "slideshow": {
     "slide_type": "slide"
    }
   },
   "outputs": [],
   "source": [
    "library(vcd)\n",
    "head(Bundesliga)"
   ]
  },
  {
   "cell_type": "code",
   "execution_count": null,
   "metadata": {
    "slideshow": {
     "slide_type": "slide"
    }
   },
   "outputs": [],
   "source": [
    "print(table(Bundesliga$HomeTeam))"
   ]
  },
  {
   "cell_type": "code",
   "execution_count": null,
   "metadata": {
    "slideshow": {
     "slide_type": "slide"
    }
   },
   "outputs": [],
   "source": [
    "homeGames <- table(Bundesliga$HomeTeam)\n",
    "print(head(homeGames[order(-homeGames)]))"
   ]
  },
  {
   "cell_type": "code",
   "execution_count": null,
   "metadata": {
    "slideshow": {
     "slide_type": "slide"
    }
   },
   "outputs": [],
   "source": [
    "## How do we get the total number of games played?\n",
    "away_games <- table(Bundesliga$AwayTeam)\n",
    "all_games <- away_games + homeGames\n",
    "print(head(all_games[order(-all_games)]))"
   ]
  },
  {
   "cell_type": "code",
   "execution_count": null,
   "metadata": {
    "slideshow": {
     "slide_type": "slide"
    }
   },
   "outputs": [],
   "source": [
    "print(head(table(Bundesliga$HomeTeam,Bundesliga$AwayTeam)))"
   ]
  },
  {
   "cell_type": "markdown",
   "metadata": {
    "slideshow": {
     "slide_type": "slide"
    }
   },
   "source": [
    "## Frequency of Quantitative Data\n",
    "- Quantitative Data requires preprocessing\n",
    "    - The `table` function can only count things, it won't bin numbers for us\n",
    "- The `cut` function converts numeric data into factors\n",
    "    - In addition to the vector to cut, we can either pass the number of bins, or the bins themselves we want to use\n",
    "    - The parameter `right` controls which side is open and which is closed"
   ]
  },
  {
   "cell_type": "code",
   "execution_count": null,
   "metadata": {
    "slideshow": {
     "slide_type": "slide"
    }
   },
   "outputs": [],
   "source": [
    "print(max(Bundesliga$HomeGoals))\n",
    "FactorGoals <- cut(Bundesliga$HomeGoals,3,right=FALSE)\n",
    "print(table(FactorGoals))"
   ]
  },
  {
   "cell_type": "code",
   "execution_count": null,
   "metadata": {
    "slideshow": {
     "slide_type": "slide"
    }
   },
   "outputs": [],
   "source": [
    "print(head(table(Bundesliga$HomeTeam,FactorGoals)))"
   ]
  },
  {
   "cell_type": "code",
   "execution_count": null,
   "metadata": {
    "slideshow": {
     "slide_type": "slide"
    }
   },
   "outputs": [],
   "source": [
    "goalsByTeam <- as.data.frame(table(Bundesliga$HomeTeam,FactorGoals))\n",
    "print(head(goalsByTeam))"
   ]
  },
  {
   "cell_type": "code",
   "execution_count": null,
   "metadata": {
    "slideshow": {
     "slide_type": "slide"
    }
   },
   "outputs": [],
   "source": [
    "goalsByTeam <- as.data.frame.matrix(table(Bundesliga$HomeTeam,FactorGoals))\n",
    "print(head(goalsByTeam))"
   ]
  },
  {
   "cell_type": "code",
   "execution_count": null,
   "metadata": {
    "slideshow": {
     "slide_type": "slide"
    }
   },
   "outputs": [],
   "source": [
    "print(order(-goalsByTeam[3]))\n",
    "print(head(goalsByTeam[order(-goalsByTeam[3]),]))"
   ]
  },
  {
   "cell_type": "markdown",
   "metadata": {
    "slideshow": {
     "slide_type": "slide"
    }
   },
   "source": [
    "## Descriptive Statistics\n",
    "- Almost every basic statistical function is built-in in `R`\n",
    "    - `mean`\n",
    "    - `median`\n",
    "    - `sd` - Standard Deviation\n",
    "    - `max`\n",
    "    - `min`"
   ]
  },
  {
   "cell_type": "code",
   "execution_count": null,
   "metadata": {
    "slideshow": {
     "slide_type": "slide"
    }
   },
   "outputs": [],
   "source": [
    "print(paste(\"Our dataset includes the years from\",\n",
    "            min(Bundesliga$Year),\"to\",max(Bundesliga$Year)))\n",
    "print(mean(Bundesliga$AwayGoals))\n",
    "print(mean(Bundesliga$HomeGoals))\n",
    "print(sd(Bundesliga$AwayGoals))\n",
    "print(sd(Bundesliga$HomeGoals))"
   ]
  },
  {
   "cell_type": "code",
   "execution_count": null,
   "metadata": {
    "slideshow": {
     "slide_type": "slide"
    }
   },
   "outputs": [],
   "source": [
    "sumAway <- summary(Bundesliga$AwayGoals)\n",
    "print(class(sumAway))\n",
    "print(sumAway)\n",
    "print(summary(Bundesliga$HomeGoals))"
   ]
  },
  {
   "cell_type": "markdown",
   "metadata": {
    "slideshow": {
     "slide_type": "slide"
    }
   },
   "source": [
    "## Applying Over Axis\n",
    "- When applying a descriptive function like mean to a matrix or array, the default option is to flatten it like a vector\n",
    "- To apply is only over rows or only over columns, we need to use another function\n",
    "    - For mean, there is the special functions `rowMeans` and `colMeans`\n",
    "    - In general, we can use the `apply` function, which applies a function over an object across a given margin(sometimes called an axis)\n",
    "        - In a matrix, 1 applies over the rows, and 2 applies over the columns\n",
    "```R\n",
    "    apply(OBJECT,AXIS,FUNCTION)\n",
    "```"
   ]
  },
  {
   "cell_type": "code",
   "execution_count": null,
   "metadata": {
    "slideshow": {
     "slide_type": "slide"
    }
   },
   "outputs": [],
   "source": [
    "library(psych)\n",
    "#print(dim(iqitems))\n",
    "#print(head(iqitems))\n",
    "iqitems[is.na(iqitems)] <- 0\n",
    "print(mean(as.matrix(iqitems)))"
   ]
  },
  {
   "cell_type": "code",
   "execution_count": null,
   "metadata": {
    "slideshow": {
     "slide_type": "slide"
    }
   },
   "outputs": [],
   "source": [
    "print(apply(iqitems,2,mean))"
   ]
  },
  {
   "cell_type": "markdown",
   "metadata": {
    "slideshow": {
     "slide_type": "slide"
    }
   },
   "source": [
    "## Correlation\n",
    "- There are many different kinds of correlation, three of the most common are\n",
    "    - Pearson's r (most common)\n",
    "    - Kendall's $\\tau$ (Rank-based correlation)\n",
    "    - Spearman $\\rho$ (Rank-based correlation)\n",
    "- All are available in `R` using the `cor` method, and passing the corresponding string to the `method` parameter"
   ]
  },
  {
   "cell_type": "code",
   "execution_count": null,
   "metadata": {
    "slideshow": {
     "slide_type": "slide"
    }
   },
   "outputs": [],
   "source": [
    "print(cor(Bundesliga$HomeGoals, Bundesliga$AwayGoals,method=\"spearman\"))\n",
    "\n",
    "## Not really useful because its comparing ranks, but this is how it is called\n",
    "print(cor(Bundesliga$HomeGoals, Bundesliga$AwayGoals,method=\"kendall\"))"
   ]
  },
  {
   "cell_type": "markdown",
   "metadata": {
    "slideshow": {
     "slide_type": "slide"
    }
   },
   "source": [
    "## PCA\n",
    "- `R` also comes built in with numerous  exploratory data techniques\n",
    "- Principal Components Analysis (PCA) is a dimensional reduction technique that attempts to find the most important components\n",
    "- The PCA function in R is named `prcomp`"
   ]
  },
  {
   "cell_type": "code",
   "execution_count": null,
   "metadata": {
    "slideshow": {
     "slide_type": "slide"
    }
   },
   "outputs": [],
   "source": [
    "pca <- prcomp(iqitems)\n",
    "print(pca$x)"
   ]
  },
  {
   "cell_type": "markdown",
   "metadata": {
    "slideshow": {
     "slide_type": "slide"
    }
   },
   "source": [
    "## K-Means\n",
    "- Clustering is both a machine learning technique as well as a method of exploratory analysis\n",
    "- The `kmeans` function produces k-clusters by using attributes of data\n",
    "    - By default, it will use all attributes, if you don't want this, select a subset before passing it to K-means\n",
    "- A `kmeans` object is returned"
   ]
  },
  {
   "cell_type": "code",
   "execution_count": null,
   "metadata": {
    "slideshow": {
     "slide_type": "slide"
    }
   },
   "outputs": [],
   "source": [
    "clusters <- kmeans(iqitems,10)\n",
    "print(clusters)"
   ]
  },
  {
   "cell_type": "code",
   "execution_count": null,
   "metadata": {
    "slideshow": {
     "slide_type": "slide"
    }
   },
   "outputs": [],
   "source": [
    "print(str(clusters))\n",
    "print(clusters$cluster)\n"
   ]
  },
  {
   "cell_type": "code",
   "execution_count": null,
   "metadata": {
    "slideshow": {
     "slide_type": "slide"
    }
   },
   "outputs": [],
   "source": [
    "#clusters$cluster[clusters$cluster==2]\n",
    "head(iqitems[names(clusters$cluster[clusters$cluster==2]),])"
   ]
  },
  {
   "cell_type": "markdown",
   "metadata": {
    "slideshow": {
     "slide_type": "slide"
    }
   },
   "source": [
    "## Linear Regression\n",
    "- It is very common after some exploratory analysis to build a model in R\n",
    "- Linear regression in `R` is performed using the `lm` function\n",
    "- `lm` is the first function we are looking at that takes as an argument a formula\n",
    "```R\n",
    "lm(formula, data = DATAFRAME)\n",
    "```"
   ]
  },
  {
   "cell_type": "markdown",
   "metadata": {
    "slideshow": {
     "slide_type": "slide"
    }
   },
   "source": [
    "## Formulas in R \n",
    "- A formula in R has the general form of \n",
    "```R\n",
    "dependent_var ~ independent_vars\n",
    "```\n",
    "- Variable names are not quoted, and are expected to refer to columns in the data frame\n",
    "- If you think there is no interaction between the independent variables, combine them using `+`\n",
    "- If you think there is interaction, or just want to allow it as a possibility, combine them using `*`"
   ]
  },
  {
   "cell_type": "code",
   "execution_count": null,
   "metadata": {
    "slideshow": {
     "slide_type": "slide"
    }
   },
   "outputs": [],
   "source": [
    "head(iris)"
   ]
  },
  {
   "cell_type": "code",
   "execution_count": null,
   "metadata": {
    "slideshow": {
     "slide_type": "slide"
    }
   },
   "outputs": [],
   "source": [
    "model1 <- lm(Sepal.Length ~ Sepal.Width + Petal.Length, data = iris)\n",
    "summary(model1)"
   ]
  },
  {
   "cell_type": "code",
   "execution_count": null,
   "metadata": {
    "slideshow": {
     "slide_type": "slide"
    }
   },
   "outputs": [],
   "source": [
    "model2 <- lm(Sepal.Length ~ Sepal.Width * Petal.Length, data = iris)\n",
    "summary(model2)"
   ]
  },
  {
   "cell_type": "code",
   "execution_count": null,
   "metadata": {
    "slideshow": {
     "slide_type": "slide"
    }
   },
   "outputs": [],
   "source": [
    "model3 <- lm(Sepal.Length ~ Sepal.Width * Petal.Length * Species, data = iris)\n",
    "summary(model3)"
   ]
  },
  {
   "cell_type": "markdown",
   "metadata": {
    "slideshow": {
     "slide_type": "slide"
    }
   },
   "source": [
    "## ANOVA\n",
    "- In the social sciences, a very common anaylsis is to determine which variable is the most signifigant\n",
    "    - The most common way to doing this is Analysis of Variance (ANOVA)\n",
    "- ANOVA is actually a specialized version of a linear model, but we can call it explicitly by using the function\n",
    "`aov`\n",
    "    - If you already have a linear model, you can print the ANOVA by using the function `anova`"
   ]
  },
  {
   "cell_type": "code",
   "execution_count": null,
   "metadata": {
    "slideshow": {
     "slide_type": "slide"
    }
   },
   "outputs": [],
   "source": [
    "model4 <- aov(Sepal.Length ~ Sepal.Width * Petal.Length * Species,\n",
    "              data = iris)\n",
    "print(summary(model4))"
   ]
  },
  {
   "cell_type": "code",
   "execution_count": null,
   "metadata": {
    "slideshow": {
     "slide_type": "slide"
    }
   },
   "outputs": [],
   "source": [
    "print(anova(model3))"
   ]
  },
  {
   "cell_type": "markdown",
   "metadata": {
    "slideshow": {
     "slide_type": "slide"
    }
   },
   "source": [
    "## Packages in R\n",
    "- Like most scripting languages, `R` has a very robust package ecosystem\n",
    "- To install a package in `R`, use the `install.packages` function, and pass the name of the function you want to install\n",
    "- Once a package is installed, you can use it by calling\n",
    "```\n",
    "    library(PACKAGE_NAME) #No QUOTES\n",
    "```"
   ]
  },
  {
   "cell_type": "markdown",
   "metadata": {
    "slideshow": {
     "slide_type": "slide"
    }
   },
   "source": [
    "## Package Documentation\n",
    "- Most major packages in R come with two forms of documentation\n",
    "    - The manual, which contains the same information that can be accessed through the `?` operator\n",
    "    - Vingettes, which is a more long form documentation, often written in the style of an academic paper\n",
    "- Example\n",
    "    - https://cran.r-project.org/web/packages/psych/psych.pdf\n",
    "    - https://cran.r-project.org/web/packages/psych/vignettes/intro.pdf\n",
    "    - https://cran.r-project.org/web/packages/psych/vignettes/overview.pdf\n",
    "    "
   ]
  },
  {
   "cell_type": "markdown",
   "metadata": {
    "slideshow": {
     "slide_type": "slide"
    }
   },
   "source": [
    "## CRAN\n",
    "- So where do the packages come from when we perform `install.packages`?\n",
    "- By default the come from CRAN the Comprehensive R Archive Network\n",
    "    - Most scripting languages have an equivalent, often named similarly (CTAN, CPAN)\n",
    "- Other package repositories exist and can be used, but if you are using a popular package, it is probably published on CRAN"
   ]
  },
  {
   "cell_type": "markdown",
   "metadata": {
    "slideshow": {
     "slide_type": "slide"
    }
   },
   "source": [
    "## Finding Pacakges\n",
    "- CRAN is great at hosting packages\n",
    "    - Not great at helping you find packages\n",
    "- Numerous third party websites exist to help you find a package to accomplish something\n",
    "    - My personal favorite is https://crantastic.org/"
   ]
  },
  {
   "cell_type": "markdown",
   "metadata": {
    "slideshow": {
     "slide_type": "slide"
    }
   },
   "source": [
    "## TidyData\n",
    "- There are many ways to represent data in a data frame, and due to the history of R, almost all of them are use\n",
    "- Recently there has been a push to create commonsense conventions, known as having \"Tidy Data\"\n",
    "- Hadley Wickham (Major player in R and the tidy data movement) defines tidy data as \n",
    "    - Each variable is in a column.\n",
    "    - Each observation is a row.\n",
    "    - Each value is a cell.\n"
   ]
  },
  {
   "cell_type": "markdown",
   "metadata": {
    "slideshow": {
     "slide_type": "slide"
    }
   },
   "source": [
    "## TidyR\n",
    "- To promote and enable this, the package TidyR was released\n",
    "- It was spawned an entire family of packages, collectively known as the tidyverse\n",
    "    - You can install just tidyR by using install.packages('tidyR')\n",
    "    - The entire family can be installed with install.packages('tidyverse')\n",
    "- It contains many functions meant to manipulate data into a tidy form"
   ]
  },
  {
   "cell_type": "markdown",
   "metadata": {
    "slideshow": {
     "slide_type": "slide"
    }
   },
   "source": [
    "## The Pipe Operator\n",
    "- `TidyR` is commonly presented using the operator `%>%`, which comes from an earlier package, `magrittr`\n",
    "    - It is very similar to the pipe in bash, passing the output of one function as the first argument to the next function\n",
    "    - The following are eqiuvalent\n",
    "    \n",
    "```R\n",
    "apply(data,1,function)\n",
    "      \n",
    "data %>% apply(1,function)\n",
    "```"
   ]
  },
  {
   "cell_type": "markdown",
   "metadata": {
    "slideshow": {
     "slide_type": "slide"
    }
   },
   "source": [
    "## Spreading\n",
    "- The `spread` function converts from long data to wide data\n",
    "- The syntax of the `spread` function is\n",
    "```R\n",
    "    spread(data,key,value)\n",
    "```\n",
    "    - Key is the column you want to use to form your new columns\n",
    "    - Value is the column you want to use to fill the cells"
   ]
  },
  {
   "cell_type": "code",
   "execution_count": null,
   "metadata": {
    "slideshow": {
     "slide_type": "slide"
    }
   },
   "outputs": [],
   "source": [
    "library(DSR)\n",
    "long <- table2\n",
    "extra_wide_cases <- table4\n",
    "combined <- table5"
   ]
  },
  {
   "cell_type": "code",
   "execution_count": null,
   "metadata": {
    "slideshow": {
     "slide_type": "slide"
    }
   },
   "outputs": [],
   "source": [
    "library(tidyr)\n",
    "print(as.data.frame(spread(long,?,?)))"
   ]
  },
  {
   "cell_type": "markdown",
   "metadata": {
    "slideshow": {
     "slide_type": "slide"
    }
   },
   "source": [
    "## Gathering\n",
    "- Gathering is the opposite of spread\n",
    "    - While it is uncommon to need this, it is possible someone made a data frame where not every column is a variable, and you need to collapse things a bit\n",
    "```R\n",
    "    gather(data, COLUMN_NAME1, COLUMN_NAME2, cols_to_gather)\n",
    "```"
   ]
  },
  {
   "cell_type": "code",
   "execution_count": null,
   "metadata": {
    "slideshow": {
     "slide_type": "slide"
    }
   },
   "outputs": [],
   "source": [
    "gathered_cases <- extra_wide_cases %>% gather(\"Year\",\"Cases\",2:3)\n",
    "print(gathered_cases)"
   ]
  },
  {
   "cell_type": "markdown",
   "metadata": {
    "slideshow": {
     "slide_type": "slide"
    }
   },
   "source": [
    "## Separating and Uniting\n",
    "- Separating and Uniting allows us to create multiple columns from one, or bring together columns that should never has been separated\n",
    "```R\n",
    "    separate(data,col_to_separate,new_columns)\n",
    "    unite(data,col_to_add, from_columns)\n",
    "```"
   ]
  },
  {
   "cell_type": "code",
   "execution_count": null,
   "metadata": {
    "slideshow": {
     "slide_type": "slide"
    }
   },
   "outputs": [],
   "source": [
    "print(combined)\n",
    "all_good <- combined %>% unite(\"year\",?) %>% separate(?,?)\n",
    "print(all_good)"
   ]
  }
 ],
 "metadata": {
  "celltoolbar": "Slideshow",
  "kernelspec": {
   "display_name": "R",
   "language": "R",
   "name": "ir"
  },
  "language_info": {
   "codemirror_mode": "r",
   "file_extension": ".r",
   "mimetype": "text/x-r-source",
   "name": "R",
   "pygments_lexer": "r",
   "version": "3.4.2"
  }
 },
 "nbformat": 4,
 "nbformat_minor": 2
}

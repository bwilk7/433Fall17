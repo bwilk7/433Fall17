{
 "cells": [
  {
   "cell_type": "markdown",
   "metadata": {
    "slideshow": {
     "slide_type": "slide"
    }
   },
   "source": [
    "# Scripting Languages\n",
    "## Course Information\n",
    "\n",
    "based off notes from Dan Hood"
   ]
  },
  {
   "cell_type": "markdown",
   "metadata": {
    "slideshow": {
     "slide_type": "slide"
    }
   },
   "source": [
    "## Contact Information\n",
    "### Bryan Wilkinson  \n",
    "  \n",
    "  \n",
    "bryan.wilkinson@umbc.edu  \n",
    "ITE 373  \n",
    "Office Hours: \n",
    "      Mondays 10:30 AM - 11:30 AM and Thursdays 3:00 PM - 4:30 PM  \n",
    "      or by appointment  \n",
    "Website: https://www.csee.umbc.edu/courses/undergraduate/433/spring18/"
   ]
  },
  {
   "cell_type": "markdown",
   "metadata": {
    "slideshow": {
     "slide_type": "slide"
    }
   },
   "source": [
    "## Tips for This Course\n",
    "- Be comfortable looking things up with resources I have provided, as well as coming to me for help\n",
    "- Start Projects Early\n",
    "    - Quizzes are meant to be a motivation\n",
    "- Don't try to write down everything on a slide, use the slides provided and take notes on top of that"
   ]
  },
  {
   "cell_type": "markdown",
   "metadata": {
    "slideshow": {
     "slide_type": "slide"
    }
   },
   "source": [
    "## Example Quiz Question\n",
    "- Which of the following character classes matches all types of white space\n",
    "    - \\w\n",
    "    - \\s\n",
    "    - \\S\n",
    "    - \\t"
   ]
  },
  {
   "cell_type": "markdown",
   "metadata": {
    "slideshow": {
     "slide_type": "slide"
    }
   },
   "source": [
    "## Example Quiz Question\n",
    "What is the output of the following code and why?\n",
    "```bash\n",
    "case 9 in\n",
    "    *9)\n",
    "        echo \"This ends in a nine\"\n",
    "        ;;\n",
    "    9)\n",
    "        echo \"This is a nine\"\n",
    "        ;;\n",
    "    *)\n",
    "        echo \"Nothing Matched\"\n",
    "        ;;\n",
    "esac\n",
    "```"
   ]
  },
  {
   "cell_type": "markdown",
   "metadata": {
    "slideshow": {
     "slide_type": "slide"
    }
   },
   "source": [
    "## Example Quiz Question\n",
    "- Briefly describe what benefit AJAX provides.  What type of websites and interactions on those websites does it enable that would not be possible without it?  (2-3 sentences)"
   ]
  },
  {
   "cell_type": "markdown",
   "metadata": {
    "slideshow": {
     "slide_type": "slide"
    }
   },
   "source": [
    "## Scripting Languages\n",
    "* Usually interpreted\n",
    "    * Rapid development\n",
    "    * Portability - cross platform\n",
    "    * Slower - less than in the past\n",
    "* Don't need a main\n",
    "    * But can have one"
   ]
  },
  {
   "cell_type": "markdown",
   "metadata": {
    "slideshow": {
     "slide_type": "slide"
    }
   },
   "source": [
    "## Scripting Languages\n",
    "\n",
    "* Good to integerate existing programs with\n",
    "* Flexible\n",
    "    * Easy to extend\n",
    "    * Lots of libraries available for each language\n",
    "    * Usually a very easy way of installing them"
   ]
  },
  {
   "cell_type": "markdown",
   "metadata": {
    "slideshow": {
     "slide_type": "slide"
    }
   },
   "source": [
    "## REPL\n",
    "- One of the most common characteristics of scripting languages is that a program known as a REPL is provided\n",
    "- REPL stands for \n",
    "    - Read\n",
    "    - Evaluate\n",
    "    - Print\n",
    "    - Loop\n",
    "- This allows scripting languages to be used interactively"
   ]
  },
  {
   "cell_type": "markdown",
   "metadata": {
    "slideshow": {
     "slide_type": "slide"
    }
   },
   "source": [
    "## Comparison between Scripting and \"Systems\" Languages\n",
    "- These are generalizations\n",
    "\n",
    "| Scripting Languages | Systems Languages |\n",
    "| ------------------- | ----------------- |\n",
    "| Higher Level        | Lower Level       |\n",
    "| Loosely Typed       | Strongly Typed    |\n",
    "| Interpreted         | Compiled          |\n",
    "| Runs Slower         | Runs Faster       |\n",
    "| Faster Development  | Slower Development|\n",
    "| Smaller Code Size   | Larger Code Size  |\n",
    "<small>Ousterhout, John K. \"Scripting: Higher level programming for the 21st century.\" Computer 31.3 (1998): 23-30.</small>"
   ]
  },
  {
   "cell_type": "markdown",
   "metadata": {
    "slideshow": {
     "slide_type": "slide"
    }
   },
   "source": [
    "## Reasons to prefer scripting or systems languages\n",
    "- The application requires a GUI\n",
    "- The application involves a lot of string manipulation\n",
    "- The application needs to use a variety of pre-existing components\n",
    "- New features need to be added very quickly and frequently\n",
    "\n",
    "<small>Ousterhout, John K. \"Scripting: Higher level programming for the 21st century.\" Computer 31.3 (1998): 23-30.</small>"
   ]
  },
  {
   "cell_type": "markdown",
   "metadata": {
    "slideshow": {
     "slide_type": "slide"
    }
   },
   "source": [
    "## Popular Applications\n",
    "* System Administration\n",
    "* Text Manipulation\n",
    "* Web Development\n",
    "    * Front-end/Client-side\n",
    "    * Back-end/Sever-side\n",
    "* Graphical User Interfaces"
   ]
  },
  {
   "cell_type": "markdown",
   "metadata": {
    "slideshow": {
     "slide_type": "slide"
    }
   },
   "source": [
    "## Popular Applications\n",
    "* Protyping\n",
    "* Automation\n",
    "* Hacking\n",
    "* Gluing\n",
    "    * Using two or more existing programs together"
   ]
  },
  {
   "cell_type": "markdown",
   "metadata": {
    "slideshow": {
     "slide_type": "slide"
    }
   },
   "source": [
    "## Famous Projects Using Scripting Languages\n",
    "- Bash\n",
    "    - Parts of Git\n",
    "- R\n",
    "    - Many internal data analytics in large companies\n",
    "    - Many Graphics and analysis on 538.com and NYT's the Upshot\n",
    "- JavaScript \n",
    "    - Atom Text Editor\n",
    "    - Practically Every Website"
   ]
  },
  {
   "cell_type": "markdown",
   "metadata": {
    "slideshow": {
     "slide_type": "slide"
    }
   },
   "source": [
    "## Famous Projects Using Scripting Languages (Part 2)\n",
    "- PHP\n",
    "    - Wordpress\n",
    "    - Facebook\n",
    "    - Wikipedia\n",
    "- Ruby\n",
    "    - Homebrew\n",
    "    - Jekyll\n",
    "    "
   ]
  },
  {
   "cell_type": "markdown",
   "metadata": {
    "slideshow": {
     "slide_type": "slide"
    }
   },
   "source": [
    "## How This Class Will Help You Get a Job\n",
    "\n",
    "* Web Development\n",
    "    * Client Side Scripting\n",
    "    * Server Side Scripting\n",
    "* SysAdmin\n",
    "    * Backups\n",
    "    * Networks\n",
    "    * Logfile Rotation\n"
   ]
  },
  {
   "cell_type": "markdown",
   "metadata": {
    "slideshow": {
     "slide_type": "slide"
    }
   },
   "source": [
    "## How This Class Will Help You Get a Job\n",
    "\n",
    "* Computer Security\n",
    "    * Automated Testing\n",
    "    * Logfile Inspection\n",
    "* Software Development\n",
    "    * Automated Testing\n",
    "    * Prototyping\n",
    "    * Cross-Platform Code"
   ]
  },
  {
   "cell_type": "markdown",
   "metadata": {
    "slideshow": {
     "slide_type": "slide"
    }
   },
   "source": [
    "## How This Class Will Help You Get a Job\n",
    "\n",
    "* Research\n",
    "    * Access to existing libraries\n",
    "    * Gluing existing code in multiple languages\n",
    "    * Can share your code easily"
   ]
  },
  {
   "cell_type": "markdown",
   "metadata": {
    "slideshow": {
     "slide_type": "slide"
    }
   },
   "source": [
    "## Language Tour: Perl\n",
    "```bash\n",
    "sub fibRec {\n",
    "    my $n = shift;\n",
    "    $n < 2 ? $n : fibRec($n - 1) + fibRec($n - 2);\n",
    "}\n",
    "```\n",
    "<small>https://rosettacode.org/wiki/Fibonacci_sequence#Perl</small>"
   ]
  },
  {
   "cell_type": "markdown",
   "metadata": {
    "slideshow": {
     "slide_type": "slide"
    }
   },
   "source": [
    "## Language Tour: Perl\n",
    "```perl\n",
    "print join('.', split /,/, 'Hello,How,Are,You,Today'), \"\\n\";\n",
    "```\n",
    "<small>http://rosettacode.org/wiki/Tokenize_a_string#Perl</small>"
   ]
  },
  {
   "cell_type": "markdown",
   "metadata": {
    "slideshow": {
     "slide_type": "slide"
    }
   },
   "source": [
    "## Language Tour: Bash\n",
    "```bash\n",
    "fib() {\n",
    "  local n=$1\n",
    "  [ $n -lt 2 ] && echo -n $n || echo -n $(( $( fib $(( n - 1 )) ) + $( fib $(( n - 2 )) ) ))\n",
    "}\n",
    "```\n",
    "<small>https://rosettacode.org/wiki/Fibonacci_sequence#UNIX_Shell</small>"
   ]
  },
  {
   "cell_type": "markdown",
   "metadata": {
    "slideshow": {
     "slide_type": "slide"
    }
   },
   "source": [
    "## Language Tour: Bash\n",
    "```bash\n",
    "string='Hello,How,Are,You,Today'\n",
    " \n",
    "(IFS=,\n",
    " printf '%s.' $string\n",
    " echo)\n",
    "```\n",
    "<small>http://rosettacode.org/wiki/Tokenize_a_string#UNIX_Shell</small>"
   ]
  },
  {
   "cell_type": "markdown",
   "metadata": {
    "slideshow": {
     "slide_type": "slide"
    }
   },
   "source": [
    "## Language Tour: R\n",
    "```r\n",
    "recfibo <- function(n) {\n",
    "  if ( n < 2 ) n\n",
    "  else Recall(n-1) + Recall(n-2)\n",
    "}\n",
    "```\n",
    "<small>https://rosettacode.org/wiki/Fibonacci_sequence#R</small>"
   ]
  },
  {
   "cell_type": "markdown",
   "metadata": {
    "slideshow": {
     "slide_type": "slide"
    }
   },
   "source": [
    "## Language Tour: \n",
    "```R\n",
    "text <- \"Hello,How,Are,You,Today\"\n",
    "junk <- strsplit(text, split=\",\")\n",
    "print(paste(unlist(junk), collapse=\".\"))\n",
    "```\n",
    "<small>http://rosettacode.org/wiki/Tokenize_a_string#R</small>"
   ]
  },
  {
   "cell_type": "markdown",
   "metadata": {
    "slideshow": {
     "slide_type": "slide"
    }
   },
   "source": [
    "## Language Tour: JavaScript\n",
    "```javascript\n",
    "function fib(n) {\n",
    "  return n<2?n:fib(n-1)+fib(n-2);\n",
    "}\n",
    "```\n",
    "<small>https://rosettacode.org/wiki/Fibonacci_sequence#JavaScript</small>"
   ]
  },
  {
   "cell_type": "markdown",
   "metadata": {
    "slideshow": {
     "slide_type": "slide"
    }
   },
   "source": [
    "## Language Tour: JavaScript\n",
    "```js\n",
    "alert( \"Hello,How,Are,You,Today\".split(\",\").join(\".\") );\n",
    "```\n",
    "<small>http://rosettacode.org/wiki/Tokenize_a_string#JavaScript</small>"
   ]
  },
  {
   "cell_type": "markdown",
   "metadata": {
    "slideshow": {
     "slide_type": "slide"
    }
   },
   "source": [
    "## Language Tour: PHP\n",
    "```bash\n",
    "<?php\n",
    "function fibRec($n) {\n",
    "    return $n < 2 ? $n : fibRec($n-1) + fibRec($n-2);\n",
    "}\n",
    "?>\n",
    "```\n",
    "<small>https://rosettacode.org/wiki/Fibonacci_sequence#PHP</small>"
   ]
  },
  {
   "cell_type": "markdown",
   "metadata": {
    "slideshow": {
     "slide_type": "slide"
    }
   },
   "source": [
    "## Language Tour: PHP\n",
    "```bash\n",
    "<?php\n",
    "$str = 'Hello,How,Are,You,Today';\n",
    "echo implode('.', explode(',', $str));\n",
    "?>\n",
    "```\n",
    "http://rosettacode.org/wiki/Tokenize_a_string#PHP"
   ]
  },
  {
   "cell_type": "markdown",
   "metadata": {
    "slideshow": {
     "slide_type": "slide"
    }
   },
   "source": [
    "## Jupyter\n",
    "* Lectures this semester are prepared using a tool called Jupyter\n",
    "    * Allows mixing of code and notes\n",
    "    * Kernels available for many languges\n",
    "* Following Examples from http://r-statistics.co/Complete-Ggplot2-Tutorial-Part1-With-R-Code.html"
   ]
  },
  {
   "cell_type": "code",
   "execution_count": null,
   "metadata": {
    "scrolled": false,
    "slideshow": {
     "slide_type": "slide"
    }
   },
   "outputs": [],
   "source": [
    "library(ggplot2)\n",
    "ggplot(midwest, aes(x=area, y=poptotal)) + \n",
    "  geom_point() + \n",
    "  geom_smooth(method=\"lm\") + \n",
    "  coord_cartesian(xlim=c(0,0.1), ylim=c(0, 1000000)) + \n",
    "  labs(title=\"Area Vs Population\", subtitle=\"From midwest dataset\", y=\"Population\", x=\"Area\", caption=\"Midwest Demographics\")"
   ]
  },
  {
   "cell_type": "code",
   "execution_count": null,
   "metadata": {
    "slideshow": {
     "slide_type": "slide"
    }
   },
   "outputs": [],
   "source": [
    "library(ggplot2)\n",
    "gg <- ggplot(midwest, aes(x=area, y=poptotal)) + \n",
    "  geom_point(aes(col=state), size=3) +  # Set color to vary based on state categories.\n",
    "  geom_smooth(method=\"lm\", col=\"firebrick\", size=2) + \n",
    "  coord_cartesian(xlim=c(0, 0.1), ylim=c(0, 1000000)) + \n",
    "  labs(title=\"Area Vs Population\", subtitle=\"From midwest dataset\", y=\"Population\", x=\"Area\", caption=\"Midwest Demographics\")\n",
    "plot(gg)"
   ]
  },
  {
   "cell_type": "code",
   "execution_count": null,
   "metadata": {
    "slideshow": {
     "slide_type": "slide"
    }
   },
   "outputs": [],
   "source": [
    "library(ggplot2)\n",
    "\n",
    "# Filter required rows.\n",
    "midwest_sub <- midwest[midwest$poptotal > 300000, ]\n",
    "midwest_sub$large_county <- ifelse(midwest_sub$poptotal > 300000, midwest_sub$county, \"\")\n",
    "\n",
    "# Base Plot\n",
    "gg <- ggplot(midwest, aes(x=area, y=poptotal)) + \n",
    "  geom_point(aes(col=state, size=popdensity)) + \n",
    "  geom_smooth(method=\"loess\", se=F) + xlim(c(0, 0.1)) + ylim(c(0, 500000)) + \n",
    "  labs(title=\"Area Vs Population\", y=\"Population\", x=\"Area\", caption=\"Source: midwest\")\n",
    "\n",
    "\n",
    "gg + geom_label(aes(label=large_county), size=2, data=midwest_sub, alpha=0.25) + labs(subtitle=\"With ggplot2::geom_label\") + theme(legend.position = \"None\")  # label\n",
    "\n",
    "# Plot text and label that REPELS eachother (using ggrepel pkg) ------------\n",
    "library(ggrepel)\n",
    "\n",
    "gg + geom_label_repel(aes(label=large_county), size=2, data=midwest_sub) + labs(subtitle=\"With ggrepel::geom_label_repel\") + theme(legend.position = \"None\")   # label"
   ]
  },
  {
   "cell_type": "markdown",
   "metadata": {
    "collapsed": true,
    "slideshow": {
     "slide_type": "slide"
    }
   },
   "source": [
    "## Binder\n",
    "- Binder uses a combination of Jupyter and related projects along with Docker to create a cloud based notebook\n",
    "- Anyone can run with the link, creates a virtual machine per session \n",
    "    - Nothing is saved in the virtual machine permanetly\n",
    "- A great way to try out lectures interactively, or explore what small changes to the code will do"
   ]
  }
 ],
 "metadata": {
  "celltoolbar": "Slideshow",
  "kernelspec": {
   "display_name": "R",
   "language": "R",
   "name": "ir"
  },
  "language_info": {
   "codemirror_mode": "r",
   "file_extension": ".r",
   "mimetype": "text/x-r-source",
   "name": "R",
   "pygments_lexer": "r",
   "version": "3.2.3"
  },
  "toc": {
   "nav_menu": {},
   "number_sections": false,
   "sideBar": true,
   "skip_h1_title": false,
   "toc_cell": false,
   "toc_position": {},
   "toc_section_display": "block",
   "toc_window_display": false
  }
 },
 "nbformat": 4,
 "nbformat_minor": 2
}

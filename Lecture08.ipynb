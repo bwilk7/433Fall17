{
 "cells": [
  {
   "cell_type": "markdown",
   "metadata": {},
   "source": [
    "# Bash\n",
    "## Networking, Debugging, Misc"
   ]
  },
  {
   "cell_type": "markdown",
   "metadata": {},
   "source": [
    "## wget\n",
    "- `wget` is a non-interactive downloader\n",
    "    - Only supports HTTP, HTTPS, and FTP\n",
    "    - Depending on the website you are downloading from, may support continuing a paused download\n",
    "    - Also has options to create an entire local copy of a website\n",
    "```bash\n",
    "wget [OPTIONS] URL\n",
    "```\n"
   ]
  },
  {
   "cell_type": "code",
   "execution_count": null,
   "metadata": {},
   "outputs": [],
   "source": [
    "wget www.umbc.edu"
   ]
  },
  {
   "cell_type": "code",
   "execution_count": null,
   "metadata": {},
   "outputs": [],
   "source": [
    "head index.html"
   ]
  },
  {
   "cell_type": "markdown",
   "metadata": {},
   "source": [
    "## Common Courtesy with `wget`\n",
    "- `wget`, and many other command line tools can theoretically launch 100s of request a second\n",
    "    - This is mean, potentially illegal, and a good way to get your IP blocked\n",
    "- `wget` has many options to prevent this if you are downloading multiple files at once\n",
    "    - --limit-rate sets a maximum bandwidth to use\n",
    "    - --wait sets the number of seconds to wait between each request\n",
    "    - --random-wait will jitter the amount of time the wait actually is"
   ]
  },
  {
   "cell_type": "code",
   "execution_count": null,
   "metadata": {},
   "outputs": [],
   "source": [
    "wget --mirror ‐‐page-requisites \\\n",
    "‐‐convert-links ‐‐adjust-extension  \\\n",
    "-P./local_443 --wait 1 --random-wait \\\n",
    "https://www.csee.umbc.edu/~bwilk1/433/"
   ]
  },
  {
   "cell_type": "markdown",
   "metadata": {},
   "source": [
    "## More Useful `wget` Features\n",
    "- `wget` allows you specify a list of urls to download by using the -i flag\n",
    "- The type of files downloaded can be controlled by the following flags\n",
    "    - --accept takes a comma separated list of file endings to accept\n",
    "    - --reject takes a comma separated list of file endings to reject"
   ]
  },
  {
   "cell_type": "markdown",
   "metadata": {},
   "source": [
    "## Real-World Example\n",
    "- As a computational linguist, one of the most important steps in research is to gather data\n",
    "- In this example, pretend we want to build a dataset of text found on academic websites\n",
    "- The steps we will take are:\n",
    "    1. Get a list of URLs from a website\n",
    "    2. Extract the URLS\n",
    "    3. Use `wget` to download the websites\n",
    "    4. Use `sed` and other tools to strip the text out from the website"
   ]
  },
  {
   "cell_type": "code",
   "execution_count": null,
   "metadata": {},
   "outputs": [],
   "source": [
    "wget \"https://univ.cc/search.php?dom=edu&key=&start=1\" -Ouni_webs.html"
   ]
  },
  {
   "cell_type": "code",
   "execution_count": null,
   "metadata": {},
   "outputs": [],
   "source": [
    "grep -Po \"<a href='.*?'>.*?</a>\" uni_webs.html | sed -E \"s|<a href='([^']*?)'>(.*?)</a>|\\1 \\2|g\" > targets"
   ]
  },
  {
   "cell_type": "code",
   "execution_count": null,
   "metadata": {},
   "outputs": [],
   "source": [
    "mapfile sites_to_get < targets"
   ]
  },
  {
   "cell_type": "code",
   "execution_count": null,
   "metadata": {},
   "outputs": [],
   "source": [
    "for target in \"${sites_to_get[@]}\"; do\n",
    "    array=( $target )\n",
    "    url=${array[0]}\n",
    "    name=${array[@]:1}\n",
    "    name=${name// /_}\n",
    "    wget $url -O${name}.html\n",
    "    tr '\\n' ' ' < ${name}.html > ${name}.flat.html\n",
    "    grep -Po \"<p>(.*?)</p>\" ${name}.flat.html | sed -E \"s|<p>(.*?)</p>|\\1|g\" > ${name}.txt\n",
    "    break\n",
    "done"
   ]
  },
  {
   "cell_type": "code",
   "execution_count": null,
   "metadata": {},
   "outputs": [],
   "source": [
    "cat Abilene_Christian_University.txt"
   ]
  },
  {
   "cell_type": "markdown",
   "metadata": {
    "collapsed": true
   },
   "source": [
    "## `curl`\n",
    "- `curl` is a more powerful tool that allows uploading and download over\n",
    "    - (S)FTP\n",
    "    - HTTP(S)\n",
    "    - SCP\n",
    "    - LDAP\n",
    "- `curl` prints to STDOUT"
   ]
  },
  {
   "cell_type": "code",
   "execution_count": null,
   "metadata": {},
   "outputs": [],
   "source": [
    "curl http://www.umbc.edu"
   ]
  },
  {
   "cell_type": "code",
   "execution_count": null,
   "metadata": {},
   "outputs": [],
   "source": [
    "curl -I http://www.umbc.edu"
   ]
  },
  {
   "cell_type": "markdown",
   "metadata": {},
   "source": [
    "## POST requests\n",
    "- We will look at HTTP requests more in detail in a few weeks\n",
    "- IF you submit something in a form and don't see a crazy web address, it was probably submitted using POST\n",
    "- `curl` allows POST by using the `-X` flag\n",
    "```bash\n",
    "curl -X POST -d \"DATA\"\n",
    "```"
   ]
  },
  {
   "cell_type": "markdown",
   "metadata": {},
   "source": [
    "## Debugging in `bash`\n",
    "- The bash command itself has several flags are are useful in debugging\n",
    "- The flags are included as part of the shebang line\n",
    "```bash\n",
    "#!/bin/bash FLAGS\n",
    "```\n",
    "- The main flags for debugging are\n",
    "    - -n Step the through the script but do not running, good for finding syntax errors\n",
    "    - -x Prints traces of commands and their arguments "
   ]
  },
  {
   "cell_type": "code",
   "execution_count": null,
   "metadata": {},
   "outputs": [],
   "source": [
    "cat syntax_example.sh"
   ]
  },
  {
   "cell_type": "code",
   "execution_count": null,
   "metadata": {
    "collapsed": true
   },
   "outputs": [],
   "source": [
    "./syntax_example.sh"
   ]
  },
  {
   "cell_type": "code",
   "execution_count": null,
   "metadata": {},
   "outputs": [],
   "source": [
    "cat syntax_error_example.sh"
   ]
  },
  {
   "cell_type": "code",
   "execution_count": null,
   "metadata": {},
   "outputs": [],
   "source": [
    "./syntax_error_example.sh"
   ]
  }
 ],
 "metadata": {
  "kernelspec": {
   "display_name": "Bash",
   "language": "bash",
   "name": "bash"
  },
  "language_info": {
   "codemirror_mode": "shell",
   "file_extension": ".sh",
   "mimetype": "text/x-sh",
   "name": "bash"
  }
 },
 "nbformat": 4,
 "nbformat_minor": 2
}

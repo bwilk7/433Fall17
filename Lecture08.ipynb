{
 "cells": [
  {
   "cell_type": "markdown",
   "metadata": {
    "slideshow": {
     "slide_type": "slide"
    }
   },
   "source": [
    "# Bash\n",
    "## Networking, Debugging, Misc"
   ]
  },
  {
   "cell_type": "markdown",
   "metadata": {
    "slideshow": {
     "slide_type": "slide"
    }
   },
   "source": [
    "## wget\n",
    "- `wget` is a non-interactive downloader\n",
    "    - Only supports HTTP, HTTPS, and FTP\n",
    "    - Depending on the website you are downloading from, may support continuing a paused download\n",
    "    - Also has options to create an entire local copy of a website\n",
    "```bash\n",
    "wget [OPTIONS] URL\n",
    "```\n"
   ]
  },
  {
   "cell_type": "code",
   "execution_count": null,
   "metadata": {
    "slideshow": {
     "slide_type": "slide"
    }
   },
   "outputs": [],
   "source": [
    "wget www.umbc.edu"
   ]
  },
  {
   "cell_type": "code",
   "execution_count": null,
   "metadata": {
    "slideshow": {
     "slide_type": "slide"
    }
   },
   "outputs": [],
   "source": [
    "head index.html.1"
   ]
  },
  {
   "cell_type": "markdown",
   "metadata": {
    "slideshow": {
     "slide_type": "slide"
    }
   },
   "source": [
    "## Common Courtesy with `wget`\n",
    "- `wget`, and many other command line tools can theoretically launch 100s of request a second\n",
    "    - This is mean, potentially illegal, and a good way to get your IP blocked\n",
    "- `wget` has many options to prevent this if you are downloading multiple files at once\n",
    "    - --limit-rate sets a maximum bandwidth to use\n",
    "    - --wait sets the number of seconds to wait between each request\n",
    "    - --random-wait will jitter the amount of time the wait actually is"
   ]
  },
  {
   "cell_type": "code",
   "execution_count": null,
   "metadata": {
    "scrolled": true,
    "slideshow": {
     "slide_type": "slide"
    }
   },
   "outputs": [],
   "source": [
    "wget --mirror ‐‐page-requisites \\\n",
    "‐‐convert-links ‐‐adjust-extension  \\\n",
    "-P./local_443-2 --wait 1 --random-wait \\\n",
    "https://www.csee.umbc.edu/~bwilk1/433/"
   ]
  },
  {
   "cell_type": "markdown",
   "metadata": {
    "slideshow": {
     "slide_type": "slide"
    }
   },
   "source": [
    "## More Useful `wget` Features\n",
    "- `wget` allows you specify a list of urls to download by using the -i flag\n",
    "- The type of files downloaded can be controlled by the following flags\n",
    "    - --accept takes a comma separated list of file endings to accept\n",
    "    - --reject takes a comma separated list of file endings to reject"
   ]
  },
  {
   "cell_type": "markdown",
   "metadata": {
    "slideshow": {
     "slide_type": "slide"
    }
   },
   "source": [
    "## Real-World Example\n",
    "- As a computational linguist, one of the most important steps in research is to gather data\n",
    "- In this example, pretend we want to build a dataset of text found on academic websites\n",
    "- The steps we will take are:\n",
    "    1. Get a list of URLs from a website\n",
    "    2. Extract the URLS\n",
    "    3. Use `wget` to download the websites\n",
    "    4. Use `sed` and other tools to strip the text out from the website"
   ]
  },
  {
   "cell_type": "code",
   "execution_count": null,
   "metadata": {
    "slideshow": {
     "slide_type": "slide"
    }
   },
   "outputs": [],
   "source": [
    "# Get lsit of addresses from \"https://univ.cc/search.php?dom=edu&key=&start=1\""
   ]
  },
  {
   "cell_type": "code",
   "execution_count": null,
   "metadata": {
    "slideshow": {
     "slide_type": "slide"
    }
   },
   "outputs": [],
   "source": [
    "# Extract the URLS\n"
   ]
  },
  {
   "cell_type": "code",
   "execution_count": null,
   "metadata": {
    "slideshow": {
     "slide_type": "slide"
    }
   },
   "outputs": [],
   "source": [
    "mapfile sites_to_get < targets"
   ]
  },
  {
   "cell_type": "code",
   "execution_count": null,
   "metadata": {
    "slideshow": {
     "slide_type": "slide"
    }
   },
   "outputs": [],
   "source": [
    "# Process files using wget and sed\n",
    "\n",
    "# Get URL\n",
    "\n",
    "# Get School Name"
   ]
  },
  {
   "cell_type": "code",
   "execution_count": null,
   "metadata": {
    "slideshow": {
     "slide_type": "slide"
    }
   },
   "outputs": [],
   "source": [
    "cat Abilene_Christian_University.txt"
   ]
  },
  {
   "cell_type": "markdown",
   "metadata": {
    "collapsed": true,
    "slideshow": {
     "slide_type": "slide"
    }
   },
   "source": [
    "## `curl`\n",
    "- `curl` is a more powerful tool that allows uploading and download over\n",
    "    - (S)FTP\n",
    "    - HTTP(S)\n",
    "    - SCP\n",
    "    - LDAP\n",
    "- `curl` prints to STDOUT"
   ]
  },
  {
   "cell_type": "code",
   "execution_count": null,
   "metadata": {
    "slideshow": {
     "slide_type": "slide"
    }
   },
   "outputs": [],
   "source": [
    "curl http://www.umbc.edu"
   ]
  },
  {
   "cell_type": "code",
   "execution_count": null,
   "metadata": {
    "slideshow": {
     "slide_type": "slide"
    }
   },
   "outputs": [],
   "source": [
    "curl -I http://www.umbc.edu"
   ]
  },
  {
   "cell_type": "markdown",
   "metadata": {
    "slideshow": {
     "slide_type": "slide"
    }
   },
   "source": [
    "## POST requests\n",
    "- We will look at HTTP requests more in detail in a few weeks\n",
    "- IF you submit something in a form and don't see a crazy web address, it was probably submitted using POST\n",
    "- `curl` allows POST by using the `-X` flag\n",
    "```bash\n",
    "curl -X POST -d \"DATA\" URL\n",
    "```"
   ]
  },
  {
   "cell_type": "markdown",
   "metadata": {
    "slideshow": {
     "slide_type": "slide"
    }
   },
   "source": [
    "## Debugging in `bash`\n",
    "- The bash command itself has several flags are are useful in debugging\n",
    "- The flags are included as part of the shebang line\n",
    "```bash\n",
    "#!/bin/bash FLAGS\n",
    "```\n",
    "- The main flags for debugging are\n",
    "    - -n Step the through the script but do not running, good for finding syntax errors\n",
    "    - -x Prints traces of commands and their arguments "
   ]
  },
  {
   "cell_type": "code",
   "execution_count": null,
   "metadata": {
    "slideshow": {
     "slide_type": "slide"
    }
   },
   "outputs": [],
   "source": [
    "cat src/shell/syntax_example.sh"
   ]
  },
  {
   "cell_type": "code",
   "execution_count": null,
   "metadata": {
    "slideshow": {
     "slide_type": "slide"
    }
   },
   "outputs": [],
   "source": [
    "./src/shell/syntax_example.sh"
   ]
  },
  {
   "cell_type": "code",
   "execution_count": null,
   "metadata": {
    "slideshow": {
     "slide_type": "slide"
    }
   },
   "outputs": [],
   "source": [
    "cat src/shell/syntax_error_example.sh"
   ]
  },
  {
   "cell_type": "code",
   "execution_count": null,
   "metadata": {
    "slideshow": {
     "slide_type": "slide"
    }
   },
   "outputs": [],
   "source": [
    "./src/shell/syntax_error_example.sh"
   ]
  },
  {
   "cell_type": "code",
   "execution_count": null,
   "metadata": {
    "slideshow": {
     "slide_type": "slide"
    }
   },
   "outputs": [],
   "source": [
    "cat ./src/shell/cla_debug.sh"
   ]
  },
  {
   "cell_type": "code",
   "execution_count": null,
   "metadata": {},
   "outputs": [],
   "source": [
    "./src/shell/cla_debug.sh Arg1 SOmething goes here"
   ]
  },
  {
   "cell_type": "code",
   "execution_count": null,
   "metadata": {},
   "outputs": [],
   "source": []
  }
 ],
 "metadata": {
  "celltoolbar": "Slideshow",
  "kernelspec": {
   "display_name": "Bash",
   "language": "bash",
   "name": "bash"
  },
  "language_info": {
   "codemirror_mode": "shell",
   "file_extension": ".sh",
   "mimetype": "text/x-sh",
   "name": "bash"
  }
 },
 "nbformat": 4,
 "nbformat_minor": 2
}

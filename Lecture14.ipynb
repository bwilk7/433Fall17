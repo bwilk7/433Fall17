{
 "cells": [
  {
   "cell_type": "markdown",
   "metadata": {
    "slideshow": {
     "slide_type": "slide"
    }
   },
   "source": [
    "# Web Basics\n",
    "## Technology and HTML"
   ]
  },
  {
   "cell_type": "markdown",
   "metadata": {
    "slideshow": {
     "slide_type": "slide"
    }
   },
   "source": [
    "## HTTP\n",
    "- The Internet works primarily through the network protocol known as HyperText Transport Protocol\n",
    "    - Invented by Sir Tim Berners-Lee (KBE, OM, Turing Award Recipient 2016)  in 1989\n",
    "- Defines how your computer asks for and recieves data from a server, and vice-versa\n",
    "    - The browser handles this, but you could request it manually using `telnet`\n",
    "- Other modern protocols exist, the most commonly seen is HTTPS, which is just a more secure HTTP\n"
   ]
  },
  {
   "cell_type": "markdown",
   "metadata": {
    "slideshow": {
     "slide_type": "slide"
    }
   },
   "source": [
    "```bash\n",
    "telnet google.com 80\n",
    "Trying 172.217.9.206...\n",
    "Connected to google.com.\n",
    "Escape character is '^]'.\n",
    "GET / HTTP/1.0\n",
    "\n",
    "HTTP/1.0 200 OK\n",
    "Date: Wed, 18 Oct 2017 17:47:11 GMT\n",
    "Expires: -1\n",
    "Cache-Control: private, max-age=0\n",
    "Content-Type: text/html; charset=ISO-8859-1\n",
    "P3P: CP=\"This is not a P3P policy! See g.co/p3phelp for more info.\"\n",
    "Server: gws\n",
    "X-XSS-Protection: 1; mode=block\n",
    "X-Frame-Options: SAMEORIGIN\n",
    "Set-Cookie: 1P_JAR=2017-10-18-17; expires=Wed, 25-Oct-2017 17:47:11 GMT; path=/; domain=.google.com\n",
    "\n",
    "Set-Cookie: NID=114=eBuvPeznELacI04cEvZN4bITyJWjchMh7IeLTctwGNzxw8C6P02hMSzR_7TGW9YBLnERNGvpb3KGVOVSAHhoDCGu9BSy--gFRyqygPNLF65GcWAo2kZke6-8CW-N7dD0; expires=Thu, 19-Apr-2018 17:47:11 GMT; path=/; domain=.google.com; HttpOnly\n",
    "Accept-Ranges: none\n",
    "Vary: Accept-Encoding\n",
    "\n",
    "<!doctype html><html itemscope=\"\" itemtype=\"http://schema.org/WebPage\" lang=\"en\"><head><meta content=\"Search the world's information, including webpages, images, videos and more. Google has many special features to help you find exactly what you're looking for.\" name=\"description\"><meta content=\"noodp\" name=\"robots\"><meta content=\"text/html; charset=UTF-8\" http-equiv=\"Content-Type\"><meta content=\"/images/branding/googleg/1x/googleg_standard_color_128dp.png\" itemprop=\"image\"><title>Google</title><script>(function(){window.google={kEI:'n5PnWeLxIIHmmAHF2a-wDw',kEXPI:'201806,1352821,1352960,1353383,1353606,1354277,1354401,1354916,1355217,1355324,1355735,1355801,1355820,1355892,3700289,3700439,3700440,3700476,4029815,4031109,4043492,4045841,4048346,4063965,4072775,4076999,4081038,4081164,4092182,4093169,4095910,4097153,4097469,4098733,4098740,4098752,4100121,4100128,4102237,4102827,4103475,4104258,4104414,4107914,4109316,4109489,4110656,4111590,4113217,4114597,4115290,4115697,4116724,4116731,4116926,4116927,4116935,4117328,4117980,4118226,4118437,4118798,4119032,4119034,4119036,4119272,4119283,4119740,4120215,4120415,4120660,4121035,4121175,4121518,4122707,4123364,4124090,4124173,4124411,4124497,4124850,4125837,4125961,4126200,4127473,4127744,4127775,4127776,4127890,4127989,4128586,4128875,4128899,4129520,4129555,4129633,4130363,4130412,4130413,4130783,4131073,4131247,4131285,4131834,4132420,4132566,4132820,4132953,4133090,4133114,4133245,4133416,4133509,4133562,4134268,4134946,4135088,4135249,4135300,4135576,4135646,4135648,4135747,4135953,4135968,4136204,4136221,4136222,4136272,4136398,4136546,4136561,10200083,19003868,19003881,19003900,19003901,19003907,19003909,19003910,19003913,19003927',authuser:0,kscs:'c9c918f0_n5PnWeLxIIHmmAHF2a-wDw',u:'c9c918f0',kGL:'US'};google.kHL='en';})()\n",
    "\n",
    ".....\n",
    "```"
   ]
  },
  {
   "cell_type": "markdown",
   "metadata": {
    "slideshow": {
     "slide_type": "slide"
    }
   },
   "source": [
    "# [http://google.com](http://google.com)"
   ]
  },
  {
   "cell_type": "markdown",
   "metadata": {
    "slideshow": {
     "slide_type": "slide"
    }
   },
   "source": [
    "## Parts of a Web App\n",
    "- Structural - The content and how it is structured\n",
    "- Presentation - The appearance of the content\n",
    "- Interactive - Actions that manipulate either the structure or appearance layers"
   ]
  },
  {
   "cell_type": "markdown",
   "metadata": {
    "slideshow": {
     "slide_type": "slide"
    }
   },
   "source": [
    "## Main Web Languages\n",
    "- HTML (HyperText Markup Language - defines the content and structure of the page\n",
    "- CSS (Cascading Style Sheets) - defines the appearance of the HTML content\n",
    "- JavaScript - runs in the browser (typically) and allows interaction with the content"
   ]
  },
  {
   "cell_type": "markdown",
   "metadata": {
    "slideshow": {
     "slide_type": "slide"
    }
   },
   "source": [
    "## HTML\n",
    "- Also invented by Tim Berners-Lee\n",
    "    - The first website is http://info.cern.ch/hypertext/WWW/TheProject.html\n",
    "- Meant to simply format and link to text documents\n",
    "- Originally based off a more generic markup language, SGML (Standard Generalized Markup Language\n",
    "- Standardized by the World Wide Web Consortium (W3C)\n",
    "    - Directed by Tim Berners-LEe"
   ]
  },
  {
   "cell_type": "markdown",
   "metadata": {
    "slideshow": {
     "slide_type": "slide"
    }
   },
   "source": [
    "## HTML Today\n",
    "- In the late 90s and early 2000s, the W3C developed the next standard of HTML, based on XML which was more strict that SGML\n",
    "    - This lead to the release of XHTML in 2000\n",
    "    - The community as a whole pushed back somewhat on the strictness imposed by XML\n",
    "- Outside of the W3C, the Web Hypertext Application Technology Working Group (WHATWG) began working on a more direct successor to HTML\n",
    "    - Accepted by W3C as HTML 5 in 2007 as a working draft\n",
    "    - Released as a reccomendation in 2014"
   ]
  },
  {
   "cell_type": "markdown",
   "metadata": {
    "slideshow": {
     "slide_type": "slide"
    }
   },
   "source": [
    "## How HTML is displayed in a Browser\n",
    "- The W3C defines the HTML standards\n",
    "- It is up to the programmers of the browsers to conform to these standards\n",
    "    - There is no major penalty if they don't\n",
    "- Compare current desktop browsers at https://html5test.com/compare/browser/edge-15/chrome-58/firefox-56/safari-10.2/ie-11.html"
   ]
  },
  {
   "cell_type": "markdown",
   "metadata": {
    "slideshow": {
     "slide_type": "slide"
    }
   },
   "source": [
    "## HTML Tags\n",
    "- An HTML describes the meaning of the content it holds\n",
    "- Comes in one of two forms\n",
    "```HTML\n",
    "    <tag>Content</tag>\n",
    "    <tag> <!-- also written as <tag/> -->\n",
    "```\n",
    "- Tags may have additional attributes, which are defined in the opening tag\n",
    "```html\n",
    "<tag att1=val1 att2=val2>content</tag>\n",
    "<tag boolean1=boolean1 boolean2>content</tag>\n",
    "```"
   ]
  },
  {
   "cell_type": "markdown",
   "metadata": {
    "slideshow": {
     "slide_type": "slide"
    }
   },
   "source": [
    "## The basic HTML Document\n",
    "- The basic HTML document consists of three major parts, with an optional (but highly recomended fourth tag)\n",
    "    - `<html>` - Contains all the HTML on the page\n",
    "    - `<head>` - Contains a lot of meta-data about the page as well as information about styling and JavaScript\n",
    "    - `<body>` - Contains the content displayed by the web-browser\n",
    "    - <!DOCTYPE html> - which is optional, but lets the browser know you are using HTML"
   ]
  },
  {
   "cell_type": "code",
   "execution_count": 2,
   "metadata": {
    "slideshow": {
     "slide_type": "slide"
    }
   },
   "outputs": [
    {
     "data": {
      "text/html": [
       "<!DOCTYPE html>\n",
       "<html>\n",
       "    <head>\n",
       "    </head>\n",
       "    <body>\n",
       "        A very simple page\n",
       "    </body>\n",
       "</html>"
      ],
      "text/plain": [
       "<IPython.core.display.HTML object>"
      ]
     },
     "metadata": {},
     "output_type": "display_data"
    }
   ],
   "source": [
    "%%html\n",
    "<!DOCTYPE html>\n",
    "<html>\n",
    "    <head>\n",
    "    </head>\n",
    "    <body>\n",
    "        A very simple page\n",
    "    </body>\n",
    "</html>"
   ]
  },
  {
   "cell_type": "markdown",
   "metadata": {
    "slideshow": {
     "slide_type": "slide"
    }
   },
   "source": [
    "## The HTML Tag\n",
    "- In general the HTML tag is just used to enclose the `<body>` and `<head>` tags\n",
    "- Several useful attributes can be placed on the HTML tag itself\n",
    "    - The dir attribute informs the browser which way the text is meant to be displayed, ie \"ltr\" or \"rtl\"\n",
    "    - The lang attribute signifies which language the text in the document is, primarily"
   ]
  },
  {
   "cell_type": "code",
   "execution_count": 3,
   "metadata": {
    "slideshow": {
     "slide_type": "slide"
    }
   },
   "outputs": [
    {
     "data": {
      "text/html": [
       "\n",
       "<!DOCTYPE html>\n",
       "<html lang=\"en\" dir=\"rtl\">\n",
       "    <head>\n",
       "    </head>\n",
       "    <body>\n",
       "        A very simple page\n",
       "    </body>\n",
       "</html>"
      ],
      "text/plain": [
       "<IPython.core.display.HTML object>"
      ]
     },
     "metadata": {},
     "output_type": "display_data"
    }
   ],
   "source": [
    "%%html\n",
    "\n",
    "<!DOCTYPE html>\n",
    "<html lang=\"en\" dir=\"rtl\">\n",
    "    <head>\n",
    "    </head>\n",
    "    <body>\n",
    "        A very simple page\n",
    "    </body>\n",
    "</html>"
   ]
  },
  {
   "cell_type": "markdown",
   "metadata": {
    "slideshow": {
     "slide_type": "slide"
    }
   },
   "source": [
    "## Common Tags found in Head\n",
    "- The `<head>` tag contains many pieces of information that help search engines as well as being the most common place other files are \"included\"\n",
    "- Common tags\n",
    "    - `<title>` - Defines the title of the page, commonly displayed at the top of a window or tab\n",
    "    - `<meta>` - Used to define numerous different attributes about the page, such as viewport, character-set, and description\n",
    "    - `<link>` - Used to link style sheets\n",
    "    - `<script>` - Used to include JavaScript, or write it in the document itself\n",
    "    "
   ]
  },
  {
   "cell_type": "code",
   "execution_count": 4,
   "metadata": {
    "slideshow": {
     "slide_type": "slide"
    }
   },
   "outputs": [
    {
     "data": {
      "text/html": [
       "<!DOCTYPE html>\n",
       "<head>\n",
       "<title>A simple document</title>\n",
       "<meta charset=\"utf-8\">\n",
       "</head>\n",
       "<body>\n",
       "Simple\n",
       "</body>"
      ],
      "text/plain": [
       "<IPython.core.display.HTML object>"
      ]
     },
     "metadata": {},
     "output_type": "display_data"
    }
   ],
   "source": [
    "%%html\n",
    "<!DOCTYPE html>\n",
    "<head>\n",
    "<title>A simple document</title>\n",
    "<meta charset=\"utf-8\">\n",
    "</head>\n",
    "<body>\n",
    "Simple\n",
    "</body>"
   ]
  },
  {
   "cell_type": "markdown",
   "metadata": {
    "slideshow": {
     "slide_type": "slide"
    }
   },
   "source": [
    "## Inline vs Block Elements\n",
    "- The tags in between <body> and </body> define elements of the page\n",
    "- The elements can either be known as **block** or **inline** elements, which is based on their display properties\n",
    "    - Block elements are placed on their own line on the page by default, nothing before or after them\n",
    "    - Inline elements are displayed on the same line as other inline elements\n",
    "- This property can be overridden using CSS, it is just a default"
   ]
  },
  {
   "cell_type": "markdown",
   "metadata": {
    "slideshow": {
     "slide_type": "slide"
    }
   },
   "source": [
    "## Paragraph and Heading Tags\n",
    "- The paragraph tag, `<p>`, sets off a block of text as a paragraph\n",
    "    - Usually causes a small space before and after the paragraph\n",
    "    - Can be used to group other logical text, like the an address or a byline\n",
    "- There are 6 header tags, `<h[1-6]>`, \n",
    "    - Denote different levels of importance\n",
    "    - Usually denoted visually by font-size\n",
    "    - `<h1>` is the highest, should only be one on the page"
   ]
  },
  {
   "cell_type": "code",
   "execution_count": 10,
   "metadata": {
    "slideshow": {
     "slide_type": "slide"
    }
   },
   "outputs": [
    {
     "data": {
      "text/html": [
       "<!DOCTYPE html>\n",
       "<html lang=\"en\">\n",
       "    <head></head>\n",
       "    <body>\n",
       "        <p>This is a paragraph</p><p>This is too is runs longer than a This is too is runs longer than This is too is runs longer This is too is runs longerThis is too is runs longer than a   than a than a  a  line is </p>\n",
       "        <p>    What \n",
       "        \n",
       "        happens now?</p>\n",
       "    </body>\n",
       "</html>    "
      ],
      "text/plain": [
       "<IPython.core.display.HTML object>"
      ]
     },
     "metadata": {},
     "output_type": "display_data"
    }
   ],
   "source": [
    "%%html\n",
    "<!DOCTYPE html>\n",
    "<html lang=\"en\">\n",
    "    <head></head>\n",
    "    <body>\n",
    "        <p>This is a paragraph</p><p>This is too is runs longer than a This is too is runs longer than This is too is runs longer This is too is runs longerThis is too is runs longer than a   than a than a  a  line is </p>\n",
    "        <p>    What \n",
    "        \n",
    "        happens now?</p>\n",
    "    </body>\n",
    "</html>    "
   ]
  },
  {
   "cell_type": "code",
   "execution_count": 9,
   "metadata": {
    "slideshow": {
     "slide_type": "slide"
    }
   },
   "outputs": [
    {
     "data": {
      "text/html": [
       "<!DOCTYPE html>\n",
       "<html lang=\"en\">\n",
       "    <head></head>\n",
       "    <body>\n",
       "        <h1>H1 is good for the title of your page</h1>\n",
       "        <h2>H2 is less important, good for subtitles, or sections</h2>\n",
       "        <h3>H3 might be a subsection</h3>\n",
       "        <h4>H4 is often the size of paragraph text</h4>\n",
       "        <p>Paragraph text for reference</p>\n",
       "        <h5>H5 is not very common</h5>\n",
       "        <h6>H6 is even less common</h6>\n",
       "    </body>\n",
       "</html> "
      ],
      "text/plain": [
       "<IPython.core.display.HTML object>"
      ]
     },
     "metadata": {},
     "output_type": "display_data"
    }
   ],
   "source": [
    "%%html\n",
    "<!DOCTYPE html>\n",
    "<html lang=\"en\">\n",
    "    <head></head>\n",
    "    <body>\n",
    "        <h1>H1 is good for the title of your page</h1>\n",
    "        <h2>H2 is less important, good for subtitles, or sections</h2>\n",
    "        <h3>H3 might be a subsection</h3>\n",
    "        <h4>H4 is often the size of paragraph text</h4>\n",
    "        <p>Paragraph text for reference</p>\n",
    "        <h5>H5 is not very common</h5>\n",
    "        <h6>H6 is even less common</h6>\n",
    "    </body>\n",
    "</html> "
   ]
  },
  {
   "cell_type": "markdown",
   "metadata": {
    "slideshow": {
     "slide_type": "slide"
    }
   },
   "source": [
    "## Pre-formatted Text and Code\n",
    "- To maintain everything as typed, including spaces and blank lines, the `<pre>` tag is used\n",
    "    - Most often used for code\n",
    "    - Another use case given in the HTML5 specification is ASCII art\n",
    "- To denote a block of computer code, use the `<code>` tag\n",
    "    - No special formal way to denote the language the code is in\n",
    "    - But HTML5 sepcification specfically says to use the `class` attribute with a value of `language-X`"
   ]
  },
  {
   "cell_type": "code",
   "execution_count": 11,
   "metadata": {
    "slideshow": {
     "slide_type": "slide"
    }
   },
   "outputs": [
    {
     "data": {
      "text/html": [
       "<!DOCTYPE html>\n",
       "<html lang=\"en\">\n",
       "    <head></head>\n",
       "    <body>\n",
       "        <p>              _______\n",
       "         ..-'`       ````---.\n",
       "       .'          ___ .'````.'SS'.\n",
       "      /        ..-SS####'.  /SSHH##'.\n",
       "     |       .'SSSHHHH##|/#/#HH#H####'.\n",
       "    /      .'SSHHHHH####/||#/: \\SHH#####\\\n",
       "   /      /SSHHHHH#####/!||;`___|SSHH###\\\n",
       "-..__    /SSSHHH######.         \\SSSHH###\\\n",
       "`.'-.''--._SHHH#####.'           '.SH####/\n",
       "  '. ``'-  '/SH####`/_             `|H##/\n",
       "  | '.     /SSHH###|`'==.       .=='/\\H|\n",
       "  |   `'-.|SHHHH##/\\__\\/        /\\//|~|/\n",
       "  |    |S#|/HHH##/             |``  |\n",
       "  |    \\H' |H#.'`              \\    |\n",
       "  |        ''`|               -     /\n",
       "  |          /H\\          .----    /\n",
       "  |         |H#/'.           `    /\n",
       "  |          \\| | '..            /\n",
       "  |    ^~DLF   /|    ''..______.'\n",
       "   \\          //\\__    _..-. | \n",
       "    \\         ||   ````     \\ |_\n",
       "     \\    _.-|               \\| |_\n",
       "     _\\_.-'   `'''''-.        |   `--.\n",
       " ''``    \\            `''-;    \\ /\n",
       "          \\      .-'|     ````.' -\n",
       "          |    .'  `--'''''-.. |/\n",
       "          |  .'               \\|\n",
       "          |.'\n",
       "          </p>\n",
       "    </body>\n",
       "</html> "
      ],
      "text/plain": [
       "<IPython.core.display.HTML object>"
      ]
     },
     "metadata": {},
     "output_type": "display_data"
    }
   ],
   "source": [
    "%%html\n",
    "<!DOCTYPE html>\n",
    "<html lang=\"en\">\n",
    "    <head></head>\n",
    "    <body>\n",
    "        <p>              _______\n",
    "         ..-'`       ````---.\n",
    "       .'          ___ .'````.'SS'.\n",
    "      /        ..-SS####'.  /SSHH##'.\n",
    "     |       .'SSSHHHH##|/#/#HH#H####'.\n",
    "    /      .'SSHHHHH####/||#/: \\SHH#####\\\n",
    "   /      /SSHHHHH#####/!||;`___|SSHH###\\\n",
    "-..__    /SSSHHH######.         \\SSSHH###\\\n",
    "`.'-.''--._SHHH#####.'           '.SH####/\n",
    "  '. ``'-  '/SH####`/_             `|H##/\n",
    "  | '.     /SSHH###|`'==.       .=='/\\H|\n",
    "  |   `'-.|SHHHH##/\\__\\/        /\\//|~|/\n",
    "  |    |S#|/HHH##/             |``  |\n",
    "  |    \\H' |H#.'`              \\    |\n",
    "  |        ''`|               -     /\n",
    "  |          /H\\          .----    /\n",
    "  |         |H#/'.           `    /\n",
    "  |          \\| | '..            /\n",
    "  |    ^~DLF   /|    ''..______.'\n",
    "   \\          //\\__    _..-. | \n",
    "    \\         ||   ````     \\ |_\n",
    "     \\    _.-|               \\| |_\n",
    "     _\\_.-'   `'''''-.        |   `--.\n",
    " ''``    \\            `''-;    \\ /\n",
    "          \\      .-'|     ````.' -\n",
    "          |    .'  `--'''''-.. |/\n",
    "          |  .'               \\|\n",
    "          |.'\n",
    "          </p>\n",
    "    </body>\n",
    "</html> "
   ]
  },
  {
   "cell_type": "code",
   "execution_count": 12,
   "metadata": {
    "slideshow": {
     "slide_type": "slide"
    }
   },
   "outputs": [
    {
     "data": {
      "text/html": [
       "<!DOCTYPE html>\n",
       "<html lang=\"en\">\n",
       "    <head></head>\n",
       "    <body>\n",
       "        <pre>              _______\n",
       "         ..-'`       ````---.\n",
       "       .'          ___ .'````.'SS'.\n",
       "      /        ..-SS####'.  /SSHH##'.\n",
       "     |       .'SSSHHHH##|/#/#HH#H####'.\n",
       "    /      .'SSHHHHH####/||#/: \\SHH#####\\\n",
       "   /      /SSHHHHH#####/!||;`___|SSHH###\\\n",
       "-..__    /SSSHHH######.         \\SSSHH###\\\n",
       "`.'-.''--._SHHH#####.'           '.SH####/\n",
       "  '. ``'-  '/SH####`/_             `|H##/\n",
       "  | '.     /SSHH###|`'==.       .=='/\\H|\n",
       "  |   `'-.|SHHHH##/\\__\\/        /\\//|~|/\n",
       "  |    |S#|/HHH##/             |``  |\n",
       "  |    \\H' |H#.'`              \\    |\n",
       "  |        ''`|               -     /\n",
       "  |          /H\\          .----    /\n",
       "  |         |H#/'.           `    /\n",
       "  |          \\| | '..            /\n",
       "  |    ^~DLF   /|    ''..______.'\n",
       "   \\          //\\__    _..-. | \n",
       "    \\         ||   ````     \\ |_\n",
       "     \\    _.-|               \\| |_\n",
       "     _\\_.-'   `'''''-.        |   `--.\n",
       " ''``    \\            `''-;    \\ /\n",
       "          \\      .-'|     ````.' -\n",
       "          |    .'  `--'''''-.. |/\n",
       "          |  .'               \\|\n",
       "          |.'\n",
       "          </pre>\n",
       "    </body>\n",
       "</html> "
      ],
      "text/plain": [
       "<IPython.core.display.HTML object>"
      ]
     },
     "metadata": {},
     "output_type": "display_data"
    }
   ],
   "source": [
    "%%html\n",
    "<!DOCTYPE html>\n",
    "<html lang=\"en\">\n",
    "    <head></head>\n",
    "    <body>\n",
    "        <pre>              _______\n",
    "         ..-'`       ````---.\n",
    "       .'          ___ .'````.'SS'.\n",
    "      /        ..-SS####'.  /SSHH##'.\n",
    "     |       .'SSSHHHH##|/#/#HH#H####'.\n",
    "    /      .'SSHHHHH####/||#/: \\SHH#####\\\n",
    "   /      /SSHHHHH#####/!||;`___|SSHH###\\\n",
    "-..__    /SSSHHH######.         \\SSSHH###\\\n",
    "`.'-.''--._SHHH#####.'           '.SH####/\n",
    "  '. ``'-  '/SH####`/_             `|H##/\n",
    "  | '.     /SSHH###|`'==.       .=='/\\H|\n",
    "  |   `'-.|SHHHH##/\\__\\/        /\\//|~|/\n",
    "  |    |S#|/HHH##/             |``  |\n",
    "  |    \\H' |H#.'`              \\    |\n",
    "  |        ''`|               -     /\n",
    "  |          /H\\          .----    /\n",
    "  |         |H#/'.           `    /\n",
    "  |          \\| | '..            /\n",
    "  |    ^~DLF   /|    ''..______.'\n",
    "   \\          //\\__    _..-. | \n",
    "    \\         ||   ````     \\ |_\n",
    "     \\    _.-|               \\| |_\n",
    "     _\\_.-'   `'''''-.        |   `--.\n",
    " ''``    \\            `''-;    \\ /\n",
    "          \\      .-'|     ````.' -\n",
    "          |    .'  `--'''''-.. |/\n",
    "          |  .'               \\|\n",
    "          |.'\n",
    "          </pre>\n",
    "    </body>\n",
    "</html> "
   ]
  },
  {
   "cell_type": "code",
   "execution_count": 14,
   "metadata": {
    "slideshow": {
     "slide_type": "slide"
    }
   },
   "outputs": [
    {
     "data": {
      "text/html": [
       "<!DOCTYPE html>\n",
       "<html lang=\"en\">\n",
       "    <head></head>\n",
       "    <body>\n",
       "        <pre>  \n",
       "        <code class=\"language-bash\">\n",
       "#!/bin/bash\n",
       "    echo \"Hello Word\"\n",
       "        </code>\n",
       "        </pre>\n",
       "    </body>\n",
       "</html>"
      ],
      "text/plain": [
       "<IPython.core.display.HTML object>"
      ]
     },
     "metadata": {},
     "output_type": "display_data"
    }
   ],
   "source": [
    "%%html\n",
    "<!DOCTYPE html>\n",
    "<html lang=\"en\">\n",
    "    <head></head>\n",
    "    <body>\n",
    "        <pre>  \n",
    "        <code class=\"language-bash\">\n",
    "#!/bin/bash\n",
    "    echo \"Hello Word\"\n",
    "        </code>\n",
    "        </pre>\n",
    "    </body>\n",
    "</html>"
   ]
  },
  {
   "cell_type": "code",
   "execution_count": 15,
   "metadata": {
    "slideshow": {
     "slide_type": "slide"
    }
   },
   "outputs": [
    {
     "data": {
      "text/html": [
       "<!DOCTYPE html>\n",
       "<html lang=\"en\">\n",
       "    <head></head>\n",
       "    <body>\n",
       "        <pre>  \n",
       "<samp>linuxserver2.cs.umbc.edu[105]</samp><kbd>pwd</kbd>\n",
       "<samp>/home/csee1/bwilk1/www/331</samp>\n",
       "        </pre>\n",
       "    </body>\n",
       "</html>"
      ],
      "text/plain": [
       "<IPython.core.display.HTML object>"
      ]
     },
     "metadata": {},
     "output_type": "display_data"
    }
   ],
   "source": [
    "%%html\n",
    "<!DOCTYPE html>\n",
    "<html lang=\"en\">\n",
    "    <head></head>\n",
    "    <body>\n",
    "        <pre>  \n",
    "<samp>linuxserver2.cs.umbc.edu[105]</samp><kbd>pwd</kbd>\n",
    "<samp>/home/csee1/bwilk1/www/331</samp>\n",
    "        </pre>\n",
    "    </body>\n",
    "</html>"
   ]
  },
  {
   "cell_type": "markdown",
   "metadata": {
    "slideshow": {
     "slide_type": "slide"
    }
   },
   "source": [
    "## Lists\n",
    "- HTML provides 3 types of lists, which, according to the spec, should never occur inside a `<p>` tag\n",
    "- Ordered list `<ol>`\n",
    "    - Represents information that is important to present in that order, like directions\n",
    "    - The browser usually displays these as numbers, or letters if nested\n",
    "    - List elements denoted using the `<li>` tag\n"
   ]
  },
  {
   "cell_type": "code",
   "execution_count": 16,
   "metadata": {
    "slideshow": {
     "slide_type": "slide"
    }
   },
   "outputs": [
    {
     "data": {
      "text/html": [
       "<!DOCTYPE html>\n",
       "<html lang=\"en\">\n",
       "    <head></head>\n",
       "\n",
       "    <body>\n",
       "    <p>How to make grilled cheese :</p>\n",
       "<ol>\n",
       "<li>Butter two pieces of bread on one side</li>\n",
       "<li>Place them on a griddle, butter side down</li>\n",
       "<li>Put cheese on top of one</li>\n",
       "<li>When cheese begins to melt, place \n",
       "one slice of bread on top of the other, butter sides out</li>\n",
       "<li>Grill until golden brown</li>\n",
       "</ol>\n",
       "    </body>\n",
       "</html>"
      ],
      "text/plain": [
       "<IPython.core.display.HTML object>"
      ]
     },
     "metadata": {},
     "output_type": "display_data"
    }
   ],
   "source": [
    "%%html\n",
    "<!DOCTYPE html>\n",
    "<html lang=\"en\">\n",
    "    <head></head>\n",
    "\n",
    "    <body>\n",
    "    <p>How to make grilled cheese :</p>\n",
    "<ol>\n",
    "<li>Butter two pieces of bread on one side</li>\n",
    "<li>Place them on a griddle, butter side down</li>\n",
    "<li>Put cheese on top of one</li>\n",
    "<li>When cheese begins to melt, place \n",
    "one slice of bread on top of the other, butter sides out</li>\n",
    "<li>Grill until golden brown</li>\n",
    "</ol>\n",
    "    </body>\n",
    "</html>"
   ]
  },
  {
   "cell_type": "code",
   "execution_count": 18,
   "metadata": {
    "slideshow": {
     "slide_type": "slide"
    }
   },
   "outputs": [
    {
     "data": {
      "text/html": [
       "<!DOCTYPE html>\n",
       "<html lang=\"en\">\n",
       "    <head></head>\n",
       "\n",
       "    <body>\n",
       "    <p>The top grossing Broadway shows of all time are :</p>\n",
       "<ol reversed=\"reversed\">\n",
       "<li>Chicago (1996 Revival)</li>\n",
       "<li>Mamma Mia!</li>\n",
       "<li>The Phantom of the Opera</li>\n",
       "<li>Wicked</li>\n",
       "<li>The Lion King</li>\n",
       "</ol>\n",
       "    </body>\n",
       "</html>"
      ],
      "text/plain": [
       "<IPython.core.display.HTML object>"
      ]
     },
     "metadata": {},
     "output_type": "display_data"
    }
   ],
   "source": [
    "%%html\n",
    "<!DOCTYPE html>\n",
    "<html lang=\"en\">\n",
    "    <head></head>\n",
    "\n",
    "    <body>\n",
    "    <p>The top grossing Broadway shows of all time are :</p>\n",
    "<ol reversed=\"reversed\">\n",
    "<li>Chicago (1996 Revival)</li>\n",
    "<li>Mamma Mia!</li>\n",
    "<li>The Phantom of the Opera</li>\n",
    "<li>Wicked</li>\n",
    "<li>The Lion King</li>\n",
    "</ol>\n",
    "    </body>\n",
    "</html>"
   ]
  },
  {
   "cell_type": "code",
   "execution_count": 19,
   "metadata": {
    "slideshow": {
     "slide_type": "slide"
    }
   },
   "outputs": [
    {
     "data": {
      "text/html": [
       "<!DOCTYPE html>\n",
       "<html lang=\"en\">\n",
       "    <head></head>\n",
       "    <body>\n",
       "        <p>So far we have talked about :</p>\n",
       "\n",
       "<ol>\n",
       "<li>Paragraphs</li>\n",
       "<li>Headers</li>\n",
       "<li>Pre-formatted text</li>\n",
       "<li>Lists\n",
       "    <ol>\n",
       "        <li>Ordered Lists</li>\n",
       "        <li>Unordered Lists</li>\n",
       "        <li>Description Lists</li>\n",
       "    </ol>\n",
       "</li>\n",
       "</ol>\n",
       "    </body>\n",
       "</html>"
      ],
      "text/plain": [
       "<IPython.core.display.HTML object>"
      ]
     },
     "metadata": {},
     "output_type": "display_data"
    }
   ],
   "source": [
    "%%html\n",
    "<!DOCTYPE html>\n",
    "<html lang=\"en\">\n",
    "    <head></head>\n",
    "    <body>\n",
    "        <p>So far we have talked about :</p>\n",
    "\n",
    "<ol>\n",
    "<li>Paragraphs</li>\n",
    "<li>Headers</li>\n",
    "<li>Pre-formatted text</li>\n",
    "<li>Lists\n",
    "    <ol>\n",
    "        <li>Ordered Lists</li>\n",
    "        <li>Unordered Lists</li>\n",
    "        <li>Description Lists</li>\n",
    "    </ol>\n",
    "</li>\n",
    "</ol>\n",
    "    </body>\n",
    "</html>"
   ]
  },
  {
   "cell_type": "markdown",
   "metadata": {
    "slideshow": {
     "slide_type": "slide"
    }
   },
   "source": [
    "## Lists\n",
    "- HTML provides 3 types of lists, which, according to the spec, should never occur inside a `<p>` tag\n",
    "- Unordered list `<ul>`\n",
    "    - Represents a collection of information whose relative ordering is unimportant\n",
    "    - Usually displayed using bullets\n",
    "    - List elements denoted using the `<li>` tag\n",
    "- Description list `<dl>`\n",
    "    - Consists of key value pairs, specified in the `<dt>` and `<dd>` tags "
   ]
  },
  {
   "cell_type": "code",
   "execution_count": 20,
   "metadata": {
    "slideshow": {
     "slide_type": "slide"
    }
   },
   "outputs": [
    {
     "data": {
      "text/html": [
       "<!DOCTYPE html>\n",
       "<html lang=\"en\">\n",
       "    <head></head>\n",
       "   \n",
       "    <body>\n",
       "    <p>Some famous sports teams are: </p>\n",
       "<ul>\n",
       "<li>Real Madrid</li>\n",
       "<li>The Yankees</li>\n",
       "<li>The Lakers</li>\n",
       "<li>The Patriots</li>\n",
       "<li>Ohio State Buckeyes</li>\n",
       "\n",
       "</ul>\n",
       "    </body>\n",
       "</html>"
      ],
      "text/plain": [
       "<IPython.core.display.HTML object>"
      ]
     },
     "metadata": {},
     "output_type": "display_data"
    }
   ],
   "source": [
    "%%html\n",
    "<!DOCTYPE html>\n",
    "<html lang=\"en\">\n",
    "    <head></head>\n",
    "   \n",
    "    <body>\n",
    "    <p>Some famous sports teams are: </p>\n",
    "<ul>\n",
    "<li>Real Madrid</li>\n",
    "<li>The Yankees</li>\n",
    "<li>The Lakers</li>\n",
    "<li>The Patriots</li>\n",
    "<li>Ohio State Buckeyes</li>\n",
    "\n",
    "</ul>\n",
    "    </body>\n",
    "</html>"
   ]
  },
  {
   "cell_type": "code",
   "execution_count": 21,
   "metadata": {
    "slideshow": {
     "slide_type": "slide"
    }
   },
   "outputs": [
    {
     "data": {
      "text/html": [
       "<!DOCTYPE html>\n",
       "<html lang=\"en\">\n",
       "    <head></head>\n",
       "   \n",
       "    <body>\n",
       "     <p>Places people live: </p>\n",
       "<ul>\n",
       "<li>Maryland\n",
       "    <ul>\n",
       "        <li>Baltimore</li>\n",
       "        <li>Frederick</li>\n",
       "        <li>Gaithersburg</li>\n",
       "        <li>Columbia</li>\n",
       "    </ul>\n",
       "    </li>\n",
       "<li>Pennsylvania\n",
       " <ul>\n",
       "        <li>Philadelphia</li>\n",
       "        <li>Pittsburgh</li>\n",
       "    </ul>\n",
       "</li>\n",
       "<li>Virginia</li>\n",
       "<li>Washington, DC</li>\n",
       "\n",
       "</ul>\n",
       "    </body>\n",
       "</html>"
      ],
      "text/plain": [
       "<IPython.core.display.HTML object>"
      ]
     },
     "metadata": {},
     "output_type": "display_data"
    }
   ],
   "source": [
    "%%html\n",
    "<!DOCTYPE html>\n",
    "<html lang=\"en\">\n",
    "    <head></head>\n",
    "   \n",
    "    <body>\n",
    "     <p>Places people live: </p>\n",
    "<ul>\n",
    "<li>Maryland\n",
    "    <ul>\n",
    "        <li>Baltimore</li>\n",
    "        <li>Frederick</li>\n",
    "        <li>Gaithersburg</li>\n",
    "        <li>Columbia</li>\n",
    "    </ul>\n",
    "    </li>\n",
    "<li>Pennsylvania\n",
    " <ul>\n",
    "        <li>Philadelphia</li>\n",
    "        <li>Pittsburgh</li>\n",
    "    </ul>\n",
    "</li>\n",
    "<li>Virginia</li>\n",
    "<li>Washington, DC</li>\n",
    "\n",
    "</ul>\n",
    "    </body>\n",
    "</html>"
   ]
  },
  {
   "cell_type": "code",
   "execution_count": null,
   "metadata": {
    "slideshow": {
     "slide_type": "slide"
    }
   },
   "outputs": [],
   "source": [
    "%%html\n",
    "<!DOCTYPE html>\n",
    "<html lang=\"en\">\n",
    "    <head></head>\n",
    "    <body>\n",
    "<ul>\n",
    "<li>Real Madrid</li>\n",
    "<li>The Yankees</li>\n",
    "<li>The Lakers</li>\n",
    "<li>The Patriots</li>\n",
    "<li>Ohio State Buckeyes</li>\n",
    "\n",
    "</ul>\n",
    "    </body>\n",
    "</html>"
   ]
  },
  {
   "cell_type": "markdown",
   "metadata": {
    "slideshow": {
     "slide_type": "slide"
    }
   },
   "source": [
    "## Images\n",
    "- Images are included by using the `<img>` tag, which has no closing tag\n",
    "    - The location of the image is specified by setting the `src` attribute to the URL of the image\n",
    "    - HTML5 requires the `alt` attribute as well, which should describe the image\n",
    "        - This especially important for screen readers, and other accessability technology\n",
    "    - The `title` attribute is optional, and is meant to be a short bit of text about the image"
   ]
  },
  {
   "cell_type": "code",
   "execution_count": 24,
   "metadata": {
    "slideshow": {
     "slide_type": "slide"
    }
   },
   "outputs": [
    {
     "data": {
      "text/html": [
       "<!DOCTYPE html>\n",
       "<html lang=\"en\">\n",
       "    <head></head>\n",
       "    <body>\n",
       "<img src=\"https://upload.wikimedia.org/wikipedia/commons/d/d0/Chesapeakebayretriever01-l.jpg\" \n",
       "alt=\"A cheasapeake bay retriever standing on some cleared earth,\n",
       "holding a tennis ball in it's mouth\">\n",
       "    </body>\n",
       "</html>"
      ],
      "text/plain": [
       "<IPython.core.display.HTML object>"
      ]
     },
     "metadata": {},
     "output_type": "display_data"
    }
   ],
   "source": [
    "%%html\n",
    "<!DOCTYPE html>\n",
    "<html lang=\"en\">\n",
    "    <head></head>\n",
    "    <body>\n",
    "<img src=\"https://upload.wikimedia.org/wikipedia/commons/d/d0/Chesapeakebayretriever01-l.jpg\" \n",
    "alt=\"A cheasapeake bay retriever standing on some cleared earth,\n",
    "holding a tennis ball in it's mouth\">\n",
    "    </body>\n",
    "</html>"
   ]
  },
  {
   "cell_type": "markdown",
   "metadata": {
    "slideshow": {
     "slide_type": "slide"
    }
   },
   "source": [
    "## Common Image Formats\n",
    "- GIF - mostly used for animation, support less colors than other\n",
    "- JPG - good for pictures, no transparency\n",
    "- PNG - good for all types of graphics, especially useful due to transparency support\n",
    "- SVG - meant for drawings rather than photographs, becoming more widely supported\n",
    "    - Is a markup language describing shapes and vectors and positioning, etc.\n",
    "    - HTML5 allows it to be defined in the page itself"
   ]
  },
  {
   "cell_type": "markdown",
   "metadata": {
    "slideshow": {
     "slide_type": "slide"
    }
   },
   "source": [
    "## Links\n",
    "- The `<a>` tag, for anchor, is used to provide links to external pages, or to another location on the same page\n",
    "- The `href` attribute determines where the link goes to\n",
    "- The `target` attribute determines how the link opens \n",
    "    - In a new window, tab, etc.\n",
    "- The `<a>` tag can contain either images or text inside of it"
   ]
  },
  {
   "cell_type": "code",
   "execution_count": 26,
   "metadata": {
    "slideshow": {
     "slide_type": "slide"
    }
   },
   "outputs": [
    {
     "data": {
      "text/html": [
       "<!DOCTYPE html>\n",
       "<html lang=\"en\">\n",
       "    <head></head>\n",
       "    <body>\n",
       "        <a href=\"umbc.edu\">UMBC (doesn't work)</a>\n",
       "        <a href=\"http://umbc.edu\">UMBC</a>\n",
       "        <a href=\"Lecture13.ipynb\" target=\"_blank\">Tuesday's lecture</a>\n",
       "        <a href=\"mailto:bwilk1@umb.edu\">Email Me</a>\n",
       "    </body>\n",
       "</html>"
      ],
      "text/plain": [
       "<IPython.core.display.HTML object>"
      ]
     },
     "metadata": {},
     "output_type": "display_data"
    }
   ],
   "source": [
    "%%html\n",
    "<!DOCTYPE html>\n",
    "<html lang=\"en\">\n",
    "    <head></head>\n",
    "    <body>\n",
    "        <a href=\"umbc.edu\">UMBC (doesn't work)</a>\n",
    "        <a href=\"http://umbc.edu\">UMBC</a>\n",
    "        <a href=\"Lecture13.ipynb\" target=\"_blank\">Tuesday's lecture</a>\n",
    "        <a href=\"mailto:bwilk1@umb.edu\">Email Me</a>\n",
    "    </body>\n",
    "</html>"
   ]
  },
  {
   "cell_type": "markdown",
   "metadata": {
    "slideshow": {
     "slide_type": "slide"
    }
   },
   "source": [
    "## Text Formatting\n",
    "- Text formatting should primarily be done using CSS, but some text decoration also carries meaning, and so is acceptable to be encoded in HTML\n",
    "    - `<em>` Emphasizes text, usually displayed as italics, but should not be used ONLY for that purpose\n",
    "    - `<strong>` Emphasizes text even more strongly, usually displayed at bold text, should not be used only for that purpose\n",
    "    - `<sup>` and `<sub>` indicate super- and subscripts respectively\n",
    "    - `<del>` is presented as a strike through, but has a meaning of deleted text"
   ]
  },
  {
   "cell_type": "code",
   "execution_count": 27,
   "metadata": {
    "slideshow": {
     "slide_type": "slide"
    }
   },
   "outputs": [
    {
     "data": {
      "text/html": [
       "<!DOCTYPE html>\n",
       "<html lang=\"en\">\n",
       "    <head></head>\n",
       "    <body>\n",
       "        <p>This text might have \n",
       "        <em>emphasis, like a rising intonation</em>\n",
       "        when read aloud</p>\n",
       "        <p>This text has even <strong>more \n",
       "        emphasis, like a sterm talking to, \n",
       "        or yelling</strong></p>\n",
       "        <p>Superscripts are good for dates,\n",
       "        like October 19<sup>th</sup></p>\n",
       "        <p>Subscripts are good for simple \n",
       "        math expressions, like x<sub>1</sub></p>\n",
       "        <p>Only use delete to keep track \n",
       "        of <del>are</del> changes, or make \n",
       "        a change obvious</p>\n",
       "    </body>\n",
       "</html>"
      ],
      "text/plain": [
       "<IPython.core.display.HTML object>"
      ]
     },
     "metadata": {},
     "output_type": "display_data"
    }
   ],
   "source": [
    "%%html\n",
    "<!DOCTYPE html>\n",
    "<html lang=\"en\">\n",
    "    <head></head>\n",
    "    <body>\n",
    "        <p>This text might have \n",
    "        <em>emphasis, like a rising intonation</em>\n",
    "        when read aloud</p>\n",
    "        <p>This text has even <strong>more \n",
    "        emphasis, like a sterm talking to, \n",
    "        or yelling</strong></p>\n",
    "        <p>Superscripts are good for dates,\n",
    "        like October 19<sup>th</sup></p>\n",
    "        <p>Subscripts are good for simple \n",
    "        math expressions, like x<sub>1</sub></p>\n",
    "        <p>Only use delete to keep track \n",
    "        of <del>are</del> changes, or make \n",
    "        a change obvious</p>\n",
    "    </body>\n",
    "</html>\n"
   ]
  },
  {
   "cell_type": "markdown",
   "metadata": {
    "slideshow": {
     "slide_type": "slide"
    }
   },
   "source": [
    "## Tables\n",
    "- Tables should only be used to represent tabular data\n",
    "    - Early in the web, they were used for layout, don't do this!\n",
    "- The entire table is enclosed in the `<table>` tag\n",
    "    - Each row is a `<tr>` tag\n",
    "        - Each cell is a `<td>` tag\n",
    "    - The table rows can be optionally grouped using\n",
    "        - `<thead>`\n",
    "        - `<tbody>`\n",
    "        - `<tfoot>`"
   ]
  },
  {
   "cell_type": "code",
   "execution_count": 31,
   "metadata": {
    "slideshow": {
     "slide_type": "slide"
    }
   },
   "outputs": [
    {
     "data": {
      "text/html": [
       "<!DOCTYPE html>\n",
       "<html lang=\"en\">\n",
       "    <head></head>\n",
       "    <body>\n",
       "        <table>\n",
       "            <tr>\n",
       "                <td>Name</td>\n",
       "                <td>Date of Birth</td>\n",
       "            </tr>\n",
       "            <tr>\n",
       "                <td>George Washington</td>\n",
       "                <td>February 22, 1732</td>\n",
       "      \n",
       "            </tr>\n",
       "            <tr>\n",
       "                <td>John Adams</td>\n",
       "                <td>October 30, 1735</td>\n",
       "            </tr>\n",
       "            <tr>\n",
       "                <td>Thomas Jefferson</td>\n",
       "                <td>April 13, 1743</td>\n",
       "            </tr>\n",
       "        </table>\n",
       "    </body>\n",
       "</html>"
      ],
      "text/plain": [
       "<IPython.core.display.HTML object>"
      ]
     },
     "metadata": {},
     "output_type": "display_data"
    }
   ],
   "source": [
    "%%html\n",
    "<!DOCTYPE html>\n",
    "<html lang=\"en\">\n",
    "    <head></head>\n",
    "    <body>\n",
    "        <table>\n",
    "            <tr>\n",
    "                <td>Name</td>\n",
    "                <td>Date of Birth</td>\n",
    "            </tr>\n",
    "            <tr>\n",
    "                <td>George Washington</td>\n",
    "                <td>February 22, 1732</td>\n",
    "      \n",
    "            </tr>\n",
    "            <tr>\n",
    "                <td>John Adams</td>\n",
    "                <td>October 30, 1735</td>\n",
    "            </tr>\n",
    "            <tr>\n",
    "                <td>Thomas Jefferson</td>\n",
    "                <td>April 13, 1743</td>\n",
    "            </tr>\n",
    "        </table>\n",
    "    </body>\n",
    "</html>"
   ]
  },
  {
   "cell_type": "code",
   "execution_count": 32,
   "metadata": {
    "slideshow": {
     "slide_type": "slide"
    }
   },
   "outputs": [
    {
     "data": {
      "text/html": [
       "<!DOCTYPE html>\n",
       "<html lang=\"en\">\n",
       "    <head></head>\n",
       "    <body>\n",
       "        <table>\n",
       "            <thead>\n",
       "                <tr>\n",
       "                    <th>Name</th>\n",
       "                    <th>Date of Birth</th>\n",
       "                </tr>\n",
       "            </thead>\n",
       "            <tbody>\n",
       "            <tr>\n",
       "                <td>George Washington</td>\n",
       "                <td>February 22, 1732</td>\n",
       "            </tr>\n",
       "            <tr>\n",
       "                <td>John Adams</td>\n",
       "                <td>October 30, 1735</td>\n",
       "            </tr>\n",
       "            <tr>\n",
       "                <td>Thomas Jefferson</td>\n",
       "                <td>April 13, 1743</td>\n",
       "            </tr>\n",
       "            </tbody>\n",
       "        </table>\n",
       "    </body>\n",
       "</html>"
      ],
      "text/plain": [
       "<IPython.core.display.HTML object>"
      ]
     },
     "metadata": {},
     "output_type": "display_data"
    }
   ],
   "source": [
    "%%html\n",
    "<!DOCTYPE html>\n",
    "<html lang=\"en\">\n",
    "    <head></head>\n",
    "    <body>\n",
    "        <table>\n",
    "            <thead>\n",
    "                <tr>\n",
    "                    <th>Name</th>\n",
    "                    <th>Date of Birth</th>\n",
    "                </tr>\n",
    "            </thead>\n",
    "            <tbody>\n",
    "            <tr>\n",
    "                <td>George Washington</td>\n",
    "                <td>February 22, 1732</td>\n",
    "            </tr>\n",
    "            <tr>\n",
    "                <td>John Adams</td>\n",
    "                <td>October 30, 1735</td>\n",
    "            </tr>\n",
    "            <tr>\n",
    "                <td>Thomas Jefferson</td>\n",
    "                <td>April 13, 1743</td>\n",
    "            </tr>\n",
    "            </tbody>\n",
    "        </table>\n",
    "    </body>\n",
    "</html>"
   ]
  },
  {
   "cell_type": "markdown",
   "metadata": {
    "slideshow": {
     "slide_type": "slide"
    }
   },
   "source": [
    "## Forms\n",
    "- Forms are used all over the web to collect data, and provide results\n",
    "- The various parts of a form are all wrapped up in the `<form>` tag\n",
    "    - The `action` attribute indicates where the form information should be sent \n",
    "    - The `method` attribute indicates how it should be sent\n",
    "        - `GET` puts the values in the URL\n",
    "        - `POST` puts the values in the HTTP header "
   ]
  },
  {
   "cell_type": "markdown",
   "metadata": {
    "slideshow": {
     "slide_type": "slide"
    }
   },
   "source": [
    "## Input\n",
    "- Most types of form input are indicated using the `input` tag\n",
    "    - The `type` attribute indicates the type of input\n",
    "        - `text`\n",
    "        - `password`\n",
    "        - `radio`\n",
    "        - `checkbox`\n",
    "        - `submit`\n",
    "    - The `name` attribute is what is used when submitting the data to form a key-value pair\n",
    "\n"
   ]
  },
  {
   "cell_type": "markdown",
   "metadata": {
    "slideshow": {
     "slide_type": "slide"
    }
   },
   "source": [
    "## Other Form Elements\n",
    "- Other common tags in a form are\n",
    "    - `label` - which is used to link a label to a input field\n",
    "    - `textarea` which creates a larger text box than just a single line\n",
    "    - `select` creates drop down option menu\n",
    "        - Each possible value goes in an `option` tag"
   ]
  },
  {
   "cell_type": "code",
   "execution_count": 33,
   "metadata": {
    "slideshow": {
     "slide_type": "slide"
    }
   },
   "outputs": [
    {
     "data": {
      "text/html": [
       "<!DOCTYPE html>\n",
       "<html lang=\"en\">\n",
       "    <head></head>\n",
       "    <body>\n",
       "       <form action=\"./\" method=\"GET\">\n",
       "            <label for=\"user_name\">User Name:  \n",
       "            <input type=\"text\" name=\"user_name\" id=\"user_name\"/></label>\n",
       "          \n",
       "            <label for=\"email\">Email:</label>\n",
       "            <input type=\"email\" name=\"mail\" id=\"email\"/>\n",
       "         \n",
       "            <label for=\"on\"><input type=\"radio\" name=\"on_off\" id=\"on\"/>ON</label>\n",
       "            <label for=\"off\"><input type=\"radio\" name=\"on_off\" id=\"off\"/>OFF</label>\n",
       "            \n",
       "            <label for=\"check1\"><input type=\"checkbox\" name=\"checks[]\" id=\"check1\">Option 1</label>\n",
       "            <label for=\"check2\"><input type=\"checkbox\" name=\"checks[]\" id=\"check2\">Option 2</label>\n",
       "            <label for=\"check3\"><input type=\"checkbox\" name=\"checks[]\" id=\"check3\">Option 3</label>\n",
       "            <label for=\"check4\"><input type=\"checkbox\" name=\"checks[]\" id=\"check4\">Option 4</label>\n",
       "            \n",
       "            <label for\"year\">Select year:</label>\n",
       "            <select name=\"year\" id=\"year\">\n",
       "                <option>Freshman</option>   \n",
       "                <option>Sophmore</option>\n",
       "                <option>Junior</option>\n",
       "                <option>Senior</option>\n",
       "            </select>\n",
       "            \n",
       "            <label for=\"essay\">Write your essay here:</label>\n",
       "            <textarea name=\"essay\" id=\"essay\" rows=5 cols=80>Default</textarea>\n",
       "            \n",
       "            <input type=\"submit\" value=\"Send it In!\"/>\n",
       "       </form>\n",
       "    </body>\n",
       "</html>"
      ],
      "text/plain": [
       "<IPython.core.display.HTML object>"
      ]
     },
     "metadata": {},
     "output_type": "display_data"
    }
   ],
   "source": [
    "%%html\n",
    "<!DOCTYPE html>\n",
    "<html lang=\"en\">\n",
    "    <head></head>\n",
    "    <body>\n",
    "       <form action=\"./\" method=\"GET\">\n",
    "            <label for=\"user_name\">User Name:  \n",
    "            <input type=\"text\" name=\"user_name\" id=\"user_name\"/></label>\n",
    "          \n",
    "            <label for=\"email\">Email:</label>\n",
    "            <input type=\"email\" name=\"mail\" id=\"email\"/>\n",
    "         \n",
    "            <label for=\"on\"><input type=\"radio\" name=\"on_off\" id=\"on\"/>ON</label>\n",
    "            <label for=\"off\"><input type=\"radio\" name=\"on_off\" id=\"off\"/>OFF</label>\n",
    "            \n",
    "            <label for=\"check1\"><input type=\"checkbox\" name=\"checks[]\" id=\"check1\">Option 1</label>\n",
    "            <label for=\"check2\"><input type=\"checkbox\" name=\"checks[]\" id=\"check2\">Option 2</label>\n",
    "            <label for=\"check3\"><input type=\"checkbox\" name=\"checks[]\" id=\"check3\">Option 3</label>\n",
    "            <label for=\"check4\"><input type=\"checkbox\" name=\"checks[]\" id=\"check4\">Option 4</label>\n",
    "            \n",
    "            <label for\"year\">Select year:</label>\n",
    "            <select name=\"year\" id=\"year\">\n",
    "                <option>Freshman</option>   \n",
    "                <option>Sophmore</option>\n",
    "                <option>Junior</option>\n",
    "                <option>Senior</option>\n",
    "            </select>\n",
    "            \n",
    "            <label for=\"essay\">Write your essay here:</label>\n",
    "            <textarea name=\"essay\" id=\"essay\" rows=5 cols=80>Default</textarea>\n",
    "            \n",
    "            <input type=\"submit\" value=\"Send it In!\"/>\n",
    "       </form>\n",
    "    </body>\n",
    "</html>"
   ]
  },
  {
   "cell_type": "markdown",
   "metadata": {
    "slideshow": {
     "slide_type": "slide"
    }
   },
   "source": [
    "## Divs and Spans\n",
    "- Other than paragraphs, there was no common way to group elements\n",
    "- The `div` tag is used to group elements at a block level, and commonly holds many elements, like `p` tags and `ol` tags\n",
    "- The `span` tag is an inline tag often used to mark up sections of text that need to be styled a certain way\n",
    "- Both `div` and `span` have no greater meaning then group these things together, and other new tags should be used when appropriate"
   ]
  },
  {
   "cell_type": "code",
   "execution_count": 34,
   "metadata": {
    "slideshow": {
     "slide_type": "slide"
    }
   },
   "outputs": [
    {
     "data": {
      "text/html": [
       "<!DOCTYPE html>\n",
       "<html lang=\"en\">\n",
       "    <head></head>\n",
       "    <body>\n",
       "       <form action=\"./\" method=\"GET\">\n",
       "            <div>\n",
       "                <label for=\"user_name\">User Name:</label>\n",
       "                <input type=\"text\" name=\"user_name\" id=\"user_name\"/>\n",
       "            </div>\n",
       "            <div>\n",
       "            <label for=\"email\">Email:</label>\n",
       "            <input type=\"email\" name=\"mail\" id=\"email\"/>\n",
       "            </div>\n",
       "            <div>\n",
       "            <label for=\"on\"><input type=\"radio\" name=\"on_off\" id=\"on\"/>ON</label>\n",
       "            <label for=\"off\"><input type=\"radio\" name=\"on_off\" id=\"off\"/>OFF</label>\n",
       "            </div>\n",
       "            <div>\n",
       "                <label for=\"check1\"><input type=\"checkbox\" name=\"checks[]\" id=\"check1\">Option 1</label>\n",
       "                <label for=\"check2\"><input type=\"checkbox\" name=\"checks[]\" id=\"check2\">Option 2</label>\n",
       "                <label for=\"check3\"><input type=\"checkbox\" name=\"checks[]\" id=\"check3\">Option 3</label>\n",
       "                <label for=\"check4\"><input type=\"checkbox\" name=\"checks[]\" id=\"check4\">Option 4</label>\n",
       "            </div>\n",
       "            <div>\n",
       "            <label for\"year\">Select year:</label>\n",
       "            <select name=\"year\" id=\"year\">\n",
       "                <option>Freshman</option>   \n",
       "                <option>Sophmore</option>\n",
       "                <option>Junior</option>\n",
       "                <option>Senior</option>\n",
       "            </select>\n",
       "            </div>\n",
       "            <div>\n",
       "             <p><label for=\"essay\">Write your essay here:</label></p>\n",
       "                <textarea name=\"essay\" id=\"essay\" rows=5 cols=80></textarea>\n",
       "            \n",
       "            <input type=\"submit\" value=\"Send it In!\"/>\n",
       "            </div>\n",
       "            <input type=\"submit\" value=\"Send it In!\"/>\n",
       "       </form>\n",
       "    </body>\n",
       "</html>"
      ],
      "text/plain": [
       "<IPython.core.display.HTML object>"
      ]
     },
     "metadata": {},
     "output_type": "display_data"
    }
   ],
   "source": [
    "%%html\n",
    "<!DOCTYPE html>\n",
    "<html lang=\"en\">\n",
    "    <head></head>\n",
    "    <body>\n",
    "       <form action=\"./\" method=\"GET\">\n",
    "            <div>\n",
    "                <label for=\"user_name\">User Name:</label>\n",
    "                <input type=\"text\" name=\"user_name\" id=\"user_name\"/>\n",
    "            </div>\n",
    "            <div>\n",
    "            <label for=\"email\">Email:</label>\n",
    "            <input type=\"email\" name=\"mail\" id=\"email\"/>\n",
    "            </div>\n",
    "            <div>\n",
    "            <label for=\"on\"><input type=\"radio\" name=\"on_off\" id=\"on\"/>ON</label>\n",
    "            <label for=\"off\"><input type=\"radio\" name=\"on_off\" id=\"off\"/>OFF</label>\n",
    "            </div>\n",
    "            <div>\n",
    "                <label for=\"check1\"><input type=\"checkbox\" name=\"checks[]\" id=\"check1\">Option 1</label>\n",
    "                <label for=\"check2\"><input type=\"checkbox\" name=\"checks[]\" id=\"check2\">Option 2</label>\n",
    "                <label for=\"check3\"><input type=\"checkbox\" name=\"checks[]\" id=\"check3\">Option 3</label>\n",
    "                <label for=\"check4\"><input type=\"checkbox\" name=\"checks[]\" id=\"check4\">Option 4</label>\n",
    "            </div>\n",
    "            <div>\n",
    "            <label for\"year\">Select year:</label>\n",
    "            <select name=\"year\" id=\"year\">\n",
    "                <option>Freshman</option>   \n",
    "                <option>Sophmore</option>\n",
    "                <option>Junior</option>\n",
    "                <option>Senior</option>\n",
    "            </select>\n",
    "            </div>\n",
    "            <div>\n",
    "             <p><label for=\"essay\">Write your essay here:</label></p>\n",
    "                <textarea name=\"essay\" id=\"essay\" rows=5 cols=80></textarea>\n",
    "            \n",
    "            <input type=\"submit\" value=\"Send it In!\"/>\n",
    "            </div>\n",
    "            <input type=\"submit\" value=\"Send it In!\"/>\n",
    "       </form>\n",
    "    </body>\n",
    "</html>"
   ]
  },
  {
   "cell_type": "markdown",
   "metadata": {
    "slideshow": {
     "slide_type": "slide"
    }
   },
   "source": [
    "## HTML Character Entities\n",
    "- Like most languages, special characters need to be escaped\n",
    "- The special characters in HTML are things like <, >,  &, etc.\n",
    "- They are escaped using the general structure of `&CHAR;`\n",
    "    - CHAR can either be a character name or a numeric code"
   ]
  },
  {
   "cell_type": "code",
   "execution_count": 35,
   "metadata": {
    "slideshow": {
     "slide_type": "slide"
    }
   },
   "outputs": [
    {
     "data": {
      "text/html": [
       "<!DOCTYPE html>\n",
       "<html lang=\"en\">\n",
       "    <head></head>\n",
       "    <body>\n",
       "       <p> Some common HTML entities are </p>\n",
       "       <table>\n",
       "            <thead>\n",
       "                <tr>\n",
       "                    <th>Character Entity</th>\n",
       "                    <th>Result</th>\n",
       "                </tr>\n",
       "            </thead>\n",
       "            <tbody>\n",
       "                <tr>\n",
       "                    <td><pre>&amp;lt;</pre></td>\n",
       "                    <td>&lt;</td>\n",
       "                </tr>\n",
       "                <tr>\n",
       "                    <td><pre>&amp;gt;</pre></td>\n",
       "                    <td>&gt;</td>\n",
       "                </tr>\n",
       "                <tr>\n",
       "                    <td><pre>&amp;amp;</pre></td>\n",
       "                    <td>&amp;</td>\n",
       "                </tr>\n",
       "            </tbody>\n",
       "       </table>\n",
       "        <p>A full table can be found at\n",
       "        <a href=\"https://dev.w3.org/html5/html-author/charref\">The official W3C reference site</a></p>\n",
       "    </body>\n",
       "</html>"
      ],
      "text/plain": [
       "<IPython.core.display.HTML object>"
      ]
     },
     "metadata": {},
     "output_type": "display_data"
    }
   ],
   "source": [
    "%%html\n",
    "<!DOCTYPE html>\n",
    "<html lang=\"en\">\n",
    "    <head></head>\n",
    "    <body>\n",
    "       <p> Some common HTML entities are </p>\n",
    "       <table>\n",
    "            <thead>\n",
    "                <tr>\n",
    "                    <th>Character Entity</th>\n",
    "                    <th>Result</th>\n",
    "                </tr>\n",
    "            </thead>\n",
    "            <tbody>\n",
    "                <tr>\n",
    "                    <td><pre>&amp;lt;</pre></td>\n",
    "                    <td>&lt;</td>\n",
    "                </tr>\n",
    "                <tr>\n",
    "                    <td><pre>&amp;gt;</pre></td>\n",
    "                    <td>&gt;</td>\n",
    "                </tr>\n",
    "                <tr>\n",
    "                    <td><pre>&amp;amp;</pre></td>\n",
    "                    <td>&amp;</td>\n",
    "                </tr>\n",
    "            </tbody>\n",
    "       </table>\n",
    "        <p>A full table can be found at\n",
    "        <a href=\"https://dev.w3.org/html5/html-author/charref\">The official W3C reference site</a></p>\n",
    "    </body>\n",
    "</html>"
   ]
  },
  {
   "cell_type": "markdown",
   "metadata": {
    "slideshow": {
     "slide_type": "slide"
    }
   },
   "source": [
    "## Article and Section\n",
    "- In HTML5, more meaningingful grouping tags were introduced, `article` and `section`\n",
    "- An article is the main focus of the page, and should be relatively unique to that webpage\n",
    "- A section denotes a group of elements that are related thematically\n",
    "    - Can be inside an `article`\n",
    "    - Can have multiple `article`'s in them"
   ]
  },
  {
   "cell_type": "code",
   "execution_count": 36,
   "metadata": {
    "slideshow": {
     "slide_type": "slide"
    }
   },
   "outputs": [
    {
     "data": {
      "text/html": [
       "<!DOCTYPE html>\n",
       "<html lang=\"en\">\n",
       "    <head></head>\n",
       "    <body>\n",
       "           <article>\n",
       "                <h1>This might be the title of the article</h1>\n",
       "                <section>\n",
       "                    <h2>This is my first main section</h2>\n",
       "                    <p>I will write some text</p>\n",
       "                    <p>And even more text</p>\n",
       "                </section>\n",
       "                <section>\n",
       "                    <h2>The next section</h2>\n",
       "                    <p>This is the next part of my article</p>\n",
       "                </section>\n",
       "        </article>\n",
       "    </body>\n",
       "</html>"
      ],
      "text/plain": [
       "<IPython.core.display.HTML object>"
      ]
     },
     "metadata": {},
     "output_type": "display_data"
    }
   ],
   "source": [
    "%%html\n",
    "<!DOCTYPE html>\n",
    "<html lang=\"en\">\n",
    "    <head></head>\n",
    "    <body>\n",
    "           <article>\n",
    "                <h1>This might be the title of the article</h1>\n",
    "                <section>\n",
    "                    <h2>This is my first main section</h2>\n",
    "                    <p>I will write some text</p>\n",
    "                    <p>And even more text</p>\n",
    "                </section>\n",
    "                <section>\n",
    "                    <h2>The next section</h2>\n",
    "                    <p>This is the next part of my article</p>\n",
    "                </section>\n",
    "        </article>\n",
    "    </body>\n",
    "</html>"
   ]
  },
  {
   "cell_type": "markdown",
   "metadata": {
    "slideshow": {
     "slide_type": "slide"
    }
   },
   "source": [
    "## Other Common HTML5 Tags\n",
    "- HTML5 also contains semantic mark-up for common elements of complex websites\n",
    "    - `header` and `footer` are the type of information that might be repeated on every page of a site\n",
    "    - An `aside` is not always related to the main article, or could be meant to provide extra information, like a glossary\n",
    "    - Recognizing that navigation is a meaningful part of websites, the `nav` element is used to group navigation elements, `a` tags or otherwise"
   ]
  },
  {
   "cell_type": "markdown",
   "metadata": {
    "slideshow": {
     "slide_type": "slide"
    }
   },
   "source": [
    "## Audio and Video\n",
    "- Before HTML5, external libraries like Flash were needed to display multimedia\n",
    "- In HTML5, both native audio and video is supported\n",
    "    - The file formats supported very across browsers\n",
    "    - The location of the media is defined by the `src` attribute\n",
    "    - To display controls, the `controls` attribute must be present"
   ]
  },
  {
   "cell_type": "code",
   "execution_count": 37,
   "metadata": {
    "slideshow": {
     "slide_type": "slide"
    }
   },
   "outputs": [
    {
     "data": {
      "text/html": [
       "<audio controls \n",
       "src=\"https://upload.wikimedia.org/wikipedia/commons/a/a4/Washington_Post.ogg\"></audio>\n",
       "<audio \n",
       "controls src=\"https://upload.wikimedia.org/wikipedia/commons/0/04/Pyotr_Ilyich_Tchaikovsky_-_1812_overture.ogg\"></audio>\n",
       "<audio \n",
       "controls src=\"https://upload.wikimedia.org/wikipedia/commons/0/04/Pyotr_Ilyich_Tchaikovsky_-_1812_overture.ogg#t=00:15:34\"></audio>"
      ],
      "text/plain": [
       "<IPython.core.display.HTML object>"
      ]
     },
     "metadata": {},
     "output_type": "display_data"
    }
   ],
   "source": [
    "%%html\n",
    "<audio controls \n",
    "src=\"https://upload.wikimedia.org/wikipedia/commons/a/a4/Washington_Post.ogg\"></audio>\n",
    "<audio \n",
    "controls src=\"https://upload.wikimedia.org/wikipedia/commons/0/04/Pyotr_Ilyich_Tchaikovsky_-_1812_overture.ogg\"></audio>\n",
    "<audio \n",
    "controls src=\"https://upload.wikimedia.org/wikipedia/commons/0/04/Pyotr_Ilyich_Tchaikovsky_-_1812_overture.ogg#t=00:15:34\"></audio>"
   ]
  },
  {
   "cell_type": "code",
   "execution_count": 38,
   "metadata": {
    "slideshow": {
     "slide_type": "slide"
    }
   },
   "outputs": [
    {
     "data": {
      "text/html": [
       "<video controls \n",
       "src=\"https://upload.wikimedia.org/wikipedia/commons/1/10/Panoramic_view_of_the_Eiffel_Tower_taken_from_the_outside.ogv\"></video>"
      ],
      "text/plain": [
       "<IPython.core.display.HTML object>"
      ]
     },
     "metadata": {},
     "output_type": "display_data"
    }
   ],
   "source": [
    "%%html\n",
    "<video controls \n",
    "src=\"https://upload.wikimedia.org/wikipedia/commons/1/10/Panoramic_view_of_the_Eiffel_Tower_taken_from_the_outside.ogv\"></video>"
   ]
  },
  {
   "cell_type": "code",
   "execution_count": 41,
   "metadata": {
    "slideshow": {
     "slide_type": "slide"
    }
   },
   "outputs": [
    {
     "data": {
      "text/html": [
       "<video  controls\n",
       "src=\"https://upload.wikimedia.org/wikipedia/commons/3/37/Front_loading_garbage_truck_loading_a_dumpster.webm\"></video>"
      ],
      "text/plain": [
       "<IPython.core.display.HTML object>"
      ]
     },
     "metadata": {},
     "output_type": "display_data"
    }
   ],
   "source": [
    "%%html\n",
    "<video  controls\n",
    "src=\"https://upload.wikimedia.org/wikipedia/commons/3/37/Front_loading_garbage_truck_loading_a_dumpster.webm\"></video>"
   ]
  },
  {
   "cell_type": "code",
   "execution_count": 42,
   "metadata": {
    "slideshow": {
     "slide_type": "slide"
    }
   },
   "outputs": [
    {
     "data": {
      "text/html": [
       "<video controls width=\"640\" height=\"360\"\n",
       "src=\"https://upload.wikimedia.org/wikipedia/commons/3/37/Front_loading_garbage_truck_loading_a_dumpster.webm\"></video>"
      ],
      "text/plain": [
       "<IPython.core.display.HTML object>"
      ]
     },
     "metadata": {},
     "output_type": "display_data"
    }
   ],
   "source": [
    "%%html\n",
    "<video controls width=\"640\" height=\"360\"\n",
    "src=\"https://upload.wikimedia.org/wikipedia/commons/3/37/Front_loading_garbage_truck_loading_a_dumpster.webm\"></video>"
   ]
  },
  {
   "cell_type": "markdown",
   "metadata": {
    "slideshow": {
     "slide_type": "slide"
    }
   },
   "source": [
    "## Canvas\n",
    "- The `canvas` element is one of the most exciting and differently implemented parts of HTML\n",
    "- Meant to provide an area of interaction, it doesn't do much on it's own\n",
    "    - Canvas provides a location, JavaScript is used to define the behavior"
   ]
  },
  {
   "cell_type": "markdown",
   "metadata": {
    "slideshow": {
     "slide_type": "slide"
    }
   },
   "source": [
    "## Debugging HTML\n",
    "- HTML is a remarkably flexible language\n",
    "    - The W3C specification list how to parse HTML in erroneous conditions, so content is always displayed\n",
    "- If the content is not being displayed how you expect, it can be difficult to find the missing end tag or other small typo\n",
    "    - A good resource in these instances is an HTML validator, which will tell you how your HTML code is not meeting the specifications\n",
    "    - W3C provides one located at https://validator.w3.org/"
   ]
  }
 ],
 "metadata": {
  "celltoolbar": "Slideshow",
  "kernelspec": {
   "display_name": "Python 2",
   "language": "python",
   "name": "python2"
  },
  "language_info": {
   "codemirror_mode": {
    "name": "ipython",
    "version": 2
   },
   "file_extension": ".py",
   "mimetype": "text/x-python",
   "name": "python",
   "nbconvert_exporter": "python",
   "pygments_lexer": "ipython2",
   "version": "2.7.9"
  }
 },
 "nbformat": 4,
 "nbformat_minor": 2
}

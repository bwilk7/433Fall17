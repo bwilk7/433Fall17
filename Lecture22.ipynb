{
 "cells": [
  {
   "cell_type": "markdown",
   "metadata": {
    "slideshow": {
     "slide_type": "slide"
    }
   },
   "source": [
    "# PHP II"
   ]
  },
  {
   "cell_type": "markdown",
   "metadata": {
    "slideshow": {
     "slide_type": "slide"
    }
   },
   "source": [
    "## `print_r`\n",
    "- `print_r` is a function that recursively prints any object passed to it\n",
    "    - It is specifically designed to produce output that is readable by humans\n",
    "    - Very helpful for debugging\n",
    "- An optional second parameter can be set to `true` to force `print_r` to return a string rather than printing directly\n"
   ]
  },
  {
   "cell_type": "code",
   "execution_count": 1,
   "metadata": {
    "slideshow": {
     "slide_type": "slide"
    }
   },
   "outputs": [
    {
     "data": {
      "text/plain": [
       "Array\n",
       "\n"
      ]
     },
     "execution_count": 1,
     "metadata": {},
     "output_type": "execute_result"
    },
    {
     "data": {
      "text/plain": [
       "(\n",
       "\n"
      ]
     },
     "execution_count": 1,
     "metadata": {},
     "output_type": "execute_result"
    },
    {
     "data": {
      "text/plain": [
       " \n"
      ]
     },
     "execution_count": 1,
     "metadata": {},
     "output_type": "execute_result"
    },
    {
     "data": {
      "text/plain": [
       " \n"
      ]
     },
     "execution_count": 1,
     "metadata": {},
     "output_type": "execute_result"
    },
    {
     "data": {
      "text/plain": [
       " \n"
      ]
     },
     "execution_count": 1,
     "metadata": {},
     "output_type": "execute_result"
    },
    {
     "data": {
      "text/plain": [
       " \n"
      ]
     },
     "execution_count": 1,
     "metadata": {},
     "output_type": "execute_result"
    },
    {
     "data": {
      "text/plain": [
       "[\n"
      ]
     },
     "execution_count": 1,
     "metadata": {},
     "output_type": "execute_result"
    },
    {
     "data": {
      "text/plain": [
       "0\n"
      ]
     },
     "execution_count": 1,
     "metadata": {},
     "output_type": "execute_result"
    },
    {
     "data": {
      "text/plain": [
       "] => \n"
      ]
     },
     "execution_count": 1,
     "metadata": {},
     "output_type": "execute_result"
    },
    {
     "data": {
      "text/plain": [
       "John\n"
      ]
     },
     "execution_count": 1,
     "metadata": {},
     "output_type": "execute_result"
    },
    {
     "data": {
      "text/plain": [
       "\n",
       "\n"
      ]
     },
     "execution_count": 1,
     "metadata": {},
     "output_type": "execute_result"
    },
    {
     "data": {
      "text/plain": [
       " \n"
      ]
     },
     "execution_count": 1,
     "metadata": {},
     "output_type": "execute_result"
    },
    {
     "data": {
      "text/plain": [
       " \n"
      ]
     },
     "execution_count": 1,
     "metadata": {},
     "output_type": "execute_result"
    },
    {
     "data": {
      "text/plain": [
       " \n"
      ]
     },
     "execution_count": 1,
     "metadata": {},
     "output_type": "execute_result"
    },
    {
     "data": {
      "text/plain": [
       " \n"
      ]
     },
     "execution_count": 1,
     "metadata": {},
     "output_type": "execute_result"
    },
    {
     "data": {
      "text/plain": [
       "[\n"
      ]
     },
     "execution_count": 1,
     "metadata": {},
     "output_type": "execute_result"
    },
    {
     "data": {
      "text/plain": [
       "1\n"
      ]
     },
     "execution_count": 1,
     "metadata": {},
     "output_type": "execute_result"
    },
    {
     "data": {
      "text/plain": [
       "] => \n"
      ]
     },
     "execution_count": 1,
     "metadata": {},
     "output_type": "execute_result"
    },
    {
     "data": {
      "text/plain": [
       "Paul\n"
      ]
     },
     "execution_count": 1,
     "metadata": {},
     "output_type": "execute_result"
    },
    {
     "data": {
      "text/plain": [
       "\n",
       "\n"
      ]
     },
     "execution_count": 1,
     "metadata": {},
     "output_type": "execute_result"
    },
    {
     "data": {
      "text/plain": [
       " \n"
      ]
     },
     "execution_count": 1,
     "metadata": {},
     "output_type": "execute_result"
    },
    {
     "data": {
      "text/plain": [
       " \n"
      ]
     },
     "execution_count": 1,
     "metadata": {},
     "output_type": "execute_result"
    },
    {
     "data": {
      "text/plain": [
       " \n"
      ]
     },
     "execution_count": 1,
     "metadata": {},
     "output_type": "execute_result"
    },
    {
     "data": {
      "text/plain": [
       " \n"
      ]
     },
     "execution_count": 1,
     "metadata": {},
     "output_type": "execute_result"
    },
    {
     "data": {
      "text/plain": [
       "[\n"
      ]
     },
     "execution_count": 1,
     "metadata": {},
     "output_type": "execute_result"
    },
    {
     "data": {
      "text/plain": [
       "2\n"
      ]
     },
     "execution_count": 1,
     "metadata": {},
     "output_type": "execute_result"
    },
    {
     "data": {
      "text/plain": [
       "] => \n"
      ]
     },
     "execution_count": 1,
     "metadata": {},
     "output_type": "execute_result"
    },
    {
     "data": {
      "text/plain": [
       "George\n"
      ]
     },
     "execution_count": 1,
     "metadata": {},
     "output_type": "execute_result"
    },
    {
     "data": {
      "text/plain": [
       "\n",
       "\n"
      ]
     },
     "execution_count": 1,
     "metadata": {},
     "output_type": "execute_result"
    },
    {
     "data": {
      "text/plain": [
       " \n"
      ]
     },
     "execution_count": 1,
     "metadata": {},
     "output_type": "execute_result"
    },
    {
     "data": {
      "text/plain": [
       " \n"
      ]
     },
     "execution_count": 1,
     "metadata": {},
     "output_type": "execute_result"
    },
    {
     "data": {
      "text/plain": [
       " \n"
      ]
     },
     "execution_count": 1,
     "metadata": {},
     "output_type": "execute_result"
    },
    {
     "data": {
      "text/plain": [
       " \n"
      ]
     },
     "execution_count": 1,
     "metadata": {},
     "output_type": "execute_result"
    },
    {
     "data": {
      "text/plain": [
       "[\n"
      ]
     },
     "execution_count": 1,
     "metadata": {},
     "output_type": "execute_result"
    },
    {
     "data": {
      "text/plain": [
       "3\n"
      ]
     },
     "execution_count": 1,
     "metadata": {},
     "output_type": "execute_result"
    },
    {
     "data": {
      "text/plain": [
       "] => \n"
      ]
     },
     "execution_count": 1,
     "metadata": {},
     "output_type": "execute_result"
    },
    {
     "data": {
      "text/plain": [
       "Ringo\n"
      ]
     },
     "execution_count": 1,
     "metadata": {},
     "output_type": "execute_result"
    },
    {
     "data": {
      "text/plain": [
       "\n",
       "\n"
      ]
     },
     "execution_count": 1,
     "metadata": {},
     "output_type": "execute_result"
    },
    {
     "data": {
      "text/plain": [
       ")\n",
       "\n"
      ]
     },
     "execution_count": 1,
     "metadata": {},
     "output_type": "execute_result"
    },
    {
     "data": {
      "text/plain": [
       "true"
      ]
     },
     "execution_count": 1,
     "metadata": {},
     "output_type": "execute_result"
    }
   ],
   "source": [
    "print_r(explode(',', \"John,Paul,George,Ringo\"));"
   ]
  },
  {
   "cell_type": "code",
   "execution_count": 2,
   "metadata": {
    "slideshow": {
     "slide_type": "slide"
    }
   },
   "outputs": [
    {
     "data": {
      "text/plain": [
       "\"\"\"\n",
       "Array\\n\n",
       "(\\n\n",
       "    [0] => John\\n\n",
       "    [1] => Paul\\n\n",
       "    [2] => George\\n\n",
       "    [3] => Ringo\\n\n",
       ")\\n\n",
       "\"\"\""
      ]
     },
     "execution_count": 2,
     "metadata": {},
     "output_type": "execute_result"
    }
   ],
   "source": [
    "print_r(explode(',', \"John,Paul,George,Ringo\"),true);"
   ]
  },
  {
   "cell_type": "markdown",
   "metadata": {
    "slideshow": {
     "slide_type": "slide"
    }
   },
   "source": [
    "## Arrays\n",
    "- Arrays in PHP can either be \n",
    "    - associative\n",
    "    - indexed\n",
    "- Arrays are heterogeneous in PHP\n",
    "- Indexed using square brackets\n",
    "    - indexing starts at 0"
   ]
  },
  {
   "cell_type": "markdown",
   "metadata": {
    "slideshow": {
     "slide_type": "slide"
    }
   },
   "source": [
    "## Array Syntax\n",
    "- Arrays are created by calling the special `array` function\n",
    "- To initialize an indexed style array, pass the values separated by commas\n",
    "```php\n",
    "$an_array = array(1,2,3,\"Hello\")\n",
    "```\n",
    "- To intialize an associatve array, pass the key-value pairs separated by commas\n",
    "    - Key-value pairs are specified using the sytnax `key => value` \n",
    "    \n",
    "```php\n",
    "$assoc_array = array('course'=>'CMSC 433', 'title'=>'Scripting Languages');\n",
    "```"
   ]
  },
  {
   "cell_type": "code",
   "execution_count": 3,
   "metadata": {
    "slideshow": {
     "slide_type": "slide"
    }
   },
   "outputs": [
    {
     "data": {
      "text/plain": [
       "Array\n",
       "(\n",
       "    [course] => CMSC 433\n",
       "    [title] => Scripting Languages\n",
       "    [time] => 11.5\n",
       ")\n",
       "\n"
      ]
     },
     "execution_count": 3,
     "metadata": {},
     "output_type": "execute_result"
    }
   ],
   "source": [
    "$assoc_array = array('course'=>'CMSC 433',\n",
    "                     'title'=>'Scripting Languages',\n",
    "                     'time'=> 11.5);\n",
    "echo print_r($assoc_array,true);"
   ]
  },
  {
   "cell_type": "markdown",
   "metadata": {
    "slideshow": {
     "slide_type": "slide"
    }
   },
   "source": [
    "## Adding to an Array\n",
    "- To push a new element on the end of an array, assign the new element to the array indexed with empty square brackets\n",
    "```php\n",
    "$an_array[] = 5;\n",
    "```\n",
    "- To add a new element and a specific key, assign into the array indexed at that new key\n",
    "\n",
    "```php\n",
    "$an_array['new_key'] = 10;\n",
    "```\n",
    "- Either of these methods can be used with a previsouly undeclared variable to both create an array and insert one element into it"
   ]
  },
  {
   "cell_type": "code",
   "execution_count": 4,
   "metadata": {
    "slideshow": {
     "slide_type": "slide"
    }
   },
   "outputs": [
    {
     "data": {
      "text/plain": [
       "Array\n",
       "(\n",
       "    [0] => 0\n",
       "    [1] => 4\n",
       "    [2] => 6\n",
       "    [3] => 1\n",
       "    [4] => 4\n",
       "    [5] => 9\n",
       "    [6] => 0\n",
       "    [7] => 22\n",
       "    [8] => 100\n",
       ")\n",
       "\n"
      ]
     },
     "execution_count": 4,
     "metadata": {},
     "output_type": "execute_result"
    }
   ],
   "source": [
    "$some_numbers = array(0,4,6,1,4,9,0,22);\n",
    "$some_numbers[] = 100;\n",
    "echo print_r($some_numbers,true)"
   ]
  },
  {
   "cell_type": "code",
   "execution_count": 5,
   "metadata": {
    "slideshow": {
     "slide_type": "slide"
    }
   },
   "outputs": [
    {
     "data": {
      "text/plain": [
       "Array\n",
       "(\n",
       "    [A] => 65\n",
       "    [B] => 66\n",
       "    [a] => 97\n",
       "    [b] => 98\n",
       ")\n",
       "\n"
      ]
     },
     "execution_count": 5,
     "metadata": {},
     "output_type": "execute_result"
    }
   ],
   "source": [
    "$ascii = array('A' => 65, 'B' => 66, 'a' => 97);\n",
    "$ascii['b'] = 98;\n",
    "echo print_r($ascii,true);"
   ]
  },
  {
   "cell_type": "code",
   "execution_count": 6,
   "metadata": {
    "slideshow": {
     "slide_type": "slide"
    }
   },
   "outputs": [
    {
     "data": {
      "text/plain": [
       "Array\n",
       "(\n",
       "    [A] => 65\n",
       "    [B] => 66\n",
       "    [a] => 97\n",
       "    [0] => 98\n",
       ")\n",
       "\n"
      ]
     },
     "execution_count": 6,
     "metadata": {},
     "output_type": "execute_result"
    }
   ],
   "source": [
    "$ascii = array('A' => 65, 'B' => 66, 'a' => 97);\n",
    "$ascii[] = 98;\n",
    "echo print_r($ascii,true);"
   ]
  },
  {
   "cell_type": "markdown",
   "metadata": {
    "slideshow": {
     "slide_type": "slide"
    }
   },
   "source": [
    "## Array Functions\n",
    "- For a full list of array functions, see the [PHP manual](http://php.net/manual/en/ref.array.php)\n",
    "- Some example functions:\n",
    "    - range\n",
    "    - count\n",
    "    - list\n",
    "    - array_slice\n",
    "    - array_chunk"
   ]
  },
  {
   "cell_type": "markdown",
   "metadata": {
    "slideshow": {
     "slide_type": "slide"
    }
   },
   "source": [
    "## Array Functions\n",
    "- For a full list of array functions, see the [PHP manual](http://php.net/manual/en/ref.array.php)\n",
    "- Some example functions:\n",
    "    - array_key_exists\n",
    "    - in_array\n",
    "    - shuffle\n",
    "    - array_sum\n",
    "    - sort"
   ]
  },
  {
   "cell_type": "code",
   "execution_count": 7,
   "metadata": {
    "slideshow": {
     "slide_type": "slide"
    }
   },
   "outputs": [
    {
     "data": {
      "text/plain": [
       "Array\n",
       "(\n",
       "    [0] => 1\n",
       "    [1] => 2\n",
       "    [2] => 3\n",
       "    [3] => 4\n",
       "    [4] => 5\n",
       "    [5] => 6\n",
       "    [6] => 7\n",
       "    [7] => 8\n",
       "    [8] => 9\n",
       "    [9] => 10\n",
       ")\n",
       "\n"
      ]
     },
     "execution_count": 7,
     "metadata": {},
     "output_type": "execute_result"
    }
   ],
   "source": [
    "echo print_r(range(1,10) ,true);"
   ]
  },
  {
   "cell_type": "code",
   "execution_count": 8,
   "metadata": {
    "slideshow": {
     "slide_type": "slide"
    }
   },
   "outputs": [
    {
     "data": {
      "text/plain": [
       "\u001b[33;1mPHP Warning:  range() expects at least 2 parameters, 1 given in /opt/jupyter-php/pkgs/vendor/litipk/jupyter-php/src/Actions/ExecuteAction.php(115) : eval()'d code on line 2\u001b[39;22m"
      ]
     },
     "execution_count": 8,
     "metadata": {},
     "output_type": "execute_result"
    }
   ],
   "source": [
    "## Range in PHP must take two parameters!\n",
    "echo print_r(range(10),true);"
   ]
  },
  {
   "cell_type": "code",
   "execution_count": 9,
   "metadata": {
    "slideshow": {
     "slide_type": "slide"
    }
   },
   "outputs": [
    {
     "data": {
      "text/plain": [
       "Array\n",
       "(\n",
       "    [0] => 1\n",
       "    [1] => 5\n",
       "    [2] => 9\n",
       ")\n",
       "\n"
      ]
     },
     "execution_count": 9,
     "metadata": {},
     "output_type": "execute_result"
    }
   ],
   "source": [
    "echo print_r(range(1,10,4),true);"
   ]
  },
  {
   "cell_type": "code",
   "execution_count": 10,
   "metadata": {
    "slideshow": {
     "slide_type": "slide"
    }
   },
   "outputs": [
    {
     "data": {
      "text/plain": [
       "10"
      ]
     },
     "execution_count": 10,
     "metadata": {},
     "output_type": "execute_result"
    }
   ],
   "source": [
    "count(range(1,10));"
   ]
  },
  {
   "cell_type": "code",
   "execution_count": 11,
   "metadata": {
    "slideshow": {
     "slide_type": "slide"
    }
   },
   "outputs": [
    {
     "data": {
      "text/plain": [
       "coffee\n"
      ]
     },
     "execution_count": 11,
     "metadata": {},
     "output_type": "execute_result"
    },
    {
     "data": {
      "text/plain": [
       "brown\n"
      ]
     },
     "execution_count": 11,
     "metadata": {},
     "output_type": "execute_result"
    },
    {
     "data": {
      "text/plain": [
       "caffeine\n"
      ]
     },
     "execution_count": 11,
     "metadata": {},
     "output_type": "execute_result"
    }
   ],
   "source": [
    "$info = array('coffee', 'brown', 'caffeine');\n",
    "list($drink, $color, $power) = $info;\n",
    "echo $drink;\n",
    "echo $color;\n",
    "echo $power;"
   ]
  },
  {
   "cell_type": "code",
   "execution_count": 14,
   "metadata": {
    "slideshow": {
     "slide_type": "slide"
    }
   },
   "outputs": [
    {
     "data": {
      "text/plain": [
       "Array\n",
       "(\n",
       "    [0] => 4\n",
       "    [1] => 5\n",
       "    [2] => 6\n",
       "    [3] => 7\n",
       "    [4] => 8\n",
       "    [5] => 9\n",
       "    [6] => 10\n",
       ")\n",
       "\n"
      ]
     },
     "execution_count": 14,
     "metadata": {},
     "output_type": "execute_result"
    }
   ],
   "source": [
    "$my_range = range(1,10);\n",
    "echo print_r(array_slice($my_range,3,7),true);"
   ]
  },
  {
   "cell_type": "code",
   "execution_count": 16,
   "metadata": {
    "slideshow": {
     "slide_type": "slide"
    }
   },
   "outputs": [
    {
     "data": {
      "text/plain": [
       "Array\n",
       "(\n",
       "    [0] => 7\n",
       "    [1] => 8\n",
       "    [2] => 9\n",
       "    [3] => 10\n",
       ")\n",
       "\n"
      ]
     },
     "execution_count": 16,
     "metadata": {},
     "output_type": "execute_result"
    }
   ],
   "source": [
    "echo print_r(array_slice($my_range,-4,6),true);"
   ]
  },
  {
   "cell_type": "code",
   "execution_count": 17,
   "metadata": {
    "slideshow": {
     "slide_type": "slide"
    }
   },
   "outputs": [
    {
     "data": {
      "text/plain": [
       "Array\n",
       "(\n",
       "    [0] => Array\n",
       "        (\n",
       "            [0] => 1\n",
       "            [1] => 2\n",
       "        )\n",
       "\n",
       "    [1] => Array\n",
       "        (\n",
       "            [0] => 3\n",
       "            [1] => 4\n",
       "        )\n",
       "\n",
       "    [2] => Array\n",
       "        (\n",
       "            [0] => 5\n",
       "            [1] => 6\n",
       "        )\n",
       "\n",
       "    [3] => Array\n",
       "        (\n",
       "            [0] => 7\n",
       "            [1] => 8\n",
       "        )\n",
       "\n",
       "    [4] => Array\n",
       "        (\n",
       "            [0] => 9\n",
       "            [1] => 10\n",
       "        )\n",
       "\n",
       ")\n",
       "\n"
      ]
     },
     "execution_count": 17,
     "metadata": {},
     "output_type": "execute_result"
    }
   ],
   "source": [
    "echo print_r(array_chunk($my_range,2),true);"
   ]
  },
  {
   "cell_type": "code",
   "execution_count": 18,
   "metadata": {
    "slideshow": {
     "slide_type": "slide"
    }
   },
   "outputs": [
    {
     "data": {
      "text/plain": [
       "false"
      ]
     },
     "execution_count": 18,
     "metadata": {},
     "output_type": "execute_result"
    }
   ],
   "source": [
    "array_key_exists('Dog',range(0,10));"
   ]
  },
  {
   "cell_type": "code",
   "execution_count": 19,
   "metadata": {
    "slideshow": {
     "slide_type": "slide"
    }
   },
   "outputs": [
    {
     "data": {
      "text/plain": [
       "true"
      ]
     },
     "execution_count": 19,
     "metadata": {},
     "output_type": "execute_result"
    }
   ],
   "source": [
    "array_key_exists('Dog',array('Dog' => 40, 'Cat' => 20))"
   ]
  },
  {
   "cell_type": "code",
   "execution_count": 20,
   "metadata": {
    "slideshow": {
     "slide_type": "slide"
    }
   },
   "outputs": [
    {
     "data": {
      "text/plain": [
       "true"
      ]
     },
     "execution_count": 20,
     "metadata": {},
     "output_type": "execute_result"
    }
   ],
   "source": [
    "in_array(10,range(0,10));"
   ]
  },
  {
   "cell_type": "code",
   "execution_count": 21,
   "metadata": {
    "slideshow": {
     "slide_type": "slide"
    }
   },
   "outputs": [
    {
     "data": {
      "text/plain": [
       "false"
      ]
     },
     "execution_count": 21,
     "metadata": {},
     "output_type": "execute_result"
    }
   ],
   "source": [
    "in_array(10,range(0,5));"
   ]
  },
  {
   "cell_type": "code",
   "execution_count": 22,
   "metadata": {
    "slideshow": {
     "slide_type": "slide"
    }
   },
   "outputs": [
    {
     "data": {
      "text/plain": [
       "true"
      ]
     },
     "execution_count": 22,
     "metadata": {},
     "output_type": "execute_result"
    }
   ],
   "source": [
    "in_array(10,array('ten' => 10, 'twenty' => 20));"
   ]
  },
  {
   "cell_type": "code",
   "execution_count": 23,
   "metadata": {
    "slideshow": {
     "slide_type": "slide"
    }
   },
   "outputs": [
    {
     "data": {
      "text/plain": [
       "false"
      ]
     },
     "execution_count": 23,
     "metadata": {},
     "output_type": "execute_result"
    }
   ],
   "source": [
    "in_array(0,array('ten' => 10, 'twenty' => 20));"
   ]
  },
  {
   "cell_type": "code",
   "execution_count": 24,
   "metadata": {
    "slideshow": {
     "slide_type": "slide"
    }
   },
   "outputs": [
    {
     "data": {
      "text/plain": [
       "\u001b[33;1mPHP Notice:  Only variables should be passed by reference in /opt/jupyter-php/pkgs/vendor/litipk/jupyter-php/src/Actions/ExecuteAction.php(115) : eval()'d code on line 1\u001b[39;22m"
      ]
     },
     "execution_count": 24,
     "metadata": {},
     "output_type": "execute_result"
    }
   ],
   "source": [
    "shuffle(range(1,10));"
   ]
  },
  {
   "cell_type": "code",
   "execution_count": 25,
   "metadata": {
    "slideshow": {
     "slide_type": "slide"
    }
   },
   "outputs": [
    {
     "data": {
      "text/plain": [
       "Array\n",
       "(\n",
       "    [0] => 1\n",
       "    [1] => 10\n",
       "    [2] => 5\n",
       "    [3] => 4\n",
       "    [4] => 8\n",
       "    [5] => 2\n",
       "    [6] => 9\n",
       "    [7] => 7\n",
       "    [8] => 3\n",
       "    [9] => 6\n",
       ")\n",
       "\n"
      ]
     },
     "execution_count": 25,
     "metadata": {},
     "output_type": "execute_result"
    }
   ],
   "source": [
    "shuffle($my_range);\n",
    "echo print_r($my_range,true);"
   ]
  },
  {
   "cell_type": "code",
   "execution_count": 29,
   "metadata": {
    "slideshow": {
     "slide_type": "slide"
    }
   },
   "outputs": [
    {
     "data": {
      "text/plain": [
       "13.4"
      ]
     },
     "execution_count": 29,
     "metadata": {},
     "output_type": "execute_result"
    }
   ],
   "source": [
    "array_sum(array(1,2,3,\"5\",2.4));"
   ]
  },
  {
   "cell_type": "markdown",
   "metadata": {
    "slideshow": {
     "slide_type": "slide"
    }
   },
   "source": [
    "## Extract and Compact\n",
    "- `extract` and `compact` are two functions that allow you to convert from and to arrays respecitively\n",
    "- Rather than return anything, `extract` creates new variables with names based on the keys in the array\n",
    "- `compact` on the other hand takes a list of strings, and looks for variables with those names, creating an array out of them\n",
    "    - How would you write your own compact function?"
   ]
  },
  {
   "cell_type": "code",
   "execution_count": 34,
   "metadata": {
    "slideshow": {
     "slide_type": "slide"
    }
   },
   "outputs": [
    {
     "data": {
      "text/plain": [
       "Array\n",
       "(\n",
       "    [school] => UMBC\n",
       "    [department] => CSEE\n",
       "    [building] => ITE\n",
       ")\n",
       "\n"
      ]
     },
     "execution_count": 34,
     "metadata": {},
     "output_type": "execute_result"
    },
    {
     "data": {
      "text/plain": [
       "The CSEE department of UMBC is located in ITE\n"
      ]
     },
     "execution_count": 34,
     "metadata": {},
     "output_type": "execute_result"
    }
   ],
   "source": [
    "$info = array('school'=>'UMBC',\n",
    "              'department'=>'CSEE',\n",
    "              'building'=>'ITE');\n",
    "extract($info);\n",
    "echo print_r($info,true);\n",
    "echo \"The $department department of $school is located in $building\";"
   ]
  },
  {
   "cell_type": "code",
   "execution_count": 35,
   "metadata": {
    "slideshow": {
     "slide_type": "slide"
    }
   },
   "outputs": [
    {
     "data": {
      "text/plain": [
       "Array\n",
       "(\n",
       "    [name] => Raúl González Blanco\n",
       "    [position] => Forward\n",
       "    [nationality] => Spanish\n",
       ")\n",
       "\n"
      ]
     },
     "execution_count": 35,
     "metadata": {},
     "output_type": "execute_result"
    }
   ],
   "source": [
    "$name = 'Raúl González Blanco';\n",
    "$position = \"Forward\";\n",
    "$nationality = \"Spanish\";\n",
    "$player = compact('name','position','nationality');\n",
    "echo print_r($player,true);"
   ]
  },
  {
   "cell_type": "markdown",
   "metadata": {
    "slideshow": {
     "slide_type": "slide"
    }
   },
   "source": [
    "## Multi-Dimensional Arrays\n",
    "- Mutli-Dimensional arrays are fairly well supported in PHP\n",
    "    - You could make an array of arrays manually\n",
    "- Just like with a one-dimensional array, you can assign directly to mutliple indices with out ever declaring something as an array"
   ]
  },
  {
   "cell_type": "code",
   "execution_count": 41,
   "metadata": {
    "scrolled": true,
    "slideshow": {
     "slide_type": "slide"
    }
   },
   "outputs": [
    {
     "data": {
      "text/plain": [
       "Array\n",
       "(\n",
       "    [0] => Array\n",
       "        (\n",
       "            [0] => 10\n",
       "            [1] => 10\n",
       "            [2] => 10\n",
       "            [3] => 10\n",
       "        )\n",
       "\n",
       "    [1] => Array\n",
       "        (\n",
       "            [1] => 20\n",
       "            [Key] => 30\n",
       "            [2] => 3\n",
       "            [3] => 3\n",
       "            [4] => 3\n",
       "        )\n",
       "\n",
       "    [2] => Array\n",
       "        (\n",
       "            [0] => Array\n",
       "                (\n",
       "                    [0] => 40\n",
       "                )\n",
       "\n",
       "        )\n",
       "\n",
       "    [3] => Array\n",
       "        (\n",
       "            [0] => Array\n",
       "                (\n",
       "                    [0] => 40\n",
       "                )\n",
       "\n",
       "        )\n",
       "\n",
       ")\n",
       "\n"
      ]
     },
     "execution_count": 41,
     "metadata": {},
     "output_type": "execute_result"
    }
   ],
   "source": [
    "$matrix[0][] = 10;\n",
    "$matrix[1][1] = 20;\n",
    "$matrix[1]['Key'] = 30;\n",
    "$matrix[1][] = 3;\n",
    "$matrix[][][] = 40;\n",
    "#shift($matrix,10);\n",
    "echo print_r($matrix,true);"
   ]
  },
  {
   "cell_type": "markdown",
   "metadata": {
    "slideshow": {
     "slide_type": "slide"
    }
   },
   "source": [
    "## Loops\n",
    "- PHP has all the standard looping constructs\n",
    "    - While\n",
    "    - Do-While\n",
    "    - For\n",
    "- It also has a specific `foreach` construct\n",
    "```php\n",
    "foreach($array as $element){\n",
    "}\n",
    "```"
   ]
  },
  {
   "cell_type": "code",
   "execution_count": 42,
   "metadata": {
    "slideshow": {
     "slide_type": "slide"
    }
   },
   "outputs": [
    {
     "data": {
      "text/plain": [
       "10\n"
      ]
     },
     "execution_count": 42,
     "metadata": {},
     "output_type": "execute_result"
    },
    {
     "data": {
      "text/plain": [
       "9\n"
      ]
     },
     "execution_count": 42,
     "metadata": {},
     "output_type": "execute_result"
    },
    {
     "data": {
      "text/plain": [
       "8\n"
      ]
     },
     "execution_count": 42,
     "metadata": {},
     "output_type": "execute_result"
    },
    {
     "data": {
      "text/plain": [
       "7\n"
      ]
     },
     "execution_count": 42,
     "metadata": {},
     "output_type": "execute_result"
    },
    {
     "data": {
      "text/plain": [
       "6\n"
      ]
     },
     "execution_count": 42,
     "metadata": {},
     "output_type": "execute_result"
    },
    {
     "data": {
      "text/plain": [
       "5\n"
      ]
     },
     "execution_count": 42,
     "metadata": {},
     "output_type": "execute_result"
    },
    {
     "data": {
      "text/plain": [
       "4\n"
      ]
     },
     "execution_count": 42,
     "metadata": {},
     "output_type": "execute_result"
    },
    {
     "data": {
      "text/plain": [
       "3\n"
      ]
     },
     "execution_count": 42,
     "metadata": {},
     "output_type": "execute_result"
    },
    {
     "data": {
      "text/plain": [
       "2\n"
      ]
     },
     "execution_count": 42,
     "metadata": {},
     "output_type": "execute_result"
    },
    {
     "data": {
      "text/plain": [
       "1\n"
      ]
     },
     "execution_count": 42,
     "metadata": {},
     "output_type": "execute_result"
    }
   ],
   "source": [
    "$i = 10;\n",
    "while($i > 0)\n",
    "{\n",
    "    echo $i;\n",
    "    $i--;\n",
    "}"
   ]
  },
  {
   "cell_type": "code",
   "execution_count": 43,
   "metadata": {
    "slideshow": {
     "slide_type": "slide"
    }
   },
   "outputs": [
    {
     "data": {
      "text/plain": [
       "10\n"
      ]
     },
     "execution_count": 43,
     "metadata": {},
     "output_type": "execute_result"
    },
    {
     "data": {
      "text/plain": [
       "9\n"
      ]
     },
     "execution_count": 43,
     "metadata": {},
     "output_type": "execute_result"
    },
    {
     "data": {
      "text/plain": [
       "8\n"
      ]
     },
     "execution_count": 43,
     "metadata": {},
     "output_type": "execute_result"
    },
    {
     "data": {
      "text/plain": [
       "7\n"
      ]
     },
     "execution_count": 43,
     "metadata": {},
     "output_type": "execute_result"
    },
    {
     "data": {
      "text/plain": [
       "6\n"
      ]
     },
     "execution_count": 43,
     "metadata": {},
     "output_type": "execute_result"
    },
    {
     "data": {
      "text/plain": [
       "5\n"
      ]
     },
     "execution_count": 43,
     "metadata": {},
     "output_type": "execute_result"
    },
    {
     "data": {
      "text/plain": [
       "4\n"
      ]
     },
     "execution_count": 43,
     "metadata": {},
     "output_type": "execute_result"
    },
    {
     "data": {
      "text/plain": [
       "3\n"
      ]
     },
     "execution_count": 43,
     "metadata": {},
     "output_type": "execute_result"
    },
    {
     "data": {
      "text/plain": [
       "2\n"
      ]
     },
     "execution_count": 43,
     "metadata": {},
     "output_type": "execute_result"
    },
    {
     "data": {
      "text/plain": [
       "1\n"
      ]
     },
     "execution_count": 43,
     "metadata": {},
     "output_type": "execute_result"
    }
   ],
   "source": [
    "$i = 10;\n",
    "do\n",
    "{\n",
    "    echo $i;\n",
    "    $i--;\n",
    "}while($i > 0); #Note the Semicolon"
   ]
  },
  {
   "cell_type": "code",
   "execution_count": 44,
   "metadata": {
    "slideshow": {
     "slide_type": "slide"
    }
   },
   "outputs": [
    {
     "data": {
      "text/plain": [
       "0\n"
      ]
     },
     "execution_count": 44,
     "metadata": {},
     "output_type": "execute_result"
    },
    {
     "data": {
      "text/plain": [
       "1\n"
      ]
     },
     "execution_count": 44,
     "metadata": {},
     "output_type": "execute_result"
    },
    {
     "data": {
      "text/plain": [
       "2\n"
      ]
     },
     "execution_count": 44,
     "metadata": {},
     "output_type": "execute_result"
    },
    {
     "data": {
      "text/plain": [
       "3\n"
      ]
     },
     "execution_count": 44,
     "metadata": {},
     "output_type": "execute_result"
    },
    {
     "data": {
      "text/plain": [
       "4\n"
      ]
     },
     "execution_count": 44,
     "metadata": {},
     "output_type": "execute_result"
    },
    {
     "data": {
      "text/plain": [
       "5\n"
      ]
     },
     "execution_count": 44,
     "metadata": {},
     "output_type": "execute_result"
    },
    {
     "data": {
      "text/plain": [
       "6\n"
      ]
     },
     "execution_count": 44,
     "metadata": {},
     "output_type": "execute_result"
    },
    {
     "data": {
      "text/plain": [
       "7\n"
      ]
     },
     "execution_count": 44,
     "metadata": {},
     "output_type": "execute_result"
    },
    {
     "data": {
      "text/plain": [
       "8\n"
      ]
     },
     "execution_count": 44,
     "metadata": {},
     "output_type": "execute_result"
    },
    {
     "data": {
      "text/plain": [
       "9\n"
      ]
     },
     "execution_count": 44,
     "metadata": {},
     "output_type": "execute_result"
    }
   ],
   "source": [
    "for($i = 0; $i < 10; $i++){\n",
    "echo $i;\n",
    "}"
   ]
  },
  {
   "cell_type": "code",
   "execution_count": 45,
   "metadata": {
    "slideshow": {
     "slide_type": "slide"
    }
   },
   "outputs": [
    {
     "data": {
      "text/plain": [
       "a\n"
      ]
     },
     "execution_count": 45,
     "metadata": {},
     "output_type": "execute_result"
    },
    {
     "data": {
      "text/plain": [
       "b\n"
      ]
     },
     "execution_count": 45,
     "metadata": {},
     "output_type": "execute_result"
    },
    {
     "data": {
      "text/plain": [
       "c\n"
      ]
     },
     "execution_count": 45,
     "metadata": {},
     "output_type": "execute_result"
    },
    {
     "data": {
      "text/plain": [
       "d\n"
      ]
     },
     "execution_count": 45,
     "metadata": {},
     "output_type": "execute_result"
    },
    {
     "data": {
      "text/plain": [
       "e\n"
      ]
     },
     "execution_count": 45,
     "metadata": {},
     "output_type": "execute_result"
    }
   ],
   "source": [
    "$to_loop = array('a', 'b', 'c', 'd', 'e');\n",
    "foreach($to_loop as $el){\n",
    "echo $el;\n",
    "}"
   ]
  },
  {
   "cell_type": "code",
   "execution_count": 46,
   "metadata": {
    "slideshow": {
     "slide_type": "slide"
    }
   },
   "outputs": [
    {
     "data": {
      "text/plain": [
       "97\n"
      ]
     },
     "execution_count": 46,
     "metadata": {},
     "output_type": "execute_result"
    },
    {
     "data": {
      "text/plain": [
       "98\n"
      ]
     },
     "execution_count": 46,
     "metadata": {},
     "output_type": "execute_result"
    },
    {
     "data": {
      "text/plain": [
       "99\n"
      ]
     },
     "execution_count": 46,
     "metadata": {},
     "output_type": "execute_result"
    },
    {
     "data": {
      "text/plain": [
       "100\n"
      ]
     },
     "execution_count": 46,
     "metadata": {},
     "output_type": "execute_result"
    },
    {
     "data": {
      "text/plain": [
       "101\n"
      ]
     },
     "execution_count": 46,
     "metadata": {},
     "output_type": "execute_result"
    }
   ],
   "source": [
    "$to_loop = array('a'=>97, 'b'=>98, 'c'=>99, 'd'=>100, 'e'=>101);\n",
    "foreach($to_loop as $el){\n",
    "echo $el;\n",
    "}"
   ]
  },
  {
   "cell_type": "code",
   "execution_count": 51,
   "metadata": {
    "slideshow": {
     "slide_type": "slide"
    }
   },
   "outputs": [
    {
     "data": {
      "text/plain": [
       "a\n"
      ]
     },
     "execution_count": 51,
     "metadata": {},
     "output_type": "execute_result"
    },
    {
     "data": {
      "text/plain": [
       "97\n"
      ]
     },
     "execution_count": 51,
     "metadata": {},
     "output_type": "execute_result"
    },
    {
     "data": {
      "text/plain": [
       "b\n"
      ]
     },
     "execution_count": 51,
     "metadata": {},
     "output_type": "execute_result"
    },
    {
     "data": {
      "text/plain": [
       "98\n"
      ]
     },
     "execution_count": 51,
     "metadata": {},
     "output_type": "execute_result"
    },
    {
     "data": {
      "text/plain": [
       "c\n"
      ]
     },
     "execution_count": 51,
     "metadata": {},
     "output_type": "execute_result"
    },
    {
     "data": {
      "text/plain": [
       "99\n"
      ]
     },
     "execution_count": 51,
     "metadata": {},
     "output_type": "execute_result"
    },
    {
     "data": {
      "text/plain": [
       "d\n"
      ]
     },
     "execution_count": 51,
     "metadata": {},
     "output_type": "execute_result"
    },
    {
     "data": {
      "text/plain": [
       "100\n"
      ]
     },
     "execution_count": 51,
     "metadata": {},
     "output_type": "execute_result"
    },
    {
     "data": {
      "text/plain": [
       "e\n"
      ]
     },
     "execution_count": 51,
     "metadata": {},
     "output_type": "execute_result"
    },
    {
     "data": {
      "text/plain": [
       "101\n"
      ]
     },
     "execution_count": 51,
     "metadata": {},
     "output_type": "execute_result"
    }
   ],
   "source": [
    "$to_loop = array('a'=>97, 'b'=>98, 'c'=>99, 'd'=>100, 'e'=>101);\n",
    "foreach($to_loop as $k => $el){\n",
    "echo $k, $el;\n",
    "}"
   ]
  },
  {
   "cell_type": "markdown",
   "metadata": {
    "slideshow": {
     "slide_type": "slide"
    }
   },
   "source": [
    "## Function Definitions\n",
    "- Function in PHP are declared using the keyword `function`\n",
    "    - The parameters also use the `$` notation\n",
    "- Function definitions can appear anywhere in a file\n",
    "    - Must be defined before they are used\n",
    "- Support returning by reference"
   ]
  },
  {
   "cell_type": "code",
   "execution_count": 52,
   "metadata": {
    "slideshow": {
     "slide_type": "slide"
    }
   },
   "outputs": [
    {
     "data": {
      "text/plain": [
       "Hello from inside a function\n"
      ]
     },
     "execution_count": 52,
     "metadata": {},
     "output_type": "execute_result"
    },
    {
     "data": {
      "text/plain": [
       "Hello from inside a function\n"
      ]
     },
     "execution_count": 52,
     "metadata": {},
     "output_type": "execute_result"
    },
    {
     "data": {
      "text/plain": [
       "null"
      ]
     },
     "execution_count": 52,
     "metadata": {},
     "output_type": "execute_result"
    }
   ],
   "source": [
    "function my_first_function(){\n",
    "    echo \"Hello from inside a function\";\n",
    "}\n",
    "my_first_function();\n",
    "my_first_function();"
   ]
  },
  {
   "cell_type": "code",
   "execution_count": 1,
   "metadata": {
    "slideshow": {
     "slide_type": "slide"
    }
   },
   "outputs": [
    {
     "data": {
      "text/plain": [
       "2\n"
      ]
     },
     "execution_count": 1,
     "metadata": {},
     "output_type": "execute_result"
    },
    {
     "data": {
      "text/plain": [
       "null"
      ]
     },
     "execution_count": 1,
     "metadata": {},
     "output_type": "execute_result"
    }
   ],
   "source": [
    "function someMath($number1, $number2){\n",
    "    echo $number1 * $number2;\n",
    "}\n",
    "someMath(1,2);"
   ]
  },
  {
   "cell_type": "code",
   "execution_count": 2,
   "metadata": {
    "slideshow": {
     "slide_type": "slide"
    }
   },
   "outputs": [
    {
     "data": {
      "text/plain": [
       "2"
      ]
     },
     "execution_count": 2,
     "metadata": {},
     "output_type": "execute_result"
    }
   ],
   "source": [
    "function someMath2($number1, $number2){\n",
    "    return $number1 * $number2;\n",
    "}\n",
    "someMath2(1,2);"
   ]
  },
  {
   "cell_type": "markdown",
   "metadata": {
    "slideshow": {
     "slide_type": "slide"
    }
   },
   "source": [
    "## Scope Refresher\n",
    "- Remember in PHP scope is global, except in functions where it is local\n",
    "    - In functions, things in global scope aren't in scope either\n",
    "- We can modifiy the scope of a variable using two different keywords\n",
    "    - `global`\n",
    "    - `static`"
   ]
  },
  {
   "cell_type": "code",
   "execution_count": 55,
   "metadata": {
    "slideshow": {
     "slide_type": "slide"
    }
   },
   "outputs": [
    {
     "data": {
      "text/plain": [
       "a before scope_tester(): \n"
      ]
     },
     "execution_count": 55,
     "metadata": {},
     "output_type": "execute_result"
    },
    {
     "data": {
      "text/plain": [
       "Hello\n"
      ]
     },
     "execution_count": 55,
     "metadata": {},
     "output_type": "execute_result"
    },
    {
     "data": {
      "text/plain": [
       "\u001b[33;1mPHP Notice:  Undefined variable: a in /opt/jupyter-php/pkgs/vendor/litipk/jupyter-php/src/Actions/ExecuteAction.php(115) : eval()'d code on line 3\u001b[39;22m"
      ]
     },
     "execution_count": 55,
     "metadata": {},
     "output_type": "execute_result"
    }
   ],
   "source": [
    "function scope_tester() {\n",
    "        $a .= \" World!\";\n",
    "        echo \"a in scope_tester(): $a\";\n",
    "    }\n",
    "$a = \"Hello\";\n",
    "echo \"a before scope_tester(): \", $a;\n",
    "scope_tester();\n",
    "echo \"a after scope_tester(): \", $a;"
   ]
  },
  {
   "cell_type": "code",
   "execution_count": 3,
   "metadata": {
    "slideshow": {
     "slide_type": "slide"
    }
   },
   "outputs": [
    {
     "data": {
      "text/plain": [
       "a before scope_tester2(): \n"
      ]
     },
     "execution_count": 3,
     "metadata": {},
     "output_type": "execute_result"
    },
    {
     "data": {
      "text/plain": [
       "Hello\n"
      ]
     },
     "execution_count": 3,
     "metadata": {},
     "output_type": "execute_result"
    },
    {
     "data": {
      "text/plain": [
       "\u001b[33;1mPHP Notice:  Undefined variable: a in /home/bryan/.jupyter-php/pkgs/vendor/litipk/jupyter-php/src/Actions/ExecuteAction.php(115) : eval()'d code on line 3\u001b[39;22m"
      ]
     },
     "execution_count": 3,
     "metadata": {},
     "output_type": "execute_result"
    }
   ],
   "source": [
    "function scope_tester2() {\n",
    "        $a .= \" World!\";\n",
    "        echo \"a in scope_tester(): $a\";\n",
    "    }\n",
    "global $a;\n",
    "$a = \"Hello\";\n",
    "echo \"a before scope_tester2(): \", $a;\n",
    "scope_tester2();\n",
    "echo \"a after scope_tester2(): \", $a;"
   ]
  },
  {
   "cell_type": "code",
   "execution_count": 4,
   "metadata": {
    "slideshow": {
     "slide_type": "slide"
    }
   },
   "outputs": [
    {
     "data": {
      "text/plain": [
       "a before scope_tester3(): \n"
      ]
     },
     "execution_count": 4,
     "metadata": {},
     "output_type": "execute_result"
    },
    {
     "data": {
      "text/plain": [
       "Hello\n"
      ]
     },
     "execution_count": 4,
     "metadata": {},
     "output_type": "execute_result"
    },
    {
     "data": {
      "text/plain": [
       "a in scope_tester(): Hello World!\n"
      ]
     },
     "execution_count": 4,
     "metadata": {},
     "output_type": "execute_result"
    },
    {
     "data": {
      "text/plain": [
       "a after scope_tester3(): \n"
      ]
     },
     "execution_count": 4,
     "metadata": {},
     "output_type": "execute_result"
    },
    {
     "data": {
      "text/plain": [
       "Hello\n"
      ]
     },
     "execution_count": 4,
     "metadata": {},
     "output_type": "execute_result"
    }
   ],
   "source": [
    "function scope_tester3() {\n",
    "        global $a;\n",
    "        $a .= \" World!\";\n",
    "        echo \"a in scope_tester(): $a\";\n",
    "    }\n",
    "$a = \"Hello\";\n",
    "echo \"a before scope_tester3(): \", $a;\n",
    "scope_tester3();\n",
    "echo \"a after scope_tester3(): \", $a;"
   ]
  },
  {
   "cell_type": "code",
   "execution_count": 5,
   "metadata": {
    "slideshow": {
     "slide_type": "slide"
    }
   },
   "outputs": [
    {
     "data": {
      "text/plain": [
       "1\n"
      ]
     },
     "execution_count": 5,
     "metadata": {},
     "output_type": "execute_result"
    },
    {
     "data": {
      "text/plain": [
       "2\n"
      ]
     },
     "execution_count": 5,
     "metadata": {},
     "output_type": "execute_result"
    },
    {
     "data": {
      "text/plain": [
       "3\n"
      ]
     },
     "execution_count": 5,
     "metadata": {},
     "output_type": "execute_result"
    }
   ],
   "source": [
    "function counter() {\n",
    "        static $n = 0;\n",
    "        $n++;\n",
    "        return $n;\n",
    "    }\n",
    "echo counter();\n",
    "echo counter();\n",
    "echo counter();"
   ]
  },
  {
   "cell_type": "markdown",
   "metadata": {
    "slideshow": {
     "slide_type": "slide"
    }
   },
   "source": [
    "## Pass-by-Value and Pass-by-reference\n",
    "- By default PHP passes parameters by value\n",
    "    - Even arrays\n",
    "    - This is fine in most instances\n",
    "- If you want your function to modify a variable (like shuffle does), append an ampersand `&` before the variable in the definition\n",
    "    - Can't pass literals by reference"
   ]
  },
  {
   "cell_type": "code",
   "execution_count": 58,
   "metadata": {
    "slideshow": {
     "slide_type": "slide"
    }
   },
   "outputs": [
    {
     "data": {
      "text/plain": [
       "0\n"
      ]
     },
     "execution_count": 58,
     "metadata": {},
     "output_type": "execute_result"
    },
    {
     "data": {
      "text/plain": [
       "20\n"
      ]
     },
     "execution_count": 58,
     "metadata": {},
     "output_type": "execute_result"
    },
    {
     "data": {
      "text/plain": [
       "0\n"
      ]
     },
     "execution_count": 58,
     "metadata": {},
     "output_type": "execute_result"
    }
   ],
   "source": [
    "function change_array($arr){\n",
    "    $arr[0] = 20;\n",
    "    echo $arr[0];\n",
    "}\n",
    "$my_array = range(0,10);\n",
    "echo $my_array[0];\n",
    "change_array($my_array);\n",
    "echo $my_array[0];"
   ]
  },
  {
   "cell_type": "code",
   "execution_count": 59,
   "metadata": {
    "slideshow": {
     "slide_type": "slide"
    }
   },
   "outputs": [
    {
     "data": {
      "text/plain": [
       "0\n"
      ]
     },
     "execution_count": 59,
     "metadata": {},
     "output_type": "execute_result"
    },
    {
     "data": {
      "text/plain": [
       "20\n"
      ]
     },
     "execution_count": 59,
     "metadata": {},
     "output_type": "execute_result"
    },
    {
     "data": {
      "text/plain": [
       "20\n"
      ]
     },
     "execution_count": 59,
     "metadata": {},
     "output_type": "execute_result"
    }
   ],
   "source": [
    "function change_array_correct(&$arr){\n",
    "    $arr[0] = 20;\n",
    "    echo $arr[0];\n",
    "}\n",
    "$my_array = range(0,10);\n",
    "echo $my_array[0];\n",
    "change_array_correct($my_array);\n",
    "echo $my_array[0];"
   ]
  },
  {
   "cell_type": "code",
   "execution_count": 60,
   "metadata": {
    "slideshow": {
     "slide_type": "slide"
    }
   },
   "outputs": [
    {
     "data": {
      "text/plain": [
       "\u001b[33;1mPHP Notice:  Only variables should be passed by reference in /opt/jupyter-php/pkgs/vendor/litipk/jupyter-php/src/Actions/ExecuteAction.php(115) : eval()'d code on line 1\u001b[39;22m"
      ]
     },
     "execution_count": 60,
     "metadata": {},
     "output_type": "execute_result"
    }
   ],
   "source": [
    "change_array_correct(range(0,10));"
   ]
  },
  {
   "cell_type": "markdown",
   "metadata": {
    "slideshow": {
     "slide_type": "slide"
    }
   },
   "source": [
    "## Default Parameters\n",
    "- PHP allows default parameters, following the conventions of most languages that do so\n",
    "    - Optional parameters must appear after all non-optional parameters\n",
    "    - Parameters not pass will use their default value"
   ]
  },
  {
   "cell_type": "code",
   "execution_count": 61,
   "metadata": {
    "slideshow": {
     "slide_type": "slide"
    }
   },
   "outputs": [
    {
     "data": {
      "text/plain": [
       "Hello World!\n"
      ]
     },
     "execution_count": 61,
     "metadata": {},
     "output_type": "execute_result"
    },
    {
     "data": {
      "text/plain": [
       "Hello Class!\n"
      ]
     },
     "execution_count": 61,
     "metadata": {},
     "output_type": "execute_result"
    },
    {
     "data": {
      "text/plain": [
       "null"
      ]
     },
     "execution_count": 61,
     "metadata": {},
     "output_type": "execute_result"
    }
   ],
   "source": [
    "function say_hello($who = \"World\"){\n",
    "    echo \"Hello $who!\";\n",
    "}\n",
    "say_hello();\n",
    "say_hello(\"Class\");"
   ]
  },
  {
   "cell_type": "code",
   "execution_count": 8,
   "metadata": {
    "slideshow": {
     "slide_type": "slide"
    }
   },
   "outputs": [
    {
     "data": {
      "text/plain": [
       "Array\n",
       "(\n",
       "    [0] => 0\n",
       "    [1] => 1\n",
       "    [2] => 2\n",
       "    [3] => 3\n",
       "    [4] => 4\n",
       ")\n",
       "\n"
      ]
     },
     "execution_count": 8,
     "metadata": {},
     "output_type": "execute_result"
    },
    {
     "data": {
      "text/plain": [
       "Array\n",
       "(\n",
       "    [0] => 1\n",
       "    [1] => 2\n",
       "    [2] => 3\n",
       "    [3] => 4\n",
       ")\n",
       "\n"
      ]
     },
     "execution_count": 8,
     "metadata": {},
     "output_type": "execute_result"
    }
   ],
   "source": [
    "function custom_range($end, $start = 0){\n",
    "return range($start,$end);\n",
    "}\n",
    "echo print_r(custom_range(4),true);\n",
    "echo print_r(custom_range(4,1),true);"
   ]
  },
  {
   "cell_type": "markdown",
   "metadata": {
    "slideshow": {
     "slide_type": "slide"
    }
   },
   "source": [
    "## Return\n",
    "- Just as with parameters, PHP allows values to be returned by either copy or reference\n",
    "    - By default, values that are returned are copied\n",
    "- To return by reference, place an amperstand (`&`) before the function name in the declaration\n",
    "```php\n",
    "function &name(....)\n",
    "{\n",
    "}\n",
    "```"
   ]
  },
  {
   "cell_type": "code",
   "execution_count": 65,
   "metadata": {
    "slideshow": {
     "slide_type": "slide"
    }
   },
   "outputs": [
    {
     "data": {
      "text/plain": [
       "[\n",
       "  \"Fred\",\n",
       "  \"Barney\",\n",
       "  \"Wilma\",\n",
       "  \"Betty\",\n",
       "]"
      ]
     },
     "execution_count": 65,
     "metadata": {},
     "output_type": "execute_result"
    }
   ],
   "source": [
    "function getFredReturnByValue() {\n",
    "    global $names;\n",
    "    return $names[0];\n",
    "}\n",
    "\n",
    "function & getFredReturnByRef() {\n",
    "    global $names;\n",
    "    return $names[0];\n",
    "}\n",
    "\n",
    "$names = array(\"Fred\", \"Barney\", \"Wilma\", \"Betty\");"
   ]
  },
  {
   "cell_type": "code",
   "execution_count": 66,
   "metadata": {
    "slideshow": {
     "slide_type": "slide"
    }
   },
   "outputs": [],
   "source": [
    "$fred = getFredReturnByValue();\n",
    "echo $fred;\n",
    "$fred = 'Bam Bam';\n",
    "$fred = getFredReturnByValue();\n",
    "echo $fred;"
   ]
  },
  {
   "cell_type": "code",
   "execution_count": 67,
   "metadata": {
    "slideshow": {
     "slide_type": "slide"
    }
   },
   "outputs": [
    {
     "data": {
      "text/plain": [
       "Bam Bam\n"
      ]
     },
     "execution_count": 67,
     "metadata": {},
     "output_type": "execute_result"
    }
   ],
   "source": [
    "$fred =& getFredReturnByRef();\n",
    "echo $fred;\n",
    "$fred = 'Bam Bam';\n",
    "$fred =& getFredReturnByRef();\n",
    "echo $fred;"
   ]
  },
  {
   "cell_type": "markdown",
   "metadata": {
    "slideshow": {
     "slide_type": "slide"
    }
   },
   "source": [
    "## Varags\n",
    "- To use a variable number of arguments in PHP, don't change the function signature at all\n",
    "- Inside the function, call the function `func_get_args`\n",
    "    - This returns an array holding the additional arguments"
   ]
  },
  {
   "cell_type": "code",
   "execution_count": 9,
   "metadata": {
    "slideshow": {
     "slide_type": "slide"
    }
   },
   "outputs": [
    {
     "data": {
      "text/plain": [
       "300\n"
      ]
     },
     "execution_count": 9,
     "metadata": {},
     "output_type": "execute_result"
    }
   ],
   "source": [
    "function maximum() {\n",
    "    $args = func_get_args();\n",
    "    $max = $args[0];\n",
    "    for($i = 1, $n = count($args); $i < $n; $i++) {\n",
    "      $max = $args[$i] > $max ? $args[$i] : $max;\n",
    "    }\n",
    "    return $max;\n",
    "  }\n",
    "echo maximum(1,2,300,4,5,6);"
   ]
  },
  {
   "cell_type": "markdown",
   "metadata": {
    "slideshow": {
     "slide_type": "slide"
    }
   },
   "source": [
    "## Anonymous Functions\n",
    "- Since PHP 5.3, truly anoymous functions have been supported\n",
    "- To write one, provide the parameters directly after the `function` keyword\n",
    "    - This can be saved to a variable if you'd like, or passed directly to another function"
   ]
  },
  {
   "cell_type": "code",
   "execution_count": 70,
   "metadata": {
    "slideshow": {
     "slide_type": "slide"
    }
   },
   "outputs": [
    {
     "data": {
      "text/plain": [
       "2"
      ]
     },
     "execution_count": 70,
     "metadata": {},
     "output_type": "execute_result"
    }
   ],
   "source": [
    "$max = function($a,$b){\n",
    "    return ($a > $b)?$a:$b;\n",
    "}; #Note the semicolon\n",
    "$max(1,2);"
   ]
  },
  {
   "cell_type": "markdown",
   "metadata": {
    "slideshow": {
     "slide_type": "slide"
    }
   },
   "source": [
    "## Reading Files\n",
    "- PHP file reading can be done in a traditional manner using a file pointer\n",
    "    - `fopen(file_name)`\n",
    "- PHP also has numerous special functions meant to help with reading files\n",
    "    - `file_get_contents(name)`\n",
    "    - `file(name)`"
   ]
  },
  {
   "cell_type": "code",
   "execution_count": null,
   "metadata": {
    "slideshow": {
     "slide_type": "slide"
    }
   },
   "outputs": [],
   "source": [
    "if($fp = fopen('hello.sh','r')){\n",
    "    while($line = fgets($fp)){\n",
    "        echo htmlspecialchars($line);\n",
    "    }\n",
    "}else{\n",
    "    echo \"Can't read file\";\n",
    "}"
   ]
  },
  {
   "cell_type": "code",
   "execution_count": null,
   "metadata": {
    "slideshow": {
     "slide_type": "slide"
    }
   },
   "outputs": [],
   "source": [
    "htmlspecialchars(file_get_contents('hello.sh'));"
   ]
  },
  {
   "cell_type": "code",
   "execution_count": null,
   "metadata": {
    "slideshow": {
     "slide_type": "slide"
    }
   },
   "outputs": [],
   "source": [
    "$contents = file('hello.sh');\n",
    "echo print_r($contents,true);"
   ]
  },
  {
   "cell_type": "markdown",
   "metadata": {
    "slideshow": {
     "slide_type": "slide"
    }
   },
   "source": [
    "## Writing Files\n",
    "- Just as with reading files, PHP allows files to be written using \n",
    "    - The traditional file handle way\n",
    "    - A simplified function\n",
    "        - `file_put_contents` (Since PHP 5 on)"
   ]
  },
  {
   "cell_type": "code",
   "execution_count": null,
   "metadata": {
    "slideshow": {
     "slide_type": "slide"
    }
   },
   "outputs": [],
   "source": [
    "if($fp = fopen('hello.txt','w')){\n",
    "    fwrite($fp, \"Hello\");\n",
    "    fwrite($fp, \" World\\n\");\n",
    "    fwrite($fp, \"You need to include new lines explicitly\\n\");\n",
    "    fclose($fp); \n",
    "}else{\n",
    "    echo \"Can't open file\";\n",
    "}"
   ]
  },
  {
   "cell_type": "code",
   "execution_count": null,
   "metadata": {
    "slideshow": {
     "slide_type": "slide"
    }
   },
   "outputs": [],
   "source": [
    "if($fp = fopen('hello.txt','a')){\n",
    "    fwrite($fp, \"Hello\");\n",
    "    fwrite($fp, \" World\\n\");\n",
    "    fwrite($fp, \"You need to include new lines explicitly\\n\");\n",
    "    fclose($fp); \n",
    "}else{\n",
    "    echo \"Can't open file\";\n",
    "}"
   ]
  },
  {
   "cell_type": "code",
   "execution_count": null,
   "metadata": {
    "slideshow": {
     "slide_type": "slide"
    }
   },
   "outputs": [],
   "source": [
    "file_put_contents(\"hello.txt\",\"This\\nWrites\\nIt\\nAll at once!\")"
   ]
  },
  {
   "cell_type": "code",
   "execution_count": null,
   "metadata": {
    "slideshow": {
     "slide_type": "slide"
    }
   },
   "outputs": [],
   "source": [
    "file_put_contents(\"hello.txt\",\"This\\nWrites\\nIt\\nAll at once!\",FILE_APPEND)"
   ]
  },
  {
   "cell_type": "code",
   "execution_count": null,
   "metadata": {
    "slideshow": {
     "slide_type": "slide"
    }
   },
   "outputs": [],
   "source": [
    "file_put_contents(\"range.txt\",range(0,20));"
   ]
  },
  {
   "cell_type": "markdown",
   "metadata": {
    "slideshow": {
     "slide_type": "slide"
    }
   },
   "source": [
    "## Locking Files\n",
    "- In general, you should expect your PHP script to be running multiple copies of itself at once\n",
    "    - Lots of people are going to be on your website constantly\n",
    "- When you lock a file in PHP, it only prevents other PHP processes from accessing it"
   ]
  },
  {
   "cell_type": "code",
   "execution_count": null,
   "metadata": {
    "slideshow": {
     "slide_type": "slide"
    }
   },
   "outputs": [],
   "source": [
    "if($fp = fopen('hello.txt','a')){\n",
    "    if(flock($fp,LOCK_EX)){\n",
    "    fwrite($fp, \"Hello\");\n",
    "    fwrite($fp, \" World\\n\");\n",
    "    fwrite($fp, \"You need to include new lines explicitly\\n\");\n",
    "    flock($fp,LOCK_UN);\n",
    "    fclose($fp); }\n",
    "    else{\n",
    "     echo \"Couldn't get lock\";\n",
    "    }\n",
    "}else{\n",
    "    echo \"Can't open file\";\n",
    "}"
   ]
  },
  {
   "cell_type": "code",
   "execution_count": null,
   "metadata": {
    "slideshow": {
     "slide_type": "slide"
    }
   },
   "outputs": [],
   "source": [
    "file_put_contents(\"range.txt\",range(0,20),LOCK_EX);"
   ]
  },
  {
   "cell_type": "markdown",
   "metadata": {
    "slideshow": {
     "slide_type": "slide"
    }
   },
   "source": [
    "## Externalizing Code\n",
    "- To pull in code from another location, there are several functions PHP provides\n",
    "    - `include(file_name)` - Includes and evaluates the file\n",
    "    - `require(file_name)` - Includes and evaluates the file, killing the script if unable to do so\n",
    "    - `include_once(file_name)` - Only include and evaluate this file one time\n",
    "    - `require_once(file_name)` - Only require this file one time"
   ]
  },
  {
   "cell_type": "code",
   "execution_count": null,
   "metadata": {
    "slideshow": {
     "slide_type": "slide"
    }
   },
   "outputs": [],
   "source": [
    "include 'header.php'; #same as include('header.php')"
   ]
  },
  {
   "cell_type": "code",
   "execution_count": null,
   "metadata": {},
   "outputs": [],
   "source": [
    "include 'I dont exist';"
   ]
  },
  {
   "cell_type": "code",
   "execution_count": null,
   "metadata": {},
   "outputs": [],
   "source": [
    "require 'I dont exist';"
   ]
  },
  {
   "cell_type": "code",
   "execution_count": null,
   "metadata": {},
   "outputs": [],
   "source": [
    "include_once 'header.php';\n",
    "include_once 'header.php';"
   ]
  }
 ],
 "metadata": {
  "celltoolbar": "Slideshow",
  "kernelspec": {
   "display_name": "PHP",
   "language": "php",
   "name": "jupyter-php"
  },
  "language_info": {
   "file_extension": ".php",
   "mimetype": "text/x-php",
   "name": "PHP",
   "pygments_lexer": "PHP",
   "version": "7.1.15-0ubuntu0.17.10.1"
  }
 },
 "nbformat": 4,
 "nbformat_minor": 2
}

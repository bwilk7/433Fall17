{
 "cells": [
  {
   "cell_type": "markdown",
   "metadata": {},
   "source": [
    "# PHP II"
   ]
  },
  {
   "cell_type": "markdown",
   "metadata": {},
   "source": [
    "## `print_r`\n",
    "- `print_r` is a function that recursively prints any object passed to it\n",
    "    - It is specifically designed to produce output that is readable by humans\n",
    "    - Very helpful for debugging\n",
    "- An optional second parameter can be set to `true` to force `print_r` to return a string rather than printing directly\n"
   ]
  },
  {
   "cell_type": "code",
   "execution_count": null,
   "metadata": {},
   "outputs": [],
   "source": [
    "print_r(explode(',', \"John,Paul,George,Ringo\"));"
   ]
  },
  {
   "cell_type": "code",
   "execution_count": null,
   "metadata": {},
   "outputs": [],
   "source": [
    "print_r(explode(',', \"John,Paul,George,Ringo\"),true);"
   ]
  },
  {
   "cell_type": "markdown",
   "metadata": {},
   "source": [
    "## Arrays\n",
    "- Arrays in PHP can either be \n",
    "    - associative\n",
    "    - indexed\n",
    "- Arrays are heterogeneous in PHP\n",
    "- Indexed using square brackets\n",
    "    -indexing starts at 0"
   ]
  },
  {
   "cell_type": "markdown",
   "metadata": {},
   "source": [
    "## Array Syntax\n",
    "- Arrays are created by calling the special `array` function\n",
    "- To initialize an indexed style array, pass the values separated by commas\n",
    "```php\n",
    "$an_array = array(1,2,3,\"Hello\")\n",
    "```\n",
    "- To intialize an associatve array, pass the key-value pairs separated by commas\n",
    "    - Key-value pairs are specified using the sytnax `key => value` \n",
    "    \n",
    "```php\n",
    "$assoc_array = array('course'=>'CMSC 433', 'title'=>'Scripting Languages');\n",
    "```"
   ]
  },
  {
   "cell_type": "code",
   "execution_count": null,
   "metadata": {},
   "outputs": [],
   "source": [
    "$assoc_array = array('course'=>'CMSC 433', 'title'=>'Scripting Languages');\n",
    "echo print_r($assoc_array,true);"
   ]
  },
  {
   "cell_type": "markdown",
   "metadata": {},
   "source": [
    "## Adding to an Array\n",
    "- To push a new element on the end of an array, assign the new element to the array indexed with empty square brackets\n",
    "```php\n",
    "$an_array[] = 5;\n",
    "```\n",
    "- To add a new element and a specific key, assign into the array indexed at that new key\n",
    "```php\n",
    "$an_array['new_key'] = 10;\n",
    "```\n",
    "- Either of these methods can be used with a previsouly undeclared variable to both create an array and insert one element into it"
   ]
  },
  {
   "cell_type": "code",
   "execution_count": null,
   "metadata": {},
   "outputs": [],
   "source": [
    "$some_numbers = array(0,4,6,1,4,9,0,22);\n",
    "$some_numbers[] = 100;\n",
    "echo print_r($some_numbers,true)"
   ]
  },
  {
   "cell_type": "code",
   "execution_count": null,
   "metadata": {},
   "outputs": [],
   "source": [
    "$ascii = array('A' => 65, 'B' => 66, 'a' => 97);\n",
    "$ascii['b'] = 98;\n",
    "echo print_r($ascii,true);"
   ]
  },
  {
   "cell_type": "code",
   "execution_count": null,
   "metadata": {},
   "outputs": [],
   "source": [
    "$ascii = array('A' => 65, 'B' => 66, 'a' => 97);\n",
    "$ascii[] = 98;\n",
    "echo print_r($ascii,true);"
   ]
  },
  {
   "cell_type": "markdown",
   "metadata": {},
   "source": [
    "## Array Functions\n",
    "- For a full list of array functions, see the [PHP manual](http://php.net/manual/en/ref.array.php)\n",
    "- Some example functions:\n",
    "    - range\n",
    "    - count\n",
    "    - list\n",
    "    - array_slice\n",
    "    - array_chunk"
   ]
  },
  {
   "cell_type": "markdown",
   "metadata": {},
   "source": [
    "## Array Functions\n",
    "- For a full list of array functions, see the [PHP manual](http://php.net/manual/en/ref.array.php)\n",
    "- Some example functions:\n",
    "    - array_key_exists\n",
    "    - in_array\n",
    "    - shuffle\n",
    "    - array_sum\n",
    "    - sort"
   ]
  },
  {
   "cell_type": "code",
   "execution_count": null,
   "metadata": {},
   "outputs": [],
   "source": [
    "echo print_r(range(1,10),true);"
   ]
  },
  {
   "cell_type": "code",
   "execution_count": null,
   "metadata": {},
   "outputs": [],
   "source": [
    "## Range in PHP must take two parameters!\n",
    "echo print_r(range(10),true);"
   ]
  },
  {
   "cell_type": "code",
   "execution_count": null,
   "metadata": {},
   "outputs": [],
   "source": [
    "echo print_r(range(1,10,4),true);"
   ]
  },
  {
   "cell_type": "code",
   "execution_count": null,
   "metadata": {},
   "outputs": [],
   "source": [
    "count(range(1,10));"
   ]
  },
  {
   "cell_type": "code",
   "execution_count": null,
   "metadata": {},
   "outputs": [],
   "source": [
    "$info = array('coffee', 'brown', 'caffeine');\n",
    "list($drink, $color, $power) = $info;\n",
    "echo $drink;\n",
    "echo $color;\n",
    "echo $power;"
   ]
  },
  {
   "cell_type": "code",
   "execution_count": null,
   "metadata": {},
   "outputs": [],
   "source": [
    "$my_range = range(1,10);\n",
    "echo print_r(array_slice($my_range,3,7),true);"
   ]
  },
  {
   "cell_type": "code",
   "execution_count": null,
   "metadata": {},
   "outputs": [],
   "source": [
    "echo print_r(array_slice($my_range,-4,2),true);"
   ]
  },
  {
   "cell_type": "code",
   "execution_count": null,
   "metadata": {},
   "outputs": [],
   "source": [
    "echo print_r(array_chunk($my_range,2),true);"
   ]
  },
  {
   "cell_type": "code",
   "execution_count": null,
   "metadata": {},
   "outputs": [],
   "source": [
    "array_key_exists('Dog',range(0,10));"
   ]
  },
  {
   "cell_type": "code",
   "execution_count": null,
   "metadata": {},
   "outputs": [],
   "source": [
    "array_key_exists('Dog',array('Dog' => 40, 'Cat' => 20))"
   ]
  },
  {
   "cell_type": "code",
   "execution_count": null,
   "metadata": {},
   "outputs": [],
   "source": [
    "in_array(10,range(0,10));"
   ]
  },
  {
   "cell_type": "code",
   "execution_count": null,
   "metadata": {},
   "outputs": [],
   "source": [
    "in_array(10,range(0,5));"
   ]
  },
  {
   "cell_type": "code",
   "execution_count": null,
   "metadata": {},
   "outputs": [],
   "source": [
    "in_array(10,array('ten' => 10, 'twenty' => 20));"
   ]
  },
  {
   "cell_type": "code",
   "execution_count": null,
   "metadata": {},
   "outputs": [],
   "source": [
    "in_array(0,array('ten' => 10, 'twenty' => 20));"
   ]
  },
  {
   "cell_type": "code",
   "execution_count": null,
   "metadata": {},
   "outputs": [],
   "source": [
    "shuffle(range(1,10));"
   ]
  },
  {
   "cell_type": "code",
   "execution_count": null,
   "metadata": {},
   "outputs": [],
   "source": [
    "shuffle($my_range);\n",
    "echo print_r($my_range,true);"
   ]
  },
  {
   "cell_type": "code",
   "execution_count": null,
   "metadata": {},
   "outputs": [],
   "source": [
    "array_sum($my_range);"
   ]
  },
  {
   "cell_type": "code",
   "execution_count": null,
   "metadata": {},
   "outputs": [],
   "source": [
    "\n",
    "    sort\n"
   ]
  },
  {
   "cell_type": "markdown",
   "metadata": {},
   "source": [
    "## Extract and Compact\n",
    "- `extract` and `compact` are two functions that allow you to convert from and to arrays respecitively\n",
    "- Rather than return anything, `extract` creates new variables with names based on the keys in the array\n",
    "- `compact` on the other hand takes a list of strings, and looks for variables with those names, creating an array out of them\n",
    "    - How would you write your own compact function?"
   ]
  },
  {
   "cell_type": "code",
   "execution_count": null,
   "metadata": {},
   "outputs": [],
   "source": [
    "$info = array('school'=>'UMBC','department'=>'CSEE','building'=>'ITE');\n",
    "extract($info);\n",
    "echo print_r($info,true);\n",
    "echo \"The $department department of $school is located in $building\";"
   ]
  },
  {
   "cell_type": "code",
   "execution_count": null,
   "metadata": {},
   "outputs": [],
   "source": [
    "$name = 'Raúl González Blanco';\n",
    "$position = \"Forward\";\n",
    "$nationality = \"Spanish\";\n",
    "$player = compact('name','position','nationality');\n",
    "echo print_r($player,true);"
   ]
  },
  {
   "cell_type": "markdown",
   "metadata": {},
   "source": [
    "## Multi-Dimensional Arrays\n",
    "- Mutli-Dimensional arrays are fairly well supported in PHP\n",
    "    - You could make an array of arrays manually\n",
    "- Just like with a one-dimensional array, you can assign directly to mutlipleindices with out ever declaring something as an array"
   ]
  },
  {
   "cell_type": "code",
   "execution_count": null,
   "metadata": {
    "scrolled": true
   },
   "outputs": [],
   "source": [
    "$matrix[0][] = 10;\n",
    "$matrix[1][1] = 20;\n",
    "$matrix[1]['Key'] = 30;\n",
    "echo print_r($matrix,true);"
   ]
  },
  {
   "cell_type": "markdown",
   "metadata": {},
   "source": [
    "## Loops\n",
    "- PHP has all the standard looping constructs\n",
    "    - While\n",
    "    - Do-While\n",
    "    - For\n",
    "- It also has a specific `foreach` construct\n",
    "```php\n",
    "foreach($array as $element){\n",
    "}\n",
    "```"
   ]
  },
  {
   "cell_type": "code",
   "execution_count": null,
   "metadata": {},
   "outputs": [],
   "source": [
    "$i = 10;\n",
    "while($i > 0)\n",
    "{\n",
    "    echo $i;\n",
    "    $i--;\n",
    "}"
   ]
  },
  {
   "cell_type": "code",
   "execution_count": null,
   "metadata": {},
   "outputs": [],
   "source": [
    "$i = 10;\n",
    "do\n",
    "{\n",
    "    echo $i;\n",
    "    $i--;\n",
    "}while($i > 0); #Note the Semicolon"
   ]
  },
  {
   "cell_type": "code",
   "execution_count": null,
   "metadata": {},
   "outputs": [],
   "source": [
    "for($i = 0; $i < 10; $i++){\n",
    "echo $i;\n",
    "}"
   ]
  },
  {
   "cell_type": "code",
   "execution_count": null,
   "metadata": {},
   "outputs": [],
   "source": [
    "$to_loop = array('a', 'b', 'c', 'd', 'e');\n",
    "foreach($to_loop as $el){\n",
    "echo $el;\n",
    "}"
   ]
  },
  {
   "cell_type": "code",
   "execution_count": null,
   "metadata": {},
   "outputs": [],
   "source": [
    "$to_loop = array('a'=>97, 'b'=>98, 'c'=>99, 'd'=>100, 'e'=>101);\n",
    "foreach($to_loop as $el){\n",
    "echo $el;\n",
    "}"
   ]
  },
  {
   "cell_type": "code",
   "execution_count": null,
   "metadata": {},
   "outputs": [],
   "source": [
    "$to_loop = array('a'=>97, 'b'=>98, 'c'=>99, 'd'=>100, 'e'=>101);\n",
    "foreach($to_loop as $k => $el){\n",
    "echo $k, $el;\n",
    "}"
   ]
  },
  {
   "cell_type": "markdown",
   "metadata": {},
   "source": [
    "## Function Definitions\n",
    "- Function in PHP are declared using the keyword `function`\n",
    "    - The parameters also use the `$` notation\n",
    "- Function definitions can appear anywhere in a file\n",
    "    - Must be defined before they are used\n",
    "- Support returning by reference"
   ]
  },
  {
   "cell_type": "code",
   "execution_count": null,
   "metadata": {},
   "outputs": [],
   "source": [
    "function my_first_function(){\n",
    "    echo \"Hello from inside a function\";\n",
    "}\n",
    "my_first_function();\n",
    "my_first_function();"
   ]
  },
  {
   "cell_type": "code",
   "execution_count": null,
   "metadata": {},
   "outputs": [],
   "source": [
    "function someMath($number1, $number2){\n",
    "    echo $number1 * $number2;\n",
    "}\n",
    "someMath(1,2);"
   ]
  },
  {
   "cell_type": "code",
   "execution_count": null,
   "metadata": {},
   "outputs": [],
   "source": [
    "function someMath2($number1, $number2){\n",
    "    return $number1 * $number2;\n",
    "}\n",
    "someMath2(1,2);"
   ]
  },
  {
   "cell_type": "markdown",
   "metadata": {},
   "source": [
    "## Scope Refresher\n",
    "- Remember in PHP scope is global, except in functions where it is local\n",
    "    - In functions, things in global scope aren't in scope either\n",
    "- We can modifiy the scope of a variable using two different keywords\n",
    "    - `global`\n",
    "    - `static`"
   ]
  },
  {
   "cell_type": "code",
   "execution_count": null,
   "metadata": {},
   "outputs": [],
   "source": [
    "function scope_tester() {\n",
    "        $a .= \" World!\";\n",
    "        echo \"a in scope_tester(): $a\";\n",
    "    }\n",
    "$a = \"Hello\";\n",
    "echo \"a before scope_tester(): \", $a;\n",
    "scope_tester();\n",
    "echo \"a after scope_tester(): \", $a;"
   ]
  },
  {
   "cell_type": "code",
   "execution_count": null,
   "metadata": {},
   "outputs": [],
   "source": [
    "function scope_tester2() {\n",
    "        $a .= \" World!\";\n",
    "        echo \"a in scope_tester(): $a\";\n",
    "    }\n",
    "global $a;\n",
    "$a = \"Hello\";\n",
    "echo \"a before scope_tester2(): \", $a;\n",
    "scope_tester2();\n",
    "echo \"a after scope_tester2(): \", $a;"
   ]
  },
  {
   "cell_type": "code",
   "execution_count": null,
   "metadata": {},
   "outputs": [],
   "source": [
    "function scope_tester3() {\n",
    "        global $a;\n",
    "        $a .= \" World!\";\n",
    "        echo \"a in scope_tester(): $a\";\n",
    "    }\n",
    "$a = \"Hello\";\n",
    "echo \"a before scope_tester3(): \", $a;\n",
    "scope_tester3();\n",
    "echo \"a after scope_tester3(): \", $a;"
   ]
  },
  {
   "cell_type": "code",
   "execution_count": null,
   "metadata": {},
   "outputs": [],
   "source": [
    "function counter() {\n",
    "        static $n = 0;\n",
    "        $n++;\n",
    "        return $n;\n",
    "    }\n",
    "echo counter();\n",
    "echo counter();\n",
    "echo counter();"
   ]
  },
  {
   "cell_type": "markdown",
   "metadata": {},
   "source": [
    "## Pass-by-Value and Pass-by-reference\n",
    "- By default PHP passes parameters by value\n",
    "    - Even arrays\n",
    "    - This is fine in most instances\n",
    "- If you want your function to modify a variable (like shuffle does), append an ampersand `&` before the variable in the definition\n",
    "    - Can't pass literals by reference"
   ]
  },
  {
   "cell_type": "code",
   "execution_count": null,
   "metadata": {},
   "outputs": [],
   "source": [
    "function change_array($arr){\n",
    "    $arr[0] = 20;\n",
    "    echo $arr[0];\n",
    "}\n",
    "$my_array = range(0,10);\n",
    "echo $my_array[0];\n",
    "change_array($my_array);\n",
    "echo $my_array[0];"
   ]
  },
  {
   "cell_type": "code",
   "execution_count": null,
   "metadata": {},
   "outputs": [],
   "source": [
    "function change_array_correct(&$arr){\n",
    "    $arr[0] = 20;\n",
    "    echo $arr[0];\n",
    "}\n",
    "$my_array = range(0,10);\n",
    "echo $my_array[0];\n",
    "change_array_correct($my_array);\n",
    "echo $my_array[0];"
   ]
  },
  {
   "cell_type": "code",
   "execution_count": null,
   "metadata": {},
   "outputs": [],
   "source": [
    "change_array_correct(range(0,10));"
   ]
  },
  {
   "cell_type": "markdown",
   "metadata": {},
   "source": [
    "## Default Parameters\n",
    "- PHP allows default parameters, following the conventions of most languages that do so\n",
    "    - Optional parameters must appear after all non-optional parameters\n",
    "    - Parameters not pass will use their default value"
   ]
  },
  {
   "cell_type": "code",
   "execution_count": null,
   "metadata": {},
   "outputs": [],
   "source": [
    "function say_hello($who = \"World\"){\n",
    "    echo \"Hello $who!\";\n",
    "}\n",
    "say_hello();\n",
    "say_hello(\"Class\");"
   ]
  },
  {
   "cell_type": "code",
   "execution_count": null,
   "metadata": {},
   "outputs": [],
   "source": [
    "function custom_range($end, $start = 0){\n",
    "return range($start,$end);\n",
    "}\n",
    "echo print_r(custom_range(10),true);\n",
    "echo print_r(custom_range(10,1),true);"
   ]
  },
  {
   "cell_type": "markdown",
   "metadata": {},
   "source": [
    "## Return\n",
    "- Just as with parameters, PHP allows values to be returned by either copy or reference\n",
    "    - By default, values that are returned are copied\n",
    "- To return by reference, place an amperstand (`&`) before the function name in the declaration\n",
    "```php\n",
    "function &name(....)\n",
    "{\n",
    "}\n",
    "```"
   ]
  },
  {
   "cell_type": "code",
   "execution_count": null,
   "metadata": {},
   "outputs": [],
   "source": [
    "function getFredReturnByValue() {\n",
    "    global $names;\n",
    "    return $names[0];\n",
    "}\n",
    "\n",
    "function & getFredReturnByRef() {\n",
    "    global $names;\n",
    "    return $names[0];\n",
    "}\n",
    "\n",
    "$names = array(\"Fred\", \"Barney\", \"Wilma\", \"Betty\");"
   ]
  },
  {
   "cell_type": "code",
   "execution_count": null,
   "metadata": {},
   "outputs": [],
   "source": [
    "$fred = getFredReturnByValue();\n",
    "echo $fred;\n",
    "$fred = 'Bam Bam';\n",
    "$fred = getFredReturnByValue();\n",
    "echo $fred;\n"
   ]
  },
  {
   "cell_type": "code",
   "execution_count": null,
   "metadata": {},
   "outputs": [],
   "source": [
    "$fred =& getFredReturnByRef();\n",
    "echo $fred;\n",
    "$fred = 'Bam Bam';\n",
    "$fred =& getFredReturnByRef();\n",
    "echo $fred;"
   ]
  },
  {
   "cell_type": "markdown",
   "metadata": {},
   "source": [
    "## Varags\n",
    "- To use a variable number of arguments in PHP, don't change the function signature at all\n",
    "- Inside the function, call the function `func_get_args`\n",
    "    - This returns an array holding the additional arguments"
   ]
  },
  {
   "cell_type": "code",
   "execution_count": null,
   "metadata": {},
   "outputs": [],
   "source": [
    "function maximum() {\n",
    "    $args = func_get_args();\n",
    "    $max = $args[0];\n",
    "    for($i = 1, $n = count($args); $i < $n; $i++) {\n",
    "      $max = $args[$i] > $max ? $args[$i] : $max;\n",
    "    }\n",
    "    return $max;\n",
    "  }\n",
    "echo maximum(1,2,3,4,5,6);"
   ]
  },
  {
   "cell_type": "markdown",
   "metadata": {},
   "source": [
    "## Anonymous Functions\n",
    "- Since PHP 5.3, truly anoymous functions have been supported\n",
    "- To write one, provide the parameters directly after the `function` keyword\n",
    "    - This can be saved to a variable if you'd like, or passed directly to another function"
   ]
  },
  {
   "cell_type": "code",
   "execution_count": null,
   "metadata": {},
   "outputs": [],
   "source": [
    "$max = function($a,$b){\n",
    "    return ($a > $b)?$a:$b;\n",
    "}; #Note the semicolon\n",
    "$max(1,2);"
   ]
  },
  {
   "cell_type": "markdown",
   "metadata": {},
   "source": [
    "## Reading Files\n",
    "- PHP file reading can be done in a traditional manner using a file pointer\n",
    "    - `fopen(file_name)`\n",
    "- PHP also has numerous special functions meant to help with reading files\n",
    "    - `file_get_contents(name)`\n",
    "    - `file(name)`"
   ]
  },
  {
   "cell_type": "code",
   "execution_count": null,
   "metadata": {},
   "outputs": [],
   "source": [
    "if($fp = fopen('hello.sh','r')){\n",
    "    while($line = fgets($fp)){\n",
    "        echo htmlspecialchars($line);\n",
    "    }\n",
    "}else{\n",
    "    echo \"Can't read file\";\n",
    "}"
   ]
  },
  {
   "cell_type": "code",
   "execution_count": null,
   "metadata": {},
   "outputs": [],
   "source": [
    "htmlspecialchars(file_get_contents('hello.sh'));"
   ]
  },
  {
   "cell_type": "code",
   "execution_count": null,
   "metadata": {},
   "outputs": [],
   "source": [
    "$contents = file('hello.sh');\n",
    "echo print_r($contents,true);"
   ]
  },
  {
   "cell_type": "markdown",
   "metadata": {},
   "source": [
    "## Writing Files\n",
    "- Just as with reading files, PHP allows files to be written using \n",
    "    - The traditional file handle way\n",
    "    - A simplified function\n",
    "        - `file_put_contents` (Since PHP 5 on)"
   ]
  },
  {
   "cell_type": "code",
   "execution_count": null,
   "metadata": {},
   "outputs": [],
   "source": [
    "if($fp = fopen('hello.txt','w')){\n",
    "    fwrite($fp, \"Hello\");\n",
    "    fwrite($fp, \" World\\n\");\n",
    "    fwrite($fp, \"You need to include new lines explicitly\\n\");\n",
    "    fclose($fp); \n",
    "}else{\n",
    "    echo \"Can't open file\";\n",
    "}"
   ]
  },
  {
   "cell_type": "code",
   "execution_count": null,
   "metadata": {},
   "outputs": [],
   "source": [
    "if($fp = fopen('hello.txt','a')){\n",
    "    fwrite($fp, \"Hello\");\n",
    "    fwrite($fp, \" World\\n\");\n",
    "    fwrite($fp, \"You need to include new lines explicitly\\n\");\n",
    "    fclose($fp); \n",
    "}else{\n",
    "    echo \"Can't open file\";\n",
    "}"
   ]
  },
  {
   "cell_type": "code",
   "execution_count": null,
   "metadata": {},
   "outputs": [],
   "source": [
    "file_put_contents(\"hello.txt\",\"This\\nWrites\\nIt\\nAll at once!\")"
   ]
  },
  {
   "cell_type": "code",
   "execution_count": null,
   "metadata": {},
   "outputs": [],
   "source": [
    "file_put_contents(\"hello.txt\",\"This\\nWrites\\nIt\\nAll at once!\",FILE_APPEND)"
   ]
  },
  {
   "cell_type": "code",
   "execution_count": null,
   "metadata": {},
   "outputs": [],
   "source": [
    "file_put_contents(\"range.txt\",range(0,20));"
   ]
  },
  {
   "cell_type": "markdown",
   "metadata": {},
   "source": [
    "## Locking Files\n",
    "- In general, you should expect your PHP script to be running multiple copies of itself at once\n",
    "    - Lots of people are going to be on your website constantly\n",
    "- When you lock a file in PHP, it only prevents other PHP processes from accessing it"
   ]
  },
  {
   "cell_type": "code",
   "execution_count": null,
   "metadata": {},
   "outputs": [],
   "source": [
    "if($fp = fopen('hello.txt','a')){\n",
    "    if(flock($fp,LOCK_EX)){\n",
    "    fwrite($fp, \"Hello\");\n",
    "    fwrite($fp, \" World\\n\");\n",
    "    fwrite($fp, \"You need to include new lines explicitly\\n\");\n",
    "    flock($fp,LOCK_UN);\n",
    "    fclose($fp); }\n",
    "    else{\n",
    "     echo \"Couldn't get lock\";\n",
    "    }\n",
    "}else{\n",
    "    echo \"Can't open file\";\n",
    "}"
   ]
  },
  {
   "cell_type": "code",
   "execution_count": null,
   "metadata": {},
   "outputs": [],
   "source": [
    "file_put_contents(\"range.txt\",range(0,20),LOCK_EX);"
   ]
  },
  {
   "cell_type": "markdown",
   "metadata": {},
   "source": [
    "## Externalizing Code\n",
    "- To pull in code from another location, there are several functions PHP provides\n",
    "    - `include(file_name)` - Includes and evaluates the file\n",
    "    - `require(file_name)` - Includes and evaluates the file, killing the script if unable to do so\n",
    "    - `include_once(file_name)` - Only include and evaluate this file one time\n",
    "    - `require_once(file_name)` - Only require this file one time"
   ]
  },
  {
   "cell_type": "code",
   "execution_count": null,
   "metadata": {},
   "outputs": [],
   "source": [
    "include 'header.php'; #same as include('header.php')"
   ]
  },
  {
   "cell_type": "code",
   "execution_count": null,
   "metadata": {},
   "outputs": [],
   "source": [
    "include 'I dont exist';"
   ]
  },
  {
   "cell_type": "code",
   "execution_count": null,
   "metadata": {},
   "outputs": [],
   "source": [
    "require 'I dont exist';"
   ]
  },
  {
   "cell_type": "code",
   "execution_count": null,
   "metadata": {},
   "outputs": [],
   "source": [
    "include_once 'header.php';\n",
    "include_once 'header.php';"
   ]
  }
 ],
 "metadata": {
  "kernelspec": {
   "display_name": "PHP",
   "language": "php",
   "name": "jupyter-php"
  },
  "language_info": {
   "file_extension": ".php",
   "mimetype": "text/x-php",
   "name": "PHP",
   "pygments_lexer": "PHP",
   "version": "7.0.22-0ubuntu0.16.04.1"
  }
 },
 "nbformat": 4,
 "nbformat_minor": 2
}

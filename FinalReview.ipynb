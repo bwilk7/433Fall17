{
 "cells": [
  {
   "cell_type": "markdown",
   "metadata": {
    "slideshow": {
     "slide_type": "slide"
    }
   },
   "source": [
    "## Final Review"
   ]
  },
  {
   "cell_type": "markdown",
   "metadata": {
    "slideshow": {
     "slide_type": "slide"
    }
   },
   "source": [
    "## Disclamer\n",
    "- This review is an attempt to highlight the major parts of the semester\n",
    "- Something being on this review does not garuntee it will be on the test\n",
    "- Something not being on this review does not mean it will not be on the test"
   ]
  },
  {
   "cell_type": "markdown",
   "metadata": {
    "slideshow": {
     "slide_type": "slide"
    }
   },
   "source": [
    "## Introduction\n",
    "- What is a scripting language\n",
    "    - How is it different than a compiled language\n",
    "- What are some common uses for scripting languages"
   ]
  },
  {
   "cell_type": "markdown",
   "metadata": {
    "slideshow": {
     "slide_type": "slide"
    }
   },
   "source": [
    "## Regular Expressions\n",
    "- What are they\n",
    "    - What are some uses of them?\n",
    "- What is the syntax?\n",
    "    - Character Class Symbols (`\\w`, `\\W`, etc.)\n",
    "    - Dot character `.`\n",
    "    - Quantifiers (`?`, `*`, `+`, `{n}`, `{n,}` , `{n,m}`)\n",
    "        - Greedy and non-greedy\n",
    "    - Anchors (`^`, `$`, `\\b`, `\\B`)"
   ]
  },
  {
   "cell_type": "code",
   "execution_count": 1,
   "metadata": {
    "slideshow": {
     "slide_type": "slide"
    }
   },
   "outputs": [
    {
     "name": "stdout",
     "output_type": "stream",
     "text": [
      "a b c\n"
     ]
    }
   ],
   "source": [
    "%%perl\n",
    "use feature qw(say);\n",
    "$string = \"a b c\" ;\n",
    "say $string if $string=~ /\\w+/;"
   ]
  },
  {
   "cell_type": "code",
   "execution_count": 2,
   "metadata": {
    "slideshow": {
     "slide_type": "slide"
    }
   },
   "outputs": [
    {
     "name": "stdout",
     "output_type": "stream",
     "text": [
      ",.\n"
     ]
    }
   ],
   "source": [
    "%%perl\n",
    "use feature qw(say);\n",
    "$string = \"abc\" ;\n",
    "say $string if $string=~ /\\W+/;\n",
    "$string = \",.\" ;\n",
    "say $string if $string=~ /\\W+/;"
   ]
  },
  {
   "cell_type": "code",
   "execution_count": 3,
   "metadata": {
    "slideshow": {
     "slide_type": "slide"
    }
   },
   "outputs": [
    {
     "name": "stdout",
     "output_type": "stream",
     "text": [
      "abba\n"
     ]
    }
   ],
   "source": [
    "%%perl\n",
    "use feature qw(say);\n",
    "$string = \"abba\" ;\n",
    "say $string if $string=~ /^a.+a$/;\n",
    "$string = \"aa\" ;\n",
    "say $string if $string=~ /^a.+a$/;"
   ]
  },
  {
   "cell_type": "markdown",
   "metadata": {
    "slideshow": {
     "slide_type": "slide"
    }
   },
   "source": [
    "## Regular Expressions\n",
    "- Syntax Continued\n",
    "    - Grouping `()`\n",
    "    - Capture References `\\1`\n",
    "    - Pattern Modifiers `i,g`\n",
    "    - Custom Character classes `[]`\n",
    "    - Alternation `|`"
   ]
  },
  {
   "cell_type": "code",
   "execution_count": 4,
   "metadata": {
    "slideshow": {
     "slide_type": "slide"
    }
   },
   "outputs": [
    {
     "name": "stdout",
     "output_type": "stream",
     "text": [
      "abba\n"
     ]
    }
   ],
   "source": [
    "%%perl\n",
    "use feature qw(say);\n",
    "$string = \"abba\" ;\n",
    "say $string if $string =~ /(\\w)(\\w)\\2\\1/"
   ]
  },
  {
   "cell_type": "code",
   "execution_count": 5,
   "metadata": {
    "slideshow": {
     "slide_type": "slide"
    }
   },
   "outputs": [
    {
     "name": "stdout",
     "output_type": "stream",
     "text": [
      "ABBA\n"
     ]
    }
   ],
   "source": [
    "%%perl\n",
    "use feature qw(say);\n",
    "$string = \"ABBA\" ;\n",
    "say $string if $string =~ /(a)(b)\\2\\1/i"
   ]
  },
  {
   "cell_type": "code",
   "execution_count": 6,
   "metadata": {
    "slideshow": {
     "slide_type": "slide"
    }
   },
   "outputs": [
    {
     "name": "stdout",
     "output_type": "stream",
     "text": [
      "10 GB\n"
     ]
    }
   ],
   "source": [
    "%%perl\n",
    "use feature qw(say);\n",
    "$string = \"10 GB\";\n",
    "say $string if $string =~ /\\d+ [GKMT]B/"
   ]
  },
  {
   "cell_type": "code",
   "execution_count": 7,
   "metadata": {
    "slideshow": {
     "slide_type": "slide"
    }
   },
   "outputs": [
    {
     "name": "stdout",
     "output_type": "stream",
     "text": [
      "10 PB\n"
     ]
    }
   ],
   "source": [
    "%%perl\n",
    "use feature qw(say);\n",
    "$string = \"10 PB\";\n",
    "say $string if $string =~ /\\d+ [^GKMT]B/"
   ]
  },
  {
   "cell_type": "markdown",
   "metadata": {
    "slideshow": {
     "slide_type": "slide"
    }
   },
   "source": [
    "## Regular Expressions\n",
    "- Subsitution\n",
    "    - Substitution in PERL `s///`\n",
    "    - Replacing Text\n",
    "    - Using Capture Buffers (`$1` in replacement)\n",
    "- What is PCRE, how is this useful in other languages?"
   ]
  },
  {
   "cell_type": "code",
   "execution_count": 9,
   "metadata": {
    "slideshow": {
     "slide_type": "slide"
    }
   },
   "outputs": [
    {
     "name": "stdout",
     "output_type": "stream",
     "text": [
      "Hello World! World!\n"
     ]
    }
   ],
   "source": [
    "%%perl\n",
    "use feature qw(say);\n",
    "$string = \"Hello Class! Class!\";\n",
    "$string =~ s/Class!/World!/g;\n",
    "say $string;"
   ]
  },
  {
   "cell_type": "code",
   "execution_count": 10,
   "metadata": {
    "slideshow": {
     "slide_type": "slide"
    }
   },
   "outputs": [
    {
     "name": "stdout",
     "output_type": "stream",
     "text": [
      "(410) 455-1000\n"
     ]
    }
   ],
   "source": [
    "%%perl\n",
    "use feature qw(say);\n",
    "$string = \"410-455-1000\";\n",
    "$string =~ s/(\\d\\d\\d)-(\\d\\d\\d-\\d\\d\\d\\d)/($1) $2/;\n",
    "say $string;"
   ]
  },
  {
   "cell_type": "markdown",
   "metadata": {
    "slideshow": {
     "slide_type": "slide"
    }
   },
   "source": [
    "## Shells\n",
    "- What is a shell?\n",
    "- What are some basic unix commands?\n",
    "    - What is the philosphy behind having so many commands?\n",
    "- Shell script basics\n",
    "    - Shebang line\n",
    "    - Comments\n",
    "    - Executing Them"
   ]
  },
  {
   "cell_type": "code",
   "execution_count": 11,
   "metadata": {
    "slideshow": {
     "slide_type": "slide"
    }
   },
   "outputs": [
    {
     "name": "stdout",
     "output_type": "stream",
     "text": [
      "A\n",
      "S\n",
      "D\n",
      "F\n",
      "G\n",
      "H\n",
      "J\n",
      "K\n",
      "L\n",
      "\n",
      "\n",
      "A\n",
      "D\n",
      "F\n",
      "G\n",
      "H\n",
      "J\n",
      "K\n",
      "L\n",
      "S\n"
     ]
    }
   ],
   "source": [
    "%%bash\n",
    "cat to_sort1.txt\n",
    "sort to_sort1.txt"
   ]
  },
  {
   "cell_type": "code",
   "execution_count": 12,
   "metadata": {
    "slideshow": {
     "slide_type": "slide"
    }
   },
   "outputs": [
    {
     "name": "stdout",
     "output_type": "stream",
     "text": [
      "A\n",
      "S\n",
      "L\n",
      "\n"
     ]
    }
   ],
   "source": [
    "%%bash\n",
    "head -n2 to_sort1.txt\n",
    "tail -n2 to_sort1.txt"
   ]
  },
  {
   "cell_type": "markdown",
   "metadata": {
    "slideshow": {
     "slide_type": "slide"
    }
   },
   "source": [
    "## Shell Variables\n",
    "- Declaring Variables (no space between =)\n",
    "    - Arrays\n",
    "- Reference Variables\n",
    "- Interpolation\n",
    "- Command Line Arguments\n",
    "- Globbing"
   ]
  },
  {
   "cell_type": "code",
   "execution_count": 13,
   "metadata": {
    "slideshow": {
     "slide_type": "slide"
    }
   },
   "outputs": [
    {
     "name": "stdout",
     "output_type": "stream",
     "text": [
      "10 A String\n"
     ]
    }
   ],
   "source": [
    "%%bash\n",
    "var=10\n",
    "str=\"A String\"\n",
    "echo $var $str "
   ]
  },
  {
   "cell_type": "code",
   "execution_count": 14,
   "metadata": {
    "slideshow": {
     "slide_type": "slide"
    }
   },
   "outputs": [
    {
     "name": "stdout",
     "output_type": "stream",
     "text": [
      "10 10\n",
      "10 20 30 40 50\n"
     ]
    }
   ],
   "source": [
    "%%bash\n",
    "arr=(10 20 30 40 50)\n",
    "echo $arr ${arr[0]} \n",
    "echo ${arr[@]}"
   ]
  },
  {
   "cell_type": "code",
   "execution_count": 15,
   "metadata": {
    "slideshow": {
     "slide_type": "slide"
    }
   },
   "outputs": [
    {
     "name": "stdout",
     "output_type": "stream",
     "text": [
      "I am interpolating the ending.\n"
     ]
    }
   ],
   "source": [
    "%%bash\n",
    "end=\"the end\"\n",
    "echo \"I am interpolating ${end}ing.\""
   ]
  },
  {
   "cell_type": "markdown",
   "metadata": {
    "slideshow": {
     "slide_type": "slide"
    }
   },
   "source": [
    "## Streams\n",
    "- Redirection\n",
    "- Pipes\n",
    "- Here Docs\n",
    "- Process Substitution `<(command)` Syntax"
   ]
  },
  {
   "cell_type": "code",
   "execution_count": 16,
   "metadata": {
    "slideshow": {
     "slide_type": "slide"
    }
   },
   "outputs": [
    {
     "name": "stdout",
     "output_type": "stream",
     "text": [
      "-rw-rw-r-- 1 bryan bryan  43K Dec 12 11:24 FinalReview.ipynb\n",
      "-rw-rw-r-- 1 bryan bryan 990K Aug 31 15:15 Lecture00.ipynb\n",
      "-rw-rw-r-- 1 bryan bryan  85K Sep  5 15:31 Lecture01.ipynb\n",
      "-rw-rw-r-- 1 bryan bryan  61K Sep  7 12:22 Lecture02.ipynb\n",
      "-rw-rw-r-- 1 bryan bryan  38K Sep 14 14:27 Lecture04.ipynb\n",
      "-rw-rw-r-- 1 bryan bryan  47K Sep 19 12:48 Lecture05.ipynb\n",
      "-rw-rw-r-- 1 bryan bryan  34K Sep 21 14:25 Lecture06.ipynb\n",
      "-rw-rw-r-- 1 bryan bryan 323K Sep 26 12:27 Lecture07.ipynb\n",
      "-rw-rw-r-- 1 bryan bryan  98K Sep 28 11:54 Lecture08.ipynb\n",
      "-rw-rw-r-- 1 bryan bryan 158K Oct  3 14:21 Lecture09.ipynb\n"
     ]
    }
   ],
   "source": [
    "%%bash\n",
    "ls -lh *.ipynb > ls.txt\n",
    "head ls.txt"
   ]
  },
  {
   "cell_type": "code",
   "execution_count": 17,
   "metadata": {
    "slideshow": {
     "slide_type": "slide"
    }
   },
   "outputs": [
    {
     "name": "stdout",
     "output_type": "stream",
     "text": [
      "FinalReview.ipynb\n",
      "Lecture00.ipynb\n",
      "Lecture01.ipynb\n",
      "Lecture02.ipynb\n",
      "Lecture04.ipynb\n",
      "Lecture05.ipynb\n",
      "Lecture06.ipynb\n",
      "Lecture07.ipynb\n",
      "Lecture08.ipynb\n",
      "Lecture09.ipynb\n"
     ]
    }
   ],
   "source": [
    "%%bash\n",
    "ls *.ipynb | sort | head "
   ]
  },
  {
   "cell_type": "markdown",
   "metadata": {
    "slideshow": {
     "slide_type": "slide"
    }
   },
   "source": [
    "## Control Structures\n",
    "- If statements\n",
    "    - `if then else fi`\n",
    "    - Using `[[ ]]` or `[ ]`\n",
    "    - Basic tests (`-eq`, `-ne`,`=`,`!=`, etc.)\n",
    "- Switch Statement\n",
    "     - `case pattern) ;; esac`"
   ]
  },
  {
   "cell_type": "code",
   "execution_count": 19,
   "metadata": {
    "slideshow": {
     "slide_type": "slide"
    }
   },
   "outputs": [
    {
     "name": "stdout",
     "output_type": "stream",
     "text": [
      "YAY\n"
     ]
    }
   ],
   "source": [
    "%%bash\n",
    "a=10\n",
    "if [[ $a -gt 5 ]]; then\n",
    "    echo \"YAY\"\n",
    "else\n",
    "    echo \"NAY\"\n",
    "fi"
   ]
  },
  {
   "cell_type": "code",
   "execution_count": 20,
   "metadata": {
    "slideshow": {
     "slide_type": "slide"
    }
   },
   "outputs": [
    {
     "name": "stdout",
     "output_type": "stream",
     "text": [
      "Contains He\n"
     ]
    }
   ],
   "source": [
    "%%bash\n",
    "b=\"Hello\"\n",
    "case $b in\n",
    "    *a)\n",
    "        echo \"Ends with an A\"\n",
    "        ;;\n",
    "    He*)\n",
    "        echo \"Contains He\"\n",
    "        ;;\n",
    "    *)\n",
    "        echo \"Default\"\n",
    "        ;;\n",
    "esac"
   ]
  },
  {
   "cell_type": "markdown",
   "metadata": {
    "slideshow": {
     "slide_type": "slide"
    }
   },
   "source": [
    "## Looping\n",
    "- Count Style For Loops\n",
    "    - `for ((x = S; x < N; x++)); do ... done`\n",
    "- For-each style\n",
    "    ` for f in *.html`\n",
    "    - Brace Expansion"
   ]
  },
  {
   "cell_type": "code",
   "execution_count": 21,
   "metadata": {
    "slideshow": {
     "slide_type": "slide"
    }
   },
   "outputs": [
    {
     "name": "stdout",
     "output_type": "stream",
     "text": [
      "10\n",
      "11\n",
      "12\n",
      "13\n",
      "14\n",
      "15\n",
      "16\n",
      "17\n",
      "18\n",
      "19\n"
     ]
    }
   ],
   "source": [
    "%%bash\n",
    "for ((x = 10; x < 20; x++)); do\n",
    "    echo $x\n",
    "done"
   ]
  },
  {
   "cell_type": "code",
   "execution_count": 32,
   "metadata": {
    "slideshow": {
     "slide_type": "slide"
    }
   },
   "outputs": [
    {
     "name": "stdout",
     "output_type": "stream",
     "text": [
      "12464 Lecture20.html\n",
      "14339 Lecture21.html\n",
      "15769 Lecture22.html\n",
      "12974 Lecture23.html\n",
      "17100 Lecture24.html\n",
      "14081 Lecture25.html\n",
      "15081 Lecture26.html\n",
      "13539 Lecture27.html\n"
     ]
    },
    {
     "name": "stderr",
     "output_type": "stream",
     "text": [
      "wc: '*28.html': No such file or directory\n",
      "wc: '*29.html': No such file or directory\n"
     ]
    }
   ],
   "source": [
    "%%bash\n",
    "for f in *2{0..9}.html; do\n",
    "    wc -l \"$f\" \n",
    "done"
   ]
  },
  {
   "cell_type": "markdown",
   "metadata": {
    "slideshow": {
     "slide_type": "slide"
    }
   },
   "source": [
    "## Looping\n",
    "- While Loop\n",
    "```bash\n",
    "while CONDITION; do\n",
    "  #CODE_HERE\n",
    "done\n",
    "```"
   ]
  },
  {
   "cell_type": "markdown",
   "metadata": {
    "slideshow": {
     "slide_type": "slide"
    }
   },
   "source": [
    "## I/O\n",
    "- User input using `read`\n",
    "- Reading a file using `read` and `while`\n",
    "- `echo` and `printf`\n",
    "- Sourcing a file using `.`"
   ]
  },
  {
   "cell_type": "code",
   "execution_count": 33,
   "metadata": {
    "slideshow": {
     "slide_type": "slide"
    }
   },
   "outputs": [
    {
     "name": "stdout",
     "output_type": "stream",
     "text": [
      "A\n",
      "S\n",
      "D\n",
      "F\n",
      "G\n",
      "H\n",
      "J\n",
      "K\n",
      "L\n",
      "\n"
     ]
    }
   ],
   "source": [
    "%%bash\n",
    "while read line; do\n",
    "    echo $line\n",
    "done < to_sort1.txt"
   ]
  },
  {
   "cell_type": "markdown",
   "metadata": {
    "slideshow": {
     "slide_type": "slide"
    }
   },
   "source": [
    "## Process Management\n",
    "- Foreground vs Background Process\n",
    "    - How to change/set status\n",
    "- Subshells\n",
    "- Killing Processes\n",
    "- Command Substitution\n",
    "    - `$( )`"
   ]
  },
  {
   "cell_type": "code",
   "execution_count": 35,
   "metadata": {
    "slideshow": {
     "slide_type": "slide"
    }
   },
   "outputs": [
    {
     "name": "stdout",
     "output_type": "stream",
     "text": [
      "Here is some info  2111  4801 43865 FinalReview.ipynb.\n"
     ]
    }
   ],
   "source": [
    "%%bash\n",
    "result=$(wc FinalReview.ipynb)\n",
    "echo \"Here is some info ${result}.\""
   ]
  },
  {
   "cell_type": "markdown",
   "metadata": {
    "slideshow": {
     "slide_type": "slide"
    }
   },
   "source": [
    "## Math\n",
    "- `(( ))` Syntax\n",
    "    - Don't escape variables inside \n",
    "- `$(( ))` to save results\n",
    "- Can't do floating point without external program"
   ]
  },
  {
   "cell_type": "code",
   "execution_count": 39,
   "metadata": {
    "slideshow": {
     "slide_type": "slide"
    }
   },
   "outputs": [
    {
     "name": "stdout",
     "output_type": "stream",
     "text": [
      "3\n"
     ]
    }
   ],
   "source": [
    "%%bash\n",
    "x=0\n",
    "#((x=0))\n",
    "((x++))\n",
    "echo $((x + 2))"
   ]
  },
  {
   "cell_type": "markdown",
   "metadata": {
    "slideshow": {
     "slide_type": "slide"
    }
   },
   "source": [
    "## Grep/Sed/Awk\n",
    "- What they are used for\n",
    "- Basic use of grep\n",
    "    - Using Perl style Regexes\n",
    "    - How to count number of matches"
   ]
  },
  {
   "cell_type": "code",
   "execution_count": 42,
   "metadata": {
    "slideshow": {
     "slide_type": "slide"
    }
   },
   "outputs": [
    {
     "name": "stdout",
     "output_type": "stream",
     "text": [
      "Abilene_Christian_University.flat.html:1\n",
      "Abilene_Christian_University.html:5\n",
      "FinalReview.html:1\n",
      "Lecture01.html:1\n",
      "Lecture08.html:2\n",
      "Lecture18.html:6\n",
      "Lecture24.html:5\n"
     ]
    }
   ],
   "source": [
    "%%bash\n",
    "grep -Pc \"\\d\\d\\d-\\d\\d\\d-\\d\\d\\d\\d\" *.html | grep -P \":[^0]$\""
   ]
  },
  {
   "cell_type": "markdown",
   "metadata": {
    "slideshow": {
     "slide_type": "slide"
    }
   },
   "source": [
    "## Functions\n",
    "- Declaring Functions\n",
    "    - Accessing Function Parameters\n",
    "- Calling Functions\n",
    "- Scope\n",
    "- Returning from functions\n",
    "    - What does the `return` keyword actually do\n",
    "  "
   ]
  },
  {
   "cell_type": "code",
   "execution_count": 43,
   "metadata": {
    "slideshow": {
     "slide_type": "slide"
    }
   },
   "outputs": [
    {
     "name": "stdout",
     "output_type": "stream",
     "text": [
      "The files Lecture20.html and Lecture20.html are the same\n"
     ]
    }
   ],
   "source": [
    "%%bash\n",
    "function mystery(){\n",
    "    diff $1 $2\n",
    "    if [[ $? -ne 0 ]]; then\n",
    "        echo \"The files $1 and $2 are different\"\n",
    "    else\n",
    "        echo \"The files $1 and $2 are the same\"\n",
    "    fi\n",
    "}\n",
    "\n",
    "mystery \"Lecture20.html\" \"Lecture20.html\""
   ]
  },
  {
   "cell_type": "markdown",
   "metadata": {
    "slideshow": {
     "slide_type": "slide"
    }
   },
   "source": [
    "## Networking\n",
    "- What is wget good for, how might it be used\n",
    "- What is curl good for?"
   ]
  },
  {
   "cell_type": "code",
   "execution_count": 44,
   "metadata": {
    "slideshow": {
     "slide_type": "slide"
    }
   },
   "outputs": [
    {
     "name": "stderr",
     "output_type": "stream",
     "text": [
      "--2017-12-12 12:09:35--  http://www.umbc.edu/\n",
      "Resolving www.umbc.edu (www.umbc.edu)... 130.85.12.160\n",
      "Connecting to www.umbc.edu (www.umbc.edu)|130.85.12.160|:80... connected.\n",
      "HTTP request sent, awaiting response... 200 OK\n",
      "Length: unspecified [text/html]\n",
      "Saving to: ‘index.html.4’\n",
      "\n",
      "     0K .......... .......... .......... ..........            9.31M=0.004s\n",
      "\n",
      "2017-12-12 12:09:35 (9.31 MB/s) - ‘index.html.4’ saved [41438]\n",
      "\n"
     ]
    }
   ],
   "source": [
    "%%bash\n",
    "wget \"http://www.umbc.edu/\""
   ]
  },
  {
   "cell_type": "markdown",
   "metadata": {
    "slideshow": {
     "slide_type": "slide"
    }
   },
   "source": [
    "## R\n",
    "- What it is used for\n",
    "- The assignment operator (`<-`)\n",
    "- Data types\n",
    "    - No Scalars\n",
    "    - List vs Vector\n",
    "    - Matrix vs DataFrame"
   ]
  },
  {
   "cell_type": "code",
   "execution_count": 45,
   "metadata": {
    "slideshow": {
     "slide_type": "slide"
    }
   },
   "outputs": [
    {
     "name": "stdout",
     "output_type": "stream",
     "text": [
      "> a <- 4\n",
      "> print(a)\n",
      "[1] 4\n",
      "> \n"
     ]
    }
   ],
   "source": [
    "%%script R --no-save -q\n",
    "a <- 4\n",
    "print(a)"
   ]
  },
  {
   "cell_type": "markdown",
   "metadata": {
    "slideshow": {
     "slide_type": "slide"
    }
   },
   "source": [
    "## 1D Structures\n",
    "- Creating a vector using `c`\n",
    "- Creating a list using `list`"
   ]
  },
  {
   "cell_type": "code",
   "execution_count": 46,
   "metadata": {
    "slideshow": {
     "slide_type": "slide"
    }
   },
   "outputs": [
    {
     "name": "stdout",
     "output_type": "stream",
     "text": [
      "> vec <- c(1,2,3,4)\n",
      "> vec2 <- c(1,\"2\",3,4)\n",
      "> print(vec)\n",
      "[1] 1 2 3 4\n",
      "> print(vec2)\n",
      "[1] \"1\" \"2\" \"3\" \"4\"\n",
      "> \n"
     ]
    }
   ],
   "source": [
    "%%script R --no-save -q\n",
    "vec <- c(1,2,3,4)\n",
    "vec2 <- c(1,\"2\",3,4)\n",
    "print(vec)\n",
    "print(vec2)"
   ]
  },
  {
   "cell_type": "code",
   "execution_count": 47,
   "metadata": {
    "scrolled": true,
    "slideshow": {
     "slide_type": "slide"
    }
   },
   "outputs": [
    {
     "name": "stdout",
     "output_type": "stream",
     "text": [
      "> l1 <- list(1,2,3,4)\n",
      "> l2 <- list(1,\"2\",3,4)\n",
      "> print(l1)\n",
      "[[1]]\n",
      "[1] 1\n",
      "\n",
      "[[2]]\n",
      "[1] 2\n",
      "\n",
      "[[3]]\n",
      "[1] 3\n",
      "\n",
      "[[4]]\n",
      "[1] 4\n",
      "\n",
      "> print(l2)\n",
      "[[1]]\n",
      "[1] 1\n",
      "\n",
      "[[2]]\n",
      "[1] \"2\"\n",
      "\n",
      "[[3]]\n",
      "[1] 3\n",
      "\n",
      "[[4]]\n",
      "[1] 4\n",
      "\n",
      "> \n"
     ]
    }
   ],
   "source": [
    "%%script R --no-save -q\n",
    "l1 <- list(1,2,3,4)\n",
    "l2 <- list(1,\"2\",3,4)\n",
    "print(l1)\n",
    "print(l2)"
   ]
  },
  {
   "cell_type": "markdown",
   "metadata": {
    "slideshow": {
     "slide_type": "slide"
    }
   },
   "source": [
    "## Matrices\n",
    "- Creating using `matrix`\n",
    "- Creating from vectors"
   ]
  },
  {
   "cell_type": "code",
   "execution_count": 48,
   "metadata": {
    "slideshow": {
     "slide_type": "slide"
    }
   },
   "outputs": [
    {
     "name": "stdout",
     "output_type": "stream",
     "text": [
      "> m <- matrix(c(1,2,3,4,5,6),nrow=2)\n",
      "> print(m)\n",
      "     [,1] [,2] [,3]\n",
      "[1,]    1    3    5\n",
      "[2,]    2    4    6\n",
      "> \n"
     ]
    }
   ],
   "source": [
    "%%script R --no-save -q\n",
    "m <- matrix(c(1,2,3,4,5,6),nrow=2)\n",
    "print(m)"
   ]
  },
  {
   "cell_type": "code",
   "execution_count": 49,
   "metadata": {
    "slideshow": {
     "slide_type": "slide"
    }
   },
   "outputs": [
    {
     "name": "stdout",
     "output_type": "stream",
     "text": [
      "> v2m <- c(1,2,3,4,5,6)\n",
      "> print(v2m)\n",
      "[1] 1 2 3 4 5 6\n",
      "> dim(v2m) <- c(2,3)\n",
      "> print(v2m)\n",
      "     [,1] [,2] [,3]\n",
      "[1,]    1    3    5\n",
      "[2,]    2    4    6\n",
      "> \n"
     ]
    }
   ],
   "source": [
    "%%script R --no-save -q\n",
    "v2m <- c(1,2,3,4,5,6)\n",
    "print(v2m)\n",
    "dim(v2m) <- c(2,3)\n",
    "print(v2m)"
   ]
  },
  {
   "cell_type": "markdown",
   "metadata": {
    "slideshow": {
     "slide_type": "slide"
    }
   },
   "source": [
    "## DataFrames\n",
    "- Creating from vectors\n",
    "- Reading in data \n",
    "- Common functions"
   ]
  },
  {
   "cell_type": "code",
   "execution_count": 51,
   "metadata": {
    "slideshow": {
     "slide_type": "slide"
    }
   },
   "outputs": [
    {
     "name": "stdout",
     "output_type": "stream",
     "text": [
      "> df1 <- data.frame(int=c(1,2,3,4),float=c(1.01,2.0,3.0,4.0),str=c(\"One\",\"Two\",\"Three\",\"Four\"))\n",
      "> print(df1)\n",
      "  int float   str\n",
      "1   1  1.01   One\n",
      "2   2  2.00   Two\n",
      "3   3  3.00 Three\n",
      "4   4  4.00  Four\n",
      "> \n"
     ]
    }
   ],
   "source": [
    "%%script R --no-save -q\n",
    "df1 <- data.frame(int=c(1,2,3,4),float=c(1.01,2.0,3.0,4.0),str=c(\"One\",\"Two\",\"Three\",\"Four\"))\n",
    "print(df1)"
   ]
  },
  {
   "cell_type": "code",
   "execution_count": 55,
   "metadata": {
    "slideshow": {
     "slide_type": "slide"
    }
   },
   "outputs": [
    {
     "name": "stdout",
     "output_type": "stream",
     "text": [
      "> df2 <- read.csv(\"usm.csv\")\n",
      "> print(df2)\n",
      "          Name ZIP.Code Undergraduate.Enrollment Graduate.Enrollment\n",
      "1         UMBC    21250                    11142                2498\n",
      "2         UMCP    20742                    28472               10611\n",
      "3       Towson    21252                    19596                3109\n",
      "4         UMUC    20774                    67434               19382\n",
      "5 Morgan State    21251                     6362                1327\n",
      "> \n"
     ]
    }
   ],
   "source": [
    "%%script R --no-save -q\n",
    "df2 <- read.csv(\"usm.csv\")\n",
    "print(df2)"
   ]
  },
  {
   "cell_type": "markdown",
   "metadata": {
    "slideshow": {
     "slide_type": "slide"
    }
   },
   "source": [
    "## Math in R\n",
    "- Can be on a high dimensional object"
   ]
  },
  {
   "cell_type": "code",
   "execution_count": 56,
   "metadata": {
    "slideshow": {
     "slide_type": "slide"
    }
   },
   "outputs": [
    {
     "name": "stdout",
     "output_type": "stream",
     "text": [
      "> m <- matrix(c(1,2,3,4,5,6),nrow=2)\n",
      "> print(m + 5)\n",
      "     [,1] [,2] [,3]\n",
      "[1,]    6    8   10\n",
      "[2,]    7    9   11\n",
      "> \n"
     ]
    }
   ],
   "source": [
    "%%script R --no-save -q\n",
    "m <- matrix(c(1,2,3,4,5,6),nrow=2)\n",
    "print(m + 5)"
   ]
  },
  {
   "cell_type": "code",
   "execution_count": 58,
   "metadata": {
    "slideshow": {
     "slide_type": "slide"
    }
   },
   "outputs": [
    {
     "name": "stdout",
     "output_type": "stream",
     "text": [
      "> m <- matrix(c(1,2,3,4,5,6),nrow=2)\n",
      "> print(m * m)\n",
      "     [,1] [,2] [,3]\n",
      "[1,]    1    9   25\n",
      "[2,]    4   16   36\n",
      "> \n"
     ]
    }
   ],
   "source": [
    "%%script R --no-save -q\n",
    "m <- matrix(c(1,2,3,4,5,6),nrow=2)\n",
    "print(m * m)"
   ]
  },
  {
   "cell_type": "markdown",
   "metadata": {
    "slideshow": {
     "slide_type": "slide"
    }
   },
   "source": [
    "## Subsetting\n",
    "- Indexing starts at 1\n",
    "- Postive vs Negative Intenger Subsetting\n",
    "- Boolean Indexing\n",
    "- `[]` and `[[]]` operations\n",
    "- `$` operator for Data Frames"
   ]
  },
  {
   "cell_type": "code",
   "execution_count": 59,
   "metadata": {
    "slideshow": {
     "slide_type": "slide"
    }
   },
   "outputs": [
    {
     "name": "stdout",
     "output_type": "stream",
     "text": [
      "> v2 <- c('a','b','c','d')\n",
      "> print(v2[1])\n",
      "[1] \"a\"\n",
      "> \n"
     ]
    }
   ],
   "source": [
    "%%script R --no-save -q\n",
    "v2 <- c('a','b','c','d')\n",
    "print(v2[1])"
   ]
  },
  {
   "cell_type": "code",
   "execution_count": 60,
   "metadata": {
    "slideshow": {
     "slide_type": "slide"
    }
   },
   "outputs": [
    {
     "name": "stdout",
     "output_type": "stream",
     "text": [
      "> v3 <- list('a','b','c','d')\n",
      "> print(v3[1])\n",
      "[[1]]\n",
      "[1] \"a\"\n",
      "\n",
      "> print(v3[[1]])\n",
      "[1] \"a\"\n",
      "> \n"
     ]
    }
   ],
   "source": [
    "%%script R --no-save -q\n",
    "v3 <- list('a','b','c','d')\n",
    "print(v3[1])\n",
    "print(v3[[1]])"
   ]
  },
  {
   "cell_type": "code",
   "execution_count": 61,
   "metadata": {
    "slideshow": {
     "slide_type": "slide"
    }
   },
   "outputs": [
    {
     "name": "stdout",
     "output_type": "stream",
     "text": [
      "> v4 <- data.frame(letters=c('a','b','c','d'),numbers=c(1,2,3,4),symbols=c('!','#','$','@'))\n",
      "> print(v4$letters)\n",
      "[1] a b c d\n",
      "Levels: a b c d\n",
      "> \n"
     ]
    }
   ],
   "source": [
    "%%script R --no-save -q\n",
    "v4 <- data.frame(letters=c('a','b','c','d'),numbers=c(1,2,3,4),symbols=c('!','#','$','@'))\n",
    "print(v4$letters)"
   ]
  },
  {
   "cell_type": "code",
   "execution_count": 62,
   "metadata": {
    "slideshow": {
     "slide_type": "slide"
    }
   },
   "outputs": [
    {
     "name": "stdout",
     "output_type": "stream",
     "text": [
      "> v5 <- c(1,2,3,4,5)\n",
      "> print(v5[-1])\n",
      "[1] 2 3 4 5\n",
      "> print(v5[v5 %% 2 == 1])\n",
      "[1] 1 3 5\n",
      "> \n"
     ]
    }
   ],
   "source": [
    "%%script R --no-save -q\n",
    "v5 <- c(1,2,3,4,5)\n",
    "print(v5[-1])\n",
    "print(v5[v5 %% 2 == 1])"
   ]
  },
  {
   "cell_type": "markdown",
   "metadata": {
    "slideshow": {
     "slide_type": "slide"
    }
   },
   "source": [
    "## Control Structures\n",
    "- If, else if\n",
    "- `for ... in` \n",
    "    - Rarely Seen in R\n",
    "- `lapply`\n"
   ]
  },
  {
   "cell_type": "code",
   "execution_count": 65,
   "metadata": {
    "slideshow": {
     "slide_type": "slide"
    }
   },
   "outputs": [
    {
     "name": "stdout",
     "output_type": "stream",
     "text": [
      "> a <- 1\n",
      "> if(a > 0)\n",
      "+ {\n",
      "+     print(\"This is Positive\")\n",
      "+ } else {\n",
      "+     print(\"This is Negative\")\n",
      "+ }\n",
      "[1] \"This is Positive\"\n",
      "> \n"
     ]
    }
   ],
   "source": [
    "%%script R --no-save -q\n",
    "a <- 1\n",
    "if(a > 0)\n",
    "{\n",
    "    print(\"This is Positive\")\n",
    "} else {\n",
    "    print(\"This is Negative\")\n",
    "}"
   ]
  },
  {
   "cell_type": "code",
   "execution_count": 66,
   "metadata": {
    "slideshow": {
     "slide_type": "slide"
    }
   },
   "outputs": [
    {
     "name": "stdout",
     "output_type": "stream",
     "text": [
      "> b <- c(1,2,3,4,5)\n",
      "> for(x in b){\n",
      "+     print(x)\n",
      "+ }\n",
      "[1] 1\n",
      "[1] 2\n",
      "[1] 3\n",
      "[1] 4\n",
      "[1] 5\n",
      "> \n"
     ]
    }
   ],
   "source": [
    "%%script R --no-save -q\n",
    "b <- c(1,2,3,4,5)\n",
    "for(x in b){\n",
    "    print(x)\n",
    "}"
   ]
  },
  {
   "cell_type": "markdown",
   "metadata": {
    "slideshow": {
     "slide_type": "slide"
    }
   },
   "source": [
    "## Functions\n",
    "- How to declare\n",
    "- How to return from a function\n",
    "- How are defaul parameters evaluated?\n",
    "- Lazy Evaluation\n",
    "- Infix Functions\n",
    "- Assignment Functions"
   ]
  },
  {
   "cell_type": "code",
   "execution_count": 67,
   "metadata": {
    "slideshow": {
     "slide_type": "slide"
    }
   },
   "outputs": [
    {
     "name": "stdout",
     "output_type": "stream",
     "text": [
      "> my_f <- function(a,def=1){\n",
      "+     print(def)\n",
      "+     a * a\n",
      "+ }\n",
      "> print(my_f(10))\n",
      "[1] 1\n",
      "[1] 100\n",
      "> print(my_f(10,d=10))\n",
      "[1] 10\n",
      "[1] 100\n",
      "> \n"
     ]
    }
   ],
   "source": [
    "%%script R --no-save -q\n",
    "my_f <- function(a,def=1){\n",
    "    print(def)\n",
    "    a * a\n",
    "}\n",
    "print(my_f(10))\n",
    "print(my_f(10,d=10))"
   ]
  },
  {
   "cell_type": "code",
   "execution_count": 68,
   "metadata": {
    "slideshow": {
     "slide_type": "slide"
    }
   },
   "outputs": [
    {
     "name": "stdout",
     "output_type": "stream",
     "text": [
      "> `%+%` <- function(a,b){\n",
      "+     a * b\n",
      "+ }\n",
      "> print(10 %+% 10)\n",
      "[1] 100\n",
      "> \n"
     ]
    }
   ],
   "source": [
    "%%script R --no-save -q\n",
    "`%+%` <- function(a,b){\n",
    "    a * b\n",
    "}\n",
    "print(10 %+% 10)"
   ]
  },
  {
   "cell_type": "code",
   "execution_count": 69,
   "metadata": {
    "slideshow": {
     "slide_type": "slide"
    }
   },
   "outputs": [
    {
     "name": "stdout",
     "output_type": "stream",
     "text": [
      "> `fir<-`<-function(x,value){\n",
      "+     x[1] <- value\n",
      "+     x\n",
      "+ }\n",
      "> y <- c(1,2,3,5)\n",
      "> fir(y)<-10\n",
      "> print(y)\n",
      "[1] 10  2  3  5\n",
      "> \n"
     ]
    }
   ],
   "source": [
    "%%script R --no-save -q\n",
    "`fir<-`<-function(x,value){\n",
    "    x[1] <- value\n",
    "    x\n",
    "}\n",
    "y <- c(1,2,3,5)\n",
    "fir(y)<-10\n",
    "print(y)"
   ]
  },
  {
   "cell_type": "markdown",
   "metadata": {
    "slideshow": {
     "slide_type": "slide"
    }
   },
   "source": [
    "## Objects\n",
    "- There are three systems\n",
    "- S3 basics\n",
    "    - Use of `structure` and `class`\n",
    "    - Constructors\n",
    "- Methods\n",
    "    - Generic Functions\n",
    "    - `UseMethod`\n",
    "    - Naming Conventions"
   ]
  },
  {
   "cell_type": "code",
   "execution_count": 70,
   "metadata": {
    "slideshow": {
     "slide_type": "slide"
    }
   },
   "outputs": [
    {
     "name": "stdout",
     "output_type": "stream",
     "text": [
      "> per<-function(name,age){\n",
      "+     structure(list(m_name=name,m_age=age),class=\"per\")\n",
      "+ }\n",
      "> \n",
      "> form<- function(ob){\n",
      "+     UseMethod(\"form\")\n",
      "+ }\n",
      "> \n",
      "> form.per <- function(obj){\n",
      "+     paste(obj$m_name,\"is\",obj$m_age)\n",
      "+ }\n",
      "> \n",
      "> form.default <- function(obj){\n",
      "+     \"Not a Person\"\n",
      "+ }\n",
      "> \n",
      "> p <- per(\"Bob\",20)\n",
      "> print(form(p))\n",
      "[1] \"Bob is 20\"\n",
      "> print(form(10))\n",
      "[1] \"Not a Person\"\n",
      "> \n"
     ]
    }
   ],
   "source": [
    "%%script R --no-save -q\n",
    "per<-function(name,age){\n",
    "    structure(list(m_name=name,m_age=age),class=\"per\")\n",
    "}\n",
    "\n",
    "form<- function(ob){\n",
    "    UseMethod(\"form\")\n",
    "}\n",
    "\n",
    "form.per <- function(obj){\n",
    "    paste(obj$m_name,\"is\",obj$m_age)\n",
    "}\n",
    "\n",
    "form.default <- function(obj){\n",
    "    \"Not a Person\"\n",
    "}\n",
    "\n",
    "p <- per(\"Bob\",20)\n",
    "print(form(p))\n",
    "print(form(10))"
   ]
  },
  {
   "cell_type": "markdown",
   "metadata": {
    "slideshow": {
     "slide_type": "slide"
    }
   },
   "source": [
    "## Basic Statistics\n",
    "- What the `table` function does\n",
    "- Basic descriptive functions\n",
    "    - `mean`\n",
    "    - `median`\n",
    "    - `summary`"
   ]
  },
  {
   "cell_type": "code",
   "execution_count": 71,
   "metadata": {
    "slideshow": {
     "slide_type": "slide"
    }
   },
   "outputs": [
    {
     "name": "stdout",
     "output_type": "stream",
     "text": [
      "> grades <- c(90,30,90,20,10,49,50,20,90)\n",
      "> print(table(grades))\n",
      "grades\n",
      "10 20 30 49 50 90 \n",
      " 1  2  1  1  1  3 \n",
      "> print(mean(grades))\n",
      "[1] 49.88889\n",
      "> print(summary(grades))\n",
      "   Min. 1st Qu.  Median    Mean 3rd Qu.    Max. \n",
      "  10.00   20.00   49.00   49.89   90.00   90.00 \n",
      "> \n"
     ]
    }
   ],
   "source": [
    "%%script R --no-save -q\n",
    "grades <- c(90,30,90,20,10,49,50,20,90)\n",
    "print(table(grades))\n",
    "print(mean(grades))\n",
    "print(summary(grades))"
   ]
  },
  {
   "cell_type": "markdown",
   "metadata": {
    "slideshow": {
     "slide_type": "slide"
    }
   },
   "source": [
    "## Tidyverse\n",
    "- What is dlpyr and tidyr used for\n",
    "- The pipe operator `%>%`\n",
    "    - Using with groupby\n",
    "- Ggplot2\n",
    "    - Basic setup\n",
    "    - `ggplot + geom_XXXX`"
   ]
  },
  {
   "cell_type": "code",
   "execution_count": 73,
   "metadata": {
    "slideshow": {
     "slide_type": "slide"
    }
   },
   "outputs": [
    {
     "name": "stdout",
     "output_type": "stream",
     "text": [
      "> library(dplyr)\n",
      "> data <- data.frame(city=c(\"Baltimore\",\"Catonsville\",\"Fredrick\",\"Washington\"),\n",
      "+                    state=c(\"MD\",\"MD\",\"MD\",\"DC\"),\n",
      "+                    pop=c(621000,41000,65000,680000)\n",
      "+                   )\n",
      "> data %>% group_by(state) %>% summarize(meanPop=mean(pop))\n",
      "# A tibble: 2 x 2\n",
      "   state  meanPop\n",
      "  <fctr>    <dbl>\n",
      "1     DC 680000.0\n",
      "2     MD 242333.3\n",
      "> \n"
     ]
    },
    {
     "name": "stderr",
     "output_type": "stream",
     "text": [
      "\n",
      "Attaching package: ‘dplyr’\n",
      "\n",
      "The following objects are masked from ‘package:stats’:\n",
      "\n",
      "    filter, lag\n",
      "\n",
      "The following objects are masked from ‘package:base’:\n",
      "\n",
      "    intersect, setdiff, setequal, union\n",
      "\n"
     ]
    }
   ],
   "source": [
    "%%script R --no-save -q\n",
    "library(dplyr)\n",
    "data <- data.frame(city=c(\"Baltimore\",\"Catonsville\",\"Fredrick\",\"Washington\"),\n",
    "                   state=c(\"MD\",\"MD\",\"MD\",\"DC\"),\n",
    "                   pop=c(621000,41000,65000,680000)\n",
    "                  )\n",
    "data %>% group_by(state) %>% summarize(meanPop=mean(pop))"
   ]
  },
  {
   "cell_type": "markdown",
   "metadata": {
    "slideshow": {
     "slide_type": "slide"
    }
   },
   "source": [
    "## Regex Functions\n",
    "- `grep` vs `grepl`\n",
    "- `perl=TRUE`"
   ]
  },
  {
   "cell_type": "code",
   "execution_count": null,
   "metadata": {
    "collapsed": true,
    "slideshow": {
     "slide_type": "slide"
    }
   },
   "outputs": [],
   "source": [
    "%%script R --no-save -q\n",
    "print(grep(\"\\\\w\\\\w\\\\w\",c(\"AABDF\",\"AG\",\"EOT\"),perl=TRUE))\n",
    "print(grepl(\"\\\\w\\\\w\\\\w\",c(\"AABDF\",\"AG\",\"EOT\"),perl=TRUE))"
   ]
  },
  {
   "cell_type": "markdown",
   "metadata": {
    "slideshow": {
     "slide_type": "slide"
    }
   },
   "source": [
    "## Web Basics\n",
    "- How does a HTTP Request Work?\n",
    "    - Headers, response\n",
    " \n",
    "- HTML\n",
    "    - What is it\n",
    "    - Not directly tested, in JS/PHP questions\n",
    "- CSS\n",
    "    - What is it\n",
    "    - Not directly tested, in JS/PHP questions"
   ]
  },
  {
   "cell_type": "markdown",
   "metadata": {
    "slideshow": {
     "slide_type": "slide"
    }
   },
   "source": [
    "## JavaScript\n",
    "- What is it?\n",
    "    - Where does it run?\n",
    "    - What can't it do?\n",
    "- Embedding JS in HTML\n",
    "    - `<script>` tag"
   ]
  },
  {
   "cell_type": "markdown",
   "metadata": {
    "slideshow": {
     "slide_type": "slide"
    }
   },
   "source": [
    "```js\n",
    "<script src=\"location.js\"></script>\n",
    "<script src=\"https://example.com/remove_script.js\"></script>\n",
    "<script>\n",
    "    //Embed Code\n",
    "</script>\n",
    "```"
   ]
  },
  {
   "cell_type": "markdown",
   "metadata": {
    "slideshow": {
     "slide_type": "slide"
    }
   },
   "source": [
    "## JavaScript\n",
    "- Declaring Variables\n",
    "    - Scope\n",
    "- Difference between `==` and `===`"
   ]
  },
  {
   "cell_type": "code",
   "execution_count": 75,
   "metadata": {
    "slideshow": {
     "slide_type": "slide"
    }
   },
   "outputs": [
    {
     "data": {
      "text/html": [
       "<p id=\"results\">To Be Replaced</p>\n",
       "<script>\n",
       "var abc = 1;\n",
       "function scope_checker(){\n",
       "   var abc = 2\n",
       "}\n",
       "scope_checker()\n",
       "document.getElementById(\"results\").innerHTML = abc;\n",
       "</script>"
      ],
      "text/plain": [
       "<IPython.core.display.HTML object>"
      ]
     },
     "metadata": {},
     "output_type": "display_data"
    }
   ],
   "source": [
    "%%html\n",
    "<p id=\"results\">To Be Replaced</p>\n",
    "<script>\n",
    "var abc = 1;\n",
    "function scope_checker(){\n",
    "   var abc = 2\n",
    "}\n",
    "scope_checker()\n",
    "document.getElementById(\"results\").innerHTML = abc;\n",
    "</script>"
   ]
  },
  {
   "cell_type": "code",
   "execution_count": 77,
   "metadata": {
    "slideshow": {
     "slide_type": "slide"
    }
   },
   "outputs": [
    {
     "data": {
      "text/html": [
       "<p id=\"results1\">To Be Replaced</p>\n",
       "<script>\n",
       "var abc = 1;\n",
       "if(true){\n",
       "   let abc = 2\n",
       "}\n",
       "document.getElementById(\"results1\").innerHTML = abc;\n",
       "</script>"
      ],
      "text/plain": [
       "<IPython.core.display.HTML object>"
      ]
     },
     "metadata": {},
     "output_type": "display_data"
    }
   ],
   "source": [
    "%%html\n",
    "<p id=\"results1\">To Be Replaced</p>\n",
    "<script>\n",
    "var abc = 1;\n",
    "if(true){\n",
    "   let abc = 2\n",
    "}\n",
    "document.getElementById(\"results1\").innerHTML = abc;\n",
    "</script>"
   ]
  },
  {
   "cell_type": "code",
   "execution_count": 78,
   "metadata": {
    "slideshow": {
     "slide_type": "slide"
    }
   },
   "outputs": [
    {
     "data": {
      "text/html": [
       "<p id=\"results2\">To Be Replaced</p>\n",
       "<script>\n",
       "var s = \"10\"\n",
       "var i = 10\n",
       "if(s === i){\n",
       "  document.getElementById(\"results2\").innerHTML = \"Triple Equal\";  \n",
       "}\n",
       "else if(s == i){\n",
       "      document.getElementById(\"results2\").innerHTML = \"Double Equal\";\n",
       "}\n",
       "else{\n",
       "    document.getElementById(\"results2\").innerHTML = \"Not Equal\";\n",
       "}\n",
       "\n",
       "</script>"
      ],
      "text/plain": [
       "<IPython.core.display.HTML object>"
      ]
     },
     "metadata": {},
     "output_type": "display_data"
    }
   ],
   "source": [
    "%%html\n",
    "<p id=\"results2\">To Be Replaced</p>\n",
    "<script>\n",
    "var s = \"10\"\n",
    "var i = 10\n",
    "if(s === i){\n",
    "  document.getElementById(\"results2\").innerHTML = \"Triple Equal\";  \n",
    "}\n",
    "else if(s == i){\n",
    "      document.getElementById(\"results2\").innerHTML = \"Double Equal\";\n",
    "}\n",
    "else{\n",
    "    document.getElementById(\"results2\").innerHTML = \"Not Equal\";\n",
    "}\n",
    "\n",
    "</script>"
   ]
  },
  {
   "cell_type": "markdown",
   "metadata": {
    "slideshow": {
     "slide_type": "slide"
    }
   },
   "source": [
    "## JavaScript\n",
    "- Arrays\n",
    "    - Are Objects\n",
    "    - Sorting\n",
    "- Strings\n",
    "    - Are objects\n",
    "    - Basic methods, concatenation"
   ]
  },
  {
   "cell_type": "code",
   "execution_count": 79,
   "metadata": {
    "slideshow": {
     "slide_type": "slide"
    }
   },
   "outputs": [
    {
     "data": {
      "text/html": [
       "<p id=\"results3\">To Be Replaced</p>\n",
       "<script>\n",
       "var arr = new Array();\n",
       "arr.push(1);\n",
       "arr.push(2);\n",
       "document.getElementById(\"results3\").innerHTML = JSON.stringify(arr);\n",
       "</script>"
      ],
      "text/plain": [
       "<IPython.core.display.HTML object>"
      ]
     },
     "metadata": {},
     "output_type": "display_data"
    }
   ],
   "source": [
    "%%html\n",
    "<p id=\"results3\">To Be Replaced</p>\n",
    "<script>\n",
    "var arr = new Array();\n",
    "arr.push(1);\n",
    "arr.push(2);\n",
    "document.getElementById(\"results3\").innerHTML = JSON.stringify(arr);\n",
    "</script>"
   ]
  },
  {
   "cell_type": "code",
   "execution_count": 80,
   "metadata": {
    "slideshow": {
     "slide_type": "slide"
    }
   },
   "outputs": [
    {
     "data": {
      "text/html": [
       "<p id=\"results4\">To Be Replaced</p>\n",
       "<script>\n",
       "var arr = [3,4,5];\n",
       "document.getElementById(\"results4\").innerHTML = JSON.stringify(arr);\n",
       "</script>"
      ],
      "text/plain": [
       "<IPython.core.display.HTML object>"
      ]
     },
     "metadata": {},
     "output_type": "display_data"
    }
   ],
   "source": [
    "%%html\n",
    "<p id=\"results4\">To Be Replaced</p>\n",
    "<script>\n",
    "var arr = [3,4,5];\n",
    "document.getElementById(\"results4\").innerHTML = JSON.stringify(arr);\n",
    "</script>"
   ]
  },
  {
   "cell_type": "code",
   "execution_count": 81,
   "metadata": {
    "slideshow": {
     "slide_type": "slide"
    }
   },
   "outputs": [
    {
     "data": {
      "text/html": [
       "<p id=\"results5\">To Be Replaced</p>\n",
       "<script>\n",
       "var arr = [\"Sand\",\"Dirt\",\"Water\"];\n",
       "function s(a,b){\n",
       "    a.charAt(a.length-3) - b.charAt(b.length-3);\n",
       "}\n",
       "document.getElementById(\"results5\").innerHTML = JSON.stringify(arr.sort(s));\n",
       "</script>"
      ],
      "text/plain": [
       "<IPython.core.display.HTML object>"
      ]
     },
     "metadata": {},
     "output_type": "display_data"
    }
   ],
   "source": [
    "%%html\n",
    "<p id=\"results5\">To Be Replaced</p>\n",
    "<script>\n",
    "var arr = [\"Sand\",\"Dirt\",\"Water\"];\n",
    "function s(a,b){\n",
    "    a.charAt(a.length-3) - b.charAt(b.length-3);\n",
    "}\n",
    "document.getElementById(\"results5\").innerHTML = JSON.stringify(arr.sort(s));\n",
    "</script>"
   ]
  },
  {
   "cell_type": "markdown",
   "metadata": {
    "slideshow": {
     "slide_type": "slide"
    }
   },
   "source": [
    "## Control Structures in JS\n",
    "- `if, else if, else`\n",
    "- `for, while`\n",
    "- `for .. in` vs `for .. of`"
   ]
  },
  {
   "cell_type": "code",
   "execution_count": 82,
   "metadata": {
    "slideshow": {
     "slide_type": "slide"
    }
   },
   "outputs": [
    {
     "data": {
      "text/html": [
       "<p id=\"results6\">To Be Replaced</p>\n",
       "<script>\n",
       "s = \"\";\n",
       "for(i = 0; i  < 10; i++){\n",
       "    s += \" \" + i;\n",
       "}\n",
       "document.getElementById(\"results6\").innerHTML = JSON.stringify(s);\n",
       "</script>"
      ],
      "text/plain": [
       "<IPython.core.display.HTML object>"
      ]
     },
     "metadata": {},
     "output_type": "display_data"
    }
   ],
   "source": [
    "%%html\n",
    "<p id=\"results6\">To Be Replaced</p>\n",
    "<script>\n",
    "s = \"\";\n",
    "for(i = 0; i  < 10; i++){\n",
    "    s += \" \" + i;\n",
    "}\n",
    "document.getElementById(\"results6\").innerHTML = JSON.stringify(s);\n",
    "</script>"
   ]
  },
  {
   "cell_type": "code",
   "execution_count": 83,
   "metadata": {
    "slideshow": {
     "slide_type": "slide"
    }
   },
   "outputs": [
    {
     "data": {
      "text/html": [
       "<p id=\"results7\">To Be Replaced</p>\n",
       "<script>\n",
       "s = \"\";\n",
       "var i = 0;\n",
       "while(i < 10){\n",
       "    s += \" \" + i;\n",
       "    i++;\n",
       "}\n",
       "document.getElementById(\"results7\").innerHTML = JSON.stringify(s);\n",
       "</script>"
      ],
      "text/plain": [
       "<IPython.core.display.HTML object>"
      ]
     },
     "metadata": {},
     "output_type": "display_data"
    }
   ],
   "source": [
    "%%html\n",
    "<p id=\"results7\">To Be Replaced</p>\n",
    "<script>\n",
    "s = \"\";\n",
    "var i = 0;\n",
    "while(i < 10){\n",
    "    s += \" \" + i;\n",
    "    i++;\n",
    "}\n",
    "document.getElementById(\"results7\").innerHTML = JSON.stringify(s);\n",
    "</script>"
   ]
  },
  {
   "cell_type": "code",
   "execution_count": 84,
   "metadata": {
    "slideshow": {
     "slide_type": "slide"
    }
   },
   "outputs": [
    {
     "data": {
      "text/html": [
       "<p id=\"results8\">To Be Replaced</p>\n",
       "<script>\n",
       "s = \" \";\n",
       "arr = [10,9,8,7,6,5];\n",
       "for(i in arr){\n",
       "    s += \" \" + i;\n",
       "    i++;\n",
       "}\n",
       "document.getElementById(\"results8\").innerHTML = JSON.stringify(s);\n",
       "</script>"
      ],
      "text/plain": [
       "<IPython.core.display.HTML object>"
      ]
     },
     "metadata": {},
     "output_type": "display_data"
    }
   ],
   "source": [
    "%%html\n",
    "<p id=\"results8\">To Be Replaced</p>\n",
    "<script>\n",
    "s = \" \";\n",
    "arr = [10,9,8,7,6,5];\n",
    "for(i in arr){\n",
    "    s += \" \" + i;\n",
    "    i++;\n",
    "}\n",
    "document.getElementById(\"results8\").innerHTML = JSON.stringify(s);\n",
    "</script>"
   ]
  },
  {
   "cell_type": "code",
   "execution_count": 85,
   "metadata": {
    "slideshow": {
     "slide_type": "slide"
    }
   },
   "outputs": [
    {
     "data": {
      "text/html": [
       "<p id=\"results9\">To Be Replaced</p>\n",
       "<script>\n",
       "s = \" \";\n",
       "arr = [10,9,8,7,6,5];\n",
       "for(i of arr){\n",
       "    s += \" \" + i;\n",
       "    i++;\n",
       "}\n",
       "document.getElementById(\"results9\").innerHTML = JSON.stringify(s);\n",
       "</script>"
      ],
      "text/plain": [
       "<IPython.core.display.HTML object>"
      ]
     },
     "metadata": {},
     "output_type": "display_data"
    }
   ],
   "source": [
    "%%html\n",
    "<p id=\"results9\">To Be Replaced</p>\n",
    "<script>\n",
    "s = \" \";\n",
    "arr = [10,9,8,7,6,5];\n",
    "for(i of arr){\n",
    "    s += \" \" + i;\n",
    "    i++;\n",
    "}\n",
    "document.getElementById(\"results9\").innerHTML = JSON.stringify(s);\n",
    "</script>"
   ]
  },
  {
   "cell_type": "markdown",
   "metadata": {
    "slideshow": {
     "slide_type": "slide"
    }
   },
   "source": [
    "## Functions in JS\n",
    "- How to declare (the `function` keyword)\n",
    "    - Where they can be declared\n",
    "- How to pass functions to other functions\n",
    "    - Use in sort"
   ]
  },
  {
   "cell_type": "code",
   "execution_count": 86,
   "metadata": {
    "slideshow": {
     "slide_type": "slide"
    }
   },
   "outputs": [
    {
     "data": {
      "text/html": [
       "<p id=\"results10\">To be Replaced</p>\n",
       "<script>\n",
       "do_something();\n",
       "function do_something(){\n",
       "    document.getElementById(\"results10\").innerHTML = \"Hoisted\";\n",
       "}\n",
       "</script>"
      ],
      "text/plain": [
       "<IPython.core.display.HTML object>"
      ]
     },
     "metadata": {},
     "output_type": "display_data"
    }
   ],
   "source": [
    "%%html\n",
    "<p id=\"results10\">To be Replaced</p>\n",
    "<script>\n",
    "do_something();\n",
    "function do_something(){\n",
    "    document.getElementById(\"results10\").innerHTML = \"Hoisted\";\n",
    "}\n",
    "</script>"
   ]
  },
  {
   "cell_type": "markdown",
   "metadata": {
    "slideshow": {
     "slide_type": "slide"
    }
   },
   "source": [
    "## Objects in JavaScript\n",
    "- The `this` and `new` keywords\n",
    "    - How to make a \"constructor\" function\n",
    "- Dot syntax\n",
    "    - Methods are functions stored in keys\n",
    "- Generic `{ }` syntax\n",
    "- Prototypes"
   ]
  },
  {
   "cell_type": "code",
   "execution_count": 87,
   "metadata": {
    "slideshow": {
     "slide_type": "slide"
    }
   },
   "outputs": [
    {
     "data": {
      "text/html": [
       "<p id=\"results11\">To be Replaced</p>\n",
       "<script>\n",
       "function Course(department, number, section){\n",
       "    this.department = department;\n",
       "    this.number = number;\n",
       "    this.section = section;\n",
       "    this.print = function(){\n",
       "        return \"This is \" + this.department + this.number + \",section \"  + this.section;\n",
       "    }\n",
       "}\n",
       "\n",
       "today = new Course(\"CMSC\",433,\"01\");\n",
       "document.getElementById(\"results11\").innerHTML = today.print();\n",
       "</script>"
      ],
      "text/plain": [
       "<IPython.core.display.HTML object>"
      ]
     },
     "metadata": {},
     "output_type": "display_data"
    }
   ],
   "source": [
    "%%html\n",
    "<p id=\"results11\">To be Replaced</p>\n",
    "<script>\n",
    "function Course(department, number, section){\n",
    "    this.department = department;\n",
    "    this.number = number;\n",
    "    this.section = section;\n",
    "    this.print = function(){\n",
    "        return \"This is \" + this.department + this.number + \",section \"  + this.section;\n",
    "    }\n",
    "}\n",
    "\n",
    "today = new Course(\"CMSC\",433,\"01\");\n",
    "document.getElementById(\"results11\").innerHTML = today.print();\n",
    "</script>"
   ]
  },
  {
   "cell_type": "code",
   "execution_count": 88,
   "metadata": {
    "slideshow": {
     "slide_type": "slide"
    }
   },
   "outputs": [
    {
     "data": {
      "text/html": [
       "<p id=\"results12\">To be Replaced</p>\n",
       "<script>\n",
       "Vehicle = {go: function(){\n",
       "        this.speed = 10;\n",
       "}}\n",
       "\n",
       "function Car(color){\n",
       "    this.color = color;\n",
       "    this.print = function(){\n",
       "        return \"The \" +this.color + ' car is going ' + this.speed + \" mph\";\n",
       "    }\n",
       "}\n",
       "Car.prototype = Vehicle;\n",
       "vroom = new Car(\"red\");\n",
       "vroom.go();\n",
       "document.getElementById(\"results12\").innerHTML = vroom.print();\n",
       "</script>"
      ],
      "text/plain": [
       "<IPython.core.display.HTML object>"
      ]
     },
     "metadata": {},
     "output_type": "display_data"
    }
   ],
   "source": [
    "%%html\n",
    "<p id=\"results12\">To be Replaced</p>\n",
    "<script>\n",
    "Vehicle = {go: function(){\n",
    "        this.speed = 10;\n",
    "}}\n",
    "\n",
    "function Car(color){\n",
    "    this.color = color;\n",
    "    this.print = function(){\n",
    "        return \"The \" +this.color + ' car is going ' + this.speed + \" mph\";\n",
    "    }\n",
    "}\n",
    "Car.prototype = Vehicle;\n",
    "vroom = new Car(\"red\");\n",
    "vroom.go();\n",
    "document.getElementById(\"results12\").innerHTML = vroom.print();\n",
    "</script>"
   ]
  },
  {
   "cell_type": "markdown",
   "metadata": {
    "slideshow": {
     "slide_type": "slide"
    }
   },
   "source": [
    "## The DOM\n",
    "- What is the DOM (Document Object Model)\n",
    "- How to access from JS\n",
    "- Common properties of DOM objects\n",
    "- Common methods of DOM objects"
   ]
  },
  {
   "cell_type": "code",
   "execution_count": 89,
   "metadata": {
    "slideshow": {
     "slide_type": "slide"
    }
   },
   "outputs": [
    {
     "data": {
      "text/html": [
       "<p class=\"something\"></p>\n",
       "<div class=\"something\"></div>\n",
       "<script>\n",
       "els = document.querySelectorAll(\".something\");\n",
       "for(i = 0; i < els.length; i++){\n",
       "    els[i].innerHTML = \"Hello \" + i;\n",
       "}\n",
       "</script>"
      ],
      "text/plain": [
       "<IPython.core.display.HTML object>"
      ]
     },
     "metadata": {},
     "output_type": "display_data"
    }
   ],
   "source": [
    "%%html\n",
    "<p class=\"something\"></p>\n",
    "<div class=\"something\"></div>\n",
    "<script>\n",
    "els = document.querySelectorAll(\".something\");\n",
    "for(i = 0; i < els.length; i++){\n",
    "    els[i].innerHTML = \"Hello \" + i;\n",
    "}\n",
    "</script>"
   ]
  },
  {
   "cell_type": "markdown",
   "metadata": {
    "slideshow": {
     "slide_type": "slide"
    }
   },
   "source": [
    "## Events\n",
    "- How are events used\n",
    "- How to bind events to an HTML element\n",
    "    - What is an event handler?\n",
    "- Some common events\n",
    "    - click\n",
    "    - load\n",
    "    - blur/focus"
   ]
  },
  {
   "cell_type": "code",
   "execution_count": 90,
   "metadata": {
    "slideshow": {
     "slide_type": "slide"
    }
   },
   "outputs": [
    {
     "data": {
      "text/html": [
       "<p id=\"event\">To Respond</p>\n",
       "<script>\n",
       "document.getElementById(\"event\").addEventListener('click',\n",
       "                            function(e){\n",
       "                                e.target.innerHTML = \"Clicked\"; \n",
       "                            });\n",
       "</script>"
      ],
      "text/plain": [
       "<IPython.core.display.HTML object>"
      ]
     },
     "metadata": {},
     "output_type": "display_data"
    }
   ],
   "source": [
    "%%html\n",
    "<p id=\"event\">To Respond</p>\n",
    "<script>\n",
    "document.getElementById(\"event\").addEventListener('click',\n",
    "                            function(e){\n",
    "                                e.target.innerHTML = \"Clicked\"; \n",
    "                            });\n",
    "</script>"
   ]
  },
  {
   "cell_type": "code",
   "execution_count": 91,
   "metadata": {
    "slideshow": {
     "slide_type": "slide"
    }
   },
   "outputs": [
    {
     "data": {
      "text/html": [
       "<input type=\"text\" id=\"event2\" />\n",
       "<script>\n",
       "document.getElementById(\"event2\").addEventListener('focus',\n",
       "                                                 function(e){\n",
       "                                                    e.target.value = \"In Focus\"; \n",
       "                                                 });\n",
       "document.getElementById(\"event2\").addEventListener('blur',\n",
       "                                                 function(e){\n",
       "                                                    e.target.value = \"Out of Focus\"; \n",
       "                                                 });\n",
       "</script>"
      ],
      "text/plain": [
       "<IPython.core.display.HTML object>"
      ]
     },
     "metadata": {},
     "output_type": "display_data"
    }
   ],
   "source": [
    "%%html\n",
    "<input type=\"text\" id=\"event2\" />\n",
    "<script>\n",
    "document.getElementById(\"event2\").addEventListener('focus',\n",
    "                                                 function(e){\n",
    "                                                    e.target.value = \"In Focus\"; \n",
    "                                                 });\n",
    "document.getElementById(\"event2\").addEventListener('blur',\n",
    "                                                 function(e){\n",
    "                                                    e.target.value = \"Out of Focus\"; \n",
    "                                                 });\n",
    "</script>"
   ]
  },
  {
   "cell_type": "markdown",
   "metadata": {
    "slideshow": {
     "slide_type": "slide"
    }
   },
   "source": [
    "## Storing things Locally\n",
    "- Why it is helpful to store things locally\n",
    "- Cookies\n",
    "    - Sent every HTTP Request\n",
    "    - Types of cookies\n",
    "- Newer API\n",
    "    - localStorage/ sessionStorage\n",
    "    - Benefits"
   ]
  },
  {
   "cell_type": "code",
   "execution_count": null,
   "metadata": {
    "collapsed": true,
    "slideshow": {
     "slide_type": "slide"
    }
   },
   "outputs": [],
   "source": [
    "%%html\n",
    "<script>\n",
    "    localStorage.setItem(\"color\",\"green\");\n",
    "    localStorage.getItem(\"color\");\n",
    "</script>"
   ]
  },
  {
   "cell_type": "markdown",
   "metadata": {
    "slideshow": {
     "slide_type": "slide"
    }
   },
   "source": [
    "## AJAX\n",
    "- What did it originally stand for\n",
    "- What does it allow\n",
    "- How to make and handle a request\n",
    "    - `open`\n",
    "    - `onreadystatechange`\n",
    "    - `send`"
   ]
  },
  {
   "cell_type": "code",
   "execution_count": 94,
   "metadata": {
    "slideshow": {
     "slide_type": "slide"
    }
   },
   "outputs": [
    {
     "data": {
      "text/html": [
       "<p id=\"ajaxResult\"></p>\n",
       "<script>\n",
       "    var xhr = new XMLHttpRequest();\n",
       "    xhr.open(\"GET\",\"usm.csv\");\n",
       "    xhr.onreadystatechange = function(){\n",
       "        if(xhr.readyState == 4){\n",
       "            if(xhr.status == 200){\n",
       "                document.getElementById(\"ajaxResult\").innerHTML = xhr.responseText\n",
       "            }\n",
       "        }\n",
       "    };\n",
       "    xhr.send();\n",
       "</script>"
      ],
      "text/plain": [
       "<IPython.core.display.HTML object>"
      ]
     },
     "metadata": {},
     "output_type": "display_data"
    }
   ],
   "source": [
    "%%html\n",
    "<p id=\"ajaxResult\"></p>\n",
    "<script>\n",
    "    var xhr = new XMLHttpRequest();\n",
    "    xhr.open(\"GET\",\"usm.csv\");\n",
    "    xhr.onreadystatechange = function(){\n",
    "        if(xhr.readyState == 4){\n",
    "            if(xhr.status == 200){\n",
    "                document.getElementById(\"ajaxResult\").innerHTML = xhr.responseText\n",
    "            }\n",
    "        }\n",
    "    };\n",
    "    xhr.send();\n",
    "</script>"
   ]
  },
  {
   "cell_type": "markdown",
   "metadata": {
    "slideshow": {
     "slide_type": "slide"
    }
   },
   "source": [
    "## JSON\n",
    "- What is it used for\n",
    "- How to convert from JSON to Javascript object\n",
    "- How does it relate to AJAX"
   ]
  },
  {
   "cell_type": "markdown",
   "metadata": {
    "slideshow": {
     "slide_type": "slide"
    }
   },
   "source": [
    "## PHP\n",
    "- What is PHP used for?\n",
    "- The PHP tag (`<?php ?>`)\n",
    "    - How to use in HTML, ie if statements\n",
    "- Variables\n",
    "    - `$`, `$$`, etc.\n",
    "    - Basic Data Types"
   ]
  },
  {
   "cell_type": "code",
   "execution_count": 95,
   "metadata": {
    "slideshow": {
     "slide_type": "slide"
    }
   },
   "outputs": [
    {
     "name": "stdout",
     "output_type": "stream",
     "text": [
      "10 10"
     ]
    }
   ],
   "source": [
    "%%script php\n",
    "<?php\n",
    "$a = \"b\";\n",
    "$b = 10;\n",
    "echo $$a . \" \" . $b;"
   ]
  },
  {
   "cell_type": "markdown",
   "metadata": {
    "slideshow": {
     "slide_type": "slide"
    }
   },
   "source": [
    "## PHP\n",
    "- Control Structures\n",
    "    - for/ while\n",
    "    - if, else if, else\n",
    "    - switch\n",
    "    - foreach .. as"
   ]
  },
  {
   "cell_type": "code",
   "execution_count": 96,
   "metadata": {
    "slideshow": {
     "slide_type": "slide"
    }
   },
   "outputs": [
    {
     "name": "stdout",
     "output_type": "stream",
     "text": [
      "     <strong> 10 is not less than 10</strong>   \n",
      "        "
     ]
    }
   ],
   "source": [
    "%%script php\n",
    "<?php\n",
    "$a = 10;\n",
    "if($a > 10){\n",
    "    ?>\n",
    "    <strong> 10 is less than 10</strong>\n",
    "    <?php\n",
    "} else { ?>\n",
    "     <strong> 10 is not less than 10</strong>   \n",
    "        <?php }?>"
   ]
  },
  {
   "cell_type": "code",
   "execution_count": 97,
   "metadata": {
    "slideshow": {
     "slide_type": "slide"
    }
   },
   "outputs": [
    {
     "name": "stdout",
     "output_type": "stream",
     "text": [
      "20406080100"
     ]
    }
   ],
   "source": [
    "%%script php\n",
    "<?php\n",
    "$list = [10,20,30,40,50];\n",
    "foreach($list as $el){\n",
    "    echo $el * 2;\n",
    "}\n",
    "?>"
   ]
  },
  {
   "cell_type": "markdown",
   "metadata": {
    "slideshow": {
     "slide_type": "slide"
    }
   },
   "source": [
    "## PHP\n",
    "- Strings\n",
    "    - Interpolation in Strings\n",
    "    - Concatenation with `.`\n",
    "    - `echo`"
   ]
  },
  {
   "cell_type": "code",
   "execution_count": 98,
   "metadata": {
    "slideshow": {
     "slide_type": "slide"
    }
   },
   "outputs": [
    {
     "name": "stdout",
     "output_type": "stream",
     "text": [
      "This is interpolated: 10This isnt $a"
     ]
    }
   ],
   "source": [
    "%%script php\n",
    "<?php \n",
    "$a = 10;\n",
    "echo \"This is interpolated: $a\";\n",
    "echo 'This isnt $a';"
   ]
  },
  {
   "cell_type": "markdown",
   "metadata": {
    "slideshow": {
     "slide_type": "slide"
    }
   },
   "source": [
    "## Arrays\n",
    "- Two Types\n",
    "    - Associative\n",
    "    - Indexed\n",
    "- Declaring\n",
    "- `count` function\n",
    "- Adding new elements\n",
    "- Sorting"
   ]
  },
  {
   "cell_type": "code",
   "execution_count": 99,
   "metadata": {
    "slideshow": {
     "slide_type": "slide"
    }
   },
   "outputs": [
    {
     "name": "stdout",
     "output_type": "stream",
     "text": [
      "2"
     ]
    }
   ],
   "source": [
    "%%script php\n",
    "<?php\n",
    "$indexed = array();\n",
    "$indexed[] = 1;\n",
    "$indexed[] = 2;\n",
    "echo count($indexed);"
   ]
  },
  {
   "cell_type": "code",
   "execution_count": 100,
   "metadata": {
    "slideshow": {
     "slide_type": "slide"
    }
   },
   "outputs": [
    {
     "name": "stdout",
     "output_type": "stream",
     "text": [
      "Array\n",
      "(\n",
      "    [0] => 1\n",
      "    [1] => 2\n",
      ")\n"
     ]
    }
   ],
   "source": [
    "%%script php\n",
    "<?php\n",
    "$indexed = [1,2];\n",
    "print_r($indexed);"
   ]
  },
  {
   "cell_type": "code",
   "execution_count": 101,
   "metadata": {
    "slideshow": {
     "slide_type": "slide"
    }
   },
   "outputs": [
    {
     "name": "stdout",
     "output_type": "stream",
     "text": [
      "Array\n",
      "(\n",
      "    [lunes] => monday\n",
      "    [jueves] => thursday\n",
      "    [martes] => tuesday\n",
      "    [miercoles] => wednesday\n",
      ")\n",
      "Array\n",
      "(\n",
      "    [jueves] => thursday\n",
      "    [lunes] => monday\n",
      "    [martes] => tuesday\n",
      "    [miercoles] => wednesday\n",
      ")\n",
      "Array\n",
      "(\n",
      "    [0] => monday\n",
      "    [1] => thursday\n",
      "    [2] => tuesday\n",
      "    [3] => wednesday\n",
      ")\n"
     ]
    }
   ],
   "source": [
    "%%script php\n",
    "<?php\n",
    "$assoc = ['lunes'=>'monday','martes' => 'tuesday','miercoles' => 'wednesday'];\n",
    "$assoc['jueves'] = 'thursday';\n",
    "asort($assoc);\n",
    "print_r($assoc);\n",
    "ksort($assoc);\n",
    "print_r($assoc);\n",
    "sort($assoc);\n",
    "print_r($assoc);"
   ]
  },
  {
   "cell_type": "markdown",
   "metadata": {
    "slideshow": {
     "slide_type": "slide"
    }
   },
   "source": [
    "## Functions in PHP\n",
    "- Declaring (`function`) keyword\n",
    "- Scope\n",
    "    - `global`\n",
    "- Returning from Functions\n",
    "- Pass-by-value is default"
   ]
  },
  {
   "cell_type": "code",
   "execution_count": 103,
   "metadata": {
    "slideshow": {
     "slide_type": "slide"
    }
   },
   "outputs": [
    {
     "name": "stdout",
     "output_type": "stream",
     "text": [
      "10"
     ]
    },
    {
     "name": "stderr",
     "output_type": "stream",
     "text": [
      "PHP Notice:  Undefined variable: a in - on line 4\n"
     ]
    }
   ],
   "source": [
    "%%script php\n",
    "<?php\n",
    "$a = 10;\n",
    "function scope_tester(){\n",
    "    $a .= \"Hello\";\n",
    "}\n",
    "scope_tester();\n",
    "echo $a;"
   ]
  },
  {
   "cell_type": "code",
   "execution_count": 104,
   "metadata": {
    "slideshow": {
     "slide_type": "slide"
    }
   },
   "outputs": [
    {
     "name": "stdout",
     "output_type": "stream",
     "text": [
      "10Hello"
     ]
    }
   ],
   "source": [
    "%%script php\n",
    "<?php\n",
    "$a = 10;\n",
    "function scope_tester(){\n",
    "    global $a;\n",
    "    $a .= \"Hello\";\n",
    "}\n",
    "scope_tester();\n",
    "echo $a;"
   ]
  },
  {
   "cell_type": "markdown",
   "metadata": {
    "slideshow": {
     "slide_type": "slide"
    }
   },
   "source": [
    "## Files\n",
    "- Reading and Writing using file handles\n",
    "- Reading and writing using specialized fucntions\n",
    "- Opening network locations like files\n",
    "- Uploading files with `$_FILES`"
   ]
  },
  {
   "cell_type": "code",
   "execution_count": 105,
   "metadata": {
    "slideshow": {
     "slide_type": "slide"
    }
   },
   "outputs": [
    {
     "name": "stdout",
     "output_type": "stream",
     "text": [
      "Name,ZIP Code,Undergraduate Enrollment,Graduate Enrollment\n",
      "UMBC,21250,11142,2498\n",
      "UMCP,20742,28472,10611\n",
      "Towson,21252,19596,3109\n",
      "UMUC,20774,67434,19382\n",
      "Morgan State,21251,6362,1327\n",
      "\n"
     ]
    }
   ],
   "source": [
    "%%script php\n",
    "<?php\n",
    "$fp = fopen(\"usm.csv\",'r');\n",
    "while($line=fgets($fp)){\n",
    "    echo $line;\n",
    "}"
   ]
  },
  {
   "cell_type": "code",
   "execution_count": 106,
   "metadata": {
    "slideshow": {
     "slide_type": "slide"
    }
   },
   "outputs": [
    {
     "name": "stdout",
     "output_type": "stream",
     "text": [
      "Name,ZIP Code,Undergraduate Enrollment,Graduate Enrollment\n",
      "UMBC,21250,11142,2498\n",
      "UMCP,20742,28472,10611\n",
      "Towson,21252,19596,3109\n",
      "UMUC,20774,67434,19382\n",
      "Morgan State,21251,6362,1327\n",
      "\n"
     ]
    }
   ],
   "source": [
    "%%script php\n",
    "<?php\n",
    "$stuff = file_get_contents(\"usm.csv\");\n",
    "echo $stuff;"
   ]
  },
  {
   "cell_type": "code",
   "execution_count": 107,
   "metadata": {
    "slideshow": {
     "slide_type": "slide"
    }
   },
   "outputs": [
    {
     "name": "stdout",
     "output_type": "stream",
     "text": [
      "Array\n",
      "(\n",
      "    [0] => Name,ZIP Code,Undergraduate Enrollment,Graduate Enrollment\n",
      "\n",
      "    [1] => UMBC,21250,11142,2498\n",
      "\n",
      "    [2] => UMCP,20742,28472,10611\n",
      "\n",
      "    [3] => Towson,21252,19596,3109\n",
      "\n",
      "    [4] => UMUC,20774,67434,19382\n",
      "\n",
      "    [5] => Morgan State,21251,6362,1327\n",
      "\n",
      "    [6] => \n",
      "\n",
      ")\n"
     ]
    }
   ],
   "source": [
    "%%script php\n",
    "<?php\n",
    "$stuff = file(\"usm.csv\");\n",
    "print_r($stuff);"
   ]
  },
  {
   "cell_type": "markdown",
   "metadata": {
    "slideshow": {
     "slide_type": "slide"
    }
   },
   "source": [
    "## Superglobals\n",
    "- What is a subperglobal\n",
    "- How to use `$_GET`, `$_POST`, `$_SESSION`\n",
    "- What type of things are in `$_SERVER`"
   ]
  },
  {
   "cell_type": "markdown",
   "metadata": {
    "slideshow": {
     "slide_type": "slide"
    }
   },
   "source": [
    "## PHP Objects\n",
    "- How to Define\n",
    "- How to call methods `->` syntax"
   ]
  },
  {
   "cell_type": "code",
   "execution_count": 108,
   "metadata": {
    "slideshow": {
     "slide_type": "slide"
    }
   },
   "outputs": [
    {
     "name": "stdout",
     "output_type": "stream",
     "text": [
      "$10.10\n",
      "10"
     ]
    }
   ],
   "source": [
    "%%script php\n",
    "<?php\n",
    "class Money{\n",
    "    private $dollars;\n",
    "    private $cents;\n",
    "    \n",
    "    function __construct($d = 0, $c =0){\n",
    "        $this->dollars = $d;\n",
    "        $this->cents = $c;\n",
    "    }\n",
    "    \n",
    "    function __toString()\n",
    "    {\n",
    "        return '$' . $this->dollars . \".\" . $this->cents;\n",
    "    }\n",
    "    \n",
    "    function getDollars(){\n",
    "        return $this->dollars;\n",
    "    }\n",
    "}\n",
    "\n",
    "$currency =  new Money(10,10);\n",
    "echo $currency;\n",
    "echo \"\\n\";\n",
    "echo $currency->getDollars();"
   ]
  },
  {
   "cell_type": "markdown",
   "metadata": {
    "slideshow": {
     "slide_type": "slide"
    }
   },
   "source": [
    "## Regular Expressions\n",
    "- All start with `preg_`\n",
    "- How matches are stored\n",
    "- How to replace\n",
    "    - What type of data can be used with the replace function"
   ]
  },
  {
   "cell_type": "code",
   "execution_count": 109,
   "metadata": {
    "slideshow": {
     "slide_type": "slide"
    }
   },
   "outputs": [
    {
     "name": "stdout",
     "output_type": "stream",
     "text": [
      "Array\n",
      "(\n",
      "    [0] => bryan.wilkinson@umbc.edu\n",
      "    [1] => bryan.wilkinson\n",
      ")\n"
     ]
    }
   ],
   "source": [
    "%%script php\n",
    "<?php\n",
    "preg_match(\"/([\\w\\.]+)@\\w+\\.\\w\\w\\w/\",\"My email address is bryan.wilkinson@umbc.edu\",$matches);\n",
    "print_r($matches);"
   ]
  },
  {
   "cell_type": "code",
   "execution_count": 110,
   "metadata": {
    "slideshow": {
     "slide_type": "slide"
    }
   },
   "outputs": [
    {
     "name": "stdout",
     "output_type": "stream",
     "text": [
      "Outside <strong>Make this Strong</strong>"
     ]
    }
   ],
   "source": [
    "%%script php\n",
    "<?php\n",
    "echo preg_replace('/\\*\\*(.+?)\\*\\*/','<strong>$1</strong>',\"Outside **Make this Strong**\");"
   ]
  },
  {
   "cell_type": "markdown",
   "metadata": {
    "slideshow": {
     "slide_type": "slide"
    }
   },
   "source": [
    "## Miscellaneous\n",
    "- Be able to compare and contrast languages at a high level\n",
    "    - What language might you choose for which task?\n",
    "- Julia\n",
    "    - What it is used for?\n",
    "    - What is unique about it?\n",
    "- Ruby\n",
    "    - What is it used for?\n",
    "    - What are blocks?"
   ]
  }
 ],
 "metadata": {
  "celltoolbar": "Slideshow",
  "kernelspec": {
   "display_name": "Python 3",
   "language": "python",
   "name": "python3"
  },
  "language_info": {
   "codemirror_mode": {
    "name": "ipython",
    "version": 3
   },
   "file_extension": ".py",
   "mimetype": "text/x-python",
   "name": "python",
   "nbconvert_exporter": "python",
   "pygments_lexer": "ipython3",
   "version": "3.5.2"
  }
 },
 "nbformat": 4,
 "nbformat_minor": 2
}

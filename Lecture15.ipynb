{
 "cells": [
  {
   "cell_type": "markdown",
   "metadata": {
    "slideshow": {
     "slide_type": "slide"
    }
   },
   "source": [
    "# CSS\n"
   ]
  },
  {
   "cell_type": "markdown",
   "metadata": {
    "slideshow": {
     "slide_type": "slide"
    }
   },
   "source": [
    "## CSS and HTML\n",
    "- CSS is short for cascading style sheets\n",
    "    - Cascading refers to inheritance\n",
    "- Prior to the development of CSS in 1996, the style of a website had to be controlled using attributes\n",
    "```html\n",
    "<p color=\"gray\" border=\"1px solid black\">Text</p>\n",
    "```\n",
    "    - This deviates from HTMLs goal of only expressing content"
   ]
  },
  {
   "cell_type": "markdown",
   "metadata": {
    "slideshow": {
     "slide_type": "slide"
    }
   },
   "source": [
    "## CSS Rules\n",
    "- A CSS Rule describes what styles to apply to which elements of the page\n",
    "- A CSS Rule has three main parts\n",
    "    - Selector\n",
    "    - Properties\n",
    "    - Values\n",
    "```css\n",
    "selector {property1: value1; property: value2;}\n",
    "```"
   ]
  },
  {
   "cell_type": "markdown",
   "metadata": {
    "slideshow": {
     "slide_type": "slide"
    }
   },
   "source": [
    "## CSS Location\n",
    "- CSS can be written \n",
    "    - In a separate document\n",
    "    - Inside a `<style>` tag, which is usually in the `<head>` tag\n",
    "    - Inside the style attribute of a tag\n",
    "        - Avoid this"
   ]
  },
  {
   "cell_type": "markdown",
   "metadata": {
    "slideshow": {
     "slide_type": "slide"
    }
   },
   "source": [
    "## Selectors\n",
    "- The elements to which a style is applied to are controlled by the selector, which can be \n",
    "    - A tag name\n",
    "    - An id\n",
    "    - A class name\n",
    "    - A psuedo-class\n",
    "    - A specific nesting of tag names"
   ]
  },
  {
   "cell_type": "code",
   "execution_count": null,
   "metadata": {
    "slideshow": {
     "slide_type": "slide"
    }
   },
   "outputs": [],
   "source": [
    "%%html\n",
    "<!DOCTYPE html>\n",
    "<html>\n",
    "    <head>\n",
    "        <style>\n",
    "            p {background-color:gray}\n",
    "        </style>\n",
    "    </head>\n",
    "    <body>\n",
    "        <div class=\"main\"> \n",
    "            <p>I am a paragraph inside a div! <span>I am a span inside a paragraph, inside a div</span></p>\n",
    "        </div>\n",
    "        <p id=\"alone\" class=\"main\">I am a paragraph not in a div</p>\n",
    "        <p lang=\"es\">Soy un párrafo en español</p>\n",
    "    </body>\n",
    "</html>"
   ]
  },
  {
   "cell_type": "code",
   "execution_count": null,
   "metadata": {
    "slideshow": {
     "slide_type": "slide"
    }
   },
   "outputs": [],
   "source": [
    "%%html\n",
    "<!DOCTYPE html>\n",
    "<html>\n",
    "    <head>\n",
    "        <style>\n",
    "            p#alone {border:3px solid black}\n",
    "        </style>\n",
    "    </head>\n",
    "    <body>\n",
    "        <div class=\"main\"> \n",
    "            <p>I am a paragraph inside a div! <span>I am a span inside a paragraph, inside a div</span></p>\n",
    "        </div>\n",
    "        <p id=\"alone\" class=\"main\">I am a paragraph not in a div</p>\n",
    "        <p lang=\"es\">Soy un párrafo en español</p>\n",
    "    </body>\n",
    "</html>"
   ]
  },
  {
   "cell_type": "code",
   "execution_count": 1,
   "metadata": {
    "slideshow": {
     "slide_type": "slide"
    }
   },
   "outputs": [
    {
     "data": {
      "text/html": [
       "<!DOCTYPE html>\n",
       "<html>\n",
       "    <head>\n",
       "        <style>\n",
       "            .main {border:3px solid blue}\n",
       "        </style>\n",
       "    </head>\n",
       "    <body>\n",
       "        <div class=\"main\"> \n",
       "            <p lang=\"en\">I am a paragraph inside a div! <span>I am a span inside a paragraph, inside a div</span></p>\n",
       "        </div>\n",
       "        <p id=\"alone\" class=\"main\">I am a paragraph not in a div</p>\n",
       "        <p lang=\"es\">Soy un párrafo en español</p>\n",
       "    </body>\n",
       "</html>"
      ],
      "text/plain": [
       "<IPython.core.display.HTML object>"
      ]
     },
     "metadata": {},
     "output_type": "display_data"
    }
   ],
   "source": [
    "%%html\n",
    "<!DOCTYPE html>\n",
    "<html>\n",
    "    <head>\n",
    "        <style>\n",
    "            .main {border:3px solid blue}\n",
    "        </style>\n",
    "    </head>\n",
    "    <body>\n",
    "        <div class=\"main\"> \n",
    "            <p lang=\"en\">I am a paragraph inside a div! <span>I am a span inside a paragraph, inside a div</span></p>\n",
    "        </div>\n",
    "        <p id=\"alone\" class=\"main\">I am a paragraph not in a div</p>\n",
    "        <p lang=\"es\">Soy un párrafo en español</p>\n",
    "    </body>\n",
    "</html>"
   ]
  },
  {
   "cell_type": "markdown",
   "metadata": {
    "slideshow": {
     "slide_type": "slide"
    }
   },
   "source": [
    "## Psuedo-Classes \n",
    "- Psuedo-classes are used to refine selectors to only match elements with certain properties or in certain states\n",
    "- They are preceded by the colon character\n",
    "    - :only-child\n",
    "    - :lang()\n",
    "    - :hover\n",
    "    - :disabled\n",
    "- A full list is available at <a href=\"https://developer.mozilla.org/en-US/docs/Learn/CSS/Introduction_to_CSS/Pseudo-classes_and_pseudo-elements\">MDN</a>"
   ]
  },
  {
   "cell_type": "code",
   "execution_count": 2,
   "metadata": {
    "slideshow": {
     "slide_type": "slide"
    }
   },
   "outputs": [
    {
     "data": {
      "text/html": [
       "<!DOCTYPE html>\n",
       "<html>\n",
       "    <head>\n",
       "        <style>\n",
       "            :lang(es) {border:3px solid red}\n",
       "        </style>\n",
       "    </head>\n",
       "    <body>\n",
       "        <div class=\"main\"> \n",
       "            <p>I am a paragraph inside a div! <span>I am a span inside a paragraph, inside a div</span></p>\n",
       "        </div>\n",
       "        <p id=\"alone\" class=\"main\">I am a paragraph not in a div</p>\n",
       "        <p lang=\"es\">Soy un párrafo en español</p>\n",
       "    </body>\n",
       "</html>"
      ],
      "text/plain": [
       "<IPython.core.display.HTML object>"
      ]
     },
     "metadata": {},
     "output_type": "display_data"
    }
   ],
   "source": [
    "%%html\n",
    "<!DOCTYPE html>\n",
    "<html>\n",
    "    <head>\n",
    "        <style>\n",
    "            :lang(es) {border:3px solid red}\n",
    "        </style>\n",
    "    </head>\n",
    "    <body>\n",
    "        <div class=\"main\"> \n",
    "            <p>I am a paragraph inside a div! <span>I am a span inside a paragraph, inside a div</span></p>\n",
    "        </div>\n",
    "        <p id=\"alone\" class=\"main\">I am a paragraph not in a div</p>\n",
    "        <p lang=\"es\">Soy un párrafo en español</p>\n",
    "    </body>\n",
    "</html>"
   ]
  },
  {
   "cell_type": "code",
   "execution_count": 5,
   "metadata": {
    "slideshow": {
     "slide_type": "slide"
    }
   },
   "outputs": [
    {
     "data": {
      "text/html": [
       "<!DOCTYPE html>\n",
       "<html>\n",
       "    <head>\n",
       "        <style>\n",
       "            a:hover{border:3px dashed gray}\n",
       "            input:disabled{background-color: white} /*Don't do this*/\n",
       "            input:checked{width:2rem}\n",
       "        </style>\n",
       "    </head>\n",
       "    <body>\n",
       "        <a href=\"\">This is a link to nowhere</a>\n",
       "        <form>\n",
       "            <div>\n",
       "                <input type=\"text\" disabled value=\"You can't change me\"/>\n",
       "            </div>\n",
       "            <div>\n",
       "                 <input type=\"text\" value=\"You can change me\"/>\n",
       "            </div>\n",
       "            <label ><input type=\"checkbox\">I am a checkbox</label>\n",
       "        </form>\n",
       "    </body>\n",
       "</html>"
      ],
      "text/plain": [
       "<IPython.core.display.HTML object>"
      ]
     },
     "metadata": {},
     "output_type": "display_data"
    }
   ],
   "source": [
    "%%html\n",
    "<!DOCTYPE html>\n",
    "<html>\n",
    "    <head>\n",
    "        <style>\n",
    "            a:hover{border:3px dashed gray}\n",
    "            input:disabled{background-color: white} /*Don't do this*/\n",
    "            input:checked{width:2rem}\n",
    "        </style>\n",
    "    </head>\n",
    "    <body>\n",
    "        <a href=\"\">This is a link to nowhere</a>\n",
    "        <form>\n",
    "            <div>\n",
    "                <input type=\"text\" disabled value=\"You can't change me\"/>\n",
    "            </div>\n",
    "            <div>\n",
    "                 <input type=\"text\" value=\"You can change me\"/>\n",
    "            </div>\n",
    "            <label ><input type=\"checkbox\">I am a checkbox</label>\n",
    "        </form>\n",
    "    </body>\n",
    "</html>"
   ]
  },
  {
   "cell_type": "markdown",
   "metadata": {
    "slideshow": {
     "slide_type": "slide"
    }
   },
   "source": [
    "## Psuedo-Elements\n",
    "- Psuedo elements are similar to psuedo-classes, but they can be used to either add or change part of an elements content\n",
    "    - Like having the first letter wrapped in a span, but with out all the effort\n",
    "- While psuedo-elements have existed in some form since CSS 1, in CSS3, the syntax was changed to used double colons (::)\n",
    "    - ::before\n",
    "    - ::after\n",
    "    - ::first-letter\n",
    "    - ::first-line"
   ]
  },
  {
   "cell_type": "code",
   "execution_count": 6,
   "metadata": {
    "slideshow": {
     "slide_type": "slide"
    }
   },
   "outputs": [
    {
     "data": {
      "text/html": [
       "<!DOCTYPE html>\n",
       "<html>\n",
       "    <head>\n",
       "        <style>\n",
       "            p.psuedo-examples{background-color:white}\n",
       "            p.psuedo-examples::first-letter{font-size:2rem;}\n",
       "            p.psuedo-examples::first-line{font-weight:900;}\n",
       "        </style>\n",
       "    </head>\n",
       "    <body>\n",
       "       <p class=\"psuedo-examples\">I am, a very very long paragraph. I am, a very very long paragraph. \n",
       "        I am, a very very long paragraph. I am, a very very long paragraph. I am, a very very long paragraph. \n",
       "        I am, a very very long paragraph. I am, a very very long paragraph. I am, a very very long paragraph.\n",
       "        I am, a very very long paragraph. I am, a very very long paragraph. I am, a very very long paragraph. \n",
       "        I am, a very very long paragraph. I am, a very very long paragraph. </p>\n",
       "        \n",
       "        <p class=\"psuedo-examples\">I am, a very very long paragraph. I am, a very very long paragraph. \n",
       "        I am, a very very long paragraph. I am, a very very long paragraph. I am, a very very long paragraph. \n",
       "        I am, a very very long paragraph. I am, a very very long paragraph. I am, a very very long paragraph.\n",
       "        I am, a very very long paragraph. I am, a very very long paragraph. I am, a very very long paragraph. \n",
       "        I am, a very very long paragraph. I am, a very very long paragraph. </p>\n",
       "    </body>\n",
       "</html>"
      ],
      "text/plain": [
       "<IPython.core.display.HTML object>"
      ]
     },
     "metadata": {},
     "output_type": "display_data"
    }
   ],
   "source": [
    "%%html\n",
    "<!DOCTYPE html>\n",
    "<html>\n",
    "    <head>\n",
    "        <style>\n",
    "            p.psuedo-examples{background-color:white}\n",
    "            p.psuedo-examples::first-letter{font-size:2rem;}\n",
    "            p.psuedo-examples::first-line{font-weight:900;}\n",
    "        </style>\n",
    "    </head>\n",
    "    <body>\n",
    "       <p class=\"psuedo-examples\">I am, a very very long paragraph. I am, a very very long paragraph. \n",
    "        I am, a very very long paragraph. I am, a very very long paragraph. I am, a very very long paragraph. \n",
    "        I am, a very very long paragraph. I am, a very very long paragraph. I am, a very very long paragraph.\n",
    "        I am, a very very long paragraph. I am, a very very long paragraph. I am, a very very long paragraph. \n",
    "        I am, a very very long paragraph. I am, a very very long paragraph. </p>\n",
    "        \n",
    "        <p class=\"psuedo-examples\">I am, a very very long paragraph. I am, a very very long paragraph. \n",
    "        I am, a very very long paragraph. I am, a very very long paragraph. I am, a very very long paragraph. \n",
    "        I am, a very very long paragraph. I am, a very very long paragraph. I am, a very very long paragraph.\n",
    "        I am, a very very long paragraph. I am, a very very long paragraph. I am, a very very long paragraph. \n",
    "        I am, a very very long paragraph. I am, a very very long paragraph. </p>\n",
    "    </body>\n",
    "</html>"
   ]
  },
  {
   "cell_type": "markdown",
   "metadata": {
    "slideshow": {
     "slide_type": "slide"
    }
   },
   "source": [
    "## Nested Selectors\n",
    "- Selectors can be nested by using spaces, such as \n",
    "```css\n",
    "    div p\n",
    "```\n",
    "    - This selects any paragraph that has a `div` as an ancestor\n",
    "- To better control selection, the following are available\n",
    "    - P > C - C must be directly under P\n",
    "    - A + B - A and B are both children of the same parent, B is immediately after A\n",
    "    - A ~ B - A and B are both children of the same parent, B is somewhere after A"
   ]
  },
  {
   "cell_type": "code",
   "execution_count": 9,
   "metadata": {
    "slideshow": {
     "slide_type": "slide"
    }
   },
   "outputs": [
    {
     "data": {
      "text/html": [
       "<!DOCTYPE html>\n",
       "<html>\n",
       "    <head>\n",
       "        <style>\n",
       "            p{background-color:white}\n",
       "            div span {font-family:monospace;}\n",
       "            div > span {font-size:2rem;}\n",
       "            span + span {color:gray}\n",
       "        </style>\n",
       "    </head>\n",
       "    <body>\n",
       "       <div>\n",
       "            <span>I am span 1</span>\n",
       "            <span>I am span 2</span>\n",
       "            <span>I am span 3</span>\n",
       "            <p><span>I am span 4</span></p>\n",
       "       </div>\n",
       "    <span>Shouldn't change</span>\n",
       "    </body>\n",
       "</html>"
      ],
      "text/plain": [
       "<IPython.core.display.HTML object>"
      ]
     },
     "metadata": {},
     "output_type": "display_data"
    }
   ],
   "source": [
    "%%html\n",
    "<!DOCTYPE html>\n",
    "<html>\n",
    "    <head>\n",
    "        <style>\n",
    "            p{background-color:white}\n",
    "            div span {font-family:monospace;}\n",
    "            div > span {font-size:2rem;}\n",
    "            span + span {color:gray}\n",
    "        </style>\n",
    "    </head>\n",
    "    <body>\n",
    "       <div>\n",
    "            <span>I am span 1</span>\n",
    "            <span>I am span 2</span>\n",
    "            <span>I am span 3</span>\n",
    "            <p><span>I am span 4</span></p>\n",
    "       </div>\n",
    "    <span>Shouldn't change</span>\n",
    "    </body>\n",
    "</html>"
   ]
  },
  {
   "cell_type": "markdown",
   "metadata": {
    "slideshow": {
     "slide_type": "slide"
    }
   },
   "source": [
    "## CSS Properties\n",
    "- There are many more CSS properties than there are HTML elements\n",
    "    - Some only have effects on certain elements\n",
    "    - Some can be used almost anywhere\n",
    "- Each property has a set of possible values\n",
    "    - You'll notice some general themese\n",
    "- Some properties are shortcut properties\n",
    "```css\n",
    "    div {border:3px solid black;}\n",
    "    div {border-width:3px; border-style:solid; border-color:black;}\n",
    "```"
   ]
  },
  {
   "cell_type": "markdown",
   "metadata": {
    "slideshow": {
     "slide_type": "slide"
    }
   },
   "source": [
    "## Basic Text Styling\n",
    "- The following attributes are some properties used to style text in an element\n",
    "    - color\n",
    "    - font-family\n",
    "    - font-size\n",
    "    - font-weight\n",
    "    - font-style\n",
    "    - text-transform"
   ]
  },
  {
   "cell_type": "code",
   "execution_count": 13,
   "metadata": {
    "slideshow": {
     "slide_type": "slide"
    }
   },
   "outputs": [
    {
     "data": {
      "text/html": [
       "<!DOCTYPE html>\n",
       "<html>\n",
       "    <head>\n",
       "        <style>\n",
       "            div#text-examples{font-family:\"Ubuntu\",sans-serif;\n",
       "                              font-size:2rem;\n",
       "                              color:#444444;\n",
       "                              font-weight:800;\n",
       "                              font-style:italic;\n",
       "                              text-transform:uppercase;\n",
       "                              line-height:2.3rem;}\n",
       "        </style>\n",
       "    </head>\n",
       "    <body>\n",
       "       <div id=\"text-examples\">\n",
       "           Text Text Text Text Text Text Text Text Text Text Text Text Text Text \n",
       "           Text Text Text Text  Text Text Text Text Text Text Text Text Text\n",
       "       </div>\n",
       "    </body>\n",
       "</html>"
      ],
      "text/plain": [
       "<IPython.core.display.HTML object>"
      ]
     },
     "metadata": {},
     "output_type": "display_data"
    }
   ],
   "source": [
    "%%html\n",
    "<!DOCTYPE html>\n",
    "<html>\n",
    "    <head>\n",
    "        <style>\n",
    "            div#text-examples{font-family:\"Ubuntu\",sans-serif;\n",
    "                              font-size:2rem;\n",
    "                              color:#444444;\n",
    "                              font-weight:800;\n",
    "                              font-style:italic;\n",
    "                              text-transform:uppercase;\n",
    "                              line-height:2.3rem;}\n",
    "        </style>\n",
    "    </head>\n",
    "    <body>\n",
    "       <div id=\"text-examples\">\n",
    "           Text Text Text Text Text Text Text Text Text Text Text Text Text Text \n",
    "           Text Text Text Text  Text Text Text Text Text Text Text Text Text\n",
    "       </div>\n",
    "    </body>\n",
    "</html>"
   ]
  },
  {
   "cell_type": "markdown",
   "metadata": {
    "slideshow": {
     "slide_type": "slide"
    }
   },
   "source": [
    "## Sizing Units on the Web\n",
    "- There are many different units you can use to size fonts as well as any other element on the web\n",
    "    - mm, cm, in - Generally avoid, unless you are styling for print\n",
    "    - pt - Points\n",
    "    - px - Pixels\n",
    "    - em - 1em is the size of the capital M in the current element\n",
    "    - rem - 1rem is the size of the capital M in the root element (HTML)\n",
    "    - vh,vw - 100vh is the height of the viewport"
   ]
  },
  {
   "cell_type": "code",
   "execution_count": 14,
   "metadata": {
    "slideshow": {
     "slide_type": "slide"
    }
   },
   "outputs": [
    {
     "data": {
      "text/html": [
       "<!DOCTYPE html>\n",
       "<html>\n",
       "    <head>\n",
       "        <style>\n",
       "            p{line-height:1.25em;}\n",
       "            p#ex1{font-size:20pt;}\n",
       "            p#ex2{font-size:20px;}\n",
       "            p#ex3{font-size:10mm;}\n",
       "            p#ex4{font-size:2em;}\n",
       "            p#ex5{font-size:5vh;}\n",
       "            p#ex6{font-size:3vw;}\n",
       "            p#ex7{font-size:2em;}\n",
       "            p#ex8{font-size:2em;}\n",
       "            p#ex9{font-size:2rem;}\n",
       "            p#ex10{font-size:2rem;}\n",
       "        </style>\n",
       "    </head>\n",
       "    <body>\n",
       "        <p id=\"ex1\">Example 1</p>\n",
       "        <p id=\"ex2\">Example 2</p>\n",
       "        <p id=\"ex3\">Example 3</p>\n",
       "        <p id=\"ex4\">Example 4</p>\n",
       "        <p id=\"ex5\">Example 5</p>\n",
       "        <p id=\"ex6\">Example 6</p>\n",
       "        <div id=\"ex7\">\n",
       "            <p id=\"ex8\">Example 8</p>\n",
       "        </div>\n",
       "        <div id=\"ex9\">\n",
       "            <p id=\"ex10\">Example 10</p>\n",
       "        </div>\n",
       "    </body>\n",
       "</html>"
      ],
      "text/plain": [
       "<IPython.core.display.HTML object>"
      ]
     },
     "metadata": {},
     "output_type": "display_data"
    }
   ],
   "source": [
    "%%html\n",
    "<!DOCTYPE html>\n",
    "<html>\n",
    "    <head>\n",
    "        <style>\n",
    "            p{line-height:1.25em;}\n",
    "            p#ex1{font-size:20pt;}\n",
    "            p#ex2{font-size:20px;}\n",
    "            p#ex3{font-size:10mm;}\n",
    "            p#ex4{font-size:2em;}\n",
    "            p#ex5{font-size:5vh;}\n",
    "            p#ex6{font-size:3vw;}\n",
    "            p#ex7{font-size:2em;}\n",
    "            p#ex8{font-size:2em;}\n",
    "            p#ex9{font-size:2rem;}\n",
    "            p#ex10{font-size:2rem;}\n",
    "        </style>\n",
    "    </head>\n",
    "    <body>\n",
    "        <p id=\"ex1\">Example 1</p>\n",
    "        <p id=\"ex2\">Example 2</p>\n",
    "        <p id=\"ex3\">Example 3</p>\n",
    "        <p id=\"ex4\">Example 4</p>\n",
    "        <p id=\"ex5\">Example 5</p>\n",
    "        <p id=\"ex6\">Example 6</p>\n",
    "        <div id=\"ex7\">\n",
    "            <p id=\"ex8\">Example 8</p>\n",
    "        </div>\n",
    "        <div id=\"ex9\">\n",
    "            <p id=\"ex10\">Example 10</p>\n",
    "        </div>\n",
    "    </body>\n",
    "</html>"
   ]
  },
  {
   "cell_type": "markdown",
   "metadata": {
    "slideshow": {
     "slide_type": "slide"
    }
   },
   "source": [
    "## Positioning\n",
    "- The positioning of elements is controlled through CSS, although some of these properties are less common nowadays\n",
    "    - position - Changes the positioning system used top place an element\n",
    "        - left\n",
    "        - right\n",
    "        - top\n",
    "        - bottom\n",
    "    - float - allows multiple block elements to be next to each other\n",
    "    - display - changes block elements to inline, or other options"
   ]
  },
  {
   "cell_type": "code",
   "execution_count": 15,
   "metadata": {
    "slideshow": {
     "slide_type": "slide"
    }
   },
   "outputs": [
    {
     "data": {
      "text/html": [
       "<!DOCTYPE html>\n",
       "<html>\n",
       "    <head>\n",
       "        <style>\n",
       "           div#f1{float:left; width:50%;}\n",
       "           div#f2{float:left; width:50%;}\n",
       "           div#f3{float:right; width:50%;}\n",
       "           div#f4{float:right; width:50%;}\n",
       "           div#f5{float:left; width:25%;}\n",
       "           div#f6{float:left; width:25%;}\n",
       "           div#f7{float:right; width:30%;}\n",
       "           div#f8{float:right; width:25%;}\n",
       "        </style>\n",
       "    </head>\n",
       "    <body>\n",
       "        <div id=\"f1\">\n",
       "            Float 1\n",
       "        </div>\n",
       "        <div id=\"f2\">\n",
       "            Float 2\n",
       "        </div>\n",
       "         <div id=\"f3\">\n",
       "            Float 3\n",
       "        </div>\n",
       "         <div id=\"f4\">\n",
       "            Float 4\n",
       "        </div>\n",
       "        <div id=\"f5\">\n",
       "            Float 5\n",
       "        </div>\n",
       "        <div id=\"f6\">\n",
       "            Float 6\n",
       "        </div>\n",
       "         <div id=\"f7\">\n",
       "            Float 7\n",
       "        </div>\n",
       "         <div id=\"f8\">\n",
       "            Float 8\n",
       "        </div>\n",
       "    </body>\n",
       "</html>"
      ],
      "text/plain": [
       "<IPython.core.display.HTML object>"
      ]
     },
     "metadata": {},
     "output_type": "display_data"
    }
   ],
   "source": [
    "%%html\n",
    "<!DOCTYPE html>\n",
    "<html>\n",
    "    <head>\n",
    "        <style>\n",
    "           div#f1{float:left; width:50%;}\n",
    "           div#f2{float:left; width:50%;}\n",
    "           div#f3{float:right; width:50%;}\n",
    "           div#f4{float:right; width:50%;}\n",
    "           div#f5{float:left; width:25%;}\n",
    "           div#f6{float:left; width:25%;}\n",
    "           div#f7{float:right; width:30%;}\n",
    "           div#f8{float:right; width:25%;}\n",
    "        </style>\n",
    "    </head>\n",
    "    <body>\n",
    "        <div id=\"f1\">\n",
    "            Float 1\n",
    "        </div>\n",
    "        <div id=\"f2\">\n",
    "            Float 2\n",
    "        </div>\n",
    "         <div id=\"f3\">\n",
    "            Float 3\n",
    "        </div>\n",
    "         <div id=\"f4\">\n",
    "            Float 4\n",
    "        </div>\n",
    "        <div id=\"f5\">\n",
    "            Float 5\n",
    "        </div>\n",
    "        <div id=\"f6\">\n",
    "            Float 6\n",
    "        </div>\n",
    "         <div id=\"f7\">\n",
    "            Float 7\n",
    "        </div>\n",
    "         <div id=\"f8\">\n",
    "            Float 8\n",
    "        </div>\n",
    "    </body>\n",
    "</html>"
   ]
  },
  {
   "cell_type": "code",
   "execution_count": 16,
   "metadata": {
    "slideshow": {
     "slide_type": "slide"
    }
   },
   "outputs": [
    {
     "data": {
      "text/html": [
       "<!DOCTYPE html>\n",
       "<html>\n",
       "    <head>\n",
       "        <style>\n",
       "           span#fs1{float:left; width:50%; display:block;}\n",
       "           span#fs2{float:left; width:50%; display:block;}\n",
       "           span#fs3{float:right; width:50%; display:block;}\n",
       "           span#fs4{float:right; width:50%; display:block;}\n",
       "           span#fs5{float:left; width:25%; display:block;}\n",
       "           span#fs6{float:left; width:25%; display:block;} \n",
       "           span#fs7{float:right; width:30%; display:block;}\n",
       "           span#fs8{float:right; width:25%;display:block; }\n",
       "        </style>\n",
       "    </head>\n",
       "    <body>\n",
       "        <span id=\"fs1\">\n",
       "            Float 1\n",
       "        </span>\n",
       "        <span id=\"fs2\">\n",
       "            Float 2\n",
       "        </span>\n",
       "         <span id=\"fs3\">\n",
       "            Float 3\n",
       "        </span>\n",
       "         <span id=\"fs4\">\n",
       "            Float 4\n",
       "        </span>\n",
       "        <span id=\"fs5\">\n",
       "            Float 5\n",
       "        </span>\n",
       "        <span id=\"fs6\">\n",
       "            Float 6\n",
       "        </span>\n",
       "         <span id=\"fs7\">\n",
       "            Float 7\n",
       "        </span>\n",
       "         <span id=\"fs8\">\n",
       "            Float 8\n",
       "        </span>\n",
       "    </body>\n",
       "</html>"
      ],
      "text/plain": [
       "<IPython.core.display.HTML object>"
      ]
     },
     "metadata": {},
     "output_type": "display_data"
    }
   ],
   "source": [
    "%%html\n",
    "<!DOCTYPE html>\n",
    "<html>\n",
    "    <head>\n",
    "        <style>\n",
    "           span#fs1{float:left; width:50%; display:block;}\n",
    "           span#fs2{float:left; width:50%; display:block;}\n",
    "           span#fs3{float:right; width:50%; display:block;}\n",
    "           span#fs4{float:right; width:50%; display:block;}\n",
    "           span#fs5{float:left; width:25%; display:block;}\n",
    "           span#fs6{float:left; width:25%; display:block;} \n",
    "           span#fs7{float:right; width:30%; display:block;}\n",
    "           span#fs8{float:right; width:25%;display:block; }\n",
    "        </style>\n",
    "    </head>\n",
    "    <body>\n",
    "        <span id=\"fs1\">\n",
    "            Float 1\n",
    "        </span>\n",
    "        <span id=\"fs2\">\n",
    "            Float 2\n",
    "        </span>\n",
    "         <span id=\"fs3\">\n",
    "            Float 3\n",
    "        </span>\n",
    "         <span id=\"fs4\">\n",
    "            Float 4\n",
    "        </span>\n",
    "        <span id=\"fs5\">\n",
    "            Float 5\n",
    "        </span>\n",
    "        <span id=\"fs6\">\n",
    "            Float 6\n",
    "        </span>\n",
    "         <span id=\"fs7\">\n",
    "            Float 7\n",
    "        </span>\n",
    "         <span id=\"fs8\">\n",
    "            Float 8\n",
    "        </span>\n",
    "    </body>\n",
    "</html>"
   ]
  },
  {
   "cell_type": "markdown",
   "metadata": {
    "slideshow": {
     "slide_type": "slide"
    }
   },
   "source": [
    "## The Box-Model\n",
    "- The sizing of an element in CSS is based on the box model\n",
    "<img alt=\"The diagram of the box model, showing how padding and margin relate to size\" src=\"https://mdn.mozillademos.org/files/13647/box-model-standard-small.png\"/ style=\"width:50%\">\n",
    "Image from <a href=\"https://developer.mozilla.org/en-US/docs/Learn/CSS/Styling_boxes/Box_model_recap\">MDN</a>"
   ]
  },
  {
   "cell_type": "code",
   "execution_count": 17,
   "metadata": {},
   "outputs": [
    {
     "data": {
      "text/html": [
       "<!DOCTYPE html>\n",
       "<html>\n",
       "    <head>\n",
       "        <style>\n",
       "           div#box1{margin:20px;background-color:red;}\n",
       "           div#box2{margin:40px auto; width:50%; background-color:blue}\n",
       "           div#box3{background-color:gray;padding:20px}\n",
       "        </style>\n",
       "    </head>\n",
       "    <body>\n",
       "       <div id='box1'>\n",
       "        Box1\n",
       "       </div>\n",
       "       <div id='box2'>\n",
       "        Box2\n",
       "       </div>\n",
       "       <div id='box3'>\n",
       "        Box3\n",
       "       </div>\n",
       "    </body>\n",
       "</html>"
      ],
      "text/plain": [
       "<IPython.core.display.HTML object>"
      ]
     },
     "metadata": {},
     "output_type": "display_data"
    }
   ],
   "source": [
    "%%html\n",
    "<!DOCTYPE html>\n",
    "<html>\n",
    "    <head>\n",
    "        <style>\n",
    "           div#box1{margin:20px;background-color:red;}\n",
    "           div#box2{margin:40px auto; width:50%; background-color:blue}\n",
    "           div#box3{background-color:gray;padding:20px}\n",
    "        </style>\n",
    "    </head>\n",
    "    <body>\n",
    "       <div id='box1'>\n",
    "        Box1\n",
    "       </div>\n",
    "       <div id='box2'>\n",
    "        Box2\n",
    "       </div>\n",
    "       <div id='box3'>\n",
    "        Box3\n",
    "       </div>\n",
    "    </body>\n",
    "</html>"
   ]
  },
  {
   "cell_type": "markdown",
   "metadata": {
    "slideshow": {
     "slide_type": "slide"
    }
   },
   "source": [
    "## Frameworks\n",
    "- For all the advancements, CSS remains a quirky specification\n",
    "    - Browsers still don't implement everything, or implement them differently\n",
    "- Responsive design, using the same HTML for mobile, desktop, etc. but different styles, can be a bit annoying\n",
    "- To simplify these, many frameworks, which are essentially predefined CSS files, exist\n",
    "    - Boostrap\n",
    "    - Foundation\n",
    "    - Bulma\n",
    "- Not with out their own issues"
   ]
  },
  {
   "cell_type": "markdown",
   "metadata": {
    "slideshow": {
     "slide_type": "slide"
    }
   },
   "source": [
    "## The Future\n",
    "- Partially due to the influence and popularity of frameworks, and partially on their own, the CSS designers have begun to offer true CSS solutions to problems\n",
    "- The `box-sizing` property allows you to change from the standard box-model to another model\n",
    "    - flexbox - allows elements to be evenly spaced, or all the same height, etc.\n",
    "    - grid - takes what is popular about frameworks, and puts it into CSS"
   ]
  },
  {
   "cell_type": "markdown",
   "metadata": {
    "slideshow": {
     "slide_type": "slide"
    }
   },
   "source": [
    "## The Future Now?\n",
    "- <a href=\"https://caniuse.com/#feat=flexbox\">Can I Use? Flexbox</a>\n",
    "- <a href=\"https://github.com/philipwalton/flexbugs\">Flexbugs</a>\n",
    "- <a href=\"https://caniuse.com/#feat=css-grid\">Can I Use? Grid</a>\n",
    "- <a href=\"https://github.com/rachelandrew/gridbugs\">Gridbugs</a>\n"
   ]
  }
 ],
 "metadata": {
  "celltoolbar": "Slideshow",
  "kernelspec": {
   "display_name": "Python 2",
   "language": "python",
   "name": "python2"
  },
  "language_info": {
   "codemirror_mode": {
    "name": "ipython",
    "version": 2
   },
   "file_extension": ".py",
   "mimetype": "text/x-python",
   "name": "python",
   "nbconvert_exporter": "python",
   "pygments_lexer": "ipython2",
   "version": "2.7.9"
  }
 },
 "nbformat": 4,
 "nbformat_minor": 2
}

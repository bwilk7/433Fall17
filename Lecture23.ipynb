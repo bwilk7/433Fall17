{
 "cells": [
  {
   "cell_type": "markdown",
   "metadata": {
    "slideshow": {
     "slide_type": "slide"
    }
   },
   "source": [
    "# PHP III"
   ]
  },
  {
   "cell_type": "markdown",
   "metadata": {
    "slideshow": {
     "slide_type": "slide"
    }
   },
   "source": [
    "## Reading Files\n",
    "- PHP file reading can be done in a traditional manner using a file pointer\n",
    "    - `fopen(file_name)`\n",
    "- PHP also has numerous special functions meant to help with reading files\n",
    "    - `file_get_contents(name)`\n",
    "    - `file(name)`"
   ]
  },
  {
   "cell_type": "code",
   "execution_count": null,
   "metadata": {
    "slideshow": {
     "slide_type": "slide"
    }
   },
   "outputs": [],
   "source": [
    "if($fp = fopen('hello.sh','r')){\n",
    "    while($line = fgets($fp)){\n",
    "        echo htmlspecialchars($line);\n",
    "    }\n",
    "}else{\n",
    "    echo \"Can't read file\";\n",
    "}"
   ]
  },
  {
   "cell_type": "code",
   "execution_count": null,
   "metadata": {
    "slideshow": {
     "slide_type": "slide"
    }
   },
   "outputs": [],
   "source": [
    "htmlspecialchars(file_get_contents('hello.sh'));"
   ]
  },
  {
   "cell_type": "code",
   "execution_count": null,
   "metadata": {
    "slideshow": {
     "slide_type": "slide"
    }
   },
   "outputs": [],
   "source": [
    "$contents = file('hello.sh');\n",
    "echo print_r($contents,true);"
   ]
  },
  {
   "cell_type": "markdown",
   "metadata": {
    "slideshow": {
     "slide_type": "slide"
    }
   },
   "source": [
    "## Writing Files\n",
    "- Just as with reading files, PHP allows files to be written using \n",
    "    - The traditional file handle way\n",
    "    - A simplified function\n",
    "        - `file_put_contents` (Since PHP 5 on)"
   ]
  },
  {
   "cell_type": "code",
   "execution_count": null,
   "metadata": {
    "slideshow": {
     "slide_type": "slide"
    }
   },
   "outputs": [],
   "source": [
    "if($fp = fopen('hello.txt','w')){\n",
    "    fwrite($fp, \"Hello\");\n",
    "    fwrite($fp, \" World\\n\");\n",
    "    fwrite($fp, \"You need to include new lines explicitly\\n\");\n",
    "    fclose($fp); \n",
    "}else{\n",
    "    echo \"Can't open file\";\n",
    "}"
   ]
  },
  {
   "cell_type": "code",
   "execution_count": null,
   "metadata": {
    "slideshow": {
     "slide_type": "slide"
    }
   },
   "outputs": [],
   "source": [
    "if($fp = fopen('hello.txt','a')){\n",
    "    fwrite($fp, \"Hello\");\n",
    "    fwrite($fp, \" World\\n\");\n",
    "    fwrite($fp, \"You need to include new lines explicitly\\n\");\n",
    "    fclose($fp); \n",
    "}else{\n",
    "    echo \"Can't open file\";\n",
    "}"
   ]
  },
  {
   "cell_type": "code",
   "execution_count": null,
   "metadata": {
    "slideshow": {
     "slide_type": "slide"
    }
   },
   "outputs": [],
   "source": [
    "file_put_contents(\"hello.txt\",\n",
    "\"This\\nWrites\\nIt\\nAll at once!\")"
   ]
  },
  {
   "cell_type": "code",
   "execution_count": null,
   "metadata": {
    "slideshow": {
     "slide_type": "slide"
    }
   },
   "outputs": [],
   "source": [
    "file_put_contents(\"hello.txt\",\n",
    "\"This\\nWrites\\nIt\\nAll at once!\",\n",
    "FILE_APPEND)"
   ]
  },
  {
   "cell_type": "code",
   "execution_count": null,
   "metadata": {
    "slideshow": {
     "slide_type": "slide"
    }
   },
   "outputs": [],
   "source": [
    "file_put_contents(\"range.txt\",range(0,20));"
   ]
  },
  {
   "cell_type": "markdown",
   "metadata": {
    "slideshow": {
     "slide_type": "slide"
    }
   },
   "source": [
    "## Locking Files\n",
    "- In general, you should expect your PHP script to be running multiple copies of itself at once\n",
    "    - Lots of people are going to be on your website constantly\n",
    "- When you lock a file in PHP, it only prevents other PHP processes from accessing it"
   ]
  },
  {
   "cell_type": "code",
   "execution_count": null,
   "metadata": {
    "slideshow": {
     "slide_type": "slide"
    }
   },
   "outputs": [],
   "source": [
    "if($fp = fopen('hello.txt','a')){\n",
    "    if(flock($fp,LOCK_EX)){\n",
    "    fwrite($fp, \"Hello\");\n",
    "    fwrite($fp, \" World\\n\");\n",
    "    fwrite($fp, \"You need to include new lines explicitly\\n\");\n",
    "    flock($fp,LOCK_UN);\n",
    "    fclose($fp); }\n",
    "    else{\n",
    "     echo \"Couldn't get lock\";\n",
    "    }\n",
    "}else{\n",
    "    echo \"Can't open file\";\n",
    "}"
   ]
  },
  {
   "cell_type": "code",
   "execution_count": null,
   "metadata": {
    "slideshow": {
     "slide_type": "slide"
    }
   },
   "outputs": [],
   "source": [
    "file_put_contents(\"range.txt\",range(0,20),LOCK_EX);"
   ]
  },
  {
   "cell_type": "markdown",
   "metadata": {
    "slideshow": {
     "slide_type": "slide"
    }
   },
   "source": [
    "## Externalizing Code\n",
    "- To pull in code from another location, there are several functions PHP provides\n",
    "    - `include(file_name)` - Includes and evaluates the file\n",
    "    - `require(file_name)` - Includes and evaluates the file, killing the script if unable to do so\n",
    "    - `include_once(file_name)` - Only include and evaluate this file one time\n",
    "    - `require_once(file_name)` - Only require this file one time"
   ]
  },
  {
   "cell_type": "code",
   "execution_count": null,
   "metadata": {
    "slideshow": {
     "slide_type": "slide"
    }
   },
   "outputs": [],
   "source": [
    "include 'header.php'; #same as include('header.php')"
   ]
  },
  {
   "cell_type": "code",
   "execution_count": null,
   "metadata": {},
   "outputs": [],
   "source": [
    "include 'I dont exist';"
   ]
  },
  {
   "cell_type": "code",
   "execution_count": null,
   "metadata": {},
   "outputs": [],
   "source": [
    "require 'I dont exist';"
   ]
  },
  {
   "cell_type": "code",
   "execution_count": null,
   "metadata": {},
   "outputs": [],
   "source": [
    "include_once 'header.php';\n",
    "include_once 'header.php';"
   ]
  },
  {
   "cell_type": "markdown",
   "metadata": {
    "slideshow": {
     "slide_type": "slide"
    }
   },
   "source": [
    "## Super Globals\n",
    "- PHP has a concept of super globals, these are global variables that are defined for you by PHP\n",
    "    - There are always available in any scope, like an actual global variable\n",
    "- The super global variables are (all are arrays)\n",
    "    - `$GLOBALS` - all current global variables\n",
    "    - `$_SERVER` - variables about the webserver or current script\n",
    "    - `$_GET` - variables given by a GET request\n",
    "    - `$_POST` - variables given by a POST request\n",
    "    - `$_COOKIE` - HTTP cookies passed in the header\n",
    "    - `$_FILES` - variables relating to file uploads over POST\n",
    "    - `$_ENV` - Enviromental Variables\n",
    "    - `$_REQUEST` - Like  `$_GET`,  `$_POST` and `$_COOKIE` all concatenated together"
   ]
  },
  {
   "cell_type": "markdown",
   "metadata": {
    "slideshow": {
     "slide_type": "slide"
    }
   },
   "source": [
    "```\n",
    "<?php\n",
    "\n",
    "function print_as_table($array) {\n",
    "    print \"<table><thead><tr><th>Key</th><th>Value</th></tr></thead><tbody>\";\n",
    "    if($array) {\n",
    "      foreach(array_keys($array) as $key) {\n",
    "        print \"<tr><td>$key</td><td>$array[$key]</td></tr>\";\n",
    "      }\n",
    "    } else {\n",
    "      print '<tr><td colspan=\"2\">None</td></tr>';\n",
    "    }\n",
    "    print \"</tbody></table>\";\n",
    "}\n",
    "\n",
    "?>\n",
    "```"
   ]
  },
  {
   "cell_type": "markdown",
   "metadata": {
    "slideshow": {
     "slide_type": "slide"
    }
   },
   "source": [
    "Available to view at https://www.csee.umbc.edu/~bwilk1/433/php_examples/web-variables.php\n",
    "```\n",
    "<!DOCTYPE html>\n",
    "<html lang=\"en\">\n",
    "  <head>\n",
    "    <meta charset=\"utf-8\" />\n",
    "    <title>Web Variables</title>\n",
    "    <style>\n",
    "      table { border-collapse: collapse; }\n",
    "      td, th { border: 1px solid #333333; }\n",
    "    </style>\n",
    "  </head>\n",
    "  <body>\n",
    "    <h3>$_SERVER</h3>\n",
    "    <?php print_as_table($_SERVER); ?>\n",
    "    <h3>$_COOKIE</h3>\n",
    "    <?php print_as_table($_COOKIE); ?>\n",
    "    <h3>$_GET</h3>\n",
    "    <?php print_as_table($_GET); ?>\n",
    "    <h3>$_POST</h3>\n",
    "    <?php print_as_table($_POST); ?>\n",
    "    <h3>$_ENV</h3>\n",
    "    <?php print_as_table($_ENV); ?>\n",
    "    <h3>$GLOBALS</h3>\n",
    "    <?php print_as_table($GLOBALS); ?>\n",
    "  </body>\n",
    "</html>\n",
    "```"
   ]
  },
  {
   "cell_type": "markdown",
   "metadata": {
    "slideshow": {
     "slide_type": "slide"
    }
   },
   "source": [
    "## An All in one Form Page\n",
    "- Normal request to a website are done using GET\n",
    "    - We can use this to our advantage to create a single page that both displays and processes a form\n",
    "    - This is only used for simple forms\n",
    "- The general syntax of this type of page is\n",
    "```php\n",
    "<?php if($_SERVER['REQUEST_METHOD'] == 'GET') {?>\n",
    "    <form method=\"post\">\n",
    "      #HTML for Form\n",
    "    </form>\n",
    "<?php } else { \n",
    "    #Proecess form\n",
    "}?>\n",
    "```"
   ]
  },
  {
   "cell_type": "markdown",
   "metadata": {
    "slideshow": {
     "slide_type": "slide"
    }
   },
   "source": [
    "Available at https://www.csee.umbc.edu/~bwilk1/433/php_examples/simple-form.php\n",
    "```\n",
    "<!DOCTYPE html>\n",
    "<html lang=\"en\">\n",
    "<?php if($_SERVER['REQUEST_METHOD'] == 'GET') { ?>\n",
    "    <form action=\"<?php echo $_SERVER['PHP_SELF']; ?>\" method=\"post\">\n",
    "      <div>\n",
    "        <label for=\"fahrenheit\">Fahrenheit temperature:</label>\n",
    "        <input type=\"text\" name=\"fahrenheit\" id=\"fahrenheit\" />\n",
    "        <input type=\"submit\" value=\"Convert to Celcius\" />\n",
    "      </div>\n",
    "    </form>\n",
    "<?php } else {\n",
    "      $fahrenheit = $_POST['fahrenheit'];\n",
    "      $celcius = ($fahrenheit - 32) * 5 / 9;\n",
    "      print \"<p>$fahrenheit Fahrenheit is $celcius Celcius</p>\";\n",
    "    }\n",
    "?>\n",
    "  </body>\n",
    "</html>\n",
    "```"
   ]
  },
  {
   "cell_type": "markdown",
   "metadata": {
    "slideshow": {
     "slide_type": "slide"
    }
   },
   "source": [
    "## Multivalued Parameters\n",
    "- PHP knows how to turn certain data into arrays automatically\n",
    "    - The name of the input tag must end in `[]` for PHP to know to do this\n",
    "    - Useful for checkboxes or multi-select"
   ]
  },
  {
   "cell_type": "markdown",
   "metadata": {
    "slideshow": {
     "slide_type": "slide"
    }
   },
   "source": [
    "- A form sent using GET with the following HTML\n",
    "```html\n",
    "<input type='checkbox' name='checks[]' value='hello'>Hello\n",
    "<input type='checkbox' name='checks[]' value='hi'>Hi\n",
    "<input type='checkbox' name='checks[]' value='howdy'>Howdy\n",
    "```\n",
    "- Creates an array in accesssible in the following way\n",
    "```php\n",
    "    $_GET['checks']\n",
    "```"
   ]
  },
  {
   "cell_type": "markdown",
   "metadata": {
    "slideshow": {
     "slide_type": "slide"
    }
   },
   "source": [
    "Available at https://www.csee.umbc.edu/~bwilk1/433/php_examples/checkboxes.php\n",
    "```\n",
    "<!DOCTYPE html>\n",
    "<?php if($_SERVER['REQUEST_METHOD'] == 'GET') { ?>\n",
    "    <form action=\"<?php echo $_SERVER['_SELF'] ?>\" method=\"post\">\n",
    "      <p>Select Languages you know</p>\n",
    "      <p><input type=\"checkbox\" name=\"languages[]\" id=\"Perl\" value=\"Perl\" />\n",
    "      <label for=\"Perl\">Perl</label></p>\n",
    "      <p><input type=\"checkbox\" name=\"languages[]\" id=\"JavaScript\" value=\"JavaScript\" />\n",
    "      <label for=\"JavaScript\">JavaScript</label></p>\n",
    "      <p><input type=\"checkbox\" name=\"languages[]\" id=\"PHP\" value=\"PHP\" />\n",
    "      <label for=\"PHP\">PHP</label></p>\n",
    "      <p><input type=\"checkbox\" name=\"languages[]\" id=\"Python\" value=\"Python\" />\n",
    "      <label for=\"Python\">Python</label></p>\n",
    "      <p><input type=\"submit\" value=\"Submit\" /></p>\n",
    "    </form>\n",
    "<?php } else {\n",
    "        print '<p>You know:</p>';\n",
    "        $languages = $_POST['languages'];\n",
    "        print_r($languages);\n",
    "    }\n",
    "?>\n",
    "  </body>\n",
    "</html>\n",
    "```"
   ]
  },
  {
   "cell_type": "markdown",
   "metadata": {
    "slideshow": {
     "slide_type": "slide"
    }
   },
   "source": [
    "## File Uploads\n",
    "- PHP has many functions to help you safely and easily handle file uploads\n",
    "- Before we get a file to PHP to process, we have to set up the HTML form the correct way\n",
    "```html\n",
    "<form enctype=\"multipart/form-data\" action=\"some_url.php\" method=\"POST\">\n",
    "    <input type=\"file\" name=\"my_file\">\n",
    "</form>\n",
    "```\n",
    "    - The encoding type must be set for PHP to handle this correctly\n",
    "    - File can only be sent over POST"
   ]
  },
  {
   "cell_type": "markdown",
   "metadata": {
    "slideshow": {
     "slide_type": "slide"
    }
   },
   "source": [
    "## File Uploads on the Server-Side\n",
    "- Back in PHP, the file is uploaded to /tmp storage by default\n",
    "    - This is good because /tmp as limited permissions so it is like a quarinteine zone\n",
    "- For each file input you have, PHP creates an array in the `$_FILES` super global\n",
    "- Import keys in that array\n",
    "    - `$_FILES['my_file']['name']` - The original name\n",
    "    - `$_FILES['my_file']['type']` - The MIME type as reported by the uploader, not checked, don't trust!!\n",
    "    - `$_FILES['userfile']['tmp_name']` - The name on the server where the file was uploaded\n",
    "    "
   ]
  },
  {
   "cell_type": "markdown",
   "metadata": {
    "slideshow": {
     "slide_type": "slide"
    }
   },
   "source": [
    "## Upload Safety\n",
    "- Allowing uploads to a server opens you up to potential exploitation\n",
    "- Steps you can take to reduce the risk\n",
    "    - Never ever ever save uploaded files to a location accessible through a URL\n",
    "    - Don't use the name given by the original uploader\n",
    "        - Use a hash, or modify it in someway (You can keep a look up table somewhere if you need the original name too)\n",
    "    - Validate the contents of the file\n",
    "        - You can't trust the `type` key, but you can trust `finfo_file` function (PHP 5.3+)"
   ]
  },
  {
   "cell_type": "markdown",
   "metadata": {
    "slideshow": {
     "slide_type": "slide"
    }
   },
   "source": [
    "```\n",
    "<!DOCTYPE html>\n",
    "<html>\n",
    "    if($_SERVER['REQUEST_METHOD'] == 'GET') {\n",
    "?>\n",
    "    <form enctype=\"multipart/form-data\" action=\"<?php $_SERVER['PHP_SELF'] ?>\" method=\"post\">\n",
    "      <div>\n",
    "        <label for=\"file\">JPG File:</label> \n",
    "        <input type=\"file\" name=\"file\" id=\"file\"/>\n",
    "        <input type=\"submit\" value=\"Upload\" />\n",
    "      </div>\n",
    "    </form>\n",
    "<?php\n",
    "    } else {\n",
    "\t    // check for type - browser can lie, also check in PHP\n",
    "\t$finfo = finfo_open(FILEINFO_MIME_TYPE);\n",
    "        if($_FILES['file']['type'] != 'image/jpeg' || finfo_file($finfo, $_FILES['file']['tmp_name']) != 'image/jpeg') {\n",
    "            print '<p>File does not appear to be a JPG. ' . \n",
    "                  '<a href=\"' . $_SERVER['PHP_SELF'] . '\">Try Again</a></p>';\n",
    "        // attempt to move to location\n",
    "        } else if (move_uploaded_file($_FILES['file']['tmp_name'], '/home/csee1/bwilk1/img.php')) {\n",
    "            print \"<p>Success - file is \" . FILE . \"</p>\";\n",
    "        // otherwise error\n",
    "        } else {\n",
    "            print \"<p>An error occurred</p>\";\n",
    "        }\n",
    "    }\n",
    "?>\n",
    "  </body>\n",
    "</html>\n",
    "```"
   ]
  },
  {
   "cell_type": "markdown",
   "metadata": {
    "slideshow": {
     "slide_type": "slide"
    }
   },
   "source": [
    "## Sending HTTP Response Headers\n",
    "- Related to processing forms, sometimes you want to someback something different than just HTML to the browser\n",
    "- You can do this by changing the HTTP response headers\n",
    "    - This must be done *before* any output is produced\n",
    "- The PHP function `header` is used for this purpose\n",
    "    - There are [many different things](http://php.net/manual/en/function.header.php) you can send here, but a common one is to redirect to a different page\n",
    "```php\n",
    "<?php\n",
    "    header(\"Location: http://www.umbc.edu\")\n",
    "?>\n",
    "```   "
   ]
  },
  {
   "cell_type": "markdown",
   "metadata": {
    "slideshow": {
     "slide_type": "slide"
    }
   },
   "source": [
    "## PHP Classes\n",
    "- Since PHP 5, there has been support for true OOP style classes\n",
    "    - The sytnax borrows heavily from Java strangely enough\n",
    "        - But also from other scripting languages and C++\n",
    "    \n",
    "```php\n",
    "class className\n",
    "{\n",
    "    public/private $variableName\n",
    "    \n",
    "    public/private function functionName(){}\n",
    "}\n",
    "```"
   ]
  },
  {
   "cell_type": "code",
   "execution_count": null,
   "metadata": {
    "slideshow": {
     "slide_type": "slide"
    }
   },
   "outputs": [],
   "source": [
    "class my_first_class{\n",
    "    public $a_var;\n",
    "    \n",
    "    public function get_var(){\n",
    "        return $this->a_var;\n",
    "    }\n",
    "\n",
    "}"
   ]
  },
  {
   "cell_type": "code",
   "execution_count": null,
   "metadata": {
    "slideshow": {
     "slide_type": "slide"
    }
   },
   "outputs": [],
   "source": [
    "$obj = new my_first_class();\n",
    "$obj->a_var = 10;\n",
    "echo $obj->get_var();"
   ]
  },
  {
   "cell_type": "markdown",
   "metadata": {
    "slideshow": {
     "slide_type": "slide"
    }
   },
   "source": [
    "## Special Functions\n",
    "- The following functions are called automatically in special contexts, and are all preceeded by two underscores\n",
    "    - `__construct` (The object constructor)\n",
    "    - `__destruct` (What is called when garbage collection is performed)\n",
    "    - `__toString` (Used in print or echo)"
   ]
  },
  {
   "cell_type": "code",
   "execution_count": null,
   "metadata": {
    "slideshow": {
     "slide_type": "slide"
    }
   },
   "outputs": [],
   "source": [
    "class Person{\n",
    "    private $name;\n",
    "    private $age;\n",
    "    \n",
    "    function __construct($name = \"Jane Doe\", $age = 30){\n",
    "        $this->name = $name;\n",
    "        $this->age = $age;\n",
    "    }\n",
    "    \n",
    "    function __toString(){\n",
    "        return $this->name . \" is \". $this->age;\n",
    "    }\n",
    "}"
   ]
  },
  {
   "cell_type": "code",
   "execution_count": null,
   "metadata": {
    "slideshow": {
     "slide_type": "slide"
    }
   },
   "outputs": [],
   "source": [
    "$p1 = new Person();\n",
    "echo $p1;\n",
    "\n",
    "$p2 = new Person(\"Timmy\");\n",
    "echo $p2;\n",
    "\n",
    "$p3 = new Person(\"Harry\", 45);\n",
    "echo $p3;"
   ]
  },
  {
   "cell_type": "markdown",
   "metadata": {
    "slideshow": {
     "slide_type": "slide"
    }
   },
   "source": [
    "## Inheritance\n",
    "- PHP permits only single inheritance, through use of the `extends` keyword\n",
    "    - Have access to public and protected methods and members\n",
    "    - To refer to parent method or member, used `parent` keyword\n",
    "    - Use the `::` operator to access a method staticlly"
   ]
  },
  {
   "cell_type": "code",
   "execution_count": null,
   "metadata": {
    "slideshow": {
     "slide_type": "slide"
    }
   },
   "outputs": [],
   "source": [
    "class Employee extends Person{\n",
    "    private $workplace;\n",
    "    \n",
    "    function __construct($workplace = \"UMBC\"){\n",
    "        parent::_construct();\n",
    "        $this->workplace = $workplace;\n",
    "    }\n",
    "    \n",
    "     function __construct($name=\"Joe Student\", $age=19, $workplace = \"UMBC\"){\n",
    "        parent::_construct($name,$age);\n",
    "        $this->workplace = $workplace;\n",
    "    }\n",
    "    \n",
    "    \n",
    "    function __toString(){\n",
    "        return parent::__toString . \" and works at \" . $this->workplace;\n",
    "    }\n",
    "}"
   ]
  },
  {
   "cell_type": "markdown",
   "metadata": {
    "slideshow": {
     "slide_type": "slide"
    }
   },
   "source": [
    "## Interfaces\n",
    "- Because PHP doesn't allow multiple inheritance (just like Java), they allow intrefaces (just like Java) that can be \"implemented\" (just like Java)\n",
    "- The syntax for creating an interface is \n",
    "```php\n",
    "interface name{\n",
    "    public function name(); #Note there is no definition\n",
    "}\n",
    "```"
   ]
  },
  {
   "cell_type": "markdown",
   "metadata": {
    "slideshow": {
     "slide_type": "slide"
    }
   },
   "source": [
    "## Static and Constant\n",
    "- Any method or member can be made static by adding the keyword `static` after the access modifier\n",
    "    - A static method/member must be refered to using `::`\n",
    "        - If you are inside the class defintion use `self::`\n",
    "- A member can also be made constant by using the `const` keyword\n",
    "    - These are static by default\n",
    "    - They can only be made private in PHP 7.1+"
   ]
  },
  {
   "cell_type": "code",
   "execution_count": null,
   "metadata": {
    "slideshow": {
     "slide_type": "slide"
    }
   },
   "outputs": [],
   "source": [
    "class my_static{\n",
    "    private static $counter = 0;\n",
    "    const UPDATE_BY = 1;\n",
    "    \n",
    "    function increment(){\n",
    "        self::$counter += self::UPDATE_BY;\n",
    "        return self::$counter;\n",
    "    }\n",
    "}"
   ]
  },
  {
   "cell_type": "code",
   "execution_count": null,
   "metadata": {
    "slideshow": {
     "slide_type": "slide"
    }
   },
   "outputs": [],
   "source": [
    "$ms1 = new my_static();\n",
    "echo $ms1->increment();"
   ]
  },
  {
   "cell_type": "code",
   "execution_count": null,
   "metadata": {},
   "outputs": [],
   "source": [
    "$ms2 = new my_static();\n",
    "echo $ms2->increment();"
   ]
  },
  {
   "cell_type": "markdown",
   "metadata": {
    "slideshow": {
     "slide_type": "slide"
    }
   },
   "source": [
    "## Sessions\n",
    "- It many web applications it is useful to keep track of a user as the progress around your site\n",
    "- PHP does this through a concept known as sessions, which requires cookies on the front end to use\n",
    "    - The PHP server sends a cookie to the browser with a unique session id\n",
    "    - Everytime it sees a particular session ID in a cookie, it populates `$_SESSION ` with the appropriate values\n",
    "- To use sessions, call the `session_start()` function in your PHP code"
   ]
  },
  {
   "cell_type": "markdown",
   "metadata": {
    "slideshow": {
     "slide_type": "slide"
    }
   },
   "source": [
    "Available at https://www.csee.umbc.edu/~bwilk1/433/php_examples/session-store.php\n",
    "```\n",
    "<?php\n",
    "    session_start();\n",
    "?>\n",
    "<!DOCTYPE html>\n",
    "<html lang=\"en\">\n",
    "<?php if($_SERVER['REQUEST_METHOD'] == 'GET') { ?>\n",
    "    <form action=\"<?php $_SERVER['PHP_SELF'] ?>\" method=\"post\">\n",
    "      <div>\n",
    "        <label for=\"name\">Name:</label>\n",
    "        <input type=\"text\" name=\"name\" id=\"name\" />\n",
    "        <input type=\"submit\" value=\"Submit\" />\n",
    "      </div>\n",
    "    </form>\n",
    "<?php } else {\n",
    "        $_SESSION['name'] = $_POST['name'];\n",
    "        $name = $_POST['name'];\n",
    "        print \"<p>Hello, $name</p>\";\n",
    "    }\n",
    "?>\n",
    "  </body>\n",
    "</html>\n",
    "```"
   ]
  },
  {
   "cell_type": "markdown",
   "metadata": {
    "slideshow": {
     "slide_type": "slide"
    }
   },
   "source": [
    "Available at https://www.csee.umbc.edu/~bwilk1/433/php_examples/session-recall.php\n",
    "```php\n",
    "<?php session_start(); ?>\n",
    "<!DOCTYPE html>\n",
    "<html lang=\"en\">\n",
    "  <head>\n",
    "    <meta charset=\"utf-8\" />\n",
    "    <title>Recall Things from Session</title>\n",
    "  </head>\n",
    "  <body>\n",
    "    <p>Hello, <?php echo $_SESSION['name'] ?></p>\n",
    "  </body>\n",
    "</html>\n",
    "```"
   ]
  },
  {
   "cell_type": "markdown",
   "metadata": {
    "slideshow": {
     "slide_type": "slide"
    }
   },
   "source": [
    "## JSON\n",
    "- JSON support was added to base PHP in PHP 5.2.0\n",
    "- The two functions we care about are\n",
    "    - `json_encode()` - Turns PHP object into JSON\n",
    "    - `json_decode()` - Smartly produces an array/object/etc."
   ]
  },
  {
   "cell_type": "code",
   "execution_count": 11,
   "metadata": {
    "slideshow": {
     "slide_type": "slide"
    }
   },
   "outputs": [
    {
     "data": {
      "text/plain": [
       "[1,2,3,5,6]\n"
      ]
     },
     "execution_count": 11,
     "metadata": {},
     "output_type": "execute_result"
    }
   ],
   "source": [
    "$an_array = array(1,2,3,5,6);\n",
    "echo json_encode($an_array);"
   ]
  },
  {
   "cell_type": "code",
   "execution_count": 13,
   "metadata": {},
   "outputs": [
    {
     "data": {
      "text/plain": [
       "{\"date\":\"November 21, 2017\",\"time\":\"12:??\"}\n"
      ]
     },
     "execution_count": 13,
     "metadata": {},
     "output_type": "execute_result"
    }
   ],
   "source": [
    "$an_object->date = \"November 21, 2017\";\n",
    "$an_object->time = \"12:??\";\n",
    "echo json_encode($an_object);"
   ]
  },
  {
   "cell_type": "code",
   "execution_count": 14,
   "metadata": {
    "slideshow": {
     "slide_type": "slide"
    }
   },
   "outputs": [
    {
     "data": {
      "text/plain": [
       "{\"a\":20,\"b\":30}\n"
      ]
     },
     "execution_count": 14,
     "metadata": {},
     "output_type": "execute_result"
    }
   ],
   "source": [
    "$an_assoc_array = array('a' => 20, 'b' => 30);\n",
    "echo json_encode($an_assoc_array);"
   ]
  },
  {
   "cell_type": "code",
   "execution_count": 15,
   "metadata": {
    "slideshow": {
     "slide_type": "-"
    }
   },
   "outputs": [
    {
     "data": {
      "text/plain": [
       "{}\n"
      ]
     },
     "execution_count": 15,
     "metadata": {},
     "output_type": "execute_result"
    }
   ],
   "source": [
    "$p1 = new Person();\n",
    "echo json_encode($p1);"
   ]
  },
  {
   "cell_type": "code",
   "execution_count": 16,
   "metadata": {
    "slideshow": {
     "slide_type": "slide"
    }
   },
   "outputs": [
    {
     "data": {
      "text/plain": [
       "Array\n",
       "(\n",
       "    [0] => 1\n",
       "    [1] => 2\n",
       "    [2] => 3\n",
       "    [3] => 4\n",
       "    [4] => 5\n",
       ")\n",
       "\n"
      ]
     },
     "execution_count": 16,
     "metadata": {},
     "output_type": "execute_result"
    }
   ],
   "source": [
    "echo print_r(json_decode(\"[1,2,3,4,5]\"),true);"
   ]
  },
  {
   "cell_type": "code",
   "execution_count": 17,
   "metadata": {},
   "outputs": [
    {
     "data": {
      "text/plain": [
       "stdClass Object\n",
       "(\n",
       "    [name] => John Watson\n",
       "    [dob] => November 10th 1860\n",
       "    [birthplace] => London\n",
       ")\n",
       "\n"
      ]
     },
     "execution_count": 17,
     "metadata": {},
     "output_type": "execute_result"
    }
   ],
   "source": [
    "echo print_r(json_decode('{\"name\":\"John Watson\",\"dob\":\"November 10th 1860\",\"birthplace\":\"London\"}')\n",
    ",true);"
   ]
  }
 ],
 "metadata": {
  "celltoolbar": "Slideshow",
  "kernelspec": {
   "display_name": "PHP",
   "language": "php",
   "name": "jupyter-php"
  },
  "language_info": {
   "file_extension": ".php",
   "mimetype": "text/x-php",
   "name": "PHP",
   "pygments_lexer": "PHP",
   "version": "7.0.22-0ubuntu0.16.04.1"
  }
 },
 "nbformat": 4,
 "nbformat_minor": 2
}

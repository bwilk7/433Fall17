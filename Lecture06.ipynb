{
 "cells": [
  {
   "cell_type": "markdown",
   "metadata": {
    "slideshow": {
     "slide_type": "slide"
    }
   },
   "source": [
    "# bash\n",
    "## I/O, Processes, and Math"
   ]
  },
  {
   "cell_type": "markdown",
   "metadata": {
    "slideshow": {
     "slide_type": "slide"
    }
   },
   "source": [
    "## User Input\n",
    "- User input is gotten by using the `read` command\n",
    "- The general syntax is\n",
    "```bash\n",
    "read [OPTIONS] variable_name\n",
    "```\n",
    "- Common options are:\n",
    "    - -p &lt;text&gt;: Prompt the user with text before getting input\n",
    "    - -s: Do not display the text the user types (for passwords, etc)\n",
    "    - -t &lt;time&gt;: Time out after the given number of seconds  "
   ]
  },
  {
   "cell_type": "code",
   "execution_count": null,
   "metadata": {
    "collapsed": true,
    "slideshow": {
     "slide_type": "slide"
    }
   },
   "outputs": [],
   "source": [
    "#Example Code Can't be Run in Browser/Jupyter\n",
    "echo \"Enter some text:\"\n",
    "read text\n",
    "echo \"You entered $text\""
   ]
  },
  {
   "cell_type": "code",
   "execution_count": null,
   "metadata": {
    "collapsed": true,
    "slideshow": {
     "slide_type": "slide"
    }
   },
   "outputs": [],
   "source": [
    "#Example Code Can't be Run in Browser/Jupyter\n",
    "read -p \"Enter some more text: \" more_text \n",
    "echo \"Now you are telling me $more_text\""
   ]
  },
  {
   "cell_type": "code",
   "execution_count": null,
   "metadata": {
    "collapsed": true,
    "slideshow": {
     "slide_type": "slide"
    }
   },
   "outputs": [],
   "source": [
    "#Must be -sp, -ps means \"s\" is the argument of -p \n",
    "read -sp \"Enter the secret word: \" secret\n",
    "\n",
    "#Not printing characters means that we need to \n",
    "#explicitly move to the next line\n",
    "echo\n",
    "echo \"Was I supposed to keep $secret a secret?\" ~ "
   ]
  },
  {
   "cell_type": "code",
   "execution_count": null,
   "metadata": {
    "collapsed": true,
    "slideshow": {
     "slide_type": "slide"
    }
   },
   "outputs": [],
   "source": [
    "echo -n \"Enter something quickly!: \"\n",
    "read -t5 user_input\n",
    "if [[ -n $user_input ]]; then \n",
    "    echo \"Congrats! You beat the clock\"\n",
    "else \n",
    "    echo\n",
    "    echo \"Too Slow! Better luck next time\" \n",
    "fi"
   ]
  },
  {
   "cell_type": "markdown",
   "metadata": {
    "slideshow": {
     "slide_type": "slide"
    }
   },
   "source": [
    "## Mapfile\n",
    "- The `mapfile` command reads STDIN into an array, breaking it up at newlines\n",
    "- Even though it reads from STDIN, it primarily used with the pipe character or redicrects\n",
    "    - Not used for user interaction\n",
    "- The syntax is \n",
    "```bash\n",
    "mapfile [OPTIONS] array_variable\n",
    "```"
   ]
  },
  {
   "cell_type": "code",
   "execution_count": 4,
   "metadata": {
    "slideshow": {
     "slide_type": "slide"
    }
   },
   "outputs": [
    {
     "name": "stdout",
     "output_type": "stream",
     "text": [
      "1, 2, 3, 4, 5, \n"
     ]
    }
   ],
   "source": [
    "mapfile numbers<<HERE\n",
    "1\n",
    "2\n",
    "3\n",
    "4\n",
    "5\n",
    "HERE\n",
    "\n",
    "for number in ${numbers[@]}; do\n",
    "    echo -n \"$number, \"\n",
    "done\n",
    "echo"
   ]
  },
  {
   "cell_type": "markdown",
   "metadata": {
    "slideshow": {
     "slide_type": "slide"
    }
   },
   "source": [
    "## Reading A File with a Loop\n",
    "- The `mapfile` command is generally more efficient, but is a recent addition to bash\n",
    "- If you want to do something more than just read the lines in, it can still be useful to use a loop\n",
    "- Reading a file in a loop combines three techniques\n",
    "    - A `while` loop\n",
    "    - A `read` command\n",
    "    - Input redirection"
   ]
  },
  {
   "cell_type": "code",
   "execution_count": 5,
   "metadata": {
    "slideshow": {
     "slide_type": "slide"
    }
   },
   "outputs": [
    {
     "name": "stdout",
     "output_type": "stream",
     "text": [
      "40\n",
      "1\n",
      "2\n",
      "3\n",
      "\n"
     ]
    }
   ],
   "source": [
    "while read line; do\n",
    "    echo $line\n",
    "done < numbers.txt"
   ]
  },
  {
   "cell_type": "markdown",
   "metadata": {
    "slideshow": {
     "slide_type": "slide"
    }
   },
   "source": [
    "## Formatted Output\n",
    "- The `printf` command allows output to be formatted with more control than echo\n",
    "- It uses a syntax similar to most formatted strings you are familiar with\n",
    "    - Based on printf from C\n",
    "- Newlines are not automatically added\n",
    "- The variables to print are given as arguments to the `printf` command after the format string"
   ]
  },
  {
   "cell_type": "code",
   "execution_count": 8,
   "metadata": {
    "slideshow": {
     "slide_type": "slide"
    }
   },
   "outputs": [
    {
     "name": "stdout",
     "output_type": "stream",
     "text": [
      "30 is a number\n",
      "        30 is a number\n",
      "0000000030 is a number\n",
      "30         is a number\n",
      "10000000000 is a big number\n",
      "10,000,000,000 is a big number that is easier to read"
     ]
    }
   ],
   "source": [
    "printf \"%d is a number\\n\" 30\n",
    "printf \"%10d is a number\\n\" 30\n",
    "printf \"%010d is a number\\n\" 30\n",
    "printf \"%-10d is a number\\n\" 30\n",
    "printf \"%d is a big number\\n\" 10000000000\n",
    "printf \"%'d is a big number that is easier to read\" 10000000000"
   ]
  },
  {
   "cell_type": "code",
   "execution_count": 12,
   "metadata": {
    "slideshow": {
     "slide_type": "slide"
    }
   },
   "outputs": [
    {
     "name": "stdout",
     "output_type": "stream",
     "text": [
      "30.000000 is a float\n",
      "30.134500 is a float\n",
      "30.12 is a truncated float\n",
      "3,000,000,000.12 is a truncated , yet big, float"
     ]
    }
   ],
   "source": [
    "printf \"%f is a float\\n\" 30\n",
    "printf \"%f is a float\\n\" 30.1345\n",
    "printf \"%.2f is a truncated float\\n\" 30.12345\n",
    "printf \"%'.2f is a truncated , yet big, float\" 3000000000.12345"
   ]
  },
  {
   "cell_type": "code",
   "execution_count": 13,
   "metadata": {
    "slideshow": {
     "slide_type": "slide"
    }
   },
   "outputs": [
    {
     "name": "stdout",
     "output_type": "stream",
     "text": [
      "Hello there is a string\n",
      "Hello was passed as an argument\n",
      "there was passed as an argument\n",
      "A long string doesn't truncate the string\n",
      "A l does truncate the string\n",
      "       A l truncates the string, but prints with a width of 10"
     ]
    }
   ],
   "source": [
    "printf \"%s is a string\\n\" \"Hello there\"\n",
    "#All Arguments are always printed\n",
    "printf \"%s was passed as an argument\\n\" Hello there\n",
    "printf \"%3s doesn't truncate the string\\n\" \"A long string\"\n",
    "printf \"%.3s does truncate the string\\n\" \"A long string\"\n",
    "printf \"%10.3s truncates the string\\\n",
    ", but prints with a width of 10\" \"A long string\""
   ]
  },
  {
   "cell_type": "markdown",
   "metadata": {
    "slideshow": {
     "slide_type": "slide"
    }
   },
   "source": [
    "## Running Other Scripts\n",
    "- Other scripts can always be run like other commands, simply by calling them\n",
    "- If you want to have access to all the variables, including function definitions, use the `source` command\n",
    "    - The single dot `.` is an alias for the `source` command\n",
    "    \n",
    "```bash\n",
    ". lots_of_definitions\n",
    "source other_definitions\n",
    "```"
   ]
  },
  {
   "cell_type": "code",
   "execution_count": 14,
   "metadata": {
    "collapsed": true,
    "slideshow": {
     "slide_type": "slide"
    }
   },
   "outputs": [
    {
     "name": "stdout",
     "output_type": "stream",
     "text": [
      "#!/bin/bash\n",
      "pi=3.1415\n",
      "e=2.7182\n",
      "zero=0.0000\n",
      "alphabet=(A B C D E F G H I J K L M N O P Q R S T U V W X Y Z)\n"
     ]
    }
   ],
   "source": [
    "more definitions.sh"
   ]
  },
  {
   "cell_type": "code",
   "execution_count": 18,
   "metadata": {
    "scrolled": true
   },
   "outputs": [
    {
     "name": "stdout",
     "output_type": "stream",
     "text": [
      "\n"
     ]
    }
   ],
   "source": [
    "./definitions.sh\n",
    "echo $pi"
   ]
  },
  {
   "cell_type": "code",
   "execution_count": 19,
   "metadata": {},
   "outputs": [
    {
     "name": "stdout",
     "output_type": "stream",
     "text": [
      "A B C D E F G H I J K L M N O P Q R S T U V W X Y Z\n"
     ]
    }
   ],
   "source": [
    ". definitions.sh\n",
    "echo ${alphabet[*]}"
   ]
  },
  {
   "cell_type": "markdown",
   "metadata": {
    "slideshow": {
     "slide_type": "slide"
    }
   },
   "source": [
    "## Process Management\n",
    "- When calling other commands it is useful to know how to control processes\n",
    "- Common process control commands are\n",
    "    - `COMMAND &` - executes command in background\n",
    "    - `bg JOB_SPEC` - sends command to background\n",
    "    - `fg JOB_SPEC` - brings background command to foreground\n",
    "- If you are using the shell interactively\n",
    "    - `jobs` list all currently running processes launched from this shell\n",
    "    - `ps` list all processes on the computer"
   ]
  },
  {
   "cell_type": "markdown",
   "metadata": {
    "slideshow": {
     "slide_type": "slide"
    }
   },
   "source": [
    "## `ps`  Command\n",
    "- When you have many processes running its useful to know how to query them\n",
    "- The `ps` command by default displays the pids for processes launched from this shell\n",
    "- Common options are\n",
    "    - -A: display all processes on the system\n",
    "    - -f: display more information, such as who started the process\n",
    "    - -F: display even more information\n",
    "    - -o&lt;format&gt;: customize the information displayed\n",
    "    - -u&lt;user&gt;: display all processes launched by user"
   ]
  },
  {
   "cell_type": "code",
   "execution_count": 20,
   "metadata": {
    "slideshow": {
     "slide_type": "slide"
    }
   },
   "outputs": [
    {
     "name": "stdout",
     "output_type": "stream",
     "text": [
      "  PID TTY          TIME CMD\n",
      " 8135 pts/22   00:00:00 bash\n",
      " 9448 pts/22   00:00:00 ps\n"
     ]
    }
   ],
   "source": [
    "ps"
   ]
  },
  {
   "cell_type": "code",
   "execution_count": null,
   "metadata": {
    "slideshow": {
     "slide_type": "slide"
    }
   },
   "outputs": [
    {
     "name": "stdout",
     "output_type": "stream",
     "text": [
      "UID        PID  PPID  C STIME TTY          TIME CMD\n",
      "bryan     2202     1  0 Sep07 ?        00:00:00 /lib/systemd/systemd --user\n",
      "bryan     2203  2202  0 Sep07 ?        00:00:00 (sd-pam)         \n",
      "bryan     2384     1  0 Sep07 ?        00:00:00 perl -MDevel::IPerl -e Devel::IP\n",
      "erl::main kernel /run/user/1001/jupyter/kernel-472fef61-1aad-4a0d-8dff-c82fa8a2d\n",
      "e7f.json\n",
      "bryan     2458     1  0 Sep07 ?        00:00:00 perl -MDevel::IPerl -e Devel::IP\n",
      "erl::main kernel /run/user/1001/jupyter/kernel-e887628b-dee5-469f-8dd4-9cb88f658\n",
      "2a4.json\n",
      "bryan     4435     1  0 Sep07 ?        00:01:22 perl -MDevel::IPerl -e Devel::IP\n",
      "erl::main kernel /run/user/1001/jupyter/kernel-4427.json\n",
      "bryan     4804     1  0 Sep07 ?        00:00:00 perl -MDevel::IPerl -e Devel::IP\n",
      "erl::main kernel /run/user/1001/jupyter/kernel-4796.json\n",
      "bryan     5865 20942  0 Sep18 ?        00:00:07 /usr/bin/python -m ipykernel_lau\n",
      "ncher -f /run/user/1001/jupyter/kernel-9c7a518b-35a2-42a8-a939-a9855d1a4018.json\n",
      "bryan     9060 25974  0 10:40 pts/26   00:00:00 ssh bwilk1@linuxserver1.cs.umbc.\n",
      "edu\n",
      "bryan     9200  9103  0 11:35 ?        00:00:00 sshd: bryan@pts/25  \n",
      "bryan     9201  9200  0 11:35 pts/25   00:00:00 -fish\n",
      "bryan     9455 20942  7 11:55 ?        00:00:00 /usr/bin/python -m bash_kernel -\n",
      "f /run/user/1001/jupyter/kernel-53111598-df79-404f-82a4-9bf53658121b.json\n",
      "bryan     9466  9455  0 11:55 pts/22   00:00:00 /bin/bash --rcfile /usr/local/li\n",
      "b/python2.7/dist-packages/pexpect/bashrc.sh\n"
     ]
    }
   ],
   "source": [
    "ps -f -ubryan | more"
   ]
  },
  {
   "cell_type": "markdown",
   "metadata": {
    "slideshow": {
     "slide_type": "slide"
    }
   },
   "source": [
    "## Kill\n",
    "- Despite it's name `kill` is a more general command then just ended processes\n",
    "- The `kill` command can send signals to running processes\n",
    "    - The signal can be sent using either its numerical value or name\n",
    "        - -9 or -SIGKILL\n",
    "    - To see a full list use `kill -l`\n",
    "- Syntax\n",
    "```bash\n",
    "kill SIGNAL PID\n",
    "```"
   ]
  },
  {
   "cell_type": "code",
   "execution_count": 1,
   "metadata": {
    "slideshow": {
     "slide_type": "slide"
    }
   },
   "outputs": [
    {
     "name": "stdout",
     "output_type": "stream",
     "text": [
      "[1] 9922\n"
     ]
    },
    {
     "ename": "",
     "evalue": "1",
     "output_type": "error",
     "traceback": []
    }
   ],
   "source": [
    "# Launch a random background job\n",
    "htop &"
   ]
  },
  {
   "cell_type": "code",
   "execution_count": 3,
   "metadata": {
    "collapsed": true
   },
   "outputs": [],
   "source": [
    "kill -15 9922"
   ]
  },
  {
   "cell_type": "code",
   "execution_count": 6,
   "metadata": {},
   "outputs": [],
   "source": [
    "jobs"
   ]
  },
  {
   "cell_type": "code",
   "execution_count": 5,
   "metadata": {},
   "outputs": [
    {
     "ename": "",
     "evalue": "1",
     "output_type": "error",
     "traceback": []
    }
   ],
   "source": [
    "kill -9 9922"
   ]
  },
  {
   "cell_type": "markdown",
   "metadata": {
    "slideshow": {
     "slide_type": "slide"
    }
   },
   "source": [
    "## The nohup Command\n",
    "- One signal sent to processes is `SIGHUP` which is sent when a terminal closes\n",
    "    - Comes from hang up\n",
    "    - This will generally kill processes \n",
    "- If we have a long running background task that we want to continue after the terminal is close, use the nohup command\n",
    "```bash\n",
    "nohup COMMAND &\n",
    "```"
   ]
  },
  {
   "cell_type": "markdown",
   "metadata": {
    "slideshow": {
     "slide_type": "slide"
    }
   },
   "source": [
    "## Command Substitution\n",
    "- We've used it a few times, but formally command substitution runs a command and returns it's output\n",
    "- You may encounter two forms\n",
    "    - `` `command` ``\n",
    "    - `$(command)`\n",
    "- Always use `$(command)`\n",
    "    - It is nestable\n",
    "    - It is safer"
   ]
  },
  {
   "cell_type": "code",
   "execution_count": 7,
   "metadata": {
    "slideshow": {
     "slide_type": "slide"
    }
   },
   "outputs": [
    {
     "name": "stdout",
     "output_type": "stream",
     "text": [
      "./Lecture05.html ./Lecture01.html ./Untitled.html ./Lecture08.html ./Lecture06.html ./Lecture00.html ./Lecture02.html ./Lecture04.html ./Lecture03.html ./Lecture07.html\n"
     ]
    }
   ],
   "source": [
    "html_files=$(find . -name \"*.html\")\n",
    "echo $html_files"
   ]
  },
  {
   "cell_type": "code",
   "execution_count": 8,
   "metadata": {
    "collapsed": true
   },
   "outputs": [],
   "source": [
    "ps_out=$(ps)"
   ]
  },
  {
   "cell_type": "code",
   "execution_count": 9,
   "metadata": {},
   "outputs": [
    {
     "name": "stdout",
     "output_type": "stream",
     "text": [
      "PID TTY\n"
     ]
    }
   ],
   "source": [
    "echo ${ps_out::10}"
   ]
  },
  {
   "cell_type": "code",
   "execution_count": 10,
   "metadata": {},
   "outputs": [
    {
     "name": "stdout",
     "output_type": "stream",
     "text": [
      "433Fall17 airline_tweets.tsv a_missing_file anchored.pl an_empty_file a.out bad_alt.pl capture.pl cla_examples.sh definitions.sh err fast.pl fb_messenger.png fb_messenger.png.jpg fb_verify.png fb_verify.png.jpg gcc_errors.txt good_alt.pl greedy.pl hello.sh hello_simple.sh hello.txt Lecture00.html Lecture00.ipynb Lecture01.html Lecture01.ipynb Lecture02.html Lecture02.ipynb Lecture03.html Lecture03.ipynb Lecture04.html Lecture04.ipynb Lecture05.html Lecture05.ipynb Lecture06.html Lecture06.ipynb Lecture07.html Lecture07.ipynb Lecture08.html Lecture08.ipynb noncapture.pl nongreedy.pl numbersaa numbersab numbersac numbersad numbersae numbers.txt out out_and_err.py part1.tsv part2.csv pngs read_example.sh read_p_example.sh read_ps_example.sh read_t_example.sh re_example.pl regex_starter_code registers.png registers.png.jpg rolling_stone_500_greatest_2010.txt scipy.log simple.py slow.pl to_sort1.txt to_sort2.txt to_sort3.txt to_sort4.txt unanchored.pl Untitled.html Untitled.ipynb xaa xab xac xad xae\n"
     ]
    }
   ],
   "source": [
    "nesting=$(echo $(ls))\n",
    "echo $nesting"
   ]
  },
  {
   "cell_type": "markdown",
   "metadata": {
    "slideshow": {
     "slide_type": "slide"
    }
   },
   "source": [
    "## Chaining Commands\n",
    "- The `&&` ,`||` , and `;` operators are used to chain commands together\n",
    "    - `command1 && command2` only executes command2 upon successful exit of command1\n",
    "    - `command1 || command2` only executes command2 upon unsuccessful exit of command1\n",
    "    - `command1 ; command2` always executes command2"
   ]
  },
  {
   "cell_type": "code",
   "execution_count": 11,
   "metadata": {
    "slideshow": {
     "slide_type": "slide"
    }
   },
   "outputs": [
    {
     "name": "stdout",
     "output_type": "stream",
     "text": [
      "You can't do that\n",
      "That is true 1\n",
      "That isn't true 2\n"
     ]
    }
   ],
   "source": [
    "rm /home 2> /dev/null || echo \"You can't do that\"\n",
    "[[ 1 -eq 1 ]] && echo \"That is true 1\"\n",
    "[[ 1 -eq 2 ]] && echo \"That is true 2\"\n",
    "[[ 1 -eq 2 ]] || echo \"That isn't true 2\""
   ]
  },
  {
   "cell_type": "markdown",
   "metadata": {
    "slideshow": {
     "slide_type": "slide"
    }
   },
   "source": [
    "## Subshells\n",
    "- A subshell is a group of commands run in a separate shell from the current process\n",
    "- Changes to variables in the subshell will not be reflected in the main script\n",
    "- Can also be used to send an entire group of commands to the background\n",
    "- Syntax is \n",
    "```bash\n",
    "( COMANDS )\n",
    "```"
   ]
  },
  {
   "cell_type": "code",
   "execution_count": 12,
   "metadata": {
    "slideshow": {
     "slide_type": "slide"
    }
   },
   "outputs": [
    {
     "name": "stdout",
     "output_type": "stream",
     "text": [
      "/home/bryan/CMSC433\n",
      "/home/bryan\n",
      "/home/bryan/CMSC433\n"
     ]
    }
   ],
   "source": [
    "echo $(pwd)\n",
    "(\n",
    "    cd ~\n",
    "    echo $(pwd)\n",
    ")\n",
    "echo $(pwd)"
   ]
  },
  {
   "cell_type": "code",
   "execution_count": 13,
   "metadata": {
    "slideshow": {
     "slide_type": "slide"
    }
   },
   "outputs": [
    {
     "name": "stdout",
     "output_type": "stream",
     "text": [
      "1,000,000 is a big number\n",
      "1.000.000 is a big number\n",
      "1,000,000 is a big number\n"
     ]
    }
   ],
   "source": [
    "printf \"%'d is a big number\\n\" 1000000\n",
    "(\n",
    "    LANG=es_ES.UTF-8\n",
    "    printf \"%'d is a big number\\n\" 1000000\n",
    ")\n",
    "printf \"%'d is a big number\\n\" 1000000"
   ]
  },
  {
   "cell_type": "markdown",
   "metadata": {
    "slideshow": {
     "slide_type": "slide"
    }
   },
   "source": [
    "## Parallel Execution\n",
    "- Parallel execution can be achieved easily using subshells and backgrounding processes\n",
    "- Bash has a builtin command `wait` that will pause the execution of the script until all child processes have returned\n",
    "- For more complex parallel applications, we will look at the GNU parallel suite of tools"
   ]
  },
  {
   "cell_type": "code",
   "execution_count": 14,
   "metadata": {
    "slideshow": {
     "slide_type": "slide"
    }
   },
   "outputs": [
    {
     "name": "stdout",
     "output_type": "stream",
     "text": [
      "[1] 9951\n",
      "A \n",
      "[2] 9953\n",
      "1 \n",
      "B \n",
      "2 \n",
      "3 \n",
      "C \n",
      "4 \n",
      "5 \n",
      "D \n",
      "6 \n",
      "7 \n",
      "E \n",
      "F \n",
      "G \n",
      "H \n",
      "I \n",
      "J \n",
      "K \n",
      "L \n",
      "M \n",
      "N \n",
      "O \n",
      "P \n",
      "Q \n",
      "R \n",
      "S \n",
      "T \n",
      "U \n",
      "V \n",
      "W \n",
      "X \n",
      "Y \n",
      "Z \n",
      "EVERYTHING IS AWESOME\n"
     ]
    }
   ],
   "source": [
    "#Supress notification of completed background jobs\n",
    "set +m\n",
    "\n",
    "(\n",
    "    for letter in {A..Z}; do\n",
    "        echo \"$letter \";\n",
    "        sleep 0.5;\n",
    "    done;\n",
    ")& \n",
    "\n",
    "(\n",
    "    for number in 1 2 3 4 5 6 7; do\n",
    "        echo  \"$number \";\n",
    "        sleep 0.25;\n",
    "    done\n",
    ")&\n",
    "\n",
    "wait\n",
    "echo \"EVERYTHING IS AWESOME\""
   ]
  },
  {
   "cell_type": "markdown",
   "metadata": {
    "slideshow": {
     "slide_type": "slide"
    }
   },
   "source": [
    "## GNU Parallel\n",
    "- GNU parallel is a collection of utilities to manage processes executing in parallel\n",
    "- The `parallel` command executes a command in parallel given a list of arguments separated by `:::`\n",
    "```bash\n",
    "    parallel echo ::: A B C ::: 1 2 3\n",
    "```\n",
    "- `parallel --pipe` allows parallel processing of STDIN\n",
    "- The `sem` command is useful to combine with backgrounded subprocesses to limit how many run at a time"
   ]
  },
  {
   "cell_type": "code",
   "execution_count": 15,
   "metadata": {
    "collapsed": true,
    "slideshow": {
     "slide_type": "slide"
    }
   },
   "outputs": [
    {
     "name": "stdout",
     "output_type": "stream",
     "text": [
      "A 1\n",
      "A 2\n",
      "A 3\n",
      "B 1\n",
      "B 2\n",
      "B 3\n",
      "C 1\n",
      "C 2\n",
      "C 3\n"
     ]
    }
   ],
   "source": [
    "parallel echo ::: A B C ::: 1 2 3"
   ]
  },
  {
   "cell_type": "code",
   "execution_count": 16,
   "metadata": {
    "slideshow": {
     "slide_type": "-"
    }
   },
   "outputs": [
    {
     "name": "stdout",
     "output_type": "stream",
     "text": [
      "[NbConvertApp] Converting notebook Lecture07.ipynb to html\n",
      "[NbConvertApp] Writing 249617 bytes to Lecture07.html\n",
      "[NbConvertApp] Converting notebook Lecture08.ipynb to html\n",
      "[NbConvertApp] Writing 249611 bytes to Lecture08.html\n",
      "[NbConvertApp] Converting notebook Lecture02.ipynb to html\n",
      "[NbConvertApp] Writing 320734 bytes to Lecture02.html\n",
      "[NbConvertApp] Converting notebook Lecture06.ipynb to html\n",
      "[NbConvertApp] Writing 294507 bytes to Lecture06.html\n",
      "[NbConvertApp] Converting notebook Lecture00.ipynb to html\n",
      "[NbConvertApp] Writing 939128 bytes to Lecture00.html\n",
      "[NbConvertApp] Converting notebook Lecture05.ipynb to html\n",
      "[NbConvertApp] Writing 319691 bytes to Lecture05.html\n",
      "[NbConvertApp] Converting notebook Lecture04.ipynb to html\n",
      "[NbConvertApp] Writing 309209 bytes to Lecture04.html\n",
      "[NbConvertApp] Converting notebook Lecture01.ipynb to html\n",
      "[NbConvertApp] Writing 374546 bytes to Lecture01.html\n",
      "[NbConvertApp] Converting notebook Untitled.ipynb to html\n",
      "[NbConvertApp] Writing 249190 bytes to Untitled.html\n",
      "[NbConvertApp] Converting notebook Lecture03.ipynb to html\n",
      "[NbConvertApp] Writing 293647 bytes to Lecture03.html\n"
     ]
    }
   ],
   "source": [
    "parallel jupyter-nbconvert {} --to html ::: *.ipynb"
   ]
  },
  {
   "cell_type": "code",
   "execution_count": 18,
   "metadata": {
    "slideshow": {
     "slide_type": "slide"
    }
   },
   "outputs": [
    {
     "name": "stdout",
     "output_type": "stream",
     "text": [
      "264\n",
      "\n",
      "real\t0m4.880s\n",
      "user\t0m4.608s\n",
      "sys\t0m0.268s\n"
     ]
    }
   ],
   "source": [
    "time (grep -P \"\\d\\d\\d-\\d\\d\\d-\\d\\d\\d\\d\" ~/wackypediaFlat.slim | wc -l)\n",
    "#grep -P \"\\d\\d\\d-\\d\\d\\d-\\d\\d\\d\\d\" ~/wackypediaFlat.slim | wc -l"
   ]
  },
  {
   "cell_type": "code",
   "execution_count": 20,
   "metadata": {},
   "outputs": [
    {
     "name": "stdout",
     "output_type": "stream",
     "text": [
      "11\n",
      "18\n",
      "20\n",
      "16\n",
      "13\n",
      "11\n",
      "17\n",
      "10\n",
      "9\n",
      "7\n",
      "16\n",
      "14\n",
      "21\n",
      "15\n",
      "8\n",
      "12\n",
      "13\n",
      "10\n",
      "9\n",
      "12\n",
      "2\n",
      "\n",
      "real\t0m2.714s\n",
      "user\t0m6.184s\n",
      "sys\t0m4.304s\n"
     ]
    }
   ],
   "source": [
    "time parallel --pipe --block 100M 'grep -P \"\\d\\d\\d-\\d\\d\\d-\\d\\d\\d\\d\" | wc -l' < ~/wackypediaFlat.slim"
   ]
  },
  {
   "cell_type": "code",
   "execution_count": 22,
   "metadata": {
    "collapsed": true,
    "slideshow": {
     "slide_type": "slide"
    }
   },
   "outputs": [
    {
     "name": "stdout",
     "output_type": "stream",
     "text": [
      "[1] 10799\n",
      "[2] 10800\n",
      "[3] 10801\n",
      "[4] 10803\n",
      "[5] 10806\n",
      "[6] 10808\n",
      "[7] 10813\n",
      "[8] 10818\n",
      "[9] 10821\n",
      "[10] 10825\n",
      "[11] 10829\n",
      "[12] 10831\n",
      "[13] 10835\n",
      "[14] 10837\n",
      "[15] 10839\n",
      "[16] 10841\n",
      "[17] 10843\n",
      "[18] 10847\n",
      "[19] 10849\n",
      "[20] 10851\n",
      "[21] 10852\n",
      "[22] 10853\n",
      "[23] 10854\n",
      "[24] 10855\n",
      "[25] 10856\n",
      "[26] 10857\n",
      "9561 double E's found\n",
      "195 double Q's found\n",
      "30234 double C's found\n",
      "5724 double X's found\n",
      "7226 double D's found\n",
      "898 double U's found\n",
      "33718 double B's found\n",
      "36813 double A's found\n",
      "8725 double T's found\n",
      "1438 double V's found\n",
      "6470 double N's found\n",
      "13430 double W's found\n",
      "155280 double I's found\n",
      "11706 double L's found\n",
      "4702 double R's found\n",
      "1669 double H's found\n",
      "5630 double F's found\n",
      "392 double Y's found\n",
      "3628 double O's found\n",
      "1248 double J's found\n",
      "1071 double Z's found\n",
      "8736 double M's found\n",
      "2873 double K's found\n",
      "1726 double G's found\n",
      "10254 double P's found\n",
      "47183 double S's found\n"
     ]
    }
   ],
   "source": [
    "# There are better ways to do this, ie all in one search\n",
    "\n",
    "for letter in {A..Z}; do\n",
    "(\n",
    "        n=$(grep -P \"($letter)\\1\" ~/wackypediaFlat.slim | wc -l)\n",
    "        echo \"$n double $letter's found\"\n",
    "        sleep 0.5;\n",
    ")&\n",
    "done;\n",
    "\n",
    "wait"
   ]
  },
  {
   "cell_type": "code",
   "execution_count": 24,
   "metadata": {
    "slideshow": {
     "slide_type": "slide"
    }
   },
   "outputs": [
    {
     "name": "stdout",
     "output_type": "stream",
     "text": [
      "[1] 11494\n",
      "[2] 11495\n",
      "[3] 11496\n",
      "[4] 11498\n",
      "[5] 11500\n",
      "[6] 11501\n",
      "[7] 11504\n",
      "[8] 11506\n",
      "[9] 11508\n",
      "[10] 11514\n",
      "[11] 11518\n",
      "[12] 11525\n",
      "[13] 11527\n",
      "[14] 11528\n",
      "[15] 11531\n",
      "[16] 11532\n",
      "[17] 11533\n",
      "[18] 11536\n",
      "[19] 11539\n",
      "[20] 11542\n",
      "[21] 11549\n",
      "[22] 11555\n",
      "[23] 11561\n",
      "[24] 11566\n",
      "[25] 11570\n",
      "[26] 11572\n",
      "1071 double Z's found\n",
      "36813 double A's found\n",
      "155280 double I's found\n",
      "8736 double M's found\n",
      "898 double U's found\n",
      "33718 double B's found\n",
      "13430 double W's found\n",
      "6470 double N's found\n",
      "1438 double V's found\n",
      "9561 double E's found\n",
      "3628 double O's found\n",
      "11706 double L's found\n",
      "1669 double H's found\n",
      "392 double Y's found\n",
      "5630 double F's found\n",
      "5724 double X's found\n",
      "30234 double C's found\n",
      "2873 double K's found\n",
      "10254 double P's found\n",
      "7226 double D's found\n",
      "1726 double G's found\n",
      "1248 double J's found\n",
      "4702 double R's found\n",
      "47183 double S's found\n",
      "8725 double T's found\n",
      "195 double Q's found\n"
     ]
    }
   ],
   "source": [
    "# There are better ways to do this, ie all in one search\n",
    "\n",
    "for letter in {A..Z}; do\n",
    "(\n",
    "        \n",
    "        n=$(sem --id $$ -j3 grep \"${letter}${letter}\" ~/wackypediaFlat.slim | wc -l)\n",
    "        echo \"$n double $letter's found\"\n",
    "        sleep 0.5;\n",
    ")&\n",
    "done;\n",
    "\n",
    "sem --wait --id $$"
   ]
  },
  {
   "cell_type": "markdown",
   "metadata": {
    "slideshow": {
     "slide_type": "slide"
    }
   },
   "source": [
    "## Splitting a File\n",
    "- Splitting a file comes in handy when doing parallel processing, if you don't want to or can't use `parallel --pipe`\n",
    "- The split command will automatically split a file according to various metrics, and create new files with a suffix like \"aa\"\n",
    "- Common options\n",
    "    - -n: Split into N chunks\n",
    "    - -l: Split into files with L lines\n",
    "    - -b: Split into files with B bytes in them"
   ]
  },
  {
   "cell_type": "code",
   "execution_count": 32,
   "metadata": {
    "collapsed": true,
    "slideshow": {
     "slide_type": "slide"
    }
   },
   "outputs": [],
   "source": [
    "split -l1 numbers.txt numbers_aa"
   ]
  },
  {
   "cell_type": "code",
   "execution_count": 34,
   "metadata": {},
   "outputs": [
    {
     "name": "stdout",
     "output_type": "stream",
     "text": [
      "xaa  xab  xac  xad  xae\n"
     ]
    }
   ],
   "source": [
    "ls x*"
   ]
  },
  {
   "cell_type": "code",
   "execution_count": 35,
   "metadata": {},
   "outputs": [
    {
     "name": "stdout",
     "output_type": "stream",
     "text": [
      "40\n"
     ]
    }
   ],
   "source": [
    "more numbersaa"
   ]
  },
  {
   "cell_type": "markdown",
   "metadata": {
    "slideshow": {
     "slide_type": "slide"
    }
   },
   "source": [
    "## Arithmetic\n",
    "- bash supports only integer arithmetic natively\n",
    "- The syntax to indicate arithmetic is double parentheses **(( EXPRESSION ))**\n",
    "- Variables do not need to be expanded inside the double parentheses (no $ needed)\n",
    "- Standard operators are supported\n",
    "    - % is the module operator\n",
    "    - ** is used for exponentiation"
   ]
  },
  {
   "cell_type": "code",
   "execution_count": 36,
   "metadata": {
    "slideshow": {
     "slide_type": "slide"
    }
   },
   "outputs": [
    {
     "name": "stdout",
     "output_type": "stream",
     "text": [
      "11\n",
      "1\n",
      "60\n",
      "4\n"
     ]
    }
   ],
   "source": [
    "echo $((0 + 11))\n",
    "echo $((10/6))\n",
    "echo $((10 * 6))\n",
    "echo $((10 % 6))"
   ]
  },
  {
   "cell_type": "code",
   "execution_count": 37,
   "metadata": {
    "slideshow": {
     "slide_type": "slide"
    }
   },
   "outputs": [
    {
     "name": "stdout",
     "output_type": "stream",
     "text": [
      "12\n",
      "13\n"
     ]
    }
   ],
   "source": [
    "x=10\n",
    "((x++))\n",
    "echo $((x += 1))\n",
    "echo $((x += 1))"
   ]
  },
  {
   "cell_type": "code",
   "execution_count": 38,
   "metadata": {},
   "outputs": [
    {
     "name": "stdout",
     "output_type": "stream",
     "text": [
      "bash: 3.14 + 11 : syntax error: invalid arithmetic operator (error token is \".14 + 11 \")\n"
     ]
    },
    {
     "ename": "",
     "evalue": "1",
     "output_type": "error",
     "traceback": []
    }
   ],
   "source": [
    "echo $((3.14 + 11 ))"
   ]
  },
  {
   "cell_type": "markdown",
   "metadata": {
    "collapsed": true,
    "slideshow": {
     "slide_type": "slide"
    }
   },
   "source": [
    "## Floating Point Arithmetic\n",
    "- In order to perform floating point math, the `bc` command is used\n",
    "    - The input is STDIN\n",
    "- The syntax is very similar to C\n",
    "    - To determine the precision of the output, prefix the math with `scale=PRECISION;`\n",
    "    - The default is to truncate all floating point numbers"
   ]
  },
  {
   "cell_type": "code",
   "execution_count": 41,
   "metadata": {
    "slideshow": {
     "slide_type": "slide"
    }
   },
   "outputs": [
    {
     "name": "stdout",
     "output_type": "stream",
     "text": [
      "5\n",
      "1.66\n",
      "14.14\n",
      "3.00\n",
      ".99\n",
      "0\n"
     ]
    }
   ],
   "source": [
    "bc <<< \"0+5\"\n",
    "bc <<< \"scale=2;10/6\"\n",
    "bc <<< \"scale=2;3.14 + 11\"\n",
    "bc <<< \"scale=2; sqrt(9)\"\n",
    "echo \"scale=2; c(0)\" | bc -l\n",
    "echo \"scale=2; s(0)\" | bc -l"
   ]
  }
 ],
 "metadata": {
  "celltoolbar": "Slideshow",
  "kernelspec": {
   "display_name": "Bash",
   "language": "bash",
   "name": "bash"
  },
  "language_info": {
   "codemirror_mode": "shell",
   "file_extension": ".sh",
   "mimetype": "text/x-sh",
   "name": "bash"
  }
 },
 "nbformat": 4,
 "nbformat_minor": 2
}

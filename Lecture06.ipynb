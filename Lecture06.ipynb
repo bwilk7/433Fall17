{
 "cells": [
  {
   "cell_type": "markdown",
   "metadata": {
    "slideshow": {
     "slide_type": "slide"
    }
   },
   "source": [
    "# bash\n",
    "## I/O, Processes, and Math"
   ]
  },
  {
   "cell_type": "markdown",
   "metadata": {
    "slideshow": {
     "slide_type": "slide"
    }
   },
   "source": [
    "## User Input\n",
    "- User input is gotten by using the `read` command\n",
    "- The general syntax is\n",
    "```bash\n",
    "read [OPTIONS] variable_name\n",
    "```\n",
    "- Common options are:\n",
    "    - -p &lt;text&gt;: Prompt the user with text before getting input\n",
    "    - -s: Do not display the text the user types (for passwords, etc)\n",
    "    - -t &lt;time&gt;: Time out after the given number of seconds  "
   ]
  },
  {
   "cell_type": "code",
   "execution_count": null,
   "metadata": {
    "slideshow": {
     "slide_type": "slide"
    }
   },
   "outputs": [],
   "source": [
    "#Example Code Can't be Run in Browser/Jupyter\n",
    "echo \"Enter some text:\"\n",
    "read text\n",
    "echo \"You entered $text\""
   ]
  },
  {
   "cell_type": "code",
   "execution_count": null,
   "metadata": {
    "slideshow": {
     "slide_type": "slide"
    }
   },
   "outputs": [],
   "source": [
    "#Example Code Can't be Run in Browser/Jupyter\n",
    "read -p \"Enter some more text: \" more_text \n",
    "echo \"Now you are telling me $more_text\""
   ]
  },
  {
   "cell_type": "code",
   "execution_count": null,
   "metadata": {
    "slideshow": {
     "slide_type": "slide"
    }
   },
   "outputs": [],
   "source": [
    "#Must be -sp, -ps means \"s\" is the argument of -p \n",
    "read -sp \"Enter the secret word: \" secret\n",
    "\n",
    "#Not printing characters means that we need to \n",
    "#explicitly move to the next line\n",
    "echo\n",
    "echo \"Was I supposed to keep $secret a secret?\" ~ "
   ]
  },
  {
   "cell_type": "code",
   "execution_count": null,
   "metadata": {
    "slideshow": {
     "slide_type": "slide"
    }
   },
   "outputs": [],
   "source": [
    "echo -n \"Enter something quickly!: \"\n",
    "read -t5 user_input\n",
    "if [[ -n $user_input ]]; then \n",
    "    echo \"Congrats! You beat the clock\"\n",
    "else \n",
    "    echo\n",
    "    echo \"Too Slow! Better luck next time\" \n",
    "fi"
   ]
  },
  {
   "cell_type": "markdown",
   "metadata": {
    "slideshow": {
     "slide_type": "slide"
    }
   },
   "source": [
    "## Mapfile\n",
    "- The `mapfile` command reads STDIN into an array, breaking it up at newlines\n",
    "- Even though it reads from STDIN, it primarily used with the pipe character or redicrects\n",
    "    - Not used for user interaction\n",
    "- The syntax is \n",
    "```bash\n",
    "mapfile [OPTIONS] array_variable\n",
    "```"
   ]
  },
  {
   "cell_type": "code",
   "execution_count": null,
   "metadata": {
    "slideshow": {
     "slide_type": "slide"
    }
   },
   "outputs": [],
   "source": [
    "mapfile numbers<<HERE\n",
    "1\n",
    "2\n",
    "3\n",
    "4\n",
    "5\n",
    "HERE\n",
    "\n",
    "for number in ${numbers[@]}; do\n",
    "    echo -n \"$number, \"\n",
    "done\n",
    "echo"
   ]
  },
  {
   "cell_type": "markdown",
   "metadata": {
    "slideshow": {
     "slide_type": "slide"
    }
   },
   "source": [
    "## Reading A File with a Loop\n",
    "- The `mapfile` command is generally more efficient, but is a recent addition to bash\n",
    "- If you want to do something more than just read the lines in, it can still be useful to use a loop\n",
    "- Reading a file in a loop combines three techniques\n",
    "    - A `while` loop\n",
    "    - A `read` command\n",
    "    - Input redirection"
   ]
  },
  {
   "cell_type": "code",
   "execution_count": null,
   "metadata": {
    "slideshow": {
     "slide_type": "slide"
    }
   },
   "outputs": [],
   "source": [
    "while read line; do\n",
    "    echo $line\n",
    "done < numbers.txt"
   ]
  },
  {
   "cell_type": "markdown",
   "metadata": {
    "slideshow": {
     "slide_type": "slide"
    }
   },
   "source": [
    "## Processing a File Practice\n",
    "\n",
    "- Read in a file named data/words.txt, and find the longest word in the file"
   ]
  },
  {
   "cell_type": "code",
   "execution_count": null,
   "metadata": {},
   "outputs": [],
   "source": []
  },
  {
   "cell_type": "markdown",
   "metadata": {
    "slideshow": {
     "slide_type": "slide"
    }
   },
   "source": [
    "## Formatted Output\n",
    "- The `printf` command allows output to be formatted with more control than echo\n",
    "- It uses a syntax similar to most formatted strings you are familiar with\n",
    "    - Based on printf from C\n",
    "- Newlines are not automatically added\n",
    "- The variables to print are given as arguments to the `printf` command after the format string"
   ]
  },
  {
   "cell_type": "code",
   "execution_count": null,
   "metadata": {
    "slideshow": {
     "slide_type": "slide"
    }
   },
   "outputs": [],
   "source": [
    "printf \"%d is a number\\n\" 30\n",
    "printf \"%10d is a number\\n\" 30\n",
    "printf \"%010d is a number\\n\" 30\n",
    "printf \"%-10d is a number\\n\" 30\n",
    "printf \"%d is a big number\\n\" 10000000000\n",
    "printf \"%'d is a big number that is easier to read\" 10000000000"
   ]
  },
  {
   "cell_type": "code",
   "execution_count": null,
   "metadata": {
    "slideshow": {
     "slide_type": "slide"
    }
   },
   "outputs": [],
   "source": [
    "printf \"%f is a float\\n\" 30\n",
    "printf \"%f is a float\\n\" 30.1345\n",
    "printf \"%.2f is a truncated float\\n\" 30.12345\n",
    "printf \"%'.2f is a truncated , yet big, float\" 3000000000.12345"
   ]
  },
  {
   "cell_type": "code",
   "execution_count": null,
   "metadata": {
    "slideshow": {
     "slide_type": "slide"
    }
   },
   "outputs": [],
   "source": [
    "printf \"%s is a string\\n\" \"Hello there\"\n",
    "#All Arguments are always printed\n",
    "printf \"%s was passed as an argument\\n\" Hello there\n",
    "printf \"%3s doesn't truncate the string\\n\" \"A long string\"\n",
    "printf \"%.3s does truncate the string\\n\" \"A long string\"\n",
    "printf \"%10.3s truncates the string\\\n",
    ", but prints with a width of 10\" \"A long string\""
   ]
  },
  {
   "cell_type": "markdown",
   "metadata": {
    "slideshow": {
     "slide_type": "slide"
    }
   },
   "source": [
    "## Other Uses of `printf`\n",
    "\n",
    "- Two rather unique format types are \n",
    "    - `%q%` will escape your string into an appropriate format for bash\n",
    "    - `%(fmt)T` converts seconds into a user specified date string\n",
    "        - `fmt` is other format commands for dates, similar to `strftime` function in C"
   ]
  },
  {
   "cell_type": "code",
   "execution_count": null,
   "metadata": {
    "slideshow": {
     "slide_type": "slide"
    }
   },
   "outputs": [],
   "source": [
    "printf %q \"A directoryname with spaces/\"\n",
    "printf \"\\n\"\n",
    "printf \"%(%A the %d of %B, %Y, at %r)T\\n\" -1\n",
    "printf \"%(%A the %d of %B, %Y, at %r)T\" 1"
   ]
  },
  {
   "cell_type": "markdown",
   "metadata": {
    "slideshow": {
     "slide_type": "slide"
    }
   },
   "source": [
    "## Running Other Scripts\n",
    "- Other scripts can always be run like other commands, simply by calling them\n",
    "- If you want to have access to all the variables, including function definitions, use the `source` command\n",
    "    - The single dot `.` is an alias for the `source` command\n",
    "    \n",
    "```bash\n",
    ". lots_of_definitions\n",
    "source other_definitions\n",
    "```"
   ]
  },
  {
   "cell_type": "code",
   "execution_count": null,
   "metadata": {
    "slideshow": {
     "slide_type": "slide"
    }
   },
   "outputs": [],
   "source": [
    "more src/shell/definitions.sh"
   ]
  },
  {
   "cell_type": "code",
   "execution_count": null,
   "metadata": {
    "scrolled": true
   },
   "outputs": [],
   "source": [
    "./src/shell/definitions.sh\n",
    "echo $pi"
   ]
  },
  {
   "cell_type": "code",
   "execution_count": null,
   "metadata": {},
   "outputs": [],
   "source": [
    ". src/shell/definitions.sh\n",
    "echo ${alphabet[*]}"
   ]
  },
  {
   "cell_type": "markdown",
   "metadata": {
    "slideshow": {
     "slide_type": "slide"
    }
   },
   "source": [
    "## Process Management\n",
    "- When calling other commands it is useful to know how to control processes\n",
    "- Common process control commands are\n",
    "    - `COMMAND &` - executes command in background\n",
    "    - `bg JOB_SPEC` - sends command to background\n",
    "    - `fg JOB_SPEC` - brings background command to foreground\n",
    "- If you are using the shell interactively\n",
    "    - `jobs` list all currently running processes launched from this shell\n",
    "    - `ps` list all processes on the computer"
   ]
  },
  {
   "cell_type": "markdown",
   "metadata": {
    "slideshow": {
     "slide_type": "slide"
    }
   },
   "source": [
    "## `ps`  Command\n",
    "- When you have many processes running its useful to know how to query them\n",
    "- The `ps` command by default displays the pids for processes launched from this shell\n",
    "- Common options are\n",
    "    - -A: display all processes on the system\n",
    "    - -f: display more information, such as who started the process\n",
    "    - -F: display even more information\n",
    "    - -o&lt;format&gt;: customize the information displayed\n",
    "    - -u&lt;user&gt;: display all processes launched by user"
   ]
  },
  {
   "cell_type": "code",
   "execution_count": null,
   "metadata": {
    "slideshow": {
     "slide_type": "slide"
    }
   },
   "outputs": [],
   "source": [
    "ps"
   ]
  },
  {
   "cell_type": "code",
   "execution_count": null,
   "metadata": {
    "slideshow": {
     "slide_type": "slide"
    }
   },
   "outputs": [],
   "source": [
    "ps -f -ubryan | more"
   ]
  },
  {
   "cell_type": "markdown",
   "metadata": {
    "slideshow": {
     "slide_type": "slide"
    }
   },
   "source": [
    "## Kill\n",
    "- Despite it's name `kill` is a more general command then just ended processes\n",
    "- The `kill` command can send signals to running processes\n",
    "    - The signal can be sent using either its numerical value or name\n",
    "        - -9 or -SIGKILL\n",
    "    - To see a full list use `kill -l`\n",
    "- Syntax\n",
    "```bash\n",
    "kill SIGNAL PID\n",
    "```"
   ]
  },
  {
   "cell_type": "code",
   "execution_count": null,
   "metadata": {
    "slideshow": {
     "slide_type": "slide"
    }
   },
   "outputs": [],
   "source": [
    "# Launch a random background job\n",
    "htop &"
   ]
  },
  {
   "cell_type": "code",
   "execution_count": null,
   "metadata": {},
   "outputs": [],
   "source": [
    "kill -15 9922"
   ]
  },
  {
   "cell_type": "code",
   "execution_count": null,
   "metadata": {},
   "outputs": [],
   "source": [
    "jobs"
   ]
  },
  {
   "cell_type": "code",
   "execution_count": null,
   "metadata": {},
   "outputs": [],
   "source": [
    "kill -9 9922"
   ]
  },
  {
   "cell_type": "markdown",
   "metadata": {
    "slideshow": {
     "slide_type": "slide"
    }
   },
   "source": [
    "## The nohup Command\n",
    "- One signal sent to processes is `SIGHUP` which is sent when a terminal closes\n",
    "    - Comes from hang up\n",
    "    - This will generally kill processes \n",
    "- If we have a long running background task that we want to continue after the terminal is close, use the nohup command\n",
    "```bash\n",
    "nohup COMMAND &\n",
    "```"
   ]
  },
  {
   "cell_type": "markdown",
   "metadata": {
    "slideshow": {
     "slide_type": "slide"
    }
   },
   "source": [
    "## Command Substitution\n",
    "- We've used it a few times, but formally command substitution runs a command and returns it's output\n",
    "- You may encounter two forms\n",
    "    - `` `command` ``\n",
    "    - `$(command)`\n",
    "- Always use `$(command)`\n",
    "    - It is nestable\n",
    "    - It is safer"
   ]
  },
  {
   "cell_type": "code",
   "execution_count": null,
   "metadata": {
    "slideshow": {
     "slide_type": "slide"
    }
   },
   "outputs": [],
   "source": [
    "html_files=$(find . -name \"*.ipynb\")\n",
    "echo $html_files"
   ]
  },
  {
   "cell_type": "code",
   "execution_count": null,
   "metadata": {},
   "outputs": [],
   "source": [
    "ps_out=$(ps)"
   ]
  },
  {
   "cell_type": "code",
   "execution_count": null,
   "metadata": {},
   "outputs": [],
   "source": [
    "echo ${ps_out::10}"
   ]
  },
  {
   "cell_type": "code",
   "execution_count": null,
   "metadata": {},
   "outputs": [],
   "source": [
    "nesting=$(echo $(ls))\n",
    "echo $nesting"
   ]
  },
  {
   "cell_type": "markdown",
   "metadata": {
    "slideshow": {
     "slide_type": "slide"
    }
   },
   "source": [
    "## Command Substitution Practice\n",
    "- Use command substitution to print all the `ipynb` files in the directory, with `ipynb` removed\n",
    "    - Hint: Use `${var//pattern/substitute}`"
   ]
  },
  {
   "cell_type": "markdown",
   "metadata": {
    "slideshow": {
     "slide_type": "slide"
    }
   },
   "source": [
    "## Chaining Commands\n",
    "- The `&&` ,`||` , and `;` operators are used to chain commands together\n",
    "    - `command1 && command2` only executes command2 upon successful exit of command1\n",
    "    - `command1 || command2` only executes command2 upon unsuccessful exit of command1\n",
    "    - `command1 ; command2` always executes command2"
   ]
  },
  {
   "cell_type": "code",
   "execution_count": null,
   "metadata": {
    "slideshow": {
     "slide_type": "slide"
    }
   },
   "outputs": [],
   "source": [
    "rm /home 2> /dev/null || echo \"You can't do that\"\n",
    "[[ 1 -eq 1 ]] && echo \"That is true 1\"\n",
    "[[ 1 -eq 2 ]] && echo \"That is true 2\"\n",
    "[[ 1 -eq 2 ]] || echo \"That isn't true 2\""
   ]
  },
  {
   "cell_type": "markdown",
   "metadata": {
    "slideshow": {
     "slide_type": "slide"
    }
   },
   "source": [
    "## Subshells\n",
    "- A subshell is a group of commands run in a separate shell from the current process\n",
    "- Changes to variables in the subshell will not be reflected in the main script\n",
    "- Can also be used to send an entire group of commands to the background\n",
    "- Syntax is \n",
    "```bash\n",
    "( COMANDS )\n",
    "```"
   ]
  },
  {
   "cell_type": "code",
   "execution_count": null,
   "metadata": {
    "slideshow": {
     "slide_type": "slide"
    }
   },
   "outputs": [],
   "source": [
    "echo $(pwd)\n",
    "(\n",
    "    cd ~\n",
    "    echo $(pwd)\n",
    ")\n",
    "echo $(pwd)"
   ]
  },
  {
   "cell_type": "code",
   "execution_count": null,
   "metadata": {
    "slideshow": {
     "slide_type": "slide"
    }
   },
   "outputs": [],
   "source": [
    "printf \"%'d is a big number\\n\" 1000000\n",
    "(\n",
    "    LANG=es_ES.UTF-8\n",
    "    printf \"%'d is a big number\\n\" 1000000\n",
    ")\n",
    "printf \"%'d is a big number\\n\" 1000000"
   ]
  },
  {
   "cell_type": "markdown",
   "metadata": {
    "slideshow": {
     "slide_type": "slide"
    }
   },
   "source": [
    "## Parallel Execution\n",
    "- Parallel execution can be achieved easily using subshells and backgrounding processes\n",
    "- Bash has a builtin command `wait` that will pause the execution of the script until all child processes have returned\n",
    "- For more complex parallel applications, we will look at the GNU parallel suite of tools"
   ]
  },
  {
   "cell_type": "code",
   "execution_count": null,
   "metadata": {
    "slideshow": {
     "slide_type": "slide"
    }
   },
   "outputs": [],
   "source": [
    "#Supress notification of completed background jobs\n",
    "set +m\n",
    "\n",
    "(\n",
    "    for letter in {A..Z}; do\n",
    "        echo \"$letter \";\n",
    "        sleep 0.5;\n",
    "    done;\n",
    ")& \n",
    "\n",
    "(\n",
    "    for number in 1 2 3 4 5 6 7; do\n",
    "        echo  \"$number \";\n",
    "        sleep 0.25;\n",
    "    done\n",
    ")&\n",
    "\n",
    "wait\n",
    "echo \"EVERYTHING IS AWESOME\""
   ]
  },
  {
   "cell_type": "markdown",
   "metadata": {
    "slideshow": {
     "slide_type": "slide"
    }
   },
   "source": [
    "## GNU Parallel\n",
    "- GNU parallel is a collection of utilities to manage processes executing in parallel\n",
    "- The `parallel` command executes a command in parallel given a list of arguments separated by `:::`\n",
    "```bash\n",
    "    parallel echo ::: A B C ::: 1 2 3\n",
    "```\n",
    "- `parallel --pipe` allows parallel processing of STDIN\n",
    "- The `sem` command is useful to combine with backgrounded subprocesses to limit how many run at a time"
   ]
  },
  {
   "cell_type": "code",
   "execution_count": null,
   "metadata": {
    "slideshow": {
     "slide_type": "slide"
    }
   },
   "outputs": [],
   "source": [
    "parallel echo ::: A B C ::: 1 2 3"
   ]
  },
  {
   "cell_type": "code",
   "execution_count": null,
   "metadata": {
    "slideshow": {
     "slide_type": "-"
    }
   },
   "outputs": [],
   "source": [
    "parallel jupyter-nbconvert {} --to html ::: *.ipynb"
   ]
  },
  {
   "cell_type": "code",
   "execution_count": null,
   "metadata": {
    "slideshow": {
     "slide_type": "slide"
    }
   },
   "outputs": [],
   "source": [
    "time (grep -P \"\\d\\d\\d-\\d\\d\\d-\\d\\d\\d\\d\" ~/Research/Data/wackypediaFlat.slim | wc -l)\n",
    "#grep -P \"\\d\\d\\d-\\d\\d\\d-\\d\\d\\d\\d\" ~/wackypediaFlat.slim | wc -l"
   ]
  },
  {
   "cell_type": "code",
   "execution_count": null,
   "metadata": {},
   "outputs": [],
   "source": [
    "time parallel --pipe --block 100M 'grep -P \"\\d\\d\\d-\\d\\d\\d-\\d\\d\\d\\d\" | wc -l' <  ~/Research/Data/wackypediaFlat.slim"
   ]
  },
  {
   "cell_type": "code",
   "execution_count": null,
   "metadata": {
    "slideshow": {
     "slide_type": "slide"
    }
   },
   "outputs": [],
   "source": [
    "# There are better ways to do this, ie all in one search\n",
    "\n",
    "for letter in {A..Z}; do\n",
    "(\n",
    "        n=$(grep -P \"($letter)\\1\" ~/wackypediaFlat.slim | wc -l)\n",
    "        echo \"$n double $letter's found\"\n",
    "        sleep 0.5;\n",
    ")&\n",
    "done;\n",
    "\n",
    "wait"
   ]
  },
  {
   "cell_type": "code",
   "execution_count": null,
   "metadata": {
    "slideshow": {
     "slide_type": "slide"
    }
   },
   "outputs": [],
   "source": [
    "# There are better ways to do this, ie all in one search\n",
    "\n",
    "for letter in {A..Z}; do\n",
    "(\n",
    "        \n",
    "        n=$(sem --id $$ -j3 grep \"${letter}${letter}\" ~/wackypediaFlat.slim | wc -l)\n",
    "        echo \"$n double $letter's found\"\n",
    "        sleep 0.5;\n",
    ")&\n",
    "done;\n",
    "\n",
    "sem --wait --id $$"
   ]
  },
  {
   "cell_type": "markdown",
   "metadata": {
    "slideshow": {
     "slide_type": "slide"
    }
   },
   "source": [
    "## Splitting a File\n",
    "- Splitting a file comes in handy when doing parallel processing, if you don't want to or can't use `parallel --pipe`\n",
    "- The split command will automatically split a file according to various metrics, and create new files with a suffix like \"aa\"\n",
    "- Common options\n",
    "    - -n: Split into N chunks\n",
    "    - -l: Split into files with L lines\n",
    "    - -b: Split into files with B bytes in them"
   ]
  },
  {
   "cell_type": "code",
   "execution_count": null,
   "metadata": {
    "slideshow": {
     "slide_type": "slide"
    }
   },
   "outputs": [],
   "source": [
    "split -l1 numbers.txt numbers_aa"
   ]
  },
  {
   "cell_type": "code",
   "execution_count": null,
   "metadata": {},
   "outputs": [],
   "source": [
    "ls x*"
   ]
  },
  {
   "cell_type": "code",
   "execution_count": null,
   "metadata": {},
   "outputs": [],
   "source": [
    "more numbersaa"
   ]
  },
  {
   "cell_type": "markdown",
   "metadata": {
    "slideshow": {
     "slide_type": "slide"
    }
   },
   "source": [
    "## Arithmetic\n",
    "- bash supports only integer arithmetic natively\n",
    "- The syntax to indicate arithmetic is double parentheses **(( EXPRESSION ))**\n",
    "- Variables do not need to be expanded inside the double parentheses (no $ needed)\n",
    "- Standard operators are supported\n",
    "    - % is the module operator\n",
    "    - ** is used for exponentiation"
   ]
  },
  {
   "cell_type": "code",
   "execution_count": null,
   "metadata": {
    "slideshow": {
     "slide_type": "slide"
    }
   },
   "outputs": [],
   "source": [
    "echo $((0 + 11))\n",
    "echo $((10/6))\n",
    "echo $((10 * 6))\n",
    "echo $((10 % 6))"
   ]
  },
  {
   "cell_type": "code",
   "execution_count": null,
   "metadata": {
    "slideshow": {
     "slide_type": "slide"
    }
   },
   "outputs": [],
   "source": [
    "x=10\n",
    "((x++))\n",
    "echo $((x += 1))\n",
    "echo $((x += 1))"
   ]
  },
  {
   "cell_type": "code",
   "execution_count": null,
   "metadata": {},
   "outputs": [],
   "source": [
    "echo $((3.14 + 11 ))"
   ]
  },
  {
   "cell_type": "markdown",
   "metadata": {
    "collapsed": true,
    "slideshow": {
     "slide_type": "slide"
    }
   },
   "source": [
    "## Floating Point Arithmetic\n",
    "- In order to perform floating point math, the `bc` command is used\n",
    "    - The input is STDIN\n",
    "- The syntax is very similar to C\n",
    "    - To determine the precision of the output, prefix the math with `scale=PRECISION;`\n",
    "    - The default is to truncate all floating point numbers"
   ]
  },
  {
   "cell_type": "code",
   "execution_count": null,
   "metadata": {
    "slideshow": {
     "slide_type": "slide"
    }
   },
   "outputs": [],
   "source": [
    "bc <<< \"0+5\"\n",
    "bc <<< \"scale=2;10/6\"\n",
    "bc <<< \"scale=2;3.14 + 11\"\n",
    "bc <<< \"scale=2; sqrt(9)\"\n",
    "echo \"scale=2; c(0)\" | bc -l\n",
    "echo \"scale=2; s(0)\" | bc -l"
   ]
  }
 ],
 "metadata": {
  "celltoolbar": "Slideshow",
  "kernelspec": {
   "display_name": "Bash",
   "language": "bash",
   "name": "bash"
  },
  "language_info": {
   "codemirror_mode": "shell",
   "file_extension": ".sh",
   "mimetype": "text/x-sh",
   "name": "bash"
  }
 },
 "nbformat": 4,
 "nbformat_minor": 2
}

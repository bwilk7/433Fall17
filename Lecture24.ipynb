{
 "cells": [
  {
   "cell_type": "markdown",
   "metadata": {
    "slideshow": {
     "slide_type": "slide"
    }
   },
   "source": [
    "# PHP IV"
   ]
  },
  {
   "cell_type": "markdown",
   "metadata": {
    "slideshow": {
     "slide_type": "slide"
    }
   },
   "source": [
    "## Regex in PHP\n",
    "- PHP used to support two regular expression engines\n",
    "    - POSIX\n",
    "    - PCRE\n",
    "- POSIX is deprecated as of PHP 5.3\n",
    "- Because of this, all regular epxression functions you will use start with the prefix `preg_`\n",
    "- All regex strings need a delimiter inside the quotes\n",
    "    - `\"/regex/\"`"
   ]
  },
  {
   "cell_type": "markdown",
   "metadata": {
    "slideshow": {
     "slide_type": "slide"
    }
   },
   "source": [
    "## Matching\n",
    "- PHP has three functions that perform some type of matching\n",
    "    - `preg_match(regex,string,[captures])` - Return if the regex is found in the string, optionally capturing groups into provided array\n",
    "    - `preg_match_all(regex,string,[captures])` - Finds all matches, storing them in the provided capture variable, and returns the number of matches found\n",
    "    - `preg_grep(regex,array)` - Returns an array with all elements of the input array that match the regular expression"
   ]
  },
  {
   "cell_type": "code",
   "execution_count": null,
   "metadata": {
    "slideshow": {
     "slide_type": "slide"
    }
   },
   "outputs": [],
   "source": [
    "$str = <<< END\n",
    "The phone number for the CSEE Department is 410-455-3500.\n",
    "The fax number is 410-455-3969.\n",
    "END;\n",
    "\n",
    "preg_match(\"/\\d{3}-\\d{3}-\\d{4}/\",$str);"
   ]
  },
  {
   "cell_type": "code",
   "execution_count": null,
   "metadata": {
    "slideshow": {
     "slide_type": "slide"
    }
   },
   "outputs": [],
   "source": [
    "preg_match(\"/(\\d{3})-(\\d{3})-(\\d{4})/\",$str,$matches);\n",
    "echo $matches[0];\n",
    "echo $matches[1];\n",
    "echo $matches[2];\n",
    "echo $matches[3];"
   ]
  },
  {
   "cell_type": "code",
   "execution_count": null,
   "metadata": {
    "slideshow": {
     "slide_type": "slide"
    }
   },
   "outputs": [],
   "source": [
    "preg_match_all(\"/(\\d{3})-(\\d{3})-(\\d{4})/\",$str);"
   ]
  },
  {
   "cell_type": "code",
   "execution_count": null,
   "metadata": {
    "slideshow": {
     "slide_type": "slide"
    }
   },
   "outputs": [],
   "source": [
    "$n_matches = preg_match_all(\"/(\\d{3})-(\\d{3})-(\\d{4})/\",$str,$matches);\n",
    "for($i = 0; $i < $n_matches; $i++){\n",
    "    echo $matches[0][$i];\n",
    "    echo $matches[1][$i];\n",
    "    echo $matches[2][$i];\n",
    "    echo $matches[3][$i];\n",
    "}"
   ]
  },
  {
   "cell_type": "code",
   "execution_count": null,
   "metadata": {
    "slideshow": {
     "slide_type": "slide"
    }
   },
   "outputs": [],
   "source": [
    "$strs = array('One','Bone','Phone','Tome','Rome');\n",
    "preg_grep('/one/i',$strs)"
   ]
  },
  {
   "cell_type": "code",
   "execution_count": null,
   "metadata": {
    "slideshow": {
     "slide_type": "slide"
    }
   },
   "outputs": [],
   "source": [
    "$strs = array('a'=>'One','b'=>'Bone',\n",
    "              'c' => 'Phone','d' => 'Tome','e' => 'Rome');\n",
    "preg_grep('/one/i',$strs)"
   ]
  },
  {
   "cell_type": "code",
   "execution_count": null,
   "metadata": {
    "slideshow": {
     "slide_type": "slide"
    }
   },
   "outputs": [],
   "source": [
    "$strs = array('One','Bone','Phone','Tome','Rome');\n",
    "preg_grep('/one/i',$strs,PREG_GREP_INVERT)"
   ]
  },
  {
   "cell_type": "markdown",
   "metadata": {
    "slideshow": {
     "slide_type": "slide"
    }
   },
   "source": [
    "## Replacing\n",
    "- PHP has several varities of a replace function\n",
    "- The main one is \n",
    "```php\n",
    "preg_replace(regex,replacement,string)\n",
    "```\n",
    "    - This replaces all occurences of the pattern in the string with the replacement\n",
    "    - Regex, replacement, and string can all be arrays of strings\n",
    "- There other varities are similar but rather than a replacement string, they take a call back function"
   ]
  },
  {
   "cell_type": "code",
   "execution_count": null,
   "metadata": {
    "slideshow": {
     "slide_type": "slide"
    }
   },
   "outputs": [],
   "source": [
    "$str = <<< END\n",
    "Go directly to Jail.\n",
    "Do not pass Go,\n",
    "do not collect $200.\n",
    "END;\n",
    "\n",
    "$str = preg_replace('/(do not)/i', '<b>\\1</b>', $str);\n",
    "echo $str;"
   ]
  },
  {
   "cell_type": "code",
   "execution_count": null,
   "metadata": {
    "slideshow": {
     "slide_type": "slide"
    }
   },
   "outputs": [],
   "source": [
    "$chipmunks = array(\"Alvin\",\"Simon\",\"Theodore\");\n",
    "$chipmunks = preg_replace('/^(.*)$/',\"$1 Seville\",$chipmunks);\n",
    "foreach($chipmunks as $chip){\n",
    "    echo $chip;\n",
    "}"
   ]
  },
  {
   "cell_type": "code",
   "execution_count": null,
   "metadata": {
    "slideshow": {
     "slide_type": "slide"
    }
   },
   "outputs": [],
   "source": [
    "$bad_words = array(\"/Fooey/i\", \"/Blurgh/i\", \"/Smurf/i\", \"/Flipping/i\");\n",
    "$str = <<<HERE\n",
    "Oh fooey, stop saying smurf, we are trying to air this on flipping network tv.\n",
    "HERE;\n",
    "\n",
    "preg_replace($bad_words,\"*******\", $str);"
   ]
  },
  {
   "cell_type": "code",
   "execution_count": null,
   "metadata": {
    "slideshow": {
     "slide_type": "slide"
    }
   },
   "outputs": [],
   "source": [
    "$bad_words = array(\"/Fooey/i\", \"/Blurgh/i\", \"/Smurf/i\", \"/Flipping/i\");\n",
    "$replacements = array(\"F***\",\"B****\",\"S***\",\"F*******\");\n",
    "$str = <<<HERE\n",
    "Oh fooey, stop saying smurf, we are trying to air this on flipping network tv.\n",
    "HERE;\n",
    "\n",
    "preg_replace($bad_words,$replacements, $str);"
   ]
  },
  {
   "cell_type": "code",
   "execution_count": null,
   "metadata": {
    "slideshow": {
     "slide_type": "slide"
    }
   },
   "outputs": [],
   "source": [
    "$lines = file('sherlock.txt');\n",
    "preg_replace('/Sherlock Holmes/','Bond, James Bond',$lines);"
   ]
  },
  {
   "cell_type": "code",
   "execution_count": null,
   "metadata": {
    "slideshow": {
     "slide_type": "slide"
    }
   },
   "outputs": [],
   "source": [
    "$lines = file('sherlock.txt');\n",
    "$names = array('/Sherlock Holmes/','/Henry Baker/', '/Mr[s]\\. \\w+/');\n",
    "preg_replace($names,'REDACTED',$lines);"
   ]
  },
  {
   "cell_type": "markdown",
   "metadata": {
    "slideshow": {
     "slide_type": "slide"
    }
   },
   "source": [
    "## Quoting\n",
    "- The `preg_quote(string)` function will place a backslash before any special character\n",
    "- This can be useful if you want to do a find operation using user input \n",
    "    - Assuming you want basic find, not regex find"
   ]
  },
  {
   "cell_type": "code",
   "execution_count": null,
   "metadata": {
    "slideshow": {
     "slide_type": "slide"
    }
   },
   "outputs": [],
   "source": [
    "$string_to_search_for = \"The cost of the vase was $100!!\";\n",
    "preg_quote($string_to_search_for);"
   ]
  },
  {
   "cell_type": "markdown",
   "metadata": {
    "slideshow": {
     "slide_type": "slide"
    }
   },
   "source": [
    "## Diferences Between PHP preg_* and Perl "
   ]
  },
  {
   "cell_type": "markdown",
   "metadata": {
    "slideshow": {
     "slide_type": "slide"
    }
   },
   "source": [
    "## Sorting\n",
    "- PHP has numerous built-in routines to sort arrays, based on\n",
    "    - Ascending or Descending order\n",
    "    - By Key or by Value\n",
    "    - By a user defined functions\n",
    "- All sorts in PHP are done **in place**"
   ]
  },
  {
   "cell_type": "markdown",
   "metadata": {
    "slideshow": {
     "slide_type": "slide"
    }
   },
   "source": [
    "## Sorting the Standard Array\n",
    "- The two simplest sort functions are \n",
    "    - `sort`\n",
    "    - `rsort`\n",
    "- These functions sort an array by value, completely ignoring any key associations that are there"
   ]
  },
  {
   "cell_type": "code",
   "execution_count": null,
   "metadata": {
    "slideshow": {
     "slide_type": "slide"
    }
   },
   "outputs": [],
   "source": [
    "$number_array = array(6,7,8,4,2,6,7,5,4,3);\n",
    "sort($number_array);\n",
    "$number_array;"
   ]
  },
  {
   "cell_type": "code",
   "execution_count": null,
   "metadata": {
    "slideshow": {
     "slide_type": "slide"
    }
   },
   "outputs": [],
   "source": [
    "$number_array = array(6,7,8,4,2,6,7,5,4,3);\n",
    "rsort($number_array);\n",
    "$number_array;"
   ]
  },
  {
   "cell_type": "code",
   "execution_count": null,
   "metadata": {
    "slideshow": {
     "slide_type": "slide"
    }
   },
   "outputs": [],
   "source": [
    "$string_array = array(\"asdf\",\"rteu\",\"qerw\",\"vbnm\");\n",
    "sort($string_array);\n",
    "$string_array;"
   ]
  },
  {
   "cell_type": "code",
   "execution_count": null,
   "metadata": {
    "slideshow": {
     "slide_type": "slide"
    }
   },
   "outputs": [],
   "source": [
    "$string_array = array(\"asdf\",\"rteu\",\"qerw\",\"vbnm\");\n",
    "rsort($string_array);\n",
    "$string_array;"
   ]
  },
  {
   "cell_type": "code",
   "execution_count": null,
   "metadata": {
    "slideshow": {
     "slide_type": "slide"
    }
   },
   "outputs": [],
   "source": [
    "$assoc_array = array('key1' => 'tiger', 'key2' => 'lion', 'k3' => 'cheeta');\n",
    "sort($assoc_array);\n",
    "$assoc_array;"
   ]
  },
  {
   "cell_type": "code",
   "execution_count": null,
   "metadata": {
    "slideshow": {
     "slide_type": "slide"
    }
   },
   "outputs": [],
   "source": [
    "$mixed_array = array(5,6,4,3,1,\"asdf\",\"rteu\",4,\"qerw\",\"vbnm\");\n",
    "sort($mixed_array);\n",
    "$mixed_array;"
   ]
  },
  {
   "cell_type": "code",
   "execution_count": null,
   "metadata": {
    "slideshow": {
     "slide_type": "slide"
    }
   },
   "outputs": [],
   "source": [
    "$mixed_array = array(5,6,4,3,1,\"asdf\",\"rteu\",4,\"qerw\",\n",
    "                    \"vbnm\");\n",
    "sort($mixed_array,SORT_STRING);\n",
    "$mixed_array;"
   ]
  },
  {
   "cell_type": "markdown",
   "metadata": {
    "slideshow": {
     "slide_type": "slide"
    }
   },
   "source": [
    "## Maintaining Association\n",
    "- To sort by value, but keep thet associated keys, use one of the `a*sort()` functions\n",
    "    - `asort()`\n",
    "    - `arsort()`"
   ]
  },
  {
   "cell_type": "code",
   "execution_count": null,
   "metadata": {
    "slideshow": {
     "slide_type": "slide"
    }
   },
   "outputs": [],
   "source": [
    "$assoc_array = array('key1' => 'tiger', 'key2' => 'lion', \n",
    "                    'k3' => 'cheeta');\n",
    "asort($assoc_array);\n",
    "$assoc_array;"
   ]
  },
  {
   "cell_type": "code",
   "execution_count": null,
   "metadata": {
    "slideshow": {
     "slide_type": "slide"
    }
   },
   "outputs": [],
   "source": [
    "$assoc_array = array('key1' => 'tiger', 'key2' => 'lion',\n",
    "                     'k3' => 'cheeta');\n",
    "arsort($assoc_array);\n",
    "$assoc_array;"
   ]
  },
  {
   "cell_type": "code",
   "execution_count": null,
   "metadata": {
    "slideshow": {
     "slide_type": "slide"
    }
   },
   "outputs": [],
   "source": [
    "$number_array = array(6,7,8,4,2,6,7,5,4,3);\n",
    "asort($number_array);\n",
    "$number_array;"
   ]
  },
  {
   "cell_type": "markdown",
   "metadata": {
    "slideshow": {
     "slide_type": "slide"
    }
   },
   "source": [
    "## Sorting by Key\n",
    "- To sort by key, use one of the `k*sort()` functions\n",
    "    - `ksort()`\n",
    "    - `krsort()`\n",
    "- There is no `aksort()` function\n",
    "    - It isn't needed, `k*sort()` mantains associativity"
   ]
  },
  {
   "cell_type": "code",
   "execution_count": null,
   "metadata": {
    "slideshow": {
     "slide_type": "slide"
    }
   },
   "outputs": [],
   "source": [
    "$cats = array('asia' => 'tiger', \n",
    "              'africa' => 'lion',\n",
    "              'south_america' => 'jaguar',\n",
    "              'north_america'=>'bobcat');\n",
    "ksort($cats);\n",
    "$cats;"
   ]
  },
  {
   "cell_type": "code",
   "execution_count": null,
   "metadata": {
    "slideshow": {
     "slide_type": "slide"
    }
   },
   "outputs": [],
   "source": [
    "$cats = array('asia' => 'tiger', \n",
    "              'africa' => 'lion',\n",
    "              'south_america' => 'jaguar',\n",
    "              'north_america'=>'bobcat');\n",
    "krsort($cats);\n",
    "$cats;"
   ]
  },
  {
   "cell_type": "code",
   "execution_count": null,
   "metadata": {
    "slideshow": {
     "slide_type": "slide"
    }
   },
   "outputs": [],
   "source": [
    "$number_array = array(6,7,8,4,2,6,7,5,4,3);\n",
    "ksort($number_array);\n",
    "$number_array;"
   ]
  },
  {
   "cell_type": "markdown",
   "metadata": {
    "slideshow": {
     "slide_type": "slide"
    }
   },
   "source": [
    "## User-Defined Sort\n",
    "- To use a custom sort function, call one of the `u*sort` functions\n",
    "    - `usort()`\n",
    "    - `uasort()`\n",
    "    - `uksort()`\n",
    "    \n",
    "- Each of these functions takes an array and a comparator function"
   ]
  },
  {
   "cell_type": "code",
   "execution_count": null,
   "metadata": {
    "slideshow": {
     "slide_type": "slide"
    }
   },
   "outputs": [],
   "source": [
    "$semesters = array('Fall 2009','Spring 2010',\n",
    "                   'Winter 2010','Summer 2010',\n",
    "                   'Fall 2010');\n",
    "shuffle($semesters);\n",
    "$semesters;\n"
   ]
  },
  {
   "cell_type": "code",
   "execution_count": null,
   "metadata": {
    "slideshow": {
     "slide_type": "slide"
    }
   },
   "outputs": [],
   "source": [
    "usort($semesters, function($a, $b) {\n",
    "        $map = array('Winter'=>1, 'Spring'=>2,\n",
    "                     'Summer'=>3, 'Fall'=>4);\n",
    "        $aParts = explode(' ', $a);\n",
    "        $bParts = explode(' ', $b);\n",
    "        $result = $aParts[1] - $bParts[1];\n",
    "        return $result == 0 ? $map[$aParts[0]] - $map[$bParts[0]] : $result;\n",
    "    });\n",
    "$semesters"
   ]
  },
  {
   "cell_type": "code",
   "execution_count": null,
   "metadata": {
    "slideshow": {
     "slide_type": "slide"
    }
   },
   "outputs": [],
   "source": [
    "$cats = array('asia' => 'tiger', \n",
    "              'africa' => 'lion',\n",
    "              'south_america' => 'jaguar',\n",
    "              'north_america'=>'bobcat');\n",
    "uasort($cats,function($a,$b){\n",
    "    return strcmp(substr($a,-1),substr($b,-1));\n",
    "});\n",
    "$cats;"
   ]
  },
  {
   "cell_type": "code",
   "execution_count": null,
   "metadata": {
    "slideshow": {
     "slide_type": "slide"
    }
   },
   "outputs": [],
   "source": [
    "$cats = array('asia' => 'tiger', \n",
    "              'africa' => 'lion',\n",
    "              'south_america' => 'jaguar',\n",
    "              'north_america'=>'bobcat');\n",
    "uksort($cats,function($a,$b){\n",
    "    return strlen($b) - strlen($a);\n",
    "});\n",
    "$cats;"
   ]
  },
  {
   "cell_type": "markdown",
   "metadata": {
    "slideshow": {
     "slide_type": "slide"
    }
   },
   "source": [
    "## Network Access \n",
    "- PHP has excellent support for performing operations over a network\n",
    "- Today we will look at two methods\n",
    "    - Accessing content over a network using file IO\n",
    "    - Using the cURL library (almost always isntalled)"
   ]
  },
  {
   "cell_type": "markdown",
   "metadata": {
    "slideshow": {
     "slide_type": "slide"
    }
   },
   "source": [
    "## Treating a URL like a file name\n",
    "- All of PHP's file functions can use a URL inplace of a file name\n",
    "    - You can't write to a URL unless you are using something like FTP and have permission\n",
    "- You must include the scheme so PHP can handle it correctly\n",
    "    - `http://`\n",
    "    - `ftp://`\n",
    "    - `file://`"
   ]
  },
  {
   "cell_type": "code",
   "execution_count": null,
   "metadata": {
    "slideshow": {
     "slide_type": "slide"
    }
   },
   "outputs": [],
   "source": [
    "$website = file_get_contents(\"http://umbc.edu\");\n",
    "$website;"
   ]
  },
  {
   "cell_type": "code",
   "execution_count": null,
   "metadata": {
    "slideshow": {
     "slide_type": "slide"
    }
   },
   "outputs": [],
   "source": [
    "preg_match_all(\"/<a href=\\\"(.*?)\\\">(.*?)<\\/a>/\",$website,\n",
    "                $matches);\n",
    "$matches[1];"
   ]
  },
  {
   "cell_type": "code",
   "execution_count": null,
   "metadata": {
    "slideshow": {
     "slide_type": "slide"
    }
   },
   "outputs": [],
   "source": [
    "$website_fp = fopen('http://umbc.edu','r');\n",
    "while($line = fgets($website_fp)){\n",
    "        echo htmlspecialchars($line);\n",
    "}"
   ]
  },
  {
   "cell_type": "markdown",
   "metadata": {
    "slideshow": {
     "slide_type": "slide"
    }
   },
   "source": [
    "## cURL\n",
    "- cURl is short for Client URL \n",
    "- The basic use of cURL is the following steps\n",
    "    - Get a curl object using `curl_init()`\n",
    "    - Set options on the curl object using `curl_setopt()`\n",
    "    - Execute the curl request using `curl_exec()`\n",
    "    - Close the curl session using `curl_close()`"
   ]
  },
  {
   "cell_type": "markdown",
   "metadata": {
    "slideshow": {
     "slide_type": "slide"
    }
   },
   "source": [
    "## cURL init\n",
    "- `curl_init` can be called in one of two ways\n",
    "    - With no parameters, to create an empty curl object\n",
    "    - With a URL, which is the URL you will be interacting with"
   ]
  },
  {
   "cell_type": "markdown",
   "metadata": {
    "slideshow": {
     "slide_type": "slide"
    }
   },
   "source": [
    "## cURL Options\n",
    "- The main functionaility of cURL are its numerous options which allow you to perform almost any kind of network request\n",
    "- A full list of the predefined constants can be found at http://php.net/manual/en/curl.constants.php\n",
    "    - The ones for setting options start with `CURLOPT_`\n",
    "- To set an option use \n",
    "```php\n",
    "    curl_setopt(curl_object, OPTION_CONSTANT, value);\n",
    "```"
   ]
  },
  {
   "cell_type": "code",
   "execution_count": null,
   "metadata": {
    "slideshow": {
     "slide_type": "slide"
    }
   },
   "outputs": [],
   "source": [
    "$ch = curl_init('http://umbc.edu');\n",
    "$result = curl_exec($ch);\n",
    "curl_close($ch);"
   ]
  },
  {
   "cell_type": "code",
   "execution_count": null,
   "metadata": {
    "slideshow": {
     "slide_type": "slide"
    }
   },
   "outputs": [],
   "source": [
    "$ch = curl_init();\n",
    "curl_setopt($ch, CURLOPT_URL, \"http://umbc.edu\"); \n",
    "curl_setopt($ch, CURLOPT_RETURNTRANSFER, true); \n",
    "$result =  curl_exec($ch);\n",
    "curl_close($ch);\n",
    "$result;"
   ]
  },
  {
   "cell_type": "code",
   "execution_count": null,
   "metadata": {
    "slideshow": {
     "slide_type": "slide"
    }
   },
   "outputs": [],
   "source": [
    "$lat = 39.2556015207;\n",
    "$long = -76.71099543;\n",
    "$radius= 700;\n",
    "if($radius > 10000){\n",
    "        $radius = 10000;\n",
    "}\n",
    "$curl = curl_init(\"https://en.wikipedia.org/w/api.php?action=query&prop=coordinates|pageimages|pageterms|info|extracts&colimit=100&piprop=thumbnail&pithumbsize=144&pilimit=50&wbptterms=description&generator=geosearch&ggscoord=${lat}|${long}&ggsradius=${radius}&ggslimit=100&ggsprop=type&format=json&inprop=url\");\n",
    "curl_setopt($curl, CURLOPT_USERAGENT, 'UMBC_CMSC_433_Project/1.0 (https://www.csee.umbc.edu/~bwilk1/433/; bwilk1@umbc.edu)');\n",
    "curl_setopt($curl, CURLOPT_RETURNTRANSFER, true);\n",
    "$data = curl_exec($curl);\n",
    "echo $data;\n",
    "curl_close($curl);\n"
   ]
  },
  {
   "cell_type": "markdown",
   "metadata": {
    "slideshow": {
     "slide_type": "slide"
    }
   },
   "source": [
    "## Get Info About Request\n",
    "- After executing, you can retrieve additional information from the curl handle\n",
    "    - Headers\n",
    "    - Time information\n",
    "    - IP information\n",
    "- The `curl_getinfo` function can be passed an curl handle, and optionally flags to denote what info to get\n",
    "    - If no flags are set, all the information is returned"
   ]
  },
  {
   "cell_type": "code",
   "execution_count": null,
   "metadata": {
    "slideshow": {
     "slide_type": "slide"
    }
   },
   "outputs": [],
   "source": [
    "$ch = curl_init();\n",
    "curl_setopt($ch, CURLOPT_URL, \"http://umbc.edu\"); \n",
    "curl_setopt($ch, CURLOPT_RETURNTRANSFER, true); \n",
    "$r1 = curl_exec($ch);\n",
    "$result = curl_getinfo($ch);\n",
    "curl_close($ch);\n",
    "$result;"
   ]
  }
 ],
 "metadata": {
  "celltoolbar": "Slideshow",
  "kernelspec": {
   "display_name": "PHP",
   "language": "php",
   "name": "jupyter-php"
  },
  "language_info": {
   "file_extension": ".php",
   "mimetype": "text/x-php",
   "name": "PHP",
   "pygments_lexer": "PHP",
   "version": "7.0.22-0ubuntu0.16.04.1"
  }
 },
 "nbformat": 4,
 "nbformat_minor": 2
}

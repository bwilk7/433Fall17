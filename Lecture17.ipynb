{
 "cells": [
  {
   "cell_type": "markdown",
   "metadata": {
    "slideshow": {
     "slide_type": "slide"
    }
   },
   "source": [
    "# JavaScript II"
   ]
  },
  {
   "cell_type": "markdown",
   "metadata": {
    "slideshow": {
     "slide_type": "slide"
    }
   },
   "source": [
    "## Functions\n",
    "- Functions in JavaScript are declared using the `function` keyword\n",
    "\n",
    "```js\n",
    "function function_name(args){\n",
    "}\n",
    "```\n",
    "\n",
    "- Functions are first class objects, they are stored in variables like everything else\n",
    "    - Can be passed as arguments\n",
    "    - Can be returned from functions\n",
    "    \n",
    "```js\n",
    "var function_name = function(args){\n",
    "                                  }\n",
    "```"
   ]
  },
  {
   "cell_type": "code",
   "execution_count": null,
   "metadata": {
    "slideshow": {
     "slide_type": "slide"
    }
   },
   "outputs": [],
   "source": [
    "%%script node\n",
    "function hello(){\n",
    "    console.log(\"Hello World!\")\n",
    "}\n",
    "hello()"
   ]
  },
  {
   "cell_type": "code",
   "execution_count": null,
   "metadata": {
    "slideshow": {
     "slide_type": "slide"
    }
   },
   "outputs": [],
   "source": [
    "%%script node\n",
    "function getDayOfWeek(date) {\n",
    "        var days = [\"Sunday\", \"Monday\", \"Tuesday\", \"Wednesday\", \n",
    "                    \"Thursday\", \"Friday\", \"Saturday\"];\n",
    "        return days[date.getDay()];\n",
    "      }\n",
    "console.log(\n",
    "    getDayOfWeek(new Date())\n",
    ")"
   ]
  },
  {
   "cell_type": "code",
   "execution_count": null,
   "metadata": {},
   "outputs": [],
   "source": []
  },
  {
   "cell_type": "markdown",
   "metadata": {
    "slideshow": {
     "slide_type": "slide"
    }
   },
   "source": [
    "## Custom Sorting\n",
    "- Now that we know how to define a function, we can provide `Array.sort` with a custom function\n",
    "    - The default sort is based on string representation\n",
    "- The comparator should be a function that\n",
    "    - Takes exactly two parameters, eg. `a` and `b`\n",
    "    - Returns a negative number if `a < b`\n",
    "    - Returns a 0 if `a = b`\n",
    "    - Returns a positive number if `a > b`\n",
    "    "
   ]
  },
  {
   "cell_type": "code",
   "execution_count": null,
   "metadata": {
    "slideshow": {
     "slide_type": "slide"
    }
   },
   "outputs": [],
   "source": [
    "%%script node\n",
    "var some_numbers = [45,63,22,9,13,2,1,64,\"40\"];\n",
    "some_numbers.sort();\n",
    "console.log(some_numbers)"
   ]
  },
  {
   "cell_type": "code",
   "execution_count": null,
   "metadata": {
    "slideshow": {
     "slide_type": "slide"
    }
   },
   "outputs": [],
   "source": [
    "%%script node\n",
    "var some_numbers = [45,63,22,9,13,2,1,64,'40'];\n",
    "some_numbers.sort(function(a,b)\n",
    "                 {\n",
    "                     return a - b;\n",
    "                 });\n",
    "console.log(some_numbers)"
   ]
  },
  {
   "cell_type": "markdown",
   "metadata": {
    "slideshow": {
     "slide_type": "slide"
    }
   },
   "source": [
    "## Hoisting\n",
    "- When a function is called, JavaScript looks for the definition **anywhere**\n",
    "    - If the definition is below the call, it is said to be *hoisted* up the page\n",
    "    - This only works if the name is included in the definition, not if it is assigned later"
   ]
  },
  {
   "cell_type": "code",
   "execution_count": null,
   "metadata": {
    "slideshow": {
     "slide_type": "slide"
    }
   },
   "outputs": [],
   "source": [
    "%%script node\n",
    "callMe();\n",
    "\n",
    "function callMe(){\n",
    "    console.log(\"I've been hoisted!\")\n",
    "}"
   ]
  },
  {
   "cell_type": "code",
   "execution_count": null,
   "metadata": {
    "slideshow": {
     "slide_type": "slide"
    }
   },
   "outputs": [],
   "source": [
    "%%script node\n",
    "callMe2();\n",
    "\n",
    "var callMe2 = function(){\n",
    "    console.log(\"I'll never be hoisted 😔\")\n",
    "}"
   ]
  },
  {
   "cell_type": "markdown",
   "metadata": {
    "slideshow": {
     "slide_type": "slide"
    }
   },
   "source": [
    "## Variable Number of Arguments\n",
    "- JavaScript does not require any change to the declaration of a function meant to handle an unknown number of parameters\n",
    "    - Declare it as you would any other function, only listing parameters that are **required**\n",
    "- Inside the body of the function, the special variable `arguments` is populated with any extra arguments \n",
    "    - Can be accessed like an array\n",
    "        - Isn't really an array\n",
    "    - `.length` property returns the number of extra arguments"
   ]
  },
  {
   "cell_type": "code",
   "execution_count": null,
   "metadata": {
    "slideshow": {
     "slide_type": "slide"
    }
   },
   "outputs": [],
   "source": [
    "%%script node\n",
    "function myJoin(separator){\n",
    "    if (arguments.length < 2){\n",
    "        return \"\"\n",
    "    }\n",
    "    \n",
    "    var return_string = arguments[1]\n",
    "    \n",
    "    for(var i =2; i < arguments.length; i++ )\n",
    "    {\n",
    "        return_string += separator + arguments[i]\n",
    "    }\n",
    "    return return_string\n",
    "}\n",
    "\n",
    "console.log(myJoin(';','a','b','c'))\n",
    "console.log(myJoin(';'))"
   ]
  },
  {
   "cell_type": "markdown",
   "metadata": {
    "slideshow": {
     "slide_type": "slide"
    }
   },
   "source": [
    "## Function Practice\n",
    "- Write a function that takes in a function that is just a wrapper around a mathematical operator, and then applies that operator iteratively over the rest of the arguments\n",
    "```js\n",
    "practice(function(a,b){return a + b;}, 1, 2, 3, 4, 5, 6, 7) \n",
    "```\n",
    "- should return 28\n"
   ]
  },
  {
   "cell_type": "code",
   "execution_count": null,
   "metadata": {},
   "outputs": [],
   "source": [
    "%%script node\n"
   ]
  },
  {
   "cell_type": "markdown",
   "metadata": {
    "slideshow": {
     "slide_type": "slide"
    }
   },
   "source": [
    "## Closures\n",
    "- A closure is a function that is permantly bound to the local variables that were in scope when it was created\n",
    "```javascript\n",
    "function wrapper_function()\n",
    "{\n",
    "    var my_private_var = 10;\n",
    "    return function closure()\n",
    "    {\n",
    "        my_private_var++\n",
    "    }\n",
    "}\n",
    "```"
   ]
  },
  {
   "cell_type": "markdown",
   "metadata": {
    "slideshow": {
     "slide_type": "slide"
    }
   },
   "source": [
    "## Closures\n",
    "- Because the local variables are bound to a function, the are \"remembered\" between calls to a function\n",
    "    - Can be updated\n",
    "- Closures provide encapsulation, but only of a single method at a time\n",
    "    - Good for making event handlers"
   ]
  },
  {
   "cell_type": "code",
   "execution_count": null,
   "metadata": {
    "slideshow": {
     "slide_type": "slide"
    }
   },
   "outputs": [],
   "source": [
    "%%script node\n",
    "function my_incrementer()\n",
    "{\n",
    "    var counter = 0;\n",
    "    return function()\n",
    "    {\n",
    "        counter++;\n",
    "        return counter;\n",
    "    }\n",
    "}\n",
    "var my_counter_function = my_incrementer()\n",
    "console.log(my_counter_function());\n",
    "console.log(my_counter_function());\n",
    "console.log(counter);"
   ]
  },
  {
   "cell_type": "markdown",
   "metadata": {
    "slideshow": {
     "slide_type": "slide"
    }
   },
   "source": [
    "## Objects\n",
    "- JavaScript is an object-oriented language, but has a relatively simply object system\n",
    "- An object in JavaScript is essentially just a collection of key-value pairs\n",
    "- Objects are indexed into using\n",
    "    - Dot notation: `object.key`\n",
    "    - Array index notation: `object['key']`\n",
    "- New properties can be created through assignment\n",
    "\n",
    "```javascript\n",
    "object.new_property = new_value\n",
    "```"
   ]
  },
  {
   "cell_type": "markdown",
   "metadata": {
    "slideshow": {
     "slide_type": "slide"
    }
   },
   "source": [
    "## Creating Objects\n",
    "- One of the common ways to create an object is to enumerate the key-value pairs using the following syntax\n",
    "```javascript\n",
    "var my_object = {\n",
    "    key1: value1,\n",
    "    key2: value2,\n",
    "    ...\n",
    "                }\n",
    "```\n",
    "- Another very common way is to use `new Object()` to create an empty object, and then assign keys and values\n",
    "```javascript\n",
    "var next_object = new Object();\n",
    "next_object.key1 = value1;\n",
    "next_object.key2 = value2;\n",
    "```"
   ]
  },
  {
   "cell_type": "code",
   "execution_count": null,
   "metadata": {
    "slideshow": {
     "slide_type": "slide"
    }
   },
   "outputs": [],
   "source": [
    "%%script node\n",
    "var obj = {name:'Bryan Wilkinson','alma mater':'UMBC', \n",
    "           graduation: [2009,2017]}\n",
    "console.log(obj.name)\n",
    "console.log(obj['alma mater'])\n",
    "console.log(obj.graduation[0])"
   ]
  },
  {
   "cell_type": "code",
   "execution_count": null,
   "metadata": {
    "slideshow": {
     "slide_type": "slide"
    }
   },
   "outputs": [],
   "source": [
    "%%script node\n",
    "var obj = {name:'Bryan Wilkinson','alma mater':'UMBC', \n",
    "           graduation: {bs:2009, phd:2017}\n",
    "          };\n",
    "console.log(obj.name)\n",
    "console.log(obj['alma mater'])\n",
    "console.log(obj.graduation.bs)"
   ]
  },
  {
   "cell_type": "markdown",
   "metadata": {
    "slideshow": {
     "slide_type": "slide"
    }
   },
   "source": [
    "## Custom Object Types\n",
    "- JavaScript doesn't have classes in the traditional sense\n",
    "- To define a new type of object, we make a constructor function and then call that function with the `new` keyword\n",
    "```javascript\n",
    "function Person(name,dob,birthplace)\n",
    "{\n",
    "    this.name = name;\n",
    "    this.dob = dob;\n",
    "    this.brithplace = birthplace;\n",
    "}\n",
    "var person1 = new Person(\"Simon Bolivar\",\"July 24 1783\",\"Caracas\")\n",
    "```\n",
    "- These are still just regular JavaScript Objects"
   ]
  },
  {
   "cell_type": "code",
   "execution_count": null,
   "metadata": {
    "slideshow": {
     "slide_type": "slide"
    }
   },
   "outputs": [],
   "source": [
    "%%script node\n",
    "function Car(make,model,year){\n",
    "    this.make = make\n",
    "    this.model = model\n",
    "    this.year = year\n",
    "}\n",
    "var first_car = new Car(\"Toyota\",'Camry',1998)\n",
    "console.log(first_car.make)\n",
    "\n",
    "first_car.color = \"Beige\"\n",
    "\n",
    "console.log(first_car['color'])\n",
    "console.log(typeof(first_car))\n",
    "console.log(first_car instanceof Car)\n",
    "console.log(first_car instanceof Object)"
   ]
  },
  {
   "cell_type": "markdown",
   "metadata": {
    "slideshow": {
     "slide_type": "slide"
    }
   },
   "source": [
    "## Object Creation Practice\n",
    "- Write a constructor for a Book object that has\n",
    "    - a title\n",
    "    - an author\n",
    "    - number of copies available"
   ]
  },
  {
   "cell_type": "code",
   "execution_count": null,
   "metadata": {},
   "outputs": [],
   "source": []
  },
  {
   "cell_type": "markdown",
   "metadata": {
    "slideshow": {
     "slide_type": "slide"
    }
   },
   "source": [
    "## Methods\n",
    "- Methods in JavaScript are keys with function values\n",
    "    - Inside these functions, the keyword `this` can be used to refer to the object\n"
   ]
  },
  {
   "cell_type": "code",
   "execution_count": null,
   "metadata": {},
   "outputs": [],
   "source": [
    "%%script node\n",
    "function Car(make,model,year){\n",
    "    this.make = make\n",
    "    this.model = model\n",
    "    this.year = year\n",
    "    this.print = function(){\n",
    "        console.log(\"I am a \" + this.year + \" \" \n",
    "                    + this.make + \" \" + this.model)\n",
    "    }\n",
    "}\n",
    "var first_car = new Car(\"Toyota\",'Camry',1998);\n",
    "first_car.print();"
   ]
  },
  {
   "cell_type": "markdown",
   "metadata": {
    "slideshow": {
     "slide_type": "slide"
    }
   },
   "source": [
    "## Methods Practice\n",
    "- Augment your Book object with a `sell` method that reduces the number of books by one\n",
    "    - If there is 0 books, return an errors string \"SOLD OUT\"\n",
    "    "
   ]
  },
  {
   "cell_type": "code",
   "execution_count": null,
   "metadata": {},
   "outputs": [],
   "source": []
  },
  {
   "cell_type": "markdown",
   "metadata": {
    "slideshow": {
     "slide_type": "slide"
    }
   },
   "source": [
    "## Comparing Objects\n",
    "- Objects in JavaScript are compared by reference\n",
    "    - The only way two objects are equal is if they 'point' to the same object\n",
    "- To compare objects based on content, a custom function must be written"
   ]
  },
  {
   "cell_type": "code",
   "execution_count": null,
   "metadata": {
    "slideshow": {
     "slide_type": "slide"
    }
   },
   "outputs": [],
   "source": [
    "%%script node\n",
    "function simpleObject(){\n",
    "    this.value = \"constant\"\n",
    "}\n",
    "var obj1 = new simpleObject();\n",
    "var obj2 = new simpleObject();\n",
    "console.log(obj1 == obj2)"
   ]
  },
  {
   "cell_type": "code",
   "execution_count": null,
   "metadata": {
    "slideshow": {
     "slide_type": "slide"
    }
   },
   "outputs": [],
   "source": [
    "%%script node\n",
    "function compare_objects(obj_a,obj_b){\n",
    "    \n",
    "    for(key in obj_a){\n",
    "        if(obj_a[key] != obj_b[key])\n",
    "        {\n",
    "            return false\n",
    "        }\n",
    "    }\n",
    "    if(Object.keys(obj_a).length != Object.keys(obj_b).length)\n",
    "    { return false;}\n",
    "    return true;\n",
    "}\n",
    "function simpleObject(){\n",
    "    this.value = \"constant\"\n",
    "}\n",
    "var obj1 = new simpleObject();\n",
    "var obj2 = new simpleObject();\n",
    "console.log(compare_objects(obj1,obj2));"
   ]
  },
  {
   "cell_type": "markdown",
   "metadata": {
    "slideshow": {
     "slide_type": "slide"
    }
   },
   "source": [
    "## Prototype Object Oriented Design\n",
    "- JavaScript uses an object system known as prototyping\n",
    "    - Another language with a similar system is Lua\n",
    "- The prototype of an object is used when a particular key doesn't exist in the object itself\n",
    "    - This allows us to do a kind of inheritance\n",
    "    - If no prototype is set, the prototype is just Object"
   ]
  },
  {
   "cell_type": "code",
   "execution_count": null,
   "metadata": {
    "slideshow": {
     "slide_type": "slide"
    }
   },
   "outputs": [],
   "source": [
    "%%script node\n",
    "function Graph() {\n",
    "  this.vertices = [];\n",
    "  this.edges = [];\n",
    "}\n",
    "\n",
    "Graph.prototype = {\n",
    "  addVertex: function(v) {\n",
    "    this.vertices.push(v);\n",
    "  }\n",
    "};\n",
    "\n",
    "var g = new Graph();\n",
    "console.log(g);\n",
    "g.addVertex('Node_1');\n",
    "console.log(g)\n",
    "console.log(g.prototype)\n",
    "console.log(g.__proto__)"
   ]
  },
  {
   "cell_type": "markdown",
   "metadata": {
    "slideshow": {
     "slide_type": "slide"
    }
   },
   "source": [
    "## Object.create\n",
    "- If we want to reuse a prototype over and over, we can do it manually ,as before\n",
    "- The function `Object.create` takes an object, `o`, and returns a new object, `a`\n",
    "    - `o` is set to be the prototype of `a`\n",
    "    \n",
    "```javascript\n",
    "parent = {key1:value1,key2:value2}\n",
    "child = Object.create(parent)\n",
    "```"
   ]
  },
  {
   "cell_type": "code",
   "execution_count": null,
   "metadata": {
    "slideshow": {
     "slide_type": "slide"
    }
   },
   "outputs": [],
   "source": [
    "%%script node\n",
    "var Animal = {print: function(){\n",
    "    console.log(this.name + \" says \" + this.sound)}\n",
    "         }\n",
    "\n",
    "var Horse = Object.create(Animal)\n",
    "Horse.sound = \"neighhh\"\n",
    "\n",
    "var Homeboykris = Object.create(Horse)\n",
    "var AmericanPharoah = Object.create(Horse)\n",
    "\n",
    "Homeboykris.name = \"Homeboykris\"\n",
    "AmericanPharoah.name = \"American Pharoah\"\n",
    "\n",
    "Homeboykris.print();\n",
    "AmericanPharoah.print();"
   ]
  },
  {
   "cell_type": "markdown",
   "metadata": {
    "slideshow": {
     "slide_type": "slide"
    }
   },
   "source": [
    "## ES 6 Classes\n",
    "- Most developers of JavaScript come from Java/C++, etc. backgrounds\n",
    "- Writing code with prototype objects can be annoying, and is error-prone if you don't take the time to really learn it\n",
    "- ES6 introduces a new way to declare classes, using the `class` keyword\n",
    "    - This is just syntactic sugar, its still prototypes behind the scenes\n",
    "    - Uses `extends` to perform inheritance\n",
    "```javascript\n",
    "class className{\n",
    "       constructor(arg1,arg2){\n",
    "            this.arg1 = arg1;\n",
    "            this.arg2 = arg2;\n",
    "                             }\n",
    "       get arg1(){\n",
    "                 }\n",
    "       set arg1(){\n",
    "                 }\n",
    " }\n",
    "```"
   ]
  },
  {
   "cell_type": "code",
   "execution_count": null,
   "metadata": {
    "slideshow": {
     "slide_type": "slide"
    }
   },
   "outputs": [],
   "source": [
    "%%script node\n",
    "class Circle{\n",
    "    constructor(radius){\n",
    "        this.r = radius;\n",
    "    }\n",
    "    area() {\n",
    "        return 3.14 * this.r * this.r;\n",
    "    }\n",
    "   \n",
    "}\n",
    "\n",
    "var circ1 = new Circle(2.0)\n",
    "console.log(circ1.area());\n",
    "circ1.r = 10;\n",
    "console.log(circ1.area());"
   ]
  },
  {
   "cell_type": "markdown",
   "metadata": {
    "slideshow": {
     "slide_type": "slide"
    }
   },
   "source": [
    "## Document Object Model\n",
    "- The document object model (DOM) is the abstraction of an HTML page's content for programmatic access\n",
    "    - Developed by the W3C, not ECMA\n",
    "- The DOM allows us to access part's of the web page, as well as interact with their properies\n",
    "- JavScript in web browsers includes a DOM API, this may not be present in other environments\n",
    "- The DOM can be viewed a tree structure, with tags nested in the HTML becoming children of their parent node in the tree\n",
    "    "
   ]
  },
  {
   "cell_type": "markdown",
   "metadata": {
    "slideshow": {
     "slide_type": "slide"
    }
   },
   "source": [
    "## DOM DataTypes\n",
    "- The DOM uses a number of objects to represent the parts of the webpage\n",
    "    - document - A global object that refers to the root of the document, and can be used to modify the entire page\n",
    "    - element - An HTML element, that is a tag and all its properties and contents\n",
    "    - node - Anything in the Tree, including both elements and things like text and comments\n",
    "    - nodeList - An array-like object, consisting of a list of nodes"
   ]
  },
  {
   "cell_type": "markdown",
   "metadata": {
    "slideshow": {
     "slide_type": "slide"
    }
   },
   "source": [
    "## Accessing the DOM\n",
    "- Most functions for getting parts of the DOM are methods of the `document` object\n",
    "    - `document.getElementById(id)` returns a single element object\n",
    "    - `document.getElementsByTagName(name)` returns a nodeList of all elements of that tag\n",
    "    - `document.getElementsByClassName(name)` returns a nodeList of all elements with that class\n",
    "- Newer (more useful) methods\n",
    "    - `NODE.querySelector(selector)` returns the first element matching the CSS selector\n",
    "    - `NODE.querySelectorAll(selector)` returns all elements matching the CSS selector(s)"
   ]
  },
  {
   "cell_type": "code",
   "execution_count": null,
   "metadata": {
    "slideshow": {
     "slide_type": "slide"
    }
   },
   "outputs": [],
   "source": [
    "%%html\n",
    "<!DOCTYPE html>\n",
    "<html>\n",
    "    <head>\n",
    "    </head>\n",
    "    <body>\n",
    "        <div id=\"alone\">\n",
    "            <div class=\"inner\">\n",
    "                <p>\n",
    "                Test\n",
    "                </p>\n",
    "            </div>\n",
    "        </div>\n",
    "        <p class=\"inner\">\n",
    "        Inner\n",
    "        </p>\n",
    "        <script>\n",
    "            console.log(\"A: \" + document.getElementById('alone'));\n",
    "            console.log(\"B: \" + document.getElementsByTagName('div'));\n",
    "            console.log(\"C: \" + document.getElementsByClassName('inner'));\n",
    "            console.log(\"D: \" + document.querySelector('.inner'));\n",
    "            console.log(\"E: \" + document.querySelectorAll('.inner'));\n",
    "        </script>\n",
    "    </body>\n",
    "</html>"
   ]
  },
  {
   "cell_type": "markdown",
   "metadata": {
    "slideshow": {
     "slide_type": "slide"
    }
   },
   "source": [
    "## Common DOM Properties\n",
    "- These properties are some of the most commonly used on DOM objects, especially elements\n",
    "    - `NODE.innerHTML` - set or get the HTML contained in a node ( doesn't include the node itself)\n",
    "    - `NODE.outerHTML` - sets or get the HTML of a node, including the node itself\n",
    "    - `NODE.id` , `NODE.className` - set or gets the id and class attributes of the node\n",
    "    - `NODE.attributes` - A read only object that allows all attributes to be inspected\n",
    "    - `NODE.childNodes` - A nodeList of the nodes under this one\n",
    "    - `NODE.parentNodes` - The parent node of the current node\n",
    "    - `NODE.textContent` - The text under this node, and all its children, with no HTML"
   ]
  },
  {
   "cell_type": "code",
   "execution_count": null,
   "metadata": {
    "slideshow": {
     "slide_type": "slide"
    }
   },
   "outputs": [],
   "source": [
    "%%html\n",
    "<!DOCTYPE html>\n",
    "<html>\n",
    "    <head>\n",
    "    </head>\n",
    "    <body>\n",
    "        <div id=\"an_id\">\n",
    "            \n",
    "            <div class=\"a_class\">\n",
    "                <p>\n",
    "                Test\n",
    "                </p>\n",
    "            </div>\n",
    "        </div>\n",
    "        <p class=\"a_class\">\n",
    "        Inner\n",
    "        </p>\n",
    "        <p id=\"my_results\">\n",
    "        \n",
    "        </p>\n",
    "        <script>\n",
    "            var results = document.getElementById('my_results');\n",
    "            results.innerHTML = document.getElementById('an_id').textContent;\n",
    "        </script>\n",
    "    </body>\n",
    "</html>"
   ]
  },
  {
   "cell_type": "code",
   "execution_count": null,
   "metadata": {
    "slideshow": {
     "slide_type": "slide"
    }
   },
   "outputs": [],
   "source": [
    "%%html\n",
    "<!DOCTYPE html>\n",
    "<html>\n",
    "    <head>\n",
    "    <style>\n",
    "        #an_id1{border:2px solid black;}\n",
    "    </style>\n",
    "    </head>\n",
    "    <body>\n",
    "        <div id=\"an_id0\">\n",
    "            <div class=\"a_class0\">\n",
    "                <p>\n",
    "                Test\n",
    "                </p>\n",
    "            </div>\n",
    "        </div>\n",
    "        <p class=\"a_class0\">\n",
    "        Inner\n",
    "        </p>\n",
    "        <p id=\"my_results0\">\n",
    "        </p>\n",
    "        <script>\n",
    "            var results = document.getElementById('my_results0');\n",
    "            results.innerHTML = document.getElementById('an_id0').innerHTML;\n",
    "        </script>\n",
    "    </body>\n",
    "</html>"
   ]
  },
  {
   "cell_type": "code",
   "execution_count": null,
   "metadata": {
    "slideshow": {
     "slide_type": "slide"
    }
   },
   "outputs": [],
   "source": [
    "%%html\n",
    "<!DOCTYPE html>\n",
    "<html>\n",
    "    <head>\n",
    "    <style>\n",
    "        #an_id1{border:2px solid black;}\n",
    "    </style>\n",
    "    </head>\n",
    "    <body>\n",
    "        <div id=\"an_id1\">\n",
    "            \n",
    "            <div class=\"a_class1\">\n",
    "                <p>\n",
    "                Test\n",
    "                </p>\n",
    "            </div>\n",
    "        </div>\n",
    "        <p class=\"a_class1\">\n",
    "        Inner\n",
    "        </p>\n",
    "        <p id=\"my_results1\">\n",
    "        </p>\n",
    "        <script>\n",
    "            var results = document.getElementById('my_results1');\n",
    "            results.innerHTML = document.getElementById('an_id1').outerHTML;\n",
    "        </script>\n",
    "    </body>\n",
    "</html>"
   ]
  },
  {
   "cell_type": "code",
   "execution_count": null,
   "metadata": {
    "slideshow": {
     "slide_type": "slide"
    }
   },
   "outputs": [],
   "source": [
    "%%html\n",
    "<!DOCTYPE html>\n",
    "<html>\n",
    "    <head>\n",
    "    </head>\n",
    "    <body>\n",
    "        <div id=\"an_id2\">\n",
    "            \n",
    "            <div class=\"a_class2\">\n",
    "                <p>\n",
    "                Test\n",
    "                </p>\n",
    "            </div>\n",
    "        </div>\n",
    "        <p class=\"a_class2\">\n",
    "        Inner\n",
    "        </p>\n",
    "        <p id=\"my_results2\">\n",
    "        </p>\n",
    "        <script>\n",
    "            var results = document.getElementById('my_results2');\n",
    "            results.innerHTML = document.getElementById('an_id2').id;\n",
    "        </script>\n",
    "    </body>\n",
    "</html>"
   ]
  },
  {
   "cell_type": "markdown",
   "metadata": {
    "slideshow": {
     "slide_type": "slide"
    }
   },
   "source": [
    "## DOM Practice\n",
    "- Write the JavaScript necessary to turn all `<td>` cells in the table below with the class 'change' to be green"
   ]
  },
  {
   "cell_type": "code",
   "execution_count": null,
   "metadata": {},
   "outputs": [],
   "source": [
    "%%html\n",
    "<!DOCTYPE html>\n",
    "<html>\n",
    "    <head>\n",
    "        <style>\n",
    "            .green{background: green}\n",
    "        </style>\n",
    "    </head>\n",
    "    <body>\n",
    "        <p class=\"change\">Careful</p>\n",
    "        <table>\n",
    "            <tr class=\"change\">\n",
    "                <td>A</td>\n",
    "                <td>B</td>\n",
    "                <td>C</td>\n",
    "            </tr>\n",
    "            <tr>\n",
    "                <td class=\"change\">1</td>\n",
    "                <td>2</td>\n",
    "                <td class=\"change\">3</td>\n",
    "            </tr>\n",
    "            <tr>\n",
    "                <td>$</td>\n",
    "                <td class=\"change\">?</td>\n",
    "                <td>!</td>\n",
    "            </tr>\n",
    "        </table>\n",
    "        <script>\n",
    "            \n",
    "        </script>\n",
    "    </body>\n",
    "</html>"
   ]
  },
  {
   "cell_type": "markdown",
   "metadata": {
    "slideshow": {
     "slide_type": "slide"
    }
   },
   "source": [
    "## Common DOM Methods\n",
    "- There are many common methods that allow us to do greater manipulation of the DOM\n",
    "    - `NODE.getAttribute(name)` returns the value of a specific attribute\n",
    "    - `NODE.setAttribute(name,value)` sets the value of a specific attribute\n",
    "    - `NODE.removeChild(node)` removes a child node when passed a *Node* object\n",
    "    - `NODE.replaceChild(newNode,oldNode)` removes the `oldNode` and inserts the `newNode` in itsplace\n",
    "    - `NODE.appendChild(newNode)` adds a new node as the last child of the calling node"
   ]
  },
  {
   "cell_type": "code",
   "execution_count": null,
   "metadata": {
    "slideshow": {
     "slide_type": "slide"
    }
   },
   "outputs": [],
   "source": [
    "%%html\n",
    "<!DOCTYPE html>\n",
    "<html>\n",
    "    <head>\n",
    "    </head>\n",
    "    <body>\n",
    "        <div id=\"an_id3\">\n",
    "            \n",
    "            <div class=\"a_class3\">\n",
    "                <p>\n",
    "                Test\n",
    "                </p>\n",
    "            </div>\n",
    "        </div>\n",
    "        <p class=\"a_class3\">\n",
    "        Inner\n",
    "        </p>\n",
    "        <p id=\"my_results3\">\n",
    "        </p>\n",
    "        <script>\n",
    "            document.getElementById(\"an_id3\").removeChild(\n",
    "                document.querySelector('div.a_class3'));\n",
    "        </script>\n",
    "    </body>\n",
    "</html>"
   ]
  },
  {
   "cell_type": "code",
   "execution_count": null,
   "metadata": {
    "slideshow": {
     "slide_type": "slide"
    }
   },
   "outputs": [],
   "source": [
    "%%html\n",
    "<!DOCTYPE html>\n",
    "<html>\n",
    "    <head>\n",
    "    </head>\n",
    "    <body>\n",
    "        <div id=\"an_id4\">\n",
    "            \n",
    "            <div class=\"a_class4\">\n",
    "                <p>\n",
    "                Test\n",
    "                </p>\n",
    "            </div>\n",
    "        </div>\n",
    "        <p class=\"a_class4\">\n",
    "        Inner\n",
    "        </p>\n",
    "        <p id=\"outer4\">\n",
    "            I am outside\n",
    "        </p>\n",
    "        <script>\n",
    "            document.getElementById(\"an_id4\").replaceChild(\n",
    "                    document.querySelector('#outer4'),\n",
    "                    document.querySelector('div.a_class4'));\n",
    "        </script>\n",
    "    </body>\n",
    "</html>"
   ]
  },
  {
   "cell_type": "code",
   "execution_count": null,
   "metadata": {
    "slideshow": {
     "slide_type": "slide"
    }
   },
   "outputs": [],
   "source": [
    "%%html\n",
    "<!DOCTYPE html>\n",
    "<html>\n",
    "    <head>\n",
    "    </head>\n",
    "    <body>\n",
    "        <div id=\"an_id5\">\n",
    "            \n",
    "            <div class=\"a_class5\">\n",
    "                <p>\n",
    "                Test\n",
    "                </p>\n",
    "            </div>\n",
    "        </div>\n",
    "        <p class=\"a_class5\">\n",
    "        Inner\n",
    "        </p>\n",
    "        <p id=\"outer5\">\n",
    "            I am outside\n",
    "        </p>\n",
    "        <script>\n",
    "            document.getElementById(\"an_id5\").appendChild(\n",
    "                      document.createElement(\"div\"));\n",
    "        </script>\n",
    "    </body>\n",
    "</html>"
   ]
  },
  {
   "cell_type": "code",
   "execution_count": null,
   "metadata": {},
   "outputs": [],
   "source": []
  }
 ],
 "metadata": {
  "celltoolbar": "Slideshow",
  "kernelspec": {
   "display_name": "Python 3",
   "language": "python",
   "name": "python3"
  },
  "language_info": {
   "codemirror_mode": {
    "name": "ipython",
    "version": 3
   },
   "file_extension": ".py",
   "mimetype": "text/x-python",
   "name": "python",
   "nbconvert_exporter": "python",
   "pygments_lexer": "ipython3",
   "version": "3.6.3"
  }
 },
 "nbformat": 4,
 "nbformat_minor": 2
}

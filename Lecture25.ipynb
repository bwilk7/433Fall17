{
 "cells": [
  {
   "cell_type": "markdown",
   "metadata": {},
   "source": [
    "## PHP V"
   ]
  },
  {
   "cell_type": "markdown",
   "metadata": {},
   "source": [
    "## Package Managers\n",
    "- The PHP community has largely relied on two package manager/ package repositories\n",
    "    - PEAR\n",
    "    - Composer/Packagist\n",
    "- PEAR is the PHP Extension and Appplication repository\n",
    "    - Was the system of choice for many years\n",
    "    - Not commonly reccomended anymore"
   ]
  },
  {
   "cell_type": "markdown",
   "metadata": {},
   "source": [
    "## Composer\n",
    "- <a href=\"https://getcomposer.org/\">Composer</a> has become the PHP package manager of choice for most developers\n",
    "- Is a PHP script itself, run from the command line\n",
    "    - composer.phar is a PHP archive of executable code\n",
    "- Configured using JSON file `composer.json`\n",
    "- Dependencies installed using `php composer.pha install`"
   ]
  },
  {
   "cell_type": "markdown",
   "metadata": {},
   "source": [
    "## Composer.json\n",
    "- The `composer.json` file is an object that uses many keys to specificy the configuration\n",
    "- For pure package management, the most important key is `require`\n",
    "- The value of require is an object whose keys are packages and whose values are package versions"
   ]
  },
  {
   "cell_type": "markdown",
   "metadata": {},
   "source": [
    "```json\n",
    "{\n",
    "    'require':{\n",
    "          \"ezyang/htmlpurifier\" : \">0.0\"\n",
    "              }\n",
    "    \n",
    "}\n",
    "```"
   ]
  },
  {
   "cell_type": "markdown",
   "metadata": {},
   "source": [
    "## Using Packages Installed with Composer\n",
    "- Packages places all libraries installed inside the `vendor` directory in whatever directory it was run from\n",
    "    - Each PHP project has its own `composer.json`\n",
    "- When installing packages, composer updates its own autoloader script, so to include all libraries, just add\n",
    "```php\n",
    "require_once __DIR__ . '/vendor/autoload.php';\n",
    "```"
   ]
  },
  {
   "cell_type": "markdown",
   "metadata": {},
   "source": [
    "## Packagist\n",
    "- The default repository used by Composer is <a href=\"https://packagist.org/\">Packagist</a>\n",
    "- Other repos can be specified by using the `repository` key in `composer.json`\n",
    "- New packages are published by using `composer.json` with some additional keys\n",
    "- A list of popular libraries can be found at https://phptrends.com/"
   ]
  },
  {
   "cell_type": "code",
   "execution_count": null,
   "metadata": {},
   "outputs": [],
   "source": [
    "require_once __DIR__ . '/vendor/autoload.php';"
   ]
  },
  {
   "cell_type": "code",
   "execution_count": null,
   "metadata": {},
   "outputs": [],
   "source": [
    "$faker = Faker\\Factory::create();\n",
    "echo $faker->name;\n",
    "echo $faker->address;\n",
    "echo $faker->text;"
   ]
  },
  {
   "cell_type": "markdown",
   "metadata": {},
   "source": [
    "## Frameworks\n",
    "- Writing large webapps requires a lot of boilerplate code\n",
    "    - Templating Engines\n",
    "    - Making Database Requests\n",
    "    - Organizing Codebases\n",
    "    - Security\n",
    "    - Processing Forms"
   ]
  },
  {
   "cell_type": "markdown",
   "metadata": {},
   "source": [
    "## Popular Frameworks\n",
    "- As the community matures and best practices emerge, a fewframe works have bubbled to the top\n",
    "    - CodeIgniter\n",
    "    - CakePHP\n",
    "    - Laravel"
   ]
  },
  {
   "cell_type": "markdown",
   "metadata": {},
   "source": [
    "## CodeIgniter Example\n",
    "```\n",
    "$this->load->database();\n",
    "$query = $this->db->get('table_name');\n",
    "\n",
    "foreach ($query->result() as $row)\n",
    "{\n",
    "        echo $row->title;\n",
    "}\n",
    "```"
   ]
  },
  {
   "cell_type": "markdown",
   "metadata": {},
   "source": [
    "## Debugging\n",
    "- Logfiles\n",
    "    - The first place you normally look for an error are the log files created by the PHP module of your webserver\n",
    "    - There is one PHP module for everyone on GL, so for security reasons you can't access this\n",
    "- Sending Errors to Client\n",
    "    - Explicitly Printing\n",
    "    - Telling PHP To report them"
   ]
  },
  {
   "cell_type": "markdown",
   "metadata": {},
   "source": [
    "## Var_Dump\n",
    "- `var_dump` is a very similar command to `print_r`, but contains more information good for debugging\n",
    "    - The object type is part of the output\n",
    "    - The length of arrays are output"
   ]
  },
  {
   "cell_type": "code",
   "execution_count": null,
   "metadata": {},
   "outputs": [],
   "source": [
    "$obj = json_decode('{\"a\":1,\"b\":2,\"c\":3,\"d\":4,\"e\":5}');\n",
    "echo print_r($obj,true);"
   ]
  },
  {
   "cell_type": "code",
   "execution_count": null,
   "metadata": {},
   "outputs": [],
   "source": [
    "var_dump($obj)"
   ]
  },
  {
   "cell_type": "markdown",
   "metadata": {},
   "source": [
    "## Printing Errors\n",
    "- By default, any errors encountered during the execution of a PHP script are only written to the log, and not the screen\n",
    "    - This is for security reasons\n",
    "- To force error reporting use the function `ini_set`\n",
    "````\n",
    "    ini_set(\"display_errors\", 1);\n",
    "```\n",
    "- To control the level of errors that get reported, use the `error_reporting` function\n",
    "```\n",
    " error_reporting(E_ALL);\n",
    "```"
   ]
  },
  {
   "cell_type": "markdown",
   "metadata": {},
   "source": [
    "Available to view at T\n",
    "```\n",
    "<?php\n",
    "\n",
    "    error_reporting(E_ALL);\n",
    "    ini_set(\"display_errors\", 1);\n",
    "\n",
    "    $aliens_title_by_release_year[1979] = \"Alien\";                # good\n",
    "    $aliens_title_by_release_year[1986] = \"Aliens\";               # good\n",
    "    $aliens_title_by_release_year[1992] = \"Alien 3\";              # eh...\n",
    "    $aliens_title_by_release_year[1997] = \"Alien: Resurrection\";  # avoid\n",
    "?>\n",
    "    <h1>Warnings &amp; Errors On</h1>\n",
    "    <ul>\n",
    "<?\n",
    "    foreach(array_keys($aliens_title_by_release_year) as $key) {\n",
    "        print \"<li>$key: $aliens_title_by_relaese_year[$key]</li>\";\n",
    "    }\n",
    "?>\n",
    "    </ul>\n",
    "```"
   ]
  },
  {
   "cell_type": "markdown",
   "metadata": {},
   "source": [
    "## Security\n",
    "- PHP is one of, if not the most popular point to start a cyberattack\n",
    "- PHP provides an interface between strangers and your server\n",
    "- It is imperative you consider the security implications of your PHP script, not just for you, but for other users of your page"
   ]
  },
  {
   "cell_type": "markdown",
   "metadata": {},
   "source": [
    "## Password Hashing\n",
    "- PHP is commonly used to build log in systems\n",
    "- Storing users passwords is a serious responsibility\n",
    "- Using frameworks is one way to prevent mistakes\n",
    "- The other is to use the built in functions `password_hash` and `password_verify`\n",
    "    - Requires PHP 5.5+ aka not GL"
   ]
  },
  {
   "cell_type": "code",
   "execution_count": null,
   "metadata": {},
   "outputs": [],
   "source": [
    "$my_password = 'password1234';\n",
    "echo password_hash($my_password,PASSWORD_DEFAULT);\n",
    "echo password_hash($my_password,PASSWORD_DEFAULT);"
   ]
  },
  {
   "cell_type": "code",
   "execution_count": null,
   "metadata": {},
   "outputs": [],
   "source": [
    "$hash1 = password_hash($my_password,PASSWORD_DEFAULT);\n",
    "echo password_verify($my_password,$hash1);\n",
    "echo password_verify('password',$hash1);"
   ]
  },
  {
   "cell_type": "markdown",
   "metadata": {},
   "source": [
    "## Input Validation\n",
    "- A major vulerability is also one of PHP's greatest strengths\n",
    "    - Accepting user input\n",
    "- We will talk about a few very specific issues in a bit, but in general you should always verify your input to be what you expect it to be\n",
    "- PHP has two methods to help with this\n",
    "    - filter_var\n",
    "    - filter_input"
   ]
  },
  {
   "cell_type": "markdown",
   "metadata": {},
   "source": [
    "## Filtering\n",
    "- Input filtering is checking if the input given matches the expected format\n",
    "- The two methods mentioned before use constant to check the input\n",
    "    - This is only a first pass, more specific filtering should be done based on your app needs\n",
    "- Common filters\n",
    "    - FILTER_VALIDATE_EMAIL\n",
    "    - FILTER_VALIDATE_URL\n",
    "    - FILTER_VALIDATE_IP"
   ]
  },
  {
   "cell_type": "code",
   "execution_count": null,
   "metadata": {},
   "outputs": [],
   "source": [
    "$my_email = \"bryan.wilkinson@umbc.edu\";\n",
    "filter_var($my_email,FILTER_VALIDATE_EMAIL);"
   ]
  },
  {
   "cell_type": "code",
   "execution_count": null,
   "metadata": {},
   "outputs": [],
   "source": [
    "$my_bad_email = \"<script>doEvil();</script>@umbc.edu\";\n",
    "filter_var($my_bad_email,FILTER_VALIDATE_EMAIL);"
   ]
  },
  {
   "cell_type": "markdown",
   "metadata": {},
   "source": [
    "## Sanitizing\n",
    "- An alternative to filtering is to sanatize your input\n",
    "- This removes harmful characters from the input\n",
    "    - It is considered less secure, because if an attacker knows this is happening, they can try an be clever to get around it\n",
    "- Better to reject if you can"
   ]
  },
  {
   "cell_type": "markdown",
   "metadata": {},
   "source": [
    "## Sanitizing\n",
    "- Santitizing uses the same functions, but with different constants\n",
    "- Common constants for sanitization are\n",
    "    - FILTER_SANITIZE_EMAIL\n",
    "    - FILTER_SANITIZE_URL\n",
    "    - FILTER_SANITIZE_STRING"
   ]
  },
  {
   "cell_type": "code",
   "execution_count": null,
   "metadata": {},
   "outputs": [],
   "source": [
    "$my_email = \"bryan.wilkinson@umbc.edu\";\n",
    "$my_bad_email = \"<script>doEvil();</script>@umbc.edu\";\n",
    "echo filter_var($my_email,FILTER_SANITIZE_EMAIL);\n",
    "echo filter_var($my_bad_email,FILTER_SANITIZE_EMAIL);"
   ]
  },
  {
   "cell_type": "markdown",
   "metadata": {},
   "source": [
    "## Network Request Security\n",
    "- Another common vulerability is to trust encrpyted data, which is still vulernable to man-in-the-middle attacks\n",
    "- To prevent against this, you should explicity tell PHP to ensure that the response of the network request is from the server requested\n",
    "```\n",
    "$context = stream_context_create(array('ssl' => array('verify_peer' => TRUE)));\n",
    "$body = file_get_contents('https://api.example.com/search?q=sphinx', false, $context);\n",
    "```"
   ]
  },
  {
   "cell_type": "code",
   "execution_count": null,
   "metadata": {},
   "outputs": [],
   "source": [
    "$context = stream_context_create(array('ssl' => array('verify_peer' => TRUE)));\n",
    "$body = file_get_contents('https://umbc.edu', false, $context);"
   ]
  },
  {
   "cell_type": "markdown",
   "metadata": {},
   "source": [
    "## SQL Injections\n",
    "- We didn't cover using PHP with databases in this course, but it is a very common use of them\n",
    "- Using user input directly in an SQL query is a very bad idea\n",
    "    - Can leak data\n",
    "    - Can leak information about your database set up\n",
    "- Steps to reduce\n",
    "    - Valdiate data first\n",
    "    - Escape input or use prepared statements"
   ]
  },
  {
   "cell_type": "markdown",
   "metadata": {},
   "source": [
    "Example from https://php.earth/docs/security/sql-injection\n",
    "```\n",
    "$query = \"SELECT username, email FROM users WHERE id = ?\";\n",
    "\n",
    "$stmt = $mysqli->stmt_init();\n",
    "\n",
    "if ($stmt->prepare($query)) {\n",
    "    $stmt->bind_param(\"i\", $id);\n",
    "    $stmt->execute();\n",
    "    $result = $stmt->get_result();\n",
    "    while ($row = $result->fetch_array(MYSQLI_NUM)) {\n",
    "        printf (\"%s (%s)\\n\", $row[0], $row[1]);\n",
    "    }\n",
    "}\n",
    "```"
   ]
  },
  {
   "cell_type": "markdown",
   "metadata": {},
   "source": [
    "## Code Injection\n",
    "- Another danger is someone including their own PHP into your code\n",
    "- This can happen when:\n",
    "    - `eval` is used\n",
    "    - A user input is passed to `include` or `require`\n",
    "    - A file name is passed to open"
   ]
  },
  {
   "cell_type": "markdown",
   "metadata": {},
   "source": [
    "## Preventing Code Injection\n",
    "- Don't use eval\n",
    "- If you are doing dynamic includes, use a switch statement or something, and don't directly just use the variable\n",
    "- Validate your filenames, and don't use a filename directly"
   ]
  },
  {
   "cell_type": "markdown",
   "metadata": {},
   "source": [
    "## Directory Traversal\n",
    "- Another danger about files and file names is directory traversal\n",
    "- A malicous user could send the file name `/` or `../` and get somewehre they shouldn't\n",
    "    - Explicity check for filenames start with this\n",
    "    - Run standard filtering and sanitation on file names\n",
    "    - Don't use the user supplied file names!"
   ]
  },
  {
   "cell_type": "markdown",
   "metadata": {},
   "source": [
    "## Cross Site Scripting\n",
    "- A major danger to users of your site is cross-site scripting\n",
    "    - If your database is comporimised, it could be placed there\n",
    "    - It could be done through public content through a form like comments\n",
    "- Escape escape escape\n",
    "    - If you are sending user generated content back to the client, use <a href=\"http://htmlpurifier.org/\">HTMLPurify</a> library"
   ]
  },
  {
   "cell_type": "code",
   "execution_count": null,
   "metadata": {},
   "outputs": [],
   "source": [
    "$untrustedHtml = \"<script><iframe src=''></script><b>Hello</b>\";\n",
    "$config = HTMLPurifier_Config::createDefault();\n",
    "$config->set('HTML.Allowed', 'p,b,a[href],i'); // basic formatting and links\n",
    "$sanitiser = new HTMLPurifier($config);\n",
    "$output = $sanitiser->purify($untrustedHtml);"
   ]
  }
 ],
 "metadata": {
  "kernelspec": {
   "display_name": "PHP",
   "language": "php",
   "name": "jupyter-php"
  },
  "language_info": {
   "file_extension": ".php",
   "mimetype": "text/x-php",
   "name": "PHP",
   "pygments_lexer": "PHP",
   "version": "7.0.22-0ubuntu0.16.04.1"
  }
 },
 "nbformat": 4,
 "nbformat_minor": 2
}

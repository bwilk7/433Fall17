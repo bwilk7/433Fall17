{
 "cells": [
  {
   "cell_type": "markdown",
   "metadata": {
    "slideshow": {
     "slide_type": "slide"
    }
   },
   "source": [
    "## PHP V"
   ]
  },
  {
   "cell_type": "markdown",
   "metadata": {
    "slideshow": {
     "slide_type": "slide"
    }
   },
   "source": [
    "## Package Managers\n",
    "- The PHP community has largely relied on two package manager/ package repositories\n",
    "    - PEAR\n",
    "    - Composer/Packagist\n",
    "- PEAR is the PHP Extension and Appplication repository\n",
    "    - Was the system of choice for many years\n",
    "    - Not commonly reccomended anymore"
   ]
  },
  {
   "cell_type": "markdown",
   "metadata": {
    "slideshow": {
     "slide_type": "slide"
    }
   },
   "source": [
    "## Composer\n",
    "- <a href=\"https://getcomposer.org/\">Composer</a> has become the PHP package manager of choice for most developers\n",
    "- Is a PHP script itself, run from the command line\n",
    "    - composer.phar is a PHP archive of executable code\n",
    "- Configured using JSON file `composer.json`\n",
    "- Dependencies installed using `php composer.phar install`"
   ]
  },
  {
   "cell_type": "markdown",
   "metadata": {
    "slideshow": {
     "slide_type": "slide"
    }
   },
   "source": [
    "## Composer.json\n",
    "- The `composer.json` file is an object that uses many keys to specificy the configuration\n",
    "- For pure package management, the most important key is `require`\n",
    "- The value of require is an object whose keys are packages and whose values are package versions"
   ]
  },
  {
   "cell_type": "markdown",
   "metadata": {
    "slideshow": {
     "slide_type": "slide"
    }
   },
   "source": [
    "```json\n",
    "{\n",
    "    'require':{\n",
    "          \"ezyang/htmlpurifier\" : \">0.0\"\n",
    "              }\n",
    "    \n",
    "}\n",
    "```"
   ]
  },
  {
   "cell_type": "markdown",
   "metadata": {
    "slideshow": {
     "slide_type": "slide"
    }
   },
   "source": [
    "## Using Packages Installed with Composer\n",
    "- Packages places all libraries installed inside the `vendor` directory in whatever directory it was run from\n",
    "    - Each PHP project has its own `composer.json`\n",
    "- When installing packages, composer updates its own autoloader script, so to include all libraries, just add\n",
    "```php\n",
    "require_once __DIR__ . '/vendor/autoload.php';\n",
    "```"
   ]
  },
  {
   "cell_type": "markdown",
   "metadata": {
    "slideshow": {
     "slide_type": "slide"
    }
   },
   "source": [
    "## Packagist\n",
    "- The default repository used by Composer is <a href=\"https://packagist.org/\">Packagist</a>\n",
    "- Other repos can be specified by using the `repository` key in `composer.json`\n",
    "- New packages are published by using `composer.json` with some additional keys\n",
    "- A list of popular libraries can be found at https://phptrends.com/"
   ]
  },
  {
   "cell_type": "code",
   "execution_count": 1,
   "metadata": {
    "slideshow": {
     "slide_type": "slide"
    }
   },
   "outputs": [
    {
     "data": {
      "text/plain": [
       "Composer\\Autoload\\ClassLoader {#146}"
      ]
     },
     "execution_count": 1,
     "metadata": {},
     "output_type": "execute_result"
    }
   ],
   "source": [
    "require_once __DIR__ . '/vendor/autoload.php';"
   ]
  },
  {
   "cell_type": "code",
   "execution_count": 10,
   "metadata": {},
   "outputs": [
    {
     "data": {
      "text/plain": [
       "Janis Bartell\n"
      ]
     },
     "execution_count": 10,
     "metadata": {},
     "output_type": "execute_result"
    },
    {
     "data": {
      "text/plain": [
       "765 Matilda Spur Suite 726\n",
       "East Dorothy, TN 28905-3826\n"
      ]
     },
     "execution_count": 10,
     "metadata": {},
     "output_type": "execute_result"
    },
    {
     "data": {
      "text/plain": [
       "Vel omnis accusamus sed facere dolore consequatur. Quia non consequatur quidem quis delectus voluptate. Unde quisquam omnis cumque.\n"
      ]
     },
     "execution_count": 10,
     "metadata": {},
     "output_type": "execute_result"
    }
   ],
   "source": [
    "$faker = Faker\\Factory::create();\n",
    "echo $faker->name;\n",
    "echo $faker->address;\n",
    "echo $faker->text;"
   ]
  },
  {
   "cell_type": "markdown",
   "metadata": {
    "slideshow": {
     "slide_type": "slide"
    }
   },
   "source": [
    "## Frameworks\n",
    "- Writing large webapps requires a lot of boilerplate code\n",
    "    - Templating Engines\n",
    "    - Making Database Requests\n",
    "    - Organizing Codebases\n",
    "    - Security\n",
    "    - Processing Forms"
   ]
  },
  {
   "cell_type": "markdown",
   "metadata": {
    "slideshow": {
     "slide_type": "slide"
    }
   },
   "source": [
    "## Popular Frameworks\n",
    "- As the community matures and best practices emerge, a few frameworks have bubbled to the top\n",
    "    - CodeIgniter\n",
    "    - CakePHP\n",
    "    - Laravel"
   ]
  },
  {
   "cell_type": "markdown",
   "metadata": {
    "slideshow": {
     "slide_type": "slide"
    }
   },
   "source": [
    "## CodeIgniter Example\n",
    "```\n",
    "$this->load->database();\n",
    "$query = $this->db->get('table_name');\n",
    "\n",
    "foreach ($query->result() as $row)\n",
    "{\n",
    "        echo $row->title;\n",
    "}\n",
    "```"
   ]
  },
  {
   "cell_type": "markdown",
   "metadata": {
    "slideshow": {
     "slide_type": "slide"
    }
   },
   "source": [
    "## Debugging\n",
    "- Logfiles\n",
    "    - The first place you normally look for an error are the log files created by the PHP module of your webserver\n",
    "    - There is one PHP module for everyone on GL, so for security reasons you can't access this\n",
    "- Sending Errors to Client\n",
    "    - Explicitly Printing\n",
    "    - Telling PHP To report them"
   ]
  },
  {
   "cell_type": "markdown",
   "metadata": {
    "slideshow": {
     "slide_type": "slide"
    }
   },
   "source": [
    "## Var_Dump\n",
    "- `var_dump` is a very similar command to `print_r`, but contains more information good for debugging\n",
    "    - The object type is part of the output\n",
    "    - The length of arrays are output"
   ]
  },
  {
   "cell_type": "code",
   "execution_count": 14,
   "metadata": {
    "collapsed": true,
    "slideshow": {
     "slide_type": "slide"
    }
   },
   "outputs": [
    {
     "data": {
      "text/plain": [
       "stdClass Object\n",
       "(\n",
       "    [a] => 1\n",
       "    [b] => 2\n",
       "    [c] => 3\n",
       "    [d] => 4\n",
       "    [e] => 5\n",
       ")\n",
       "\n"
      ]
     },
     "execution_count": 14,
     "metadata": {},
     "output_type": "execute_result"
    }
   ],
   "source": [
    "$obj = json_decode('{\"a\":1,\"b\":2,\"c\":3,\"d\":4,\"e\":5}');\n",
    "echo print_r($obj,true);"
   ]
  },
  {
   "cell_type": "code",
   "execution_count": 15,
   "metadata": {
    "scrolled": true
   },
   "outputs": [
    {
     "data": {
      "text/plain": [
       "object(stdClass)#494 (5) {\n",
       "\n"
      ]
     },
     "execution_count": 15,
     "metadata": {},
     "output_type": "execute_result"
    },
    {
     "data": {
      "text/plain": [
       "  [\n"
      ]
     },
     "execution_count": 15,
     "metadata": {},
     "output_type": "execute_result"
    },
    {
     "data": {
      "text/plain": [
       "\"\n"
      ]
     },
     "execution_count": 15,
     "metadata": {},
     "output_type": "execute_result"
    },
    {
     "data": {
      "text/plain": [
       "a\n"
      ]
     },
     "execution_count": 15,
     "metadata": {},
     "output_type": "execute_result"
    },
    {
     "data": {
      "text/plain": [
       "\"\n"
      ]
     },
     "execution_count": 15,
     "metadata": {},
     "output_type": "execute_result"
    },
    {
     "data": {
      "text/plain": [
       "]=>\n",
       "\n"
      ]
     },
     "execution_count": 15,
     "metadata": {},
     "output_type": "execute_result"
    },
    {
     "data": {
      "text/plain": [
       "  \n"
      ]
     },
     "execution_count": 15,
     "metadata": {},
     "output_type": "execute_result"
    },
    {
     "data": {
      "text/plain": [
       "int(1)\n",
       "\n"
      ]
     },
     "execution_count": 15,
     "metadata": {},
     "output_type": "execute_result"
    },
    {
     "data": {
      "text/plain": [
       "  [\n"
      ]
     },
     "execution_count": 15,
     "metadata": {},
     "output_type": "execute_result"
    },
    {
     "data": {
      "text/plain": [
       "\"\n"
      ]
     },
     "execution_count": 15,
     "metadata": {},
     "output_type": "execute_result"
    },
    {
     "data": {
      "text/plain": [
       "b\n"
      ]
     },
     "execution_count": 15,
     "metadata": {},
     "output_type": "execute_result"
    },
    {
     "data": {
      "text/plain": [
       "\"\n"
      ]
     },
     "execution_count": 15,
     "metadata": {},
     "output_type": "execute_result"
    },
    {
     "data": {
      "text/plain": [
       "]=>\n",
       "\n"
      ]
     },
     "execution_count": 15,
     "metadata": {},
     "output_type": "execute_result"
    },
    {
     "data": {
      "text/plain": [
       "  \n"
      ]
     },
     "execution_count": 15,
     "metadata": {},
     "output_type": "execute_result"
    },
    {
     "data": {
      "text/plain": [
       "int(2)\n",
       "\n"
      ]
     },
     "execution_count": 15,
     "metadata": {},
     "output_type": "execute_result"
    },
    {
     "data": {
      "text/plain": [
       "  [\n"
      ]
     },
     "execution_count": 15,
     "metadata": {},
     "output_type": "execute_result"
    },
    {
     "data": {
      "text/plain": [
       "\"\n"
      ]
     },
     "execution_count": 15,
     "metadata": {},
     "output_type": "execute_result"
    },
    {
     "data": {
      "text/plain": [
       "c\n"
      ]
     },
     "execution_count": 15,
     "metadata": {},
     "output_type": "execute_result"
    },
    {
     "data": {
      "text/plain": [
       "\"\n"
      ]
     },
     "execution_count": 15,
     "metadata": {},
     "output_type": "execute_result"
    },
    {
     "data": {
      "text/plain": [
       "]=>\n",
       "\n"
      ]
     },
     "execution_count": 15,
     "metadata": {},
     "output_type": "execute_result"
    },
    {
     "data": {
      "text/plain": [
       "  \n"
      ]
     },
     "execution_count": 15,
     "metadata": {},
     "output_type": "execute_result"
    },
    {
     "data": {
      "text/plain": [
       "int(3)\n",
       "\n"
      ]
     },
     "execution_count": 15,
     "metadata": {},
     "output_type": "execute_result"
    },
    {
     "data": {
      "text/plain": [
       "  [\n"
      ]
     },
     "execution_count": 15,
     "metadata": {},
     "output_type": "execute_result"
    },
    {
     "data": {
      "text/plain": [
       "\"\n"
      ]
     },
     "execution_count": 15,
     "metadata": {},
     "output_type": "execute_result"
    },
    {
     "data": {
      "text/plain": [
       "d\n"
      ]
     },
     "execution_count": 15,
     "metadata": {},
     "output_type": "execute_result"
    },
    {
     "data": {
      "text/plain": [
       "\"\n"
      ]
     },
     "execution_count": 15,
     "metadata": {},
     "output_type": "execute_result"
    },
    {
     "data": {
      "text/plain": [
       "]=>\n",
       "\n"
      ]
     },
     "execution_count": 15,
     "metadata": {},
     "output_type": "execute_result"
    },
    {
     "data": {
      "text/plain": [
       "  \n"
      ]
     },
     "execution_count": 15,
     "metadata": {},
     "output_type": "execute_result"
    },
    {
     "data": {
      "text/plain": [
       "int(4)\n",
       "\n"
      ]
     },
     "execution_count": 15,
     "metadata": {},
     "output_type": "execute_result"
    },
    {
     "data": {
      "text/plain": [
       "  [\n"
      ]
     },
     "execution_count": 15,
     "metadata": {},
     "output_type": "execute_result"
    },
    {
     "data": {
      "text/plain": [
       "\"\n"
      ]
     },
     "execution_count": 15,
     "metadata": {},
     "output_type": "execute_result"
    },
    {
     "data": {
      "text/plain": [
       "e\n"
      ]
     },
     "execution_count": 15,
     "metadata": {},
     "output_type": "execute_result"
    },
    {
     "data": {
      "text/plain": [
       "\"\n"
      ]
     },
     "execution_count": 15,
     "metadata": {},
     "output_type": "execute_result"
    },
    {
     "data": {
      "text/plain": [
       "]=>\n",
       "\n"
      ]
     },
     "execution_count": 15,
     "metadata": {},
     "output_type": "execute_result"
    },
    {
     "data": {
      "text/plain": [
       "  \n"
      ]
     },
     "execution_count": 15,
     "metadata": {},
     "output_type": "execute_result"
    },
    {
     "data": {
      "text/plain": [
       "int(5)\n",
       "\n"
      ]
     },
     "execution_count": 15,
     "metadata": {},
     "output_type": "execute_result"
    },
    {
     "data": {
      "text/plain": [
       "}\n",
       "\n"
      ]
     },
     "execution_count": 15,
     "metadata": {},
     "output_type": "execute_result"
    },
    {
     "data": {
      "text/plain": [
       "null"
      ]
     },
     "execution_count": 15,
     "metadata": {},
     "output_type": "execute_result"
    }
   ],
   "source": [
    "var_dump($obj)"
   ]
  },
  {
   "cell_type": "markdown",
   "metadata": {
    "slideshow": {
     "slide_type": "slide"
    }
   },
   "source": [
    "## Printing Errors\n",
    "- By default, any errors encountered during the execution of a PHP script are only written to the log, and not the screen\n",
    "    - This is for security reasons\n",
    "- To force error reporting use the function `ini_set`\n",
    "````\n",
    "    ini_set(\"display_errors\", 1);\n",
    "```\n",
    "- To control the level of errors that get reported, use the `error_reporting` function\n",
    "```\n",
    " error_reporting(E_ALL);\n",
    "```"
   ]
  },
  {
   "cell_type": "markdown",
   "metadata": {
    "slideshow": {
     "slide_type": "slide"
    }
   },
   "source": [
    "Available to view at https://www.csee.umbc.edu/~bwilk1/433/php_examples/errors_on.php\n",
    "```\n",
    "<?php\n",
    "\n",
    "    error_reporting(E_ALL);\n",
    "    ini_set(\"display_errors\", 1);\n",
    "\n",
    "    $aliens_title_by_release_year[1979] = \"Alien\";                # good\n",
    "    $aliens_title_by_release_year[1986] = \"Aliens\";               # good\n",
    "    $aliens_title_by_release_year[1992] = \"Alien 3\";              # eh...\n",
    "    $aliens_title_by_release_year[1997] = \"Alien: Resurrection\";  # avoid\n",
    "?>\n",
    "    <h1>Warnings &amp; Errors On</h1>\n",
    "    <ul>\n",
    "<?\n",
    "    foreach(array_keys($aliens_title_by_release_year) as $key) {\n",
    "        print \"<li>$key: $aliens_title_by_relaese_year[$key]</li>\";\n",
    "    }\n",
    "?>\n",
    "    </ul>\n",
    "```"
   ]
  },
  {
   "cell_type": "markdown",
   "metadata": {
    "slideshow": {
     "slide_type": "slide"
    }
   },
   "source": [
    "## Security\n",
    "- PHP is one of, if not the most popular point to start a cyberattack\n",
    "- PHP provides an interface between strangers and your server\n",
    "- It is imperative you consider the security implications of your PHP script, not just for you, but for other users of your page"
   ]
  },
  {
   "cell_type": "markdown",
   "metadata": {
    "slideshow": {
     "slide_type": "slide"
    }
   },
   "source": [
    "## Password Hashing\n",
    "- PHP is commonly used to build log in systems\n",
    "- Storing users passwords is a serious responsibility\n",
    "- Using frameworks is one way to prevent mistakes\n",
    "- The other is to use the built in functions `password_hash` and `password_verify`\n",
    "    - Requires PHP 5.5+ aka not GL"
   ]
  },
  {
   "cell_type": "code",
   "execution_count": 16,
   "metadata": {
    "slideshow": {
     "slide_type": "slide"
    }
   },
   "outputs": [
    {
     "data": {
      "text/plain": [
       "$2y$10$W6y5snrJMsc0o64eD07QMO6/nq4PZke8M0jMT/FBIsi6nP6LIOOZG\n"
      ]
     },
     "execution_count": 16,
     "metadata": {},
     "output_type": "execute_result"
    },
    {
     "data": {
      "text/plain": [
       "$2y$10$mDl88Zk4DG1zGtdyBu.VueF7ipzXXHiR099tufuqXjxoWLKVIxjda\n"
      ]
     },
     "execution_count": 16,
     "metadata": {},
     "output_type": "execute_result"
    }
   ],
   "source": [
    "$my_password = 'password1234';\n",
    "echo password_hash($my_password,PASSWORD_DEFAULT);\n",
    "echo password_hash($my_password,PASSWORD_DEFAULT);"
   ]
  },
  {
   "cell_type": "code",
   "execution_count": 17,
   "metadata": {
    "slideshow": {
     "slide_type": "slide"
    }
   },
   "outputs": [
    {
     "data": {
      "text/plain": [
       "1\n"
      ]
     },
     "execution_count": 17,
     "metadata": {},
     "output_type": "execute_result"
    }
   ],
   "source": [
    "$hash1 = password_hash($my_password,PASSWORD_DEFAULT);\n",
    "echo password_verify($my_password,$hash1);\n",
    "echo password_verify('password',$hash1);"
   ]
  },
  {
   "cell_type": "markdown",
   "metadata": {
    "slideshow": {
     "slide_type": "slide"
    }
   },
   "source": [
    "## Input Validation\n",
    "- A major vulerability is also one of PHP's greatest strengths\n",
    "    - Accepting user input\n",
    "- We will talk about a few very specific issues in a bit, but in general you should always verify your input to be what you expect it to be\n",
    "- PHP has two methods to help with this\n",
    "    - filter_var\n",
    "    - filter_input"
   ]
  },
  {
   "cell_type": "markdown",
   "metadata": {
    "slideshow": {
     "slide_type": "slide"
    }
   },
   "source": [
    "## Filtering\n",
    "- Input filtering is checking if the input given matches the expected format\n",
    "- The two methods mentioned before use constant to check the input\n",
    "    - This is only a first pass, more specific filtering should be done based on your app needs\n",
    "- Common filters\n",
    "    - FILTER_VALIDATE_EMAIL\n",
    "    - FILTER_VALIDATE_URL\n",
    "    - FILTER_VALIDATE_IP"
   ]
  },
  {
   "cell_type": "code",
   "execution_count": 18,
   "metadata": {
    "slideshow": {
     "slide_type": "slide"
    }
   },
   "outputs": [
    {
     "data": {
      "text/plain": [
       "\"bryan.wilkinson@umbc.edu\""
      ]
     },
     "execution_count": 18,
     "metadata": {},
     "output_type": "execute_result"
    }
   ],
   "source": [
    "$my_email = \"bryan.wilkinson@umbc.edu\";\n",
    "filter_var($my_email,FILTER_VALIDATE_EMAIL);"
   ]
  },
  {
   "cell_type": "code",
   "execution_count": 19,
   "metadata": {},
   "outputs": [
    {
     "data": {
      "text/plain": [
       "false"
      ]
     },
     "execution_count": 19,
     "metadata": {},
     "output_type": "execute_result"
    }
   ],
   "source": [
    "$my_bad_email = \"<script>doEvil();</script>@umbc.edu\";\n",
    "filter_var($my_bad_email,FILTER_VALIDATE_EMAIL);"
   ]
  },
  {
   "cell_type": "markdown",
   "metadata": {
    "slideshow": {
     "slide_type": "slide"
    }
   },
   "source": [
    "## Sanitizing\n",
    "- An alternative to filtering is to sanatize your input\n",
    "- This removes harmful characters from the input\n",
    "    - It is considered less secure, because if an attacker knows this is happening, they can try an be clever to get around it\n",
    "- Better to reject if you can"
   ]
  },
  {
   "cell_type": "markdown",
   "metadata": {
    "slideshow": {
     "slide_type": "slide"
    }
   },
   "source": [
    "## Sanitizing\n",
    "- Santitizing uses the same functions, but with different constants\n",
    "- Common constants for sanitization are\n",
    "    - FILTER_SANITIZE_EMAIL\n",
    "    - FILTER_SANITIZE_URL\n",
    "    - FILTER_SANITIZE_STRING"
   ]
  },
  {
   "cell_type": "code",
   "execution_count": 21,
   "metadata": {
    "slideshow": {
     "slide_type": "slide"
    }
   },
   "outputs": [
    {
     "data": {
      "text/plain": [
       "bryan.wilkinson@umbc.edu\n"
      ]
     },
     "execution_count": 21,
     "metadata": {},
     "output_type": "execute_result"
    },
    {
     "data": {
      "text/plain": [
       "&34scriptdoEvilscript@umbc.edu\n"
      ]
     },
     "execution_count": 21,
     "metadata": {},
     "output_type": "execute_result"
    }
   ],
   "source": [
    "$my_email = \"bryan.wilkinson@umbc.edu\";\n",
    "$my_bad_email = \"&34;script>doEvil();</script>@umbc.edu\";\n",
    "echo filter_var($my_email,FILTER_SANITIZE_EMAIL);\n",
    "echo filter_var($my_bad_email,FILTER_SANITIZE_EMAIL);"
   ]
  },
  {
   "cell_type": "markdown",
   "metadata": {
    "slideshow": {
     "slide_type": "slide"
    }
   },
   "source": [
    "## Network Request Security\n",
    "- Another common vulerability is to trust encrpyted data, which is still vulernable to man-in-the-middle attacks\n",
    "- To prevent against this, you should explicity tell PHP to ensure that the response of the network request is from the server requested\n",
    "```\n",
    "$context = stream_context_create(array('ssl' => array('verify_peer' => TRUE)));\n",
    "$body = file_get_contents('https://api.example.com/search?q=sphinx', false, $context);\n",
    "```"
   ]
  },
  {
   "cell_type": "code",
   "execution_count": 23,
   "metadata": {
    "slideshow": {
     "slide_type": "slide"
    }
   },
   "outputs": [
    {
     "data": {
      "text/plain": [
       "\"\"\"\n",
       "<!DOCTYPE html>\\n\n",
       "<html lang=\"en\">\\n\n",
       "  <head>\\n\n",
       "    <meta charset=\"UTF-8\" />\\n\n",
       "    <title>UMBC: An Honors University In Maryland</title>\\n\n",
       "\\n\n",
       "    <!-- Always force latest IE rendering engine (even in intranet) & Chrome Frame -->\\n\n",
       "    <!-- <meta http-equiv=\"X-UA-Compatible\" content=\"IE=edge,chrome=1\"> -->\\n\n",
       "\\n\n",
       "    <!-- Sets the viewport width to the width of the device, so media queries work -->\\n\n",
       "    <!-- NOTE: We're locking the max scale (which prevents zooming) to fix bugs\\n\n",
       "         during orientation changes on devices.  Our styles should accomodate this though. -->\\n\n",
       "<link rel=\"image_src\" href=\"http://www.umbc.edu/images/UMBC_fb_tmb.png\" />\\n\n",
       "<meta name=\"description\" content=\"\" />\\n\n",
       "    <meta name=\"viewport\" content=\"width=device-width, initial-scale=1, minimum-scale=1, maximum-scale=1\">\\n\n",
       "    <link rel=\"icon\" type=\"image/png\" href=\"images_homepage/icon.png\" />\\n\n",
       "\\n\n",
       "    <!-- Template Styles -->\\n\n",
       "    <link rel=\"stylesheet\" type=\"text/css\" href=\"stylesheets/homepage.css\" />\\n\n",
       "\\n\n",
       "    <!-- Site-Specific Customizations -->\\n\n",
       "    <style type=\"text/css\">\\n\n",
       "\\n\n",
       "      #site-menu, #site-menu li a, #site-menu li ul {}\\n\n",
       "      #site-menu li:hover a {}\\n\n",
       "      #site-menu li a:hover, #site-menu li a:focus {}\\n\n",
       "      #site-menu .menu-arrow {}\\n\n",
       "      #site-menu li:hover > a .menu-arrow {}\\n\n",
       "      #site-footer {}\\n\n",
       "      #site-footer .site-name {color: #ffffff;}\\n\n",
       "      #site-footer a {}\\n\n",
       "      .layout-default .page-container-inner, .layout-home .page-container-inner {}\\n\n",
       "      /*.layout-default .page-sidebar, .layout-home .page-sidebar, .sidebar-nav a {}*/\\n\n",
       "      .layout-default .page-sidebar, .layout-home .page-sidebar, .sidebar-nav a {}\\n\n",
       "      .sidebar-nav a .secondary {}\\n\n",
       "      .sidebar-nav > ul > li > a, .sidebar-nav > ul > li.current-menu-item > a, .sidebar-nav > ul > li.current-menu-ancestor > a {}\\n\n",
       "      .sidebar-nav-header {}\\n\n",
       "      .sidebar-nav a:hover, .sidebar-nav a:focus, .sidebar-nav a:hover .secondary, .sidebar-nav a:focus .secondary { }\\n\n",
       "      .sidebar-nav .current-menu-item > a:hover > .menu-arrow, .sidebar-nav .current-menu-item > a:focus > .menu-arrow {}\\n\n",
       "      .sidebar-nav .current-menu-item > a, .sidebar-nav .current-menu-item > a .secondary {}\\n\n",
       "      .sidebar-nav .current-menu-item > a > .menu-arrow, .sidebar-nav .current-menu-item > a:hover > .menu-arrow, .sidebar-nav .current-menu-item > a:focus > .menu-arrow {}\\n\n",
       "      .widget .widgettitle {background-color: #cccccc;color: #000000;}\\n\n",
       "      .widget .widgettitle a {color: #000000;}\\n\n",
       "      .widget > ul, .widget > .textwidget {background-color: #ffffff;color: #000000;}\\n\n",
       "      .widget > ul a, .widget > .textwidget a {color: #0088CC;}\\n\n",
       "      .widget .rss-date, .widget .secondary, .widget_twitter > ul a.timesince {color: #5d5656;}\\n\n",
       "      .widgetcorner, .widgetcorner .fill {}\\n\n",
       "      .layout-default .widgetcorner .corner {border-right-color: #909090;}\\n\n",
       "      .layout-home .widgetcorner .corner {border-left-color: #909090;}\\n\n",
       " \\n\n",
       "\\n\n",
       "\\n\n",
       "      @media screen and (max-width: 767px) {\\n\n",
       "        #mobile-site-menu-expander {color: #ffffff;}\\n\n",
       "        .mobile-site-menu-expander-bar {background-color: #ffffff;}\\n\n",
       "        #site-header {}\\n\n",
       "        #site-header h1 {font-size: 30px;}\\n\n",
       "        #site-menu li:hover a {}\\n\n",
       "        .layout-default .page-sidebar, .layout-home .page-sidebar {}\\n\n",
       "\\n\n",
       "        /* This is here to override any custom color set by the theme */\\n\n",
       "        .layout-default .page-container-inner, .layout-home .page-container-inner { background-color: #fff; }\\n\n",
       "      }\\n\n",
       "\\n\n",
       "</style>\\n\n",
       "\\n\n",
       "    <!-- Some custom styles just for older IE versions -->\\n\n",
       "    <!--[if lte IE 8]>\\n\n",
       "    <style>\\n\n",
       "      #container { border: 1px solid #ddd; border-top: none; }\\n\n",
       "      #site-footer .footer-field { float: left; }\\n\n",
       "      #site-menu ul li a { border-left: none; }\\n\n",
       "      #site-menu > ul > li > a .menu-arrow { display: none; }\\n\n",
       "      .widget-spotlight .playlist li { float: left; display: block; overflow: hidden; }\\n\n",
       "    </style>\\n\n",
       "    <![endif]-->\\n\n",
       "\\n\n",
       "    <!--[if IE]>\\n\n",
       "    <script src=\"http://html5shim.googlecode.com/svn/trunk/html5.js\"></script>\\n\n",
       "    <![endif]-->\\n\n",
       "\\n\n",
       "    <script src=\"//ajax.googleapis.com/ajax/libs/jquery/1.7.2/jquery.min.js\"></script>\\n\n",
       "    <script src=\"js/homepage-base.js\"></script>\\n\n",
       "    <script src=\"js/audience-tabs.js\"></script>\\n\n",
       "    <script src=\"js/jquery.quovolver.js\"></script>\\n\n",
       "\\n\n",
       "\\n\n",
       "    <meta name=\"generator\" content=\"UMBC\" />\\n\n",
       "    <!-- Google Analytics -->\\n\n",
       "    <script type=\"text/javascript\">\\n\n",
       "      var _gaq = _gaq || [];\\n\n",
       "      // Primary Tracker\\n\n",
       "      _gaq.push(\\n\n",
       "        ['_setAccount', 'UA-1045586-1'],\\n\n",
       "        ['_trackPageview']\\n\n",
       "      );\\n\n",
       "\\n\n",
       "\\n\n",
       "      (function() {\\n\n",
       "        var ga = document.createElement('script'); ga.type = 'text/javascript'; ga.async = true;\\n\n",
       "        ga.src = ('https:' == document.location.protocol ? 'https://ssl' : 'http://www') + '.google-analytics.com/ga.js';\\n\n",
       "        var s = document.getElementsByTagName('script')[0]; s.parentNode.insertBefore(ga, s);\\n\n",
       "      })();\\n\n",
       "    </script>\\n\n",
       "    \\n\n",
       "    <script>\\n\n",
       "    $(document).ready(function() {\\n\n",
       "        \\n\n",
       "        // Rotating quotes for What other say\\n\n",
       "        $('#rotating-quotes .quotes').quovolver({\\n\n",
       "            children : 'li',\\n\n",
       "            transitionSpeed : 300,\\n\n",
       "            autoPlay : false,\\n\n",
       "            equalHeight : false,\\n\n",
       "            navPosition : 'above',\\n\n",
       "            navPrev            : false,\\n\n",
       "            navNext            : false,\\n\n",
       "            navNum            : true,\\n\n",
       "            navText            : false,\\n\n",
       "            navTextContent : 'Quote @a of @b'\\n\n",
       "        });\\n\n",
       "        \\n\n",
       "    });\\n\n",
       "    </script>\\n\n",
       "    \\n\n",
       "    <script type=\"text/javascript\" src=\"//www.google.com/jsapi\"></script>\\n\n",
       "    <script type=\"text/javascript\">\\n\n",
       "      google.load('search', '1');\\n\n",
       "      google.setOnLoadCallback(function() {\\n\n",
       "        google.search.CustomSearchControl.attachAutoCompletion(\\n\n",
       "          '008589878477221853669:fglxypz-c8m+qptype:1',\\n\n",
       "          document.getElementById('umbc-nav-search-query'),\\n\n",
       "          'umbc-nav-search');\\n\n",
       "      });\\n\n",
       "    </script>\\n\n",
       "    \\n\n",
       "</head>\\n\n",
       "\\n\n",
       "<body id=\"home\">\\n\n",
       "\\n\n",
       "<div id=\"skip-content\"><a href=\"#main-content\">Skip to Main Content</a></div>\\n\n",
       "\\n\n",
       "<!-- Comment out the alert when not in use -->\\n\n",
       "<!-- DELAY ALERT-->\\n\n",
       "<!-- <section class=\"emergency\"><a href=\"http://bit.ly/1EJ0VYN\">Due to inclement weather UMBC will be opening at noon on Monday, March 2.</a></section> -->\\n\n",
       "\\n\n",
       "<!-- CLOSED ALERT -->\\n\n",
       "<!-- <section class=\"emergency\"><a href=\"http://about.umbc.edu/inclement-weather-emergency-closing-policy/\">Due to inclement weather, UMBC will close at 8 p.m. on Monday, March 13 and remain closed on Tuesday, March 14.</a></section> -->\\n\n",
       "\\n\n",
       "<!-- STANDARD ALERT -->\\n\n",
       "<!-- <section class=\"emergency\">UMBC is currently monitoring winter storm predictions. Please sign up for <a href=\"http://my.umbc.edu/go/alerts\">E2Campus alerts</a> and review our <a href=\"http://about.umbc.edu/inclement-weather-emergency-closing-policy/\">inclement weather procedure</a>.</section> -->\\n\n",
       "\\n\n",
       "<!-- OTHER ALERT -->\\n\n",
       "<!-- <section class=\"emergency\">Temporary parking changes on campus today in preparation for UMBC's 50th celebration weekend. <a href=\"http://50.umbc.edu/temporary-parking-changes-for-sept-15-16/\">Learn more</a>.</section> -->\\n\n",
       "\\n\n",
       "<!-- <span style=\"background-color: #357BB8;\">&#10052; &#10052;</span> --><!-- INCLUDE FOR ALERT -->\\n\n",
       "\\n\n",
       "<div id=\"container-header-background\"> \\n\n",
       "<div id=\"container-header\"><!-- main container -->\\n\n",
       "<header id=\"umbc-header\"><!-- umbc header -->\\n\n",
       "\\n\n",
       "<div id=\"umbc-logo\"><a href=\"http://umbc.edu\" title=\"UMBC: An Honors University in Maryland\"><span>UMBC: An Honors University in Maryland</span></a></div>\\n\n",
       "\\n\n",
       "<nav role=\"navigation\" id=\"umbc-nav\" >\\n\n",
       "<ul id=\"umbc-nav-items\">\\n\n",
       "<li id=\"umbc-nav-azindex\"><a href=\"http://umbc.edu/siteindex\">A-Z Index</a></li>\\n\n",
       "<li id=\"umbc-nav-myumbc\"><a href=\"http://my.umbc.edu\">myUMBC</a></li>\\n\n",
       "<li id=\"umbc-nav-events\"><a href=\"http://my.umbc.edu/events\">Events</a></li>\\n\n",
       "<!-- <li id=\"umbc-nav-computing\"><a href=\"http://umbc.edu/doit\">Computing</a></li> -->\\n\n",
       "<li id=\"umbc-nav-directory\"><a href=\"http://umbc.edu/search/directory\">Directory</a></li>\\n\n",
       "<li id=\"umbc-nav-maps\"><a href=\"http://about.umbc.edu/visitors-guide/campus-map/\">Maps</a></li>\\n\n",
       "</ul>\\n\n",
       "\\n\n",
       "<form role=\"search\" id=\"umbc-nav-search\" action=\"http://www.umbc.edu/stats/searchthru/\" method=\"get\">\\n\n",
       "<div id=\"umbc-nav-search-input\">\\n\n",
       "<label for=\"umbc-nav-search-query\">Search UMBC</label>\\n\n",
       "<input type=\"hidden\" name=\"cx\" value=\"008589878477221853669:fglxypz-c8m\" />\\n\n",
       "<input type=\"hidden\" name=\"ie\" value=\"UTF-8\" />\\n\n",
       "<input id=\"umbc-nav-search-query\" type=\"text\" placeholder=\"Search\" autocomplete=\"off\" name=\"q\" size=\"250\" maxlength=\"250\">\\n\n",
       "<input id=\"umbc-nav-search-submit\" type=\"submit\" value=\"\">\\n\n",
       "</div>\\n\n",
       "</form>\\n\n",
       "\\n\n",
       "</nav>\\n\n",
       "</header>\\n\n",
       "\\n\n",
       "<header role=\"banner\" id=\"site-header\" >\\n\n",
       "<a href=\"#\" id=\"mobile-site-menu-expander\">\\n\n",
       "<span class=\"mobile-site-menu-expander-bar\"></span>\\n\n",
       "<span class=\"mobile-site-menu-expander-bar\"></span>\\n\n",
       "<span class=\"mobile-site-menu-expander-bar\"></span>\\n\n",
       "</a>\\n\n",
       "</header>\\n\n",
       "\\n\n",
       "</div><!-- END umbc header -->\\n\n",
       "\\n\n",
       "<div id=\"site-menu-background\"> \\n\n",
       "\\n\n",
       "<nav role=\"navigation\" id=\"site-menu\"><!-- gold toolbar -->\\n\n",
       "<ul id=\"menu-main\" class=\"menu\">\\n\n",
       "\\n\n",
       "<li class=\"utilities\"><a href=\"\">Utilities</a>\\n\n",
       "<ul class=\"sub-menu\">\\n\n",
       "<li><a href=\"http://umbc.edu/siteindex\">A-Z Index</a></li>\\n\n",
       "<li><a href=\"http://my.umbc.edu\">myUMBC</a></li>\\n\n",
       "<li><a href=\"http://my.umbc.edu/events\">Events</a></li>\\n\n",
       "<li><a href=\"http://umbc.edu/search/directory\">Directory</a></li>\\n\n",
       "<li><a href=\"http://about.umbc.edu/visitors-guide/campus-map/\">Maps</a></li>\\n\n",
       "</ul>\\n\n",
       "</li>\\n\n",
       "<!-- PER JAKE DANIEL 9/13/2016 -->\\n\n",
       "<li><a href=\"http://about.umbc.edu/\">About </a>\\n\n",
       "<ul class=\"sub-menu\">\\n\n",
       "\\t<li><a href=\"http://about.umbc.edu/administration/\">Administration</a>\\n\n",
       "\\t<ul class=\"sub-menu\">\\n\n",
       "\\t\\t<li><a href=\"http://president.umbc.edu/\">President Hrabowski</a></li>\\n\n",
       "\\t\\t<li><a href=\"http://about.umbc.edu/governance/\">Governance</a></li>\\n\n",
       "\\t</ul>\\n\n",
       "</li>\\n\n",
       "\\t<li><a href=\"http://news.umbc.edu/tag/rankings/\">Rankings</a></li>\\n\n",
       "\\t<li><a href=\"http://about.umbc.edu/meet-umbc-people/\">Meet UMBC People</a></li>\\n\n",
       "\\t<li><a href=\"http://news.umbc.edu\">News</a></li>\\n\n",
       "\\t<li><a href=\"http://diversity.umbc.edu/\">Diversity and Inclusion</a><!-- UMBC Diversity and Inclusion Resources --></li>\\n\n",
       "\\t<li><a href=\"http://about.umbc.edu/visitors-guide/\">Visit Us</a><span class=\"menu-arrow menu-arrow-right\"></span>\\n\n",
       "\\t<ul class=\"sub-menu\">\\n\n",
       "\\t\\t<li><a href=\"http://about.umbc.edu/visitors-guide/campus-map/\">Campus Maps</a></li>\\n\n",
       "\\t\\t<li><a href=\"http://about.umbc.edu/visitors-guide/directions/\">Directions and Parking</a></li>\\n\n",
       "\\t\\t<li><a href=\"http://about.umbc.edu/visitors-guide/research-park-technology-center/\">bwtech@UMBC Research and Technology Park</a></li>\\n\n",
       "\\t\\t<li><a href=\"http://about.umbc.edu/visitors-guide/athletics/\">Athletics</a></li>\\n\n",
       "\\t\\t<li><a href=\"http://about.umbc.edu/visitors-guide/on-campus-destinations/\">On-Campus Destinations</a></li>\\n\n",
       "\\t\\t<li><a href=\"http://about.umbc.edu/visitors-guide/where-to-eat/\">Where to Eat</a></li>\\n\n",
       "\\t\\t<li><a href=\"http://about.umbc.edu/visitors-guide/the-surrounding-community/\">The Surrounding Community</a></li>\\n\n",
       "\\t\\t<li><a href=\"http://about.umbc.edu/visitors-guide/accommodations/\">Accommodations</a></li>\\n\n",
       "\\t\\t<li><a href=\"http://about.umbc.edu/inclement-weather-emergency-closing-policy/\">Inclement Weather and Emergency Closing Policy</a></li>\\n\n",
       "\\t</ul>\\n\n",
       "</li>\\n\n",
       "\\t<li><a href=\"http://about.umbc.edu/accreditation/\">Accreditation</a></li>\\n\n",
       "\\t<li><a href=\"http://enrollment.umbc.edu/consumer_info/\">Consumer Information</a></li>\\n\n",
       "\\t<!-- CHANGED PER JAKE 11/30/16 <li><a href=\"http://www.umbc.edu/hr/employment/index.php\">Work at UMBC</a></li> \\n\n",
       "\\tUPDATED 6.2.17 -->\\n\n",
       "\\t<li><a href=\"http://hr.umbc.edu/jobs/\">Work at UMBC</a></li>\\n\n",
       "\\t<li><a href=\"http://about.umbc.edu/visitors-guide/contact-us/\">Contact Us</a></li>\\n\n",
       "</ul>\\n\n",
       "</li>\\n\n",
       "<!--/ JLD -->\\n\n",
       "<!-- PER JAKE DANIEL 9/13/2016\\n\n",
       "<li><a href=\"\">About</a>\\n\n",
       "<ul class=\"sub-menu\">\\n\n",
       "\\n\n",
       "<li><a href=\"http://about.umbc.edu\">About UMBC</a></li>\\n\n",
       "<li><a href=\"http://president.umbc.edu\">President</a></li>\\n\n",
       "<li><a href=\"http://about.umbc.edu/administration/\">Administration</a></li>\\n\n",
       "<li><a href=\"http://news.umbc.edu\">News</a></li>\\n\n",
       "<li><a href=\"http://about.umbc.edu/visitors-guide/\">Visit</a></li>\\n\n",
       "<li><a href=\"http://www.umbc.edu/hr/employment/index.html\">Jobs</a></li>\\n\n",
       "<li><a href=\"http://doit.umbc.edu\">Computing</a></li>\\n\n",
       "<li><a href=\"http://www.umbc.edu/giving/\">Support UMBC</a></li>\\n\n",
       "</ul>\\n\n",
       "</li> -->\\n\n",
       "\\n\n",
       "<li><a href=\"\">Academics</a>\\n\n",
       "<ul class=\"sub-menu\">\\n\n",
       "<li><a href=\"http://www.umbc.edu/colleges\">Colleges &amp; Schools</a></li>\\n\n",
       "<li><a href=\"http://degrees.umbc.edu\">Majors &amp; Programs</a></li>\\n\n",
       "<li><a href=\"http://catalog.umbc.edu\">Course Catalog (Undergrad)</a></li>\\n\n",
       "<li><a href=\"http://www.umbc.edu/gradschool/gradcatalog/\">Course Catalog (Graduate)</a></li>\\n\n",
       "<li><a href=\"http://registrar.umbc.edu/academic-calendar/\">Academic Calendar</a></li>\\n\n",
       "<li><a href=\"https://my.umbc.edu/go/schedule\">Class Schedule</a></li>\\n\n",
       "<li><a href=\"http://www.umbc.edu/online\">Online Learning</a></li>\\n\n",
       "<li><a href=\"http://www.umbc.edu/aok\">Albin O. Kuhn Library</a></li>\\n\n",
       "<li><a href=\"http://www.umbc.edu/bookstore\">Bookstore</a></li>\\n\n",
       "</ul>\\n\n",
       "</li>\\n\n",
       "\\n\n",
       "<li><a href=\"\">Admissions</a>\\n\n",
       "<ul class=\"sub-menu\">\\n\n",
       "\\n\n",
       "<li><a href=\"http://undergraduate.umbc.edu\">Undergraduate</a></li>\\n\n",
       "<li><a href=\"http://www.umbc.edu/gradschool/\">Graduate</a></li>\\n\n",
       "<li><a href=\"http://www.umbc.edu/financialaid\">Financial Aid &amp; Scholarships</a></li>\\n\n",
       "<li><a href=\"http://www.umbc.edu/dps\">Professional Studies</a></li>\\n\n",
       "<li><a href=\"http://summerwinter.umbc.edu \">Summer &amp; Winter Sessions</a></li>\\n\n",
       "<li><a href=\"http://www.umbctraining.com\">Training Centers</a></li>\\n\n",
       "</ul>\\n\n",
       "</li>\\n\n",
       "\\n\n",
       "<li><a href=\"\">Arts &amp; Culture</a>\\n\n",
       "<ul class=\"sub-menu\">\\n\n",
       "\\n\n",
       "<li><a href=\"http://www.umbc.edu/arts\">Calendar</a></li>\\n\n",
       "<li><a href=\"http://www.umbc.edu/aok\">Albin O. Kuhn Library &amp; Gallery</a></li>\\n\n",
       "<li><a href=\"http://www.umbc.edu/cadvc/\">Center for Art, Design and Visual Culture</a></li>\\n\n",
       "<li><a href=\"http://www.umbc.edu/engage\">Learn More</a></li>\\n\n",
       "\\n\n",
       "</ul>\\n\n",
       "</li>\\n\n",
       "\\n\n",
       "<li><a href=\"\">Athletics</a>\\n\n",
       "<ul class=\"sub-menu\">\\n\n",
       "\\n\n",
       "<li><a href=\"http://www.umbcretrievers.com/\">UMBCRetrievers.com</a></li>\\n\n",
       "<li><a href=\"http://umbcretrievers.com/composite\">Schedule</a></li>\\n\n",
       "<li><a href=\"http://umbcretrievers.com/tickets\">Tickets</a></li>\\n\n",
       "<li><a href=\"http://umbcretrievers.com/information/facilities\">Facilities/Directions</a></li>\\n\n",
       "<li><a href=\"http://recreation.umbc.edu/\">Recreation</a></li>\\n\n",
       "<li><a href=\"http://bookstore.umbc.edu/MerchList.aspx?ID=7069\">Fan Gear</a></li>\\n\n",
       "<li><a href=\"http://umbcretrievers.com/information/camps\">Camps</a></li>\\n\n",
       "</ul>\\n\n",
       "</li>\\n\n",
       "\\n\n",
       "<li><a href=\"\">Research</a>\\n\n",
       "<ul class=\"sub-menu\">\\n\n",
       "\\n\n",
       "<li><a href=\"http://research.umbc.edu\">About Research</a></li>\\n\n",
       "<li><a href=\"http://research.umbc.edu/umbc-research-news/\">Research News</a></li>\\n\n",
       "<li><a href=\"http://research.umbc.edu/research-centers-institutes/\">Research Centers &amp; Institutes</a></li>\\n\n",
       "<li><a href=\"http://www.umbc.edu/aok\">Albin O. Kuhn Library</a></li>\\n\n",
       "<li><a href=\"http://doit.umbc.edu\">Computing</a></li>\\n\n",
       "</ul>\\n\n",
       "</li>\\n\n",
       "\\n\n",
       "<li><a href=\"\">Support UMBC</a>\\n\n",
       "<ul class=\"sub-menu\">\\n\n",
       "<li><a href=\"http://alumni.umbc.edu/support\">Make a Gift</a></li>\\n\n",
       "<li><a href=\"http://giving.umbc.edu\">Why Giving Matters</a></li>\\n\n",
       "<li><a href=\"https://umbc.givecorps.com/\">Support Student Projects</a></li>\\n\n",
       "</ul>\\n\n",
       "\\n\n",
       "</li>\\n\n",
       "</ul>      \\n\n",
       "</nav> <!-- END gold toolbar --><!-- INCLUDE FOR GOLD NAV -->\\n\n",
       "\\n\n",
       "</div></div>\\n\n",
       "\\n\n",
       "<div id=\"container\"> <!-- main container -->\\n\n",
       "\\n\n",
       "<!-- START WINDOW START WINDOW START WINDOW START WINDOW START WINDOW START WINDOW START WINDOW START WINDOW -->\\n\n",
       "<!-- WINDOW IS 1024 x 380px WINDOW THUMBNAIL IS 128 x 35px -->\\n\n",
       "\\n\n",
       "<section class=\"page-content\">\\n\n",
       "<section class=\"home-widgets\">\\n\n",
       "<div class=\"widget widget-spotlight\">\\n\n",
       "<div class=\"panels\">\\n\n",
       "\\n\n",
       "<!-- TWO LINKS PER WINDOW - DON'T FORGET MOBILE LINK  --> \\n\n",
       "<!-- REMEMBER image mobile AND content-details SHOULD BE RIGHT LEFT OR CENTER FOR image AND RIGHT OR LEFT FOR content -->\\n\n",
       "<!-- description SHOULD BE USED FOR PHOTO CREDIT -->\\n\n",
       "\\n\n",
       "\\n\n",
       "<div class=\"panel panel-1\">\\n\n",
       "<div class=\"image mobile-center\"><img src=\"images_homepage/win_Shining-Star.jpg\" alt=\"Shining Star\"></div>\\n\n",
       "<div class=\"content-details right\">\\n\n",
       "<a class=\"mobile-seemore\" href=\"http://bit.ly/2z14f4z\">&raquo;</a>\\n\n",
       "<div class=\"title\">Shining Star</div>\\n\n",
       "<div class=\"tagline\">Naomi Mburu '18 receives first Rhodes Scholarship in school history.</div>\\n\n",
       "<a class=\"web-seemore\" href=\"http://bit.ly/2z14f4z\">Read more &raquo;</a>\\n\n",
       "</div>\\n\n",
       "</div>\\n\n",
       "\\n\n",
       "<div class=\"panel panel-2\">\\n\n",
       "<div class=\"image mobile-left\"><img src=\"images_homepage/win_UMBC-top-10-2017.jpg\" alt=\"UMBC TOP 10\"></div>\\n\n",
       "<div class=\"content-details right\">\\n\n",
       "<a class=\"mobile-seemore\" href=\"http://bit.ly/2xHA2Hq\">&raquo;</a>\\n\n",
       "<div class=\"title\">UMBC Top 10</div>\\n\n",
       "<div class=\"tagline\">Find out what makes being a Retriever so amazing!</div>\\n\n",
       "<a class=\"web-seemore\" href=\"http://bit.ly/2xHA2Hq\">Read more &raquo;</a> \\n\n",
       "</div>\\n\n",
       "</div>\\n\n",
       "\\n\n",
       "<div class=\"panel panel-3\">\\n\n",
       "<div class=\"image mobile-right\"><img src=\"images_homepage/win_Diversifying-the-Economics-Field.jpg\" alt=\"The Big Build\"></div>\\n\n",
       "<div class=\"content-details right\">\\n\n",
       "<a class=\"mobile-seemore\" href=\"http://bit.ly/2zIGPFG\">&raquo;</a>\\n\n",
       "<div class=\"title\">Diversifying the Field of Economics</div>\\n\n",
       "<div class=\"tagline\">UMBC receives $1.3 million grant from the Alfred P. Sloan Foundation.</div>\\n\n",
       "<a class=\"web-seemore\" href=\"http://bit.ly/2zIGPFG\">Read more &raquo;</a>\\n\n",
       "</div>\\n\n",
       "</div>\\n\n",
       "\\n\n",
       "<div class=\"panel panel-4\">\\n\n",
       "<div class=\"image mobile-center\"><img src=\"images_homepage/win_Gritstarter-Launched.jpg\" alt=\"Gritstarter Launched\"></div>\\n\n",
       "<div class=\"content-details right\">\\n\n",
       "<a class=\"mobile-seemore\" href=\"http://bit.ly/2AWJveR\">&raquo;</a>\\n\n",
       "<div class=\"title\">Gritstarter Launched</div>\\n\n",
       "<div class=\"tagline\">Custom-built crowdfunding platform opens doors for UMBC.</div>\\n\n",
       "<a class=\"web-seemore\" href=\"http://bit.ly/2AWJveR\">Read more &raquo;</a>\\n\n",
       "</div>\\n\n",
       "</div>\\n\n",
       "\\n\n",
       "<div class=\"panel panel-5\">\\n\n",
       "<div class=\"image mobile-center\"><img src=\"images_homepage/win_shine-a-light.jpg\" alt=\"Shining a Light\"></div>\\n\n",
       "<div class=\"content-details right\">\\n\n",
       "<a class=\"mobile-seemore\" href=\"http://bit.ly/2zlqbMa\">&raquo;</a>\\n\n",
       "<div class=\"title\">Shining a Light</div>\\n\n",
       "<div class=\"tagline\">Breaking through the darkness of opioid addiction and the stigma surrounding its victims.</div>\\n\n",
       "<a class=\"web-seemore\" href=\"http://bit.ly/2zlqbMa\">Read more &raquo;</a>\\n\n",
       "</div>\\n\n",
       "</div>\\n\n",
       "\\n\n",
       "\\n\n",
       "<div class=\"panel panel-6\">\\n\n",
       "<div class=\"image mobile-left\"><img src=\"images_homepage/win_GRIT-X-2017.jpg\" alt=\"GRIT-X 2017\"></div>\\n\n",
       "<div class=\"content-details right\">\\n\n",
       "<a class=\"mobile-seemore\" href=\"http://bit.ly/2xQhwkd\">&raquo;</a>\\n\n",
       "<div class=\"title\">GRIT-X 2017</div>\\n\n",
       "<div class=\"tagline\">Black holes and radioactive blueberries: TED-style talks engage the Homecoming audience.</div>\\n\n",
       "<a class=\"web-seemore\" href=\"http://bit.ly/2xQhwkd\" style=\"margin-bottom:2px;\">Read more &raquo;</a><br>\\n\n",
       "<!--<a class=\"web-seemore\" href=\"http://homecoming.umbc.edu/\" style=\"background:#ffc20f; text-shadow: none; float:right; color:#000; font-weight: bold; border:1px solid #000;margin-top:4px;\">#UMBChomecoming</a>-->\\n\n",
       "</div>\\n\n",
       "</div>\\n\n",
       "\\n\n",
       "\\n\n",
       "<div class=\"panel panel-7\">\\n\n",
       "<div class=\"image mobile-center\"><img src=\"images_homepage/win_National-Excellence-in-Innovation-and-Teaching17.jpg\" alt=\"National Excellence in Innovation and Teaching\"></div>\\n\n",
       "<div class=\"content-details right\">\\n\n",
       "<a class=\"mobile-seemore\" href=\"http://bit.ly/2h2wpnY\">&raquo;</a>\\n\n",
       "<div class=\"title\">National Excellence in Innovation and Teaching</div>\\n\n",
       "<div class=\"tagline\">Growing Retriever community celebrates U.S. News spotlight on UMBC.</div>\\n\n",
       "<a class=\"web-seemore\" href=\"http://bit.ly/2h2wpnY\">Read more &raquo;</a>\\n\n",
       "</div>\\n\n",
       "</div>\\n\n",
       "\\n\n",
       "<!--VIRTUAL TOUR EVERGREEN\\n\n",
       "<div class=\"panel panel-5\">\\n\n",
       "<div class=\"image mobile-center\"><img src=\"images_homepage/win_virtualtour.jpg\" alt=\"Virtual Tour\"></div>\\n\n",
       "<div class=\"content-details right\">\\n\n",
       "<a class=\"mobile-seemore\" href=\"http://www.umbc.edu/undergraduate/experience/virtual_tour_2011.html\">&raquo;</a>\\n\n",
       "<div class=\"title\">Virtually Us</div>\\n\n",
       "<div class=\"tagline\">Can't make it to campus? No problem &ndash; we'll bring it to you.</div>\\n\n",
       "<div class=\"description\">No problem - we'll bring it to you. It's virtually the same.</div> \\n\n",
       "<a class=\"web-seemore\" href=\"http://www.umbc.edu/undergraduate/experience/virtual_tour_2011.html\">Take a virtual tour &raquo;</a>\\n\n",
       "</div>\\n\n",
       "</div>  -->\\n\n",
       "\\n\n",
       "</div>\\n\n",
       "\\n\n",
       "<!-- WINDOW THUMBNAIL IS 128 x 35px  --> \\n\n",
       "<!-- win_LIVEWIRE-a.jpg -->\\n\n",
       "<div class=\"playlist\"><ul>\\n\n",
       "  <li class=\"item-1\"><img src=\"images_homepage/win_Shining-Star_tmb.jpg\" alt=\"Shining Star\"></li>\\n\n",
       "     <li class=\"item-2\"><img src=\"images_homepage/win_UMBC-top-10-2017_tmb.jpg\" alt=\"UMBC TOP 10\"></li>\\n\n",
       "     <li class=\"item-3\"><img src=\"images_homepage/win_Diversifying-the-Economics-Field_tmb.jpg\" alt=\"Diversifying the Economics Field\"></li>\\n\n",
       "      <li class=\"item-4\"><img src=\"images_homepage/win_Gritstarter-Launched_tmb.jpg\" alt=\"Gritstarter Launched\"></li>\\n\n",
       "  <li class=\"item-5\"><img src=\"images_homepage/win_shine-a-light_tmb.jpg\" alt=\"Shining a Light\"></li>\\n\n",
       "    <li class=\"item-6\"><img src=\"images_homepage/win_GRIT-X-2017_tmb.jpg\" alt=\"GRIT-X 2017\"></li>\\n\n",
       "  <li class=\"item-7\"><img src=\"images_homepage/win_National-Excellence-in-Innovation-and-Teaching17_tmb.jpg\" alt=\"National Excellence in Innovation and Teaching\"></li>\\n\n",
       "  \\n\n",
       "\\n\n",
       "<!--<li class=\"item-5\"><img src=\"images_homepage/win_tmb_virtualtour.jpg\" alt=\"Virtual Tour\"></li> -->\\n\n",
       "</ul></div>\\n\n",
       "</div>\\n\n",
       "\\n\n",
       "\\n\n",
       "</section><!-- END window -->\\n\n",
       "\\n\n",
       "<!-- START AUDIENCE TAB LINKS START AUDIENCE TAB LINKS START AUDIENCE TAB LINKS -->\\n\n",
       "<!-- AUDIENCE IMAGES ARE 250 x 75px -->\\n\n",
       "<div id=\"audience-tabs\">\\n\n",
       "\\n\n",
       "<ul class=\"tabs\">\\n\n",
       "<li><a href=\"#\" class=\"defaulttab\" data-tab=\"tabs1\" onClick=\"return false;\">Prospective <span class=\"mobile\">Students</span></a></li>\\n\n",
       "<li><a href=\"#\" data-tab=\"tabs2\" onClick=\"return false;\">Current <span class=\"mobile\">Students</span></a></li>\\n\n",
       "<li><a href=\"#\" data-tab=\"tabs3\" onClick=\"return false;\">Parents &amp; Family</a></li>\\n\n",
       "<li><a href=\"#\" data-tab=\"tabs4\" onClick=\"return false;\">Faculty &amp; Staff</a></li>\\n\n",
       "<li><a href=\"#\" data-tab=\"tabs5\" onClick=\"return false;\">Alumni <span class=\"mobile\">&amp; Supporters</span></a></li>\\n\n",
       "<li><a href=\"#\" data-tab=\"tabs6\" onClick=\"return false;\">Businesses <span class=\"mobile\">&amp; Employers</span></a></li>\\n\n",
       "</ul>\\n\n",
       "\\n\n",
       "<!-- PROSPECTIVE STUDENTS TAB PROSPECTIVE STUDENTS TAB PROSPECTIVE STUDENTS TAB -->\\n\n",
       " \\n\n",
       "<div class=\"tab-content\" id=\"tabs1\">\\n\n",
       "<div class=\"column1\">\\n\n",
       "<h3>Admissions</h3>\\n\n",
       "<img src=\"images_homepage/ps_admission.jpg\" alt=\"Admission thumbnail\">\\n\n",
       "<p><a href=\"http://undergraduate.umbc.edu\">Undergraduate Admissions</a></p>\\n\n",
       "<p><a href=\"http://www.umbc.edu/gradschool/\">Graduate School Admissions</a></p>\\n\n",
       "<p><a href=\"http://www.umbc.edu/dps/\">Division of Professional Studies</a></p>\\n\n",
       "<p><a href=\"http://www.umbctraining.com\">Training Centers</a></p>\\n\n",
       "<p><a href=\"http://www.umbc.edu/financialaid\">Financial Aid &amp; Scholarships</a></p>\\n\n",
       "<p><a href=\"http://enrollment.umbc.edu/consumer_info/\">Consumer Information</a></p>\\n\n",
       "<p><a href=\"http://about.umbc.edu\">Fast Facts </a></p>\\n\n",
       "</div>\\n\n",
       "    \\n\n",
       "<div class=\"column2\">\\n\n",
       "<h3>Campus Life</h3> \\n\n",
       "<img src=\"images_homepage/ps_campuslife.jpg\" alt=\"Campus Life thumbnail\">\\n\n",
       "<p><a href=\"http://undergraduate.umbc.edu/majors.php\">Undergraduate Majors &amp; Programs</a></p>\\n\n",
       "<p><a href=\"http://www.umbc.edu/gradschool/programs/all_programs.html\">Graduate School Programs</a></p>\\n\n",
       "<p><a href=\"http://www.umbc.edu/wordsofwisdom/\">Faculty Words of Wisdom</a></p>\\n\n",
       "<p><a href=\"http://osl.umbc.edu/orgs/list/\">Clubs &amp; Organizations</a></p>\\n\n",
       "<p><a href=\"http://www.umbc.edu/arts\">Arts &amp; Culture</a></p>\\n\n",
       "<p><a href=\"http://www.umbcretrievers.com/\">UMBC Athletics</a></p>\\n\n",
       "<p><a href=\"http://www.umbc.edu/reslife/\">Living on Campus</a></p>\\n\n",
       "</div>\\n\n",
       "    \\n\n",
       "<div class=\"column3\">\\n\n",
       "<h3>Visiting</h3> \\n\n",
       "<img src=\"images_homepage/ps_visiting.jpg\" alt=\"Visiting thumbnail\">\\n\n",
       "<p><a href=\"http://about.umbc.edu/visitors-guide\">Visitor's Guide</a></p>\\n\n",
       "<p><a href=\"http://about.umbc.edu/visitors-guide/campus-map/\">Campus Maps</a></p>\\n\n",
       "<p><a href=\"http://www.umbc.edu/aok\">Albin O. Kuhn Library</a></p>\\n\n",
       "<p><a href=\"http://www.umbc.edu/bookstore\">UMBC Bookstore</a></p>\\n\n",
       "<p><a href=\"https://secure.visualzen.com/vzevents/umbc/\">Undergraduate Admissions Tours</a></p>\\n\n",
       "<p><a href=\"http://undergraduate.umbc.edu/visit/virtual-tour.php\">Virtual Tour</a></p>\\n\n",
       "</div>\\n\n",
       "</div>\\n\n",
       "\\n\n",
       "<!-- CURRENT STUDENTS TAB CURRENT STUDENTS TAB CURRENT STUDENTS TAB CURRENT STUDENTS TAB CURRENT STUDENTS TAB -->\\n\n",
       "\\n\n",
       "<div class=\"tab-content\" id=\"tabs2\">\\n\n",
       "<div class=\"column1\">\\n\n",
       "<h3>Get Involved</h3>\\n\n",
       "<a href=\"http://www.umbc.edu/studentlife\"><img src=\"images_homepage/cs_getinvolved.jpg\" alt=\"Get Involved thumbnail\"></a>\\n\n",
       "<p><a href=\"http://my.umbc.edu/topics/involvement-and-leadership\">Involvement &amp; Leadership </a></p>\\n\n",
       "<p><a href=\"http://my.umbc.edu/topics/arts-culture-and-entertainment\">Arts, Culture &amp; Entertainment</a> </p>\\n\n",
       "<p><a href=\"http://my.umbc.edu/topics/diversity\">Diversity</a></p>\\n\n",
       "<p><a href=\"http://undergraduate.umbc.edu/community/professors-not-to-miss.php\">Professors Not to Miss</a></p>\\n\n",
       "<p><a href=\"http://umbcbreakingground.wordpress.com/\">UMBC BreakingGround</a></p>\\n\n",
       "<p><a href=\"http://www.umbcretrievers.com/\">Athletics &amp; Recreation</a></p>\\n\n",
       "<p><a href=\"http://my.umbc.edu/events\">Events</a></p>\\n\n",
       "</div>\\n\n",
       "    \\n\n",
       "<div class=\"column2\">\\n\n",
       "<h3>Get Help</h3> \\n\n",
       "<a href=\"http://www.umbc.edu/saf\"><img src=\"images_homepage/cs_support.jpg\" alt=\"Support Services thumbnail\"></a>\\n\n",
       "<p><a href=\"http://www.umbc.edu/saf/\">Student Affairs</a></p>\\n\n",
       "<p><a href=\"http://my.umbc.edu/topics/advising-and-student-support\">Advising &amp; Student Support</a></p>\\n\n",
       "<p><a href=\"http://my.umbc.edu/topics/jobs-and-internships\">Jobs &amp; Internships</a></p>\\n\n",
       "<p><a href=\"http://my.umbc.edu/topics/billing-and-personal-finances\">Billing &amp; Personal Finances</a></p>\\n\n",
       "<p><a href=\"http://my.umbc.edu/topics/housing-on-and-off-campus\">Housing</a></p>\\n\n",
       "<p><a href=\"http://my.umbc.edu/topics/parking-and-transportation\">Parking &amp; Transportation</a></p>\\n\n",
       "<p><a href=\"http://my.umbc.edu/topics/food-and-dining\">Food &amp; Dining </a></p>\\n\n",
       "<p><a href=\"http://my.umbc.edu/topics/health-wellness-and-safety\">Health, Wellness &amp; Safety </a></p>\\n\n",
       "</div>\\n\n",
       "    \\n\n",
       "<div class=\"column3\">\\n\n",
       "<h3>Top Tools</h3> \\n\n",
       "<a href=\"http://my.umbc.edu\"><img src=\"images_homepage/cs_myumbc.jpg\" alt=\"myUMBC thumbnail\"></a>\\n\n",
       "<p><a href=\"http://my.umbc.edu\">myUMBC</a></p>\\n\n",
       "<p><a href=\"http://www.umbc.edu/aok\">Albin O. Kuhn Library</a></p>\\n\n",
       "<p><a href=\"http://my.umbc.edu/topics/classes-and-grades\">Classes &amp; Grades </a></p>\\n\n",
       "<p><a href=\"http://www.umbc.edu/catalog/2012/index.php\">Course Catalog</a></p> \\n\n",
       "<p><a href=\"http://registrar.umbc.edu/academic-calendar/\">Academic Calendar</a></p>\\n\n",
       "<p><a href=\"http://campuscard.umbc.edu/\">Campus Card/Mail Services</a></p>\\n\n",
       "<p><a href=\"http://www.umbc.edu/saf/policies/pdfs/UMBC_Student_Handbook.pdf\">UMBC Student Handbook</a></p>\\n\n",
       "</div>\\n\n",
       "</div>\\n\n",
       "    \\n\n",
       "<!-- PARENT FAMILY TAB PARENT FAMILY TAB PARENT FAMILY TAB FAMILY TAB FAMILY TAB FAMILY TAB -->\\n\n",
       "\\n\n",
       "<div class=\"tab-content\" id=\"tabs3\"><div class=\"column1\">\\n\n",
       "<h3>Resources</h3>\\n\n",
       "<img src=\"images_homepage/pf_family.jpg\" alt=\"Parent Family Resources thumbnail\">\\n\n",
       "<p><a href=\"http://my.umbc.edu/topics/advising-and-student-support\">Advising &amp; Student Support  </a></p>\\n\n",
       "<p><a href=\"http://my.umbc.edu/topics/health-wellness-and-safety\">Health, Wellness &amp; Safety  </a></p>\\n\n",
       "<p><a href=\"http://my.umbc.edu/topics/billing-and-personal-finances\">Billing &amp; Personal Finances  </a></p>\\n\n",
       "<p><a href=\"http://www.umbc.edu/financialaid/\">Financial Aid &amp; Scholarships  </a></p>\\n\n",
       "<p><a href=\"http://my.umbc.edu/topics/jobs-and-internships\">Jobs &amp; Internships  </a></p>\\n\n",
       "<p><a href=\"http://my.umbc.edu/topics/housing-on-and-off-campus\">Housing  </a></p>\\n\n",
       "<p><a href=\"http://my.umbc.edu/topics/parking-and-transportation\">Parking &amp; Transportation  </a></p>\\n\n",
       "<p><a href=\"http://my.umbc.edu/topics/food-and-dining\">Food &amp; Dining </a></p>\\n\n",
       "</div>\\n\n",
       "    \\n\n",
       "<div class=\"column2\">\\n\n",
       "<h3>Visiting</h3> \\n\n",
       "<img src=\"images_homepage/pf_visiting.jpg\" alt=\"Visiting thumbnail\">\\n\n",
       "<p><a href=\"http://about.umbc.edu/visitors-guide\">Visitor's Guide</a></p>\\n\n",
       "<p><a href=\"http://about.umbc.edu/visitors-guide/campus-map/\">Campus Maps</a></p>\\n\n",
       "<p><a href=\"http://www.umbc.edu/aok\">Albin O. Kuhn Library</a></p>\\n\n",
       "<p><a href=\"http://www.umbc.edu/bookstore\">UMBC Bookstore</a></p>\\n\n",
       "<p><a href=\"https://secure.visualzen.com/vzevents/umbc/\">Schedule an Undergraduate Tour</a></p>\\n\n",
       "<p><a href=\"http://undergraduate.umbc.edu/visit/virtual-tour.php\">Take our virtual tour</a></p>\\n\n",
       "</div>\\n\n",
       "\\n\n",
       "<div class=\"column3\">\\n\n",
       "<h3>Connect </h3> \\n\n",
       "<p><a href=\"http://my.umbc.edu/groups/parents\">Family Connection </a></p>\\n\n",
       "<p><a href=\"http://umbc.us7.list-manage.com/subscribe?u=f6412bb434bcfb2aa45386155&id=1df27fef01\">Sign Up for Newsletter</a></p>\\n\n",
       "<p><a href=\"http://www.umbc.edu/saf/\">Student Affairs</a></p>\\n\n",
       "\\n\n",
       "<h3>Support UMBC </h3> \\n\n",
       "<p><a href=\"http://www.umbc.edu/giving\">Make a Gift</a></p>\\n\n",
       "</div>\\n\n",
       "</div>\\n\n",
       "    \\n\n",
       "<!-- FAC STAFF TAB FAC STAFF TAB FAC STAFF TAB FAC STAFF TAB FAC STAFF TAB FAC STAFF TAB FAC STAFF TAB -->\\n\n",
       " \\n\n",
       "<div class=\"tab-content\" id=\"tabs4\">\\n\n",
       "<div class=\"column1\">\\n\n",
       "<h3>Resources</h3>\\n\n",
       "<a href=\"http://www.umbc.edu/facultystaff/ \"><img src=\"images_homepage/fs_library.jpg\" alt=\"Library thumbnail\"></a>\\n\n",
       "<p><a href=\"http://my.umbc.edu/topics/advising-and-student-support\">Advising &amp; Student Support</a></p>\\n\n",
       "<p><a href=\"http://my.umbc.edu/topics/parking-and-transportation\">Parking &amp; Transportation</a></p> \\n\n",
       "<p><a href=\"http://my.umbc.edu/topics/food-and-dining\">Food &amp; Dining</a></p>\\n\n",
       "<p><a href=\"http://my.umbc.edu/topics/health-wellness-and-safety\">Health, Wellness &amp; Safety</a></p>\\n\n",
       "<p><a href=\"http://my.umbc.edu/events\">Events </a></p>\\n\n",
       "<p><a href=\"http://www.umbc.edu/policies/\">University Policies</a></p>\\n\n",
       "<p><a href=\"http://fdc.umbc.edu/\">Faculty Development Center</a></p>\\n\n",
       "</div>\\n\n",
       "\\n\n",
       "<div class=\"column2\">\\n\n",
       "<h3>UMBC Insights</h3>\\n\n",
       "<p><a href=\"http://umbcinsights.wordpress.com/\">News for the University Community</a></p>\\n\n",
       "\\n\n",
       "<h3>Human Resources</h3> \\n\n",
       "<p><a href=\"http://www.umbc.edu/hr/\">HR Website </a></p>\\n\n",
       "<p><a href=\"http://www.umbc.edu/hr/newemployeeresources/benefits.html\">Benefits Information</a></p>\\n\n",
       "<p><a href=\"http://www.umbc.edu/hr/supervisortoolkit/supervisortoolkitindex.html\">Resources for Supervisors</a></p>\\n\n",
       "\\n\n",
       "<h3>Jobs at UMBC</h3> \\n\n",
       "<p><a href=\"http://www.umbc.edu/hr/employment/index.html\">Employment Opportunities</a></p>\\n\n",
       "<p><a href=\"http://www.umbc.edu/hr/newemployeeresources/welcome.html\">Resources for New Employees</a></p>\\n\n",
       "</div>\\n\n",
       "\\n\n",
       "<div class=\"column3\">\\n\n",
       "<h3>Top Tools</h3> \\n\n",
       "<a href=\"http://my.umbc.edu\"><img src=\"images_homepage/cs_myumbc.jpg\" alt=\"myUMBC thumbnail\"></a>\\n\n",
       "<p><a href=\"http://my.umbc.edu/topics/faculty-center\">myUMBC Faculty Center  </a></p>\\n\n",
       "<p><a href=\"http://my.umbc.edu/topics/staff-center\">myUMBC Staff Center   </a></p>\\n\n",
       "<p><a href=\"http://www.umbc.edu/aok\">Albin O. Kuhn Library</a></p>\\n\n",
       "<p><a href=\"http://registrar.umbc.edu/academic-calendar/\">Academic Calendar</a></p>\\n\n",
       "<p><a href=\"http://www.umbc.edu/catalog/\">Course Catalog</a></p>\\n\n",
       "<p><a href=\"http://campuscard.umbc.edu/\">Campus Card/Mail Services</a></p>\\n\n",
       "</div>\\n\n",
       "</div>\\n\n",
       "\\n\n",
       "<!-- ALUMNI SUPPORTER TAB ALUMNI SUPPORTER TAB ALUMNI SUPPORTER TAB ALUMNI SUPPORTER TAB ALUMNI SUPPORTER TAB -->\\n\n",
       "\\n\n",
       "<div class=\"tab-content\" id=\"tabs5\"><div class=\"column1\">\\n\n",
       "<h3>Alumni Association</h3>\\n\n",
       "<a href=\"http://alumni.umbc.edu\"><img src=\"images_homepage/as_alumni.jpg\" alt=\"Support Services thumbnail\"></a>\\n\n",
       "<p><a href=\"http://alumni.umbc.edu/s/1325/1col.aspx?sid=1325&amp;gid=1&amp;pgid=316\">Get Involved</a></p>\\n\n",
       "<p><a href=\"http://umbcalumni.wordpress.com/\">News</a> </p>\\n\n",
       "<p><a href=\"http://alumni.umbc.edu/s/1325/1col.aspx?sid=1325&amp;gid=1&amp;pgid=13&amp;cid=664\">Events</a></p>\\n\n",
       "<p><a href=\"http://umbcalumni.wordpress.com/alumni-award-winners/\">Alumni Awards</a></p>\\n\n",
       "</div>\\n\n",
       "    \\n\n",
       "<div class=\"column2\">\\n\n",
       "<h3>UMBC Magazine</h3> \\n\n",
       "<a href=\"http://www.umbc.edu/magazine\"><img src=\"images_homepage/as_magcover.jpg\" alt=\"UMBC Magazine thumbnail\"></a>\\n\n",
       "<p><a href=\"http://umbcmagazine.wordpress.com\">Visit the magazine online </a></p>\\n\n",
       "</div>\\n\n",
       "    \\n\n",
       "<div class=\"column3\">\\n\n",
       "<h3>Give to UMBC</h3> \\n\n",
       "<a href=\"http://www.umbc.edu/giving\"><img src=\"images_homepage/as_giving.jpg\" alt=\"Give to UMBC thumbnail\"></a>\\n\n",
       "<p><a href=\"https://secure.imodules.com/s/1325/giving_social.aspx?sid=1325&amp;gid=1&amp;pgid=564&amp;cid=1258\">Give Now</a></p>\\n\n",
       "<p><a href=\"http://www.umbc.edu/giving/learn/annualfund.html\">Annual Giving</a></p> \\n\n",
       "<p><a href=\"http://umbcgiving.wordpress.com/\">Giving Stories</a></p>\\n\n",
       "</div>\\n\n",
       "</div>\\n\n",
       "\\n\n",
       "<!-- BUSINESSES AND SUPPORTERS TAB BUSINESSES AND SUPPORTERS TAB BUSINESSES AND SUPPORTERS TAB BUSINESSES AND SUPPORTERS TAB -->\\n\n",
       "\\n\n",
       "<div class=\"tab-content\" id=\"tabs6\">\\n\n",
       "<div class=\"column1\">\\n\n",
       "<h3>bwtech@UMBC</h3> \\n\n",
       "<a href=\"http://www.bwtechumbc.com/\"><img src=\"images_homepage/cp_bwtech.jpg\" alt=\"bwtech thumbnail\"></a>\\n\n",
       "<p><a href=\"http://www.bwtechumbc.com/\">About bwtech@UMBC<br />Research &amp; Technology Park</a></p>\\n\n",
       "<p><a href=\"http://www.bwtechumbc.com/\">Programs</a></p>\\n\n",
       "<p><a href=\"http://www.bwtechumbc.com//facilities/space.html\">Acquire Space</a></p>  \\n\n",
       "<p><a href=\"http://www.bwtechumbc.com//about/directions.html\">Maps &amp; Directions</a></p>\\n\n",
       "</div>\\n\n",
       "    \\n\n",
       "<div class=\"column2\">\\n\n",
       "<h3>Work With Us</h3> \\n\n",
       "<a href=\"http://www.umbc.edu/business\"><img src=\"images_homepage/cp_business.jpg\" alt=\"Corporate Relations thumbnail\"></a>\\n\n",
       "<p><a href=\"http://www.umbc.edu/business/\">Learn How</a></p> \\n\n",
       "<p><a href=\"http://www.umbc.edu/business/students.php\">Access Students</a></p>\\n\n",
       "<p><a href=\"http://www.umbc.edu/business/training.php\">Access Training</a></p>\\n\n",
       "<p><a href=\"http://www.umbc.edu/business/research.php\">Access Research</a></p>\\n\n",
       "<p><a href=\"http://www.umbc.edu/business/space.php\">Access Space</a></p>\\n\n",
       "<p><a href=\"http://www.umbc.edu/business/support.php\">Support UMBC</a></p>  \\n\n",
       "</div>\\n\n",
       "    \\n\n",
       "<div class=\"column3\">\\n\n",
       "<h3>Give to UMBC</h3> \\n\n",
       "<a href=\"http://www.umbc.edu/giving\"><img src=\"images_homepage/bs_giving.jpg\" alt=\"Give to UMBC thumbnail\"></a>\\n\n",
       "<p><a href=\"https://secure.imodules.com/s/1325/giving_social.aspx?sid=1325&amp;gid=1&amp;pgid=564&amp;cid=1258\">Give Now</a></p>\\n\n",
       "<p><a href=\"http://www.umbc.edu/giving/learn/annualfund.html\">Annual Giving</a></p> \\n\n",
       "<p><a href=\"http://umbcgiving.wordpress.com/\">Giving Stories</a></p>\\n\n",
       "</div>\\n\n",
       "</div>\\n\n",
       "\\n\n",
       "</div>\\n\n",
       "\\n\n",
       "<!-- END audience links -->\\n\n",
       "\\n\n",
       "<!-- news and events news and events news and events news and events news and events news and events-->\\n\n",
       "\\n\n",
       "<section class=\"page-container layout-home\">\\n\n",
       "<section class=\"page-content\">\\n\n",
       "    \\n\n",
       "<article role=\"main\">\\n\n",
       " \\n\n",
       "<div class=\"news\"> \\n\n",
       "<h1 style=\"line-height: 1em;\">News</h1>\\n\n",
       "<!-- COPY A PREVIOUS HEADLINE AND UPDATE URL AND HEADLINE TITLE BUT KEEP TAG FORMATTING INTACT ~ REMEMBER TO PUT PUBLICATION NAME BETWEEN <i> TAGS  -->\\n\n",
       "<!-- ampersand is &amp; em dash is &mdash; -->\\n\n",
       "<!-- Uncomment the paragraph below to have this appear just above the RSS News feed on the homepage.  -->\\n\n",
       " \\n\n",
       "<p><a href=\"http://wapo.st/2hPNBxT\">'So meaningful to so many': UMBC gets its first Rhodes Scholar in school history</a><br><span style=\"color:#666666;\"><em>November 24, 2017</em></span></p><!-- INCLUDE for NEWS -->\\n\n",
       "<div id=\"rss\">\\n\n",
       "  <p><b style=\"color:#666666;\">loading...</b></p>\\n\n",
       "  <img src=\"images_homepage/loading.gif\">\\n\n",
       "</div>\\n\n",
       "\\n\n",
       "<p><a href=\"http://news.umbc.edu/\" class=\"moreinfo\">More news headlines &raquo;</a></p>\\n\n",
       "<p><a href=\"http://president.umbc.edu/\" class=\"moreinfo\">President Hrabowski's media appearances, publications, and speeches &raquo;</a></p>\\n\n",
       "</div>   \\n\n",
       "\\n\n",
       "<div class=\"events\"> \\n\n",
       "\\n\n",
       "<h1 style=\"line-height: 1em;\">Events &amp; Deadlines</h1>\\n\n",
       "\\n\n",
       "<!-- COPY A PREVIOUS EVENT AND UPDATE DATE URL AND EVENT NAME BUT KEEP TAG FORMATTING INTACT ~ TWO EVENTS FOR SAME DATE SHOULD BE SEPARATED BY br SOONEST DATES FIRST-->\\n\n",
       "\\n\n",
       "\\n\n",
       "<p class=\"date\">Ongoing</p>\\n\n",
       "<p><a href=\"https://artscalendar.umbc.edu/2017/01/22/visual-arts-faculty-exhibition/\">Spectrum: 2017 Visual Arts Faculty Exhibition</a></p>\\n\n",
       "\\n\n",
       "<p class=\"date\">12/1</p>\\n\n",
       "<p><a href=\"https://artscalendar.umbc.edu/2016/12/27/umbc-collegium-musicum-and-gamelan-ensemble/\">UMBC Gamelan Ensemble</a></p>\\n\n",
       "\\n\n",
       "<p class=\"date\">12/20 & 12/21</p>\\n\n",
       "<p><a href=\"https://commencement.umbc.edu/\">2017 Winter Commencement Ceremonies</a></p><!-- INCLUDE FOR EVENTS -->\\n\n",
       "\\n\n",
       "<p><a href=\"http://my.umbc.edu/events\" class=\"moreevent\">More events &raquo;</a></p>\\n\n",
       "</div>   \\n\n",
       "      \\n\n",
       "<div class=\"whatotherssay\"> \\n\n",
       "\\n\n",
       "<h1 style=\"line-height: 1em;\">UMBC Campaign</h1>\\n\n",
       "<div class=\"demo\" id=\"rotating-quotes\">\\n\n",
       "<div class=\"quotes\">\\n\n",
       "\\n\n",
       "<ul>\\n\n",
       "<li><a href=\"http://giving.umbc.edu/\"><img src=\"images_homepage/campaign-logo-cropped.jpg\"><br>For 50 years, we have called on our GRIT to do GREAT things. Now we are calling on YOU.</a></li>\\n\n",
       "<li><!--\\n\n",
       "<blockquote>\\n\n",
       "<p>&ldquo;This midsize state university has earned a reputation as one of the most innovative schools in the country.&rdquo;</p>\\n\n",
       "<p>&mdash;<em><a href=\"http://www.cbsnews.com/video/watch/?id=7388127n&tag=contentBody;storyMediaBox\">&ldquo;60 Minutes&rdquo;</a></em></p>\\n\n",
       "</blockquote> --><a href=\"http://50.umbc.edu/timeline/\">\\n\n",
       "<img src=\"images_homepage/50th-4.jpg\"><br>Timeline: 50 Years of Grit &amp; Greatness</a>\\n\n",
       "</li>\\n\n",
       "<li><a href=\"http://50.umbc.edu/weekendroundup/\"><img src=\"images_homepage/50thFIREWORKS.jpg\"><br>Highlights from UMBC's 50th Anniversary Celebration Weekend</a></li>\\n\n",
       "        <!-- COMMENTED OUT FOR 50TH                        \\n\n",
       "<li>\\n\n",
       "<blockquote>\\n\n",
       "<p>&ldquo;An institution that combines the best of a major research center while keeping its focus on undergraduates.&rdquo;</p>\\n\n",
       "<p>&mdash;<a href=\"http://www.washingtonpost.com/opinions/u-md-baltimore-county-serves-its-students-well/2012/04/09/gIQAneVv6S_story.html\"><em>The Washington Post</em></a></p>\\n\n",
       "</blockquote>\\n\n",
       "</li>\\n\n",
       "                                \\n\n",
       "<li>\\n\n",
       "<blockquote>\\n\n",
       "<p>&ldquo;When you think of the top science universities in the U.S., schools like MIT and Caltech may jump to mind. But perhaps the most envied science program in the country is at the University of Maryland, Baltimore County.&rdquo;</p>\\n\n",
       "<p>&mdash;<em><a href=\"http://www.time.com/time/specials/packages/article/0,28804,2111975_2111976_2112119,00.html\">TIME</a></em></p>\\n\n",
       "</blockquote>\\n\n",
       "</li>\\n\n",
       "\\n\n",
       "<li>\\n\n",
       "<blockquote>\\n\n",
       "<p>&ldquo;Students here [at UMBC] are given access to academic and social resources usually reserved for those attending mammoth public institutions or pricey private colleges.&rdquo;</p>\\n\n",
       "<p>&mdash;<a href=\"http://www.umbc.edu/window/fiske_guide_honors.html\"><em>Fiske Guide to Colleges</em></a></p>\\n\n",
       "</blockquote>\\n\n",
       "</li>\\n\n",
       "                                \\n\n",
       "<li>\\n\n",
       "<blockquote>\\n\n",
       "<p>&ldquo;Up-and-Coming Schools,&rdquo;like #1 UMBC, are &ldquo;making the most promising and innovative changes in the areas of academics, faculty, and student life.&rdquo;</p>\\n\n",
       "<p>&mdash;<em><a href=\"http://colleges.usnews.rankingsandreviews.com/best-colleges/rankings/national-universities/up-and-coming\">U.S. News &amp; World Report</a></em></p>\\n\n",
       "</blockquote>\\n\n",
       "</li>\\n\n",
       "                                \\n\n",
       "<li>\\n\n",
       "<blockquote>\\n\n",
       "<p>&ldquo;Continue[s] to deliver a great education at prices that put private schools to shame&rdquo;</p>\\n\n",
       "<p>&mdash;<a href=\"http://www.kiplinger.com/magazine/archives/best-values-in-public-colleges-2012.html\"><em>Kiplinger&rsquo;s</em> &ldquo;Best Values in Public Colleges&rdquo;</a></p>\\n\n",
       "</blockquote>\\n\n",
       "</li>\\n\n",
       " -->\\n\n",
       " <!--                               \\n\n",
       "<li>\\n\n",
       "<blockquote>\\n\n",
       "<p>&ldquo;Of all the research universities we visited, UMBC was the place that we thought had most capably connected its research functions with its undergraduate schooling.&rdquo;</p>\\n\n",
       "<p>&mdash;<a href=\"http://www.umbc.edu/blogs/umbcnews/2010/09/post_3.html\">&ldquo;Higher Education?&rdquo; by Andrew Hacker & Claudia Dreifus</a></p>\\n\n",
       "</blockquote>\\n\n",
       "</li> -->\\n\n",
       "\\n\n",
       "</ul>\\n\n",
       "</div><!-- .quotes -->\\n\n",
       "</div><!-- .demo -->\\n\n",
       "                    \\n\n",
       "</div><!-- .whatotherssay -->\\n\n",
       "</article>\\n\n",
       "</section>\\n\n",
       "  \\n\n",
       "<!-- END News Events and What Others Say END News Events and What Others Say -->\\n\n",
       "  \\n\n",
       "</section>\\n\n",
       "\\n\n",
       "<!-- footer start -->\\n\n",
       "<footer role=\"contentinfo\" id=\"site-footer\"></footer>   \\n\n",
       "\\n\n",
       "</section>\\n\n",
       "</div> <!-- #container -->\\n\n",
       "<footer role=\"contentinfo\" id=\"umbc-footer\">\\n\n",
       "<div id=\"umbc-footer-logo\"><a href=\"http://umbc.edu\" title=\"UMBC: An Honors University in Maryland\"><span>UMBC: An Honors University in Maryland</span></a></div>\\n\n",
       "<!-- =JLD -->\\n\n",
       "<div id=\"usmd-footer-logo\"><a href=\"http://www.usmd.edu/\" title=\"Univeristy System of Maryland\"><span>Univeristy System of Maryland</span></a></div>\\n\n",
       "<br style=\"clear:both;\"><br>\\n\n",
       "<nav id=\"umbc-footer-nav\" style=\"clear:both;\">\\n\n",
       "<ul id=\"umbc-footer-nav-items\">\\n\n",
       "<li><a href=\"http://about.umbc.edu\">About UMBC</a></li>\\n\n",
       "<li><a href=\"mailto:homepage@umbc.edu\">Contact Us</a></li>\\n\n",
       "<li><a href=\"http://umbc.edu/go/equal-opportunity\">Equal Opportunity</a></li>\\n\n",
       "<li>Community: <a href=\"https://www.facebook.com/umbcpage\" id=\"umbc-footer-facebook\"><span class=\"none\">Facebook</span></a> <a href=\"http://twitter.com/umbc\" id=\"umbc-footer-twitter\"><span class=\"none\">Twitter</span></a> <a href=\"http://www.youtube.com/user/UMBCtube\" id=\"umbc-footer-youtube\"><span class=\"none\">YouTube</span></a> <a href=\"http://alumni.umbc.edu/\" id=\"umbc-footer-rn\"><span class=\"none\">Retriever Net</span></a></li>\\n\n",
       "</ul>\\n\n",
       "</nav>\\n\n",
       "\\n\n",
       "<div id=\"umbc-footer-info\">&copy; University of Maryland, Baltimore County <span class=\"bullet\">&bull;</span> 1000 Hilltop Circle <span class=\"bullet\">&bull;</span> Baltimore, MD 21250\\n\n",
       "</div>\\n\n",
       "</footer>\\n\n",
       "<script type=\"text/javascript\">\\n\n",
       "// Get RSS Feed - Jim Doran 11/27/17\\n\n",
       "  if (window.XMLHttpRequest) {\\n\n",
       "    xmlhttp=new XMLHttpRequest();\\n\n",
       "    console.log('xmlhttp == true');\\n\n",
       "  } else {\\n\n",
       "    xmlhttp=new ActiveXObject(\"Microsoft.XMLHTTP\");\\n\n",
       "  }\\n\n",
       "  xmlhttp.onreadystatechange=function() {\\n\n",
       "    if (this.readyState==4 && this.status==200) {\\n\n",
       "      document.getElementById(\"rss\").innerHTML=this.responseText;\\n\n",
       "    }\\n\n",
       "  }\\n\n",
       "  xmlhttp.open(\"GET\",\"getrss.php\");\\n\n",
       "  xmlhttp.send();\\n\n",
       "</script>\\n\n",
       "</body>\\n\n",
       "</html>\\n\n",
       "\"\"\""
      ]
     },
     "execution_count": 23,
     "metadata": {},
     "output_type": "execute_result"
    }
   ],
   "source": [
    "$context = stream_context_create(\n",
    "array('ssl' => array('verify_peer' => TRUE)));\n",
    "$body = file_get_contents('https://www.umbc.edu', false, $context);"
   ]
  },
  {
   "cell_type": "markdown",
   "metadata": {
    "slideshow": {
     "slide_type": "slide"
    }
   },
   "source": [
    "## SQL Injections\n",
    "- We didn't cover using PHP with databases in this course, but it is a very common use of them\n",
    "- Using user input directly in an SQL query is a very bad idea\n",
    "    - Can leak data\n",
    "    - Can leak information about your database set up\n",
    "- Steps to reduce\n",
    "    - Valdiate data first\n",
    "    - Escape input or use prepared statements"
   ]
  },
  {
   "cell_type": "markdown",
   "metadata": {
    "slideshow": {
     "slide_type": "slide"
    }
   },
   "source": [
    "Example from https://php.earth/docs/security/sql-injection\n",
    "```\n",
    "$query = \"SELECT username, email FROM users WHERE id = ?\";\n",
    "\n",
    "$stmt = $mysqli->stmt_init();\n",
    "\n",
    "if ($stmt->prepare($query)) {\n",
    "    $stmt->bind_param(\"i\", $id);\n",
    "    $stmt->execute();\n",
    "    $result = $stmt->get_result();\n",
    "    while ($row = $result->fetch_array(MYSQLI_NUM)) {\n",
    "        printf (\"%s (%s)\\n\", $row[0], $row[1]);\n",
    "    }\n",
    "}\n",
    "```"
   ]
  },
  {
   "cell_type": "markdown",
   "metadata": {
    "slideshow": {
     "slide_type": "slide"
    }
   },
   "source": [
    "## Code Injection\n",
    "- Another danger is someone including their own PHP into your code\n",
    "- This can happen when:\n",
    "    - `eval` is used\n",
    "    - A user input is passed to `include` or `require`\n",
    "    - A file name is passed to open"
   ]
  },
  {
   "cell_type": "markdown",
   "metadata": {
    "slideshow": {
     "slide_type": "slide"
    }
   },
   "source": [
    "## Preventing Code Injection\n",
    "- Don't use eval\n",
    "- If you are doing dynamic includes, use a switch statement or something, and don't directly just use the variable\n",
    "- Validate your filenames, and don't use a filename directly"
   ]
  },
  {
   "cell_type": "markdown",
   "metadata": {
    "slideshow": {
     "slide_type": "slide"
    }
   },
   "source": [
    "## Directory Traversal\n",
    "- Another danger about files and file names is directory traversal\n",
    "- A malicous user could send the file name `/` or `../` and get somewehre they shouldn't\n",
    "    - Explicity check for filenames start with this\n",
    "    - Run standard filtering and sanitation on file names\n",
    "    - Don't use the user supplied file names!"
   ]
  },
  {
   "cell_type": "markdown",
   "metadata": {
    "slideshow": {
     "slide_type": "slide"
    }
   },
   "source": [
    "## Cross Site Scripting\n",
    "- A major danger to users of your site is cross-site scripting\n",
    "    - If your database is comporimised, it could be placed there\n",
    "    - It could be done through public content through a form like comments\n",
    "- Escape escape escape\n",
    "    - If you are sending user generated content back to the client, use <a href=\"http://htmlpurifier.org/\">HTMLPurify</a> library"
   ]
  },
  {
   "cell_type": "code",
   "execution_count": 24,
   "metadata": {
    "slideshow": {
     "slide_type": "slide"
    }
   },
   "outputs": [
    {
     "data": {
      "text/plain": [
       "\"<b>Hello</b>\""
      ]
     },
     "execution_count": 24,
     "metadata": {},
     "output_type": "execute_result"
    }
   ],
   "source": [
    "$untrustedHtml = \"<script><iframe src=''></script><b>Hello</b>\";\n",
    "$config = HTMLPurifier_Config::createDefault();\n",
    "$config->set('HTML.Allowed', 'p,b,a[href],i'); // basic formatting and links\n",
    "$sanitiser = new HTMLPurifier($config);\n",
    "$output = $sanitiser->purify($untrustedHtml);"
   ]
  }
 ],
 "metadata": {
  "celltoolbar": "Slideshow",
  "kernelspec": {
   "display_name": "PHP",
   "language": "php",
   "name": "jupyter-php"
  },
  "language_info": {
   "file_extension": ".php",
   "mimetype": "text/x-php",
   "name": "PHP",
   "pygments_lexer": "PHP",
   "version": "7.0.22-0ubuntu0.16.04.1"
  }
 },
 "nbformat": 4,
 "nbformat_minor": 2
}

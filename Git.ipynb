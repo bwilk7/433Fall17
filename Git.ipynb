{
 "cells": [
  {
   "cell_type": "markdown",
   "metadata": {},
   "source": [
    "# Intro to Git and GitHuB"
   ]
  },
  {
   "cell_type": "markdown",
   "metadata": {},
   "source": [
    "## Git\n",
    "* Git is a version control system widely used in open source software\n",
    "    * Created by Linus Torvalds in 2005\n",
    "* Is a distributed VCS\n",
    "    * Everyone has a full copy of the repository, including history\n",
    "* Git is pre-installed on most Linux systems, including GL\n",
    "    * If you need to download it, follow the instructions at https://git-scm.com/downloads\n"
   ]
  },
  {
   "cell_type": "markdown",
   "metadata": {},
   "source": [
    "## GitHub\n",
    "* Even though Git is distributed, the files still need to be shared between collaborators\n",
    "* Any publicly accessible web server could serve this purpose but\n",
    "    * GitHub adds lot of nice features on top, including a nice web interface to view code in\n",
    "* GitHub is not the only git host, but is by far the largest \n",
    "    * BitBucket is another popular one, gives unlimited free repositories\n",
    "    "
   ]
  },
  {
   "cell_type": "markdown",
   "metadata": {},
   "source": [
    "## Getting a Git repo\n",
    "* If you are starting out with a new code base, simply\n",
    "    + create a folder for your project\n",
    "    + run `git init` inside the folder to make a git repository\n",
    "* If you want to use existing code, say from GitHub, you can use the `git clone` command\n"
   ]
  },
  {
   "cell_type": "code",
   "execution_count": 2,
   "metadata": {},
   "outputs": [
    {
     "name": "stderr",
     "output_type": "stream",
     "text": [
      "Cloning into 'CMSC433'...\n"
     ]
    }
   ],
   "source": [
    "%%bash\n",
    "git clone https://github.com/bwilk7/CMSC433"
   ]
  },
  {
   "cell_type": "markdown",
   "metadata": {},
   "source": [
    "## Git on GL\n",
    "- Git on GL is outdated, so you need to include your GitHub username in the URL for the git clone command\n",
    "- It also prompts for a password using a window, fix this by running\n",
    "    - `unset SSH_ASKPASS` on bash shells\n",
    "    - `unsetenv SSH_ASKPASS` c-shells\n"
   ]
  },
  {
   "cell_type": "code",
   "execution_count": null,
   "metadata": {},
   "outputs": [],
   "source": [
    "%%bash\n",
    "git clone https://bwilk7@github.com/bwilk7/433Fall17/"
   ]
  },
  {
   "cell_type": "markdown",
   "metadata": {},
   "source": [
    "## Adding Changes to Git\n",
    "* After modifying some of your code, it is a good idea to add the changes to the repository\n",
    "* The command `git add FILE` adds a new version specific file to the repository\n",
    "    + You can used wildcard to add many files at once, just be careful"
   ]
  },
  {
   "cell_type": "markdown",
   "metadata": {},
   "source": [
    "## Commiting Changes\n",
    "* After adding the files, the changes needed to be commited to repository\n",
    "    * This calculates the difference between existing files and the ones youv'e added, as well as marks a specific point with a message\n",
    "    \n",
    "* To commit the added files in your Git repository use the command `git commit -m MESSAGE` where `MESSAGE` is some informative information about the change you made\n"
   ]
  },
  {
   "cell_type": "markdown",
   "metadata": {},
   "source": [
    "## Pushing the Code\n",
    "* If you want to push your code back to GitHub, that is make the repository on GitHub match your local repository, use the command `git push <remote> <branch>`\n",
    "* If you cloned your code from GitHub, then GitHub will be set as the `origin`, so your command might be\n",
    "\n",
    "```bash\n",
    "git push origin master\n",
    "```\n",
    "\n",
    "* You can have multiple remote points, and multiple branches, but for this course, they shouldn't be needed"
   ]
  },
  {
   "cell_type": "markdown",
   "metadata": {},
   "source": [
    "## Working Across Computers\n",
    "* If you want to work on the same code across multile computers, thats fine!\n",
    "* First clone the repository to the computers to want to work on\n",
    "* After committing some changes and pushing them back to GitHub on computer A, you need to update computer B's repository\n",
    "    * This is accomplished using the command `git pull origin`"
   ]
  },
  {
   "cell_type": "markdown",
   "metadata": {},
   "source": [
    "##  Merges\n",
    "* Git does it best to merge files together when multiple people have made changes on them\n",
    "* Sometimes it is hard to figure out how to merge, and it will leave conflicts in your code\n",
    "* To fix a conflict, edit the conflicted files, and add them again using `git add`\n",
    "    + I don't expect conflicts to be an issue in this class"
   ]
  }
 ],
 "metadata": {
  "kernelspec": {
   "display_name": "Python 3",
   "language": "python",
   "name": "python3"
  },
  "language_info": {
   "codemirror_mode": {
    "name": "ipython",
    "version": 3
   },
   "file_extension": ".py",
   "mimetype": "text/x-python",
   "name": "python",
   "nbconvert_exporter": "python",
   "pygments_lexer": "ipython3",
   "version": "3.5.2"
  },
  "toc": {
   "nav_menu": {},
   "number_sections": false,
   "sideBar": true,
   "skip_h1_title": false,
   "toc_cell": false,
   "toc_position": {},
   "toc_section_display": "block",
   "toc_window_display": false
  }
 },
 "nbformat": 4,
 "nbformat_minor": 2
}

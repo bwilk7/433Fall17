{
 "cells": [
  {
   "cell_type": "markdown",
   "metadata": {
    "slideshow": {
     "slide_type": "slide"
    }
   },
   "source": [
    "# R\n",
    "\n",
    "## Packages and Graphics"
   ]
  },
  {
   "cell_type": "markdown",
   "metadata": {
    "slideshow": {
     "slide_type": "slide"
    }
   },
   "source": [
    "## Packages in R\n",
    "- Like most scripting languages, `R` has a very robust package ecosystem\n",
    "- To install a package in `R`, use the `install.packages` function, and pass the name of the function you want to install\n",
    "- Once a package is installed, you can use it by calling\n",
    "```\n",
    "    library(PACKAGE_NAME) #No QUOTES\n",
    "```"
   ]
  },
  {
   "cell_type": "markdown",
   "metadata": {
    "slideshow": {
     "slide_type": "slide"
    }
   },
   "source": [
    "## Package Documentation\n",
    "- Most major packages in R come with two forms of documentation\n",
    "    - The manual, which contains the same information that can be accessed through the `?` operator\n",
    "    - Vingettes, which is a more long form documentation, often written in the style of an academic paper\n",
    "- Example\n",
    "    - https://cran.r-project.org/web/packages/psych/psych.pdf\n",
    "    - https://cran.r-project.org/web/packages/psych/vignettes/intro.pdf\n",
    "    - https://cran.r-project.org/web/packages/psych/vignettes/overview.pdf\n",
    "    "
   ]
  },
  {
   "cell_type": "markdown",
   "metadata": {
    "slideshow": {
     "slide_type": "slide"
    }
   },
   "source": [
    "## CRAN\n",
    "- So where do the packages come from when we perform `install.packages`?\n",
    "- By default the come from CRAN the Comprehensive R Archive Network\n",
    "    - Most scripting languages have an equivalent, often named similarly (CTAN, CPAN)\n",
    "- Other package repositories exist and can be used, but if you are using a popular package, it is probably published on CRAN"
   ]
  },
  {
   "cell_type": "markdown",
   "metadata": {
    "slideshow": {
     "slide_type": "slide"
    }
   },
   "source": [
    "## Finding Pacakges\n",
    "- CRAN is great at hosting packages\n",
    "    - Not great at helping you find packages\n",
    "- Numerous third party websites exist to help you find a package to accomplish something\n",
    "    - My personal favorite is https://crantastic.org/"
   ]
  },
  {
   "cell_type": "markdown",
   "metadata": {
    "slideshow": {
     "slide_type": "slide"
    }
   },
   "source": [
    "## TidyData\n",
    "- There are many ways to represent data in a data frame, and due to the history of R, almost all of them are use\n",
    "- Recently there has been a push to create commonsense conventions, known as having \"Tidy Data\"\n",
    "- Hadley Wickham (Major player in R and the tidy data movement) defines tidy data as \n",
    "    - Each variable is in a column.\n",
    "    - Each observation is a row.\n",
    "    - Each value is a cell.\n"
   ]
  },
  {
   "cell_type": "markdown",
   "metadata": {
    "slideshow": {
     "slide_type": "slide"
    }
   },
   "source": [
    "## TidyR\n",
    "- To promote and enable this, the package TidyR was released\n",
    "- It was spawned an entire family of packages, collectively known as the tidyverse\n",
    "    - You can install just tidyR by using install.packages('tidyR')\n",
    "    - The entire family can be installed with install.packages('tidyverse')\n",
    "- It contains many functions meant to manipulate data into a tidy form"
   ]
  },
  {
   "cell_type": "markdown",
   "metadata": {
    "slideshow": {
     "slide_type": "slide"
    }
   },
   "source": [
    "## The Pipe Operator\n",
    "- `TidyR` is commonly presented using the operator `%>%`, which comes from an earlier package, `magrittr`\n",
    "    - It is very similar to the pipe in bash, passing the output of one function as the first argument to the next function\n",
    "    - The following are eqiuvalent\n",
    "    \n",
    "```R\n",
    "apply(data,1,function)\n",
    "      \n",
    "data %>% apply(1,function)\n",
    "```"
   ]
  },
  {
   "cell_type": "markdown",
   "metadata": {
    "slideshow": {
     "slide_type": "slide"
    }
   },
   "source": [
    "## Spreading\n",
    "- The `spread` function converts from long data to wide data\n",
    "- The syntax of the `spread` function is\n",
    "```R\n",
    "    spread(data,key,value)\n",
    "```\n",
    "    - Key is the column you want to use to form your new columns\n",
    "    - Value is the column you want to use to fill the cells"
   ]
  },
  {
   "cell_type": "code",
   "execution_count": null,
   "metadata": {
    "slideshow": {
     "slide_type": "slide"
    }
   },
   "outputs": [],
   "source": [
    "library(DSR)\n",
    "long <- table2\n",
    "extra_wide_cases <- table4\n",
    "combined <- table5"
   ]
  },
  {
   "cell_type": "code",
   "execution_count": null,
   "metadata": {
    "slideshow": {
     "slide_type": "slide"
    }
   },
   "outputs": [],
   "source": [
    "library(tidyr)\n",
    "print(as.data.frame(spread(long,?,?)))"
   ]
  },
  {
   "cell_type": "markdown",
   "metadata": {
    "slideshow": {
     "slide_type": "slide"
    }
   },
   "source": [
    "## Gathering\n",
    "- Gathering is the opposite of spread\n",
    "    - While it is uncommon to need this, it is possible someone made a data frame where not every column is a variable, and you need to collapse things a bit\n",
    "```R\n",
    "    gather(data, COLUMN_NAME1, COLUMN_NAME2, cols_to_gather)\n",
    "```"
   ]
  },
  {
   "cell_type": "code",
   "execution_count": null,
   "metadata": {
    "slideshow": {
     "slide_type": "slide"
    }
   },
   "outputs": [],
   "source": [
    "gathered_cases <- extra_wide_cases %>% gather(\"Year\",\"Cases\",2:3)\n",
    "print(gathered_cases)"
   ]
  },
  {
   "cell_type": "markdown",
   "metadata": {
    "slideshow": {
     "slide_type": "slide"
    }
   },
   "source": [
    "## Separating and Uniting\n",
    "- Separating and Uniting allows us to create multiple columns from one, or bring together columns that should never has been separated\n",
    "```R\n",
    "    separate(data,col_to_separate,new_columns)\n",
    "    unite(data,col_to_add, from_columns)\n",
    "```"
   ]
  },
  {
   "cell_type": "code",
   "execution_count": null,
   "metadata": {
    "slideshow": {
     "slide_type": "slide"
    }
   },
   "outputs": [],
   "source": [
    "print(combined)\n",
    "all_good <- combined %>% unite(\"year\",?) %>% separate(?,?)\n",
    "print(all_good)"
   ]
  },
  {
   "cell_type": "markdown",
   "metadata": {},
   "source": [
    "## DplyR\n",
    "- DplyR is another package in the tidyverse\n",
    "    - Improves upon earlier packaged named `plyr`, which allowed easy manipulation of data\n",
    "    - Specifically designed to use with data frames\n",
    "- Just like TidyR, commonly uses pipes\n",
    "- All functions are verbs\n"
   ]
  },
  {
   "cell_type": "markdown",
   "metadata": {
    "slideshow": {
     "slide_type": "slide"
    }
   },
   "source": [
    "## Selecting Data\n",
    "- DplyR contains two functions to select data\n",
    "    - Select selects columns/variables\n",
    "    - Filter selects rows/observations\n",
    "- Both of these can take a list of names, but they are more useful with built-in functions in DplyR\n",
    "    - endsWith\n",
    "    - startsWith\n",
    "    - contains\n",
    "    - one_of"
   ]
  },
  {
   "cell_type": "code",
   "execution_count": null,
   "metadata": {
    "slideshow": {
     "slide_type": "slide"
    }
   },
   "outputs": [],
   "source": [
    "library(dplyr)\n",
    "starwars <- as.data.frame(starwars)\n",
    "row.names(starwars) <- starwars$name\n",
    "print(starwars)"
   ]
  },
  {
   "cell_type": "code",
   "execution_count": null,
   "metadata": {
    "slideshow": {
     "slide_type": "slide"
    }
   },
   "outputs": [],
   "source": [
    "## Standard Boring Select\n",
    "select(starwars,hair_color,skin_color, eye_color)"
   ]
  },
  {
   "cell_type": "code",
   "execution_count": null,
   "metadata": {
    "slideshow": {
     "slide_type": "slide"
    }
   },
   "outputs": [],
   "source": [
    "##  Select with Pipes and Ends_with\n",
    "starwars %>% select(ends_with('color'))"
   ]
  },
  {
   "cell_type": "code",
   "execution_count": null,
   "metadata": {
    "slideshow": {
     "slide_type": "slide"
    }
   },
   "outputs": [],
   "source": [
    "starwars %>% select(-name)"
   ]
  },
  {
   "cell_type": "code",
   "execution_count": null,
   "metadata": {},
   "outputs": [],
   "source": [
    "starwars %>% filter(species != \"Human\")"
   ]
  },
  {
   "cell_type": "code",
   "execution_count": null,
   "metadata": {},
   "outputs": [],
   "source": [
    "starwars %>% filter(species %in% c('Wookiee','Ewok'))"
   ]
  },
  {
   "cell_type": "markdown",
   "metadata": {
    "slideshow": {
     "slide_type": "slide"
    }
   },
   "source": [
    "## Adding or Changing Variables\n",
    "- The `mutate` and `transmute` functions are used to add new variables as well as update existing ones\n",
    "    - `mutate` does not drop old variables\n",
    "    - `transmute` drops everything except those in the function call"
   ]
  },
  {
   "cell_type": "code",
   "execution_count": null,
   "metadata": {
    "slideshow": {
     "slide_type": "slide"
    }
   },
   "outputs": [],
   "source": [
    "starwars %>% mutate( height = height * 0.393701)"
   ]
  },
  {
   "cell_type": "code",
   "execution_count": null,
   "metadata": {
    "slideshow": {
     "slide_type": "slide"
    }
   },
   "outputs": [],
   "source": [
    "starwars %>% transmute( height = height * 0.393701)"
   ]
  },
  {
   "cell_type": "code",
   "execution_count": null,
   "metadata": {
    "slideshow": {
     "slide_type": "slide"
    }
   },
   "outputs": [],
   "source": [
    "starwars %>% filter(species %in% c('Wookiee','Ewok')) %>% mutate( height = height * 0.393701)"
   ]
  },
  {
   "cell_type": "markdown",
   "metadata": {
    "slideshow": {
     "slide_type": "slide"
    }
   },
   "source": [
    "## Summarizing and Counting\n",
    "- In general, to perform an action over a dataframe, use the summarize function\n",
    "    - `summarize` takes in as its parameters other functions that do the calculations\n",
    "    - The parameters to these inner functions should be the columns you want summarized\n",
    "    - Multiple summaries can be computed with one call to `summarize`\n",
    "- If all you want to do is count the frequency of values in certain column, use the `count` function and pass a column to count"
   ]
  },
  {
   "cell_type": "code",
   "execution_count": null,
   "metadata": {
    "slideshow": {
     "slide_type": "slide"
    }
   },
   "outputs": [],
   "source": [
    "print(starwars %>% summarize(n_distinct(species)))"
   ]
  },
  {
   "cell_type": "code",
   "execution_count": null,
   "metadata": {
    "slideshow": {
     "slide_type": "slide"
    }
   },
   "outputs": [],
   "source": [
    "species_counts <- starwars %>% count(species)\n",
    "print(as.data.frame(species_counts))"
   ]
  },
  {
   "cell_type": "code",
   "execution_count": null,
   "metadata": {
    "slideshow": {
     "slide_type": "slide"
    }
   },
   "outputs": [],
   "source": [
    "species_counts <- starwars %>% count(species,sort=TRUE)\n",
    "print(as.data.frame(species_counts))"
   ]
  },
  {
   "cell_type": "code",
   "execution_count": null,
   "metadata": {
    "slideshow": {
     "slide_type": "slide"
    }
   },
   "outputs": [],
   "source": [
    "species_counts <- starwars %>% count(species,homeworld,sort=TRUE)\n",
    "print(as.data.frame(species_counts))"
   ]
  },
  {
   "cell_type": "markdown",
   "metadata": {
    "slideshow": {
     "slide_type": "slide"
    }
   },
   "source": [
    "## Group By\n",
    "- The `group_by` function allows rows to be grouped based on their values in the given columns or columns\n",
    "- This makes finding averages and other summary data per group very easy\n",
    "```R\n",
    "group_by(data,LIST_OF_COLUMNS)\n",
    "```"
   ]
  },
  {
   "cell_type": "code",
   "execution_count": null,
   "metadata": {
    "slideshow": {
     "slide_type": "slide"
    }
   },
   "outputs": [],
   "source": [
    "print(starwars %>% group_by(species,homeworld) %>% summarize(avg_height = mean(height)))"
   ]
  },
  {
   "cell_type": "code",
   "execution_count": null,
   "metadata": {
    "slideshow": {
     "slide_type": "slide"
    }
   },
   "outputs": [],
   "source": [
    "print(starwars %>% \n",
    "                  group_by(species,homeworld) %>% \n",
    "                      summarize(avg_height = mean(height), min_height=min(height)))"
   ]
  },
  {
   "cell_type": "markdown",
   "metadata": {
    "slideshow": {
     "slide_type": "slide"
    }
   },
   "source": [
    "## Combining Data Tables\n",
    "- The various `join` functions offer database like functionality\n",
    "    - Matching rows are joined together with their columns\n",
    "    - Matching is done by default on any common variables, but can be specified\n",
    "- `bind_rows` and `bind_columns` offer a simpler concatenation style combination\n",
    "    - Matches by position always"
   ]
  },
  {
   "cell_type": "code",
   "execution_count": null,
   "metadata": {
    "slideshow": {
     "slide_type": "slide"
    }
   },
   "outputs": [],
   "source": [
    "print(band_members)"
   ]
  },
  {
   "cell_type": "code",
   "execution_count": null,
   "metadata": {},
   "outputs": [],
   "source": [
    "print(band_instruments)"
   ]
  },
  {
   "cell_type": "code",
   "execution_count": null,
   "metadata": {
    "slideshow": {
     "slide_type": "slide"
    }
   },
   "outputs": [],
   "source": [
    "print(full_join(band_members,band_instruments))"
   ]
  },
  {
   "cell_type": "code",
   "execution_count": null,
   "metadata": {
    "slideshow": {
     "slide_type": "slide"
    }
   },
   "outputs": [],
   "source": [
    "print(inner_join(band_members,band_instruments))"
   ]
  },
  {
   "cell_type": "code",
   "execution_count": null,
   "metadata": {
    "slideshow": {
     "slide_type": "slide"
    }
   },
   "outputs": [],
   "source": [
    "print(left_join(band_members,band_instruments))"
   ]
  },
  {
   "cell_type": "code",
   "execution_count": null,
   "metadata": {
    "slideshow": {
     "slide_type": "slide"
    }
   },
   "outputs": [],
   "source": [
    "print(right_join(band_members,band_instruments))"
   ]
  },
  {
   "cell_type": "code",
   "execution_count": null,
   "metadata": {
    "slideshow": {
     "slide_type": "slide"
    }
   },
   "outputs": [],
   "source": [
    "print(band_instruments2)"
   ]
  },
  {
   "cell_type": "code",
   "execution_count": null,
   "metadata": {
    "slideshow": {
     "slide_type": "slide"
    }
   },
   "outputs": [],
   "source": [
    "print(full_join(band_members,band_instruments2,by=c(\"name\" = \"artist\")))"
   ]
  },
  {
   "cell_type": "code",
   "execution_count": null,
   "metadata": {
    "slideshow": {
     "slide_type": "slide"
    }
   },
   "outputs": [],
   "source": [
    "print(bind_cols(band_members,band_members))"
   ]
  },
  {
   "cell_type": "code",
   "execution_count": null,
   "metadata": {
    "slideshow": {
     "slide_type": "slide"
    }
   },
   "outputs": [],
   "source": [
    "print(bind_rows(band_members,band_members))"
   ]
  },
  {
   "cell_type": "markdown",
   "metadata": {
    "slideshow": {
     "slide_type": "slide"
    }
   },
   "source": [
    "## ggplot2\n",
    "- R has long supported creating graphs from data, but the process was often messy and confusing\n",
    "- `ggplot2` is a widely used package that standardizes how graphs are created\n",
    "    - Based on the Grammar of Graphics, a language independent theory on how graphs should be created\n",
    "    - A very large community with lots of extensions and enhancements available\n",
    "    - Works directly on data frames"
   ]
  },
  {
   "cell_type": "markdown",
   "metadata": {
    "slideshow": {
     "slide_type": "slide"
    }
   },
   "source": [
    "## The `ggplot` function\n",
    "- The `ggplot` function sets up the basics for our graph, including which data frame to use, and how to use it\n",
    "```R\n",
    "ggplot(data_frame,aes(AESTHETICS))\n",
    "```\n",
    "- Aesthetics are what we see are the graph, and are defined using data frame columns\n",
    "    - x and y position\n",
    "    - color\n",
    "    - shape"
   ]
  },
  {
   "cell_type": "code",
   "execution_count": null,
   "metadata": {
    "slideshow": {
     "slide_type": "slide"
    }
   },
   "outputs": [],
   "source": [
    "library(ggplot2)\n",
    "ggplot(starwars,aes(x=height,y=mass))"
   ]
  },
  {
   "cell_type": "markdown",
   "metadata": {
    "slideshow": {
     "slide_type": "slide"
    }
   },
   "source": [
    "## Geometries\n",
    "- The base `ggplot` function sets up the graph and creates a ggplot object, but doesn't produce anything visually\n",
    "- We need to specify how we want to display our data using geometries\n",
    "    - geom_point\n",
    "    - geom_boxplot\n",
    "    - geom_histogram\n",
    "    - geom_dist\n",
    "- Geometries, and every other specification in ggplot2 is done by adding to the original ggplot call"
   ]
  },
  {
   "cell_type": "code",
   "execution_count": null,
   "metadata": {
    "slideshow": {
     "slide_type": "slide"
    }
   },
   "outputs": [],
   "source": [
    "ggplot(starwars,aes(x=height,y=mass)) + geom_point()"
   ]
  },
  {
   "cell_type": "code",
   "execution_count": null,
   "metadata": {
    "slideshow": {
     "slide_type": "slide"
    }
   },
   "outputs": [],
   "source": [
    "ggplot(starwars,aes(x=height,y=mass)) + geom_histogram()"
   ]
  },
  {
   "cell_type": "code",
   "execution_count": null,
   "metadata": {
    "slideshow": {
     "slide_type": "slide"
    }
   },
   "outputs": [],
   "source": [
    "ggplot(starwars) + geom_histogram(aes(height)) + geom_histogram(aes(mass))"
   ]
  },
  {
   "cell_type": "code",
   "execution_count": null,
   "metadata": {
    "slideshow": {
     "slide_type": "slide"
    }
   },
   "outputs": [],
   "source": [
    "ggplot(starwars) + geom_histogram(aes(height),fill=\"blue\") + geom_histogram(aes(mass))"
   ]
  },
  {
   "cell_type": "code",
   "execution_count": null,
   "metadata": {
    "slideshow": {
     "slide_type": "slide"
    }
   },
   "outputs": [],
   "source": [
    "ggplot(starwars,aes(x=height,y=mass,color=species)) + geom_point()"
   ]
  },
  {
   "cell_type": "code",
   "execution_count": null,
   "metadata": {
    "slideshow": {
     "slide_type": "slide"
    }
   },
   "outputs": [],
   "source": [
    "interesting <- (starwars %>% \n",
    "         filter(!is.na(species)) %>%\n",
    "             group_by(species) %>% \n",
    "             summarize(count = n()) %>% \n",
    "             filter(count > 2))$species\n",
    "to_vis <- starwars %>% \n",
    "    filter(species %in% interesting)"
   ]
  },
  {
   "cell_type": "code",
   "execution_count": null,
   "metadata": {
    "slideshow": {
     "slide_type": "slide"
    }
   },
   "outputs": [],
   "source": [
    "base_plot <- ggplot(to_vis,aes(x=species,fill=species,y=height))\n",
    "base_plot + geom_violin()"
   ]
  },
  {
   "cell_type": "markdown",
   "metadata": {
    "slideshow": {
     "slide_type": "slide"
    }
   },
   "source": [
    "## Modifying Other Aspects\n",
    "- `ggplot` has a function for almost every aspect of a graphs appearance\n",
    "- To add titles, use the functions\n",
    "    - xlabs, ylabs, ggtitle, labs\n",
    "- To modify area shown, use\n",
    "    - xlim, ylim, lims\n",
    "- To modify colors use one of the `scale_` functions"
   ]
  },
  {
   "cell_type": "code",
   "execution_count": null,
   "metadata": {
    "slideshow": {
     "slide_type": "slide"
    }
   },
   "outputs": [],
   "source": [
    "base_plot2 <- ggplot(starwars,aes(x=mass,y=height,,color=species))\n",
    "scatter <- base_plot2 + geom_point()\n",
    "plot(scatter)"
   ]
  },
  {
   "cell_type": "code",
   "execution_count": null,
   "metadata": {
    "slideshow": {
     "slide_type": "slide"
    }
   },
   "outputs": [],
   "source": [
    "scatter + ggtitle(\"Height vs Mass of Starwars Characters\")"
   ]
  },
  {
   "cell_type": "code",
   "execution_count": null,
   "metadata": {
    "slideshow": {
     "slide_type": "slide"
    }
   },
   "outputs": [],
   "source": [
    "scatter + labs(title=\"Height vs Mass of Starwars Characters\",x=\"Mass (kg)\",y=\"Height (cm)\")"
   ]
  },
  {
   "cell_type": "code",
   "execution_count": null,
   "metadata": {
    "slideshow": {
     "slide_type": "slide"
    }
   },
   "outputs": [],
   "source": [
    "scatter + labs(title=\"Height vs Mass of Starwars Characters\",x=\"Mass (kg)\",y=\"Height (cm)\") + xlim(0,175) "
   ]
  },
  {
   "cell_type": "code",
   "execution_count": null,
   "metadata": {
    "slideshow": {
     "slide_type": "slide"
    }
   },
   "outputs": [],
   "source": [
    "scatter + labs(title=\"Height vs Mass of Starwars Characters\",x=\"Mass (kg)\",y=\"Height (cm)\") + xlim(0,175) +\n",
    "guides(color=guide_legend(title=\"Species\"))"
   ]
  },
  {
   "cell_type": "code",
   "execution_count": null,
   "metadata": {
    "slideshow": {
     "slide_type": "slide"
    }
   },
   "outputs": [],
   "source": [
    "scatter + labs(title=\"Height vs Mass of Starwars Characters\",x=\"Mass (kg)\",y=\"Height (cm)\") + xlim(0,175) +\n",
    "guides(color=guide_legend(title=\"Species\")) + scale_colour_brewer(palette = \"Spectral\")"
   ]
  },
  {
   "cell_type": "markdown",
   "metadata": {
    "slideshow": {
     "slide_type": "slide"
    }
   },
   "source": [
    "## Themes\n",
    "- Themes allow you to control things like font, gridline color, etc.\n",
    "- The elements of the theme can be modified by using the `theme` function and passing the appropriate parameters\n",
    "- More common is to download or use an existing theme, and add it to your plot using `+ theme_NAME`"
   ]
  },
  {
   "cell_type": "code",
   "execution_count": null,
   "metadata": {
    "slideshow": {
     "slide_type": "slide"
    }
   },
   "outputs": [],
   "source": [
    "library(ggthemes)\n",
    "almost_finished <- scatter + labs(title=\"Height vs Mass of Starwars Characters\",x=\"Mass (kg)\",y=\"Height (cm)\") + \n",
    "xlim(0,175) + guides(color=guide_legend(title=\"Species\"))\n",
    "almost_finished + theme_fivethirtyeight()"
   ]
  },
  {
   "cell_type": "code",
   "execution_count": null,
   "metadata": {
    "slideshow": {
     "slide_type": "slide"
    }
   },
   "outputs": [],
   "source": [
    "almost_finished + theme_wsj()"
   ]
  },
  {
   "cell_type": "code",
   "execution_count": null,
   "metadata": {
    "slideshow": {
     "slide_type": "slide"
    }
   },
   "outputs": [],
   "source": [
    "almost_finished + theme_economist()"
   ]
  },
  {
   "cell_type": "code",
   "execution_count": null,
   "metadata": {
    "slideshow": {
     "slide_type": "slide"
    }
   },
   "outputs": [],
   "source": [
    "almost_finished + theme_tufte()"
   ]
  },
  {
   "cell_type": "code",
   "execution_count": null,
   "metadata": {
    "slideshow": {
     "slide_type": "slide"
    }
   },
   "outputs": [],
   "source": []
  }
 ],
 "metadata": {
  "celltoolbar": "Slideshow",
  "kernelspec": {
   "display_name": "R",
   "language": "R",
   "name": "ir"
  },
  "language_info": {
   "codemirror_mode": "r",
   "file_extension": ".r",
   "mimetype": "text/x-r-source",
   "name": "R",
   "pygments_lexer": "r",
   "version": "3.3.2"
  }
 },
 "nbformat": 4,
 "nbformat_minor": 2
}

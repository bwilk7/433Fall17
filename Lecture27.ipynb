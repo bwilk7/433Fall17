{
 "cells": [
  {
   "cell_type": "markdown",
   "metadata": {
    "slideshow": {
     "slide_type": "slide"
    }
   },
   "source": [
    "# Ruby"
   ]
  },
  {
   "cell_type": "markdown",
   "metadata": {
    "slideshow": {
     "slide_type": "slide"
    }
   },
   "source": [
    "## Intro\n",
    "- Ruby was first released in 1995 by Yukihiro \"Matz\" Matsumoto\n",
    "    - It took several years to gain popularity outside of Japan\n",
    "- In 2004, Ruby's popularity increased with the release of the Rails package\n",
    "- Current version is 2.5.0"
   ]
  },
  {
   "cell_type": "markdown",
   "metadata": {
    "slideshow": {
     "slide_type": "slide"
    }
   },
   "source": [
    "## Technical Details\n",
    "- Is a scripting language\n",
    "- Is very object oriented\n",
    "    - Everything is an object!\n",
    "- The original interpreter was replaced with YARV (Yet another Ruby VM) in 2009\n",
    "    - Lead to a large performance boost\n",
    "- Great support for both text processing as well as interacting with the OS"
   ]
  },
  {
   "cell_type": "markdown",
   "metadata": {
    "slideshow": {
     "slide_type": "slide"
    }
   },
   "source": [
    "## Popular Projects in Ruby\n",
    "- Ruby on Rails\n",
    "    - A popular web framework, an alternative to PHP\n",
    "- GitHub's Linguist\n",
    "    - The code responsible for determing the language a file is written in\n",
    "- Homebrew\n",
    "    - A Linux style package manager available for MacOS\n",
    "- Vagrant\n",
    "    - Software to manage VMs"
   ]
  },
  {
   "cell_type": "markdown",
   "metadata": {
    "slideshow": {
     "slide_type": "slide"
    }
   },
   "source": [
    "## Running Ruby\n",
    "- Ruby is run differently depending on if it is interactive or batch mode\n",
    "- The interactive ruby interpreter is launched using the command `irb`\n",
    "- To run an existing file, use the `ruby` command\n",
    "    - Files usually end in `.rb`"
   ]
  },
  {
   "cell_type": "markdown",
   "metadata": {
    "slideshow": {
     "slide_type": "slide"
    }
   },
   "source": [
    "## Integers\n",
    "- Everything is an object!! Including integers\n",
    "```ruby\n",
    "5.+(4) == 5 + 4\n",
    "```\n",
    "- There are two integer types, Ruby will switch between them as needed\n",
    "    - Fixnum\n",
    "    - Bignum"
   ]
  },
  {
   "cell_type": "code",
   "execution_count": null,
   "metadata": {
    "slideshow": {
     "slide_type": "slide"
    }
   },
   "outputs": [],
   "source": [
    "5.+(4) == 5 + 4"
   ]
  },
  {
   "cell_type": "code",
   "execution_count": null,
   "metadata": {},
   "outputs": [],
   "source": [
    "5.class"
   ]
  },
  {
   "cell_type": "code",
   "execution_count": null,
   "metadata": {
    "slideshow": {
     "slide_type": "slide"
    }
   },
   "outputs": [],
   "source": [
    "alot = 200 ** 200\n",
    "puts alot\n",
    "puts alot.class"
   ]
  },
  {
   "cell_type": "markdown",
   "metadata": {
    "slideshow": {
     "slide_type": "slide"
    }
   },
   "source": [
    "## Integer Methods\n",
    "- There is no decrement or increment method, so code needs to use something like\n",
    "```ruby\n",
    "counter += 1\n",
    "counter = counter.next\n",
    "```\n",
    "- Conversion methods\n",
    "    - `5.to_s`\n",
    "    - `5.to_f`\n",
    "- Common mathemetical methods\n",
    "    - `.abs`\n",
    "    - `.even?`\n",
    "    - `5[0]`"
   ]
  },
  {
   "cell_type": "code",
   "execution_count": null,
   "metadata": {
    "slideshow": {
     "slide_type": "slide"
    }
   },
   "outputs": [],
   "source": [
    "10.next"
   ]
  },
  {
   "cell_type": "code",
   "execution_count": null,
   "metadata": {},
   "outputs": [],
   "source": [
    "-1.abs()"
   ]
  },
  {
   "cell_type": "code",
   "execution_count": null,
   "metadata": {},
   "outputs": [],
   "source": [
    "puts 1.even?\n",
    "puts 2.even?"
   ]
  },
  {
   "cell_type": "code",
   "execution_count": null,
   "metadata": {
    "slideshow": {
     "slide_type": "slide"
    }
   },
   "outputs": [],
   "source": [
    "print 5[0], 5[1], 5[2]"
   ]
  },
  {
   "cell_type": "code",
   "execution_count": null,
   "metadata": {},
   "outputs": [],
   "source": [
    "print 4[0], 4[1], 4[2]"
   ]
  },
  {
   "cell_type": "markdown",
   "metadata": {
    "slideshow": {
     "slide_type": "slide"
    }
   },
   "source": [
    "## Floats\n",
    "- Floats in Ruby are double precision, so they  can overflow\n",
    "- Most standard mathematicl methods are available\n",
    "    - `10.50.ceil`\n",
    "    - `10.50.round`\n",
    "    - `10.50.to_i`\n",
    "    - `10.50.to_r`"
   ]
  },
  {
   "cell_type": "code",
   "execution_count": null,
   "metadata": {
    "slideshow": {
     "slide_type": "slide"
    }
   },
   "outputs": [],
   "source": [
    "10.50.to_i"
   ]
  },
  {
   "cell_type": "code",
   "execution_count": null,
   "metadata": {},
   "outputs": [],
   "source": [
    "10.5.to_r"
   ]
  },
  {
   "cell_type": "code",
   "execution_count": null,
   "metadata": {},
   "outputs": [],
   "source": [
    "10.49.round"
   ]
  },
  {
   "cell_type": "code",
   "execution_count": null,
   "metadata": {},
   "outputs": [],
   "source": [
    "10.49.ceil"
   ]
  },
  {
   "cell_type": "markdown",
   "metadata": {
    "slideshow": {
     "slide_type": "slide"
    }
   },
   "source": [
    "## Strings\n",
    "- Strings can be single or double quotes\n",
    "    - Single quotes strings don't evaluate escapes like \\n, etc.\n",
    "- Variable interpolation is available in double quoted strings only\n",
    "    - The syntax is `#{varname}`\n",
    "- Many string methods exist in two forms\n",
    "    - Those that return a string are named normally\n",
    "    - Those that modify the string in place have a `!` at the end of the method name"
   ]
  },
  {
   "cell_type": "code",
   "execution_count": null,
   "metadata": {
    "slideshow": {
     "slide_type": "slide"
    }
   },
   "outputs": [],
   "source": [
    "str = \"A string. A nother\"\n",
    "int = 10"
   ]
  },
  {
   "cell_type": "code",
   "execution_count": null,
   "metadata": {},
   "outputs": [],
   "source": [
    "str.upcase"
   ]
  },
  {
   "cell_type": "code",
   "execution_count": null,
   "metadata": {},
   "outputs": [],
   "source": [
    "str.capitalize"
   ]
  },
  {
   "cell_type": "code",
   "execution_count": null,
   "metadata": {
    "slideshow": {
     "slide_type": "slide"
    }
   },
   "outputs": [],
   "source": [
    "str.downcase!\n",
    "puts str"
   ]
  },
  {
   "cell_type": "code",
   "execution_count": null,
   "metadata": {},
   "outputs": [],
   "source": [
    "str.length"
   ]
  },
  {
   "cell_type": "code",
   "execution_count": null,
   "metadata": {},
   "outputs": [],
   "source": [
    "str.ascii_only?"
   ]
  },
  {
   "cell_type": "code",
   "execution_count": null,
   "metadata": {
    "slideshow": {
     "slide_type": "slide"
    }
   },
   "outputs": [],
   "source": [
    "puts \"      soooo many spacess and        such\".squeeze\n",
    "puts \"      soooo many spacess and        such\".squeeze(\" s\")"
   ]
  },
  {
   "cell_type": "code",
   "execution_count": null,
   "metadata": {},
   "outputs": [],
   "source": [
    "puts str.include?(\"ri\")\n",
    "puts str.include?(\"ro\")"
   ]
  },
  {
   "cell_type": "code",
   "execution_count": null,
   "metadata": {
    "slideshow": {
     "slide_type": "slide"
    }
   },
   "outputs": [],
   "source": [
    "puts \"Hello, you are #{str}\"\n",
    "puts \"Hello, you are #{str.upcase}\"\n",
    "puts \"Hello you are a float now: #{int.to_f}\""
   ]
  },
  {
   "cell_type": "markdown",
   "metadata": {
    "slideshow": {
     "slide_type": "slide"
    }
   },
   "source": [
    "## Arrays\n",
    "- Arrays are Ruby's list type\n",
    "    - They are heterogenous\n",
    "- They can be created using the `Array` constructor\n",
    " ```ruby\n",
    "Array.new(capacitiy,initial)\n",
    "```\n",
    "- The shortcut syntax to initialize an array is\n",
    "```\n",
    "    var = [1, 2, 3, 4]\n",
    "```"
   ]
  },
  {
   "cell_type": "markdown",
   "metadata": {
    "slideshow": {
     "slide_type": "slide"
    }
   },
   "source": [
    "## Array Indexing\n",
    "- Ruby supports negative indexing from the end of the array\n",
    "- Ruby also has two ways to get a subsection of the list\n",
    "    - `array[index,howmany]`\n",
    "    - `array[start..end]`\n",
    "        - Must have a value for `end`, could be `-1`\n",
    "    "
   ]
  },
  {
   "cell_type": "code",
   "execution_count": null,
   "metadata": {
    "slideshow": {
     "slide_type": "slide"
    }
   },
   "outputs": [],
   "source": [
    "arr = [10,20,4,6,7,1,20,0,nil]\n",
    "puts arr[0]\n",
    "puts arr[-2]"
   ]
  },
  {
   "cell_type": "code",
   "execution_count": null,
   "metadata": {
    "slideshow": {
     "slide_type": "-"
    }
   },
   "outputs": [],
   "source": [
    "puts arr[1,2]\n",
    "puts arr[4,1]"
   ]
  },
  {
   "cell_type": "code",
   "execution_count": null,
   "metadata": {
    "slideshow": {
     "slide_type": "-"
    }
   },
   "outputs": [],
   "source": [
    "puts arr[0..2]\n",
    "puts arr[5..-1]"
   ]
  },
  {
   "cell_type": "markdown",
   "metadata": {
    "slideshow": {
     "slide_type": "slide"
    }
   },
   "source": [
    "## Array Methods\n",
    "- There are many many array methods\n",
    "- Common/Interesting ones are:\n",
    "    - `.push`/`.pop`\n",
    "    - `.compact` - removes `nil` elements\n",
    "    - `.uniq`\n",
    "    - `.inspect`"
   ]
  },
  {
   "cell_type": "code",
   "execution_count": null,
   "metadata": {
    "slideshow": {
     "slide_type": "slide"
    }
   },
   "outputs": [],
   "source": [
    "puts arr.compact"
   ]
  },
  {
   "cell_type": "code",
   "execution_count": null,
   "metadata": {},
   "outputs": [],
   "source": [
    "puts arr.uniq"
   ]
  },
  {
   "cell_type": "code",
   "execution_count": null,
   "metadata": {},
   "outputs": [],
   "source": [
    "puts arr.inspect"
   ]
  },
  {
   "cell_type": "markdown",
   "metadata": {
    "slideshow": {
     "slide_type": "slide"
    }
   },
   "source": [
    "## Set Operations\n",
    "- Arrays can also be used like sets, by applying set operations between two arrays\n",
    "    - & - Set Intersection\n",
    "    - | - Set Union\n",
    "- There is also the difference operator, but this isn't set difference"
   ]
  },
  {
   "cell_type": "code",
   "execution_count": null,
   "metadata": {
    "slideshow": {
     "slide_type": "slide"
    }
   },
   "outputs": [],
   "source": [
    "[1, 2, 4, 4] | [5, 6 ,7]"
   ]
  },
  {
   "cell_type": "code",
   "execution_count": null,
   "metadata": {},
   "outputs": [],
   "source": [
    "[1, 2, 4, 4] & [5 , 6, 7]"
   ]
  },
  {
   "cell_type": "code",
   "execution_count": null,
   "metadata": {},
   "outputs": [],
   "source": [
    "[1, 2, 4, 4] & [4, 10, 20]"
   ]
  },
  {
   "cell_type": "code",
   "execution_count": null,
   "metadata": {},
   "outputs": [],
   "source": [
    "[1 ,2 , 3 ,4 ,4 ] - [1]"
   ]
  },
  {
   "cell_type": "markdown",
   "metadata": {
    "slideshow": {
     "slide_type": "slide"
    }
   },
   "source": [
    "## Hashes\n",
    "- The associative array structure in Ruby is a hash\n",
    "- Can be declared using `Hash.new`, but is often initialized expclicitly\n",
    "```ruby\n",
    "    hash = {'key1' => 'val1' , 'key2' => 'val2', ....}\n",
    "```\n",
    "- The key can be any type \n",
    "- To set a default value for keys not in the hash, pass it as a paramter to the constructor"
   ]
  },
  {
   "cell_type": "code",
   "execution_count": null,
   "metadata": {
    "slideshow": {
     "slide_type": "slide"
    }
   },
   "outputs": [],
   "source": [
    "hash1 = {'google' => 'www.google.com', 'umbc' => 'umbc.edu', \n",
    "  'state of maryland' => 'md.gov'}\n",
    "hash2 = Hash.new(0)\n",
    "puts hash1\n",
    "puts hash2"
   ]
  },
  {
   "cell_type": "markdown",
   "metadata": {
    "slideshow": {
     "slide_type": "slide"
    }
   },
   "source": [
    "## Hashes\n",
    "- Indexing into hashes is done using square brackets (`[]`) like arrays\n",
    "- New keys can be added by using square brackets as well\n",
    "- Common hash methods\n",
    "    - `.keys`/ `.values`\n",
    "    - `.has_key?`\n",
    "    - `.delete`\n",
    "    - `.invert`"
   ]
  },
  {
   "cell_type": "code",
   "execution_count": null,
   "metadata": {
    "slideshow": {
     "slide_type": "slide"
    }
   },
   "outputs": [],
   "source": [
    "puts hash1['google']"
   ]
  },
  {
   "cell_type": "code",
   "execution_count": null,
   "metadata": {},
   "outputs": [],
   "source": [
    "puts hash1['something']"
   ]
  },
  {
   "cell_type": "code",
   "execution_count": null,
   "metadata": {},
   "outputs": [],
   "source": [
    "puts hash2['not_here']"
   ]
  },
  {
   "cell_type": "code",
   "execution_count": null,
   "metadata": {
    "slideshow": {
     "slide_type": "slide"
    }
   },
   "outputs": [],
   "source": [
    "puts hash1.keys"
   ]
  },
  {
   "cell_type": "code",
   "execution_count": null,
   "metadata": {},
   "outputs": [],
   "source": [
    "puts hash2.has_key?(\"not_here\")"
   ]
  },
  {
   "cell_type": "code",
   "execution_count": null,
   "metadata": {},
   "outputs": [],
   "source": [
    "hash2[\"not_here\"] = 10\n",
    "puts hash2.invert.inspect\n",
    "hash3 = hash2.invert\n",
    "puts hash3['missing']"
   ]
  },
  {
   "cell_type": "markdown",
   "metadata": {
    "slideshow": {
     "slide_type": "slide"
    }
   },
   "source": [
    "## Control Structures\n",
    "- If\n",
    "    - `then` is optional, but exists\n",
    "    - `elsif` \n",
    "- Case\n",
    "    - Uses keyword `case`\n",
    "    - Cases are denoted using `when`\n",
    "        - Can be any logical statement\n",
    "    "
   ]
  },
  {
   "cell_type": "code",
   "execution_count": null,
   "metadata": {
    "slideshow": {
     "slide_type": "slide"
    }
   },
   "outputs": [],
   "source": [
    "if 10 > 11 then puts \"HMMM\" else puts \"Seems good\" end"
   ]
  },
  {
   "cell_type": "code",
   "execution_count": null,
   "metadata": {
    "slideshow": {
     "slide_type": "slide"
    }
   },
   "outputs": [],
   "source": [
    "a = 1\n",
    "b = 2\n",
    "if a > b\n",
    "  puts \"#{a} is bigger than #{b}\"\n",
    "elsif a == b\n",
    "  puts \"#{a} equals #{b}\"\n",
    "else\n",
    "  puts \"#{a} is less than #{b}\"\n",
    "end"
   ]
  },
  {
   "cell_type": "code",
   "execution_count": null,
   "metadata": {
    "slideshow": {
     "slide_type": "slide"
    }
   },
   "outputs": [],
   "source": [
    "result = if a > b\n",
    "  \"#{a} is bigger than #{b}\"\n",
    "elsif a == b\n",
    "  \"#{a} equals #{b}\"\n",
    "else\n",
    "  \"#{a} is less than #{b}\"\n",
    "end\n",
    "\n",
    "puts \"I have compared #{a} and #{b} and have determined that #{result}\""
   ]
  },
  {
   "cell_type": "code",
   "execution_count": null,
   "metadata": {
    "slideshow": {
     "slide_type": "slide"
    }
   },
   "outputs": [],
   "source": [
    "case \"Hello\"\n",
    "  when /^A/\n",
    "    puts \"You start with an A\"\n",
    "  when /^H/\n",
    "    puts \"You start with an H\"\n",
    "  else\n",
    "    puts \"You start with something else\"\n",
    "end"
   ]
  },
  {
   "cell_type": "code",
   "execution_count": null,
   "metadata": {
    "slideshow": {
     "slide_type": "slide"
    }
   },
   "outputs": [],
   "source": [
    "number = 10\n",
    "case \n",
    "  when number % 2 == 0\n",
    "    puts \"#{number} is even\"\n",
    "  when number % 2 == 1\n",
    "    puts \"#{number} is odd\"\n",
    "end"
   ]
  },
  {
   "cell_type": "markdown",
   "metadata": {
    "slideshow": {
     "slide_type": "slide"
    }
   },
   "source": [
    "## For Loops\n",
    "- There is no count-based for loop in Ruby\n",
    "- The for-in loop takes its place, and it useful, but there is a much better solution in Ruby\n",
    "```ruby\n",
    "for var in array\n",
    "    #Do something\n",
    "end\n",
    "```"
   ]
  },
  {
   "cell_type": "code",
   "execution_count": null,
   "metadata": {
    "slideshow": {
     "slide_type": "slide"
    }
   },
   "outputs": [],
   "source": [
    "arr = [1,2,4,\"Thing\",nil]\n",
    "for el in arr\n",
    "  puts el\n",
    "end"
   ]
  },
  {
   "cell_type": "code",
   "execution_count": null,
   "metadata": {
    "slideshow": {
     "slide_type": "slide"
    }
   },
   "outputs": [],
   "source": [
    "hash = {'today' => \"Thursday\", \"tomorrow\" => \"Friday\"}\n",
    "for el in hash\n",
    "  puts el\n",
    "end"
   ]
  },
  {
   "cell_type": "code",
   "execution_count": null,
   "metadata": {
    "slideshow": {
     "slide_type": "slide"
    }
   },
   "outputs": [],
   "source": [
    "hash = {'today' => \"Thursday\", \"tomorrow\" => \"Friday\"}\n",
    "for k,v in hash\n",
    "  puts \"#{k.capitalize} is #{v}\"\n",
    "end"
   ]
  },
  {
   "cell_type": "markdown",
   "metadata": {
    "slideshow": {
     "slide_type": "slide"
    }
   },
   "source": [
    "## Iterators\n",
    "- Almost every object has at least one method that is an interator\n",
    "- This is a special method that you can provide a block of code to\n",
    "    - The block can be one line between curly braces\n",
    "    - Can be multiple lines, denoted by `do |vars| ... end`"
   ]
  },
  {
   "cell_type": "markdown",
   "metadata": {
    "slideshow": {
     "slide_type": "slide"
    }
   },
   "source": [
    "## Common Iterators\n",
    "- Intengers\n",
    "    - `.times`\n",
    "    - `.upto`/`.downto`\n",
    "    \n",
    "- Arrays and Hashes\n",
    "    - `.each`\n",
    "    \n",
    "- Strings\n",
    "    - `.each_line`\n",
    "    - `.each_char`"
   ]
  },
  {
   "cell_type": "code",
   "execution_count": null,
   "metadata": {
    "slideshow": {
     "slide_type": "slide"
    }
   },
   "outputs": [],
   "source": [
    "5.times {puts \"Hi\"}"
   ]
  },
  {
   "cell_type": "code",
   "execution_count": null,
   "metadata": {
    "slideshow": {
     "slide_type": "slide"
    }
   },
   "outputs": [],
   "source": [
    "5.upto(10) do |i|\n",
    "  puts i * i\n",
    "end"
   ]
  },
  {
   "cell_type": "code",
   "execution_count": null,
   "metadata": {
    "slideshow": {
     "slide_type": "slide"
    }
   },
   "outputs": [],
   "source": [
    "5.downto(10) do |i|\n",
    "  puts i * i\n",
    "end"
   ]
  },
  {
   "cell_type": "code",
   "execution_count": null,
   "metadata": {
    "slideshow": {
     "slide_type": "slide"
    }
   },
   "outputs": [],
   "source": [
    "hash = {'today' => \"Thursday\", \"tomorrow\" => \"Friday\"}\n",
    "hash.each {|k,v| puts \"#{k.capitalize} is #{v}\"}"
   ]
  },
  {
   "cell_type": "code",
   "execution_count": null,
   "metadata": {
    "slideshow": {
     "slide_type": "slide"
    }
   },
   "outputs": [],
   "source": [
    "str_long = \"This is a really long string\\n I have put some new line characters\\n to see what happens\"\n",
    "str_long.each_line do |l|\n",
    "  puts l.strip\n",
    "end"
   ]
  },
  {
   "cell_type": "code",
   "execution_count": null,
   "metadata": {
    "slideshow": {
     "slide_type": "slide"
    }
   },
   "outputs": [],
   "source": [
    "str_long.each_char do |l|\n",
    "  puts l.strip\n",
    "end"
   ]
  },
  {
   "cell_type": "markdown",
   "metadata": {
    "slideshow": {
     "slide_type": "slide"
    }
   },
   "source": [
    "## Methods\n",
    "- Methods in Ruby are defined using the `def` keyword\n",
    "- They don't need to be in a class\n",
    "- Global variables in Ruby must start with a `$`\n",
    "- To process a block, use the `yield` keyword"
   ]
  },
  {
   "cell_type": "code",
   "execution_count": null,
   "metadata": {
    "slideshow": {
     "slide_type": "slide"
    }
   },
   "outputs": [],
   "source": [
    "def square(i)\n",
    "  i * i\n",
    "end\n",
    "square(10)"
   ]
  },
  {
   "cell_type": "code",
   "execution_count": null,
   "metadata": {
    "slideshow": {
     "slide_type": "slide"
    }
   },
   "outputs": [],
   "source": [
    "def wrapper(i)\n",
    "  yield \n",
    "end"
   ]
  },
  {
   "cell_type": "code",
   "execution_count": null,
   "metadata": {
    "slideshow": {
     "slide_type": "-"
    }
   },
   "outputs": [],
   "source": [
    "wrapper(10) {puts \"Hello\"}"
   ]
  },
  {
   "cell_type": "code",
   "execution_count": null,
   "metadata": {
    "slideshow": {
     "slide_type": "slide"
    }
   },
   "outputs": [],
   "source": [
    "def wrapper_with_var\n",
    "  x = yield(\"Hello\")\n",
    "  puts \"Yield returned #{x}\"\n",
    "end"
   ]
  },
  {
   "cell_type": "code",
   "execution_count": null,
   "metadata": {},
   "outputs": [],
   "source": [
    "wrapper_with_var do |i|\n",
    "  puts \"i was passed as #{i}\"\n",
    "  i.downcase\n",
    "end"
   ]
  },
  {
   "cell_type": "markdown",
   "metadata": {
    "slideshow": {
     "slide_type": "slide"
    }
   },
   "source": [
    "## Process Control\n",
    "- Ruby is often used as a nicer system scripting language\n",
    "- The method `system` will run the enclosed commands, returning true or false\n",
    "- To get data back from a system call, it needs to be opened using the IO class\n",
    "    - `IO.popen {block}`\n",
    "    - The block takes one parameter, a stream, that we can use to `gets` data from\n"
   ]
  },
  {
   "cell_type": "code",
   "execution_count": null,
   "metadata": {
    "slideshow": {
     "slide_type": "slide"
    }
   },
   "outputs": [],
   "source": [
    "IO.popen(\"ls -lh *.html\") do |stream|\n",
    "  while line = stream.gets do\n",
    "    parts = line.split(\" \")\n",
    "    puts \"#{parts[-1]} is #{parts[4]} big\"\n",
    "  end\n",
    "end"
   ]
  },
  {
   "cell_type": "code",
   "execution_count": null,
   "metadata": {
    "slideshow": {
     "slide_type": "slide"
    }
   },
   "outputs": [],
   "source": [
    "IO.popen(\"ls -lh *.html\") do |stream|\n",
    " stream.each do |line|\n",
    "    parts = line.split(\" \")\n",
    "    puts \"#{parts[-1]} is #{parts[4]} big\"\n",
    "  end\n",
    "end"
   ]
  },
  {
   "cell_type": "markdown",
   "metadata": {
    "slideshow": {
     "slide_type": "slide"
    }
   },
   "source": [
    "## Objects\n",
    "- You can make your own objects....because everything is an object\n",
    "- Prefix with the `class` keyword\n",
    "    - Name must start with a capital letter\n",
    "- A member variable should start with `@`\n",
    "    - This makes it private\n",
    "- The constructor is written as `intialize`\n",
    "- Getters have the same name as the variable you are trying to get, setters do too, but end with `=`"
   ]
  },
  {
   "cell_type": "code",
   "execution_count": null,
   "metadata": {
    "slideshow": {
     "slide_type": "slide"
    }
   },
   "outputs": [],
   "source": [
    "class TIME\n",
    "  \n",
    "  def initialize(hour,min)\n",
    "    @hour = hour\n",
    "    @min = min\n",
    "  end\n",
    "  \n",
    "  def hour\n",
    "    @hour\n",
    "  end\n",
    "  \n",
    "  def hour=(nHour)\n",
    "    @hour = nHour\n",
    "  end\n",
    "  \n",
    "  def to_s\n",
    "    \"It's #{@hour}:#{@min}\"\n",
    "  end\n",
    "end"
   ]
  },
  {
   "cell_type": "code",
   "execution_count": null,
   "metadata": {
    "slideshow": {
     "slide_type": "slide"
    }
   },
   "outputs": [],
   "source": [
    "now = TIME.new(11,15)\n",
    "puts now"
   ]
  },
  {
   "cell_type": "markdown",
   "metadata": {
    "slideshow": {
     "slide_type": "slide"
    }
   },
   "source": [
    "## Objects Continued\n",
    "- To overload an operator, use the literal operator name\n",
    "    - To overload `+`, define `+` in your class\n",
    "- Classes in Ruby are open, meaning they can be added to at any time\n",
    "    - The syntax is the same, and methods are either added or overwritten\n",
    "    - This applies to classes that are defined as part of the Ruby langauge too!"
   ]
  },
  {
   "cell_type": "code",
   "execution_count": null,
   "metadata": {
    "slideshow": {
     "slide_type": "slide"
    }
   },
   "outputs": [],
   "source": [
    "class TIME\n",
    "\n",
    "  def min\n",
    "    @min\n",
    "  end\n",
    "  \n",
    "  def +(anotherTime)\n",
    "    TIME.new(self.hour + anotherTime.hour,\n",
    "      self.min + anotherTime.min)\n",
    "  end\n",
    "end"
   ]
  },
  {
   "cell_type": "code",
   "execution_count": null,
   "metadata": {},
   "outputs": [],
   "source": [
    "puts now + TIME.new(11,12)"
   ]
  },
  {
   "cell_type": "code",
   "execution_count": null,
   "metadata": {
    "slideshow": {
     "slide_type": "slide"
    }
   },
   "outputs": [],
   "source": [
    "class Array\n",
    "  def beMean\n",
    "    self[0] , self[-1] = self[-1], self[0]\n",
    "  end\n",
    "end"
   ]
  },
  {
   "cell_type": "code",
   "execution_count": null,
   "metadata": {},
   "outputs": [],
   "source": [
    "arr = [1,43,9,68,19,6890,185,3]\n",
    "arr.beMean\n",
    "puts arr"
   ]
  },
  {
   "cell_type": "markdown",
   "metadata": {
    "slideshow": {
     "slide_type": "slide"
    }
   },
   "source": [
    "## Gems\n",
    "- Packages in Ruby are known as Gems\n",
    "- The `gem` command line program is usually installed when installing Ruby\n",
    "```bash\n",
    "    gem install packageName\n",
    "```\n",
    "- The main repository is [RubyGems.org](https://rubygems.org/)"
   ]
  }
 ],
 "metadata": {
  "celltoolbar": "Slideshow",
  "kernelspec": {
   "display_name": "Ruby 2.3.3",
   "language": "ruby",
   "name": "ruby"
  },
  "language_info": {
   "file_extension": ".rb",
   "mimetype": "application/x-ruby",
   "name": "ruby",
   "version": "2.3.3"
  }
 },
 "nbformat": 4,
 "nbformat_minor": 2
}

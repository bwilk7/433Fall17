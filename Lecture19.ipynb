{
 "cells": [
  {
   "cell_type": "markdown",
   "metadata": {
    "slideshow": {
     "slide_type": "slide"
    }
   },
   "source": [
    "# JavaScript IV"
   ]
  },
  {
   "cell_type": "markdown",
   "metadata": {
    "slideshow": {
     "slide_type": "slide"
    }
   },
   "source": [
    "## HTTP Statelessness\n",
    "- HTTP is a stateless protocol\n",
    "    - After a request to a webserver is made, and the page returned, no state is tracked\n",
    "- No way to know which users \n",
    "    - Have visited your site before\n",
    "    - Are in the middle of some multi-page process"
   ]
  },
  {
   "cell_type": "markdown",
   "metadata": {
    "slideshow": {
     "slide_type": "slide"
    }
   },
   "source": [
    "## Cookies\n",
    "- A Cookie is a single key-value pair that is stored locally on the users computer\n",
    "    - Exact location dependent on browser\n",
    "- Two types\n",
    "    - Session: Are deleted when the browser is closed\n",
    "    - Persistent: Are deleted on the defined expiration date"
   ]
  },
  {
   "cell_type": "markdown",
   "metadata": {
    "slideshow": {
     "slide_type": "slide"
    }
   },
   "source": [
    "## Cookies\n",
    "- Cookies can be used and modified by\n",
    "    - JavaScript\n",
    "    - Server Side Languages (PHP, Python, Java, Perl, etc.)\n",
    "- Cookies were meant to hold small pieces of information\n",
    "    - Cookies are part of HTTP itself, and are sent to a website **everytime** you make a request as part of the headers"
   ]
  },
  {
   "cell_type": "markdown",
   "metadata": {
    "slideshow": {
     "slide_type": "slide"
    }
   },
   "source": [
    "## Cookies in JavaScript\n",
    "- Cookies in JavaScript are set and read using the `cookie` property of the `document` object\n",
    "- From the JavaScript perspective, cookies can only hold one string of text\n",
    "    - You can set the `cookie` property multiple times, it won't be overwritten\n",
    "        - Instead it is appended to\n",
    "    - When the `cookie` property is read, all cokies for a site are returned as a string\n",
    "        - Seperated by ';'"
   ]
  },
  {
   "cell_type": "code",
   "execution_count": null,
   "metadata": {
    "slideshow": {
     "slide_type": "slide"
    }
   },
   "outputs": [],
   "source": [
    "%%html\n",
    "<!DOCTYPE>\n",
    "<html>\n",
    "    <head>\n",
    "    </head>\n",
    "    <body>\n",
    "        <p id=\"cookieValue\"></p>\n",
    "        <script>\n",
    "            document.cookie=\"course=433\";\n",
    "            document.cookie=\"department=CMSC\";\n",
    "            document.getElementById(\"cookieValue\").innerHTML=document.cookie\n",
    "        </script>\n",
    "    </body>\n",
    "</html>"
   ]
  },
  {
   "cell_type": "markdown",
   "metadata": {
    "slideshow": {
     "slide_type": "slide"
    }
   },
   "source": [
    "## Cookie Attributes\n",
    "- There are numerous attributes of cookies that control how long they persist, or when they can be used\n",
    "    - All are set when setting the cookie, separated by ';'\n",
    "```javascript\n",
    "document.cookie = \"name=value; attribute1=att_value1; attribute2=att_value2\"\n",
    "```\n",
    "- Common attributes\n",
    "    - domain : What domain the cookie is valid for\n",
    "    - expires: When the cookie should be deleted\n",
    "    - max-age: How long the cookie should persist in seconds\n",
    "    - secure: Prohibits cookies from being sent without HTTPS\n",
    "    "
   ]
  },
  {
   "cell_type": "code",
   "execution_count": null,
   "metadata": {
    "slideshow": {
     "slide_type": "slide"
    }
   },
   "outputs": [],
   "source": [
    "%%html\n",
    "<!DOCTYPE>\n",
    "<html>\n",
    "    <head>\n",
    "    </head>\n",
    "    <body>\n",
    "        <p id=\"cookieValue2\"></p>\n",
    "        <script>\n",
    "            var expire = new Date('Wed, 31 Dec 2017 23:59:59 EST');\n",
    "            document.cookie=\"course=433;expires=\" + expire.toUTCString();\n",
    "            document.cookie=\"department=CMSC\";\n",
    "            document.getElementById(\"cookieValue2\").innerHTML=document.cookie\n",
    "        </script>\n",
    "    </body>\n",
    "</html>"
   ]
  },
  {
   "cell_type": "markdown",
   "metadata": {
    "slideshow": {
     "slide_type": "slide"
    }
   },
   "source": [
    "## Cookies and Privacy\n",
    "- Cookies have long be overused and abused\n",
    "    - Don't store too much data in them, it slows down the connection\n",
    "    - Don't store sensitive information in them\n",
    "- Tracking of users may be considered in infringement on their privacy\n",
    "    - Many browsers support a Do Not Track header, its up to the servers to respect this\n",
    "    - EU members must display a disclaimer that they are being used"
   ]
  },
  {
   "cell_type": "markdown",
   "metadata": {
    "slideshow": {
     "slide_type": "slide"
    }
   },
   "source": [
    "## Modern Storage APIs\n",
    "- All modern browsers support a newer, simpler API to store things locally, known as the Web Storage API\n",
    "    - Makes reading and writing values much easier\n",
    "    - Doesn't send on every HTTP request\n",
    "        - More secure\n",
    "    - Provides storage events that all tabs/pages can react to"
   ]
  },
  {
   "cell_type": "markdown",
   "metadata": {
    "slideshow": {
     "slide_type": "slide"
    }
   },
   "source": [
    "## sessionStorage and localStorage\n",
    "- Both `Storage` objects are members of the `window` object\n",
    "    - `window` is the default object, so you will often see `sessionStorage` rather than `window.SessionStorage`\n",
    "- `sessionStorage` is cleared when a new page is navigated to\n",
    "- `localStorage` has no set expiration date\n",
    "- Easy API to get and set key/value pairs\n",
    "    - `setItem(name,key)`\n",
    "    - `getItem(name,key)`"
   ]
  },
  {
   "cell_type": "code",
   "execution_count": null,
   "metadata": {
    "slideshow": {
     "slide_type": "slide"
    }
   },
   "outputs": [],
   "source": [
    "%%html\n",
    "<!DOCTYPE>\n",
    "<html>\n",
    "    <head>\n",
    "    </head>\n",
    "    <body>\n",
    "        <button id=\"store\">Click Here to Store Things</button>\n",
    "        <p id=\"storageValue\"></p>\n",
    "        <script>\n",
    "            document.getElementById(\"store\").addEventListener('click',\n",
    "            function(){\n",
    "                window.sessionStorage.setItem('building',\"Sherman\");\n",
    "                window.localStorage.setItem('room','015')\n",
    "            });\n",
    "            document.getElementById('storageValue').innerHTML = \n",
    "                window.sessionStorage.getItem(\"building\") + \" \" +\n",
    "                window.localStorage.getItem(\"room\");\n",
    "        </script>\n",
    "    </body>\n",
    "</html>"
   ]
  },
  {
   "cell_type": "markdown",
   "metadata": {
    "slideshow": {
     "slide_type": "slide"
    }
   },
   "source": [
    "## AJAX\n",
    "- __AJAX__ *was* an acronym for Asynchronous Javascript And XML\n",
    "    - No one really uses XML anymore\n",
    "- JavaScript allowed the user to interact with what was on the page\n",
    "    - What about getting new data after the page loaded\n",
    "    - Prediction of Text in search\n",
    "    - Allows to request data from multiple sources on one webpage\n",
    "       - Google Maps\n",
    "       - Yelp\n",
    "       - Twitter "
   ]
  },
  {
   "cell_type": "markdown",
   "metadata": {
    "slideshow": {
     "slide_type": "slide"
    }
   },
   "source": [
    "## Brief History of AJAX\n",
    "- Was first implemented in Internet Explorer\n",
    "- Other browers quickly adopted it, but changed the method names\n",
    "- Was based on XML (eXtensible Markup Language) due to heavy use in businuess at the time\n",
    "- Today is standardized and XML is hardly used anymore"
   ]
  },
  {
   "cell_type": "markdown",
   "metadata": {
    "slideshow": {
     "slide_type": "slide"
    }
   },
   "source": [
    "![asdf](ajax-fig2.png)"
   ]
  },
  {
   "cell_type": "markdown",
   "metadata": {
    "slideshow": {
     "slide_type": "slide"
    }
   },
   "source": [
    "\n",
    "## XMLHTTPRequest\n",
    "- XMLHTTPRequest is the object used to initiate and interact with the request\n",
    "```js\n",
    "   var theRequest = new XMLHttpRequest();\n",
    "```\n",
    "- After we have the object, `open` is used to set where the data is from and how to get it\n",
    "    - For security reasons, this location needs to be part of the same website\n",
    "- `send` is used to add parameters and send the request to the URL given in the `open` parameter\n",
    "```js\n",
    "theRequest.open('METHOD','location',Asynchronous?)\n",
    "theRequest.send(ParametersObject)\n",
    "```"
   ]
  },
  {
   "cell_type": "markdown",
   "metadata": {
    "slideshow": {
     "slide_type": "slide"
    }
   },
   "source": [
    "## Making the Request (GET)\n",
    "- The method is the string \"GET\"\n",
    "- A GET request requires all parameters to be passed as part of the URL\n",
    "    - Sent in the location parameter of the `open` method\n",
    "- There are no additional parameters to get, so `sent` is passed null"
   ]
  },
  {
   "cell_type": "code",
   "execution_count": null,
   "metadata": {
    "slideshow": {
     "slide_type": "slide"
    }
   },
   "outputs": [],
   "source": [
    "%%html\n",
    "<!DOCTYPE>\n",
    "<html>\n",
    "    <head>\n",
    "    </head>\n",
    "    <body>\n",
    "        <input type=\"text\" id=\"zip\">\n",
    "        <button id=\"lookup\">Lookup</button>\n",
    "        <p id=\"city\"></p>\n",
    "        <script>\n",
    "            document.getElementById(\"lookup\").addEventListener('click',\n",
    "            function(){\n",
    "                var request = new XMLHttpRequest();\n",
    "                var zip = document.getElementById('zip').value;\n",
    "                request.open('GET', './lookup.php?zip=' + zip);\n",
    "                request.send(null);\n",
    "            });\n",
    "            \n",
    "        </script>\n",
    "    </body>\n",
    "</html>"
   ]
  },
  {
   "cell_type": "markdown",
   "metadata": {
    "slideshow": {
     "slide_type": "slide"
    }
   },
   "source": [
    "## Listening for a Response\n",
    "- `XMLHTTPRequest.send()` doesn't return anything\n",
    "- To get the response, we must attach an event listener to the `XHR` object\n",
    "    - Rather than use `addEventListner`, set the property `onreadystatechange`\n",
    "- Set equal to a function that takes no parameters"
   ]
  },
  {
   "cell_type": "markdown",
   "metadata": {
    "slideshow": {
     "slide_type": "slide"
    }
   },
   "source": [
    "## The Response Object\n",
    "- The reponse object holds all the information sent back from the server\n",
    "    - Is the same as the request object actually\n",
    "- `onreadystatechange` actually fires multiple times during the request, but we only care about it when its done usually\n",
    "    - `response.readyState` holds where in the process the request is\n",
    "        - 4 corrisponds to being done\n",
    "- `response.status` holds the HTTP status of the request, it should be 200 if successful\n",
    "- `response.responseText` holds the content returned from the server"
   ]
  },
  {
   "cell_type": "code",
   "execution_count": null,
   "metadata": {
    "slideshow": {
     "slide_type": "slide"
    }
   },
   "outputs": [],
   "source": [
    "%%html\n",
    "<!DOCTYPE>\n",
    "<html>\n",
    "    <head>\n",
    "    </head>\n",
    "    <body>\n",
    "        <input type=\"text\" id=\"zip\">\n",
    "        <button id=\"lookup\">Lookup</button>\n",
    "        <p id=\"city\"></p>\n",
    "        <script>\n",
    "            document.getElementById(\"lookup\").addEventListener('click',\n",
    "            function(){\n",
    "                var request = new XMLHttpRequest();\n",
    "                var zip = document.getElementById('zip').value;\n",
    "                request.open('GET', 'https://csee.umbc.edu/~bwilk1/lookup.php?zip=' + zip);\n",
    "                request.onreadystatechange = function(){\n",
    "                  if(request.readyState == 4){\n",
    "                      if(request.status == 200){\n",
    "                          var info = request.responseText.split(\":\");\n",
    "                          document.getElementById(\"city\").innerHTML = info[0] + \",\" + info[1]\n",
    "                      }\n",
    "                  }  \n",
    "                };\n",
    "                request.send(null);\n",
    "            });\n",
    "            \n",
    "        </script>\n",
    "    </body>\n",
    "</html>"
   ]
  },
  {
   "cell_type": "markdown",
   "metadata": {
    "slideshow": {
     "slide_type": "slide"
    }
   },
   "source": [
    "## Making the Request (POST)\n",
    "- A post request is made very similar to a get request\n",
    "    - The method passed to open should be \"POST\"\n",
    "- The data must be sent as the paramter to `send`\n",
    "    - Should be formatted like it was being sent with \"GET\"\n",
    "        - name1=val1&name2=val2..."
   ]
  },
  {
   "cell_type": "code",
   "execution_count": null,
   "metadata": {
    "slideshow": {
     "slide_type": "slide"
    }
   },
   "outputs": [],
   "source": [
    "%%html\n",
    "<!DOCTYPE>\n",
    "<html>\n",
    "    <head>\n",
    "    </head>\n",
    "    <body>\n",
    "        <input type=\"text\" id=\"zip\">\n",
    "        <button id=\"lookup\">Lookup</button>\n",
    "        <p id=\"city\"></p>\n",
    "        <script>\n",
    "            document.getElementById(\"lookup\").addEventListener('click',\n",
    "            function(){\n",
    "                var request = new XMLHttpRequest();\n",
    "                var zip = document.getElementById('zip').value;\n",
    "                request.open('POST', './lookup.php?zip=' + zip);\n",
    "                request.onreadystatechange = function(){\n",
    "                  if(request.readyState == 4){\n",
    "                      if(request.status == 200){\n",
    "                          var info = request.responseText.split(\":\");\n",
    "                          document.getElementById(\"city\").innerHTML = info[0] + \",\" + info[1]\n",
    "                      }\n",
    "                  }  \n",
    "                };\n",
    "                request.send(\"zip=\" + zip);\n",
    "            });\n",
    "            \n",
    "        </script>\n",
    "    </body>\n",
    "</html>"
   ]
  },
  {
   "cell_type": "markdown",
   "metadata": {
    "slideshow": {
     "slide_type": "slide"
    }
   },
   "source": [
    "## JSON\n",
    "- Sending one piece of text back and forth doesn't require much parsing\n",
    "   - Larger data needs to be sent as a parsable string\n",
    "- Originally, XML was used for this purpose, but that is annoying\n",
    "- JSON stands for JavaScriptObjectNotation\n",
    "    - Uses {} for objects, and [] for arrays\n",
    "    - The major difference between this and actual JavaScript code is that keys must be quoted\n",
    "```javascript\n",
    "{\n",
    "    \"my_key\": 10,\n",
    "    \"an_array\":[1,2,3,4]\n",
    "}\n",
    "```"
   ]
  },
  {
   "cell_type": "markdown",
   "metadata": {
    "slideshow": {
     "slide_type": "slide"
    }
   },
   "source": [
    "## Converting To and From JSON\n",
    "- When JSON was first introdcued, parsing was done by hand, or by running the code through `eval`\n",
    "    - Running the code through `eval` is a very bad idea and a major security risk\n",
    "- Eventually some standard libriaries started to pop up to handle this task for us\n",
    "- Now it is part of the JavaScript language, using the JSON object\n",
    "    - `JSON.parse` takes a JSON string, and returns the corrisponding JS object\n",
    "    - `JSON.stringify` takes a JS object and returns the corresponding JSON string"
   ]
  },
  {
   "cell_type": "code",
   "execution_count": null,
   "metadata": {
    "slideshow": {
     "slide_type": "slide"
    }
   },
   "outputs": [],
   "source": [
    "%%script node\n",
    "var today = new Date();\n",
    "console.log(JSON.stringify(today))\n",
    "console.log(JSON.parse(JSON.stringify(today)))"
   ]
  },
  {
   "cell_type": "markdown",
   "metadata": {
    "slideshow": {
     "slide_type": "slide"
    }
   },
   "source": [
    "## AJAX + JSON\n",
    "- By combining AJAX and JSON we can make very large complex web applications\n",
    "- Most standard APIs return JSON, or at least have it as an option"
   ]
  },
  {
   "cell_type": "markdown",
   "metadata": {
    "slideshow": {
     "slide_type": "slide"
    }
   },
   "source": [
    "## AJAX Saftey\n",
    "- To prevent malicious code execution, most AJAX calls can only be made to pages on the same server\n",
    "    - This is known as the same-origin policy\n",
    "- This can be overridden, but is a bit complex for the purposes of this course\n",
    "- Never use `eval`, this can execute code from anywhere\n",
    "    - Parse using `JSON.parse`"
   ]
  },
  {
   "cell_type": "markdown",
   "metadata": {
    "slideshow": {
     "slide_type": "slide"
    }
   },
   "source": [
    "## A note about the future\n",
    "- Two new capabilities are beginning to be implemented, but aren't widely supported\n",
    "- The Fetch API is essentially a replacement for XHR objects\n",
    "    - XHR was creating a bit organically, the fetch API aims to rebuild it from the ground up with better design\n",
    "    - Has seperate `Request` and `Response` objects\n",
    "    - Built around a paradigm known as promises\n",
    "- Server Sent Events\n",
    "    - Rather than constanly polling a server, let the server initiate sending events\n",
    "    - Need to tell the server the page is willing to receive events, after that server initiates"
   ]
  }
 ],
 "metadata": {
  "celltoolbar": "Slideshow",
  "kernelspec": {
   "display_name": "Python 2",
   "language": "python",
   "name": "python2"
  },
  "language_info": {
   "codemirror_mode": {
    "name": "ipython",
    "version": 3
   },
   "file_extension": ".py",
   "mimetype": "text/x-python",
   "name": "python",
   "nbconvert_exporter": "python",
   "pygments_lexer": "ipython3",
   "version": "3.5.2"
  }
 },
 "nbformat": 4,
 "nbformat_minor": 2
}

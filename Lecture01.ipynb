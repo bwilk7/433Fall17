{
 "cells": [
  {
   "cell_type": "markdown",
   "metadata": {
    "slideshow": {
     "slide_type": "slide"
    }
   },
   "source": [
    "# Regular Expressions\n",
    "## Introduction"
   ]
  },
  {
   "cell_type": "markdown",
   "metadata": {
    "slideshow": {
     "slide_type": "slide"
    }
   },
   "source": [
    "## Regular Expressions\n",
    "* Formally, they define a regular language\n",
    "    * One that can be recognized with a Deterministic Finite Automata (DFA)\n",
    "* Informally, they define a pattern to be matched\n",
    "    * Later we will talk about more advanced uses, like substitution\n",
    "* Regular expression is commonly shorted to **regexp**, **regex**, or **re**"
   ]
  },
  {
   "cell_type": "markdown",
   "metadata": {
    "slideshow": {
     "slide_type": "slide"
    }
   },
   "source": [
    "## Applications of RegEx Matching\n",
    "* Finding duplicated words in text\n",
    "    * I went to **the the** store\n",
    "* Recognizing dates and phone numbers in text \n",
    "    <img src=\"img/fb_messenger.png\" alt=\"Facebook messenger, with phone number automatically underlined\" style=\"height:20vh\">\n",
    "* Validating input\n",
    "    <img src=\"img/fb_verify.png\" alt=\"Facebook signup screen with message prompting to enter a valid email address\" style=\"height:20vh\">"
   ]
  },
  {
   "cell_type": "markdown",
   "metadata": {
    "slideshow": {
     "slide_type": "slide"
    }
   },
   "source": [
    "## Applications of RegEx Substitution\n",
    "* Removing duplicate words\n",
    "    * I went to **the the** store $\\rightarrow$ I went to **the** store\n",
    "* Fixing common case errors\n",
    "    * We will be learning **javascript** this semester $\\rightarrow$ We will be learning **JavaScript** this semester\n",
    "* Reformatting dates and telephone numbers\n",
    "    * 1-410-455-1000 $\\rightarrow$ +1 (410) 455-1000\n",
    "* Inserting links around phone numbers, emails, etc."
   ]
  },
  {
   "cell_type": "markdown",
   "metadata": {
    "slideshow": {
     "slide_type": "slide"
    }
   },
   "source": [
    "## RegEx's you already might use\n",
    "* File searching (file globbing)\n",
    "    * ls *.png\n",
    "    * rm *.bak\n",
    "    * cp Lecture??.html ../\n",
    "* Find & Replace in word processors/text editors\n",
    "    * Most allow you to select to use RegEx matching or not\n",
    "* Search Engines\n",
    "    * Either allow regex's or borrow concepts from them"
   ]
  },
  {
   "cell_type": "markdown",
   "metadata": {
    "slideshow": {
     "slide_type": "slide"
    }
   },
   "source": [
    "## Why Regular Expressions *Seem* Intimidating\n",
    "* Cryptic and compact\n",
    "* Whitespace sensitive (typically)\n",
    "* No standard\n",
    "    * Differences between implementations\n",
    "* Some characters are overloaded\n",
    "* Multiple solutions usually exist\n",
    "* Can be time consuming to iteraively tune a regex"
   ]
  },
  {
   "cell_type": "markdown",
   "metadata": {
    "slideshow": {
     "slide_type": "slide"
    }
   },
   "source": [
    "## Programming Language Suppport\n",
    "* Almost all programming languages support regex's, either natively or through a module/library\n",
    "* C++\n",
    "```c++\n",
    "#include <regex>\n",
    "```\n",
    "* Python\n",
    "``` python  \n",
    "import re\n",
    "```\n",
    "* Java\n",
    "```java\n",
    "import java.util.regex.Pattern;\n",
    "```"
   ]
  },
  {
   "cell_type": "markdown",
   "metadata": {
    "slideshow": {
     "slide_type": "slide"
    }
   },
   "source": [
    "## Perl & RegExs\n",
    "* Perl is a programming language developed with text processing in mind\n",
    "    * Current version is Perl 5, which is available on GL\n",
    "* Regular Expressions are a native part of Perl\n",
    "* The syntax developed for Perl is extremely popular and many other languages support it\n",
    "    * Kown as Perl Compatable Regular Expressions (PCRE)"
   ]
  },
  {
   "cell_type": "markdown",
   "metadata": {
    "slideshow": {
     "slide_type": "slide"
    },
    "tags": [
     "no-mathjax",
     "tex2jax_ignore"
    ]
   },
   "source": [
    "## Perl in This Class\n",
    "* We will use Perl to learn regular expressions, but you are only responsible for a very small subset of perl\n",
    "* All code will be of the format\n",
    "\n",
    "```\n",
    "foreach my $n (@names) {\n",
    "  print $n if $n =~ /REGEX_HERE/;\n",
    "}\n",
    "```\n",
    "\n",
    "or \n",
    "\n",
    "```\n",
    "while (<>) {\n",
    "    print if /REGEX_HERE/;\n",
    "}\n",
    "\n",
    "```"
   ]
  },
  {
   "cell_type": "code",
   "execution_count": null,
   "metadata": {
    "slideshow": {
     "slide_type": "skip"
    }
   },
   "outputs": [],
   "source": [
    "# This is necessary to print every statement on a new line\n",
    "# It is activating a feature that will be standard in Perl 6\n",
    "use feature qw(say);"
   ]
  },
  {
   "cell_type": "markdown",
   "metadata": {
    "slideshow": {
     "slide_type": "slide"
    }
   },
   "source": [
    "## Data for today's examples\n",
    "* We will be using the current <a href=\"https://www.billboard.com/charts/hot-100\">Billboard Hot 100 Singles Chart</a>\n",
    "* For convenience, I have stored each song and artist as a string in a large array"
   ]
  },
  {
   "cell_type": "code",
   "execution_count": null,
   "metadata": {
    "slideshow": {
     "slide_type": "skip"
    }
   },
   "outputs": [],
   "source": [
    "my @songs = (\"God\\'s Plan by Drake\",\"Perfect by Ed Sheeran\",\"Havana by Camila Cabello Featuring Young Thug\",\"Rockstar by Post Malone Featuring 21 Savage\",\"Finesse by Bruno Mars & Cardi B\",\"Bad At Love by Halsey\",\"Diplomatic Immunity by Drake\",\"New Rules by Dua Lipa\",\"Thunder by Imagine Dragons\",\"No Limit by G-Eazy Featuring A$AP Rocky & Cardi B\",\"MotorSport by Migos, Nicki Minaj & Cardi B\",\"Meant To Be by Bebe Rexha & Florida Georgia Line\",\"Too Good At Goodbyes by Sam Smith\",\"Let You Down by NF\",\"Love. by Kendrick Lamar Featuring Zacari\",\"Him & I by G-Eazy & Halsey\",\"Gucci Gang by Lil Pump\",\"Gummo by 6ix9ine\",\"I Fall Apart by Post Malone\",\"Bartier Cardi by Cardi B Featuring 21 Savage\",\"How Long by Charlie Puth\",\"Shape Of You by Ed Sheeran\",\"Bodak Yellow (Money Moves) by Cardi B\",\"I Get The Bag by Gucci Mane Featuring Migos\",\"Feel It Still by Portugal. The Man\",\"Wolves by Selena Gomez X Marshmello\",\"Plain Jane by A$AP Ferg\",\"Believer by Imagine Dragons\",\"Sky Walker by Miguel Featuring Travis Scott\",\"End Game by Taylor Swift Featuring Ed Sheeran & Future\",\"Roll In Peace by Kodak Black Featuring XXXTENTACION\",\"Sorry Not Sorry by Demi Lovato\",\"Filthy by Justin Timberlake\",\"River by Eminem Featuring Ed Sheeran\",\"Young Dumb & Broke by Khalid\",\"Marry Me by Thomas Rhett\",\"Never Be The Same by Camila Cabello\",\"Lights Down Low by MAX Featuring gnash\",\"Ric Flair Drip by Offset & Metro Boomin\",\"Lemon by N*E*R*D & Rihanna\",\"What Lovers Do by Maroon 5 Featuring SZA\",\"The Way Life Goes by Lil Uzi Vert Featuring Nicki Minaj\",\"Keke by 6ix9ine, Fetty Wap & A Boogie Wit da Hoodie\",\"Mi Gente by J Balvin & Willy William Featuring Beyonce\",\"Let Me Go by Hailee Steinfeld & Alesso Featuring Florida Georgia Line & Watt\",\"1-800-273-8255 by Logic Featuring Alessia Cara & Khalid\",\"Bank Account by 21 Savage\",\"Attention by Charlie Puth\",\"Yours by Russell Dickerson\",\"Unforgettable by French Montana Featuring Swae Lee\",\"Outside Today by YoungBoy Never Broke Again\",\"Stir Fry by Migos\",\"Pills And Automobiles by Chris Brown Featuring Yo Gotti, A Boogie Wit da Hoodie & Kodak Black\",\"All The Stars by Kendrick Lamar & SZA\",\"Good Old Days by Macklemore Featuring Kesha\",\"Mine by Bazzi\",\"Nowadays by Lil Skies Featuring Landon Cube\",\"Pick It Up by Famous Dex Featuring A$AP Rocky\",\"Greatest Love Story by LANCO\",\"Written In The Sand by Old Dominion\",\"No Smoke by YoungBoy Never Broke Again\",\"Losing Sleep by Chris Young\",\"Like I Loved You by Brett Young\",\"Five More Minutes by Scotty McCreery\",\"Sick Boy by The Chainsmokers\",\"This Is Me by Keala Settle & The Greatest Showman Ensemble\",\"Heaven by Kane Brown\",\"Echame La Culpa by Luis Fonsi & Demi Lovato\",\"Rubbin Off The Paint by YBN Nahmir\",\"You Broke Up With Me by Walker Hayes\",\"Supplies by Justin Timberlake\",\"Codeine Dreaming by Kodak Black Featuring Lil Wayne\",\"Betrayed by Lil Xan\",\"Red Roses by Lil Skies Featuring Landon Cube\",\"One Foot by WALK THE MOON\",\"La Modelo by Ozuna x Cardi B\",\"Rewrite The Stars by Zac Efron & Zendaya\",\"Candy Paint by Post Malone\",\"Tell Me You Love Me by Demi Lovato\",\"Round Here Buzz by Eric Church\",\"All On Me by Devin Dawson\",\"No Name by NF\",\"King\\'s Dead by Jay Rock, Kendrick Lamar, Future & James Blake\",\"MIC Drop by BTS Featuring Desiigner\",\"Broken Halos by Chris Stapleton\",\"Kooda by 6ix9ine\",\"Legends by Kelsea Ballerini\",\"Wait by Maroon 5\",\"Best Friend by Sofi Tukker Featuring NERVO, The Knocks & Alisa Ueno\",\"Ice Tray by Quavo & Lil Yachty\",\"Beautiful Trauma by P!nk\",\"IDGAF by Dua Lipa\",\"Corazon by Maluma X Nego do Borel\",\"Mayores by Becky G Featuring Bad Bunny\",\"The Greatest Show by Hugh Jackman, Keala Settle, Zac Efron, Zendaya & The Greatest Showman Ensemble\",\"Never Enough by Loren Allred\",\"My Dawg by Lil Baby\",\"I\\'ll Name The Dogs by Blake Shelton\",\"Rock by Plies\",\"Female by Keith Urban\")"
   ]
  },
  {
   "cell_type": "code",
   "execution_count": null,
   "metadata": {},
   "outputs": [],
   "source": [
    "say join \"\\n\", @songs[0..5];"
   ]
  },
  {
   "cell_type": "markdown",
   "metadata": {
    "slideshow": {
     "slide_type": "slide"
    }
   },
   "source": [
    "## Literals\n",
    "\n",
    "* Literals match exactly\n",
    "    * Every character matches only with itself\n"
   ]
  },
  {
   "cell_type": "code",
   "execution_count": null,
   "metadata": {},
   "outputs": [],
   "source": [
    "foreach my $s (@songs) {\n",
    "  say $s if $s =~ /Love/;\n",
    "}"
   ]
  },
  {
   "cell_type": "markdown",
   "metadata": {
    "slideshow": {
     "slide_type": "slide"
    }
   },
   "source": [
    "## Meta-Characters\n",
    "* Meta-Characters are defined by each regex implementation\n",
    "* They do not match themselves, but instead have special meaning\n",
    "* We will go into detail about each of them, but some examples are \n",
    "    * .\n",
    "    * \\\n",
    "    * [\n",
    "    * ]\n",
    "    * (\n",
    "    * )"
   ]
  },
  {
   "cell_type": "markdown",
   "metadata": {
    "slideshow": {
     "slide_type": "slide"
    }
   },
   "source": [
    "## Matching a Single Character\n",
    "* There are three main ways to match a single character using meta-characters\n",
    "    * The dot character\n",
    "    * Programmer-defined character class\n",
    "    * Built-in character class"
   ]
  },
  {
   "cell_type": "markdown",
   "metadata": {
    "slideshow": {
     "slide_type": "slide"
    }
   },
   "source": [
    "## The Dot Character\n",
    "* Matches any single character **except** newlines\n",
    "    * This behavoir can usually be changed to also match newlines    "
   ]
  },
  {
   "cell_type": "code",
   "execution_count": null,
   "metadata": {
    "scrolled": false
   },
   "outputs": [],
   "source": [
    "foreach my $s (@songs) {\n",
    "  say $s if $s =~ /M.n/;\n",
    "}"
   ]
  },
  {
   "cell_type": "markdown",
   "metadata": {
    "slideshow": {
     "slide_type": "slide"
    }
   },
   "source": [
    "## Character Class\n",
    "* Often matching any character is not the desired outcome\n",
    "* To specify a set of characters to match, enclose them in square brackets []\n",
    "* Characters can either be enumerated like \n",
    "    * [abcde]\n",
    "* Or defined as a range by using a hyphen inside the brackets\n",
    "    * [a-z]"
   ]
  },
  {
   "cell_type": "code",
   "execution_count": null,
   "metadata": {
    "slideshow": {
     "slide_type": "slide"
    }
   },
   "outputs": [],
   "source": [
    "foreach my $s (@songs) {\n",
    "  say $s if $s =~ /W[oa]l/;\n",
    "}"
   ]
  },
  {
   "cell_type": "markdown",
   "metadata": {
    "slideshow": {
     "slide_type": "slide"
    }
   },
   "source": [
    "## More Character Class Examples"
   ]
  },
  {
   "cell_type": "code",
   "execution_count": null,
   "metadata": {
    "scrolled": true
   },
   "outputs": [],
   "source": [
    "foreach my $s (@songs) {\n",
    "  say $s if $s =~ /[,']/;\n",
    "} "
   ]
  },
  {
   "cell_type": "code",
   "execution_count": null,
   "metadata": {
    "slideshow": {
     "slide_type": "slide"
    }
   },
   "outputs": [],
   "source": [
    "foreach my $s (@songs) {\n",
    "  say $s if $s =~ /[1-9]/;\n",
    "}"
   ]
  },
  {
   "cell_type": "markdown",
   "metadata": {
    "slideshow": {
     "slide_type": "slide"
    }
   },
   "source": [
    "## Negation of a Character Class\n",
    "* By placing a caret symbol (**^**) as the first character after the bracket, the meaning becomes *match anything but this character class*\n",
    "* [^1-9] matches any character besides a digit"
   ]
  },
  {
   "cell_type": "code",
   "execution_count": null,
   "metadata": {},
   "outputs": [],
   "source": [
    "foreach my $s (@songs) {\n",
    "  say $s if $s =~ /Lov[^e]/;\n",
    "}"
   ]
  },
  {
   "cell_type": "markdown",
   "metadata": {
    "slideshow": {
     "slide_type": "slide"
    }
   },
   "source": [
    "## Built-in Character Classes\n",
    "* Many specific character classes are used over and over\n",
    "    * It becomes very time consuming to always type out [1-9] or [a-zA-Z]\n",
    "* These common classes have shortcuts that can be used to refer to them\n",
    "    * \\w matches all letters and numbers\n",
    "    * \\W matches everything but letters and numbers\n",
    "    * \\d matches all numbers\n",
    "    * \\D matches everything but numbers\n",
    "    * \\s matches any space \n",
    "    * \\S matches any non-space"
   ]
  },
  {
   "cell_type": "markdown",
   "metadata": {
    "slideshow": {
     "slide_type": "slide"
    }
   },
   "source": [
    "## Built-in Character Class Examples"
   ]
  },
  {
   "cell_type": "code",
   "execution_count": null,
   "metadata": {},
   "outputs": [],
   "source": [
    "foreach my $s (@songs) {\n",
    "  say $s if $s =~ /\\d\\d/;\n",
    "}"
   ]
  },
  {
   "cell_type": "code",
   "execution_count": null,
   "metadata": {},
   "outputs": [],
   "source": [
    "foreach my $s (@songs) {\n",
    "  say $s if $s =~ /by\\s\\d\\d/;\n",
    "}"
   ]
  },
  {
   "cell_type": "markdown",
   "metadata": {
    "slideshow": {
     "slide_type": "slide"
    }
   },
   "source": [
    "## Character Class Practice"
   ]
  },
  {
   "cell_type": "code",
   "execution_count": null,
   "metadata": {},
   "outputs": [],
   "source": [
    "# Write a regular expression that finds all songs/artists in the top 100 with\n",
    "# two capital letters right next to each other\n",
    "foreach my $s (@songs) {\n",
    "  say $s if $s =~ /REGEX_HERE/;\n",
    "}"
   ]
  },
  {
   "cell_type": "code",
   "execution_count": null,
   "metadata": {
    "slideshow": {
     "slide_type": "-"
    }
   },
   "outputs": [],
   "source": [
    "# Write a regular expression that finds all songs/artists in the top 100 with\n",
    "# a 'word' made up of only non-alphanumeric characters\n",
    "\n",
    "foreach my $s (@songs) {\n",
    "  say $s if $s =~ /REGEX_HERE/;\n",
    "}"
   ]
  },
  {
   "cell_type": "markdown",
   "metadata": {
    "slideshow": {
     "slide_type": "slide"
    }
   },
   "source": [
    "## Alteration\n",
    "* Sometimes we want to match from a set of not just character, but entire strings\n",
    "* The pipe character **|** can be used to indicate alteration\n",
    "* Important note about ordering: The order of the regex doesn't matter, the first string matched in the text will be used"
   ]
  },
  {
   "cell_type": "code",
   "execution_count": null,
   "metadata": {},
   "outputs": [],
   "source": [
    "foreach my $s (@songs) {\n",
    "  say $s if $s =~ /\\sYou\\s|\\sMe\\s/;\n",
    "}"
   ]
  },
  {
   "cell_type": "markdown",
   "metadata": {
    "slideshow": {
     "slide_type": "slide"
    }
   },
   "source": [
    "## Grouping\n",
    "* We will see shortly that it is very useful to group together certain parts of an expression\n",
    "    * This will also be useful when we talk about substitution\n",
    "* To group anything together, wrap it in parentheses ** ( ) **"
   ]
  },
  {
   "cell_type": "code",
   "execution_count": null,
   "metadata": {},
   "outputs": [],
   "source": [
    "foreach my $s (@songs) {\n",
    "  say $s if $s =~ /\\s(You|Me)\\s/;\n",
    "}"
   ]
  },
  {
   "cell_type": "markdown",
   "metadata": {
    "slideshow": {
     "slide_type": "slide"
    }
   },
   "source": [
    "## Quantifiers\n",
    "* Quantifiers allow us to specify how many times a particular character, class, or group should occur\n",
    "* There are 4 main types of quantifiers\n",
    "    * ? must occur 0 or 1 times\n",
    "    * \\* must occur 0 or more times\n",
    "    * \\+ must occur 1 or more times\n",
    "    * Curly braces can be used to provide a custom range"
   ]
  },
  {
   "cell_type": "markdown",
   "metadata": {
    "slideshow": {
     "slide_type": "slide"
    }
   },
   "source": [
    "## Quantifier Examples"
   ]
  },
  {
   "cell_type": "code",
   "execution_count": null,
   "metadata": {},
   "outputs": [],
   "source": [
    "foreach my $s (@songs) {\n",
    " say $s if $s =~ /Not?\\s/;\n",
    "}"
   ]
  },
  {
   "cell_type": "code",
   "execution_count": null,
   "metadata": {},
   "outputs": [],
   "source": [
    "foreach my $s (@songs) {\n",
    "  say $s if $s =~ /Lov.*You/;\n",
    "}"
   ]
  },
  {
   "cell_type": "markdown",
   "metadata": {
    "slideshow": {
     "slide_type": "slide"
    }
   },
   "source": [
    "## Quantifier Examples"
   ]
  },
  {
   "cell_type": "code",
   "execution_count": null,
   "metadata": {},
   "outputs": [],
   "source": [
    "foreach my $s (@songs) {\n",
    " say $s if $s =~ /St\\w+/;\n",
    "}"
   ]
  },
  {
   "cell_type": "code",
   "execution_count": null,
   "metadata": {},
   "outputs": [],
   "source": [
    "foreach my $s (@songs) {\n",
    "  say $s if $s =~ /You\\w+.*\\sby\\s/;\n",
    "}"
   ]
  },
  {
   "cell_type": "code",
   "execution_count": null,
   "metadata": {},
   "outputs": [],
   "source": [
    "foreach my $s (@songs) {\n",
    "  say $s if $s =~ /D\\w{1,2}g/;\n",
    "}"
   ]
  },
  {
   "cell_type": "markdown",
   "metadata": {
    "slideshow": {
     "slide_type": "slide"
    }
   },
   "source": [
    "## Grouping and Quantifiers\n",
    "- When a quantifier is applied to a group, it means the entire pattern is repeated"
   ]
  },
  {
   "cell_type": "code",
   "execution_count": null,
   "metadata": {
    "scrolled": true
   },
   "outputs": [],
   "source": [
    "foreach my $s (@songs) {\n",
    "  say $s if $s =~ /\\s(\\w\\w\\w\\w)+\\s/;\n",
    "}"
   ]
  },
  {
   "cell_type": "code",
   "execution_count": null,
   "metadata": {},
   "outputs": [],
   "source": [
    "foreach my $s (@songs) {\n",
    "  say $s if $s =~ /(\\d\\w\\w){2,}/;\n",
    "}"
   ]
  },
  {
   "cell_type": "markdown",
   "metadata": {
    "slideshow": {
     "slide_type": "slide"
    }
   },
   "source": [
    "## Quantifier Live Example"
   ]
  },
  {
   "cell_type": "code",
   "execution_count": null,
   "metadata": {},
   "outputs": [],
   "source": [
    "# Write a regular expression that finds all songs in the top 100 with\n",
    "# more than two artist on them (don' worry about \"featuring\" at first\n",
    "# , but feel free to add it as a challenge)\n",
    "foreach my $s (@songs) {\n",
    "  say $s if $s =~ /REGEX_HERE/;\n",
    "}"
   ]
  },
  {
   "cell_type": "markdown",
   "metadata": {
    "slideshow": {
     "slide_type": "slide"
    }
   },
   "source": [
    "## Quantifier Practice"
   ]
  },
  {
   "cell_type": "code",
   "execution_count": null,
   "metadata": {},
   "outputs": [],
   "source": [
    "# Write a regular expression that finds all songs in the top 100 with\n",
    "# that have both the words \"You\" and \"Me\" in the title\n",
    "foreach my $s (@songs) {\n",
    "  say $s if $s =~ /REGEX_HERE/;\n",
    "}"
   ]
  },
  {
   "cell_type": "markdown",
   "metadata": {
    "slideshow": {
     "slide_type": "slide"
    }
   },
   "source": [
    "## Greedy and Non-Greedy Quantifiers\n",
    "* By default, all quantifiers will attempt to match as much text as they can\n",
    "* To change this behavoir, add an extra **?** symbol after the quantifier\n",
    "* The non-greedy quantifiers are:\n",
    "    * ??\n",
    "    * \\*?\n",
    "    * \\+?"
   ]
  },
  {
   "cell_type": "markdown",
   "metadata": {
    "slideshow": {
     "slide_type": "slide"
    }
   },
   "source": [
    " ## Greedy vs Non-Greedy Example"
   ]
  },
  {
   "cell_type": "code",
   "execution_count": null,
   "metadata": {},
   "outputs": [],
   "source": [
    "foreach my $s (@songs) {\n",
    " if ($s =~ /St.+l/){\n",
    "     # $& is the part of the string that matched our pattern\n",
    "     say $s . \" : \" . $&\n",
    " }\n",
    " \n",
    "}"
   ]
  },
  {
   "cell_type": "code",
   "execution_count": null,
   "metadata": {},
   "outputs": [],
   "source": [
    "foreach my $s (@songs) {\n",
    " if ($s =~ /St.+?l/){\n",
    "     say $s . \" : \" . $&\n",
    " }\n",
    " \n",
    "}"
   ]
  },
  {
   "cell_type": "markdown",
   "metadata": {
    "slideshow": {
     "slide_type": "slide"
    }
   },
   "source": [
    "## Anchors \n",
    "* Anchors allow us to specify that the match must start or end the string\n",
    "    * Caret **^** as the first symbol of a regex forces the match to occur at the beginning of a string\n",
    "    * Dollar-sign **\\$** as the last symbol of the regex forces the match to occur at the end of a string"
   ]
  },
  {
   "cell_type": "markdown",
   "metadata": {
    "slideshow": {
     "slide_type": "slide"
    }
   },
   "source": [
    "## Anchor Examples (Start)"
   ]
  },
  {
   "cell_type": "code",
   "execution_count": null,
   "metadata": {},
   "outputs": [],
   "source": [
    "foreach my $s (@songs) {\n",
    "  say $s if $s =~ /^St\\w+/;\n",
    "}"
   ]
  },
  {
   "cell_type": "code",
   "execution_count": null,
   "metadata": {},
   "outputs": [],
   "source": [
    "foreach my $s (@songs) {\n",
    "  say $s if $s =~ /^You.*/;\n",
    "}"
   ]
  },
  {
   "cell_type": "markdown",
   "metadata": {
    "slideshow": {
     "slide_type": "slide"
    }
   },
   "source": [
    "## Anchor Examples (End)"
   ]
  },
  {
   "cell_type": "code",
   "execution_count": null,
   "metadata": {},
   "outputs": [],
   "source": [
    "foreach my $s (@songs) {\n",
    "  say $s if $s =~ /[A-Z]$/;\n",
    "}"
   ]
  },
  {
   "cell_type": "code",
   "execution_count": null,
   "metadata": {
    "scrolled": true
   },
   "outputs": [],
   "source": [
    "foreach my $s (@songs) {\n",
    "  say $s if $s =~ /s$/;\n",
    "}"
   ]
  },
  {
   "cell_type": "markdown",
   "metadata": {
    "slideshow": {
     "slide_type": "slide"
    }
   },
   "source": [
    "## Anchor Practice\n"
   ]
  },
  {
   "cell_type": "code",
   "execution_count": null,
   "metadata": {},
   "outputs": [],
   "source": [
    "# Write a regular expression that finds all songs in the top 100 \n",
    "# that start with the word 'The'\n",
    "foreach my $s (@songs) {\n",
    "  say $s if $s =~ /REGEX_HERE/;\n",
    "}"
   ]
  },
  {
   "cell_type": "code",
   "execution_count": null,
   "metadata": {},
   "outputs": [],
   "source": [
    "# Write a regular expression that finds all songs in the top 100 \n",
    "# only have two words in the title\n",
    "foreach my $s (@songs) {\n",
    "  say $s if $s =~ /REGEX_HERE/;\n",
    "}"
   ]
  },
  {
   "cell_type": "markdown",
   "metadata": {
    "slideshow": {
     "slide_type": "slide"
    }
   },
   "source": [
    "## Matching Spaces\n",
    "* We saw earleir that the \\s character class matches all spaces\n",
    "* To match a particular space (very useful in data processing) use the following:\n",
    "    * \\t tab character\n",
    "    * \\n newline character\n",
    "    * \\r carriage return\n",
    "    * \\f form feed\n",
    "* \\b matches a word boundary, either a space, start or end of a line, etc."
   ]
  },
  {
   "cell_type": "markdown",
   "metadata": {
    "slideshow": {
     "slide_type": "slide"
    }
   },
   "source": [
    "## Boundary Matching is 0-Width"
   ]
  },
  {
   "cell_type": "code",
   "execution_count": null,
   "metadata": {},
   "outputs": [],
   "source": [
    "foreach my $s (@songs) {\n",
    "  say $s if $s =~ /by\\bCardi B/;\n",
    "}"
   ]
  },
  {
   "cell_type": "code",
   "execution_count": null,
   "metadata": {},
   "outputs": [],
   "source": [
    "foreach my $s (@songs) {\n",
    "  say $s if $s =~ /by\\sCardi B/;\n",
    "}"
   ]
  },
  {
   "cell_type": "markdown",
   "metadata": {
    "slideshow": {
     "slide_type": "slide"
    }
   },
   "source": [
    "## Escaping Meta-Characters\n",
    "* To match a meta-character as a literal, use the backslash to escape it\n",
    "    * \\. matches a literal period in the string"
   ]
  },
  {
   "cell_type": "code",
   "execution_count": null,
   "metadata": {},
   "outputs": [],
   "source": [
    "foreach my $s (@songs) {\n",
    "  say $s if $s =~ /\\./;\n",
    "}"
   ]
  },
  {
   "cell_type": "markdown",
   "metadata": {
    "slideshow": {
     "slide_type": "slide"
    }
   },
   "source": [
    "## Modifiers\n",
    "* Modifiers are placed after the final delimiter in Perl to change the behavoir of the regex\n",
    "    * Other languages may use flags or argumets to functions\n",
    "* Common modifiers are\n",
    "    * i - perform a case insensitive match\n",
    "    * g - matches all instances in a string, not just the first\n",
    "        * important if you want to substitute all matches "
   ]
  },
  {
   "cell_type": "code",
   "execution_count": null,
   "metadata": {},
   "outputs": [],
   "source": [
    "foreach my $s (@songs) {\n",
    "  say $s if $s =~ /\\bof\\b/i;\n",
    "}"
   ]
  },
  {
   "cell_type": "markdown",
   "metadata": {
    "collapsed": true,
    "slideshow": {
     "slide_type": "slide"
    }
   },
   "source": [
    "## Wrap-Up Exercise"
   ]
  },
  {
   "cell_type": "code",
   "execution_count": null,
   "metadata": {},
   "outputs": [],
   "source": [
    "# Write a regular expression that finds all songs in the top 100 \n",
    "# a character besides a alphanumeric or a space in the title\n",
    "foreach my $s (@songs) {\n",
    "  say $s if $s =~ /.*[^\\s\\w].*by/;\n",
    "}"
   ]
  }
 ],
 "metadata": {
  "celltoolbar": "Slideshow",
  "kernelspec": {
   "display_name": "IPerl 0.009",
   "language": "perl",
   "name": "iperl"
  },
  "language_info": {
   "file_extension": ".pl",
   "mimetype": "text/x-perl",
   "name": "perl",
   "version": "5.22.1"
  },
  "toc": {
   "nav_menu": {},
   "number_sections": false,
   "sideBar": true,
   "skip_h1_title": false,
   "toc_cell": false,
   "toc_position": {},
   "toc_section_display": "block",
   "toc_window_display": false
  }
 },
 "nbformat": 4,
 "nbformat_minor": 2
}

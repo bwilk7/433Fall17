{
 "cells": [
  {
   "cell_type": "markdown",
   "metadata": {
    "slideshow": {
     "slide_type": "slide"
    }
   },
   "source": [
    "# Regular Expressions\n",
    "## Introduction"
   ]
  },
  {
   "cell_type": "markdown",
   "metadata": {
    "slideshow": {
     "slide_type": "slide"
    }
   },
   "source": [
    "## Regular Expressions\n",
    "* Formally, they define a regular language\n",
    "    * One that can be recognized with a Deterministic Finite Automata (DFA)\n",
    "* Informally, they define a pattern to be matched\n",
    "    * Later we will talk about more advanced uses, like substitution\n",
    "* Regular expression is commonly shorted to **regexp**, **regex**, or **re**"
   ]
  },
  {
   "cell_type": "markdown",
   "metadata": {
    "slideshow": {
     "slide_type": "slide"
    }
   },
   "source": [
    "## Applications of RegEx Matching\n",
    "* Finding duplicated words in text\n",
    "    * I went to **the the** store\n",
    "* Recognizing dates and phone numbers in text \n",
    "    <img src=\"fb_messenger.png\" alt=\"Facebook messenger, with phone number automatically underlined\" style=\"height:20vh\">\n",
    "* Validating input\n",
    "    <img src=\"fb_verify.png\" alt=\"Facebook signup screen with message prompting to enter a valid email address\" style=\"height:20vh\">"
   ]
  },
  {
   "cell_type": "markdown",
   "metadata": {
    "slideshow": {
     "slide_type": "slide"
    }
   },
   "source": [
    "## Applications of RegEx Substitution\n",
    "* Removing duplicate words\n",
    "    * I went to **the the** store $\\rightarrow$ I went to **the** store\n",
    "* Fixing common case errors\n",
    "    * We will be learning **javascript** this semester $\\rightarrow$ We will be learning **JavaScript** this semester\n",
    "* Reformatting dates and telephone numbers\n",
    "    * 1-410-455-1000 $\\rightarrow$ +1 (410) 455-1000\n",
    "* Inserting links around phone numbers, emails, etc."
   ]
  },
  {
   "cell_type": "markdown",
   "metadata": {
    "slideshow": {
     "slide_type": "slide"
    }
   },
   "source": [
    "## RegEx's you already might use\n",
    "* File searching (file globbing)\n",
    "    * ls *.png\n",
    "    * rm *.bak\n",
    "    * cp Lecture??.html ../\n",
    "* Find & Replace in word processors/text editors\n",
    "    * Most allow you to select to use RegEx matching or not\n",
    "* Search Engines\n",
    "    * Either allow regex's or borrow concepts from them"
   ]
  },
  {
   "cell_type": "markdown",
   "metadata": {
    "slideshow": {
     "slide_type": "slide"
    }
   },
   "source": [
    "## Why Regular Expressions *Seem* Intimidating\n",
    "* Cryptic and compact\n",
    "* Whitespace sensitive (typically)\n",
    "* No standard\n",
    "    * Differences between implementations\n",
    "* Some characters are overloaded\n",
    "* Multiple solutions usually exist\n",
    "* Can be time consuming to iteraively tune a regex"
   ]
  },
  {
   "cell_type": "markdown",
   "metadata": {
    "slideshow": {
     "slide_type": "slide"
    }
   },
   "source": [
    "## Programming Language Suppport\n",
    "* Almost all programming languages support regex's, either natively or through a module/library\n",
    "* C++\n",
    "```c++\n",
    "#include <regex>\n",
    "```\n",
    "* Python\n",
    "``` python  \n",
    "import re\n",
    "```\n",
    "* Java\n",
    "```java\n",
    "import java.util.regex.Pattern;\n",
    "```"
   ]
  },
  {
   "cell_type": "markdown",
   "metadata": {
    "slideshow": {
     "slide_type": "slide"
    }
   },
   "source": [
    "## Perl & RegExs\n",
    "* Perl is a programming language developed with text processing in mind\n",
    "    * Current version is Perl 5, which is available on GL\n",
    "* Regular Expressions are a native part of Perl\n",
    "* The syntax developed for Perl is extremely popular and many other languages support it\n",
    "    * Kown as Perl Compatable Regular Expressions (PCRE)"
   ]
  },
  {
   "cell_type": "markdown",
   "metadata": {
    "slideshow": {
     "slide_type": "slide"
    },
    "tags": [
     "no-mathjax",
     "tex2jax_ignore"
    ]
   },
   "source": [
    "## Perl in This Class\n",
    "* We will use Perl to learn regular expressions, but you are only responsible for a very small subset of perl\n",
    "* All code will be of the format\n",
    "\n",
    "```\n",
    "foreach my $n (@names) {\n",
    "  print $n if $n =~ /REGEX_HERE/;\n",
    "}\n",
    "```\n",
    "\n",
    "or \n",
    "\n",
    "```\n",
    "while (<>) {\n",
    "    print if /REGEX_HERE/;\n",
    "}\n",
    "\n",
    "```"
   ]
  },
  {
   "cell_type": "code",
   "execution_count": null,
   "metadata": {
    "collapsed": true,
    "slideshow": {
     "slide_type": "skip"
    }
   },
   "outputs": [],
   "source": [
    "# This is necessary to print every statement on a new line\n",
    "# It is activating a feature that will be standard in Perl 6\n",
    "use feature qw(say);"
   ]
  },
  {
   "cell_type": "markdown",
   "metadata": {
    "slideshow": {
     "slide_type": "slide"
    }
   },
   "source": [
    "## Data for today's examples\n",
    "* We will be using the <a hrerf=\"http://www.rollingstone.com/music/lists/the-500-greatest-songs-of-all-time-20110407\">500 Greatest Songs of All Time</a>, as published by Rolling Stone Magazine in 2010\n",
    "* For convience, we have stored each song and artist as a string in a large array"
   ]
  },
  {
   "cell_type": "code",
   "execution_count": null,
   "metadata": {
    "collapsed": true,
    "slideshow": {
     "slide_type": "skip"
    }
   },
   "outputs": [],
   "source": [
    "my @songs = (\"Like a Rolling Stone by Bob Dylan\",\"(I Can\\'t Get No) Satisfaction by The Rolling Stones\",\"Imagine by John Lennon\",\"What\\'s Going On by Marvin Gaye\",\"Respect by Aretha Franklin\",\"Good Vibrations by The Beach Boys\",\"Johnny B. Goode by Chuck Berry\",\"Hey Jude by The Beatles\",\"Smells Like Teen Spirit by Nirvana\",\"What\\'d I Say by Ray Charles\",\"My Generation by The Who\",\"A Change Is Gonna Come by Sam Cooke\",\"Yesterday by The Beatles\",\"Blowin\\' in the Wind by Bob Dylan\",\"London Calling by The Clash\",\"I Want to Hold Your Hand by The Beatles\",\"Purple Haze by The Jimi Hendrix Experience\",\"Maybellene by Chuck Berry\",\"Hound Dog by Elvis Presley\",\"Let It Be by The Beatles\",\"Born to Run by Bruce Springsteen\",\"Be My Baby by The Ronettes\",\"In My Life by The Beatles\",\"People Get Ready by The Impressions\",\"God Only Knows by The Beach Boys\",\"(Sittin\\' On) The Dock of the Bay by Otis Redding\",\"Layla by Derek and the Dominos\",\"A Day in the Life by The Beatles\",\"Help! by The Beatles\",\"I Walk the Line by Johnny Cash\",\"Stairway to Heaven by Led Zeppelin\",\"Sympathy for the Devil by The Rolling Stones\",\"River Deep - Mountain High by Ike & Tina Turner\",\"You\\'ve Lost That Lovin\\' Feelin\\' by The Righteous Brothers\",\"Light My Fire by The Doors\",\"One by U2\",\"No Woman, No Cry by Bob Marley & The Wailers\",\"Gimme Shelter by The Rolling Stones\",\"That\\'ll Be the Day by Buddy Holly & The Crickets\",\"Dancing in the Street by Martha and the Vandellas\",\"The Weight by The Band\",\"Waterloo Sunset by The Kinks\",\"Tutti-Frutti by Little Richard\",\"Georgia On My Mind by Ray Charles\",\"Heartbreak Hotel by Elvis Presley\",\"Heroes by David Bowie\",\"All Along the Watchtower by The Jimi Hendrix Experience\",\"Bridge Over Troubled Water by Simon & Garfunkel\",\"Hotel California by Eagles\",\"The Tracks Of My Tears by Smokey Robinson and the Miracles\",\"The Message by Grandmaster Flash and the Furious Five\",\"When Doves Cry by Prince and The Revolution\",\"When A Man Loves A Woman by Percy Sledge\",\"Louie Louie by The Kingsmen\",\"Long Tall Sally by Little Richard\",\"Anarchy in the U.K. by Sex Pistols\",\"A Whiter Shade of Pale by Procol Harum\",\"Billie Jean by Michael Jackson\",\"The Times They Are a-Changin\\' by Bob Dylan\",\"Let\\'s Stay Together by Al Green\",\"Whole Lotta Shakin\\' Going On by Jerry Lee Lewis\",\"Bo Diddley by Bo Diddley\",\"For What It\\'s Worth by Buffalo Springfield\",\"She Loves You by The Beatles\",\"Sunshine of Your Love by Cream\",\"Redemption Song by Bob Marley & The Wailers\",\"Jailhouse Rock by Elvis Presley\",\"Tangled Up in Blue by Bob Dylan\",\"Crying by Roy Orbison\",\"Walk On By by Dionne Warwick\",\"Papa\\'s Got a Brand  Bag by James Brown\",\"California Girls by The Beach Boys\",\"Superstition by Stevie Wonder\",\"Summertime Blues by Eddie Cochran\",\"Whole Lotta Love by Led Zeppelin\",\"Strawberry Fields Forever by The Beatles\",\"Mystery Train by Elvis Presley\",\"I Got You (I Feel Good) by James Brown\",\"Mr. Tambourine Man by The Byrds\",\"You Really Got Me by The Kinks\",\"I Heard It Through the Grapevine by Marvin Gaye\",\"Blueberry Hill by Fats Domino\",\"Norwegian Wood (This Bird Has Flown) by The Beatles\",\"Every Breath You Take by The Police\",\"Crazy by Patsy Cline\",\"Thunder Road by Bruce Springsteen\",\"Ring of Fire by Johnny Cash\",\"My Girl by The Temptations\",\"California Dreamin\\' by The Mamas & The Papas\",\"In The Still Of The Nite by The Five Satins\",\"Suspicious Minds by Elvis Presley\",\"Blitzkrieg Bop by Ramones\",\"I Still Haven\\'t Found What I\\'m Looking For by U2\",\"Good Golly, Miss Molly by Little Richard\",\"Blue Suede Shoes by Carl Perkins\",\"Great Balls of Fire by Jerry Lee Lewis\",\"Roll Over Beethoven by Chuck Berry\",\"Love And Happiness by Al Green\",\"Fortunate Son by Creedence Clearwater Revival\",\"Crazy by Gnarls Barkley\",\"You Can\\'t Always Get What You Want by The Rolling Stones\",\"Voodoo Child (Slight Return) by The Jimi Hendrix Experience\",\"Be-Bop-A-Lula by Gene Vincent & His Blue Caps\",\"Hot Stuff by Donna Summer\",\"Living For The City by Stevie Wonder\",\"The Boxer by Simon & Garfunkel\",\"Mr. Tambourine Man by Bob Dylan\",\"Not Fade Away by Buddy Holly & The Crickets\",\"Little Red Corvette by Prince\",\"Brown Eyed Girl by Van Morrison\",\"I\\'ve Been Loving You Too Long (To Stop Now) by Otis Redding\",\"I\\'m So Lonesome I Could Cry by Hank Williams\",\"That\\'s All Right by Elvis Presley\",\"Up On the Roof by The Drifters\",\"You Send Me by Sam Cooke\",\"Honky Tonk Women by The Rolling Stones\",\"Take Me To The River by Al Green\",\"Crazy in Love (feat. Jay-Z) by Beyonc\\xc3\\xa9\",\"Shout (Parts 1 & 2) by The Isley Brothers\",\"Go Your Own Way by Fleetwood Mac\",\"I Want You Back by The Jackson 5\",\"Stand By Me by Ben E. King\",\"The House of the Rising Sun by The Animals\",\"It\\'s A Man\\'s Man\\'s Man\\'s World by James Brown\",\"Jumpin\\' Jack Flash by The Rolling Stones\",\"Will You Love Me Tomorrow by The Shirelles\",\"Shake, Rattle and Roll by Big Joe Turner\",\"Changes by David Bowie\",\"Rock and Roll Music by Chuck Berry\",\"Born to Be Wild by Steppenwolf\",\"Maggie May by Rod Stewart\",\"With or Without You by U2\",\"Who Do You Love? by Bo Diddley\",\"Won\\'t Get Fooled Again by The Who\",\"In the Midnight Hour by Wilson Pickett\",\"While My Guitar Gently Weeps by The Beatles\",\"Your Song by Elton John\",\"Eleanor Rigby by The Beatles\",\"Family Affair by Sly & The Family Stone\",\"I Saw Her Standing There by The Beatles\",\"Kashmir by Led Zeppelin\",\"All I Have to Do Is Dream by The Everly Brothers\",\"Please, Please, Please by James Brown\",\"Purple Rain by Prince and The Revolution\",\"I Wanna Be Sedated by Ramones\",\"Everyday People by Sly & The Family Stone\",\"Rock Lobster by The B-52\\'s\",\"Me And Bobby McGee by Janis Joplin\",\"Lust For Life by Iggy Pop\",\"Cathy\\'s Clown by The Everly Brothers\",\"Eight Miles High by The Byrds\",\"Earth Angel by The Penguins\",\"Foxey Lady by The Jimi Hendrix Experience\",\"A Hard Day\\'s Night by The Beatles\",\"Rave On by Buddy Holly & The Crickets\",\"Proud Mary by Creedence Clearwater Revival\",\"The Sound of Silence by Simon & Garfunkel\",\"I Only Have Eyes for You by The Flamingos\",\"(We\\'re Gonna) Rock Around The Clock by Bill Haley & His Comets\",\"Moment of Surrender by U2\",\"I\\'m Waiting for the Man by The Velvet Underground\",\"Bring the Noise by Public Enemy\",\"Folsom Prison Blues by Johnny Cash\",\"I Can\\'t Stop Loving You by Ray Charles\",\"Nothing Compares 2 U by Sinead O\\'Connor\",\"Bohemian Rhapsody by Queen\",\"Fast Car by Tracy Chapman\",\"Let\\'s Get It On by Marvin Gaye\",\"Papa Was a Rollin\\' Stone by The Temptations\",\"Losing My Religion by R.E.M.\",\"Both Sides Now by Joni Mitchell\",\"99 Problems by Jay-Z\",\"Dream On by Aerosmith\",\"Dancing Queen by ABBA\",\"God Save the Queen by Sex Pistols\",\"Paint It, Black by The Rolling Stones\",\"I Fought the Law by The Bobby Fuller Four\",\"Don\\'t Worry Baby by The Beach Boys\",\"Free Fallin\\' by Tom Petty\",\"September Gurls by Big Star\",\"Love Will Tear Us Apart by Joy Division\",\"Hey Ya! by OutKast\",\"Green Onions by Booker T. & The MG\\'s\",\"Save the Last Dance for Me by The Drifters\",\"The Thrill Is Gone by B.B. King\",\"Please Please Me by The Beatles\",\"Desolation Row by Bob Dylan\",\"Who\\'ll Stop the Rain by Creedence Clearwater Revival\",\"I Never Loved a Man (the Way I Love You) by Aretha Franklin\",\"Back in Black by AC/DC\",\"Stayin\\' Alive by Bee Gees\",\"Knocking On Heaven\\'s Door by Bob Dylan\",\"Free Bird by Lynyrd Skynyrd\",\"Rehab by Amy Winehouse\",\"Wichita Lineman by Glen Campbell\",\"There Goes My Baby by The Drifters\",\"Peggy Sue by Buddy Holly\",\"Sweet Child o\\' Mine by Guns N\\' Roses\",\"Maybe by The Chantels\",\"Don\\'t Be Cruel by Elvis Presley\",\"Hey Joe by The Jimi Hendrix Experience\",\"Flash Light by Parliament\",\"Loser by Beck\",\"Bizarre Love Triangle by Order\",\"Come Together by The Beatles\",\"Positively 4th Street by Bob Dylan\",\"Try a Little Tenderness by Otis Redding\",\"Lean on Me by Bill Withers\",\"Reach Out I\\'ll Be There by The Four Tops\",\"Bye Bye Love by The Everly Brothers\",\"Gloria by Them\",\"In My Room by The Beach Boys\",\"96 Tears by ? and the Mysterians\",\"Caroline, No by The Beach Boys\",\"by Prince \\xe2\\x80\\x93\",\"Rockin\\' in the Free World by Neil Young\",\"Your Cheatin\\' Heart by Hank Williams\",\"Do You Believe In Magic by The Lovin\\' Spoonful\",\"Jolene by Dolly Parton\",\"Boom Boom by John Lee Hooker\",\"Spoonful by Howlin\\' Wolf\",\"Walk away Ren\\xc3\\xa9e by The Left Banke\",\"Walk on the Wild Side by Lou Reed\",\"Oh, Pretty Woman by Roy Orbison\",\"Dance To The Music by Sly & The Family Stone\",\"Hoochie Coochie Man by Muddy Waters\",\"Fire and Rain by James Taylor\",\"Should I Stay or Should I Go by The Clash\",\"Good Times by Chic\",\"Mannish Boy by Muddy Waters\",\"Moondance by Van Morrison\",\"Just Like a Woman by Bob Dylan\",\"Sexual Healing by Marvin Gaye\",\"Only the Lonely by Roy Orbison\",\"We Gotta Get Out Of This Place by The Animals\",\"Paper Planes by M.I.A.\",\"I\\'ll Feel A Whole Lot Better by The Byrds\",\"Everyday by Buddy Holly & The Crickets\",\"I Got a Woman by Ray Charles\",\"Planet Rock by Afrika Bambaataa & the Soulsonic Force\",\"I Fall to Pieces by Patsy Cline\",\"Son of a Preacher Man by Dusty Springfield\",\"The Wanderer by Dion\",\"Stand! by Sly & The Family Stone\",\"Rocket Man (I Think It\\'s Going To Be A Long, Long Time) by Elton John\",\"Love Shack by The B-52\\'s\",\"Gimme Some Lovin\\' by The Spencer Davis Group\",\"(Your Love Keeps Lifting Me) Higher And Higher by Jackie Wilson\",\"The Night They Drove Old Dixie Down by The Band\",\"Hot Fun In The Summertime by Sly & The Family Stone\",\"Rapper\\'s Delight by The Sugarhill Gang\",\"Chain Of Fools by Aretha Franklin\",\"Paranoid by Black Sabbath\",\"Money Honey by The Drifters\",\"Mack the Knife by Bobby Darin\",\"All the Young Dudes by Mott the Hoople\",\"Paranoid Android by Radiohead\",\"Highway To Hell by AC/DC\",\"Heart of Glass by Blondie\",\"Mississippi by Bob Dylan\",\"Wild Thing by The Troggs\",\"I Can See for Miles by The Who\",\"Oh, What A Night by The Dells\",\"Hallelujah by Jeff Buckley\",\"Higher Ground by Stevie Wonder\",\"Ooo Baby Baby by Smokey Robinson and the Miracles\",\"He\\'s a Rebel by The Crystals\",\"Sail Away by Randy man\",\"Walking In The Rain by The Ronettes\",\"Tighten Up by Archie Bell & The Drells\",\"Personality Crisis by York Dolls\",\"Sunday Bloody Sunday by U2\",\"Jesus Walks by Kanye West\",\"Roadrunner by The Modern Lovers\",\"He Stopped Loving Her Today by George Jones\",\"Sloop John B by The Beach Boys\",\"Sweet Little Sixteen by Chuck Berry\",\"Something by The Beatles\",\"Somebody to Love by Jefferson Airplane\",\"Born in the U.S.A. by Bruce Springsteen\",\"I\\'ll Take You There by The Staple Singers\",\"Ziggy Stardust by David Bowie\",\"Pictures of You by The Cure\",\"Chapel Of Love by The Dixie Cups\",\"Ain\\'t No Sunshine by Bill Withers\",\"Seven Nation Army by The White Stripes\",\"You Are the Sunshine of My Life by Stevie Wonder\",\"Help Me by Joni Mitchell\",\"Call Me by Blondie\",\"(What\\'s So Funny \\'Bout) Peace, Love And Understanding by Elvis Costello & The Attractions\",\"Smokestack Lightning by Howlin\\' Wolf\",\"Summer Babe (Winter Version) by Pavement\",\"Walk This Way by Run-D.M.C.\",\"Money (That\\'s What I Want) by Barrett Strong\",\"Can\\'t Buy Me Love by The Beatles\",\"Stan (feat. Dido) by Eminem\",\"She\\'s Not There by The Zombies\",\"Train in Vain by The Clash\",\"Tired Of Being Alone by Al Green\",\"Black Dog by Led Zeppelin\",\"Street Fighting Man by The Rolling Stones\",\"Get Up, Stand Up by Bob Marley & The Wailers\",\"Heart of Gold by Neil Young\",\"Sign \\'O\\' The Times by Prince\",\"One Way or Another by Blondie\",\"Like a Prayer by Madonna\",\"One More Time by Daft Punk\",\"Da Ya Think I\\'m Sexy? by Rod Stewart\",\"Blue Eyes Crying In The Rain by Willie Nelson\",\"Ruby Tuesday by The Rolling Stones\",\"With a Little Help from My Friends by The Beatles\",\"Say It Loud (I\\'m Black and I\\'m Proud) by James Brown\",\"That\\'s Entertainment by The Jam\",\"Why Do Fools Fall In Love by Frankie Lymon & The Teenagers\",\"Lonely Teardrops by Jackie Wilson\",\"What\\'s Love Got to Do With It by Tina Turner\",\"Iron Man by Black Sabbath\",\"Wake Up Little Susie by The Everly Brothers\",\"In Dreams by Roy Orbison\",\"I Put A Spell On You by Screamin\\' Jay Hawkins\",\"Comfortably Numb by Pink Floyd\",\"Don\\'t Let Me Be Misunderstood by The Animals\",\"Alison by Elvis Costello\",\"Wish You Were Here by Pink Floyd\",\"Many Rivers to Cross by Jimmy Cliff\",\"School\\'s Out by Alice Cooper\",\"Take Me Out by Franz Ferdinand\",\"Heartbreaker by Led Zeppelin\",\"Cortez the Killer by Neil Young & Crazy Horse\",\"Fight the Power by Public Enemy\",\"Dancing Barefoot by Patti Smith Group\",\"Baby Love by The Supremes\",\"Good Lovin\\' by The Rascals\",\"Get Up (I Feel Like Being a) Sex Machine by James Brown\",\"For Your Precious Love by The Impressions\",\"The End by The Doors\",\"That\\'s The Way of the World by Earth, Wind and Fire\",\"We Will Rock You by Queen\",\"I Can\\'t Make You Love Me by Bonnie Raitt\",\"Subterranean Homesick Blues by Bob Dylan\",\"Spirit in the Sky by Norman Greenbaum\",\"Sweet Jane by The Velvet Underground\",\"Wild Horses by The Rolling Stones\",\"Beat It by Michael Jackson\",\"Beautiful Day by U2\",\"Walk This Way by Aerosmith\",\"Maybe I\\'m Amazed by Paul McCartney\",\"You Keep Me Hangin\\' On by The Supremes\",\"Baba O\\'Riley by The Who\",\"The Harder They Come by Jimmy Cliff\",\"Runaround Sue by Dion\",\"Jim Dandy by Lavern Baker\",\"Piece of My Heart by Big Brother & The Holding Company\",\"La Bamba by Ritchie Valens\",\"California Love (remix) (feat. Dr. Dre & Roger Troutman) by 2Pac\",\"Candle in the Wind by Elton John\",\"That Lady (Parts 1 & 2) by The Isley Brothers\",\"Spanish Harlem by Ben E. King\",\"The Loco-Motion by Little Eva\",\"The Great Pretender by The Platters\",\"All Shook Up by Elvis Presley\",\"Tears in Heaven by Eric Clapton\",\"Watching The Detectives by Elvis Costello\",\"Bad Moon Rising by Creedence Clearwater Revival\",\"Sweet Dreams (Are Made of This) by Eurythmics\",\"Little Wing by The Jimi Hendrix Experience\",\"Nowhere To Run by Martha and the Vandellas\",\"Got My Mojo Working by Muddy Waters\",\"Killing Me Softly With His Song by Roberta Flack\",\"All You Need Is Love by The Beatles\",\"Complete Control by The Clash\",\"The Letter by The Box Tops\",\"Highway 61 Revisited by Bob Dylan\",\"Unchained Melody by The Righteous Brothers\",\"How Deep Is Your Love by Bee Gees\",\"White Room by Cream\",\"Personal Jesus by Depeche Mode\",\"I\\'m A Man by Bo Diddley\",\"The Wind Cries Mary by The Jimi Hendrix Experience\",\"I Can\\'t Explain by The Who\",\"Marquee Moon by Television\",\"Wonderful World by Sam Cooke\",\"Brown Eyed Handsome Man by Chuck Berry\",\"Another Brick In The Wall (Part II) by Pink Floyd\",\"Fake Plastic Trees by Radiohead\",\"Maps by Yeah Yeah Yeahs\",\"Hit the Road Jack by Ray Charles\",\"Pride (in the Name of Love) by U2\",\"Radio Free Europe by R.E.M.\",\"Goodbye Yellow Brick Road by Elton John\",\"Tell It Like It Is by Aaron Neville\",\"Bitter Sweet Symphony by The Verve\",\"Whipping Post by The Allman Brothers Band\",\"Ticket to Ride by The Beatles\",\"Ohio by Crosby, Stills, Nash & Young\",\"I Know You Got Soul by Eric B. & Rakim\",\"Tiny Dancer by Elton John\",\"Roxanne by The Police\",\"Just My Imagination (Running Away With Me) by The Temptations\",\"Baby I Need Your Loving by The Four Tops\",\"Summer in the City by The Lovin\\' Spoonful\",\"O-o-h Child by The Five Stairsteps\",\"Can\\'t Help Falling in Love by Elvis Presley\",\"Remember (Walkin\\' In The Sand) by The Shangri-Las\",\"(Don\\'t Fear) The Reaper by Blue \\xc3\\x96yster Cult\",\"Thirteen by Big Star\",\"Sweet Home Alabama by Lynyrd Skynyrd\",\"Enter Sandman by Metallica\",\"Tonight\\'s the Night by The Shirelles\",\"Thank You (Falettinme Be Mice Elf Agin) by Sly & The Family Stone\",\"C\\'mon Everybody by Eddie Cochran\",\"Umbrella (feat. Jay-Z) by Rihanna\",\"Visions of Johanna by Bob Dylan\",\"We\\'ve Only Just Begun by Carpenters\",\"In Bloom by Nirvana\",\"Sweet Emotion by Aerosmith\",\"Monkey Gone to Heaven by Pixies\",\"I Feel Love by Donna Summer\",\"Ode to Billie Joe by Bobbie Gentry\",\"The Girl Can\\'t Help It by Little Richard\",\"Young Blood by The Coasters\",\"I Can\\'t Help Myself by The Four Tops\",\"The Boys Of Summer by Don Henley\",\"Juicy by The Notorious B.I.G\",\"Suite: Judy Blue Eyes by Crosby, Stills & Nash\",\"Nuthin\\' but a \\'G\\' Thang by Dr. Dre\",\"It\\'s Your Thing by The Isley Brothers\",\"Piano Man by Billy Joel\",\"Blue Suede Shoes by Elvis Presley\",\"William, It Was Really Nothing by The Smiths\",\"American Idiot by Green day\",\"Tumbling Dice by The Rolling Stones\",\"Smoke on the Water by Deep Purple\",\"Year\\'s Day by U2\",\"Everybody Needs Somebody To Love by Solomon Burke\",\"(White Man) In Hammersmith Palais by The Clash\",\"Ain\\'t That a Shame by Fats Domino\",\"Midnight Train To Georgia by Gladys Knight & The Pips\",\"Ramble On by Led Zeppelin\",\"Mustang Sally by Wilson Pickett\",\"Alone Again Or by Love\",\"Beast of Burden by The Rolling Stones\",\"Love Me Tender by Elvis Presley\",\"I Wanna Be Your Dog by The Stooges\",\"Push It by Salt-N-Pepa\",\"Pink Houses by John Mellencamp\",\"In Da Club by 50 Cent\",\"Come Go With Me by The Del-Vikings\",\"I Shot The Sheriff by Bob Marley & The Wailers\",\"I Got You Babe by Sonny & Cher\",\"Come as You Are by Nirvana\",\"Pressure Drop by Toot and the Maytals\",\"Leader of the Pack by The Shangri-Las\",\"Heroin by The Velvet Underground\",\"Penny Lane by The Beatles\",\"The Twist by Chubby Checker\",\"Cupid by Sam Cooke\",\"Paradise City by Guns N\\' Roses\",\"My Sweet Lord by George Harrison\",\"Sheena Is a Punk Rocker by Ramones\",\"All Apologies by Nirvana\",\"Soul Man by Sam & Dave\",\"Kiss by Prince and The Revolution\",\"Rollin\\' Stone by Muddy Waters\",\"Get Ur Freak On by Missy Elliott\",\"Big Pimpin\\' (feat. UGK) by Jay-Z\",\"Respect Yourself by The Staple Singers\",\"Rain by The Beatles\",\"Standing In The Shadows Of Love by The Four Tops\",\"Surrender by Cheap Trick\",\"Runaway by Del Shannon\",\"Welcome to the Jungle by Guns N\\' Roses\",\"Into The Mystic by Van Morrison\",\"Where Did Our Love Go by The Supremes\",\"Do Right Woman, Do Right Man by Aretha Franklin\",\"How Soon Is Now? by The Smiths\",\"Last Nite by The Strokes\",\"I Want To Know What Love Is by Foreigner\",\"Sabotage by Beastie Boys\",\"Super Freak by Rick James\",\"Since U Been Gone by Kelly Clarkson\",\"White Rabbit by Jefferson Airplane\",\"Cry Me a River by Justin Timberlake\",\"Lady Marmalade by Labelle\",\"Young Americans by David Bowie\",\"I\\'m Eighteen by Alice Cooper\",\"Just Like Heaven by The Cure\",\"Under the Boardwalk by The Drifters\",\"Clocks by Coldplay\",\"I Love Rock \\'N Roll by Joan Jett and The Blackhearts\",\"I Will Survive by Gloria Gaynor\",\"Time to Pretend by MGMT\",\"Ignition (Remix) by R. Kelly\",\"Brown Sugar by The Rolling Stones\",\"Running On Empty by Jackson Browne\",\"The Rising by Bruce Springsteen\",\"Miss You by The Rolling Stones\",\"Buddy Holly by Weezer\",\"Shop Around by Smokey Robinson and the Miracles\")"
   ]
  },
  {
   "cell_type": "code",
   "execution_count": 95,
   "metadata": {},
   "outputs": [
    {
     "data": {
      "text/plain": [
       "Like a Rolling Stone by Bob Dylan\n",
       "(I Can't Get No) Satisfaction by The Rolling Stones\n",
       "Imagine by John Lennon\n",
       "What's Going On by Marvin Gaye\n",
       "Respect by Aretha Franklin\n",
       "Good Vibrations by The Beach Boys\n"
      ]
     },
     "execution_count": 95,
     "metadata": {},
     "output_type": "execute_result"
    },
    {
     "name": "stderr",
     "output_type": "stream",
     "text": [
      "1\n"
     ]
    }
   ],
   "source": [
    "say join \"\\n\", @songs[0..5];"
   ]
  },
  {
   "cell_type": "markdown",
   "metadata": {
    "slideshow": {
     "slide_type": "slide"
    }
   },
   "source": [
    "## Literals\n",
    "\n",
    "* Literals match exactly\n",
    "    * Every character matches only with itself\n"
   ]
  },
  {
   "cell_type": "code",
   "execution_count": 96,
   "metadata": {},
   "outputs": [
    {
     "data": {
      "text/plain": [
       "When A Man Loves A Woman by Percy Sledge\n",
       "She Loves You by The Beatles\n",
       "Sunshine of Your Love by Cream\n",
       "Whole Lotta Love by Led Zeppelin\n",
       "Love And Happiness by Al Green\n",
       "Crazy in Love (feat. Jay-Z) by BeyoncÃ©\n",
       "Will You Love Me Tomorrow by The Shirelles\n",
       "Who Do You Love? by Bo Diddley\n",
       "Love Will Tear Us Apart by Joy Division\n",
       "I Never Loved a Man (the Way I Love You) by Aretha Franklin\n",
       "Bizarre Love Triangle by Order\n",
       "Bye Bye Love by The Everly Brothers\n",
       "Love Shack by The B-52's\n",
       "(Your Love Keeps Lifting Me) Higher And Higher by Jackie Wilson\n",
       "Roadrunner by The Modern Lovers\n",
       "Somebody to Love by Jefferson Airplane\n",
       "Chapel Of Love by The Dixie Cups\n",
       "(What's So Funny 'Bout) Peace, Love And Understanding by Elvis Costello & The Attractions\n",
       "Can't Buy Me Love by The Beatles\n",
       "Why Do Fools Fall In Love by Frankie Lymon & The Teenagers\n",
       "What's Love Got to Do With It by Tina Turner\n",
       "Baby Love by The Supremes\n",
       "For Your Precious Love by The Impressions\n",
       "I Can't Make You Love Me by Bonnie Raitt\n",
       "California Love (remix) (feat. Dr. Dre & Roger Troutman) by 2Pac\n",
       "All You Need Is Love by The Beatles\n",
       "How Deep Is Your Love by Bee Gees\n",
       "Pride (in the Name of Love) by U2\n",
       "Can't Help Falling in Love by Elvis Presley\n",
       "I Feel Love by Donna Summer\n",
       "Everybody Needs Somebody To Love by Solomon Burke\n",
       "Alone Again Or by Love\n",
       "Love Me Tender by Elvis Presley\n",
       "Standing In The Shadows Of Love by The Four Tops\n",
       "Where Did Our Love Go by The Supremes\n",
       "I Want To Know What Love Is by Foreigner\n",
       "I Love Rock 'N Roll by Joan Jett and The Blackhearts\n"
      ]
     },
     "execution_count": 96,
     "metadata": {},
     "output_type": "execute_result"
    }
   ],
   "source": [
    "foreach my $s (@songs) {\n",
    "  say $s if $s =~ /Love/;\n",
    "}"
   ]
  },
  {
   "cell_type": "markdown",
   "metadata": {
    "slideshow": {
     "slide_type": "slide"
    }
   },
   "source": [
    "## Meta-Characters\n",
    "* Meta-Characters are defined by each regex implementation\n",
    "* They do not match themselves, but instead have special meaning\n",
    "* We will go into detail about each of them, but some examples are \n",
    "    * .\n",
    "    * \\\n",
    "    * [\n",
    "    * ]\n",
    "    * (\n",
    "    * )"
   ]
  },
  {
   "cell_type": "markdown",
   "metadata": {
    "slideshow": {
     "slide_type": "slide"
    }
   },
   "source": [
    "## Matching a Single Character\n",
    "* There are three main ways to match a single character using meta-characters\n",
    "    * The dot character\n",
    "    * Programmer-defined character class\n",
    "    * Built-in charachter class"
   ]
  },
  {
   "cell_type": "markdown",
   "metadata": {
    "slideshow": {
     "slide_type": "slide"
    }
   },
   "source": [
    "## The Dot Character\n",
    "* Matches any single character **except** newlines\n",
    "    * This behavoir can usually be changed to also match newlines    "
   ]
  },
  {
   "cell_type": "code",
   "execution_count": 100,
   "metadata": {},
   "outputs": [
    {
     "data": {
      "text/plain": [
       "You've Lost That Lovin' Feelin' by The Righteous Brothers\n",
       "I've Been Loving You Too Long (To Stop Now) by Otis Redding\n",
       "I Can't Stop Loving You by Ray Charles\n",
       "Do You Believe In Magic by The Lovin' Spoonful\n",
       "Gimme Some Lovin' by The Spencer Davis Group\n",
       "He Stopped Loving Her Today by George Jones\n",
       "Good Lovin' by The Rascals\n",
       "Baby I Need Your Loving by The Four Tops\n",
       "Summer in the City by The Lovin' Spoonful\n"
      ]
     },
     "execution_count": 100,
     "metadata": {},
     "output_type": "execute_result"
    }
   ],
   "source": [
    "foreach my $s (@songs) {\n",
    "  say $s if $s =~ /Lov.n/;\n",
    "}"
   ]
  },
  {
   "cell_type": "markdown",
   "metadata": {
    "slideshow": {
     "slide_type": "slide"
    }
   },
   "source": [
    "## Character Class\n",
    "* Often matching any character is not the desired outcome\n",
    "* To specify a set of characters to match, enclose them in square brackets []\n",
    "* Characters can either be enumerated like \n",
    "    * [abcde]\n",
    "* Or defined as a range by using a hyphen inside the brackets\n",
    "    * [a-z]"
   ]
  },
  {
   "cell_type": "code",
   "execution_count": 102,
   "metadata": {
    "slideshow": {
     "slide_type": "slide"
    }
   },
   "outputs": [
    {
     "data": {
      "text/plain": [
       "Something by The Beatles\n",
       "Somebody to Love by Jefferson Airplane\n",
       "Everybody Needs Somebody To Love by Solomon Burke\n"
      ]
     },
     "execution_count": 102,
     "metadata": {},
     "output_type": "execute_result"
    }
   ],
   "source": [
    "foreach my $s (@songs) {\n",
    "  say $s if $s =~ /Some[bot]/;\n",
    "}"
   ]
  },
  {
   "cell_type": "markdown",
   "metadata": {
    "slideshow": {
     "slide_type": "slide"
    }
   },
   "source": [
    "## More Character Class Examples"
   ]
  },
  {
   "cell_type": "code",
   "execution_count": 103,
   "metadata": {
    "scrolled": true
   },
   "outputs": [
    {
     "data": {
      "text/plain": [
       "Help! by The Beatles\n",
       "River Deep - Mountain High by Ike & Tina Turner\n",
       "No Woman, No Cry by Bob Marley & The Wailers\n",
       "That'll Be the Day by Buddy Holly & The Crickets\n",
       "Bridge Over Troubled Water by Simon & Garfunkel\n",
       "Redemption Song by Bob Marley & The Wailers\n",
       "California Dreamin' by The Mamas & The Papas\n",
       "Be-Bop-A-Lula by Gene Vincent & His Blue Caps\n",
       "The Boxer by Simon & Garfunkel\n",
       "Not Fade Away by Buddy Holly & The Crickets\n",
       "Shout (Parts 1 & 2) by The Isley Brothers\n",
       "Family Affair by Sly & The Family Stone\n",
       "Everyday People by Sly & The Family Stone\n",
       "Rave On by Buddy Holly & The Crickets\n",
       "The Sound of Silence by Simon & Garfunkel\n",
       "(We're Gonna) Rock Around The Clock by Bill Haley & His Comets\n",
       "Hey Ya! by OutKast\n",
       "Green Onions by Booker T. & The MG's\n",
       "Dance To The Music by Sly & The Family Stone\n",
       "Everyday by Buddy Holly & The Crickets\n",
       "Planet Rock by Afrika Bambaataa & the Soulsonic Force\n",
       "Stand! by Sly & The Family Stone\n",
       "Hot Fun In The Summertime by Sly & The Family Stone\n",
       "Tighten Up by Archie Bell & The Drells\n",
       "(What's So Funny 'Bout) Peace, Love And Understanding by Elvis Costello & The Attractions\n",
       "Get Up, Stand Up by Bob Marley & The Wailers\n",
       "Why Do Fools Fall In Love by Frankie Lymon & The Teenagers\n",
       "Cortez the Killer by Neil Young & Crazy Horse\n",
       "Piece of My Heart by Big Brother & The Holding Company\n",
       "California Love (remix) (feat. Dr. Dre & Roger Troutman) by 2Pac\n",
       "That Lady (Parts 1 & 2) by The Isley Brothers\n",
       "Ohio by Crosby, Stills, Nash & Young\n",
       "I Know You Got Soul by Eric B. & Rakim\n",
       "Thank You (Falettinme Be Mice Elf Agin) by Sly & The Family Stone\n",
       "Suite: Judy Blue Eyes by Crosby, Stills & Nash\n",
       "Midnight Train To Georgia by Gladys Knight & The Pips\n",
       "I Shot The Sheriff by Bob Marley & The Wailers\n",
       "I Got You Babe by Sonny & Cher\n",
       "Soul Man by Sam & Dave\n"
      ]
     },
     "execution_count": 103,
     "metadata": {},
     "output_type": "execute_result"
    }
   ],
   "source": [
    "foreach my $s (@songs) {\n",
    "  say $s if $s =~ /[&!]/;\n",
    "} "
   ]
  },
  {
   "cell_type": "code",
   "execution_count": 104,
   "metadata": {},
   "outputs": [
    {
     "data": {
      "text/plain": [
       "One by U2\n",
       "I Still Haven't Found What I'm Looking For by U2\n",
       "Shout (Parts 1 & 2) by The Isley Brothers\n",
       "I Want You Back by The Jackson 5\n",
       "With or Without You by U2\n",
       "Rock Lobster by The B-52's\n",
       "Moment of Surrender by U2\n",
       "Nothing Compares 2 U by Sinead O'Connor\n",
       "99 Problems by Jay-Z\n",
       "Positively 4th Street by Bob Dylan\n",
       "96 Tears by ? and the Mysterians\n",
       "Love Shack by The B-52's\n",
       "Sunday Bloody Sunday by U2\n",
       "Beautiful Day by U2\n",
       "California Love (remix) (feat. Dr. Dre & Roger Troutman) by 2Pac\n",
       "That Lady (Parts 1 & 2) by The Isley Brothers\n",
       "Highway 61 Revisited by Bob Dylan\n",
       "Pride (in the Name of Love) by U2\n",
       "Year's Day by U2\n",
       "In Da Club by 50 Cent\n"
      ]
     },
     "execution_count": 104,
     "metadata": {},
     "output_type": "execute_result"
    }
   ],
   "source": [
    "foreach my $s (@songs) {\n",
    "  say $s if $s =~ /[1-9]/;\n",
    "}"
   ]
  },
  {
   "cell_type": "markdown",
   "metadata": {
    "slideshow": {
     "slide_type": "slide"
    }
   },
   "source": [
    "## Negation of a Character Class\n",
    "* By placing a caret symbol (**^**) as the first character after the bracket, the meaning becomes *match anything but this character class*\n",
    "* [^1-9] matches any character besides a digit"
   ]
  },
  {
   "cell_type": "code",
   "execution_count": 105,
   "metadata": {},
   "outputs": [
    {
     "data": {
      "text/plain": [
       "You've Lost That Lovin' Feelin' by The Righteous Brothers\n",
       "I've Been Loving You Too Long (To Stop Now) by Otis Redding\n",
       "I Can't Stop Loving You by Ray Charles\n",
       "Do You Believe In Magic by The Lovin' Spoonful\n",
       "Gimme Some Lovin' by The Spencer Davis Group\n",
       "He Stopped Loving Her Today by George Jones\n",
       "Good Lovin' by The Rascals\n",
       "Baby I Need Your Loving by The Four Tops\n",
       "Summer in the City by The Lovin' Spoonful\n"
      ]
     },
     "execution_count": 105,
     "metadata": {},
     "output_type": "execute_result"
    }
   ],
   "source": [
    "foreach my $s (@songs) {\n",
    "  say $s if $s =~ /Lov[^e]/;\n",
    "}"
   ]
  },
  {
   "cell_type": "markdown",
   "metadata": {
    "slideshow": {
     "slide_type": "slide"
    }
   },
   "source": [
    "## Built-in Character Classes\n",
    "* Many specific character classes are used over and over\n",
    "    * It becomes very time consuming to always type out [1-9] or [a-zA-Z]\n",
    "* These common classes have shortcuts that can be used to refer to them\n",
    "    * \\w matches all letters and numbers\n",
    "    * \\W matches everything but letters and numbers\n",
    "    * \\d matches all numbers\n",
    "    * \\D matches everything but numbers\n",
    "    * \\s matches any space \n",
    "    * \\S matches any non-space"
   ]
  },
  {
   "cell_type": "markdown",
   "metadata": {
    "slideshow": {
     "slide_type": "slide"
    }
   },
   "source": [
    "## Built-in Character Class Examples"
   ]
  },
  {
   "cell_type": "code",
   "execution_count": 106,
   "metadata": {},
   "outputs": [
    {
     "data": {
      "text/plain": [
       "Rock Lobster by The B-52's\n",
       "99 Problems by Jay-Z\n",
       "96 Tears by ? and the Mysterians\n",
       "Love Shack by The B-52's\n",
       "Highway 61 Revisited by Bob Dylan\n",
       "In Da Club by 50 Cent\n"
      ]
     },
     "execution_count": 106,
     "metadata": {},
     "output_type": "execute_result"
    }
   ],
   "source": [
    "foreach my $s (@songs) {\n",
    "  say $s if $s =~ /\\d\\d/;\n",
    "}"
   ]
  },
  {
   "cell_type": "code",
   "execution_count": 107,
   "metadata": {},
   "outputs": [
    {
     "data": {
      "text/plain": [
       "In Da Club by 50 Cent\n"
      ]
     },
     "execution_count": 107,
     "metadata": {},
     "output_type": "execute_result"
    }
   ],
   "source": [
    "foreach my $s (@songs) {\n",
    "  say $s if $s =~ /by\\s\\d\\d/;\n",
    "}"
   ]
  },
  {
   "cell_type": "markdown",
   "metadata": {
    "slideshow": {
     "slide_type": "slide"
    }
   },
   "source": [
    "## Alteration\n",
    "* Sometimes we want to match from a set of not just character, but entire strings\n",
    "* The pipe character **|** can be used to indicate alteration\n",
    "* Important note about ordering: The order of the regex doesn't matter, the first string matched in the text will be used"
   ]
  },
  {
   "cell_type": "code",
   "execution_count": 110,
   "metadata": {},
   "outputs": [
    {
     "data": {
      "text/plain": [
       "She Loves You by The Beatles\n",
       "I Got You (I Feel Good) by James Brown\n",
       "You Really Got Me by The Kinks\n",
       "Every Breath You Take by The Police\n",
       "You Can't Always Get What You Want by The Rolling Stones\n",
       "I've Been Loving You Too Long (To Stop Now) by Otis Redding\n",
       "You Send Me by Sam Cooke\n",
       "Take Me To The River by Al Green\n",
       "I Want You Back by The Jackson 5\n",
       "Stand By Me by Ben E. King\n",
       "Will You Love Me Tomorrow by The Shirelles\n",
       "With or Without You by U2\n",
       "Who Do You Love? by Bo Diddley\n",
       "I Only Have Eyes for You by The Flamingos\n",
       "I Can't Stop Loving You by Ray Charles\n",
       "Save the Last Dance for Me by The Drifters\n",
       "Please Please Me by The Beatles\n",
       "Lean on Me by Bill Withers\n",
       "Do You Believe In Magic by The Lovin' Spoonful\n",
       "I'll Take You There by The Staple Singers\n",
       "Pictures of You by The Cure\n",
       "Help Me by Joni Mitchell\n",
       "Call Me by Blondie\n",
       "Can't Buy Me Love by The Beatles\n",
       "I Put A Spell On You by Screamin' Jay Hawkins\n",
       "Don't Let Me Be Misunderstood by The Animals\n",
       "Wish You Were Here by Pink Floyd\n",
       "Take Me Out by Franz Ferdinand\n",
       "We Will Rock You by Queen\n",
       "I Can't Make You Love Me by Bonnie Raitt\n",
       "You Keep Me Hangin' On by The Supremes\n",
       "Killing Me Softly With His Song by Roberta Flack\n",
       "All You Need Is Love by The Beatles\n",
       "I Know You Got Soul by Eric B. & Rakim\n",
       "Thank You (Falettinme Be Mice Elf Agin) by Sly & The Family Stone\n",
       "Love Me Tender by Elvis Presley\n",
       "Come Go With Me by The Del-Vikings\n",
       "I Got You Babe by Sonny & Cher\n",
       "Come as You Are by Nirvana\n",
       "Cry Me a River by Justin Timberlake\n",
       "Miss You by The Rolling Stones\n"
      ]
     },
     "execution_count": 110,
     "metadata": {},
     "output_type": "execute_result"
    }
   ],
   "source": [
    "foreach my $s (@songs) {\n",
    "  say $s if $s =~ /\\sYou\\s|\\sMe\\s/;\n",
    "}"
   ]
  },
  {
   "cell_type": "markdown",
   "metadata": {
    "slideshow": {
     "slide_type": "slide"
    }
   },
   "source": [
    "## Grouping\n",
    "* We will see shortly that it is very useful to group together certain parts of an expression\n",
    "    * This will also be useful when we talk about substitution\n",
    "* To group anything together, wrap it in parentheses ** ( ) **"
   ]
  },
  {
   "cell_type": "code",
   "execution_count": 111,
   "metadata": {},
   "outputs": [
    {
     "data": {
      "text/plain": [
       "I Can't Help Myself by The Four Tops\n",
       "Respect Yourself by The Staple Singers\n"
      ]
     },
     "execution_count": 111,
     "metadata": {},
     "output_type": "execute_result"
    }
   ],
   "source": [
    "foreach my $s (@songs) {\n",
    "  say $s if $s =~ /(Your|My)self/;\n",
    "}"
   ]
  },
  {
   "cell_type": "markdown",
   "metadata": {
    "slideshow": {
     "slide_type": "slide"
    }
   },
   "source": [
    "## Quantifiers\n",
    "* Quantifiers allow us to specify how many times a particular character, class, or group should occur\n",
    "* There are 4 main types of quantifiers\n",
    "    * ? must occur 0 or 1 times\n",
    "    * \\* must occur 0 or more times\n",
    "    * \\+ must occur 1 or more times\n",
    "    * Curly braces can be used to provide a custom range"
   ]
  },
  {
   "cell_type": "markdown",
   "metadata": {
    "slideshow": {
     "slide_type": "slide"
    }
   },
   "source": [
    "## Quantifier Examples"
   ]
  },
  {
   "cell_type": "code",
   "execution_count": 136,
   "metadata": {},
   "outputs": [
    {
     "data": {
      "text/plain": [
       "You've Lost That Lovin' Feelin' by The Righteous Brothers\n",
       "I've Been Loving You Too Long (To Stop Now) by Otis Redding\n",
       "I Can't Stop Loving You by Ray Charles\n",
       "Do You Believe In Magic by The Lovin' Spoonful\n",
       "Gimme Some Lovin' by The Spencer Davis Group\n",
       "He Stopped Loving Her Today by George Jones\n",
       "Good Lovin' by The Rascals\n",
       "Baby I Need Your Loving by The Four Tops\n",
       "Summer in the City by The Lovin' Spoonful\n"
      ]
     },
     "execution_count": 136,
     "metadata": {},
     "output_type": "execute_result"
    }
   ],
   "source": [
    "foreach my $s (@songs) {\n",
    " say $s if $s =~ /Loving?/;\n",
    "}"
   ]
  },
  {
   "cell_type": "code",
   "execution_count": 114,
   "metadata": {
    "scrolled": true
   },
   "outputs": [
    {
     "data": {
      "text/plain": [
       "(I Can't Get No) Satisfaction by The Rolling Stones\n",
       "Good Vibrations by The Beach Boys\n",
       "Hey Jude by The Beatles\n",
       "My Generation by The Who\n",
       "Yesterday by The Beatles\n",
       "London Calling by The Clash\n",
       "I Want to Hold Your Hand by The Beatles\n",
       "Purple Haze by The Jimi Hendrix Experience\n",
       "Let It Be by The Beatles\n",
       "Be My Baby by The Ronettes\n",
       "In My Life by The Beatles\n",
       "People Get Ready by The Impressions\n",
       "God Only Knows by The Beach Boys\n",
       "(Sittin' On) The Dock of the Bay by Otis Redding\n",
       "A Day in the Life by The Beatles\n",
       "Help! by The Beatles\n",
       "Sympathy for the Devil by The Rolling Stones\n",
       "You've Lost That Lovin' Feelin' by The Righteous Brothers\n",
       "Light My Fire by The Doors\n",
       "No Woman, No Cry by Bob Marley & The Wailers\n",
       "Gimme Shelter by The Rolling Stones\n",
       "That'll Be the Day by Buddy Holly & The Crickets\n",
       "The Weight by The Band\n",
       "Waterloo Sunset by The Kinks\n",
       "All Along the Watchtower by The Jimi Hendrix Experience\n",
       "The Tracks Of My Tears by Smokey Robinson and the Miracles\n",
       "The Message by Grandmaster Flash and the Furious Five\n",
       "When Doves Cry by Prince and The Revolution\n",
       "Louie Louie by The Kingsmen\n",
       "The Times They Are a-Changin' by Bob Dylan\n",
       "She Loves You by The Beatles\n",
       "Redemption Song by Bob Marley & The Wailers\n",
       "California Girls by The Beach Boys\n",
       "Strawberry Fields Forever by The Beatles\n",
       "Mr. Tambourine Man by The Byrds\n",
       "You Really Got Me by The Kinks\n",
       "Norwegian Wood (This Bird Has Flown) by The Beatles\n",
       "Every Breath You Take by The Police\n",
       "My Girl by The Temptations\n",
       "California Dreamin' by The Mamas & The Papas\n",
       "In The Still Of The Nite by The Five Satins\n",
       "You Can't Always Get What You Want by The Rolling Stones\n",
       "Voodoo Child (Slight Return) by The Jimi Hendrix Experience\n",
       "Living For The City by Stevie Wonder\n",
       "The Boxer by Simon & Garfunkel\n",
       "Not Fade Away by Buddy Holly & The Crickets\n",
       "Up On the Roof by The Drifters\n",
       "Honky Tonk Women by The Rolling Stones\n",
       "Take Me To The River by Al Green\n",
       "Shout (Parts 1 & 2) by The Isley Brothers\n",
       "I Want You Back by The Jackson 5\n",
       "The House of the Rising Sun by The Animals\n",
       "Jumpin' Jack Flash by The Rolling Stones\n",
       "Will You Love Me Tomorrow by The Shirelles\n",
       "Won't Get Fooled Again by The Who\n",
       "While My Guitar Gently Weeps by The Beatles\n",
       "Eleanor Rigby by The Beatles\n",
       "Family Affair by Sly & The Family Stone\n",
       "I Saw Her Standing There by The Beatles\n",
       "All I Have to Do Is Dream by The Everly Brothers\n",
       "Purple Rain by Prince and The Revolution\n",
       "Everyday People by Sly & The Family Stone\n",
       "Rock Lobster by The B-52's\n",
       "Cathy's Clown by The Everly Brothers\n",
       "Eight Miles High by The Byrds\n",
       "Earth Angel by The Penguins\n",
       "Foxey Lady by The Jimi Hendrix Experience\n",
       "A Hard Day's Night by The Beatles\n",
       "Rave On by Buddy Holly & The Crickets\n",
       "The Sound of Silence by Simon & Garfunkel\n",
       "I Only Have Eyes for You by The Flamingos\n",
       "(We're Gonna) Rock Around The Clock by Bill Haley & His Comets\n",
       "I'm Waiting for the Man by The Velvet Underground\n",
       "Papa Was a Rollin' Stone by The Temptations\n",
       "Paint It, Black by The Rolling Stones\n",
       "I Fought the Law by The Bobby Fuller Four\n",
       "Don't Worry Baby by The Beach Boys\n",
       "Green Onions by Booker T. & The MG's\n",
       "Save the Last Dance for Me by The Drifters\n",
       "The Thrill Is Gone by B.B. King\n",
       "Please Please Me by The Beatles\n",
       "There Goes My Baby by The Drifters\n",
       "Maybe by The Chantels\n",
       "Hey Joe by The Jimi Hendrix Experience\n",
       "Come Together by The Beatles\n",
       "Reach Out I'll Be There by The Four Tops\n",
       "Bye Bye Love by The Everly Brothers\n",
       "Gloria by Them\n",
       "In My Room by The Beach Boys\n",
       "Caroline, No by The Beach Boys\n",
       "Do You Believe In Magic by The Lovin' Spoonful\n",
       "Walk away RenÃ©e by The Left Banke\n",
       "Dance To The Music by Sly & The Family Stone\n",
       "Should I Stay or Should I Go by The Clash\n",
       "We Gotta Get Out Of This Place by The Animals\n",
       "I'll Feel A Whole Lot Better by The Byrds\n",
       "Everyday by Buddy Holly & The Crickets\n",
       "The Wanderer by Dion\n",
       "Stand! by Sly & The Family Stone\n",
       "Love Shack by The B-52's\n",
       "Gimme Some Lovin' by The Spencer Davis Group\n",
       "The Night They Drove Old Dixie Down by The Band\n",
       "Hot Fun In The Summertime by Sly & The Family Stone\n",
       "Rapper's Delight by The Sugarhill Gang\n",
       "Money Honey by The Drifters\n",
       "Wild Thing by The Troggs\n",
       "I Can See for Miles by The Who\n",
       "Oh, What A Night by The Dells\n",
       "He's a Rebel by The Crystals\n",
       "Walking In The Rain by The Ronettes\n",
       "Tighten Up by Archie Bell & The Drells\n",
       "Roadrunner by The Modern Lovers\n",
       "Sloop John B by The Beach Boys\n",
       "Something by The Beatles\n",
       "I'll Take You There by The Staple Singers\n",
       "Pictures of You by The Cure\n",
       "Chapel Of Love by The Dixie Cups\n",
       "Seven Nation Army by The White Stripes\n",
       "(What's So Funny 'Bout) Peace, Love And Understanding by Elvis Costello & The Attractions\n",
       "Can't Buy Me Love by The Beatles\n",
       "She's Not There by The Zombies\n",
       "Train in Vain by The Clash\n",
       "Street Fighting Man by The Rolling Stones\n",
       "Get Up, Stand Up by Bob Marley & The Wailers\n",
       "Sign 'O' The Times by Prince\n",
       "Blue Eyes Crying In The Rain by Willie Nelson\n",
       "Ruby Tuesday by The Rolling Stones\n",
       "With a Little Help from My Friends by The Beatles\n",
       "That's Entertainment by The Jam\n",
       "Why Do Fools Fall In Love by Frankie Lymon & The Teenagers\n",
       "Wake Up Little Susie by The Everly Brothers\n",
       "Don't Let Me Be Misunderstood by The Animals\n",
       "Baby Love by The Supremes\n",
       "Good Lovin' by The Rascals\n",
       "For Your Precious Love by The Impressions\n",
       "The End by The Doors\n",
       "That's The Way of the World by Earth, Wind and Fire\n",
       "Sweet Jane by The Velvet Underground\n",
       "Wild Horses by The Rolling Stones\n",
       "You Keep Me Hangin' On by The Supremes\n",
       "Baba O'Riley by The Who\n",
       "The Harder They Come by Jimmy Cliff\n",
       "Piece of My Heart by Big Brother & The Holding Company\n",
       "That Lady (Parts 1 & 2) by The Isley Brothers\n",
       "The Loco-Motion by Little Eva\n",
       "The Great Pretender by The Platters\n",
       "Watching The Detectives by Elvis Costello\n",
       "Little Wing by The Jimi Hendrix Experience\n",
       "All You Need Is Love by The Beatles\n",
       "Complete Control by The Clash\n",
       "The Letter by The Box Tops\n",
       "Unchained Melody by The Righteous Brothers\n",
       "The Wind Cries Mary by The Jimi Hendrix Experience\n",
       "I Can't Explain by The Who\n",
       "Another Brick In The Wall (Part II) by Pink Floyd\n",
       "Bitter Sweet Symphony by The Verve\n",
       "Whipping Post by The Allman Brothers Band\n",
       "Ticket to Ride by The Beatles\n",
       "Roxanne by The Police\n",
       "Just My Imagination (Running Away With Me) by The Temptations\n",
       "Baby I Need Your Loving by The Four Tops\n",
       "Summer in the City by The Lovin' Spoonful\n",
       "O-o-h Child by The Five Stairsteps\n",
       "Remember (Walkin' In The Sand) by The Shangri-Las\n",
       "(Don't Fear) The Reaper by Blue Ãyster Cult\n",
       "Tonight's the Night by The Shirelles\n",
       "Thank You (Falettinme Be Mice Elf Agin) by Sly & The Family Stone\n",
       "The Girl Can't Help It by Little Richard\n",
       "Young Blood by The Coasters\n",
       "I Can't Help Myself by The Four Tops\n",
       "The Boys Of Summer by Don Henley\n",
       "Juicy by The Notorious B.I.G\n",
       "It's Your Thing by The Isley Brothers\n",
       "William, It Was Really Nothing by The Smiths\n",
       "Tumbling Dice by The Rolling Stones\n",
       "(White Man) In Hammersmith Palais by The Clash\n",
       "Midnight Train To Georgia by Gladys Knight & The Pips\n",
       "Beast of Burden by The Rolling Stones\n",
       "I Wanna Be Your Dog by The Stooges\n",
       "Come Go With Me by The Del-Vikings\n",
       "I Shot The Sheriff by Bob Marley & The Wailers\n",
       "Leader of the Pack by The Shangri-Las\n",
       "Heroin by The Velvet Underground\n",
       "Penny Lane by The Beatles\n",
       "The Twist by Chubby Checker\n",
       "Kiss by Prince and The Revolution\n",
       "Respect Yourself by The Staple Singers\n",
       "Rain by The Beatles\n",
       "Standing In The Shadows Of Love by The Four Tops\n",
       "Into The Mystic by Van Morrison\n",
       "Where Did Our Love Go by The Supremes\n",
       "How Soon Is Now? by The Smiths\n",
       "Last Nite by The Strokes\n",
       "Just Like Heaven by The Cure\n",
       "Under the Boardwalk by The Drifters\n",
       "I Love Rock 'N Roll by Joan Jett and The Blackhearts\n",
       "Brown Sugar by The Rolling Stones\n",
       "The Rising by Bruce Springsteen\n",
       "Miss You by The Rolling Stones\n"
      ]
     },
     "execution_count": 114,
     "metadata": {},
     "output_type": "execute_result"
    }
   ],
   "source": [
    "foreach my $s (@songs) {\n",
    " # say $s if $s =~ /Loving?/;\n",
    " say $s if $s =~ /They?/;\n",
    "}"
   ]
  },
  {
   "cell_type": "code",
   "execution_count": 115,
   "metadata": {},
   "outputs": [
    {
     "data": {
      "text/plain": [
       "She Loves You by The Beatles\n",
       "I've Been Loving You Too Long (To Stop Now) by Otis Redding\n",
       "I Can't Stop Loving You by Ray Charles\n",
       "I Never Loved a Man (the Way I Love You) by Aretha Franklin\n"
      ]
     },
     "execution_count": 115,
     "metadata": {},
     "output_type": "execute_result"
    }
   ],
   "source": [
    "foreach my $s (@songs) {\n",
    "  say $s if $s =~ /Lov.*You/;\n",
    "}"
   ]
  },
  {
   "cell_type": "markdown",
   "metadata": {
    "slideshow": {
     "slide_type": "slide"
    }
   },
   "source": [
    "## Quantifier Examples"
   ]
  },
  {
   "cell_type": "code",
   "execution_count": 137,
   "metadata": {},
   "outputs": [
    {
     "data": {
      "text/plain": [
       "Dancing in the Street by Martha and the Vandellas\n",
       "Dancing Queen by ABBA\n",
       "Save the Last Dance for Me by The Drifters\n",
       "Dance To The Music by Sly & The Family Stone\n",
       "Dancing Barefoot by Patti Smith Group\n",
       "Tiny Dancer by Elton John\n"
      ]
     },
     "execution_count": 137,
     "metadata": {},
     "output_type": "execute_result"
    }
   ],
   "source": [
    "foreach my $s (@songs) {\n",
    " say $s if $s =~ /Danc\\w+/;\n",
    "}"
   ]
  },
  {
   "cell_type": "code",
   "execution_count": 117,
   "metadata": {},
   "outputs": [
    {
     "data": {
      "text/plain": [
       "The Times They Are a-Changin' by Bob Dylan\n",
       "I Saw Her Standing There by The Beatles\n",
       "There Goes My Baby by The Drifters\n",
       "Reach Out I'll Be There by The Four Tops\n",
       "Gloria by Them\n",
       "The Night They Drove Old Dixie Down by The Band\n",
       "I'll Take You There by The Staple Singers\n",
       "She's Not There by The Zombies\n",
       "The Harder They Come by Jimmy Cliff\n"
      ]
     },
     "execution_count": 117,
     "metadata": {},
     "output_type": "execute_result"
    }
   ],
   "source": [
    "foreach my $s (@songs) {\n",
    "  say $s if $s =~ /The\\w+/;\n",
    "}"
   ]
  },
  {
   "cell_type": "code",
   "execution_count": 118,
   "metadata": {},
   "outputs": [
    {
     "data": {
      "text/plain": [
       "She Loves You by The Beatles\n",
       "I've Been Loving You Too Long (To Stop Now) by Otis Redding\n",
       "I Can't Stop Loving You by Ray Charles\n"
      ]
     },
     "execution_count": 118,
     "metadata": {},
     "output_type": "execute_result"
    }
   ],
   "source": [
    "foreach my $s (@songs) {\n",
    "  say $s if $s =~ /Lov\\w{2,}\\sYou/;\n",
    "}"
   ]
  },
  {
   "cell_type": "markdown",
   "metadata": {
    "slideshow": {
     "slide_type": "slide"
    }
   },
   "source": [
    "## Greedy and Non-Greedy Quantifiers\n",
    "* By default, all quantifiers will attempt to match as much text as they can\n",
    "* To change this behavoir, add an extra **?** symbol after the quantifier\n",
    "* The non-greedy quantifiers are:\n",
    "    * ??\n",
    "    * \\*?\n",
    "    * \\+?"
   ]
  },
  {
   "cell_type": "markdown",
   "metadata": {
    "slideshow": {
     "slide_type": "slide"
    }
   },
   "source": [
    "## Anchors \n",
    "* Anchors allow us to specify that the match must start or end the string\n",
    "    * Caret **^** as the first symbol of a regex forces the match to occur at the beginning of a string\n",
    "    * Dollar-sign **\\$** as the last symbol of the regex forces the match to occur at the end of a string"
   ]
  },
  {
   "cell_type": "markdown",
   "metadata": {
    "slideshow": {
     "slide_type": "slide"
    }
   },
   "source": [
    "## Anchor Examples"
   ]
  },
  {
   "cell_type": "code",
   "execution_count": 119,
   "metadata": {},
   "outputs": [
    {
     "data": {
      "text/plain": [
       "Dancing in the Street by Martha and the Vandellas\n",
       "Dancing Queen by ABBA\n",
       "Dance To The Music by Sly & The Family Stone\n",
       "Dancing Barefoot by Patti Smith Group\n"
      ]
     },
     "execution_count": 119,
     "metadata": {},
     "output_type": "execute_result"
    }
   ],
   "source": [
    "foreach my $s (@songs) {\n",
    "  say $s if $s =~ /^Danc/;\n",
    "}"
   ]
  },
  {
   "cell_type": "code",
   "execution_count": 120,
   "metadata": {},
   "outputs": [
    {
     "data": {
      "text/plain": [
       "Love And Happiness by Al Green\n",
       "Love Will Tear Us Apart by Joy Division\n",
       "Love Shack by The B-52's\n",
       "Love Me Tender by Elvis Presley\n"
      ]
     },
     "execution_count": 120,
     "metadata": {},
     "output_type": "execute_result"
    }
   ],
   "source": [
    "foreach my $s (@songs) {\n",
    "  say $s if $s =~ /^Love/;\n",
    "}"
   ]
  },
  {
   "cell_type": "markdown",
   "metadata": {
    "slideshow": {
     "slide_type": "slide"
    }
   },
   "source": [
    "## Anchor Examples"
   ]
  },
  {
   "cell_type": "code",
   "execution_count": 121,
   "metadata": {},
   "outputs": [
    {
     "data": {
      "text/plain": [
       "You've Lost That Lovin' Feelin' by The Righteous Brothers\n",
       "Shout (Parts 1 & 2) by The Isley Brothers\n",
       "All I Have to Do Is Dream by The Everly Brothers\n",
       "Cathy's Clown by The Everly Brothers\n",
       "Bye Bye Love by The Everly Brothers\n",
       "Wake Up Little Susie by The Everly Brothers\n",
       "That Lady (Parts 1 & 2) by The Isley Brothers\n",
       "Unchained Melody by The Righteous Brothers\n",
       "It's Your Thing by The Isley Brothers\n"
      ]
     },
     "execution_count": 121,
     "metadata": {},
     "output_type": "execute_result"
    }
   ],
   "source": [
    "foreach my $s (@songs) {\n",
    "  say $s if $s =~ /Brothers$/;\n",
    "}"
   ]
  },
  {
   "cell_type": "code",
   "execution_count": 125,
   "metadata": {
    "scrolled": true
   },
   "outputs": [
    {
     "data": {
      "text/plain": [
       "(I Can't Get No) Satisfaction by The Rolling Stones\n",
       "Hey Jude by The Beatles\n",
       "What'd I Say by Ray Charles\n",
       "Yesterday by The Beatles\n",
       "I Want to Hold Your Hand by The Beatles\n",
       "Let It Be by The Beatles\n",
       "Be My Baby by The Ronettes\n",
       "In My Life by The Beatles\n",
       "A Day in the Life by The Beatles\n",
       "Help! by The Beatles\n",
       "Sympathy for the Devil by The Rolling Stones\n",
       "Gimme Shelter by The Rolling Stones\n",
       "Georgia On My Mind by Ray Charles\n",
       "Hotel California by Eagles\n",
       "The Tracks Of My Tears by Smokey Robinson and the Miracles\n",
       "She Loves You by The Beatles\n",
       "Strawberry Fields Forever by The Beatles\n",
       "Norwegian Wood (This Bird Has Flown) by The Beatles\n",
       "Blitzkrieg Bop by Ramones\n",
       "You Can't Always Get What You Want by The Rolling Stones\n",
       "Honky Tonk Women by The Rolling Stones\n",
       "Jumpin' Jack Flash by The Rolling Stones\n",
       "Will You Love Me Tomorrow by The Shirelles\n",
       "While My Guitar Gently Weeps by The Beatles\n",
       "Eleanor Rigby by The Beatles\n",
       "I Saw Her Standing There by The Beatles\n",
       "I Wanna Be Sedated by Ramones\n",
       "A Hard Day's Night by The Beatles\n",
       "I Can't Stop Loving You by Ray Charles\n",
       "Paint It, Black by The Rolling Stones\n",
       "Please Please Me by The Beatles\n",
       "Stayin' Alive by Bee Gees\n",
       "Sweet Child o' Mine by Guns N' Roses\n",
       "Come Together by The Beatles\n",
       "I Got a Woman by Ray Charles\n",
       "Ooo Baby Baby by Smokey Robinson and the Miracles\n",
       "Walking In The Rain by The Ronettes\n",
       "He Stopped Loving Her Today by George Jones\n",
       "Something by The Beatles\n",
       "Seven Nation Army by The White Stripes\n",
       "Can't Buy Me Love by The Beatles\n",
       "She's Not There by The Zombies\n",
       "Street Fighting Man by The Rolling Stones\n",
       "Ruby Tuesday by The Rolling Stones\n",
       "With a Little Help from My Friends by The Beatles\n",
       "Baby Love by The Supremes\n",
       "Wild Horses by The Rolling Stones\n",
       "You Keep Me Hangin' On by The Supremes\n",
       "All You Need Is Love by The Beatles\n",
       "How Deep Is Your Love by Bee Gees\n",
       "Hit the Road Jack by Ray Charles\n",
       "Ticket to Ride by The Beatles\n",
       "Tonight's the Night by The Shirelles\n",
       "Monkey Gone to Heaven by Pixies\n",
       "Tumbling Dice by The Rolling Stones\n",
       "Beast of Burden by The Rolling Stones\n",
       "I Wanna Be Your Dog by The Stooges\n",
       "Penny Lane by The Beatles\n",
       "Paradise City by Guns N' Roses\n",
       "Sheena Is a Punk Rocker by Ramones\n",
       "Rain by The Beatles\n",
       "Welcome to the Jungle by Guns N' Roses\n",
       "Where Did Our Love Go by The Supremes\n",
       "Last Nite by The Strokes\n",
       "Super Freak by Rick James\n",
       "Brown Sugar by The Rolling Stones\n",
       "Miss You by The Rolling Stones\n",
       "Shop Around by Smokey Robinson and the Miracles\n"
      ]
     },
     "execution_count": 125,
     "metadata": {},
     "output_type": "execute_result"
    }
   ],
   "source": [
    "foreach my $s (@songs) {\n",
    "  say $s if $s =~ /es$/;\n",
    "}"
   ]
  },
  {
   "cell_type": "markdown",
   "metadata": {
    "slideshow": {
     "slide_type": "slide"
    }
   },
   "source": [
    "## Matching Spaces\n",
    "* We saw earleir that the \\s character class matches all spaces\n",
    "* To match a particular space (very useful in data processing) use the following:\n",
    "    * \\t tab character\n",
    "    * \\n newline character\n",
    "    * \\r carriage return\n",
    "    * \\f form feed\n",
    "* \\b matches a word boundary, either a space, start or end of a line, etc."
   ]
  },
  {
   "cell_type": "markdown",
   "metadata": {
    "slideshow": {
     "slide_type": "slide"
    }
   },
   "source": [
    "## Escaping Meta-Characters\n",
    "* To match a meta-character as a literal, use the backslash to escape it\n",
    "    * \\. matches a literal period in the string"
   ]
  },
  {
   "cell_type": "code",
   "execution_count": 126,
   "metadata": {},
   "outputs": [
    {
     "data": {
      "text/plain": [
       "Johnny B. Goode by Chuck Berry\n",
       "Anarchy in the U.K. by Sex Pistols\n",
       "Mr. Tambourine Man by The Byrds\n",
       "Mr. Tambourine Man by Bob Dylan\n",
       "Crazy in Love (feat. Jay-Z) by BeyoncÃ©\n",
       "Stand By Me by Ben E. King\n",
       "Losing My Religion by R.E.M.\n",
       "Green Onions by Booker T. & The MG's\n",
       "The Thrill Is Gone by B.B. King\n",
       "Paper Planes by M.I.A.\n",
       "Born in the U.S.A. by Bruce Springsteen\n",
       "Walk This Way by Run-D.M.C.\n",
       "Stan (feat. Dido) by Eminem\n",
       "California Love (remix) (feat. Dr. Dre & Roger Troutman) by 2Pac\n",
       "Spanish Harlem by Ben E. King\n",
       "Radio Free Europe by R.E.M.\n",
       "I Know You Got Soul by Eric B. & Rakim\n",
       "Umbrella (feat. Jay-Z) by Rihanna\n",
       "Juicy by The Notorious B.I.G\n",
       "Nuthin' but a 'G' Thang by Dr. Dre\n",
       "Big Pimpin' (feat. UGK) by Jay-Z\n",
       "Ignition (Remix) by R. Kelly\n"
      ]
     },
     "execution_count": 126,
     "metadata": {},
     "output_type": "execute_result"
    }
   ],
   "source": [
    "foreach my $s (@songs) {\n",
    "  say $s if $s =~ /\\./;\n",
    "}"
   ]
  },
  {
   "cell_type": "markdown",
   "metadata": {
    "slideshow": {
     "slide_type": "slide"
    }
   },
   "source": [
    "## Backreferences\n",
    "* One of the most powerful uses of grouping is to specify seeing the same match later in the expression\n",
    "* Each group is assigned a number by the regular expression engine\n",
    "    * To refer back to that group, use backslash followed by the number, e.g. \\1"
   ]
  },
  {
   "cell_type": "code",
   "execution_count": 127,
   "metadata": {
    "scrolled": true
   },
   "outputs": [
    {
     "data": {
      "text/plain": [
       "Like a Rolling Stone by Bob Dylan\n",
       "(I Can't Get No) Satisfaction by The Rolling Stones\n",
       "Imagine by John Lennon\n",
       "Good Vibrations by The Beach Boys\n",
       "Johnny B. Goode by Chuck Berry\n",
       "Smells Like Teen Spirit by Nirvana\n",
       "A Change Is Gonna Come by Sam Cooke\n",
       "London Calling by The Clash\n",
       "Maybellene by Chuck Berry\n",
       "Born to Run by Bruce Springsteen\n",
       "Be My Baby by The Ronettes\n",
       "People Get Ready by The Impressions\n",
       "(Sittin' On) The Dock of the Bay by Otis Redding\n",
       "I Walk the Line by Johnny Cash\n",
       "Stairway to Heaven by Led Zeppelin\n",
       "Sympathy for the Devil by The Rolling Stones\n",
       "River Deep - Mountain High by Ike & Tina Turner\n",
       "You've Lost That Lovin' Feelin' by The Righteous Brothers\n",
       "Light My Fire by The Doors\n",
       "Gimme Shelter by The Rolling Stones\n",
       "That'll Be the Day by Buddy Holly & The Crickets\n",
       "Dancing in the Street by Martha and the Vandellas\n",
       "Waterloo Sunset by The Kinks\n",
       "Tutti-Frutti by Little Richard\n",
       "All Along the Watchtower by The Jimi Hendrix Experience\n",
       "The Message by Grandmaster Flash and the Furious Five\n",
       "Long Tall Sally by Little Richard\n",
       "Billie Jean by Michael Jackson\n",
       "Let's Stay Together by Al Green\n",
       "Whole Lotta Shakin' Going On by Jerry Lee Lewis\n",
       "Bo Diddley by Bo Diddley\n",
       "For What It's Worth by Buffalo Springfield\n",
       "Walk On By by Dionne Warwick\n",
       "Summertime Blues by Eddie Cochran\n",
       "Whole Lotta Love by Led Zeppelin\n",
       "Strawberry Fields Forever by The Beatles\n",
       "I Got You (I Feel Good) by James Brown\n",
       "You Really Got Me by The Kinks\n",
       "Blueberry Hill by Fats Domino\n",
       "Norwegian Wood (This Bird Has Flown) by The Beatles\n",
       "Thunder Road by Bruce Springsteen\n",
       "Ring of Fire by Johnny Cash\n",
       "In The Still Of The Nite by The Five Satins\n",
       "I Still Haven't Found What I'm Looking For by U2\n",
       "Good Golly, Miss Molly by Little Richard\n",
       "Great Balls of Fire by Jerry Lee Lewis\n",
       "Roll Over Beethoven by Chuck Berry\n",
       "Love And Happiness by Al Green\n",
       "Fortunate Son by Creedence Clearwater Revival\n",
       "You Can't Always Get What You Want by The Rolling Stones\n",
       "Voodoo Child (Slight Return) by The Jimi Hendrix Experience\n",
       "Hot Stuff by Donna Summer\n",
       "Not Fade Away by Buddy Holly & The Crickets\n",
       "Little Red Corvette by Prince\n",
       "Brown Eyed Girl by Van Morrison\n",
       "I've Been Loving You Too Long (To Stop Now) by Otis Redding\n",
       "I'm So Lonesome I Could Cry by Hank Williams\n",
       "That's All Right by Elvis Presley\n",
       "Up On the Roof by The Drifters\n",
       "You Send Me by Sam Cooke\n",
       "Honky Tonk Women by The Rolling Stones\n",
       "Take Me To The River by Al Green\n",
       "Go Your Own Way by Fleetwood Mac\n",
       "Jumpin' Jack Flash by The Rolling Stones\n",
       "Will You Love Me Tomorrow by The Shirelles\n",
       "Shake, Rattle and Roll by Big Joe Turner\n",
       "Rock and Roll Music by Chuck Berry\n",
       "Born to Be Wild by Steppenwolf\n",
       "Maggie May by Rod Stewart\n",
       "Who Do You Love? by Bo Diddley\n",
       "Won't Get Fooled Again by The Who\n",
       "In the Midnight Hour by Wilson Pickett\n",
       "While My Guitar Gently Weeps by The Beatles\n",
       "Family Affair by Sly & The Family Stone\n",
       "Kashmir by Led Zeppelin\n",
       "All I Have to Do Is Dream by The Everly Brothers\n",
       "I Wanna Be Sedated by Ramones\n",
       "Me And Bobby McGee by Janis Joplin\n",
       "Lust For Life by Iggy Pop\n",
       "Rave On by Buddy Holly & The Crickets\n",
       "Proud Mary by Creedence Clearwater Revival\n",
       "(We're Gonna) Rock Around The Clock by Bill Haley & His Comets\n",
       "Moment of Surrender by U2\n",
       "Folsom Prison Blues by Johnny Cash\n",
       "Nothing Compares 2 U by Sinead O'Connor\n",
       "Bohemian Rhapsody by Queen\n",
       "Papa Was a Rollin' Stone by The Temptations\n",
       "Both Sides Now by Joni Mitchell\n",
       "99 Problems by Jay-Z\n",
       "Dancing Queen by ABBA\n",
       "God Save the Queen by Sex Pistols\n",
       "Paint It, Black by The Rolling Stones\n",
       "I Fought the Law by The Bobby Fuller Four\n",
       "Don't Worry Baby by The Beach Boys\n",
       "Free Fallin' by Tom Petty\n",
       "Love Will Tear Us Apart by Joy Division\n",
       "Green Onions by Booker T. & The MG's\n",
       "The Thrill Is Gone by B.B. King\n",
       "Who'll Stop the Rain by Creedence Clearwater Revival\n",
       "Stayin' Alive by Bee Gees\n",
       "Knocking On Heaven's Door by Bob Dylan\n",
       "Free Bird by Lynyrd Skynyrd\n",
       "Wichita Lineman by Glen Campbell\n",
       "Peggy Sue by Buddy Holly\n",
       "Sweet Child o' Mine by Guns N' Roses\n",
       "Bizarre Love Triangle by Order\n",
       "Positively 4th Street by Bob Dylan\n",
       "Try a Little Tenderness by Otis Redding\n",
       "Lean on Me by Bill Withers\n",
       "Reach Out I'll Be There by The Four Tops\n",
       "In My Room by The Beach Boys\n",
       "Rockin' in the Free World by Neil Young\n",
       "Your Cheatin' Heart by Hank Williams\n",
       "Do You Believe In Magic by The Lovin' Spoonful\n",
       "Jolene by Dolly Parton\n",
       "Boom Boom by John Lee Hooker\n",
       "Spoonful by Howlin' Wolf\n",
       "Walk on the Wild Side by Lou Reed\n",
       "Oh, Pretty Woman by Roy Orbison\n",
       "Hoochie Coochie Man by Muddy Waters\n",
       "Good Times by Chic\n",
       "Mannish Boy by Muddy Waters\n",
       "Moondance by Van Morrison\n",
       "We Gotta Get Out Of This Place by The Animals\n",
       "I'll Feel A Whole Lot Better by The Byrds\n",
       "Everyday by Buddy Holly & The Crickets\n",
       "Planet Rock by Afrika Bambaataa & the Soulsonic Force\n",
       "I Fall to Pieces by Patsy Cline\n",
       "Gimme Some Lovin' by The Spencer Davis Group\n",
       "(Your Love Keeps Lifting Me) Higher And Higher by Jackie Wilson\n",
       "Hot Fun In The Summertime by Sly & The Family Stone\n",
       "Rapper's Delight by The Sugarhill Gang\n",
       "Chain Of Fools by Aretha Franklin\n",
       "Paranoid by Black Sabbath\n",
       "Mack the Knife by Bobby Darin\n",
       "All the Young Dudes by Mott the Hoople\n",
       "Highway To Hell by AC/DC\n",
       "Heart of Glass by Blondie\n",
       "Mississippi by Bob Dylan\n",
       "Wild Thing by The Troggs\n",
       "I Can See for Miles by The Who\n",
       "Oh, What A Night by The Dells\n",
       "Hallelujah by Jeff Buckley\n",
       "Ooo Baby Baby by Smokey Robinson and the Miracles\n",
       "Walking In The Rain by The Ronettes\n",
       "Tighten Up by Archie Bell & The Drells\n",
       "Personality Crisis by York Dolls\n",
       "Sunday Bloody Sunday by U2\n",
       "Roadrunner by The Modern Lovers\n",
       "He Stopped Loving Her Today by George Jones\n",
       "Sloop John B by The Beach Boys\n",
       "Sweet Little Sixteen by Chuck Berry\n",
       "Somebody to Love by Jefferson Airplane\n",
       "Born in the U.S.A. by Bruce Springsteen\n",
       "I'll Take You There by The Staple Singers\n",
       "Ziggy Stardust by David Bowie\n",
       "Ain't No Sunshine by Bill Withers\n",
       "Help Me by Joni Mitchell\n",
       "Call Me by Blondie\n",
       "(What's So Funny 'Bout) Peace, Love And Understanding by Elvis Costello & The Attractions\n",
       "Summer Babe (Winter Version) by Pavement\n",
       "Money (That's What I Want) by Barrett Strong\n",
       "Tired Of Being Alone by Al Green\n",
       "Black Dog by Led Zeppelin\n",
       "Street Fighting Man by The Rolling Stones\n",
       "Like a Prayer by Madonna\n",
       "Blue Eyes Crying In The Rain by Willie Nelson\n",
       "Ruby Tuesday by The Rolling Stones\n",
       "With a Little Help from My Friends by The Beatles\n",
       "Why Do Fools Fall In Love by Frankie Lymon & The Teenagers\n",
       "Iron Man by Black Sabbath\n",
       "Wake Up Little Susie by The Everly Brothers\n",
       "I Put A Spell On You by Screamin' Jay Hawkins\n",
       "Don't Let Me Be Misunderstood by The Animals\n",
       "Alison by Elvis Costello\n",
       "Many Rivers to Cross by Jimmy Cliff\n",
       "School's Out by Alice Cooper\n",
       "Heartbreaker by Led Zeppelin\n",
       "Cortez the Killer by Neil Young & Crazy Horse\n",
       "Dancing Barefoot by Patti Smith Group\n",
       "Good Lovin' by The Rascals\n",
       "Get Up (I Feel Like Being a) Sex Machine by James Brown\n",
       "For Your Precious Love by The Impressions\n",
       "The End by The Doors\n",
       "We Will Rock You by Queen\n",
       "I Can't Make You Love Me by Bonnie Raitt\n",
       "Subterranean Homesick Blues by Bob Dylan\n",
       "Spirit in the Sky by Norman Greenbaum\n",
       "Sweet Jane by The Velvet Underground\n",
       "Wild Horses by The Rolling Stones\n",
       "You Keep Me Hangin' On by The Supremes\n",
       "The Harder They Come by Jimmy Cliff\n",
       "The Loco-Motion by Little Eva\n",
       "The Great Pretender by The Platters\n",
       "All Shook Up by Elvis Presley\n",
       "Watching The Detectives by Elvis Costello\n",
       "Bad Moon Rising by Creedence Clearwater Revival\n",
       "Sweet Dreams (Are Made of This) by Eurythmics\n",
       "Little Wing by The Jimi Hendrix Experience\n",
       "Nowhere To Run by Martha and the Vandellas\n",
       "Got My Mojo Working by Muddy Waters\n",
       "Killing Me Softly With His Song by Roberta Flack\n",
       "All You Need Is Love by The Beatles\n",
       "The Letter by The Box Tops\n",
       "How Deep Is Your Love by Bee Gees\n",
       "White Room by Cream\n",
       "I'm A Man by Bo Diddley\n",
       "Marquee Moon by Television\n",
       "Wonderful World by Sam Cooke\n",
       "Brown Eyed Handsome Man by Chuck Berry\n",
       "Another Brick In The Wall (Part II) by Pink Floyd\n",
       "Fake Plastic Trees by Radiohead\n",
       "Radio Free Europe by R.E.M.\n",
       "Goodbye Yellow Brick Road by Elton John\n",
       "Tell It Like It Is by Aaron Neville\n",
       "Bitter Sweet Symphony by The Verve\n",
       "Whipping Post by The Allman Brothers Band\n",
       "Ohio by Crosby, Stills, Nash & Young\n",
       "Roxanne by The Police\n",
       "Just My Imagination (Running Away With Me) by The Temptations\n",
       "Baby I Need Your Loving by The Four Tops\n",
       "Summer in the City by The Lovin' Spoonful\n",
       "Can't Help Falling in Love by Elvis Presley\n",
       "Thirteen by Big Star\n",
       "Sweet Home Alabama by Lynyrd Skynyrd\n",
       "Enter Sandman by Metallica\n",
       "Tonight's the Night by The Shirelles\n",
       "Thank You (Falettinme Be Mice Elf Agin) by Sly & The Family Stone\n",
       "C'mon Everybody by Eddie Cochran\n",
       "Umbrella (feat. Jay-Z) by Rihanna\n",
       "Visions of Johanna by Bob Dylan\n",
       "In Bloom by Nirvana\n",
       "Sweet Emotion by Aerosmith\n",
       "I Feel Love by Donna Summer\n",
       "Ode to Billie Joe by Bobbie Gentry\n",
       "The Girl Can't Help It by Little Richard\n",
       "Young Blood by The Coasters\n",
       "The Boys Of Summer by Don Henley\n",
       "Suite: Judy Blue Eyes by Crosby, Stills & Nash\n",
       "Piano Man by Billy Joel\n",
       "William, It Was Really Nothing by The Smiths\n",
       "American Idiot by Green day\n",
       "Tumbling Dice by The Rolling Stones\n",
       "Smoke on the Water by Deep Purple\n",
       "Everybody Needs Somebody To Love by Solomon Burke\n",
       "(White Man) In Hammersmith Palais by The Clash\n",
       "Ramble On by Led Zeppelin\n",
       "Mustang Sally by Wilson Pickett\n",
       "Beast of Burden by The Rolling Stones\n",
       "I Wanna Be Your Dog by The Stooges\n",
       "Pink Houses by John Mellencamp\n",
       "I Shot The Sheriff by Bob Marley & The Wailers\n",
       "I Got You Babe by Sonny & Cher\n",
       "Pressure Drop by Toot and the Maytals\n",
       "Penny Lane by The Beatles\n",
       "The Twist by Chubby Checker\n",
       "Cupid by Sam Cooke\n",
       "My Sweet Lord by George Harrison\n",
       "Sheena Is a Punk Rocker by Ramones\n",
       "All Apologies by Nirvana\n",
       "Kiss by Prince and The Revolution\n",
       "Rollin' Stone by Muddy Waters\n",
       "Get Ur Freak On by Missy Elliott\n",
       "Surrender by Cheap Trick\n",
       "Runaway by Del Shannon\n",
       "Into The Mystic by Van Morrison\n",
       "How Soon Is Now? by The Smiths\n",
       "Since U Been Gone by Kelly Clarkson\n",
       "White Rabbit by Jefferson Airplane\n",
       "Lady Marmalade by Labelle\n",
       "I'm Eighteen by Alice Cooper\n",
       "I Love Rock 'N Roll by Joan Jett and The Blackhearts\n",
       "I Will Survive by Gloria Gaynor\n",
       "Ignition (Remix) by R. Kelly\n",
       "Brown Sugar by The Rolling Stones\n",
       "Running On Empty by Jackson Browne\n",
       "The Rising by Bruce Springsteen\n",
       "Miss You by The Rolling Stones\n",
       "Buddy Holly by Weezer\n"
      ]
     },
     "execution_count": 127,
     "metadata": {},
     "output_type": "execute_result"
    }
   ],
   "source": [
    "foreach my $s (@songs) {\n",
    "  say $s if $s =~ /(\\w)\\1/;\n",
    "}"
   ]
  },
  {
   "cell_type": "code",
   "execution_count": 142,
   "metadata": {},
   "outputs": [
    {
     "data": {
      "text/plain": [
       "Louie Louie by The Kingsmen\n",
       "Please Please Me by The Beatles\n",
       "Bye Bye Love by The Everly Brothers\n",
       "Boom Boom by John Lee Hooker\n",
       "Ooo Baby Baby by Smokey Robinson and the Miracles\n",
       "Maps by Yeah Yeah Yeahs\n"
      ]
     },
     "execution_count": 142,
     "metadata": {},
     "output_type": "execute_result"
    }
   ],
   "source": [
    "foreach my $s (@songs) {\n",
    "  say $s if $s =~ /(\\b\\w+\\b)\\s\\1\\b/;\n",
    "}"
   ]
  },
  {
   "cell_type": "code",
   "execution_count": 133,
   "metadata": {
    "slideshow": {
     "slide_type": "slide"
    }
   },
   "outputs": [
    {
     "data": {
      "text/plain": [
       "No Woman, No Cry by Bob Marley & The Wailers\n",
       "Dancing in the Street by Martha and the Vandellas\n",
       "The Weight by The Band\n",
       "When A Man Loves A Woman by Percy Sledge\n",
       "Louie Louie by The Kingsmen\n",
       "Bo Diddley by Bo Diddley\n",
       "I Got You (I Feel Good) by James Brown\n",
       "California Dreamin' by The Mamas & The Papas\n",
       "In The Still Of The Nite by The Five Satins\n",
       "I Still Haven't Found What I'm Looking For by U2\n",
       "You Can't Always Get What You Want by The Rolling Stones\n",
       "I'm So Lonesome I Could Cry by Hank Williams\n",
       "The House of the Rising Sun by The Animals\n",
       "It's A Man's Man's Man's World by James Brown\n",
       "Family Affair by Sly & The Family Stone\n",
       "Please, Please, Please by James Brown\n",
       "The Thrill Is Gone by B.B. King\n",
       "Please Please Me by The Beatles\n",
       "I Never Loved a Man (the Way I Love You) by Aretha Franklin\n",
       "Bye Bye Love by The Everly Brothers\n",
       "Boom Boom by John Lee Hooker\n",
       "Dance To The Music by Sly & The Family Stone\n",
       "Should I Stay or Should I Go by The Clash\n",
       "Rocket Man (I Think It's Going To Be A Long, Long Time) by Elton John\n",
       "(Your Love Keeps Lifting Me) Higher And Higher by Jackie Wilson\n",
       "The Night They Drove Old Dixie Down by The Band\n",
       "Hot Fun In The Summertime by Sly & The Family Stone\n",
       "All the Young Dudes by Mott the Hoople\n",
       "Ooo Baby Baby by Smokey Robinson and the Miracles\n",
       "Walking In The Rain by The Ronettes\n",
       "Sunday Bloody Sunday by U2\n",
       "Get Up, Stand Up by Bob Marley & The Wailers\n",
       "Say It Loud (I'm Black and I'm Proud) by James Brown\n",
       "The End by The Doors\n",
       "The Great Pretender by The Platters\n",
       "The Letter by The Box Tops\n",
       "The Wind Cries Mary by The Jimi Hendrix Experience\n",
       "Maps by Yeah Yeah Yeahs\n",
       "Tell It Like It Is by Aaron Neville\n",
       "Remember (Walkin' In The Sand) by The Shangri-Las\n",
       "I Shot The Sheriff by Bob Marley & The Wailers\n",
       "Standing In The Shadows Of Love by The Four Tops\n",
       "Do Right Woman, Do Right Man by Aretha Franklin\n"
      ]
     },
     "execution_count": 133,
     "metadata": {},
     "output_type": "execute_result"
    }
   ],
   "source": [
    "foreach my $s (@songs) {\n",
    "  say $s if $s =~ /(\\b\\w+\\b).*?\\b\\1\\b/;\n",
    "}"
   ]
  },
  {
   "cell_type": "markdown",
   "metadata": {
    "slideshow": {
     "slide_type": "slide"
    }
   },
   "source": [
    "## Backreference Ordering\n",
    "* If there are multiple groups in a regex, they are numbered by their left parentheses\n",
    "* This can get confusing, here is a helpful chart presented by Dan Hood\n",
    "<img src=\"registers.png\" alt=\"Diagram showing numbering of groups, the outermost group being labeled 1, followed by 2, 3, etc.\">"
   ]
  },
  {
   "cell_type": "markdown",
   "metadata": {
    "slideshow": {
     "slide_type": "slide"
    }
   },
   "source": [
    "## Modifiers\n",
    "* Modifiers are placed after the final delimiter in Perl to change the behavoir of the regex\n",
    "    * Other languages may use flags or argumets to functions\n",
    "* Common modifiers are\n",
    "    * i - perform a case insensitive match\n",
    "    * g - matches all instances in a string, not just the first\n",
    "        * important if you want to substitute all matches "
   ]
  },
  {
   "cell_type": "code",
   "execution_count": 135,
   "metadata": {},
   "outputs": [
    {
     "data": {
      "text/plain": [
       "(Sittin' On) The Dock of the Bay by Otis Redding\n",
       "The Tracks Of My Tears by Smokey Robinson and the Miracles\n",
       "A Whiter Shade of Pale by Procol Harum\n",
       "Sunshine of Your Love by Cream\n",
       "Ring of Fire by Johnny Cash\n",
       "In The Still Of The Nite by The Five Satins\n",
       "Great Balls of Fire by Jerry Lee Lewis\n",
       "The House of the Rising Sun by The Animals\n",
       "The Sound of Silence by Simon & Garfunkel\n",
       "Moment of Surrender by U2\n",
       "We Gotta Get Out Of This Place by The Animals\n",
       "Son of a Preacher Man by Dusty Springfield\n",
       "Chain Of Fools by Aretha Franklin\n",
       "Heart of Glass by Blondie\n",
       "Pictures of You by The Cure\n",
       "Chapel Of Love by The Dixie Cups\n",
       "You Are the Sunshine of My Life by Stevie Wonder\n",
       "Tired Of Being Alone by Al Green\n",
       "Heart of Gold by Neil Young\n",
       "That's The Way of the World by Earth, Wind and Fire\n",
       "Piece of My Heart by Big Brother & The Holding Company\n",
       "Sweet Dreams (Are Made of This) by Eurythmics\n",
       "Pride (in the Name of Love) by U2\n",
       "Visions of Johanna by Bob Dylan\n",
       "The Boys Of Summer by Don Henley\n",
       "Beast of Burden by The Rolling Stones\n",
       "Leader of the Pack by The Shangri-Las\n",
       "Standing In The Shadows Of Love by The Four Tops\n"
      ]
     },
     "execution_count": 135,
     "metadata": {},
     "output_type": "execute_result"
    }
   ],
   "source": [
    "foreach my $s (@songs) {\n",
    "  say $s if $s =~ /\\bof\\b/i;\n",
    "}"
   ]
  },
  {
   "cell_type": "code",
   "execution_count": null,
   "metadata": {
    "collapsed": true
   },
   "outputs": [],
   "source": []
  }
 ],
 "metadata": {
  "celltoolbar": "Slideshow",
  "kernelspec": {
   "display_name": "IPerl [git]",
   "language": "perl",
   "name": "iperl"
  },
  "language_info": {
   "file_extension": ".pl",
   "mimetype": "text/x-perl",
   "name": "perl",
   "version": "5.20.2"
  }
 },
 "nbformat": 4,
 "nbformat_minor": 2
}

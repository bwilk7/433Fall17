{
 "cells": [
  {
   "cell_type": "markdown",
   "metadata": {
    "slideshow": {
     "slide_type": "slide"
    }
   },
   "source": [
    "# JavaScript III"
   ]
  },
  {
   "cell_type": "markdown",
   "metadata": {
    "slideshow": {
     "slide_type": "slide"
    }
   },
   "source": [
    "## Common JavaScript Objects\n",
    "- JavaScript has many built-in objects that take the place of libraries in other languages\n",
    "    - Math\n",
    "    - Date\n",
    "    - RegExp\n"
   ]
  },
  {
   "cell_type": "markdown",
   "metadata": {
    "slideshow": {
     "slide_type": "slide"
    }
   },
   "source": [
    "## Math\n",
    "- The Math object has properties that function as constants\n",
    "    - Math.E\n",
    "    - Math.PI\n",
    "- The methods of the math object provide many standard calculations\n",
    "    - Math.round(x)\n",
    "    - Math.random()\n",
    "    - Math.cos(x)\n",
    "    - Math.pow(x,y)"
   ]
  },
  {
   "cell_type": "code",
   "execution_count": null,
   "metadata": {
    "slideshow": {
     "slide_type": "slide"
    }
   },
   "outputs": [],
   "source": [
    "%%script node\n",
    "console.log(\"The area of a circle with radius 3 is \" + \n",
    "            Math.PI * Math.pow(3,2))\n",
    "console.log(\"\")\n",
    "console.log(\"The cosine is (and all trig) expects radians \" +\n",
    "            Math.cos(Math.PI/2) + \" \" + Math.cos(0))\n",
    "console.log(\"\")\n",
    "console.log(\"Enjoy this random number \" + Math.random())"
   ]
  },
  {
   "cell_type": "markdown",
   "metadata": {
    "slideshow": {
     "slide_type": "slide"
    }
   },
   "source": [
    "## Date\n",
    "- The JavaScript Date object is used to both get the date, and interact with dates\n",
    "- To get a Date object, you must use the new operator\n",
    "```javscript\n",
    "var my_date = new Date();\n",
    "```\n",
    "    - Calling `Date()` with out new returns a string\n",
    "- If you don't want a full blown object, and just need the current Unix time, call `Date.now()`"
   ]
  },
  {
   "cell_type": "code",
   "execution_count": null,
   "metadata": {
    "slideshow": {
     "slide_type": "slide"
    }
   },
   "outputs": [],
   "source": [
    "%%script node\n",
    "var now = new Date()\n",
    "console.log(\"Today is \" + now)\n",
    "console.log(\"Today is \" + Date())\n",
    "console.log(\"The current UNIX time is \" + Date.now())"
   ]
  },
  {
   "cell_type": "markdown",
   "metadata": {
    "slideshow": {
     "slide_type": "slide"
    }
   },
   "source": [
    "## Common Date Methods\n",
    "- The various fields of a date can be accessed and updated using getter and setter methods\n",
    "    - `getYear()`, `setYear()`\n",
    "    - `getMonth()`, `getDay()` - Both of these start at 0!\n",
    "- Converting the Date to a string\n",
    "    - `toDateString()` returns only the date part\n",
    "    - `toTimeString()` returns only the time part\n",
    "    - There is no easy way to specify a custom format"
   ]
  },
  {
   "cell_type": "code",
   "execution_count": null,
   "metadata": {
    "slideshow": {
     "slide_type": "slide"
    }
   },
   "outputs": [],
   "source": [
    "%%script node\n",
    "var now = new Date()\n",
    "console.log(\"The date is \" + now)\n",
    "now.setFullYear(1900)\n",
    "console.log(\"The date is \" + now)\n",
    "console.log(now.toDateString())\n",
    "console.log(now.toTimeString())"
   ]
  },
  {
   "cell_type": "markdown",
   "metadata": {
    "slideshow": {
     "slide_type": "slide"
    }
   },
   "source": [
    "## Regular Expressions\n",
    "- Regular Expressions in JavaScript are almost PCRE\n",
    "- They can be created using\n",
    "    - A perl style literal, e.g. /abc/i;\n",
    "    - By using the RegExp object constructor"
   ]
  },
  {
   "cell_type": "code",
   "execution_count": null,
   "metadata": {
    "slideshow": {
     "slide_type": "slide"
    }
   },
   "outputs": [],
   "source": [
    "%%script node\n",
    "var my_reg = /\\d\\d\\d-\\d\\d\\d-\\d\\d\\d\\d/i;\n",
    "var another_re = new RegExp(\"\\\\d\\\\d\\\\d-\\\\d\\\\d\\\\d-\\\\d\\\\d\\\\d\\\\d\",\n",
    "                            \"i\");"
   ]
  },
  {
   "cell_type": "markdown",
   "metadata": {
    "slideshow": {
     "slide_type": "slide"
    }
   },
   "source": [
    "## RegExp Methods\n",
    "- regex.test returns a boolean if at least one match was found\n",
    "- regex.exec returns an array with various information about the first match found\n",
    "    - If the regex was created with the `g` flag, successive calls to regex.exec will find additional matches\n",
    "    - Any capture buffers are also included in this array"
   ]
  },
  {
   "cell_type": "code",
   "execution_count": null,
   "metadata": {
    "slideshow": {
     "slide_type": "slide"
    }
   },
   "outputs": [],
   "source": [
    "%%script node\n",
    "var my_reg = /(\\d\\d\\d)-(\\d\\d\\d)-\\d\\d\\d\\d/g;\n",
    "var text = \"410-555-1234 301-555-1234 443-555-1234\";\n",
    "var result\n",
    "while((result = my_reg.exec(text)) !== null)\n",
    "{\n",
    "    console.log(result)\n",
    "    text = \"443-555-1234 301-555-1234\"\n",
    "}"
   ]
  },
  {
   "cell_type": "code",
   "execution_count": null,
   "metadata": {
    "slideshow": {
     "slide_type": "slide"
    }
   },
   "outputs": [],
   "source": [
    "%%script node\n",
    "var my_reg = new RegExp(\"(\\\\w+) .+? \\\\1 (\\\\w+)\",'g');\n",
    "var text = \"Doe a deer a female deer ray a drop of golden sun me a name I call myself\";\n",
    "var result;\n",
    "while((result = my_reg.exec(text)) !== null)\n",
    "{\n",
    "    console.log(result)\n",
    "}\n"
   ]
  },
  {
   "cell_type": "markdown",
   "metadata": {
    "slideshow": {
     "slide_type": "slide"
    }
   },
   "source": [
    "## String\n",
    "- The string object has two methods that accept regular expressions (in either format)\n",
    "    - split(separator)\n",
    "    - replace(old,new)"
   ]
  },
  {
   "cell_type": "code",
   "execution_count": null,
   "metadata": {
    "scrolled": true,
    "slideshow": {
     "slide_type": "slide"
    }
   },
   "outputs": [],
   "source": [
    "%%script node\n",
    "var text = \"Doe a deer a female deer ray a drop of golden sun me a name I call myself\";\n",
    "console.log(text.split(/\\s/));\n",
    "console.log(text.split(RegExp(\"\\\\w\\\\w+\")))"
   ]
  },
  {
   "cell_type": "code",
   "execution_count": null,
   "metadata": {
    "slideshow": {
     "slide_type": "slide"
    }
   },
   "outputs": [],
   "source": [
    "%%script node\n",
    "var text = \"Doe a deer a female deer ray a drop of golden sun me a name I call myself\";\n",
    "console.log(text.replace(/(\\w)\\1/,\"**\"))\n",
    "console.log(text.replace(/(\\w)\\1/g,\"**\"))\n",
    "console.log(text.replace(\"ee\",\"**\"))"
   ]
  },
  {
   "cell_type": "markdown",
   "metadata": {
    "slideshow": {
     "slide_type": "slide"
    }
   },
   "source": [
    "## Events\n",
    "- So far the programming we have been doing has focused on a set of instructions to be executed roughly in sequence\n",
    "- Instead of providing the order to execution when programming, we can define handlers that will be executed in response to a specific event\n",
    "- Events are sent from a dispatcher\n",
    "    - In the case of web programming, the dispatcher is the web browser\n",
    "    - The dispatcher could be hardware based too, like a sensor ( see [NodeBots](http://nodebots.io/) )\n",
    "- The alternative to using events would be to program an instruction to check the status of something through out your code"
   ]
  },
  {
   "cell_type": "markdown",
   "metadata": {
    "slideshow": {
     "slide_type": "slide"
    }
   },
   "source": [
    "## Event Basics\n",
    "- In the JavaScript event system, we need three pieces of information to handle an event\n",
    "    - The object or objects on the page to get events from\n",
    "        - The entire document, all paragraphs, a specific element, etc.\n",
    "    - The event we want to handle\n",
    "        - A mouse click, a key press, the copying of text, etc.\n",
    "    - The function to call when the event happens, often called the _handler_"
   ]
  },
  {
   "cell_type": "markdown",
   "metadata": {
    "slideshow": {
     "slide_type": "slide"
    }
   },
   "source": [
    "## Event Propagation\n",
    "- For this discussion consider the following HTML:\n",
    "```html\n",
    "<div>\n",
    "    <p>\n",
    "        <input type=\"text\"/>\n",
    "    </p>\n",
    "</div>\n",
    "```"
   ]
  },
  {
   "cell_type": "markdown",
   "metadata": {
    "slideshow": {
     "slide_type": "slide"
    }
   },
   "source": [
    "## Event Propagation\n",
    "- One event we can listen to is __input__ that is fired when the input changes\n",
    "- This event can be captured from not only a listener on the _input_ tag, but on the _p_ and _div_ tags as well\n",
    "    - The event moving up the HTML tree is known as event propagation.\n",
    "    - It is also sometimes referred to as bubbling.\n",
    "    - The order the handlers will be called in is always the element itself followed by its closest parents\n",
    "- We can prevent this behavior if we wish\n"
   ]
  },
  {
   "cell_type": "markdown",
   "metadata": {
    "slideshow": {
     "slide_type": "slide"
    }
   },
   "source": [
    "## Issues with Event Programming\n",
    "- A webpage can generate hundreds of events a second\n",
    "    - It is impossible to process them all as they come in\n",
    "    - Events are stored in a queue for processing\n",
    "- Should all events be processed?\n",
    "    - If you processed every change in the scrollbar position, your page would lock up\n",
    "- How are events refered to\n",
    "    - In JS they are strings, so a mistyped event won't cause a syntax or error "
   ]
  },
  {
   "cell_type": "markdown",
   "metadata": {
    "slideshow": {
     "slide_type": "slide"
    }
   },
   "source": [
    "## The Event Object\n",
    "- When the handler is executed, it recieves at least one object, which contains properties about the event\n",
    "- The properties of this object depend on the event that produced it\n",
    "- The MDN page on [events](https://developer.mozilla.org/en-US/docs/Web/Events) is a good resource for this\n",
    "- Some common properties are:\n",
    "    - __screenX__ and __screenY__ for events involving the mouse\n",
    "    - __key__ or __keyCode__ for events from the keyboard\n",
    "    - __clipboardData__ for copy, cut, and paste events"
   ]
  },
  {
   "cell_type": "markdown",
   "metadata": {
    "slideshow": {
     "slide_type": "slide"
    }
   },
   "source": [
    "## addEventListener\n",
    "- The __addEventListener__ function can be called on any element \n",
    "    - The `this` inside of a handler refers to the object that triggered the event\n",
    "- It takes two parameters\n",
    "    - The event type as a string\n",
    "    - The handler function\n",
    "```js\n",
    "element.addEventListener('eventString', \n",
    "function(event){\n",
    "    doSomething();\n",
    "})\n",
    "```"
   ]
  },
  {
   "cell_type": "markdown",
   "metadata": {
    "slideshow": {
     "slide_type": "slide"
    }
   },
   "source": [
    "## Click\n",
    "- One of the most commons events is responding to a mouse click\n",
    "- The event string for this is 'click'"
   ]
  },
  {
   "cell_type": "code",
   "execution_count": null,
   "metadata": {
    "scrolled": true
   },
   "outputs": [],
   "source": [
    "%%html\n",
    "<html>\n",
    "    <head>\n",
    "        <script>\n",
    "             function paragraphHandle(){\n",
    "                    this.style.background = \"green\"\n",
    "                }\n",
    "            document.querySelector('#one').addEventListener('click',paragraphHandle)\n",
    "            document.querySelector('#two').addEventListener('click',paragraphHandle)\n",
    "            document.querySelector('#three').addEventListener('click',paragraphHandle)\n",
    "\n",
    "            document.querySelector('.contain').addEventListener('click',\n",
    "                function(){\n",
    "                    this.style.background = \"purple\"\n",
    "                })\n",
    "        </script>\n",
    "    </head>\n",
    "    <body>\n",
    "        <div class=\"contain\">\n",
    "            <p id=\"one\"> A Paragraph</p>\n",
    "            <p id=\"two\"> A Second Paragraph</p>\n",
    "            <p id=\"three\"> A Third Paragraph</p>\n",
    "        </div>\n",
    "    </body>\n",
    "</html>\n"
   ]
  },
  {
   "cell_type": "markdown",
   "metadata": {
    "slideshow": {
     "slide_type": "slide"
    }
   },
   "source": [
    "## querySelectorAll Revisited\n",
    "- Having to put an id on every element that we want to add an event listener to is cumbersome\n",
    "- __document.querySelectorAll__ will return a __NodeList__ of the matching elements\n",
    "- __NodeList__ is not an __Array__\n",
    "    - It does not have __forEach__ (reliably across all browsers anyways)\n",
    "    - We need to loop over it using old fashion C-style loops"
   ]
  },
  {
   "cell_type": "code",
   "execution_count": null,
   "metadata": {
    "slideshow": {
     "slide_type": "slide"
    }
   },
   "outputs": [],
   "source": [
    "%%html\n",
    "<html>\n",
    "    <head>\n",
    "        <script>\n",
    "             function paragraphHandle(event){\n",
    "                    this.style.background = \"green\"\n",
    "                    event.stopPropagation()\n",
    "                \n",
    "                }\n",
    "            var paragraphs = document.querySelectorAll('p')\n",
    "            for(var i = 0; i < paragraphs.length; i++)\n",
    "            {\n",
    "                paragraphs[i].addEventListener('click',paragraphHandle)\n",
    "            }\n",
    "          \n",
    "            document.querySelector('.contain2').addEventListener('click',\n",
    "                function(){\n",
    "                    this.style.background = \"purple\"\n",
    "                })\n",
    "        </script>\n",
    "    </head>\n",
    "    <body>\n",
    "        <div class=\"contain2\">\n",
    "            <p> A Paragraph</p>\n",
    "            <p> A Second Paragraph</p>\n",
    "            <p> A Third Paragraph</p>\n",
    "        </div>\n",
    "    </body>\n",
    "</html>\n"
   ]
  },
  {
   "cell_type": "markdown",
   "metadata": {
    "slideshow": {
     "slide_type": "slide"
    }
   },
   "source": [
    "## Input\n",
    "- The __input__ event is fired when ever the value of on input changes"
   ]
  },
  {
   "cell_type": "code",
   "execution_count": null,
   "metadata": {},
   "outputs": [],
   "source": [
    "%%html\n",
    "<html>\n",
    "    <head>\n",
    "    \n",
    "        <script>\n",
    "        document.querySelector(\"#theText\").addEventListener('input',\n",
    "            function(event)\n",
    "            {\n",
    "                var lastChar = this.value[this.value.length -1]\n",
    "                var out = document.querySelector(\"#output\")\n",
    "                if(lastChar == 'a' || lastChar == 'e' ||\n",
    "                   lastChar == 'i' || lastChar == \"o\" ||\n",
    "                   lastChar == 'u')\n",
    "                {\n",
    "                    out.innerHTML = \"You typed a vowel\"\n",
    "                }\n",
    "                else{\n",
    "                    out.innerHTML = \"You typed a consonant\"\n",
    "\n",
    "                }\n",
    "            })\n",
    "        </script>\n",
    "    </head>\n",
    "    <body>\n",
    "        <input id=\"theText\" type=\"text\" />\n",
    "        <p id=\"output\"></p>\n",
    "    </body>\n",
    "</html>"
   ]
  },
  {
   "cell_type": "markdown",
   "metadata": {
    "slideshow": {
     "slide_type": "slide"
    }
   },
   "source": [
    "## Keyboard Events\n",
    "- To respond to whats typed on they keyboard at any time, not just when the user is in an input field, keyboard events are used\n",
    "- There are many keyboard events, including __keyup__, __keypress__, __keydown__.\n",
    "- The implementation of these events is one of the less standardized parts of JavaScript to this day"
   ]
  },
  {
   "cell_type": "code",
   "execution_count": null,
   "metadata": {
    "slideshow": {
     "slide_type": "slide"
    }
   },
   "outputs": [],
   "source": [
    "%%html\n",
    "<html>\n",
    "    <head>\n",
    "        <script>\n",
    "        document.addEventListener('keydown',\n",
    "            function(event)\n",
    "            {\n",
    "                var output = document.querySelector(\"#output2\")\n",
    "                if( event.keyCode == 77 && event.ctrlKey == true)\n",
    "                {\n",
    "                    output.style.border = \"3px solid black\"\n",
    "                }\n",
    "                else if(event.keyCode == 77 && event.altKey == true)\n",
    "                {\n",
    "                    output.style.border = \"3px dashed black\"\n",
    "                }\n",
    "                else{\n",
    "                      output.style.border = \"0px solid black\"\n",
    "                }\n",
    "            })\n",
    "        </script>\n",
    "    </head>\n",
    "    <body>\n",
    "        <p id=\"output2\">Watch This Space</p>\n",
    "    </body>\n",
    "</html>"
   ]
  },
  {
   "cell_type": "markdown",
   "metadata": {
    "slideshow": {
     "slide_type": "slide"
    }
   },
   "source": [
    "## Blur and Focus\n",
    "- Certain HTML elements are meant for the user to interact with: buttons, input fields, radios, etc. \n",
    "- Theoretically all HTML elements can recieve focus, but this is browser dependent\n",
    "- There are several visual cues in the default styles of browsers to show what event is in focus\n",
    "    - The soft blue glow around a text box is one\n",
    "    - See [http://medialize.github.io/ally.js/tests/focus-outline-styles/](http://medialize.github.io/ally.js/tests/focus-outline-styles/index.html#style=focus&key=text,radio,checkbox,textarea,button,link,div&browser=firefox,chrome,safari,ie1) for examples"
   ]
  },
  {
   "cell_type": "code",
   "execution_count": null,
   "metadata": {
    "slideshow": {
     "slide_type": "slide"
    }
   },
   "outputs": [],
   "source": [
    "%%html\n",
    "<html>\n",
    "    <head>\n",
    "    <script>\n",
    "        function getInputType(event)\n",
    "        {\n",
    "            document.querySelector(\"#inputType\").innerHTML = this.type\n",
    "        }\n",
    "                \n",
    "        document.querySelector(\"#in\").addEventListener('focus',getInputType)\n",
    "\n",
    "        document.querySelector(\"#aSelect\").addEventListener('focus',getInputType)\n",
    "        \n",
    "        document.querySelector(\"input[type='email']\").addEventListener('focus',getInputType)\n",
    "    </script>\n",
    "    </head>\n",
    "    <body>\n",
    "        <h3>A Simple Form</h3>\n",
    "        <p id=\"inputType\">The Input Type Will Go Here</p>\n",
    "        <p>\n",
    "            <label>Name:</label> <input type=\"text\" id=\"in\"/>\n",
    "        </p>\n",
    "        <p>\n",
    "            <label>Class Standing:</label>\n",
    "        <select id=\"aSelect\">\n",
    "            <option>Freshman</option>\n",
    "            <option>Sophmore</option>\n",
    "            <option>Junior</option>\n",
    "            <option>Senior</option>\n",
    "        </select>\n",
    "        </p>\n",
    "        <p>\n",
    "        <label>Email: </label> <input type=\"email\"/>\n",
    "        </p>\n",
    "    </body>\n",
    "</html>"
   ]
  },
  {
   "cell_type": "markdown",
   "metadata": {
    "slideshow": {
     "slide_type": "slide"
    }
   },
   "source": [
    "## Mouse Movement\n",
    "- It is possible to fire an event when a mouse enter or leaves an element, or just moves over it in general"
   ]
  },
  {
   "cell_type": "code",
   "execution_count": null,
   "metadata": {
    "slideshow": {
     "slide_type": "slide"
    }
   },
   "outputs": [],
   "source": [
    "%%html\n",
    "<html>\n",
    "    <head>\n",
    "        <style>\n",
    "            #trackHere{width:100px;height:100px; border:1px solid blue;margin:10px auto}\n",
    "        </style>\n",
    "        <script>\n",
    "            document.querySelector('#trackHere').addEventListener('mousemove',function(event){\n",
    "                    document.querySelector(\"#point\").innerHTML= event.screenX + \",\" + event.screenY\n",
    "                })\n",
    "        </script>\n",
    "    </head>\n",
    "    <body>\n",
    "        <h1>A Random Heading</h1>\n",
    "        <div id=\"trackHere\"></div>\n",
    "        <p id=\"point\"></p>\n",
    "    </body>\n",
    "</html>"
   ]
  },
  {
   "cell_type": "markdown",
   "metadata": {
    "slideshow": {
     "slide_type": "slide"
    }
   },
   "source": [
    "## Live Coding Event Example\n",
    "- From https://eloquentjavascript.net/15_event.html\n",
    "    - Inflate a balloon 10% when hitting the up arrow\n",
    "    - Deflate a balloon 10% when hitting the down arrow\n",
    "    - If the balloon is too big it should pop (💥)\n",
    "    - Don't scroll!"
   ]
  },
  {
   "cell_type": "code",
   "execution_count": null,
   "metadata": {},
   "outputs": [],
   "source": [
    "%%html\n",
    "<p id=\"bal\">🎈</p>\n",
    "\n",
    "<script>\n",
    "  // Your code here\n",
    "</script>"
   ]
  },
  {
   "cell_type": "markdown",
   "metadata": {
    "slideshow": {
     "slide_type": "slide"
    }
   },
   "source": [
    "## The Event Object Practice\n",
    "- Write JavaScript to let the user know while they are dragging selected text using the __drag__ event and the HTML below"
   ]
  },
  {
   "cell_type": "code",
   "execution_count": null,
   "metadata": {},
   "outputs": [],
   "source": [
    "%%html\n",
    "<html>\n",
    "    <head>\n",
    "        <script>\n",
    "            \n",
    "        </script>\n",
    "    </head>\n",
    "    <body>\n",
    "        <div>\n",
    "            <span>Message:</span> <span id=\"selected\"></span>\n",
    "        </div>\n",
    "        <p id=\"toWatch\">The giant anteater (Myrmecophaga tridactyla), also known as the ant bear, is a large insectivorous mammal native to Central and South America. It is one of four living species of anteaters and is classified with sloths in the order Pilosa. This species is mostly terrestrial, in contrast to other living anteaters and sloths, which are arboreal or semiarboreal. The giant anteater is the largest of its family, 182–217 cm (5.97–7.12 ft) in length, with weights of 33–41 kg (73–90 lb) for males and 27–39 kg (60–86 lb) for females. It is recognizable by its elongated snout, bushy tail, long fore claws, and distinctively colored pelage.</p>\n",
    "        <p><small>From the Wikipedia entry on the Giant Anteater</small></p>al and South America. It is one of four living species of anteaters and is classified with sloths in the order Pilosa. This species is mostly terrestrial, in c\n",
    "    </body>\n",
    "</html>"
   ]
  },
  {
   "cell_type": "markdown",
   "metadata": {
    "slideshow": {
     "slide_type": "slide"
    }
   },
   "source": [
    "## Time Outs\n",
    "- Calling a handler everytime an event fires for events that fire in rapid suggestion (mousemove, etc.) can freeze the browser\n",
    "- There is no way to tell the browser not to call the events so often, but we can make sure the computationally expensive code is run only at certain intervals\n",
    "- We use a function in JavaScript called __setTimeout__ to achieve this"
   ]
  },
  {
   "cell_type": "code",
   "execution_count": null,
   "metadata": {
    "slideshow": {
     "slide_type": "slide"
    }
   },
   "outputs": [],
   "source": [
    "%%html\n",
    "<!DOCTYPE html>\n",
    "<!-- From Eloquent Javascript-->\n",
    "<html>\n",
    "<head>\n",
    "\n",
    "        <style>\n",
    "            #trackHereAgain{width:100px;height:100px; border:1px solid blue}\n",
    "        </style>\n",
    "<script>\n",
    "  function displayCoords(event) {\n",
    "    document.querySelector(\"#point2\").textContent =\n",
    "      \"Mouse at \" + event.pageX + \", \" + event.pageY;\n",
    "  }\n",
    "\n",
    "  var scheduled = false, lastEvent;\n",
    "  document.querySelector(\"#trackHereAgain\").addEventListener(\"mousemove\", function(event) {\n",
    "    lastEvent = event;\n",
    "    if (!scheduled) {\n",
    "      scheduled = true;\n",
    "      setTimeout(function() {\n",
    "        displayCoords(lastEvent);\n",
    "        scheduled = false;\n",
    "      }, 2000);\n",
    "    }\n",
    "  });\n",
    "</script>\n",
    "</head>\n",
    "<body>\n",
    "      <div id=\"trackHereAgain\"></div>\n",
    "      <p id=\"point2\"></p>\n",
    "</body>\n",
    "</html>"
   ]
  },
  {
   "cell_type": "markdown",
   "metadata": {
    "slideshow": {
     "slide_type": "slide"
    }
   },
   "source": [
    "## SetInterval\n",
    "- Rather than setting a time out in a function, we can request that a function be run every so many milliseconds\n",
    "- Usually called on the `window` object"
   ]
  },
  {
   "cell_type": "code",
   "execution_count": null,
   "metadata": {
    "slideshow": {
     "slide_type": "slide"
    }
   },
   "outputs": [],
   "source": [
    "%%html\n",
    "<!DOCTYPE html>\n",
    "<html>\n",
    "    <head>\n",
    "        <script>\n",
    "            window.setInterval(function(){\n",
    "                document.getElementById('timeContainer').innerHTML = \"The time is now \" + Date()\n",
    "            },2000);\n",
    "        </script>\n",
    "    </head>\n",
    "    <body>\n",
    "        <h1 id=\"timeContainer\"></h1>\n",
    "    </body>\n",
    "</html>"
   ]
  },
  {
   "cell_type": "markdown",
   "metadata": {
    "slideshow": {
     "slide_type": "slide"
    }
   },
   "source": [
    "## Canvas\n",
    "- One of the most exciting parts of HTML is the `<canvas>` element\n",
    "- This provides a blank space to create programmatic\n",
    "    - drawings\n",
    "    - animations\n",
    "    - interactive games\n",
    "- It must be scripted somehow, the HTML element just provides a place holder"
   ]
  },
  {
   "cell_type": "markdown",
   "metadata": {
    "slideshow": {
     "slide_type": "slide"
    }
   },
   "source": [
    "## The `<canvas>` tag\n",
    "- The `<canvas>` tag allows the width and height to be set in HTML\n",
    "- Anything placed between the opening and closing `<canvas>` tag will only be displayed on browsers that do not support canvas\n",
    "    - This provides a good fall back mechanism\n",
    "- Make sure to give it an id so you can interact with it through JavaScript"
   ]
  },
  {
   "cell_type": "markdown",
   "metadata": {
    "slideshow": {
     "slide_type": "slide"
    }
   },
   "source": [
    "## Basic Drawings\n",
    "- The canvas object only supports two types of drawings\n",
    "    - Rectangles\n",
    "    - Paths\n",
    "- All drawing is done through a context object\n",
    "```javascript\n",
    "var my_canvas = document.getElementById(\"canvas1\");\n",
    "var context = my_canvas.getContext('2d');\n",
    "```"
   ]
  },
  {
   "cell_type": "code",
   "execution_count": null,
   "metadata": {
    "slideshow": {
     "slide_type": "slide"
    }
   },
   "outputs": [],
   "source": [
    "%%html\n",
    "<!DOCTYPE html>\n",
    "<html>\n",
    "    <script>\n",
    "        \n",
    "        var my_canvas = document.getElementById(\"canvas1\");\n",
    "        var context = my_canvas.getContext('2d');\n",
    "        context.fillRect(0,0,100,100);\n",
    "        \n",
    "    </script>\n",
    "    <body>\n",
    "        <canvas id=\"canvas1\">Canvas is unsupported </canvas>\n",
    "    </body>\n",
    "</html>"
   ]
  },
  {
   "cell_type": "markdown",
   "metadata": {
    "slideshow": {
     "slide_type": "slide"
    }
   },
   "source": [
    "## Rectangles\n",
    "- Rectangles are drawn by calling either\n",
    "    - fillRect(x,y,width,height)\n",
    "    - strokeRect(x,y,width,height)\n",
    "- A rectangular portion of the canvas can be erased using\n",
    "    - clearRect(x,y,width,height)\n",
    "- The x and y refer to the position of the upper left corner of the rectangle"
   ]
  },
  {
   "cell_type": "code",
   "execution_count": null,
   "metadata": {
    "slideshow": {
     "slide_type": "slide"
    }
   },
   "outputs": [],
   "source": [
    "%%html\n",
    "<!DOCTYPE html>\n",
    "<html>\n",
    "    <script>\n",
    "        \n",
    "        var my_canvas = document.getElementById(\"canvasa\");\n",
    "        var context = my_canvas.getContext('2d');\n",
    "        context.strokeRect(0,0,100,100);\n",
    "        context.fillRect(90,90,50,50);\n",
    "        context.clearRect(100,100,25,25);\n",
    "        context.fillRect(126,126,10000,10000);\n",
    "        \n",
    "    </script>\n",
    "    <body>\n",
    "        <canvas id=\"canvasa\">Canvas is unsupported </canvas>\n",
    "    </body>\n",
    "</html>"
   ]
  },
  {
   "cell_type": "markdown",
   "metadata": {
    "slideshow": {
     "slide_type": "slide"
    }
   },
   "source": [
    "## Paths\n",
    "- Paths are more complex, first you must start the path using\n",
    "    - `beginPath`\n",
    "- Then a combination of the following calls actually draw the lines\n",
    "    - `moveTo(x,y)`\n",
    "    - `lineTo(x,y)`\n",
    "    - `arc(x,y,startAng,endAng,direction)`\n",
    "- Finally, call `fill` or `stroke`\n",
    "    - `fill` automatically closes the path, adding a line from the current spot to the first spot\n",
    "    - `stroke` just draws the outline, so the path isn't automatically closed\n",
    "    "
   ]
  },
  {
   "cell_type": "code",
   "execution_count": null,
   "metadata": {
    "slideshow": {
     "slide_type": "slide"
    }
   },
   "outputs": [],
   "source": [
    "%%html\n",
    "<!DOCTYPE html>\n",
    "<html>\n",
    "    <script>\n",
    "        \n",
    "        var my_canvas = document.getElementById(\"canvas2\");\n",
    "        var context = my_canvas.getContext('2d');\n",
    "        context.beginPath();\n",
    "        context.lineTo(100,100);\n",
    "        context.lineTo(0,0);\n",
    "        context.stroke();\n",
    "        \n",
    "    </script>\n",
    "    <body>\n",
    "        <canvas id=\"canvas2\">Canvas is unsupported </canvas>\n",
    "    </body>\n",
    "</html>"
   ]
  },
  {
   "cell_type": "code",
   "execution_count": null,
   "metadata": {
    "slideshow": {
     "slide_type": "slide"
    }
   },
   "outputs": [],
   "source": [
    "%%html\n",
    "<!DOCTYPE html>\n",
    "<html>\n",
    "    <script>\n",
    "        \n",
    "        var my_canvas = document.getElementById(\"canvas3\");\n",
    "        var context = my_canvas.getContext('2d');\n",
    "        context.beginPath();\n",
    "        context.moveTo(50,50);\n",
    "        context.lineTo(100,100);\n",
    "        context.lineTo(100,50);\n",
    "        context.fill();\n",
    "        \n",
    "    </script>\n",
    "    <body>\n",
    "        <canvas id=\"canvas3\">Canvas is unsupported </canvas>\n",
    "    </body>\n",
    "</html>"
   ]
  },
  {
   "cell_type": "code",
   "execution_count": null,
   "metadata": {
    "slideshow": {
     "slide_type": "slide"
    }
   },
   "outputs": [],
   "source": [
    "%%html\n",
    "<!DOCTYPE html>\n",
    "<html>\n",
    "    <script>\n",
    "        \n",
    "        var my_canvas = document.getElementById(\"canvas4\");\n",
    "        var context = my_canvas.getContext('2d');\n",
    "        context.beginPath();\n",
    "        context.moveTo(50,50);\n",
    "        context.lineTo(100,100);\n",
    "        context.lineTo(100,50);\n",
    "        context.stroke();\n",
    "        context.beginPath();\n",
    "        context.moveTo(150,150);\n",
    "        context.lineTo(175,150);\n",
    "        context.stroke()\n",
    "    </script>\n",
    "    <body>\n",
    "        <canvas id=\"canvas4\">Canvas is unsupported </canvas>\n",
    "    </body>\n",
    "</html>"
   ]
  },
  {
   "cell_type": "code",
   "execution_count": null,
   "metadata": {
    "slideshow": {
     "slide_type": "slide"
    }
   },
   "outputs": [],
   "source": [
    "%%html\n",
    "<!DOCTYPE html>\n",
    "<html>\n",
    "    <script>\n",
    "        \n",
    "        var my_canvas = document.getElementById(\"canvas5\");\n",
    "        var context = my_canvas.getContext('2d');\n",
    "        context.beginPath();\n",
    "        context.moveTo(50,50);\n",
    "        context.lineTo(100,100);\n",
    "        context.lineTo(100,50);\n",
    "        context.closePath();\n",
    "        context.stroke();\n",
    "        \n",
    "    </script>\n",
    "    <body>\n",
    "        <canvas id=\"canvas5\">Canvas is unsupported </canvas>\n",
    "    </body>\n",
    "</html>"
   ]
  },
  {
   "cell_type": "markdown",
   "metadata": {
    "slideshow": {
     "slide_type": "slide"
    }
   },
   "source": [
    "## Style\n",
    "- Style is set on the entire context at once\n",
    "    - Each drawing after this style is set will have the same style\n",
    "    - The general pattern is change the style, draw somethings, repeat\n",
    "- The two main style properties are\n",
    "    - fillStyle\n",
    "    - strokeStyle"
   ]
  },
  {
   "cell_type": "code",
   "execution_count": null,
   "metadata": {
    "slideshow": {
     "slide_type": "slide"
    }
   },
   "outputs": [],
   "source": [
    "%%html\n",
    "<!DOCTYPE html>\n",
    "<html>\n",
    "    <script>\n",
    "        \n",
    "        var my_canvas = document.getElementById(\"canvas6\");\n",
    "        var context = my_canvas.getContext('2d');\n",
    "        context.fillStyle=\"rgba(255,0,0,0.25)\"\n",
    "        context.fillRect(10,10,100,100);\n",
    "        context.fillStyle=\"rgba(0,0,255,0.5)\"\n",
    "        context.fillRect(50,50,100,100);\n",
    "        \n",
    "    </script>\n",
    "    <body>\n",
    "        <canvas id=\"canvas6\">Canvas is unsupported </canvas>\n",
    "    </body>\n",
    "</html>"
   ]
  },
  {
   "cell_type": "markdown",
   "metadata": {
    "slideshow": {
     "slide_type": "slide"
    }
   },
   "source": [
    "## Basic Animations\n",
    "- Basic animations can be created by clearing and drawing new things over and over\n",
    "- We could use `setInterval` for this\n",
    "    - A better method is `requestAnimationFrame`, which knowns about graphics and wont abuse the system\n",
    "    - `requestAnimationFrame` takes a callback function"
   ]
  },
  {
   "cell_type": "code",
   "execution_count": null,
   "metadata": {
    "slideshow": {
     "slide_type": "slide"
    }
   },
   "outputs": [],
   "source": [
    "%%html\n",
    "<!DOCTYPE html>\n",
    "<html>\n",
    "    <script>\n",
    "        var global_x = 0;\n",
    "        var global_alpha = 1;\n",
    "        function draw(){\n",
    "        var my_canvas = document.getElementById(\"canvas7\");\n",
    "        var context = my_canvas.getContext('2d');\n",
    "        context.clearRect(0, 0, 300, 150); // clear canvas\n",
    "        global_alpha = global_alpha - 0.01;\n",
    "        if (global_alpha < 0){\n",
    "            global_alpha = 1\n",
    "        }\n",
    "        context.fillStyle=\"rgba(0,0,0,\" + global_alpha + \")\";\n",
    "        context.fillRect(global_x,10,50,50);\n",
    "        if(global_x > 250){\n",
    "            global_x = 0\n",
    "        }\n",
    "            else{\n",
    "        global_x = global_x + 0.5;\n",
    "            }\n",
    "        window.requestAnimationFrame(draw);\n",
    "        }\n",
    "        window.requestAnimationFrame(draw);\n",
    "      \n",
    "    </script>\n",
    "    <body>\n",
    "        <canvas id=\"canvas7\">Canvas is unsupported </canvas>\n",
    "    </body>\n",
    "</html>"
   ]
  }
 ],
 "metadata": {
  "celltoolbar": "Slideshow",
  "kernelspec": {
   "display_name": "Python 3",
   "language": "python",
   "name": "python3"
  },
  "language_info": {
   "codemirror_mode": {
    "name": "ipython",
    "version": 3
   },
   "file_extension": ".py",
   "mimetype": "text/x-python",
   "name": "python",
   "nbconvert_exporter": "python",
   "pygments_lexer": "ipython3",
   "version": "3.6.3"
  }
 },
 "nbformat": 4,
 "nbformat_minor": 1
}

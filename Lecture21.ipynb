{
 "cells": [
  {
   "cell_type": "markdown",
   "metadata": {
    "slideshow": {
     "slide_type": "slide"
    }
   },
   "source": [
    "## PHP I"
   ]
  },
  {
   "cell_type": "markdown",
   "metadata": {
    "slideshow": {
     "slide_type": "slide"
    }
   },
   "source": [
    "## How does a Web Server Work\n",
    "- Up until now we have been using a webserver to perform two simple tasks\n",
    "    - Convert the URL to the local file and retrieve it\n",
    "    - Control access to the website\n",
    "- Both of these require no processing of the pages themselves\n",
    "    - Commonly known as serving static pages\n",
    "- You don't even need a webserver to do this\n",
    "    - HTML can be viewed just fine in a browser"
   ]
  },
  {
   "cell_type": "markdown",
   "metadata": {
    "slideshow": {
     "slide_type": "slide"
    }
   },
   "source": [
    "![Diagram depicting a request to a webserver, the webserver getting the file with no processing, and returning the file to the client](https://mdn.mozillademos.org/files/13841/Basic%20Static%20App%20Server.png)\n",
    "Image from https://developer.mozilla.org/en-US/docs/Learn/Server-side/First_steps/Introduction"
   ]
  },
  {
   "cell_type": "markdown",
   "metadata": {
    "slideshow": {
     "slide_type": "slide"
    }
   },
   "source": [
    "## Dynamic Webserver\n",
    "- Web servers are capable of much more, including\n",
    "    - Executing code prior to returing a request\n",
    "    - Compressing files before sending them\n",
    "    - Running SSL for HTTPs and everything that goes with it\n",
    "    - Logging"
   ]
  },
  {
   "cell_type": "markdown",
   "metadata": {
    "slideshow": {
     "slide_type": "slide"
    }
   },
   "source": [
    "![Diagram showing how a dynamic webserver works. After recieving the request, the data is passed of to a web application, with may interact with files, a database, etc, and which will return to the webserver HTML to be sent back to the client](https://mdn.mozillademos.org/files/13839/Web%20Application%20with%20HTML%20and%20Steps.png)\n",
    "Image from https://developer.mozilla.org/en-US/docs/Learn/Server-side/First_steps/Introduction"
   ]
  },
  {
   "cell_type": "markdown",
   "metadata": {
    "slideshow": {
     "slide_type": "slide"
    }
   },
   "source": [
    "## CGI vs Embedded\n",
    "- Prior to PHP, most web applications used an API known as the Common Gateway Interface (CGI)\n",
    "    - Perls support of CGI was one of the big reasons for its popularity\n",
    "    - CGI scripts are forked from the webserver\n",
    "        - Can be safer (runs in a separate process)\n",
    "        - Can be much more dangerous (is running as any script file would)\n",
    "- PHP, and many other languages that have come after it, run inside the webserver, in what is known as embedded mode\n",
    "    - Is generally safer for beginning programmers, as the webserver offers many protections\n",
    "    - Has access to the server API"
   ]
  },
  {
   "cell_type": "markdown",
   "metadata": {
    "slideshow": {
     "slide_type": "slide"
    }
   },
   "source": [
    "## PHP History\n",
    "- Invented in 1994 by Rasmus Lerdorf\n",
    "- Stands for PHP HyperText Processor\n",
    "    - Orginally stood for Personal Home Page \n",
    "- Primarily used on server-side \n",
    "    -Can be used in both command-line and GUI scripting as well"
   ]
  },
  {
   "cell_type": "markdown",
   "metadata": {
    "slideshow": {
     "slide_type": "slide"
    }
   },
   "source": [
    "## PHP Versions\n",
    "- PHP 4 reached end of life in 2008, any website using it is very insecure!!\n",
    "- PHP 5 came out in 2004, PHP 5.6 came out in 2014\n",
    "    - GL has PHP 5.4 in the SWE environment\n",
    "- PHP 6 never came out, delayed over and over and over\n",
    "- PHP 7 released in 2015, 7.2 comes out the end of this month\n",
    "    - Supported in most webhost now"
   ]
  },
  {
   "cell_type": "markdown",
   "metadata": {
    "slideshow": {
     "slide_type": "slide"
    }
   },
   "source": [
    "## Major Users of PHP\n",
    "- Facebook\n",
    "- Wikipedia (and all sites running MediaWiki)\n",
    "- Wordpress and Drupal\n",
    "- Baidu\n",
    "- Many, many more \n",
    "    - up to 80% of all sites by some estimates"
   ]
  },
  {
   "cell_type": "markdown",
   "metadata": {
    "slideshow": {
     "slide_type": "slide"
    }
   },
   "source": [
    "## Embedding PHP in HTML\n",
    "- PHP is often found interspersed within an HTML document\n",
    "    - PHP can be written without any HTML\n",
    "- The webserver pre-processes all files ending with `*.php`\n",
    "    - Any code between the PHP tags is run, and output is placed directly into the HTML page\n",
    "    - The page is sent to the client with no PHP in it, only the results of executing the PHP"
   ]
  },
  {
   "cell_type": "markdown",
   "metadata": {
    "slideshow": {
     "slide_type": "slide"
    }
   },
   "source": [
    "## PHP Tags\n",
    "- To indicate a section of PHP code, a PHP tag is needed\n",
    "- There are many different styles but you should only use `<?php`\n",
    "    - This is the only one garunteed to always work!!\n",
    "- Others you may see\n",
    "    - `<?`\n",
    "    - `<%`"
   ]
  },
  {
   "cell_type": "markdown",
   "metadata": {
    "slideshow": {
     "slide_type": "slide"
    }
   },
   "source": [
    "Running at https://www.csee.umbc.edu/~bwilk1/433/php_examples/simple.php\n",
    "```bash\n",
    "<!DOCTYPE html>\n",
    "<?php $color = \"#057f14\" ?>\n",
    "<html>\n",
    "    <head>\n",
    "    <style>\n",
    "        #example1{background-color: \n",
    "             <?php echo $color; ?>}\n",
    "    </style>\n",
    "    </head>\n",
    "    <body>\n",
    "        <p id=\"example1\">My background is \n",
    "        <?php echo $color; ?></p>\n",
    "    </body>\n",
    "</html>\n",
    "```"
   ]
  },
  {
   "cell_type": "markdown",
   "metadata": {
    "slideshow": {
     "slide_type": "slide"
    }
   },
   "source": [
    "## Comments in PHP\n",
    "Comments in PHP can either be \n",
    "- C/C++ Style\n",
    "    - `//` for single line\n",
    "    - `/* */` for multiline\n",
    "- Scripting Language Style\n",
    "    - `#` for single line"
   ]
  },
  {
   "cell_type": "code",
   "execution_count": 1,
   "metadata": {
    "slideshow": {
     "slide_type": "slide"
    }
   },
   "outputs": [
    {
     "data": {
      "text/plain": [
       "HI\n"
      ]
     },
     "execution_count": 1,
     "metadata": {},
     "output_type": "execute_result"
    }
   ],
   "source": [
    "//This is a comment, nothing will happen\n",
    "/*\n",
    " This is also a comment\n",
    " echo \"HELLO\"\n",
    " won't print\n",
    "*/ \n",
    " # This is a comment too\n",
    "echo \"HI\""
   ]
  },
  {
   "cell_type": "markdown",
   "metadata": {
    "slideshow": {
     "slide_type": "slide"
    }
   },
   "source": [
    "## Variables\n",
    "- All variables in PHP **must** start with `$` (dollar sign)\n",
    "    - Dollar signs can be stacked to use the value of one variable as the name of another (variable variables)\n",
    "- The first character after the dollar sign cannot be a number\n",
    "- The variables scope is\n",
    "    - global if not declared in a function\n",
    "    - the function if declared in one"
   ]
  },
  {
   "cell_type": "code",
   "execution_count": 2,
   "metadata": {
    "slideshow": {
     "slide_type": "slide"
    }
   },
   "outputs": [
    {
     "data": {
      "text/plain": [
       "var\n"
      ]
     },
     "execution_count": 2,
     "metadata": {},
     "output_type": "execute_result"
    },
    {
     "data": {
      "text/plain": [
       "value\n"
      ]
     },
     "execution_count": 2,
     "metadata": {},
     "output_type": "execute_result"
    },
    {
     "data": {
      "text/plain": [
       "value\n"
      ]
     },
     "execution_count": 2,
     "metadata": {},
     "output_type": "execute_result"
    },
    {
     "data": {
      "text/plain": [
       "whaaat\n"
      ]
     },
     "execution_count": 2,
     "metadata": {},
     "output_type": "execute_result"
    },
    {
     "data": {
      "text/plain": [
       "whaaat\n"
      ]
     },
     "execution_count": 2,
     "metadata": {},
     "output_type": "execute_result"
    },
    {
     "data": {
      "text/plain": [
       "whaaat\n"
      ]
     },
     "execution_count": 2,
     "metadata": {},
     "output_type": "execute_result"
    }
   ],
   "source": [
    "$a = \"var\";\n",
    "$$a = \"value\";\n",
    "$$$a = \"whaaat\";\n",
    "echo $a;\n",
    "echo $$a , $var;\n",
    "echo $$$a, $$var, $value;"
   ]
  },
  {
   "cell_type": "markdown",
   "metadata": {
    "slideshow": {
     "slide_type": "slide"
    }
   },
   "source": [
    "## Data Types\n",
    "- PHP has 8 data types\n",
    "- Primitives/Scalars\n",
    "    - boolean\n",
    "    - integer\n",
    "    - float\n",
    "    - string\n",
    "- Other types\n",
    "    - Arrays\n",
    "    - Objects\n",
    "    - Resources (files, etc.)\n",
    "    - NULL\n",
    "    "
   ]
  },
  {
   "cell_type": "code",
   "execution_count": 3,
   "metadata": {
    "slideshow": {
     "slide_type": "slide"
    }
   },
   "outputs": [
    {
     "data": {
      "text/plain": [
       "2001"
      ]
     },
     "execution_count": 3,
     "metadata": {},
     "output_type": "execute_result"
    }
   ],
   "source": [
    "2001"
   ]
  },
  {
   "cell_type": "code",
   "execution_count": 4,
   "metadata": {},
   "outputs": [
    {
     "data": {
      "text/plain": [
       "-309"
      ]
     },
     "execution_count": 4,
     "metadata": {},
     "output_type": "execute_result"
    }
   ],
   "source": [
    "-309"
   ]
  },
  {
   "cell_type": "code",
   "execution_count": 5,
   "metadata": {},
   "outputs": [
    {
     "data": {
      "text/plain": [
       "33"
      ]
     },
     "execution_count": 5,
     "metadata": {},
     "output_type": "execute_result"
    }
   ],
   "source": [
    "+33"
   ]
  },
  {
   "cell_type": "code",
   "execution_count": 6,
   "metadata": {
    "slideshow": {
     "slide_type": "slide"
    }
   },
   "outputs": [
    {
     "data": {
      "text/plain": [
       "493"
      ]
     },
     "execution_count": 6,
     "metadata": {},
     "output_type": "execute_result"
    }
   ],
   "source": [
    "0755"
   ]
  },
  {
   "cell_type": "code",
   "execution_count": 7,
   "metadata": {},
   "outputs": [
    {
     "data": {
      "text/plain": [
       "8"
      ]
     },
     "execution_count": 7,
     "metadata": {},
     "output_type": "execute_result"
    }
   ],
   "source": [
    "+010"
   ]
  },
  {
   "cell_type": "code",
   "execution_count": 8,
   "metadata": {},
   "outputs": [
    {
     "data": {
      "text/plain": [
       "255"
      ]
     },
     "execution_count": 8,
     "metadata": {},
     "output_type": "execute_result"
    }
   ],
   "source": [
    "0xFF"
   ]
  },
  {
   "cell_type": "code",
   "execution_count": 9,
   "metadata": {},
   "outputs": [
    {
     "data": {
      "text/plain": [
       "204"
      ]
     },
     "execution_count": 9,
     "metadata": {},
     "output_type": "execute_result"
    }
   ],
   "source": [
    "0xcc"
   ]
  },
  {
   "cell_type": "code",
   "execution_count": 10,
   "metadata": {
    "slideshow": {
     "slide_type": "slide"
    }
   },
   "outputs": [
    {
     "data": {
      "text/plain": [
       "3.14"
      ]
     },
     "execution_count": 10,
     "metadata": {},
     "output_type": "execute_result"
    }
   ],
   "source": [
    "3.14"
   ]
  },
  {
   "cell_type": "code",
   "execution_count": 11,
   "metadata": {},
   "outputs": [
    {
     "data": {
      "text/plain": [
       "0.016"
      ]
     },
     "execution_count": 11,
     "metadata": {},
     "output_type": "execute_result"
    }
   ],
   "source": [
    "0.016"
   ]
  },
  {
   "cell_type": "code",
   "execution_count": 12,
   "metadata": {},
   "outputs": [
    {
     "data": {
      "text/plain": [
       "3.14"
      ]
     },
     "execution_count": 12,
     "metadata": {},
     "output_type": "execute_result"
    }
   ],
   "source": [
    "0.314E1"
   ]
  },
  {
   "cell_type": "code",
   "execution_count": 13,
   "metadata": {},
   "outputs": [
    {
     "data": {
      "text/plain": [
       "0.016"
      ]
     },
     "execution_count": 13,
     "metadata": {},
     "output_type": "execute_result"
    }
   ],
   "source": [
    "16.0e-3"
   ]
  },
  {
   "cell_type": "code",
   "execution_count": 14,
   "metadata": {
    "slideshow": {
     "slide_type": "slide"
    }
   },
   "outputs": [
    {
     "data": {
      "text/plain": [
       "\"This is a string\""
      ]
     },
     "execution_count": 14,
     "metadata": {},
     "output_type": "execute_result"
    }
   ],
   "source": [
    "'This is a string'"
   ]
  },
  {
   "cell_type": "code",
   "execution_count": 15,
   "metadata": {},
   "outputs": [
    {
     "data": {
      "text/plain": [
       "\"This is also a string\""
      ]
     },
     "execution_count": 15,
     "metadata": {},
     "output_type": "execute_result"
    }
   ],
   "source": [
    "\"This is also a string\""
   ]
  },
  {
   "cell_type": "code",
   "execution_count": 16,
   "metadata": {
    "slideshow": {
     "slide_type": "slide"
    }
   },
   "outputs": [
    {
     "data": {
      "text/plain": [
       "false"
      ]
     },
     "execution_count": 16,
     "metadata": {},
     "output_type": "execute_result"
    }
   ],
   "source": [
    "false"
   ]
  },
  {
   "cell_type": "code",
   "execution_count": 17,
   "metadata": {},
   "outputs": [
    {
     "data": {
      "text/plain": [
       "true"
      ]
     },
     "execution_count": 17,
     "metadata": {},
     "output_type": "execute_result"
    }
   ],
   "source": [
    "true"
   ]
  },
  {
   "cell_type": "code",
   "execution_count": 18,
   "metadata": {
    "slideshow": {
     "slide_type": "slide"
    }
   },
   "outputs": [
    {
     "data": {
      "text/plain": [
       "\"F\""
      ]
     },
     "execution_count": 18,
     "metadata": {},
     "output_type": "execute_result"
    }
   ],
   "source": [
    "0?'T':'F'"
   ]
  },
  {
   "cell_type": "code",
   "execution_count": 19,
   "metadata": {},
   "outputs": [
    {
     "data": {
      "text/plain": [
       "\"F\""
      ]
     },
     "execution_count": 19,
     "metadata": {},
     "output_type": "execute_result"
    }
   ],
   "source": [
    "0.0?'T':'F'"
   ]
  },
  {
   "cell_type": "code",
   "execution_count": 20,
   "metadata": {},
   "outputs": [
    {
     "data": {
      "text/plain": [
       "\"T\""
      ]
     },
     "execution_count": 20,
     "metadata": {},
     "output_type": "execute_result"
    }
   ],
   "source": [
    "516?'T':'F'"
   ]
  },
  {
   "cell_type": "code",
   "execution_count": 21,
   "metadata": {
    "slideshow": {
     "slide_type": "slide"
    }
   },
   "outputs": [
    {
     "data": {
      "text/plain": [
       "\"F\""
      ]
     },
     "execution_count": 21,
     "metadata": {},
     "output_type": "execute_result"
    }
   ],
   "source": [
    "\"0\"?'T':'F'"
   ]
  },
  {
   "cell_type": "code",
   "execution_count": 25,
   "metadata": {},
   "outputs": [
    {
     "data": {
      "text/plain": [
       "\"T\""
      ]
     },
     "execution_count": 25,
     "metadata": {},
     "output_type": "execute_result"
    }
   ],
   "source": [
    "\"0.0\"?'T':'F';"
   ]
  },
  {
   "cell_type": "code",
   "execution_count": 23,
   "metadata": {},
   "outputs": [
    {
     "data": {
      "text/plain": [
       "\"F\""
      ]
     },
     "execution_count": 23,
     "metadata": {},
     "output_type": "execute_result"
    }
   ],
   "source": [
    "\"\"?'T':'F'"
   ]
  },
  {
   "cell_type": "code",
   "execution_count": 26,
   "metadata": {
    "slideshow": {
     "slide_type": "slide"
    }
   },
   "outputs": [
    {
     "data": {
      "text/plain": [
       "\"F\""
      ]
     },
     "execution_count": 26,
     "metadata": {},
     "output_type": "execute_result"
    }
   ],
   "source": [
    "(array())?'T':'F'"
   ]
  },
  {
   "cell_type": "code",
   "execution_count": 27,
   "metadata": {
    "slideshow": {
     "slide_type": "-"
    }
   },
   "outputs": [
    {
     "data": {
      "text/plain": [
       "\"F\""
      ]
     },
     "execution_count": 27,
     "metadata": {},
     "output_type": "execute_result"
    }
   ],
   "source": [
    "NULL?'T':'F'"
   ]
  },
  {
   "cell_type": "markdown",
   "metadata": {
    "slideshow": {
     "slide_type": "slide"
    }
   },
   "source": [
    "## Casting\n",
    "- PHP is weakly typed and will coerce data types when possible\n",
    "- To force casting to another datatype, use \n",
    "```php\n",
    "(datatype) $var;\n",
    "```"
   ]
  },
  {
   "cell_type": "code",
   "execution_count": 28,
   "metadata": {
    "slideshow": {
     "slide_type": "slide"
    }
   },
   "outputs": [
    {
     "data": {
      "text/plain": [
       "10"
      ]
     },
     "execution_count": 28,
     "metadata": {},
     "output_type": "execute_result"
    }
   ],
   "source": [
    "\"5\" * 2"
   ]
  },
  {
   "cell_type": "code",
   "execution_count": 29,
   "metadata": {},
   "outputs": [
    {
     "data": {
      "text/plain": [
       "8.14"
      ]
     },
     "execution_count": 29,
     "metadata": {},
     "output_type": "execute_result"
    }
   ],
   "source": [
    "'3.14' + 5"
   ]
  },
  {
   "cell_type": "code",
   "execution_count": 30,
   "metadata": {
    "slideshow": {
     "slide_type": "slide"
    }
   },
   "outputs": [
    {
     "data": {
      "text/plain": [
       "5"
      ]
     },
     "execution_count": 30,
     "metadata": {},
     "output_type": "execute_result"
    }
   ],
   "source": [
    "(int) \"5\""
   ]
  },
  {
   "cell_type": "code",
   "execution_count": 33,
   "metadata": {},
   "outputs": [
    {
     "data": {
      "text/plain": [
       "4"
      ]
     },
     "execution_count": 33,
     "metadata": {},
     "output_type": "execute_result"
    }
   ],
   "source": [
    "(int) \"4+16\""
   ]
  },
  {
   "cell_type": "code",
   "execution_count": 34,
   "metadata": {},
   "outputs": [
    {
     "data": {
      "text/plain": [
       "3"
      ]
     },
     "execution_count": 34,
     "metadata": {},
     "output_type": "execute_result"
    }
   ],
   "source": [
    "(int) \"3.14\""
   ]
  },
  {
   "cell_type": "code",
   "execution_count": 35,
   "metadata": {},
   "outputs": [
    {
     "data": {
      "text/plain": [
       "19"
      ]
     },
     "execution_count": 35,
     "metadata": {},
     "output_type": "execute_result"
    }
   ],
   "source": [
    "(int) \"19.99\""
   ]
  },
  {
   "cell_type": "code",
   "execution_count": 36,
   "metadata": {
    "slideshow": {
     "slide_type": "slide"
    }
   },
   "outputs": [
    {
     "data": {
      "text/plain": [
       "3.14"
      ]
     },
     "execution_count": 36,
     "metadata": {},
     "output_type": "execute_result"
    }
   ],
   "source": [
    "(float)\"3.14\""
   ]
  },
  {
   "cell_type": "code",
   "execution_count": 37,
   "metadata": {},
   "outputs": [
    {
     "data": {
      "text/plain": [
       "3.14"
      ]
     },
     "execution_count": 37,
     "metadata": {},
     "output_type": "execute_result"
    }
   ],
   "source": [
    "(float) \"3.14 is pi\""
   ]
  },
  {
   "cell_type": "code",
   "execution_count": 38,
   "metadata": {
    "slideshow": {
     "slide_type": "slide"
    }
   },
   "outputs": [
    {
     "data": {
      "text/plain": [
       "\"1\""
      ]
     },
     "execution_count": 38,
     "metadata": {},
     "output_type": "execute_result"
    }
   ],
   "source": [
    "(string) 1"
   ]
  },
  {
   "cell_type": "code",
   "execution_count": 39,
   "metadata": {},
   "outputs": [
    {
     "data": {
      "text/plain": [
       "\"1\""
      ]
     },
     "execution_count": 39,
     "metadata": {},
     "output_type": "execute_result"
    }
   ],
   "source": [
    "(string) true"
   ]
  },
  {
   "cell_type": "code",
   "execution_count": 40,
   "metadata": {},
   "outputs": [
    {
     "data": {
      "text/plain": [
       "\"\""
      ]
     },
     "execution_count": 40,
     "metadata": {},
     "output_type": "execute_result"
    }
   ],
   "source": [
    "(string) false"
   ]
  },
  {
   "cell_type": "code",
   "execution_count": 41,
   "metadata": {
    "slideshow": {
     "slide_type": "slide"
    }
   },
   "outputs": [
    {
     "data": {
      "text/plain": [
       "false"
      ]
     },
     "execution_count": 41,
     "metadata": {},
     "output_type": "execute_result"
    }
   ],
   "source": [
    "(bool) 0"
   ]
  },
  {
   "cell_type": "code",
   "execution_count": 42,
   "metadata": {},
   "outputs": [
    {
     "data": {
      "text/plain": [
       "true"
      ]
     },
     "execution_count": 42,
     "metadata": {},
     "output_type": "execute_result"
    }
   ],
   "source": [
    "(bool)3.14"
   ]
  },
  {
   "cell_type": "code",
   "execution_count": 43,
   "metadata": {},
   "outputs": [
    {
     "data": {
      "text/plain": [
       "true"
      ]
     },
     "execution_count": 43,
     "metadata": {},
     "output_type": "execute_result"
    }
   ],
   "source": [
    "(bool)1"
   ]
  },
  {
   "cell_type": "code",
   "execution_count": 44,
   "metadata": {},
   "outputs": [
    {
     "data": {
      "text/plain": [
       "false"
      ]
     },
     "execution_count": 44,
     "metadata": {},
     "output_type": "execute_result"
    }
   ],
   "source": [
    "(bool)\"\""
   ]
  },
  {
   "cell_type": "code",
   "execution_count": 45,
   "metadata": {},
   "outputs": [
    {
     "data": {
      "text/plain": [
       "true"
      ]
     },
     "execution_count": 45,
     "metadata": {},
     "output_type": "execute_result"
    }
   ],
   "source": [
    "(bool)\"NO\""
   ]
  },
  {
   "cell_type": "markdown",
   "metadata": {
    "slideshow": {
     "slide_type": "slide"
    }
   },
   "source": [
    "## Constants\n",
    "- Constants are created by calling the `define` function, passing in a constant name and value\n",
    "    - Constant names don't start with `$`\n",
    "```php\n",
    "define(\"NAME\",value);\n",
    "```\n",
    "- There are numerous predefined constants that are useful for introspection\n",
    "    - `__LINE__` gives the current line of the file\n",
    "    - `__FILE__` gives the file currently being executed\n",
    "    - `__FUNCTION__` provides the function name\n",
    "    - `__CLASS__` provides the class name"
   ]
  },
  {
   "cell_type": "code",
   "execution_count": 46,
   "metadata": {
    "slideshow": {
     "slide_type": "slide"
    }
   },
   "outputs": [
    {
     "data": {
      "text/plain": [
       "Sometimes 3.14 day is on a TUESDAY\n"
      ]
     },
     "execution_count": 46,
     "metadata": {},
     "output_type": "execute_result"
    },
    {
     "data": {
      "text/plain": [
       "I am running from 4\n"
      ]
     },
     "execution_count": 46,
     "metadata": {},
     "output_type": "execute_result"
    }
   ],
   "source": [
    "define(\"PI\",3.14);\n",
    "define(\"TU\", \"TUESDAY\");\n",
    "echo \"Sometimes \" . PI . \" day is on a \" . TU;\n",
    "echo \"I am running from \" . __LINE__;"
   ]
  },
  {
   "cell_type": "markdown",
   "metadata": {
    "slideshow": {
     "slide_type": "slide"
    }
   },
   "source": [
    "## Selection Structures\n",
    "- PHP has 3 selection structures\n",
    "    - If/Then/Else\n",
    "    - Switch\n",
    "    - Ternary Operator\n",
    "- These behave mostly like other langugaes, but can be mixed with HTML to produce efficent custom HTML pages"
   ]
  },
  {
   "cell_type": "code",
   "execution_count": 47,
   "metadata": {
    "slideshow": {
     "slide_type": "slide"
    }
   },
   "outputs": [
    {
     "data": {
      "text/plain": [
       "One Day Down!\n"
      ]
     },
     "execution_count": 47,
     "metadata": {},
     "output_type": "execute_result"
    }
   ],
   "source": [
    "$today = \"Tuesday\";\n",
    "if($today == \"Monday\"){\n",
    "    echo \"Happy Monday!\";\n",
    "}\n",
    "else if($today == \"Tuesday\"){\n",
    "    echo \"One Day Down!\";\n",
    "}\n",
    "else{\n",
    "    echo \"Start Counting Down Towards the Weekend!\";\n",
    "}"
   ]
  },
  {
   "cell_type": "code",
   "execution_count": 50,
   "metadata": {
    "slideshow": {
     "slide_type": "slide"
    }
   },
   "outputs": [
    {
     "data": {
      "text/plain": [
       "One Day Down!\n"
      ]
     },
     "execution_count": 50,
     "metadata": {},
     "output_type": "execute_result"
    }
   ],
   "source": [
    "$today = \"Tuesday\";\n",
    "if($today == \"Monday\"){\n",
    "    echo \"Happy Monday!\";\n",
    "}\n",
    "elseif($today == \"Tuesday\"){\n",
    "    echo \"One Day Down!\";\n",
    "}\n",
    "else{\n",
    "    echo \"Start Counting Down Towards the Weekend!\";\n",
    "}"
   ]
  },
  {
   "cell_type": "code",
   "execution_count": 51,
   "metadata": {
    "slideshow": {
     "slide_type": "slide"
    }
   },
   "outputs": [
    {
     "data": {
      "text/plain": [
       "One Day Down!\n"
      ]
     },
     "execution_count": 51,
     "metadata": {},
     "output_type": "execute_result"
    }
   ],
   "source": [
    "$today = \"Tuesday\";\n",
    "$mon = \"Monday\";\n",
    "\n",
    "switch($today){\n",
    "    case $mon:\n",
    "        echo \"Happy Monday!\";\n",
    "        break;\n",
    "    case \"Tuesday\":\n",
    "        echo \"One Day Down!\";\n",
    "        break;\n",
    "    default:\n",
    "        echo \"Start Counting Down Towards the Weekend!\"; \n",
    "}"
   ]
  },
  {
   "cell_type": "markdown",
   "metadata": {
    "slideshow": {
     "slide_type": "slide"
    }
   },
   "source": [
    "Running at https://www.csee.umbc.edu/~bwilk1/433/php_examples/if.php \n",
    "```php\n",
    "<?php\n",
    "if(date('s') % 2 == 0){\n",
    "?>\n",
    "<p>You opened this page during an <strong>even</strong> second.\n",
    "<?php\n",
    "}\n",
    "else{ ?>\n",
    "<p>You opened this page during an <strong>odd</strong> second.\n",
    "<?php } ?>\n",
    "```"
   ]
  },
  {
   "cell_type": "markdown",
   "metadata": {
    "slideshow": {
     "slide_type": "slide"
    }
   },
   "source": [
    "## Selection Structures and HTML Practice\n",
    "- Write a simple PHP page that intermixes PHP and HTML \n",
    "    - Get a random number using the PHP function `rand()`\n",
    "    - If the number is even, display a blue `h1` tag with the words \"It's Even!\"\n",
    "    - If the number is odd, display a green `h2` tag with the words \"It's Odd!\""
   ]
  },
  {
   "cell_type": "markdown",
   "metadata": {
    "slideshow": {
     "slide_type": "slide"
    }
   },
   "source": [
    "## Quoting\n",
    "- In PHP, strings can be declared using\n",
    "    - single quotes\n",
    "    - double quotes\n",
    "    - HERE docs\n",
    "- Variables are interpolated in both double quoted string and here docs\n",
    "    - They are not interpolated in a single quoted string\n",
    "    - Can use `${}` notation like in bash"
   ]
  },
  {
   "cell_type": "code",
   "execution_count": 52,
   "metadata": {
    "slideshow": {
     "slide_type": "slide"
    }
   },
   "outputs": [
    {
     "data": {
      "text/plain": [
       "I'm a little $lyric\n"
      ]
     },
     "execution_count": 52,
     "metadata": {},
     "output_type": "execute_result"
    }
   ],
   "source": [
    "$lyric = \"Teapot\";\n",
    "echo 'I\\'m a little $lyric';"
   ]
  },
  {
   "cell_type": "code",
   "execution_count": 53,
   "metadata": {},
   "outputs": [
    {
     "data": {
      "text/plain": [
       "I'm a little Teapot\n"
      ]
     },
     "execution_count": 53,
     "metadata": {},
     "output_type": "execute_result"
    }
   ],
   "source": [
    "$lyric = \"Teapot\";\n",
    "echo \"I'm a little $lyric\";"
   ]
  },
  {
   "cell_type": "markdown",
   "metadata": {
    "slideshow": {
     "slide_type": "slide"
    }
   },
   "source": [
    "## HERE Docs\n",
    "- HERE Docs are used to make multi-line strings more conviently\n",
    "- A HERE doc starts with three less-than symbols (`<<<`) followed by an identifier\n",
    "- It ends when the indentifier is repeated, and is the only thing on the line besides as semicolon"
   ]
  },
  {
   "cell_type": "code",
   "execution_count": 54,
   "metadata": {
    "slideshow": {
     "slide_type": "slide"
    }
   },
   "outputs": [
    {
     "data": {
      "text/plain": [
       "This string is like a quoted\n",
       "string, it will interpolate all\n",
       "variables in it, like this.\n",
       "It only ends when HERE is on a\n",
       "line of it's own\n"
      ]
     },
     "execution_count": 54,
     "metadata": {},
     "output_type": "execute_result"
    }
   ],
   "source": [
    "$var = \"this\";\n",
    "$a_long_string = <<<HERE\n",
    "This string is like a quoted\n",
    "string, it will interpolate all\n",
    "variables in it, like $var.\n",
    "It only ends when HERE is on a\n",
    "line of it's own\n",
    "HERE;\n",
    "echo $a_long_string;"
   ]
  },
  {
   "cell_type": "markdown",
   "metadata": {
    "slideshow": {
     "slide_type": "slide"
    }
   },
   "source": [
    "## String Operators\n",
    "- The concatenation operator in PHP is the dot (`.`)\n",
    "    - This can be combined with the assignment operator (`.=`)\n",
    "- Strings can be compared using the standard operators\n",
    "    - == Compares equality and coerces if needed\n",
    "    - === Compares equality, but never coerces\n",
    "    - `<`,`<=`,`>`,`>=` compare for lexicographic order, coerce if necessary"
   ]
  },
  {
   "cell_type": "code",
   "execution_count": 55,
   "metadata": {
    "slideshow": {
     "slide_type": "slide"
    }
   },
   "outputs": [
    {
     "data": {
      "text/plain": [
       "abcd\n"
      ]
     },
     "execution_count": 55,
     "metadata": {},
     "output_type": "execute_result"
    },
    {
     "data": {
      "text/plain": [
       "abcde\n"
      ]
     },
     "execution_count": 55,
     "metadata": {},
     "output_type": "execute_result"
    }
   ],
   "source": [
    "$alphabet = \"a\" . 'b' . 'c' . 'd';\n",
    "echo $alphabet;\n",
    "$alphabet .= 'e';\n",
    "echo $alphabet;"
   ]
  },
  {
   "cell_type": "code",
   "execution_count": 56,
   "metadata": {
    "slideshow": {
     "slide_type": "slide"
    }
   },
   "outputs": [
    {
     "data": {
      "text/plain": [
       "true"
      ]
     },
     "execution_count": 56,
     "metadata": {},
     "output_type": "execute_result"
    }
   ],
   "source": [
    "\"3\" == 3;"
   ]
  },
  {
   "cell_type": "code",
   "execution_count": 57,
   "metadata": {},
   "outputs": [
    {
     "data": {
      "text/plain": [
       "false"
      ]
     },
     "execution_count": 57,
     "metadata": {},
     "output_type": "execute_result"
    }
   ],
   "source": [
    "\"3\" === 3;"
   ]
  },
  {
   "cell_type": "code",
   "execution_count": 65,
   "metadata": {},
   "outputs": [
    {
     "data": {
      "text/plain": [
       "true"
      ]
     },
     "execution_count": 65,
     "metadata": {},
     "output_type": "execute_result"
    }
   ],
   "source": [
    "\"3\" <= 4;"
   ]
  },
  {
   "cell_type": "markdown",
   "metadata": {
    "slideshow": {
     "slide_type": "slide"
    }
   },
   "source": [
    "## String Practice\n",
    "- Using concatenation, conversion, and interpolation, use the following variables to print the string \"Today is the 20th day of class\""
   ]
  },
  {
   "cell_type": "code",
   "execution_count": 69,
   "metadata": {},
   "outputs": [
    {
     "data": {
      "text/plain": [
       "Today is the 20th day of class\n"
      ]
     },
     "execution_count": 69,
     "metadata": {},
     "output_type": "execute_result"
    }
   ],
   "source": [
    "$num1 = \"15\";\n",
    "$num2 = 5;\n",
    "$rest = \"day of class\";\n",
    "$num = $num1 + $num2;\n",
    "echo \"Today is the ${num}th \".  $rest;"
   ]
  },
  {
   "cell_type": "markdown",
   "metadata": {
    "slideshow": {
     "slide_type": "slide"
    }
   },
   "source": [
    "## String Functions\n",
    "- PHP provides many robust, built-in, string functions\n",
    "- Some common ones are:\n",
    "    - `explode` - Similar to string_split in other languages\n",
    "    - `htmlentities` - Encodes anything that needs to be encoded for HTML (e.g. `<`, `>`, etc.)\n",
    "    - `html_entity_decode` - Converts HTML encoded characters back into their regular string values\n",
    "    - `join` - Joins an array together (can also use `implode`)\n",
    "    - `parse_str` - Turns a query string into an array\n",
    "    - `strip_tags` - Removes all HTML and PHP tags from a string\n",
    "    - `trim` - Removes whitespace from both ends of the string\n",
    "- A full list can be found at http://php.net/manual/en/ref.strings.php"
   ]
  },
  {
   "cell_type": "code",
   "execution_count": 70,
   "metadata": {
    "slideshow": {
     "slide_type": "slide"
    }
   },
   "outputs": [
    {
     "data": {
      "text/plain": [
       "Array\n",
       "(\n",
       "    [0] => John\n",
       "    [1] => Paul\n",
       "    [2] => George\n",
       "    [3] => Ringo\n",
       ")\n",
       "\n"
      ]
     },
     "execution_count": 70,
     "metadata": {},
     "output_type": "execute_result"
    }
   ],
   "source": [
    "echo print_r(explode(',', \"John,Paul,George,Ringo\"),true);"
   ]
  },
  {
   "cell_type": "code",
   "execution_count": 71,
   "metadata": {
    "slideshow": {
     "slide_type": "slide"
    }
   },
   "outputs": [
    {
     "data": {
      "text/plain": [
       "This is an example of an HTML tag 3 &lt; 4 &lt;html&gt;. It must be closed like this: &lt;/html&gt;\n"
      ]
     },
     "execution_count": 71,
     "metadata": {},
     "output_type": "execute_result"
    }
   ],
   "source": [
    "$html = \"This is an example of an HTML tag 3 < 4 <html>. It must be closed like this: </html>\";\n",
    "echo htmlentities($html);"
   ]
  },
  {
   "cell_type": "code",
   "execution_count": 72,
   "metadata": {},
   "outputs": [
    {
     "data": {
      "text/plain": [
       "Some characters, like the amperstand, need to be escaped in HTML, like &\n"
      ]
     },
     "execution_count": 72,
     "metadata": {},
     "output_type": "execute_result"
    }
   ],
   "source": [
    "$html = \"Some characters, like the amperstand, need to be escaped in HTML, like &amp;\";\n",
    "echo html_entity_decode($html);"
   ]
  },
  {
   "cell_type": "code",
   "execution_count": 73,
   "metadata": {},
   "outputs": [
    {
     "data": {
      "text/plain": [
       "Array\n",
       "(\n",
       "    [key1] => value1\n",
       "    [key2] => value2\n",
       ")\n",
       "\n"
      ]
     },
     "execution_count": 73,
     "metadata": {},
     "output_type": "execute_result"
    }
   ],
   "source": [
    "parse_str(\"key1=value1&key2=value2\",$result);\n",
    "echo print_r($result,true);"
   ]
  },
  {
   "cell_type": "code",
   "execution_count": 74,
   "metadata": {
    "slideshow": {
     "slide_type": "slide"
    }
   },
   "outputs": [
    {
     "data": {
      "text/plain": [
       "\n",
       "\n",
       "\n",
       "The Manchester Mark 1 was one of the world's first stored-program computers.\n",
       "\n",
       "\n",
       "The Manchester Mark 1 was one of the earliest stored-program computers, developed at the Victoria University of Manchester from the Small-Scale Experimental Machine (SSEM) or \"Baby\" (operational in June 1948). It was also called the Manchester Automatic Digital Machine, or MADM.[1] Work began in August 1948, and the first version was operational by April 1949; a program written to search for Mersenne primes ran error-free for nine hours on the night of 16/17 June 1949.\n",
       "The machine's successful operation was widely reported in the British press, which used the phrase \"electronic brain\" in describing it to their readers. That description provoked a reaction from the head of the University of Manchester's Department of Neurosurgery, the start of a long-running debate as to whether an electronic computer could ever be truly creative.\n"
      ]
     },
     "execution_count": 74,
     "metadata": {},
     "output_type": "execute_result"
    }
   ],
   "source": [
    "$wiki = <<<WIKI\n",
    "<div class=\"thumbinner\" style=\"width:302px;\"><a href=\"/wiki/File:Manchester_Mark2.jpg\" class=\"image\"><img alt=\"\" src=\"//upload.wikimedia.org/wikipedia/en/thumb/d/d8/Manchester_Mark2.jpg/300px-Manchester_Mark2.jpg\" width=\"300\" height=\"238\" class=\"thumbimage\" srcset=\"//upload.wikimedia.org/wikipedia/en/d/d8/Manchester_Mark2.jpg 1.5x\" data-file-width=\"355\" data-file-height=\"282\" /></a>\n",
    "<div class=\"thumbcaption\">\n",
    "<div class=\"magnify\"><a href=\"/wiki/File:Manchester_Mark2.jpg\" class=\"internal\" title=\"Enlarge\"></a></div>\n",
    "The Manchester Mark 1 was one of the world's first stored-program computers.</div>\n",
    "</div>\n",
    "</div>\n",
    "<p>The <b>Manchester Mark 1</b> was one of the earliest <a href=\"/wiki/Stored-program_computer\" title=\"Stored-program computer\">stored-program computers</a>, developed at the <a href=\"/wiki/Victoria_University_of_Manchester\" title=\"Victoria University of Manchester\">Victoria University of Manchester</a> from the <a href=\"/wiki/Manchester_Small-Scale_Experimental_Machine\" title=\"Manchester Small-Scale Experimental Machine\">Small-Scale Experimental Machine</a> (SSEM) or \"Baby\" (operational in June 1948). It was also called the <b>Manchester Automatic Digital Machine</b>, or <b>MADM</b>.<sup id=\"cite_ref-FOOTNOTELavington199820_1-0\" class=\"reference\"><a href=\"#cite_note-FOOTNOTELavington199820-1\">[1]</a></sup> Work began in August 1948, and the first version was operational by April 1949; a program written to search for <a href=\"/wiki/Mersenne_primes\" class=\"mw-redirect\" title=\"Mersenne primes\">Mersenne primes</a> ran error-free for nine hours on the night of 16/17 June 1949.</p>\n",
    "<p>The machine's successful operation was widely reported in the British press, which used the phrase \"electronic brain\" in describing it to their readers. That description provoked a reaction from the head of the University of Manchester's Department of Neurosurgery, the start of a long-running debate as to whether an electronic computer could ever be truly creative.</p>\n",
    "WIKI;\n",
    "echo strip_tags($wiki);"
   ]
  },
  {
   "cell_type": "code",
   "execution_count": 75,
   "metadata": {
    "slideshow": {
     "slide_type": "slide"
    }
   },
   "outputs": [
    {
     "data": {
      "text/plain": [
       "I am going to try an run some code \n"
      ]
     },
     "execution_count": 75,
     "metadata": {},
     "output_type": "execute_result"
    }
   ],
   "source": [
    "$evil_user = \"I am going to try an run some code <?php echo 'Hi There';?>\";\n",
    "echo strip_tags($evil_user);"
   ]
  },
  {
   "cell_type": "code",
   "execution_count": 76,
   "metadata": {
    "slideshow": {
     "slide_type": "-"
    }
   },
   "outputs": [
    {
     "data": {
      "text/plain": [
       "There are so many spaces on either side of me\n"
      ]
     },
     "execution_count": 76,
     "metadata": {},
     "output_type": "execute_result"
    }
   ],
   "source": [
    "$str_with_spaces = \"             There are so many spaces on either side of me                 \";\n",
    "echo trim($str_with_spaces);"
   ]
  },
  {
   "cell_type": "markdown",
   "metadata": {
    "slideshow": {
     "slide_type": "slide"
    }
   },
   "source": [
    "## PHP On GL\n",
    "- The PHP mod is already part of the Apache server running on GL,so no set up is needed\n",
    "- Pages must end with .php and be word-readable\n",
    "    - `chmod a+r`\n",
    "- Can only use the `<?php` version of the tag"
   ]
  },
  {
   "cell_type": "markdown",
   "metadata": {
    "slideshow": {
     "slide_type": "slide"
    }
   },
   "source": [
    "## Getting Help with PHP\n",
    "- The PHP documentation is very well done and has information on every built-in PHP function\n",
    "    - http://php.net/manual/en/\n",
    "- The comments below are usually quite helpful\n"
   ]
  }
 ],
 "metadata": {
  "celltoolbar": "Slideshow",
  "kernelspec": {
   "display_name": "PHP",
   "language": "php",
   "name": "jupyter-php"
  },
  "language_info": {
   "file_extension": ".php",
   "mimetype": "text/x-php",
   "name": "PHP",
   "pygments_lexer": "PHP",
   "version": "7.1.15-0ubuntu0.17.10.1"
  }
 },
 "nbformat": 4,
 "nbformat_minor": 2
}

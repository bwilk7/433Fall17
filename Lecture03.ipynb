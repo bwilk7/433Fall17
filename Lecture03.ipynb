{
 "cells": [
  {
   "cell_type": "markdown",
   "metadata": {
    "slideshow": {
     "slide_type": "slide"
    }
   },
   "source": [
    "# Regular Expressions\n",
    "## Optimization, Python, and Git"
   ]
  },
  {
   "cell_type": "markdown",
   "metadata": {
    "slideshow": {
     "slide_type": "slide"
    }
   },
   "source": [
    "## Optimizing Regular Expressions\n",
    "* Regular expressions are extremely powerful, but can be quite time consuming\n",
    "* A Google search for \"optimizing regular expressions\" returns dozens of articles and blogs about the subject\n",
    "* My basic rules of thumb:\n",
    "    + Get it working first\n",
    "    + Don't be afraid to look for another solution\n"
   ]
  },
  {
   "cell_type": "markdown",
   "metadata": {
    "slideshow": {
     "slide_type": "slide"
    }
   },
   "source": [
    "## Why Regular Expressions can be Slow\n",
    "* Some of this is implementation dependent, but regular expressions work by going through a string one character at a time, looking for matches\n",
    "    * If there are a lot of comparisons to be made at each character in the string, this will slow the regex down\n",
    "* Some regexes require backtracking to determine if there is a match or not\n",
    "    * The more backtracking, the longer the regex will take to execute\n",
    "    * A good resource on this is [Catastrophic Backtracking](http://www.regular-expressions.info/catastrophic.html)\n",
    "        + Although written as an ad for their product, it does have a lot of helpful information"
   ]
  },
  {
   "cell_type": "markdown",
   "metadata": {
    "slideshow": {
     "slide_type": "slide"
    }
   },
   "source": [
    "## Optimization Tip 1\n",
    "* Don't use regular expressions if you don't have to\n",
    "    * This is especially true if the pattern you are searching for is all literals\n",
    "    "
   ]
  },
  {
   "cell_type": "code",
   "execution_count": 64,
   "metadata": {
    "slideshow": {
     "slide_type": "-"
    }
   },
   "outputs": [
    {
     "name": "stdout",
     "output_type": "stream",
     "text": [
      "1"
     ]
    },
    {
     "name": "stderr",
     "output_type": "stream",
     "text": [
      "\n",
      "real\t0m2.926s\n",
      "user\t0m2.928s\n",
      "sys\t0m0.000s\n"
     ]
    }
   ],
   "source": [
    "%%bash\n",
    "time perl slow.pl"
   ]
  },
  {
   "cell_type": "code",
   "execution_count": null,
   "metadata": {
    "collapsed": true
   },
   "outputs": [],
   "source": [
    "# %load slow.pl\n",
    "$string = \"This is a string\";\n",
    "for (my $i=0; $i <= 10000000; $i++) {\n",
    "\tif($string =~ /string/){\n",
    "\t\t$found = 1;\n",
    "\t}\n",
    "}\n",
    "print $found;\n"
   ]
  },
  {
   "cell_type": "code",
   "execution_count": 62,
   "metadata": {},
   "outputs": [
    {
     "name": "stdout",
     "output_type": "stream",
     "text": [
      "1"
     ]
    },
    {
     "name": "stderr",
     "output_type": "stream",
     "text": [
      "\n",
      "real\t0m2.785s\n",
      "user\t0m2.784s\n",
      "sys\t0m0.000s\n"
     ]
    }
   ],
   "source": [
    "%%bash\n",
    "time perl fast.pl"
   ]
  },
  {
   "cell_type": "code",
   "execution_count": null,
   "metadata": {},
   "outputs": [],
   "source": [
    "# %load fast.pl\n",
    "$string = \"This is a string\";\n",
    "for (my $i=0; $i <= 10000000; $i++) {\n",
    "\tif(index($string,\"string\") != -1){\n",
    "\t\t$found = 1;\n",
    "\t}\n",
    "}\n",
    "print $found;\n"
   ]
  },
  {
   "cell_type": "markdown",
   "metadata": {
    "slideshow": {
     "slide_type": "slide"
    }
   },
   "source": [
    "## Optimization Tip 2\n",
    "* If you can, use ^ and \\$ anchors\n",
    "    + Limiting where a match can occur can make a regex fail faster"
   ]
  },
  {
   "cell_type": "code",
   "execution_count": 69,
   "metadata": {},
   "outputs": [
    {
     "name": "stderr",
     "output_type": "stream",
     "text": [
      "\n",
      "real\t0m1.468s\n",
      "user\t0m1.464s\n",
      "sys\t0m0.000s\n"
     ]
    }
   ],
   "source": [
    "%%bash\n",
    "time perl anchored.pl"
   ]
  },
  {
   "cell_type": "code",
   "execution_count": 70,
   "metadata": {},
   "outputs": [
    {
     "name": "stderr",
     "output_type": "stream",
     "text": [
      "\n",
      "real\t0m1.701s\n",
      "user\t0m1.700s\n",
      "sys\t0m0.000s\n"
     ]
    }
   ],
   "source": [
    "%%bash\n",
    "time perl unanchored.pl"
   ]
  },
  {
   "cell_type": "markdown",
   "metadata": {
    "collapsed": true,
    "slideshow": {
     "slide_type": "slide"
    }
   },
   "source": [
    "## Optimization Tip 3\n",
    "* Avoid quantifiers if you don't need to use them\n",
    "* If you need to use them, see if you can use the non-greedy version"
   ]
  },
  {
   "cell_type": "code",
   "execution_count": 74,
   "metadata": {},
   "outputs": [
    {
     "name": "stdout",
     "output_type": "stream",
     "text": [
      "1"
     ]
    },
    {
     "name": "stderr",
     "output_type": "stream",
     "text": [
      "\n",
      "real\t0m5.114s\n",
      "user\t0m5.112s\n",
      "sys\t0m0.000s\n"
     ]
    }
   ],
   "source": [
    "%%bash\n",
    "time perl greedy.pl"
   ]
  },
  {
   "cell_type": "code",
   "execution_count": 73,
   "metadata": {},
   "outputs": [
    {
     "name": "stdout",
     "output_type": "stream",
     "text": [
      "1"
     ]
    },
    {
     "name": "stderr",
     "output_type": "stream",
     "text": [
      "\n",
      "real\t0m5.203s\n",
      "user\t0m5.200s\n",
      "sys\t0m0.000s\n"
     ]
    }
   ],
   "source": [
    "%%bash\n",
    "time perl nongreedy.pl"
   ]
  },
  {
   "cell_type": "markdown",
   "metadata": {
    "slideshow": {
     "slide_type": "slide"
    }
   },
   "source": [
    "## Optimization Tip 4\n",
    "* Structure your alternations efficiently\n",
    "    * Alternations are searched left-to-righ, so put the (suspected) most common first"
   ]
  },
  {
   "cell_type": "code",
   "execution_count": 75,
   "metadata": {},
   "outputs": [
    {
     "name": "stdout",
     "output_type": "stream",
     "text": [
      "1"
     ]
    },
    {
     "name": "stderr",
     "output_type": "stream",
     "text": [
      "\n",
      "real\t0m6.460s\n",
      "user\t0m6.460s\n",
      "sys\t0m0.000s\n"
     ]
    }
   ],
   "source": [
    "%%bash\n",
    "time perl good_alt.pl"
   ]
  },
  {
   "cell_type": "code",
   "execution_count": 76,
   "metadata": {},
   "outputs": [
    {
     "name": "stdout",
     "output_type": "stream",
     "text": [
      "1"
     ]
    },
    {
     "name": "stderr",
     "output_type": "stream",
     "text": [
      "\n",
      "real\t0m6.575s\n",
      "user\t0m6.572s\n",
      "sys\t0m0.000s\n"
     ]
    }
   ],
   "source": [
    "%%bash\n",
    "time perl bad_alt.pl"
   ]
  },
  {
   "cell_type": "markdown",
   "metadata": {
    "slideshow": {
     "slide_type": "slide"
    }
   },
   "source": [
    "## Optimization Tip 5\n",
    "* Use non-capturing groups\n",
    "    * If you are just using grouping to apply a quantifier or something else over a part of a pattern, consider a non-capturing group `(?:pattern)`"
   ]
  },
  {
   "cell_type": "code",
   "execution_count": 77,
   "metadata": {},
   "outputs": [
    {
     "name": "stdout",
     "output_type": "stream",
     "text": [
      "1"
     ]
    },
    {
     "name": "stderr",
     "output_type": "stream",
     "text": [
      "\n",
      "real\t0m4.056s\n",
      "user\t0m4.056s\n",
      "sys\t0m0.000s\n"
     ]
    }
   ],
   "source": [
    "%%bash\n",
    "time perl capture.pl"
   ]
  },
  {
   "cell_type": "code",
   "execution_count": 78,
   "metadata": {},
   "outputs": [
    {
     "name": "stdout",
     "output_type": "stream",
     "text": [
      "1"
     ]
    },
    {
     "name": "stderr",
     "output_type": "stream",
     "text": [
      "\n",
      "real\t0m3.833s\n",
      "user\t0m3.832s\n",
      "sys\t0m0.000s\n"
     ]
    }
   ],
   "source": [
    "%%bash\n",
    "time perl noncapture.pl"
   ]
  },
  {
   "cell_type": "markdown",
   "metadata": {
    "slideshow": {
     "slide_type": "slide"
    }
   },
   "source": [
    "# Regex in Python"
   ]
  },
  {
   "cell_type": "markdown",
   "metadata": {
    "slideshow": {
     "slide_type": "slide"
    }
   },
   "source": [
    "## Intro to re Module\n",
    "* Regular expressions are not built into the core python language\n",
    "    * Available by importing the standard `re` module\n",
    "* Matching and substitution are done using methods \n",
    "* To avoid having to escape the `\\` character in Python so the regex can process use a raw string\n",
    "    * `r'This is a raw python string\\n'`"
   ]
  },
  {
   "cell_type": "code",
   "execution_count": 79,
   "metadata": {
    "collapsed": true
   },
   "outputs": [],
   "source": [
    "import re"
   ]
  },
  {
   "cell_type": "markdown",
   "metadata": {
    "slideshow": {
     "slide_type": "slide"
    }
   },
   "source": [
    "## Simple Matching\n",
    "* The `re` module has 4 methods to performing matching\n",
    "    * re.match\n",
    "    * re.search\n",
    "    * re.findall\n",
    "    * re.finditer\n",
    "* All methods take the arguments (pattern, string, optional_flags)"
   ]
  },
  {
   "cell_type": "code",
   "execution_count": 80,
   "metadata": {
    "collapsed": true
   },
   "outputs": [],
   "source": [
    "if re.match(r'needle',r'Is there a needle in this haystack?'):\n",
    "    print \"match\""
   ]
  },
  {
   "cell_type": "code",
   "execution_count": 81,
   "metadata": {},
   "outputs": [
    {
     "name": "stdout",
     "output_type": "stream",
     "text": [
      "match\n"
     ]
    }
   ],
   "source": [
    "if re.search(r'needle',r'Is there a needle in this haystack?'):\n",
    "    print \"match\""
   ]
  },
  {
   "cell_type": "markdown",
   "metadata": {
    "slideshow": {
     "slide_type": "slide"
    }
   },
   "source": [
    "## The Match Object\n",
    "* Regular expressions don't evaluate to `true` or `false` in Python\n",
    "    * If a match is found, a `MatchObject` is returned\n",
    "    * If no match is found, `None` is returned\n",
    "* The `MatchObject` can be used to access groups found in the match, as well as information such as position"
   ]
  },
  {
   "cell_type": "code",
   "execution_count": 82,
   "metadata": {},
   "outputs": [
    {
     "data": {
      "text/plain": [
       "<_sre.SRE_Match at 0x7fdf5429fcc8>"
      ]
     },
     "execution_count": 82,
     "metadata": {},
     "output_type": "execute_result"
    }
   ],
   "source": [
    "re.search(r'needle',r'Is there a needle in this haystack?')"
   ]
  },
  {
   "cell_type": "code",
   "execution_count": 83,
   "metadata": {},
   "outputs": [
    {
     "name": "stdout",
     "output_type": "stream",
     "text": [
      "a needle\n",
      "a\n"
     ]
    }
   ],
   "source": [
    "match = re.search(r'(\\w+)\\sneedle',r'Is there a needle in this haystack?')\n",
    "print match.group(0)\n",
    "print match.group(1)"
   ]
  },
  {
   "cell_type": "markdown",
   "metadata": {
    "slideshow": {
     "slide_type": "slide"
    }
   },
   "source": [
    "## re.findall and re.finditer\n",
    "* Rather than using a `g` modifier, Python has two specialized functions\n",
    "* re.findall returns the groups themselves\n",
    "* re.finditer returns an iterator over `MatchObjects` "
   ]
  },
  {
   "cell_type": "code",
   "execution_count": 84,
   "metadata": {},
   "outputs": [
    {
     "data": {
      "text/plain": [
       "['a', 'haystack']"
      ]
     },
     "execution_count": 84,
     "metadata": {},
     "output_type": "execute_result"
    }
   ],
   "source": [
    "re.findall(r'\\b\\w*a\\w*\\b', r'Is there a needle in this haystack?')"
   ]
  },
  {
   "cell_type": "code",
   "execution_count": 85,
   "metadata": {},
   "outputs": [
    {
     "data": {
      "text/plain": [
       "[('', ''), ('hayst', 'ck')]"
      ]
     },
     "execution_count": 85,
     "metadata": {},
     "output_type": "execute_result"
    }
   ],
   "source": [
    "re.findall(r'\\b(\\w*)a(\\w*)\\b', r'Is there a needle in this haystack?')"
   ]
  },
  {
   "cell_type": "markdown",
   "metadata": {
    "slideshow": {
     "slide_type": "slide"
    }
   },
   "source": [
    "## Backreferencing\n",
    "* Backreferencing works exactly the same in Python\n",
    "* Python also allows named groups, but personally I find it messy"
   ]
  },
  {
   "cell_type": "code",
   "execution_count": 86,
   "metadata": {},
   "outputs": [
    {
     "data": {
      "text/plain": [
       "['e']"
      ]
     },
     "execution_count": 86,
     "metadata": {},
     "output_type": "execute_result"
    }
   ],
   "source": [
    "re.findall(r'(\\w)\\1', r'Is there a needle in this haystack?')"
   ]
  },
  {
   "cell_type": "code",
   "execution_count": 87,
   "metadata": {},
   "outputs": [
    {
     "data": {
      "text/plain": [
       "['e']"
      ]
     },
     "execution_count": 87,
     "metadata": {},
     "output_type": "execute_result"
    }
   ],
   "source": [
    "re.findall(r'(?P<a_letter>\\w)(?P=a_letter)', r'Is there a needle in this haystack?')"
   ]
  },
  {
   "cell_type": "markdown",
   "metadata": {
    "slideshow": {
     "slide_type": "slide"
    }
   },
   "source": [
    "## Substitution\n",
    "* Substitution is done using the `re.sub` method\n",
    "\n",
    "```python\n",
    "re.sub(pattern,replacement,string,count=0,flags=0)\n",
    "```\n",
    "* `re.sub` is global by default. To do only one substitution set the `count` parameter to 1\n",
    "* `replacement` can be either a string or a function that takes a `MatchObject` as it's argument\n",
    "* Back references are done using `\\1` instead of `$1`"
   ]
  },
  {
   "cell_type": "markdown",
   "metadata": {
    "slideshow": {
     "slide_type": "slide"
    }
   },
   "source": [
    "## Substitution Examples\n"
   ]
  },
  {
   "cell_type": "code",
   "execution_count": 88,
   "metadata": {},
   "outputs": [
    {
     "data": {
      "text/plain": [
       "'Is there a noodle in this haystack?'"
      ]
     },
     "execution_count": 88,
     "metadata": {},
     "output_type": "execute_result"
    }
   ],
   "source": [
    "re.sub(r'(\\w)\\1','oo',r'Is there a needle in this haystack?')"
   ]
  },
  {
   "cell_type": "code",
   "execution_count": 91,
   "metadata": {},
   "outputs": [
    {
     "data": {
      "text/plain": [
       "'Is there a nedle in this haystack?'"
      ]
     },
     "execution_count": 91,
     "metadata": {},
     "output_type": "execute_result"
    }
   ],
   "source": [
    "re.sub(r'(\\w)\\1',r'\\1',r'Is there a needle in this haystack?')"
   ]
  },
  {
   "cell_type": "markdown",
   "metadata": {
    "slideshow": {
     "slide_type": "slide"
    }
   },
   "source": [
    "## Splitting Strings\n",
    "* The `re` module can split strings using the `split` method\n",
    "\n",
    "```python\n",
    "re.split(regex,string,limit,flags)\n",
    "```"
   ]
  },
  {
   "cell_type": "code",
   "execution_count": 97,
   "metadata": {},
   "outputs": [
    {
     "data": {
      "text/plain": [
       "['Is th', 'r', ' ', ' n', 'dl', ' ', 'n th', 's h', 'yst', 'ck?']"
      ]
     },
     "execution_count": 97,
     "metadata": {},
     "output_type": "execute_result"
    }
   ],
   "source": [
    "re.split(r'[aeiou]+',r'Is there a needle in this haystack?')"
   ]
  },
  {
   "cell_type": "markdown",
   "metadata": {
    "slideshow": {
     "slide_type": "slide"
    }
   },
   "source": [
    "## Using Flags\n",
    "* Flags in Python are constans of the `re` module\n",
    "    + re.I and re.IGNORECASE are equivalent to the i modifier in Perl\n",
    "    + re.M and re.MULTILINE are equivalent to the m modifier in Perl\n",
    "* To use multiple flags, you must \"or\" them together"
   ]
  },
  {
   "cell_type": "markdown",
   "metadata": {
    "slideshow": {
     "slide_type": "slide"
    }
   },
   "source": [
    "## Flag Examples"
   ]
  },
  {
   "cell_type": "code",
   "execution_count": 98,
   "metadata": {
    "collapsed": true
   },
   "outputs": [],
   "source": [
    "re.search(r'n(\\w)\\1dle',r'Is there a\\n NOODLE in this haystack')"
   ]
  },
  {
   "cell_type": "code",
   "execution_count": 102,
   "metadata": {},
   "outputs": [
    {
     "name": "stdout",
     "output_type": "stream",
     "text": [
      " 13 19 0 NOODLE O\n"
     ]
    }
   ],
   "source": [
    "match = re.search(r'n(\\w)\\1dle',r'Is there a\\n NOODLE in this haystack',flags = re.I | re.M)\n",
    "print match.start(), match.end(), match.pos, match.group(0), match.group(1)"
   ]
  },
  {
   "cell_type": "markdown",
   "metadata": {
    "slideshow": {
     "slide_type": "slide"
    }
   },
   "source": [
    "## Compliling Regular Expressions\n",
    "* If a regular expression is going to be used over and over again, you should compile it to the languages internal representation\n",
    "    * Most languages have a concept of compilation\n",
    "    * In Python, calling `re.compile(pattern,flags)` will return a `RegexObject`\n",
    "* The methods of a `RegexObject` are mostly the same as the `re` module, but the pattern is no longer passsed as an argument"
   ]
  },
  {
   "cell_type": "markdown",
   "metadata": {
    "slideshow": {
     "slide_type": "slide"
    }
   },
   "source": [
    "## Compiling Regular Expressions Examples"
   ]
  },
  {
   "cell_type": "code",
   "execution_count": 103,
   "metadata": {},
   "outputs": [
    {
     "name": "stdout",
     "output_type": "stream",
     "text": [
      "Match\n",
      "Is there a zoo in Baltimore?\n",
      "noodle\n",
      "needle\n"
     ]
    }
   ],
   "source": [
    "regex = re.compile(r'n(\\w)\\1dle',flags = re.I | re.M)\n",
    "if regex.search('iS ThERe a \\nNOoDLE iN This HaYStaCK'):\n",
    "    print \"Match\"\n",
    "    \n",
    "print regex.sub(r\"z\\1\\1\",'Is there a noodle in Baltimore?')\n",
    "\n",
    "for match in regex.finditer('You shouldn\\'t sew your clothes with a noodle, no matter how many needles you have'):\n",
    "    print match.group(0)"
   ]
  },
  {
   "cell_type": "markdown",
   "metadata": {
    "slideshow": {
     "slide_type": "slide"
    }
   },
   "source": [
    "# Intro to Git and GitHuB"
   ]
  },
  {
   "cell_type": "markdown",
   "metadata": {
    "slideshow": {
     "slide_type": "slide"
    }
   },
   "source": [
    "## Git\n",
    "* Git is a version control system widely used in open source software\n",
    "    * Created by Linus Torvalds in 2005\n",
    "* Is a distributed VCS\n",
    "    * Everyone has a full copy of the repository, including history\n",
    "* Git is pre-installed on most Linux systems, including GL\n",
    "    * If you need to download it, follow the instructions at https://git-scm.com/downloads\n"
   ]
  },
  {
   "cell_type": "markdown",
   "metadata": {
    "slideshow": {
     "slide_type": "slide"
    }
   },
   "source": [
    "## GitHub\n",
    "* Even though Git is distributed, the files still need to be shared between collaborators\n",
    "* Any publicly accessible web server could serve this purpose but\n",
    "    * GitHub adds lot of nice features on top, including a nice web interface to view code in\n",
    "* GitHub is not the only git host, but is by far the largest \n",
    "    * BitBucket is another popular one, gives unlimited free repositories\n",
    "    "
   ]
  },
  {
   "cell_type": "markdown",
   "metadata": {
    "slideshow": {
     "slide_type": "slide"
    }
   },
   "source": [
    "## Getting a Git repo\n",
    "* If you are starting out with a new code base, simply\n",
    "    + create a folder for your project\n",
    "    + run `git init` inside the folder to make a git repository\n",
    "* If you want to use existing code, say from GitHub, you can use the `git clone` command\n"
   ]
  },
  {
   "cell_type": "code",
   "execution_count": 104,
   "metadata": {},
   "outputs": [
    {
     "name": "stderr",
     "output_type": "stream",
     "text": [
      "Cloning into '433Fall17'...\n"
     ]
    }
   ],
   "source": [
    "%%bash\n",
    "git clone https://github.com/bwilk7/433Fall17/ "
   ]
  },
  {
   "cell_type": "markdown",
   "metadata": {
    "slideshow": {
     "slide_type": "slide"
    }
   },
   "source": [
    "## Adding Changes to Git\n",
    "* After modifying some of your code, it is a good idea to add the changes to the repository\n",
    "* The command `git add FILE` adds a new version specific file to the repository\n",
    "    + You can used wildcard to add many files at once, just be careful"
   ]
  },
  {
   "cell_type": "markdown",
   "metadata": {
    "slideshow": {
     "slide_type": "slide"
    }
   },
   "source": [
    "## Commiting Changes\n",
    "* After adding the files, the changes needed to be commited to repository\n",
    "    * This calculates the difference between existing files and the ones youv'e added, as well as marks a specific point with a message\n",
    "    \n",
    "* To commit the added files in your Git repository use the command `git commit -m MESSAGE` where `MESSAGE` is some informative information about the change you made\n"
   ]
  },
  {
   "cell_type": "markdown",
   "metadata": {
    "slideshow": {
     "slide_type": "slide"
    }
   },
   "source": [
    "## Pushing the Code\n",
    "* If you want to push your code back to GitHub, that is make the repository on GitHub match your local repository, use the command `git push <remote> <branch>`\n",
    "* If you cloned your code from GitHub, then GitHub will be set as the `origin`, so your command might be\n",
    "\n",
    "```bash\n",
    "git push origin master\n",
    "```\n",
    "\n",
    "* You can have multiple remote points, and multiple branches, but for this course, they shouldn't be needed"
   ]
  },
  {
   "cell_type": "markdown",
   "metadata": {
    "slideshow": {
     "slide_type": "slide"
    }
   },
   "source": [
    "## Working Across Computers\n",
    "* If you want to work on the same code across multile computers, thats fine!\n",
    "* First clone the repository to the computers to want to work on\n",
    "* After committing some changes and pushing them back to GitHub on computer A, you need to update computer B's repository\n",
    "    * This is accomplished using the command `git pull origin`"
   ]
  },
  {
   "cell_type": "markdown",
   "metadata": {
    "slideshow": {
     "slide_type": "slide"
    }
   },
   "source": [
    "##  Merges\n",
    "* Git does it best to merge files together when multiple people have made changes on them\n",
    "* Sometimes it is hard to figure out how to merge, and it will leave conflicts in your code\n",
    "* To fix a conflict, edit the conflicted files, and add them again using `git add`\n",
    "    + I don't expect conflicts to be an issue in this class"
   ]
  },
  {
   "cell_type": "code",
   "execution_count": null,
   "metadata": {
    "collapsed": true
   },
   "outputs": [],
   "source": []
  }
 ],
 "metadata": {
  "celltoolbar": "Slideshow",
  "kernelspec": {
   "display_name": "Python 2",
   "language": "python",
   "name": "python2"
  },
  "language_info": {
   "codemirror_mode": {
    "name": "ipython",
    "version": 2
   },
   "file_extension": ".py",
   "mimetype": "text/x-python",
   "name": "python",
   "nbconvert_exporter": "python",
   "pygments_lexer": "ipython2",
   "version": "2.7.9"
  }
 },
 "nbformat": 4,
 "nbformat_minor": 2
}

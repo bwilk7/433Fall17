{
 "cells": [
  {
   "cell_type": "markdown",
   "metadata": {
    "slideshow": {
     "slide_type": "slide"
    }
   },
   "source": [
    "# Regular Expressions\n",
    "## Optimization, Python, and Git"
   ]
  },
  {
   "cell_type": "markdown",
   "metadata": {
    "slideshow": {
     "slide_type": "slide"
    }
   },
   "source": [
    "## Optimizing Regular Expressions\n",
    "* Regular expressions are extremely powerful, but can be quite time consuming\n",
    "* A Google search for \"optimizing regular expressions\" returns dozens of articles and blogs about the subject\n",
    "* My basic rules of thumb:\n",
    "    + Get it working first\n",
    "    + Don't be afraid to look for another solution\n"
   ]
  },
  {
   "cell_type": "markdown",
   "metadata": {
    "slideshow": {
     "slide_type": "slide"
    }
   },
   "source": [
    "## Why Regular Expressions can be Slow\n",
    "* Some of this is implementation dependent, but regular expressions work by going through a string one character at a time, looking for matches\n",
    "    * If there are a lot of comparisons to be made at each character in the string, this will slow the regex down\n",
    "* Some regexes require backtracking to determine if there is a match or not\n",
    "    * The more backtracking, the longer the regex will take to execute\n",
    "    * A good resource on this is [Catastrophic Backtracking](http://www.regular-expressions.info/catastrophic.html)\n",
    "        + Although written as an ad for their product, it does have a lot of helpful information"
   ]
  },
  {
   "cell_type": "markdown",
   "metadata": {
    "slideshow": {
     "slide_type": "slide"
    }
   },
   "source": [
    "## Optimization Tip 1\n",
    "* Don't use regular expressions if you don't have to\n",
    "    * This is especially true if the pattern you are searching for is all literals\n",
    "    "
   ]
  },
  {
   "cell_type": "code",
   "execution_count": null,
   "metadata": {
    "slideshow": {
     "slide_type": "-"
    }
   },
   "outputs": [],
   "source": [
    "%%bash\n",
    "time perl src/perl/slow.pl"
   ]
  },
  {
   "cell_type": "code",
   "execution_count": null,
   "metadata": {},
   "outputs": [],
   "source": [
    "%load src/perl/slow.pl"
   ]
  },
  {
   "cell_type": "code",
   "execution_count": null,
   "metadata": {
    "slideshow": {
     "slide_type": "slide"
    }
   },
   "outputs": [],
   "source": [
    "%%bash\n",
    "time perl src/perl/fast.pl"
   ]
  },
  {
   "cell_type": "code",
   "execution_count": null,
   "metadata": {},
   "outputs": [],
   "source": [
    "%load src/perl/slow.pl;"
   ]
  },
  {
   "cell_type": "markdown",
   "metadata": {
    "slideshow": {
     "slide_type": "slide"
    }
   },
   "source": [
    "## Optimization Tip 2\n",
    "* If you can, use ^ and \\$ anchors\n",
    "    + Limiting where a match can occur can make a regex fail faster"
   ]
  },
  {
   "cell_type": "code",
   "execution_count": null,
   "metadata": {},
   "outputs": [],
   "source": [
    "%%bash\n",
    "time perl src/perl/anchored.pl"
   ]
  },
  {
   "cell_type": "code",
   "execution_count": null,
   "metadata": {},
   "outputs": [],
   "source": [
    "%%bash\n",
    "time perl src/perl/unanchored.pl"
   ]
  },
  {
   "cell_type": "markdown",
   "metadata": {
    "collapsed": true,
    "slideshow": {
     "slide_type": "slide"
    }
   },
   "source": [
    "## Optimization Tip 3\n",
    "* Avoid quantifiers if you don't need to use them\n",
    "* If you need to use them, see if you can use the non-greedy version"
   ]
  },
  {
   "cell_type": "code",
   "execution_count": null,
   "metadata": {},
   "outputs": [],
   "source": [
    "%%bash\n",
    "time perl src/perl/greedy.pl"
   ]
  },
  {
   "cell_type": "code",
   "execution_count": null,
   "metadata": {},
   "outputs": [],
   "source": [
    "%%bash\n",
    "time perl src/perl/nongreedy.pl"
   ]
  },
  {
   "cell_type": "markdown",
   "metadata": {
    "slideshow": {
     "slide_type": "slide"
    }
   },
   "source": [
    "## Optimization Tip 4\n",
    "* Structure your alternations efficiently\n",
    "    * Alternations are searched left-to-righ, so put the (suspected) most common first"
   ]
  },
  {
   "cell_type": "code",
   "execution_count": null,
   "metadata": {},
   "outputs": [],
   "source": [
    "%%bash\n",
    "time perl src/perl/good_alt.pl"
   ]
  },
  {
   "cell_type": "code",
   "execution_count": null,
   "metadata": {},
   "outputs": [],
   "source": [
    "%%bash\n",
    "time perl src/perl/bad_alt.pl"
   ]
  },
  {
   "cell_type": "markdown",
   "metadata": {
    "slideshow": {
     "slide_type": "slide"
    }
   },
   "source": [
    "## Optimization Tip 5\n",
    "* Use non-capturing groups\n",
    "    * If you are just using grouping to apply a quantifier or something else over a part of a pattern, consider a non-capturing group `(?:pattern)`"
   ]
  },
  {
   "cell_type": "code",
   "execution_count": null,
   "metadata": {},
   "outputs": [],
   "source": [
    "%%bash\n",
    "time perl src/perl/capture.pl"
   ]
  },
  {
   "cell_type": "code",
   "execution_count": null,
   "metadata": {},
   "outputs": [],
   "source": [
    "%%bash\n",
    "time perl src/perl/noncapture.pl"
   ]
  },
  {
   "cell_type": "markdown",
   "metadata": {
    "slideshow": {
     "slide_type": "slide"
    }
   },
   "source": [
    "# Regex in Python"
   ]
  },
  {
   "cell_type": "markdown",
   "metadata": {
    "slideshow": {
     "slide_type": "slide"
    }
   },
   "source": [
    "## Intro to re Module\n",
    "* Regular expressions are not built into the core python language\n",
    "    * Available by importing the standard `re` module\n",
    "* Matching and substitution are done using methods \n",
    "* To avoid having to escape the `\\` character in Python so the regex can process use a raw string\n",
    "    * `r'This is a raw python string\\n'`"
   ]
  },
  {
   "cell_type": "code",
   "execution_count": null,
   "metadata": {},
   "outputs": [],
   "source": [
    "import re"
   ]
  },
  {
   "cell_type": "markdown",
   "metadata": {
    "slideshow": {
     "slide_type": "slide"
    }
   },
   "source": [
    "## Simple Matching\n",
    "* The `re` module has 4 methods to performing matching\n",
    "    * re.match\n",
    "    * re.search\n",
    "    * re.findall\n",
    "    * re.finditer\n",
    "* All methods take the arguments (pattern, string, optional_flags)"
   ]
  },
  {
   "cell_type": "code",
   "execution_count": null,
   "metadata": {},
   "outputs": [],
   "source": [
    "if re.match(r'needle',r'Is there a needle in this haystack?'):\n",
    "    print \"match\""
   ]
  },
  {
   "cell_type": "code",
   "execution_count": null,
   "metadata": {},
   "outputs": [],
   "source": [
    "if re.search(r'needle',r'Is there a needle in this haystack?'):\n",
    "    print \"match\""
   ]
  },
  {
   "cell_type": "markdown",
   "metadata": {
    "slideshow": {
     "slide_type": "slide"
    }
   },
   "source": [
    "## The Match Object\n",
    "* Regular expressions don't evaluate to `true` or `false` in Python\n",
    "    * If a match is found, a `MatchObject` is returned\n",
    "    * If no match is found, `None` is returned\n",
    "* The `MatchObject` can be used to access groups found in the match, as well as information such as position"
   ]
  },
  {
   "cell_type": "code",
   "execution_count": null,
   "metadata": {},
   "outputs": [],
   "source": [
    "re.search(r'needle',r'Is there a needle in this haystack?')"
   ]
  },
  {
   "cell_type": "code",
   "execution_count": null,
   "metadata": {},
   "outputs": [],
   "source": [
    "match = re.search(r'(\\w+)\\sneedle',r'Is there a needle in this haystack?')\n",
    "print match.group(0)\n",
    "print match.group(1)"
   ]
  },
  {
   "cell_type": "markdown",
   "metadata": {
    "slideshow": {
     "slide_type": "slide"
    }
   },
   "source": [
    "## re.findall and re.finditer\n",
    "* Rather than using a `g` modifier, Python has two specialized functions\n",
    "* re.findall returns the groups themselves\n",
    "* re.finditer returns an iterator over `MatchObjects` "
   ]
  },
  {
   "cell_type": "code",
   "execution_count": null,
   "metadata": {},
   "outputs": [],
   "source": [
    "re.findall(r'\\b\\w*a\\w*\\b', r'Is there a needle in this haystack?')"
   ]
  },
  {
   "cell_type": "code",
   "execution_count": null,
   "metadata": {},
   "outputs": [],
   "source": [
    "re.findall(r'\\b(\\w*)a(\\w*)\\b', r'Is there a needle in this haystack?')"
   ]
  },
  {
   "cell_type": "markdown",
   "metadata": {
    "slideshow": {
     "slide_type": "slide"
    }
   },
   "source": [
    "## Backreferencing\n",
    "* Backreferencing works exactly the same in Python\n",
    "* Python also allows named groups, but personally I find it messy"
   ]
  },
  {
   "cell_type": "code",
   "execution_count": null,
   "metadata": {},
   "outputs": [],
   "source": [
    "re.findall(r'(\\w)\\1', r'Is there a needle in this haystack?')"
   ]
  },
  {
   "cell_type": "code",
   "execution_count": null,
   "metadata": {},
   "outputs": [],
   "source": [
    "re.findall(r'(?P<a_letter>\\w)(?P=a_letter)', r'Is there a needle in this haystack?')"
   ]
  },
  {
   "cell_type": "markdown",
   "metadata": {
    "slideshow": {
     "slide_type": "slide"
    }
   },
   "source": [
    "## Substitution\n",
    "* Substitution is done using the `re.sub` method\n",
    "\n",
    "```python\n",
    "re.sub(pattern,replacement,string,count=0,flags=0)\n",
    "```\n",
    "* `re.sub` is global by default. To do only one substitution set the `count` parameter to 1\n",
    "* `replacement` can be either a string or a function that takes a `MatchObject` as it's argument\n",
    "* Back references are done using `\\1` instead of `$1`"
   ]
  },
  {
   "cell_type": "markdown",
   "metadata": {
    "slideshow": {
     "slide_type": "slide"
    }
   },
   "source": [
    "## Substitution Examples\n"
   ]
  },
  {
   "cell_type": "code",
   "execution_count": null,
   "metadata": {},
   "outputs": [],
   "source": [
    "re.sub(r'(\\w)\\1','oo',r'Is there a needle in this haystack?')"
   ]
  },
  {
   "cell_type": "code",
   "execution_count": null,
   "metadata": {},
   "outputs": [],
   "source": [
    "re.sub(r'(\\w)\\1',r'\\1',r'Is there a needle in this haystack?')"
   ]
  },
  {
   "cell_type": "markdown",
   "metadata": {
    "slideshow": {
     "slide_type": "slide"
    }
   },
   "source": [
    "## Splitting Strings\n",
    "* The `re` module can split strings using the `split` method\n",
    "\n",
    "```python\n",
    "re.split(regex,string,limit,flags)\n",
    "```"
   ]
  },
  {
   "cell_type": "code",
   "execution_count": null,
   "metadata": {},
   "outputs": [],
   "source": [
    "re.split(r'[aeiou]+',r'Is there a needle in this haystack?')"
   ]
  },
  {
   "cell_type": "markdown",
   "metadata": {
    "slideshow": {
     "slide_type": "slide"
    }
   },
   "source": [
    "## Using Flags\n",
    "* Flags in Python are constans of the `re` module\n",
    "    + re.I and re.IGNORECASE are equivalent to the i modifier in Perl\n",
    "    + re.M and re.MULTILINE are equivalent to the m modifier in Perl\n",
    "* To use multiple flags, you must \"or\" them together"
   ]
  },
  {
   "cell_type": "markdown",
   "metadata": {
    "slideshow": {
     "slide_type": "slide"
    }
   },
   "source": [
    "## Flag Examples"
   ]
  },
  {
   "cell_type": "code",
   "execution_count": null,
   "metadata": {},
   "outputs": [],
   "source": [
    "re.search(r'n(\\w)\\1dle',r'Is there a\\n NOODLE in this haystack')"
   ]
  },
  {
   "cell_type": "code",
   "execution_count": null,
   "metadata": {},
   "outputs": [],
   "source": [
    "match = re.search(r'n(\\w)\\1dle',r'Is there a\\n NOODLE in this haystack',flags = re.I | re.M)\n",
    "print match.start(), match.end(), match.pos, match.group(0), match.group(1)"
   ]
  },
  {
   "cell_type": "markdown",
   "metadata": {
    "slideshow": {
     "slide_type": "slide"
    }
   },
   "source": [
    "## Compliling Regular Expressions\n",
    "* If a regular expression is going to be used over and over again, you should compile it to the languages internal representation\n",
    "    * Most languages have a concept of compilation\n",
    "    * In Python, calling `re.compile(pattern,flags)` will return a `RegexObject`\n",
    "* The methods of a `RegexObject` are mostly the same as the `re` module, but the pattern is no longer passsed as an argument"
   ]
  },
  {
   "cell_type": "markdown",
   "metadata": {
    "slideshow": {
     "slide_type": "slide"
    }
   },
   "source": [
    "## Compiling Regular Expressions Examples"
   ]
  },
  {
   "cell_type": "code",
   "execution_count": null,
   "metadata": {},
   "outputs": [],
   "source": [
    "regex = re.compile(r'n(\\w)\\1dle',flags = re.I | re.M)\n",
    "if regex.search('iS ThERe a \\nNOoDLE iN This HaYStaCK'):\n",
    "    print \"Match\"\n",
    "    \n",
    "print regex.sub(r\"z\\1\\1\",'Is there a noodle in Baltimore?')\n",
    "\n",
    "for match in regex.finditer('You shouldn\\'t sew your clothes with a noodle, no matter how many needles you have'):\n",
    "    print match.group(0)"
   ]
  }
 ],
 "metadata": {
  "celltoolbar": "Slideshow",
  "kernelspec": {
   "display_name": "Python 2",
   "language": "python",
   "name": "python2"
  },
  "language_info": {
   "codemirror_mode": {
    "name": "ipython",
    "version": 3
   },
   "file_extension": ".py",
   "mimetype": "text/x-python",
   "name": "python",
   "nbconvert_exporter": "python",
   "pygments_lexer": "ipython3",
   "version": "3.5.2"
  },
  "toc": {
   "nav_menu": {},
   "number_sections": false,
   "sideBar": true,
   "skip_h1_title": false,
   "toc_cell": false,
   "toc_position": {},
   "toc_section_display": "block",
   "toc_window_display": false
  }
 },
 "nbformat": 4,
 "nbformat_minor": 2
}

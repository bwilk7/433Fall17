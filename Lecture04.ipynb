{
 "cells": [
  {
   "cell_type": "markdown",
   "metadata": {
    "slideshow": {
     "slide_type": "slide"
    }
   },
   "source": [
    "# Shell Scripting"
   ]
  },
  {
   "cell_type": "markdown",
   "metadata": {
    "slideshow": {
     "slide_type": "slide"
    }
   },
   "source": [
    "## The Shell\n",
    "* The shell is generally considered to be the interface between the user and the operating system\n",
    "    * Graphical User Interface\n",
    "    * Command Line Interface\n"
   ]
  },
  {
   "cell_type": "markdown",
   "metadata": {
    "slideshow": {
     "slide_type": "slide"
    }
   },
   "source": [
    "## A Little History\n",
    "* Shells in command line interfaces have been programmable in a limited form since at least the first UNIX shell\n",
    "* The UNIX shell was completely rewritten in the late 1970s by Steve Bourne\n",
    "    * A shell modeled after C was also written around this time\n",
    "* UNIX isn't open source, so an open source implementation of the UNIX shell was developed, known as the Bourne again shell, or **bash**"
   ]
  },
  {
   "cell_type": "markdown",
   "metadata": {
    "slideshow": {
     "slide_type": "slide"
    }
   },
   "source": [
    "## Shells Today\n",
    "* **bash** is the default shell on most Linux operating systems as well as macOS\n",
    "    * Ubuntu and Debian use a shell known as **dash** for some startup scripts\n",
    "    * Korn Shell (**ksh**) and Z Shell (**zsh**) are other common Bourne-like shells\n",
    "* The C shell (**csh**) is another common shell\n",
    "    * The default shell on GL at UMBC is **tcsh** or Turbo C Shell\n",
    "* PowerShell is available on many Windows based computers"
   ]
  },
  {
   "cell_type": "markdown",
   "metadata": {
    "slideshow": {
     "slide_type": "slide"
    }
   },
   "source": [
    "## Non-Scripting Features of Shells\n",
    "* Tab Completion\n",
    "* History \n",
    "    * Global (most shells)\n",
    "    * Context-based (**fish**)\n",
    "* Prompt Customization"
   ]
  },
  {
   "cell_type": "markdown",
   "metadata": {
    "slideshow": {
     "slide_type": "slide"
    }
   },
   "source": [
    "## Selecting a Shell\n",
    "- All operating system come with a default shell\n",
    "- In standard Linux installations the `chsh` command can be used to select any installed shell\n",
    "```bash\n",
    "chs -s SHELL_PATH USER_NAME\n",
    "```\n",
    "- To change your shell in GL, you must go to https://webadmin.umbc.edu/admin and click on \"Edit my Shell and Unix Settings\""
   ]
  },
  {
   "cell_type": "markdown",
   "metadata": {
    "slideshow": {
     "slide_type": "slide"
    }
   },
   "source": [
    "## Bash\n",
    "* For this class we will be using **bash**\n",
    "* Even if a system does not use bash as the default shell, almost all systems have it\n",
    "    * This makes scripts written in **bash** very portable\n",
    "* **bash** has been managed since it's creation by the GNU Project\n",
    "    * Code is open source, and can be contributed to at https://git.savannah.gnu.org/cgit/bash.git\n",
    "    "
   ]
  },
  {
   "cell_type": "markdown",
   "metadata": {
    "slideshow": {
     "slide_type": "slide"
    }
   },
   "source": [
    "## Unix Utilities\n",
    "* Bash scripts commonly rely on many simple programs to accomplish various tasks\n",
    "* These programs are sometimes called Unix Utilities\n",
    "    * Usually do only one thing\n",
    "    * Most operate on STDIN and STDOUT by default\n",
    "* macOS has many of these, but some are only available in the GNU Core Utils library"
   ]
  },
  {
   "cell_type": "markdown",
   "metadata": {
    "slideshow": {
     "slide_type": "slide"
    }
   },
   "source": [
    "## Getting Help In the Shell\n",
    "- Most Unix utilities, and many other programs, install a manual along with program\n",
    "- To access, use the `man` command followed by the command name\n",
    "    - Sometimes help is access using the `info` command instead....\n",
    "- `bash` also has it's own help utility, `help` which provides help on bash specific commands"
   ]
  },
  {
   "cell_type": "code",
   "execution_count": null,
   "metadata": {
    "slideshow": {
     "slide_type": "slide"
    }
   },
   "outputs": [],
   "source": [
    "man cp"
   ]
  },
  {
   "cell_type": "code",
   "execution_count": null,
   "metadata": {
    "slideshow": {
     "slide_type": "slide"
    }
   },
   "outputs": [],
   "source": [
    "help cd"
   ]
  },
  {
   "cell_type": "markdown",
   "metadata": {
    "slideshow": {
     "slide_type": "slide"
    }
   },
   "source": [
    "## Utilities You Already Use\n",
    "* ls\n",
    "* rm\n",
    "* mv\n",
    "* cp\n",
    "* mkdir\n",
    "* pwd"
   ]
  },
  {
   "cell_type": "markdown",
   "metadata": {
    "slideshow": {
     "slide_type": "slide"
    }
   },
   "source": [
    "## echo\n",
    "* Echo is the most commonly used command to print something to the screen\n",
    "* By default, newlines and other escapes are not \"translated\" into the proper character\n",
    "    * Use the `-e` flag to accomplish this\n",
    "    * To suppress the newline at the end of echo use the `-n` flag\n",
    "* Echo can take multiple arguments, and will separate them by a space by default\n",
    "    * To prevent separation by a space, use the `-s` flag"
   ]
  },
  {
   "cell_type": "code",
   "execution_count": null,
   "metadata": {
    "slideshow": {
     "slide_type": "slide"
    }
   },
   "outputs": [],
   "source": [
    "echo \"This will print as expected\"\n",
    "echo This will too\n",
    "echo \"This\\ndoesn't\\nhave\\nnewlines\"\n",
    "echo -e \"This\\ndoes\\nhave\\nnewlines\""
   ]
  },
  {
   "cell_type": "markdown",
   "metadata": {
    "slideshow": {
     "slide_type": "slide"
    }
   },
   "source": [
    "## cat\n",
    "* cat is used to con**cat**enate files together\n",
    "* It is also used by lazy programmers (me included) to display the contents of a file to a screen, but usually there are better utilities for that\n",
    "    * less\n",
    "    * more\n"
   ]
  },
  {
   "cell_type": "code",
   "execution_count": null,
   "metadata": {
    "slideshow": {
     "slide_type": "slide"
    }
   },
   "outputs": [],
   "source": [
    "cat src/perl/anchored.pl"
   ]
  },
  {
   "cell_type": "code",
   "execution_count": null,
   "metadata": {},
   "outputs": [],
   "source": [
    "cat -n src/perl/anchored.pl"
   ]
  },
  {
   "cell_type": "code",
   "execution_count": null,
   "metadata": {
    "slideshow": {
     "slide_type": "slide"
    }
   },
   "outputs": [],
   "source": [
    "cat src/perl/anchored.pl src/perl/unanchored.pl"
   ]
  },
  {
   "cell_type": "markdown",
   "metadata": {
    "slideshow": {
     "slide_type": "slide"
    }
   },
   "source": [
    "## sort\n",
    "* sort sorts the lines of a file! \n",
    "* By default this is done lexicographically \n",
    "    * By using flags you can sort by numbers, months, etc.\n",
    "* The `-r` flag will sort in revers order\n",
    "* By using the `-u` flag, each unique line will be printed only once"
   ]
  },
  {
   "cell_type": "code",
   "execution_count": null,
   "metadata": {
    "slideshow": {
     "slide_type": "slide"
    }
   },
   "outputs": [],
   "source": [
    "sort data/elements.txt"
   ]
  },
  {
   "cell_type": "code",
   "execution_count": null,
   "metadata": {
    "slideshow": {
     "slide_type": "slide"
    }
   },
   "outputs": [],
   "source": [
    "sort -n data/elements.txt"
   ]
  },
  {
   "cell_type": "code",
   "execution_count": null,
   "metadata": {
    "slideshow": {
     "slide_type": "slide"
    }
   },
   "outputs": [],
   "source": [
    "sort --key=2 data/elements.txt"
   ]
  },
  {
   "cell_type": "code",
   "execution_count": null,
   "metadata": {
    "slideshow": {
     "slide_type": "slide"
    }
   },
   "outputs": [],
   "source": [
    "sort -n data/dir_sizes.txt"
   ]
  },
  {
   "cell_type": "code",
   "execution_count": null,
   "metadata": {},
   "outputs": [],
   "source": [
    "sort -h data/dir_sizes.txt"
   ]
  },
  {
   "cell_type": "markdown",
   "metadata": {
    "slideshow": {
     "slide_type": "slide"
    }
   },
   "source": [
    "## uniq\n",
    "* `uniq` in its default form accomplishes the same as `sort -u`\n",
    "* Input to `uniq` is assumed to be sorted already\n",
    "* `uniq` is useful to:\n",
    "    * Count the number of times each unique line occurs\n",
    "    * Ignore case when comparing lines\n",
    "    * Only compare the first N characters of a line"
   ]
  },
  {
   "cell_type": "code",
   "execution_count": null,
   "metadata": {
    "slideshow": {
     "slide_type": "slide"
    }
   },
   "outputs": [],
   "source": [
    "sort data/git_files.txt | uniq -c"
   ]
  },
  {
   "cell_type": "code",
   "execution_count": null,
   "metadata": {
    "slideshow": {
     "slide_type": "slide"
    }
   },
   "outputs": [],
   "source": [
    "sort data/git_files.txt | uniq -c -w3"
   ]
  },
  {
   "cell_type": "markdown",
   "metadata": {
    "slideshow": {
     "slide_type": "slide"
    }
   },
   "source": [
    "## shuf\n",
    "* `shuf` randomly permutes the lines of a file\n",
    "* This is extremely useful in preparing datasets"
   ]
  },
  {
   "cell_type": "code",
   "execution_count": null,
   "metadata": {
    "slideshow": {
     "slide_type": "slide"
    }
   },
   "outputs": [],
   "source": [
    "shuf data/elements.txt"
   ]
  },
  {
   "cell_type": "markdown",
   "metadata": {
    "slideshow": {
     "slide_type": "slide"
    }
   },
   "source": [
    "## head & tail\n",
    "* The `head` and `tail` commands display the first 10 or last 10 lines of a file by default\n",
    "    * You can change the number of lines displayed using the `-n` option\n",
    "    * The value passed to `-n` when using `head` can be negative. This means return everything but the last n lines"
   ]
  },
  {
   "cell_type": "code",
   "execution_count": null,
   "metadata": {
    "slideshow": {
     "slide_type": "slide"
    }
   },
   "outputs": [],
   "source": [
    "cat data/git_files.txt"
   ]
  },
  {
   "cell_type": "code",
   "execution_count": null,
   "metadata": {},
   "outputs": [],
   "source": [
    "head -n1 data/git_files.txt"
   ]
  },
  {
   "cell_type": "code",
   "execution_count": null,
   "metadata": {},
   "outputs": [],
   "source": [
    "tail -n1 data/git_files.txt"
   ]
  },
  {
   "cell_type": "code",
   "execution_count": null,
   "metadata": {},
   "outputs": [],
   "source": [
    "head -n-1 data/git_files.txt"
   ]
  },
  {
   "cell_type": "markdown",
   "metadata": {
    "slideshow": {
     "slide_type": "slide"
    }
   },
   "source": [
    "## cut\n",
    "* The cut command extracts columns from a file containing a dataset\n",
    "* By default the delimiter used is a tab\n",
    "    * Use the `-d` argument to change the delimiter\n",
    "* To specify which columns to return, use the `-f` argument    "
   ]
  },
  {
   "cell_type": "code",
   "execution_count": null,
   "metadata": {
    "slideshow": {
     "slide_type": "slide"
    }
   },
   "outputs": [],
   "source": [
    "#head regex_starter_code/food_facts.tsv\n",
    "cut -f1,2 data/food_facts.tsv | head"
   ]
  },
  {
   "cell_type": "code",
   "execution_count": null,
   "metadata": {
    "scrolled": false,
    "slideshow": {
     "slide_type": "slide"
    }
   },
   "outputs": [],
   "source": [
    "cut -f1-4,10 -d, data/states.csv | head"
   ]
  },
  {
   "cell_type": "markdown",
   "metadata": {
    "slideshow": {
     "slide_type": "slide"
    }
   },
   "source": [
    "## paste\n",
    "* `paste` does the opposite of `cut`\n",
    "* Each line of every file is concatenated together, separated by a tab by default\n",
    "    * Use the `-d` flag to change the delmiter"
   ]
  },
  {
   "cell_type": "code",
   "execution_count": null,
   "metadata": {
    "slideshow": {
     "slide_type": "slide"
    }
   },
   "outputs": [],
   "source": [
    "paste data/elements.txt data/dir_sizes.txt"
   ]
  },
  {
   "cell_type": "code",
   "execution_count": null,
   "metadata": {
    "slideshow": {
     "slide_type": "slide"
    }
   },
   "outputs": [],
   "source": [
    "paste -d, data/elements.txt data/dir_sizes.txt"
   ]
  },
  {
   "cell_type": "markdown",
   "metadata": {
    "slideshow": {
     "slide_type": "slide"
    }
   },
   "source": [
    "## find\n",
    "* `find` is like an extremely powerful version of `ls`\n",
    "* By default, `find` will list all the files under a directory passed as an argument\n",
    "    * Numerous tests can be passed to find as arguments and used to filter the list that is returned "
   ]
  },
  {
   "cell_type": "markdown",
   "metadata": {
    "slideshow": {
     "slide_type": "slide"
    }
   },
   "source": [
    "## Common find Tests\n",
    "- `-name` matches the name of the file or directory\n",
    "- `-type` restricts the output to files (`f`) or directories(`d`)\n",
    "- `-maxdepth` restricts the amount of recursion done\n",
    "- `-size` restricts results to directories or files of the exact size\n",
    "    - To look for a range, add a `+` or `-` before the number"
   ]
  },
  {
   "cell_type": "code",
   "execution_count": null,
   "metadata": {
    "slideshow": {
     "slide_type": "slide"
    }
   },
   "outputs": [],
   "source": [
    "find . | head"
   ]
  },
  {
   "cell_type": "code",
   "execution_count": null,
   "metadata": {
    "slideshow": {
     "slide_type": "slide"
    }
   },
   "outputs": [],
   "source": [
    "find . -type d | head"
   ]
  },
  {
   "cell_type": "code",
   "execution_count": null,
   "metadata": {
    "slideshow": {
     "slide_type": "slide"
    }
   },
   "outputs": [],
   "source": [
    "find . -maxdepth 1 -type d "
   ]
  },
  {
   "cell_type": "code",
   "execution_count": null,
   "metadata": {
    "slideshow": {
     "slide_type": "slide"
    }
   },
   "outputs": [],
   "source": [
    "find . -name \"*ipynb\""
   ]
  },
  {
   "cell_type": "code",
   "execution_count": null,
   "metadata": {
    "slideshow": {
     "slide_type": "slide"
    }
   },
   "outputs": [],
   "source": [
    "find ~/Teaching -type f -size +50M"
   ]
  },
  {
   "cell_type": "markdown",
   "metadata": {
    "slideshow": {
     "slide_type": "slide"
    }
   },
   "source": [
    "## Find Exercise\n",
    "- Using find, return results that meet the following criteria\n",
    "    - Are files, not directories\n",
    "    - End in the characters \"*.py\"\n",
    "    - Are greater than 20k in size"
   ]
  },
  {
   "cell_type": "code",
   "execution_count": null,
   "metadata": {
    "slideshow": {
     "slide_type": "slide"
    }
   },
   "outputs": [],
   "source": []
  },
  {
   "cell_type": "markdown",
   "metadata": {
    "slideshow": {
     "slide_type": "slide"
    }
   },
   "source": [
    "## wc\n",
    "* In some cases, it is convenient to know basic statistics about a file\n",
    "* The `wc` or word count command returns the number of lines, words, and characters in a file\n",
    "    * To only print ones of these, use the `-l`, `-w` or `-m` flags respectively "
   ]
  },
  {
   "cell_type": "code",
   "execution_count": null,
   "metadata": {
    "slideshow": {
     "slide_type": "slide"
    }
   },
   "outputs": [],
   "source": [
    "wc to_sort1.txt"
   ]
  },
  {
   "cell_type": "code",
   "execution_count": null,
   "metadata": {},
   "outputs": [],
   "source": [
    "wc -l to_sort1.txt"
   ]
  },
  {
   "cell_type": "markdown",
   "metadata": {
    "slideshow": {
     "slide_type": "slide"
    }
   },
   "source": [
    "## Other Helpful Utilities\n",
    "* arch\n",
    "* uname\n",
    "* whoami\n",
    "* yes"
   ]
  },
  {
   "cell_type": "markdown",
   "metadata": {
    "slideshow": {
     "slide_type": "slide"
    }
   },
   "source": [
    "## Shell Script Setup\n",
    "* A shell script in the simplest form is just a list of commands to execute in sequence\n",
    "* Is run using sh (or bash if you are not sure what shell you are in) script_file"
   ]
  },
  {
   "cell_type": "code",
   "execution_count": null,
   "metadata": {},
   "outputs": [],
   "source": [
    "bash hello_simple.sh"
   ]
  },
  {
   "cell_type": "markdown",
   "metadata": {
    "slideshow": {
     "slide_type": "slide"
    }
   },
   "source": [
    "## Shebang Line\n",
    "* On UNIX-like systems, if the first line of a file starts with `#!`, that line indicates which program to use to run the file\n",
    "* Can be used with most any interpreted language\n",
    "* Must be the full path of the command\n",
    "```bash\n",
    "#!/bin/bash\n",
    "#!/bin/python\n",
    "#!/bin/perl\n",
    "```\n",
    "* File must be executable\n",
    "\n",
    "```chmod +x FILE```"
   ]
  },
  {
   "cell_type": "code",
   "execution_count": 5,
   "metadata": {
    "slideshow": {
     "slide_type": "slide"
    }
   },
   "outputs": [
    {
     "name": "stdout",
     "output_type": "stream",
     "text": [
      "Hello World\n"
     ]
    }
   ],
   "source": [
    "./src/shell/hello.sh"
   ]
  },
  {
   "cell_type": "markdown",
   "metadata": {
    "slideshow": {
     "slide_type": "slide"
    }
   },
   "source": [
    "## Variables\n",
    "* Variables in bash can hold either scalar or array\n",
    "    * Arrays are constructed using parentheses ()\n",
    "* To initialize a variable, use the equals sign **with no spaces**"
   ]
  },
  {
   "cell_type": "markdown",
   "metadata": {
    "slideshow": {
     "slide_type": "slide"
    }
   },
   "source": [
    "## Declaring Variables Examples"
   ]
  },
  {
   "cell_type": "code",
   "execution_count": 7,
   "metadata": {},
   "outputs": [
    {
     "name": "stdout",
     "output_type": "stream",
     "text": [
      "not what you want: command not found\n"
     ]
    },
    {
     "ename": "",
     "evalue": "127",
     "output_type": "error",
     "traceback": []
    }
   ],
   "source": [
    "a_scalar=UMBC\n",
    "another_scalar=\"This needs quotes\"\n",
    "more_scalars=40\n",
    "even_more=3.14\n",
    "an_array=(letters \"s p a c e s\" 1.0)\n",
    "#Don't do this\n",
    "bad= \"not what you want\""
   ]
  },
  {
   "cell_type": "markdown",
   "metadata": {
    "slideshow": {
     "slide_type": "slide"
    }
   },
   "source": [
    "## Accessing Variables\n",
    "* To access a variable a dollar sign (**$**) must be prepended to its name\n",
    "* To access an array element, the variable name and index must occur inside of curly braces (**{}**)\n",
    "    * Scalar values can be accessed this way to, but it is optional"
   ]
  },
  {
   "cell_type": "markdown",
   "metadata": {
    "slideshow": {
     "slide_type": "slide"
    }
   },
   "source": [
    "## Accessing Variables Examples"
   ]
  },
  {
   "cell_type": "code",
   "execution_count": null,
   "metadata": {},
   "outputs": [],
   "source": [
    "echo $a_scalar"
   ]
  },
  {
   "cell_type": "code",
   "execution_count": null,
   "metadata": {},
   "outputs": [],
   "source": [
    "echo ${a_scalar}"
   ]
  },
  {
   "cell_type": "code",
   "execution_count": null,
   "metadata": {},
   "outputs": [],
   "source": [
    "echo $more_scalars"
   ]
  },
  {
   "cell_type": "code",
   "execution_count": null,
   "metadata": {},
   "outputs": [],
   "source": [
    "echo $even_more"
   ]
  },
  {
   "cell_type": "code",
   "execution_count": null,
   "metadata": {},
   "outputs": [],
   "source": [
    "echo ${an_array[1]}"
   ]
  },
  {
   "cell_type": "code",
   "execution_count": null,
   "metadata": {},
   "outputs": [],
   "source": [
    "#Don't Do This\n",
    "echo $an_array"
   ]
  },
  {
   "cell_type": "code",
   "execution_count": null,
   "metadata": {},
   "outputs": [],
   "source": [
    "echo ${an_array[1]}"
   ]
  },
  {
   "cell_type": "code",
   "execution_count": null,
   "metadata": {},
   "outputs": [],
   "source": [
    "echo ${an_array[*]}"
   ]
  },
  {
   "cell_type": "markdown",
   "metadata": {
    "slideshow": {
     "slide_type": "slide"
    }
   },
   "source": [
    "## Accessing Variables Exercise\n",
    "- Given the following variable declarations, how would you print:\n",
    "    - The letter d\n",
    "    - All the letters"
   ]
  },
  {
   "cell_type": "code",
   "execution_count": null,
   "metadata": {},
   "outputs": [],
   "source": [
    "letters=(a b c d e f g h i j)"
   ]
  },
  {
   "cell_type": "markdown",
   "metadata": {
    "slideshow": {
     "slide_type": "slide"
    }
   },
   "source": [
    "## String Interpolation\n",
    "* Variables will be interpolated into strings when double quotes are used\n",
    "    * If there are spaces, curly braces aren't needed, but its a good habit"
   ]
  },
  {
   "cell_type": "code",
   "execution_count": null,
   "metadata": {},
   "outputs": [],
   "source": [
    "echo 'This class is at ${a_scalar}'"
   ]
  },
  {
   "cell_type": "code",
   "execution_count": null,
   "metadata": {},
   "outputs": [],
   "source": [
    "echo \"This class is at $a_scalar\""
   ]
  },
  {
   "cell_type": "code",
   "execution_count": null,
   "metadata": {},
   "outputs": [],
   "source": [
    "echo \"The schools website is www.$a_scalar.edu\""
   ]
  },
  {
   "cell_type": "code",
   "execution_count": null,
   "metadata": {},
   "outputs": [],
   "source": [
    "echo \"The athletics website is www.$a_scalarretrievers.com\""
   ]
  },
  {
   "cell_type": "code",
   "execution_count": null,
   "metadata": {},
   "outputs": [],
   "source": [
    "echo \"The athletics website is www.${a_scalar}retrievers.com\""
   ]
  },
  {
   "cell_type": "markdown",
   "metadata": {
    "slideshow": {
     "slide_type": "slide"
    }
   },
   "source": [
    "## String Operations\n",
    "* Bash has numerous built in string operators allowing for\n",
    "    * Accessing the length (**\\${#string}**)\n",
    "    * Accessing a substring (**\\${#string:pos}**)\n",
    "    * Performing a search and replace on a substring (**\\${#string/pattern/substitution}**)\n",
    "    * Removing substrings"
   ]
  },
  {
   "cell_type": "markdown",
   "metadata": {
    "slideshow": {
     "slide_type": "slide"
    }
   },
   "source": [
    "## String Operation Examples"
   ]
  },
  {
   "cell_type": "code",
   "execution_count": null,
   "metadata": {},
   "outputs": [],
   "source": [
    "echo ${a_scalar} ${#a_scalar}"
   ]
  },
  {
   "cell_type": "code",
   "execution_count": null,
   "metadata": {},
   "outputs": [],
   "source": [
    "echo ${a_scalar} ${a_scalar:1}\n",
    "echo ${a_scalar} ${a_scalar:2:2}\n",
    "echo ${a_scalar} ${a_scalar::2}"
   ]
  },
  {
   "cell_type": "code",
   "execution_count": null,
   "metadata": {},
   "outputs": [],
   "source": [
    "echo ${a_scalar} ${a_scalar/U/u}\n",
    "echo ${a_scalar} ${a_scalar/V/u}\n",
    "echo ${another_scalar} ${another_scalar/e/x}\n",
    "echo ${another_scalar} ${another_scalar//e/x}\n",
    "echo ${another_scalar} ${another_scalar//[a-z]/x}"
   ]
  },
  {
   "cell_type": "code",
   "execution_count": 8,
   "metadata": {
    "slideshow": {
     "slide_type": "slide"
    }
   },
   "outputs": [
    {
     "name": "stdout",
     "output_type": "stream",
     "text": [
      "This needs quotes -> needs quotes\n",
      "This needs quotes ->\n",
      "This needs quotes -> This needs quot\n",
      "This needs quotes -> This n\n"
     ]
    }
   ],
   "source": [
    "#From the front of the string\n",
    "echo ${another_scalar} \"->\" ${another_scalar#T*s}\n",
    "#Longest possible match\n",
    "echo ${another_scalar} \"->\" ${another_scalar##T*s}\n",
    "\n",
    "#From the back of the string\n",
    "echo ${another_scalar} \"->\" ${another_scalar%e*s}\n",
    "#Longest possible match\n",
    "echo ${another_scalar} \"->\" ${another_scalar%%e*s}"
   ]
  },
  {
   "cell_type": "markdown",
   "metadata": {
    "slideshow": {
     "slide_type": "slide"
    }
   },
   "source": [
    "## String Operation Exercises\n",
    "- Given the following variable, change the output to be:\n",
    "    - Lecture01\n",
    "    - ipynb\n",
    "    - CMSC433/Lecture01.ipynb\n",
    "    - Lecture01.html"
   ]
  },
  {
   "cell_type": "code",
   "execution_count": null,
   "metadata": {},
   "outputs": [],
   "source": [
    "string_to_change=\"Lecture01.ipynb\""
   ]
  },
  {
   "cell_type": "markdown",
   "metadata": {
    "slideshow": {
     "slide_type": "slide"
    }
   },
   "source": [
    "## Default Values\n",
    "* Bash also allows default values to be used when the variable is **accessed**\n",
    "    * Can either use just for that statement\n",
    "    * Or set to be default for all future statements"
   ]
  },
  {
   "cell_type": "markdown",
   "metadata": {
    "slideshow": {
     "slide_type": "slide"
    }
   },
   "source": [
    "## Default Value Examples"
   ]
  },
  {
   "cell_type": "code",
   "execution_count": null,
   "metadata": {},
   "outputs": [],
   "source": [
    "an_empty_var= \n",
    "echo \"1.\" $an_empty_var\n",
    "echo \"2.\" ${an_empty_var:-Default}\n",
    "echo \"3.\" $an_empty_var\n",
    "echo \"4.\" ${an_empty_var:=Default}\n",
    "echo \"5.\" $an_empty_var"
   ]
  },
  {
   "cell_type": "markdown",
   "metadata": {
    "slideshow": {
     "slide_type": "slide"
    }
   },
   "source": [
    "## Environmental Variables\n",
    "* Environmental Variables are global variables in the widest sense\n",
    "    * Used by all processes in the system for a user\n",
    "    * Often set in initialization scripts or during boot\n",
    "* Shells may modify but more often than not simply access them\n",
    "* By convention, environmental variables are written in all uppercase letters"
   ]
  },
  {
   "cell_type": "markdown",
   "metadata": {
    "slideshow": {
     "slide_type": "slide"
    }
   },
   "source": [
    "## Environmental Variable Examples"
   ]
  },
  {
   "cell_type": "code",
   "execution_count": null,
   "metadata": {},
   "outputs": [],
   "source": [
    "echo \"Your home dir is: $HOME\"\n",
    "echo \"You are logged into: $HOSTNAME\"\n",
    "\n",
    "echo \"Your shell is: $SHELL\"\n",
    "echo \"Your path is: $PATH\"\n",
    "echo \"Your terminal is set to: $TERM\""
   ]
  },
  {
   "cell_type": "markdown",
   "metadata": {
    "slideshow": {
     "slide_type": "slide"
    }
   },
   "source": [
    "## Command Line Arguments\n",
    "* Command line arguments are placed in the special variables \\$1 through \\$9\n",
    "    + You can have more arguments, but they need to be accessed like \\${10}\n",
    "* The name of the script being executed in stored in \\$0\n",
    "* The number of arguments is stored in \\$#"
   ]
  },
  {
   "cell_type": "markdown",
   "metadata": {
    "slideshow": {
     "slide_type": "slide"
    }
   },
   "source": [
    "## Command Line Argument Examples"
   ]
  },
  {
   "cell_type": "code",
   "execution_count": 9,
   "metadata": {
    "slideshow": {
     "slide_type": "-"
    }
   },
   "outputs": [
    {
     "name": "stdout",
     "output_type": "stream",
     "text": [
      "#!/bin/bash\n",
      "echo \"The name of the file is $0\"\n",
      "echo \"You passed $# arguments\"\n",
      "\n",
      "echo \"The first argument is $1\"\n",
      "echo \"The second argument is $2\"\n",
      "\n",
      "echo \"All the arguments are $@\"\n"
     ]
    }
   ],
   "source": [
    "cat src/shell/cla_examples.sh"
   ]
  },
  {
   "cell_type": "code",
   "execution_count": 11,
   "metadata": {
    "slideshow": {
     "slide_type": "slide"
    }
   },
   "outputs": [
    {
     "name": "stdout",
     "output_type": "stream",
     "text": [
      "The name of the file is ./src/shell/cla_examples.sh\n",
      "You passed 4 arguments\n",
      "The first argument is --some-flag\n",
      "The second argument is a_path\n",
      "All the arguments are --some-flag a_path additional_options another_one\n"
     ]
    }
   ],
   "source": [
    "./src/shell/cla_examples.sh --some-flag a_path additional_options another_one"
   ]
  },
  {
   "cell_type": "markdown",
   "metadata": {
    "slideshow": {
     "slide_type": "slide"
    }
   },
   "source": [
    "## Special Variables\n",
    "* bash uses many other special variables to refer to convenient values to have\n",
    "    * \\$\\$ is the process id of the currently executing script\n",
    "    * \\$PPID is the process id of the process that the script was launched from\n",
    "    * \\$? is the status of the last command executed"
   ]
  },
  {
   "cell_type": "code",
   "execution_count": null,
   "metadata": {
    "slideshow": {
     "slide_type": "slide"
    }
   },
   "outputs": [],
   "source": [
    "echo \"Process ID (PID) is: $$\"\n",
    "echo \"Parent PID (PPID) is: $PPID\"\n",
    "whoami\n",
    "echo \"Status of last command: $?\"\n"
   ]
  },
  {
   "cell_type": "markdown",
   "metadata": {
    "slideshow": {
     "slide_type": "slide"
    }
   },
   "source": [
    "## Putting it all together\n",
    "- Write a simple bash script that takes in a file name as an argument, and does the following:\n",
    "    - Sorts that file, and outputs the results to the screen\n",
    "    - Paste that file to another file with the same name, but all o's replaced with e's, and outputs it to the screen"
   ]
  },
  {
   "cell_type": "code",
   "execution_count": 17,
   "metadata": {},
   "outputs": [
    {
     "name": "stdout",
     "output_type": "stream",
     "text": [
      "\n",
      "Gnochi\n",
      "Penne\n",
      "Ramen\n",
      "Rice\n",
      "Soba\n",
      "Ramen\tSharp\n",
      "Rice\tEmbroidery\n",
      "Penne\tBeading\n",
      "Gnochi\tDoll\n",
      "Soba\tTapestry\n",
      "\tLeather\n"
     ]
    }
   ],
   "source": [
    "./src/shell/demo1.sh data/noodles"
   ]
  }
 ],
 "metadata": {
  "celltoolbar": "Slideshow",
  "kernelspec": {
   "display_name": "Bash",
   "language": "bash",
   "name": "bash"
  },
  "language_info": {
   "codemirror_mode": "shell",
   "file_extension": ".sh",
   "mimetype": "text/x-sh",
   "name": "bash"
  }
 },
 "nbformat": 4,
 "nbformat_minor": 2
}

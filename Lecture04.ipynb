{
 "cells": [
  {
   "cell_type": "markdown",
   "metadata": {
    "slideshow": {
     "slide_type": "slide"
    }
   },
   "source": [
    "# Shell Scripting"
   ]
  },
  {
   "cell_type": "markdown",
   "metadata": {
    "slideshow": {
     "slide_type": "slide"
    }
   },
   "source": [
    "## The Shell\n",
    "* The shell is generally considered to be the interface between the user and the operating system\n",
    "    * Graphical User Interface\n",
    "    * Command Line Interface\n"
   ]
  },
  {
   "cell_type": "markdown",
   "metadata": {
    "slideshow": {
     "slide_type": "slide"
    }
   },
   "source": [
    "## A Little History\n",
    "* Shells in command line interfaces have been programmable in a limited form since at least the first UNIX shell\n",
    "* The UNIX shell was completely rewritten in the late 1970s by Steve Bourne\n",
    "    * A shell modeled after C was also written around this time\n",
    "* UNIX isn't open source, so an open source implementation of the UNIX shell was developed, known as the Bourne again shell, or **bash**"
   ]
  },
  {
   "cell_type": "markdown",
   "metadata": {
    "slideshow": {
     "slide_type": "slide"
    }
   },
   "source": [
    "## Shells Today\n",
    "* **bash** is the default shell on most Linux operating systems as well as macOS\n",
    "    * Ubuntu and Debian use a shell known as **dash** for some startup scripts\n",
    "    * Korn Shell (**ksh**) and Z Shell (**zsh**) are other common Bourne-like shells\n",
    "* The C shell (**csh**) is another common shell\n",
    "    * The default shell on GL at UMBC is **tcsh** or Turbo C Shell\n",
    "* PowerShell is available on many Windows based computers"
   ]
  },
  {
   "cell_type": "markdown",
   "metadata": {
    "slideshow": {
     "slide_type": "slide"
    }
   },
   "source": [
    "## Non-Scripting Features of Shells\n",
    "* Tab Completion\n",
    "* History \n",
    "    * Global (most shells)\n",
    "    * Context-based (**fish**)\n",
    "* Prompt Customization"
   ]
  },
  {
   "cell_type": "markdown",
   "metadata": {
    "slideshow": {
     "slide_type": "slide"
    }
   },
   "source": [
    "## Selecting a Shell\n",
    "- All operating system come with a default shell\n",
    "- In standard Linux installations the `chsh` command can be used to select any installed shell\n",
    "```bash\n",
    "chsh -s SHELL_PATH USER_NAME\n",
    "```\n",
    "- To change your shell in GL, you must go to https://webadmin.umbc.edu/admin and click on \"Edit my Shell and Unix Settings\""
   ]
  },
  {
   "cell_type": "markdown",
   "metadata": {
    "slideshow": {
     "slide_type": "slide"
    }
   },
   "source": [
    "## Bash\n",
    "* For this class we will be using **bash**\n",
    "* Even if a system does not use bash as the default shell, almost all systems have it\n",
    "    * This makes scripts written in **bash** very portable\n",
    "* **bash** has been managed since it's creation by the GNU Project\n",
    "    * Code is open source, and can be contributed to at https://git.savannah.gnu.org/cgit/bash.git\n",
    "    "
   ]
  },
  {
   "cell_type": "markdown",
   "metadata": {
    "slideshow": {
     "slide_type": "slide"
    }
   },
   "source": [
    "## Unix Utilities\n",
    "* Bash scripts commonly rely on many simple programs to accomplish various tasks\n",
    "* These programs are sometimes called Unix Utilities\n",
    "    * Usually do only one thing\n",
    "    * Most operate on STDIN and STDOUT by default\n",
    "* macOS has many of these, but some are only available in the GNU Core Utils library"
   ]
  },
  {
   "cell_type": "markdown",
   "metadata": {
    "slideshow": {
     "slide_type": "slide"
    }
   },
   "source": [
    "## Getting Help In the Shell\n",
    "- Most Unix utilities, and many other programs, install a manual along with program\n",
    "- To access, use the `man` command followed by the command name\n",
    "    - Sometimes help is access using the `info` command instead....\n",
    "- `bash` also has it's own help utility, `help` which provides help on bash specific commands"
   ]
  },
  {
   "cell_type": "code",
   "execution_count": 1,
   "metadata": {
    "slideshow": {
     "slide_type": "slide"
    }
   },
   "outputs": [
    {
     "name": "stdout",
     "output_type": "stream",
     "text": [
      "CP(1)                            User Commands                           CP(1)\n",
      "\n",
      "NAME\n",
      "       cp - copy files and directories\n",
      "\n",
      "SYNOPSIS\n",
      "       cp [OPTION]... [-T] SOURCE DEST\n",
      "       cp [OPTION]... SOURCE... DIRECTORY\n",
      "       cp [OPTION]... -t DIRECTORY SOURCE...\n",
      "\n",
      "DESCRIPTION\n",
      "       Copy SOURCE to DEST, or multiple SOURCE(s) to DIRECTORY.\n",
      "\n",
      "       Mandatory  arguments  to  long  options are mandatory for short options\n",
      "       too.\n",
      "\n",
      "       -a, --archive\n",
      "              same as -dR --preserve=all\n",
      "\n",
      "       --attributes-only\n",
      "              don't copy the file data, just the attributes\n",
      "\n",
      "       --backup[=CONTROL]\n",
      "              make a backup of each existing destination file\n",
      "\n",
      "       -b     like --backup but does not accept an argument\n",
      "\n",
      "       --copy-contents\n",
      "              copy contents of special files when recursive\n",
      "\n",
      "       -d     same as --no-dereference --preserve=links\n",
      "\n",
      "       -f, --force\n",
      "              if an existing destination file cannot be opened, remove it  and\n",
      "              try  again  (this  option  is ignored when the -n option is also\n",
      "              used)\n",
      "\n",
      "       -i, --interactive\n",
      "              prompt before overwrite (overrides a previous -n option)\n",
      "\n",
      "       -H     follow command-line symbolic links in SOURCE\n",
      "\n",
      "       -l, --link\n",
      "              hard link files instead of copying\n",
      "\n",
      "       -L, --dereference\n",
      "              always follow symbolic links in SOURCE\n",
      "\n",
      "       -n, --no-clobber\n",
      "              do not overwrite an  existing  file  (overrides  a  previous  -i\n",
      "              option)\n",
      "\n",
      "       -P, --no-dereference\n",
      "              never follow symbolic links in SOURCE\n",
      "\n",
      "       -p     same as --preserve=mode,ownership,timestamps\n",
      "\n",
      "       --preserve[=ATTR_LIST]\n",
      "              preserve the specified attributes (default: mode,ownership,time‐\n",
      "              stamps), if  possible  additional  attributes:  context,  links,\n",
      "              xattr, all\n",
      "\n",
      "       --no-preserve=ATTR_LIST\n",
      "              don't preserve the specified attributes\n",
      "\n",
      "       --parents\n",
      "              use full source file name under DIRECTORY\n",
      "\n",
      "       -R, -r, --recursive\n",
      "              copy directories recursively\n",
      "\n",
      "       --reflink[=WHEN]\n",
      "              control clone/CoW copies. See below\n",
      "\n",
      "       --remove-destination\n",
      "              remove  each existing destination file before attempting to open\n",
      "              it (contrast with --force)\n",
      "\n",
      "       --sparse=WHEN\n",
      "              control creation of sparse files. See below\n",
      "\n",
      "       --strip-trailing-slashes\n",
      "              remove any trailing slashes from each SOURCE argument\n",
      "\n",
      "       -s, --symbolic-link\n",
      "              make symbolic links instead of copying\n",
      "\n",
      "       -S, --suffix=SUFFIX\n",
      "              override the usual backup suffix\n",
      "\n",
      "       -t, --target-directory=DIRECTORY\n",
      "              copy all SOURCE arguments into DIRECTORY\n",
      "\n",
      "       -T, --no-target-directory\n",
      "              treat DEST as a normal file\n",
      "\n",
      "       -u, --update\n",
      "              copy only when the SOURCE file is  newer  than  the  destination\n",
      "              file or when the destination file is missing\n",
      "\n",
      "       -v, --verbose\n",
      "              explain what is being done\n",
      "\n",
      "       -x, --one-file-system\n",
      "              stay on this file system\n",
      "\n",
      "       -Z     set SELinux security context of destination file to default type\n",
      "\n",
      "       --context[=CTX]\n",
      "              like  -Z,  or  if CTX is specified then set the SELinux or SMACK\n",
      "              security context to CTX\n",
      "\n",
      "       --help display this help and exit\n",
      "\n",
      "       --version\n",
      "              output version information and exit\n",
      "\n",
      "       By default, sparse SOURCE files are detected by a crude  heuristic  and\n",
      "       the corresponding DEST file is made sparse as well.  That is the behav‐\n",
      "       ior selected by --sparse=auto.  Specify  --sparse=always  to  create  a\n",
      "       sparse  DEST  file  whenever  the  SOURCE  file  contains a long enough\n",
      "       sequence of zero bytes.  Use  --sparse=never  to  inhibit  creation  of\n",
      "       sparse files.\n",
      "\n",
      "       When --reflink[=always] is specified, perform a lightweight copy, where\n",
      "       the data blocks are copied only when modified.  If this is not possible\n",
      "       the copy fails, or if --reflink=auto is specified, fall back to a stan‐\n",
      "       dard copy.\n",
      "\n",
      "       The  backup  suffix  is  '~',  unless  set  with   --suffix   or   SIM‐\n",
      "       PLE_BACKUP_SUFFIX.   The version control method may be selected via the\n",
      "       --backup option or through the  VERSION_CONTROL  environment  variable.\n",
      "       Here are the values:\n",
      "\n",
      "       none, off\n",
      "              never make backups (even if --backup is given)\n",
      "\n",
      "       numbered, t\n",
      "              make numbered backups\n",
      "\n",
      "       existing, nil\n",
      "              numbered if numbered backups exist, simple otherwise\n",
      "\n",
      "       simple, never\n",
      "              always make simple backups\n",
      "\n",
      "       As  a  special  case,  cp  makes  a backup of SOURCE when the force and\n",
      "       backup options are given and SOURCE and DEST are the same name  for  an\n",
      "       existing, regular file.\n",
      "\n",
      "AUTHOR\n",
      "       Written by Torbjorn Granlund, David MacKenzie, and Jim Meyering.\n",
      "\n",
      "REPORTING BUGS\n",
      "       GNU coreutils online help: <http://www.gnu.org/software/coreutils/>\n",
      "       Report cp translation bugs to <http://translationproject.org/team/>\n",
      "\n",
      "COPYRIGHT\n",
      "       Copyright  ©  2016  Free Software Foundation, Inc.  License GPLv3+: GNU\n",
      "       GPL version 3 or later <http://gnu.org/licenses/gpl.html>.\n",
      "       This is free software: you are free  to  change  and  redistribute  it.\n",
      "       There is NO WARRANTY, to the extent permitted by law.\n",
      "\n",
      "SEE ALSO\n",
      "       Full documentation at: <http://www.gnu.org/software/coreutils/cp>\n",
      "       or available locally via: info '(coreutils) cp invocation'\n",
      "\n",
      "GNU coreutils 8.26               October 2017                            CP(1)\n"
     ]
    }
   ],
   "source": [
    "man cp"
   ]
  },
  {
   "cell_type": "code",
   "execution_count": 2,
   "metadata": {
    "slideshow": {
     "slide_type": "slide"
    }
   },
   "outputs": [
    {
     "name": "stdout",
     "output_type": "stream",
     "text": [
      "cd: cd [-L|[-P [-e]] [-@]] [dir]\n",
      "    Change the shell working directory.\n",
      "    \n",
      "    Change the current directory to DIR.  The default DIR is the value of the\n",
      "    HOME shell variable.\n",
      "    \n",
      "    The variable CDPATH defines the search path for the directory containing\n",
      "    DIR.  Alternative directory names in CDPATH are separated by a colon (:).\n",
      "    A null directory name is the same as the current directory.  If DIR begins\n",
      "    with a slash (/), then CDPATH is not used.\n",
      "    \n",
      "    If the directory is not found, and the shell option `cdable_vars' is set,\n",
      "    the word is assumed to be  a variable name.  If that variable has a value,\n",
      "    its value is used for DIR.\n",
      "    \n",
      "    Options:\n",
      "      -L\tforce symbolic links to be followed: resolve symbolic\n",
      "    \t\tlinks in DIR after processing instances of `..'\n",
      "      -P\tuse the physical directory structure without following\n",
      "    \t\tsymbolic links: resolve symbolic links in DIR before\n",
      "    \t\tprocessing instances of `..'\n",
      "      -e\tif the -P option is supplied, and the current working\n",
      "    \t\tdirectory cannot be determined successfully, exit with\n",
      "    \t\ta non-zero status\n",
      "      -@\ton systems that support it, present a file with extended\n",
      "    \t\tattributes as a directory containing the file attributes\n",
      "    \n",
      "    The default is to follow symbolic links, as if `-L' were specified.\n",
      "    `..' is processed by removing the immediately previous pathname component\n",
      "    back to a slash or the beginning of DIR.\n",
      "    \n",
      "    Exit Status:\n",
      "    Returns 0 if the directory is changed, and if $PWD is set successfully when\n",
      "    -P is used; non-zero otherwise.\n"
     ]
    }
   ],
   "source": [
    "help cd"
   ]
  },
  {
   "cell_type": "markdown",
   "metadata": {
    "slideshow": {
     "slide_type": "slide"
    }
   },
   "source": [
    "## Utilities You Already Use\n",
    "* ls\n",
    "* rm\n",
    "* mv\n",
    "* cp\n",
    "* mkdir\n",
    "* pwd"
   ]
  },
  {
   "cell_type": "markdown",
   "metadata": {
    "slideshow": {
     "slide_type": "slide"
    }
   },
   "source": [
    "## echo\n",
    "* Echo is the most commonly used command to print something to the screen\n",
    "* By default, newlines and other escapes are not \"translated\" into the proper character\n",
    "    * Use the `-e` flag to accomplish this\n",
    "    * To suppress the newline at the end of echo use the `-n` flag\n",
    "* Echo can take multiple arguments, and will separate them by a space by default\n",
    "    * To prevent separation by a space, use the `-s` flag"
   ]
  },
  {
   "cell_type": "code",
   "execution_count": 8,
   "metadata": {
    "slideshow": {
     "slide_type": "slide"
    }
   },
   "outputs": [
    {
     "name": "stdout",
     "output_type": "stream",
     "text": [
      "This will print as expected\n",
      "This will too\n",
      "This\\ndoesn't\\nhave\\nnewlines\n",
      "This\n",
      "does\n",
      "have\n",
      "newlines\n"
     ]
    }
   ],
   "source": [
    "echo \"This will print as expected\"\n",
    "echo This will too\n",
    "echo \"This\\ndoesn't\\nhave\\nnewlines\"\n",
    "echo -e \"This\\ndoes\\nhave\\nnewlines\""
   ]
  },
  {
   "cell_type": "markdown",
   "metadata": {
    "slideshow": {
     "slide_type": "slide"
    }
   },
   "source": [
    "## cat\n",
    "* cat is used to con**cat**enate files together\n",
    "* It is also used by lazy programmers (me included) to display the contents of a file to a screen, but usually there are better utilities for that\n",
    "    * less\n",
    "    * more\n"
   ]
  },
  {
   "cell_type": "code",
   "execution_count": 4,
   "metadata": {
    "slideshow": {
     "slide_type": "slide"
    }
   },
   "outputs": [
    {
     "name": "stdout",
     "output_type": "stream",
     "text": [
      "$string = \"This is a string\";\n",
      "for (my $i=0; $i <= 10000000; $i++) {\n",
      "\tif($string =~ /^not/){\n",
      "\t\t$found = 1;\n",
      "\t}\n",
      "}\n",
      "print $found;\n"
     ]
    }
   ],
   "source": [
    "cat src/perl/anchored.pl"
   ]
  },
  {
   "cell_type": "code",
   "execution_count": 5,
   "metadata": {},
   "outputs": [
    {
     "name": "stdout",
     "output_type": "stream",
     "text": [
      "     1\t$string = \"This is a string\";\n",
      "     2\tfor (my $i=0; $i <= 10000000; $i++) {\n",
      "     3\t\tif($string =~ /^not/){\n",
      "     4\t\t\t$found = 1;\n",
      "     5\t\t}\n",
      "     6\t}\n",
      "     7\tprint $found;\n"
     ]
    }
   ],
   "source": [
    "cat -n src/perl/anchored.pl"
   ]
  },
  {
   "cell_type": "code",
   "execution_count": 10,
   "metadata": {
    "scrolled": true,
    "slideshow": {
     "slide_type": "slide"
    }
   },
   "outputs": [
    {
     "name": "stdout",
     "output_type": "stream",
     "text": [
      "$string = \"This is a string\";\n",
      "for (my $i=0; $i <= 10000000; $i++) {\n",
      "\tif($string =~ /^not/){\n",
      "\t\t$found = 1;\n",
      "\t}\n",
      "}\n",
      "print $found;\n",
      "$string = \"This is a string\";\n",
      "for (my $i=0; $i <= 10000000; $i++) {\n",
      "\tif($string =~ /not/){\n",
      "\t\t$found = 1;\n",
      "\t}\n",
      "}\n",
      "print $found;\n"
     ]
    }
   ],
   "source": [
    "cat src/perl/anchored.pl src/perl/unanchored.pl\n"
   ]
  },
  {
   "cell_type": "markdown",
   "metadata": {
    "slideshow": {
     "slide_type": "slide"
    }
   },
   "source": [
    "## sort\n",
    "* sort sorts the lines of a file! \n",
    "* By default this is done lexicographically \n",
    "    * By using flags you can sort by numbers, months, etc.\n",
    "* The `-r` flag will sort in revers order\n",
    "* By using the `-u` flag, each unique line will be printed only once"
   ]
  },
  {
   "cell_type": "code",
   "execution_count": 11,
   "metadata": {
    "slideshow": {
     "slide_type": "slide"
    }
   },
   "outputs": [
    {
     "name": "stdout",
     "output_type": "stream",
     "text": [
      "10 Neon\n",
      "1 Hydrogen\n",
      "2 Helium\n",
      "3 Lithium\n",
      "4 Beryllium\n",
      "5 Boron\n",
      "6 Carbon\n",
      "7 Nitrogen\n",
      "8 Oxygen\n",
      "9 Flourine\n"
     ]
    }
   ],
   "source": [
    "sort data/elements.txt"
   ]
  },
  {
   "cell_type": "code",
   "execution_count": 21,
   "metadata": {
    "slideshow": {
     "slide_type": "slide"
    }
   },
   "outputs": [
    {
     "name": "stdout",
     "output_type": "stream",
     "text": [
      "1 Hydrogen\n",
      "2 Helium\n",
      "3 Lithium\n",
      "4 Beryllium\n",
      "5 Boron\n",
      "6 Carbon\n",
      "7 Nitrogen\n",
      "8 Oxygen\n",
      "9 Flourine\n",
      "10 Neon\n"
     ]
    }
   ],
   "source": [
    "sort -n data/elements.txt"
   ]
  },
  {
   "cell_type": "code",
   "execution_count": 17,
   "metadata": {
    "slideshow": {
     "slide_type": "slide"
    }
   },
   "outputs": [
    {
     "name": "stdout",
     "output_type": "stream",
     "text": [
      "4 Beryllium\n",
      "5 Boron\n",
      "6 Carbon\n",
      "9 Flourine\n",
      "2 Helium\n",
      "1 Hydrogen\n",
      "3 Lithium\n",
      "10 Neon\n",
      "7 Nitrogen\n",
      "8 Oxygen\n"
     ]
    }
   ],
   "source": [
    "sort --key=2 data/elements.txt"
   ]
  },
  {
   "cell_type": "code",
   "execution_count": 18,
   "metadata": {
    "slideshow": {
     "slide_type": "slide"
    }
   },
   "outputs": [
    {
     "name": "stdout",
     "output_type": "stream",
     "text": [
      "1.2G\tDownloads\n",
      "1.2G\tPictures\n",
      "2.1M\tbwilk7.github.io\n",
      "6.4G\tPrograms\n",
      "22G\tAndroid\n",
      "132G\tResearch\n",
      "184K\tVirtualBox VMs\n",
      "389M\tTeaching\n"
     ]
    }
   ],
   "source": [
    "sort -n data/dir_sizes.txt"
   ]
  },
  {
   "cell_type": "code",
   "execution_count": 19,
   "metadata": {},
   "outputs": [
    {
     "name": "stdout",
     "output_type": "stream",
     "text": [
      "184K\tVirtualBox VMs\n",
      "2.1M\tbwilk7.github.io\n",
      "389M\tTeaching\n",
      "1.2G\tDownloads\n",
      "1.2G\tPictures\n",
      "6.4G\tPrograms\n",
      "22G\tAndroid\n",
      "132G\tResearch\n"
     ]
    }
   ],
   "source": [
    "sort -h data/dir_sizes.txt"
   ]
  },
  {
   "cell_type": "markdown",
   "metadata": {
    "slideshow": {
     "slide_type": "slide"
    }
   },
   "source": [
    "## uniq\n",
    "* `uniq` in its default form accomplishes the same as `sort -u`\n",
    "* Input to `uniq` is assumed to be sorted already\n",
    "* `uniq` is useful to:\n",
    "    * Count the number of times each unique line occurs\n",
    "    * Ignore case when comparing lines\n",
    "    * Only compare the first N characters of a line"
   ]
  },
  {
   "cell_type": "code",
   "execution_count": 22,
   "metadata": {
    "slideshow": {
     "slide_type": "slide"
    }
   },
   "outputs": [
    {
     "name": "stdout",
     "output_type": "stream",
     "text": [
      "      2 anchored.pl\n",
      "      2 apt.txt\n",
      "      2 bad_alt.pl\n",
      "      5 binder/apt.txt\n",
      "      1 binder/perlEdit\n",
      "      2 binder/perl_env\n",
      "     60 binder/postBuild\n",
      "      1 binder/r_env\n",
      "      3 binder/set_envs.py\n",
      "      2 capture.pl\n",
      "      2 cla_examples.sh\n",
      "      1 data/airports.tsv\n",
      "      2 definitions.sh\n",
      "      2 fast.pl\n",
      "      2 FinalReview.ipynb\n",
      "      2 gcc_errors.txt\n",
      "      1 Git.ipynb\n",
      "      2 good_alt.pl\n",
      "      2 greedy.pl\n",
      "      2 hello.sh\n",
      "      2 hello_simple.sh\n",
      "      2 hello.txt\n",
      "      1 Lecture00.html\n",
      "      4 Lecture00.ipynb\n",
      "      6 Lecture01.ipynb\n",
      "      5 Lecture02.ipynb\n",
      "      5 Lecture03.ipynb\n",
      "      3 Lecture04.ipynb\n",
      "      3 Lecture05.ipynb\n",
      "      3 Lecture06.ipynb\n",
      "      4 Lecture07.ipynb\n",
      "      3 Lecture08.ipynb\n",
      "      4 Lecture09.ipynb\n",
      "      4 Lecture10.ipynb\n",
      "      3 Lecture11.ipynb\n",
      "      2 Lecture12.html\n",
      "      3 Lecture12.ipynb\n",
      "      2 Lecture13.html\n",
      "      3 Lecture13.ipynb\n",
      "      2 Lecture14.html\n",
      "      2 Lecture14.ipynb\n",
      "      3 Lecture15.html\n",
      "      2 Lecture15.ipynb\n",
      "      3 Lecture16.ipynb\n",
      "      3 Lecture17.ipynb\n",
      "      2 Lecture18.html\n",
      "      2 Lecture18.ipynb\n",
      "      3 Lecture19.ipynb\n",
      "      2 Lecture20.ipynb\n",
      "      3 Lecture21.ipynb\n",
      "      3 Lecture22.ipynb\n",
      "      2 Lecture23.ipynb\n",
      "      3 Lecture24.ipynb\n",
      "      3 Lecture25.ipynb\n",
      "      2 Lecture26.ipynb\n",
      "      2 Lecture27.ipynb\n",
      "      2 noncapture.pl\n",
      "      2 nongreedy.pl\n",
      "      2 numbers.txt\n",
      "      3 postBuild\n",
      "      2 read_example.sh\n",
      "      2 read_p_example.sh\n",
      "      2 read_ps_example.sh\n",
      "      2 read_t_example.sh\n",
      "      2 re_example.pl\n",
      "      2 rolling_stone_500_greatest_2010.txt\n",
      "      2 slow.pl\n",
      "      1 src/perl/anchored.pl\n",
      "      1 src/perl/bad_alt.pl\n",
      "      1 src/perl/capture.pl\n",
      "      1 src/perl/fast.pl\n",
      "      1 src/perl/good_alt.pl\n",
      "      1 src/perl/greedy.pl\n",
      "      1 src/perl/noncapture.pl\n",
      "      1 src/perl/nongreedy.pl\n",
      "      1 src/perl/re_example.pl\n",
      "      1 src/perl/slow.pl\n",
      "      1 src/perl/unanchored.pl\n",
      "      1 src/php/composer.json\n",
      "      1 src/php/composer.lock\n",
      "      1 src/php/header.php\n",
      "      1 src/python/out_and_err.py\n",
      "      1 src/python/simple.py\n",
      "      1 src/shell/cla_debug.sh\n",
      "      1 src/shell/cla_examples.sh\n",
      "      1 src/shell/definitions.sh\n",
      "      1 src/shell/hello.sh\n",
      "      1 src/shell/hello_simple.sh\n",
      "      1 src/shell/read_debug.sh\n",
      "      1 src/shell/read_example.sh\n",
      "      1 src/shell/read_p_example.sh\n",
      "      1 src/shell/read_ps_example.sh\n",
      "      1 src/shell/read_t_example.sh\n",
      "      1 src/shell/syntax_error_example.sh\n",
      "      1 src/shell/syntax_example.sh\n",
      "      2 to_sort1.txt\n",
      "      2 to_sort2.txt\n",
      "      2 to_sort3.txt\n",
      "      2 to_sort4.txt\n",
      "      2 unanchored.pl\n",
      "      2 Untitled1.ipynb\n",
      "      2 Untitled2.ipynb\n",
      "      2 Untitled.ipynb\n"
     ]
    }
   ],
   "source": [
    "sort data/git_files.txt | uniq -c"
   ]
  },
  {
   "cell_type": "code",
   "execution_count": 23,
   "metadata": {
    "slideshow": {
     "slide_type": "slide"
    }
   },
   "outputs": [
    {
     "name": "stdout",
     "output_type": "stream",
     "text": [
      "      2 anchored.pl\n",
      "      2 apt.txt\n",
      "      2 bad_alt.pl\n",
      "     72 binder/apt.txt\n",
      "      2 capture.pl\n",
      "      2 cla_examples.sh\n",
      "      1 data/airports.tsv\n",
      "      2 definitions.sh\n",
      "      2 fast.pl\n",
      "      2 FinalReview.ipynb\n",
      "      2 gcc_errors.txt\n",
      "      1 Git.ipynb\n",
      "      2 good_alt.pl\n",
      "      2 greedy.pl\n",
      "      6 hello.sh\n",
      "    100 Lecture00.html\n",
      "      4 noncapture.pl\n",
      "      2 numbers.txt\n",
      "      3 postBuild\n",
      "      8 read_example.sh\n",
      "      2 re_example.pl\n",
      "      2 rolling_stone_500_greatest_2010.txt\n",
      "      2 slow.pl\n",
      "     28 src/perl/anchored.pl\n",
      "      8 to_sort1.txt\n",
      "      2 unanchored.pl\n",
      "      6 Untitled1.ipynb\n"
     ]
    }
   ],
   "source": [
    "sort data/git_files.txt | uniq -c -w3"
   ]
  },
  {
   "cell_type": "markdown",
   "metadata": {
    "slideshow": {
     "slide_type": "slide"
    }
   },
   "source": [
    "## shuf\n",
    "* `shuf` randomly permutes the lines of a file\n",
    "* This is extremely useful in preparing datasets"
   ]
  },
  {
   "cell_type": "code",
   "execution_count": 26,
   "metadata": {
    "slideshow": {
     "slide_type": "slide"
    }
   },
   "outputs": [
    {
     "name": "stdout",
     "output_type": "stream",
     "text": [
      "10 Neon\n",
      "2 Helium\n",
      "4 Beryllium\n",
      "5 Boron\n",
      "8 Oxygen\n",
      "1 Hydrogen\n",
      "3 Lithium\n",
      "7 Nitrogen\n",
      "6 Carbon\n",
      "9 Flourine\n"
     ]
    }
   ],
   "source": [
    "shuf data/elements.txt"
   ]
  },
  {
   "cell_type": "markdown",
   "metadata": {
    "slideshow": {
     "slide_type": "slide"
    }
   },
   "source": [
    "## head & tail\n",
    "* The `head` and `tail` commands display the first 10 or last 10 lines of a file by default\n",
    "    * You can change the number of lines displayed using the `-n` option\n",
    "    * The value passed to `-n` when using `head` can be negative. This means return everything but the last n lines"
   ]
  },
  {
   "cell_type": "code",
   "execution_count": 27,
   "metadata": {
    "collapsed": true,
    "slideshow": {
     "slide_type": "slide"
    }
   },
   "outputs": [
    {
     "name": "stdout",
     "output_type": "stream",
     "text": [
      "Git.ipynb\n",
      "Lecture03.ipynb\n",
      "Lecture03.ipynb\n",
      "src/perl/anchored.pl\n",
      "src/perl/bad_alt.pl\n",
      "src/perl/capture.pl\n",
      "src/perl/fast.pl\n",
      "src/perl/good_alt.pl\n",
      "src/perl/greedy.pl\n",
      "src/perl/noncapture.pl\n",
      "src/perl/nongreedy.pl\n",
      "src/perl/re_example.pl\n",
      "src/perl/slow.pl\n",
      "src/perl/unanchored.pl\n",
      "src/php/composer.json\n",
      "src/php/composer.lock\n",
      "src/php/header.php\n",
      "src/python/out_and_err.py\n",
      "src/python/simple.py\n",
      "src/shell/cla_debug.sh\n",
      "src/shell/cla_examples.sh\n",
      "src/shell/definitions.sh\n",
      "src/shell/hello.sh\n",
      "src/shell/hello_simple.sh\n",
      "src/shell/read_debug.sh\n",
      "src/shell/read_example.sh\n",
      "src/shell/read_p_example.sh\n",
      "src/shell/read_ps_example.sh\n",
      "src/shell/read_t_example.sh\n",
      "src/shell/syntax_error_example.sh\n",
      "src/shell/syntax_example.sh\n",
      "data/airports.tsv\n",
      "Lecture02.ipynb\n",
      "Lecture01.ipynb\n",
      "binder/postBuild\n",
      "binder/perl_env\n",
      "binder/set_envs.py\n",
      "binder/postBuild\n",
      "Lecture00.ipynb\n",
      "Lecture01.ipynb\n",
      "Lecture02.ipynb\n",
      "binder/perl_env\n",
      "binder/postBuild\n",
      "Lecture00.html\n",
      "binder/set_envs.py\n",
      "binder/postBuild\n",
      "binder/postBuild\n",
      "binder/postBuild\n",
      "binder/postBuild\n",
      "binder/r_env\n",
      "binder/set_envs.py\n",
      "binder/postBuild\n",
      "binder/postBuild\n",
      "binder/postBuild\n",
      "binder/postBuild\n",
      "binder/postBuild\n",
      "Lecture00.ipynb\n",
      "binder/apt.txt\n",
      "binder/postBuild\n",
      "FinalReview.ipynb\n",
      "Lecture01.ipynb\n",
      "Lecture02.ipynb\n",
      "Lecture03.ipynb\n",
      "Lecture04.ipynb\n",
      "Lecture05.ipynb\n",
      "Lecture06.ipynb\n",
      "Lecture07.ipynb\n",
      "Lecture08.ipynb\n",
      "Lecture09.ipynb\n",
      "Lecture10.ipynb\n",
      "Lecture11.ipynb\n",
      "Lecture12.html\n",
      "Lecture12.ipynb\n",
      "Lecture13.html\n",
      "Lecture13.ipynb\n",
      "Lecture14.html\n",
      "Lecture14.ipynb\n",
      "Lecture15.html\n",
      "Lecture15.ipynb\n",
      "Lecture16.ipynb\n",
      "Lecture17.ipynb\n",
      "Lecture18.html\n",
      "Lecture18.ipynb\n",
      "Lecture19.ipynb\n",
      "Lecture20.ipynb\n",
      "Lecture21.ipynb\n",
      "Lecture22.ipynb\n",
      "Lecture23.ipynb\n",
      "Lecture24.ipynb\n",
      "Lecture25.ipynb\n",
      "Lecture26.ipynb\n",
      "Lecture27.ipynb\n",
      "Untitled.ipynb\n",
      "Untitled1.ipynb\n",
      "Untitled2.ipynb\n",
      "anchored.pl\n",
      "apt.txt\n",
      "bad_alt.pl\n",
      "capture.pl\n",
      "cla_examples.sh\n",
      "definitions.sh\n",
      "fast.pl\n",
      "gcc_errors.txt\n",
      "good_alt.pl\n",
      "greedy.pl\n",
      "hello.sh\n",
      "hello.txt\n",
      "hello_simple.sh\n",
      "noncapture.pl\n",
      "nongreedy.pl\n",
      "numbers.txt\n",
      "re_example.pl\n",
      "read_example.sh\n",
      "read_p_example.sh\n",
      "read_ps_example.sh\n",
      "read_t_example.sh\n",
      "rolling_stone_500_greatest_2010.txt\n",
      "slow.pl\n",
      "to_sort1.txt\n",
      "to_sort2.txt\n",
      "to_sort3.txt\n",
      "to_sort4.txt\n",
      "unanchored.pl\n",
      "Lecture00.ipynb\n",
      "FinalReview.ipynb\n",
      "Lecture10.ipynb\n",
      "Lecture13.ipynb\n",
      "Lecture14.ipynb\n",
      "Lecture19.ipynb\n",
      "Lecture22.ipynb\n",
      "Lecture25.ipynb\n",
      "Lecture26.ipynb\n",
      "Lecture27.ipynb\n",
      "Untitled.ipynb\n",
      "Untitled1.ipynb\n",
      "Untitled2.ipynb\n",
      "Lecture01.ipynb\n",
      "binder/perlEdit\n",
      "binder/postBuild\n",
      "binder/postBuild\n",
      "binder/postBuild\n",
      "binder/postBuild\n",
      "binder/postBuild\n",
      "binder/postBuild\n",
      "binder/postBuild\n",
      "binder/postBuild\n",
      "binder/postBuild\n",
      "binder/postBuild\n",
      "binder/postBuild\n",
      "binder/postBuild\n",
      "binder/postBuild\n",
      "binder/postBuild\n",
      "binder/postBuild\n",
      "binder/postBuild\n",
      "binder/postBuild\n",
      "binder/postBuild\n",
      "binder/postBuild\n",
      "binder/postBuild\n",
      "binder/apt.txt\n",
      "binder/apt.txt\n",
      "binder/postBuild\n",
      "binder/postBuild\n",
      "binder/postBuild\n",
      "binder/apt.txt\n",
      "binder/postBuild\n",
      "binder/postBuild\n",
      "postBuild\n",
      "binder/postBuild\n",
      "binder/postBuild\n",
      "binder/postBuild\n",
      "binder/postBuild\n",
      "binder/postBuild\n",
      "binder/postBuild\n",
      "binder/postBuild\n",
      "binder/postBuild\n",
      "binder/postBuild\n",
      "binder/postBuild\n",
      "binder/postBuild\n",
      "binder/postBuild\n",
      "binder/postBuild\n",
      "binder/postBuild\n",
      "binder/postBuild\n",
      "binder/postBuild\n",
      "binder/postBuild\n",
      "binder/postBuild\n",
      "binder/postBuild\n",
      "binder/postBuild\n",
      "binder/postBuild\n",
      "binder/apt.txt\n",
      "binder/postBuild\n",
      "postBuild\n",
      "postBuild\n",
      "apt.txt\n",
      "Lecture24.ipynb\n",
      "Lecture25.ipynb\n",
      "Lecture23.ipynb\n",
      "Lecture24.ipynb\n",
      "Lecture21.ipynb\n",
      "Lecture22.ipynb\n",
      "Lecture20.ipynb\n",
      "Lecture21.ipynb\n",
      "Lecture18.html\n",
      "Lecture19.ipynb\n",
      "Lecture17.ipynb\n",
      "Lecture18.ipynb\n",
      "Lecture16.ipynb\n",
      "Lecture17.ipynb\n",
      "Lecture15.ipynb\n",
      "Lecture16.ipynb\n",
      "Lecture15.html\n",
      "Lecture12.html\n",
      "Lecture13.html\n",
      "Lecture14.html\n",
      "Lecture15.html\n",
      "Lecture12.ipynb\n",
      "Lecture13.ipynb\n",
      "Lecture11.ipynb\n",
      "Lecture12.ipynb\n",
      "Lecture10.ipynb\n",
      "Lecture11.ipynb\n",
      "Lecture09.ipynb\n",
      "Lecture10.ipynb\n",
      "Lecture09.ipynb\n",
      "Lecture08.ipynb\n",
      "Lecture09.ipynb\n",
      "Lecture07.ipynb\n",
      "Lecture08.ipynb\n",
      "Lecture07.ipynb\n",
      "Lecture06.ipynb\n",
      "Lecture07.ipynb\n",
      "Lecture05.ipynb\n",
      "Lecture06.ipynb\n",
      "anchored.pl\n",
      "bad_alt.pl\n",
      "capture.pl\n",
      "cla_examples.sh\n",
      "definitions.sh\n",
      "fast.pl\n",
      "gcc_errors.txt\n",
      "good_alt.pl\n",
      "greedy.pl\n",
      "hello.sh\n",
      "hello.txt\n",
      "hello_simple.sh\n",
      "noncapture.pl\n",
      "nongreedy.pl\n",
      "numbers.txt\n",
      "re_example.pl\n",
      "read_example.sh\n",
      "read_p_example.sh\n",
      "read_ps_example.sh\n",
      "read_t_example.sh\n",
      "rolling_stone_500_greatest_2010.txt\n",
      "slow.pl\n",
      "to_sort1.txt\n",
      "to_sort2.txt\n",
      "to_sort3.txt\n",
      "to_sort4.txt\n",
      "unanchored.pl\n",
      "Lecture04.ipynb\n",
      "Lecture05.ipynb\n",
      "Lecture04.ipynb\n",
      "Lecture03.ipynb\n",
      "Lecture01.ipynb\n",
      "Lecture02.ipynb\n",
      "Lecture03.ipynb\n",
      "Lecture02.ipynb\n",
      "Lecture00.ipynb\n",
      "Lecture01.ipynb\n"
     ]
    }
   ],
   "source": [
    "cat data/git_files.txt"
   ]
  },
  {
   "cell_type": "code",
   "execution_count": 28,
   "metadata": {},
   "outputs": [
    {
     "name": "stdout",
     "output_type": "stream",
     "text": [
      "Git.ipynb\n"
     ]
    }
   ],
   "source": [
    "head -n1 data/git_files.txt"
   ]
  },
  {
   "cell_type": "code",
   "execution_count": 29,
   "metadata": {},
   "outputs": [
    {
     "name": "stdout",
     "output_type": "stream",
     "text": [
      "Lecture01.ipynb\n"
     ]
    }
   ],
   "source": [
    "tail -n1 data/git_files.txt"
   ]
  },
  {
   "cell_type": "code",
   "execution_count": 30,
   "metadata": {
    "collapsed": true
   },
   "outputs": [
    {
     "name": "stdout",
     "output_type": "stream",
     "text": [
      "Git.ipynb\n",
      "Lecture03.ipynb\n",
      "Lecture03.ipynb\n",
      "src/perl/anchored.pl\n",
      "src/perl/bad_alt.pl\n",
      "src/perl/capture.pl\n",
      "src/perl/fast.pl\n",
      "src/perl/good_alt.pl\n",
      "src/perl/greedy.pl\n",
      "src/perl/noncapture.pl\n",
      "src/perl/nongreedy.pl\n",
      "src/perl/re_example.pl\n",
      "src/perl/slow.pl\n",
      "src/perl/unanchored.pl\n",
      "src/php/composer.json\n",
      "src/php/composer.lock\n",
      "src/php/header.php\n",
      "src/python/out_and_err.py\n",
      "src/python/simple.py\n",
      "src/shell/cla_debug.sh\n",
      "src/shell/cla_examples.sh\n",
      "src/shell/definitions.sh\n",
      "src/shell/hello.sh\n",
      "src/shell/hello_simple.sh\n",
      "src/shell/read_debug.sh\n",
      "src/shell/read_example.sh\n",
      "src/shell/read_p_example.sh\n",
      "src/shell/read_ps_example.sh\n",
      "src/shell/read_t_example.sh\n",
      "src/shell/syntax_error_example.sh\n",
      "src/shell/syntax_example.sh\n",
      "data/airports.tsv\n",
      "Lecture02.ipynb\n",
      "Lecture01.ipynb\n",
      "binder/postBuild\n",
      "binder/perl_env\n",
      "binder/set_envs.py\n",
      "binder/postBuild\n",
      "Lecture00.ipynb\n",
      "Lecture01.ipynb\n",
      "Lecture02.ipynb\n",
      "binder/perl_env\n",
      "binder/postBuild\n",
      "Lecture00.html\n",
      "binder/set_envs.py\n",
      "binder/postBuild\n",
      "binder/postBuild\n",
      "binder/postBuild\n",
      "binder/postBuild\n",
      "binder/r_env\n",
      "binder/set_envs.py\n",
      "binder/postBuild\n",
      "binder/postBuild\n",
      "binder/postBuild\n",
      "binder/postBuild\n",
      "binder/postBuild\n",
      "Lecture00.ipynb\n",
      "binder/apt.txt\n",
      "binder/postBuild\n",
      "FinalReview.ipynb\n",
      "Lecture01.ipynb\n",
      "Lecture02.ipynb\n",
      "Lecture03.ipynb\n",
      "Lecture04.ipynb\n",
      "Lecture05.ipynb\n",
      "Lecture06.ipynb\n",
      "Lecture07.ipynb\n",
      "Lecture08.ipynb\n",
      "Lecture09.ipynb\n",
      "Lecture10.ipynb\n",
      "Lecture11.ipynb\n",
      "Lecture12.html\n",
      "Lecture12.ipynb\n",
      "Lecture13.html\n",
      "Lecture13.ipynb\n",
      "Lecture14.html\n",
      "Lecture14.ipynb\n",
      "Lecture15.html\n",
      "Lecture15.ipynb\n",
      "Lecture16.ipynb\n",
      "Lecture17.ipynb\n",
      "Lecture18.html\n",
      "Lecture18.ipynb\n",
      "Lecture19.ipynb\n",
      "Lecture20.ipynb\n",
      "Lecture21.ipynb\n",
      "Lecture22.ipynb\n",
      "Lecture23.ipynb\n",
      "Lecture24.ipynb\n",
      "Lecture25.ipynb\n",
      "Lecture26.ipynb\n",
      "Lecture27.ipynb\n",
      "Untitled.ipynb\n",
      "Untitled1.ipynb\n",
      "Untitled2.ipynb\n",
      "anchored.pl\n",
      "apt.txt\n",
      "bad_alt.pl\n",
      "capture.pl\n",
      "cla_examples.sh\n",
      "definitions.sh\n",
      "fast.pl\n",
      "gcc_errors.txt\n",
      "good_alt.pl\n",
      "greedy.pl\n",
      "hello.sh\n",
      "hello.txt\n",
      "hello_simple.sh\n",
      "noncapture.pl\n",
      "nongreedy.pl\n",
      "numbers.txt\n",
      "re_example.pl\n",
      "read_example.sh\n",
      "read_p_example.sh\n",
      "read_ps_example.sh\n",
      "read_t_example.sh\n",
      "rolling_stone_500_greatest_2010.txt\n",
      "slow.pl\n",
      "to_sort1.txt\n",
      "to_sort2.txt\n",
      "to_sort3.txt\n",
      "to_sort4.txt\n",
      "unanchored.pl\n",
      "Lecture00.ipynb\n",
      "FinalReview.ipynb\n",
      "Lecture10.ipynb\n",
      "Lecture13.ipynb\n",
      "Lecture14.ipynb\n",
      "Lecture19.ipynb\n",
      "Lecture22.ipynb\n",
      "Lecture25.ipynb\n",
      "Lecture26.ipynb\n",
      "Lecture27.ipynb\n",
      "Untitled.ipynb\n",
      "Untitled1.ipynb\n",
      "Untitled2.ipynb\n",
      "Lecture01.ipynb\n",
      "binder/perlEdit\n",
      "binder/postBuild\n",
      "binder/postBuild\n",
      "binder/postBuild\n",
      "binder/postBuild\n",
      "binder/postBuild\n",
      "binder/postBuild\n",
      "binder/postBuild\n",
      "binder/postBuild\n",
      "binder/postBuild\n",
      "binder/postBuild\n",
      "binder/postBuild\n",
      "binder/postBuild\n",
      "binder/postBuild\n",
      "binder/postBuild\n",
      "binder/postBuild\n",
      "binder/postBuild\n",
      "binder/postBuild\n",
      "binder/postBuild\n",
      "binder/postBuild\n",
      "binder/postBuild\n",
      "binder/apt.txt\n",
      "binder/apt.txt\n",
      "binder/postBuild\n",
      "binder/postBuild\n",
      "binder/postBuild\n",
      "binder/apt.txt\n",
      "binder/postBuild\n",
      "binder/postBuild\n",
      "postBuild\n",
      "binder/postBuild\n",
      "binder/postBuild\n",
      "binder/postBuild\n",
      "binder/postBuild\n",
      "binder/postBuild\n",
      "binder/postBuild\n",
      "binder/postBuild\n",
      "binder/postBuild\n",
      "binder/postBuild\n",
      "binder/postBuild\n",
      "binder/postBuild\n",
      "binder/postBuild\n",
      "binder/postBuild\n",
      "binder/postBuild\n",
      "binder/postBuild\n",
      "binder/postBuild\n",
      "binder/postBuild\n",
      "binder/postBuild\n",
      "binder/postBuild\n",
      "binder/postBuild\n",
      "binder/postBuild\n",
      "binder/apt.txt\n",
      "binder/postBuild\n",
      "postBuild\n",
      "postBuild\n",
      "apt.txt\n",
      "Lecture24.ipynb\n",
      "Lecture25.ipynb\n",
      "Lecture23.ipynb\n",
      "Lecture24.ipynb\n",
      "Lecture21.ipynb\n",
      "Lecture22.ipynb\n",
      "Lecture20.ipynb\n",
      "Lecture21.ipynb\n",
      "Lecture18.html\n",
      "Lecture19.ipynb\n",
      "Lecture17.ipynb\n",
      "Lecture18.ipynb\n",
      "Lecture16.ipynb\n",
      "Lecture17.ipynb\n",
      "Lecture15.ipynb\n",
      "Lecture16.ipynb\n",
      "Lecture15.html\n",
      "Lecture12.html\n",
      "Lecture13.html\n",
      "Lecture14.html\n",
      "Lecture15.html\n",
      "Lecture12.ipynb\n",
      "Lecture13.ipynb\n",
      "Lecture11.ipynb\n",
      "Lecture12.ipynb\n",
      "Lecture10.ipynb\n",
      "Lecture11.ipynb\n",
      "Lecture09.ipynb\n",
      "Lecture10.ipynb\n",
      "Lecture09.ipynb\n",
      "Lecture08.ipynb\n",
      "Lecture09.ipynb\n",
      "Lecture07.ipynb\n",
      "Lecture08.ipynb\n",
      "Lecture07.ipynb\n",
      "Lecture06.ipynb\n",
      "Lecture07.ipynb\n",
      "Lecture05.ipynb\n",
      "Lecture06.ipynb\n",
      "anchored.pl\n",
      "bad_alt.pl\n",
      "capture.pl\n",
      "cla_examples.sh\n",
      "definitions.sh\n",
      "fast.pl\n",
      "gcc_errors.txt\n",
      "good_alt.pl\n",
      "greedy.pl\n",
      "hello.sh\n",
      "hello.txt\n",
      "hello_simple.sh\n",
      "noncapture.pl\n",
      "nongreedy.pl\n",
      "numbers.txt\n",
      "re_example.pl\n",
      "read_example.sh\n",
      "read_p_example.sh\n",
      "read_ps_example.sh\n",
      "read_t_example.sh\n",
      "rolling_stone_500_greatest_2010.txt\n",
      "slow.pl\n",
      "to_sort1.txt\n",
      "to_sort2.txt\n",
      "to_sort3.txt\n",
      "to_sort4.txt\n",
      "unanchored.pl\n",
      "Lecture04.ipynb\n",
      "Lecture05.ipynb\n",
      "Lecture04.ipynb\n",
      "Lecture03.ipynb\n",
      "Lecture01.ipynb\n",
      "Lecture02.ipynb\n",
      "Lecture03.ipynb\n",
      "Lecture02.ipynb\n",
      "Lecture00.ipynb\n"
     ]
    }
   ],
   "source": [
    "head -n-1 data/git_files.txt"
   ]
  },
  {
   "cell_type": "markdown",
   "metadata": {
    "slideshow": {
     "slide_type": "slide"
    }
   },
   "source": [
    "## cut\n",
    "* The cut command extracts columns from a file containing a dataset\n",
    "* By default the delimiter used is a tab\n",
    "    * Use the `-d` argument to change the delimiter\n",
    "* To specify which columns to return, use the `-f` argument    "
   ]
  },
  {
   "cell_type": "code",
   "execution_count": 31,
   "metadata": {
    "slideshow": {
     "slide_type": "slide"
    }
   },
   "outputs": [
    {
     "name": "stdout",
     "output_type": "stream",
     "text": [
      "Juicy Juice Apple\t08/10/2015\n",
      "Malt O Meal Cereal Frosted Flakes\t04/14/2017\n",
      "Orange Juice\t08/12/2017\n",
      "Salt and pepper pistachios\t03/05/2017\n",
      "Pasta Sauce, Four Cheese\t04/05/2017\n",
      "Sunny fruit \t09/19/2016\n",
      "Rich & Creamy Lowfat Half and Half\t03/09/2017\n",
      "Chocolate Covered Peppermint Pattie\t03/08/2016\n",
      "Confit de dinde\t12/08/2016\n",
      "Light Ice Cream, Chocolate\t03/09/2017\n"
     ]
    }
   ],
   "source": [
    "#head regex_starter_code/food_facts.tsv\n",
    "cut -f1,2 data/food_facts.tsv | head"
   ]
  },
  {
   "cell_type": "code",
   "execution_count": 32,
   "metadata": {
    "scrolled": false,
    "slideshow": {
     "slide_type": "slide"
    }
   },
   "outputs": [
    {
     "name": "stdout",
     "output_type": "stream",
     "text": [
      "Wyoming,1890-07-10T00:00:00Z,WY,Cheyenne,http://wyoming.gov\n",
      "Wisconsin,1848-05-29T00:00:00Z,WI,Madison,http://www.wisconsin.gov\n",
      "West Virginia,1863-06-20T00:00:00Z,WV,Charleston,http://wv.gov\n",
      "Virginia,1788-06-25T00:00:00Z,VA,Richmond,https://www.virginia.gov/\n",
      "Vermont,1791-03-04T00:00:00Z,VT,Montpelier,http://www.vermont.gov\n",
      "Utah,1896-01-04T00:00:00Z,UT,Salt Lake City,http://www.utah.gov\n",
      "Texas,1845-12-29T00:00:00Z,TX,Austin,http://www.texas.gov/\n",
      "Tennessee,1796-06-01T00:00:00Z,TN,Nashville,http://www.tennessee.gov\n",
      "South Dakota,1889-11-02T00:00:00Z,SD,Pierre,http://www.sd.gov\n",
      "South Carolina,1788-05-23T00:00:00Z,SC,Columbia,http://www.sc.gov\n"
     ]
    }
   ],
   "source": [
    "cut -f1-4,10 -d, data/states.csv | head"
   ]
  },
  {
   "cell_type": "markdown",
   "metadata": {
    "slideshow": {
     "slide_type": "slide"
    }
   },
   "source": [
    "## paste\n",
    "* `paste` does the opposite of `cut`\n",
    "* Each line of every file is concatenated together, separated by a tab by default\n",
    "    * Use the `-d` flag to change the delmiter"
   ]
  },
  {
   "cell_type": "code",
   "execution_count": 33,
   "metadata": {
    "slideshow": {
     "slide_type": "slide"
    }
   },
   "outputs": [
    {
     "name": "stdout",
     "output_type": "stream",
     "text": [
      "1 Hydrogen\t184K\tVirtualBox VMs\n",
      "2 Helium\t2.1M\tbwilk7.github.io\n",
      "3 Lithium\t389M\tTeaching\n",
      "4 Beryllium\t1.2G\tDownloads\n",
      "5 Boron\t1.2G\tPictures\n",
      "6 Carbon\t6.4G\tPrograms\n",
      "7 Nitrogen\t22G\tAndroid\n",
      "8 Oxygen\t132G\tResearch\n",
      "9 Flourine\t\n",
      "10 Neon\t\n"
     ]
    }
   ],
   "source": [
    "paste data/elements.txt data/dir_sizes.txt"
   ]
  },
  {
   "cell_type": "code",
   "execution_count": 34,
   "metadata": {
    "slideshow": {
     "slide_type": "slide"
    }
   },
   "outputs": [
    {
     "name": "stdout",
     "output_type": "stream",
     "text": [
      "1 Hydrogen,184K\tVirtualBox VMs\n",
      "2 Helium,2.1M\tbwilk7.github.io\n",
      "3 Lithium,389M\tTeaching\n",
      "4 Beryllium,1.2G\tDownloads\n",
      "5 Boron,1.2G\tPictures\n",
      "6 Carbon,6.4G\tPrograms\n",
      "7 Nitrogen,22G\tAndroid\n",
      "8 Oxygen,132G\tResearch\n",
      "9 Flourine,\n",
      "10 Neon,\n"
     ]
    }
   ],
   "source": [
    "paste -d, data/elements.txt data/dir_sizes.txt"
   ]
  },
  {
   "cell_type": "markdown",
   "metadata": {
    "slideshow": {
     "slide_type": "slide"
    }
   },
   "source": [
    "## find\n",
    "* `find` is like an extremely powerful version of `ls`\n",
    "* By default, `find` will list all the files under a directory passed as an argument\n",
    "    * Numerous tests can be passed to find as arguments and used to filter the list that is returned "
   ]
  },
  {
   "cell_type": "markdown",
   "metadata": {
    "slideshow": {
     "slide_type": "slide"
    }
   },
   "source": [
    "## Common find Tests\n",
    "- `-name` matches the name of the file or directory\n",
    "- `-type` restricts the output to files (`f`) or directories(`d`)\n",
    "- `-maxdepth` restricts the amount of recursion done\n",
    "- `-size` restricts results to directories or files of the exact size\n",
    "    - To look for a range, add a `+` or `-` before the number"
   ]
  },
  {
   "cell_type": "code",
   "execution_count": 35,
   "metadata": {
    "slideshow": {
     "slide_type": "slide"
    }
   },
   "outputs": [
    {
     "name": "stdout",
     "output_type": "stream",
     "text": [
      ".\n",
      "./.git\n",
      "./.git/objects\n",
      "./.git/objects/a7\n",
      "./.git/objects/a7/9a1a5b162b6abfc0b288a9d92c85e5b1176e45\n",
      "./.git/objects/info\n",
      "./.git/objects/97\n",
      "./.git/objects/97/913d4a671ccc5532171964b091b47eedca56e9\n",
      "./.git/objects/ff\n",
      "./.git/objects/ff/c0c2cf54ba20d47590619c33badf39196fd5f7\n",
      "find: ‘standard output’: Broken pipe\n",
      "find: write error\n"
     ]
    }
   ],
   "source": [
    "find . | head"
   ]
  },
  {
   "cell_type": "code",
   "execution_count": 36,
   "metadata": {
    "slideshow": {
     "slide_type": "slide"
    }
   },
   "outputs": [
    {
     "name": "stdout",
     "output_type": "stream",
     "text": [
      ".\n",
      "./.git\n",
      "./.git/objects\n",
      "./.git/objects/a7\n",
      "./.git/objects/info\n",
      "./.git/objects/97\n",
      "./.git/objects/ff\n",
      "./.git/objects/b2\n",
      "./.git/objects/6b\n",
      "./.git/objects/a3\n"
     ]
    }
   ],
   "source": [
    "find . -type d | head"
   ]
  },
  {
   "cell_type": "code",
   "execution_count": 37,
   "metadata": {
    "slideshow": {
     "slide_type": "slide"
    }
   },
   "outputs": [
    {
     "name": "stdout",
     "output_type": "stream",
     "text": [
      ".\n",
      "./.git\n",
      "./data\n",
      "./binder\n",
      "./src\n",
      "./helper_scripts\n",
      "./.ipynb_checkpoints\n"
     ]
    }
   ],
   "source": [
    "find . -maxdepth 1 -type d "
   ]
  },
  {
   "cell_type": "code",
   "execution_count": 38,
   "metadata": {
    "slideshow": {
     "slide_type": "slide"
    }
   },
   "outputs": [
    {
     "name": "stdout",
     "output_type": "stream",
     "text": [
      "./Git.ipynb\n",
      "./Lecture03.ipynb\n",
      "./Lecture00.ipynb\n",
      "./Lecture02.ipynb\n",
      "./Lecture04.ipynb\n",
      "./Lecture01.ipynb\n",
      "./.ipynb_checkpoints/Lecture04-checkpoint.ipynb\n"
     ]
    }
   ],
   "source": [
    "find . -name \"*ipynb\""
   ]
  },
  {
   "cell_type": "code",
   "execution_count": 39,
   "metadata": {
    "slideshow": {
     "slide_type": "slide"
    }
   },
   "outputs": [
    {
     "name": "stdout",
     "output_type": "stream",
     "text": [
      "/home/bryan/Teaching/CMSC433/data/food.shuffled.tsv\n",
      "/home/bryan/Teaching/CMSC433/en.openfoodfacts.org.products.csv\n"
     ]
    }
   ],
   "source": [
    "find ~/Teaching -type f -size +50M`"
   ]
  },
  {
   "cell_type": "markdown",
   "metadata": {
    "slideshow": {
     "slide_type": "slide"
    }
   },
   "source": [
    "## Find Exercise\n",
    "- Using find, return results that meet the following criteria\n",
    "    - Are files, not directories\n",
    "    - End in the characters \"*.py\"\n",
    "    - Are greater than 20k in size"
   ]
  },
  {
   "cell_type": "code",
   "execution_count": 42,
   "metadata": {
    "scrolled": true,
    "slideshow": {
     "slide_type": "slide"
    }
   },
   "outputs": [
    {
     "name": "stdout",
     "output_type": "stream",
     "text": [
      "/home/bryan/Research/LearningScales/reimplimentations/demelo-inference/parse_table_datacmds.py\n",
      "/home/bryan/Research/naacl2016-master/lexsub.py\n",
      "/home/bryan/Research/naacl2016-master/keras/layers/core.py\n",
      "/home/bryan/Research/naacl2016-master/keras/layers/recurrent.py\n",
      "/home/bryan/Research/naacl2016-master/keras/models.py\n",
      "/home/bryan/Research/Libraries/opencv-3.0.0/3rdparty/jinja2/compiler.py\n",
      "/home/bryan/Research/Libraries/opencv-3.0.0/3rdparty/jinja2/filters.py\n",
      "/home/bryan/Research/Libraries/opencv-3.0.0/3rdparty/jinja2/environment.py\n",
      "/home/bryan/Research/Libraries/opencv-3.0.0/3rdparty/jinja2/ext.py\n",
      "/home/bryan/Research/Libraries/opencv-3.0.0/3rdparty/jinja2/nodes.py\n",
      "/home/bryan/Research/Libraries/opencv-3.0.0/3rdparty/jinja2/lexer.py\n",
      "/home/bryan/Research/Libraries/opencv-3.0.0/3rdparty/jinja2/parser.py\n",
      "/home/bryan/Research/Libraries/opencv-3.0.0/3rdparty/jinja2/_stringdefs.py\n",
      "/home/bryan/Research/Libraries/opencv-3.0.0/doc/pattern_tools/svgfig.py\n",
      "/home/bryan/Research/Libraries/opencv-3.0.0/modules/java/generator/gen_java.py\n",
      "/home/bryan/Research/Libraries/opencv-3.0.0/modules/ts/misc/table_formatter.py\n",
      "/home/bryan/Research/Libraries/opencv-3.0.0/modules/ts/misc/run.py\n",
      "/home/bryan/Research/Libraries/opencv-3.0.0/modules/python/test/transformations.py\n",
      "/home/bryan/Research/Libraries/opencv-3.0.0/modules/python/src2/hdr_parser.py\n",
      "/home/bryan/Research/Libraries/opencv-3.0.0/modules/python/src2/gen2.py\n",
      "/home/bryan/Research/PIC/lexsub.py\n",
      "/home/bryan/Research/PIC/keras/layers/core.py\n",
      "/home/bryan/Research/PIC/keras/layers/recurrent.py\n",
      "/home/bryan/Research/PIC/keras/models.py\n"
     ]
    }
   ],
   "source": [
    "find ~/Research  -name \"*.py\" -type f -size +20k"
   ]
  },
  {
   "cell_type": "markdown",
   "metadata": {
    "slideshow": {
     "slide_type": "slide"
    }
   },
   "source": [
    "## wc\n",
    "* In some cases, it is convenient to know basic statistics about a file\n",
    "* The `wc` or word count command returns the number of lines, words, and characters in a file\n",
    "    * To only print ones of these, use the `-l`, `-w` or `-m` flags respectively "
   ]
  },
  {
   "cell_type": "code",
   "execution_count": 43,
   "metadata": {
    "slideshow": {
     "slide_type": "slide"
    }
   },
   "outputs": [
    {
     "name": "stdout",
     "output_type": "stream",
     "text": [
      "10 20 98 data/elements.txt\n"
     ]
    }
   ],
   "source": [
    "wc data/elements.txt"
   ]
  },
  {
   "cell_type": "code",
   "execution_count": 44,
   "metadata": {},
   "outputs": [
    {
     "name": "stdout",
     "output_type": "stream",
     "text": [
      "10 data/elements.txt\n"
     ]
    }
   ],
   "source": [
    "wc -l data/elements.txt"
   ]
  },
  {
   "cell_type": "markdown",
   "metadata": {
    "slideshow": {
     "slide_type": "slide"
    }
   },
   "source": [
    "## Other Helpful Utilities\n",
    "* arch\n",
    "* uname\n",
    "* whoami\n",
    "* yes"
   ]
  },
  {
   "cell_type": "markdown",
   "metadata": {
    "slideshow": {
     "slide_type": "slide"
    }
   },
   "source": [
    "## Shell Script Setup\n",
    "* A shell script in the simplest form is just a list of commands to execute in sequence\n",
    "* Is run using sh (or bash if you are not sure what shell you are in) script_file"
   ]
  },
  {
   "cell_type": "code",
   "execution_count": 45,
   "metadata": {},
   "outputs": [
    {
     "name": "stdout",
     "output_type": "stream",
     "text": [
      "Hello World\n"
     ]
    }
   ],
   "source": [
    "bash src/shell/hello_simple.sh"
   ]
  },
  {
   "cell_type": "markdown",
   "metadata": {
    "slideshow": {
     "slide_type": "slide"
    }
   },
   "source": [
    "## Shebang Line\n",
    "* On UNIX-like systems, if the first line of a file starts with `#!`, that line indicates which program to use to run the file\n",
    "* Can be used with most any interpreted language\n",
    "* Must be the full path of the command\n",
    "```bash\n",
    "#!/bin/bash\n",
    "#!/bin/python\n",
    "#!/bin/perl\n",
    "```\n",
    "* File must be executable\n",
    "\n",
    "```chmod +x FILE```"
   ]
  },
  {
   "cell_type": "code",
   "execution_count": 46,
   "metadata": {
    "slideshow": {
     "slide_type": "slide"
    }
   },
   "outputs": [
    {
     "name": "stdout",
     "output_type": "stream",
     "text": [
      "Hello World\n"
     ]
    }
   ],
   "source": [
    "./src/shell/hello.sh"
   ]
  },
  {
   "cell_type": "markdown",
   "metadata": {
    "slideshow": {
     "slide_type": "slide"
    }
   },
   "source": [
    "## Variables\n",
    "* Variables in bash can hold either scalar or array\n",
    "    * Arrays are constructed using parentheses ()\n",
    "* To initialize a variable, use the equals sign **with no spaces**"
   ]
  },
  {
   "cell_type": "markdown",
   "metadata": {
    "slideshow": {
     "slide_type": "slide"
    }
   },
   "source": [
    "## Declaring Variables Examples"
   ]
  },
  {
   "cell_type": "code",
   "execution_count": 47,
   "metadata": {},
   "outputs": [
    {
     "name": "stdout",
     "output_type": "stream",
     "text": [
      "not what you want: command not found\n"
     ]
    },
    {
     "ename": "",
     "evalue": "127",
     "output_type": "error",
     "traceback": []
    }
   ],
   "source": [
    "a_scalar=UMBC\n",
    "another_scalar=\"This needs quotes\"\n",
    "more_scalars=40\n",
    "even_more=3.14\n",
    "an_array=(letters \"s p a c e s\" 1.0)\n",
    "#Don't do this\n",
    "bad= \"not what you want\""
   ]
  },
  {
   "cell_type": "markdown",
   "metadata": {
    "slideshow": {
     "slide_type": "slide"
    }
   },
   "source": [
    "## Accessing Variables\n",
    "* To access a variable a dollar sign (**$**) must be prepended to its name\n",
    "* To access an array element, the variable name and index must occur inside of curly braces (**{}**)\n",
    "    * Scalar values can be accessed this way to, but it is optional"
   ]
  },
  {
   "cell_type": "markdown",
   "metadata": {
    "slideshow": {
     "slide_type": "slide"
    }
   },
   "source": [
    "## Accessing Variables Examples"
   ]
  },
  {
   "cell_type": "code",
   "execution_count": 48,
   "metadata": {
    "collapsed": true
   },
   "outputs": [
    {
     "name": "stdout",
     "output_type": "stream",
     "text": [
      "UMBC\n"
     ]
    }
   ],
   "source": [
    "echo $a_scalar"
   ]
  },
  {
   "cell_type": "code",
   "execution_count": 49,
   "metadata": {
    "collapsed": true
   },
   "outputs": [
    {
     "name": "stdout",
     "output_type": "stream",
     "text": [
      "UMBC\n"
     ]
    }
   ],
   "source": [
    "echo ${a_scalar}"
   ]
  },
  {
   "cell_type": "code",
   "execution_count": 50,
   "metadata": {
    "collapsed": true
   },
   "outputs": [
    {
     "name": "stdout",
     "output_type": "stream",
     "text": [
      "40\n"
     ]
    }
   ],
   "source": [
    "echo $more_scalars"
   ]
  },
  {
   "cell_type": "code",
   "execution_count": 51,
   "metadata": {
    "collapsed": true
   },
   "outputs": [
    {
     "name": "stdout",
     "output_type": "stream",
     "text": [
      "3.14\n"
     ]
    }
   ],
   "source": [
    "echo $even_more"
   ]
  },
  {
   "cell_type": "code",
   "execution_count": 54,
   "metadata": {
    "collapsed": true
   },
   "outputs": [
    {
     "name": "stdout",
     "output_type": "stream",
     "text": [
      "s p a c e s\n"
     ]
    }
   ],
   "source": [
    "echo ${an_array[1]}"
   ]
  },
  {
   "cell_type": "code",
   "execution_count": 55,
   "metadata": {
    "collapsed": true
   },
   "outputs": [
    {
     "name": "stdout",
     "output_type": "stream",
     "text": [
      "letters\n"
     ]
    }
   ],
   "source": [
    "#Don't Do This\n",
    "echo $an_array"
   ]
  },
  {
   "cell_type": "code",
   "execution_count": 58,
   "metadata": {},
   "outputs": [
    {
     "name": "stdout",
     "output_type": "stream",
     "text": [
      "letters s p a c e s 1.0\n"
     ]
    }
   ],
   "source": [
    "echo ${an_array[@]}"
   ]
  },
  {
   "cell_type": "code",
   "execution_count": 57,
   "metadata": {},
   "outputs": [
    {
     "name": "stdout",
     "output_type": "stream",
     "text": [
      "letters s p a c e s 1.0\n"
     ]
    }
   ],
   "source": [
    "echo ${an_array[*]}"
   ]
  },
  {
   "cell_type": "markdown",
   "metadata": {
    "slideshow": {
     "slide_type": "slide"
    }
   },
   "source": [
    "## Accessing Variables Exercise\n",
    "- Given the following variable declarations, how would you print:\n",
    "    - The letter d\n",
    "    - All the letters"
   ]
  },
  {
   "cell_type": "code",
   "execution_count": 60,
   "metadata": {},
   "outputs": [
    {
     "name": "stdout",
     "output_type": "stream",
     "text": [
      "d\n",
      "a b c d e f g h i j\n"
     ]
    }
   ],
   "source": [
    "letters=(a b c d e f g h i j)\n",
    "echo ${letters[3]}\n",
    "echo ${letters[*]}"
   ]
  },
  {
   "cell_type": "markdown",
   "metadata": {
    "slideshow": {
     "slide_type": "slide"
    }
   },
   "source": [
    "## String Interpolation\n",
    "* Variables will be interpolated into strings when double quotes are used\n",
    "    * If there are spaces, curly braces aren't needed, but its a good habit"
   ]
  },
  {
   "cell_type": "code",
   "execution_count": 61,
   "metadata": {},
   "outputs": [
    {
     "name": "stdout",
     "output_type": "stream",
     "text": [
      "This class is at ${a_scalar}\n"
     ]
    }
   ],
   "source": [
    "echo 'This class is at ${a_scalar}'"
   ]
  },
  {
   "cell_type": "code",
   "execution_count": 62,
   "metadata": {},
   "outputs": [
    {
     "name": "stdout",
     "output_type": "stream",
     "text": [
      "This class is at UMBC\n"
     ]
    }
   ],
   "source": [
    "echo \"This class is at $a_scalar\""
   ]
  },
  {
   "cell_type": "code",
   "execution_count": 63,
   "metadata": {},
   "outputs": [
    {
     "name": "stdout",
     "output_type": "stream",
     "text": [
      "The schools website is www.UMBC.edu\n"
     ]
    }
   ],
   "source": [
    "echo \"The schools website is www.$a_scalar.edu\""
   ]
  },
  {
   "cell_type": "code",
   "execution_count": 64,
   "metadata": {},
   "outputs": [
    {
     "name": "stdout",
     "output_type": "stream",
     "text": [
      "The athletics website is www..com\n"
     ]
    }
   ],
   "source": [
    "echo \"The athletics website is www.$a_scalarretrievers.com\""
   ]
  },
  {
   "cell_type": "code",
   "execution_count": 65,
   "metadata": {},
   "outputs": [
    {
     "name": "stdout",
     "output_type": "stream",
     "text": [
      "The athletics website is www.UMBCretrievers.com\n"
     ]
    }
   ],
   "source": [
    "echo \"The athletics website is www.${a_scalar}retrievers.com\""
   ]
  },
  {
   "cell_type": "markdown",
   "metadata": {
    "slideshow": {
     "slide_type": "slide"
    }
   },
   "source": [
    "## String Operations\n",
    "* Bash has numerous built in string operators allowing for\n",
    "    * Accessing the length (**\\${#string}**)\n",
    "    * Accessing a substring (**\\${#string:pos}**)\n",
    "    * Performing a search and replace on a substring (**\\${#string/pattern/substitution}**)\n",
    "    * Removing substrings"
   ]
  },
  {
   "cell_type": "markdown",
   "metadata": {
    "slideshow": {
     "slide_type": "slide"
    }
   },
   "source": [
    "## String Operation Examples"
   ]
  },
  {
   "cell_type": "code",
   "execution_count": 66,
   "metadata": {},
   "outputs": [
    {
     "name": "stdout",
     "output_type": "stream",
     "text": [
      "UMBC 4\n"
     ]
    }
   ],
   "source": [
    "echo ${a_scalar} ${#a_scalar}"
   ]
  },
  {
   "cell_type": "code",
   "execution_count": 67,
   "metadata": {},
   "outputs": [
    {
     "name": "stdout",
     "output_type": "stream",
     "text": [
      "UMBC MBC\n",
      "UMBC BC\n",
      "UMBC UM\n"
     ]
    }
   ],
   "source": [
    "echo ${a_scalar} ${a_scalar:1}\n",
    "echo ${a_scalar} ${a_scalar:2:2}\n",
    "echo ${a_scalar} ${a_scalar::2}"
   ]
  },
  {
   "cell_type": "code",
   "execution_count": 71,
   "metadata": {},
   "outputs": [
    {
     "name": "stdout",
     "output_type": "stream",
     "text": [
      "UMBC uMBC\n",
      "UMBC UMBC\n",
      "This needs quotes This nxeds quotes\n",
      "This needs quotes This nxxds quotxs\n",
      "This needs quotes xxxx xxxxx xxxxxx\n"
     ]
    }
   ],
   "source": [
    "echo ${a_scalar} ${a_scalar/U/u}\n",
    "echo ${a_scalar} ${a_scalar/V/u}\n",
    "echo ${another_scalar} ${another_scalar/e/x}\n",
    "echo ${another_scalar} ${another_scalar//e/x}\n",
    "echo ${another_scalar} ${another_scalar//[a-z]/x}"
   ]
  },
  {
   "cell_type": "code",
   "execution_count": 72,
   "metadata": {
    "slideshow": {
     "slide_type": "slide"
    }
   },
   "outputs": [
    {
     "name": "stdout",
     "output_type": "stream",
     "text": [
      "This needs quotes -> needs quotes\n",
      "This needs quotes ->\n",
      "This needs quotes -> This needs quot\n",
      "This needs quotes -> This n\n"
     ]
    }
   ],
   "source": [
    "#From the front of the string\n",
    "echo ${another_scalar} \"->\" ${another_scalar#T*s}\n",
    "#Longest possible match\n",
    "echo ${another_scalar} \"->\" ${another_scalar##T*s}\n",
    "\n",
    "#From the back of the string\n",
    "echo ${another_scalar} \"->\" ${another_scalar%e*s}\n",
    "#Longest possible match\n",
    "echo ${another_scalar} \"->\" ${another_scalar%%e*s}"
   ]
  },
  {
   "cell_type": "markdown",
   "metadata": {
    "slideshow": {
     "slide_type": "slide"
    }
   },
   "source": [
    "## String Operation Exercises\n",
    "- Given the following variable, change the output to be:\n",
    "    - Lecture01\n",
    "    - ipynb\n",
    "    - CMSC433/Lecture01.ipynb\n",
    "    - Lecture01.html"
   ]
  },
  {
   "cell_type": "code",
   "execution_count": 2,
   "metadata": {},
   "outputs": [
    {
     "name": "stdout",
     "output_type": "stream",
     "text": [
      "Lecture01\n",
      "Lecture01\n",
      "ipynb\n",
      "CMSC433/Lecture01.ipynb\n",
      "Lecture01.html\n"
     ]
    }
   ],
   "source": [
    "string_to_change=\"Lecture01.ipynb\"\n",
    "echo ${string_to_change:0:9}\n",
    "echo ${string_to_change%.*}\n",
    "\n",
    "echo ${string_to_change##*.}\n",
    "echo CMSC433/${string_to_change}\n",
    "\n",
    "echo \"${string_to_change%.*b}.html\"\n"
   ]
  },
  {
   "cell_type": "markdown",
   "metadata": {
    "slideshow": {
     "slide_type": "slide"
    }
   },
   "source": [
    "## Default Values\n",
    "* Bash also allows default values to be used when the variable is **accessed**\n",
    "    * Can either use just for that statement\n",
    "    * Or set to be default for all future statements"
   ]
  },
  {
   "cell_type": "markdown",
   "metadata": {
    "slideshow": {
     "slide_type": "slide"
    }
   },
   "source": [
    "## Default Value Examples"
   ]
  },
  {
   "cell_type": "code",
   "execution_count": 3,
   "metadata": {},
   "outputs": [
    {
     "name": "stdout",
     "output_type": "stream",
     "text": [
      "1.\n",
      "2. Default\n",
      "3.\n",
      "4. Default\n",
      "5. Default\n"
     ]
    }
   ],
   "source": [
    "an_empty_var= \n",
    "echo \"1.\" $an_empty_var\n",
    "echo \"2.\" ${an_empty_var:-Default}\n",
    "echo \"3.\" $an_empty_var\n",
    "echo \"4.\" ${an_empty_var:=Default}\n",
    "echo \"5.\" $an_empty_var"
   ]
  },
  {
   "cell_type": "markdown",
   "metadata": {
    "slideshow": {
     "slide_type": "slide"
    }
   },
   "source": [
    "## Environmental Variables\n",
    "* Environmental Variables are global variables in the widest sense\n",
    "    * Used by all processes in the system for a user\n",
    "    * Often set in initialization scripts or during boot\n",
    "* Shells may modify but more often than not simply access them\n",
    "* By convention, environmental variables are written in all uppercase letters"
   ]
  },
  {
   "cell_type": "markdown",
   "metadata": {
    "slideshow": {
     "slide_type": "slide"
    }
   },
   "source": [
    "## Environmental Variable Examples"
   ]
  },
  {
   "cell_type": "code",
   "execution_count": 4,
   "metadata": {},
   "outputs": [
    {
     "name": "stdout",
     "output_type": "stream",
     "text": [
      "Your home dir is: /home/bryan\n",
      "You are logged into: wambach\n",
      "Your shell is: /usr/bin/fish\n",
      "Your path is: /usr/local/bin:/usr/local/sbin:/usr/local/bin:/usr/sbin:/usr/bin:/sbin:/bin:/usr/games:/usr/local/games:/home/bryan/Programs/gurobi650/linux64/bin\n",
      "Your terminal is set to: xterm\n"
     ]
    }
   ],
   "source": [
    "echo \"Your home dir is: $HOME\"\n",
    "echo \"You are logged into: $HOSTNAME\"\n",
    "\n",
    "echo \"Your shell is: $SHELL\"\n",
    "echo \"Your path is: $PATH\"\n",
    "echo \"Your terminal is set to: $TERM\""
   ]
  },
  {
   "cell_type": "markdown",
   "metadata": {
    "slideshow": {
     "slide_type": "slide"
    }
   },
   "source": [
    "## Command Line Arguments\n",
    "* Command line arguments are placed in the special variables \\$1 through \\$9\n",
    "    + You can have more arguments, but they need to be accessed like \\${10}\n",
    "* The name of the script being executed in stored in \\$0\n",
    "* The number of arguments is stored in \\$#"
   ]
  },
  {
   "cell_type": "markdown",
   "metadata": {
    "slideshow": {
     "slide_type": "slide"
    }
   },
   "source": [
    "## Command Line Argument Examples"
   ]
  },
  {
   "cell_type": "code",
   "execution_count": 5,
   "metadata": {
    "slideshow": {
     "slide_type": "-"
    }
   },
   "outputs": [
    {
     "name": "stdout",
     "output_type": "stream",
     "text": [
      "#!/bin/bash\n",
      "echo \"The name of the file is $0\"\n",
      "echo \"You passed $# arguments\"\n",
      "\n",
      "echo \"The first argument is $1\"\n",
      "echo \"The second argument is $2\"\n",
      "\n",
      "echo \"All the arguments are $@\"\n"
     ]
    }
   ],
   "source": [
    "cat src/shell/cla_examples.sh"
   ]
  },
  {
   "cell_type": "code",
   "execution_count": 6,
   "metadata": {
    "slideshow": {
     "slide_type": "slide"
    }
   },
   "outputs": [
    {
     "name": "stdout",
     "output_type": "stream",
     "text": [
      "The name of the file is ./src/shell/cla_examples.sh\n",
      "You passed 4 arguments\n",
      "The first argument is --some-flag\n",
      "The second argument is a_path\n",
      "All the arguments are --some-flag a_path additional_options another_one\n"
     ]
    }
   ],
   "source": [
    "./src/shell/cla_examples.sh --some-flag a_path additional_options another_one"
   ]
  },
  {
   "cell_type": "markdown",
   "metadata": {
    "slideshow": {
     "slide_type": "slide"
    }
   },
   "source": [
    "## Special Variables\n",
    "* bash uses many other special variables to refer to convenient values to have\n",
    "    * \\$\\$ is the process id of the currently executing script\n",
    "    * \\$PPID is the process id of the process that the script was launched from\n",
    "    * \\$? is the status of the last command executed"
   ]
  },
  {
   "cell_type": "code",
   "execution_count": 7,
   "metadata": {
    "slideshow": {
     "slide_type": "slide"
    }
   },
   "outputs": [
    {
     "name": "stdout",
     "output_type": "stream",
     "text": [
      "Process ID (PID) is: 23884\n",
      "Parent PID (PPID) is: 23873\n",
      "bryan\n",
      "Status of last command: 0\n"
     ]
    }
   ],
   "source": [
    "echo \"Process ID (PID) is: $$\"\n",
    "echo \"Parent PID (PPID) is: $PPID\"\n",
    "whoami\n",
    "echo \"Status of last command: $?\"\n"
   ]
  },
  {
   "cell_type": "code",
   "execution_count": null,
   "metadata": {},
   "outputs": [],
   "source": []
  }
 ],
 "metadata": {
  "celltoolbar": "Slideshow",
  "kernelspec": {
   "display_name": "Bash",
   "language": "bash",
   "name": "bash"
  },
  "language_info": {
   "codemirror_mode": "shell",
   "file_extension": ".sh",
   "mimetype": "text/x-sh",
   "name": "bash"
  }
 },
 "nbformat": 4,
 "nbformat_minor": 2
}
